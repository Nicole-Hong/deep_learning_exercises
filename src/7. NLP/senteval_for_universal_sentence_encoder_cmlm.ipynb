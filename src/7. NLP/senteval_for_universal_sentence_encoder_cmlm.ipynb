{
 "cells": [
  {
   "cell_type": "markdown",
   "metadata": {
    "id": "CGyzr0tfeUTQ"
   },
   "source": [
    "**Copyright 2021 The TensorFlow Hub Authors.**\n",
    "\n",
    "Licensed under the Apache License, Version 2.0 (the \"License\");"
   ]
  },
  {
   "cell_type": "code",
   "execution_count": 1,
   "metadata": {
    "execution": {
     "iopub.execute_input": "2022-04-27T11:26:36.909540Z",
     "iopub.status.busy": "2022-04-27T11:26:36.909123Z",
     "iopub.status.idle": "2022-04-27T11:26:36.912985Z",
     "shell.execute_reply": "2022-04-27T11:26:36.912538Z"
    },
    "id": "zV1OQAGReaGQ"
   },
   "outputs": [],
   "source": [
    "# Copyright 2021 The TensorFlow Hub Authors. All Rights Reserved.\n",
    "#\n",
    "# Licensed under the Apache License, Version 2.0 (the \"License\");\n",
    "# you may not use this file except in compliance with the License.\n",
    "# You may obtain a copy of the License at\n",
    "#\n",
    "#     http://www.apache.org/licenses/LICENSE-2.0\n",
    "#\n",
    "# Unless required by applicable law or agreed to in writing, software\n",
    "# distributed under the License is distributed on an \"AS IS\" BASIS,\n",
    "# WITHOUT WARRANTIES OR CONDITIONS OF ANY KIND, either express or implied.\n",
    "# See the License for the specific language governing permissions and\n",
    "# limitations under the License.\n",
    "# =============================================================================="
   ]
  },
  {
   "cell_type": "markdown",
   "metadata": {
    "id": "L5bsDhkRfTpq"
   },
   "source": [
    "<table class=\"tfo-notebook-buttons\" align=\"left\">\n",
    "  <td>\n",
    "    <a target=\"_blank\" href=\"https://tfhub.dev/google/universal-sentence-encoder-cmlm/en-base/1\"><img src=\"https://www.tensorflow.org/images/tf_logo_32px.png\" />View on TensorFlow.org</a>\n",
    "  </td>\n",
    "  <td>\n",
    "    <a target=\"_blank\" href=\"https://colab.research.google.com/github/tensorflow/hub/blob/master/examples/colab/senteval_for_universal_sentence_encoder_cmlm.ipynb\"><img src=\"https://www.tensorflow.org/images/colab_logo_32px.png\" />Run in Google Colab</a>\n",
    "  </td>\n",
    "  <td>\n",
    "    <a target=\"_blank\" href=\"https://github.com/tensorflow/hub/blob/master/examples/colab/senteval_for_universal_sentence_encoder_cmlm.ipynb\"><img src=\"https://www.tensorflow.org/images/GitHub-Mark-32px.png\" />View on GitHub</a>\n",
    "  </td>\n",
    "  <td>\n",
    "    <a href=\"https://storage.googleapis.com/tensorflow_docs/hub/examples/colab/senteval_for_universal_sentence_encoder_cmlm.ipynb\"><img src=\"https://www.tensorflow.org/images/download_logo_32px.png\" />Download notebook</a>\n",
    "  </td>\n",
    "  <td>\n",
    "    <a href=\"https://tfhub.dev/google/universal-sentence-encoder-cmlm/en-base/1\"><img src=\"https://www.tensorflow.org/images/hub_logo_32px.png\" />See TF Hub model</a>\n",
    "  </td>\n",
    "</table>"
   ]
  },
  {
   "cell_type": "markdown",
   "metadata": {
    "id": "owWqOcw1e-RZ"
   },
   "source": [
    "# Universal Sentence Encoder SentEval demo\n",
    "This colab demostrates the [Universal Sentence Encoder CMLM model](https://tfhub.dev/google/universal-sentence-encoder-cmlm/en-base/1) using the [SentEval](https://github.com/facebookresearch/SentEval) toolkit, which is a library for measuring the quality of sentence embeddings. The SentEval toolkit includes a diverse set of downstream tasks that are able to evaluate the generalization power of an embedding model and to evaluate the linguistic properties encoded.\n",
    "\n",
    "Run the first two code blocks to setup the environment, in the third code block you can pick a SentEval task to evaluate the model. A GPU runtime is recommended to run this Colab.\n",
    "\n",
    "To learn more about the Universal Sentence Encoder CMLM model, see https://openreview.net/forum?id=WDVD4lUCTzU."
   ]
  },
  {
   "cell_type": "code",
   "execution_count": 2,
   "metadata": {
    "execution": {
     "iopub.execute_input": "2022-04-27T11:26:36.916296Z",
     "iopub.status.busy": "2022-04-27T11:26:36.915909Z",
     "iopub.status.idle": "2022-04-27T11:27:24.661721Z",
     "shell.execute_reply": "2022-04-27T11:27:24.660987Z"
    },
    "id": "-CerULCLsjzV"
   },
   "outputs": [],
   "source": [
    "#@title Install dependencies\n",
    "!pip install --quiet \"tensorflow-text==2.8.*\"\n",
    "!pip install --quiet torch==1.8.1"
   ]
  },
  {
   "cell_type": "markdown",
   "metadata": {
    "id": "LjqkqD6aiZGU"
   },
   "source": [
    "## Download SentEval and task data\n",
    "This step download SentEval from github and execute the data script to download the task data. It may take up to 5 minutes to complete."
   ]
  },
  {
   "cell_type": "code",
   "execution_count": 3,
   "metadata": {
    "execution": {
     "iopub.execute_input": "2022-04-27T11:27:24.666407Z",
     "iopub.status.busy": "2022-04-27T11:27:24.665765Z",
     "iopub.status.idle": "2022-04-27T11:28:43.271468Z",
     "shell.execute_reply": "2022-04-27T11:28:43.270657Z"
    },
    "id": "3UwhHQiKJmSc"
   },
   "outputs": [
    {
     "name": "stdout",
     "output_type": "stream",
     "text": [
      "Cloning into 'SentEval'...\r\n"
     ]
    },
    {
     "name": "stdout",
     "output_type": "stream",
     "text": [
      "remote: Enumerating objects: 691, done.\u001b[K\r\n",
      "remote: Counting objects:  50% (1/2)\u001b[K\r",
      "remote: Counting objects: 100% (2/2)\u001b[K\r",
      "remote: Counting objects: 100% (2/2), done.\u001b[K\r\n",
      "remote: Compressing objects:  50% (1/2)\u001b[K\r",
      "remote: Compressing objects: 100% (2/2)\u001b[K\r",
      "remote: Compressing objects: 100% (2/2), done.\u001b[K\r\n"
     ]
    },
    {
     "name": "stdout",
     "output_type": "stream",
     "text": [
      "Receiving objects:   0% (1/691)\r",
      "Receiving objects:   1% (7/691)\r",
      "Receiving objects:   2% (14/691)\r",
      "Receiving objects:   3% (21/691)\r",
      "Receiving objects:   4% (28/691)\r",
      "Receiving objects:   5% (35/691)\r",
      "Receiving objects:   6% (42/691)\r",
      "Receiving objects:   7% (49/691)\r",
      "Receiving objects:   8% (56/691)\r",
      "Receiving objects:   9% (63/691)\r",
      "Receiving objects:  10% (70/691)\r",
      "Receiving objects:  11% (77/691)\r",
      "Receiving objects:  12% (83/691)\r",
      "Receiving objects:  13% (90/691)\r",
      "Receiving objects:  14% (97/691)\r",
      "Receiving objects:  15% (104/691)\r",
      "Receiving objects:  16% (111/691)\r",
      "Receiving objects:  17% (118/691)\r",
      "Receiving objects:  18% (125/691)\r",
      "Receiving objects:  19% (132/691)\r",
      "Receiving objects:  20% (139/691)\r",
      "Receiving objects:  21% (146/691)\r",
      "Receiving objects:  22% (153/691)\r",
      "Receiving objects:  23% (159/691)\r"
     ]
    },
    {
     "name": "stdout",
     "output_type": "stream",
     "text": [
      "Receiving objects:  24% (166/691), 12.19 MiB | 24.37 MiB/s\r"
     ]
    },
    {
     "name": "stdout",
     "output_type": "stream",
     "text": [
      "Receiving objects:  24% (168/691), 28.18 MiB | 28.18 MiB/s\r"
     ]
    },
    {
     "name": "stdout",
     "output_type": "stream",
     "text": [
      "Receiving objects:  25% (173/691), 28.18 MiB | 28.18 MiB/s\r",
      "Receiving objects:  26% (180/691), 28.18 MiB | 28.18 MiB/s\r",
      "Receiving objects:  27% (187/691), 28.18 MiB | 28.18 MiB/s\r",
      "Receiving objects:  28% (194/691), 28.18 MiB | 28.18 MiB/s\r",
      "Receiving objects:  29% (201/691), 28.18 MiB | 28.18 MiB/s\r",
      "Receiving objects:  30% (208/691), 28.18 MiB | 28.18 MiB/s\r",
      "Receiving objects:  31% (215/691), 28.18 MiB | 28.18 MiB/s\r",
      "Receiving objects:  32% (222/691), 28.18 MiB | 28.18 MiB/s\r",
      "Receiving objects:  33% (229/691), 28.18 MiB | 28.18 MiB/s\r",
      "Receiving objects:  34% (235/691), 28.18 MiB | 28.18 MiB/s\r",
      "Receiving objects:  35% (242/691), 28.18 MiB | 28.18 MiB/s\r",
      "Receiving objects:  36% (249/691), 28.18 MiB | 28.18 MiB/s\r",
      "Receiving objects:  37% (256/691), 28.18 MiB | 28.18 MiB/s\r",
      "Receiving objects:  38% (263/691), 28.18 MiB | 28.18 MiB/s\r",
      "Receiving objects:  39% (270/691), 28.18 MiB | 28.18 MiB/s\r",
      "Receiving objects:  40% (277/691), 28.18 MiB | 28.18 MiB/s\r",
      "Receiving objects:  41% (284/691), 28.18 MiB | 28.18 MiB/s\r",
      "Receiving objects:  42% (291/691), 28.18 MiB | 28.18 MiB/s\r",
      "Receiving objects:  43% (298/691), 28.18 MiB | 28.18 MiB/s\r",
      "Receiving objects:  44% (305/691), 28.18 MiB | 28.18 MiB/s\r",
      "Receiving objects:  45% (311/691), 28.18 MiB | 28.18 MiB/s\r",
      "Receiving objects:  46% (318/691), 28.18 MiB | 28.18 MiB/s\r",
      "Receiving objects:  47% (325/691), 28.18 MiB | 28.18 MiB/s\r",
      "Receiving objects:  48% (332/691), 28.18 MiB | 28.18 MiB/s\r",
      "Receiving objects:  49% (339/691), 28.18 MiB | 28.18 MiB/s\r",
      "Receiving objects:  50% (346/691), 28.18 MiB | 28.18 MiB/s\r",
      "Receiving objects:  51% (353/691), 28.18 MiB | 28.18 MiB/s\r",
      "Receiving objects:  52% (360/691), 28.18 MiB | 28.18 MiB/s\r",
      "remote: Total 691 (delta 0), reused 2 (delta 0), pack-reused 689\u001b[K\r\n",
      "Receiving objects:  53% (367/691), 28.18 MiB | 28.18 MiB/s\r",
      "Receiving objects:  54% (374/691), 28.18 MiB | 28.18 MiB/s\r",
      "Receiving objects:  55% (381/691), 28.18 MiB | 28.18 MiB/s\r",
      "Receiving objects:  56% (387/691), 28.18 MiB | 28.18 MiB/s\r",
      "Receiving objects:  57% (394/691), 28.18 MiB | 28.18 MiB/s\r",
      "Receiving objects:  58% (401/691), 28.18 MiB | 28.18 MiB/s\r",
      "Receiving objects:  59% (408/691), 28.18 MiB | 28.18 MiB/s\r",
      "Receiving objects:  60% (415/691), 28.18 MiB | 28.18 MiB/s\r",
      "Receiving objects:  61% (422/691), 28.18 MiB | 28.18 MiB/s\r",
      "Receiving objects:  62% (429/691), 28.18 MiB | 28.18 MiB/s\r",
      "Receiving objects:  63% (436/691), 28.18 MiB | 28.18 MiB/s\r",
      "Receiving objects:  64% (443/691), 28.18 MiB | 28.18 MiB/s\r",
      "Receiving objects:  65% (450/691), 28.18 MiB | 28.18 MiB/s\r",
      "Receiving objects:  66% (457/691), 28.18 MiB | 28.18 MiB/s\r",
      "Receiving objects:  67% (463/691), 28.18 MiB | 28.18 MiB/s\r",
      "Receiving objects:  68% (470/691), 28.18 MiB | 28.18 MiB/s\r",
      "Receiving objects:  69% (477/691), 28.18 MiB | 28.18 MiB/s\r",
      "Receiving objects:  70% (484/691), 28.18 MiB | 28.18 MiB/s\r",
      "Receiving objects:  71% (491/691), 28.18 MiB | 28.18 MiB/s\r",
      "Receiving objects:  72% (498/691), 28.18 MiB | 28.18 MiB/s\r",
      "Receiving objects:  73% (505/691), 28.18 MiB | 28.18 MiB/s\r",
      "Receiving objects:  74% (512/691), 28.18 MiB | 28.18 MiB/s\r",
      "Receiving objects:  75% (519/691), 28.18 MiB | 28.18 MiB/s\r",
      "Receiving objects:  76% (526/691), 28.18 MiB | 28.18 MiB/s\r",
      "Receiving objects:  77% (533/691), 28.18 MiB | 28.18 MiB/s\r",
      "Receiving objects:  78% (539/691), 28.18 MiB | 28.18 MiB/s\r",
      "Receiving objects:  79% (546/691), 28.18 MiB | 28.18 MiB/s\r",
      "Receiving objects:  80% (553/691), 28.18 MiB | 28.18 MiB/s\r",
      "Receiving objects:  81% (560/691), 28.18 MiB | 28.18 MiB/s\r",
      "Receiving objects:  82% (567/691), 28.18 MiB | 28.18 MiB/s\r",
      "Receiving objects:  83% (574/691), 28.18 MiB | 28.18 MiB/s\r",
      "Receiving objects:  84% (581/691), 28.18 MiB | 28.18 MiB/s\r",
      "Receiving objects:  85% (588/691), 28.18 MiB | 28.18 MiB/s\r",
      "Receiving objects:  86% (595/691), 28.18 MiB | 28.18 MiB/s\r",
      "Receiving objects:  87% (602/691), 28.18 MiB | 28.18 MiB/s\r",
      "Receiving objects:  88% (609/691), 28.18 MiB | 28.18 MiB/s\r",
      "Receiving objects:  89% (615/691), 28.18 MiB | 28.18 MiB/s\r",
      "Receiving objects:  90% (622/691), 28.18 MiB | 28.18 MiB/s\r",
      "Receiving objects:  91% (629/691), 28.18 MiB | 28.18 MiB/s\r",
      "Receiving objects:  92% (636/691), 28.18 MiB | 28.18 MiB/s\r",
      "Receiving objects:  93% (643/691), 28.18 MiB | 28.18 MiB/s\r",
      "Receiving objects:  94% (650/691), 28.18 MiB | 28.18 MiB/s\r",
      "Receiving objects:  95% (657/691), 28.18 MiB | 28.18 MiB/s\r",
      "Receiving objects:  96% (664/691), 28.18 MiB | 28.18 MiB/s\r",
      "Receiving objects:  97% (671/691), 28.18 MiB | 28.18 MiB/s\r",
      "Receiving objects:  98% (678/691), 28.18 MiB | 28.18 MiB/s\r",
      "Receiving objects:  99% (685/691), 28.18 MiB | 28.18 MiB/s\r",
      "Receiving objects: 100% (691/691), 28.18 MiB | 28.18 MiB/s\r",
      "Receiving objects: 100% (691/691), 33.25 MiB | 28.78 MiB/s, done.\r\n",
      "Resolving deltas:   0% (0/434)\r",
      "Resolving deltas:   2% (9/434)\r",
      "Resolving deltas:   3% (16/434)\r",
      "Resolving deltas:   8% (35/434)\r",
      "Resolving deltas:  10% (47/434)\r",
      "Resolving deltas:  12% (55/434)\r",
      "Resolving deltas:  15% (67/434)\r",
      "Resolving deltas:  17% (75/434)\r",
      "Resolving deltas:  19% (84/434)\r",
      "Resolving deltas:  20% (91/434)\r",
      "Resolving deltas:  21% (94/434)\r",
      "Resolving deltas:  22% (99/434)\r",
      "Resolving deltas:  27% (121/434)\r",
      "Resolving deltas:  35% (153/434)\r",
      "Resolving deltas:  36% (160/434)\r",
      "Resolving deltas:  37% (161/434)\r",
      "Resolving deltas:  42% (185/434)\r",
      "Resolving deltas:  43% (187/434)\r",
      "Resolving deltas:  44% (191/434)\r",
      "Resolving deltas:  45% (197/434)\r",
      "Resolving deltas:  47% (207/434)\r",
      "Resolving deltas:  52% (226/434)\r",
      "Resolving deltas:  53% (233/434)\r",
      "Resolving deltas:  55% (239/434)\r",
      "Resolving deltas:  57% (250/434)\r",
      "Resolving deltas:  59% (259/434)\r",
      "Resolving deltas:  60% (264/434)\r",
      "Resolving deltas:  61% (267/434)\r",
      "Resolving deltas:  63% (276/434)\r",
      "Resolving deltas:  65% (284/434)\r",
      "Resolving deltas:  66% (289/434)\r",
      "Resolving deltas:  67% (292/434)\r",
      "Resolving deltas:  68% (298/434)\r",
      "Resolving deltas:  69% (300/434)\r",
      "Resolving deltas:  70% (304/434)\r",
      "Resolving deltas:  73% (320/434)\r",
      "Resolving deltas:  74% (322/434)\r",
      "Resolving deltas:  77% (337/434)\r",
      "Resolving deltas:  79% (344/434)\r",
      "Resolving deltas:  81% (352/434)\r",
      "Resolving deltas:  85% (372/434)\r",
      "Resolving deltas:  88% (382/434)\r",
      "Resolving deltas:  89% (388/434)\r",
      "Resolving deltas:  90% (393/434)\r",
      "Resolving deltas:  91% (399/434)\r",
      "Resolving deltas:  93% (404/434)\r",
      "Resolving deltas:  94% (412/434)\r",
      "Resolving deltas:  97% (423/434)\r",
      "Resolving deltas:  98% (428/434)\r",
      "Resolving deltas:  99% (430/434)\r",
      "Resolving deltas: 100% (434/434)\r",
      "Resolving deltas: 100% (434/434), done.\r\n"
     ]
    }
   ],
   "source": [
    "#@title Install SentEval and download task data\n",
    "!rm -rf ./SentEval\n",
    "!git clone https://github.com/facebookresearch/SentEval.git\n",
    "!cd $PWD/SentEval/data/downstream && bash get_transfer_data.bash > /dev/null 2>&1"
   ]
  },
  {
   "cell_type": "markdown",
   "metadata": {
    "id": "7a2ohPn8vMe2"
   },
   "source": [
    "#Execute a SentEval evaulation task\n",
    "The following code block executes a SentEval task and output the results, choose one of the following tasks to evaluate the USE CMLM model:\n",
    "\n",
    "```\n",
    "MR\tCR\tSUBJ\tMPQA\tSST\tTREC\tMRPC\tSICK-E\n",
    "```\n",
    "\n",
    "Select a model, params and task to run. The rapid prototyping params can be used for reducing computation time for faster result.\n",
    "\n",
    "It typically takes 5-15 mins to complete a task with the **'rapid prototyping'** params and up to an hour with the **'slower, best performance'** params.\n",
    "\n",
    "```\n",
    "params = {'task_path': PATH_TO_DATA, 'usepytorch': True, 'kfold': 5}\n",
    "params['classifier'] = {'nhid': 0, 'optim': 'rmsprop', 'batch_size': 128,\n",
    "                                 'tenacity': 3, 'epoch_size': 2}\n",
    "```\n",
    "\n",
    "For better result, use the slower **'slower, best performance'** params, computation may take up to 1 hour:\n",
    "\n",
    "```\n",
    "params = {'task_path': PATH_TO_DATA, 'usepytorch': True, 'kfold': 10}\n",
    "params['classifier'] = {'nhid': 0, 'optim': 'adam', 'batch_size': 16,\n",
    "                                 'tenacity': 5, 'epoch_size': 6}\n",
    "```\n",
    "\n"
   ]
  },
  {
   "cell_type": "code",
   "execution_count": 4,
   "metadata": {
    "execution": {
     "iopub.execute_input": "2022-04-27T11:28:43.275929Z",
     "iopub.status.busy": "2022-04-27T11:28:43.275372Z",
     "iopub.status.idle": "2022-04-27T11:29:52.317082Z",
     "shell.execute_reply": "2022-04-27T11:29:52.316427Z"
    },
    "id": "nenCcawjwowt"
   },
   "outputs": [
    {
     "name": "stdout",
     "output_type": "stream",
     "text": [
      "Evaluating task CR with rapid prototyping parameters\n"
     ]
    },
    {
     "name": "stdout",
     "output_type": "stream",
     "text": [
      "Time took on task CR : 50.9. seconds\n",
      "{'devacc': 90.42, 'acc': 88.98, 'ndev': 3775, 'ntest': 3775}\n"
     ]
    }
   ],
   "source": [
    "import os\n",
    "os.environ['TF_CPP_MIN_LOG_LEVEL'] = '3'\n",
    "\n",
    "import sys\n",
    "sys.path.append(f'{os.getcwd()}/SentEval')\n",
    "\n",
    "import tensorflow as tf\n",
    "\n",
    "# Prevent TF from claiming all GPU memory so there is some left for pytorch.\n",
    "gpus = tf.config.list_physical_devices('GPU')\n",
    "if gpus:\n",
    "  # Memory growth needs to be the same across GPUs.\n",
    "  for gpu in gpus:\n",
    "    tf.config.experimental.set_memory_growth(gpu, True)\n",
    "\n",
    "import tensorflow_hub as hub\n",
    "import tensorflow_text\n",
    "import senteval\n",
    "import time\n",
    "\n",
    "PATH_TO_DATA = f'{os.getcwd()}/SentEval/data'\n",
    "MODEL = 'https://tfhub.dev/google/universal-sentence-encoder-cmlm/en-base/1' #@param ['https://tfhub.dev/google/universal-sentence-encoder-cmlm/en-base/1', 'https://tfhub.dev/google/universal-sentence-encoder-cmlm/en-large/1']\n",
    "PARAMS = 'rapid prototyping' #@param ['slower, best performance', 'rapid prototyping']\n",
    "TASK = 'CR' #@param ['CR','MR', 'MPQA', 'MRPC', 'SICKEntailment', 'SNLI', 'SST2', 'SUBJ', 'TREC']\n",
    "\n",
    "params_prototyping = {'task_path': PATH_TO_DATA, 'usepytorch': True, 'kfold': 5}\n",
    "params_prototyping['classifier'] = {'nhid': 0, 'optim': 'rmsprop', 'batch_size': 128,\n",
    "                                 'tenacity': 3, 'epoch_size': 2}\n",
    "\n",
    "params_best = {'task_path': PATH_TO_DATA, 'usepytorch': True, 'kfold': 10}\n",
    "params_best['classifier'] = {'nhid': 0, 'optim': 'adam', 'batch_size': 16,\n",
    "                                 'tenacity': 5, 'epoch_size': 6}\n",
    "\n",
    "params = params_best if PARAMS == 'slower, best performance' else params_prototyping\n",
    "\n",
    "preprocessor = hub.KerasLayer(\n",
    "    \"https://tfhub.dev/tensorflow/bert_en_uncased_preprocess/3\")\n",
    "encoder = hub.KerasLayer(\n",
    "    \"https://tfhub.dev/google/universal-sentence-encoder-cmlm/en-base/1\")\n",
    "\n",
    "inputs = tf.keras.Input(shape=tf.shape(''), dtype=tf.string)\n",
    "outputs = encoder(preprocessor(inputs))\n",
    "\n",
    "model = tf.keras.Model(inputs=inputs, outputs=outputs)\n",
    "\n",
    "def prepare(params, samples):\n",
    "    return\n",
    "\n",
    "def batcher(_, batch):\n",
    "    batch = [' '.join(sent) if sent else '.' for sent in batch]\n",
    "    return model.predict(tf.constant(batch))[\"default\"]\n",
    "\n",
    "\n",
    "se = senteval.engine.SE(params, batcher, prepare)\n",
    "print(\"Evaluating task %s with %s parameters\" % (TASK, PARAMS))\n",
    "start = time.time()\n",
    "results = se.eval(TASK)\n",
    "end = time.time()\n",
    "print('Time took on task %s : %.1f. seconds' % (TASK, end - start))\n",
    "print(results)\n"
   ]
  },
  {
   "cell_type": "markdown",
   "metadata": {
    "id": "SNvsY6Hsvs0_"
   },
   "source": [
    "#Learn More\n",
    "\n",
    "*   Find more text embedding models on [TensorFlow Hub](https://tfhub.dev)\n",
    "*   See also the [Multilingual Universal Sentence Encoder CMLM model](https://tfhub.dev/google/universal-sentence-encoder-cmlm/multilingual-base-br/1)\n",
    "*   Check out other [Universal Sentence Encoder models](https://tfhub.dev/google/collections/universal-sentence-encoder/1)\n",
    "\n",
    "## Reference\n",
    "\n",
    "*   Ziyi Yang, Yinfei Yang, Daniel Cer, Jax Law, Eric Darve. [Universal Sentence Representations Learning with Conditional Masked Language Model. November 2020](https://openreview.net/forum?id=WDVD4lUCTzU)\n"
   ]
  }
 ],
 "metadata": {
  "accelerator": "GPU",
  "colab": {
   "collapsed_sections": [],
   "name": "SentEval for Universal Sentence Encoder CMLM model",
   "private_outputs": true,
   "provenance": [],
   "toc_visible": true
  },
  "kernelspec": {
   "display_name": "Python 3",
   "name": "python3"
  },
  "language_info": {
   "codemirror_mode": {
    "name": "ipython",
    "version": 3
   },
   "file_extension": ".py",
   "mimetype": "text/x-python",
   "name": "python",
   "nbconvert_exporter": "python",
   "pygments_lexer": "ipython3",
   "version": "3.7.13"
  }
 },
 "nbformat": 4,
 "nbformat_minor": 0
}
