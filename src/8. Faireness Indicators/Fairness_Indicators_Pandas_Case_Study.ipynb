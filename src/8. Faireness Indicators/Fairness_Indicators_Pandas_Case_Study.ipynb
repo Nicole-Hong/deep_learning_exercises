{
 "cells": [
  {
   "cell_type": "markdown",
   "metadata": {
    "id": "Bfrh3DUze0QN"
   },
   "source": [
    "##### Copyright 2020 The TensorFlow Authors."
   ]
  },
  {
   "cell_type": "code",
   "execution_count": 1,
   "metadata": {
    "execution": {
     "iopub.execute_input": "2022-06-06T09:10:37.440219Z",
     "iopub.status.busy": "2022-06-06T09:10:37.439793Z",
     "iopub.status.idle": "2022-06-06T09:10:37.443670Z",
     "shell.execute_reply": "2022-06-06T09:10:37.443152Z"
    },
    "id": "sx-jnufYfcJG"
   },
   "outputs": [],
   "source": [
    "#@title Licensed under the Apache License, Version 2.0 (the \"License\");\n",
    "# you may not use this file except in compliance with the License.\n",
    "# You may obtain a copy of the License at\n",
    "#\n",
    "# https://www.apache.org/licenses/LICENSE-2.0\n",
    "#\n",
    "# Unless required by applicable law or agreed to in writing, software\n",
    "# distributed under the License is distributed on an \"AS IS\" BASIS,\n",
    "# WITHOUT WARRANTIES OR CONDITIONS OF ANY KIND, either express or implied.\n",
    "# See the License for the specific language governing permissions and\n",
    "# limitations under the License."
   ]
  },
  {
   "cell_type": "markdown",
   "metadata": {
    "id": "s1bQihY6-Y4N"
   },
   "source": [
    "# Pandas DataFrame to Fairness Indicators Case Study\n"
   ]
  },
  {
   "cell_type": "markdown",
   "metadata": {
    "id": "XHTjeiUMeolM"
   },
   "source": [
    "<table class=\"tfo-notebook-buttons\" align=\"left\">\n",
    "  <td>\n",
    "    <a target=\"_blank\" href=\"https://www.tensorflow.org/responsible_ai/fairness_indicators/tutorials/Fairness_Indicators_Pandas_Case_Study\"><img src=\"https://www.tensorflow.org/images/tf_logo_32px.png\" />View on TensorFlow.org</a>\n",
    "  </td>\n",
    "  <td>\n",
    "    <a target=\"_blank\" href=\"https://colab.research.google.com/github/tensorflow/fairness-indicators/blob/master/g3doc/tutorials/Fairness_Indicators_Pandas_Case_Study.ipynb\"><img src=\"https://www.tensorflow.org/images/colab_logo_32px.png\" />Run in Google Colab</a>\n",
    "  </td>\n",
    "  <td>\n",
    "    <a target=\"_blank\" href=\"https://github.com/tensorflow/fairness-indicators/tree/master/g3doc/tutorials/Fairness_Indicators_Pandas_Case_Study.ipynb\"><img src=\"https://www.tensorflow.org/images/GitHub-Mark-32px.png\" />View on GitHub</a>\n",
    "  </td>\n",
    "  <td>\n",
    "    <a href=\"https://storage.googleapis.com/tensorflow_docs/fairness-indicators/g3doc/tutorials/Fairness_Indicators_Pandas_Case_Study.ipynb\"><img src=\"https://www.tensorflow.org/images/download_logo_32px.png\" />Download notebook</a>\n",
    "  </td>\n",
    "</table>"
   ]
  },
  {
   "cell_type": "markdown",
   "metadata": {
    "id": "ay80altXzvgZ"
   },
   "source": [
    "## Case Study Overview\n",
    "In this case study we will apply [TensorFlow Model Analysis](https://www.tensorflow.org/tfx/model_analysis/get_started) and [Fairness Indicators](https://www.tensorflow.org/tfx/guide/fairness_indicators) to evaluate data stored as a Pandas DataFrame, where each row contains ground truth labels, various features, and a model prediction. We will show how this workflow can be used to spot potential fairness concerns, independent of the framework one used to construct and train the model. As in this case study, we can analyze the results from any machine learning framework (e.g. TensorFlow, JAX, etc) once they are converted to a Pandas DataFrame.\n",
    " \n",
    "For this exercise, we will leverage the Deep Neural Network (DNN) model that was developed in the [Shape Constraints for Ethics with Tensorflow Lattice](https://colab.research.google.com/github/tensorflow/lattice/blob/master/docs/tutorials/shape_constraints_for_ethics.ipynb#scrollTo=uc0VwsT5nvQi) case study using the Law School Admissions dataset from the Law School Admissions Council (LSAC). This classifier attempts to predict whether or not a student will pass the bar, based on their Law School Admission Test (LSAT) score and undergraduate GPA.\n",
    "\n",
    "## LSAC Dataset\n",
    "The dataset used within this case study was originally collected for a study called '[LSAC National Longitudinal Bar Passage Study. LSAC Research Report Series](https://eric.ed.gov/?id=ED469370)' by Linda Wightman in 1998. The dataset is currently hosted [here](http://www.seaphe.org/databases.php).\n",
    "\n",
    "*   **dnn_bar_pass_prediction**: The LSAT prediction from the DNN model.\n",
    "*   **gender**: Gender of the student.\n",
    "*   **lsat**: LSAT score received by the student.\n",
    "*   **pass_bar**: Ground truth label indicating whether or not the student eventually passed the bar.\n",
    "*   **race**: Race of the student.\n",
    "*   **ugpa**: A student's undergraduate GPA.\n"
   ]
  },
  {
   "cell_type": "code",
   "execution_count": 2,
   "metadata": {
    "execution": {
     "iopub.execute_input": "2022-06-06T09:10:37.447311Z",
     "iopub.status.busy": "2022-06-06T09:10:37.446743Z",
     "iopub.status.idle": "2022-06-06T09:10:40.945783Z",
     "shell.execute_reply": "2022-06-06T09:10:40.944933Z"
    },
    "id": "Ob01ASKqixfw"
   },
   "outputs": [
    {
     "name": "stdout",
     "output_type": "stream",
     "text": [
      "\u001b[33mWARNING: You are using pip version 20.2; however, version 22.1.2 is available.\r\n",
      "You should consider upgrading via the '/tmpfs/src/tf_docs_env/bin/python3.9 -m pip install --upgrade pip' command.\u001b[0m\r\n"
     ]
    },
    {
     "name": "stdout",
     "output_type": "stream",
     "text": [
      "\u001b[33mWARNING: You are using pip version 20.2; however, version 22.1.2 is available.\r\n",
      "You should consider upgrading via the '/tmpfs/src/tf_docs_env/bin/python3.9 -m pip install --upgrade pip' command.\u001b[0m\r\n"
     ]
    }
   ],
   "source": [
    "!pip install -q -U pip==20.2\n",
    "\n",
    "!pip install -q -U \\\n",
    "  tensorflow-model-analysis==0.39.0 \\\n",
    "  tensorflow-data-validation==1.8.0 \\\n",
    "  tfx-bsl==1.8.0"
   ]
  },
  {
   "cell_type": "markdown",
   "metadata": {
    "id": "tnxSvgkaSEIj"
   },
   "source": [
    "## Importing required packages:"
   ]
  },
  {
   "cell_type": "code",
   "execution_count": 3,
   "metadata": {
    "execution": {
     "iopub.execute_input": "2022-06-06T09:10:40.950316Z",
     "iopub.status.busy": "2022-06-06T09:10:40.949659Z",
     "iopub.status.idle": "2022-06-06T09:10:43.625075Z",
     "shell.execute_reply": "2022-06-06T09:10:43.624483Z"
    },
    "id": "0q8cTfpTkEMP"
   },
   "outputs": [],
   "source": [
    "import os\n",
    "import tempfile\n",
    "import pandas as pd\n",
    "import six.moves.urllib as urllib\n",
    "import pprint\n",
    "\n",
    "import tensorflow_model_analysis as tfma\n",
    "from google.protobuf import text_format\n",
    "\n",
    "import tensorflow as tf\n",
    "tf.compat.v1.enable_v2_behavior()"
   ]
  },
  {
   "cell_type": "markdown",
   "metadata": {
    "id": "b8kWW3t4-eS1"
   },
   "source": [
    "## Download the data and explore the initial dataset."
   ]
  },
  {
   "cell_type": "code",
   "execution_count": 4,
   "metadata": {
    "execution": {
     "iopub.execute_input": "2022-06-06T09:10:43.629267Z",
     "iopub.status.busy": "2022-06-06T09:10:43.628506Z",
     "iopub.status.idle": "2022-06-06T09:10:43.896427Z",
     "shell.execute_reply": "2022-06-06T09:10:43.895829Z"
    },
    "id": "wMZJtgj0qJ0x"
   },
   "outputs": [
    {
     "data": {
      "text/html": [
       "<div>\n",
       "<style scoped>\n",
       "    .dataframe tbody tr th:only-of-type {\n",
       "        vertical-align: middle;\n",
       "    }\n",
       "\n",
       "    .dataframe tbody tr th {\n",
       "        vertical-align: top;\n",
       "    }\n",
       "\n",
       "    .dataframe thead th {\n",
       "        text-align: right;\n",
       "    }\n",
       "</style>\n",
       "<table border=\"1\" class=\"dataframe\">\n",
       "  <thead>\n",
       "    <tr style=\"text-align: right;\">\n",
       "      <th></th>\n",
       "      <th>dnn_bar_pass_prediction</th>\n",
       "      <th>gender</th>\n",
       "      <th>lsat</th>\n",
       "      <th>pass_bar</th>\n",
       "      <th>race1</th>\n",
       "      <th>ugpa</th>\n",
       "    </tr>\n",
       "  </thead>\n",
       "  <tbody>\n",
       "    <tr>\n",
       "      <th>0</th>\n",
       "      <td>0.979804</td>\n",
       "      <td>female</td>\n",
       "      <td>44.0</td>\n",
       "      <td>1.0</td>\n",
       "      <td>white</td>\n",
       "      <td>3.5</td>\n",
       "    </tr>\n",
       "    <tr>\n",
       "      <th>1</th>\n",
       "      <td>0.979804</td>\n",
       "      <td>female</td>\n",
       "      <td>29.0</td>\n",
       "      <td>1.0</td>\n",
       "      <td>white</td>\n",
       "      <td>3.5</td>\n",
       "    </tr>\n",
       "    <tr>\n",
       "      <th>2</th>\n",
       "      <td>0.979804</td>\n",
       "      <td>male</td>\n",
       "      <td>36.0</td>\n",
       "      <td>1.0</td>\n",
       "      <td>white</td>\n",
       "      <td>3.5</td>\n",
       "    </tr>\n",
       "    <tr>\n",
       "      <th>3</th>\n",
       "      <td>0.979804</td>\n",
       "      <td>male</td>\n",
       "      <td>39.0</td>\n",
       "      <td>1.0</td>\n",
       "      <td>white</td>\n",
       "      <td>3.5</td>\n",
       "    </tr>\n",
       "    <tr>\n",
       "      <th>4</th>\n",
       "      <td>0.979804</td>\n",
       "      <td>male</td>\n",
       "      <td>48.0</td>\n",
       "      <td>1.0</td>\n",
       "      <td>white</td>\n",
       "      <td>3.5</td>\n",
       "    </tr>\n",
       "  </tbody>\n",
       "</table>\n",
       "</div>"
      ],
      "text/plain": [
       "   dnn_bar_pass_prediction  gender  lsat  pass_bar  race1  ugpa\n",
       "0                 0.979804  female  44.0       1.0  white   3.5\n",
       "1                 0.979804  female  29.0       1.0  white   3.5\n",
       "2                 0.979804    male  36.0       1.0  white   3.5\n",
       "3                 0.979804    male  39.0       1.0  white   3.5\n",
       "4                 0.979804    male  48.0       1.0  white   3.5"
      ]
     },
     "execution_count": 4,
     "metadata": {},
     "output_type": "execute_result"
    }
   ],
   "source": [
    "# Download the LSAT dataset and setup the required filepaths.\n",
    "_DATA_ROOT = tempfile.mkdtemp(prefix='lsat-data')\n",
    "_DATA_PATH = 'https://storage.googleapis.com/lawschool_dataset/bar_pass_prediction.csv'\n",
    "_DATA_FILEPATH = os.path.join(_DATA_ROOT, 'bar_pass_prediction.csv')\n",
    "\n",
    "data = urllib.request.urlopen(_DATA_PATH)\n",
    "\n",
    "_LSAT_DF = pd.read_csv(data)\n",
    "\n",
    "# To simpliy the case study, we will only use the columns that will be used for\n",
    "# our model.\n",
    "_COLUMN_NAMES = [\n",
    "  'dnn_bar_pass_prediction',\n",
    "  'gender',\n",
    "  'lsat',\n",
    "  'pass_bar',\n",
    "  'race1',\n",
    "  'ugpa',\n",
    "]\n",
    "\n",
    "_LSAT_DF.dropna()\n",
    "_LSAT_DF['gender'] = _LSAT_DF['gender'].astype(str)\n",
    "_LSAT_DF['race1'] = _LSAT_DF['race1'].astype(str)\n",
    "_LSAT_DF = _LSAT_DF[_COLUMN_NAMES]\n",
    "\n",
    "_LSAT_DF.head()"
   ]
  },
  {
   "cell_type": "markdown",
   "metadata": {
    "id": "GyeVg2s7-wlB"
   },
   "source": [
    "## Configure Fairness Indicators.\n",
    "There are several parameters that you’ll need to take into account when using Fairness Indicators with a DataFrame \n",
    "\n",
    "*   Your input DataFrame must contain a prediction column and label column from your model. By default Fairness Indicators will look for a prediction column called `prediction` and a label column called `label` within your DataFrame.\n",
    "   *   If either of these values are not found a KeyError will be raised.\n",
    "\n",
    "*   In addition to a DataFrame, you’ll also need to include an `eval_config` that should include the metrics to compute, slices to compute the metrics on, and the column names for example labels and predictions. \n",
    "   *   `metrics_specs` will set the metrics to compute. The `FairnessIndicators` metric will be required to render the fairness metrics and you can see a list of additional optional metrics [here](https://www.tensorflow.org/tfx/model_analysis/metrics).\n",
    "\n",
    "   *   `slicing_specs` is an optional slicing parameter to specify what feature you’re interested in investigating. Within this case study race1 is used, however you can also set this value to another feature (for example gender in the context of this DataFrame). If `slicing_specs` is not provided all features will be included.\n",
    "   *   If your DataFrame includes a label or prediction column that is different from the default `prediction` or `label`, you can configure the `label_key` and `prediction_key` to a new value.\n",
    "\n",
    "*   If `output_path` is not specified a temporary directory will be created."
   ]
  },
  {
   "cell_type": "code",
   "execution_count": 5,
   "metadata": {
    "execution": {
     "iopub.execute_input": "2022-06-06T09:10:43.900096Z",
     "iopub.status.busy": "2022-06-06T09:10:43.899526Z",
     "iopub.status.idle": "2022-06-06T09:10:58.426144Z",
     "shell.execute_reply": "2022-06-06T09:10:58.425578Z"
    },
    "id": "53caFasB5V9p"
   },
   "outputs": [
    {
     "name": "stderr",
     "output_type": "stream",
     "text": [
      "WARNING:apache_beam.runners.interactive.interactive_environment:Dependencies required for Interactive Beam PCollection visualization are not available, please use: `pip install apache-beam[interactive]` to install necessary dependencies to enable all data visualization features.\n"
     ]
    },
    {
     "data": {
      "application/javascript": [
       "\n",
       "        if (typeof window.interactive_beam_jquery == 'undefined') {\n",
       "          var jqueryScript = document.createElement('script');\n",
       "          jqueryScript.src = 'https://code.jquery.com/jquery-3.4.1.slim.min.js';\n",
       "          jqueryScript.type = 'text/javascript';\n",
       "          jqueryScript.onload = function() {\n",
       "            var datatableScript = document.createElement('script');\n",
       "            datatableScript.src = 'https://cdn.datatables.net/1.10.20/js/jquery.dataTables.min.js';\n",
       "            datatableScript.type = 'text/javascript';\n",
       "            datatableScript.onload = function() {\n",
       "              window.interactive_beam_jquery = jQuery.noConflict(true);\n",
       "              window.interactive_beam_jquery(document).ready(function($){\n",
       "                \n",
       "              });\n",
       "            }\n",
       "            document.head.appendChild(datatableScript);\n",
       "          };\n",
       "          document.head.appendChild(jqueryScript);\n",
       "        } else {\n",
       "          window.interactive_beam_jquery(document).ready(function($){\n",
       "            \n",
       "          });\n",
       "        }"
      ]
     },
     "metadata": {},
     "output_type": "display_data"
    },
    {
     "name": "stderr",
     "output_type": "stream",
     "text": [
      "WARNING:root:Make sure that locally built Python SDK docker image has Python 3.9 interpreter.\n"
     ]
    },
    {
     "name": "stderr",
     "output_type": "stream",
     "text": [
      "WARNING:apache_beam.io.tfrecordio:Couldn't find python-snappy so the implementation of _TFRecordUtil._masked_crc32c is not as fast as it could be.\n"
     ]
    },
    {
     "name": "stdout",
     "output_type": "stream",
     "text": [
      "WARNING:tensorflow:From /tmpfs/src/tf_docs_env/lib/python3.9/site-packages/tensorflow_model_analysis/writers/metrics_plots_and_validations_writer.py:109: tf_record_iterator (from tensorflow.python.lib.io.tf_record) is deprecated and will be removed in a future version.\n",
      "Instructions for updating:\n",
      "Use eager execution and: \n",
      "`tf.data.TFRecordDataset(path)`\n"
     ]
    },
    {
     "name": "stderr",
     "output_type": "stream",
     "text": [
      "WARNING:tensorflow:From /tmpfs/src/tf_docs_env/lib/python3.9/site-packages/tensorflow_model_analysis/writers/metrics_plots_and_validations_writer.py:109: tf_record_iterator (from tensorflow.python.lib.io.tf_record) is deprecated and will be removed in a future version.\n",
      "Instructions for updating:\n",
      "Use eager execution and: \n",
      "`tf.data.TFRecordDataset(path)`\n"
     ]
    }
   ],
   "source": [
    "# Specify Fairness Indicators in eval_config.\n",
    "eval_config = text_format.Parse(\"\"\"\n",
    "  model_specs {\n",
    "    prediction_key: 'dnn_bar_pass_prediction',\n",
    "    label_key: 'pass_bar'\n",
    "  }\n",
    "  metrics_specs {\n",
    "    metrics {class_name: \"AUC\"}\n",
    "    metrics {\n",
    "      class_name: \"FairnessIndicators\"\n",
    "      config: '{\"thresholds\": [0.50, 0.90]}'\n",
    "    }\n",
    "  }\n",
    "  slicing_specs {\n",
    "    feature_keys: 'race1'\n",
    "  }\n",
    "  slicing_specs {}\n",
    "  \"\"\", tfma.EvalConfig())\n",
    "\n",
    "# Run TensorFlow Model Analysis.\n",
    "eval_result = tfma.analyze_raw_data(\n",
    "  data=_LSAT_DF,\n",
    "  eval_config=eval_config,\n",
    "  output_path=_DATA_ROOT)"
   ]
  },
  {
   "cell_type": "markdown",
   "metadata": {
    "id": "KD96mw0e--DE"
   },
   "source": [
    "## Explore model performance with Fairness Indicators.\n",
    "\n",
    "After running Fairness Indicators, we can visualize different metrics that we selected to analyze our models performance. Within this case study we’ve included Fairness Indicators and arbitrarily picked AUC.\n",
    "\n",
    "When we first look at the overall AUC for each race slice we can see a slight discrepancy in model performance, but nothing that is arguably alarming.\n",
    "\n",
    "*   **Asian**: 0.58\n",
    "*   **Black**: 0.58\n",
    "*   **Hispanic**: 0.58\n",
    "*   **Other**: 0.64\n",
    "*   **White**: 0.6\n",
    "\n",
    "However, when we look at the false negative rates split by race, our model again incorrectly predicts the likelihood of a user passing the bar at different rates and, this time, does so by a lot. \n",
    "\n",
    "*   **Asian**: 0.01\n",
    "*   **Black**: 0.05\n",
    "*   **Hispanic**: 0.02\n",
    "*   **Other**: 0.01\n",
    "*   **White**: 0.01\n",
    "\n",
    "Most notably the difference between Black and White students is about 380%, meaning that our model is nearly 4x more likely to incorrectly predict that a black student will not pass the bar, than a whilte student. If we were to continue with this effort, a practitioner could use these results as a signal that they should spend more time ensuring that their model works well for people from all backgrounds."
   ]
  },
  {
   "cell_type": "code",
   "execution_count": 6,
   "metadata": {
    "execution": {
     "iopub.execute_input": "2022-06-06T09:10:58.429490Z",
     "iopub.status.busy": "2022-06-06T09:10:58.429011Z",
     "iopub.status.idle": "2022-06-06T09:10:58.437677Z",
     "shell.execute_reply": "2022-06-06T09:10:58.437107Z"
    },
    "id": "NIdchYPb-_ZV"
   },
   "outputs": [
    {
     "data": {
      "application/vnd.jupyter.widget-view+json": {
       "model_id": "af7105bd36cf4b69bee068d762ff99ae",
       "version_major": 2,
       "version_minor": 0
      },
      "text/plain": [
       "FairnessIndicatorViewer(slicingMetrics=[{'sliceValue': 'Overall', 'slice': 'Overall', 'metrics': {'auc': {'dou…"
      ]
     },
     "metadata": {},
     "output_type": "display_data"
    }
   ],
   "source": [
    "# Render Fairness Indicators.\n",
    "tfma.addons.fairness.view.widget_view.render_fairness_indicator(eval_result)"
   ]
  },
  {
   "cell_type": "markdown",
   "metadata": {
    "id": "NprhBTCbY1sF"
   },
   "source": [
    "# tfma.EvalResult"
   ]
  },
  {
   "cell_type": "markdown",
   "metadata": {
    "id": "6f92-e98Y40r"
   },
   "source": [
    "The [`eval_result`](https://www.tensorflow.org/tfx/model_analysis/api_docs/python/tfma/EvalResult) object, rendered above in `render_fairness_indicator()`, has its own API that can be used to read TFMA results into your programs."
   ]
  },
  {
   "cell_type": "markdown",
   "metadata": {
    "id": "CDDUxdx-Y8e0"
   },
   "source": [
    "## [`get_slice_names()`](https://www.tensorflow.org/tfx/model_analysis/api_docs/python/tfma/EvalResult#get_slice_names) and [`get_metric_names()`](https://www.tensorflow.org/tfx/model_analysis/api_docs/python/tfma/EvalResult#get_metric_names)"
   ]
  },
  {
   "cell_type": "markdown",
   "metadata": {
    "id": "oG_mNUNbY98t"
   },
   "source": [
    "To get the evaluated slices and metrics, you can use the respective functions."
   ]
  },
  {
   "cell_type": "code",
   "execution_count": 7,
   "metadata": {
    "execution": {
     "iopub.execute_input": "2022-06-06T09:10:58.442851Z",
     "iopub.status.busy": "2022-06-06T09:10:58.442435Z",
     "iopub.status.idle": "2022-06-06T09:10:58.446438Z",
     "shell.execute_reply": "2022-06-06T09:10:58.445901Z"
    },
    "id": "kbA1sXhCY_G7"
   },
   "outputs": [
    {
     "name": "stdout",
     "output_type": "stream",
     "text": [
      "Slices:\n",
      "[(),\n",
      " (('race1', 'white'),),\n",
      " (('race1', 'hisp'),),\n",
      " (('race1', 'asian'),),\n",
      " (('race1', 'black'),),\n",
      " (('race1', 'nan'),),\n",
      " (('race1', 'other'),)]\n",
      "\n",
      "Metrics:\n",
      "['fairness_indicators_metrics/recall@0.9',\n",
      " 'fairness_indicators_metrics/false_negative_rate@0.9',\n",
      " 'auc',\n",
      " 'fairness_indicators_metrics/negative_rate@0.9',\n",
      " 'fairness_indicators_metrics/true_negative_rate@0.9',\n",
      " 'fairness_indicators_metrics/true_positive_rate@0.5',\n",
      " 'fairness_indicators_metrics/positive_rate@0.5',\n",
      " 'fairness_indicators_metrics/true_negative_rate@0.5',\n",
      " 'fairness_indicators_metrics/negative_rate@0.5',\n",
      " 'fairness_indicators_metrics/false_omission_rate@0.9',\n",
      " 'fairness_indicators_metrics/true_positive_rate@0.9',\n",
      " 'fairness_indicators_metrics/precision@0.5',\n",
      " 'fairness_indicators_metrics/false_discovery_rate@0.5',\n",
      " 'fairness_indicators_metrics/positive_rate@0.9',\n",
      " 'fairness_indicators_metrics/false_negative_rate@0.5',\n",
      " 'fairness_indicators_metrics/false_positive_rate@0.5',\n",
      " 'fairness_indicators_metrics/recall@0.5',\n",
      " 'fairness_indicators_metrics/false_positive_rate@0.9',\n",
      " 'fairness_indicators_metrics/precision@0.9',\n",
      " 'fairness_indicators_metrics/false_omission_rate@0.5',\n",
      " 'fairness_indicators_metrics/false_discovery_rate@0.9']\n"
     ]
    }
   ],
   "source": [
    "pp = pprint.PrettyPrinter()\n",
    "\n",
    "print(\"Slices:\")\n",
    "pp.pprint(eval_result.get_slice_names())\n",
    "print(\"\\nMetrics:\")\n",
    "pp.pprint(eval_result.get_metric_names())"
   ]
  },
  {
   "cell_type": "markdown",
   "metadata": {
    "id": "rA1M8aBmZAk6"
   },
   "source": [
    "## [`get_metrics_for_slice()`](https://www.tensorflow.org/tfx/model_analysis/api_docs/python/tfma/EvalResult#get_metrics_for_slice) and [`get_metrics_for_all_slices()`](https://www.tensorflow.org/tfx/model_analysis/api_docs/python/tfma/EvalResult#get_metrics_for_all_slices)"
   ]
  },
  {
   "cell_type": "markdown",
   "metadata": {
    "id": "a3Ath5MsZCRX"
   },
   "source": [
    "If you want to get the metrics for a particular slice, you can use `get_metrics_for_slice()`. It returns a dictionary mapping metric names to [metric values](https://github.com/tensorflow/model-analysis/blob/cdb6790dcd7a37c82afb493859b3ef4898963fee/tensorflow_model_analysis/proto/metrics_for_slice.proto#L194)."
   ]
  },
  {
   "cell_type": "code",
   "execution_count": 8,
   "metadata": {
    "execution": {
     "iopub.execute_input": "2022-06-06T09:10:58.449556Z",
     "iopub.status.busy": "2022-06-06T09:10:58.449030Z",
     "iopub.status.idle": "2022-06-06T09:10:58.453887Z",
     "shell.execute_reply": "2022-06-06T09:10:58.453353Z"
    },
    "id": "9BWg5HoyZDh-"
   },
   "outputs": [
    {
     "name": "stdout",
     "output_type": "stream",
     "text": [
      "Baseline metric values:\n",
      "{'auc': {'doubleValue': 0.6286112880450339},\n",
      " 'fairness_indicators_metrics/false_discovery_rate@0.5': {'doubleValue': 0.052173524948674464},\n",
      " 'fairness_indicators_metrics/false_discovery_rate@0.9': {'doubleValue': 0.0502241746297722},\n",
      " 'fairness_indicators_metrics/false_negative_rate@0.5': {'doubleValue': 4.7085412939071474e-05},\n",
      " 'fairness_indicators_metrics/false_negative_rate@0.9': {'doubleValue': 0.012524719841793012},\n",
      " 'fairness_indicators_metrics/false_omission_rate@0.5': {'doubleValue': 1.0},\n",
      " 'fairness_indicators_metrics/false_omission_rate@0.9': {'doubleValue': 0.8159509202453987},\n",
      " 'fairness_indicators_metrics/false_positive_rate@0.5': {'doubleValue': 1.0},\n",
      " 'fairness_indicators_metrics/false_positive_rate@0.9': {'doubleValue': 0.9486740804106074},\n",
      " 'fairness_indicators_metrics/negative_rate@0.5': {'doubleValue': 4.462891060829205e-05},\n",
      " 'fairness_indicators_metrics/negative_rate@0.9': {'doubleValue': 0.014549024858303209},\n",
      " 'fairness_indicators_metrics/positive_rate@0.5': {'doubleValue': 0.9999553710893917},\n",
      " 'fairness_indicators_metrics/positive_rate@0.9': {'doubleValue': 0.9854509751416968},\n",
      " 'fairness_indicators_metrics/precision@0.5': {'doubleValue': 0.9478264750513256},\n",
      " 'fairness_indicators_metrics/precision@0.9': {'doubleValue': 0.9497758253702278},\n",
      " 'fairness_indicators_metrics/recall@0.5': {'doubleValue': 0.9999529145870609},\n",
      " 'fairness_indicators_metrics/recall@0.9': {'doubleValue': 0.987475280158207},\n",
      " 'fairness_indicators_metrics/true_negative_rate@0.5': {'doubleValue': 0.0},\n",
      " 'fairness_indicators_metrics/true_negative_rate@0.9': {'doubleValue': 0.05132591958939264},\n",
      " 'fairness_indicators_metrics/true_positive_rate@0.5': {'doubleValue': 0.9999529145870609},\n",
      " 'fairness_indicators_metrics/true_positive_rate@0.9': {'doubleValue': 0.987475280158207}}\n",
      "Black metric values:\n",
      "{'auc': {'doubleValue': 0.5779294178093191},\n",
      " 'fairness_indicators_metrics/false_discovery_rate@0.5': {'doubleValue': 0.22189128816083395},\n",
      " 'fairness_indicators_metrics/false_discovery_rate@0.9': {'doubleValue': 0.21048451151707703},\n",
      " 'fairness_indicators_metrics/false_negative_rate@0.5': {'doubleValue': 0.0},\n",
      " 'fairness_indicators_metrics/false_negative_rate@0.9': {'doubleValue': 0.04880382775119617},\n",
      " 'fairness_indicators_metrics/false_omission_rate@0.5': {'doubleValue': 'NaN'},\n",
      " 'fairness_indicators_metrics/false_omission_rate@0.9': {'doubleValue': 0.6071428571428571},\n",
      " 'fairness_indicators_metrics/false_positive_rate@0.5': {'doubleValue': 1.0},\n",
      " 'fairness_indicators_metrics/false_positive_rate@0.9': {'doubleValue': 0.889261744966443},\n",
      " 'fairness_indicators_metrics/negative_rate@0.5': {'doubleValue': 0.0},\n",
      " 'fairness_indicators_metrics/negative_rate@0.9': {'doubleValue': 0.06254653760238273},\n",
      " 'fairness_indicators_metrics/positive_rate@0.5': {'doubleValue': 1.0},\n",
      " 'fairness_indicators_metrics/positive_rate@0.9': {'doubleValue': 0.9374534623976173},\n",
      " 'fairness_indicators_metrics/precision@0.5': {'doubleValue': 0.7781087118391661},\n",
      " 'fairness_indicators_metrics/precision@0.9': {'doubleValue': 0.789515488482923},\n",
      " 'fairness_indicators_metrics/recall@0.5': {'doubleValue': 1.0},\n",
      " 'fairness_indicators_metrics/recall@0.9': {'doubleValue': 0.9511961722488038},\n",
      " 'fairness_indicators_metrics/true_negative_rate@0.5': {'doubleValue': 0.0},\n",
      " 'fairness_indicators_metrics/true_negative_rate@0.9': {'doubleValue': 0.11073825503355705},\n",
      " 'fairness_indicators_metrics/true_positive_rate@0.5': {'doubleValue': 1.0},\n",
      " 'fairness_indicators_metrics/true_positive_rate@0.9': {'doubleValue': 0.9511961722488038}}\n"
     ]
    }
   ],
   "source": [
    "baseline_slice = ()\n",
    "black_slice = (('race1', 'black'),)\n",
    "\n",
    "print(\"Baseline metric values:\")\n",
    "pp.pprint(eval_result.get_metrics_for_slice(baseline_slice))\n",
    "print(\"Black metric values:\")\n",
    "pp.pprint(eval_result.get_metrics_for_slice(black_slice))"
   ]
  },
  {
   "cell_type": "markdown",
   "metadata": {
    "id": "bDcOxvqBZEfg"
   },
   "source": [
    "If you want to get the metrics for all slices, `get_metrics_for_all_slices()` returns a dictionary mapping each slice to the corresponding `get_metrics_for_slices(slice)`."
   ]
  },
  {
   "cell_type": "code",
   "execution_count": 9,
   "metadata": {
    "execution": {
     "iopub.execute_input": "2022-06-06T09:10:58.456827Z",
     "iopub.status.busy": "2022-06-06T09:10:58.456308Z",
     "iopub.status.idle": "2022-06-06T09:10:58.465333Z",
     "shell.execute_reply": "2022-06-06T09:10:58.464716Z"
    },
    "id": "p4NQCi52ZFrw"
   },
   "outputs": [
    {
     "name": "stdout",
     "output_type": "stream",
     "text": [
      "{(): {'auc': {'doubleValue': 0.6286112880450339},\n",
      "      'fairness_indicators_metrics/false_discovery_rate@0.5': {'doubleValue': 0.052173524948674464},\n",
      "      'fairness_indicators_metrics/false_discovery_rate@0.9': {'doubleValue': 0.0502241746297722},\n",
      "      'fairness_indicators_metrics/false_negative_rate@0.5': {'doubleValue': 4.7085412939071474e-05},\n",
      "      'fairness_indicators_metrics/false_negative_rate@0.9': {'doubleValue': 0.012524719841793012},\n",
      "      'fairness_indicators_metrics/false_omission_rate@0.5': {'doubleValue': 1.0},\n",
      "      'fairness_indicators_metrics/false_omission_rate@0.9': {'doubleValue': 0.8159509202453987},\n",
      "      'fairness_indicators_metrics/false_positive_rate@0.5': {'doubleValue': 1.0},\n",
      "      'fairness_indicators_metrics/false_positive_rate@0.9': {'doubleValue': 0.9486740804106074},\n",
      "      'fairness_indicators_metrics/negative_rate@0.5': {'doubleValue': 4.462891060829205e-05},\n",
      "      'fairness_indicators_metrics/negative_rate@0.9': {'doubleValue': 0.014549024858303209},\n",
      "      'fairness_indicators_metrics/positive_rate@0.5': {'doubleValue': 0.9999553710893917},\n",
      "      'fairness_indicators_metrics/positive_rate@0.9': {'doubleValue': 0.9854509751416968},\n",
      "      'fairness_indicators_metrics/precision@0.5': {'doubleValue': 0.9478264750513256},\n",
      "      'fairness_indicators_metrics/precision@0.9': {'doubleValue': 0.9497758253702278},\n",
      "      'fairness_indicators_metrics/recall@0.5': {'doubleValue': 0.9999529145870609},\n",
      "      'fairness_indicators_metrics/recall@0.9': {'doubleValue': 0.987475280158207},\n",
      "      'fairness_indicators_metrics/true_negative_rate@0.5': {'doubleValue': 0.0},\n",
      "      'fairness_indicators_metrics/true_negative_rate@0.9': {'doubleValue': 0.05132591958939264},\n",
      "      'fairness_indicators_metrics/true_positive_rate@0.5': {'doubleValue': 0.9999529145870609},\n",
      "      'fairness_indicators_metrics/true_positive_rate@0.9': {'doubleValue': 0.987475280158207}},\n",
      " (('race1', 'asian'),): {'auc': {'doubleValue': 0.5817844187251685},\n",
      "                         'fairness_indicators_metrics/false_discovery_rate@0.5': {'doubleValue': 0.07803790412486064},\n",
      "                         'fairness_indicators_metrics/false_discovery_rate@0.9': {'doubleValue': 0.07674943566591422},\n",
      "                         'fairness_indicators_metrics/false_negative_rate@0.5': {'doubleValue': 0.0},\n",
      "                         'fairness_indicators_metrics/false_negative_rate@0.9': {'doubleValue': 0.010882708585247884},\n",
      "                         'fairness_indicators_metrics/false_omission_rate@0.5': {'doubleValue': 'NaN'},\n",
      "                         'fairness_indicators_metrics/false_omission_rate@0.9': {'doubleValue': 0.8181818181818182},\n",
      "                         'fairness_indicators_metrics/false_positive_rate@0.5': {'doubleValue': 1.0},\n",
      "                         'fairness_indicators_metrics/false_positive_rate@0.9': {'doubleValue': 0.9714285714285714},\n",
      "                         'fairness_indicators_metrics/negative_rate@0.5': {'doubleValue': 0.0},\n",
      "                         'fairness_indicators_metrics/negative_rate@0.9': {'doubleValue': 0.012263099219620958},\n",
      "                         'fairness_indicators_metrics/positive_rate@0.5': {'doubleValue': 1.0},\n",
      "                         'fairness_indicators_metrics/positive_rate@0.9': {'doubleValue': 0.987736900780379},\n",
      "                         'fairness_indicators_metrics/precision@0.5': {'doubleValue': 0.9219620958751393},\n",
      "                         'fairness_indicators_metrics/precision@0.9': {'doubleValue': 0.9232505643340858},\n",
      "                         'fairness_indicators_metrics/recall@0.5': {'doubleValue': 1.0},\n",
      "                         'fairness_indicators_metrics/recall@0.9': {'doubleValue': 0.9891172914147521},\n",
      "                         'fairness_indicators_metrics/true_negative_rate@0.5': {'doubleValue': 0.0},\n",
      "                         'fairness_indicators_metrics/true_negative_rate@0.9': {'doubleValue': 0.02857142857142857},\n",
      "                         'fairness_indicators_metrics/true_positive_rate@0.5': {'doubleValue': 1.0},\n",
      "                         'fairness_indicators_metrics/true_positive_rate@0.9': {'doubleValue': 0.9891172914147521}},\n",
      " (('race1', 'black'),): {'auc': {'doubleValue': 0.5779294178093191},\n",
      "                         'fairness_indicators_metrics/false_discovery_rate@0.5': {'doubleValue': 0.22189128816083395},\n",
      "                         'fairness_indicators_metrics/false_discovery_rate@0.9': {'doubleValue': 0.21048451151707703},\n",
      "                         'fairness_indicators_metrics/false_negative_rate@0.5': {'doubleValue': 0.0},\n",
      "                         'fairness_indicators_metrics/false_negative_rate@0.9': {'doubleValue': 0.04880382775119617},\n",
      "                         'fairness_indicators_metrics/false_omission_rate@0.5': {'doubleValue': 'NaN'},\n",
      "                         'fairness_indicators_metrics/false_omission_rate@0.9': {'doubleValue': 0.6071428571428571},\n",
      "                         'fairness_indicators_metrics/false_positive_rate@0.5': {'doubleValue': 1.0},\n",
      "                         'fairness_indicators_metrics/false_positive_rate@0.9': {'doubleValue': 0.889261744966443},\n",
      "                         'fairness_indicators_metrics/negative_rate@0.5': {'doubleValue': 0.0},\n",
      "                         'fairness_indicators_metrics/negative_rate@0.9': {'doubleValue': 0.06254653760238273},\n",
      "                         'fairness_indicators_metrics/positive_rate@0.5': {'doubleValue': 1.0},\n",
      "                         'fairness_indicators_metrics/positive_rate@0.9': {'doubleValue': 0.9374534623976173},\n",
      "                         'fairness_indicators_metrics/precision@0.5': {'doubleValue': 0.7781087118391661},\n",
      "                         'fairness_indicators_metrics/precision@0.9': {'doubleValue': 0.789515488482923},\n",
      "                         'fairness_indicators_metrics/recall@0.5': {'doubleValue': 1.0},\n",
      "                         'fairness_indicators_metrics/recall@0.9': {'doubleValue': 0.9511961722488038},\n",
      "                         'fairness_indicators_metrics/true_negative_rate@0.5': {'doubleValue': 0.0},\n",
      "                         'fairness_indicators_metrics/true_negative_rate@0.9': {'doubleValue': 0.11073825503355705},\n",
      "                         'fairness_indicators_metrics/true_positive_rate@0.5': {'doubleValue': 1.0},\n",
      "                         'fairness_indicators_metrics/true_positive_rate@0.9': {'doubleValue': 0.9511961722488038}},\n",
      " (('race1', 'hisp'),): {'auc': {'doubleValue': 0.5754179991657398},\n",
      "                        'fairness_indicators_metrics/false_discovery_rate@0.5': {'doubleValue': 0.124634858812074},\n",
      "                        'fairness_indicators_metrics/false_discovery_rate@0.9': {'doubleValue': 0.12139303482587065},\n",
      "                        'fairness_indicators_metrics/false_negative_rate@0.5': {'doubleValue': 0.0},\n",
      "                        'fairness_indicators_metrics/false_negative_rate@0.9': {'doubleValue': 0.017797552836484983},\n",
      "                        'fairness_indicators_metrics/false_omission_rate@0.5': {'doubleValue': 'NaN'},\n",
      "                        'fairness_indicators_metrics/false_omission_rate@0.9': {'doubleValue': 0.7272727272727273},\n",
      "                        'fairness_indicators_metrics/false_positive_rate@0.5': {'doubleValue': 1.0},\n",
      "                        'fairness_indicators_metrics/false_positive_rate@0.9': {'doubleValue': 0.953125},\n",
      "                        'fairness_indicators_metrics/negative_rate@0.5': {'doubleValue': 0.0},\n",
      "                        'fairness_indicators_metrics/negative_rate@0.9': {'doubleValue': 0.021421616358325218},\n",
      "                        'fairness_indicators_metrics/positive_rate@0.5': {'doubleValue': 1.0},\n",
      "                        'fairness_indicators_metrics/positive_rate@0.9': {'doubleValue': 0.9785783836416748},\n",
      "                        'fairness_indicators_metrics/precision@0.5': {'doubleValue': 0.875365141187926},\n",
      "                        'fairness_indicators_metrics/precision@0.9': {'doubleValue': 0.8786069651741294},\n",
      "                        'fairness_indicators_metrics/recall@0.5': {'doubleValue': 1.0},\n",
      "                        'fairness_indicators_metrics/recall@0.9': {'doubleValue': 0.982202447163515},\n",
      "                        'fairness_indicators_metrics/true_negative_rate@0.5': {'doubleValue': 0.0},\n",
      "                        'fairness_indicators_metrics/true_negative_rate@0.9': {'doubleValue': 0.046875},\n",
      "                        'fairness_indicators_metrics/true_positive_rate@0.5': {'doubleValue': 1.0},\n",
      "                        'fairness_indicators_metrics/true_positive_rate@0.9': {'doubleValue': 0.982202447163515}},\n",
      " (('race1', 'nan'),): {'auc': {'doubleValue': 0.7142857142857143},\n",
      "                       'fairness_indicators_metrics/false_discovery_rate@0.5': {'doubleValue': 0.125},\n",
      "                       'fairness_indicators_metrics/false_discovery_rate@0.9': {'doubleValue': 0.125},\n",
      "                       'fairness_indicators_metrics/false_negative_rate@0.5': {'doubleValue': 0.0},\n",
      "                       'fairness_indicators_metrics/false_negative_rate@0.9': {'doubleValue': 0.0},\n",
      "                       'fairness_indicators_metrics/false_omission_rate@0.5': {'doubleValue': 'NaN'},\n",
      "                       'fairness_indicators_metrics/false_omission_rate@0.9': {'doubleValue': 'NaN'},\n",
      "                       'fairness_indicators_metrics/false_positive_rate@0.5': {'doubleValue': 1.0},\n",
      "                       'fairness_indicators_metrics/false_positive_rate@0.9': {'doubleValue': 1.0},\n",
      "                       'fairness_indicators_metrics/negative_rate@0.5': {'doubleValue': 0.0},\n",
      "                       'fairness_indicators_metrics/negative_rate@0.9': {'doubleValue': 0.0},\n",
      "                       'fairness_indicators_metrics/positive_rate@0.5': {'doubleValue': 1.0},\n",
      "                       'fairness_indicators_metrics/positive_rate@0.9': {'doubleValue': 1.0},\n",
      "                       'fairness_indicators_metrics/precision@0.5': {'doubleValue': 0.875},\n",
      "                       'fairness_indicators_metrics/precision@0.9': {'doubleValue': 0.875},\n",
      "                       'fairness_indicators_metrics/recall@0.5': {'doubleValue': 1.0},\n",
      "                       'fairness_indicators_metrics/recall@0.9': {'doubleValue': 1.0},\n",
      "                       'fairness_indicators_metrics/true_negative_rate@0.5': {'doubleValue': 0.0},\n",
      "                       'fairness_indicators_metrics/true_negative_rate@0.9': {'doubleValue': 0.0},\n",
      "                       'fairness_indicators_metrics/true_positive_rate@0.5': {'doubleValue': 1.0},\n",
      "                       'fairness_indicators_metrics/true_positive_rate@0.9': {'doubleValue': 1.0}},\n",
      " (('race1', 'other'),): {'auc': {'doubleValue': 0.6389539422326307},\n",
      "                         'fairness_indicators_metrics/false_discovery_rate@0.5': {'doubleValue': 0.10294117647058823},\n",
      "                         'fairness_indicators_metrics/false_discovery_rate@0.9': {'doubleValue': 0.09523809523809523},\n",
      "                         'fairness_indicators_metrics/false_negative_rate@0.5': {'doubleValue': 0.0},\n",
      "                         'fairness_indicators_metrics/false_negative_rate@0.9': {'doubleValue': 0.01366120218579235},\n",
      "                         'fairness_indicators_metrics/false_omission_rate@0.5': {'doubleValue': 'NaN'},\n",
      "                         'fairness_indicators_metrics/false_omission_rate@0.9': {'doubleValue': 0.5555555555555556},\n",
      "                         'fairness_indicators_metrics/false_positive_rate@0.5': {'doubleValue': 1.0},\n",
      "                         'fairness_indicators_metrics/false_positive_rate@0.9': {'doubleValue': 0.9047619047619048},\n",
      "                         'fairness_indicators_metrics/negative_rate@0.5': {'doubleValue': 0.0},\n",
      "                         'fairness_indicators_metrics/negative_rate@0.9': {'doubleValue': 0.022058823529411766},\n",
      "                         'fairness_indicators_metrics/positive_rate@0.5': {'doubleValue': 1.0},\n",
      "                         'fairness_indicators_metrics/positive_rate@0.9': {'doubleValue': 0.9779411764705882},\n",
      "                         'fairness_indicators_metrics/precision@0.5': {'doubleValue': 0.8970588235294118},\n",
      "                         'fairness_indicators_metrics/precision@0.9': {'doubleValue': 0.9047619047619048},\n",
      "                         'fairness_indicators_metrics/recall@0.5': {'doubleValue': 1.0},\n",
      "                         'fairness_indicators_metrics/recall@0.9': {'doubleValue': 0.9863387978142076},\n",
      "                         'fairness_indicators_metrics/true_negative_rate@0.5': {'doubleValue': 0.0},\n",
      "                         'fairness_indicators_metrics/true_negative_rate@0.9': {'doubleValue': 0.09523809523809523},\n",
      "                         'fairness_indicators_metrics/true_positive_rate@0.5': {'doubleValue': 1.0},\n",
      "                         'fairness_indicators_metrics/true_positive_rate@0.9': {'doubleValue': 0.9863387978142076}},\n",
      " (('race1', 'white'),): {'auc': {'doubleValue': 0.5987963757226048},\n",
      "                         'fairness_indicators_metrics/false_discovery_rate@0.5': {'doubleValue': 0.03360940422121293},\n",
      "                         'fairness_indicators_metrics/false_discovery_rate@0.9': {'doubleValue': 0.03316050982933679},\n",
      "                         'fairness_indicators_metrics/false_negative_rate@0.5': {'doubleValue': 5.52883286338254e-05},\n",
      "                         'fairness_indicators_metrics/false_negative_rate@0.9': {'doubleValue': 0.010228340797257698},\n",
      "                         'fairness_indicators_metrics/false_omission_rate@0.5': {'doubleValue': 1.0},\n",
      "                         'fairness_indicators_metrics/false_omission_rate@0.9': {'doubleValue': 0.925},\n",
      "                         'fairness_indicators_metrics/false_positive_rate@0.5': {'doubleValue': 1.0},\n",
      "                         'fairness_indicators_metrics/false_positive_rate@0.9': {'doubleValue': 0.9761526232114467},\n",
      "                         'fairness_indicators_metrics/negative_rate@0.5': {'doubleValue': 5.3430220132506944e-05},\n",
      "                         'fairness_indicators_metrics/negative_rate@0.9': {'doubleValue': 0.010686044026501388},\n",
      "                         'fairness_indicators_metrics/positive_rate@0.5': {'doubleValue': 0.9999465697798675},\n",
      "                         'fairness_indicators_metrics/positive_rate@0.9': {'doubleValue': 0.9893139559734986},\n",
      "                         'fairness_indicators_metrics/precision@0.5': {'doubleValue': 0.966390595778787},\n",
      "                         'fairness_indicators_metrics/precision@0.9': {'doubleValue': 0.9668394901706632},\n",
      "                         'fairness_indicators_metrics/recall@0.5': {'doubleValue': 0.9999447116713662},\n",
      "                         'fairness_indicators_metrics/recall@0.9': {'doubleValue': 0.9897716592027423},\n",
      "                         'fairness_indicators_metrics/true_negative_rate@0.5': {'doubleValue': 0.0},\n",
      "                         'fairness_indicators_metrics/true_negative_rate@0.9': {'doubleValue': 0.02384737678855326},\n",
      "                         'fairness_indicators_metrics/true_positive_rate@0.5': {'doubleValue': 0.9999447116713662},\n",
      "                         'fairness_indicators_metrics/true_positive_rate@0.9': {'doubleValue': 0.9897716592027423}}}\n"
     ]
    }
   ],
   "source": [
    "pp.pprint(eval_result.get_metrics_for_all_slices())"
   ]
  },
  {
   "cell_type": "markdown",
   "metadata": {
    "id": "y-nbqnSTkmW3"
   },
   "source": [
    "## Conclusion\n",
    "Within this case study we imported a dataset into a Pandas DataFrame that we then analyzed with Fairness Indicators. Understanding the results of your model and underlying data is an important step in ensuring your model doesn't reflect harmful bias. In the context of this case study we examined the the LSAC dataset and how predictions from this data could be impacted by a students race. The concept of “what is unfair and what is fair have been introduced in multiple disciplines for well over 50 years, including in education, hiring, and machine learning.”<sup>1</sup> Fairness Indicator is a tool to help mitigate fairness concerns in your machine learning model.\n",
    "\n",
    "For more information on using Fairness Indicators and resources to learn more about fairness concerns see [here](https://www.tensorflow.org/responsible_ai/fairness_indicators/guide).\n",
    "\n",
    "---\n",
    "\n",
    "1. Hutchinson, B., Mitchell, M. (2018). 50 Years of Test (Un)fairness: Lessons for Machine Learning. https://arxiv.org/abs/1811.10104\n"
   ]
  },
  {
   "cell_type": "markdown",
   "metadata": {
    "id": "REV1rBnoBAo1"
   },
   "source": [
    "## Appendix\n",
    "\n",
    "Below are a few functions to help convert ML models to Pandas DataFrame.\n"
   ]
  },
  {
   "cell_type": "code",
   "execution_count": 10,
   "metadata": {
    "execution": {
     "iopub.execute_input": "2022-06-06T09:10:58.468376Z",
     "iopub.status.busy": "2022-06-06T09:10:58.468013Z",
     "iopub.status.idle": "2022-06-06T09:10:58.475217Z",
     "shell.execute_reply": "2022-06-06T09:10:58.474723Z"
    },
    "id": "F4qv9GXiBsFA"
   },
   "outputs": [],
   "source": [
    "# TensorFlow Estimator to Pandas DataFrame:\n",
    "\n",
    "# _X_VALUE =  # X value of binary estimator.\n",
    "# _Y_VALUE =  # Y value of binary estimator.\n",
    "# _GROUND_TRUTH_LABEL =  # Ground truth value of binary estimator.\n",
    "\n",
    "def _get_predicted_probabilities(estimator, input_df, get_input_fn):\n",
    "  predictions = estimator.predict(\n",
    "      input_fn=get_input_fn(input_df=input_df, num_epochs=1))\n",
    "  return [prediction['probabilities'][1] for prediction in predictions]\n",
    "\n",
    "def _get_input_fn_law(input_df, num_epochs, batch_size=None):\n",
    "  return tf.compat.v1.estimator.inputs.pandas_input_fn(\n",
    "      x=input_df[[_X_VALUE, _Y_VALUE]],\n",
    "      y=input_df[_GROUND_TRUTH_LABEL],\n",
    "      num_epochs=num_epochs,\n",
    "      batch_size=batch_size or len(input_df),\n",
    "      shuffle=False)\n",
    "\n",
    "def estimator_to_dataframe(estimator, input_df, num_keypoints=20):\n",
    "  x = np.linspace(min(input_df[_X_VALUE]), max(input_df[_X_VALUE]), num_keypoints)\n",
    "  y = np.linspace(min(input_df[_Y_VALUE]), max(input_df[_Y_VALUE]), num_keypoints)\n",
    "\n",
    "  x_grid, y_grid = np.meshgrid(x, y)\n",
    "\n",
    "  positions = np.vstack([x_grid.ravel(), y_grid.ravel()])\n",
    "  plot_df = pd.DataFrame(positions.T, columns=[_X_VALUE, _Y_VALUE])\n",
    "  plot_df[_GROUND_TRUTH_LABEL] = np.ones(len(plot_df))\n",
    "  predictions = _get_predicted_probabilities(\n",
    "      estimator=estimator, input_df=plot_df, get_input_fn=_get_input_fn_law)\n",
    "  return pd.DataFrame(\n",
    "      data=np.array(np.reshape(predictions, x_grid.shape)).flatten())"
   ]
  }
 ],
 "metadata": {
  "colab": {
   "collapsed_sections": [
    "Bfrh3DUze0QN"
   ],
   "name": "Pandas DataFrame to Fairness Indicators Case Study",
   "private_outputs": true,
   "provenance": [],
   "toc_visible": true
  },
  "kernelspec": {
   "display_name": "Python 3",
   "name": "python3"
  },
  "language_info": {
   "codemirror_mode": {
    "name": "ipython",
    "version": 3
   },
   "file_extension": ".py",
   "mimetype": "text/x-python",
   "name": "python",
   "nbconvert_exporter": "python",
   "pygments_lexer": "ipython3",
   "version": "3.9.13"
  },
  "widgets": {
   "application/vnd.jupyter.widget-state+json": {
    "state": {
     "378ad82519b641af969487b23779cdca": {
      "model_module": "@jupyter-widgets/base",
      "model_module_version": "1.2.0",
      "model_name": "LayoutModel",
      "state": {
       "_model_module": "@jupyter-widgets/base",
       "_model_module_version": "1.2.0",
       "_model_name": "LayoutModel",
       "_view_count": null,
       "_view_module": "@jupyter-widgets/base",
       "_view_module_version": "1.2.0",
       "_view_name": "LayoutView",
       "align_content": null,
       "align_items": null,
       "align_self": null,
       "border": null,
       "bottom": null,
       "display": null,
       "flex": null,
       "flex_flow": null,
       "grid_area": null,
       "grid_auto_columns": null,
       "grid_auto_flow": null,
       "grid_auto_rows": null,
       "grid_column": null,
       "grid_gap": null,
       "grid_row": null,
       "grid_template_areas": null,
       "grid_template_columns": null,
       "grid_template_rows": null,
       "height": null,
       "justify_content": null,
       "justify_items": null,
       "left": null,
       "margin": null,
       "max_height": null,
       "max_width": null,
       "min_height": null,
       "min_width": null,
       "object_fit": null,
       "object_position": null,
       "order": null,
       "overflow": null,
       "overflow_x": null,
       "overflow_y": null,
       "padding": null,
       "right": null,
       "top": null,
       "visibility": null,
       "width": null
      }
     },
     "af7105bd36cf4b69bee068d762ff99ae": {
      "model_module": "tensorflow_model_analysis",
      "model_module_version": "0.39.0",
      "model_name": "FairnessIndicatorModel",
      "state": {
       "_dom_classes": [],
       "_model_module": "tensorflow_model_analysis",
       "_model_module_version": "0.39.0",
       "_model_name": "FairnessIndicatorModel",
       "_view_count": null,
       "_view_module": "tensorflow_model_analysis",
       "_view_module_version": "0.39.0",
       "_view_name": "FairnessIndicatorView",
       "evalName": "",
       "evalNameCompare": "",
       "js_events": [],
       "layout": "IPY_MODEL_378ad82519b641af969487b23779cdca",
       "slicingMetrics": [
        {
         "metrics": {
          "auc": {
           "doubleValue": 0.6286112880450339
          },
          "fairness_indicators_metrics/false_discovery_rate@0.5": {
           "doubleValue": 0.052173524948674464
          },
          "fairness_indicators_metrics/false_discovery_rate@0.9": {
           "doubleValue": 0.0502241746297722
          },
          "fairness_indicators_metrics/false_negative_rate@0.5": {
           "doubleValue": 4.7085412939071474e-05
          },
          "fairness_indicators_metrics/false_negative_rate@0.9": {
           "doubleValue": 0.012524719841793012
          },
          "fairness_indicators_metrics/false_omission_rate@0.5": {
           "doubleValue": 1.0
          },
          "fairness_indicators_metrics/false_omission_rate@0.9": {
           "doubleValue": 0.8159509202453987
          },
          "fairness_indicators_metrics/false_positive_rate@0.5": {
           "doubleValue": 1.0
          },
          "fairness_indicators_metrics/false_positive_rate@0.9": {
           "doubleValue": 0.9486740804106074
          },
          "fairness_indicators_metrics/negative_rate@0.5": {
           "doubleValue": 4.462891060829205e-05
          },
          "fairness_indicators_metrics/negative_rate@0.9": {
           "doubleValue": 0.014549024858303209
          },
          "fairness_indicators_metrics/positive_rate@0.5": {
           "doubleValue": 0.9999553710893917
          },
          "fairness_indicators_metrics/positive_rate@0.9": {
           "doubleValue": 0.9854509751416968
          },
          "fairness_indicators_metrics/precision@0.5": {
           "doubleValue": 0.9478264750513256
          },
          "fairness_indicators_metrics/precision@0.9": {
           "doubleValue": 0.9497758253702278
          },
          "fairness_indicators_metrics/recall@0.5": {
           "doubleValue": 0.9999529145870609
          },
          "fairness_indicators_metrics/recall@0.9": {
           "doubleValue": 0.987475280158207
          },
          "fairness_indicators_metrics/true_negative_rate@0.5": {
           "doubleValue": 0.0
          },
          "fairness_indicators_metrics/true_negative_rate@0.9": {
           "doubleValue": 0.05132591958939264
          },
          "fairness_indicators_metrics/true_positive_rate@0.5": {
           "doubleValue": 0.9999529145870609
          },
          "fairness_indicators_metrics/true_positive_rate@0.9": {
           "doubleValue": 0.987475280158207
          }
         },
         "slice": "Overall",
         "sliceValue": "Overall"
        },
        {
         "metrics": {
          "auc": {
           "doubleValue": 0.5987963757226048
          },
          "fairness_indicators_metrics/false_discovery_rate@0.5": {
           "doubleValue": 0.03360940422121293
          },
          "fairness_indicators_metrics/false_discovery_rate@0.9": {
           "doubleValue": 0.03316050982933679
          },
          "fairness_indicators_metrics/false_negative_rate@0.5": {
           "doubleValue": 5.52883286338254e-05
          },
          "fairness_indicators_metrics/false_negative_rate@0.9": {
           "doubleValue": 0.010228340797257698
          },
          "fairness_indicators_metrics/false_omission_rate@0.5": {
           "doubleValue": 1.0
          },
          "fairness_indicators_metrics/false_omission_rate@0.9": {
           "doubleValue": 0.925
          },
          "fairness_indicators_metrics/false_positive_rate@0.5": {
           "doubleValue": 1.0
          },
          "fairness_indicators_metrics/false_positive_rate@0.9": {
           "doubleValue": 0.9761526232114467
          },
          "fairness_indicators_metrics/negative_rate@0.5": {
           "doubleValue": 5.3430220132506944e-05
          },
          "fairness_indicators_metrics/negative_rate@0.9": {
           "doubleValue": 0.010686044026501388
          },
          "fairness_indicators_metrics/positive_rate@0.5": {
           "doubleValue": 0.9999465697798675
          },
          "fairness_indicators_metrics/positive_rate@0.9": {
           "doubleValue": 0.9893139559734986
          },
          "fairness_indicators_metrics/precision@0.5": {
           "doubleValue": 0.966390595778787
          },
          "fairness_indicators_metrics/precision@0.9": {
           "doubleValue": 0.9668394901706632
          },
          "fairness_indicators_metrics/recall@0.5": {
           "doubleValue": 0.9999447116713662
          },
          "fairness_indicators_metrics/recall@0.9": {
           "doubleValue": 0.9897716592027423
          },
          "fairness_indicators_metrics/true_negative_rate@0.5": {
           "doubleValue": 0.0
          },
          "fairness_indicators_metrics/true_negative_rate@0.9": {
           "doubleValue": 0.02384737678855326
          },
          "fairness_indicators_metrics/true_positive_rate@0.5": {
           "doubleValue": 0.9999447116713662
          },
          "fairness_indicators_metrics/true_positive_rate@0.9": {
           "doubleValue": 0.9897716592027423
          }
         },
         "slice": "race1:white",
         "sliceValue": "white"
        },
        {
         "metrics": {
          "auc": {
           "doubleValue": 0.5754179991657398
          },
          "fairness_indicators_metrics/false_discovery_rate@0.5": {
           "doubleValue": 0.124634858812074
          },
          "fairness_indicators_metrics/false_discovery_rate@0.9": {
           "doubleValue": 0.12139303482587065
          },
          "fairness_indicators_metrics/false_negative_rate@0.5": {
           "doubleValue": 0.0
          },
          "fairness_indicators_metrics/false_negative_rate@0.9": {
           "doubleValue": 0.017797552836484983
          },
          "fairness_indicators_metrics/false_omission_rate@0.5": {
           "doubleValue": "NaN"
          },
          "fairness_indicators_metrics/false_omission_rate@0.9": {
           "doubleValue": 0.7272727272727273
          },
          "fairness_indicators_metrics/false_positive_rate@0.5": {
           "doubleValue": 1.0
          },
          "fairness_indicators_metrics/false_positive_rate@0.9": {
           "doubleValue": 0.953125
          },
          "fairness_indicators_metrics/negative_rate@0.5": {
           "doubleValue": 0.0
          },
          "fairness_indicators_metrics/negative_rate@0.9": {
           "doubleValue": 0.021421616358325218
          },
          "fairness_indicators_metrics/positive_rate@0.5": {
           "doubleValue": 1.0
          },
          "fairness_indicators_metrics/positive_rate@0.9": {
           "doubleValue": 0.9785783836416748
          },
          "fairness_indicators_metrics/precision@0.5": {
           "doubleValue": 0.875365141187926
          },
          "fairness_indicators_metrics/precision@0.9": {
           "doubleValue": 0.8786069651741294
          },
          "fairness_indicators_metrics/recall@0.5": {
           "doubleValue": 1.0
          },
          "fairness_indicators_metrics/recall@0.9": {
           "doubleValue": 0.982202447163515
          },
          "fairness_indicators_metrics/true_negative_rate@0.5": {
           "doubleValue": 0.0
          },
          "fairness_indicators_metrics/true_negative_rate@0.9": {
           "doubleValue": 0.046875
          },
          "fairness_indicators_metrics/true_positive_rate@0.5": {
           "doubleValue": 1.0
          },
          "fairness_indicators_metrics/true_positive_rate@0.9": {
           "doubleValue": 0.982202447163515
          }
         },
         "slice": "race1:hisp",
         "sliceValue": "hisp"
        },
        {
         "metrics": {
          "auc": {
           "doubleValue": 0.5817844187251685
          },
          "fairness_indicators_metrics/false_discovery_rate@0.5": {
           "doubleValue": 0.07803790412486064
          },
          "fairness_indicators_metrics/false_discovery_rate@0.9": {
           "doubleValue": 0.07674943566591422
          },
          "fairness_indicators_metrics/false_negative_rate@0.5": {
           "doubleValue": 0.0
          },
          "fairness_indicators_metrics/false_negative_rate@0.9": {
           "doubleValue": 0.010882708585247884
          },
          "fairness_indicators_metrics/false_omission_rate@0.5": {
           "doubleValue": "NaN"
          },
          "fairness_indicators_metrics/false_omission_rate@0.9": {
           "doubleValue": 0.8181818181818182
          },
          "fairness_indicators_metrics/false_positive_rate@0.5": {
           "doubleValue": 1.0
          },
          "fairness_indicators_metrics/false_positive_rate@0.9": {
           "doubleValue": 0.9714285714285714
          },
          "fairness_indicators_metrics/negative_rate@0.5": {
           "doubleValue": 0.0
          },
          "fairness_indicators_metrics/negative_rate@0.9": {
           "doubleValue": 0.012263099219620958
          },
          "fairness_indicators_metrics/positive_rate@0.5": {
           "doubleValue": 1.0
          },
          "fairness_indicators_metrics/positive_rate@0.9": {
           "doubleValue": 0.987736900780379
          },
          "fairness_indicators_metrics/precision@0.5": {
           "doubleValue": 0.9219620958751393
          },
          "fairness_indicators_metrics/precision@0.9": {
           "doubleValue": 0.9232505643340858
          },
          "fairness_indicators_metrics/recall@0.5": {
           "doubleValue": 1.0
          },
          "fairness_indicators_metrics/recall@0.9": {
           "doubleValue": 0.9891172914147521
          },
          "fairness_indicators_metrics/true_negative_rate@0.5": {
           "doubleValue": 0.0
          },
          "fairness_indicators_metrics/true_negative_rate@0.9": {
           "doubleValue": 0.02857142857142857
          },
          "fairness_indicators_metrics/true_positive_rate@0.5": {
           "doubleValue": 1.0
          },
          "fairness_indicators_metrics/true_positive_rate@0.9": {
           "doubleValue": 0.9891172914147521
          }
         },
         "slice": "race1:asian",
         "sliceValue": "asian"
        },
        {
         "metrics": {
          "auc": {
           "doubleValue": 0.5779294178093191
          },
          "fairness_indicators_metrics/false_discovery_rate@0.5": {
           "doubleValue": 0.22189128816083395
          },
          "fairness_indicators_metrics/false_discovery_rate@0.9": {
           "doubleValue": 0.21048451151707703
          },
          "fairness_indicators_metrics/false_negative_rate@0.5": {
           "doubleValue": 0.0
          },
          "fairness_indicators_metrics/false_negative_rate@0.9": {
           "doubleValue": 0.04880382775119617
          },
          "fairness_indicators_metrics/false_omission_rate@0.5": {
           "doubleValue": "NaN"
          },
          "fairness_indicators_metrics/false_omission_rate@0.9": {
           "doubleValue": 0.6071428571428571
          },
          "fairness_indicators_metrics/false_positive_rate@0.5": {
           "doubleValue": 1.0
          },
          "fairness_indicators_metrics/false_positive_rate@0.9": {
           "doubleValue": 0.889261744966443
          },
          "fairness_indicators_metrics/negative_rate@0.5": {
           "doubleValue": 0.0
          },
          "fairness_indicators_metrics/negative_rate@0.9": {
           "doubleValue": 0.06254653760238273
          },
          "fairness_indicators_metrics/positive_rate@0.5": {
           "doubleValue": 1.0
          },
          "fairness_indicators_metrics/positive_rate@0.9": {
           "doubleValue": 0.9374534623976173
          },
          "fairness_indicators_metrics/precision@0.5": {
           "doubleValue": 0.7781087118391661
          },
          "fairness_indicators_metrics/precision@0.9": {
           "doubleValue": 0.789515488482923
          },
          "fairness_indicators_metrics/recall@0.5": {
           "doubleValue": 1.0
          },
          "fairness_indicators_metrics/recall@0.9": {
           "doubleValue": 0.9511961722488038
          },
          "fairness_indicators_metrics/true_negative_rate@0.5": {
           "doubleValue": 0.0
          },
          "fairness_indicators_metrics/true_negative_rate@0.9": {
           "doubleValue": 0.11073825503355705
          },
          "fairness_indicators_metrics/true_positive_rate@0.5": {
           "doubleValue": 1.0
          },
          "fairness_indicators_metrics/true_positive_rate@0.9": {
           "doubleValue": 0.9511961722488038
          }
         },
         "slice": "race1:black",
         "sliceValue": "black"
        },
        {
         "metrics": {
          "auc": {
           "doubleValue": 0.7142857142857143
          },
          "fairness_indicators_metrics/false_discovery_rate@0.5": {
           "doubleValue": 0.125
          },
          "fairness_indicators_metrics/false_discovery_rate@0.9": {
           "doubleValue": 0.125
          },
          "fairness_indicators_metrics/false_negative_rate@0.5": {
           "doubleValue": 0.0
          },
          "fairness_indicators_metrics/false_negative_rate@0.9": {
           "doubleValue": 0.0
          },
          "fairness_indicators_metrics/false_omission_rate@0.5": {
           "doubleValue": "NaN"
          },
          "fairness_indicators_metrics/false_omission_rate@0.9": {
           "doubleValue": "NaN"
          },
          "fairness_indicators_metrics/false_positive_rate@0.5": {
           "doubleValue": 1.0
          },
          "fairness_indicators_metrics/false_positive_rate@0.9": {
           "doubleValue": 1.0
          },
          "fairness_indicators_metrics/negative_rate@0.5": {
           "doubleValue": 0.0
          },
          "fairness_indicators_metrics/negative_rate@0.9": {
           "doubleValue": 0.0
          },
          "fairness_indicators_metrics/positive_rate@0.5": {
           "doubleValue": 1.0
          },
          "fairness_indicators_metrics/positive_rate@0.9": {
           "doubleValue": 1.0
          },
          "fairness_indicators_metrics/precision@0.5": {
           "doubleValue": 0.875
          },
          "fairness_indicators_metrics/precision@0.9": {
           "doubleValue": 0.875
          },
          "fairness_indicators_metrics/recall@0.5": {
           "doubleValue": 1.0
          },
          "fairness_indicators_metrics/recall@0.9": {
           "doubleValue": 1.0
          },
          "fairness_indicators_metrics/true_negative_rate@0.5": {
           "doubleValue": 0.0
          },
          "fairness_indicators_metrics/true_negative_rate@0.9": {
           "doubleValue": 0.0
          },
          "fairness_indicators_metrics/true_positive_rate@0.5": {
           "doubleValue": 1.0
          },
          "fairness_indicators_metrics/true_positive_rate@0.9": {
           "doubleValue": 1.0
          }
         },
         "slice": "race1:nan",
         "sliceValue": "nan"
        },
        {
         "metrics": {
          "auc": {
           "doubleValue": 0.6389539422326307
          },
          "fairness_indicators_metrics/false_discovery_rate@0.5": {
           "doubleValue": 0.10294117647058823
          },
          "fairness_indicators_metrics/false_discovery_rate@0.9": {
           "doubleValue": 0.09523809523809523
          },
          "fairness_indicators_metrics/false_negative_rate@0.5": {
           "doubleValue": 0.0
          },
          "fairness_indicators_metrics/false_negative_rate@0.9": {
           "doubleValue": 0.01366120218579235
          },
          "fairness_indicators_metrics/false_omission_rate@0.5": {
           "doubleValue": "NaN"
          },
          "fairness_indicators_metrics/false_omission_rate@0.9": {
           "doubleValue": 0.5555555555555556
          },
          "fairness_indicators_metrics/false_positive_rate@0.5": {
           "doubleValue": 1.0
          },
          "fairness_indicators_metrics/false_positive_rate@0.9": {
           "doubleValue": 0.9047619047619048
          },
          "fairness_indicators_metrics/negative_rate@0.5": {
           "doubleValue": 0.0
          },
          "fairness_indicators_metrics/negative_rate@0.9": {
           "doubleValue": 0.022058823529411766
          },
          "fairness_indicators_metrics/positive_rate@0.5": {
           "doubleValue": 1.0
          },
          "fairness_indicators_metrics/positive_rate@0.9": {
           "doubleValue": 0.9779411764705882
          },
          "fairness_indicators_metrics/precision@0.5": {
           "doubleValue": 0.8970588235294118
          },
          "fairness_indicators_metrics/precision@0.9": {
           "doubleValue": 0.9047619047619048
          },
          "fairness_indicators_metrics/recall@0.5": {
           "doubleValue": 1.0
          },
          "fairness_indicators_metrics/recall@0.9": {
           "doubleValue": 0.9863387978142076
          },
          "fairness_indicators_metrics/true_negative_rate@0.5": {
           "doubleValue": 0.0
          },
          "fairness_indicators_metrics/true_negative_rate@0.9": {
           "doubleValue": 0.09523809523809523
          },
          "fairness_indicators_metrics/true_positive_rate@0.5": {
           "doubleValue": 1.0
          },
          "fairness_indicators_metrics/true_positive_rate@0.9": {
           "doubleValue": 0.9863387978142076
          }
         },
         "slice": "race1:other",
         "sliceValue": "other"
        }
       ],
       "slicingMetricsCompare": []
      }
     }
    },
    "version_major": 2,
    "version_minor": 0
   }
  }
 },
 "nbformat": 4,
 "nbformat_minor": 0
}
