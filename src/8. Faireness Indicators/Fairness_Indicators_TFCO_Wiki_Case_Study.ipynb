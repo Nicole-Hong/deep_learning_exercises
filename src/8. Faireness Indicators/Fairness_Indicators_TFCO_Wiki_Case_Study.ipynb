{
 "cells": [
  {
   "cell_type": "markdown",
   "metadata": {
    "id": "jMqk3Z8EciF8"
   },
   "source": [
    "##### Copyright 2020 The TensorFlow Authors."
   ]
  },
  {
   "cell_type": "code",
   "execution_count": 1,
   "metadata": {
    "execution": {
     "iopub.execute_input": "2022-05-07T09:12:32.716905Z",
     "iopub.status.busy": "2022-05-07T09:12:32.716239Z",
     "iopub.status.idle": "2022-05-07T09:12:32.720819Z",
     "shell.execute_reply": "2022-05-07T09:12:32.720072Z"
    },
    "id": "XbpNOB-vJVKu"
   },
   "outputs": [],
   "source": [
    "#@title Licensed under the Apache License, Version 2.0 (the \"License\");\n",
    "# you may not use this file except in compliance with the License.\n",
    "# You may obtain a copy of the License at\n",
    "#\n",
    "# https://www.apache.org/licenses/LICENSE-2.0\n",
    "#\n",
    "# Unless required by applicable law or agreed to in writing, software\n",
    "# distributed under the License is distributed on an \"AS IS\" BASIS,\n",
    "# WITHOUT WARRANTIES OR CONDITIONS OF ANY KIND, either express or implied.\n",
    "# See the License for the specific language governing permissions and\n",
    "# limitations under the License."
   ]
  },
  {
   "cell_type": "markdown",
   "metadata": {
    "id": "bqdaOVRxWs8v"
   },
   "source": [
    "# Wiki Talk Comments Toxicity Prediction"
   ]
  },
  {
   "cell_type": "markdown",
   "metadata": {
    "id": "EG_KEDkodWsT"
   },
   "source": [
    "<table class=\"tfo-notebook-buttons\" align=\"left\">\n",
    "  <td>\n",
    "    <a target=\"_blank\" href=\"https://www.tensorflow.org/responsible_ai/fairness_indicators/tutorials/Fairness_Indicators_TFCO_Wiki_Case_Study\"><img src=\"https://www.tensorflow.org/images/tf_logo_32px.png\" />View on TensorFlow.org</a>\n",
    "  </td>\n",
    "  <td>\n",
    "    <a target=\"_blank\" href=\"https://colab.research.google.com/github/tensorflow/fairness-indicators/blob/master/g3doc/tutorials/Fairness_Indicators_TFCO_Wiki_Case_Study.ipynb\"><img src=\"https://www.tensorflow.org/images/colab_logo_32px.png\" />Run in Google Colab</a>\n",
    "  </td>\n",
    "  <td>\n",
    "    <a target=\"_blank\" href=\"https://github.com/tensorflow/fairness-indicators/tree/master/g3doc/tutorials/Fairness_Indicators_TFCO_Wiki_Case_Study.ipynb\"><img src=\"https://www.tensorflow.org/images/GitHub-Mark-32px.png\" />View on GitHub</a>\n",
    "  </td>\n",
    "  <td>\n",
    "    <a href=\"https://storage.googleapis.com/tensorflow_docs/fairness-indicators/g3doc/tutorials/Fairness_Indicators_TFCO_Wiki_Case_Study.ipynb\"><img src=\"https://www.tensorflow.org/images/download_logo_32px.png\" />Download notebook</a>\n",
    "  </td>\n",
    "</table>"
   ]
  },
  {
   "cell_type": "markdown",
   "metadata": {
    "id": "y6T5tlXcdW7J"
   },
   "source": [
    "In this example, we consider the task of predicting whether a discussion comment posted on a Wiki talk page contains toxic content (i.e. contains content that is “rude, disrespectful or unreasonable”). We use a public <a href=\"https://figshare.com/articles/Wikipedia_Talk_Labels_Toxicity/4563973\">dataset</a> released by the <a href=\"https://conversationai.github.io/\">Conversation AI</a> project, which contains over 100k comments from the English Wikipedia that are annotated by crowd workers  (see [paper](https://arxiv.org/pdf/1610.08914.pdf) for labeling methodology).\n",
    "\n",
    "One of the challenges with this dataset is that a very small proportion of the comments cover sensitive topics such as sexuality or religion. As such, training a neural network model on this dataset leads to disparate performance on the smaller sensitive topics. This can mean that innocuous statements about those topics might get incorrectly flagged as ‘toxic’ at higher rates, causing speech to be unfairly censored\n",
    "\n",
    "By imposing constraints during training, we can train a *fairer* model that performs more equitably across the different topic groups. \n",
    "\n",
    "We will use the TFCO library to optimize for our fairness goal during training."
   ]
  },
  {
   "cell_type": "markdown",
   "metadata": {
    "id": "DG_C2gsAKV7x"
   },
   "source": [
    "## Installation\n",
    "\n",
    "Let's first install and import the relevant libraries. Note that you may have to restart your colab once after running the first cell because of outdated packages in the runtime. After doing so, there should be no further issues with imports."
   ]
  },
  {
   "cell_type": "code",
   "execution_count": 2,
   "metadata": {
    "execution": {
     "iopub.execute_input": "2022-05-07T09:12:32.724477Z",
     "iopub.status.busy": "2022-05-07T09:12:32.723986Z",
     "iopub.status.idle": "2022-05-07T09:12:45.787927Z",
     "shell.execute_reply": "2022-05-07T09:12:45.787006Z"
    },
    "id": "0XOLn8Pyrc_s"
   },
   "outputs": [
    {
     "name": "stdout",
     "output_type": "stream",
     "text": [
      "Collecting git+https://github.com/google-research/tensorflow_constrained_optimization\r\n",
      "  Cloning https://github.com/google-research/tensorflow_constrained_optimization to /tmp/pip-req-build-hetzndnb\r\n",
      "  Running command git clone --filter=blob:none --quiet https://github.com/google-research/tensorflow_constrained_optimization /tmp/pip-req-build-hetzndnb\r\n"
     ]
    },
    {
     "name": "stdout",
     "output_type": "stream",
     "text": [
      "  Resolved https://github.com/google-research/tensorflow_constrained_optimization to commit 723d63f8567aaa988c4ce4761152beee2b462e1d\r\n"
     ]
    },
    {
     "name": "stdout",
     "output_type": "stream",
     "text": [
      "  Preparing metadata (setup.py) ... \u001b[?25l-"
     ]
    },
    {
     "name": "stdout",
     "output_type": "stream",
     "text": [
      "\b \b\\"
     ]
    },
    {
     "name": "stdout",
     "output_type": "stream",
     "text": [
      "\b \b|"
     ]
    },
    {
     "name": "stdout",
     "output_type": "stream",
     "text": [
      "\b \bdone\r\n",
      "\u001b[?25hRequirement already satisfied: numpy in /tmpfs/src/tf_docs_env/lib/python3.7/site-packages (from tfco-nightly==0.3.dev20220507) (1.21.6)\r\n",
      "Requirement already satisfied: scipy in /tmpfs/src/tf_docs_env/lib/python3.7/site-packages (from tfco-nightly==0.3.dev20220507) (1.7.3)\r\n",
      "Requirement already satisfied: six in /tmpfs/src/tf_docs_env/lib/python3.7/site-packages (from tfco-nightly==0.3.dev20220507) (1.16.0)\r\n",
      "Requirement already satisfied: tensorflow>=1.14 in /tmpfs/src/tf_docs_env/lib/python3.7/site-packages (from tfco-nightly==0.3.dev20220507) (2.9.0rc2)\r\n"
     ]
    },
    {
     "name": "stdout",
     "output_type": "stream",
     "text": [
      "Requirement already satisfied: protobuf>=3.9.2 in /tmpfs/src/tf_docs_env/lib/python3.7/site-packages (from tensorflow>=1.14->tfco-nightly==0.3.dev20220507) (3.20.1)\r\n",
      "Requirement already satisfied: google-pasta>=0.1.1 in /tmpfs/src/tf_docs_env/lib/python3.7/site-packages (from tensorflow>=1.14->tfco-nightly==0.3.dev20220507) (0.2.0)\r\n",
      "Requirement already satisfied: tensorflow-io-gcs-filesystem>=0.23.1 in /tmpfs/src/tf_docs_env/lib/python3.7/site-packages (from tensorflow>=1.14->tfco-nightly==0.3.dev20220507) (0.25.0)\r\n",
      "Requirement already satisfied: packaging in /tmpfs/src/tf_docs_env/lib/python3.7/site-packages (from tensorflow>=1.14->tfco-nightly==0.3.dev20220507) (21.3)\r\n",
      "Requirement already satisfied: astunparse>=1.6.0 in /tmpfs/src/tf_docs_env/lib/python3.7/site-packages (from tensorflow>=1.14->tfco-nightly==0.3.dev20220507) (1.6.3)\r\n",
      "Requirement already satisfied: h5py>=2.9.0 in /tmpfs/src/tf_docs_env/lib/python3.7/site-packages (from tensorflow>=1.14->tfco-nightly==0.3.dev20220507) (3.6.0)\r\n",
      "Requirement already satisfied: absl-py>=1.0.0 in /tmpfs/src/tf_docs_env/lib/python3.7/site-packages (from tensorflow>=1.14->tfco-nightly==0.3.dev20220507) (1.0.0)\r\n",
      "Requirement already satisfied: setuptools in /tmpfs/src/tf_docs_env/lib/python3.7/site-packages (from tensorflow>=1.14->tfco-nightly==0.3.dev20220507) (62.1.0)\r\n",
      "Requirement already satisfied: libclang>=13.0.0 in /tmpfs/src/tf_docs_env/lib/python3.7/site-packages (from tensorflow>=1.14->tfco-nightly==0.3.dev20220507) (14.0.1)\r\n",
      "Requirement already satisfied: keras-preprocessing>=1.1.1 in /tmpfs/src/tf_docs_env/lib/python3.7/site-packages (from tensorflow>=1.14->tfco-nightly==0.3.dev20220507) (1.1.2)\r\n",
      "Requirement already satisfied: tensorflow-estimator<2.10.0,>=2.9.0rc0 in /tmpfs/src/tf_docs_env/lib/python3.7/site-packages (from tensorflow>=1.14->tfco-nightly==0.3.dev20220507) (2.9.0rc0)\r\n",
      "Requirement already satisfied: grpcio<2.0,>=1.24.3 in /tmpfs/src/tf_docs_env/lib/python3.7/site-packages (from tensorflow>=1.14->tfco-nightly==0.3.dev20220507) (1.46.0)\r\n",
      "Requirement already satisfied: keras<2.10.0,>=2.9.0rc0 in /tmpfs/src/tf_docs_env/lib/python3.7/site-packages (from tensorflow>=1.14->tfco-nightly==0.3.dev20220507) (2.9.0rc2)\r\n",
      "Requirement already satisfied: flatbuffers<2,>=1.12 in /tmpfs/src/tf_docs_env/lib/python3.7/site-packages (from tensorflow>=1.14->tfco-nightly==0.3.dev20220507) (1.12)\r\n",
      "Requirement already satisfied: typing-extensions>=3.6.6 in /tmpfs/src/tf_docs_env/lib/python3.7/site-packages (from tensorflow>=1.14->tfco-nightly==0.3.dev20220507) (4.2.0)\r\n",
      "Requirement already satisfied: gast<=0.4.0,>=0.2.1 in /tmpfs/src/tf_docs_env/lib/python3.7/site-packages (from tensorflow>=1.14->tfco-nightly==0.3.dev20220507) (0.4.0)\r\n",
      "Requirement already satisfied: termcolor>=1.1.0 in /tmpfs/src/tf_docs_env/lib/python3.7/site-packages (from tensorflow>=1.14->tfco-nightly==0.3.dev20220507) (1.1.0)\r\n",
      "Requirement already satisfied: opt-einsum>=2.3.2 in /tmpfs/src/tf_docs_env/lib/python3.7/site-packages (from tensorflow>=1.14->tfco-nightly==0.3.dev20220507) (3.3.0)\r\n",
      "Requirement already satisfied: tensorboard<2.9,>=2.8 in /tmpfs/src/tf_docs_env/lib/python3.7/site-packages (from tensorflow>=1.14->tfco-nightly==0.3.dev20220507) (2.8.0)\r\n",
      "Requirement already satisfied: wrapt>=1.11.0 in /tmpfs/src/tf_docs_env/lib/python3.7/site-packages (from tensorflow>=1.14->tfco-nightly==0.3.dev20220507) (1.14.1)\r\n",
      "Requirement already satisfied: wheel<1.0,>=0.23.0 in /tmpfs/src/tf_docs_env/lib/python3.7/site-packages (from astunparse>=1.6.0->tensorflow>=1.14->tfco-nightly==0.3.dev20220507) (0.37.1)\r\n",
      "Requirement already satisfied: cached-property in /tmpfs/src/tf_docs_env/lib/python3.7/site-packages (from h5py>=2.9.0->tensorflow>=1.14->tfco-nightly==0.3.dev20220507) (1.5.2)\r\n"
     ]
    },
    {
     "name": "stdout",
     "output_type": "stream",
     "text": [
      "Requirement already satisfied: werkzeug>=0.11.15 in /tmpfs/src/tf_docs_env/lib/python3.7/site-packages (from tensorboard<2.9,>=2.8->tensorflow>=1.14->tfco-nightly==0.3.dev20220507) (2.1.2)\r\n",
      "Requirement already satisfied: google-auth-oauthlib<0.5,>=0.4.1 in /tmpfs/src/tf_docs_env/lib/python3.7/site-packages (from tensorboard<2.9,>=2.8->tensorflow>=1.14->tfco-nightly==0.3.dev20220507) (0.4.6)\r\n",
      "Requirement already satisfied: tensorboard-plugin-wit>=1.6.0 in /tmpfs/src/tf_docs_env/lib/python3.7/site-packages (from tensorboard<2.9,>=2.8->tensorflow>=1.14->tfco-nightly==0.3.dev20220507) (1.8.1)\r\n",
      "Requirement already satisfied: requests<3,>=2.21.0 in /tmpfs/src/tf_docs_env/lib/python3.7/site-packages (from tensorboard<2.9,>=2.8->tensorflow>=1.14->tfco-nightly==0.3.dev20220507) (2.27.1)\r\n",
      "Requirement already satisfied: tensorboard-data-server<0.7.0,>=0.6.0 in /tmpfs/src/tf_docs_env/lib/python3.7/site-packages (from tensorboard<2.9,>=2.8->tensorflow>=1.14->tfco-nightly==0.3.dev20220507) (0.6.1)\r\n",
      "Requirement already satisfied: google-auth<3,>=1.6.3 in /tmpfs/src/tf_docs_env/lib/python3.7/site-packages (from tensorboard<2.9,>=2.8->tensorflow>=1.14->tfco-nightly==0.3.dev20220507) (1.35.0)\r\n",
      "Requirement already satisfied: markdown>=2.6.8 in /tmpfs/src/tf_docs_env/lib/python3.7/site-packages (from tensorboard<2.9,>=2.8->tensorflow>=1.14->tfco-nightly==0.3.dev20220507) (3.3.7)\r\n"
     ]
    },
    {
     "name": "stdout",
     "output_type": "stream",
     "text": [
      "Requirement already satisfied: pyparsing!=3.0.5,>=2.0.2 in /tmpfs/src/tf_docs_env/lib/python3.7/site-packages (from packaging->tensorflow>=1.14->tfco-nightly==0.3.dev20220507) (2.4.7)\r\n",
      "Requirement already satisfied: pyasn1-modules>=0.2.1 in /tmpfs/src/tf_docs_env/lib/python3.7/site-packages (from google-auth<3,>=1.6.3->tensorboard<2.9,>=2.8->tensorflow>=1.14->tfco-nightly==0.3.dev20220507) (0.2.8)\r\n",
      "Requirement already satisfied: cachetools<5.0,>=2.0.0 in /tmpfs/src/tf_docs_env/lib/python3.7/site-packages (from google-auth<3,>=1.6.3->tensorboard<2.9,>=2.8->tensorflow>=1.14->tfco-nightly==0.3.dev20220507) (4.2.4)\r\n",
      "Requirement already satisfied: rsa<5,>=3.1.4 in /tmpfs/src/tf_docs_env/lib/python3.7/site-packages (from google-auth<3,>=1.6.3->tensorboard<2.9,>=2.8->tensorflow>=1.14->tfco-nightly==0.3.dev20220507) (4.8)\r\n",
      "Requirement already satisfied: requests-oauthlib>=0.7.0 in /tmpfs/src/tf_docs_env/lib/python3.7/site-packages (from google-auth-oauthlib<0.5,>=0.4.1->tensorboard<2.9,>=2.8->tensorflow>=1.14->tfco-nightly==0.3.dev20220507) (1.3.1)\r\n",
      "Requirement already satisfied: importlib-metadata>=4.4 in /tmpfs/src/tf_docs_env/lib/python3.7/site-packages (from markdown>=2.6.8->tensorboard<2.9,>=2.8->tensorflow>=1.14->tfco-nightly==0.3.dev20220507) (4.11.3)\r\n"
     ]
    },
    {
     "name": "stdout",
     "output_type": "stream",
     "text": [
      "Requirement already satisfied: urllib3<1.27,>=1.21.1 in /tmpfs/src/tf_docs_env/lib/python3.7/site-packages (from requests<3,>=2.21.0->tensorboard<2.9,>=2.8->tensorflow>=1.14->tfco-nightly==0.3.dev20220507) (1.26.9)\r\n",
      "Requirement already satisfied: idna<4,>=2.5 in /tmpfs/src/tf_docs_env/lib/python3.7/site-packages (from requests<3,>=2.21.0->tensorboard<2.9,>=2.8->tensorflow>=1.14->tfco-nightly==0.3.dev20220507) (3.3)\r\n",
      "Requirement already satisfied: certifi>=2017.4.17 in /tmpfs/src/tf_docs_env/lib/python3.7/site-packages (from requests<3,>=2.21.0->tensorboard<2.9,>=2.8->tensorflow>=1.14->tfco-nightly==0.3.dev20220507) (2021.10.8)\r\n",
      "Requirement already satisfied: charset-normalizer~=2.0.0 in /tmpfs/src/tf_docs_env/lib/python3.7/site-packages (from requests<3,>=2.21.0->tensorboard<2.9,>=2.8->tensorflow>=1.14->tfco-nightly==0.3.dev20220507) (2.0.12)\r\n"
     ]
    },
    {
     "name": "stdout",
     "output_type": "stream",
     "text": [
      "Requirement already satisfied: zipp>=0.5 in /tmpfs/src/tf_docs_env/lib/python3.7/site-packages (from importlib-metadata>=4.4->markdown>=2.6.8->tensorboard<2.9,>=2.8->tensorflow>=1.14->tfco-nightly==0.3.dev20220507) (3.8.0)\r\n",
      "Requirement already satisfied: pyasn1<0.5.0,>=0.4.6 in /tmpfs/src/tf_docs_env/lib/python3.7/site-packages (from pyasn1-modules>=0.2.1->google-auth<3,>=1.6.3->tensorboard<2.9,>=2.8->tensorflow>=1.14->tfco-nightly==0.3.dev20220507) (0.4.8)\r\n",
      "Requirement already satisfied: oauthlib>=3.0.0 in /tmpfs/src/tf_docs_env/lib/python3.7/site-packages (from requests-oauthlib>=0.7.0->google-auth-oauthlib<0.5,>=0.4.1->tensorboard<2.9,>=2.8->tensorflow>=1.14->tfco-nightly==0.3.dev20220507) (3.2.0)\r\n"
     ]
    },
    {
     "name": "stdout",
     "output_type": "stream",
     "text": [
      "Collecting git+https://github.com/tensorflow/fairness-indicators\r\n",
      "  Cloning https://github.com/tensorflow/fairness-indicators to /tmp/pip-req-build-axsfo8rk\r\n",
      "  Running command git clone --filter=blob:none --quiet https://github.com/tensorflow/fairness-indicators /tmp/pip-req-build-axsfo8rk\r\n"
     ]
    },
    {
     "name": "stdout",
     "output_type": "stream",
     "text": [
      "  Resolved https://github.com/tensorflow/fairness-indicators to commit 742fd4eb9e69cbce66768a9d97b76d53d689a4f3\r\n"
     ]
    },
    {
     "name": "stdout",
     "output_type": "stream",
     "text": [
      "  Preparing metadata (setup.py) ... \u001b[?25l-"
     ]
    },
    {
     "name": "stdout",
     "output_type": "stream",
     "text": [
      "\b \b\\"
     ]
    },
    {
     "name": "stdout",
     "output_type": "stream",
     "text": [
      "\b \b|"
     ]
    },
    {
     "name": "stdout",
     "output_type": "stream",
     "text": [
      "\b \b/"
     ]
    },
    {
     "name": "stdout",
     "output_type": "stream",
     "text": [
      "\b \bdone\r\n",
      "\u001b[?25hRequirement already satisfied: tensorflow!=2.0.*,!=2.1.*,!=2.2.*,!=2.3.*,!=2.4.*,!=2.5.*,!=2.6.*,!=2.7.*,<3,>=1.15.5 in /tmpfs/src/tf_docs_env/lib/python3.7/site-packages (from fairness-indicators==0.39.0.dev0) (2.9.0rc2)\r\n",
      "Requirement already satisfied: tensorflow-hub<1.0.0,>=0.8.0 in /tmpfs/src/tf_docs_env/lib/python3.7/site-packages (from fairness-indicators==0.39.0.dev0) (0.12.0)\r\n",
      "Requirement already satisfied: tensorflow-data-validation<1.8.0,>=1.7.0 in /tmpfs/src/tf_docs_env/lib/python3.7/site-packages (from fairness-indicators==0.39.0.dev0) (1.7.0)\r\n",
      "Requirement already satisfied: tensorflow-model-analysis<0.39,>=0.38 in /tmpfs/src/tf_docs_env/lib/python3.7/site-packages (from fairness-indicators==0.39.0.dev0) (0.38.0)\r\n",
      "Requirement already satisfied: witwidget<2,>=1.4.4 in /tmpfs/src/tf_docs_env/lib/python3.7/site-packages (from fairness-indicators==0.39.0.dev0) (1.8.1)\r\n",
      "Requirement already satisfied: protobuf<4,>=3.13 in /tmpfs/src/tf_docs_env/lib/python3.7/site-packages (from fairness-indicators==0.39.0.dev0) (3.20.1)\r\n"
     ]
    },
    {
     "name": "stdout",
     "output_type": "stream",
     "text": [
      "Requirement already satisfied: six>=1.12.0 in /tmpfs/src/tf_docs_env/lib/python3.7/site-packages (from tensorflow!=2.0.*,!=2.1.*,!=2.2.*,!=2.3.*,!=2.4.*,!=2.5.*,!=2.6.*,!=2.7.*,<3,>=1.15.5->fairness-indicators==0.39.0.dev0) (1.16.0)\r\n",
      "Requirement already satisfied: termcolor>=1.1.0 in /tmpfs/src/tf_docs_env/lib/python3.7/site-packages (from tensorflow!=2.0.*,!=2.1.*,!=2.2.*,!=2.3.*,!=2.4.*,!=2.5.*,!=2.6.*,!=2.7.*,<3,>=1.15.5->fairness-indicators==0.39.0.dev0) (1.1.0)\r\n",
      "Requirement already satisfied: keras-preprocessing>=1.1.1 in /tmpfs/src/tf_docs_env/lib/python3.7/site-packages (from tensorflow!=2.0.*,!=2.1.*,!=2.2.*,!=2.3.*,!=2.4.*,!=2.5.*,!=2.6.*,!=2.7.*,<3,>=1.15.5->fairness-indicators==0.39.0.dev0) (1.1.2)\r\n",
      "Requirement already satisfied: grpcio<2.0,>=1.24.3 in /tmpfs/src/tf_docs_env/lib/python3.7/site-packages (from tensorflow!=2.0.*,!=2.1.*,!=2.2.*,!=2.3.*,!=2.4.*,!=2.5.*,!=2.6.*,!=2.7.*,<3,>=1.15.5->fairness-indicators==0.39.0.dev0) (1.46.0)\r\n",
      "Requirement already satisfied: wrapt>=1.11.0 in /tmpfs/src/tf_docs_env/lib/python3.7/site-packages (from tensorflow!=2.0.*,!=2.1.*,!=2.2.*,!=2.3.*,!=2.4.*,!=2.5.*,!=2.6.*,!=2.7.*,<3,>=1.15.5->fairness-indicators==0.39.0.dev0) (1.14.1)\r\n",
      "Requirement already satisfied: flatbuffers<2,>=1.12 in /tmpfs/src/tf_docs_env/lib/python3.7/site-packages (from tensorflow!=2.0.*,!=2.1.*,!=2.2.*,!=2.3.*,!=2.4.*,!=2.5.*,!=2.6.*,!=2.7.*,<3,>=1.15.5->fairness-indicators==0.39.0.dev0) (1.12)\r\n",
      "Requirement already satisfied: tensorboard<2.9,>=2.8 in /tmpfs/src/tf_docs_env/lib/python3.7/site-packages (from tensorflow!=2.0.*,!=2.1.*,!=2.2.*,!=2.3.*,!=2.4.*,!=2.5.*,!=2.6.*,!=2.7.*,<3,>=1.15.5->fairness-indicators==0.39.0.dev0) (2.8.0)\r\n",
      "Requirement already satisfied: typing-extensions>=3.6.6 in /tmpfs/src/tf_docs_env/lib/python3.7/site-packages (from tensorflow!=2.0.*,!=2.1.*,!=2.2.*,!=2.3.*,!=2.4.*,!=2.5.*,!=2.6.*,!=2.7.*,<3,>=1.15.5->fairness-indicators==0.39.0.dev0) (4.2.0)\r\n",
      "Requirement already satisfied: google-pasta>=0.1.1 in /tmpfs/src/tf_docs_env/lib/python3.7/site-packages (from tensorflow!=2.0.*,!=2.1.*,!=2.2.*,!=2.3.*,!=2.4.*,!=2.5.*,!=2.6.*,!=2.7.*,<3,>=1.15.5->fairness-indicators==0.39.0.dev0) (0.2.0)\r\n",
      "Requirement already satisfied: tensorflow-estimator<2.10.0,>=2.9.0rc0 in /tmpfs/src/tf_docs_env/lib/python3.7/site-packages (from tensorflow!=2.0.*,!=2.1.*,!=2.2.*,!=2.3.*,!=2.4.*,!=2.5.*,!=2.6.*,!=2.7.*,<3,>=1.15.5->fairness-indicators==0.39.0.dev0) (2.9.0rc0)\r\n",
      "Requirement already satisfied: gast<=0.4.0,>=0.2.1 in /tmpfs/src/tf_docs_env/lib/python3.7/site-packages (from tensorflow!=2.0.*,!=2.1.*,!=2.2.*,!=2.3.*,!=2.4.*,!=2.5.*,!=2.6.*,!=2.7.*,<3,>=1.15.5->fairness-indicators==0.39.0.dev0) (0.4.0)\r\n",
      "Requirement already satisfied: libclang>=13.0.0 in /tmpfs/src/tf_docs_env/lib/python3.7/site-packages (from tensorflow!=2.0.*,!=2.1.*,!=2.2.*,!=2.3.*,!=2.4.*,!=2.5.*,!=2.6.*,!=2.7.*,<3,>=1.15.5->fairness-indicators==0.39.0.dev0) (14.0.1)\r\n",
      "Requirement already satisfied: keras<2.10.0,>=2.9.0rc0 in /tmpfs/src/tf_docs_env/lib/python3.7/site-packages (from tensorflow!=2.0.*,!=2.1.*,!=2.2.*,!=2.3.*,!=2.4.*,!=2.5.*,!=2.6.*,!=2.7.*,<3,>=1.15.5->fairness-indicators==0.39.0.dev0) (2.9.0rc2)\r\n",
      "Requirement already satisfied: opt-einsum>=2.3.2 in /tmpfs/src/tf_docs_env/lib/python3.7/site-packages (from tensorflow!=2.0.*,!=2.1.*,!=2.2.*,!=2.3.*,!=2.4.*,!=2.5.*,!=2.6.*,!=2.7.*,<3,>=1.15.5->fairness-indicators==0.39.0.dev0) (3.3.0)\r\n",
      "Requirement already satisfied: tensorflow-io-gcs-filesystem>=0.23.1 in /tmpfs/src/tf_docs_env/lib/python3.7/site-packages (from tensorflow!=2.0.*,!=2.1.*,!=2.2.*,!=2.3.*,!=2.4.*,!=2.5.*,!=2.6.*,!=2.7.*,<3,>=1.15.5->fairness-indicators==0.39.0.dev0) (0.25.0)\r\n",
      "Requirement already satisfied: absl-py>=1.0.0 in /tmpfs/src/tf_docs_env/lib/python3.7/site-packages (from tensorflow!=2.0.*,!=2.1.*,!=2.2.*,!=2.3.*,!=2.4.*,!=2.5.*,!=2.6.*,!=2.7.*,<3,>=1.15.5->fairness-indicators==0.39.0.dev0) (1.0.0)\r\n",
      "Requirement already satisfied: h5py>=2.9.0 in /tmpfs/src/tf_docs_env/lib/python3.7/site-packages (from tensorflow!=2.0.*,!=2.1.*,!=2.2.*,!=2.3.*,!=2.4.*,!=2.5.*,!=2.6.*,!=2.7.*,<3,>=1.15.5->fairness-indicators==0.39.0.dev0) (3.6.0)\r\n",
      "Requirement already satisfied: astunparse>=1.6.0 in /tmpfs/src/tf_docs_env/lib/python3.7/site-packages (from tensorflow!=2.0.*,!=2.1.*,!=2.2.*,!=2.3.*,!=2.4.*,!=2.5.*,!=2.6.*,!=2.7.*,<3,>=1.15.5->fairness-indicators==0.39.0.dev0) (1.6.3)\r\n",
      "Requirement already satisfied: numpy>=1.20 in /tmpfs/src/tf_docs_env/lib/python3.7/site-packages (from tensorflow!=2.0.*,!=2.1.*,!=2.2.*,!=2.3.*,!=2.4.*,!=2.5.*,!=2.6.*,!=2.7.*,<3,>=1.15.5->fairness-indicators==0.39.0.dev0) (1.21.6)\r\n",
      "Requirement already satisfied: setuptools in /tmpfs/src/tf_docs_env/lib/python3.7/site-packages (from tensorflow!=2.0.*,!=2.1.*,!=2.2.*,!=2.3.*,!=2.4.*,!=2.5.*,!=2.6.*,!=2.7.*,<3,>=1.15.5->fairness-indicators==0.39.0.dev0) (62.1.0)\r\n",
      "Requirement already satisfied: packaging in /tmpfs/src/tf_docs_env/lib/python3.7/site-packages (from tensorflow!=2.0.*,!=2.1.*,!=2.2.*,!=2.3.*,!=2.4.*,!=2.5.*,!=2.6.*,!=2.7.*,<3,>=1.15.5->fairness-indicators==0.39.0.dev0) (21.3)\r\n"
     ]
    },
    {
     "name": "stdout",
     "output_type": "stream",
     "text": [
      "Requirement already satisfied: joblib<0.15,>=0.12 in /tmpfs/src/tf_docs_env/lib/python3.7/site-packages (from tensorflow-data-validation<1.8.0,>=1.7.0->fairness-indicators==0.39.0.dev0) (0.14.1)\r\n",
      "Requirement already satisfied: tensorflow-metadata<1.8,>=1.7.0 in /tmpfs/src/tf_docs_env/lib/python3.7/site-packages (from tensorflow-data-validation<1.8.0,>=1.7.0->fairness-indicators==0.39.0.dev0) (1.7.0)\r\n",
      "Requirement already satisfied: apache-beam[gcp]<3,>=2.36 in /tmpfs/src/tf_docs_env/lib/python3.7/site-packages (from tensorflow-data-validation<1.8.0,>=1.7.0->fairness-indicators==0.39.0.dev0) (2.38.0)\r\n",
      "Requirement already satisfied: pandas<2,>=1.0 in /tmpfs/src/tf_docs_env/lib/python3.7/site-packages (from tensorflow-data-validation<1.8.0,>=1.7.0->fairness-indicators==0.39.0.dev0) (1.3.5)\r\n",
      "Requirement already satisfied: pyarrow<6,>=1 in /tmpfs/src/tf_docs_env/lib/python3.7/site-packages (from tensorflow-data-validation<1.8.0,>=1.7.0->fairness-indicators==0.39.0.dev0) (5.0.0)\r\n",
      "Requirement already satisfied: pyfarmhash<0.4,>=0.2 in /tmpfs/src/tf_docs_env/lib/python3.7/site-packages (from tensorflow-data-validation<1.8.0,>=1.7.0->fairness-indicators==0.39.0.dev0) (0.3.2)\r\n",
      "Requirement already satisfied: tfx-bsl<1.8,>=1.7.0 in /tmpfs/src/tf_docs_env/lib/python3.7/site-packages (from tensorflow-data-validation<1.8.0,>=1.7.0->fairness-indicators==0.39.0.dev0) (1.7.0)\r\n",
      "Requirement already satisfied: ipython<8,>=7 in /tmpfs/src/tf_docs_env/lib/python3.7/site-packages (from tensorflow-model-analysis<0.39,>=0.38->fairness-indicators==0.39.0.dev0) (7.33.0)\r\n",
      "Requirement already satisfied: scipy<2,>=1.4.1 in /tmpfs/src/tf_docs_env/lib/python3.7/site-packages (from tensorflow-model-analysis<0.39,>=0.38->fairness-indicators==0.39.0.dev0) (1.7.3)\r\n",
      "Requirement already satisfied: ipywidgets<8,>=7 in /tmpfs/src/tf_docs_env/lib/python3.7/site-packages (from tensorflow-model-analysis<0.39,>=0.38->fairness-indicators==0.39.0.dev0) (7.7.0)\r\n",
      "Requirement already satisfied: google-api-python-client>=1.7.8 in /tmpfs/src/tf_docs_env/lib/python3.7/site-packages (from witwidget<2,>=1.4.4->fairness-indicators==0.39.0.dev0) (1.12.11)\r\n",
      "Requirement already satisfied: oauth2client>=4.1.3 in /tmpfs/src/tf_docs_env/lib/python3.7/site-packages (from witwidget<2,>=1.4.4->fairness-indicators==0.39.0.dev0) (4.1.3)\r\n"
     ]
    },
    {
     "name": "stdout",
     "output_type": "stream",
     "text": [
      "Requirement already satisfied: requests<3.0.0,>=2.24.0 in /tmpfs/src/tf_docs_env/lib/python3.7/site-packages (from apache-beam[gcp]<3,>=2.36->tensorflow-data-validation<1.8.0,>=1.7.0->fairness-indicators==0.39.0.dev0) (2.27.1)\r\n",
      "Requirement already satisfied: orjson<4.0 in /tmpfs/src/tf_docs_env/lib/python3.7/site-packages (from apache-beam[gcp]<3,>=2.36->tensorflow-data-validation<1.8.0,>=1.7.0->fairness-indicators==0.39.0.dev0) (3.6.8)\r\n",
      "Requirement already satisfied: python-dateutil<3,>=2.8.0 in /tmpfs/src/tf_docs_env/lib/python3.7/site-packages (from apache-beam[gcp]<3,>=2.36->tensorflow-data-validation<1.8.0,>=1.7.0->fairness-indicators==0.39.0.dev0) (2.8.2)\r\n",
      "Requirement already satisfied: pydot<2,>=1.2.0 in /tmpfs/src/tf_docs_env/lib/python3.7/site-packages (from apache-beam[gcp]<3,>=2.36->tensorflow-data-validation<1.8.0,>=1.7.0->fairness-indicators==0.39.0.dev0) (1.4.2)\r\n",
      "Requirement already satisfied: crcmod<2.0,>=1.7 in /tmpfs/src/tf_docs_env/lib/python3.7/site-packages (from apache-beam[gcp]<3,>=2.36->tensorflow-data-validation<1.8.0,>=1.7.0->fairness-indicators==0.39.0.dev0) (1.7)\r\n",
      "Requirement already satisfied: fastavro<2,>=0.23.6 in /tmpfs/src/tf_docs_env/lib/python3.7/site-packages (from apache-beam[gcp]<3,>=2.36->tensorflow-data-validation<1.8.0,>=1.7.0->fairness-indicators==0.39.0.dev0) (1.4.11)\r\n",
      "Requirement already satisfied: pymongo<4.0.0,>=3.8.0 in /tmpfs/src/tf_docs_env/lib/python3.7/site-packages (from apache-beam[gcp]<3,>=2.36->tensorflow-data-validation<1.8.0,>=1.7.0->fairness-indicators==0.39.0.dev0) (3.12.3)\r\n",
      "Requirement already satisfied: httplib2<0.20.0,>=0.8 in /tmpfs/src/tf_docs_env/lib/python3.7/site-packages (from apache-beam[gcp]<3,>=2.36->tensorflow-data-validation<1.8.0,>=1.7.0->fairness-indicators==0.39.0.dev0) (0.19.1)\r\n"
     ]
    },
    {
     "name": "stdout",
     "output_type": "stream",
     "text": [
      "Requirement already satisfied: pytz>=2018.3 in /tmpfs/src/tf_docs_env/lib/python3.7/site-packages (from apache-beam[gcp]<3,>=2.36->tensorflow-data-validation<1.8.0,>=1.7.0->fairness-indicators==0.39.0.dev0) (2022.1)\r\n",
      "Requirement already satisfied: hdfs<3.0.0,>=2.1.0 in /tmpfs/src/tf_docs_env/lib/python3.7/site-packages (from apache-beam[gcp]<3,>=2.36->tensorflow-data-validation<1.8.0,>=1.7.0->fairness-indicators==0.39.0.dev0) (2.7.0)\r\n",
      "Requirement already satisfied: cloudpickle<3,>=2.0.0 in /tmpfs/src/tf_docs_env/lib/python3.7/site-packages (from apache-beam[gcp]<3,>=2.36->tensorflow-data-validation<1.8.0,>=1.7.0->fairness-indicators==0.39.0.dev0) (2.0.0)\r\n",
      "Requirement already satisfied: proto-plus<2,>=1.7.1 in /tmpfs/src/tf_docs_env/lib/python3.7/site-packages (from apache-beam[gcp]<3,>=2.36->tensorflow-data-validation<1.8.0,>=1.7.0->fairness-indicators==0.39.0.dev0) (1.20.3)\r\n",
      "Requirement already satisfied: dill<0.3.2,>=0.3.1.1 in /tmpfs/src/tf_docs_env/lib/python3.7/site-packages (from apache-beam[gcp]<3,>=2.36->tensorflow-data-validation<1.8.0,>=1.7.0->fairness-indicators==0.39.0.dev0) (0.3.1.1)\r\n",
      "Requirement already satisfied: cachetools<5,>=3.1.0 in /tmpfs/src/tf_docs_env/lib/python3.7/site-packages (from apache-beam[gcp]<3,>=2.36->tensorflow-data-validation<1.8.0,>=1.7.0->fairness-indicators==0.39.0.dev0) (4.2.4)\r\n",
      "Requirement already satisfied: google-cloud-spanner<2,>=1.13.0 in /tmpfs/src/tf_docs_env/lib/python3.7/site-packages (from apache-beam[gcp]<3,>=2.36->tensorflow-data-validation<1.8.0,>=1.7.0->fairness-indicators==0.39.0.dev0) (1.19.2)\r\n",
      "Requirement already satisfied: google-cloud-recommendations-ai<=0.2.0,>=0.1.0 in /tmpfs/src/tf_docs_env/lib/python3.7/site-packages (from apache-beam[gcp]<3,>=2.36->tensorflow-data-validation<1.8.0,>=1.7.0->fairness-indicators==0.39.0.dev0) (0.2.0)\r\n",
      "Requirement already satisfied: google-cloud-datastore<2,>=1.8.0 in /tmpfs/src/tf_docs_env/lib/python3.7/site-packages (from apache-beam[gcp]<3,>=2.36->tensorflow-data-validation<1.8.0,>=1.7.0->fairness-indicators==0.39.0.dev0) (1.15.4)\r\n",
      "Requirement already satisfied: google-cloud-pubsub<3,>=2.1.0 in /tmpfs/src/tf_docs_env/lib/python3.7/site-packages (from apache-beam[gcp]<3,>=2.36->tensorflow-data-validation<1.8.0,>=1.7.0->fairness-indicators==0.39.0.dev0) (2.12.0)\r\n",
      "Requirement already satisfied: google-cloud-core<2,>=0.28.1 in /tmpfs/src/tf_docs_env/lib/python3.7/site-packages (from apache-beam[gcp]<3,>=2.36->tensorflow-data-validation<1.8.0,>=1.7.0->fairness-indicators==0.39.0.dev0) (1.7.2)\r\n",
      "Requirement already satisfied: google-cloud-bigquery-storage>=2.6.3 in /tmpfs/src/tf_docs_env/lib/python3.7/site-packages (from apache-beam[gcp]<3,>=2.36->tensorflow-data-validation<1.8.0,>=1.7.0->fairness-indicators==0.39.0.dev0) (2.13.1)\r\n",
      "Requirement already satisfied: google-cloud-vision<2,>=0.38.0 in /tmpfs/src/tf_docs_env/lib/python3.7/site-packages (from apache-beam[gcp]<3,>=2.36->tensorflow-data-validation<1.8.0,>=1.7.0->fairness-indicators==0.39.0.dev0) (1.0.1)\r\n",
      "Requirement already satisfied: google-cloud-language<2,>=1.3.0 in /tmpfs/src/tf_docs_env/lib/python3.7/site-packages (from apache-beam[gcp]<3,>=2.36->tensorflow-data-validation<1.8.0,>=1.7.0->fairness-indicators==0.39.0.dev0) (1.3.1)\r\n",
      "Requirement already satisfied: grpcio-gcp<1,>=0.2.2 in /tmpfs/src/tf_docs_env/lib/python3.7/site-packages (from apache-beam[gcp]<3,>=2.36->tensorflow-data-validation<1.8.0,>=1.7.0->fairness-indicators==0.39.0.dev0) (0.2.2)\r\n",
      "Requirement already satisfied: google-auth<3,>=1.18.0 in /tmpfs/src/tf_docs_env/lib/python3.7/site-packages (from apache-beam[gcp]<3,>=2.36->tensorflow-data-validation<1.8.0,>=1.7.0->fairness-indicators==0.39.0.dev0) (1.35.0)\r\n",
      "Requirement already satisfied: google-cloud-pubsublite<2,>=1.2.0 in /tmpfs/src/tf_docs_env/lib/python3.7/site-packages (from apache-beam[gcp]<3,>=2.36->tensorflow-data-validation<1.8.0,>=1.7.0->fairness-indicators==0.39.0.dev0) (1.4.2)\r\n",
      "Requirement already satisfied: google-cloud-bigtable<2,>=0.31.1 in /tmpfs/src/tf_docs_env/lib/python3.7/site-packages (from apache-beam[gcp]<3,>=2.36->tensorflow-data-validation<1.8.0,>=1.7.0->fairness-indicators==0.39.0.dev0) (1.7.1)\r\n",
      "Requirement already satisfied: google-cloud-bigquery<3,>=1.6.0 in /tmpfs/src/tf_docs_env/lib/python3.7/site-packages (from apache-beam[gcp]<3,>=2.36->tensorflow-data-validation<1.8.0,>=1.7.0->fairness-indicators==0.39.0.dev0) (2.34.3)\r\n",
      "Requirement already satisfied: google-cloud-videointelligence<2,>=1.8.0 in /tmpfs/src/tf_docs_env/lib/python3.7/site-packages (from apache-beam[gcp]<3,>=2.36->tensorflow-data-validation<1.8.0,>=1.7.0->fairness-indicators==0.39.0.dev0) (1.16.2)\r\n"
     ]
    },
    {
     "name": "stdout",
     "output_type": "stream",
     "text": [
      "Requirement already satisfied: google-apitools<0.5.32,>=0.5.31 in /tmpfs/src/tf_docs_env/lib/python3.7/site-packages (from apache-beam[gcp]<3,>=2.36->tensorflow-data-validation<1.8.0,>=1.7.0->fairness-indicators==0.39.0.dev0) (0.5.31)\r\n",
      "Requirement already satisfied: google-cloud-dlp<4,>=3.0.0 in /tmpfs/src/tf_docs_env/lib/python3.7/site-packages (from apache-beam[gcp]<3,>=2.36->tensorflow-data-validation<1.8.0,>=1.7.0->fairness-indicators==0.39.0.dev0) (3.6.2)\r\n",
      "Requirement already satisfied: wheel<1.0,>=0.23.0 in /tmpfs/src/tf_docs_env/lib/python3.7/site-packages (from astunparse>=1.6.0->tensorflow!=2.0.*,!=2.1.*,!=2.2.*,!=2.3.*,!=2.4.*,!=2.5.*,!=2.6.*,!=2.7.*,<3,>=1.15.5->fairness-indicators==0.39.0.dev0) (0.37.1)\r\n",
      "Requirement already satisfied: uritemplate<4dev,>=3.0.0 in /tmpfs/src/tf_docs_env/lib/python3.7/site-packages (from google-api-python-client>=1.7.8->witwidget<2,>=1.4.4->fairness-indicators==0.39.0.dev0) (3.0.1)\r\n",
      "Requirement already satisfied: google-auth-httplib2>=0.0.3 in /tmpfs/src/tf_docs_env/lib/python3.7/site-packages (from google-api-python-client>=1.7.8->witwidget<2,>=1.4.4->fairness-indicators==0.39.0.dev0) (0.1.0)\r\n",
      "Requirement already satisfied: google-api-core<3dev,>=1.21.0 in /tmpfs/src/tf_docs_env/lib/python3.7/site-packages (from google-api-python-client>=1.7.8->witwidget<2,>=1.4.4->fairness-indicators==0.39.0.dev0) (1.31.5)\r\n"
     ]
    },
    {
     "name": "stdout",
     "output_type": "stream",
     "text": [
      "Requirement already satisfied: cached-property in /tmpfs/src/tf_docs_env/lib/python3.7/site-packages (from h5py>=2.9.0->tensorflow!=2.0.*,!=2.1.*,!=2.2.*,!=2.3.*,!=2.4.*,!=2.5.*,!=2.6.*,!=2.7.*,<3,>=1.15.5->fairness-indicators==0.39.0.dev0) (1.5.2)\r\n",
      "Requirement already satisfied: backcall in /tmpfs/src/tf_docs_env/lib/python3.7/site-packages (from ipython<8,>=7->tensorflow-model-analysis<0.39,>=0.38->fairness-indicators==0.39.0.dev0) (0.2.0)\r\n",
      "Requirement already satisfied: prompt-toolkit!=3.0.0,!=3.0.1,<3.1.0,>=2.0.0 in /tmpfs/src/tf_docs_env/lib/python3.7/site-packages (from ipython<8,>=7->tensorflow-model-analysis<0.39,>=0.38->fairness-indicators==0.39.0.dev0) (3.0.29)\r\n",
      "Requirement already satisfied: traitlets>=4.2 in /tmpfs/src/tf_docs_env/lib/python3.7/site-packages (from ipython<8,>=7->tensorflow-model-analysis<0.39,>=0.38->fairness-indicators==0.39.0.dev0) (5.1.1)\r\n",
      "Requirement already satisfied: matplotlib-inline in /tmpfs/src/tf_docs_env/lib/python3.7/site-packages (from ipython<8,>=7->tensorflow-model-analysis<0.39,>=0.38->fairness-indicators==0.39.0.dev0) (0.1.3)\r\n",
      "Requirement already satisfied: pygments in /tmpfs/src/tf_docs_env/lib/python3.7/site-packages (from ipython<8,>=7->tensorflow-model-analysis<0.39,>=0.38->fairness-indicators==0.39.0.dev0) (2.12.0)\r\n",
      "Requirement already satisfied: pickleshare in /tmpfs/src/tf_docs_env/lib/python3.7/site-packages (from ipython<8,>=7->tensorflow-model-analysis<0.39,>=0.38->fairness-indicators==0.39.0.dev0) (0.7.5)\r\n",
      "Requirement already satisfied: pexpect>4.3 in /tmpfs/src/tf_docs_env/lib/python3.7/site-packages (from ipython<8,>=7->tensorflow-model-analysis<0.39,>=0.38->fairness-indicators==0.39.0.dev0) (4.8.0)\r\n"
     ]
    },
    {
     "name": "stdout",
     "output_type": "stream",
     "text": [
      "Requirement already satisfied: jedi>=0.16 in /tmpfs/src/tf_docs_env/lib/python3.7/site-packages (from ipython<8,>=7->tensorflow-model-analysis<0.39,>=0.38->fairness-indicators==0.39.0.dev0) (0.18.1)\r\n",
      "Requirement already satisfied: decorator in /tmpfs/src/tf_docs_env/lib/python3.7/site-packages (from ipython<8,>=7->tensorflow-model-analysis<0.39,>=0.38->fairness-indicators==0.39.0.dev0) (5.1.1)\r\n",
      "Requirement already satisfied: jupyterlab-widgets>=1.0.0 in /tmpfs/src/tf_docs_env/lib/python3.7/site-packages (from ipywidgets<8,>=7->tensorflow-model-analysis<0.39,>=0.38->fairness-indicators==0.39.0.dev0) (1.1.0)\r\n",
      "Requirement already satisfied: ipython-genutils~=0.2.0 in /tmpfs/src/tf_docs_env/lib/python3.7/site-packages (from ipywidgets<8,>=7->tensorflow-model-analysis<0.39,>=0.38->fairness-indicators==0.39.0.dev0) (0.2.0)\r\n",
      "Requirement already satisfied: ipykernel>=4.5.1 in /tmpfs/src/tf_docs_env/lib/python3.7/site-packages (from ipywidgets<8,>=7->tensorflow-model-analysis<0.39,>=0.38->fairness-indicators==0.39.0.dev0) (6.13.0)\r\n",
      "Requirement already satisfied: nbformat>=4.2.0 in /tmpfs/src/tf_docs_env/lib/python3.7/site-packages (from ipywidgets<8,>=7->tensorflow-model-analysis<0.39,>=0.38->fairness-indicators==0.39.0.dev0) (5.4.0)\r\n",
      "Requirement already satisfied: widgetsnbextension~=3.6.0 in /tmpfs/src/tf_docs_env/lib/python3.7/site-packages (from ipywidgets<8,>=7->tensorflow-model-analysis<0.39,>=0.38->fairness-indicators==0.39.0.dev0) (3.6.0)\r\n"
     ]
    },
    {
     "name": "stdout",
     "output_type": "stream",
     "text": [
      "Requirement already satisfied: pyasn1-modules>=0.0.5 in /tmpfs/src/tf_docs_env/lib/python3.7/site-packages (from oauth2client>=4.1.3->witwidget<2,>=1.4.4->fairness-indicators==0.39.0.dev0) (0.2.8)\r\n",
      "Requirement already satisfied: rsa>=3.1.4 in /tmpfs/src/tf_docs_env/lib/python3.7/site-packages (from oauth2client>=4.1.3->witwidget<2,>=1.4.4->fairness-indicators==0.39.0.dev0) (4.8)\r\n",
      "Requirement already satisfied: pyasn1>=0.1.7 in /tmpfs/src/tf_docs_env/lib/python3.7/site-packages (from oauth2client>=4.1.3->witwidget<2,>=1.4.4->fairness-indicators==0.39.0.dev0) (0.4.8)\r\n"
     ]
    },
    {
     "name": "stdout",
     "output_type": "stream",
     "text": [
      "Requirement already satisfied: tensorboard-data-server<0.7.0,>=0.6.0 in /tmpfs/src/tf_docs_env/lib/python3.7/site-packages (from tensorboard<2.9,>=2.8->tensorflow!=2.0.*,!=2.1.*,!=2.2.*,!=2.3.*,!=2.4.*,!=2.5.*,!=2.6.*,!=2.7.*,<3,>=1.15.5->fairness-indicators==0.39.0.dev0) (0.6.1)\r\n",
      "Requirement already satisfied: markdown>=2.6.8 in /tmpfs/src/tf_docs_env/lib/python3.7/site-packages (from tensorboard<2.9,>=2.8->tensorflow!=2.0.*,!=2.1.*,!=2.2.*,!=2.3.*,!=2.4.*,!=2.5.*,!=2.6.*,!=2.7.*,<3,>=1.15.5->fairness-indicators==0.39.0.dev0) (3.3.7)\r\n",
      "Requirement already satisfied: google-auth-oauthlib<0.5,>=0.4.1 in /tmpfs/src/tf_docs_env/lib/python3.7/site-packages (from tensorboard<2.9,>=2.8->tensorflow!=2.0.*,!=2.1.*,!=2.2.*,!=2.3.*,!=2.4.*,!=2.5.*,!=2.6.*,!=2.7.*,<3,>=1.15.5->fairness-indicators==0.39.0.dev0) (0.4.6)\r\n",
      "Requirement already satisfied: tensorboard-plugin-wit>=1.6.0 in /tmpfs/src/tf_docs_env/lib/python3.7/site-packages (from tensorboard<2.9,>=2.8->tensorflow!=2.0.*,!=2.1.*,!=2.2.*,!=2.3.*,!=2.4.*,!=2.5.*,!=2.6.*,!=2.7.*,<3,>=1.15.5->fairness-indicators==0.39.0.dev0) (1.8.1)\r\n",
      "Requirement already satisfied: werkzeug>=0.11.15 in /tmpfs/src/tf_docs_env/lib/python3.7/site-packages (from tensorboard<2.9,>=2.8->tensorflow!=2.0.*,!=2.1.*,!=2.2.*,!=2.3.*,!=2.4.*,!=2.5.*,!=2.6.*,!=2.7.*,<3,>=1.15.5->fairness-indicators==0.39.0.dev0) (2.1.2)\r\n"
     ]
    },
    {
     "name": "stdout",
     "output_type": "stream",
     "text": [
      "Requirement already satisfied: googleapis-common-protos<2,>=1.52.0 in /tmpfs/src/tf_docs_env/lib/python3.7/site-packages (from tensorflow-metadata<1.8,>=1.7.0->tensorflow-data-validation<1.8.0,>=1.7.0->fairness-indicators==0.39.0.dev0) (1.56.0)\r\n",
      "Requirement already satisfied: tensorflow-serving-api!=2.0.*,!=2.1.*,!=2.2.*,!=2.3.*,!=2.4.*,!=2.5.*,!=2.6.*,!=2.7.*,<3,>=1.15 in /tmpfs/src/tf_docs_env/lib/python3.7/site-packages (from tfx-bsl<1.8,>=1.7.0->tensorflow-data-validation<1.8.0,>=1.7.0->fairness-indicators==0.39.0.dev0) (2.8.0)\r\n"
     ]
    },
    {
     "name": "stdout",
     "output_type": "stream",
     "text": [
      "Requirement already satisfied: pyparsing!=3.0.5,>=2.0.2 in /tmpfs/src/tf_docs_env/lib/python3.7/site-packages (from packaging->tensorflow!=2.0.*,!=2.1.*,!=2.2.*,!=2.3.*,!=2.4.*,!=2.5.*,!=2.6.*,!=2.7.*,<3,>=1.15.5->fairness-indicators==0.39.0.dev0) (2.4.7)\r\n"
     ]
    },
    {
     "name": "stdout",
     "output_type": "stream",
     "text": [
      "Requirement already satisfied: fasteners>=0.14 in /tmpfs/src/tf_docs_env/lib/python3.7/site-packages (from google-apitools<0.5.32,>=0.5.31->apache-beam[gcp]<3,>=2.36->tensorflow-data-validation<1.8.0,>=1.7.0->fairness-indicators==0.39.0.dev0) (0.17.3)\r\n"
     ]
    },
    {
     "name": "stdout",
     "output_type": "stream",
     "text": [
      "Requirement already satisfied: requests-oauthlib>=0.7.0 in /tmpfs/src/tf_docs_env/lib/python3.7/site-packages (from google-auth-oauthlib<0.5,>=0.4.1->tensorboard<2.9,>=2.8->tensorflow!=2.0.*,!=2.1.*,!=2.2.*,!=2.3.*,!=2.4.*,!=2.5.*,!=2.6.*,!=2.7.*,<3,>=1.15.5->fairness-indicators==0.39.0.dev0) (1.3.1)\r\n"
     ]
    },
    {
     "name": "stdout",
     "output_type": "stream",
     "text": [
      "Requirement already satisfied: google-resumable-media<3.0dev,>=0.6.0 in /tmpfs/src/tf_docs_env/lib/python3.7/site-packages (from google-cloud-bigquery<3,>=1.6.0->apache-beam[gcp]<3,>=2.36->tensorflow-data-validation<1.8.0,>=1.7.0->fairness-indicators==0.39.0.dev0) (2.3.2)\r\n",
      "Requirement already satisfied: grpc-google-iam-v1<0.13dev,>=0.12.3 in /tmpfs/src/tf_docs_env/lib/python3.7/site-packages (from google-cloud-bigtable<2,>=0.31.1->apache-beam[gcp]<3,>=2.36->tensorflow-data-validation<1.8.0,>=1.7.0->fairness-indicators==0.39.0.dev0) (0.12.4)\r\n"
     ]
    },
    {
     "name": "stdout",
     "output_type": "stream",
     "text": [
      "Requirement already satisfied: grpcio-status>=1.16.0 in /tmpfs/src/tf_docs_env/lib/python3.7/site-packages (from google-cloud-pubsub<3,>=2.1.0->apache-beam[gcp]<3,>=2.36->tensorflow-data-validation<1.8.0,>=1.7.0->fairness-indicators==0.39.0.dev0) (1.46.0)\r\n",
      "Requirement already satisfied: overrides<7.0.0,>=6.0.1 in /tmpfs/src/tf_docs_env/lib/python3.7/site-packages (from google-cloud-pubsublite<2,>=1.2.0->apache-beam[gcp]<3,>=2.36->tensorflow-data-validation<1.8.0,>=1.7.0->fairness-indicators==0.39.0.dev0) (6.1.0)\r\n"
     ]
    },
    {
     "name": "stdout",
     "output_type": "stream",
     "text": [
      "Requirement already satisfied: docopt in /tmpfs/src/tf_docs_env/lib/python3.7/site-packages (from hdfs<3.0.0,>=2.1.0->apache-beam[gcp]<3,>=2.36->tensorflow-data-validation<1.8.0,>=1.7.0->fairness-indicators==0.39.0.dev0) (0.6.2)\r\n"
     ]
    },
    {
     "name": "stdout",
     "output_type": "stream",
     "text": [
      "Requirement already satisfied: jupyter-client>=6.1.12 in /tmpfs/src/tf_docs_env/lib/python3.7/site-packages (from ipykernel>=4.5.1->ipywidgets<8,>=7->tensorflow-model-analysis<0.39,>=0.38->fairness-indicators==0.39.0.dev0) (7.3.0)\r\n",
      "Requirement already satisfied: nest-asyncio in /tmpfs/src/tf_docs_env/lib/python3.7/site-packages (from ipykernel>=4.5.1->ipywidgets<8,>=7->tensorflow-model-analysis<0.39,>=0.38->fairness-indicators==0.39.0.dev0) (1.5.5)\r\n",
      "Requirement already satisfied: psutil in /tmpfs/src/tf_docs_env/lib/python3.7/site-packages (from ipykernel>=4.5.1->ipywidgets<8,>=7->tensorflow-model-analysis<0.39,>=0.38->fairness-indicators==0.39.0.dev0) (5.9.0)\r\n",
      "Requirement already satisfied: debugpy>=1.0 in /tmpfs/src/tf_docs_env/lib/python3.7/site-packages (from ipykernel>=4.5.1->ipywidgets<8,>=7->tensorflow-model-analysis<0.39,>=0.38->fairness-indicators==0.39.0.dev0) (1.6.0)\r\n",
      "Requirement already satisfied: tornado>=6.1 in /tmpfs/src/tf_docs_env/lib/python3.7/site-packages (from ipykernel>=4.5.1->ipywidgets<8,>=7->tensorflow-model-analysis<0.39,>=0.38->fairness-indicators==0.39.0.dev0) (6.1)\r\n",
      "Requirement already satisfied: parso<0.9.0,>=0.8.0 in /tmpfs/src/tf_docs_env/lib/python3.7/site-packages (from jedi>=0.16->ipython<8,>=7->tensorflow-model-analysis<0.39,>=0.38->fairness-indicators==0.39.0.dev0) (0.8.3)\r\n"
     ]
    },
    {
     "name": "stdout",
     "output_type": "stream",
     "text": [
      "Requirement already satisfied: importlib-metadata>=4.4 in /tmpfs/src/tf_docs_env/lib/python3.7/site-packages (from markdown>=2.6.8->tensorboard<2.9,>=2.8->tensorflow!=2.0.*,!=2.1.*,!=2.2.*,!=2.3.*,!=2.4.*,!=2.5.*,!=2.6.*,!=2.7.*,<3,>=1.15.5->fairness-indicators==0.39.0.dev0) (4.11.3)\r\n",
      "Requirement already satisfied: fastjsonschema in /tmpfs/src/tf_docs_env/lib/python3.7/site-packages (from nbformat>=4.2.0->ipywidgets<8,>=7->tensorflow-model-analysis<0.39,>=0.38->fairness-indicators==0.39.0.dev0) (2.15.3)\r\n",
      "Requirement already satisfied: jupyter-core in /tmpfs/src/tf_docs_env/lib/python3.7/site-packages (from nbformat>=4.2.0->ipywidgets<8,>=7->tensorflow-model-analysis<0.39,>=0.38->fairness-indicators==0.39.0.dev0) (4.10.0)\r\n",
      "Requirement already satisfied: jsonschema>=2.6 in /tmpfs/src/tf_docs_env/lib/python3.7/site-packages (from nbformat>=4.2.0->ipywidgets<8,>=7->tensorflow-model-analysis<0.39,>=0.38->fairness-indicators==0.39.0.dev0) (4.5.1)\r\n"
     ]
    },
    {
     "name": "stdout",
     "output_type": "stream",
     "text": [
      "Requirement already satisfied: ptyprocess>=0.5 in /tmpfs/src/tf_docs_env/lib/python3.7/site-packages (from pexpect>4.3->ipython<8,>=7->tensorflow-model-analysis<0.39,>=0.38->fairness-indicators==0.39.0.dev0) (0.7.0)\r\n",
      "Requirement already satisfied: wcwidth in /tmpfs/src/tf_docs_env/lib/python3.7/site-packages (from prompt-toolkit!=3.0.0,!=3.0.1,<3.1.0,>=2.0.0->ipython<8,>=7->tensorflow-model-analysis<0.39,>=0.38->fairness-indicators==0.39.0.dev0) (0.2.5)\r\n"
     ]
    },
    {
     "name": "stdout",
     "output_type": "stream",
     "text": [
      "Requirement already satisfied: urllib3<1.27,>=1.21.1 in /tmpfs/src/tf_docs_env/lib/python3.7/site-packages (from requests<3.0.0,>=2.24.0->apache-beam[gcp]<3,>=2.36->tensorflow-data-validation<1.8.0,>=1.7.0->fairness-indicators==0.39.0.dev0) (1.26.9)\r\n",
      "Requirement already satisfied: idna<4,>=2.5 in /tmpfs/src/tf_docs_env/lib/python3.7/site-packages (from requests<3.0.0,>=2.24.0->apache-beam[gcp]<3,>=2.36->tensorflow-data-validation<1.8.0,>=1.7.0->fairness-indicators==0.39.0.dev0) (3.3)\r\n",
      "Requirement already satisfied: certifi>=2017.4.17 in /tmpfs/src/tf_docs_env/lib/python3.7/site-packages (from requests<3.0.0,>=2.24.0->apache-beam[gcp]<3,>=2.36->tensorflow-data-validation<1.8.0,>=1.7.0->fairness-indicators==0.39.0.dev0) (2021.10.8)\r\n",
      "Requirement already satisfied: charset-normalizer~=2.0.0 in /tmpfs/src/tf_docs_env/lib/python3.7/site-packages (from requests<3.0.0,>=2.24.0->apache-beam[gcp]<3,>=2.36->tensorflow-data-validation<1.8.0,>=1.7.0->fairness-indicators==0.39.0.dev0) (2.0.12)\r\n"
     ]
    },
    {
     "name": "stdout",
     "output_type": "stream",
     "text": [
      "Requirement already satisfied: notebook>=4.4.1 in /tmpfs/src/tf_docs_env/lib/python3.7/site-packages (from widgetsnbextension~=3.6.0->ipywidgets<8,>=7->tensorflow-model-analysis<0.39,>=0.38->fairness-indicators==0.39.0.dev0) (6.4.11)\r\n"
     ]
    },
    {
     "name": "stdout",
     "output_type": "stream",
     "text": [
      "Requirement already satisfied: google-crc32c<2.0dev,>=1.0 in /tmpfs/src/tf_docs_env/lib/python3.7/site-packages (from google-resumable-media<3.0dev,>=0.6.0->google-cloud-bigquery<3,>=1.6.0->apache-beam[gcp]<3,>=2.36->tensorflow-data-validation<1.8.0,>=1.7.0->fairness-indicators==0.39.0.dev0) (1.3.0)\r\n"
     ]
    },
    {
     "name": "stdout",
     "output_type": "stream",
     "text": [
      "Requirement already satisfied: zipp>=0.5 in /tmpfs/src/tf_docs_env/lib/python3.7/site-packages (from importlib-metadata>=4.4->markdown>=2.6.8->tensorboard<2.9,>=2.8->tensorflow!=2.0.*,!=2.1.*,!=2.2.*,!=2.3.*,!=2.4.*,!=2.5.*,!=2.6.*,!=2.7.*,<3,>=1.15.5->fairness-indicators==0.39.0.dev0) (3.8.0)\r\n"
     ]
    },
    {
     "name": "stdout",
     "output_type": "stream",
     "text": [
      "Requirement already satisfied: pyrsistent!=0.17.0,!=0.17.1,!=0.17.2,>=0.14.0 in /tmpfs/src/tf_docs_env/lib/python3.7/site-packages (from jsonschema>=2.6->nbformat>=4.2.0->ipywidgets<8,>=7->tensorflow-model-analysis<0.39,>=0.38->fairness-indicators==0.39.0.dev0) (0.18.1)\r\n",
      "Requirement already satisfied: attrs>=17.4.0 in /tmpfs/src/tf_docs_env/lib/python3.7/site-packages (from jsonschema>=2.6->nbformat>=4.2.0->ipywidgets<8,>=7->tensorflow-model-analysis<0.39,>=0.38->fairness-indicators==0.39.0.dev0) (21.4.0)\r\n",
      "Requirement already satisfied: importlib-resources>=1.4.0 in /tmpfs/src/tf_docs_env/lib/python3.7/site-packages (from jsonschema>=2.6->nbformat>=4.2.0->ipywidgets<8,>=7->tensorflow-model-analysis<0.39,>=0.38->fairness-indicators==0.39.0.dev0) (5.7.1)\r\n",
      "Requirement already satisfied: entrypoints in /tmpfs/src/tf_docs_env/lib/python3.7/site-packages (from jupyter-client>=6.1.12->ipykernel>=4.5.1->ipywidgets<8,>=7->tensorflow-model-analysis<0.39,>=0.38->fairness-indicators==0.39.0.dev0) (0.4)\r\n",
      "Requirement already satisfied: pyzmq>=22.3 in /tmpfs/src/tf_docs_env/lib/python3.7/site-packages (from jupyter-client>=6.1.12->ipykernel>=4.5.1->ipywidgets<8,>=7->tensorflow-model-analysis<0.39,>=0.38->fairness-indicators==0.39.0.dev0) (22.3.0)\r\n"
     ]
    },
    {
     "name": "stdout",
     "output_type": "stream",
     "text": [
      "Requirement already satisfied: terminado>=0.8.3 in /tmpfs/src/tf_docs_env/lib/python3.7/site-packages (from notebook>=4.4.1->widgetsnbextension~=3.6.0->ipywidgets<8,>=7->tensorflow-model-analysis<0.39,>=0.38->fairness-indicators==0.39.0.dev0) (0.13.3)\r\n",
      "Requirement already satisfied: prometheus-client in /tmpfs/src/tf_docs_env/lib/python3.7/site-packages (from notebook>=4.4.1->widgetsnbextension~=3.6.0->ipywidgets<8,>=7->tensorflow-model-analysis<0.39,>=0.38->fairness-indicators==0.39.0.dev0) (0.14.1)\r\n",
      "Requirement already satisfied: jinja2 in /tmpfs/src/tf_docs_env/lib/python3.7/site-packages (from notebook>=4.4.1->widgetsnbextension~=3.6.0->ipywidgets<8,>=7->tensorflow-model-analysis<0.39,>=0.38->fairness-indicators==0.39.0.dev0) (2.11.3)\r\n",
      "Requirement already satisfied: argon2-cffi in /tmpfs/src/tf_docs_env/lib/python3.7/site-packages (from notebook>=4.4.1->widgetsnbextension~=3.6.0->ipywidgets<8,>=7->tensorflow-model-analysis<0.39,>=0.38->fairness-indicators==0.39.0.dev0) (21.3.0)\r\n",
      "Requirement already satisfied: nbconvert>=5 in /tmpfs/src/tf_docs_env/lib/python3.7/site-packages (from notebook>=4.4.1->widgetsnbextension~=3.6.0->ipywidgets<8,>=7->tensorflow-model-analysis<0.39,>=0.38->fairness-indicators==0.39.0.dev0) (6.4.5)\r\n",
      "Requirement already satisfied: Send2Trash>=1.8.0 in /tmpfs/src/tf_docs_env/lib/python3.7/site-packages (from notebook>=4.4.1->widgetsnbextension~=3.6.0->ipywidgets<8,>=7->tensorflow-model-analysis<0.39,>=0.38->fairness-indicators==0.39.0.dev0) (1.8.0)\r\n",
      "Requirement already satisfied: typing-utils>=0.0.3 in /tmpfs/src/tf_docs_env/lib/python3.7/site-packages (from overrides<7.0.0,>=6.0.1->google-cloud-pubsublite<2,>=1.2.0->apache-beam[gcp]<3,>=2.36->tensorflow-data-validation<1.8.0,>=1.7.0->fairness-indicators==0.39.0.dev0) (0.1.0)\r\n"
     ]
    },
    {
     "name": "stdout",
     "output_type": "stream",
     "text": [
      "Requirement already satisfied: oauthlib>=3.0.0 in /tmpfs/src/tf_docs_env/lib/python3.7/site-packages (from requests-oauthlib>=0.7.0->google-auth-oauthlib<0.5,>=0.4.1->tensorboard<2.9,>=2.8->tensorflow!=2.0.*,!=2.1.*,!=2.2.*,!=2.3.*,!=2.4.*,!=2.5.*,!=2.6.*,!=2.7.*,<3,>=1.15.5->fairness-indicators==0.39.0.dev0) (3.2.0)\r\n"
     ]
    },
    {
     "name": "stdout",
     "output_type": "stream",
     "text": [
      "Requirement already satisfied: defusedxml in /tmpfs/src/tf_docs_env/lib/python3.7/site-packages (from nbconvert>=5->notebook>=4.4.1->widgetsnbextension~=3.6.0->ipywidgets<8,>=7->tensorflow-model-analysis<0.39,>=0.38->fairness-indicators==0.39.0.dev0) (0.7.1)\r\n",
      "Requirement already satisfied: beautifulsoup4 in /tmpfs/src/tf_docs_env/lib/python3.7/site-packages (from nbconvert>=5->notebook>=4.4.1->widgetsnbextension~=3.6.0->ipywidgets<8,>=7->tensorflow-model-analysis<0.39,>=0.38->fairness-indicators==0.39.0.dev0) (4.11.1)\r\n",
      "Requirement already satisfied: MarkupSafe>=2.0 in /tmpfs/src/tf_docs_env/lib/python3.7/site-packages (from nbconvert>=5->notebook>=4.4.1->widgetsnbextension~=3.6.0->ipywidgets<8,>=7->tensorflow-model-analysis<0.39,>=0.38->fairness-indicators==0.39.0.dev0) (2.0.1)\r\n",
      "Requirement already satisfied: testpath in /tmpfs/src/tf_docs_env/lib/python3.7/site-packages (from nbconvert>=5->notebook>=4.4.1->widgetsnbextension~=3.6.0->ipywidgets<8,>=7->tensorflow-model-analysis<0.39,>=0.38->fairness-indicators==0.39.0.dev0) (0.6.0)\r\n",
      "Requirement already satisfied: bleach in /tmpfs/src/tf_docs_env/lib/python3.7/site-packages (from nbconvert>=5->notebook>=4.4.1->widgetsnbextension~=3.6.0->ipywidgets<8,>=7->tensorflow-model-analysis<0.39,>=0.38->fairness-indicators==0.39.0.dev0) (5.0.0)\r\n",
      "Requirement already satisfied: mistune<2,>=0.8.1 in /tmpfs/src/tf_docs_env/lib/python3.7/site-packages (from nbconvert>=5->notebook>=4.4.1->widgetsnbextension~=3.6.0->ipywidgets<8,>=7->tensorflow-model-analysis<0.39,>=0.38->fairness-indicators==0.39.0.dev0) (0.8.4)\r\n",
      "Requirement already satisfied: pandocfilters>=1.4.1 in /tmpfs/src/tf_docs_env/lib/python3.7/site-packages (from nbconvert>=5->notebook>=4.4.1->widgetsnbextension~=3.6.0->ipywidgets<8,>=7->tensorflow-model-analysis<0.39,>=0.38->fairness-indicators==0.39.0.dev0) (1.5.0)\r\n",
      "Requirement already satisfied: jupyterlab-pygments in /tmpfs/src/tf_docs_env/lib/python3.7/site-packages (from nbconvert>=5->notebook>=4.4.1->widgetsnbextension~=3.6.0->ipywidgets<8,>=7->tensorflow-model-analysis<0.39,>=0.38->fairness-indicators==0.39.0.dev0) (0.2.2)\r\n",
      "Requirement already satisfied: nbclient<0.6.0,>=0.5.0 in /tmpfs/src/tf_docs_env/lib/python3.7/site-packages (from nbconvert>=5->notebook>=4.4.1->widgetsnbextension~=3.6.0->ipywidgets<8,>=7->tensorflow-model-analysis<0.39,>=0.38->fairness-indicators==0.39.0.dev0) (0.5.13)\r\n"
     ]
    },
    {
     "name": "stdout",
     "output_type": "stream",
     "text": [
      "Requirement already satisfied: argon2-cffi-bindings in /tmpfs/src/tf_docs_env/lib/python3.7/site-packages (from argon2-cffi->notebook>=4.4.1->widgetsnbextension~=3.6.0->ipywidgets<8,>=7->tensorflow-model-analysis<0.39,>=0.38->fairness-indicators==0.39.0.dev0) (21.2.0)\r\n"
     ]
    },
    {
     "name": "stdout",
     "output_type": "stream",
     "text": [
      "Requirement already satisfied: cffi>=1.0.1 in /tmpfs/src/tf_docs_env/lib/python3.7/site-packages (from argon2-cffi-bindings->argon2-cffi->notebook>=4.4.1->widgetsnbextension~=3.6.0->ipywidgets<8,>=7->tensorflow-model-analysis<0.39,>=0.38->fairness-indicators==0.39.0.dev0) (1.15.0)\r\n",
      "Requirement already satisfied: soupsieve>1.2 in /tmpfs/src/tf_docs_env/lib/python3.7/site-packages (from beautifulsoup4->nbconvert>=5->notebook>=4.4.1->widgetsnbextension~=3.6.0->ipywidgets<8,>=7->tensorflow-model-analysis<0.39,>=0.38->fairness-indicators==0.39.0.dev0) (2.3.2.post1)\r\n"
     ]
    },
    {
     "name": "stdout",
     "output_type": "stream",
     "text": [
      "Requirement already satisfied: webencodings in /tmpfs/src/tf_docs_env/lib/python3.7/site-packages (from bleach->nbconvert>=5->notebook>=4.4.1->widgetsnbextension~=3.6.0->ipywidgets<8,>=7->tensorflow-model-analysis<0.39,>=0.38->fairness-indicators==0.39.0.dev0) (0.5.1)\r\n"
     ]
    },
    {
     "name": "stdout",
     "output_type": "stream",
     "text": [
      "Requirement already satisfied: pycparser in /tmpfs/src/tf_docs_env/lib/python3.7/site-packages (from cffi>=1.0.1->argon2-cffi-bindings->argon2-cffi->notebook>=4.4.1->widgetsnbextension~=3.6.0->ipywidgets<8,>=7->tensorflow-model-analysis<0.39,>=0.38->fairness-indicators==0.39.0.dev0) (2.21)\r\n"
     ]
    }
   ],
   "source": [
    "#@title pip installs\n",
    "!pip install git+https://github.com/google-research/tensorflow_constrained_optimization\n",
    "!pip install git+https://github.com/tensorflow/fairness-indicators"
   ]
  },
  {
   "cell_type": "markdown",
   "metadata": {
    "id": "2ZkQDo2xcDXU"
   },
   "source": [
    "Note that depending on when you run the cell below, you may receive a warning about the default version of TensorFlow in Colab switching to TensorFlow 2.X soon. You can safely ignore that warning as this notebook was designed to be compatible with TensorFlow 1.X and 2.X."
   ]
  },
  {
   "cell_type": "code",
   "execution_count": 3,
   "metadata": {
    "cellView": "form",
    "execution": {
     "iopub.execute_input": "2022-05-07T09:12:45.792508Z",
     "iopub.status.busy": "2022-05-07T09:12:45.791896Z",
     "iopub.status.idle": "2022-05-07T09:12:49.157369Z",
     "shell.execute_reply": "2022-05-07T09:12:49.156733Z"
    },
    "id": "nd_Y6CTnWs8w"
   },
   "outputs": [],
   "source": [
    "#@title Import Modules\n",
    "import io\n",
    "import os\n",
    "import shutil\n",
    "import sys\n",
    "import tempfile\n",
    "import time\n",
    "import urllib\n",
    "import zipfile\n",
    "\n",
    "import apache_beam as beam\n",
    "from IPython.display import display\n",
    "from IPython.display import HTML\n",
    "import numpy as np\n",
    "import pandas as pd\n",
    "\n",
    "import tensorflow as tf\n",
    "import tensorflow.keras as keras\n",
    "from tensorflow.keras import layers\n",
    "from tensorflow.keras.preprocessing import sequence\n",
    "from tensorflow.keras.preprocessing import text\n",
    "import tensorflow_constrained_optimization as tfco\n",
    "import tensorflow_model_analysis as tfma\n",
    "import fairness_indicators as fi\n",
    "from tensorflow_model_analysis.addons.fairness.view import widget_view\n",
    "from tensorflow_model_analysis.model_agnostic_eval import model_agnostic_evaluate_graph\n",
    "from tensorflow_model_analysis.model_agnostic_eval import model_agnostic_extractor\n",
    "from tensorflow_model_analysis.model_agnostic_eval import model_agnostic_predict as agnostic_predict"
   ]
  },
  {
   "cell_type": "markdown",
   "metadata": {
    "id": "GvqR564dLEVa"
   },
   "source": [
    "Though TFCO is compatible with eager and graph execution, this notebook assumes that eager execution is enabled by default. To ensure that nothing breaks, eager execution will be enabled in the cell below."
   ]
  },
  {
   "cell_type": "code",
   "execution_count": 4,
   "metadata": {
    "cellView": "form",
    "execution": {
     "iopub.execute_input": "2022-05-07T09:12:49.161470Z",
     "iopub.status.busy": "2022-05-07T09:12:49.160915Z",
     "iopub.status.idle": "2022-05-07T09:12:49.165617Z",
     "shell.execute_reply": "2022-05-07T09:12:49.164853Z"
    },
    "id": "avMBqzjWct4Z"
   },
   "outputs": [
    {
     "name": "stdout",
     "output_type": "stream",
     "text": [
      "Eager execution enabled by default.\n",
      "TensorFlow 2.9.0-rc2\n",
      "TFMA 0.38.0\n",
      "FI 0.39.0.dev\n"
     ]
    }
   ],
   "source": [
    "#@title Enable Eager Execution and Print Versions\n",
    "if tf.__version__ < \"2.0.0\":\n",
    "  tf.enable_eager_execution()\n",
    "  print(\"Eager execution enabled.\")\n",
    "else:\n",
    "  print(\"Eager execution enabled by default.\")\n",
    "\n",
    "print(\"TensorFlow \" + tf.__version__)\n",
    "print(\"TFMA \" + tfma.__version__)\n",
    "print(\"FI \" + fi.version.__version__)"
   ]
  },
  {
   "cell_type": "markdown",
   "metadata": {
    "id": "YUJyWaAwWs83"
   },
   "source": [
    "## Hyper-parameters\n",
    "\n",
    "First, we set some hyper-parameters needed for the data preprocessing and model training."
   ]
  },
  {
   "cell_type": "code",
   "execution_count": 5,
   "metadata": {
    "execution": {
     "iopub.execute_input": "2022-05-07T09:12:49.168794Z",
     "iopub.status.busy": "2022-05-07T09:12:49.168395Z",
     "iopub.status.idle": "2022-05-07T09:12:49.172224Z",
     "shell.execute_reply": "2022-05-07T09:12:49.171654Z"
    },
    "id": "1aXlwlqTWs84"
   },
   "outputs": [],
   "source": [
    "hparams = {\n",
    "    \"batch_size\": 128,\n",
    "    \"cnn_filter_sizes\": [128, 128, 128],\n",
    "    \"cnn_kernel_sizes\": [5, 5, 5],\n",
    "    \"cnn_pooling_sizes\": [5, 5, 40],\n",
    "    \"constraint_learning_rate\": 0.01,\n",
    "    \"embedding_dim\": 100,\n",
    "    \"embedding_trainable\": False,\n",
    "    \"learning_rate\": 0.005,\n",
    "    \"max_num_words\": 10000,\n",
    "    \"max_sequence_length\": 250\n",
    "}"
   ]
  },
  {
   "cell_type": "markdown",
   "metadata": {
    "id": "0PMs8Iwxq98C"
   },
   "source": [
    "## Load and pre-process dataset"
   ]
  },
  {
   "cell_type": "markdown",
   "metadata": {
    "id": "DIe2JRDeWs87"
   },
   "source": [
    "Next, we download the dataset and preprocess it. The train, test and validation sets are provided as separate CSV files."
   ]
  },
  {
   "cell_type": "code",
   "execution_count": 6,
   "metadata": {
    "execution": {
     "iopub.execute_input": "2022-05-07T09:12:49.175551Z",
     "iopub.status.busy": "2022-05-07T09:12:49.175015Z",
     "iopub.status.idle": "2022-05-07T09:12:57.897707Z",
     "shell.execute_reply": "2022-05-07T09:12:57.897031Z"
    },
    "id": "rcd2CV7pWs88"
   },
   "outputs": [
    {
     "data": {
      "text/html": [
       "<div>\n",
       "<style scoped>\n",
       "    .dataframe tbody tr th:only-of-type {\n",
       "        vertical-align: middle;\n",
       "    }\n",
       "\n",
       "    .dataframe tbody tr th {\n",
       "        vertical-align: top;\n",
       "    }\n",
       "\n",
       "    .dataframe thead th {\n",
       "        text-align: right;\n",
       "    }\n",
       "</style>\n",
       "<table border=\"1\" class=\"dataframe\">\n",
       "  <thead>\n",
       "    <tr style=\"text-align: right;\">\n",
       "      <th></th>\n",
       "      <th>rev_id</th>\n",
       "      <th>toxicity</th>\n",
       "      <th>comment</th>\n",
       "      <th>year</th>\n",
       "      <th>logged_in</th>\n",
       "      <th>ns</th>\n",
       "      <th>sample</th>\n",
       "      <th>split</th>\n",
       "      <th>is_toxic</th>\n",
       "    </tr>\n",
       "  </thead>\n",
       "  <tbody>\n",
       "    <tr>\n",
       "      <th>0</th>\n",
       "      <td>2232.0</td>\n",
       "      <td>0.1</td>\n",
       "      <td>This: :One can make an analogy in mathematical...</td>\n",
       "      <td>2002</td>\n",
       "      <td>True</td>\n",
       "      <td>article</td>\n",
       "      <td>random</td>\n",
       "      <td>train</td>\n",
       "      <td>False</td>\n",
       "    </tr>\n",
       "    <tr>\n",
       "      <th>1</th>\n",
       "      <td>4216.0</td>\n",
       "      <td>0.0</td>\n",
       "      <td>`  :Clarification for you  (and Zundark's righ...</td>\n",
       "      <td>2002</td>\n",
       "      <td>True</td>\n",
       "      <td>user</td>\n",
       "      <td>random</td>\n",
       "      <td>train</td>\n",
       "      <td>False</td>\n",
       "    </tr>\n",
       "    <tr>\n",
       "      <th>2</th>\n",
       "      <td>26547.0</td>\n",
       "      <td>0.0</td>\n",
       "      <td>`This is such a fun entry.   Devotchka  I once...</td>\n",
       "      <td>2002</td>\n",
       "      <td>True</td>\n",
       "      <td>article</td>\n",
       "      <td>random</td>\n",
       "      <td>train</td>\n",
       "      <td>False</td>\n",
       "    </tr>\n",
       "    <tr>\n",
       "      <th>3</th>\n",
       "      <td>37330.0</td>\n",
       "      <td>0.3</td>\n",
       "      <td>`   I fixed the link; I also removed ``homeopa...</td>\n",
       "      <td>2002</td>\n",
       "      <td>True</td>\n",
       "      <td>article</td>\n",
       "      <td>random</td>\n",
       "      <td>train</td>\n",
       "      <td>False</td>\n",
       "    </tr>\n",
       "    <tr>\n",
       "      <th>4</th>\n",
       "      <td>37346.0</td>\n",
       "      <td>0.1</td>\n",
       "      <td>`If they are ``indisputable`` then why does th...</td>\n",
       "      <td>2002</td>\n",
       "      <td>True</td>\n",
       "      <td>article</td>\n",
       "      <td>random</td>\n",
       "      <td>train</td>\n",
       "      <td>False</td>\n",
       "    </tr>\n",
       "  </tbody>\n",
       "</table>\n",
       "</div>"
      ],
      "text/plain": [
       "    rev_id  toxicity                                            comment  year  \\\n",
       "0   2232.0       0.1  This: :One can make an analogy in mathematical...  2002   \n",
       "1   4216.0       0.0  `  :Clarification for you  (and Zundark's righ...  2002   \n",
       "2  26547.0       0.0  `This is such a fun entry.   Devotchka  I once...  2002   \n",
       "3  37330.0       0.3  `   I fixed the link; I also removed ``homeopa...  2002   \n",
       "4  37346.0       0.1  `If they are ``indisputable`` then why does th...  2002   \n",
       "\n",
       "   logged_in       ns  sample  split  is_toxic  \n",
       "0       True  article  random  train     False  \n",
       "1       True     user  random  train     False  \n",
       "2       True  article  random  train     False  \n",
       "3       True  article  random  train     False  \n",
       "4       True  article  random  train     False  "
      ]
     },
     "execution_count": 6,
     "metadata": {},
     "output_type": "execute_result"
    }
   ],
   "source": [
    "toxicity_data_url = (\"https://github.com/conversationai/unintended-ml-bias-analysis/\"\n",
    "                     \"raw/e02b9f12b63a39235e57ba6d3d62d8139ca5572c/data/\")\n",
    "\n",
    "data_train = pd.read_csv(toxicity_data_url + \"wiki_train.csv\")\n",
    "data_test = pd.read_csv(toxicity_data_url + \"wiki_test.csv\")\n",
    "data_vali = pd.read_csv(toxicity_data_url + \"wiki_dev.csv\")\n",
    "\n",
    "data_train.head()"
   ]
  },
  {
   "cell_type": "markdown",
   "metadata": {
    "id": "Ojo617RIWs8_"
   },
   "source": [
    "The `comment` column contains the discussion comments and `is_toxic` column indicates whether or not a comment is annotated as toxic. \n",
    "\n",
    "In the following, we:\n",
    "1. Separate out the labels\n",
    "2. Tokenize the text comments\n",
    "3. Identify comments that contain sensitive topic terms \n",
    "\n",
    "First, we separate the labels from the train, test and validation sets. The labels are all binary (0 or 1)."
   ]
  },
  {
   "cell_type": "code",
   "execution_count": 7,
   "metadata": {
    "execution": {
     "iopub.execute_input": "2022-05-07T09:12:57.902095Z",
     "iopub.status.busy": "2022-05-07T09:12:57.901534Z",
     "iopub.status.idle": "2022-05-07T09:12:57.906876Z",
     "shell.execute_reply": "2022-05-07T09:12:57.906175Z"
    },
    "id": "mxo7ny90Ws9A"
   },
   "outputs": [],
   "source": [
    "labels_train = data_train[\"is_toxic\"].values.reshape(-1, 1) * 1.0\n",
    "labels_test = data_test[\"is_toxic\"].values.reshape(-1, 1) * 1.0\n",
    "labels_vali = data_vali[\"is_toxic\"].values.reshape(-1, 1) * 1.0"
   ]
  },
  {
   "cell_type": "markdown",
   "metadata": {
    "id": "alrWi6jUWs9C"
   },
   "source": [
    "Next, we tokenize the textual comments using the `Tokenizer` provided by `Keras`. We use the training set comments alone to build a vocabulary of tokens, and use them to convert all the comments into a (padded) sequence of tokens of the same length."
   ]
  },
  {
   "cell_type": "code",
   "execution_count": 8,
   "metadata": {
    "execution": {
     "iopub.execute_input": "2022-05-07T09:12:57.910020Z",
     "iopub.status.busy": "2022-05-07T09:12:57.909522Z",
     "iopub.status.idle": "2022-05-07T09:13:10.193596Z",
     "shell.execute_reply": "2022-05-07T09:13:10.192893Z"
    },
    "id": "yvOTBsrHWs9D"
   },
   "outputs": [],
   "source": [
    "tokenizer = text.Tokenizer(num_words=hparams[\"max_num_words\"])\n",
    "tokenizer.fit_on_texts(data_train[\"comment\"])\n",
    "\n",
    "def prep_text(texts, tokenizer, max_sequence_length):\n",
    "    # Turns text into into padded sequences.\n",
    "    text_sequences = tokenizer.texts_to_sequences(texts)\n",
    "    return sequence.pad_sequences(text_sequences, maxlen=max_sequence_length)\n",
    "\n",
    "text_train = prep_text(data_train[\"comment\"], tokenizer, hparams[\"max_sequence_length\"])\n",
    "text_test = prep_text(data_test[\"comment\"], tokenizer, hparams[\"max_sequence_length\"])\n",
    "text_vali = prep_text(data_vali[\"comment\"], tokenizer, hparams[\"max_sequence_length\"])"
   ]
  },
  {
   "cell_type": "markdown",
   "metadata": {
    "id": "Cn5zbgp-Ws9F"
   },
   "source": [
    "Finally, we identify comments related to certain sensitive topic groups. We consider a subset of the <a href=\"https://github.com/conversationai/unintended-ml-bias-analysis/blob/master/unintended_ml_bias/bias_madlibs_data/adjectives_people.txt\">identity terms</a> provided with the dataset and group them into\n",
    "four broad topic groups: *sexuality*, *gender identity*, *religion*, and *race*."
   ]
  },
  {
   "cell_type": "code",
   "execution_count": 9,
   "metadata": {
    "execution": {
     "iopub.execute_input": "2022-05-07T09:13:10.197591Z",
     "iopub.status.busy": "2022-05-07T09:13:10.197344Z",
     "iopub.status.idle": "2022-05-07T09:13:10.202129Z",
     "shell.execute_reply": "2022-05-07T09:13:10.201623Z"
    },
    "id": "EnFfV2gEWs9G"
   },
   "outputs": [],
   "source": [
    "terms = {\n",
    "    'sexuality': ['gay', 'lesbian', 'bisexual', 'homosexual', 'straight', 'heterosexual'], \n",
    "    'gender identity': ['trans', 'transgender', 'cis', 'nonbinary'],\n",
    "    'religion': ['christian', 'muslim', 'jewish', 'buddhist', 'catholic', 'protestant', 'sikh', 'taoist'],\n",
    "    'race': ['african', 'african american', 'black', 'white', 'european', 'hispanic', 'latino', 'latina', \n",
    "             'latinx', 'mexican', 'canadian', 'american', 'asian', 'indian', 'middle eastern', 'chinese', \n",
    "             'japanese']}\n",
    "\n",
    "group_names = list(terms.keys())\n",
    "num_groups = len(group_names)"
   ]
  },
  {
   "cell_type": "markdown",
   "metadata": {
    "id": "ooI3F5M4Ws9I"
   },
   "source": [
    "We then create separate group membership matrices for the train, test and validation sets, where the rows correspond to comments, the columns correspond to the four sensitive groups, and each entry is a boolean indicating whether the comment contains a term from the topic group."
   ]
  },
  {
   "cell_type": "code",
   "execution_count": 10,
   "metadata": {
    "execution": {
     "iopub.execute_input": "2022-05-07T09:13:10.205337Z",
     "iopub.status.busy": "2022-05-07T09:13:10.204925Z",
     "iopub.status.idle": "2022-05-07T09:13:36.641378Z",
     "shell.execute_reply": "2022-05-07T09:13:36.640637Z"
    },
    "id": "zO7PyNckWs9J"
   },
   "outputs": [],
   "source": [
    "def get_groups(text):\n",
    "    # Returns a boolean NumPy array of shape (n, k), where n is the number of comments, \n",
    "    # and k is the number of groups. Each entry (i, j) indicates if the i-th comment \n",
    "    # contains a term from the j-th group.\n",
    "    groups = np.zeros((text.shape[0], num_groups))\n",
    "    for ii in range(num_groups):\n",
    "        groups[:, ii] = text.str.contains('|'.join(terms[group_names[ii]]), case=False)\n",
    "    return groups\n",
    "\n",
    "groups_train = get_groups(data_train[\"comment\"])\n",
    "groups_test = get_groups(data_test[\"comment\"])\n",
    "groups_vali = get_groups(data_vali[\"comment\"])"
   ]
  },
  {
   "cell_type": "markdown",
   "metadata": {
    "id": "GFAI6AB9Ws9L"
   },
   "source": [
    "As shown below, all four topic groups constitute only a small fraction of the overall dataset, and have varying proportions of toxic comments."
   ]
  },
  {
   "cell_type": "code",
   "execution_count": 11,
   "metadata": {
    "execution": {
     "iopub.execute_input": "2022-05-07T09:13:36.645497Z",
     "iopub.status.busy": "2022-05-07T09:13:36.644922Z",
     "iopub.status.idle": "2022-05-07T09:13:36.658854Z",
     "shell.execute_reply": "2022-05-07T09:13:36.658233Z"
    },
    "id": "8Ug4u_P9Ws9M"
   },
   "outputs": [
    {
     "name": "stdout",
     "output_type": "stream",
     "text": [
      "Overall label proportion = 9.7%\n"
     ]
    },
    {
     "data": {
      "text/html": [
       "<div>\n",
       "<style scoped>\n",
       "    .dataframe tbody tr th:only-of-type {\n",
       "        vertical-align: middle;\n",
       "    }\n",
       "\n",
       "    .dataframe tbody tr th {\n",
       "        vertical-align: top;\n",
       "    }\n",
       "\n",
       "    .dataframe thead th {\n",
       "        text-align: right;\n",
       "    }\n",
       "</style>\n",
       "<table border=\"1\" class=\"dataframe\">\n",
       "  <thead>\n",
       "    <tr style=\"text-align: right;\">\n",
       "      <th></th>\n",
       "      <th>Topic group</th>\n",
       "      <th>Group proportion</th>\n",
       "      <th>Label proportion</th>\n",
       "    </tr>\n",
       "  </thead>\n",
       "  <tbody>\n",
       "    <tr>\n",
       "      <th>0</th>\n",
       "      <td>sexuality</td>\n",
       "      <td>1.30%</td>\n",
       "      <td>37.0%</td>\n",
       "    </tr>\n",
       "    <tr>\n",
       "      <th>1</th>\n",
       "      <td>gender identity</td>\n",
       "      <td>5.34%</td>\n",
       "      <td>7.7%</td>\n",
       "    </tr>\n",
       "    <tr>\n",
       "      <th>2</th>\n",
       "      <td>religion</td>\n",
       "      <td>1.87%</td>\n",
       "      <td>8.6%</td>\n",
       "    </tr>\n",
       "    <tr>\n",
       "      <th>3</th>\n",
       "      <td>race</td>\n",
       "      <td>4.82%</td>\n",
       "      <td>9.2%</td>\n",
       "    </tr>\n",
       "  </tbody>\n",
       "</table>\n",
       "</div>"
      ],
      "text/plain": [
       "       Topic group Group proportion Label proportion\n",
       "0        sexuality            1.30%            37.0%\n",
       "1  gender identity            5.34%             7.7%\n",
       "2         religion            1.87%             8.6%\n",
       "3             race            4.82%             9.2%"
      ]
     },
     "execution_count": 11,
     "metadata": {},
     "output_type": "execute_result"
    }
   ],
   "source": [
    "print(\"Overall label proportion = %.1f%%\" % (labels_train.mean() * 100))\n",
    "\n",
    "group_stats = []\n",
    "for ii in range(num_groups):\n",
    "    group_proportion = groups_train[:, ii].mean()\n",
    "    group_pos_proportion = labels_train[groups_train[:, ii] == 1].mean()\n",
    "    group_stats.append([group_names[ii],\n",
    "                        \"%.2f%%\" % (group_proportion * 100), \n",
    "                        \"%.1f%%\" % (group_pos_proportion * 100)])\n",
    "group_stats = pd.DataFrame(group_stats, \n",
    "                           columns=[\"Topic group\", \"Group proportion\", \"Label proportion\"])\n",
    "group_stats"
   ]
  },
  {
   "cell_type": "markdown",
   "metadata": {
    "id": "aG5ZKKrVWs9O"
   },
   "source": [
    "We see that only 1.3% of the dataset contains comments related to sexuality. Among them, 37% of the comments have been annotated as being toxic. Note that this is significantly larger than the overall proportion of comments annotated as toxic. This could be because the few comments that used those identity terms did so in pejorative contexts. As mentioned above, this could cause our model to disporportionately misclassify comments as toxic when they include those terms. Since this is the concern, we'll make sure to look at the **False Positive Rate** when we evaluate the model's performance."
   ]
  },
  {
   "cell_type": "markdown",
   "metadata": {
    "id": "5DkJpKaLWs9P"
   },
   "source": [
    "## Build CNN toxicity prediction model"
   ]
  },
  {
   "cell_type": "markdown",
   "metadata": {
    "id": "niJ4KIJgWs9Q"
   },
   "source": [
    "Having prepared the dataset, we now build a `Keras` model for prediction toxicity. The model we use is a convolutional neural network (CNN) with the same architecture used by the Conversation AI project for their debiasing analysis. We adapt <a href=\"https://github.com/conversationai/unintended-ml-bias-analysis/blob/master/unintended_ml_bias/model_tool.py\">code</a> provided by them to construct the model layers.\n",
    "\n",
    "The model uses an embedding layer to convert the text tokens to fixed-length vectors. This layer converts the input text sequence into a sequence of vectors, and passes them through several layers of convolution and pooling operations, followed by a final fully-connected layer.\n",
    "\n",
    "We make use of pre-trained GloVe word vector embeddings, which we download below. This may take a few minutes to complete."
   ]
  },
  {
   "cell_type": "code",
   "execution_count": 12,
   "metadata": {
    "execution": {
     "iopub.execute_input": "2022-05-07T09:13:36.662202Z",
     "iopub.status.busy": "2022-05-07T09:13:36.662014Z",
     "iopub.status.idle": "2022-05-07T09:16:19.730540Z",
     "shell.execute_reply": "2022-05-07T09:16:19.729781Z"
    },
    "id": "yevbBL2oWs9Q"
   },
   "outputs": [],
   "source": [
    "zip_file_url = \"http://nlp.stanford.edu/data/glove.6B.zip\"\n",
    "zip_file = urllib.request.urlopen(zip_file_url)\n",
    "archive = zipfile.ZipFile(io.BytesIO(zip_file.read()))"
   ]
  },
  {
   "cell_type": "markdown",
   "metadata": {
    "id": "a11-YWDnWs9S"
   },
   "source": [
    "We use the downloaded GloVe embeddings to create an embedding matrix, where the rows contain the word embeddings for the tokens in the `Tokenizer`'s vocabulary. "
   ]
  },
  {
   "cell_type": "code",
   "execution_count": 13,
   "metadata": {
    "execution": {
     "iopub.execute_input": "2022-05-07T09:16:19.735588Z",
     "iopub.status.busy": "2022-05-07T09:16:19.735063Z",
     "iopub.status.idle": "2022-05-07T09:16:30.570306Z",
     "shell.execute_reply": "2022-05-07T09:16:30.569697Z"
    },
    "id": "bBS74MMYWs9T"
   },
   "outputs": [],
   "source": [
    "embeddings_index = {}\n",
    "glove_file = \"glove.6B.100d.txt\"\n",
    "\n",
    "with archive.open(glove_file) as f:\n",
    "    for line in f:\n",
    "        values = line.split()\n",
    "        word = values[0].decode(\"utf-8\") \n",
    "        coefs = np.asarray(values[1:], dtype=\"float32\")\n",
    "        embeddings_index[word] = coefs\n",
    "\n",
    "embedding_matrix = np.zeros((len(tokenizer.word_index) + 1, hparams[\"embedding_dim\"]))\n",
    "num_words_in_embedding = 0\n",
    "for word, i in tokenizer.word_index.items():\n",
    "    embedding_vector = embeddings_index.get(word)\n",
    "    if embedding_vector is not None:\n",
    "        num_words_in_embedding += 1\n",
    "        embedding_matrix[i] = embedding_vector"
   ]
  },
  {
   "cell_type": "markdown",
   "metadata": {
    "id": "t9NVp-_eWs9V"
   },
   "source": [
    "We are now ready to specify the `Keras` layers. We write a function to create a new model, which we will invoke whenever we wish to train a new model."
   ]
  },
  {
   "cell_type": "code",
   "execution_count": 14,
   "metadata": {
    "execution": {
     "iopub.execute_input": "2022-05-07T09:16:30.574276Z",
     "iopub.status.busy": "2022-05-07T09:16:30.573827Z",
     "iopub.status.idle": "2022-05-07T09:16:30.579740Z",
     "shell.execute_reply": "2022-05-07T09:16:30.579017Z"
    },
    "id": "_f_DhA6OWs9W"
   },
   "outputs": [],
   "source": [
    "def create_model():\n",
    "    model = keras.Sequential()\n",
    "\n",
    "    # Embedding layer.\n",
    "    embedding_layer = layers.Embedding(\n",
    "        embedding_matrix.shape[0],\n",
    "        embedding_matrix.shape[1],\n",
    "        weights=[embedding_matrix],\n",
    "        input_length=hparams[\"max_sequence_length\"],\n",
    "        trainable=hparams['embedding_trainable'])\n",
    "    model.add(embedding_layer)\n",
    "\n",
    "    # Convolution layers.\n",
    "    for filter_size, kernel_size, pool_size in zip(\n",
    "        hparams['cnn_filter_sizes'], hparams['cnn_kernel_sizes'],\n",
    "        hparams['cnn_pooling_sizes']):\n",
    "\n",
    "        conv_layer = layers.Conv1D(\n",
    "            filter_size, kernel_size, activation='relu', padding='same')\n",
    "        model.add(conv_layer)\n",
    "\n",
    "        pooled_layer = layers.MaxPooling1D(pool_size, padding='same')\n",
    "        model.add(pooled_layer)\n",
    "\n",
    "    # Add a flatten layer, a fully-connected layer and an output layer.\n",
    "    model.add(layers.Flatten())\n",
    "    model.add(layers.Dense(128, activation='relu'))\n",
    "    model.add(layers.Dense(1))\n",
    "    \n",
    "    return model"
   ]
  },
  {
   "cell_type": "markdown",
   "metadata": {
    "id": "CwcqYITBN7bW"
   },
   "source": [
    "We also define a method to set random seeds. This is done to ensure reproducible results."
   ]
  },
  {
   "cell_type": "code",
   "execution_count": 15,
   "metadata": {
    "execution": {
     "iopub.execute_input": "2022-05-07T09:16:30.582820Z",
     "iopub.status.busy": "2022-05-07T09:16:30.582345Z",
     "iopub.status.idle": "2022-05-07T09:16:30.585824Z",
     "shell.execute_reply": "2022-05-07T09:16:30.585104Z"
    },
    "id": "C_1nsXntN98C"
   },
   "outputs": [],
   "source": [
    "def set_seeds():\n",
    "  np.random.seed(121212)\n",
    "  tf.compat.v1.set_random_seed(212121)"
   ]
  },
  {
   "cell_type": "markdown",
   "metadata": {
    "id": "X-_fKjDtWs9Y"
   },
   "source": [
    "## Fairness indicators"
   ]
  },
  {
   "cell_type": "markdown",
   "metadata": {
    "id": "k009haGaWs9Z"
   },
   "source": [
    "We also write functions to plot fairness indicators."
   ]
  },
  {
   "cell_type": "code",
   "execution_count": 16,
   "metadata": {
    "execution": {
     "iopub.execute_input": "2022-05-07T09:16:30.589179Z",
     "iopub.status.busy": "2022-05-07T09:16:30.588740Z",
     "iopub.status.idle": "2022-05-07T09:16:30.594349Z",
     "shell.execute_reply": "2022-05-07T09:16:30.593725Z"
    },
    "id": "B9ZgGCAs8V-I"
   },
   "outputs": [],
   "source": [
    "def create_examples(labels, predictions, groups, group_names):\n",
    "  # Returns tf.examples with given labels, predictions, and group information.  \n",
    "  examples = []\n",
    "  sigmoid = lambda x: 1/(1 + np.exp(-x)) \n",
    "  for ii in range(labels.shape[0]):\n",
    "    example = tf.train.Example()\n",
    "    example.features.feature['toxicity'].float_list.value.append(\n",
    "        labels[ii][0])\n",
    "    example.features.feature['prediction'].float_list.value.append(\n",
    "        sigmoid(predictions[ii][0]))  # predictions need to be in [0, 1].\n",
    "    for jj in range(groups.shape[1]):\n",
    "      example.features.feature[group_names[jj]].bytes_list.value.append(\n",
    "          b'Yes' if groups[ii, jj] else b'No')\n",
    "    examples.append(example)\n",
    "  return examples"
   ]
  },
  {
   "cell_type": "code",
   "execution_count": 17,
   "metadata": {
    "execution": {
     "iopub.execute_input": "2022-05-07T09:16:30.597509Z",
     "iopub.status.busy": "2022-05-07T09:16:30.596982Z",
     "iopub.status.idle": "2022-05-07T09:16:30.605624Z",
     "shell.execute_reply": "2022-05-07T09:16:30.604945Z"
    },
    "id": "vESL-3dU9iiG"
   },
   "outputs": [],
   "source": [
    "def evaluate_results(labels, predictions, groups, group_names):\n",
    "  # Evaluates fairness indicators for given labels, predictions and group\n",
    "  # membership info.\n",
    "  examples = create_examples(labels, predictions, groups, group_names)\n",
    "\n",
    "  # Create feature map for labels, predictions and each group.\n",
    "  feature_map = {\n",
    "      'prediction': tf.io.FixedLenFeature([], tf.float32),\n",
    "      'toxicity': tf.io.FixedLenFeature([], tf.float32),\n",
    "  }\n",
    "  for group in group_names:\n",
    "    feature_map[group] = tf.io.FixedLenFeature([], tf.string)\n",
    "\n",
    "  # Serialize the examples.\n",
    "  serialized_examples = [e.SerializeToString() for e in examples]\n",
    "\n",
    "  BASE_DIR = tempfile.gettempdir()\n",
    "  OUTPUT_DIR = os.path.join(BASE_DIR, 'output')\n",
    "\n",
    "  with beam.Pipeline() as pipeline:\n",
    "    model_agnostic_config = agnostic_predict.ModelAgnosticConfig(\n",
    "              label_keys=['toxicity'],\n",
    "              prediction_keys=['prediction'],\n",
    "              feature_spec=feature_map)\n",
    "    \n",
    "    slices = [tfma.slicer.SingleSliceSpec()]\n",
    "    for group in group_names:\n",
    "      slices.append(\n",
    "          tfma.slicer.SingleSliceSpec(columns=[group]))\n",
    "\n",
    "    extractors = [\n",
    "            model_agnostic_extractor.ModelAgnosticExtractor(\n",
    "                model_agnostic_config=model_agnostic_config),\n",
    "            tfma.extractors.slice_key_extractor.SliceKeyExtractor(slices)\n",
    "        ]\n",
    "\n",
    "    metrics_callbacks = [\n",
    "      tfma.post_export_metrics.fairness_indicators(\n",
    "          thresholds=[0.5],\n",
    "          target_prediction_keys=['prediction'],\n",
    "          labels_key='toxicity'),\n",
    "      tfma.post_export_metrics.example_count()]\n",
    "\n",
    "    # Create a model agnostic aggregator.\n",
    "    eval_shared_model = tfma.types.EvalSharedModel(\n",
    "        add_metrics_callbacks=metrics_callbacks,\n",
    "        construct_fn=model_agnostic_evaluate_graph.make_construct_fn(\n",
    "            add_metrics_callbacks=metrics_callbacks,\n",
    "            config=model_agnostic_config))\n",
    "\n",
    "    # Run Model Agnostic Eval.\n",
    "    _ = (\n",
    "        pipeline\n",
    "        | beam.Create(serialized_examples)\n",
    "        | 'ExtractEvaluateAndWriteResults' >>\n",
    "          tfma.ExtractEvaluateAndWriteResults(\n",
    "              eval_shared_model=eval_shared_model,\n",
    "              output_path=OUTPUT_DIR,\n",
    "              extractors=extractors,\n",
    "              compute_confidence_intervals=True\n",
    "          )\n",
    "    )\n",
    "\n",
    "  fairness_ind_result = tfma.load_eval_result(output_path=OUTPUT_DIR)\n",
    "\n",
    "  # Also evaluate accuracy of the model.\n",
    "  accuracy = np.mean(labels == (predictions > 0.0))\n",
    "\n",
    "  return fairness_ind_result, accuracy"
   ]
  },
  {
   "cell_type": "code",
   "execution_count": 18,
   "metadata": {
    "execution": {
     "iopub.execute_input": "2022-05-07T09:16:30.608453Z",
     "iopub.status.busy": "2022-05-07T09:16:30.608037Z",
     "iopub.status.idle": "2022-05-07T09:16:30.611738Z",
     "shell.execute_reply": "2022-05-07T09:16:30.610995Z"
    },
    "id": "W3Sp7mpsWs9f"
   },
   "outputs": [],
   "source": [
    "def plot_fairness_indicators(eval_result, title):\n",
    "  fairness_ind_result, accuracy = eval_result\n",
    "  display(HTML(\"<center><h2>\" + title + \n",
    "               \" (Accuracy = %.2f%%)\" % (accuracy * 100) + \"</h2></center>\"))\n",
    "  widget_view.render_fairness_indicator(fairness_ind_result)"
   ]
  },
  {
   "cell_type": "code",
   "execution_count": 19,
   "metadata": {
    "execution": {
     "iopub.execute_input": "2022-05-07T09:16:30.614638Z",
     "iopub.status.busy": "2022-05-07T09:16:30.614118Z",
     "iopub.status.idle": "2022-05-07T09:16:30.618925Z",
     "shell.execute_reply": "2022-05-07T09:16:30.618255Z"
    },
    "id": "WqLdtgI42fxb"
   },
   "outputs": [],
   "source": [
    "def plot_multi_fairness_indicators(multi_eval_results):\n",
    " \n",
    "  multi_results = {}\n",
    "  multi_accuracy = {}\n",
    "  for title, (fairness_ind_result, accuracy) in multi_eval_results.items():\n",
    "    multi_results[title] = fairness_ind_result\n",
    "    multi_accuracy[title] = accuracy\n",
    "  \n",
    "  title_str = \"<center><h2>\"\n",
    "  for title in multi_eval_results.keys():\n",
    "      title_str+=title + \" (Accuracy = %.2f%%)\" % (multi_accuracy[title] * 100) + \"; \"\n",
    "  title_str=title_str[:-2]\n",
    "  title_str+=\"</h2></center>\"\n",
    "  # fairness_ind_result, accuracy = eval_result\n",
    "  display(HTML(title_str))\n",
    "  widget_view.render_fairness_indicator(multi_eval_results=multi_results)"
   ]
  },
  {
   "cell_type": "markdown",
   "metadata": {
    "id": "8aWNc4CdWs9h"
   },
   "source": [
    "## Train unconstrained model"
   ]
  },
  {
   "cell_type": "markdown",
   "metadata": {
    "id": "DuSA8qL7Ws9i"
   },
   "source": [
    "For the first model we train, we optimize a simple cross-entropy loss *without* any constraints.."
   ]
  },
  {
   "cell_type": "code",
   "execution_count": 20,
   "metadata": {
    "execution": {
     "iopub.execute_input": "2022-05-07T09:16:30.621691Z",
     "iopub.status.busy": "2022-05-07T09:16:30.621350Z",
     "iopub.status.idle": "2022-05-07T09:16:30.624494Z",
     "shell.execute_reply": "2022-05-07T09:16:30.623919Z"
    },
    "id": "0g50bauHWs9j"
   },
   "outputs": [],
   "source": [
    "# Set random seed for reproducible results.\n",
    "set_seeds()"
   ]
  },
  {
   "cell_type": "markdown",
   "metadata": {
    "id": "YsCoHMG_iIzc"
   },
   "source": [
    "**Note**: The following code cell can take ~8 minutes to run."
   ]
  },
  {
   "cell_type": "code",
   "execution_count": 21,
   "metadata": {
    "execution": {
     "iopub.execute_input": "2022-05-07T09:16:30.627342Z",
     "iopub.status.busy": "2022-05-07T09:16:30.626990Z",
     "iopub.status.idle": "2022-05-07T09:16:50.620327Z",
     "shell.execute_reply": "2022-05-07T09:16:50.619750Z"
    },
    "id": "tamJiG3FiDYW"
   },
   "outputs": [
    {
     "name": "stdout",
     "output_type": "stream",
     "text": [
      "Epoch 1/2\n"
     ]
    },
    {
     "name": "stdout",
     "output_type": "stream",
     "text": [
      "\r",
      "  1/748 [..............................] - ETA: 2:13:40 - loss: 0.5309"
     ]
    },
    {
     "name": "stdout",
     "output_type": "stream",
     "text": [
      "\b\b\b\b\b\b\b\b\b\b\b\b\b\b\b\b\b\b\b\b\b\b\b\b\b\b\b\b\b\b\b\b\b\b\b\b\b\b\b\b\b\b\b\b\b\b\b\b\b\b\b\b\b\b\b\b\b\b\b\b\b\b\b\b\b\b\b\b\b\b\r",
      " 11/748 [..............................] - ETA: 3s - loss: 0.4313     "
     ]
    },
    {
     "name": "stdout",
     "output_type": "stream",
     "text": [
      "\b\b\b\b\b\b\b\b\b\b\b\b\b\b\b\b\b\b\b\b\b\b\b\b\b\b\b\b\b\b\b\b\b\b\b\b\b\b\b\b\b\b\b\b\b\b\b\b\b\b\b\b\b\b\b\b\b\b\b\b\b\b\b\b\b\r",
      " 22/748 [..............................] - ETA: 3s - loss: 0.3682"
     ]
    },
    {
     "name": "stdout",
     "output_type": "stream",
     "text": [
      "\b\b\b\b\b\b\b\b\b\b\b\b\b\b\b\b\b\b\b\b\b\b\b\b\b\b\b\b\b\b\b\b\b\b\b\b\b\b\b\b\b\b\b\b\b\b\b\b\b\b\b\b\b\b\b\b\b\b\b\b\b\b\b\b\b\r",
      " 33/748 [>.............................] - ETA: 3s - loss: 0.3418"
     ]
    },
    {
     "name": "stdout",
     "output_type": "stream",
     "text": [
      "\b\b\b\b\b\b\b\b\b\b\b\b\b\b\b\b\b\b\b\b\b\b\b\b\b\b\b\b\b\b\b\b\b\b\b\b\b\b\b\b\b\b\b\b\b\b\b\b\b\b\b\b\b\b\b\b\b\b\b\b\b\b\b\b\b\r",
      " 44/748 [>.............................] - ETA: 3s - loss: 0.3252"
     ]
    },
    {
     "name": "stdout",
     "output_type": "stream",
     "text": [
      "\b\b\b\b\b\b\b\b\b\b\b\b\b\b\b\b\b\b\b\b\b\b\b\b\b\b\b\b\b\b\b\b\b\b\b\b\b\b\b\b\b\b\b\b\b\b\b\b\b\b\b\b\b\b\b\b\b\b\b\b\b\b\b\b\b\r",
      " 55/748 [=>............................] - ETA: 3s - loss: 0.3100"
     ]
    },
    {
     "name": "stdout",
     "output_type": "stream",
     "text": [
      "\b\b\b\b\b\b\b\b\b\b\b\b\b\b\b\b\b\b\b\b\b\b\b\b\b\b\b\b\b\b\b\b\b\b\b\b\b\b\b\b\b\b\b\b\b\b\b\b\b\b\b\b\b\b\b\b\b\b\b\b\b\b\b\b\b\r",
      " 66/748 [=>............................] - ETA: 3s - loss: 0.2944"
     ]
    },
    {
     "name": "stdout",
     "output_type": "stream",
     "text": [
      "\b\b\b\b\b\b\b\b\b\b\b\b\b\b\b\b\b\b\b\b\b\b\b\b\b\b\b\b\b\b\b\b\b\b\b\b\b\b\b\b\b\b\b\b\b\b\b\b\b\b\b\b\b\b\b\b\b\b\b\b\b\b\b\b\b\r",
      " 77/748 [==>...........................] - ETA: 3s - loss: 0.2859"
     ]
    },
    {
     "name": "stdout",
     "output_type": "stream",
     "text": [
      "\b\b\b\b\b\b\b\b\b\b\b\b\b\b\b\b\b\b\b\b\b\b\b\b\b\b\b\b\b\b\b\b\b\b\b\b\b\b\b\b\b\b\b\b\b\b\b\b\b\b\b\b\b\b\b\b\b\b\b\b\b\b\b\b\b\r",
      " 88/748 [==>...........................] - ETA: 3s - loss: 0.2754"
     ]
    },
    {
     "name": "stdout",
     "output_type": "stream",
     "text": [
      "\b\b\b\b\b\b\b\b\b\b\b\b\b\b\b\b\b\b\b\b\b\b\b\b\b\b\b\b\b\b\b\b\b\b\b\b\b\b\b\b\b\b\b\b\b\b\b\b\b\b\b\b\b\b\b\b\b\b\b\b\b\b\b\b\b\r",
      " 99/748 [==>...........................] - ETA: 3s - loss: 0.2652"
     ]
    },
    {
     "name": "stdout",
     "output_type": "stream",
     "text": [
      "\b\b\b\b\b\b\b\b\b\b\b\b\b\b\b\b\b\b\b\b\b\b\b\b\b\b\b\b\b\b\b\b\b\b\b\b\b\b\b\b\b\b\b\b\b\b\b\b\b\b\b\b\b\b\b\b\b\b\b\b\b\b\b\b\b\r",
      "110/748 [===>..........................] - ETA: 3s - loss: 0.2556"
     ]
    },
    {
     "name": "stdout",
     "output_type": "stream",
     "text": [
      "\b\b\b\b\b\b\b\b\b\b\b\b\b\b\b\b\b\b\b\b\b\b\b\b\b\b\b\b\b\b\b\b\b\b\b\b\b\b\b\b\b\b\b\b\b\b\b\b\b\b\b\b\b\b\b\b\b\b\b\b\b\b\b\b\b\r",
      "121/748 [===>..........................] - ETA: 2s - loss: 0.2472"
     ]
    },
    {
     "name": "stdout",
     "output_type": "stream",
     "text": [
      "\b\b\b\b\b\b\b\b\b\b\b\b\b\b\b\b\b\b\b\b\b\b\b\b\b\b\b\b\b\b\b\b\b\b\b\b\b\b\b\b\b\b\b\b\b\b\b\b\b\b\b\b\b\b\b\b\b\b\b\b\b\b\b\b\b\r",
      "132/748 [====>.........................] - ETA: 2s - loss: 0.2379"
     ]
    },
    {
     "name": "stdout",
     "output_type": "stream",
     "text": [
      "\b\b\b\b\b\b\b\b\b\b\b\b\b\b\b\b\b\b\b\b\b\b\b\b\b\b\b\b\b\b\b\b\b\b\b\b\b\b\b\b\b\b\b\b\b\b\b\b\b\b\b\b\b\b\b\b\b\b\b\b\b\b\b\b\b\r",
      "143/748 [====>.........................] - ETA: 2s - loss: 0.2311"
     ]
    },
    {
     "name": "stdout",
     "output_type": "stream",
     "text": [
      "\b\b\b\b\b\b\b\b\b\b\b\b\b\b\b\b\b\b\b\b\b\b\b\b\b\b\b\b\b\b\b\b\b\b\b\b\b\b\b\b\b\b\b\b\b\b\b\b\b\b\b\b\b\b\b\b\b\b\b\b\b\b\b\b\b\r",
      "154/748 [=====>........................] - ETA: 2s - loss: 0.2263"
     ]
    },
    {
     "name": "stdout",
     "output_type": "stream",
     "text": [
      "\b\b\b\b\b\b\b\b\b\b\b\b\b\b\b\b\b\b\b\b\b\b\b\b\b\b\b\b\b\b\b\b\b\b\b\b\b\b\b\b\b\b\b\b\b\b\b\b\b\b\b\b\b\b\b\b\b\b\b\b\b\b\b\b\b\r",
      "165/748 [=====>........................] - ETA: 2s - loss: 0.2211"
     ]
    },
    {
     "name": "stdout",
     "output_type": "stream",
     "text": [
      "\b\b\b\b\b\b\b\b\b\b\b\b\b\b\b\b\b\b\b\b\b\b\b\b\b\b\b\b\b\b\b\b\b\b\b\b\b\b\b\b\b\b\b\b\b\b\b\b\b\b\b\b\b\b\b\b\b\b\b\b\b\b\b\b\b\r",
      "176/748 [======>.......................] - ETA: 2s - loss: 0.2170"
     ]
    },
    {
     "name": "stdout",
     "output_type": "stream",
     "text": [
      "\b\b\b\b\b\b\b\b\b\b\b\b\b\b\b\b\b\b\b\b\b\b\b\b\b\b\b\b\b\b\b\b\b\b\b\b\b\b\b\b\b\b\b\b\b\b\b\b\b\b\b\b\b\b\b\b\b\b\b\b\b\b\b\b\b\r",
      "187/748 [======>.......................] - ETA: 2s - loss: 0.2117"
     ]
    },
    {
     "name": "stdout",
     "output_type": "stream",
     "text": [
      "\b\b\b\b\b\b\b\b\b\b\b\b\b\b\b\b\b\b\b\b\b\b\b\b\b\b\b\b\b\b\b\b\b\b\b\b\b\b\b\b\b\b\b\b\b\b\b\b\b\b\b\b\b\b\b\b\b\b\b\b\b\b\b\b\b\r",
      "198/748 [======>.......................] - ETA: 2s - loss: 0.2077"
     ]
    },
    {
     "name": "stdout",
     "output_type": "stream",
     "text": [
      "\b\b\b\b\b\b\b\b\b\b\b\b\b\b\b\b\b\b\b\b\b\b\b\b\b\b\b\b\b\b\b\b\b\b\b\b\b\b\b\b\b\b\b\b\b\b\b\b\b\b\b\b\b\b\b\b\b\b\b\b\b\b\b\b\b\r",
      "209/748 [=======>......................] - ETA: 2s - loss: 0.2039"
     ]
    },
    {
     "name": "stdout",
     "output_type": "stream",
     "text": [
      "\b\b\b\b\b\b\b\b\b\b\b\b\b\b\b\b\b\b\b\b\b\b\b\b\b\b\b\b\b\b\b\b\b\b\b\b\b\b\b\b\b\b\b\b\b\b\b\b\b\b\b\b\b\b\b\b\b\b\b\b\b\b\b\b\b\r",
      "220/748 [=======>......................] - ETA: 2s - loss: 0.2009"
     ]
    },
    {
     "name": "stdout",
     "output_type": "stream",
     "text": [
      "\b\b\b\b\b\b\b\b\b\b\b\b\b\b\b\b\b\b\b\b\b\b\b\b\b\b\b\b\b\b\b\b\b\b\b\b\b\b\b\b\b\b\b\b\b\b\b\b\b\b\b\b\b\b\b\b\b\b\b\b\b\b\b\b\b\r",
      "231/748 [========>.....................] - ETA: 2s - loss: 0.1975"
     ]
    },
    {
     "name": "stdout",
     "output_type": "stream",
     "text": [
      "\b\b\b\b\b\b\b\b\b\b\b\b\b\b\b\b\b\b\b\b\b\b\b\b\b\b\b\b\b\b\b\b\b\b\b\b\b\b\b\b\b\b\b\b\b\b\b\b\b\b\b\b\b\b\b\b\b\b\b\b\b\b\b\b\b\r",
      "242/748 [========>.....................] - ETA: 2s - loss: 0.1975"
     ]
    },
    {
     "name": "stdout",
     "output_type": "stream",
     "text": [
      "\b\b\b\b\b\b\b\b\b\b\b\b\b\b\b\b\b\b\b\b\b\b\b\b\b\b\b\b\b\b\b\b\b\b\b\b\b\b\b\b\b\b\b\b\b\b\b\b\b\b\b\b\b\b\b\b\b\b\b\b\b\b\b\b\b\r",
      "253/748 [=========>....................] - ETA: 2s - loss: 0.1958"
     ]
    },
    {
     "name": "stdout",
     "output_type": "stream",
     "text": [
      "\b\b\b\b\b\b\b\b\b\b\b\b\b\b\b\b\b\b\b\b\b\b\b\b\b\b\b\b\b\b\b\b\b\b\b\b\b\b\b\b\b\b\b\b\b\b\b\b\b\b\b\b\b\b\b\b\b\b\b\b\b\b\b\b\b\r",
      "264/748 [=========>....................] - ETA: 2s - loss: 0.1935"
     ]
    },
    {
     "name": "stdout",
     "output_type": "stream",
     "text": [
      "\b\b\b\b\b\b\b\b\b\b\b\b\b\b\b\b\b\b\b\b\b\b\b\b\b\b\b\b\b\b\b\b\b\b\b\b\b\b\b\b\b\b\b\b\b\b\b\b\b\b\b\b\b\b\b\b\b\b\b\b\b\b\b\b\b\r",
      "275/748 [==========>...................] - ETA: 2s - loss: 0.1914"
     ]
    },
    {
     "name": "stdout",
     "output_type": "stream",
     "text": [
      "\b\b\b\b\b\b\b\b\b\b\b\b\b\b\b\b\b\b\b\b\b\b\b\b\b\b\b\b\b\b\b\b\b\b\b\b\b\b\b\b\b\b\b\b\b\b\b\b\b\b\b\b\b\b\b\b\b\b\b\b\b\b\b\b\b\r",
      "286/748 [==========>...................] - ETA: 2s - loss: 0.1900"
     ]
    },
    {
     "name": "stdout",
     "output_type": "stream",
     "text": [
      "\b\b\b\b\b\b\b\b\b\b\b\b\b\b\b\b\b\b\b\b\b\b\b\b\b\b\b\b\b\b\b\b\b\b\b\b\b\b\b\b\b\b\b\b\b\b\b\b\b\b\b\b\b\b\b\b\b\b\b\b\b\b\b\b\b\r",
      "297/748 [==========>...................] - ETA: 2s - loss: 0.1882"
     ]
    },
    {
     "name": "stdout",
     "output_type": "stream",
     "text": [
      "\b\b\b\b\b\b\b\b\b\b\b\b\b\b\b\b\b\b\b\b\b\b\b\b\b\b\b\b\b\b\b\b\b\b\b\b\b\b\b\b\b\b\b\b\b\b\b\b\b\b\b\b\b\b\b\b\b\b\b\b\b\b\b\b\b\r",
      "308/748 [===========>..................] - ETA: 2s - loss: 0.1872"
     ]
    },
    {
     "name": "stdout",
     "output_type": "stream",
     "text": [
      "\b\b\b\b\b\b\b\b\b\b\b\b\b\b\b\b\b\b\b\b\b\b\b\b\b\b\b\b\b\b\b\b\b\b\b\b\b\b\b\b\b\b\b\b\b\b\b\b\b\b\b\b\b\b\b\b\b\b\b\b\b\b\b\b\b\r",
      "319/748 [===========>..................] - ETA: 2s - loss: 0.1853"
     ]
    },
    {
     "name": "stdout",
     "output_type": "stream",
     "text": [
      "\b\b\b\b\b\b\b\b\b\b\b\b\b\b\b\b\b\b\b\b\b\b\b\b\b\b\b\b\b\b\b\b\b\b\b\b\b\b\b\b\b\b\b\b\b\b\b\b\b\b\b\b\b\b\b\b\b\b\b\b\b\b\b\b\b\r",
      "330/748 [============>.................] - ETA: 1s - loss: 0.1840"
     ]
    },
    {
     "name": "stdout",
     "output_type": "stream",
     "text": [
      "\b\b\b\b\b\b\b\b\b\b\b\b\b\b\b\b\b\b\b\b\b\b\b\b\b\b\b\b\b\b\b\b\b\b\b\b\b\b\b\b\b\b\b\b\b\b\b\b\b\b\b\b\b\b\b\b\b\b\b\b\b\b\b\b\b\r",
      "341/748 [============>.................] - ETA: 1s - loss: 0.1825"
     ]
    },
    {
     "name": "stdout",
     "output_type": "stream",
     "text": [
      "\b\b\b\b\b\b\b\b\b\b\b\b\b\b\b\b\b\b\b\b\b\b\b\b\b\b\b\b\b\b\b\b\b\b\b\b\b\b\b\b\b\b\b\b\b\b\b\b\b\b\b\b\b\b\b\b\b\b\b\b\b\b\b\b\b\r",
      "352/748 [=============>................] - ETA: 1s - loss: 0.1813"
     ]
    },
    {
     "name": "stdout",
     "output_type": "stream",
     "text": [
      "\b\b\b\b\b\b\b\b\b\b\b\b\b\b\b\b\b\b\b\b\b\b\b\b\b\b\b\b\b\b\b\b\b\b\b\b\b\b\b\b\b\b\b\b\b\b\b\b\b\b\b\b\b\b\b\b\b\b\b\b\b\b\b\b\b\r",
      "363/748 [=============>................] - ETA: 1s - loss: 0.1802"
     ]
    },
    {
     "name": "stdout",
     "output_type": "stream",
     "text": [
      "\b\b\b\b\b\b\b\b\b\b\b\b\b\b\b\b\b\b\b\b\b\b\b\b\b\b\b\b\b\b\b\b\b\b\b\b\b\b\b\b\b\b\b\b\b\b\b\b\b\b\b\b\b\b\b\b\b\b\b\b\b\b\b\b\b\r",
      "374/748 [==============>...............] - ETA: 1s - loss: 0.1782"
     ]
    },
    {
     "name": "stdout",
     "output_type": "stream",
     "text": [
      "\b\b\b\b\b\b\b\b\b\b\b\b\b\b\b\b\b\b\b\b\b\b\b\b\b\b\b\b\b\b\b\b\b\b\b\b\b\b\b\b\b\b\b\b\b\b\b\b\b\b\b\b\b\b\b\b\b\b\b\b\b\b\b\b\b\r",
      "385/748 [==============>...............] - ETA: 1s - loss: 0.1770"
     ]
    },
    {
     "name": "stdout",
     "output_type": "stream",
     "text": [
      "\b\b\b\b\b\b\b\b\b\b\b\b\b\b\b\b\b\b\b\b\b\b\b\b\b\b\b\b\b\b\b\b\b\b\b\b\b\b\b\b\b\b\b\b\b\b\b\b\b\b\b\b\b\b\b\b\b\b\b\b\b\b\b\b\b\r",
      "396/748 [==============>...............] - ETA: 1s - loss: 0.1758"
     ]
    },
    {
     "name": "stdout",
     "output_type": "stream",
     "text": [
      "\b\b\b\b\b\b\b\b\b\b\b\b\b\b\b\b\b\b\b\b\b\b\b\b\b\b\b\b\b\b\b\b\b\b\b\b\b\b\b\b\b\b\b\b\b\b\b\b\b\b\b\b\b\b\b\b\b\b\b\b\b\b\b\b\b\r",
      "407/748 [===============>..............] - ETA: 1s - loss: 0.1746"
     ]
    },
    {
     "name": "stdout",
     "output_type": "stream",
     "text": [
      "\b\b\b\b\b\b\b\b\b\b\b\b\b\b\b\b\b\b\b\b\b\b\b\b\b\b\b\b\b\b\b\b\b\b\b\b\b\b\b\b\b\b\b\b\b\b\b\b\b\b\b\b\b\b\b\b\b\b\b\b\b\b\b\b\b\r",
      "418/748 [===============>..............] - ETA: 1s - loss: 0.1729"
     ]
    },
    {
     "name": "stdout",
     "output_type": "stream",
     "text": [
      "\b\b\b\b\b\b\b\b\b\b\b\b\b\b\b\b\b\b\b\b\b\b\b\b\b\b\b\b\b\b\b\b\b\b\b\b\b\b\b\b\b\b\b\b\b\b\b\b\b\b\b\b\b\b\b\b\b\b\b\b\b\b\b\b\b\r",
      "429/748 [================>.............] - ETA: 1s - loss: 0.1722"
     ]
    },
    {
     "name": "stdout",
     "output_type": "stream",
     "text": [
      "\b\b\b\b\b\b\b\b\b\b\b\b\b\b\b\b\b\b\b\b\b\b\b\b\b\b\b\b\b\b\b\b\b\b\b\b\b\b\b\b\b\b\b\b\b\b\b\b\b\b\b\b\b\b\b\b\b\b\b\b\b\b\b\b\b\r",
      "440/748 [================>.............] - ETA: 1s - loss: 0.1717"
     ]
    },
    {
     "name": "stdout",
     "output_type": "stream",
     "text": [
      "\b\b\b\b\b\b\b\b\b\b\b\b\b\b\b\b\b\b\b\b\b\b\b\b\b\b\b\b\b\b\b\b\b\b\b\b\b\b\b\b\b\b\b\b\b\b\b\b\b\b\b\b\b\b\b\b\b\b\b\b\b\b\b\b\b\r",
      "451/748 [=================>............] - ETA: 1s - loss: 0.1714"
     ]
    },
    {
     "name": "stdout",
     "output_type": "stream",
     "text": [
      "\b\b\b\b\b\b\b\b\b\b\b\b\b\b\b\b\b\b\b\b\b\b\b\b\b\b\b\b\b\b\b\b\b\b\b\b\b\b\b\b\b\b\b\b\b\b\b\b\b\b\b\b\b\b\b\b\b\b\b\b\b\b\b\b\b\r",
      "462/748 [=================>............] - ETA: 1s - loss: 0.1699"
     ]
    },
    {
     "name": "stdout",
     "output_type": "stream",
     "text": [
      "\b\b\b\b\b\b\b\b\b\b\b\b\b\b\b\b\b\b\b\b\b\b\b\b\b\b\b\b\b\b\b\b\b\b\b\b\b\b\b\b\b\b\b\b\b\b\b\b\b\b\b\b\b\b\b\b\b\b\b\b\b\b\b\b\b\r",
      "473/748 [=================>............] - ETA: 1s - loss: 0.1695"
     ]
    },
    {
     "name": "stdout",
     "output_type": "stream",
     "text": [
      "\b\b\b\b\b\b\b\b\b\b\b\b\b\b\b\b\b\b\b\b\b\b\b\b\b\b\b\b\b\b\b\b\b\b\b\b\b\b\b\b\b\b\b\b\b\b\b\b\b\b\b\b\b\b\b\b\b\b\b\b\b\b\b\b\b\r",
      "484/748 [==================>...........] - ETA: 1s - loss: 0.1687"
     ]
    },
    {
     "name": "stdout",
     "output_type": "stream",
     "text": [
      "\b\b\b\b\b\b\b\b\b\b\b\b\b\b\b\b\b\b\b\b\b\b\b\b\b\b\b\b\b\b\b\b\b\b\b\b\b\b\b\b\b\b\b\b\b\b\b\b\b\b\b\b\b\b\b\b\b\b\b\b\b\b\b\b\b\r",
      "495/748 [==================>...........] - ETA: 1s - loss: 0.1678"
     ]
    },
    {
     "name": "stdout",
     "output_type": "stream",
     "text": [
      "\b\b\b\b\b\b\b\b\b\b\b\b\b\b\b\b\b\b\b\b\b\b\b\b\b\b\b\b\b\b\b\b\b\b\b\b\b\b\b\b\b\b\b\b\b\b\b\b\b\b\b\b\b\b\b\b\b\b\b\b\b\b\b\b\b\r",
      "506/748 [===================>..........] - ETA: 1s - loss: 0.1672"
     ]
    },
    {
     "name": "stdout",
     "output_type": "stream",
     "text": [
      "\b\b\b\b\b\b\b\b\b\b\b\b\b\b\b\b\b\b\b\b\b\b\b\b\b\b\b\b\b\b\b\b\b\b\b\b\b\b\b\b\b\b\b\b\b\b\b\b\b\b\b\b\b\b\b\b\b\b\b\b\b\b\b\b\b\r",
      "517/748 [===================>..........] - ETA: 1s - loss: 0.1665"
     ]
    },
    {
     "name": "stdout",
     "output_type": "stream",
     "text": [
      "\b\b\b\b\b\b\b\b\b\b\b\b\b\b\b\b\b\b\b\b\b\b\b\b\b\b\b\b\b\b\b\b\b\b\b\b\b\b\b\b\b\b\b\b\b\b\b\b\b\b\b\b\b\b\b\b\b\b\b\b\b\b\b\b\b\r",
      "528/748 [====================>.........] - ETA: 1s - loss: 0.1657"
     ]
    },
    {
     "name": "stdout",
     "output_type": "stream",
     "text": [
      "\b\b\b\b\b\b\b\b\b\b\b\b\b\b\b\b\b\b\b\b\b\b\b\b\b\b\b\b\b\b\b\b\b\b\b\b\b\b\b\b\b\b\b\b\b\b\b\b\b\b\b\b\b\b\b\b\b\b\b\b\b\b\b\b\b\r",
      "539/748 [====================>.........] - ETA: 0s - loss: 0.1647"
     ]
    },
    {
     "name": "stdout",
     "output_type": "stream",
     "text": [
      "\b\b\b\b\b\b\b\b\b\b\b\b\b\b\b\b\b\b\b\b\b\b\b\b\b\b\b\b\b\b\b\b\b\b\b\b\b\b\b\b\b\b\b\b\b\b\b\b\b\b\b\b\b\b\b\b\b\b\b\b\b\b\b\b\b\r",
      "550/748 [=====================>........] - ETA: 0s - loss: 0.1638"
     ]
    },
    {
     "name": "stdout",
     "output_type": "stream",
     "text": [
      "\b\b\b\b\b\b\b\b\b\b\b\b\b\b\b\b\b\b\b\b\b\b\b\b\b\b\b\b\b\b\b\b\b\b\b\b\b\b\b\b\b\b\b\b\b\b\b\b\b\b\b\b\b\b\b\b\b\b\b\b\b\b\b\b\b\r",
      "561/748 [=====================>........] - ETA: 0s - loss: 0.1637"
     ]
    },
    {
     "name": "stdout",
     "output_type": "stream",
     "text": [
      "\b\b\b\b\b\b\b\b\b\b\b\b\b\b\b\b\b\b\b\b\b\b\b\b\b\b\b\b\b\b\b\b\b\b\b\b\b\b\b\b\b\b\b\b\b\b\b\b\b\b\b\b\b\b\b\b\b\b\b\b\b\b\b\b\b\r",
      "572/748 [=====================>........] - ETA: 0s - loss: 0.1630"
     ]
    },
    {
     "name": "stdout",
     "output_type": "stream",
     "text": [
      "\b\b\b\b\b\b\b\b\b\b\b\b\b\b\b\b\b\b\b\b\b\b\b\b\b\b\b\b\b\b\b\b\b\b\b\b\b\b\b\b\b\b\b\b\b\b\b\b\b\b\b\b\b\b\b\b\b\b\b\b\b\b\b\b\b\r",
      "583/748 [======================>.......] - ETA: 0s - loss: 0.1622"
     ]
    },
    {
     "name": "stdout",
     "output_type": "stream",
     "text": [
      "\b\b\b\b\b\b\b\b\b\b\b\b\b\b\b\b\b\b\b\b\b\b\b\b\b\b\b\b\b\b\b\b\b\b\b\b\b\b\b\b\b\b\b\b\b\b\b\b\b\b\b\b\b\b\b\b\b\b\b\b\b\b\b\b\b\r",
      "594/748 [======================>.......] - ETA: 0s - loss: 0.1618"
     ]
    },
    {
     "name": "stdout",
     "output_type": "stream",
     "text": [
      "\b\b\b\b\b\b\b\b\b\b\b\b\b\b\b\b\b\b\b\b\b\b\b\b\b\b\b\b\b\b\b\b\b\b\b\b\b\b\b\b\b\b\b\b\b\b\b\b\b\b\b\b\b\b\b\b\b\b\b\b\b\b\b\b\b\r",
      "605/748 [=======================>......] - ETA: 0s - loss: 0.1614"
     ]
    },
    {
     "name": "stdout",
     "output_type": "stream",
     "text": [
      "\b\b\b\b\b\b\b\b\b\b\b\b\b\b\b\b\b\b\b\b\b\b\b\b\b\b\b\b\b\b\b\b\b\b\b\b\b\b\b\b\b\b\b\b\b\b\b\b\b\b\b\b\b\b\b\b\b\b\b\b\b\b\b\b\b\r",
      "616/748 [=======================>......] - ETA: 0s - loss: 0.1613"
     ]
    },
    {
     "name": "stdout",
     "output_type": "stream",
     "text": [
      "\b\b\b\b\b\b\b\b\b\b\b\b\b\b\b\b\b\b\b\b\b\b\b\b\b\b\b\b\b\b\b\b\b\b\b\b\b\b\b\b\b\b\b\b\b\b\b\b\b\b\b\b\b\b\b\b\b\b\b\b\b\b\b\b\b\r",
      "627/748 [========================>.....] - ETA: 0s - loss: 0.1616"
     ]
    },
    {
     "name": "stdout",
     "output_type": "stream",
     "text": [
      "\b\b\b\b\b\b\b\b\b\b\b\b\b\b\b\b\b\b\b\b\b\b\b\b\b\b\b\b\b\b\b\b\b\b\b\b\b\b\b\b\b\b\b\b\b\b\b\b\b\b\b\b\b\b\b\b\b\b\b\b\b\b\b\b\b\r",
      "638/748 [========================>.....] - ETA: 0s - loss: 0.1610"
     ]
    },
    {
     "name": "stdout",
     "output_type": "stream",
     "text": [
      "\b\b\b\b\b\b\b\b\b\b\b\b\b\b\b\b\b\b\b\b\b\b\b\b\b\b\b\b\b\b\b\b\b\b\b\b\b\b\b\b\b\b\b\b\b\b\b\b\b\b\b\b\b\b\b\b\b\b\b\b\b\b\b\b\b\r",
      "649/748 [=========================>....] - ETA: 0s - loss: 0.1607"
     ]
    },
    {
     "name": "stdout",
     "output_type": "stream",
     "text": [
      "\b\b\b\b\b\b\b\b\b\b\b\b\b\b\b\b\b\b\b\b\b\b\b\b\b\b\b\b\b\b\b\b\b\b\b\b\b\b\b\b\b\b\b\b\b\b\b\b\b\b\b\b\b\b\b\b\b\b\b\b\b\b\b\b\b\r",
      "660/748 [=========================>....] - ETA: 0s - loss: 0.1602"
     ]
    },
    {
     "name": "stdout",
     "output_type": "stream",
     "text": [
      "\b\b\b\b\b\b\b\b\b\b\b\b\b\b\b\b\b\b\b\b\b\b\b\b\b\b\b\b\b\b\b\b\b\b\b\b\b\b\b\b\b\b\b\b\b\b\b\b\b\b\b\b\b\b\b\b\b\b\b\b\b\b\b\b\b\r",
      "671/748 [=========================>....] - ETA: 0s - loss: 0.1598"
     ]
    },
    {
     "name": "stdout",
     "output_type": "stream",
     "text": [
      "\b\b\b\b\b\b\b\b\b\b\b\b\b\b\b\b\b\b\b\b\b\b\b\b\b\b\b\b\b\b\b\b\b\b\b\b\b\b\b\b\b\b\b\b\b\b\b\b\b\b\b\b\b\b\b\b\b\b\b\b\b\b\b\b\b\r",
      "682/748 [==========================>...] - ETA: 0s - loss: 0.1594"
     ]
    },
    {
     "name": "stdout",
     "output_type": "stream",
     "text": [
      "\b\b\b\b\b\b\b\b\b\b\b\b\b\b\b\b\b\b\b\b\b\b\b\b\b\b\b\b\b\b\b\b\b\b\b\b\b\b\b\b\b\b\b\b\b\b\b\b\b\b\b\b\b\b\b\b\b\b\b\b\b\b\b\b\b\r",
      "693/748 [==========================>...] - ETA: 0s - loss: 0.1591"
     ]
    },
    {
     "name": "stdout",
     "output_type": "stream",
     "text": [
      "\b\b\b\b\b\b\b\b\b\b\b\b\b\b\b\b\b\b\b\b\b\b\b\b\b\b\b\b\b\b\b\b\b\b\b\b\b\b\b\b\b\b\b\b\b\b\b\b\b\b\b\b\b\b\b\b\b\b\b\b\b\b\b\b\b\r",
      "704/748 [===========================>..] - ETA: 0s - loss: 0.1585"
     ]
    },
    {
     "name": "stdout",
     "output_type": "stream",
     "text": [
      "\b\b\b\b\b\b\b\b\b\b\b\b\b\b\b\b\b\b\b\b\b\b\b\b\b\b\b\b\b\b\b\b\b\b\b\b\b\b\b\b\b\b\b\b\b\b\b\b\b\b\b\b\b\b\b\b\b\b\b\b\b\b\b\b\b\r",
      "715/748 [===========================>..] - ETA: 0s - loss: 0.1584"
     ]
    },
    {
     "name": "stdout",
     "output_type": "stream",
     "text": [
      "\b\b\b\b\b\b\b\b\b\b\b\b\b\b\b\b\b\b\b\b\b\b\b\b\b\b\b\b\b\b\b\b\b\b\b\b\b\b\b\b\b\b\b\b\b\b\b\b\b\b\b\b\b\b\b\b\b\b\b\b\b\b\b\b\b\r",
      "726/748 [============================>.] - ETA: 0s - loss: 0.1579"
     ]
    },
    {
     "name": "stdout",
     "output_type": "stream",
     "text": [
      "\b\b\b\b\b\b\b\b\b\b\b\b\b\b\b\b\b\b\b\b\b\b\b\b\b\b\b\b\b\b\b\b\b\b\b\b\b\b\b\b\b\b\b\b\b\b\b\b\b\b\b\b\b\b\b\b\b\b\b\b\b\b\b\b\b\r",
      "737/748 [============================>.] - ETA: 0s - loss: 0.1575"
     ]
    },
    {
     "name": "stdout",
     "output_type": "stream",
     "text": [
      "\b\b\b\b\b\b\b\b\b\b\b\b\b\b\b\b\b\b\b\b\b\b\b\b\b\b\b\b\b\b\b\b\b\b\b\b\b\b\b\b\b\b\b\b\b\b\b\b\b\b\b\b\b\b\b\b\b\b\b\b\b\b\b\b\b\r",
      "748/748 [==============================] - ETA: 0s - loss: 0.1575"
     ]
    },
    {
     "name": "stdout",
     "output_type": "stream",
     "text": [
      "\b\b\b\b\b\b\b\b\b\b\b\b\b\b\b\b\b\b\b\b\b\b\b\b\b\b\b\b\b\b\b\b\b\b\b\b\b\b\b\b\b\b\b\b\b\b\b\b\b\b\b\b\b\b\b\b\b\b\b\b\b\b\b\b\b\r",
      "748/748 [==============================] - 14s 5ms/step - loss: 0.1575\n"
     ]
    },
    {
     "name": "stdout",
     "output_type": "stream",
     "text": [
      "Epoch 2/2\n"
     ]
    },
    {
     "name": "stdout",
     "output_type": "stream",
     "text": [
      "\r",
      "  1/748 [..............................] - ETA: 4s - loss: 0.0867"
     ]
    },
    {
     "name": "stdout",
     "output_type": "stream",
     "text": [
      "\b\b\b\b\b\b\b\b\b\b\b\b\b\b\b\b\b\b\b\b\b\b\b\b\b\b\b\b\b\b\b\b\b\b\b\b\b\b\b\b\b\b\b\b\b\b\b\b\b\b\b\b\b\b\b\b\b\b\b\b\b\b\b\b\b\r",
      " 12/748 [..............................] - ETA: 3s - loss: 0.1295"
     ]
    },
    {
     "name": "stdout",
     "output_type": "stream",
     "text": [
      "\b\b\b\b\b\b\b\b\b\b\b\b\b\b\b\b\b\b\b\b\b\b\b\b\b\b\b\b\b\b\b\b\b\b\b\b\b\b\b\b\b\b\b\b\b\b\b\b\b\b\b\b\b\b\b\b\b\b\b\b\b\b\b\b\b\r",
      " 23/748 [..............................] - ETA: 3s - loss: 0.1341"
     ]
    },
    {
     "name": "stdout",
     "output_type": "stream",
     "text": [
      "\b\b\b\b\b\b\b\b\b\b\b\b\b\b\b\b\b\b\b\b\b\b\b\b\b\b\b\b\b\b\b\b\b\b\b\b\b\b\b\b\b\b\b\b\b\b\b\b\b\b\b\b\b\b\b\b\b\b\b\b\b\b\b\b\b\r",
      " 34/748 [>.............................] - ETA: 3s - loss: 0.1266"
     ]
    },
    {
     "name": "stdout",
     "output_type": "stream",
     "text": [
      "\b\b\b\b\b\b\b\b\b\b\b\b\b\b\b\b\b\b\b\b\b\b\b\b\b\b\b\b\b\b\b\b\b\b\b\b\b\b\b\b\b\b\b\b\b\b\b\b\b\b\b\b\b\b\b\b\b\b\b\b\b\b\b\b\b\r",
      " 45/748 [>.............................] - ETA: 3s - loss: 0.1229"
     ]
    },
    {
     "name": "stdout",
     "output_type": "stream",
     "text": [
      "\b\b\b\b\b\b\b\b\b\b\b\b\b\b\b\b\b\b\b\b\b\b\b\b\b\b\b\b\b\b\b\b\b\b\b\b\b\b\b\b\b\b\b\b\b\b\b\b\b\b\b\b\b\b\b\b\b\b\b\b\b\b\b\b\b\r",
      " 56/748 [=>............................] - ETA: 3s - loss: 0.1231"
     ]
    },
    {
     "name": "stdout",
     "output_type": "stream",
     "text": [
      "\b\b\b\b\b\b\b\b\b\b\b\b\b\b\b\b\b\b\b\b\b\b\b\b\b\b\b\b\b\b\b\b\b\b\b\b\b\b\b\b\b\b\b\b\b\b\b\b\b\b\b\b\b\b\b\b\b\b\b\b\b\b\b\b\b\r",
      " 67/748 [=>............................] - ETA: 3s - loss: 0.1226"
     ]
    },
    {
     "name": "stdout",
     "output_type": "stream",
     "text": [
      "\b\b\b\b\b\b\b\b\b\b\b\b\b\b\b\b\b\b\b\b\b\b\b\b\b\b\b\b\b\b\b\b\b\b\b\b\b\b\b\b\b\b\b\b\b\b\b\b\b\b\b\b\b\b\b\b\b\b\b\b\b\b\b\b\b\r",
      " 78/748 [==>...........................] - ETA: 3s - loss: 0.1248"
     ]
    },
    {
     "name": "stdout",
     "output_type": "stream",
     "text": [
      "\b\b\b\b\b\b\b\b\b\b\b\b\b\b\b\b\b\b\b\b\b\b\b\b\b\b\b\b\b\b\b\b\b\b\b\b\b\b\b\b\b\b\b\b\b\b\b\b\b\b\b\b\b\b\b\b\b\b\b\b\b\b\b\b\b\r",
      " 89/748 [==>...........................] - ETA: 3s - loss: 0.1239"
     ]
    },
    {
     "name": "stdout",
     "output_type": "stream",
     "text": [
      "\b\b\b\b\b\b\b\b\b\b\b\b\b\b\b\b\b\b\b\b\b\b\b\b\b\b\b\b\b\b\b\b\b\b\b\b\b\b\b\b\b\b\b\b\b\b\b\b\b\b\b\b\b\b\b\b\b\b\b\b\b\b\b\b\b\r",
      "100/748 [===>..........................] - ETA: 3s - loss: 0.1247"
     ]
    },
    {
     "name": "stdout",
     "output_type": "stream",
     "text": [
      "\b\b\b\b\b\b\b\b\b\b\b\b\b\b\b\b\b\b\b\b\b\b\b\b\b\b\b\b\b\b\b\b\b\b\b\b\b\b\b\b\b\b\b\b\b\b\b\b\b\b\b\b\b\b\b\b\b\b\b\b\b\b\b\b\b\r",
      "111/748 [===>..........................] - ETA: 3s - loss: 0.1230"
     ]
    },
    {
     "name": "stdout",
     "output_type": "stream",
     "text": [
      "\b\b\b\b\b\b\b\b\b\b\b\b\b\b\b\b\b\b\b\b\b\b\b\b\b\b\b\b\b\b\b\b\b\b\b\b\b\b\b\b\b\b\b\b\b\b\b\b\b\b\b\b\b\b\b\b\b\b\b\b\b\b\b\b\b\r",
      "122/748 [===>..........................] - ETA: 2s - loss: 0.1220"
     ]
    },
    {
     "name": "stdout",
     "output_type": "stream",
     "text": [
      "\b\b\b\b\b\b\b\b\b\b\b\b\b\b\b\b\b\b\b\b\b\b\b\b\b\b\b\b\b\b\b\b\b\b\b\b\b\b\b\b\b\b\b\b\b\b\b\b\b\b\b\b\b\b\b\b\b\b\b\b\b\b\b\b\b\r",
      "133/748 [====>.........................] - ETA: 2s - loss: 0.1211"
     ]
    },
    {
     "name": "stdout",
     "output_type": "stream",
     "text": [
      "\b\b\b\b\b\b\b\b\b\b\b\b\b\b\b\b\b\b\b\b\b\b\b\b\b\b\b\b\b\b\b\b\b\b\b\b\b\b\b\b\b\b\b\b\b\b\b\b\b\b\b\b\b\b\b\b\b\b\b\b\b\b\b\b\b\r",
      "144/748 [====>.........................] - ETA: 2s - loss: 0.1191"
     ]
    },
    {
     "name": "stdout",
     "output_type": "stream",
     "text": [
      "\b\b\b\b\b\b\b\b\b\b\b\b\b\b\b\b\b\b\b\b\b\b\b\b\b\b\b\b\b\b\b\b\b\b\b\b\b\b\b\b\b\b\b\b\b\b\b\b\b\b\b\b\b\b\b\b\b\b\b\b\b\b\b\b\b\r",
      "155/748 [=====>........................] - ETA: 2s - loss: 0.1191"
     ]
    },
    {
     "name": "stdout",
     "output_type": "stream",
     "text": [
      "\b\b\b\b\b\b\b\b\b\b\b\b\b\b\b\b\b\b\b\b\b\b\b\b\b\b\b\b\b\b\b\b\b\b\b\b\b\b\b\b\b\b\b\b\b\b\b\b\b\b\b\b\b\b\b\b\b\b\b\b\b\b\b\b\b\r",
      "166/748 [=====>........................] - ETA: 2s - loss: 0.1204"
     ]
    },
    {
     "name": "stdout",
     "output_type": "stream",
     "text": [
      "\b\b\b\b\b\b\b\b\b\b\b\b\b\b\b\b\b\b\b\b\b\b\b\b\b\b\b\b\b\b\b\b\b\b\b\b\b\b\b\b\b\b\b\b\b\b\b\b\b\b\b\b\b\b\b\b\b\b\b\b\b\b\b\b\b\r",
      "177/748 [======>.......................] - ETA: 2s - loss: 0.1201"
     ]
    },
    {
     "name": "stdout",
     "output_type": "stream",
     "text": [
      "\b\b\b\b\b\b\b\b\b\b\b\b\b\b\b\b\b\b\b\b\b\b\b\b\b\b\b\b\b\b\b\b\b\b\b\b\b\b\b\b\b\b\b\b\b\b\b\b\b\b\b\b\b\b\b\b\b\b\b\b\b\b\b\b\b\r",
      "188/748 [======>.......................] - ETA: 2s - loss: 0.1213"
     ]
    },
    {
     "name": "stdout",
     "output_type": "stream",
     "text": [
      "\b\b\b\b\b\b\b\b\b\b\b\b\b\b\b\b\b\b\b\b\b\b\b\b\b\b\b\b\b\b\b\b\b\b\b\b\b\b\b\b\b\b\b\b\b\b\b\b\b\b\b\b\b\b\b\b\b\b\b\b\b\b\b\b\b\r",
      "199/748 [======>.......................] - ETA: 2s - loss: 0.1217"
     ]
    },
    {
     "name": "stdout",
     "output_type": "stream",
     "text": [
      "\b\b\b\b\b\b\b\b\b\b\b\b\b\b\b\b\b\b\b\b\b\b\b\b\b\b\b\b\b\b\b\b\b\b\b\b\b\b\b\b\b\b\b\b\b\b\b\b\b\b\b\b\b\b\b\b\b\b\b\b\b\b\b\b\b\r",
      "210/748 [=======>......................] - ETA: 2s - loss: 0.1215"
     ]
    },
    {
     "name": "stdout",
     "output_type": "stream",
     "text": [
      "\b\b\b\b\b\b\b\b\b\b\b\b\b\b\b\b\b\b\b\b\b\b\b\b\b\b\b\b\b\b\b\b\b\b\b\b\b\b\b\b\b\b\b\b\b\b\b\b\b\b\b\b\b\b\b\b\b\b\b\b\b\b\b\b\b\r",
      "220/748 [=======>......................] - ETA: 2s - loss: 0.1212"
     ]
    },
    {
     "name": "stdout",
     "output_type": "stream",
     "text": [
      "\b\b\b\b\b\b\b\b\b\b\b\b\b\b\b\b\b\b\b\b\b\b\b\b\b\b\b\b\b\b\b\b\b\b\b\b\b\b\b\b\b\b\b\b\b\b\b\b\b\b\b\b\b\b\b\b\b\b\b\b\b\b\b\b\b\r",
      "231/748 [========>.....................] - ETA: 2s - loss: 0.1198"
     ]
    },
    {
     "name": "stdout",
     "output_type": "stream",
     "text": [
      "\b\b\b\b\b\b\b\b\b\b\b\b\b\b\b\b\b\b\b\b\b\b\b\b\b\b\b\b\b\b\b\b\b\b\b\b\b\b\b\b\b\b\b\b\b\b\b\b\b\b\b\b\b\b\b\b\b\b\b\b\b\b\b\b\b\r",
      "241/748 [========>.....................] - ETA: 2s - loss: 0.1210"
     ]
    },
    {
     "name": "stdout",
     "output_type": "stream",
     "text": [
      "\b\b\b\b\b\b\b\b\b\b\b\b\b\b\b\b\b\b\b\b\b\b\b\b\b\b\b\b\b\b\b\b\b\b\b\b\b\b\b\b\b\b\b\b\b\b\b\b\b\b\b\b\b\b\b\b\b\b\b\b\b\b\b\b\b\r",
      "252/748 [=========>....................] - ETA: 2s - loss: 0.1219"
     ]
    },
    {
     "name": "stdout",
     "output_type": "stream",
     "text": [
      "\b\b\b\b\b\b\b\b\b\b\b\b\b\b\b\b\b\b\b\b\b\b\b\b\b\b\b\b\b\b\b\b\b\b\b\b\b\b\b\b\b\b\b\b\b\b\b\b\b\b\b\b\b\b\b\b\b\b\b\b\b\b\b\b\b\r",
      "263/748 [=========>....................] - ETA: 2s - loss: 0.1214"
     ]
    },
    {
     "name": "stdout",
     "output_type": "stream",
     "text": [
      "\b\b\b\b\b\b\b\b\b\b\b\b\b\b\b\b\b\b\b\b\b\b\b\b\b\b\b\b\b\b\b\b\b\b\b\b\b\b\b\b\b\b\b\b\b\b\b\b\b\b\b\b\b\b\b\b\b\b\b\b\b\b\b\b\b\r",
      "274/748 [=========>....................] - ETA: 2s - loss: 0.1214"
     ]
    },
    {
     "name": "stdout",
     "output_type": "stream",
     "text": [
      "\b\b\b\b\b\b\b\b\b\b\b\b\b\b\b\b\b\b\b\b\b\b\b\b\b\b\b\b\b\b\b\b\b\b\b\b\b\b\b\b\b\b\b\b\b\b\b\b\b\b\b\b\b\b\b\b\b\b\b\b\b\b\b\b\b\r",
      "285/748 [==========>...................] - ETA: 2s - loss: 0.1206"
     ]
    },
    {
     "name": "stdout",
     "output_type": "stream",
     "text": [
      "\b\b\b\b\b\b\b\b\b\b\b\b\b\b\b\b\b\b\b\b\b\b\b\b\b\b\b\b\b\b\b\b\b\b\b\b\b\b\b\b\b\b\b\b\b\b\b\b\b\b\b\b\b\b\b\b\b\b\b\b\b\b\b\b\b\r",
      "296/748 [==========>...................] - ETA: 2s - loss: 0.1205"
     ]
    },
    {
     "name": "stdout",
     "output_type": "stream",
     "text": [
      "\b\b\b\b\b\b\b\b\b\b\b\b\b\b\b\b\b\b\b\b\b\b\b\b\b\b\b\b\b\b\b\b\b\b\b\b\b\b\b\b\b\b\b\b\b\b\b\b\b\b\b\b\b\b\b\b\b\b\b\b\b\b\b\b\b\r",
      "307/748 [===========>..................] - ETA: 2s - loss: 0.1212"
     ]
    },
    {
     "name": "stdout",
     "output_type": "stream",
     "text": [
      "\b\b\b\b\b\b\b\b\b\b\b\b\b\b\b\b\b\b\b\b\b\b\b\b\b\b\b\b\b\b\b\b\b\b\b\b\b\b\b\b\b\b\b\b\b\b\b\b\b\b\b\b\b\b\b\b\b\b\b\b\b\b\b\b\b\r",
      "318/748 [===========>..................] - ETA: 2s - loss: 0.1209"
     ]
    },
    {
     "name": "stdout",
     "output_type": "stream",
     "text": [
      "\b\b\b\b\b\b\b\b\b\b\b\b\b\b\b\b\b\b\b\b\b\b\b\b\b\b\b\b\b\b\b\b\b\b\b\b\b\b\b\b\b\b\b\b\b\b\b\b\b\b\b\b\b\b\b\b\b\b\b\b\b\b\b\b\b\r",
      "329/748 [============>.................] - ETA: 2s - loss: 0.1203"
     ]
    },
    {
     "name": "stdout",
     "output_type": "stream",
     "text": [
      "\b\b\b\b\b\b\b\b\b\b\b\b\b\b\b\b\b\b\b\b\b\b\b\b\b\b\b\b\b\b\b\b\b\b\b\b\b\b\b\b\b\b\b\b\b\b\b\b\b\b\b\b\b\b\b\b\b\b\b\b\b\b\b\b\b\r",
      "340/748 [============>.................] - ETA: 1s - loss: 0.1204"
     ]
    },
    {
     "name": "stdout",
     "output_type": "stream",
     "text": [
      "\b\b\b\b\b\b\b\b\b\b\b\b\b\b\b\b\b\b\b\b\b\b\b\b\b\b\b\b\b\b\b\b\b\b\b\b\b\b\b\b\b\b\b\b\b\b\b\b\b\b\b\b\b\b\b\b\b\b\b\b\b\b\b\b\b\r",
      "351/748 [=============>................] - ETA: 1s - loss: 0.1209"
     ]
    },
    {
     "name": "stdout",
     "output_type": "stream",
     "text": [
      "\b\b\b\b\b\b\b\b\b\b\b\b\b\b\b\b\b\b\b\b\b\b\b\b\b\b\b\b\b\b\b\b\b\b\b\b\b\b\b\b\b\b\b\b\b\b\b\b\b\b\b\b\b\b\b\b\b\b\b\b\b\b\b\b\b\r",
      "362/748 [=============>................] - ETA: 1s - loss: 0.1209"
     ]
    },
    {
     "name": "stdout",
     "output_type": "stream",
     "text": [
      "\b\b\b\b\b\b\b\b\b\b\b\b\b\b\b\b\b\b\b\b\b\b\b\b\b\b\b\b\b\b\b\b\b\b\b\b\b\b\b\b\b\b\b\b\b\b\b\b\b\b\b\b\b\b\b\b\b\b\b\b\b\b\b\b\b\r",
      "373/748 [=============>................] - ETA: 1s - loss: 0.1203"
     ]
    },
    {
     "name": "stdout",
     "output_type": "stream",
     "text": [
      "\b\b\b\b\b\b\b\b\b\b\b\b\b\b\b\b\b\b\b\b\b\b\b\b\b\b\b\b\b\b\b\b\b\b\b\b\b\b\b\b\b\b\b\b\b\b\b\b\b\b\b\b\b\b\b\b\b\b\b\b\b\b\b\b\b\r",
      "383/748 [==============>...............] - ETA: 1s - loss: 0.1203"
     ]
    },
    {
     "name": "stdout",
     "output_type": "stream",
     "text": [
      "\b\b\b\b\b\b\b\b\b\b\b\b\b\b\b\b\b\b\b\b\b\b\b\b\b\b\b\b\b\b\b\b\b\b\b\b\b\b\b\b\b\b\b\b\b\b\b\b\b\b\b\b\b\b\b\b\b\b\b\b\b\b\b\b\b\r",
      "394/748 [==============>...............] - ETA: 1s - loss: 0.1209"
     ]
    },
    {
     "name": "stdout",
     "output_type": "stream",
     "text": [
      "\b\b\b\b\b\b\b\b\b\b\b\b\b\b\b\b\b\b\b\b\b\b\b\b\b\b\b\b\b\b\b\b\b\b\b\b\b\b\b\b\b\b\b\b\b\b\b\b\b\b\b\b\b\b\b\b\b\b\b\b\b\b\b\b\b\r",
      "405/748 [===============>..............] - ETA: 1s - loss: 0.1213"
     ]
    },
    {
     "name": "stdout",
     "output_type": "stream",
     "text": [
      "\b\b\b\b\b\b\b\b\b\b\b\b\b\b\b\b\b\b\b\b\b\b\b\b\b\b\b\b\b\b\b\b\b\b\b\b\b\b\b\b\b\b\b\b\b\b\b\b\b\b\b\b\b\b\b\b\b\b\b\b\b\b\b\b\b\r",
      "416/748 [===============>..............] - ETA: 1s - loss: 0.1214"
     ]
    },
    {
     "name": "stdout",
     "output_type": "stream",
     "text": [
      "\b\b\b\b\b\b\b\b\b\b\b\b\b\b\b\b\b\b\b\b\b\b\b\b\b\b\b\b\b\b\b\b\b\b\b\b\b\b\b\b\b\b\b\b\b\b\b\b\b\b\b\b\b\b\b\b\b\b\b\b\b\b\b\b\b\r",
      "427/748 [================>.............] - ETA: 1s - loss: 0.1216"
     ]
    },
    {
     "name": "stdout",
     "output_type": "stream",
     "text": [
      "\b\b\b\b\b\b\b\b\b\b\b\b\b\b\b\b\b\b\b\b\b\b\b\b\b\b\b\b\b\b\b\b\b\b\b\b\b\b\b\b\b\b\b\b\b\b\b\b\b\b\b\b\b\b\b\b\b\b\b\b\b\b\b\b\b\r",
      "438/748 [================>.............] - ETA: 1s - loss: 0.1215"
     ]
    },
    {
     "name": "stdout",
     "output_type": "stream",
     "text": [
      "\b\b\b\b\b\b\b\b\b\b\b\b\b\b\b\b\b\b\b\b\b\b\b\b\b\b\b\b\b\b\b\b\b\b\b\b\b\b\b\b\b\b\b\b\b\b\b\b\b\b\b\b\b\b\b\b\b\b\b\b\b\b\b\b\b\r",
      "449/748 [=================>............] - ETA: 1s - loss: 0.1215"
     ]
    },
    {
     "name": "stdout",
     "output_type": "stream",
     "text": [
      "\b\b\b\b\b\b\b\b\b\b\b\b\b\b\b\b\b\b\b\b\b\b\b\b\b\b\b\b\b\b\b\b\b\b\b\b\b\b\b\b\b\b\b\b\b\b\b\b\b\b\b\b\b\b\b\b\b\b\b\b\b\b\b\b\b\r",
      "460/748 [=================>............] - ETA: 1s - loss: 0.1214"
     ]
    },
    {
     "name": "stdout",
     "output_type": "stream",
     "text": [
      "\b\b\b\b\b\b\b\b\b\b\b\b\b\b\b\b\b\b\b\b\b\b\b\b\b\b\b\b\b\b\b\b\b\b\b\b\b\b\b\b\b\b\b\b\b\b\b\b\b\b\b\b\b\b\b\b\b\b\b\b\b\b\b\b\b\r",
      "471/748 [=================>............] - ETA: 1s - loss: 0.1211"
     ]
    },
    {
     "name": "stdout",
     "output_type": "stream",
     "text": [
      "\b\b\b\b\b\b\b\b\b\b\b\b\b\b\b\b\b\b\b\b\b\b\b\b\b\b\b\b\b\b\b\b\b\b\b\b\b\b\b\b\b\b\b\b\b\b\b\b\b\b\b\b\b\b\b\b\b\b\b\b\b\b\b\b\b\r",
      "482/748 [==================>...........] - ETA: 1s - loss: 0.1212"
     ]
    },
    {
     "name": "stdout",
     "output_type": "stream",
     "text": [
      "\b\b\b\b\b\b\b\b\b\b\b\b\b\b\b\b\b\b\b\b\b\b\b\b\b\b\b\b\b\b\b\b\b\b\b\b\b\b\b\b\b\b\b\b\b\b\b\b\b\b\b\b\b\b\b\b\b\b\b\b\b\b\b\b\b\r",
      "492/748 [==================>...........] - ETA: 1s - loss: 0.1208"
     ]
    },
    {
     "name": "stdout",
     "output_type": "stream",
     "text": [
      "\b\b\b\b\b\b\b\b\b\b\b\b\b\b\b\b\b\b\b\b\b\b\b\b\b\b\b\b\b\b\b\b\b\b\b\b\b\b\b\b\b\b\b\b\b\b\b\b\b\b\b\b\b\b\b\b\b\b\b\b\b\b\b\b\b\r",
      "503/748 [===================>..........] - ETA: 1s - loss: 0.1207"
     ]
    },
    {
     "name": "stdout",
     "output_type": "stream",
     "text": [
      "\b\b\b\b\b\b\b\b\b\b\b\b\b\b\b\b\b\b\b\b\b\b\b\b\b\b\b\b\b\b\b\b\b\b\b\b\b\b\b\b\b\b\b\b\b\b\b\b\b\b\b\b\b\b\b\b\b\b\b\b\b\b\b\b\b\r",
      "514/748 [===================>..........] - ETA: 1s - loss: 0.1206"
     ]
    },
    {
     "name": "stdout",
     "output_type": "stream",
     "text": [
      "\b\b\b\b\b\b\b\b\b\b\b\b\b\b\b\b\b\b\b\b\b\b\b\b\b\b\b\b\b\b\b\b\b\b\b\b\b\b\b\b\b\b\b\b\b\b\b\b\b\b\b\b\b\b\b\b\b\b\b\b\b\b\b\b\b\r",
      "525/748 [====================>.........] - ETA: 1s - loss: 0.1207"
     ]
    },
    {
     "name": "stdout",
     "output_type": "stream",
     "text": [
      "\b\b\b\b\b\b\b\b\b\b\b\b\b\b\b\b\b\b\b\b\b\b\b\b\b\b\b\b\b\b\b\b\b\b\b\b\b\b\b\b\b\b\b\b\b\b\b\b\b\b\b\b\b\b\b\b\b\b\b\b\b\b\b\b\b\r",
      "536/748 [====================>.........] - ETA: 1s - loss: 0.1207"
     ]
    },
    {
     "name": "stdout",
     "output_type": "stream",
     "text": [
      "\b\b\b\b\b\b\b\b\b\b\b\b\b\b\b\b\b\b\b\b\b\b\b\b\b\b\b\b\b\b\b\b\b\b\b\b\b\b\b\b\b\b\b\b\b\b\b\b\b\b\b\b\b\b\b\b\b\b\b\b\b\b\b\b\b\r",
      "547/748 [====================>.........] - ETA: 0s - loss: 0.1209"
     ]
    },
    {
     "name": "stdout",
     "output_type": "stream",
     "text": [
      "\b\b\b\b\b\b\b\b\b\b\b\b\b\b\b\b\b\b\b\b\b\b\b\b\b\b\b\b\b\b\b\b\b\b\b\b\b\b\b\b\b\b\b\b\b\b\b\b\b\b\b\b\b\b\b\b\b\b\b\b\b\b\b\b\b\r",
      "558/748 [=====================>........] - ETA: 0s - loss: 0.1208"
     ]
    },
    {
     "name": "stdout",
     "output_type": "stream",
     "text": [
      "\b\b\b\b\b\b\b\b\b\b\b\b\b\b\b\b\b\b\b\b\b\b\b\b\b\b\b\b\b\b\b\b\b\b\b\b\b\b\b\b\b\b\b\b\b\b\b\b\b\b\b\b\b\b\b\b\b\b\b\b\b\b\b\b\b\r",
      "569/748 [=====================>........] - ETA: 0s - loss: 0.1209"
     ]
    },
    {
     "name": "stdout",
     "output_type": "stream",
     "text": [
      "\b\b\b\b\b\b\b\b\b\b\b\b\b\b\b\b\b\b\b\b\b\b\b\b\b\b\b\b\b\b\b\b\b\b\b\b\b\b\b\b\b\b\b\b\b\b\b\b\b\b\b\b\b\b\b\b\b\b\b\b\b\b\b\b\b\r",
      "580/748 [======================>.......] - ETA: 0s - loss: 0.1213"
     ]
    },
    {
     "name": "stdout",
     "output_type": "stream",
     "text": [
      "\b\b\b\b\b\b\b\b\b\b\b\b\b\b\b\b\b\b\b\b\b\b\b\b\b\b\b\b\b\b\b\b\b\b\b\b\b\b\b\b\b\b\b\b\b\b\b\b\b\b\b\b\b\b\b\b\b\b\b\b\b\b\b\b\b\r",
      "591/748 [======================>.......] - ETA: 0s - loss: 0.1212"
     ]
    },
    {
     "name": "stdout",
     "output_type": "stream",
     "text": [
      "\b\b\b\b\b\b\b\b\b\b\b\b\b\b\b\b\b\b\b\b\b\b\b\b\b\b\b\b\b\b\b\b\b\b\b\b\b\b\b\b\b\b\b\b\b\b\b\b\b\b\b\b\b\b\b\b\b\b\b\b\b\b\b\b\b\r",
      "602/748 [=======================>......] - ETA: 0s - loss: 0.1214"
     ]
    },
    {
     "name": "stdout",
     "output_type": "stream",
     "text": [
      "\b\b\b\b\b\b\b\b\b\b\b\b\b\b\b\b\b\b\b\b\b\b\b\b\b\b\b\b\b\b\b\b\b\b\b\b\b\b\b\b\b\b\b\b\b\b\b\b\b\b\b\b\b\b\b\b\b\b\b\b\b\b\b\b\b\r",
      "613/748 [=======================>......] - ETA: 0s - loss: 0.1213"
     ]
    },
    {
     "name": "stdout",
     "output_type": "stream",
     "text": [
      "\b\b\b\b\b\b\b\b\b\b\b\b\b\b\b\b\b\b\b\b\b\b\b\b\b\b\b\b\b\b\b\b\b\b\b\b\b\b\b\b\b\b\b\b\b\b\b\b\b\b\b\b\b\b\b\b\b\b\b\b\b\b\b\b\b\r",
      "624/748 [========================>.....] - ETA: 0s - loss: 0.1212"
     ]
    },
    {
     "name": "stdout",
     "output_type": "stream",
     "text": [
      "\b\b\b\b\b\b\b\b\b\b\b\b\b\b\b\b\b\b\b\b\b\b\b\b\b\b\b\b\b\b\b\b\b\b\b\b\b\b\b\b\b\b\b\b\b\b\b\b\b\b\b\b\b\b\b\b\b\b\b\b\b\b\b\b\b\r",
      "635/748 [========================>.....] - ETA: 0s - loss: 0.1209"
     ]
    },
    {
     "name": "stdout",
     "output_type": "stream",
     "text": [
      "\b\b\b\b\b\b\b\b\b\b\b\b\b\b\b\b\b\b\b\b\b\b\b\b\b\b\b\b\b\b\b\b\b\b\b\b\b\b\b\b\b\b\b\b\b\b\b\b\b\b\b\b\b\b\b\b\b\b\b\b\b\b\b\b\b\r",
      "646/748 [========================>.....] - ETA: 0s - loss: 0.1208"
     ]
    },
    {
     "name": "stdout",
     "output_type": "stream",
     "text": [
      "\b\b\b\b\b\b\b\b\b\b\b\b\b\b\b\b\b\b\b\b\b\b\b\b\b\b\b\b\b\b\b\b\b\b\b\b\b\b\b\b\b\b\b\b\b\b\b\b\b\b\b\b\b\b\b\b\b\b\b\b\b\b\b\b\b\r",
      "657/748 [=========================>....] - ETA: 0s - loss: 0.1206"
     ]
    },
    {
     "name": "stdout",
     "output_type": "stream",
     "text": [
      "\b\b\b\b\b\b\b\b\b\b\b\b\b\b\b\b\b\b\b\b\b\b\b\b\b\b\b\b\b\b\b\b\b\b\b\b\b\b\b\b\b\b\b\b\b\b\b\b\b\b\b\b\b\b\b\b\b\b\b\b\b\b\b\b\b\r",
      "668/748 [=========================>....] - ETA: 0s - loss: 0.1206"
     ]
    },
    {
     "name": "stdout",
     "output_type": "stream",
     "text": [
      "\b\b\b\b\b\b\b\b\b\b\b\b\b\b\b\b\b\b\b\b\b\b\b\b\b\b\b\b\b\b\b\b\b\b\b\b\b\b\b\b\b\b\b\b\b\b\b\b\b\b\b\b\b\b\b\b\b\b\b\b\b\b\b\b\b\r",
      "679/748 [==========================>...] - ETA: 0s - loss: 0.1206"
     ]
    },
    {
     "name": "stdout",
     "output_type": "stream",
     "text": [
      "\b\b\b\b\b\b\b\b\b\b\b\b\b\b\b\b\b\b\b\b\b\b\b\b\b\b\b\b\b\b\b\b\b\b\b\b\b\b\b\b\b\b\b\b\b\b\b\b\b\b\b\b\b\b\b\b\b\b\b\b\b\b\b\b\b\r",
      "690/748 [==========================>...] - ETA: 0s - loss: 0.1205"
     ]
    },
    {
     "name": "stdout",
     "output_type": "stream",
     "text": [
      "\b\b\b\b\b\b\b\b\b\b\b\b\b\b\b\b\b\b\b\b\b\b\b\b\b\b\b\b\b\b\b\b\b\b\b\b\b\b\b\b\b\b\b\b\b\b\b\b\b\b\b\b\b\b\b\b\b\b\b\b\b\b\b\b\b\r",
      "701/748 [===========================>..] - ETA: 0s - loss: 0.1205"
     ]
    },
    {
     "name": "stdout",
     "output_type": "stream",
     "text": [
      "\b\b\b\b\b\b\b\b\b\b\b\b\b\b\b\b\b\b\b\b\b\b\b\b\b\b\b\b\b\b\b\b\b\b\b\b\b\b\b\b\b\b\b\b\b\b\b\b\b\b\b\b\b\b\b\b\b\b\b\b\b\b\b\b\b\r",
      "712/748 [===========================>..] - ETA: 0s - loss: 0.1207"
     ]
    },
    {
     "name": "stdout",
     "output_type": "stream",
     "text": [
      "\b\b\b\b\b\b\b\b\b\b\b\b\b\b\b\b\b\b\b\b\b\b\b\b\b\b\b\b\b\b\b\b\b\b\b\b\b\b\b\b\b\b\b\b\b\b\b\b\b\b\b\b\b\b\b\b\b\b\b\b\b\b\b\b\b\r",
      "723/748 [===========================>..] - ETA: 0s - loss: 0.1205"
     ]
    },
    {
     "name": "stdout",
     "output_type": "stream",
     "text": [
      "\b\b\b\b\b\b\b\b\b\b\b\b\b\b\b\b\b\b\b\b\b\b\b\b\b\b\b\b\b\b\b\b\b\b\b\b\b\b\b\b\b\b\b\b\b\b\b\b\b\b\b\b\b\b\b\b\b\b\b\b\b\b\b\b\b\r",
      "734/748 [============================>.] - ETA: 0s - loss: 0.1203"
     ]
    },
    {
     "name": "stdout",
     "output_type": "stream",
     "text": [
      "\b\b\b\b\b\b\b\b\b\b\b\b\b\b\b\b\b\b\b\b\b\b\b\b\b\b\b\b\b\b\b\b\b\b\b\b\b\b\b\b\b\b\b\b\b\b\b\b\b\b\b\b\b\b\b\b\b\b\b\b\b\b\b\b\b\r",
      "745/748 [============================>.] - ETA: 0s - loss: 0.1203"
     ]
    },
    {
     "name": "stdout",
     "output_type": "stream",
     "text": [
      "\b\b\b\b\b\b\b\b\b\b\b\b\b\b\b\b\b\b\b\b\b\b\b\b\b\b\b\b\b\b\b\b\b\b\b\b\b\b\b\b\b\b\b\b\b\b\b\b\b\b\b\b\b\b\b\b\b\b\b\b\b\b\b\b\b\r",
      "748/748 [==============================] - 4s 5ms/step - loss: 0.1202\n"
     ]
    },
    {
     "data": {
      "text/plain": [
       "<keras.callbacks.History at 0x7f98bc419d10>"
      ]
     },
     "execution_count": 21,
     "metadata": {},
     "output_type": "execute_result"
    }
   ],
   "source": [
    "# Optimizer and loss.\n",
    "optimizer = tf.keras.optimizers.Adam(learning_rate=hparams[\"learning_rate\"])\n",
    "loss = lambda y_true, y_pred: tf.keras.losses.binary_crossentropy(\n",
    "    y_true, y_pred, from_logits=True)\n",
    "\n",
    "# Create, compile and fit model.\n",
    "model_unconstrained = create_model()\n",
    "model_unconstrained.compile(optimizer=optimizer, loss=loss)\n",
    "\n",
    "model_unconstrained.fit(\n",
    "    x=text_train, y=labels_train, batch_size=hparams[\"batch_size\"], epochs=2)"
   ]
  },
  {
   "cell_type": "markdown",
   "metadata": {
    "id": "p7AvIdktWs9t"
   },
   "source": [
    "Having trained the unconstrained model, we plot various evaluation metrics for the model on the test set."
   ]
  },
  {
   "cell_type": "code",
   "execution_count": 22,
   "metadata": {
    "execution": {
     "iopub.execute_input": "2022-05-07T09:16:50.623659Z",
     "iopub.status.busy": "2022-05-07T09:16:50.623277Z",
     "iopub.status.idle": "2022-05-07T09:17:41.088720Z",
     "shell.execute_reply": "2022-05-07T09:17:41.087863Z"
    },
    "id": "tHV40_21lRL6"
   },
   "outputs": [
    {
     "name": "stdout",
     "output_type": "stream",
     "text": [
      "\r",
      "  1/996 [..............................] - ETA: 2:09"
     ]
    },
    {
     "name": "stdout",
     "output_type": "stream",
     "text": [
      "\b\b\b\b\b\b\b\b\b\b\b\b\b\b\b\b\b\b\b\b\b\b\b\b\b\b\b\b\b\b\b\b\b\b\b\b\b\b\b\b\b\b\b\b\b\b\b\b\b\b\b\b\r",
      " 29/996 [..............................] - ETA: 1s  "
     ]
    },
    {
     "name": "stdout",
     "output_type": "stream",
     "text": [
      "\b\b\b\b\b\b\b\b\b\b\b\b\b\b\b\b\b\b\b\b\b\b\b\b\b\b\b\b\b\b\b\b\b\b\b\b\b\b\b\b\b\b\b\b\b\b\b\b\b\b\r",
      " 57/996 [>.............................] - ETA: 1s"
     ]
    },
    {
     "name": "stdout",
     "output_type": "stream",
     "text": [
      "\b\b\b\b\b\b\b\b\b\b\b\b\b\b\b\b\b\b\b\b\b\b\b\b\b\b\b\b\b\b\b\b\b\b\b\b\b\b\b\b\b\b\b\b\b\b\b\b\b\b\r",
      " 85/996 [=>............................] - ETA: 1s"
     ]
    },
    {
     "name": "stdout",
     "output_type": "stream",
     "text": [
      "\b\b\b\b\b\b\b\b\b\b\b\b\b\b\b\b\b\b\b\b\b\b\b\b\b\b\b\b\b\b\b\b\b\b\b\b\b\b\b\b\b\b\b\b\b\b\b\b\b\b\r",
      "113/996 [==>...........................] - ETA: 1s"
     ]
    },
    {
     "name": "stdout",
     "output_type": "stream",
     "text": [
      "\b\b\b\b\b\b\b\b\b\b\b\b\b\b\b\b\b\b\b\b\b\b\b\b\b\b\b\b\b\b\b\b\b\b\b\b\b\b\b\b\b\b\b\b\b\b\b\b\b\b\r",
      "140/996 [===>..........................] - ETA: 1s"
     ]
    },
    {
     "name": "stdout",
     "output_type": "stream",
     "text": [
      "\b\b\b\b\b\b\b\b\b\b\b\b\b\b\b\b\b\b\b\b\b\b\b\b\b\b\b\b\b\b\b\b\b\b\b\b\b\b\b\b\b\b\b\b\b\b\b\b\b\b\r",
      "168/996 [====>.........................] - ETA: 1s"
     ]
    },
    {
     "name": "stdout",
     "output_type": "stream",
     "text": [
      "\b\b\b\b\b\b\b\b\b\b\b\b\b\b\b\b\b\b\b\b\b\b\b\b\b\b\b\b\b\b\b\b\b\b\b\b\b\b\b\b\b\b\b\b\b\b\b\b\b\b\r",
      "197/996 [====>.........................] - ETA: 1s"
     ]
    },
    {
     "name": "stdout",
     "output_type": "stream",
     "text": [
      "\b\b\b\b\b\b\b\b\b\b\b\b\b\b\b\b\b\b\b\b\b\b\b\b\b\b\b\b\b\b\b\b\b\b\b\b\b\b\b\b\b\b\b\b\b\b\b\b\b\b\r",
      "225/996 [=====>........................] - ETA: 1s"
     ]
    },
    {
     "name": "stdout",
     "output_type": "stream",
     "text": [
      "\b\b\b\b\b\b\b\b\b\b\b\b\b\b\b\b\b\b\b\b\b\b\b\b\b\b\b\b\b\b\b\b\b\b\b\b\b\b\b\b\b\b\b\b\b\b\b\b\b\b\r",
      "253/996 [======>.......................] - ETA: 1s"
     ]
    },
    {
     "name": "stdout",
     "output_type": "stream",
     "text": [
      "\b\b\b\b\b\b\b\b\b\b\b\b\b\b\b\b\b\b\b\b\b\b\b\b\b\b\b\b\b\b\b\b\b\b\b\b\b\b\b\b\b\b\b\b\b\b\b\b\b\b\r",
      "281/996 [=======>......................] - ETA: 1s"
     ]
    },
    {
     "name": "stdout",
     "output_type": "stream",
     "text": [
      "\b\b\b\b\b\b\b\b\b\b\b\b\b\b\b\b\b\b\b\b\b\b\b\b\b\b\b\b\b\b\b\b\b\b\b\b\b\b\b\b\b\b\b\b\b\b\b\b\b\b\r",
      "309/996 [========>.....................] - ETA: 1s"
     ]
    },
    {
     "name": "stdout",
     "output_type": "stream",
     "text": [
      "\b\b\b\b\b\b\b\b\b\b\b\b\b\b\b\b\b\b\b\b\b\b\b\b\b\b\b\b\b\b\b\b\b\b\b\b\b\b\b\b\b\b\b\b\b\b\b\b\b\b\r",
      "338/996 [=========>....................] - ETA: 1s"
     ]
    },
    {
     "name": "stdout",
     "output_type": "stream",
     "text": [
      "\b\b\b\b\b\b\b\b\b\b\b\b\b\b\b\b\b\b\b\b\b\b\b\b\b\b\b\b\b\b\b\b\b\b\b\b\b\b\b\b\b\b\b\b\b\b\b\b\b\b\r",
      "366/996 [==========>...................] - ETA: 1s"
     ]
    },
    {
     "name": "stdout",
     "output_type": "stream",
     "text": [
      "\b\b\b\b\b\b\b\b\b\b\b\b\b\b\b\b\b\b\b\b\b\b\b\b\b\b\b\b\b\b\b\b\b\b\b\b\b\b\b\b\b\b\b\b\b\b\b\b\b\b\r",
      "394/996 [==========>...................] - ETA: 1s"
     ]
    },
    {
     "name": "stdout",
     "output_type": "stream",
     "text": [
      "\b\b\b\b\b\b\b\b\b\b\b\b\b\b\b\b\b\b\b\b\b\b\b\b\b\b\b\b\b\b\b\b\b\b\b\b\b\b\b\b\b\b\b\b\b\b\b\b\b\b\r",
      "422/996 [===========>..................] - ETA: 1s"
     ]
    },
    {
     "name": "stdout",
     "output_type": "stream",
     "text": [
      "\b\b\b\b\b\b\b\b\b\b\b\b\b\b\b\b\b\b\b\b\b\b\b\b\b\b\b\b\b\b\b\b\b\b\b\b\b\b\b\b\b\b\b\b\b\b\b\b\b\b\r",
      "450/996 [============>.................] - ETA: 0s"
     ]
    },
    {
     "name": "stdout",
     "output_type": "stream",
     "text": [
      "\b\b\b\b\b\b\b\b\b\b\b\b\b\b\b\b\b\b\b\b\b\b\b\b\b\b\b\b\b\b\b\b\b\b\b\b\b\b\b\b\b\b\b\b\b\b\b\b\b\b\r",
      "478/996 [=============>................] - ETA: 0s"
     ]
    },
    {
     "name": "stdout",
     "output_type": "stream",
     "text": [
      "\b\b\b\b\b\b\b\b\b\b\b\b\b\b\b\b\b\b\b\b\b\b\b\b\b\b\b\b\b\b\b\b\b\b\b\b\b\b\b\b\b\b\b\b\b\b\b\b\b\b\r",
      "506/996 [==============>...............] - ETA: 0s"
     ]
    },
    {
     "name": "stdout",
     "output_type": "stream",
     "text": [
      "\b\b\b\b\b\b\b\b\b\b\b\b\b\b\b\b\b\b\b\b\b\b\b\b\b\b\b\b\b\b\b\b\b\b\b\b\b\b\b\b\b\b\b\b\b\b\b\b\b\b\r",
      "534/996 [===============>..............] - ETA: 0s"
     ]
    },
    {
     "name": "stdout",
     "output_type": "stream",
     "text": [
      "\b\b\b\b\b\b\b\b\b\b\b\b\b\b\b\b\b\b\b\b\b\b\b\b\b\b\b\b\b\b\b\b\b\b\b\b\b\b\b\b\b\b\b\b\b\b\b\b\b\b\r",
      "562/996 [===============>..............] - ETA: 0s"
     ]
    },
    {
     "name": "stdout",
     "output_type": "stream",
     "text": [
      "\b\b\b\b\b\b\b\b\b\b\b\b\b\b\b\b\b\b\b\b\b\b\b\b\b\b\b\b\b\b\b\b\b\b\b\b\b\b\b\b\b\b\b\b\b\b\b\b\b\b\r",
      "591/996 [================>.............] - ETA: 0s"
     ]
    },
    {
     "name": "stdout",
     "output_type": "stream",
     "text": [
      "\b\b\b\b\b\b\b\b\b\b\b\b\b\b\b\b\b\b\b\b\b\b\b\b\b\b\b\b\b\b\b\b\b\b\b\b\b\b\b\b\b\b\b\b\b\b\b\b\b\b\r",
      "619/996 [=================>............] - ETA: 0s"
     ]
    },
    {
     "name": "stdout",
     "output_type": "stream",
     "text": [
      "\b\b\b\b\b\b\b\b\b\b\b\b\b\b\b\b\b\b\b\b\b\b\b\b\b\b\b\b\b\b\b\b\b\b\b\b\b\b\b\b\b\b\b\b\b\b\b\b\b\b\r",
      "647/996 [==================>...........] - ETA: 0s"
     ]
    },
    {
     "name": "stdout",
     "output_type": "stream",
     "text": [
      "\b\b\b\b\b\b\b\b\b\b\b\b\b\b\b\b\b\b\b\b\b\b\b\b\b\b\b\b\b\b\b\b\b\b\b\b\b\b\b\b\b\b\b\b\b\b\b\b\b\b\r",
      "673/996 [===================>..........] - ETA: 0s"
     ]
    },
    {
     "name": "stdout",
     "output_type": "stream",
     "text": [
      "\b\b\b\b\b\b\b\b\b\b\b\b\b\b\b\b\b\b\b\b\b\b\b\b\b\b\b\b\b\b\b\b\b\b\b\b\b\b\b\b\b\b\b\b\b\b\b\b\b\b\r",
      "700/996 [====================>.........] - ETA: 0s"
     ]
    },
    {
     "name": "stdout",
     "output_type": "stream",
     "text": [
      "\b\b\b\b\b\b\b\b\b\b\b\b\b\b\b\b\b\b\b\b\b\b\b\b\b\b\b\b\b\b\b\b\b\b\b\b\b\b\b\b\b\b\b\b\b\b\b\b\b\b\r",
      "727/996 [====================>.........] - ETA: 0s"
     ]
    },
    {
     "name": "stdout",
     "output_type": "stream",
     "text": [
      "\b\b\b\b\b\b\b\b\b\b\b\b\b\b\b\b\b\b\b\b\b\b\b\b\b\b\b\b\b\b\b\b\b\b\b\b\b\b\b\b\b\b\b\b\b\b\b\b\b\b\r",
      "754/996 [=====================>........] - ETA: 0s"
     ]
    },
    {
     "name": "stdout",
     "output_type": "stream",
     "text": [
      "\b\b\b\b\b\b\b\b\b\b\b\b\b\b\b\b\b\b\b\b\b\b\b\b\b\b\b\b\b\b\b\b\b\b\b\b\b\b\b\b\b\b\b\b\b\b\b\b\b\b\r",
      "781/996 [======================>.......] - ETA: 0s"
     ]
    },
    {
     "name": "stdout",
     "output_type": "stream",
     "text": [
      "\b\b\b\b\b\b\b\b\b\b\b\b\b\b\b\b\b\b\b\b\b\b\b\b\b\b\b\b\b\b\b\b\b\b\b\b\b\b\b\b\b\b\b\b\b\b\b\b\b\b\r",
      "809/996 [=======================>......] - ETA: 0s"
     ]
    },
    {
     "name": "stdout",
     "output_type": "stream",
     "text": [
      "\b\b\b\b\b\b\b\b\b\b\b\b\b\b\b\b\b\b\b\b\b\b\b\b\b\b\b\b\b\b\b\b\b\b\b\b\b\b\b\b\b\b\b\b\b\b\b\b\b\b\r",
      "838/996 [========================>.....] - ETA: 0s"
     ]
    },
    {
     "name": "stdout",
     "output_type": "stream",
     "text": [
      "\b\b\b\b\b\b\b\b\b\b\b\b\b\b\b\b\b\b\b\b\b\b\b\b\b\b\b\b\b\b\b\b\b\b\b\b\b\b\b\b\b\b\b\b\b\b\b\b\b\b\r",
      "866/996 [=========================>....] - ETA: 0s"
     ]
    },
    {
     "name": "stdout",
     "output_type": "stream",
     "text": [
      "\b\b\b\b\b\b\b\b\b\b\b\b\b\b\b\b\b\b\b\b\b\b\b\b\b\b\b\b\b\b\b\b\b\b\b\b\b\b\b\b\b\b\b\b\b\b\b\b\b\b\r",
      "895/996 [=========================>....] - ETA: 0s"
     ]
    },
    {
     "name": "stdout",
     "output_type": "stream",
     "text": [
      "\b\b\b\b\b\b\b\b\b\b\b\b\b\b\b\b\b\b\b\b\b\b\b\b\b\b\b\b\b\b\b\b\b\b\b\b\b\b\b\b\b\b\b\b\b\b\b\b\b\b\r",
      "924/996 [==========================>...] - ETA: 0s"
     ]
    },
    {
     "name": "stdout",
     "output_type": "stream",
     "text": [
      "\b\b\b\b\b\b\b\b\b\b\b\b\b\b\b\b\b\b\b\b\b\b\b\b\b\b\b\b\b\b\b\b\b\b\b\b\b\b\b\b\b\b\b\b\b\b\b\b\b\b\r",
      "953/996 [===========================>..] - ETA: 0s"
     ]
    },
    {
     "name": "stdout",
     "output_type": "stream",
     "text": [
      "\b\b\b\b\b\b\b\b\b\b\b\b\b\b\b\b\b\b\b\b\b\b\b\b\b\b\b\b\b\b\b\b\b\b\b\b\b\b\b\b\b\b\b\b\b\b\b\b\b\b\r",
      "983/996 [============================>.] - ETA: 0s"
     ]
    },
    {
     "name": "stdout",
     "output_type": "stream",
     "text": [
      "\b\b\b\b\b\b\b\b\b\b\b\b\b\b\b\b\b\b\b\b\b\b\b\b\b\b\b\b\b\b\b\b\b\b\b\b\b\b\b\b\b\b\b\b\b\b\b\b\b\b\r",
      "996/996 [==============================] - 2s 2ms/step\n"
     ]
    },
    {
     "name": "stderr",
     "output_type": "stream",
     "text": [
      "WARNING:apache_beam.runners.interactive.interactive_environment:Dependencies required for Interactive Beam PCollection visualization are not available, please use: `pip install apache-beam[interactive]` to install necessary dependencies to enable all data visualization features.\n"
     ]
    },
    {
     "data": {
      "application/javascript": [
       "\n",
       "        if (typeof window.interactive_beam_jquery == 'undefined') {\n",
       "          var jqueryScript = document.createElement('script');\n",
       "          jqueryScript.src = 'https://code.jquery.com/jquery-3.4.1.slim.min.js';\n",
       "          jqueryScript.type = 'text/javascript';\n",
       "          jqueryScript.onload = function() {\n",
       "            var datatableScript = document.createElement('script');\n",
       "            datatableScript.src = 'https://cdn.datatables.net/1.10.20/js/jquery.dataTables.min.js';\n",
       "            datatableScript.type = 'text/javascript';\n",
       "            datatableScript.onload = function() {\n",
       "              window.interactive_beam_jquery = jQuery.noConflict(true);\n",
       "              window.interactive_beam_jquery(document).ready(function($){\n",
       "                \n",
       "              });\n",
       "            }\n",
       "            document.head.appendChild(datatableScript);\n",
       "          };\n",
       "          document.head.appendChild(jqueryScript);\n",
       "        } else {\n",
       "          window.interactive_beam_jquery(document).ready(function($){\n",
       "            \n",
       "          });\n",
       "        }"
      ]
     },
     "metadata": {},
     "output_type": "display_data"
    },
    {
     "name": "stderr",
     "output_type": "stream",
     "text": [
      "WARNING:root:Make sure that locally built Python SDK docker image has Python 3.7 interpreter.\n"
     ]
    },
    {
     "name": "stdout",
     "output_type": "stream",
     "text": [
      "INFO:tensorflow:ExampleCount post export metric: could not find any of the standard keys in predictions_dict (keys were: dict_keys(['prediction']))\n"
     ]
    },
    {
     "name": "stderr",
     "output_type": "stream",
     "text": [
      "INFO:tensorflow:ExampleCount post export metric: could not find any of the standard keys in predictions_dict (keys were: dict_keys(['prediction']))\n"
     ]
    },
    {
     "name": "stdout",
     "output_type": "stream",
     "text": [
      "INFO:tensorflow:Using the first key from predictions_dict: prediction\n"
     ]
    },
    {
     "name": "stderr",
     "output_type": "stream",
     "text": [
      "INFO:tensorflow:Using the first key from predictions_dict: prediction\n"
     ]
    },
    {
     "name": "stderr",
     "output_type": "stream",
     "text": [
      "WARNING:apache_beam.io.tfrecordio:Couldn't find python-snappy so the implementation of _TFRecordUtil._masked_crc32c is not as fast as it could be.\n"
     ]
    },
    {
     "name": "stdout",
     "output_type": "stream",
     "text": [
      "WARNING:tensorflow:From /tmpfs/src/tf_docs_env/lib/python3.7/site-packages/tensorflow_model_analysis/writers/metrics_plots_and_validations_writer.py:109: tf_record_iterator (from tensorflow.python.lib.io.tf_record) is deprecated and will be removed in a future version.\n",
      "Instructions for updating:\n",
      "Use eager execution and: \n",
      "`tf.data.TFRecordDataset(path)`\n"
     ]
    },
    {
     "name": "stderr",
     "output_type": "stream",
     "text": [
      "WARNING:tensorflow:From /tmpfs/src/tf_docs_env/lib/python3.7/site-packages/tensorflow_model_analysis/writers/metrics_plots_and_validations_writer.py:109: tf_record_iterator (from tensorflow.python.lib.io.tf_record) is deprecated and will be removed in a future version.\n",
      "Instructions for updating:\n",
      "Use eager execution and: \n",
      "`tf.data.TFRecordDataset(path)`\n"
     ]
    }
   ],
   "source": [
    "scores_unconstrained_test = model_unconstrained.predict(text_test)\n",
    "eval_result_unconstrained = evaluate_results(\n",
    "    labels_test, scores_unconstrained_test, groups_test, group_names)"
   ]
  },
  {
   "cell_type": "markdown",
   "metadata": {
    "id": "AJpRuN0EOeyG"
   },
   "source": [
    "As explained above, we are concentrating on the false positive rate. In their current version (0.1.2), Fairness Indicators select false negative rate by default. After running the line below, go ahead and deselect false_negative_rate and select false_positive_rate to look at the metric we are interested in."
   ]
  },
  {
   "cell_type": "code",
   "execution_count": 23,
   "metadata": {
    "execution": {
     "iopub.execute_input": "2022-05-07T09:17:41.093050Z",
     "iopub.status.busy": "2022-05-07T09:17:41.092818Z",
     "iopub.status.idle": "2022-05-07T09:17:41.104302Z",
     "shell.execute_reply": "2022-05-07T09:17:41.103611Z"
    },
    "id": "2fwNpfou4yvP"
   },
   "outputs": [
    {
     "data": {
      "text/html": [
       "<center><h2>Unconstrained (Accuracy = 95.71%)</h2></center>"
      ],
      "text/plain": [
       "<IPython.core.display.HTML object>"
      ]
     },
     "metadata": {},
     "output_type": "display_data"
    }
   ],
   "source": [
    "plot_fairness_indicators(eval_result_unconstrained, \"Unconstrained\")"
   ]
  },
  {
   "cell_type": "markdown",
   "metadata": {
    "id": "J3TbAenkGM7P"
   },
   "source": [
    "While the overall false positive rate is less than 2%, the false positive rate on the sexuality-related comments is significantly higher. This is because the sexuality group is very small in size, and has a disproportionately higher fraction of comments annotated as toxic. Hence, training a model without constraints results in the model believing that sexuality-related terms are a strong indicator of toxicity."
   ]
  },
  {
   "cell_type": "markdown",
   "metadata": {
    "id": "KmxyAo9hWs9w"
   },
   "source": [
    "## Train with constraints on false positive rates"
   ]
  },
  {
   "cell_type": "markdown",
   "metadata": {
    "id": "l3dYUchIWs9w"
   },
   "source": [
    "To avoid large differences in false positive rates across different groups, we \n",
    "next train a model by constraining the false positive rates for each group to be within a desired limit. In this case, we will optimize the error rate of the model subject to the *per-group false positive rates being lesser or equal to 2%*.\n",
    "\n",
    "Training on minibatches with per-group constraints can be challenging for this dataset, however, as the groups we wish to constraint are all small in size, and it's likely that the individual minibatches contain very few examples from each group. Hence the gradients we compute during training will be noisy, and result in the model converging very slowly. \n",
    "\n",
    "To mitigate this problem, we recommend using two streams of minibatches, with the first stream formed as before from the entire training set, and the second stream formed solely from the sensitive group examples. We will compute the objective using minibatches from the first stream and the per-group constraints using minibatches from the second stream. Because the batches from the second stream are likely to contain a larger number of examples from each group, we expect our updates to be less noisy.\n",
    "\n",
    "We create separate features, labels and groups tensors to hold the minibatches from the two streams."
   ]
  },
  {
   "cell_type": "code",
   "execution_count": 24,
   "metadata": {
    "execution": {
     "iopub.execute_input": "2022-05-07T09:17:41.110315Z",
     "iopub.status.busy": "2022-05-07T09:17:41.110117Z",
     "iopub.status.idle": "2022-05-07T09:17:41.167701Z",
     "shell.execute_reply": "2022-05-07T09:17:41.167045Z"
    },
    "id": "vMuuTOEOWs9x"
   },
   "outputs": [],
   "source": [
    "# Set random seed.\n",
    "set_seeds()\n",
    "\n",
    "# Features tensors.\n",
    "batch_shape = (hparams[\"batch_size\"], hparams['max_sequence_length'])\n",
    "features_tensor = tf.Variable(np.zeros(batch_shape, dtype='int32'), name='x')\n",
    "features_tensor_sen = tf.Variable(np.zeros(batch_shape, dtype='int32'), name='x_sen')\n",
    "\n",
    "# Labels tensors.\n",
    "batch_shape = (hparams[\"batch_size\"], 1)\n",
    "labels_tensor = tf.Variable(np.zeros(batch_shape, dtype='float32'), name='labels')\n",
    "labels_tensor_sen = tf.Variable(np.zeros(batch_shape, dtype='float32'), name='labels_sen')\n",
    "\n",
    "# Groups tensors.\n",
    "batch_shape = (hparams[\"batch_size\"], num_groups)\n",
    "groups_tensor_sen = tf.Variable(np.zeros(batch_shape, dtype='float32'), name='groups_sen')"
   ]
  },
  {
   "cell_type": "markdown",
   "metadata": {
    "id": "-wh26V7nWs9z"
   },
   "source": [
    "We instantiate a new model, and compute predictions for minibatches from the two streams."
   ]
  },
  {
   "cell_type": "code",
   "execution_count": 25,
   "metadata": {
    "execution": {
     "iopub.execute_input": "2022-05-07T09:17:41.171535Z",
     "iopub.status.busy": "2022-05-07T09:17:41.170881Z",
     "iopub.status.idle": "2022-05-07T09:17:41.360089Z",
     "shell.execute_reply": "2022-05-07T09:17:41.359290Z"
    },
    "id": "kawyrkQIWs9z"
   },
   "outputs": [],
   "source": [
    "# Create model, and separate prediction functions for the two streams. \n",
    "# For the predictions, we use a nullary function returning a Tensor to support eager mode.\n",
    "model_constrained = create_model()\n",
    "\n",
    "def predictions():\n",
    "  return model_constrained(features_tensor)\n",
    "\n",
    "def predictions_sen():\n",
    "  return model_constrained(features_tensor_sen)"
   ]
  },
  {
   "cell_type": "markdown",
   "metadata": {
    "id": "UG9t7dw1Ws91"
   },
   "source": [
    "We then set up a constrained optimization problem with the error rate as the objective and with constraints on the per-group false positive rate."
   ]
  },
  {
   "cell_type": "code",
   "execution_count": 26,
   "metadata": {
    "execution": {
     "iopub.execute_input": "2022-05-07T09:17:41.364415Z",
     "iopub.status.busy": "2022-05-07T09:17:41.363743Z",
     "iopub.status.idle": "2022-05-07T09:17:41.385825Z",
     "shell.execute_reply": "2022-05-07T09:17:41.385177Z"
    },
    "id": "EhKAMGSJWs93"
   },
   "outputs": [],
   "source": [
    "epsilon = 0.02  # Desired false-positive rate threshold.\n",
    "\n",
    "# Set up separate contexts for the two minibatch streams.\n",
    "context = tfco.rate_context(predictions, lambda:labels_tensor)\n",
    "context_sen = tfco.rate_context(predictions_sen, lambda:labels_tensor_sen)\n",
    "\n",
    "# Compute the objective using the first stream.\n",
    "objective = tfco.error_rate(context)\n",
    "\n",
    "# Compute the constraint using the second stream.\n",
    "# Subset the examples belonging to the \"sexuality\" group from the second stream \n",
    "# and add a constraint on the group's false positive rate.\n",
    "context_sen_subset = context_sen.subset(lambda: groups_tensor_sen[:, 0] > 0)\n",
    "constraint = [tfco.false_positive_rate(context_sen_subset) <= epsilon]\n",
    "\n",
    "# Create a rate minimization problem.\n",
    "problem = tfco.RateMinimizationProblem(objective, constraint)\n",
    "\n",
    "# Set up a constrained optimizer.\n",
    "optimizer = tfco.ProxyLagrangianOptimizerV2(\n",
    "    optimizer=tf.keras.optimizers.Adam(learning_rate=hparams[\"learning_rate\"]),\n",
    "    num_constraints=problem.num_constraints)\n",
    "\n",
    "# List of variables to optimize include the model weights, \n",
    "# and the trainable variables from the rate minimization problem and \n",
    "# the constrained optimizer.\n",
    "var_list = (model_constrained.trainable_weights + list(problem.trainable_variables) +\n",
    "            optimizer.trainable_variables())"
   ]
  },
  {
   "cell_type": "markdown",
   "metadata": {
    "id": "CoFWd8wMWs94"
   },
   "source": [
    "We are ready to train the model. We maintain a separate counter for the two minibatch streams. Every time we perform a gradient update, we will have to copy the minibatch contents from the first stream to the tensors `features_tensor` and `labels_tensor`, and the minibatch contents from the second stream to the tensors `features_tensor_sen`, `labels_tensor_sen` and `groups_tensor_sen`.\n",
    "\n",
    "**Note**: The following code cell may take ~12 minutes to run."
   ]
  },
  {
   "cell_type": "code",
   "execution_count": 27,
   "metadata": {
    "execution": {
     "iopub.execute_input": "2022-05-07T09:17:41.389879Z",
     "iopub.status.busy": "2022-05-07T09:17:41.389305Z",
     "iopub.status.idle": "2022-05-07T09:18:51.347085Z",
     "shell.execute_reply": "2022-05-07T09:18:51.346454Z"
    },
    "id": "zbXohC6vWs95"
   },
   "outputs": [
    {
     "name": "stdout",
     "output_type": "stream",
     "text": [
      "\r",
      "Step 1 / 747: Elapsed time = 0s, Loss = 0.000, Violation = -0.020"
     ]
    },
    {
     "name": "stdout",
     "output_type": "stream",
     "text": [
      "\r",
      "Step 10 / 747: Elapsed time = 1s, Loss = 0.354, Violation = -0.020"
     ]
    },
    {
     "name": "stdout",
     "output_type": "stream",
     "text": [
      "\r",
      "Step 20 / 747: Elapsed time = 2s, Loss = 0.104, Violation = -0.020"
     ]
    },
    {
     "name": "stdout",
     "output_type": "stream",
     "text": [
      "\r",
      "Step 30 / 747: Elapsed time = 3s, Loss = 0.140, Violation = -0.020"
     ]
    },
    {
     "name": "stdout",
     "output_type": "stream",
     "text": [
      "\r",
      "Step 40 / 747: Elapsed time = 4s, Loss = 0.271, Violation = -0.020"
     ]
    },
    {
     "name": "stdout",
     "output_type": "stream",
     "text": [
      "\r",
      "Step 50 / 747: Elapsed time = 4s, Loss = 0.160, Violation = -0.020"
     ]
    },
    {
     "name": "stdout",
     "output_type": "stream",
     "text": [
      "\r",
      "Step 60 / 747: Elapsed time = 5s, Loss = 0.191, Violation = -0.020"
     ]
    },
    {
     "name": "stdout",
     "output_type": "stream",
     "text": [
      "\r",
      "Step 70 / 747: Elapsed time = 6s, Loss = 0.113, Violation = -0.020"
     ]
    },
    {
     "name": "stdout",
     "output_type": "stream",
     "text": [
      "\r",
      "Step 80 / 747: Elapsed time = 7s, Loss = 0.313, Violation = -0.020"
     ]
    },
    {
     "name": "stdout",
     "output_type": "stream",
     "text": [
      "\r",
      "Step 90 / 747: Elapsed time = 8s, Loss = 0.203, Violation = -0.020"
     ]
    },
    {
     "name": "stdout",
     "output_type": "stream",
     "text": [
      "\r",
      "Step 100 / 747: Elapsed time = 9s, Loss = 0.159, Violation = -0.020"
     ]
    },
    {
     "name": "stdout",
     "output_type": "stream",
     "text": [
      "\r",
      "Step 110 / 747: Elapsed time = 10s, Loss = 0.207, Violation = -0.020"
     ]
    },
    {
     "name": "stdout",
     "output_type": "stream",
     "text": [
      "\r",
      "Step 120 / 747: Elapsed time = 11s, Loss = 0.370, Violation = -0.020"
     ]
    },
    {
     "name": "stdout",
     "output_type": "stream",
     "text": [
      "\r",
      "Step 130 / 747: Elapsed time = 12s, Loss = 0.330, Violation = -0.020"
     ]
    },
    {
     "name": "stdout",
     "output_type": "stream",
     "text": [
      "\r",
      "Step 140 / 747: Elapsed time = 13s, Loss = 0.220, Violation = -0.020"
     ]
    },
    {
     "name": "stdout",
     "output_type": "stream",
     "text": [
      "\r",
      "Step 150 / 747: Elapsed time = 14s, Loss = 0.155, Violation = -0.020"
     ]
    },
    {
     "name": "stdout",
     "output_type": "stream",
     "text": [
      "\r",
      "Step 160 / 747: Elapsed time = 15s, Loss = 0.267, Violation = -0.020"
     ]
    },
    {
     "name": "stdout",
     "output_type": "stream",
     "text": [
      "\r",
      "Step 170 / 747: Elapsed time = 16s, Loss = 0.225, Violation = -0.020"
     ]
    },
    {
     "name": "stdout",
     "output_type": "stream",
     "text": [
      "\r",
      "Step 180 / 747: Elapsed time = 17s, Loss = 0.178, Violation = -0.020"
     ]
    },
    {
     "name": "stdout",
     "output_type": "stream",
     "text": [
      "\r",
      "Step 190 / 747: Elapsed time = 18s, Loss = 0.159, Violation = -0.020"
     ]
    },
    {
     "name": "stdout",
     "output_type": "stream",
     "text": [
      "\r",
      "Step 200 / 747: Elapsed time = 19s, Loss = 0.126, Violation = -0.020"
     ]
    },
    {
     "name": "stdout",
     "output_type": "stream",
     "text": [
      "\r",
      "Step 210 / 747: Elapsed time = 20s, Loss = 0.144, Violation = -0.020"
     ]
    },
    {
     "name": "stdout",
     "output_type": "stream",
     "text": [
      "\r",
      "Step 220 / 747: Elapsed time = 21s, Loss = 0.160, Violation = -0.020"
     ]
    },
    {
     "name": "stdout",
     "output_type": "stream",
     "text": [
      "\r",
      "Step 230 / 747: Elapsed time = 21s, Loss = 0.122, Violation = -0.020"
     ]
    },
    {
     "name": "stdout",
     "output_type": "stream",
     "text": [
      "\r",
      "Step 240 / 747: Elapsed time = 22s, Loss = 0.135, Violation = -0.020"
     ]
    },
    {
     "name": "stdout",
     "output_type": "stream",
     "text": [
      "\r",
      "Step 250 / 747: Elapsed time = 23s, Loss = 0.106, Violation = -0.020"
     ]
    },
    {
     "name": "stdout",
     "output_type": "stream",
     "text": [
      "\r",
      "Step 260 / 747: Elapsed time = 24s, Loss = 0.109, Violation = -0.020"
     ]
    },
    {
     "name": "stdout",
     "output_type": "stream",
     "text": [
      "\r",
      "Step 270 / 747: Elapsed time = 25s, Loss = 0.107, Violation = -0.020"
     ]
    },
    {
     "name": "stdout",
     "output_type": "stream",
     "text": [
      "\r",
      "Step 280 / 747: Elapsed time = 26s, Loss = 0.158, Violation = -0.020"
     ]
    },
    {
     "name": "stdout",
     "output_type": "stream",
     "text": [
      "\r",
      "Step 290 / 747: Elapsed time = 27s, Loss = 0.141, Violation = 0.204"
     ]
    },
    {
     "name": "stdout",
     "output_type": "stream",
     "text": [
      "\r",
      "Step 300 / 747: Elapsed time = 28s, Loss = 0.096, Violation = -0.020"
     ]
    },
    {
     "name": "stdout",
     "output_type": "stream",
     "text": [
      "\r",
      "Step 310 / 747: Elapsed time = 29s, Loss = 0.178, Violation = -0.020"
     ]
    },
    {
     "name": "stdout",
     "output_type": "stream",
     "text": [
      "\r",
      "Step 320 / 747: Elapsed time = 30s, Loss = 0.192, Violation = -0.020"
     ]
    },
    {
     "name": "stdout",
     "output_type": "stream",
     "text": [
      "\r",
      "Step 330 / 747: Elapsed time = 31s, Loss = 0.093, Violation = -0.020"
     ]
    },
    {
     "name": "stdout",
     "output_type": "stream",
     "text": [
      "\r",
      "Step 340 / 747: Elapsed time = 32s, Loss = 0.174, Violation = -0.020"
     ]
    },
    {
     "name": "stdout",
     "output_type": "stream",
     "text": [
      "\r",
      "Step 350 / 747: Elapsed time = 33s, Loss = 0.078, Violation = -0.020"
     ]
    },
    {
     "name": "stdout",
     "output_type": "stream",
     "text": [
      "\r",
      "Step 360 / 747: Elapsed time = 33s, Loss = 0.125, Violation = -0.020"
     ]
    },
    {
     "name": "stdout",
     "output_type": "stream",
     "text": [
      "\r",
      "Step 370 / 747: Elapsed time = 34s, Loss = 0.182, Violation = -0.020"
     ]
    },
    {
     "name": "stdout",
     "output_type": "stream",
     "text": [
      "\r",
      "Step 380 / 747: Elapsed time = 35s, Loss = 0.148, Violation = -0.020"
     ]
    },
    {
     "name": "stdout",
     "output_type": "stream",
     "text": [
      "\r",
      "Step 390 / 747: Elapsed time = 36s, Loss = 0.102, Violation = 0.092"
     ]
    },
    {
     "name": "stdout",
     "output_type": "stream",
     "text": [
      "\r",
      "Step 400 / 747: Elapsed time = 37s, Loss = 0.079, Violation = 0.203"
     ]
    },
    {
     "name": "stdout",
     "output_type": "stream",
     "text": [
      "\r",
      "Step 410 / 747: Elapsed time = 38s, Loss = 0.172, Violation = -0.020"
     ]
    },
    {
     "name": "stdout",
     "output_type": "stream",
     "text": [
      "\r",
      "Step 420 / 747: Elapsed time = 39s, Loss = 0.033, Violation = -0.020"
     ]
    },
    {
     "name": "stdout",
     "output_type": "stream",
     "text": [
      "\r",
      "Step 430 / 747: Elapsed time = 40s, Loss = 0.075, Violation = -0.020"
     ]
    },
    {
     "name": "stdout",
     "output_type": "stream",
     "text": [
      "\r",
      "Step 440 / 747: Elapsed time = 41s, Loss = 0.107, Violation = -0.020"
     ]
    },
    {
     "name": "stdout",
     "output_type": "stream",
     "text": [
      "\r",
      "Step 450 / 747: Elapsed time = 42s, Loss = 0.131, Violation = 0.093"
     ]
    },
    {
     "name": "stdout",
     "output_type": "stream",
     "text": [
      "\r",
      "Step 460 / 747: Elapsed time = 43s, Loss = 0.133, Violation = -0.020"
     ]
    },
    {
     "name": "stdout",
     "output_type": "stream",
     "text": [
      "\r",
      "Step 470 / 747: Elapsed time = 43s, Loss = 0.184, Violation = -0.020"
     ]
    },
    {
     "name": "stdout",
     "output_type": "stream",
     "text": [
      "\r",
      "Step 480 / 747: Elapsed time = 44s, Loss = 0.103, Violation = 0.092"
     ]
    },
    {
     "name": "stdout",
     "output_type": "stream",
     "text": [
      "\r",
      "Step 490 / 747: Elapsed time = 45s, Loss = 0.123, Violation = -0.020"
     ]
    },
    {
     "name": "stdout",
     "output_type": "stream",
     "text": [
      "\r",
      "Step 500 / 747: Elapsed time = 46s, Loss = 0.074, Violation = -0.020"
     ]
    },
    {
     "name": "stdout",
     "output_type": "stream",
     "text": [
      "\r",
      "Step 510 / 747: Elapsed time = 47s, Loss = 0.155, Violation = 0.092"
     ]
    },
    {
     "name": "stdout",
     "output_type": "stream",
     "text": [
      "\r",
      "Step 520 / 747: Elapsed time = 48s, Loss = 0.147, Violation = -0.020"
     ]
    },
    {
     "name": "stdout",
     "output_type": "stream",
     "text": [
      "\r",
      "Step 530 / 747: Elapsed time = 49s, Loss = 0.101, Violation = 0.093"
     ]
    },
    {
     "name": "stdout",
     "output_type": "stream",
     "text": [
      "\r",
      "Step 540 / 747: Elapsed time = 50s, Loss = 0.143, Violation = -0.020"
     ]
    },
    {
     "name": "stdout",
     "output_type": "stream",
     "text": [
      "\r",
      "Step 550 / 747: Elapsed time = 51s, Loss = 0.094, Violation = -0.020"
     ]
    },
    {
     "name": "stdout",
     "output_type": "stream",
     "text": [
      "\r",
      "Step 560 / 747: Elapsed time = 52s, Loss = 0.154, Violation = -0.020"
     ]
    },
    {
     "name": "stdout",
     "output_type": "stream",
     "text": [
      "\r",
      "Step 570 / 747: Elapsed time = 53s, Loss = 0.111, Violation = -0.020"
     ]
    },
    {
     "name": "stdout",
     "output_type": "stream",
     "text": [
      "\r",
      "Step 580 / 747: Elapsed time = 54s, Loss = 0.067, Violation = 0.092"
     ]
    },
    {
     "name": "stdout",
     "output_type": "stream",
     "text": [
      "\r",
      "Step 590 / 747: Elapsed time = 55s, Loss = 0.092, Violation = -0.020"
     ]
    },
    {
     "name": "stdout",
     "output_type": "stream",
     "text": [
      "\r",
      "Step 600 / 747: Elapsed time = 56s, Loss = 0.096, Violation = -0.020"
     ]
    },
    {
     "name": "stdout",
     "output_type": "stream",
     "text": [
      "\r",
      "Step 610 / 747: Elapsed time = 57s, Loss = 0.105, Violation = -0.020"
     ]
    },
    {
     "name": "stdout",
     "output_type": "stream",
     "text": [
      "\r",
      "Step 620 / 747: Elapsed time = 58s, Loss = 0.107, Violation = -0.020"
     ]
    },
    {
     "name": "stdout",
     "output_type": "stream",
     "text": [
      "\r",
      "Step 630 / 747: Elapsed time = 59s, Loss = 0.016, Violation = -0.020"
     ]
    },
    {
     "name": "stdout",
     "output_type": "stream",
     "text": [
      "\r",
      "Step 640 / 747: Elapsed time = 59s, Loss = 0.130, Violation = -0.020"
     ]
    },
    {
     "name": "stdout",
     "output_type": "stream",
     "text": [
      "\r",
      "Step 650 / 747: Elapsed time = 60s, Loss = 0.089, Violation = -0.020"
     ]
    },
    {
     "name": "stdout",
     "output_type": "stream",
     "text": [
      "\r",
      "Step 660 / 747: Elapsed time = 61s, Loss = 0.275, Violation = -0.020"
     ]
    },
    {
     "name": "stdout",
     "output_type": "stream",
     "text": [
      "\r",
      "Step 670 / 747: Elapsed time = 62s, Loss = 0.076, Violation = 0.092"
     ]
    },
    {
     "name": "stdout",
     "output_type": "stream",
     "text": [
      "\r",
      "Step 680 / 747: Elapsed time = 63s, Loss = 0.071, Violation = -0.020"
     ]
    },
    {
     "name": "stdout",
     "output_type": "stream",
     "text": [
      "\r",
      "Step 690 / 747: Elapsed time = 64s, Loss = 0.100, Violation = -0.020"
     ]
    },
    {
     "name": "stdout",
     "output_type": "stream",
     "text": [
      "\r",
      "Step 700 / 747: Elapsed time = 65s, Loss = 0.155, Violation = -0.020"
     ]
    },
    {
     "name": "stdout",
     "output_type": "stream",
     "text": [
      "\r",
      "Step 710 / 747: Elapsed time = 66s, Loss = 0.079, Violation = -0.020"
     ]
    },
    {
     "name": "stdout",
     "output_type": "stream",
     "text": [
      "\r",
      "Step 720 / 747: Elapsed time = 67s, Loss = 0.084, Violation = -0.020"
     ]
    },
    {
     "name": "stdout",
     "output_type": "stream",
     "text": [
      "\r",
      "Step 730 / 747: Elapsed time = 68s, Loss = 0.111, Violation = -0.020"
     ]
    },
    {
     "name": "stdout",
     "output_type": "stream",
     "text": [
      "\r",
      "Step 740 / 747: Elapsed time = 69s, Loss = 0.074, Violation = -0.020"
     ]
    },
    {
     "name": "stdout",
     "output_type": "stream",
     "text": [
      "\r",
      "Step 747 / 747: Elapsed time = 69s, Loss = 0.076, Violation = -0.020"
     ]
    }
   ],
   "source": [
    "# Indices of sensitive group members.\n",
    "protected_group_indices = np.nonzero(groups_train.sum(axis=1))[0]\n",
    "\n",
    "num_examples = text_train.shape[0]\n",
    "num_examples_sen = protected_group_indices.shape[0]\n",
    "batch_size = hparams[\"batch_size\"]\n",
    "\n",
    "# Number of steps needed for one epoch over the training sample.\n",
    "num_steps = int(num_examples / batch_size)\n",
    "\n",
    "start_time = time.time()\n",
    "\n",
    "# Loop over minibatches.\n",
    "for batch_index in range(num_steps):\n",
    "    # Indices for current minibatch in the first stream.\n",
    "    batch_indices = np.arange(\n",
    "        batch_index * batch_size, (batch_index + 1) * batch_size)\n",
    "    batch_indices = [ind % num_examples for ind in batch_indices]\n",
    "\n",
    "    # Indices for current minibatch in the second stream.\n",
    "    batch_indices_sen = np.arange(\n",
    "        batch_index * batch_size, (batch_index + 1) * batch_size)\n",
    "    batch_indices_sen = [protected_group_indices[ind % num_examples_sen]\n",
    "                         for ind in batch_indices_sen]\n",
    "\n",
    "    # Assign features, labels, groups from the minibatches to the respective tensors.\n",
    "    features_tensor.assign(text_train[batch_indices, :])\n",
    "    labels_tensor.assign(labels_train[batch_indices])\n",
    "\n",
    "    features_tensor_sen.assign(text_train[batch_indices_sen, :])\n",
    "    labels_tensor_sen.assign(labels_train[batch_indices_sen])\n",
    "    groups_tensor_sen.assign(groups_train[batch_indices_sen, :])\n",
    "\n",
    "    # Gradient update.\n",
    "    optimizer.minimize(problem, var_list=var_list)\n",
    "    \n",
    "    # Record and print batch training stats every 10 steps.\n",
    "    if (batch_index + 1) % 10 == 0 or batch_index in (0, num_steps - 1):\n",
    "      hinge_loss = problem.objective()\n",
    "      max_violation = max(problem.constraints())\n",
    "\n",
    "      elapsed_time = time.time() - start_time\n",
    "      sys.stdout.write(\n",
    "          \"\\rStep %d / %d: Elapsed time = %ds, Loss = %.3f, Violation = %.3f\" % \n",
    "          (batch_index + 1, num_steps, elapsed_time, hinge_loss, max_violation))\n",
    "    "
   ]
  },
  {
   "cell_type": "markdown",
   "metadata": {
    "id": "DdJfplDpWs97"
   },
   "source": [
    "Having trained the constrained model, we plot various evaluation metrics for the model on the test set."
   ]
  },
  {
   "cell_type": "code",
   "execution_count": 28,
   "metadata": {
    "execution": {
     "iopub.execute_input": "2022-05-07T09:18:51.350835Z",
     "iopub.status.busy": "2022-05-07T09:18:51.350377Z",
     "iopub.status.idle": "2022-05-07T09:19:39.401406Z",
     "shell.execute_reply": "2022-05-07T09:19:39.400751Z"
    },
    "id": "jEerPEwLhfTN"
   },
   "outputs": [
    {
     "name": "stdout",
     "output_type": "stream",
     "text": [
      "\r",
      "  1/996 [..............................] - ETA: 1:26"
     ]
    },
    {
     "name": "stdout",
     "output_type": "stream",
     "text": [
      "\b\b\b\b\b\b\b\b\b\b\b\b\b\b\b\b\b\b\b\b\b\b\b\b\b\b\b\b\b\b\b\b\b\b\b\b\b\b\b\b\b\b\b\b\b\b\b\b\b\b\b\b\r",
      " 32/996 [..............................] - ETA: 1s  "
     ]
    },
    {
     "name": "stdout",
     "output_type": "stream",
     "text": [
      "\b\b\b\b\b\b\b\b\b\b\b\b\b\b\b\b\b\b\b\b\b\b\b\b\b\b\b\b\b\b\b\b\b\b\b\b\b\b\b\b\b\b\b\b\b\b\b\b\b\b\r",
      " 64/996 [>.............................] - ETA: 1s"
     ]
    },
    {
     "name": "stdout",
     "output_type": "stream",
     "text": [
      "\b\b\b\b\b\b\b\b\b\b\b\b\b\b\b\b\b\b\b\b\b\b\b\b\b\b\b\b\b\b\b\b\b\b\b\b\b\b\b\b\b\b\b\b\b\b\b\b\b\b\r",
      " 96/996 [=>............................] - ETA: 1s"
     ]
    },
    {
     "name": "stdout",
     "output_type": "stream",
     "text": [
      "\b\b\b\b\b\b\b\b\b\b\b\b\b\b\b\b\b\b\b\b\b\b\b\b\b\b\b\b\b\b\b\b\b\b\b\b\b\b\b\b\b\b\b\b\b\b\b\b\b\b\r",
      "128/996 [==>...........................] - ETA: 1s"
     ]
    },
    {
     "name": "stdout",
     "output_type": "stream",
     "text": [
      "\b\b\b\b\b\b\b\b\b\b\b\b\b\b\b\b\b\b\b\b\b\b\b\b\b\b\b\b\b\b\b\b\b\b\b\b\b\b\b\b\b\b\b\b\b\b\b\b\b\b\r",
      "159/996 [===>..........................] - ETA: 1s"
     ]
    },
    {
     "name": "stdout",
     "output_type": "stream",
     "text": [
      "\b\b\b\b\b\b\b\b\b\b\b\b\b\b\b\b\b\b\b\b\b\b\b\b\b\b\b\b\b\b\b\b\b\b\b\b\b\b\b\b\b\b\b\b\b\b\b\b\b\b\r",
      "190/996 [====>.........................] - ETA: 1s"
     ]
    },
    {
     "name": "stdout",
     "output_type": "stream",
     "text": [
      "\b\b\b\b\b\b\b\b\b\b\b\b\b\b\b\b\b\b\b\b\b\b\b\b\b\b\b\b\b\b\b\b\b\b\b\b\b\b\b\b\b\b\b\b\b\b\b\b\b\b\r",
      "222/996 [=====>........................] - ETA: 1s"
     ]
    },
    {
     "name": "stdout",
     "output_type": "stream",
     "text": [
      "\b\b\b\b\b\b\b\b\b\b\b\b\b\b\b\b\b\b\b\b\b\b\b\b\b\b\b\b\b\b\b\b\b\b\b\b\b\b\b\b\b\b\b\b\b\b\b\b\b\b\r",
      "253/996 [======>.......................] - ETA: 1s"
     ]
    },
    {
     "name": "stdout",
     "output_type": "stream",
     "text": [
      "\b\b\b\b\b\b\b\b\b\b\b\b\b\b\b\b\b\b\b\b\b\b\b\b\b\b\b\b\b\b\b\b\b\b\b\b\b\b\b\b\b\b\b\b\b\b\b\b\b\b\r",
      "285/996 [=======>......................] - ETA: 1s"
     ]
    },
    {
     "name": "stdout",
     "output_type": "stream",
     "text": [
      "\b\b\b\b\b\b\b\b\b\b\b\b\b\b\b\b\b\b\b\b\b\b\b\b\b\b\b\b\b\b\b\b\b\b\b\b\b\b\b\b\b\b\b\b\b\b\b\b\b\b\r",
      "317/996 [========>.....................] - ETA: 1s"
     ]
    },
    {
     "name": "stdout",
     "output_type": "stream",
     "text": [
      "\b\b\b\b\b\b\b\b\b\b\b\b\b\b\b\b\b\b\b\b\b\b\b\b\b\b\b\b\b\b\b\b\b\b\b\b\b\b\b\b\b\b\b\b\b\b\b\b\b\b\r",
      "348/996 [=========>....................] - ETA: 1s"
     ]
    },
    {
     "name": "stdout",
     "output_type": "stream",
     "text": [
      "\b\b\b\b\b\b\b\b\b\b\b\b\b\b\b\b\b\b\b\b\b\b\b\b\b\b\b\b\b\b\b\b\b\b\b\b\b\b\b\b\b\b\b\b\b\b\b\b\b\b\r",
      "379/996 [==========>...................] - ETA: 0s"
     ]
    },
    {
     "name": "stdout",
     "output_type": "stream",
     "text": [
      "\b\b\b\b\b\b\b\b\b\b\b\b\b\b\b\b\b\b\b\b\b\b\b\b\b\b\b\b\b\b\b\b\b\b\b\b\b\b\b\b\b\b\b\b\b\b\b\b\b\b\r",
      "410/996 [===========>..................] - ETA: 0s"
     ]
    },
    {
     "name": "stdout",
     "output_type": "stream",
     "text": [
      "\b\b\b\b\b\b\b\b\b\b\b\b\b\b\b\b\b\b\b\b\b\b\b\b\b\b\b\b\b\b\b\b\b\b\b\b\b\b\b\b\b\b\b\b\b\b\b\b\b\b\r",
      "441/996 [============>.................] - ETA: 0s"
     ]
    },
    {
     "name": "stdout",
     "output_type": "stream",
     "text": [
      "\b\b\b\b\b\b\b\b\b\b\b\b\b\b\b\b\b\b\b\b\b\b\b\b\b\b\b\b\b\b\b\b\b\b\b\b\b\b\b\b\b\b\b\b\b\b\b\b\b\b\r",
      "472/996 [=============>................] - ETA: 0s"
     ]
    },
    {
     "name": "stdout",
     "output_type": "stream",
     "text": [
      "\b\b\b\b\b\b\b\b\b\b\b\b\b\b\b\b\b\b\b\b\b\b\b\b\b\b\b\b\b\b\b\b\b\b\b\b\b\b\b\b\b\b\b\b\b\b\b\b\b\b\r",
      "504/996 [==============>...............] - ETA: 0s"
     ]
    },
    {
     "name": "stdout",
     "output_type": "stream",
     "text": [
      "\b\b\b\b\b\b\b\b\b\b\b\b\b\b\b\b\b\b\b\b\b\b\b\b\b\b\b\b\b\b\b\b\b\b\b\b\b\b\b\b\b\b\b\b\b\b\b\b\b\b\r",
      "535/996 [===============>..............] - ETA: 0s"
     ]
    },
    {
     "name": "stdout",
     "output_type": "stream",
     "text": [
      "\b\b\b\b\b\b\b\b\b\b\b\b\b\b\b\b\b\b\b\b\b\b\b\b\b\b\b\b\b\b\b\b\b\b\b\b\b\b\b\b\b\b\b\b\b\b\b\b\b\b\r",
      "567/996 [================>.............] - ETA: 0s"
     ]
    },
    {
     "name": "stdout",
     "output_type": "stream",
     "text": [
      "\b\b\b\b\b\b\b\b\b\b\b\b\b\b\b\b\b\b\b\b\b\b\b\b\b\b\b\b\b\b\b\b\b\b\b\b\b\b\b\b\b\b\b\b\b\b\b\b\b\b\r",
      "598/996 [=================>............] - ETA: 0s"
     ]
    },
    {
     "name": "stdout",
     "output_type": "stream",
     "text": [
      "\b\b\b\b\b\b\b\b\b\b\b\b\b\b\b\b\b\b\b\b\b\b\b\b\b\b\b\b\b\b\b\b\b\b\b\b\b\b\b\b\b\b\b\b\b\b\b\b\b\b\r",
      "629/996 [=================>............] - ETA: 0s"
     ]
    },
    {
     "name": "stdout",
     "output_type": "stream",
     "text": [
      "\b\b\b\b\b\b\b\b\b\b\b\b\b\b\b\b\b\b\b\b\b\b\b\b\b\b\b\b\b\b\b\b\b\b\b\b\b\b\b\b\b\b\b\b\b\b\b\b\b\b\r",
      "660/996 [==================>...........] - ETA: 0s"
     ]
    },
    {
     "name": "stdout",
     "output_type": "stream",
     "text": [
      "\b\b\b\b\b\b\b\b\b\b\b\b\b\b\b\b\b\b\b\b\b\b\b\b\b\b\b\b\b\b\b\b\b\b\b\b\b\b\b\b\b\b\b\b\b\b\b\b\b\b\r",
      "691/996 [===================>..........] - ETA: 0s"
     ]
    },
    {
     "name": "stdout",
     "output_type": "stream",
     "text": [
      "\b\b\b\b\b\b\b\b\b\b\b\b\b\b\b\b\b\b\b\b\b\b\b\b\b\b\b\b\b\b\b\b\b\b\b\b\b\b\b\b\b\b\b\b\b\b\b\b\b\b\r",
      "722/996 [====================>.........] - ETA: 0s"
     ]
    },
    {
     "name": "stdout",
     "output_type": "stream",
     "text": [
      "\b\b\b\b\b\b\b\b\b\b\b\b\b\b\b\b\b\b\b\b\b\b\b\b\b\b\b\b\b\b\b\b\b\b\b\b\b\b\b\b\b\b\b\b\b\b\b\b\b\b\r",
      "753/996 [=====================>........] - ETA: 0s"
     ]
    },
    {
     "name": "stdout",
     "output_type": "stream",
     "text": [
      "\b\b\b\b\b\b\b\b\b\b\b\b\b\b\b\b\b\b\b\b\b\b\b\b\b\b\b\b\b\b\b\b\b\b\b\b\b\b\b\b\b\b\b\b\b\b\b\b\b\b\r",
      "784/996 [======================>.......] - ETA: 0s"
     ]
    },
    {
     "name": "stdout",
     "output_type": "stream",
     "text": [
      "\b\b\b\b\b\b\b\b\b\b\b\b\b\b\b\b\b\b\b\b\b\b\b\b\b\b\b\b\b\b\b\b\b\b\b\b\b\b\b\b\b\b\b\b\b\b\b\b\b\b\r",
      "815/996 [=======================>......] - ETA: 0s"
     ]
    },
    {
     "name": "stdout",
     "output_type": "stream",
     "text": [
      "\b\b\b\b\b\b\b\b\b\b\b\b\b\b\b\b\b\b\b\b\b\b\b\b\b\b\b\b\b\b\b\b\b\b\b\b\b\b\b\b\b\b\b\b\b\b\b\b\b\b\r",
      "846/996 [========================>.....] - ETA: 0s"
     ]
    },
    {
     "name": "stdout",
     "output_type": "stream",
     "text": [
      "\b\b\b\b\b\b\b\b\b\b\b\b\b\b\b\b\b\b\b\b\b\b\b\b\b\b\b\b\b\b\b\b\b\b\b\b\b\b\b\b\b\b\b\b\b\b\b\b\b\b\r",
      "877/996 [=========================>....] - ETA: 0s"
     ]
    },
    {
     "name": "stdout",
     "output_type": "stream",
     "text": [
      "\b\b\b\b\b\b\b\b\b\b\b\b\b\b\b\b\b\b\b\b\b\b\b\b\b\b\b\b\b\b\b\b\b\b\b\b\b\b\b\b\b\b\b\b\b\b\b\b\b\b\r",
      "909/996 [==========================>...] - ETA: 0s"
     ]
    },
    {
     "name": "stdout",
     "output_type": "stream",
     "text": [
      "\b\b\b\b\b\b\b\b\b\b\b\b\b\b\b\b\b\b\b\b\b\b\b\b\b\b\b\b\b\b\b\b\b\b\b\b\b\b\b\b\b\b\b\b\b\b\b\b\b\b\r",
      "940/996 [===========================>..] - ETA: 0s"
     ]
    },
    {
     "name": "stdout",
     "output_type": "stream",
     "text": [
      "\b\b\b\b\b\b\b\b\b\b\b\b\b\b\b\b\b\b\b\b\b\b\b\b\b\b\b\b\b\b\b\b\b\b\b\b\b\b\b\b\b\b\b\b\b\b\b\b\b\b\r",
      "972/996 [============================>.] - ETA: 0s"
     ]
    },
    {
     "name": "stdout",
     "output_type": "stream",
     "text": [
      "\b\b\b\b\b\b\b\b\b\b\b\b\b\b\b\b\b\b\b\b\b\b\b\b\b\b\b\b\b\b\b\b\b\b\b\b\b\b\b\b\b\b\b\b\b\b\b\b\b\b\r",
      "996/996 [==============================] - 2s 2ms/step\n"
     ]
    },
    {
     "name": "stderr",
     "output_type": "stream",
     "text": [
      "WARNING:root:Make sure that locally built Python SDK docker image has Python 3.7 interpreter.\n"
     ]
    },
    {
     "name": "stdout",
     "output_type": "stream",
     "text": [
      "INFO:tensorflow:ExampleCount post export metric: could not find any of the standard keys in predictions_dict (keys were: dict_keys(['prediction']))\n"
     ]
    },
    {
     "name": "stderr",
     "output_type": "stream",
     "text": [
      "INFO:tensorflow:ExampleCount post export metric: could not find any of the standard keys in predictions_dict (keys were: dict_keys(['prediction']))\n"
     ]
    },
    {
     "name": "stdout",
     "output_type": "stream",
     "text": [
      "INFO:tensorflow:Using the first key from predictions_dict: prediction\n"
     ]
    },
    {
     "name": "stderr",
     "output_type": "stream",
     "text": [
      "INFO:tensorflow:Using the first key from predictions_dict: prediction\n"
     ]
    },
    {
     "name": "stderr",
     "output_type": "stream",
     "text": [
      "WARNING:apache_beam.io.filebasedsink:Deleting 1 existing files in target path matching: -*-of-%(num_shards)05d\n"
     ]
    },
    {
     "name": "stderr",
     "output_type": "stream",
     "text": [
      "WARNING:apache_beam.io.filebasedsink:No shards found to finalize. num_shards: 1, skipped: 1\n"
     ]
    },
    {
     "name": "stderr",
     "output_type": "stream",
     "text": [
      "WARNING:apache_beam.io.filebasedsink:Deleting 1 existing files in target path matching: \n"
     ]
    }
   ],
   "source": [
    "scores_constrained_test = model_constrained.predict(text_test)\n",
    "eval_result_constrained = evaluate_results(\n",
    "    labels_test, scores_constrained_test, groups_test, group_names)"
   ]
  },
  {
   "cell_type": "markdown",
   "metadata": {
    "id": "ustp5z7xQnHI"
   },
   "source": [
    "As with last time, remember to select false_positive_rate."
   ]
  },
  {
   "cell_type": "code",
   "execution_count": 29,
   "metadata": {
    "execution": {
     "iopub.execute_input": "2022-05-07T09:19:39.405995Z",
     "iopub.status.busy": "2022-05-07T09:19:39.405413Z",
     "iopub.status.idle": "2022-05-07T09:19:39.416173Z",
     "shell.execute_reply": "2022-05-07T09:19:39.415543Z"
    },
    "id": "ztK7iM4LjKmT"
   },
   "outputs": [
    {
     "data": {
      "text/html": [
       "<center><h2>Constrained (Accuracy = 94.77%)</h2></center>"
      ],
      "text/plain": [
       "<IPython.core.display.HTML object>"
      ]
     },
     "metadata": {},
     "output_type": "display_data"
    }
   ],
   "source": [
    "plot_fairness_indicators(eval_result_constrained, \"Constrained\")"
   ]
  },
  {
   "cell_type": "code",
   "execution_count": 30,
   "metadata": {
    "execution": {
     "iopub.execute_input": "2022-05-07T09:19:39.421919Z",
     "iopub.status.busy": "2022-05-07T09:19:39.421533Z",
     "iopub.status.idle": "2022-05-07T09:19:39.435819Z",
     "shell.execute_reply": "2022-05-07T09:19:39.435189Z"
    },
    "id": "6P6dxSg5_mTu"
   },
   "outputs": [
    {
     "data": {
      "text/html": [
       "<center><h2>constrained (Accuracy = 94.77%); unconstrained (Accuracy = 95.71%)</h2></center>"
      ],
      "text/plain": [
       "<IPython.core.display.HTML object>"
      ]
     },
     "metadata": {},
     "output_type": "display_data"
    }
   ],
   "source": [
    "multi_results = {\n",
    "    'constrained':eval_result_constrained,\n",
    "    'unconstrained':eval_result_unconstrained,\n",
    "}\n",
    "plot_multi_fairness_indicators(multi_eval_results=multi_results)"
   ]
  },
  {
   "cell_type": "markdown",
   "metadata": {
    "id": "EfKo5O3QWs9-"
   },
   "source": [
    "As we can see from the Fairness Indicators, compared to the unconstrained model the constrained model yields significantly lower false positive rates for the sexuality-related comments, and does so with only a slight dip in the overall accuracy."
   ]
  }
 ],
 "metadata": {
  "colab": {
   "collapsed_sections": [],
   "name": "Fairness Indicators TFCO Wiki Comments Case Study.ipynb",
   "private_outputs": true,
   "provenance": [],
   "toc_visible": true
  },
  "kernelspec": {
   "display_name": "Python 3",
   "name": "python3"
  },
  "language_info": {
   "codemirror_mode": {
    "name": "ipython",
    "version": 3
   },
   "file_extension": ".py",
   "mimetype": "text/x-python",
   "name": "python",
   "nbconvert_exporter": "python",
   "pygments_lexer": "ipython3",
   "version": "3.7.5"
  },
  "widgets": {
   "application/vnd.jupyter.widget-state+json": {
    "state": {
     "10edd6da4ee1407ea8fbfed0d87768d6": {
      "model_module": "@jupyter-widgets/base",
      "model_module_version": "1.2.0",
      "model_name": "LayoutModel",
      "state": {
       "_model_module": "@jupyter-widgets/base",
       "_model_module_version": "1.2.0",
       "_model_name": "LayoutModel",
       "_view_count": null,
       "_view_module": "@jupyter-widgets/base",
       "_view_module_version": "1.2.0",
       "_view_name": "LayoutView",
       "align_content": null,
       "align_items": null,
       "align_self": null,
       "border": null,
       "bottom": null,
       "display": null,
       "flex": null,
       "flex_flow": null,
       "grid_area": null,
       "grid_auto_columns": null,
       "grid_auto_flow": null,
       "grid_auto_rows": null,
       "grid_column": null,
       "grid_gap": null,
       "grid_row": null,
       "grid_template_areas": null,
       "grid_template_columns": null,
       "grid_template_rows": null,
       "height": null,
       "justify_content": null,
       "justify_items": null,
       "left": null,
       "margin": null,
       "max_height": null,
       "max_width": null,
       "min_height": null,
       "min_width": null,
       "object_fit": null,
       "object_position": null,
       "order": null,
       "overflow": null,
       "overflow_x": null,
       "overflow_y": null,
       "padding": null,
       "right": null,
       "top": null,
       "visibility": null,
       "width": null
      }
     },
     "1c0d775e9a1a44e0be946f0eed0676c5": {
      "model_module": "@jupyter-widgets/base",
      "model_module_version": "1.2.0",
      "model_name": "LayoutModel",
      "state": {
       "_model_module": "@jupyter-widgets/base",
       "_model_module_version": "1.2.0",
       "_model_name": "LayoutModel",
       "_view_count": null,
       "_view_module": "@jupyter-widgets/base",
       "_view_module_version": "1.2.0",
       "_view_name": "LayoutView",
       "align_content": null,
       "align_items": null,
       "align_self": null,
       "border": null,
       "bottom": null,
       "display": null,
       "flex": null,
       "flex_flow": null,
       "grid_area": null,
       "grid_auto_columns": null,
       "grid_auto_flow": null,
       "grid_auto_rows": null,
       "grid_column": null,
       "grid_gap": null,
       "grid_row": null,
       "grid_template_areas": null,
       "grid_template_columns": null,
       "grid_template_rows": null,
       "height": null,
       "justify_content": null,
       "justify_items": null,
       "left": null,
       "margin": null,
       "max_height": null,
       "max_width": null,
       "min_height": null,
       "min_width": null,
       "object_fit": null,
       "object_position": null,
       "order": null,
       "overflow": null,
       "overflow_x": null,
       "overflow_y": null,
       "padding": null,
       "right": null,
       "top": null,
       "visibility": null,
       "width": null
      }
     },
     "47436b4bce5342cea15ac40ed20ef1e5": {
      "model_module": "tensorflow_model_analysis",
      "model_module_version": "0.38.0",
      "model_name": "FairnessIndicatorModel",
      "state": {
       "_dom_classes": [],
       "_model_module": "tensorflow_model_analysis",
       "_model_module_version": "0.38.0",
       "_model_name": "FairnessIndicatorModel",
       "_view_count": null,
       "_view_module": "tensorflow_model_analysis",
       "_view_module_version": "0.38.0",
       "_view_name": "FairnessIndicatorView",
       "evalName": "",
       "evalNameCompare": "",
       "js_events": [],
       "layout": "IPY_MODEL_5e845053ef1c4c83b932282425312f48",
       "slicingMetrics": [
        {
         "metrics": {
          "post_export_metrics/example_count": {
           "doubleValue": 31225.0
          },
          "post_export_metrics/prediction/fairness/confusion_matrix_at_thresholds": {
           "confusionMatrixAtThresholds": {
            "matrices": [
             {
              "boundedFalseNegatives": {
               "lowerBound": 956.3293680446443,
               "methodology": "POISSON_BOOTSTRAP",
               "upperBound": 1107.0705342991057,
               "value": 1031.699951171875
              },
              "boundedFalsePositives": {
               "lowerBound": 280.8003828508368,
               "methodology": "POISSON_BOOTSTRAP",
               "upperBound": 343.49960494213195,
               "value": 312.1499938964844
              },
              "boundedPrecision": {
               "lowerBound": 0.8514329227258093,
               "methodology": "POISSON_BOOTSTRAP",
               "upperBound": 0.8763147560309046,
               "value": 0.8638738393783569
              },
              "boundedRecall": {
               "lowerBound": 0.6412642890635142,
               "methodology": "POISSON_BOOTSTRAP",
               "upperBound": 0.6739131515797964,
               "value": 0.6575887203216553
              },
              "boundedTrueNegatives": {
               "lowerBound": 27653.16839083291,
               "methodology": "POISSON_BOOTSTRAP",
               "upperBound": 28215.93317166709,
               "value": 27934.55078125
              },
              "boundedTruePositives": {
               "lowerBound": 1911.2940034254868,
               "methodology": "POISSON_BOOTSTRAP",
               "upperBound": 2050.3060942307634,
               "value": 1980.800048828125
              },
              "falseNegatives": 1027.0,
              "falsePositives": 311.0,
              "precision": 0.8637160658836365,
              "recall": 0.6574382781982422,
              "tDistributionFalseNegatives": {
               "sampleDegreesOfFreedom": "19",
               "sampleMean": 1031.699951171875,
               "sampleStandardDeviation": 36.0103759765625,
               "unsampledValue": 1027.0
              },
              "tDistributionFalsePositives": {
               "sampleDegreesOfFreedom": "19",
               "sampleMean": 312.1499938964844,
               "sampleStandardDeviation": 14.978141784667969,
               "unsampledValue": 311.0
              },
              "tDistributionPrecision": {
               "sampleDegreesOfFreedom": "19",
               "sampleMean": 0.8638738393783569,
               "sampleStandardDeviation": 0.005943991243839264,
               "unsampledValue": 0.8637160658836365
              },
              "tDistributionRecall": {
               "sampleDegreesOfFreedom": "19",
               "sampleMean": 0.6575887203216553,
               "sampleStandardDeviation": 0.007799447514116764,
               "unsampledValue": 0.6574382781982422
              },
              "tDistributionTrueNegatives": {
               "sampleDegreesOfFreedom": "19",
               "sampleMean": 27934.55078125,
               "sampleStandardDeviation": 134.43820190429688,
               "unsampledValue": 27916.0
              },
              "tDistributionTruePositives": {
               "sampleDegreesOfFreedom": "19",
               "sampleMean": 1980.800048828125,
               "sampleStandardDeviation": 33.208431243896484,
               "unsampledValue": 1971.0
              },
              "threshold": 0.5,
              "trueNegatives": 27916.0,
              "truePositives": 1971.0
             }
            ]
           }
          },
          "post_export_metrics/prediction/false_discovery_rate@0.50": {
           "boundedValue": {
            "lowerBound": 0.12368530259909989,
            "methodology": "POISSON_BOOTSTRAP",
            "upperBound": 0.14856713785347578,
            "value": 0.1362839639186859
           }
          },
          "post_export_metrics/prediction/false_negative_rate@0.50": {
           "boundedValue": {
            "lowerBound": 0.3260868338005995,
            "methodology": "POISSON_BOOTSTRAP",
            "upperBound": 0.35873572555608996,
            "value": 0.3425617218017578
           }
          },
          "post_export_metrics/prediction/false_omission_rate@0.50": {
           "boundedValue": {
            "lowerBound": 0.033067787116868363,
            "methodology": "POISSON_BOOTSTRAP",
            "upperBound": 0.038165962272780074,
            "value": 0.03548353537917137
           }
          },
          "post_export_metrics/prediction/false_positive_rate@0.50": {
           "boundedValue": {
            "lowerBound": 0.009917223219994324,
            "methodology": "POISSON_BOOTSTRAP",
            "upperBound": 0.012185793976064903,
            "value": 0.011017819866538048
           }
          },
          "post_export_metrics/prediction/negative_rate@0.50": {
           "boundedValue": {
            "lowerBound": 0.9240652078089684,
            "methodology": "POISSON_BOOTSTRAP",
            "upperBound": 0.9292259460988075,
            "value": 0.926917552947998
           }
          },
          "post_export_metrics/prediction/positive_rate@0.50": {
           "boundedValue": {
            "lowerBound": 0.07077399892608909,
            "methodology": "POISSON_BOOTSTRAP",
            "upperBound": 0.07593472795684549,
            "value": 0.07308246940374374
           }
          },
          "post_export_metrics/prediction/true_negative_rate@0.50": {
           "boundedValue": {
            "lowerBound": 0.9878142432497665,
            "methodology": "POISSON_BOOTSTRAP",
            "upperBound": 0.9900828047467545,
            "value": 0.9889822006225586
           }
          },
          "post_export_metrics/prediction/true_positive_rate@0.50": {
           "boundedValue": {
            "lowerBound": 0.6412642890635142,
            "methodology": "POISSON_BOOTSTRAP",
            "upperBound": 0.6739131515797964,
            "value": 0.6574382781982422
           }
          }
         },
         "slice": "religion:No",
         "sliceValue": "No"
        },
        {
         "metrics": {
          "post_export_metrics/example_count": {
           "doubleValue": 31866.0
          },
          "post_export_metrics/prediction/fairness/confusion_matrix_at_thresholds": {
           "confusionMatrixAtThresholds": {
            "matrices": [
             {
              "boundedFalseNegatives": {
               "lowerBound": 962.6830004699065,
               "methodology": "POISSON_BOOTSTRAP",
               "upperBound": 1102.9170971863437,
               "value": 1032.800048828125
              },
              "boundedFalsePositives": {
               "lowerBound": 285.19332717026293,
               "methodology": "POISSON_BOOTSTRAP",
               "upperBound": 349.6066606227058,
               "value": 317.3999938964844
              },
              "boundedPrecision": {
               "lowerBound": 0.8487564678118356,
               "methodology": "POISSON_BOOTSTRAP",
               "upperBound": 0.8774972801282279,
               "value": 0.8631268739700317
              },
              "boundedRecall": {
               "lowerBound": 0.6404186117805357,
               "methodology": "POISSON_BOOTSTRAP",
               "upperBound": 0.6789640557609682,
               "value": 0.659691333770752
              },
              "boundedTrueNegatives": {
               "lowerBound": 28073.223220993852,
               "methodology": "POISSON_BOOTSTRAP",
               "upperBound": 29011.675216506148,
               "value": 28542.44921875
              },
              "boundedTruePositives": {
               "lowerBound": 1920.3136056313992,
               "methodology": "POISSON_BOOTSTRAP",
               "upperBound": 2083.5862967123508,
               "value": 2001.949951171875
              },
              "falseNegatives": 1051.0,
              "falsePositives": 316.0,
              "precision": 0.8633809089660645,
              "recall": 0.655183732509613,
              "tDistributionFalseNegatives": {
               "sampleDegreesOfFreedom": "19",
               "sampleMean": 1032.800048828125,
               "sampleStandardDeviation": 33.5003547668457,
               "unsampledValue": 1051.0
              },
              "tDistributionFalsePositives": {
               "sampleDegreesOfFreedom": "19",
               "sampleMean": 317.3999938964844,
               "sampleStandardDeviation": 15.38762378692627,
               "unsampledValue": 316.0
              },
              "tDistributionPrecision": {
               "sampleDegreesOfFreedom": "19",
               "sampleMean": 0.8631268739700317,
               "sampleStandardDeviation": 0.0068658581003546715,
               "unsampledValue": 0.8633809089660645
              },
              "tDistributionRecall": {
               "sampleDegreesOfFreedom": "19",
               "sampleMean": 0.659691333770752,
               "sampleStandardDeviation": 0.009208074770867825,
               "unsampledValue": 0.655183732509613
              },
              "tDistributionTrueNegatives": {
               "sampleDegreesOfFreedom": "19",
               "sampleMean": 28542.44921875,
               "sampleStandardDeviation": 224.1856689453125,
               "unsampledValue": 28502.0
              },
              "tDistributionTruePositives": {
               "sampleDegreesOfFreedom": "19",
               "sampleMean": 2001.949951171875,
               "sampleStandardDeviation": 39.0040168762207,
               "unsampledValue": 1997.0
              },
              "threshold": 0.5,
              "trueNegatives": 28502.0,
              "truePositives": 1997.0
             }
            ]
           }
          },
          "post_export_metrics/prediction/false_discovery_rate@0.50": {
           "boundedValue": {
            "lowerBound": 0.12250280538017817,
            "methodology": "POISSON_BOOTSTRAP",
            "upperBound": 0.1512436254936927,
            "value": 0.13661910593509674
           }
          },
          "post_export_metrics/prediction/false_negative_rate@0.50": {
           "boundedValue": {
            "lowerBound": 0.32103588073582595,
            "methodology": "POISSON_BOOTSTRAP",
            "upperBound": 0.3595813325133806,
            "value": 0.34481626749038696
           }
          },
          "post_export_metrics/prediction/false_omission_rate@0.50": {
           "boundedValue": {
            "lowerBound": 0.032515402398064046,
            "methodology": "POISSON_BOOTSTRAP",
            "upperBound": 0.037329447009608836,
            "value": 0.03556322678923607
           }
          },
          "post_export_metrics/prediction/false_positive_rate@0.50": {
           "boundedValue": {
            "lowerBound": 0.009863766460005684,
            "methodology": "POISSON_BOOTSTRAP",
            "upperBound": 0.012133579151447372,
            "value": 0.010965368710458279
           }
          },
          "post_export_metrics/prediction/negative_rate@0.50": {
           "boundedValue": {
            "lowerBound": 0.9250797677759155,
            "methodology": "POISSON_BOOTSTRAP",
            "upperBound": 0.9294813226934449,
            "value": 0.9274147748947144
           }
          },
          "post_export_metrics/prediction/positive_rate@0.50": {
           "boundedValue": {
            "lowerBound": 0.07051871591853703,
            "methodology": "POISSON_BOOTSTRAP",
            "upperBound": 0.07492028301906978,
            "value": 0.07258520275354385
           }
          },
          "post_export_metrics/prediction/true_negative_rate@0.50": {
           "boundedValue": {
            "lowerBound": 0.9878664777133728,
            "methodology": "POISSON_BOOTSTRAP",
            "upperBound": 0.9901363089229798,
            "value": 0.9890346527099609
           }
          },
          "post_export_metrics/prediction/true_positive_rate@0.50": {
           "boundedValue": {
            "lowerBound": 0.6404186117805357,
            "methodology": "POISSON_BOOTSTRAP",
            "upperBound": 0.6789640557609682,
            "value": 0.655183732509613
           }
          }
         },
         "slice": "Overall",
         "sliceValue": "Overall"
        },
        {
         "metrics": {
          "post_export_metrics/example_count": {
           "doubleValue": 30337.0
          },
          "post_export_metrics/prediction/fairness/confusion_matrix_at_thresholds": {
           "confusionMatrixAtThresholds": {
            "matrices": [
             {
              "boundedFalseNegatives": {
               "lowerBound": 918.421646588005,
               "methodology": "POISSON_BOOTSTRAP",
               "upperBound": 1032.6783289979326,
               "value": 975.5499877929688
              },
              "boundedFalsePositives": {
               "lowerBound": 266.5170547820573,
               "methodology": "POISSON_BOOTSTRAP",
               "upperBound": 333.5829208038802,
               "value": 300.04998779296875
              },
              "boundedPrecision": {
               "lowerBound": 0.8501006574670285,
               "methodology": "POISSON_BOOTSTRAP",
               "upperBound": 0.877701261516431,
               "value": 0.8639009594917297
              },
              "boundedRecall": {
               "lowerBound": 0.6459849122843083,
               "methodology": "POISSON_BOOTSTRAP",
               "upperBound": 0.6765603777089778,
               "value": 0.6612726449966431
              },
              "boundedTrueNegatives": {
               "lowerBound": 26901.531362810725,
               "methodology": "POISSON_BOOTSTRAP",
               "upperBound": 27467.167855939275,
               "value": 27184.349609375
              },
              "boundedTruePositives": {
               "lowerBound": 1837.001498940069,
               "methodology": "POISSON_BOOTSTRAP",
               "upperBound": 1971.698452231806,
               "value": 1904.3499755859375
              },
              "falseNegatives": 986.0,
              "falsePositives": 304.0,
              "precision": 0.8627539277076721,
              "recall": 0.6596478819847107,
              "tDistributionFalseNegatives": {
               "sampleDegreesOfFreedom": "19",
               "sampleMean": 975.5499877929688,
               "sampleStandardDeviation": 27.294641494750977,
               "unsampledValue": 986.0
              },
              "tDistributionFalsePositives": {
               "sampleDegreesOfFreedom": "19",
               "sampleMean": 300.04998779296875,
               "sampleStandardDeviation": 16.021284103393555,
               "unsampledValue": 304.0
              },
              "tDistributionPrecision": {
               "sampleDegreesOfFreedom": "19",
               "sampleMean": 0.8639009594917297,
               "sampleStandardDeviation": 0.006593475118279457,
               "unsampledValue": 0.8627539277076721
              },
              "tDistributionRecall": {
               "sampleDegreesOfFreedom": "19",
               "sampleMean": 0.6612726449966431,
               "sampleStandardDeviation": 0.007304136175662279,
               "unsampledValue": 0.6596478819847107
              },
              "tDistributionTrueNegatives": {
               "sampleDegreesOfFreedom": "19",
               "sampleMean": 27184.349609375,
               "sampleStandardDeviation": 135.1242218017578,
               "unsampledValue": 27136.0
              },
              "tDistributionTruePositives": {
               "sampleDegreesOfFreedom": "19",
               "sampleMean": 1904.3499755859375,
               "sampleStandardDeviation": 32.17759323120117,
               "unsampledValue": 1911.0
              },
              "threshold": 0.5,
              "trueNegatives": 27136.0,
              "truePositives": 1911.0
             }
            ]
           }
          },
          "post_export_metrics/prediction/false_discovery_rate@0.50": {
           "boundedValue": {
            "lowerBound": 0.12229883791849597,
            "methodology": "POISSON_BOOTSTRAP",
            "upperBound": 0.14989945171430127,
            "value": 0.1372460424900055
           }
          },
          "post_export_metrics/prediction/false_negative_rate@0.50": {
           "boundedValue": {
            "lowerBound": 0.32343965891582654,
            "methodology": "POISSON_BOOTSTRAP",
            "upperBound": 0.3540151106955321,
            "value": 0.3403520882129669
           }
          },
          "post_export_metrics/prediction/false_omission_rate@0.50": {
           "boundedValue": {
            "lowerBound": 0.032633077452555906,
            "methodology": "POISSON_BOOTSTRAP",
            "upperBound": 0.0366536713143432,
            "value": 0.035061515867710114
           }
          },
          "post_export_metrics/prediction/false_positive_rate@0.50": {
           "boundedValue": {
            "lowerBound": 0.009686975381400852,
            "methodology": "POISSON_BOOTSTRAP",
            "upperBound": 0.012147966199490757,
            "value": 0.011078717187047005
           }
          },
          "post_export_metrics/prediction/negative_rate@0.50": {
           "boundedValue": {
            "lowerBound": 0.9250286313054854,
            "methodology": "POISSON_BOOTSTRAP",
            "upperBound": 0.929774454021663,
            "value": 0.9269868731498718
           }
          },
          "post_export_metrics/prediction/positive_rate@0.50": {
           "boundedValue": {
            "lowerBound": 0.07022561561094152,
            "methodology": "POISSON_BOOTSTRAP",
            "upperBound": 0.07497144807352198,
            "value": 0.07301314920186996
           }
          },
          "post_export_metrics/prediction/true_negative_rate@0.50": {
           "boundedValue": {
            "lowerBound": 0.9878520217799511,
            "methodology": "POISSON_BOOTSTRAP",
            "upperBound": 0.99031300869948,
            "value": 0.9889212846755981
           }
          },
          "post_export_metrics/prediction/true_positive_rate@0.50": {
           "boundedValue": {
            "lowerBound": 0.6459849122843083,
            "methodology": "POISSON_BOOTSTRAP",
            "upperBound": 0.6765603777089778,
            "value": 0.6596478819847107
           }
          }
         },
         "slice": "race:No",
         "sliceValue": "No"
        },
        {
         "metrics": {
          "post_export_metrics/example_count": {
           "doubleValue": 31466.0
          },
          "post_export_metrics/prediction/fairness/confusion_matrix_at_thresholds": {
           "confusionMatrixAtThresholds": {
            "matrices": [
             {
              "boundedFalseNegatives": {
               "lowerBound": 966.9260977908637,
               "methodology": "POISSON_BOOTSTRAP",
               "upperBound": 1061.2738533810113,
               "value": 1014.0999755859375
              },
              "boundedFalsePositives": {
               "lowerBound": 256.8406335667376,
               "methodology": "POISSON_BOOTSTRAP",
               "upperBound": 331.2593420191999,
               "value": 294.04998779296875
              },
              "boundedPrecision": {
               "lowerBound": 0.8484661093767892,
               "methodology": "POISSON_BOOTSTRAP",
               "upperBound": 0.8826351651135672,
               "value": 0.8655506372451782
              },
              "boundedRecall": {
               "lowerBound": 0.6384125234926299,
               "methodology": "POISSON_BOOTSTRAP",
               "upperBound": 0.6639686343824311,
               "value": 0.6511905789375305
              },
              "boundedTrueNegatives": {
               "lowerBound": 27917.847708376154,
               "methodology": "POISSON_BOOTSTRAP",
               "upperBound": 28611.851510373846,
               "value": 28264.849609375
              },
              "boundedTruePositives": {
               "lowerBound": 1797.6517158122522,
               "methodology": "POISSON_BOOTSTRAP",
               "upperBound": 1989.3482841877478,
               "value": 1893.5
              },
              "falseNegatives": 1017.0,
              "falsePositives": 300.0,
              "precision": 0.8628258109092712,
              "recall": 0.6497933864593506,
              "tDistributionFalseNegatives": {
               "sampleDegreesOfFreedom": "19",
               "sampleMean": 1014.0999755859375,
               "sampleStandardDeviation": 22.53862190246582,
               "unsampledValue": 1017.0
              },
              "tDistributionFalsePositives": {
               "sampleDegreesOfFreedom": "19",
               "sampleMean": 294.04998779296875,
               "sampleStandardDeviation": 17.777795791625977,
               "unsampledValue": 300.0
              },
              "tDistributionPrecision": {
               "sampleDegreesOfFreedom": "19",
               "sampleMean": 0.8655506372451782,
               "sampleStandardDeviation": 0.0081626046448946,
               "unsampledValue": 0.8628258109092712
              },
              "tDistributionRecall": {
               "sampleDegreesOfFreedom": "19",
               "sampleMean": 0.6511905789375305,
               "sampleStandardDeviation": 0.006105068605393171,
               "unsampledValue": 0.6497933864593506
              },
              "tDistributionTrueNegatives": {
               "sampleDegreesOfFreedom": "19",
               "sampleMean": 28264.849609375,
               "sampleStandardDeviation": 165.78973388671875,
               "unsampledValue": 28262.0
              },
              "tDistributionTruePositives": {
               "sampleDegreesOfFreedom": "19",
               "sampleMean": 1893.5,
               "sampleStandardDeviation": 45.79416275024414,
               "unsampledValue": 1887.0
              },
              "threshold": 0.5,
              "trueNegatives": 28262.0,
              "truePositives": 1887.0
             }
            ]
           }
          },
          "post_export_metrics/prediction/false_discovery_rate@0.50": {
           "boundedValue": {
            "lowerBound": 0.1173649347328859,
            "methodology": "POISSON_BOOTSTRAP",
            "upperBound": 0.1515339397883696,
            "value": 0.13717420399188995
           }
          },
          "post_export_metrics/prediction/false_negative_rate@0.50": {
           "boundedValue": {
            "lowerBound": 0.3360313880342952,
            "methodology": "POISSON_BOOTSTRAP",
            "upperBound": 0.36158745409064375,
            "value": 0.3502066135406494
           }
          },
          "post_export_metrics/prediction/false_omission_rate@0.50": {
           "boundedValue": {
            "lowerBound": 0.03292434894486429,
            "methodology": "POISSON_BOOTSTRAP",
            "upperBound": 0.0363503298814678,
            "value": 0.03473479300737381
           }
          },
          "post_export_metrics/prediction/false_positive_rate@0.50": {
           "boundedValue": {
            "lowerBound": 0.0089736255061908,
            "methodology": "POISSON_BOOTSTRAP",
            "upperBound": 0.011620215122671581,
            "value": 0.010503466241061687
           }
          },
          "post_export_metrics/prediction/negative_rate@0.50": {
           "boundedValue": {
            "lowerBound": 0.9274496775918636,
            "methodology": "POISSON_BOOTSTRAP",
            "upperBound": 0.9335081833547917,
            "value": 0.9304963946342468
           }
          },
          "post_export_metrics/prediction/positive_rate@0.50": {
           "boundedValue": {
            "lowerBound": 0.06649172281446296,
            "methodology": "POISSON_BOOTSTRAP",
            "upperBound": 0.07255020762262505,
            "value": 0.06950359046459198
           }
          },
          "post_export_metrics/prediction/true_negative_rate@0.50": {
           "boundedValue": {
            "lowerBound": 0.9883797714543737,
            "methodology": "POISSON_BOOTSTRAP",
            "upperBound": 0.9910263469385706,
            "value": 0.9894965291023254
           }
          },
          "post_export_metrics/prediction/true_positive_rate@0.50": {
           "boundedValue": {
            "lowerBound": 0.6384125234926299,
            "methodology": "POISSON_BOOTSTRAP",
            "upperBound": 0.6639686343824311,
            "value": 0.6497933864593506
           }
          }
         },
         "slice": "sexuality:No",
         "sliceValue": "No"
        },
        {
         "metrics": {
          "post_export_metrics/example_count": {
           "doubleValue": 30121.0
          },
          "post_export_metrics/prediction/fairness/confusion_matrix_at_thresholds": {
           "confusionMatrixAtThresholds": {
            "matrices": [
             {
              "boundedFalseNegatives": {
               "lowerBound": 924.7564777800361,
               "methodology": "POISSON_BOOTSTRAP",
               "upperBound": 1051.3434978059013,
               "value": 988.0499877929688
              },
              "boundedFalsePositives": {
               "lowerBound": 262.0957780204384,
               "methodology": "POISSON_BOOTSTRAP",
               "upperBound": 341.5041975654991,
               "value": 301.79998779296875
              },
              "boundedPrecision": {
               "lowerBound": 0.8483874120813844,
               "methodology": "POISSON_BOOTSTRAP",
               "upperBound": 0.8826510391133788,
               "value": 0.8655192255973816
              },
              "boundedRecall": {
               "lowerBound": 0.6422044862826278,
               "methodology": "POISSON_BOOTSTRAP",
               "upperBound": 0.6834464441220353,
               "value": 0.6628254652023315
              },
              "boundedTrueNegatives": {
               "lowerBound": 26569.695444852397,
               "methodology": "POISSON_BOOTSTRAP",
               "upperBound": 27218.906117647603,
               "value": 26894.30078125
              },
              "boundedTruePositives": {
               "lowerBound": 1838.4021701936363,
               "methodology": "POISSON_BOOTSTRAP",
               "upperBound": 2046.8978786344887,
               "value": 1942.6500244140625
              },
              "falseNegatives": 989.0,
              "falsePositives": 301.0,
              "precision": 0.8652641177177429,
              "recall": 0.6615331768989563,
              "tDistributionFalseNegatives": {
               "sampleDegreesOfFreedom": "19",
               "sampleMean": 988.0499877929688,
               "sampleStandardDeviation": 30.24022102355957,
               "unsampledValue": 989.0
              },
              "tDistributionFalsePositives": {
               "sampleDegreesOfFreedom": "19",
               "sampleMean": 301.79998779296875,
               "sampleStandardDeviation": 18.96978187561035,
               "unsampledValue": 301.0
              },
              "tDistributionPrecision": {
               "sampleDegreesOfFreedom": "19",
               "sampleMean": 0.8655192255973816,
               "sampleStandardDeviation": 0.008185196667909622,
               "unsampledValue": 0.8652641177177429
              },
              "tDistributionRecall": {
               "sampleDegreesOfFreedom": "19",
               "sampleMean": 0.6628254652023315,
               "sampleStandardDeviation": 0.009852241724729538,
               "unsampledValue": 0.6615331768989563
              },
              "tDistributionTrueNegatives": {
               "sampleDegreesOfFreedom": "19",
               "sampleMean": 26894.30078125,
               "sampleStandardDeviation": 155.0891571044922,
               "unsampledValue": 26898.0
              },
              "tDistributionTruePositives": {
               "sampleDegreesOfFreedom": "19",
               "sampleMean": 1942.6500244140625,
               "sampleStandardDeviation": 49.807289123535156,
               "unsampledValue": 1933.0
              },
              "threshold": 0.5,
              "trueNegatives": 26898.0,
              "truePositives": 1933.0
             }
            ]
           }
          },
          "post_export_metrics/prediction/false_discovery_rate@0.50": {
           "boundedValue": {
            "lowerBound": 0.11734893888142102,
            "methodology": "POISSON_BOOTSTRAP",
            "upperBound": 0.151612550319171,
            "value": 0.13473589718341827
           }
          },
          "post_export_metrics/prediction/false_negative_rate@0.50": {
           "boundedValue": {
            "lowerBound": 0.316553599325251,
            "methodology": "POISSON_BOOTSTRAP",
            "upperBound": 0.3577955298747307,
            "value": 0.3384667932987213
           }
          },
          "post_export_metrics/prediction/false_omission_rate@0.50": {
           "boundedValue": {
            "lowerBound": 0.03324443966377262,
            "methodology": "POISSON_BOOTSTRAP",
            "upperBound": 0.03762727856409069,
            "value": 0.03546455502510071
           }
          },
          "post_export_metrics/prediction/false_positive_rate@0.50": {
           "boundedValue": {
            "lowerBound": 0.009635956259565481,
            "methodology": "POISSON_BOOTSTRAP",
            "upperBound": 0.012558712391061655,
            "value": 0.01106658298522234
           }
          },
          "post_export_metrics/prediction/negative_rate@0.50": {
           "boundedValue": {
            "lowerBound": 0.9221452023472874,
            "methodology": "POISSON_BOOTSTRAP",
            "upperBound": 0.9288567755732449,
            "value": 0.9258324503898621
           }
          },
          "post_export_metrics/prediction/positive_rate@0.50": {
           "boundedValue": {
            "lowerBound": 0.07114315308853003,
            "methodology": "POISSON_BOOTSTRAP",
            "upperBound": 0.0778547199793258,
            "value": 0.07416752725839615
           }
          },
          "post_export_metrics/prediction/true_negative_rate@0.50": {
           "boundedValue": {
            "lowerBound": 0.9874413243366242,
            "methodology": "POISSON_BOOTSTRAP",
            "upperBound": 0.9903640517162322,
            "value": 0.9889334440231323
           }
          },
          "post_export_metrics/prediction/true_positive_rate@0.50": {
           "boundedValue": {
            "lowerBound": 0.6422044862826278,
            "methodology": "POISSON_BOOTSTRAP",
            "upperBound": 0.6834464441220353,
            "value": 0.6615331768989563
           }
          }
         },
         "slice": "gender identity:No",
         "sliceValue": "No"
        },
        {
         "metrics": {
          "post_export_metrics/example_count": {
           "doubleValue": 1745.0
          },
          "post_export_metrics/prediction/fairness/confusion_matrix_at_thresholds": {
           "confusionMatrixAtThresholds": {
            "matrices": [
             {
              "boundedFalseNegatives": {
               "lowerBound": 48.21887051875138,
               "methodology": "POISSON_BOOTSTRAP",
               "upperBound": 71.58113253300644,
               "value": 59.900001525878906
              },
              "boundedFalsePositives": {
               "lowerBound": 8.09081224209844,
               "methodology": "POISSON_BOOTSTRAP",
               "upperBound": 22.609188520841013,
               "value": 15.350000381469727
              },
              "boundedPrecision": {
               "lowerBound": 0.7137788148016647,
               "methodology": "POISSON_BOOTSTRAP",
               "upperBound": 0.8907579569726273,
               "value": 0.802268385887146
              },
              "boundedRecall": {
               "lowerBound": 0.41875937956626264,
               "methodology": "POISSON_BOOTSTRAP",
               "upperBound": 0.6007020137900606,
               "value": 0.5097306966781616
              },
              "boundedTrueNegatives": {
               "lowerBound": 1528.6332882358145,
               "methodology": "POISSON_BOOTSTRAP",
               "upperBound": 1677.1667605923105,
               "value": 1602.9000244140625
              },
              "boundedTruePositives": {
               "lowerBound": 44.86088426329712,
               "methodology": "POISSON_BOOTSTRAP",
               "upperBound": 80.33911268494506,
               "value": 62.599998474121094
              },
              "falseNegatives": 62.0,
              "falsePositives": 15.0,
              "precision": 0.8101266026496887,
              "recall": 0.5079365372657776,
              "tDistributionFalseNegatives": {
               "sampleDegreesOfFreedom": "19",
               "sampleMean": 59.900001525878906,
               "sampleStandardDeviation": 5.580982685089111,
               "unsampledValue": 62.0
              },
              "tDistributionFalsePositives": {
               "sampleDegreesOfFreedom": "19",
               "sampleMean": 15.350000381469727,
               "sampleStandardDeviation": 3.4682774543762207,
               "unsampledValue": 15.0
              },
              "tDistributionPrecision": {
               "sampleDegreesOfFreedom": "19",
               "sampleMean": 0.802268385887146,
               "sampleStandardDeviation": 0.04227833449840546,
               "unsampledValue": 0.8101266026496887
              },
              "tDistributionRecall": {
               "sampleDegreesOfFreedom": "19",
               "sampleMean": 0.5097306966781616,
               "sampleStandardDeviation": 0.0434640571475029,
               "unsampledValue": 0.5079365372657776
              },
              "tDistributionTrueNegatives": {
               "sampleDegreesOfFreedom": "19",
               "sampleMean": 1602.9000244140625,
               "sampleStandardDeviation": 35.48298263549805,
               "unsampledValue": 1604.0
              },
              "tDistributionTruePositives": {
               "sampleDegreesOfFreedom": "19",
               "sampleMean": 62.599998474121094,
               "sampleStandardDeviation": 8.475351333618164,
               "unsampledValue": 64.0
              },
              "threshold": 0.5,
              "trueNegatives": 1604.0,
              "truePositives": 64.0
             }
            ]
           }
          },
          "post_export_metrics/prediction/false_discovery_rate@0.50": {
           "boundedValue": {
            "lowerBound": 0.10924202743312827,
            "methodology": "POISSON_BOOTSTRAP",
            "upperBound": 0.28622120079257973,
            "value": 0.18987341225147247
           }
          },
          "post_export_metrics/prediction/false_negative_rate@0.50": {
           "boundedValue": {
            "lowerBound": 0.39929794861049484,
            "methodology": "POISSON_BOOTSTRAP",
            "upperBound": 0.5812405984285371,
            "value": 0.4920634925365448
           }
          },
          "post_export_metrics/prediction/false_omission_rate@0.50": {
           "boundedValue": {
            "lowerBound": 0.029195741245100167,
            "methodology": "POISSON_BOOTSTRAP",
            "upperBound": 0.04285626815860543,
            "value": 0.03721488639712334
           }
          },
          "post_export_metrics/prediction/false_positive_rate@0.50": {
           "boundedValue": {
            "lowerBound": 0.00497737990439253,
            "methodology": "POISSON_BOOTSTRAP",
            "upperBound": 0.0140003627377717,
            "value": 0.00926497858017683
           }
          },
          "post_export_metrics/prediction/negative_rate@0.50": {
           "boundedValue": {
            "lowerBound": 0.9445419064795002,
            "methodology": "POISSON_BOOTSTRAP",
            "upperBound": 0.9659044989312664,
            "value": 0.9547277688980103
           }
          },
          "post_export_metrics/prediction/positive_rate@0.50": {
           "boundedValue": {
            "lowerBound": 0.034095502953029606,
            "methodology": "POISSON_BOOTSTRAP",
            "upperBound": 0.055458136339687374,
            "value": 0.04527220502495766
           }
          },
          "post_export_metrics/prediction/true_negative_rate@0.50": {
           "boundedValue": {
            "lowerBound": 0.9859996206392004,
            "methodology": "POISSON_BOOTSTRAP",
            "upperBound": 0.9950226180921838,
            "value": 0.9907349944114685
           }
          },
          "post_export_metrics/prediction/true_positive_rate@0.50": {
           "boundedValue": {
            "lowerBound": 0.41875937956626264,
            "methodology": "POISSON_BOOTSTRAP",
            "upperBound": 0.6007020137900606,
            "value": 0.5079365372657776
           }
          }
         },
         "slice": "gender identity:Yes",
         "sliceValue": "Yes"
        },
        {
         "metrics": {
          "post_export_metrics/example_count": {
           "doubleValue": 1529.0
          },
          "post_export_metrics/prediction/fairness/confusion_matrix_at_thresholds": {
           "confusionMatrixAtThresholds": {
            "matrices": [
             {
              "boundedFalseNegatives": {
               "lowerBound": 49.89249414129682,
               "methodology": "POISSON_BOOTSTRAP",
               "upperBound": 78.80750280694537,
               "value": 64.3499984741211
              },
              "boundedFalsePositives": {
               "lowerBound": 4.745730616635672,
               "methodology": "POISSON_BOOTSTRAP",
               "upperBound": 17.1542690018946,
               "value": 10.949999809265137
              },
              "boundedPrecision": {
               "lowerBound": 0.8292566443267118,
               "methodology": "POISSON_BOOTSTRAP",
               "upperBound": 0.9419610594925631,
               "value": 0.8856088519096375
              },
              "boundedRecall": {
               "lowerBound": 0.4863093770621113,
               "methodology": "POISSON_BOOTSTRAP",
               "upperBound": 0.6490129553200908,
               "value": 0.5676611661911011
              },
              "boundedTrueNegatives": {
               "lowerBound": 1315.9509978977342,
               "methodology": "POISSON_BOOTSTRAP",
               "upperBound": 1424.3490509303908,
               "value": 1370.1500244140625
              },
              "boundedTruePositives": {
               "lowerBound": 63.63688445951291,
               "methodology": "POISSON_BOOTSTRAP",
               "upperBound": 105.76310943697146,
               "value": 84.69999694824219
              },
              "falseNegatives": 65.0,
              "falsePositives": 12.0,
              "precision": 0.8775510191917419,
              "recall": 0.5695364475250244,
              "tDistributionFalseNegatives": {
               "sampleDegreesOfFreedom": "19",
               "sampleMean": 64.3499984741211,
               "sampleStandardDeviation": 6.907471656799316,
               "unsampledValue": 65.0
              },
              "tDistributionFalsePositives": {
               "sampleDegreesOfFreedom": "19",
               "sampleMean": 10.949999809265137,
               "sampleStandardDeviation": 2.9642608165740967,
               "unsampledValue": 12.0
              },
              "tDistributionPrecision": {
               "sampleDegreesOfFreedom": "19",
               "sampleMean": 0.8856088519096375,
               "sampleStandardDeviation": 0.02692382223904133,
               "unsampledValue": 0.8775510191917419
              },
              "tDistributionRecall": {
               "sampleDegreesOfFreedom": "19",
               "sampleMean": 0.5676611661911011,
               "sampleStandardDeviation": 0.03886806219816208,
               "unsampledValue": 0.5695364475250244
              },
              "tDistributionTrueNegatives": {
               "sampleDegreesOfFreedom": "19",
               "sampleMean": 1370.1500244140625,
               "sampleStandardDeviation": 25.89508056640625,
               "unsampledValue": 1366.0
              },
              "tDistributionTruePositives": {
               "sampleDegreesOfFreedom": "19",
               "sampleMean": 84.69999694824219,
               "sampleStandardDeviation": 10.063483238220215,
               "unsampledValue": 86.0
              },
              "threshold": 0.5,
              "trueNegatives": 1366.0,
              "truePositives": 86.0
             }
            ]
           }
          },
          "post_export_metrics/prediction/false_discovery_rate@0.50": {
           "boundedValue": {
            "lowerBound": 0.05803889545741172,
            "methodology": "POISSON_BOOTSTRAP",
            "upperBound": 0.1707433262175074,
            "value": 0.12244898080825806
           }
          },
          "post_export_metrics/prediction/false_negative_rate@0.50": {
           "boundedValue": {
            "lowerBound": 0.3509870666851094,
            "methodology": "POISSON_BOOTSTRAP",
            "upperBound": 0.5136906605373333,
            "value": 0.430463582277298
           }
          },
          "post_export_metrics/prediction/false_omission_rate@0.50": {
           "boundedValue": {
            "lowerBound": 0.03563696975734417,
            "methodology": "POISSON_BOOTSTRAP",
            "upperBound": 0.054018504070971564,
            "value": 0.04542278125882149
           }
          },
          "post_export_metrics/prediction/false_positive_rate@0.50": {
           "boundedValue": {
            "lowerBound": 0.0034154626446914584,
            "methodology": "POISSON_BOOTSTRAP",
            "upperBound": 0.01245625215590478,
            "value": 0.008708273060619831
           }
          },
          "post_export_metrics/prediction/negative_rate@0.50": {
           "boundedValue": {
            "lowerBound": 0.9237292915272832,
            "methodology": "POISSON_BOOTSTRAP",
            "upperBound": 0.9513431877207637,
            "value": 0.9359058141708374
           }
          },
          "post_export_metrics/prediction/positive_rate@0.50": {
           "boundedValue": {
            "lowerBound": 0.04865686053473945,
            "methodology": "POISSON_BOOTSTRAP",
            "upperBound": 0.07627076452534204,
            "value": 0.064094178378582
           }
          },
          "post_export_metrics/prediction/true_negative_rate@0.50": {
           "boundedValue": {
            "lowerBound": 0.9875437280155895,
            "methodology": "POISSON_BOOTSTRAP",
            "upperBound": 0.9965845087550403,
            "value": 0.9912917017936707
           }
          },
          "post_export_metrics/prediction/true_positive_rate@0.50": {
           "boundedValue": {
            "lowerBound": 0.4863093770621113,
            "methodology": "POISSON_BOOTSTRAP",
            "upperBound": 0.6490129553200908,
            "value": 0.5695364475250244
           }
          }
         },
         "slice": "race:Yes",
         "sliceValue": "Yes"
        },
        {
         "metrics": {
          "post_export_metrics/example_count": {
           "doubleValue": 641.0
          },
          "post_export_metrics/prediction/fairness/confusion_matrix_at_thresholds": {
           "confusionMatrixAtThresholds": {
            "matrices": [
             {
              "boundedFalseNegatives": {
               "lowerBound": 14.075316030519048,
               "methodology": "POISSON_BOOTSTRAP",
               "upperBound": 29.82468549535986,
               "value": 21.950000762939453
              },
              "boundedFalsePositives": {
               "lowerBound": 1.2391144370949383,
               "methodology": "POISSON_BOOTSTRAP",
               "upperBound": 8.460885372170198,
               "value": 4.849999904632568
              },
              "boundedPrecision": {
               "lowerBound": 0.7593524027415852,
               "methodology": "POISSON_BOOTSTRAP",
               "upperBound": 0.9513224791935344,
               "value": 0.8553374409675598
              },
              "boundedRecall": {
               "lowerBound": 0.44934364667276094,
               "methodology": "POISSON_BOOTSTRAP",
               "upperBound": 0.6800823558296805,
               "value": 0.5647130012512207
              },
              "boundedTrueNegatives": {
               "lowerBound": 532.4931475303254,
               "methodology": "POISSON_BOOTSTRAP",
               "upperBound": 641.0068524696746,
               "value": 586.75
              },
              "boundedTruePositives": {
               "lowerBound": 17.610726713231923,
               "methodology": "POISSON_BOOTSTRAP",
               "upperBound": 39.68927252382862,
               "value": 28.649999618530273
              },
              "falseNegatives": 24.0,
              "falsePositives": 5.0,
              "precision": 0.8387096524238586,
              "recall": 0.5199999809265137,
              "tDistributionFalseNegatives": {
               "sampleDegreesOfFreedom": "19",
               "sampleMean": 21.950000762939453,
               "sampleStandardDeviation": 3.762347936630249,
               "unsampledValue": 24.0
              },
              "tDistributionFalsePositives": {
               "sampleDegreesOfFreedom": "19",
               "sampleMean": 4.849999904632568,
               "sampleStandardDeviation": 1.7252001762390137,
               "unsampledValue": 5.0
              },
              "tDistributionPrecision": {
               "sampleDegreesOfFreedom": "19",
               "sampleMean": 0.8553374409675598,
               "sampleStandardDeviation": 0.045859500765800476,
               "unsampledValue": 0.8387096524238586
              },
              "tDistributionRecall": {
               "sampleDegreesOfFreedom": "19",
               "sampleMean": 0.5647130012512207,
               "sampleStandardDeviation": 0.05512089282274246,
               "unsampledValue": 0.5199999809265137
              },
              "tDistributionTrueNegatives": {
               "sampleDegreesOfFreedom": "19",
               "sampleMean": 586.75,
               "sampleStandardDeviation": 25.92270851135254,
               "unsampledValue": 586.0
              },
              "tDistributionTruePositives": {
               "sampleDegreesOfFreedom": "19",
               "sampleMean": 28.649999618530273,
               "sampleStandardDeviation": 5.274317264556885,
               "unsampledValue": 26.0
              },
              "threshold": 0.5,
              "trueNegatives": 586.0,
              "truePositives": 26.0
             }
            ]
           }
          },
          "post_export_metrics/prediction/false_discovery_rate@0.50": {
           "boundedValue": {
            "lowerBound": 0.04867744560757645,
            "methodology": "POISSON_BOOTSTRAP",
            "upperBound": 0.24064755324801437,
            "value": 0.16129031777381897
           }
          },
          "post_export_metrics/prediction/false_negative_rate@0.50": {
           "boundedValue": {
            "lowerBound": 0.3199176881807199,
            "methodology": "POISSON_BOOTSTRAP",
            "upperBound": 0.5506564285261282,
            "value": 0.47999998927116394
           }
          },
          "post_export_metrics/prediction/false_omission_rate@0.50": {
           "boundedValue": {
            "lowerBound": 0.023104003781095037,
            "methodology": "POISSON_BOOTSTRAP",
            "upperBound": 0.049108051544413084,
            "value": 0.03934426233172417
           }
          },
          "post_export_metrics/prediction/false_positive_rate@0.50": {
           "boundedValue": {
            "lowerBound": 0.002538027130364341,
            "methodology": "POISSON_BOOTSTRAP",
            "upperBound": 0.013737315423489648,
            "value": 0.008460236713290215
           }
          },
          "post_export_metrics/prediction/negative_rate@0.50": {
           "boundedValue": {
            "lowerBound": 0.9312706794475631,
            "methodology": "POISSON_BOOTSTRAP",
            "upperBound": 0.9647082481647415,
            "value": 0.9516380429267883
           }
          },
          "post_export_metrics/prediction/positive_rate@0.50": {
           "boundedValue": {
            "lowerBound": 0.03529178588268356,
            "methodology": "POISSON_BOOTSTRAP",
            "upperBound": 0.06872933120849534,
            "value": 0.04836193472146988
           }
          },
          "post_export_metrics/prediction/true_negative_rate@0.50": {
           "boundedValue": {
            "lowerBound": 0.9862627789433143,
            "methodology": "POISSON_BOOTSTRAP",
            "upperBound": 0.9974620535914758,
            "value": 0.9915397763252258
           }
          },
          "post_export_metrics/prediction/true_positive_rate@0.50": {
           "boundedValue": {
            "lowerBound": 0.44934364667276094,
            "methodology": "POISSON_BOOTSTRAP",
            "upperBound": 0.6800823558296805,
            "value": 0.5199999809265137
           }
          }
         },
         "slice": "religion:Yes",
         "sliceValue": "Yes"
        },
        {
         "metrics": {
          "post_export_metrics/example_count": {
           "doubleValue": 400.0
          },
          "post_export_metrics/prediction/fairness/confusion_matrix_at_thresholds": {
           "confusionMatrixAtThresholds": {
            "matrices": [
             {
              "boundedFalseNegatives": {
               "lowerBound": 20.008784526344527,
               "methodology": "POISSON_BOOTSTRAP",
               "upperBound": 42.39121699953438,
               "value": 31.200000762939453
              },
              "boundedFalsePositives": {
               "lowerBound": 8.280768296869233,
               "methodology": "POISSON_BOOTSTRAP",
               "upperBound": 24.719231703130767,
               "value": 16.5
              },
              "boundedPrecision": {
               "lowerBound": 0.7995726760415696,
               "methodology": "POISSON_BOOTSTRAP",
               "upperBound": 0.9359766546697952,
               "value": 0.8677746653556824
              },
              "boundedRecall": {
               "lowerBound": 0.6844157028330223,
               "methodology": "POISSON_BOOTSTRAP",
               "upperBound": 0.8682465505467994,
               "value": 0.7763311266899109
              },
              "boundedTrueNegatives": {
               "lowerBound": 217.19605771465604,
               "methodology": "POISSON_BOOTSTRAP",
               "upperBound": 272.9039483888596,
               "value": 245.0500030517578
              },
              "boundedTruePositives": {
               "lowerBound": 85.96697831459798,
               "methodology": "POISSON_BOOTSTRAP",
               "upperBound": 132.13302778891764,
               "value": 109.05000305175781
              },
              "falseNegatives": 34.0,
              "falsePositives": 16.0,
              "precision": 0.8730158805847168,
              "recall": 0.7638888955116272,
              "tDistributionFalseNegatives": {
               "sampleDegreesOfFreedom": "19",
               "sampleMean": 31.200000762939453,
               "sampleStandardDeviation": 5.346912384033203,
               "unsampledValue": 34.0
              },
              "tDistributionFalsePositives": {
               "sampleDegreesOfFreedom": "19",
               "sampleMean": 16.5,
               "sampleStandardDeviation": 3.92696475982666,
               "unsampledValue": 16.0
              },
              "tDistributionPrecision": {
               "sampleDegreesOfFreedom": "19",
               "sampleMean": 0.8677746653556824,
               "sampleStandardDeviation": 0.03258538246154785,
               "unsampledValue": 0.8730158805847168
              },
              "tDistributionRecall": {
               "sampleDegreesOfFreedom": "19",
               "sampleMean": 0.7763311266899109,
               "sampleStandardDeviation": 0.04391513019800186,
               "unsampledValue": 0.7638888955116272
              },
              "tDistributionTrueNegatives": {
               "sampleDegreesOfFreedom": "19",
               "sampleMean": 245.0500030517578,
               "sampleStandardDeviation": 13.307991027832031,
               "unsampledValue": 240.0
              },
              "tDistributionTruePositives": {
               "sampleDegreesOfFreedom": "19",
               "sampleMean": 109.05000305175781,
               "sampleStandardDeviation": 11.028552055358887,
               "unsampledValue": 110.0
              },
              "threshold": 0.5,
              "trueNegatives": 240.0,
              "truePositives": 110.0
             }
            ]
           }
          },
          "post_export_metrics/prediction/false_discovery_rate@0.50": {
           "boundedValue": {
            "lowerBound": 0.06402333112212685,
            "methodology": "POISSON_BOOTSTRAP",
            "upperBound": 0.20042727856186363,
            "value": 0.1269841343164444
           }
          },
          "post_export_metrics/prediction/false_negative_rate@0.50": {
           "boundedValue": {
            "lowerBound": 0.1317534870526451,
            "methodology": "POISSON_BOOTSTRAP",
            "upperBound": 0.3155843191721779,
            "value": 0.2361111044883728
           }
          },
          "post_export_metrics/prediction/false_omission_rate@0.50": {
           "boundedValue": {
            "lowerBound": 0.07461470360366329,
            "methodology": "POISSON_BOOTSTRAP",
            "upperBound": 0.15117706363590733,
            "value": 0.12408759444952011
           }
          },
          "post_export_metrics/prediction/false_positive_rate@0.50": {
           "boundedValue": {
            "lowerBound": 0.03075622063600348,
            "methodology": "POISSON_BOOTSTRAP",
            "upperBound": 0.0957932021049328,
            "value": 0.0625
           }
          },
          "post_export_metrics/prediction/negative_rate@0.50": {
           "boundedValue": {
            "lowerBound": 0.6361248746983585,
            "methodology": "POISSON_BOOTSTRAP",
            "upperBound": 0.7387822612650814,
            "value": 0.6850000023841858
           }
          },
          "post_export_metrics/prediction/positive_rate@0.50": {
           "boundedValue": {
            "lowerBound": 0.26121769082595714,
            "methodology": "POISSON_BOOTSTRAP",
            "upperBound": 0.36387505400131337,
            "value": 0.3149999976158142
           }
          },
          "post_export_metrics/prediction/true_negative_rate@0.50": {
           "boundedValue": {
            "lowerBound": 0.9042068354945118,
            "methodology": "POISSON_BOOTSTRAP",
            "upperBound": 0.9692438013691967,
            "value": 0.9375
           }
          },
          "post_export_metrics/prediction/true_positive_rate@0.50": {
           "boundedValue": {
            "lowerBound": 0.6844157028330223,
            "methodology": "POISSON_BOOTSTRAP",
            "upperBound": 0.8682465505467994,
            "value": 0.7638888955116272
           }
          }
         },
         "slice": "sexuality:Yes",
         "sliceValue": "Yes"
        }
       ],
       "slicingMetricsCompare": []
      }
     },
     "5e845053ef1c4c83b932282425312f48": {
      "model_module": "@jupyter-widgets/base",
      "model_module_version": "1.2.0",
      "model_name": "LayoutModel",
      "state": {
       "_model_module": "@jupyter-widgets/base",
       "_model_module_version": "1.2.0",
       "_model_name": "LayoutModel",
       "_view_count": null,
       "_view_module": "@jupyter-widgets/base",
       "_view_module_version": "1.2.0",
       "_view_name": "LayoutView",
       "align_content": null,
       "align_items": null,
       "align_self": null,
       "border": null,
       "bottom": null,
       "display": null,
       "flex": null,
       "flex_flow": null,
       "grid_area": null,
       "grid_auto_columns": null,
       "grid_auto_flow": null,
       "grid_auto_rows": null,
       "grid_column": null,
       "grid_gap": null,
       "grid_row": null,
       "grid_template_areas": null,
       "grid_template_columns": null,
       "grid_template_rows": null,
       "height": null,
       "justify_content": null,
       "justify_items": null,
       "left": null,
       "margin": null,
       "max_height": null,
       "max_width": null,
       "min_height": null,
       "min_width": null,
       "object_fit": null,
       "object_position": null,
       "order": null,
       "overflow": null,
       "overflow_x": null,
       "overflow_y": null,
       "padding": null,
       "right": null,
       "top": null,
       "visibility": null,
       "width": null
      }
     },
     "9f5b0955b974412992c008ba6f5c186d": {
      "model_module": "tensorflow_model_analysis",
      "model_module_version": "0.38.0",
      "model_name": "FairnessIndicatorModel",
      "state": {
       "_dom_classes": [],
       "_model_module": "tensorflow_model_analysis",
       "_model_module_version": "0.38.0",
       "_model_name": "FairnessIndicatorModel",
       "_view_count": null,
       "_view_module": "tensorflow_model_analysis",
       "_view_module_version": "0.38.0",
       "_view_name": "FairnessIndicatorView",
       "evalName": "constrained",
       "evalNameCompare": "unconstrained",
       "js_events": [],
       "layout": "IPY_MODEL_1c0d775e9a1a44e0be946f0eed0676c5",
       "slicingMetrics": [
        {
         "metrics": {
          "post_export_metrics/example_count": {
           "doubleValue": 31225.0
          },
          "post_export_metrics/prediction/fairness/confusion_matrix_at_thresholds": {
           "confusionMatrixAtThresholds": {
            "matrices": [
             {
              "boundedFalseNegatives": {
               "lowerBound": 1022.9303699263597,
               "methodology": "POISSON_BOOTSTRAP",
               "upperBound": 1132.4695324173904,
               "value": 1077.699951171875
              },
              "boundedFalsePositives": {
               "lowerBound": 514.3090854063893,
               "methodology": "POISSON_BOOTSTRAP",
               "upperBound": 588.6909145936107,
               "value": 551.5
              },
              "boundedPrecision": {
               "lowerBound": 0.7602044572153027,
               "methodology": "POISSON_BOOTSTRAP",
               "upperBound": 0.790217019148833,
               "value": 0.7752107381820679
              },
              "boundedRecall": {
               "lowerBound": 0.6213713784585756,
               "methodology": "POISSON_BOOTSTRAP",
               "upperBound": 0.6552755932440001,
               "value": 0.6383234858512878
              },
              "boundedTrueNegatives": {
               "lowerBound": 27386.327850848535,
               "methodology": "POISSON_BOOTSTRAP",
               "upperBound": 27937.972930401465,
               "value": 27662.150390625
              },
              "boundedTruePositives": {
               "lowerBound": 1825.2555747173114,
               "methodology": "POISSON_BOOTSTRAP",
               "upperBound": 1979.0444741108136,
               "value": 1902.1500244140625
              },
              "falseNegatives": 1083.0,
              "falsePositives": 545.0,
              "precision": 0.7784552574157715,
              "recall": 0.638759195804596,
              "tDistributionFalseNegatives": {
               "sampleDegreesOfFreedom": "19",
               "sampleMean": 1077.699951171875,
               "sampleStandardDeviation": 26.167678833007812,
               "unsampledValue": 1083.0
              },
              "tDistributionFalsePositives": {
               "sampleDegreesOfFreedom": "19",
               "sampleMean": 551.5,
               "sampleStandardDeviation": 17.768985748291016,
               "unsampledValue": 545.0
              },
              "tDistributionPrecision": {
               "sampleDegreesOfFreedom": "19",
               "sampleMean": 0.7752107381820679,
               "sampleStandardDeviation": 0.007169664837419987,
               "unsampledValue": 0.7784552574157715
              },
              "tDistributionRecall": {
               "sampleDegreesOfFreedom": "19",
               "sampleMean": 0.6383234858512878,
               "sampleStandardDeviation": 0.008099337108433247,
               "unsampledValue": 0.638759195804596
              },
              "tDistributionTrueNegatives": {
               "sampleDegreesOfFreedom": "19",
               "sampleMean": 27662.150390625,
               "sampleStandardDeviation": 131.78182983398438,
               "unsampledValue": 27682.0
              },
              "tDistributionTruePositives": {
               "sampleDegreesOfFreedom": "19",
               "sampleMean": 1902.1500244140625,
               "sampleStandardDeviation": 36.73844528198242,
               "unsampledValue": 1915.0
              },
              "threshold": 0.5,
              "trueNegatives": 27682.0,
              "truePositives": 1915.0
             }
            ]
           }
          },
          "post_export_metrics/prediction/false_discovery_rate@0.50": {
           "boundedValue": {
            "lowerBound": 0.20978302360537002,
            "methodology": "POISSON_BOOTSTRAP",
            "upperBound": 0.2397955894374614,
            "value": 0.22154471278190613
           }
          },
          "post_export_metrics/prediction/false_negative_rate@0.50": {
           "boundedValue": {
            "lowerBound": 0.3447243989588777,
            "methodology": "POISSON_BOOTSTRAP",
            "upperBound": 0.37862862933854663,
            "value": 0.36124083399772644
           }
          },
          "post_export_metrics/prediction/false_omission_rate@0.50": {
           "boundedValue": {
            "lowerBound": 0.03564456859157145,
            "methodology": "POISSON_BOOTSTRAP",
            "upperBound": 0.0393520071215862,
            "value": 0.03764992207288742
           }
          },
          "post_export_metrics/prediction/false_positive_rate@0.50": {
           "boundedValue": {
            "lowerBound": 0.018238386636146308,
            "methodology": "POISSON_BOOTSTRAP",
            "upperBound": 0.02085626261912942,
            "value": 0.019307754933834076
           }
          },
          "post_export_metrics/prediction/negative_rate@0.50": {
           "boundedValue": {
            "lowerBound": 0.9189424922224076,
            "methodology": "POISSON_BOOTSTRAP",
            "upperBound": 0.9237391541246383,
            "value": 0.9212169647216797
           }
          },
          "post_export_metrics/prediction/positive_rate@0.50": {
           "boundedValue": {
            "lowerBound": 0.07626077404981658,
            "methodology": "POISSON_BOOTSTRAP",
            "upperBound": 0.08105743059152558,
            "value": 0.07878302782773972
           }
          },
          "post_export_metrics/prediction/true_negative_rate@0.50": {
           "boundedValue": {
            "lowerBound": 0.9791437138812177,
            "methodology": "POISSON_BOOTSTRAP",
            "upperBound": 0.9817615996106036,
            "value": 0.9806922674179077
           }
          },
          "post_export_metrics/prediction/true_positive_rate@0.50": {
           "boundedValue": {
            "lowerBound": 0.6213713784585756,
            "methodology": "POISSON_BOOTSTRAP",
            "upperBound": 0.6552755932440001,
            "value": 0.638759195804596
           }
          }
         },
         "slice": "religion:No",
         "sliceValue": "No"
        },
        {
         "metrics": {
          "post_export_metrics/example_count": {
           "doubleValue": 31866.0
          },
          "post_export_metrics/prediction/fairness/confusion_matrix_at_thresholds": {
           "confusionMatrixAtThresholds": {
            "matrices": [
             {
              "boundedFalseNegatives": {
               "lowerBound": 1012.8322521497846,
               "methodology": "POISSON_BOOTSTRAP",
               "upperBound": 1196.9677966783404,
               "value": 1104.9000244140625
              },
              "boundedFalsePositives": {
               "lowerBound": 510.9340131199558,
               "methodology": "POISSON_BOOTSTRAP",
               "upperBound": 604.7659380519192,
               "value": 557.8499755859375
              },
              "boundedPrecision": {
               "lowerBound": 0.76148602423298,
               "methodology": "POISSON_BOOTSTRAP",
               "upperBound": 0.7910890871561802,
               "value": 0.7762875556945801
              },
              "boundedRecall": {
               "lowerBound": 0.6152932830483997,
               "methodology": "POISSON_BOOTSTRAP",
               "upperBound": 0.6580350212423718,
               "value": 0.6366641521453857
              },
              "boundedTrueNegatives": {
               "lowerBound": 27945.982389902034,
               "methodology": "POISSON_BOOTSTRAP",
               "upperBound": 28600.916047597966,
               "value": 28273.44921875
              },
              "boundedTruePositives": {
               "lowerBound": 1836.4126722814042,
               "methodology": "POISSON_BOOTSTRAP",
               "upperBound": 2034.8873765467208,
               "value": 1935.6500244140625
              },
              "falseNegatives": 1108.0,
              "falsePositives": 557.0,
              "precision": 0.7769322991371155,
              "recall": 0.6364829540252686,
              "tDistributionFalseNegatives": {
               "sampleDegreesOfFreedom": "19",
               "sampleMean": 1104.9000244140625,
               "sampleStandardDeviation": 43.987918853759766,
               "unsampledValue": 1108.0
              },
              "tDistributionFalsePositives": {
               "sampleDegreesOfFreedom": "19",
               "sampleMean": 557.8499755859375,
               "sampleStandardDeviation": 22.415395736694336,
               "unsampledValue": 557.0
              },
              "tDistributionPrecision": {
               "sampleDegreesOfFreedom": "19",
               "sampleMean": 0.7762875556945801,
               "sampleStandardDeviation": 0.007071840111166239,
               "unsampledValue": 0.7769322991371155
              },
              "tDistributionRecall": {
               "sampleDegreesOfFreedom": "19",
               "sampleMean": 0.6366641521453857,
               "sampleStandardDeviation": 0.010210522450506687,
               "unsampledValue": 0.6364829540252686
              },
              "tDistributionTrueNegatives": {
               "sampleDegreesOfFreedom": "19",
               "sampleMean": 28273.44921875,
               "sampleStandardDeviation": 156.45631408691406,
               "unsampledValue": 28261.0
              },
              "tDistributionTruePositives": {
               "sampleDegreesOfFreedom": "19",
               "sampleMean": 1935.6500244140625,
               "sampleStandardDeviation": 47.41338348388672,
               "unsampledValue": 1940.0
              },
              "threshold": 0.5,
              "trueNegatives": 28261.0,
              "truePositives": 1940.0
             }
            ]
           }
          },
          "post_export_metrics/prediction/false_discovery_rate@0.50": {
           "boundedValue": {
            "lowerBound": 0.20891093095045887,
            "methodology": "POISSON_BOOTSTRAP",
            "upperBound": 0.23851401726502575,
            "value": 0.22306768596172333
           }
          },
          "post_export_metrics/prediction/false_negative_rate@0.50": {
           "boundedValue": {
            "lowerBound": 0.3419650222049144,
            "methodology": "POISSON_BOOTSTRAP",
            "upperBound": 0.38470673310895886,
            "value": 0.36351704597473145
           }
          },
          "post_export_metrics/prediction/false_omission_rate@0.50": {
           "boundedValue": {
            "lowerBound": 0.03461039334773495,
            "methodology": "POISSON_BOOTSTRAP",
            "upperBound": 0.04060478240013645,
            "value": 0.03772685304284096
           }
          },
          "post_export_metrics/prediction/false_positive_rate@0.50": {
           "boundedValue": {
            "lowerBound": 0.01771537893991863,
            "methodology": "POISSON_BOOTSTRAP",
            "upperBound": 0.020982836097665675,
            "value": 0.019328197464346886
           }
          },
          "post_export_metrics/prediction/negative_rate@0.50": {
           "boundedValue": {
            "lowerBound": 0.918338442548324,
            "methodology": "POISSON_BOOTSTRAP",
            "upperBound": 0.9251956694282996,
            "value": 0.9216406345367432
           }
          },
          "post_export_metrics/prediction/positive_rate@0.50": {
           "boundedValue": {
            "lowerBound": 0.07480425616877605,
            "methodology": "POISSON_BOOTSTRAP",
            "upperBound": 0.08166146794182728,
            "value": 0.07835938036441803
           }
          },
          "post_export_metrics/prediction/true_negative_rate@0.50": {
           "boundedValue": {
            "lowerBound": 0.9790171752866706,
            "methodology": "POISSON_BOOTSTRAP",
            "upperBound": 0.9822846283021965,
            "value": 0.9806718230247498
           }
          },
          "post_export_metrics/prediction/true_positive_rate@0.50": {
           "boundedValue": {
            "lowerBound": 0.6152932830483997,
            "methodology": "POISSON_BOOTSTRAP",
            "upperBound": 0.6580350212423718,
            "value": 0.6364829540252686
           }
          }
         },
         "slice": "Overall",
         "sliceValue": "Overall"
        },
        {
         "metrics": {
          "post_export_metrics/example_count": {
           "doubleValue": 30337.0
          },
          "post_export_metrics/prediction/fairness/confusion_matrix_at_thresholds": {
           "confusionMatrixAtThresholds": {
            "matrices": [
             {
              "boundedFalseNegatives": {
               "lowerBound": 981.2124786003511,
               "methodology": "POISSON_BOOTSTRAP",
               "upperBound": 1090.687423743399,
               "value": 1035.949951171875
              },
              "boundedFalsePositives": {
               "lowerBound": 485.32396374082316,
               "methodology": "POISSON_BOOTSTRAP",
               "upperBound": 585.0760606732393,
               "value": 535.2000122070312
              },
              "boundedPrecision": {
               "lowerBound": 0.7567498426655683,
               "methodology": "POISSON_BOOTSTRAP",
               "upperBound": 0.7966959733744707,
               "value": 0.7767229080200195
              },
              "boundedRecall": {
               "lowerBound": 0.6278656490036403,
               "methodology": "POISSON_BOOTSTRAP",
               "upperBound": 0.6571462385467137,
               "value": 0.642505943775177
              },
              "boundedTrueNegatives": {
               "lowerBound": 26725.823096369168,
               "methodology": "POISSON_BOOTSTRAP",
               "upperBound": 27186.977684880832,
               "value": 26956.400390625
              },
              "boundedTruePositives": {
               "lowerBound": 1772.7033783618353,
               "methodology": "POISSON_BOOTSTRAP",
               "upperBound": 1951.2966216381647,
               "value": 1862.0
              },
              "falseNegatives": 1037.0,
              "falsePositives": 534.0,
              "precision": 0.7769423723220825,
              "recall": 0.6420434713363647,
              "tDistributionFalseNegatives": {
               "sampleDegreesOfFreedom": "19",
               "sampleMean": 1035.949951171875,
               "sampleStandardDeviation": 26.1523380279541,
               "unsampledValue": 1037.0
              },
              "tDistributionFalsePositives": {
               "sampleDegreesOfFreedom": "19",
               "sampleMean": 535.2000122070312,
               "sampleStandardDeviation": 23.82965850830078,
               "unsampledValue": 534.0
              },
              "tDistributionPrecision": {
               "sampleDegreesOfFreedom": "19",
               "sampleMean": 0.7767229080200195,
               "sampleStandardDeviation": 0.009542683139443398,
               "unsampledValue": 0.7769423723220825
              },
              "tDistributionRecall": {
               "sampleDegreesOfFreedom": "19",
               "sampleMean": 0.642505943775177,
               "sampleStandardDeviation": 0.006994804833084345,
               "unsampledValue": 0.6420434713363647
              },
              "tDistributionTrueNegatives": {
               "sampleDegreesOfFreedom": "19",
               "sampleMean": 26956.400390625,
               "sampleStandardDeviation": 110.16466522216797,
               "unsampledValue": 26906.0
              },
              "tDistributionTruePositives": {
               "sampleDegreesOfFreedom": "19",
               "sampleMean": 1862.0,
               "sampleStandardDeviation": 42.66392517089844,
               "unsampledValue": 1860.0
              },
              "threshold": 0.5,
              "trueNegatives": 26906.0,
              "truePositives": 1860.0
             }
            ]
           }
          },
          "post_export_metrics/prediction/false_discovery_rate@0.50": {
           "boundedValue": {
            "lowerBound": 0.20330401882840707,
            "methodology": "POISSON_BOOTSTRAP",
            "upperBound": 0.24325016513155387,
            "value": 0.22305764257907867
           }
          },
          "post_export_metrics/prediction/false_negative_rate@0.50": {
           "boundedValue": {
            "lowerBound": 0.3428538405507366,
            "methodology": "POISSON_BOOTSTRAP",
            "upperBound": 0.37213439110819896,
            "value": 0.35795649886131287
           }
          },
          "post_export_metrics/prediction/false_omission_rate@0.50": {
           "boundedValue": {
            "lowerBound": 0.03523928917067625,
            "methodology": "POISSON_BOOTSTRAP",
            "upperBound": 0.03877401851994417,
            "value": 0.03711126372218132
           }
          },
          "post_export_metrics/prediction/false_positive_rate@0.50": {
           "boundedValue": {
            "lowerBound": 0.017703829616153324,
            "methodology": "POISSON_BOOTSTRAP",
            "upperBound": 0.021230080813324368,
            "value": 0.019460640847682953
           }
          },
          "post_export_metrics/prediction/negative_rate@0.50": {
           "boundedValue": {
            "lowerBound": 0.9183628830810432,
            "methodology": "POISSON_BOOTSTRAP",
            "upperBound": 0.9238743510345574,
            "value": 0.9210864901542664
           }
          },
          "post_export_metrics/prediction/positive_rate@0.50": {
           "boundedValue": {
            "lowerBound": 0.0761255800638182,
            "methodology": "POISSON_BOOTSTRAP",
            "upperBound": 0.08163703680896928,
            "value": 0.07891353964805603
           }
          },
          "post_export_metrics/prediction/true_negative_rate@0.50": {
           "boundedValue": {
            "lowerBound": 0.9787698757718817,
            "methodology": "POISSON_BOOTSTRAP",
            "upperBound": 0.9822961318422541,
            "value": 0.9805393815040588
           }
          },
          "post_export_metrics/prediction/true_positive_rate@0.50": {
           "boundedValue": {
            "lowerBound": 0.6278656490036403,
            "methodology": "POISSON_BOOTSTRAP",
            "upperBound": 0.6571462385467137,
            "value": 0.6420434713363647
           }
          }
         },
         "slice": "race:No",
         "sliceValue": "No"
        },
        {
         "metrics": {
          "post_export_metrics/example_count": {
           "doubleValue": 31466.0
          },
          "post_export_metrics/prediction/fairness/confusion_matrix_at_thresholds": {
           "confusionMatrixAtThresholds": {
            "matrices": [
             {
              "boundedFalseNegatives": {
               "lowerBound": 977.6616401793638,
               "methodology": "POISSON_BOOTSTRAP",
               "upperBound": 1116.6384086487612,
               "value": 1047.1500244140625
              },
              "boundedFalsePositives": {
               "lowerBound": 497.2475044589333,
               "methodology": "POISSON_BOOTSTRAP",
               "upperBound": 590.3524711270043,
               "value": 543.7999877929688
              },
              "boundedPrecision": {
               "lowerBound": 0.7547480361181853,
               "methodology": "POISSON_BOOTSTRAP",
               "upperBound": 0.792285035399759,
               "value": 0.7735165357589722
              },
              "boundedRecall": {
               "lowerBound": 0.6250274549501074,
               "methodology": "POISSON_BOOTSTRAP",
               "upperBound": 0.6540101398451197,
               "value": 0.6395187973976135
              },
              "boundedTrueNegatives": {
               "lowerBound": 27798.012551658765,
               "methodology": "POISSON_BOOTSTRAP",
               "upperBound": 28379.885885841235,
               "value": 28088.94921875
              },
              "boundedTruePositives": {
               "lowerBound": 1775.6302312895962,
               "methodology": "POISSON_BOOTSTRAP",
               "upperBound": 1939.2696710541538,
               "value": 1857.449951171875
              },
              "falseNegatives": 1048.0,
              "falsePositives": 549.0,
              "precision": 0.771725594997406,
              "recall": 0.6391184329986572,
              "tDistributionFalseNegatives": {
               "sampleDegreesOfFreedom": "19",
               "sampleMean": 1047.1500244140625,
               "sampleStandardDeviation": 33.19999313354492,
               "unsampledValue": 1048.0
              },
              "tDistributionFalsePositives": {
               "sampleDegreesOfFreedom": "19",
               "sampleMean": 543.7999877929688,
               "sampleStandardDeviation": 22.24173355102539,
               "unsampledValue": 549.0
              },
              "tDistributionPrecision": {
               "sampleDegreesOfFreedom": "19",
               "sampleMean": 0.7735165357589722,
               "sampleStandardDeviation": 0.008967168629169464,
               "unsampledValue": 0.771725594997406
              },
              "tDistributionRecall": {
               "sampleDegreesOfFreedom": "19",
               "sampleMean": 0.6395187973976135,
               "sampleStandardDeviation": 0.006923638749867678,
               "unsampledValue": 0.6391184329986572
              },
              "tDistributionTrueNegatives": {
               "sampleDegreesOfFreedom": "19",
               "sampleMean": 28088.94921875,
               "sampleStandardDeviation": 139.00302124023438,
               "unsampledValue": 28013.0
              },
              "tDistributionTruePositives": {
               "sampleDegreesOfFreedom": "19",
               "sampleMean": 1857.449951171875,
               "sampleStandardDeviation": 39.09162902832031,
               "unsampledValue": 1856.0
              },
              "threshold": 0.5,
              "trueNegatives": 28013.0,
              "truePositives": 1856.0
             }
            ]
           }
          },
          "post_export_metrics/prediction/false_discovery_rate@0.50": {
           "boundedValue": {
            "lowerBound": 0.20771500150660235,
            "methodology": "POISSON_BOOTSTRAP",
            "upperBound": 0.24525201638242047,
            "value": 0.22827443480491638
           }
          },
          "post_export_metrics/prediction/false_negative_rate@0.50": {
           "boundedValue": {
            "lowerBound": 0.345989912373929,
            "methodology": "POISSON_BOOTSTRAP",
            "upperBound": 0.3749725524354887,
            "value": 0.3608815371990204
           }
          },
          "post_export_metrics/prediction/false_omission_rate@0.50": {
           "boundedValue": {
            "lowerBound": 0.033751979313116236,
            "methodology": "POISSON_BOOTSTRAP",
            "upperBound": 0.03812345878102286,
            "value": 0.036062076687812805
           }
          },
          "post_export_metrics/prediction/false_positive_rate@0.50": {
           "boundedValue": {
            "lowerBound": 0.01740118105806264,
            "methodology": "POISSON_BOOTSTRAP",
            "upperBound": 0.020582437618599805,
            "value": 0.019221343100070953
           }
          },
          "post_export_metrics/prediction/negative_rate@0.50": {
           "boundedValue": {
            "lowerBound": 0.9219000232497679,
            "methodology": "POISSON_BOOTSTRAP",
            "upperBound": 0.9258254873474611,
            "value": 0.9235683083534241
           }
          },
          "post_export_metrics/prediction/positive_rate@0.50": {
           "boundedValue": {
            "lowerBound": 0.07417449775137779,
            "methodology": "POISSON_BOOTSTRAP",
            "upperBound": 0.07809996184907082,
            "value": 0.07643170654773712
           }
          },
          "post_export_metrics/prediction/true_negative_rate@0.50": {
           "boundedValue": {
            "lowerBound": 0.9794176103039054,
            "methodology": "POISSON_BOOTSTRAP",
            "upperBound": 0.9825988529758187,
            "value": 0.9807786345481873
           }
          },
          "post_export_metrics/prediction/true_positive_rate@0.50": {
           "boundedValue": {
            "lowerBound": 0.6250274549501074,
            "methodology": "POISSON_BOOTSTRAP",
            "upperBound": 0.6540101398451197,
            "value": 0.6391184329986572
           }
          }
         },
         "slice": "sexuality:No",
         "sliceValue": "No"
        },
        {
         "metrics": {
          "post_export_metrics/example_count": {
           "doubleValue": 30121.0
          },
          "post_export_metrics/prediction/fairness/confusion_matrix_at_thresholds": {
           "confusionMatrixAtThresholds": {
            "matrices": [
             {
              "boundedFalseNegatives": {
               "lowerBound": 968.4496267260564,
               "methodology": "POISSON_BOOTSTRAP",
               "upperBound": 1109.4502756176935,
               "value": 1038.949951171875
              },
              "boundedFalsePositives": {
               "lowerBound": 465.3920673645016,
               "methodology": "POISSON_BOOTSTRAP",
               "upperBound": 578.1079326354984,
               "value": 521.75
              },
              "boundedPrecision": {
               "lowerBound": 0.7652362465441037,
               "methodology": "POISSON_BOOTSTRAP",
               "upperBound": 0.8036464572370242,
               "value": 0.784441351890564
              },
              "boundedRecall": {
               "lowerBound": 0.6289594867925593,
               "methodology": "POISSON_BOOTSTRAP",
               "upperBound": 0.6636380454797796,
               "value": 0.6462987661361694
              },
              "boundedTrueNegatives": {
               "lowerBound": 26415.650299229605,
               "methodology": "POISSON_BOOTSTRAP",
               "upperBound": 27084.451263270395,
               "value": 26750.05078125
              },
              "boundedTruePositives": {
               "lowerBound": 1810.9644999475618,
               "methodology": "POISSON_BOOTSTRAP",
               "upperBound": 1985.5355000524382,
               "value": 1898.25
              },
              "falseNegatives": 1041.0,
              "falsePositives": 528.0,
              "precision": 0.7808219194412231,
              "recall": 0.6437371373176575,
              "tDistributionFalseNegatives": {
               "sampleDegreesOfFreedom": "19",
               "sampleMean": 1038.949951171875,
               "sampleStandardDeviation": 33.683475494384766,
               "unsampledValue": 1041.0
              },
              "tDistributionFalsePositives": {
               "sampleDegreesOfFreedom": "19",
               "sampleMean": 521.75,
               "sampleStandardDeviation": 26.926557540893555,
               "unsampledValue": 528.0
              },
              "tDistributionPrecision": {
               "sampleDegreesOfFreedom": "19",
               "sampleMean": 0.784441351890564,
               "sampleStandardDeviation": 0.009175769053399563,
               "unsampledValue": 0.7808219194412231
              },
              "tDistributionRecall": {
               "sampleDegreesOfFreedom": "19",
               "sampleMean": 0.6462987661361694,
               "sampleStandardDeviation": 0.008284319192171097,
               "unsampledValue": 0.6437371373176575
              },
              "tDistributionTrueNegatives": {
               "sampleDegreesOfFreedom": "19",
               "sampleMean": 26750.05078125,
               "sampleStandardDeviation": 159.76905822753906,
               "unsampledValue": 26671.0
              },
              "tDistributionTruePositives": {
               "sampleDegreesOfFreedom": "19",
               "sampleMean": 1898.25,
               "sampleStandardDeviation": 41.70305633544922,
               "unsampledValue": 1881.0
              },
              "threshold": 0.5,
              "trueNegatives": 26671.0,
              "truePositives": 1881.0
             }
            ]
           }
          },
          "post_export_metrics/prediction/false_discovery_rate@0.50": {
           "boundedValue": {
            "lowerBound": 0.1963534702064504,
            "methodology": "POISSON_BOOTSTRAP",
            "upperBound": 0.23476367700080975,
            "value": 0.21917808055877686
           }
          },
          "post_export_metrics/prediction/false_negative_rate@0.50": {
           "boundedValue": {
            "lowerBound": 0.33636195200782576,
            "methodology": "POISSON_BOOTSTRAP",
            "upperBound": 0.3710404561151906,
            "value": 0.35626283288002014
           }
          },
          "post_export_metrics/prediction/false_omission_rate@0.50": {
           "boundedValue": {
            "lowerBound": 0.034930163522859645,
            "methodology": "POISSON_BOOTSTRAP",
            "upperBound": 0.03984292457471268,
            "value": 0.0375649556517601
           }
          },
          "post_export_metrics/prediction/false_positive_rate@0.50": {
           "boundedValue": {
            "lowerBound": 0.017151956587936324,
            "methodology": "POISSON_BOOTSTRAP",
            "upperBound": 0.021107709825132447,
            "value": 0.019412478432059288
           }
          },
          "post_export_metrics/prediction/negative_rate@0.50": {
           "boundedValue": {
            "lowerBound": 0.9167237033408445,
            "methodology": "POISSON_BOOTSTRAP",
            "upperBound": 0.9230635414559084,
            "value": 0.9200225472450256
           }
          },
          "post_export_metrics/prediction/positive_rate@0.50": {
           "boundedValue": {
            "lowerBound": 0.07693641822648926,
            "methodology": "POISSON_BOOTSTRAP",
            "upperBound": 0.08327624756979064,
            "value": 0.07997742295265198
           }
          },
          "post_export_metrics/prediction/true_negative_rate@0.50": {
           "boundedValue": {
            "lowerBound": 0.978892260196572,
            "methodology": "POISSON_BOOTSTRAP",
            "upperBound": 0.9828479951592629,
            "value": 0.9805875420570374
           }
          },
          "post_export_metrics/prediction/true_positive_rate@0.50": {
           "boundedValue": {
            "lowerBound": 0.6289594867925593,
            "methodology": "POISSON_BOOTSTRAP",
            "upperBound": 0.6636380454797796,
            "value": 0.6437371373176575
           }
          }
         },
         "slice": "gender identity:No",
         "sliceValue": "No"
        },
        {
         "metrics": {
          "post_export_metrics/example_count": {
           "doubleValue": 1745.0
          },
          "post_export_metrics/prediction/fairness/confusion_matrix_at_thresholds": {
           "confusionMatrixAtThresholds": {
            "matrices": [
             {
              "boundedFalseNegatives": {
               "lowerBound": 46.64142693052373,
               "methodology": "POISSON_BOOTSTRAP",
               "upperBound": 86.85857306947628,
               "value": 66.75
              },
              "boundedFalsePositives": {
               "lowerBound": 17.843706461191754,
               "methodology": "POISSON_BOOTSTRAP",
               "upperBound": 41.45629277586879,
               "value": 29.649999618530273
              },
              "boundedPrecision": {
               "lowerBound": 0.5357722207231272,
               "methodology": "POISSON_BOOTSTRAP",
               "upperBound": 0.7844370440321218,
               "value": 0.6601046323776245
              },
              "boundedRecall": {
               "lowerBound": 0.3680404657084902,
               "methodology": "POISSON_BOOTSTRAP",
               "upperBound": 0.5604628688137572,
               "value": 0.46425166726112366
              },
              "boundedTrueNegatives": {
               "lowerBound": 1507.0870571590972,
               "methodology": "POISSON_BOOTSTRAP",
               "upperBound": 1676.8128451846528,
               "value": 1591.949951171875
              },
              "boundedTruePositives": {
               "lowerBound": 44.42906901187456,
               "methodology": "POISSON_BOOTSTRAP",
               "upperBound": 70.57093098812544,
               "value": 57.5
              },
              "falseNegatives": 67.0,
              "falsePositives": 29.0,
              "precision": 0.6704545617103577,
              "recall": 0.4682539701461792,
              "tDistributionFalseNegatives": {
               "sampleDegreesOfFreedom": "19",
               "sampleMean": 66.75,
               "sampleStandardDeviation": 9.607425689697266,
               "unsampledValue": 67.0
              },
              "tDistributionFalsePositives": {
               "sampleDegreesOfFreedom": "19",
               "sampleMean": 29.649999618530273,
               "sampleStandardDeviation": 5.640782356262207,
               "unsampledValue": 29.0
              },
              "tDistributionPrecision": {
               "sampleDegreesOfFreedom": "19",
               "sampleMean": 0.6601046323776245,
               "sampleStandardDeviation": 0.05940324068069458,
               "unsampledValue": 0.6704545617103577
              },
              "tDistributionRecall": {
               "sampleDegreesOfFreedom": "19",
               "sampleMean": 0.46425166726112366,
               "sampleStandardDeviation": 0.04596755653619766,
               "unsampledValue": 0.4682539701461792
              },
              "tDistributionTrueNegatives": {
               "sampleDegreesOfFreedom": "19",
               "sampleMean": 1591.949951171875,
               "sampleStandardDeviation": 40.545589447021484,
               "unsampledValue": 1590.0
              },
              "tDistributionTruePositives": {
               "sampleDegreesOfFreedom": "19",
               "sampleMean": 57.5,
               "sampleStandardDeviation": 6.244997978210449,
               "unsampledValue": 59.0
              },
              "threshold": 0.5,
              "trueNegatives": 1590.0,
              "truePositives": 59.0
             }
            ]
           }
          },
          "post_export_metrics/prediction/false_discovery_rate@0.50": {
           "boundedValue": {
            "lowerBound": 0.21556302336964522,
            "methodology": "POISSON_BOOTSTRAP",
            "upperBound": 0.4642278310843953,
            "value": 0.3295454680919647
           }
          },
          "post_export_metrics/prediction/false_negative_rate@0.50": {
           "boundedValue": {
            "lowerBound": 0.4395371013839205,
            "methodology": "POISSON_BOOTSTRAP",
            "upperBound": 0.6319595044891875,
            "value": 0.5317460298538208
           }
          },
          "post_export_metrics/prediction/false_omission_rate@0.50": {
           "boundedValue": {
            "lowerBound": 0.029309762915940805,
            "methodology": "POISSON_BOOTSTRAP",
            "upperBound": 0.05103278318944402,
            "value": 0.040434520691633224
           }
          },
          "post_export_metrics/prediction/false_positive_rate@0.50": {
           "boundedValue": {
            "lowerBound": 0.010961351369687537,
            "methodology": "POISSON_BOOTSTRAP",
            "upperBound": 0.02563310655467846,
            "value": 0.01791229099035263
           }
          },
          "post_export_metrics/prediction/negative_rate@0.50": {
           "boundedValue": {
            "lowerBound": 0.942393342800474,
            "methodology": "POISSON_BOOTSTRAP",
            "upperBound": 0.957727392367983,
            "value": 0.9495701789855957
           }
          },
          "post_export_metrics/prediction/positive_rate@0.50": {
           "boundedValue": {
            "lowerBound": 0.04227265038622,
            "methodology": "POISSON_BOOTSTRAP",
            "upperBound": 0.05760670385229013,
            "value": 0.050429798662662506
           }
          },
          "post_export_metrics/prediction/true_negative_rate@0.50": {
           "boundedValue": {
            "lowerBound": 0.9743669303841752,
            "methodology": "POISSON_BOOTSTRAP",
            "upperBound": 0.9890386787466842,
            "value": 0.9820877313613892
           }
          },
          "post_export_metrics/prediction/true_positive_rate@0.50": {
           "boundedValue": {
            "lowerBound": 0.3680404657084902,
            "methodology": "POISSON_BOOTSTRAP",
            "upperBound": 0.5604628688137572,
            "value": 0.4682539701461792
           }
          }
         },
         "slice": "gender identity:Yes",
         "sliceValue": "Yes"
        },
        {
         "metrics": {
          "post_export_metrics/example_count": {
           "doubleValue": 1529.0
          },
          "post_export_metrics/prediction/fairness/confusion_matrix_at_thresholds": {
           "confusionMatrixAtThresholds": {
            "matrices": [
             {
              "boundedFalseNegatives": {
               "lowerBound": 48.50079516514822,
               "methodology": "POISSON_BOOTSTRAP",
               "upperBound": 90.69920178309397,
               "value": 69.5999984741211
              },
              "boundedFalsePositives": {
               "lowerBound": 7.411789179321017,
               "methodology": "POISSON_BOOTSTRAP",
               "upperBound": 35.688209294800075,
               "value": 21.549999237060547
              },
              "boundedPrecision": {
               "lowerBound": 0.6630691853589866,
               "methodology": "POISSON_BOOTSTRAP",
               "upperBound": 0.9152643116884377,
               "value": 0.7891667485237122
              },
              "boundedRecall": {
               "lowerBound": 0.4464918213263671,
               "methodology": "POISSON_BOOTSTRAP",
               "upperBound": 0.6248268050774415,
               "value": 0.5356593132019043
              },
              "boundedTrueNegatives": {
               "lowerBound": 1262.5521186856033,
               "methodology": "POISSON_BOOTSTRAP",
               "upperBound": 1445.8477836581467,
               "value": 1354.199951171875
              },
              "boundedTruePositives": {
               "lowerBound": 59.562624797423325,
               "methodology": "POISSON_BOOTSTRAP",
               "upperBound": 100.83736909906105,
               "value": 80.19999694824219
              },
              "falseNegatives": 71.0,
              "falsePositives": 23.0,
              "precision": 0.7766990065574646,
              "recall": 0.5298013091087341,
              "tDistributionFalseNegatives": {
               "sampleDegreesOfFreedom": "19",
               "sampleMean": 69.5999984741211,
               "sampleStandardDeviation": 10.080726623535156,
               "unsampledValue": 71.0
              },
              "tDistributionFalsePositives": {
               "sampleDegreesOfFreedom": "19",
               "sampleMean": 21.549999237060547,
               "sampleStandardDeviation": 6.75492000579834,
               "unsampledValue": 23.0
              },
              "tDistributionPrecision": {
               "sampleDegreesOfFreedom": "19",
               "sampleMean": 0.7891667485237122,
               "sampleStandardDeviation": 0.06024659052491188,
               "unsampledValue": 0.7766990065574646
              },
              "tDistributionRecall": {
               "sampleDegreesOfFreedom": "19",
               "sampleMean": 0.5356593132019043,
               "sampleStandardDeviation": 0.04260222986340523,
               "unsampledValue": 0.5298013091087341
              },
              "tDistributionTrueNegatives": {
               "sampleDegreesOfFreedom": "19",
               "sampleMean": 1354.199951171875,
               "sampleStandardDeviation": 43.78728103637695,
               "unsampledValue": 1355.0
              },
              "tDistributionTruePositives": {
               "sampleDegreesOfFreedom": "19",
               "sampleMean": 80.19999694824219,
               "sampleStandardDeviation": 9.860074043273926,
               "unsampledValue": 80.0
              },
              "threshold": 0.5,
              "trueNegatives": 1355.0,
              "truePositives": 80.0
             }
            ]
           }
          },
          "post_export_metrics/prediction/false_discovery_rate@0.50": {
           "boundedValue": {
            "lowerBound": 0.08473567341040114,
            "methodology": "POISSON_BOOTSTRAP",
            "upperBound": 0.3369307997398522,
            "value": 0.223300963640213
           }
          },
          "post_export_metrics/prediction/false_negative_rate@0.50": {
           "boundedValue": {
            "lowerBound": 0.3751731715311919,
            "methodology": "POISSON_BOOTSTRAP",
            "upperBound": 0.5535082020649995,
            "value": 0.4701986610889435
           }
          },
          "post_export_metrics/prediction/false_omission_rate@0.50": {
           "boundedValue": {
            "lowerBound": 0.03523125233692635,
            "methodology": "POISSON_BOOTSTRAP",
            "upperBound": 0.062446559643321145,
            "value": 0.04978962242603302
           }
          },
          "post_export_metrics/prediction/false_positive_rate@0.50": {
           "boundedValue": {
            "lowerBound": 0.005524993669941742,
            "methodology": "POISSON_BOOTSTRAP",
            "upperBound": 0.025781843084141894,
            "value": 0.016690855845808983
           }
          },
          "post_export_metrics/prediction/negative_rate@0.50": {
           "boundedValue": {
            "lowerBound": 0.9206370927587321,
            "methodology": "POISSON_BOOTSTRAP",
            "upperBound": 0.9461250684961507,
            "value": 0.9326357245445251
           }
          },
          "post_export_metrics/prediction/positive_rate@0.50": {
           "boundedValue": {
            "lowerBound": 0.05387492405326867,
            "methodology": "POISSON_BOOTSTRAP",
            "upperBound": 0.07936289979068732,
            "value": 0.06736429035663605
           }
          },
          "post_export_metrics/prediction/true_negative_rate@0.50": {
           "boundedValue": {
            "lowerBound": 0.9742181468012628,
            "methodology": "POISSON_BOOTSTRAP",
            "upperBound": 0.9944749903676214,
            "value": 0.9833091497421265
           }
          },
          "post_export_metrics/prediction/true_positive_rate@0.50": {
           "boundedValue": {
            "lowerBound": 0.4464918213263671,
            "methodology": "POISSON_BOOTSTRAP",
            "upperBound": 0.6248268050774415,
            "value": 0.5298013091087341
           }
          }
         },
         "slice": "race:Yes",
         "sliceValue": "Yes"
        },
        {
         "metrics": {
          "post_export_metrics/example_count": {
           "doubleValue": 641.0
          },
          "post_export_metrics/prediction/fairness/confusion_matrix_at_thresholds": {
           "confusionMatrixAtThresholds": {
            "matrices": [
             {
              "boundedFalseNegatives": {
               "lowerBound": 11.834269465578515,
               "methodology": "POISSON_BOOTSTRAP",
               "upperBound": 37.36573129736094,
               "value": 24.600000381469727
              },
              "boundedFalsePositives": {
               "lowerBound": 4.127488165251509,
               "methodology": "POISSON_BOOTSTRAP",
               "upperBound": 18.972512216218217,
               "value": 11.550000190734863
              },
              "boundedPrecision": {
               "lowerBound": 0.5181618806930672,
               "methodology": "POISSON_BOOTSTRAP",
               "upperBound": 0.8527552011398185,
               "value": 0.6854585409164429
              },
              "boundedRecall": {
               "lowerBound": 0.33980726188406957,
               "methodology": "POISSON_BOOTSTRAP",
               "upperBound": 0.6741631131769656,
               "value": 0.5069851875305176
              },
              "boundedTrueNegatives": {
               "lowerBound": 538.9574359032533,
               "methodology": "POISSON_BOOTSTRAP",
               "upperBound": 622.0425640967467,
               "value": 580.5
              },
              "boundedTruePositives": {
               "lowerBound": 14.69618045178398,
               "methodology": "POISSON_BOOTSTRAP",
               "upperBound": 35.40381802233711,
               "value": 25.049999237060547
              },
              "falseNegatives": 25.0,
              "falsePositives": 12.0,
              "precision": 0.6756756901741028,
              "recall": 0.5,
              "tDistributionFalseNegatives": {
               "sampleDegreesOfFreedom": "19",
               "sampleMean": 24.600000381469727,
               "sampleStandardDeviation": 6.099180221557617,
               "unsampledValue": 25.0
              },
              "tDistributionFalsePositives": {
               "sampleDegreesOfFreedom": "19",
               "sampleMean": 11.550000190734863,
               "sampleStandardDeviation": 3.5463099479675293,
               "unsampledValue": 12.0
              },
              "tDistributionPrecision": {
               "sampleDegreesOfFreedom": "19",
               "sampleMean": 0.6854585409164429,
               "sampleStandardDeviation": 0.07993059605360031,
               "unsampledValue": 0.6756756901741028
              },
              "tDistributionRecall": {
               "sampleDegreesOfFreedom": "19",
               "sampleMean": 0.5069851875305176,
               "sampleStandardDeviation": 0.07987386733293533,
               "unsampledValue": 0.5
              },
              "tDistributionTrueNegatives": {
               "sampleDegreesOfFreedom": "19",
               "sampleMean": 580.5,
               "sampleStandardDeviation": 19.848106384277344,
               "unsampledValue": 579.0
              },
              "tDistributionTruePositives": {
               "sampleDegreesOfFreedom": "19",
               "sampleMean": 25.049999237060547,
               "sampleStandardDeviation": 4.946822643280029,
               "unsampledValue": 25.0
              },
              "threshold": 0.5,
              "trueNegatives": 579.0,
              "truePositives": 25.0
             }
            ]
           }
          },
          "post_export_metrics/prediction/false_discovery_rate@0.50": {
           "boundedValue": {
            "lowerBound": 0.14724481306825948,
            "methodology": "POISSON_BOOTSTRAP",
            "upperBound": 0.48183816470349955,
            "value": 0.3243243098258972
           }
          },
          "post_export_metrics/prediction/false_negative_rate@0.50": {
           "boundedValue": {
            "lowerBound": 0.3258369024172788,
            "methodology": "POISSON_BOOTSTRAP",
            "upperBound": 0.660192722521686,
            "value": 0.5
           }
          },
          "post_export_metrics/prediction/false_omission_rate@0.50": {
           "boundedValue": {
            "lowerBound": 0.02113977067585863,
            "methodology": "POISSON_BOOTSTRAP",
            "upperBound": 0.05988170213584028,
            "value": 0.04139072820544243
           }
          },
          "post_export_metrics/prediction/false_positive_rate@0.50": {
           "boundedValue": {
            "lowerBound": 0.007242915390173391,
            "methodology": "POISSON_BOOTSTRAP",
            "upperBound": 0.03167096787865977,
            "value": 0.020304568111896515
           }
          },
          "post_export_metrics/prediction/negative_rate@0.50": {
           "boundedValue": {
            "lowerBound": 0.9228554470565279,
            "methodology": "POISSON_BOOTSTRAP",
            "upperBound": 0.9631057279083769,
            "value": 0.9422776699066162
           }
          },
          "post_export_metrics/prediction/positive_rate@0.50": {
           "boundedValue": {
            "lowerBound": 0.03689430544596496,
            "methodology": "POISSON_BOOTSTRAP",
            "upperBound": 0.07714459409493622,
            "value": 0.057722307741642
           }
          },
          "post_export_metrics/prediction/true_negative_rate@0.50": {
           "boundedValue": {
            "lowerBound": 0.9683289833460248,
            "methodology": "POISSON_BOOTSTRAP",
            "upperBound": 0.9927570514287555,
            "value": 0.9796954393386841
           }
          },
          "post_export_metrics/prediction/true_positive_rate@0.50": {
           "boundedValue": {
            "lowerBound": 0.33980726188406957,
            "methodology": "POISSON_BOOTSTRAP",
            "upperBound": 0.6741631131769656,
            "value": 0.5
           }
          }
         },
         "slice": "religion:Yes",
         "sliceValue": "Yes"
        },
        {
         "metrics": {
          "post_export_metrics/example_count": {
           "doubleValue": 400.0
          },
          "post_export_metrics/prediction/fairness/confusion_matrix_at_thresholds": {
           "confusionMatrixAtThresholds": {
            "matrices": [
             {
              "boundedFalseNegatives": {
               "lowerBound": 39.719451986414036,
               "methodology": "POISSON_BOOTSTRAP",
               "upperBound": 79.28054801358596,
               "value": 59.5
              },
              "boundedFalsePositives": {
               "lowerBound": 1.5680682525694243,
               "methodology": "POISSON_BOOTSTRAP",
               "upperBound": 13.931931747430575,
               "value": 7.75
              },
              "boundedPrecision": {
               "lowerBound": 0.8518982043111014,
               "methodology": "POISSON_BOOTSTRAP",
               "upperBound": 0.9797723183787179,
               "value": 0.9158352613449097
              },
              "boundedRecall": {
               "lowerBound": 0.48975499073237694,
               "methodology": "POISSON_BOOTSTRAP",
               "upperBound": 0.6843824823740073,
               "value": 0.5870687365531921
              },
              "boundedTrueNegatives": {
               "lowerBound": 217.6073080993963,
               "methodology": "POISSON_BOOTSTRAP",
               "upperBound": 287.592704107635,
               "value": 252.60000610351562
              },
              "boundedTruePositives": {
               "lowerBound": 65.29645862600967,
               "methodology": "POISSON_BOOTSTRAP",
               "upperBound": 103.40353832223252,
               "value": 84.3499984741211
              },
              "falseNegatives": 60.0,
              "falsePositives": 8.0,
              "precision": 0.9130434989929199,
              "recall": 0.5833333134651184,
              "tDistributionFalseNegatives": {
               "sampleDegreesOfFreedom": "19",
               "sampleMean": 59.5,
               "sampleStandardDeviation": 9.450702667236328,
               "unsampledValue": 60.0
              },
              "tDistributionFalsePositives": {
               "sampleDegreesOfFreedom": "19",
               "sampleMean": 7.75,
               "sampleStandardDeviation": 2.9535884857177734,
               "unsampledValue": 8.0
              },
              "tDistributionPrecision": {
               "sampleDegreesOfFreedom": "19",
               "sampleMean": 0.9158352613449097,
               "sampleStandardDeviation": 0.030547693371772766,
               "unsampledValue": 0.9130434989929199
              },
              "tDistributionRecall": {
               "sampleDegreesOfFreedom": "19",
               "sampleMean": 0.5870687365531921,
               "sampleStandardDeviation": 0.04649432748556137,
               "unsampledValue": 0.5833333134651184
              },
              "tDistributionTrueNegatives": {
               "sampleDegreesOfFreedom": "19",
               "sampleMean": 252.60000610351562,
               "sampleStandardDeviation": 16.718727111816406,
               "unsampledValue": 248.0
              },
              "tDistributionTruePositives": {
               "sampleDegreesOfFreedom": "19",
               "sampleMean": 84.3499984741211,
               "sampleStandardDeviation": 9.103354454040527,
               "unsampledValue": 84.0
              },
              "threshold": 0.5,
              "trueNegatives": 248.0,
              "truePositives": 84.0
             }
            ]
           }
          },
          "post_export_metrics/prediction/false_discovery_rate@0.50": {
           "boundedValue": {
            "lowerBound": 0.020227625222115186,
            "methodology": "POISSON_BOOTSTRAP",
            "upperBound": 0.14810176268109831,
            "value": 0.08695652335882187
           }
          },
          "post_export_metrics/prediction/false_negative_rate@0.50": {
           "boundedValue": {
            "lowerBound": 0.3156174502242257,
            "methodology": "POISSON_BOOTSTRAP",
            "upperBound": 0.5102449574601005,
            "value": 0.4166666567325592
           }
          },
          "post_export_metrics/prediction/false_omission_rate@0.50": {
           "boundedValue": {
            "lowerBound": 0.13344532682772353,
            "methodology": "POISSON_BOOTSTRAP",
            "upperBound": 0.24752139613751695,
            "value": 0.19480518996715546
           }
          },
          "post_export_metrics/prediction/false_positive_rate@0.50": {
           "boundedValue": {
            "lowerBound": 0.005981074027690315,
            "methodology": "POISSON_BOOTSTRAP",
            "upperBound": 0.05372637758406697,
            "value": 0.03125
           }
          },
          "post_export_metrics/prediction/negative_rate@0.50": {
           "boundedValue": {
            "lowerBound": 0.7218901534698248,
            "methodology": "POISSON_BOOTSTRAP",
            "upperBound": 0.8219193796493769,
            "value": 0.7699999809265137
           }
          },
          "post_export_metrics/prediction/positive_rate@0.50": {
           "boundedValue": {
            "lowerBound": 0.178080609348023,
            "methodology": "POISSON_BOOTSTRAP",
            "upperBound": 0.27810982773045295,
            "value": 0.23000000417232513
           }
          },
          "post_export_metrics/prediction/true_negative_rate@0.50": {
           "boundedValue": {
            "lowerBound": 0.94627364663032,
            "methodology": "POISSON_BOOTSTRAP",
            "upperBound": 0.9940189501866966,
            "value": 0.96875
           }
          },
          "post_export_metrics/prediction/true_positive_rate@0.50": {
           "boundedValue": {
            "lowerBound": 0.48975499073237694,
            "methodology": "POISSON_BOOTSTRAP",
            "upperBound": 0.6843824823740073,
            "value": 0.5833333134651184
           }
          }
         },
         "slice": "sexuality:Yes",
         "sliceValue": "Yes"
        }
       ],
       "slicingMetricsCompare": [
        {
         "metrics": {
          "post_export_metrics/example_count": {
           "doubleValue": 31225.0
          },
          "post_export_metrics/prediction/fairness/confusion_matrix_at_thresholds": {
           "confusionMatrixAtThresholds": {
            "matrices": [
             {
              "boundedFalseNegatives": {
               "lowerBound": 956.3293680446443,
               "methodology": "POISSON_BOOTSTRAP",
               "upperBound": 1107.0705342991057,
               "value": 1031.699951171875
              },
              "boundedFalsePositives": {
               "lowerBound": 280.8003828508368,
               "methodology": "POISSON_BOOTSTRAP",
               "upperBound": 343.49960494213195,
               "value": 312.1499938964844
              },
              "boundedPrecision": {
               "lowerBound": 0.8514329227258093,
               "methodology": "POISSON_BOOTSTRAP",
               "upperBound": 0.8763147560309046,
               "value": 0.8638738393783569
              },
              "boundedRecall": {
               "lowerBound": 0.6412642890635142,
               "methodology": "POISSON_BOOTSTRAP",
               "upperBound": 0.6739131515797964,
               "value": 0.6575887203216553
              },
              "boundedTrueNegatives": {
               "lowerBound": 27653.16839083291,
               "methodology": "POISSON_BOOTSTRAP",
               "upperBound": 28215.93317166709,
               "value": 27934.55078125
              },
              "boundedTruePositives": {
               "lowerBound": 1911.2940034254868,
               "methodology": "POISSON_BOOTSTRAP",
               "upperBound": 2050.3060942307634,
               "value": 1980.800048828125
              },
              "falseNegatives": 1027.0,
              "falsePositives": 311.0,
              "precision": 0.8637160658836365,
              "recall": 0.6574382781982422,
              "tDistributionFalseNegatives": {
               "sampleDegreesOfFreedom": "19",
               "sampleMean": 1031.699951171875,
               "sampleStandardDeviation": 36.0103759765625,
               "unsampledValue": 1027.0
              },
              "tDistributionFalsePositives": {
               "sampleDegreesOfFreedom": "19",
               "sampleMean": 312.1499938964844,
               "sampleStandardDeviation": 14.978141784667969,
               "unsampledValue": 311.0
              },
              "tDistributionPrecision": {
               "sampleDegreesOfFreedom": "19",
               "sampleMean": 0.8638738393783569,
               "sampleStandardDeviation": 0.005943991243839264,
               "unsampledValue": 0.8637160658836365
              },
              "tDistributionRecall": {
               "sampleDegreesOfFreedom": "19",
               "sampleMean": 0.6575887203216553,
               "sampleStandardDeviation": 0.007799447514116764,
               "unsampledValue": 0.6574382781982422
              },
              "tDistributionTrueNegatives": {
               "sampleDegreesOfFreedom": "19",
               "sampleMean": 27934.55078125,
               "sampleStandardDeviation": 134.43820190429688,
               "unsampledValue": 27916.0
              },
              "tDistributionTruePositives": {
               "sampleDegreesOfFreedom": "19",
               "sampleMean": 1980.800048828125,
               "sampleStandardDeviation": 33.208431243896484,
               "unsampledValue": 1971.0
              },
              "threshold": 0.5,
              "trueNegatives": 27916.0,
              "truePositives": 1971.0
             }
            ]
           }
          },
          "post_export_metrics/prediction/false_discovery_rate@0.50": {
           "boundedValue": {
            "lowerBound": 0.12368530259909989,
            "methodology": "POISSON_BOOTSTRAP",
            "upperBound": 0.14856713785347578,
            "value": 0.1362839639186859
           }
          },
          "post_export_metrics/prediction/false_negative_rate@0.50": {
           "boundedValue": {
            "lowerBound": 0.3260868338005995,
            "methodology": "POISSON_BOOTSTRAP",
            "upperBound": 0.35873572555608996,
            "value": 0.3425617218017578
           }
          },
          "post_export_metrics/prediction/false_omission_rate@0.50": {
           "boundedValue": {
            "lowerBound": 0.033067787116868363,
            "methodology": "POISSON_BOOTSTRAP",
            "upperBound": 0.038165962272780074,
            "value": 0.03548353537917137
           }
          },
          "post_export_metrics/prediction/false_positive_rate@0.50": {
           "boundedValue": {
            "lowerBound": 0.009917223219994324,
            "methodology": "POISSON_BOOTSTRAP",
            "upperBound": 0.012185793976064903,
            "value": 0.011017819866538048
           }
          },
          "post_export_metrics/prediction/negative_rate@0.50": {
           "boundedValue": {
            "lowerBound": 0.9240652078089684,
            "methodology": "POISSON_BOOTSTRAP",
            "upperBound": 0.9292259460988075,
            "value": 0.926917552947998
           }
          },
          "post_export_metrics/prediction/positive_rate@0.50": {
           "boundedValue": {
            "lowerBound": 0.07077399892608909,
            "methodology": "POISSON_BOOTSTRAP",
            "upperBound": 0.07593472795684549,
            "value": 0.07308246940374374
           }
          },
          "post_export_metrics/prediction/true_negative_rate@0.50": {
           "boundedValue": {
            "lowerBound": 0.9878142432497665,
            "methodology": "POISSON_BOOTSTRAP",
            "upperBound": 0.9900828047467545,
            "value": 0.9889822006225586
           }
          },
          "post_export_metrics/prediction/true_positive_rate@0.50": {
           "boundedValue": {
            "lowerBound": 0.6412642890635142,
            "methodology": "POISSON_BOOTSTRAP",
            "upperBound": 0.6739131515797964,
            "value": 0.6574382781982422
           }
          }
         },
         "slice": "religion:No",
         "sliceValue": "No"
        },
        {
         "metrics": {
          "post_export_metrics/example_count": {
           "doubleValue": 31866.0
          },
          "post_export_metrics/prediction/fairness/confusion_matrix_at_thresholds": {
           "confusionMatrixAtThresholds": {
            "matrices": [
             {
              "boundedFalseNegatives": {
               "lowerBound": 962.6830004699065,
               "methodology": "POISSON_BOOTSTRAP",
               "upperBound": 1102.9170971863437,
               "value": 1032.800048828125
              },
              "boundedFalsePositives": {
               "lowerBound": 285.19332717026293,
               "methodology": "POISSON_BOOTSTRAP",
               "upperBound": 349.6066606227058,
               "value": 317.3999938964844
              },
              "boundedPrecision": {
               "lowerBound": 0.8487564678118356,
               "methodology": "POISSON_BOOTSTRAP",
               "upperBound": 0.8774972801282279,
               "value": 0.8631268739700317
              },
              "boundedRecall": {
               "lowerBound": 0.6404186117805357,
               "methodology": "POISSON_BOOTSTRAP",
               "upperBound": 0.6789640557609682,
               "value": 0.659691333770752
              },
              "boundedTrueNegatives": {
               "lowerBound": 28073.223220993852,
               "methodology": "POISSON_BOOTSTRAP",
               "upperBound": 29011.675216506148,
               "value": 28542.44921875
              },
              "boundedTruePositives": {
               "lowerBound": 1920.3136056313992,
               "methodology": "POISSON_BOOTSTRAP",
               "upperBound": 2083.5862967123508,
               "value": 2001.949951171875
              },
              "falseNegatives": 1051.0,
              "falsePositives": 316.0,
              "precision": 0.8633809089660645,
              "recall": 0.655183732509613,
              "tDistributionFalseNegatives": {
               "sampleDegreesOfFreedom": "19",
               "sampleMean": 1032.800048828125,
               "sampleStandardDeviation": 33.5003547668457,
               "unsampledValue": 1051.0
              },
              "tDistributionFalsePositives": {
               "sampleDegreesOfFreedom": "19",
               "sampleMean": 317.3999938964844,
               "sampleStandardDeviation": 15.38762378692627,
               "unsampledValue": 316.0
              },
              "tDistributionPrecision": {
               "sampleDegreesOfFreedom": "19",
               "sampleMean": 0.8631268739700317,
               "sampleStandardDeviation": 0.0068658581003546715,
               "unsampledValue": 0.8633809089660645
              },
              "tDistributionRecall": {
               "sampleDegreesOfFreedom": "19",
               "sampleMean": 0.659691333770752,
               "sampleStandardDeviation": 0.009208074770867825,
               "unsampledValue": 0.655183732509613
              },
              "tDistributionTrueNegatives": {
               "sampleDegreesOfFreedom": "19",
               "sampleMean": 28542.44921875,
               "sampleStandardDeviation": 224.1856689453125,
               "unsampledValue": 28502.0
              },
              "tDistributionTruePositives": {
               "sampleDegreesOfFreedom": "19",
               "sampleMean": 2001.949951171875,
               "sampleStandardDeviation": 39.0040168762207,
               "unsampledValue": 1997.0
              },
              "threshold": 0.5,
              "trueNegatives": 28502.0,
              "truePositives": 1997.0
             }
            ]
           }
          },
          "post_export_metrics/prediction/false_discovery_rate@0.50": {
           "boundedValue": {
            "lowerBound": 0.12250280538017817,
            "methodology": "POISSON_BOOTSTRAP",
            "upperBound": 0.1512436254936927,
            "value": 0.13661910593509674
           }
          },
          "post_export_metrics/prediction/false_negative_rate@0.50": {
           "boundedValue": {
            "lowerBound": 0.32103588073582595,
            "methodology": "POISSON_BOOTSTRAP",
            "upperBound": 0.3595813325133806,
            "value": 0.34481626749038696
           }
          },
          "post_export_metrics/prediction/false_omission_rate@0.50": {
           "boundedValue": {
            "lowerBound": 0.032515402398064046,
            "methodology": "POISSON_BOOTSTRAP",
            "upperBound": 0.037329447009608836,
            "value": 0.03556322678923607
           }
          },
          "post_export_metrics/prediction/false_positive_rate@0.50": {
           "boundedValue": {
            "lowerBound": 0.009863766460005684,
            "methodology": "POISSON_BOOTSTRAP",
            "upperBound": 0.012133579151447372,
            "value": 0.010965368710458279
           }
          },
          "post_export_metrics/prediction/negative_rate@0.50": {
           "boundedValue": {
            "lowerBound": 0.9250797677759155,
            "methodology": "POISSON_BOOTSTRAP",
            "upperBound": 0.9294813226934449,
            "value": 0.9274147748947144
           }
          },
          "post_export_metrics/prediction/positive_rate@0.50": {
           "boundedValue": {
            "lowerBound": 0.07051871591853703,
            "methodology": "POISSON_BOOTSTRAP",
            "upperBound": 0.07492028301906978,
            "value": 0.07258520275354385
           }
          },
          "post_export_metrics/prediction/true_negative_rate@0.50": {
           "boundedValue": {
            "lowerBound": 0.9878664777133728,
            "methodology": "POISSON_BOOTSTRAP",
            "upperBound": 0.9901363089229798,
            "value": 0.9890346527099609
           }
          },
          "post_export_metrics/prediction/true_positive_rate@0.50": {
           "boundedValue": {
            "lowerBound": 0.6404186117805357,
            "methodology": "POISSON_BOOTSTRAP",
            "upperBound": 0.6789640557609682,
            "value": 0.655183732509613
           }
          }
         },
         "slice": "Overall",
         "sliceValue": "Overall"
        },
        {
         "metrics": {
          "post_export_metrics/example_count": {
           "doubleValue": 30337.0
          },
          "post_export_metrics/prediction/fairness/confusion_matrix_at_thresholds": {
           "confusionMatrixAtThresholds": {
            "matrices": [
             {
              "boundedFalseNegatives": {
               "lowerBound": 918.421646588005,
               "methodology": "POISSON_BOOTSTRAP",
               "upperBound": 1032.6783289979326,
               "value": 975.5499877929688
              },
              "boundedFalsePositives": {
               "lowerBound": 266.5170547820573,
               "methodology": "POISSON_BOOTSTRAP",
               "upperBound": 333.5829208038802,
               "value": 300.04998779296875
              },
              "boundedPrecision": {
               "lowerBound": 0.8501006574670285,
               "methodology": "POISSON_BOOTSTRAP",
               "upperBound": 0.877701261516431,
               "value": 0.8639009594917297
              },
              "boundedRecall": {
               "lowerBound": 0.6459849122843083,
               "methodology": "POISSON_BOOTSTRAP",
               "upperBound": 0.6765603777089778,
               "value": 0.6612726449966431
              },
              "boundedTrueNegatives": {
               "lowerBound": 26901.531362810725,
               "methodology": "POISSON_BOOTSTRAP",
               "upperBound": 27467.167855939275,
               "value": 27184.349609375
              },
              "boundedTruePositives": {
               "lowerBound": 1837.001498940069,
               "methodology": "POISSON_BOOTSTRAP",
               "upperBound": 1971.698452231806,
               "value": 1904.3499755859375
              },
              "falseNegatives": 986.0,
              "falsePositives": 304.0,
              "precision": 0.8627539277076721,
              "recall": 0.6596478819847107,
              "tDistributionFalseNegatives": {
               "sampleDegreesOfFreedom": "19",
               "sampleMean": 975.5499877929688,
               "sampleStandardDeviation": 27.294641494750977,
               "unsampledValue": 986.0
              },
              "tDistributionFalsePositives": {
               "sampleDegreesOfFreedom": "19",
               "sampleMean": 300.04998779296875,
               "sampleStandardDeviation": 16.021284103393555,
               "unsampledValue": 304.0
              },
              "tDistributionPrecision": {
               "sampleDegreesOfFreedom": "19",
               "sampleMean": 0.8639009594917297,
               "sampleStandardDeviation": 0.006593475118279457,
               "unsampledValue": 0.8627539277076721
              },
              "tDistributionRecall": {
               "sampleDegreesOfFreedom": "19",
               "sampleMean": 0.6612726449966431,
               "sampleStandardDeviation": 0.007304136175662279,
               "unsampledValue": 0.6596478819847107
              },
              "tDistributionTrueNegatives": {
               "sampleDegreesOfFreedom": "19",
               "sampleMean": 27184.349609375,
               "sampleStandardDeviation": 135.1242218017578,
               "unsampledValue": 27136.0
              },
              "tDistributionTruePositives": {
               "sampleDegreesOfFreedom": "19",
               "sampleMean": 1904.3499755859375,
               "sampleStandardDeviation": 32.17759323120117,
               "unsampledValue": 1911.0
              },
              "threshold": 0.5,
              "trueNegatives": 27136.0,
              "truePositives": 1911.0
             }
            ]
           }
          },
          "post_export_metrics/prediction/false_discovery_rate@0.50": {
           "boundedValue": {
            "lowerBound": 0.12229883791849597,
            "methodology": "POISSON_BOOTSTRAP",
            "upperBound": 0.14989945171430127,
            "value": 0.1372460424900055
           }
          },
          "post_export_metrics/prediction/false_negative_rate@0.50": {
           "boundedValue": {
            "lowerBound": 0.32343965891582654,
            "methodology": "POISSON_BOOTSTRAP",
            "upperBound": 0.3540151106955321,
            "value": 0.3403520882129669
           }
          },
          "post_export_metrics/prediction/false_omission_rate@0.50": {
           "boundedValue": {
            "lowerBound": 0.032633077452555906,
            "methodology": "POISSON_BOOTSTRAP",
            "upperBound": 0.0366536713143432,
            "value": 0.035061515867710114
           }
          },
          "post_export_metrics/prediction/false_positive_rate@0.50": {
           "boundedValue": {
            "lowerBound": 0.009686975381400852,
            "methodology": "POISSON_BOOTSTRAP",
            "upperBound": 0.012147966199490757,
            "value": 0.011078717187047005
           }
          },
          "post_export_metrics/prediction/negative_rate@0.50": {
           "boundedValue": {
            "lowerBound": 0.9250286313054854,
            "methodology": "POISSON_BOOTSTRAP",
            "upperBound": 0.929774454021663,
            "value": 0.9269868731498718
           }
          },
          "post_export_metrics/prediction/positive_rate@0.50": {
           "boundedValue": {
            "lowerBound": 0.07022561561094152,
            "methodology": "POISSON_BOOTSTRAP",
            "upperBound": 0.07497144807352198,
            "value": 0.07301314920186996
           }
          },
          "post_export_metrics/prediction/true_negative_rate@0.50": {
           "boundedValue": {
            "lowerBound": 0.9878520217799511,
            "methodology": "POISSON_BOOTSTRAP",
            "upperBound": 0.99031300869948,
            "value": 0.9889212846755981
           }
          },
          "post_export_metrics/prediction/true_positive_rate@0.50": {
           "boundedValue": {
            "lowerBound": 0.6459849122843083,
            "methodology": "POISSON_BOOTSTRAP",
            "upperBound": 0.6765603777089778,
            "value": 0.6596478819847107
           }
          }
         },
         "slice": "race:No",
         "sliceValue": "No"
        },
        {
         "metrics": {
          "post_export_metrics/example_count": {
           "doubleValue": 31466.0
          },
          "post_export_metrics/prediction/fairness/confusion_matrix_at_thresholds": {
           "confusionMatrixAtThresholds": {
            "matrices": [
             {
              "boundedFalseNegatives": {
               "lowerBound": 966.9260977908637,
               "methodology": "POISSON_BOOTSTRAP",
               "upperBound": 1061.2738533810113,
               "value": 1014.0999755859375
              },
              "boundedFalsePositives": {
               "lowerBound": 256.8406335667376,
               "methodology": "POISSON_BOOTSTRAP",
               "upperBound": 331.2593420191999,
               "value": 294.04998779296875
              },
              "boundedPrecision": {
               "lowerBound": 0.8484661093767892,
               "methodology": "POISSON_BOOTSTRAP",
               "upperBound": 0.8826351651135672,
               "value": 0.8655506372451782
              },
              "boundedRecall": {
               "lowerBound": 0.6384125234926299,
               "methodology": "POISSON_BOOTSTRAP",
               "upperBound": 0.6639686343824311,
               "value": 0.6511905789375305
              },
              "boundedTrueNegatives": {
               "lowerBound": 27917.847708376154,
               "methodology": "POISSON_BOOTSTRAP",
               "upperBound": 28611.851510373846,
               "value": 28264.849609375
              },
              "boundedTruePositives": {
               "lowerBound": 1797.6517158122522,
               "methodology": "POISSON_BOOTSTRAP",
               "upperBound": 1989.3482841877478,
               "value": 1893.5
              },
              "falseNegatives": 1017.0,
              "falsePositives": 300.0,
              "precision": 0.8628258109092712,
              "recall": 0.6497933864593506,
              "tDistributionFalseNegatives": {
               "sampleDegreesOfFreedom": "19",
               "sampleMean": 1014.0999755859375,
               "sampleStandardDeviation": 22.53862190246582,
               "unsampledValue": 1017.0
              },
              "tDistributionFalsePositives": {
               "sampleDegreesOfFreedom": "19",
               "sampleMean": 294.04998779296875,
               "sampleStandardDeviation": 17.777795791625977,
               "unsampledValue": 300.0
              },
              "tDistributionPrecision": {
               "sampleDegreesOfFreedom": "19",
               "sampleMean": 0.8655506372451782,
               "sampleStandardDeviation": 0.0081626046448946,
               "unsampledValue": 0.8628258109092712
              },
              "tDistributionRecall": {
               "sampleDegreesOfFreedom": "19",
               "sampleMean": 0.6511905789375305,
               "sampleStandardDeviation": 0.006105068605393171,
               "unsampledValue": 0.6497933864593506
              },
              "tDistributionTrueNegatives": {
               "sampleDegreesOfFreedom": "19",
               "sampleMean": 28264.849609375,
               "sampleStandardDeviation": 165.78973388671875,
               "unsampledValue": 28262.0
              },
              "tDistributionTruePositives": {
               "sampleDegreesOfFreedom": "19",
               "sampleMean": 1893.5,
               "sampleStandardDeviation": 45.79416275024414,
               "unsampledValue": 1887.0
              },
              "threshold": 0.5,
              "trueNegatives": 28262.0,
              "truePositives": 1887.0
             }
            ]
           }
          },
          "post_export_metrics/prediction/false_discovery_rate@0.50": {
           "boundedValue": {
            "lowerBound": 0.1173649347328859,
            "methodology": "POISSON_BOOTSTRAP",
            "upperBound": 0.1515339397883696,
            "value": 0.13717420399188995
           }
          },
          "post_export_metrics/prediction/false_negative_rate@0.50": {
           "boundedValue": {
            "lowerBound": 0.3360313880342952,
            "methodology": "POISSON_BOOTSTRAP",
            "upperBound": 0.36158745409064375,
            "value": 0.3502066135406494
           }
          },
          "post_export_metrics/prediction/false_omission_rate@0.50": {
           "boundedValue": {
            "lowerBound": 0.03292434894486429,
            "methodology": "POISSON_BOOTSTRAP",
            "upperBound": 0.0363503298814678,
            "value": 0.03473479300737381
           }
          },
          "post_export_metrics/prediction/false_positive_rate@0.50": {
           "boundedValue": {
            "lowerBound": 0.0089736255061908,
            "methodology": "POISSON_BOOTSTRAP",
            "upperBound": 0.011620215122671581,
            "value": 0.010503466241061687
           }
          },
          "post_export_metrics/prediction/negative_rate@0.50": {
           "boundedValue": {
            "lowerBound": 0.9274496775918636,
            "methodology": "POISSON_BOOTSTRAP",
            "upperBound": 0.9335081833547917,
            "value": 0.9304963946342468
           }
          },
          "post_export_metrics/prediction/positive_rate@0.50": {
           "boundedValue": {
            "lowerBound": 0.06649172281446296,
            "methodology": "POISSON_BOOTSTRAP",
            "upperBound": 0.07255020762262505,
            "value": 0.06950359046459198
           }
          },
          "post_export_metrics/prediction/true_negative_rate@0.50": {
           "boundedValue": {
            "lowerBound": 0.9883797714543737,
            "methodology": "POISSON_BOOTSTRAP",
            "upperBound": 0.9910263469385706,
            "value": 0.9894965291023254
           }
          },
          "post_export_metrics/prediction/true_positive_rate@0.50": {
           "boundedValue": {
            "lowerBound": 0.6384125234926299,
            "methodology": "POISSON_BOOTSTRAP",
            "upperBound": 0.6639686343824311,
            "value": 0.6497933864593506
           }
          }
         },
         "slice": "sexuality:No",
         "sliceValue": "No"
        },
        {
         "metrics": {
          "post_export_metrics/example_count": {
           "doubleValue": 30121.0
          },
          "post_export_metrics/prediction/fairness/confusion_matrix_at_thresholds": {
           "confusionMatrixAtThresholds": {
            "matrices": [
             {
              "boundedFalseNegatives": {
               "lowerBound": 924.7564777800361,
               "methodology": "POISSON_BOOTSTRAP",
               "upperBound": 1051.3434978059013,
               "value": 988.0499877929688
              },
              "boundedFalsePositives": {
               "lowerBound": 262.0957780204384,
               "methodology": "POISSON_BOOTSTRAP",
               "upperBound": 341.5041975654991,
               "value": 301.79998779296875
              },
              "boundedPrecision": {
               "lowerBound": 0.8483874120813844,
               "methodology": "POISSON_BOOTSTRAP",
               "upperBound": 0.8826510391133788,
               "value": 0.8655192255973816
              },
              "boundedRecall": {
               "lowerBound": 0.6422044862826278,
               "methodology": "POISSON_BOOTSTRAP",
               "upperBound": 0.6834464441220353,
               "value": 0.6628254652023315
              },
              "boundedTrueNegatives": {
               "lowerBound": 26569.695444852397,
               "methodology": "POISSON_BOOTSTRAP",
               "upperBound": 27218.906117647603,
               "value": 26894.30078125
              },
              "boundedTruePositives": {
               "lowerBound": 1838.4021701936363,
               "methodology": "POISSON_BOOTSTRAP",
               "upperBound": 2046.8978786344887,
               "value": 1942.6500244140625
              },
              "falseNegatives": 989.0,
              "falsePositives": 301.0,
              "precision": 0.8652641177177429,
              "recall": 0.6615331768989563,
              "tDistributionFalseNegatives": {
               "sampleDegreesOfFreedom": "19",
               "sampleMean": 988.0499877929688,
               "sampleStandardDeviation": 30.24022102355957,
               "unsampledValue": 989.0
              },
              "tDistributionFalsePositives": {
               "sampleDegreesOfFreedom": "19",
               "sampleMean": 301.79998779296875,
               "sampleStandardDeviation": 18.96978187561035,
               "unsampledValue": 301.0
              },
              "tDistributionPrecision": {
               "sampleDegreesOfFreedom": "19",
               "sampleMean": 0.8655192255973816,
               "sampleStandardDeviation": 0.008185196667909622,
               "unsampledValue": 0.8652641177177429
              },
              "tDistributionRecall": {
               "sampleDegreesOfFreedom": "19",
               "sampleMean": 0.6628254652023315,
               "sampleStandardDeviation": 0.009852241724729538,
               "unsampledValue": 0.6615331768989563
              },
              "tDistributionTrueNegatives": {
               "sampleDegreesOfFreedom": "19",
               "sampleMean": 26894.30078125,
               "sampleStandardDeviation": 155.0891571044922,
               "unsampledValue": 26898.0
              },
              "tDistributionTruePositives": {
               "sampleDegreesOfFreedom": "19",
               "sampleMean": 1942.6500244140625,
               "sampleStandardDeviation": 49.807289123535156,
               "unsampledValue": 1933.0
              },
              "threshold": 0.5,
              "trueNegatives": 26898.0,
              "truePositives": 1933.0
             }
            ]
           }
          },
          "post_export_metrics/prediction/false_discovery_rate@0.50": {
           "boundedValue": {
            "lowerBound": 0.11734893888142102,
            "methodology": "POISSON_BOOTSTRAP",
            "upperBound": 0.151612550319171,
            "value": 0.13473589718341827
           }
          },
          "post_export_metrics/prediction/false_negative_rate@0.50": {
           "boundedValue": {
            "lowerBound": 0.316553599325251,
            "methodology": "POISSON_BOOTSTRAP",
            "upperBound": 0.3577955298747307,
            "value": 0.3384667932987213
           }
          },
          "post_export_metrics/prediction/false_omission_rate@0.50": {
           "boundedValue": {
            "lowerBound": 0.03324443966377262,
            "methodology": "POISSON_BOOTSTRAP",
            "upperBound": 0.03762727856409069,
            "value": 0.03546455502510071
           }
          },
          "post_export_metrics/prediction/false_positive_rate@0.50": {
           "boundedValue": {
            "lowerBound": 0.009635956259565481,
            "methodology": "POISSON_BOOTSTRAP",
            "upperBound": 0.012558712391061655,
            "value": 0.01106658298522234
           }
          },
          "post_export_metrics/prediction/negative_rate@0.50": {
           "boundedValue": {
            "lowerBound": 0.9221452023472874,
            "methodology": "POISSON_BOOTSTRAP",
            "upperBound": 0.9288567755732449,
            "value": 0.9258324503898621
           }
          },
          "post_export_metrics/prediction/positive_rate@0.50": {
           "boundedValue": {
            "lowerBound": 0.07114315308853003,
            "methodology": "POISSON_BOOTSTRAP",
            "upperBound": 0.0778547199793258,
            "value": 0.07416752725839615
           }
          },
          "post_export_metrics/prediction/true_negative_rate@0.50": {
           "boundedValue": {
            "lowerBound": 0.9874413243366242,
            "methodology": "POISSON_BOOTSTRAP",
            "upperBound": 0.9903640517162322,
            "value": 0.9889334440231323
           }
          },
          "post_export_metrics/prediction/true_positive_rate@0.50": {
           "boundedValue": {
            "lowerBound": 0.6422044862826278,
            "methodology": "POISSON_BOOTSTRAP",
            "upperBound": 0.6834464441220353,
            "value": 0.6615331768989563
           }
          }
         },
         "slice": "gender identity:No",
         "sliceValue": "No"
        },
        {
         "metrics": {
          "post_export_metrics/example_count": {
           "doubleValue": 1745.0
          },
          "post_export_metrics/prediction/fairness/confusion_matrix_at_thresholds": {
           "confusionMatrixAtThresholds": {
            "matrices": [
             {
              "boundedFalseNegatives": {
               "lowerBound": 48.21887051875138,
               "methodology": "POISSON_BOOTSTRAP",
               "upperBound": 71.58113253300644,
               "value": 59.900001525878906
              },
              "boundedFalsePositives": {
               "lowerBound": 8.09081224209844,
               "methodology": "POISSON_BOOTSTRAP",
               "upperBound": 22.609188520841013,
               "value": 15.350000381469727
              },
              "boundedPrecision": {
               "lowerBound": 0.7137788148016647,
               "methodology": "POISSON_BOOTSTRAP",
               "upperBound": 0.8907579569726273,
               "value": 0.802268385887146
              },
              "boundedRecall": {
               "lowerBound": 0.41875937956626264,
               "methodology": "POISSON_BOOTSTRAP",
               "upperBound": 0.6007020137900606,
               "value": 0.5097306966781616
              },
              "boundedTrueNegatives": {
               "lowerBound": 1528.6332882358145,
               "methodology": "POISSON_BOOTSTRAP",
               "upperBound": 1677.1667605923105,
               "value": 1602.9000244140625
              },
              "boundedTruePositives": {
               "lowerBound": 44.86088426329712,
               "methodology": "POISSON_BOOTSTRAP",
               "upperBound": 80.33911268494506,
               "value": 62.599998474121094
              },
              "falseNegatives": 62.0,
              "falsePositives": 15.0,
              "precision": 0.8101266026496887,
              "recall": 0.5079365372657776,
              "tDistributionFalseNegatives": {
               "sampleDegreesOfFreedom": "19",
               "sampleMean": 59.900001525878906,
               "sampleStandardDeviation": 5.580982685089111,
               "unsampledValue": 62.0
              },
              "tDistributionFalsePositives": {
               "sampleDegreesOfFreedom": "19",
               "sampleMean": 15.350000381469727,
               "sampleStandardDeviation": 3.4682774543762207,
               "unsampledValue": 15.0
              },
              "tDistributionPrecision": {
               "sampleDegreesOfFreedom": "19",
               "sampleMean": 0.802268385887146,
               "sampleStandardDeviation": 0.04227833449840546,
               "unsampledValue": 0.8101266026496887
              },
              "tDistributionRecall": {
               "sampleDegreesOfFreedom": "19",
               "sampleMean": 0.5097306966781616,
               "sampleStandardDeviation": 0.0434640571475029,
               "unsampledValue": 0.5079365372657776
              },
              "tDistributionTrueNegatives": {
               "sampleDegreesOfFreedom": "19",
               "sampleMean": 1602.9000244140625,
               "sampleStandardDeviation": 35.48298263549805,
               "unsampledValue": 1604.0
              },
              "tDistributionTruePositives": {
               "sampleDegreesOfFreedom": "19",
               "sampleMean": 62.599998474121094,
               "sampleStandardDeviation": 8.475351333618164,
               "unsampledValue": 64.0
              },
              "threshold": 0.5,
              "trueNegatives": 1604.0,
              "truePositives": 64.0
             }
            ]
           }
          },
          "post_export_metrics/prediction/false_discovery_rate@0.50": {
           "boundedValue": {
            "lowerBound": 0.10924202743312827,
            "methodology": "POISSON_BOOTSTRAP",
            "upperBound": 0.28622120079257973,
            "value": 0.18987341225147247
           }
          },
          "post_export_metrics/prediction/false_negative_rate@0.50": {
           "boundedValue": {
            "lowerBound": 0.39929794861049484,
            "methodology": "POISSON_BOOTSTRAP",
            "upperBound": 0.5812405984285371,
            "value": 0.4920634925365448
           }
          },
          "post_export_metrics/prediction/false_omission_rate@0.50": {
           "boundedValue": {
            "lowerBound": 0.029195741245100167,
            "methodology": "POISSON_BOOTSTRAP",
            "upperBound": 0.04285626815860543,
            "value": 0.03721488639712334
           }
          },
          "post_export_metrics/prediction/false_positive_rate@0.50": {
           "boundedValue": {
            "lowerBound": 0.00497737990439253,
            "methodology": "POISSON_BOOTSTRAP",
            "upperBound": 0.0140003627377717,
            "value": 0.00926497858017683
           }
          },
          "post_export_metrics/prediction/negative_rate@0.50": {
           "boundedValue": {
            "lowerBound": 0.9445419064795002,
            "methodology": "POISSON_BOOTSTRAP",
            "upperBound": 0.9659044989312664,
            "value": 0.9547277688980103
           }
          },
          "post_export_metrics/prediction/positive_rate@0.50": {
           "boundedValue": {
            "lowerBound": 0.034095502953029606,
            "methodology": "POISSON_BOOTSTRAP",
            "upperBound": 0.055458136339687374,
            "value": 0.04527220502495766
           }
          },
          "post_export_metrics/prediction/true_negative_rate@0.50": {
           "boundedValue": {
            "lowerBound": 0.9859996206392004,
            "methodology": "POISSON_BOOTSTRAP",
            "upperBound": 0.9950226180921838,
            "value": 0.9907349944114685
           }
          },
          "post_export_metrics/prediction/true_positive_rate@0.50": {
           "boundedValue": {
            "lowerBound": 0.41875937956626264,
            "methodology": "POISSON_BOOTSTRAP",
            "upperBound": 0.6007020137900606,
            "value": 0.5079365372657776
           }
          }
         },
         "slice": "gender identity:Yes",
         "sliceValue": "Yes"
        },
        {
         "metrics": {
          "post_export_metrics/example_count": {
           "doubleValue": 1529.0
          },
          "post_export_metrics/prediction/fairness/confusion_matrix_at_thresholds": {
           "confusionMatrixAtThresholds": {
            "matrices": [
             {
              "boundedFalseNegatives": {
               "lowerBound": 49.89249414129682,
               "methodology": "POISSON_BOOTSTRAP",
               "upperBound": 78.80750280694537,
               "value": 64.3499984741211
              },
              "boundedFalsePositives": {
               "lowerBound": 4.745730616635672,
               "methodology": "POISSON_BOOTSTRAP",
               "upperBound": 17.1542690018946,
               "value": 10.949999809265137
              },
              "boundedPrecision": {
               "lowerBound": 0.8292566443267118,
               "methodology": "POISSON_BOOTSTRAP",
               "upperBound": 0.9419610594925631,
               "value": 0.8856088519096375
              },
              "boundedRecall": {
               "lowerBound": 0.4863093770621113,
               "methodology": "POISSON_BOOTSTRAP",
               "upperBound": 0.6490129553200908,
               "value": 0.5676611661911011
              },
              "boundedTrueNegatives": {
               "lowerBound": 1315.9509978977342,
               "methodology": "POISSON_BOOTSTRAP",
               "upperBound": 1424.3490509303908,
               "value": 1370.1500244140625
              },
              "boundedTruePositives": {
               "lowerBound": 63.63688445951291,
               "methodology": "POISSON_BOOTSTRAP",
               "upperBound": 105.76310943697146,
               "value": 84.69999694824219
              },
              "falseNegatives": 65.0,
              "falsePositives": 12.0,
              "precision": 0.8775510191917419,
              "recall": 0.5695364475250244,
              "tDistributionFalseNegatives": {
               "sampleDegreesOfFreedom": "19",
               "sampleMean": 64.3499984741211,
               "sampleStandardDeviation": 6.907471656799316,
               "unsampledValue": 65.0
              },
              "tDistributionFalsePositives": {
               "sampleDegreesOfFreedom": "19",
               "sampleMean": 10.949999809265137,
               "sampleStandardDeviation": 2.9642608165740967,
               "unsampledValue": 12.0
              },
              "tDistributionPrecision": {
               "sampleDegreesOfFreedom": "19",
               "sampleMean": 0.8856088519096375,
               "sampleStandardDeviation": 0.02692382223904133,
               "unsampledValue": 0.8775510191917419
              },
              "tDistributionRecall": {
               "sampleDegreesOfFreedom": "19",
               "sampleMean": 0.5676611661911011,
               "sampleStandardDeviation": 0.03886806219816208,
               "unsampledValue": 0.5695364475250244
              },
              "tDistributionTrueNegatives": {
               "sampleDegreesOfFreedom": "19",
               "sampleMean": 1370.1500244140625,
               "sampleStandardDeviation": 25.89508056640625,
               "unsampledValue": 1366.0
              },
              "tDistributionTruePositives": {
               "sampleDegreesOfFreedom": "19",
               "sampleMean": 84.69999694824219,
               "sampleStandardDeviation": 10.063483238220215,
               "unsampledValue": 86.0
              },
              "threshold": 0.5,
              "trueNegatives": 1366.0,
              "truePositives": 86.0
             }
            ]
           }
          },
          "post_export_metrics/prediction/false_discovery_rate@0.50": {
           "boundedValue": {
            "lowerBound": 0.05803889545741172,
            "methodology": "POISSON_BOOTSTRAP",
            "upperBound": 0.1707433262175074,
            "value": 0.12244898080825806
           }
          },
          "post_export_metrics/prediction/false_negative_rate@0.50": {
           "boundedValue": {
            "lowerBound": 0.3509870666851094,
            "methodology": "POISSON_BOOTSTRAP",
            "upperBound": 0.5136906605373333,
            "value": 0.430463582277298
           }
          },
          "post_export_metrics/prediction/false_omission_rate@0.50": {
           "boundedValue": {
            "lowerBound": 0.03563696975734417,
            "methodology": "POISSON_BOOTSTRAP",
            "upperBound": 0.054018504070971564,
            "value": 0.04542278125882149
           }
          },
          "post_export_metrics/prediction/false_positive_rate@0.50": {
           "boundedValue": {
            "lowerBound": 0.0034154626446914584,
            "methodology": "POISSON_BOOTSTRAP",
            "upperBound": 0.01245625215590478,
            "value": 0.008708273060619831
           }
          },
          "post_export_metrics/prediction/negative_rate@0.50": {
           "boundedValue": {
            "lowerBound": 0.9237292915272832,
            "methodology": "POISSON_BOOTSTRAP",
            "upperBound": 0.9513431877207637,
            "value": 0.9359058141708374
           }
          },
          "post_export_metrics/prediction/positive_rate@0.50": {
           "boundedValue": {
            "lowerBound": 0.04865686053473945,
            "methodology": "POISSON_BOOTSTRAP",
            "upperBound": 0.07627076452534204,
            "value": 0.064094178378582
           }
          },
          "post_export_metrics/prediction/true_negative_rate@0.50": {
           "boundedValue": {
            "lowerBound": 0.9875437280155895,
            "methodology": "POISSON_BOOTSTRAP",
            "upperBound": 0.9965845087550403,
            "value": 0.9912917017936707
           }
          },
          "post_export_metrics/prediction/true_positive_rate@0.50": {
           "boundedValue": {
            "lowerBound": 0.4863093770621113,
            "methodology": "POISSON_BOOTSTRAP",
            "upperBound": 0.6490129553200908,
            "value": 0.5695364475250244
           }
          }
         },
         "slice": "race:Yes",
         "sliceValue": "Yes"
        },
        {
         "metrics": {
          "post_export_metrics/example_count": {
           "doubleValue": 641.0
          },
          "post_export_metrics/prediction/fairness/confusion_matrix_at_thresholds": {
           "confusionMatrixAtThresholds": {
            "matrices": [
             {
              "boundedFalseNegatives": {
               "lowerBound": 14.075316030519048,
               "methodology": "POISSON_BOOTSTRAP",
               "upperBound": 29.82468549535986,
               "value": 21.950000762939453
              },
              "boundedFalsePositives": {
               "lowerBound": 1.2391144370949383,
               "methodology": "POISSON_BOOTSTRAP",
               "upperBound": 8.460885372170198,
               "value": 4.849999904632568
              },
              "boundedPrecision": {
               "lowerBound": 0.7593524027415852,
               "methodology": "POISSON_BOOTSTRAP",
               "upperBound": 0.9513224791935344,
               "value": 0.8553374409675598
              },
              "boundedRecall": {
               "lowerBound": 0.44934364667276094,
               "methodology": "POISSON_BOOTSTRAP",
               "upperBound": 0.6800823558296805,
               "value": 0.5647130012512207
              },
              "boundedTrueNegatives": {
               "lowerBound": 532.4931475303254,
               "methodology": "POISSON_BOOTSTRAP",
               "upperBound": 641.0068524696746,
               "value": 586.75
              },
              "boundedTruePositives": {
               "lowerBound": 17.610726713231923,
               "methodology": "POISSON_BOOTSTRAP",
               "upperBound": 39.68927252382862,
               "value": 28.649999618530273
              },
              "falseNegatives": 24.0,
              "falsePositives": 5.0,
              "precision": 0.8387096524238586,
              "recall": 0.5199999809265137,
              "tDistributionFalseNegatives": {
               "sampleDegreesOfFreedom": "19",
               "sampleMean": 21.950000762939453,
               "sampleStandardDeviation": 3.762347936630249,
               "unsampledValue": 24.0
              },
              "tDistributionFalsePositives": {
               "sampleDegreesOfFreedom": "19",
               "sampleMean": 4.849999904632568,
               "sampleStandardDeviation": 1.7252001762390137,
               "unsampledValue": 5.0
              },
              "tDistributionPrecision": {
               "sampleDegreesOfFreedom": "19",
               "sampleMean": 0.8553374409675598,
               "sampleStandardDeviation": 0.045859500765800476,
               "unsampledValue": 0.8387096524238586
              },
              "tDistributionRecall": {
               "sampleDegreesOfFreedom": "19",
               "sampleMean": 0.5647130012512207,
               "sampleStandardDeviation": 0.05512089282274246,
               "unsampledValue": 0.5199999809265137
              },
              "tDistributionTrueNegatives": {
               "sampleDegreesOfFreedom": "19",
               "sampleMean": 586.75,
               "sampleStandardDeviation": 25.92270851135254,
               "unsampledValue": 586.0
              },
              "tDistributionTruePositives": {
               "sampleDegreesOfFreedom": "19",
               "sampleMean": 28.649999618530273,
               "sampleStandardDeviation": 5.274317264556885,
               "unsampledValue": 26.0
              },
              "threshold": 0.5,
              "trueNegatives": 586.0,
              "truePositives": 26.0
             }
            ]
           }
          },
          "post_export_metrics/prediction/false_discovery_rate@0.50": {
           "boundedValue": {
            "lowerBound": 0.04867744560757645,
            "methodology": "POISSON_BOOTSTRAP",
            "upperBound": 0.24064755324801437,
            "value": 0.16129031777381897
           }
          },
          "post_export_metrics/prediction/false_negative_rate@0.50": {
           "boundedValue": {
            "lowerBound": 0.3199176881807199,
            "methodology": "POISSON_BOOTSTRAP",
            "upperBound": 0.5506564285261282,
            "value": 0.47999998927116394
           }
          },
          "post_export_metrics/prediction/false_omission_rate@0.50": {
           "boundedValue": {
            "lowerBound": 0.023104003781095037,
            "methodology": "POISSON_BOOTSTRAP",
            "upperBound": 0.049108051544413084,
            "value": 0.03934426233172417
           }
          },
          "post_export_metrics/prediction/false_positive_rate@0.50": {
           "boundedValue": {
            "lowerBound": 0.002538027130364341,
            "methodology": "POISSON_BOOTSTRAP",
            "upperBound": 0.013737315423489648,
            "value": 0.008460236713290215
           }
          },
          "post_export_metrics/prediction/negative_rate@0.50": {
           "boundedValue": {
            "lowerBound": 0.9312706794475631,
            "methodology": "POISSON_BOOTSTRAP",
            "upperBound": 0.9647082481647415,
            "value": 0.9516380429267883
           }
          },
          "post_export_metrics/prediction/positive_rate@0.50": {
           "boundedValue": {
            "lowerBound": 0.03529178588268356,
            "methodology": "POISSON_BOOTSTRAP",
            "upperBound": 0.06872933120849534,
            "value": 0.04836193472146988
           }
          },
          "post_export_metrics/prediction/true_negative_rate@0.50": {
           "boundedValue": {
            "lowerBound": 0.9862627789433143,
            "methodology": "POISSON_BOOTSTRAP",
            "upperBound": 0.9974620535914758,
            "value": 0.9915397763252258
           }
          },
          "post_export_metrics/prediction/true_positive_rate@0.50": {
           "boundedValue": {
            "lowerBound": 0.44934364667276094,
            "methodology": "POISSON_BOOTSTRAP",
            "upperBound": 0.6800823558296805,
            "value": 0.5199999809265137
           }
          }
         },
         "slice": "religion:Yes",
         "sliceValue": "Yes"
        },
        {
         "metrics": {
          "post_export_metrics/example_count": {
           "doubleValue": 400.0
          },
          "post_export_metrics/prediction/fairness/confusion_matrix_at_thresholds": {
           "confusionMatrixAtThresholds": {
            "matrices": [
             {
              "boundedFalseNegatives": {
               "lowerBound": 20.008784526344527,
               "methodology": "POISSON_BOOTSTRAP",
               "upperBound": 42.39121699953438,
               "value": 31.200000762939453
              },
              "boundedFalsePositives": {
               "lowerBound": 8.280768296869233,
               "methodology": "POISSON_BOOTSTRAP",
               "upperBound": 24.719231703130767,
               "value": 16.5
              },
              "boundedPrecision": {
               "lowerBound": 0.7995726760415696,
               "methodology": "POISSON_BOOTSTRAP",
               "upperBound": 0.9359766546697952,
               "value": 0.8677746653556824
              },
              "boundedRecall": {
               "lowerBound": 0.6844157028330223,
               "methodology": "POISSON_BOOTSTRAP",
               "upperBound": 0.8682465505467994,
               "value": 0.7763311266899109
              },
              "boundedTrueNegatives": {
               "lowerBound": 217.19605771465604,
               "methodology": "POISSON_BOOTSTRAP",
               "upperBound": 272.9039483888596,
               "value": 245.0500030517578
              },
              "boundedTruePositives": {
               "lowerBound": 85.96697831459798,
               "methodology": "POISSON_BOOTSTRAP",
               "upperBound": 132.13302778891764,
               "value": 109.05000305175781
              },
              "falseNegatives": 34.0,
              "falsePositives": 16.0,
              "precision": 0.8730158805847168,
              "recall": 0.7638888955116272,
              "tDistributionFalseNegatives": {
               "sampleDegreesOfFreedom": "19",
               "sampleMean": 31.200000762939453,
               "sampleStandardDeviation": 5.346912384033203,
               "unsampledValue": 34.0
              },
              "tDistributionFalsePositives": {
               "sampleDegreesOfFreedom": "19",
               "sampleMean": 16.5,
               "sampleStandardDeviation": 3.92696475982666,
               "unsampledValue": 16.0
              },
              "tDistributionPrecision": {
               "sampleDegreesOfFreedom": "19",
               "sampleMean": 0.8677746653556824,
               "sampleStandardDeviation": 0.03258538246154785,
               "unsampledValue": 0.8730158805847168
              },
              "tDistributionRecall": {
               "sampleDegreesOfFreedom": "19",
               "sampleMean": 0.7763311266899109,
               "sampleStandardDeviation": 0.04391513019800186,
               "unsampledValue": 0.7638888955116272
              },
              "tDistributionTrueNegatives": {
               "sampleDegreesOfFreedom": "19",
               "sampleMean": 245.0500030517578,
               "sampleStandardDeviation": 13.307991027832031,
               "unsampledValue": 240.0
              },
              "tDistributionTruePositives": {
               "sampleDegreesOfFreedom": "19",
               "sampleMean": 109.05000305175781,
               "sampleStandardDeviation": 11.028552055358887,
               "unsampledValue": 110.0
              },
              "threshold": 0.5,
              "trueNegatives": 240.0,
              "truePositives": 110.0
             }
            ]
           }
          },
          "post_export_metrics/prediction/false_discovery_rate@0.50": {
           "boundedValue": {
            "lowerBound": 0.06402333112212685,
            "methodology": "POISSON_BOOTSTRAP",
            "upperBound": 0.20042727856186363,
            "value": 0.1269841343164444
           }
          },
          "post_export_metrics/prediction/false_negative_rate@0.50": {
           "boundedValue": {
            "lowerBound": 0.1317534870526451,
            "methodology": "POISSON_BOOTSTRAP",
            "upperBound": 0.3155843191721779,
            "value": 0.2361111044883728
           }
          },
          "post_export_metrics/prediction/false_omission_rate@0.50": {
           "boundedValue": {
            "lowerBound": 0.07461470360366329,
            "methodology": "POISSON_BOOTSTRAP",
            "upperBound": 0.15117706363590733,
            "value": 0.12408759444952011
           }
          },
          "post_export_metrics/prediction/false_positive_rate@0.50": {
           "boundedValue": {
            "lowerBound": 0.03075622063600348,
            "methodology": "POISSON_BOOTSTRAP",
            "upperBound": 0.0957932021049328,
            "value": 0.0625
           }
          },
          "post_export_metrics/prediction/negative_rate@0.50": {
           "boundedValue": {
            "lowerBound": 0.6361248746983585,
            "methodology": "POISSON_BOOTSTRAP",
            "upperBound": 0.7387822612650814,
            "value": 0.6850000023841858
           }
          },
          "post_export_metrics/prediction/positive_rate@0.50": {
           "boundedValue": {
            "lowerBound": 0.26121769082595714,
            "methodology": "POISSON_BOOTSTRAP",
            "upperBound": 0.36387505400131337,
            "value": 0.3149999976158142
           }
          },
          "post_export_metrics/prediction/true_negative_rate@0.50": {
           "boundedValue": {
            "lowerBound": 0.9042068354945118,
            "methodology": "POISSON_BOOTSTRAP",
            "upperBound": 0.9692438013691967,
            "value": 0.9375
           }
          },
          "post_export_metrics/prediction/true_positive_rate@0.50": {
           "boundedValue": {
            "lowerBound": 0.6844157028330223,
            "methodology": "POISSON_BOOTSTRAP",
            "upperBound": 0.8682465505467994,
            "value": 0.7638888955116272
           }
          }
         },
         "slice": "sexuality:Yes",
         "sliceValue": "Yes"
        }
       ]
      }
     },
     "fc78484abeb545dbade02cb9ed21ff38": {
      "model_module": "tensorflow_model_analysis",
      "model_module_version": "0.38.0",
      "model_name": "FairnessIndicatorModel",
      "state": {
       "_dom_classes": [],
       "_model_module": "tensorflow_model_analysis",
       "_model_module_version": "0.38.0",
       "_model_name": "FairnessIndicatorModel",
       "_view_count": null,
       "_view_module": "tensorflow_model_analysis",
       "_view_module_version": "0.38.0",
       "_view_name": "FairnessIndicatorView",
       "evalName": "",
       "evalNameCompare": "",
       "js_events": [],
       "layout": "IPY_MODEL_10edd6da4ee1407ea8fbfed0d87768d6",
       "slicingMetrics": [
        {
         "metrics": {
          "post_export_metrics/example_count": {
           "doubleValue": 31225.0
          },
          "post_export_metrics/prediction/fairness/confusion_matrix_at_thresholds": {
           "confusionMatrixAtThresholds": {
            "matrices": [
             {
              "boundedFalseNegatives": {
               "lowerBound": 1022.9303699263597,
               "methodology": "POISSON_BOOTSTRAP",
               "upperBound": 1132.4695324173904,
               "value": 1077.699951171875
              },
              "boundedFalsePositives": {
               "lowerBound": 514.3090854063893,
               "methodology": "POISSON_BOOTSTRAP",
               "upperBound": 588.6909145936107,
               "value": 551.5
              },
              "boundedPrecision": {
               "lowerBound": 0.7602044572153027,
               "methodology": "POISSON_BOOTSTRAP",
               "upperBound": 0.790217019148833,
               "value": 0.7752107381820679
              },
              "boundedRecall": {
               "lowerBound": 0.6213713784585756,
               "methodology": "POISSON_BOOTSTRAP",
               "upperBound": 0.6552755932440001,
               "value": 0.6383234858512878
              },
              "boundedTrueNegatives": {
               "lowerBound": 27386.327850848535,
               "methodology": "POISSON_BOOTSTRAP",
               "upperBound": 27937.972930401465,
               "value": 27662.150390625
              },
              "boundedTruePositives": {
               "lowerBound": 1825.2555747173114,
               "methodology": "POISSON_BOOTSTRAP",
               "upperBound": 1979.0444741108136,
               "value": 1902.1500244140625
              },
              "falseNegatives": 1083.0,
              "falsePositives": 545.0,
              "precision": 0.7784552574157715,
              "recall": 0.638759195804596,
              "tDistributionFalseNegatives": {
               "sampleDegreesOfFreedom": "19",
               "sampleMean": 1077.699951171875,
               "sampleStandardDeviation": 26.167678833007812,
               "unsampledValue": 1083.0
              },
              "tDistributionFalsePositives": {
               "sampleDegreesOfFreedom": "19",
               "sampleMean": 551.5,
               "sampleStandardDeviation": 17.768985748291016,
               "unsampledValue": 545.0
              },
              "tDistributionPrecision": {
               "sampleDegreesOfFreedom": "19",
               "sampleMean": 0.7752107381820679,
               "sampleStandardDeviation": 0.007169664837419987,
               "unsampledValue": 0.7784552574157715
              },
              "tDistributionRecall": {
               "sampleDegreesOfFreedom": "19",
               "sampleMean": 0.6383234858512878,
               "sampleStandardDeviation": 0.008099337108433247,
               "unsampledValue": 0.638759195804596
              },
              "tDistributionTrueNegatives": {
               "sampleDegreesOfFreedom": "19",
               "sampleMean": 27662.150390625,
               "sampleStandardDeviation": 131.78182983398438,
               "unsampledValue": 27682.0
              },
              "tDistributionTruePositives": {
               "sampleDegreesOfFreedom": "19",
               "sampleMean": 1902.1500244140625,
               "sampleStandardDeviation": 36.73844528198242,
               "unsampledValue": 1915.0
              },
              "threshold": 0.5,
              "trueNegatives": 27682.0,
              "truePositives": 1915.0
             }
            ]
           }
          },
          "post_export_metrics/prediction/false_discovery_rate@0.50": {
           "boundedValue": {
            "lowerBound": 0.20978302360537002,
            "methodology": "POISSON_BOOTSTRAP",
            "upperBound": 0.2397955894374614,
            "value": 0.22154471278190613
           }
          },
          "post_export_metrics/prediction/false_negative_rate@0.50": {
           "boundedValue": {
            "lowerBound": 0.3447243989588777,
            "methodology": "POISSON_BOOTSTRAP",
            "upperBound": 0.37862862933854663,
            "value": 0.36124083399772644
           }
          },
          "post_export_metrics/prediction/false_omission_rate@0.50": {
           "boundedValue": {
            "lowerBound": 0.03564456859157145,
            "methodology": "POISSON_BOOTSTRAP",
            "upperBound": 0.0393520071215862,
            "value": 0.03764992207288742
           }
          },
          "post_export_metrics/prediction/false_positive_rate@0.50": {
           "boundedValue": {
            "lowerBound": 0.018238386636146308,
            "methodology": "POISSON_BOOTSTRAP",
            "upperBound": 0.02085626261912942,
            "value": 0.019307754933834076
           }
          },
          "post_export_metrics/prediction/negative_rate@0.50": {
           "boundedValue": {
            "lowerBound": 0.9189424922224076,
            "methodology": "POISSON_BOOTSTRAP",
            "upperBound": 0.9237391541246383,
            "value": 0.9212169647216797
           }
          },
          "post_export_metrics/prediction/positive_rate@0.50": {
           "boundedValue": {
            "lowerBound": 0.07626077404981658,
            "methodology": "POISSON_BOOTSTRAP",
            "upperBound": 0.08105743059152558,
            "value": 0.07878302782773972
           }
          },
          "post_export_metrics/prediction/true_negative_rate@0.50": {
           "boundedValue": {
            "lowerBound": 0.9791437138812177,
            "methodology": "POISSON_BOOTSTRAP",
            "upperBound": 0.9817615996106036,
            "value": 0.9806922674179077
           }
          },
          "post_export_metrics/prediction/true_positive_rate@0.50": {
           "boundedValue": {
            "lowerBound": 0.6213713784585756,
            "methodology": "POISSON_BOOTSTRAP",
            "upperBound": 0.6552755932440001,
            "value": 0.638759195804596
           }
          }
         },
         "slice": "religion:No",
         "sliceValue": "No"
        },
        {
         "metrics": {
          "post_export_metrics/example_count": {
           "doubleValue": 31866.0
          },
          "post_export_metrics/prediction/fairness/confusion_matrix_at_thresholds": {
           "confusionMatrixAtThresholds": {
            "matrices": [
             {
              "boundedFalseNegatives": {
               "lowerBound": 1012.8322521497846,
               "methodology": "POISSON_BOOTSTRAP",
               "upperBound": 1196.9677966783404,
               "value": 1104.9000244140625
              },
              "boundedFalsePositives": {
               "lowerBound": 510.9340131199558,
               "methodology": "POISSON_BOOTSTRAP",
               "upperBound": 604.7659380519192,
               "value": 557.8499755859375
              },
              "boundedPrecision": {
               "lowerBound": 0.76148602423298,
               "methodology": "POISSON_BOOTSTRAP",
               "upperBound": 0.7910890871561802,
               "value": 0.7762875556945801
              },
              "boundedRecall": {
               "lowerBound": 0.6152932830483997,
               "methodology": "POISSON_BOOTSTRAP",
               "upperBound": 0.6580350212423718,
               "value": 0.6366641521453857
              },
              "boundedTrueNegatives": {
               "lowerBound": 27945.982389902034,
               "methodology": "POISSON_BOOTSTRAP",
               "upperBound": 28600.916047597966,
               "value": 28273.44921875
              },
              "boundedTruePositives": {
               "lowerBound": 1836.4126722814042,
               "methodology": "POISSON_BOOTSTRAP",
               "upperBound": 2034.8873765467208,
               "value": 1935.6500244140625
              },
              "falseNegatives": 1108.0,
              "falsePositives": 557.0,
              "precision": 0.7769322991371155,
              "recall": 0.6364829540252686,
              "tDistributionFalseNegatives": {
               "sampleDegreesOfFreedom": "19",
               "sampleMean": 1104.9000244140625,
               "sampleStandardDeviation": 43.987918853759766,
               "unsampledValue": 1108.0
              },
              "tDistributionFalsePositives": {
               "sampleDegreesOfFreedom": "19",
               "sampleMean": 557.8499755859375,
               "sampleStandardDeviation": 22.415395736694336,
               "unsampledValue": 557.0
              },
              "tDistributionPrecision": {
               "sampleDegreesOfFreedom": "19",
               "sampleMean": 0.7762875556945801,
               "sampleStandardDeviation": 0.007071840111166239,
               "unsampledValue": 0.7769322991371155
              },
              "tDistributionRecall": {
               "sampleDegreesOfFreedom": "19",
               "sampleMean": 0.6366641521453857,
               "sampleStandardDeviation": 0.010210522450506687,
               "unsampledValue": 0.6364829540252686
              },
              "tDistributionTrueNegatives": {
               "sampleDegreesOfFreedom": "19",
               "sampleMean": 28273.44921875,
               "sampleStandardDeviation": 156.45631408691406,
               "unsampledValue": 28261.0
              },
              "tDistributionTruePositives": {
               "sampleDegreesOfFreedom": "19",
               "sampleMean": 1935.6500244140625,
               "sampleStandardDeviation": 47.41338348388672,
               "unsampledValue": 1940.0
              },
              "threshold": 0.5,
              "trueNegatives": 28261.0,
              "truePositives": 1940.0
             }
            ]
           }
          },
          "post_export_metrics/prediction/false_discovery_rate@0.50": {
           "boundedValue": {
            "lowerBound": 0.20891093095045887,
            "methodology": "POISSON_BOOTSTRAP",
            "upperBound": 0.23851401726502575,
            "value": 0.22306768596172333
           }
          },
          "post_export_metrics/prediction/false_negative_rate@0.50": {
           "boundedValue": {
            "lowerBound": 0.3419650222049144,
            "methodology": "POISSON_BOOTSTRAP",
            "upperBound": 0.38470673310895886,
            "value": 0.36351704597473145
           }
          },
          "post_export_metrics/prediction/false_omission_rate@0.50": {
           "boundedValue": {
            "lowerBound": 0.03461039334773495,
            "methodology": "POISSON_BOOTSTRAP",
            "upperBound": 0.04060478240013645,
            "value": 0.03772685304284096
           }
          },
          "post_export_metrics/prediction/false_positive_rate@0.50": {
           "boundedValue": {
            "lowerBound": 0.01771537893991863,
            "methodology": "POISSON_BOOTSTRAP",
            "upperBound": 0.020982836097665675,
            "value": 0.019328197464346886
           }
          },
          "post_export_metrics/prediction/negative_rate@0.50": {
           "boundedValue": {
            "lowerBound": 0.918338442548324,
            "methodology": "POISSON_BOOTSTRAP",
            "upperBound": 0.9251956694282996,
            "value": 0.9216406345367432
           }
          },
          "post_export_metrics/prediction/positive_rate@0.50": {
           "boundedValue": {
            "lowerBound": 0.07480425616877605,
            "methodology": "POISSON_BOOTSTRAP",
            "upperBound": 0.08166146794182728,
            "value": 0.07835938036441803
           }
          },
          "post_export_metrics/prediction/true_negative_rate@0.50": {
           "boundedValue": {
            "lowerBound": 0.9790171752866706,
            "methodology": "POISSON_BOOTSTRAP",
            "upperBound": 0.9822846283021965,
            "value": 0.9806718230247498
           }
          },
          "post_export_metrics/prediction/true_positive_rate@0.50": {
           "boundedValue": {
            "lowerBound": 0.6152932830483997,
            "methodology": "POISSON_BOOTSTRAP",
            "upperBound": 0.6580350212423718,
            "value": 0.6364829540252686
           }
          }
         },
         "slice": "Overall",
         "sliceValue": "Overall"
        },
        {
         "metrics": {
          "post_export_metrics/example_count": {
           "doubleValue": 30337.0
          },
          "post_export_metrics/prediction/fairness/confusion_matrix_at_thresholds": {
           "confusionMatrixAtThresholds": {
            "matrices": [
             {
              "boundedFalseNegatives": {
               "lowerBound": 981.2124786003511,
               "methodology": "POISSON_BOOTSTRAP",
               "upperBound": 1090.687423743399,
               "value": 1035.949951171875
              },
              "boundedFalsePositives": {
               "lowerBound": 485.32396374082316,
               "methodology": "POISSON_BOOTSTRAP",
               "upperBound": 585.0760606732393,
               "value": 535.2000122070312
              },
              "boundedPrecision": {
               "lowerBound": 0.7567498426655683,
               "methodology": "POISSON_BOOTSTRAP",
               "upperBound": 0.7966959733744707,
               "value": 0.7767229080200195
              },
              "boundedRecall": {
               "lowerBound": 0.6278656490036403,
               "methodology": "POISSON_BOOTSTRAP",
               "upperBound": 0.6571462385467137,
               "value": 0.642505943775177
              },
              "boundedTrueNegatives": {
               "lowerBound": 26725.823096369168,
               "methodology": "POISSON_BOOTSTRAP",
               "upperBound": 27186.977684880832,
               "value": 26956.400390625
              },
              "boundedTruePositives": {
               "lowerBound": 1772.7033783618353,
               "methodology": "POISSON_BOOTSTRAP",
               "upperBound": 1951.2966216381647,
               "value": 1862.0
              },
              "falseNegatives": 1037.0,
              "falsePositives": 534.0,
              "precision": 0.7769423723220825,
              "recall": 0.6420434713363647,
              "tDistributionFalseNegatives": {
               "sampleDegreesOfFreedom": "19",
               "sampleMean": 1035.949951171875,
               "sampleStandardDeviation": 26.1523380279541,
               "unsampledValue": 1037.0
              },
              "tDistributionFalsePositives": {
               "sampleDegreesOfFreedom": "19",
               "sampleMean": 535.2000122070312,
               "sampleStandardDeviation": 23.82965850830078,
               "unsampledValue": 534.0
              },
              "tDistributionPrecision": {
               "sampleDegreesOfFreedom": "19",
               "sampleMean": 0.7767229080200195,
               "sampleStandardDeviation": 0.009542683139443398,
               "unsampledValue": 0.7769423723220825
              },
              "tDistributionRecall": {
               "sampleDegreesOfFreedom": "19",
               "sampleMean": 0.642505943775177,
               "sampleStandardDeviation": 0.006994804833084345,
               "unsampledValue": 0.6420434713363647
              },
              "tDistributionTrueNegatives": {
               "sampleDegreesOfFreedom": "19",
               "sampleMean": 26956.400390625,
               "sampleStandardDeviation": 110.16466522216797,
               "unsampledValue": 26906.0
              },
              "tDistributionTruePositives": {
               "sampleDegreesOfFreedom": "19",
               "sampleMean": 1862.0,
               "sampleStandardDeviation": 42.66392517089844,
               "unsampledValue": 1860.0
              },
              "threshold": 0.5,
              "trueNegatives": 26906.0,
              "truePositives": 1860.0
             }
            ]
           }
          },
          "post_export_metrics/prediction/false_discovery_rate@0.50": {
           "boundedValue": {
            "lowerBound": 0.20330401882840707,
            "methodology": "POISSON_BOOTSTRAP",
            "upperBound": 0.24325016513155387,
            "value": 0.22305764257907867
           }
          },
          "post_export_metrics/prediction/false_negative_rate@0.50": {
           "boundedValue": {
            "lowerBound": 0.3428538405507366,
            "methodology": "POISSON_BOOTSTRAP",
            "upperBound": 0.37213439110819896,
            "value": 0.35795649886131287
           }
          },
          "post_export_metrics/prediction/false_omission_rate@0.50": {
           "boundedValue": {
            "lowerBound": 0.03523928917067625,
            "methodology": "POISSON_BOOTSTRAP",
            "upperBound": 0.03877401851994417,
            "value": 0.03711126372218132
           }
          },
          "post_export_metrics/prediction/false_positive_rate@0.50": {
           "boundedValue": {
            "lowerBound": 0.017703829616153324,
            "methodology": "POISSON_BOOTSTRAP",
            "upperBound": 0.021230080813324368,
            "value": 0.019460640847682953
           }
          },
          "post_export_metrics/prediction/negative_rate@0.50": {
           "boundedValue": {
            "lowerBound": 0.9183628830810432,
            "methodology": "POISSON_BOOTSTRAP",
            "upperBound": 0.9238743510345574,
            "value": 0.9210864901542664
           }
          },
          "post_export_metrics/prediction/positive_rate@0.50": {
           "boundedValue": {
            "lowerBound": 0.0761255800638182,
            "methodology": "POISSON_BOOTSTRAP",
            "upperBound": 0.08163703680896928,
            "value": 0.07891353964805603
           }
          },
          "post_export_metrics/prediction/true_negative_rate@0.50": {
           "boundedValue": {
            "lowerBound": 0.9787698757718817,
            "methodology": "POISSON_BOOTSTRAP",
            "upperBound": 0.9822961318422541,
            "value": 0.9805393815040588
           }
          },
          "post_export_metrics/prediction/true_positive_rate@0.50": {
           "boundedValue": {
            "lowerBound": 0.6278656490036403,
            "methodology": "POISSON_BOOTSTRAP",
            "upperBound": 0.6571462385467137,
            "value": 0.6420434713363647
           }
          }
         },
         "slice": "race:No",
         "sliceValue": "No"
        },
        {
         "metrics": {
          "post_export_metrics/example_count": {
           "doubleValue": 31466.0
          },
          "post_export_metrics/prediction/fairness/confusion_matrix_at_thresholds": {
           "confusionMatrixAtThresholds": {
            "matrices": [
             {
              "boundedFalseNegatives": {
               "lowerBound": 977.6616401793638,
               "methodology": "POISSON_BOOTSTRAP",
               "upperBound": 1116.6384086487612,
               "value": 1047.1500244140625
              },
              "boundedFalsePositives": {
               "lowerBound": 497.2475044589333,
               "methodology": "POISSON_BOOTSTRAP",
               "upperBound": 590.3524711270043,
               "value": 543.7999877929688
              },
              "boundedPrecision": {
               "lowerBound": 0.7547480361181853,
               "methodology": "POISSON_BOOTSTRAP",
               "upperBound": 0.792285035399759,
               "value": 0.7735165357589722
              },
              "boundedRecall": {
               "lowerBound": 0.6250274549501074,
               "methodology": "POISSON_BOOTSTRAP",
               "upperBound": 0.6540101398451197,
               "value": 0.6395187973976135
              },
              "boundedTrueNegatives": {
               "lowerBound": 27798.012551658765,
               "methodology": "POISSON_BOOTSTRAP",
               "upperBound": 28379.885885841235,
               "value": 28088.94921875
              },
              "boundedTruePositives": {
               "lowerBound": 1775.6302312895962,
               "methodology": "POISSON_BOOTSTRAP",
               "upperBound": 1939.2696710541538,
               "value": 1857.449951171875
              },
              "falseNegatives": 1048.0,
              "falsePositives": 549.0,
              "precision": 0.771725594997406,
              "recall": 0.6391184329986572,
              "tDistributionFalseNegatives": {
               "sampleDegreesOfFreedom": "19",
               "sampleMean": 1047.1500244140625,
               "sampleStandardDeviation": 33.19999313354492,
               "unsampledValue": 1048.0
              },
              "tDistributionFalsePositives": {
               "sampleDegreesOfFreedom": "19",
               "sampleMean": 543.7999877929688,
               "sampleStandardDeviation": 22.24173355102539,
               "unsampledValue": 549.0
              },
              "tDistributionPrecision": {
               "sampleDegreesOfFreedom": "19",
               "sampleMean": 0.7735165357589722,
               "sampleStandardDeviation": 0.008967168629169464,
               "unsampledValue": 0.771725594997406
              },
              "tDistributionRecall": {
               "sampleDegreesOfFreedom": "19",
               "sampleMean": 0.6395187973976135,
               "sampleStandardDeviation": 0.006923638749867678,
               "unsampledValue": 0.6391184329986572
              },
              "tDistributionTrueNegatives": {
               "sampleDegreesOfFreedom": "19",
               "sampleMean": 28088.94921875,
               "sampleStandardDeviation": 139.00302124023438,
               "unsampledValue": 28013.0
              },
              "tDistributionTruePositives": {
               "sampleDegreesOfFreedom": "19",
               "sampleMean": 1857.449951171875,
               "sampleStandardDeviation": 39.09162902832031,
               "unsampledValue": 1856.0
              },
              "threshold": 0.5,
              "trueNegatives": 28013.0,
              "truePositives": 1856.0
             }
            ]
           }
          },
          "post_export_metrics/prediction/false_discovery_rate@0.50": {
           "boundedValue": {
            "lowerBound": 0.20771500150660235,
            "methodology": "POISSON_BOOTSTRAP",
            "upperBound": 0.24525201638242047,
            "value": 0.22827443480491638
           }
          },
          "post_export_metrics/prediction/false_negative_rate@0.50": {
           "boundedValue": {
            "lowerBound": 0.345989912373929,
            "methodology": "POISSON_BOOTSTRAP",
            "upperBound": 0.3749725524354887,
            "value": 0.3608815371990204
           }
          },
          "post_export_metrics/prediction/false_omission_rate@0.50": {
           "boundedValue": {
            "lowerBound": 0.033751979313116236,
            "methodology": "POISSON_BOOTSTRAP",
            "upperBound": 0.03812345878102286,
            "value": 0.036062076687812805
           }
          },
          "post_export_metrics/prediction/false_positive_rate@0.50": {
           "boundedValue": {
            "lowerBound": 0.01740118105806264,
            "methodology": "POISSON_BOOTSTRAP",
            "upperBound": 0.020582437618599805,
            "value": 0.019221343100070953
           }
          },
          "post_export_metrics/prediction/negative_rate@0.50": {
           "boundedValue": {
            "lowerBound": 0.9219000232497679,
            "methodology": "POISSON_BOOTSTRAP",
            "upperBound": 0.9258254873474611,
            "value": 0.9235683083534241
           }
          },
          "post_export_metrics/prediction/positive_rate@0.50": {
           "boundedValue": {
            "lowerBound": 0.07417449775137779,
            "methodology": "POISSON_BOOTSTRAP",
            "upperBound": 0.07809996184907082,
            "value": 0.07643170654773712
           }
          },
          "post_export_metrics/prediction/true_negative_rate@0.50": {
           "boundedValue": {
            "lowerBound": 0.9794176103039054,
            "methodology": "POISSON_BOOTSTRAP",
            "upperBound": 0.9825988529758187,
            "value": 0.9807786345481873
           }
          },
          "post_export_metrics/prediction/true_positive_rate@0.50": {
           "boundedValue": {
            "lowerBound": 0.6250274549501074,
            "methodology": "POISSON_BOOTSTRAP",
            "upperBound": 0.6540101398451197,
            "value": 0.6391184329986572
           }
          }
         },
         "slice": "sexuality:No",
         "sliceValue": "No"
        },
        {
         "metrics": {
          "post_export_metrics/example_count": {
           "doubleValue": 30121.0
          },
          "post_export_metrics/prediction/fairness/confusion_matrix_at_thresholds": {
           "confusionMatrixAtThresholds": {
            "matrices": [
             {
              "boundedFalseNegatives": {
               "lowerBound": 968.4496267260564,
               "methodology": "POISSON_BOOTSTRAP",
               "upperBound": 1109.4502756176935,
               "value": 1038.949951171875
              },
              "boundedFalsePositives": {
               "lowerBound": 465.3920673645016,
               "methodology": "POISSON_BOOTSTRAP",
               "upperBound": 578.1079326354984,
               "value": 521.75
              },
              "boundedPrecision": {
               "lowerBound": 0.7652362465441037,
               "methodology": "POISSON_BOOTSTRAP",
               "upperBound": 0.8036464572370242,
               "value": 0.784441351890564
              },
              "boundedRecall": {
               "lowerBound": 0.6289594867925593,
               "methodology": "POISSON_BOOTSTRAP",
               "upperBound": 0.6636380454797796,
               "value": 0.6462987661361694
              },
              "boundedTrueNegatives": {
               "lowerBound": 26415.650299229605,
               "methodology": "POISSON_BOOTSTRAP",
               "upperBound": 27084.451263270395,
               "value": 26750.05078125
              },
              "boundedTruePositives": {
               "lowerBound": 1810.9644999475618,
               "methodology": "POISSON_BOOTSTRAP",
               "upperBound": 1985.5355000524382,
               "value": 1898.25
              },
              "falseNegatives": 1041.0,
              "falsePositives": 528.0,
              "precision": 0.7808219194412231,
              "recall": 0.6437371373176575,
              "tDistributionFalseNegatives": {
               "sampleDegreesOfFreedom": "19",
               "sampleMean": 1038.949951171875,
               "sampleStandardDeviation": 33.683475494384766,
               "unsampledValue": 1041.0
              },
              "tDistributionFalsePositives": {
               "sampleDegreesOfFreedom": "19",
               "sampleMean": 521.75,
               "sampleStandardDeviation": 26.926557540893555,
               "unsampledValue": 528.0
              },
              "tDistributionPrecision": {
               "sampleDegreesOfFreedom": "19",
               "sampleMean": 0.784441351890564,
               "sampleStandardDeviation": 0.009175769053399563,
               "unsampledValue": 0.7808219194412231
              },
              "tDistributionRecall": {
               "sampleDegreesOfFreedom": "19",
               "sampleMean": 0.6462987661361694,
               "sampleStandardDeviation": 0.008284319192171097,
               "unsampledValue": 0.6437371373176575
              },
              "tDistributionTrueNegatives": {
               "sampleDegreesOfFreedom": "19",
               "sampleMean": 26750.05078125,
               "sampleStandardDeviation": 159.76905822753906,
               "unsampledValue": 26671.0
              },
              "tDistributionTruePositives": {
               "sampleDegreesOfFreedom": "19",
               "sampleMean": 1898.25,
               "sampleStandardDeviation": 41.70305633544922,
               "unsampledValue": 1881.0
              },
              "threshold": 0.5,
              "trueNegatives": 26671.0,
              "truePositives": 1881.0
             }
            ]
           }
          },
          "post_export_metrics/prediction/false_discovery_rate@0.50": {
           "boundedValue": {
            "lowerBound": 0.1963534702064504,
            "methodology": "POISSON_BOOTSTRAP",
            "upperBound": 0.23476367700080975,
            "value": 0.21917808055877686
           }
          },
          "post_export_metrics/prediction/false_negative_rate@0.50": {
           "boundedValue": {
            "lowerBound": 0.33636195200782576,
            "methodology": "POISSON_BOOTSTRAP",
            "upperBound": 0.3710404561151906,
            "value": 0.35626283288002014
           }
          },
          "post_export_metrics/prediction/false_omission_rate@0.50": {
           "boundedValue": {
            "lowerBound": 0.034930163522859645,
            "methodology": "POISSON_BOOTSTRAP",
            "upperBound": 0.03984292457471268,
            "value": 0.0375649556517601
           }
          },
          "post_export_metrics/prediction/false_positive_rate@0.50": {
           "boundedValue": {
            "lowerBound": 0.017151956587936324,
            "methodology": "POISSON_BOOTSTRAP",
            "upperBound": 0.021107709825132447,
            "value": 0.019412478432059288
           }
          },
          "post_export_metrics/prediction/negative_rate@0.50": {
           "boundedValue": {
            "lowerBound": 0.9167237033408445,
            "methodology": "POISSON_BOOTSTRAP",
            "upperBound": 0.9230635414559084,
            "value": 0.9200225472450256
           }
          },
          "post_export_metrics/prediction/positive_rate@0.50": {
           "boundedValue": {
            "lowerBound": 0.07693641822648926,
            "methodology": "POISSON_BOOTSTRAP",
            "upperBound": 0.08327624756979064,
            "value": 0.07997742295265198
           }
          },
          "post_export_metrics/prediction/true_negative_rate@0.50": {
           "boundedValue": {
            "lowerBound": 0.978892260196572,
            "methodology": "POISSON_BOOTSTRAP",
            "upperBound": 0.9828479951592629,
            "value": 0.9805875420570374
           }
          },
          "post_export_metrics/prediction/true_positive_rate@0.50": {
           "boundedValue": {
            "lowerBound": 0.6289594867925593,
            "methodology": "POISSON_BOOTSTRAP",
            "upperBound": 0.6636380454797796,
            "value": 0.6437371373176575
           }
          }
         },
         "slice": "gender identity:No",
         "sliceValue": "No"
        },
        {
         "metrics": {
          "post_export_metrics/example_count": {
           "doubleValue": 1745.0
          },
          "post_export_metrics/prediction/fairness/confusion_matrix_at_thresholds": {
           "confusionMatrixAtThresholds": {
            "matrices": [
             {
              "boundedFalseNegatives": {
               "lowerBound": 46.64142693052373,
               "methodology": "POISSON_BOOTSTRAP",
               "upperBound": 86.85857306947628,
               "value": 66.75
              },
              "boundedFalsePositives": {
               "lowerBound": 17.843706461191754,
               "methodology": "POISSON_BOOTSTRAP",
               "upperBound": 41.45629277586879,
               "value": 29.649999618530273
              },
              "boundedPrecision": {
               "lowerBound": 0.5357722207231272,
               "methodology": "POISSON_BOOTSTRAP",
               "upperBound": 0.7844370440321218,
               "value": 0.6601046323776245
              },
              "boundedRecall": {
               "lowerBound": 0.3680404657084902,
               "methodology": "POISSON_BOOTSTRAP",
               "upperBound": 0.5604628688137572,
               "value": 0.46425166726112366
              },
              "boundedTrueNegatives": {
               "lowerBound": 1507.0870571590972,
               "methodology": "POISSON_BOOTSTRAP",
               "upperBound": 1676.8128451846528,
               "value": 1591.949951171875
              },
              "boundedTruePositives": {
               "lowerBound": 44.42906901187456,
               "methodology": "POISSON_BOOTSTRAP",
               "upperBound": 70.57093098812544,
               "value": 57.5
              },
              "falseNegatives": 67.0,
              "falsePositives": 29.0,
              "precision": 0.6704545617103577,
              "recall": 0.4682539701461792,
              "tDistributionFalseNegatives": {
               "sampleDegreesOfFreedom": "19",
               "sampleMean": 66.75,
               "sampleStandardDeviation": 9.607425689697266,
               "unsampledValue": 67.0
              },
              "tDistributionFalsePositives": {
               "sampleDegreesOfFreedom": "19",
               "sampleMean": 29.649999618530273,
               "sampleStandardDeviation": 5.640782356262207,
               "unsampledValue": 29.0
              },
              "tDistributionPrecision": {
               "sampleDegreesOfFreedom": "19",
               "sampleMean": 0.6601046323776245,
               "sampleStandardDeviation": 0.05940324068069458,
               "unsampledValue": 0.6704545617103577
              },
              "tDistributionRecall": {
               "sampleDegreesOfFreedom": "19",
               "sampleMean": 0.46425166726112366,
               "sampleStandardDeviation": 0.04596755653619766,
               "unsampledValue": 0.4682539701461792
              },
              "tDistributionTrueNegatives": {
               "sampleDegreesOfFreedom": "19",
               "sampleMean": 1591.949951171875,
               "sampleStandardDeviation": 40.545589447021484,
               "unsampledValue": 1590.0
              },
              "tDistributionTruePositives": {
               "sampleDegreesOfFreedom": "19",
               "sampleMean": 57.5,
               "sampleStandardDeviation": 6.244997978210449,
               "unsampledValue": 59.0
              },
              "threshold": 0.5,
              "trueNegatives": 1590.0,
              "truePositives": 59.0
             }
            ]
           }
          },
          "post_export_metrics/prediction/false_discovery_rate@0.50": {
           "boundedValue": {
            "lowerBound": 0.21556302336964522,
            "methodology": "POISSON_BOOTSTRAP",
            "upperBound": 0.4642278310843953,
            "value": 0.3295454680919647
           }
          },
          "post_export_metrics/prediction/false_negative_rate@0.50": {
           "boundedValue": {
            "lowerBound": 0.4395371013839205,
            "methodology": "POISSON_BOOTSTRAP",
            "upperBound": 0.6319595044891875,
            "value": 0.5317460298538208
           }
          },
          "post_export_metrics/prediction/false_omission_rate@0.50": {
           "boundedValue": {
            "lowerBound": 0.029309762915940805,
            "methodology": "POISSON_BOOTSTRAP",
            "upperBound": 0.05103278318944402,
            "value": 0.040434520691633224
           }
          },
          "post_export_metrics/prediction/false_positive_rate@0.50": {
           "boundedValue": {
            "lowerBound": 0.010961351369687537,
            "methodology": "POISSON_BOOTSTRAP",
            "upperBound": 0.02563310655467846,
            "value": 0.01791229099035263
           }
          },
          "post_export_metrics/prediction/negative_rate@0.50": {
           "boundedValue": {
            "lowerBound": 0.942393342800474,
            "methodology": "POISSON_BOOTSTRAP",
            "upperBound": 0.957727392367983,
            "value": 0.9495701789855957
           }
          },
          "post_export_metrics/prediction/positive_rate@0.50": {
           "boundedValue": {
            "lowerBound": 0.04227265038622,
            "methodology": "POISSON_BOOTSTRAP",
            "upperBound": 0.05760670385229013,
            "value": 0.050429798662662506
           }
          },
          "post_export_metrics/prediction/true_negative_rate@0.50": {
           "boundedValue": {
            "lowerBound": 0.9743669303841752,
            "methodology": "POISSON_BOOTSTRAP",
            "upperBound": 0.9890386787466842,
            "value": 0.9820877313613892
           }
          },
          "post_export_metrics/prediction/true_positive_rate@0.50": {
           "boundedValue": {
            "lowerBound": 0.3680404657084902,
            "methodology": "POISSON_BOOTSTRAP",
            "upperBound": 0.5604628688137572,
            "value": 0.4682539701461792
           }
          }
         },
         "slice": "gender identity:Yes",
         "sliceValue": "Yes"
        },
        {
         "metrics": {
          "post_export_metrics/example_count": {
           "doubleValue": 1529.0
          },
          "post_export_metrics/prediction/fairness/confusion_matrix_at_thresholds": {
           "confusionMatrixAtThresholds": {
            "matrices": [
             {
              "boundedFalseNegatives": {
               "lowerBound": 48.50079516514822,
               "methodology": "POISSON_BOOTSTRAP",
               "upperBound": 90.69920178309397,
               "value": 69.5999984741211
              },
              "boundedFalsePositives": {
               "lowerBound": 7.411789179321017,
               "methodology": "POISSON_BOOTSTRAP",
               "upperBound": 35.688209294800075,
               "value": 21.549999237060547
              },
              "boundedPrecision": {
               "lowerBound": 0.6630691853589866,
               "methodology": "POISSON_BOOTSTRAP",
               "upperBound": 0.9152643116884377,
               "value": 0.7891667485237122
              },
              "boundedRecall": {
               "lowerBound": 0.4464918213263671,
               "methodology": "POISSON_BOOTSTRAP",
               "upperBound": 0.6248268050774415,
               "value": 0.5356593132019043
              },
              "boundedTrueNegatives": {
               "lowerBound": 1262.5521186856033,
               "methodology": "POISSON_BOOTSTRAP",
               "upperBound": 1445.8477836581467,
               "value": 1354.199951171875
              },
              "boundedTruePositives": {
               "lowerBound": 59.562624797423325,
               "methodology": "POISSON_BOOTSTRAP",
               "upperBound": 100.83736909906105,
               "value": 80.19999694824219
              },
              "falseNegatives": 71.0,
              "falsePositives": 23.0,
              "precision": 0.7766990065574646,
              "recall": 0.5298013091087341,
              "tDistributionFalseNegatives": {
               "sampleDegreesOfFreedom": "19",
               "sampleMean": 69.5999984741211,
               "sampleStandardDeviation": 10.080726623535156,
               "unsampledValue": 71.0
              },
              "tDistributionFalsePositives": {
               "sampleDegreesOfFreedom": "19",
               "sampleMean": 21.549999237060547,
               "sampleStandardDeviation": 6.75492000579834,
               "unsampledValue": 23.0
              },
              "tDistributionPrecision": {
               "sampleDegreesOfFreedom": "19",
               "sampleMean": 0.7891667485237122,
               "sampleStandardDeviation": 0.06024659052491188,
               "unsampledValue": 0.7766990065574646
              },
              "tDistributionRecall": {
               "sampleDegreesOfFreedom": "19",
               "sampleMean": 0.5356593132019043,
               "sampleStandardDeviation": 0.04260222986340523,
               "unsampledValue": 0.5298013091087341
              },
              "tDistributionTrueNegatives": {
               "sampleDegreesOfFreedom": "19",
               "sampleMean": 1354.199951171875,
               "sampleStandardDeviation": 43.78728103637695,
               "unsampledValue": 1355.0
              },
              "tDistributionTruePositives": {
               "sampleDegreesOfFreedom": "19",
               "sampleMean": 80.19999694824219,
               "sampleStandardDeviation": 9.860074043273926,
               "unsampledValue": 80.0
              },
              "threshold": 0.5,
              "trueNegatives": 1355.0,
              "truePositives": 80.0
             }
            ]
           }
          },
          "post_export_metrics/prediction/false_discovery_rate@0.50": {
           "boundedValue": {
            "lowerBound": 0.08473567341040114,
            "methodology": "POISSON_BOOTSTRAP",
            "upperBound": 0.3369307997398522,
            "value": 0.223300963640213
           }
          },
          "post_export_metrics/prediction/false_negative_rate@0.50": {
           "boundedValue": {
            "lowerBound": 0.3751731715311919,
            "methodology": "POISSON_BOOTSTRAP",
            "upperBound": 0.5535082020649995,
            "value": 0.4701986610889435
           }
          },
          "post_export_metrics/prediction/false_omission_rate@0.50": {
           "boundedValue": {
            "lowerBound": 0.03523125233692635,
            "methodology": "POISSON_BOOTSTRAP",
            "upperBound": 0.062446559643321145,
            "value": 0.04978962242603302
           }
          },
          "post_export_metrics/prediction/false_positive_rate@0.50": {
           "boundedValue": {
            "lowerBound": 0.005524993669941742,
            "methodology": "POISSON_BOOTSTRAP",
            "upperBound": 0.025781843084141894,
            "value": 0.016690855845808983
           }
          },
          "post_export_metrics/prediction/negative_rate@0.50": {
           "boundedValue": {
            "lowerBound": 0.9206370927587321,
            "methodology": "POISSON_BOOTSTRAP",
            "upperBound": 0.9461250684961507,
            "value": 0.9326357245445251
           }
          },
          "post_export_metrics/prediction/positive_rate@0.50": {
           "boundedValue": {
            "lowerBound": 0.05387492405326867,
            "methodology": "POISSON_BOOTSTRAP",
            "upperBound": 0.07936289979068732,
            "value": 0.06736429035663605
           }
          },
          "post_export_metrics/prediction/true_negative_rate@0.50": {
           "boundedValue": {
            "lowerBound": 0.9742181468012628,
            "methodology": "POISSON_BOOTSTRAP",
            "upperBound": 0.9944749903676214,
            "value": 0.9833091497421265
           }
          },
          "post_export_metrics/prediction/true_positive_rate@0.50": {
           "boundedValue": {
            "lowerBound": 0.4464918213263671,
            "methodology": "POISSON_BOOTSTRAP",
            "upperBound": 0.6248268050774415,
            "value": 0.5298013091087341
           }
          }
         },
         "slice": "race:Yes",
         "sliceValue": "Yes"
        },
        {
         "metrics": {
          "post_export_metrics/example_count": {
           "doubleValue": 641.0
          },
          "post_export_metrics/prediction/fairness/confusion_matrix_at_thresholds": {
           "confusionMatrixAtThresholds": {
            "matrices": [
             {
              "boundedFalseNegatives": {
               "lowerBound": 11.834269465578515,
               "methodology": "POISSON_BOOTSTRAP",
               "upperBound": 37.36573129736094,
               "value": 24.600000381469727
              },
              "boundedFalsePositives": {
               "lowerBound": 4.127488165251509,
               "methodology": "POISSON_BOOTSTRAP",
               "upperBound": 18.972512216218217,
               "value": 11.550000190734863
              },
              "boundedPrecision": {
               "lowerBound": 0.5181618806930672,
               "methodology": "POISSON_BOOTSTRAP",
               "upperBound": 0.8527552011398185,
               "value": 0.6854585409164429
              },
              "boundedRecall": {
               "lowerBound": 0.33980726188406957,
               "methodology": "POISSON_BOOTSTRAP",
               "upperBound": 0.6741631131769656,
               "value": 0.5069851875305176
              },
              "boundedTrueNegatives": {
               "lowerBound": 538.9574359032533,
               "methodology": "POISSON_BOOTSTRAP",
               "upperBound": 622.0425640967467,
               "value": 580.5
              },
              "boundedTruePositives": {
               "lowerBound": 14.69618045178398,
               "methodology": "POISSON_BOOTSTRAP",
               "upperBound": 35.40381802233711,
               "value": 25.049999237060547
              },
              "falseNegatives": 25.0,
              "falsePositives": 12.0,
              "precision": 0.6756756901741028,
              "recall": 0.5,
              "tDistributionFalseNegatives": {
               "sampleDegreesOfFreedom": "19",
               "sampleMean": 24.600000381469727,
               "sampleStandardDeviation": 6.099180221557617,
               "unsampledValue": 25.0
              },
              "tDistributionFalsePositives": {
               "sampleDegreesOfFreedom": "19",
               "sampleMean": 11.550000190734863,
               "sampleStandardDeviation": 3.5463099479675293,
               "unsampledValue": 12.0
              },
              "tDistributionPrecision": {
               "sampleDegreesOfFreedom": "19",
               "sampleMean": 0.6854585409164429,
               "sampleStandardDeviation": 0.07993059605360031,
               "unsampledValue": 0.6756756901741028
              },
              "tDistributionRecall": {
               "sampleDegreesOfFreedom": "19",
               "sampleMean": 0.5069851875305176,
               "sampleStandardDeviation": 0.07987386733293533,
               "unsampledValue": 0.5
              },
              "tDistributionTrueNegatives": {
               "sampleDegreesOfFreedom": "19",
               "sampleMean": 580.5,
               "sampleStandardDeviation": 19.848106384277344,
               "unsampledValue": 579.0
              },
              "tDistributionTruePositives": {
               "sampleDegreesOfFreedom": "19",
               "sampleMean": 25.049999237060547,
               "sampleStandardDeviation": 4.946822643280029,
               "unsampledValue": 25.0
              },
              "threshold": 0.5,
              "trueNegatives": 579.0,
              "truePositives": 25.0
             }
            ]
           }
          },
          "post_export_metrics/prediction/false_discovery_rate@0.50": {
           "boundedValue": {
            "lowerBound": 0.14724481306825948,
            "methodology": "POISSON_BOOTSTRAP",
            "upperBound": 0.48183816470349955,
            "value": 0.3243243098258972
           }
          },
          "post_export_metrics/prediction/false_negative_rate@0.50": {
           "boundedValue": {
            "lowerBound": 0.3258369024172788,
            "methodology": "POISSON_BOOTSTRAP",
            "upperBound": 0.660192722521686,
            "value": 0.5
           }
          },
          "post_export_metrics/prediction/false_omission_rate@0.50": {
           "boundedValue": {
            "lowerBound": 0.02113977067585863,
            "methodology": "POISSON_BOOTSTRAP",
            "upperBound": 0.05988170213584028,
            "value": 0.04139072820544243
           }
          },
          "post_export_metrics/prediction/false_positive_rate@0.50": {
           "boundedValue": {
            "lowerBound": 0.007242915390173391,
            "methodology": "POISSON_BOOTSTRAP",
            "upperBound": 0.03167096787865977,
            "value": 0.020304568111896515
           }
          },
          "post_export_metrics/prediction/negative_rate@0.50": {
           "boundedValue": {
            "lowerBound": 0.9228554470565279,
            "methodology": "POISSON_BOOTSTRAP",
            "upperBound": 0.9631057279083769,
            "value": 0.9422776699066162
           }
          },
          "post_export_metrics/prediction/positive_rate@0.50": {
           "boundedValue": {
            "lowerBound": 0.03689430544596496,
            "methodology": "POISSON_BOOTSTRAP",
            "upperBound": 0.07714459409493622,
            "value": 0.057722307741642
           }
          },
          "post_export_metrics/prediction/true_negative_rate@0.50": {
           "boundedValue": {
            "lowerBound": 0.9683289833460248,
            "methodology": "POISSON_BOOTSTRAP",
            "upperBound": 0.9927570514287555,
            "value": 0.9796954393386841
           }
          },
          "post_export_metrics/prediction/true_positive_rate@0.50": {
           "boundedValue": {
            "lowerBound": 0.33980726188406957,
            "methodology": "POISSON_BOOTSTRAP",
            "upperBound": 0.6741631131769656,
            "value": 0.5
           }
          }
         },
         "slice": "religion:Yes",
         "sliceValue": "Yes"
        },
        {
         "metrics": {
          "post_export_metrics/example_count": {
           "doubleValue": 400.0
          },
          "post_export_metrics/prediction/fairness/confusion_matrix_at_thresholds": {
           "confusionMatrixAtThresholds": {
            "matrices": [
             {
              "boundedFalseNegatives": {
               "lowerBound": 39.719451986414036,
               "methodology": "POISSON_BOOTSTRAP",
               "upperBound": 79.28054801358596,
               "value": 59.5
              },
              "boundedFalsePositives": {
               "lowerBound": 1.5680682525694243,
               "methodology": "POISSON_BOOTSTRAP",
               "upperBound": 13.931931747430575,
               "value": 7.75
              },
              "boundedPrecision": {
               "lowerBound": 0.8518982043111014,
               "methodology": "POISSON_BOOTSTRAP",
               "upperBound": 0.9797723183787179,
               "value": 0.9158352613449097
              },
              "boundedRecall": {
               "lowerBound": 0.48975499073237694,
               "methodology": "POISSON_BOOTSTRAP",
               "upperBound": 0.6843824823740073,
               "value": 0.5870687365531921
              },
              "boundedTrueNegatives": {
               "lowerBound": 217.6073080993963,
               "methodology": "POISSON_BOOTSTRAP",
               "upperBound": 287.592704107635,
               "value": 252.60000610351562
              },
              "boundedTruePositives": {
               "lowerBound": 65.29645862600967,
               "methodology": "POISSON_BOOTSTRAP",
               "upperBound": 103.40353832223252,
               "value": 84.3499984741211
              },
              "falseNegatives": 60.0,
              "falsePositives": 8.0,
              "precision": 0.9130434989929199,
              "recall": 0.5833333134651184,
              "tDistributionFalseNegatives": {
               "sampleDegreesOfFreedom": "19",
               "sampleMean": 59.5,
               "sampleStandardDeviation": 9.450702667236328,
               "unsampledValue": 60.0
              },
              "tDistributionFalsePositives": {
               "sampleDegreesOfFreedom": "19",
               "sampleMean": 7.75,
               "sampleStandardDeviation": 2.9535884857177734,
               "unsampledValue": 8.0
              },
              "tDistributionPrecision": {
               "sampleDegreesOfFreedom": "19",
               "sampleMean": 0.9158352613449097,
               "sampleStandardDeviation": 0.030547693371772766,
               "unsampledValue": 0.9130434989929199
              },
              "tDistributionRecall": {
               "sampleDegreesOfFreedom": "19",
               "sampleMean": 0.5870687365531921,
               "sampleStandardDeviation": 0.04649432748556137,
               "unsampledValue": 0.5833333134651184
              },
              "tDistributionTrueNegatives": {
               "sampleDegreesOfFreedom": "19",
               "sampleMean": 252.60000610351562,
               "sampleStandardDeviation": 16.718727111816406,
               "unsampledValue": 248.0
              },
              "tDistributionTruePositives": {
               "sampleDegreesOfFreedom": "19",
               "sampleMean": 84.3499984741211,
               "sampleStandardDeviation": 9.103354454040527,
               "unsampledValue": 84.0
              },
              "threshold": 0.5,
              "trueNegatives": 248.0,
              "truePositives": 84.0
             }
            ]
           }
          },
          "post_export_metrics/prediction/false_discovery_rate@0.50": {
           "boundedValue": {
            "lowerBound": 0.020227625222115186,
            "methodology": "POISSON_BOOTSTRAP",
            "upperBound": 0.14810176268109831,
            "value": 0.08695652335882187
           }
          },
          "post_export_metrics/prediction/false_negative_rate@0.50": {
           "boundedValue": {
            "lowerBound": 0.3156174502242257,
            "methodology": "POISSON_BOOTSTRAP",
            "upperBound": 0.5102449574601005,
            "value": 0.4166666567325592
           }
          },
          "post_export_metrics/prediction/false_omission_rate@0.50": {
           "boundedValue": {
            "lowerBound": 0.13344532682772353,
            "methodology": "POISSON_BOOTSTRAP",
            "upperBound": 0.24752139613751695,
            "value": 0.19480518996715546
           }
          },
          "post_export_metrics/prediction/false_positive_rate@0.50": {
           "boundedValue": {
            "lowerBound": 0.005981074027690315,
            "methodology": "POISSON_BOOTSTRAP",
            "upperBound": 0.05372637758406697,
            "value": 0.03125
           }
          },
          "post_export_metrics/prediction/negative_rate@0.50": {
           "boundedValue": {
            "lowerBound": 0.7218901534698248,
            "methodology": "POISSON_BOOTSTRAP",
            "upperBound": 0.8219193796493769,
            "value": 0.7699999809265137
           }
          },
          "post_export_metrics/prediction/positive_rate@0.50": {
           "boundedValue": {
            "lowerBound": 0.178080609348023,
            "methodology": "POISSON_BOOTSTRAP",
            "upperBound": 0.27810982773045295,
            "value": 0.23000000417232513
           }
          },
          "post_export_metrics/prediction/true_negative_rate@0.50": {
           "boundedValue": {
            "lowerBound": 0.94627364663032,
            "methodology": "POISSON_BOOTSTRAP",
            "upperBound": 0.9940189501866966,
            "value": 0.96875
           }
          },
          "post_export_metrics/prediction/true_positive_rate@0.50": {
           "boundedValue": {
            "lowerBound": 0.48975499073237694,
            "methodology": "POISSON_BOOTSTRAP",
            "upperBound": 0.6843824823740073,
            "value": 0.5833333134651184
           }
          }
         },
         "slice": "sexuality:Yes",
         "sliceValue": "Yes"
        }
       ],
       "slicingMetricsCompare": []
      }
     }
    },
    "version_major": 2,
    "version_minor": 0
   }
  }
 },
 "nbformat": 4,
 "nbformat_minor": 0
}
