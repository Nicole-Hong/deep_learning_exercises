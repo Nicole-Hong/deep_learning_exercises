{
 "cells": [
  {
   "cell_type": "markdown",
   "metadata": {
    "id": "_E4uORykIpG4"
   },
   "source": [
    "##### Copyright 2020 The TensorFlow Authors."
   ]
  },
  {
   "cell_type": "code",
   "execution_count": 1,
   "metadata": {
    "cellView": "form",
    "execution": {
     "iopub.execute_input": "2022-04-01T01:09:06.365935Z",
     "iopub.status.busy": "2022-04-01T01:09:06.365197Z",
     "iopub.status.idle": "2022-04-01T01:09:06.369496Z",
     "shell.execute_reply": "2022-04-01T01:09:06.368967Z"
    },
    "id": "aBT221yVIujn"
   },
   "outputs": [],
   "source": [
    "#@title Licensed under the Apache License, Version 2.0 (the \"License\");\n",
    "# you may not use this file except in compliance with the License.\n",
    "# You may obtain a copy of the License at\n",
    "#\n",
    "# https://www.apache.org/licenses/LICENSE-2.0\n",
    "#\n",
    "# Unless required by applicable law or agreed to in writing, software\n",
    "# distributed under the License is distributed on an \"AS IS\" BASIS,\n",
    "# WITHOUT WARRANTIES OR CONDITIONS OF ANY KIND, either express or implied.\n",
    "# See the License for the specific language governing permissions and\n",
    "# limitations under the License."
   ]
  },
  {
   "cell_type": "markdown",
   "metadata": {
    "id": "aalPefrUUplk"
   },
   "source": [
    "# Fairness Indicators TensorBoard Plugin Example Colab"
   ]
  },
  {
   "cell_type": "markdown",
   "metadata": {
    "id": "fFTJpyFlI-uI"
   },
   "source": [
    "<table class=\"tfo-notebook-buttons\" align=\"left\">\n",
    "  <td>\n",
    "    <a target=\"_blank\" href=\"https://www.tensorflow.org/responsible_ai/fairness_indicators/tutorials/Fairness_indicators_TensorBoard_Plugin_Example_Colab\"><img src=\"https://www.tensorflow.org/images/tf_logo_32px.png\" />View on TensorFlow.org</a>\n",
    "  </td>\n",
    "  <td>\n",
    "    <a target=\"_blank\" href=\"https://colab.research.google.com/github/tensorflow/fairness-indicators/blob/master/g3doc/tutorials/Fairness_Indicators_TensorBoard_Plugin_Example_Colab.ipynb\"><img src=\"https://www.tensorflow.org/images/colab_logo_32px.png\" />Run in Google Colab</a>\n",
    "  </td>\n",
    "  <td>\n",
    "    <a target=\"_blank\" href=\"https://github.com/tensorflow/fairness-indicators/blob/master/g3doc/tutorials/Fairness_Indicators_TensorBoard_Plugin_Example_Colab.ipynb\"><img src=\"https://www.tensorflow.org/images/GitHub-Mark-32px.png\" />View on GitHub</a>\n",
    "  </td>\n",
    "  <td>\n",
    "    <a href=\"https://storage.googleapis.com/tensorflow_docs/fairness-indicators/g3doc/tutorials/Fairness_Indicators_TensorBoard_Plugin_Example_Colab.ipynb\"><img src=\"https://www.tensorflow.org/images/download_logo_32px.png\" />Download notebook</a>\n",
    "  </td>\n",
    "</table>"
   ]
  },
  {
   "cell_type": "markdown",
   "metadata": {
    "id": "UZ48WFLwbCL6"
   },
   "source": [
    "##Overview\n",
    "\n",
    "In this activity, you'll use [Fairness Indicators for TensorBoard](https://github.com/tensorflow/tensorboard/tree/master/docs/fairness-indicators.md). With the plugin, you can visualize fairness evaluations for your runs and easily compare performance across groups.\n"
   ]
  },
  {
   "cell_type": "markdown",
   "metadata": {
    "id": "u33JXdluZ2lG"
   },
   "source": [
    "# Importing\n",
    "\n",
    "Run the following code to install the required libraries."
   ]
  },
  {
   "cell_type": "code",
   "execution_count": 2,
   "metadata": {
    "execution": {
     "iopub.execute_input": "2022-04-01T01:09:06.372842Z",
     "iopub.status.busy": "2022-04-01T01:09:06.372488Z",
     "iopub.status.idle": "2022-04-01T01:09:14.522889Z",
     "shell.execute_reply": "2022-04-01T01:09:14.522262Z"
    },
    "id": "EoRNffG599XP"
   },
   "outputs": [
    {
     "name": "stdout",
     "output_type": "stream",
     "text": [
      "\u001b[33mWARNING: You are using pip version 20.2; however, version 22.0.4 is available.\r\n",
      "You should consider upgrading via the '/tmpfs/src/tf_docs_env/bin/python -m pip install --upgrade pip' command.\u001b[0m\r\n"
     ]
    },
    {
     "name": "stdout",
     "output_type": "stream",
     "text": [
      "Requirement already satisfied: fairness_indicators in /tmpfs/src/tf_docs_env/lib/python3.7/site-packages (0.38.0)\r\n",
      "Requirement already satisfied: absl-py<0.9,>=0.7 in /tmpfs/src/tf_docs_env/lib/python3.7/site-packages (0.8.1)\r\n",
      "Requirement already satisfied: tensorflow-model-analysis<0.39,>=0.38 in /tmpfs/src/tf_docs_env/lib/python3.7/site-packages (from fairness_indicators) (0.38.0)\r\n",
      "Requirement already satisfied: protobuf<4,>=3.13 in /tmpfs/src/tf_docs_env/lib/python3.7/site-packages (from fairness_indicators) (3.20.0rc2)\r\n",
      "Requirement already satisfied: witwidget<2,>=1.4.4 in /tmpfs/src/tf_docs_env/lib/python3.7/site-packages (from fairness_indicators) (1.8.1)\r\n",
      "Requirement already satisfied: tensorflow-hub<1.0.0,>=0.8.0 in /tmpfs/src/tf_docs_env/lib/python3.7/site-packages (from fairness_indicators) (0.12.0)\r\n",
      "Requirement already satisfied: tensorflow-data-validation<1.8.0,>=1.7.0 in /tmpfs/src/tf_docs_env/lib/python3.7/site-packages (from fairness_indicators) (1.7.0)\r\n"
     ]
    },
    {
     "name": "stdout",
     "output_type": "stream",
     "text": [
      "Requirement already satisfied: tensorflow!=2.0.*,!=2.1.*,!=2.2.*,!=2.3.*,!=2.4.*,!=2.5.*,!=2.6.*,!=2.7.*,<3,>=1.15.5 in /tmpfs/src/tf_docs_env/lib/python3.7/site-packages (from fairness_indicators) (2.8.0)\r\n",
      "Requirement already satisfied: six in /tmpfs/src/tf_docs_env/lib/python3.7/site-packages (from absl-py<0.9,>=0.7) (1.16.0)\r\n",
      "Requirement already satisfied: tfx-bsl<1.8.0,>=1.7.0 in /tmpfs/src/tf_docs_env/lib/python3.7/site-packages (from tensorflow-model-analysis<0.39,>=0.38->fairness_indicators) (1.7.0)\r\n",
      "Requirement already satisfied: scipy<2,>=1.4.1 in /tmpfs/src/tf_docs_env/lib/python3.7/site-packages (from tensorflow-model-analysis<0.39,>=0.38->fairness_indicators) (1.7.3)\r\n"
     ]
    },
    {
     "name": "stdout",
     "output_type": "stream",
     "text": [
      "Requirement already satisfied: pandas<2,>=1.0 in /tmpfs/src/tf_docs_env/lib/python3.7/site-packages (from tensorflow-model-analysis<0.39,>=0.38->fairness_indicators) (1.3.5)\r\n",
      "Requirement already satisfied: pyarrow<6,>=1 in /tmpfs/src/tf_docs_env/lib/python3.7/site-packages (from tensorflow-model-analysis<0.39,>=0.38->fairness_indicators) (5.0.0)\r\n",
      "Requirement already satisfied: tensorflow-metadata<1.8.0,>=1.7.0 in /tmpfs/src/tf_docs_env/lib/python3.7/site-packages (from tensorflow-model-analysis<0.39,>=0.38->fairness_indicators) (1.7.0)\r\n",
      "Requirement already satisfied: ipython<8,>=7 in /tmpfs/src/tf_docs_env/lib/python3.7/site-packages (from tensorflow-model-analysis<0.39,>=0.38->fairness_indicators) (7.32.0)\r\n",
      "Requirement already satisfied: ipywidgets<8,>=7 in /tmpfs/src/tf_docs_env/lib/python3.7/site-packages (from tensorflow-model-analysis<0.39,>=0.38->fairness_indicators) (7.7.0)\r\n"
     ]
    },
    {
     "name": "stdout",
     "output_type": "stream",
     "text": [
      "Requirement already satisfied: apache-beam[gcp]<3,>=2.36 in /tmpfs/src/tf_docs_env/lib/python3.7/site-packages (from tensorflow-model-analysis<0.39,>=0.38->fairness_indicators) (2.37.0)\r\n"
     ]
    },
    {
     "name": "stdout",
     "output_type": "stream",
     "text": [
      "Requirement already satisfied: numpy<2,>=1.16 in /tmpfs/src/tf_docs_env/lib/python3.7/site-packages (from tensorflow-model-analysis<0.39,>=0.38->fairness_indicators) (1.21.5)\r\n",
      "Requirement already satisfied: oauth2client>=4.1.3 in /tmpfs/src/tf_docs_env/lib/python3.7/site-packages (from witwidget<2,>=1.4.4->fairness_indicators) (4.1.3)\r\n",
      "Requirement already satisfied: google-api-python-client>=1.7.8 in /tmpfs/src/tf_docs_env/lib/python3.7/site-packages (from witwidget<2,>=1.4.4->fairness_indicators) (1.8.3)\r\n",
      "Requirement already satisfied: pyfarmhash<0.4,>=0.2 in /tmpfs/src/tf_docs_env/lib/python3.7/site-packages (from tensorflow-data-validation<1.8.0,>=1.7.0->fairness_indicators) (0.3.2)\r\n",
      "Requirement already satisfied: joblib<0.15,>=0.12 in /tmpfs/src/tf_docs_env/lib/python3.7/site-packages (from tensorflow-data-validation<1.8.0,>=1.7.0->fairness_indicators) (0.14.1)\r\n",
      "Requirement already satisfied: wrapt>=1.11.0 in /tmpfs/src/tf_docs_env/lib/python3.7/site-packages (from tensorflow!=2.0.*,!=2.1.*,!=2.2.*,!=2.3.*,!=2.4.*,!=2.5.*,!=2.6.*,!=2.7.*,<3,>=1.15.5->fairness_indicators) (1.14.0)\r\n",
      "Requirement already satisfied: tensorflow-io-gcs-filesystem>=0.23.1 in /tmpfs/src/tf_docs_env/lib/python3.7/site-packages (from tensorflow!=2.0.*,!=2.1.*,!=2.2.*,!=2.3.*,!=2.4.*,!=2.5.*,!=2.6.*,!=2.7.*,<3,>=1.15.5->fairness_indicators) (0.24.0)\r\n"
     ]
    },
    {
     "name": "stdout",
     "output_type": "stream",
     "text": [
      "Requirement already satisfied: grpcio<2.0,>=1.24.3 in /tmpfs/src/tf_docs_env/lib/python3.7/site-packages (from tensorflow!=2.0.*,!=2.1.*,!=2.2.*,!=2.3.*,!=2.4.*,!=2.5.*,!=2.6.*,!=2.7.*,<3,>=1.15.5->fairness_indicators) (1.45.0rc1)\r\n",
      "Requirement already satisfied: setuptools in /tmpfs/src/tf_docs_env/lib/python3.7/site-packages (from tensorflow!=2.0.*,!=2.1.*,!=2.2.*,!=2.3.*,!=2.4.*,!=2.5.*,!=2.6.*,!=2.7.*,<3,>=1.15.5->fairness_indicators) (61.3.0)\r\n",
      "Requirement already satisfied: typing-extensions>=3.6.6 in /tmpfs/src/tf_docs_env/lib/python3.7/site-packages (from tensorflow!=2.0.*,!=2.1.*,!=2.2.*,!=2.3.*,!=2.4.*,!=2.5.*,!=2.6.*,!=2.7.*,<3,>=1.15.5->fairness_indicators) (4.1.1)\r\n",
      "Requirement already satisfied: google-pasta>=0.1.1 in /tmpfs/src/tf_docs_env/lib/python3.7/site-packages (from tensorflow!=2.0.*,!=2.1.*,!=2.2.*,!=2.3.*,!=2.4.*,!=2.5.*,!=2.6.*,!=2.7.*,<3,>=1.15.5->fairness_indicators) (0.2.0)\r\n",
      "Requirement already satisfied: gast>=0.2.1 in /tmpfs/src/tf_docs_env/lib/python3.7/site-packages (from tensorflow!=2.0.*,!=2.1.*,!=2.2.*,!=2.3.*,!=2.4.*,!=2.5.*,!=2.6.*,!=2.7.*,<3,>=1.15.5->fairness_indicators) (0.5.3)\r\n",
      "Requirement already satisfied: opt-einsum>=2.3.2 in /tmpfs/src/tf_docs_env/lib/python3.7/site-packages (from tensorflow!=2.0.*,!=2.1.*,!=2.2.*,!=2.3.*,!=2.4.*,!=2.5.*,!=2.6.*,!=2.7.*,<3,>=1.15.5->fairness_indicators) (3.3.0)\r\n",
      "Requirement already satisfied: tf-estimator-nightly==2.8.0.dev2021122109 in /tmpfs/src/tf_docs_env/lib/python3.7/site-packages (from tensorflow!=2.0.*,!=2.1.*,!=2.2.*,!=2.3.*,!=2.4.*,!=2.5.*,!=2.6.*,!=2.7.*,<3,>=1.15.5->fairness_indicators) (2.8.0.dev2021122109)\r\n",
      "Requirement already satisfied: termcolor>=1.1.0 in /tmpfs/src/tf_docs_env/lib/python3.7/site-packages (from tensorflow!=2.0.*,!=2.1.*,!=2.2.*,!=2.3.*,!=2.4.*,!=2.5.*,!=2.6.*,!=2.7.*,<3,>=1.15.5->fairness_indicators) (1.1.0)\r\n",
      "Requirement already satisfied: astunparse>=1.6.0 in /tmpfs/src/tf_docs_env/lib/python3.7/site-packages (from tensorflow!=2.0.*,!=2.1.*,!=2.2.*,!=2.3.*,!=2.4.*,!=2.5.*,!=2.6.*,!=2.7.*,<3,>=1.15.5->fairness_indicators) (1.6.3)\r\n"
     ]
    },
    {
     "name": "stdout",
     "output_type": "stream",
     "text": [
      "Requirement already satisfied: keras-preprocessing>=1.1.1 in /tmpfs/src/tf_docs_env/lib/python3.7/site-packages (from tensorflow!=2.0.*,!=2.1.*,!=2.2.*,!=2.3.*,!=2.4.*,!=2.5.*,!=2.6.*,!=2.7.*,<3,>=1.15.5->fairness_indicators) (1.1.2)\r\n",
      "Requirement already satisfied: libclang>=9.0.1 in /tmpfs/src/tf_docs_env/lib/python3.7/site-packages (from tensorflow!=2.0.*,!=2.1.*,!=2.2.*,!=2.3.*,!=2.4.*,!=2.5.*,!=2.6.*,!=2.7.*,<3,>=1.15.5->fairness_indicators) (13.0.0)\r\n",
      "Requirement already satisfied: h5py>=2.9.0 in /tmpfs/src/tf_docs_env/lib/python3.7/site-packages (from tensorflow!=2.0.*,!=2.1.*,!=2.2.*,!=2.3.*,!=2.4.*,!=2.5.*,!=2.6.*,!=2.7.*,<3,>=1.15.5->fairness_indicators) (3.6.0)\r\n",
      "Requirement already satisfied: keras<2.9,>=2.8.0rc0 in /tmpfs/src/tf_docs_env/lib/python3.7/site-packages (from tensorflow!=2.0.*,!=2.1.*,!=2.2.*,!=2.3.*,!=2.4.*,!=2.5.*,!=2.6.*,!=2.7.*,<3,>=1.15.5->fairness_indicators) (2.8.0)\r\n",
      "Requirement already satisfied: flatbuffers>=1.12 in /tmpfs/src/tf_docs_env/lib/python3.7/site-packages (from tensorflow!=2.0.*,!=2.1.*,!=2.2.*,!=2.3.*,!=2.4.*,!=2.5.*,!=2.6.*,!=2.7.*,<3,>=1.15.5->fairness_indicators) (2.0)\r\n",
      "Requirement already satisfied: tensorboard<2.9,>=2.8 in /tmpfs/src/tf_docs_env/lib/python3.7/site-packages (from tensorflow!=2.0.*,!=2.1.*,!=2.2.*,!=2.3.*,!=2.4.*,!=2.5.*,!=2.6.*,!=2.7.*,<3,>=1.15.5->fairness_indicators) (2.8.0)\r\n",
      "Requirement already satisfied: tensorflow-serving-api!=2.0.*,!=2.1.*,!=2.2.*,!=2.3.*,!=2.4.*,!=2.5.*,!=2.6.*,!=2.7.*,<3,>=1.15 in /tmpfs/src/tf_docs_env/lib/python3.7/site-packages (from tfx-bsl<1.8.0,>=1.7.0->tensorflow-model-analysis<0.39,>=0.38->fairness_indicators) (2.8.0)\r\n",
      "Requirement already satisfied: pytz>=2017.3 in /tmpfs/src/tf_docs_env/lib/python3.7/site-packages (from pandas<2,>=1.0->tensorflow-model-analysis<0.39,>=0.38->fairness_indicators) (2022.1)\r\n",
      "Requirement already satisfied: python-dateutil>=2.7.3 in /tmpfs/src/tf_docs_env/lib/python3.7/site-packages (from pandas<2,>=1.0->tensorflow-model-analysis<0.39,>=0.38->fairness_indicators) (2.8.2)\r\n",
      "Requirement already satisfied: googleapis-common-protos<2,>=1.52.0 in /tmpfs/src/tf_docs_env/lib/python3.7/site-packages (from tensorflow-metadata<1.8.0,>=1.7.0->tensorflow-model-analysis<0.39,>=0.38->fairness_indicators) (1.56.0)\r\n",
      "Requirement already satisfied: pickleshare in /tmpfs/src/tf_docs_env/lib/python3.7/site-packages (from ipython<8,>=7->tensorflow-model-analysis<0.39,>=0.38->fairness_indicators) (0.7.5)\r\n",
      "Requirement already satisfied: prompt-toolkit!=3.0.0,!=3.0.1,<3.1.0,>=2.0.0 in /tmpfs/src/tf_docs_env/lib/python3.7/site-packages (from ipython<8,>=7->tensorflow-model-analysis<0.39,>=0.38->fairness_indicators) (3.0.28)\r\n",
      "Requirement already satisfied: traitlets>=4.2 in /tmpfs/src/tf_docs_env/lib/python3.7/site-packages (from ipython<8,>=7->tensorflow-model-analysis<0.39,>=0.38->fairness_indicators) (5.1.1)\r\n",
      "Requirement already satisfied: pygments in /tmpfs/src/tf_docs_env/lib/python3.7/site-packages (from ipython<8,>=7->tensorflow-model-analysis<0.39,>=0.38->fairness_indicators) (2.11.2)\r\n",
      "Requirement already satisfied: matplotlib-inline in /tmpfs/src/tf_docs_env/lib/python3.7/site-packages (from ipython<8,>=7->tensorflow-model-analysis<0.39,>=0.38->fairness_indicators) (0.1.3)\r\n",
      "Requirement already satisfied: pexpect>4.3; sys_platform != \"win32\" in /tmpfs/src/tf_docs_env/lib/python3.7/site-packages (from ipython<8,>=7->tensorflow-model-analysis<0.39,>=0.38->fairness_indicators) (4.8.0)\r\n",
      "Requirement already satisfied: jedi>=0.16 in /tmpfs/src/tf_docs_env/lib/python3.7/site-packages (from ipython<8,>=7->tensorflow-model-analysis<0.39,>=0.38->fairness_indicators) (0.18.1)\r\n"
     ]
    },
    {
     "name": "stdout",
     "output_type": "stream",
     "text": [
      "Requirement already satisfied: decorator in /tmpfs/src/tf_docs_env/lib/python3.7/site-packages (from ipython<8,>=7->tensorflow-model-analysis<0.39,>=0.38->fairness_indicators) (5.1.1)\r\n",
      "Requirement already satisfied: backcall in /tmpfs/src/tf_docs_env/lib/python3.7/site-packages (from ipython<8,>=7->tensorflow-model-analysis<0.39,>=0.38->fairness_indicators) (0.2.0)\r\n",
      "Requirement already satisfied: ipython-genutils~=0.2.0 in /tmpfs/src/tf_docs_env/lib/python3.7/site-packages (from ipywidgets<8,>=7->tensorflow-model-analysis<0.39,>=0.38->fairness_indicators) (0.2.0)\r\n",
      "Requirement already satisfied: jupyterlab-widgets>=1.0.0; python_version >= \"3.6\" in /tmpfs/src/tf_docs_env/lib/python3.7/site-packages (from ipywidgets<8,>=7->tensorflow-model-analysis<0.39,>=0.38->fairness_indicators) (1.1.0)\r\n",
      "Requirement already satisfied: widgetsnbextension~=3.6.0 in /tmpfs/src/tf_docs_env/lib/python3.7/site-packages (from ipywidgets<8,>=7->tensorflow-model-analysis<0.39,>=0.38->fairness_indicators) (3.6.0)\r\n",
      "Requirement already satisfied: ipykernel>=4.5.1 in /tmpfs/src/tf_docs_env/lib/python3.7/site-packages (from ipywidgets<8,>=7->tensorflow-model-analysis<0.39,>=0.38->fairness_indicators) (6.11.0)\r\n",
      "Requirement already satisfied: nbformat>=4.2.0 in /tmpfs/src/tf_docs_env/lib/python3.7/site-packages (from ipywidgets<8,>=7->tensorflow-model-analysis<0.39,>=0.38->fairness_indicators) (5.2.0)\r\n",
      "Requirement already satisfied: orjson<4.0 in /tmpfs/src/tf_docs_env/lib/python3.7/site-packages (from apache-beam[gcp]<3,>=2.36->tensorflow-model-analysis<0.39,>=0.38->fairness_indicators) (3.6.7)\r\n",
      "Requirement already satisfied: hdfs<3.0.0,>=2.1.0 in /tmpfs/src/tf_docs_env/lib/python3.7/site-packages (from apache-beam[gcp]<3,>=2.36->tensorflow-model-analysis<0.39,>=0.38->fairness_indicators) (2.7.0)\r\n",
      "Requirement already satisfied: fastavro<2,>=0.23.6 in /tmpfs/src/tf_docs_env/lib/python3.7/site-packages (from apache-beam[gcp]<3,>=2.36->tensorflow-model-analysis<0.39,>=0.38->fairness_indicators) (1.4.10)\r\n",
      "Requirement already satisfied: crcmod<2.0,>=1.7 in /tmpfs/src/tf_docs_env/lib/python3.7/site-packages (from apache-beam[gcp]<3,>=2.36->tensorflow-model-analysis<0.39,>=0.38->fairness_indicators) (1.7)\r\n",
      "Requirement already satisfied: proto-plus<2,>=1.7.1 in /tmpfs/src/tf_docs_env/lib/python3.7/site-packages (from apache-beam[gcp]<3,>=2.36->tensorflow-model-analysis<0.39,>=0.38->fairness_indicators) (1.20.3)\r\n",
      "Requirement already satisfied: dill<0.3.2,>=0.3.1.1 in /tmpfs/src/tf_docs_env/lib/python3.7/site-packages (from apache-beam[gcp]<3,>=2.36->tensorflow-model-analysis<0.39,>=0.38->fairness_indicators) (0.3.1.1)\r\n"
     ]
    },
    {
     "name": "stdout",
     "output_type": "stream",
     "text": [
      "Requirement already satisfied: httplib2<0.20.0,>=0.8 in /tmpfs/src/tf_docs_env/lib/python3.7/site-packages (from apache-beam[gcp]<3,>=2.36->tensorflow-model-analysis<0.39,>=0.38->fairness_indicators) (0.19.1)\r\n",
      "Requirement already satisfied: requests<3.0.0,>=2.24.0 in /tmpfs/src/tf_docs_env/lib/python3.7/site-packages (from apache-beam[gcp]<3,>=2.36->tensorflow-model-analysis<0.39,>=0.38->fairness_indicators) (2.27.1)\r\n",
      "Requirement already satisfied: cloudpickle<3,>=2.0.0 in /tmpfs/src/tf_docs_env/lib/python3.7/site-packages (from apache-beam[gcp]<3,>=2.36->tensorflow-model-analysis<0.39,>=0.38->fairness_indicators) (2.0.0)\r\n",
      "Requirement already satisfied: pydot<2,>=1.2.0 in /tmpfs/src/tf_docs_env/lib/python3.7/site-packages (from apache-beam[gcp]<3,>=2.36->tensorflow-model-analysis<0.39,>=0.38->fairness_indicators) (1.4.2)\r\n",
      "Requirement already satisfied: pymongo<4.0.0,>=3.8.0 in /tmpfs/src/tf_docs_env/lib/python3.7/site-packages (from apache-beam[gcp]<3,>=2.36->tensorflow-model-analysis<0.39,>=0.38->fairness_indicators) (3.12.3)\r\n",
      "Requirement already satisfied: google-cloud-spanner<2,>=1.13.0; extra == \"gcp\" in /tmpfs/src/tf_docs_env/lib/python3.7/site-packages (from apache-beam[gcp]<3,>=2.36->tensorflow-model-analysis<0.39,>=0.38->fairness_indicators) (1.19.1)\r\n",
      "Requirement already satisfied: google-cloud-bigtable<2,>=0.31.1; extra == \"gcp\" in /tmpfs/src/tf_docs_env/lib/python3.7/site-packages (from apache-beam[gcp]<3,>=2.36->tensorflow-model-analysis<0.39,>=0.38->fairness_indicators) (1.7.0)\r\n",
      "Requirement already satisfied: google-apitools<0.5.32,>=0.5.31; extra == \"gcp\" in /tmpfs/src/tf_docs_env/lib/python3.7/site-packages (from apache-beam[gcp]<3,>=2.36->tensorflow-model-analysis<0.39,>=0.38->fairness_indicators) (0.5.31)\r\n",
      "Requirement already satisfied: google-cloud-core<2,>=0.28.1; extra == \"gcp\" in /tmpfs/src/tf_docs_env/lib/python3.7/site-packages (from apache-beam[gcp]<3,>=2.36->tensorflow-model-analysis<0.39,>=0.38->fairness_indicators) (1.7.2)\r\n"
     ]
    },
    {
     "name": "stdout",
     "output_type": "stream",
     "text": [
      "Requirement already satisfied: google-cloud-bigquery<3,>=1.6.0; extra == \"gcp\" in /tmpfs/src/tf_docs_env/lib/python3.7/site-packages (from apache-beam[gcp]<3,>=2.36->tensorflow-model-analysis<0.39,>=0.38->fairness_indicators) (2.34.3)\r\n",
      "Requirement already satisfied: google-cloud-language<2,>=1.3.0; extra == \"gcp\" in /tmpfs/src/tf_docs_env/lib/python3.7/site-packages (from apache-beam[gcp]<3,>=2.36->tensorflow-model-analysis<0.39,>=0.38->fairness_indicators) (1.3.0)\r\n",
      "Requirement already satisfied: google-cloud-pubsub<3,>=2.1.0; extra == \"gcp\" in /tmpfs/src/tf_docs_env/lib/python3.7/site-packages (from apache-beam[gcp]<3,>=2.36->tensorflow-model-analysis<0.39,>=0.38->fairness_indicators) (2.11.0)\r\n"
     ]
    },
    {
     "name": "stdout",
     "output_type": "stream",
     "text": [
      "Requirement already satisfied: google-cloud-dlp<4,>=3.0.0; extra == \"gcp\" in /tmpfs/src/tf_docs_env/lib/python3.7/site-packages (from apache-beam[gcp]<3,>=2.36->tensorflow-model-analysis<0.39,>=0.38->fairness_indicators) (3.6.2)\r\n",
      "Requirement already satisfied: google-cloud-datastore<2,>=1.8.0; extra == \"gcp\" in /tmpfs/src/tf_docs_env/lib/python3.7/site-packages (from apache-beam[gcp]<3,>=2.36->tensorflow-model-analysis<0.39,>=0.38->fairness_indicators) (1.15.3)\r\n",
      "Requirement already satisfied: cachetools<5,>=3.1.0; extra == \"gcp\" in /tmpfs/src/tf_docs_env/lib/python3.7/site-packages (from apache-beam[gcp]<3,>=2.36->tensorflow-model-analysis<0.39,>=0.38->fairness_indicators) (4.2.4)\r\n",
      "Requirement already satisfied: google-cloud-pubsublite<2,>=1.2.0; extra == \"gcp\" in /tmpfs/src/tf_docs_env/lib/python3.7/site-packages (from apache-beam[gcp]<3,>=2.36->tensorflow-model-analysis<0.39,>=0.38->fairness_indicators) (1.4.1)\r\n",
      "Requirement already satisfied: grpcio-gcp<1,>=0.2.2; extra == \"gcp\" in /tmpfs/src/tf_docs_env/lib/python3.7/site-packages (from apache-beam[gcp]<3,>=2.36->tensorflow-model-analysis<0.39,>=0.38->fairness_indicators) (0.2.2)\r\n",
      "Requirement already satisfied: google-cloud-bigquery-storage>=2.6.3; extra == \"gcp\" in /tmpfs/src/tf_docs_env/lib/python3.7/site-packages (from apache-beam[gcp]<3,>=2.36->tensorflow-model-analysis<0.39,>=0.38->fairness_indicators) (2.13.0)\r\n",
      "Requirement already satisfied: google-auth<3,>=1.18.0; extra == \"gcp\" in /tmpfs/src/tf_docs_env/lib/python3.7/site-packages (from apache-beam[gcp]<3,>=2.36->tensorflow-model-analysis<0.39,>=0.38->fairness_indicators) (2.6.2)\r\n",
      "Requirement already satisfied: google-cloud-videointelligence<2,>=1.8.0; extra == \"gcp\" in /tmpfs/src/tf_docs_env/lib/python3.7/site-packages (from apache-beam[gcp]<3,>=2.36->tensorflow-model-analysis<0.39,>=0.38->fairness_indicators) (1.16.1)\r\n",
      "Requirement already satisfied: google-cloud-vision<2,>=0.38.0; extra == \"gcp\" in /tmpfs/src/tf_docs_env/lib/python3.7/site-packages (from apache-beam[gcp]<3,>=2.36->tensorflow-model-analysis<0.39,>=0.38->fairness_indicators) (1.0.0)\r\n",
      "Requirement already satisfied: google-cloud-recommendations-ai<=0.2.0,>=0.1.0; extra == \"gcp\" in /tmpfs/src/tf_docs_env/lib/python3.7/site-packages (from apache-beam[gcp]<3,>=2.36->tensorflow-model-analysis<0.39,>=0.38->fairness_indicators) (0.2.0)\r\n"
     ]
    },
    {
     "name": "stdout",
     "output_type": "stream",
     "text": [
      "Requirement already satisfied: rsa>=3.1.4 in /tmpfs/src/tf_docs_env/lib/python3.7/site-packages (from oauth2client>=4.1.3->witwidget<2,>=1.4.4->fairness_indicators) (4.8)\r\n",
      "Requirement already satisfied: pyasn1-modules>=0.0.5 in /tmpfs/src/tf_docs_env/lib/python3.7/site-packages (from oauth2client>=4.1.3->witwidget<2,>=1.4.4->fairness_indicators) (0.2.8)\r\n",
      "Requirement already satisfied: pyasn1>=0.1.7 in /tmpfs/src/tf_docs_env/lib/python3.7/site-packages (from oauth2client>=4.1.3->witwidget<2,>=1.4.4->fairness_indicators) (0.4.8)\r\n",
      "Requirement already satisfied: google-auth-httplib2>=0.0.3 in /tmpfs/src/tf_docs_env/lib/python3.7/site-packages (from google-api-python-client>=1.7.8->witwidget<2,>=1.4.4->fairness_indicators) (0.1.0)\r\n",
      "Requirement already satisfied: google-api-core<2dev,>=1.13.0 in /tmpfs/src/tf_docs_env/lib/python3.7/site-packages (from google-api-python-client>=1.7.8->witwidget<2,>=1.4.4->fairness_indicators) (1.31.5)\r\n",
      "Requirement already satisfied: uritemplate<4dev,>=3.0.0 in /tmpfs/src/tf_docs_env/lib/python3.7/site-packages (from google-api-python-client>=1.7.8->witwidget<2,>=1.4.4->fairness_indicators) (3.0.1)\r\n",
      "Requirement already satisfied: wheel<1.0,>=0.23.0 in /tmpfs/src/tf_docs_env/lib/python3.7/site-packages (from astunparse>=1.6.0->tensorflow!=2.0.*,!=2.1.*,!=2.2.*,!=2.3.*,!=2.4.*,!=2.5.*,!=2.6.*,!=2.7.*,<3,>=1.15.5->fairness_indicators) (0.37.1)\r\n",
      "Requirement already satisfied: cached-property; python_version < \"3.8\" in /tmpfs/src/tf_docs_env/lib/python3.7/site-packages (from h5py>=2.9.0->tensorflow!=2.0.*,!=2.1.*,!=2.2.*,!=2.3.*,!=2.4.*,!=2.5.*,!=2.6.*,!=2.7.*,<3,>=1.15.5->fairness_indicators) (1.5.2)\r\n",
      "Requirement already satisfied: tensorboard-plugin-wit>=1.6.0 in /tmpfs/src/tf_docs_env/lib/python3.7/site-packages (from tensorboard<2.9,>=2.8->tensorflow!=2.0.*,!=2.1.*,!=2.2.*,!=2.3.*,!=2.4.*,!=2.5.*,!=2.6.*,!=2.7.*,<3,>=1.15.5->fairness_indicators) (1.8.1)\r\n",
      "Requirement already satisfied: google-auth-oauthlib<0.5,>=0.4.1 in /tmpfs/src/tf_docs_env/lib/python3.7/site-packages (from tensorboard<2.9,>=2.8->tensorflow!=2.0.*,!=2.1.*,!=2.2.*,!=2.3.*,!=2.4.*,!=2.5.*,!=2.6.*,!=2.7.*,<3,>=1.15.5->fairness_indicators) (0.4.6)\r\n",
      "Requirement already satisfied: tensorboard-data-server<0.7.0,>=0.6.0 in /tmpfs/src/tf_docs_env/lib/python3.7/site-packages (from tensorboard<2.9,>=2.8->tensorflow!=2.0.*,!=2.1.*,!=2.2.*,!=2.3.*,!=2.4.*,!=2.5.*,!=2.6.*,!=2.7.*,<3,>=1.15.5->fairness_indicators) (0.6.1)\r\n",
      "Requirement already satisfied: markdown>=2.6.8 in /tmpfs/src/tf_docs_env/lib/python3.7/site-packages (from tensorboard<2.9,>=2.8->tensorflow!=2.0.*,!=2.1.*,!=2.2.*,!=2.3.*,!=2.4.*,!=2.5.*,!=2.6.*,!=2.7.*,<3,>=1.15.5->fairness_indicators) (3.3.6)\r\n",
      "Requirement already satisfied: werkzeug>=0.11.15 in /tmpfs/src/tf_docs_env/lib/python3.7/site-packages (from tensorboard<2.9,>=2.8->tensorflow!=2.0.*,!=2.1.*,!=2.2.*,!=2.3.*,!=2.4.*,!=2.5.*,!=2.6.*,!=2.7.*,<3,>=1.15.5->fairness_indicators) (2.1.0)\r\n",
      "Requirement already satisfied: wcwidth in /tmpfs/src/tf_docs_env/lib/python3.7/site-packages (from prompt-toolkit!=3.0.0,!=3.0.1,<3.1.0,>=2.0.0->ipython<8,>=7->tensorflow-model-analysis<0.39,>=0.38->fairness_indicators) (0.2.5)\r\n",
      "Requirement already satisfied: ptyprocess>=0.5 in /tmpfs/src/tf_docs_env/lib/python3.7/site-packages (from pexpect>4.3; sys_platform != \"win32\"->ipython<8,>=7->tensorflow-model-analysis<0.39,>=0.38->fairness_indicators) (0.7.0)\r\n",
      "Requirement already satisfied: parso<0.9.0,>=0.8.0 in /tmpfs/src/tf_docs_env/lib/python3.7/site-packages (from jedi>=0.16->ipython<8,>=7->tensorflow-model-analysis<0.39,>=0.38->fairness_indicators) (0.8.3)\r\n"
     ]
    },
    {
     "name": "stdout",
     "output_type": "stream",
     "text": [
      "Requirement already satisfied: notebook>=4.4.1 in /tmpfs/src/tf_docs_env/lib/python3.7/site-packages (from widgetsnbextension~=3.6.0->ipywidgets<8,>=7->tensorflow-model-analysis<0.39,>=0.38->fairness_indicators) (6.4.10)\r\n",
      "Requirement already satisfied: debugpy>=1.0 in /tmpfs/src/tf_docs_env/lib/python3.7/site-packages (from ipykernel>=4.5.1->ipywidgets<8,>=7->tensorflow-model-analysis<0.39,>=0.38->fairness_indicators) (1.6.0)\r\n",
      "Requirement already satisfied: psutil in /tmpfs/src/tf_docs_env/lib/python3.7/site-packages (from ipykernel>=4.5.1->ipywidgets<8,>=7->tensorflow-model-analysis<0.39,>=0.38->fairness_indicators) (5.9.0)\r\n",
      "Requirement already satisfied: jupyter-client>=6.1.12 in /tmpfs/src/tf_docs_env/lib/python3.7/site-packages (from ipykernel>=4.5.1->ipywidgets<8,>=7->tensorflow-model-analysis<0.39,>=0.38->fairness_indicators) (7.2.1)\r\n",
      "Requirement already satisfied: nest-asyncio in /tmpfs/src/tf_docs_env/lib/python3.7/site-packages (from ipykernel>=4.5.1->ipywidgets<8,>=7->tensorflow-model-analysis<0.39,>=0.38->fairness_indicators) (1.5.4)\r\n",
      "Requirement already satisfied: tornado>=6.1 in /tmpfs/src/tf_docs_env/lib/python3.7/site-packages (from ipykernel>=4.5.1->ipywidgets<8,>=7->tensorflow-model-analysis<0.39,>=0.38->fairness_indicators) (6.1)\r\n"
     ]
    },
    {
     "name": "stdout",
     "output_type": "stream",
     "text": [
      "Requirement already satisfied: jupyter-core in /tmpfs/src/tf_docs_env/lib/python3.7/site-packages (from nbformat>=4.2.0->ipywidgets<8,>=7->tensorflow-model-analysis<0.39,>=0.38->fairness_indicators) (4.9.2)\r\n",
      "Requirement already satisfied: jsonschema!=2.5.0,>=2.4 in /tmpfs/src/tf_docs_env/lib/python3.7/site-packages (from nbformat>=4.2.0->ipywidgets<8,>=7->tensorflow-model-analysis<0.39,>=0.38->fairness_indicators) (4.4.0)\r\n",
      "Requirement already satisfied: docopt in /tmpfs/src/tf_docs_env/lib/python3.7/site-packages (from hdfs<3.0.0,>=2.1.0->apache-beam[gcp]<3,>=2.36->tensorflow-model-analysis<0.39,>=0.38->fairness_indicators) (0.6.2)\r\n",
      "Requirement already satisfied: pyparsing<3,>=2.4.2 in /tmpfs/src/tf_docs_env/lib/python3.7/site-packages (from httplib2<0.20.0,>=0.8->apache-beam[gcp]<3,>=2.36->tensorflow-model-analysis<0.39,>=0.38->fairness_indicators) (2.4.7)\r\n",
      "Requirement already satisfied: charset-normalizer~=2.0.0; python_version >= \"3\" in /tmpfs/src/tf_docs_env/lib/python3.7/site-packages (from requests<3.0.0,>=2.24.0->apache-beam[gcp]<3,>=2.36->tensorflow-model-analysis<0.39,>=0.38->fairness_indicators) (2.0.12)\r\n",
      "Requirement already satisfied: urllib3<1.27,>=1.21.1 in /tmpfs/src/tf_docs_env/lib/python3.7/site-packages (from requests<3.0.0,>=2.24.0->apache-beam[gcp]<3,>=2.36->tensorflow-model-analysis<0.39,>=0.38->fairness_indicators) (1.26.9)\r\n",
      "Requirement already satisfied: certifi>=2017.4.17 in /tmpfs/src/tf_docs_env/lib/python3.7/site-packages (from requests<3.0.0,>=2.24.0->apache-beam[gcp]<3,>=2.36->tensorflow-model-analysis<0.39,>=0.38->fairness_indicators) (2021.10.8)\r\n",
      "Requirement already satisfied: idna<4,>=2.5; python_version >= \"3\" in /tmpfs/src/tf_docs_env/lib/python3.7/site-packages (from requests<3.0.0,>=2.24.0->apache-beam[gcp]<3,>=2.36->tensorflow-model-analysis<0.39,>=0.38->fairness_indicators) (3.3)\r\n",
      "Requirement already satisfied: grpc-google-iam-v1<0.13dev,>=0.12.3 in /tmpfs/src/tf_docs_env/lib/python3.7/site-packages (from google-cloud-spanner<2,>=1.13.0; extra == \"gcp\"->apache-beam[gcp]<3,>=2.36->tensorflow-model-analysis<0.39,>=0.38->fairness_indicators) (0.12.3)\r\n",
      "Requirement already satisfied: fasteners>=0.14 in /tmpfs/src/tf_docs_env/lib/python3.7/site-packages (from google-apitools<0.5.32,>=0.5.31; extra == \"gcp\"->apache-beam[gcp]<3,>=2.36->tensorflow-model-analysis<0.39,>=0.38->fairness_indicators) (0.17.3)\r\n",
      "Requirement already satisfied: packaging>=14.3 in /tmpfs/src/tf_docs_env/lib/python3.7/site-packages (from google-cloud-bigquery<3,>=1.6.0; extra == \"gcp\"->apache-beam[gcp]<3,>=2.36->tensorflow-model-analysis<0.39,>=0.38->fairness_indicators) (21.3)\r\n"
     ]
    },
    {
     "name": "stdout",
     "output_type": "stream",
     "text": [
      "Requirement already satisfied: google-resumable-media<3.0dev,>=0.6.0 in /tmpfs/src/tf_docs_env/lib/python3.7/site-packages (from google-cloud-bigquery<3,>=1.6.0; extra == \"gcp\"->apache-beam[gcp]<3,>=2.36->tensorflow-model-analysis<0.39,>=0.38->fairness_indicators) (2.3.2)\r\n",
      "Requirement already satisfied: grpcio-status>=1.16.0 in /tmpfs/src/tf_docs_env/lib/python3.7/site-packages (from google-cloud-pubsub<3,>=2.1.0; extra == \"gcp\"->apache-beam[gcp]<3,>=2.36->tensorflow-model-analysis<0.39,>=0.38->fairness_indicators) (1.45.0)\r\n",
      "Requirement already satisfied: overrides<7.0.0,>=6.0.1 in /tmpfs/src/tf_docs_env/lib/python3.7/site-packages (from google-cloud-pubsublite<2,>=1.2.0; extra == \"gcp\"->apache-beam[gcp]<3,>=2.36->tensorflow-model-analysis<0.39,>=0.38->fairness_indicators) (6.1.0)\r\n",
      "Requirement already satisfied: requests-oauthlib>=0.7.0 in /tmpfs/src/tf_docs_env/lib/python3.7/site-packages (from google-auth-oauthlib<0.5,>=0.4.1->tensorboard<2.9,>=2.8->tensorflow!=2.0.*,!=2.1.*,!=2.2.*,!=2.3.*,!=2.4.*,!=2.5.*,!=2.6.*,!=2.7.*,<3,>=1.15.5->fairness_indicators) (1.3.1)\r\n",
      "Requirement already satisfied: importlib-metadata>=4.4; python_version < \"3.10\" in /tmpfs/src/tf_docs_env/lib/python3.7/site-packages (from markdown>=2.6.8->tensorboard<2.9,>=2.8->tensorflow!=2.0.*,!=2.1.*,!=2.2.*,!=2.3.*,!=2.4.*,!=2.5.*,!=2.6.*,!=2.7.*,<3,>=1.15.5->fairness_indicators) (4.11.3)\r\n",
      "Requirement already satisfied: Send2Trash>=1.8.0 in /tmpfs/src/tf_docs_env/lib/python3.7/site-packages (from notebook>=4.4.1->widgetsnbextension~=3.6.0->ipywidgets<8,>=7->tensorflow-model-analysis<0.39,>=0.38->fairness_indicators) (1.8.0)\r\n",
      "Requirement already satisfied: terminado>=0.8.3 in /tmpfs/src/tf_docs_env/lib/python3.7/site-packages (from notebook>=4.4.1->widgetsnbextension~=3.6.0->ipywidgets<8,>=7->tensorflow-model-analysis<0.39,>=0.38->fairness_indicators) (0.13.3)\r\n",
      "Requirement already satisfied: jinja2 in /tmpfs/src/tf_docs_env/lib/python3.7/site-packages (from notebook>=4.4.1->widgetsnbextension~=3.6.0->ipywidgets<8,>=7->tensorflow-model-analysis<0.39,>=0.38->fairness_indicators) (2.11.3)\r\n",
      "Requirement already satisfied: argon2-cffi in /tmpfs/src/tf_docs_env/lib/python3.7/site-packages (from notebook>=4.4.1->widgetsnbextension~=3.6.0->ipywidgets<8,>=7->tensorflow-model-analysis<0.39,>=0.38->fairness_indicators) (21.3.0)\r\n"
     ]
    },
    {
     "name": "stdout",
     "output_type": "stream",
     "text": [
      "Requirement already satisfied: nbconvert>=5 in /tmpfs/src/tf_docs_env/lib/python3.7/site-packages (from notebook>=4.4.1->widgetsnbextension~=3.6.0->ipywidgets<8,>=7->tensorflow-model-analysis<0.39,>=0.38->fairness_indicators) (6.4.5)\r\n",
      "Requirement already satisfied: prometheus-client in /tmpfs/src/tf_docs_env/lib/python3.7/site-packages (from notebook>=4.4.1->widgetsnbextension~=3.6.0->ipywidgets<8,>=7->tensorflow-model-analysis<0.39,>=0.38->fairness_indicators) (0.13.1)\r\n",
      "Requirement already satisfied: pyzmq>=17 in /tmpfs/src/tf_docs_env/lib/python3.7/site-packages (from notebook>=4.4.1->widgetsnbextension~=3.6.0->ipywidgets<8,>=7->tensorflow-model-analysis<0.39,>=0.38->fairness_indicators) (22.3.0)\r\n",
      "Requirement already satisfied: entrypoints in /tmpfs/src/tf_docs_env/lib/python3.7/site-packages (from jupyter-client>=6.1.12->ipykernel>=4.5.1->ipywidgets<8,>=7->tensorflow-model-analysis<0.39,>=0.38->fairness_indicators) (0.4)\r\n",
      "Requirement already satisfied: pyrsistent!=0.17.0,!=0.17.1,!=0.17.2,>=0.14.0 in /tmpfs/src/tf_docs_env/lib/python3.7/site-packages (from jsonschema!=2.5.0,>=2.4->nbformat>=4.2.0->ipywidgets<8,>=7->tensorflow-model-analysis<0.39,>=0.38->fairness_indicators) (0.18.1)\r\n",
      "Requirement already satisfied: attrs>=17.4.0 in /tmpfs/src/tf_docs_env/lib/python3.7/site-packages (from jsonschema!=2.5.0,>=2.4->nbformat>=4.2.0->ipywidgets<8,>=7->tensorflow-model-analysis<0.39,>=0.38->fairness_indicators) (21.4.0)\r\n"
     ]
    },
    {
     "name": "stdout",
     "output_type": "stream",
     "text": [
      "Requirement already satisfied: importlib-resources>=1.4.0; python_version < \"3.9\" in /tmpfs/src/tf_docs_env/lib/python3.7/site-packages (from jsonschema!=2.5.0,>=2.4->nbformat>=4.2.0->ipywidgets<8,>=7->tensorflow-model-analysis<0.39,>=0.38->fairness_indicators) (5.6.0)\r\n",
      "Requirement already satisfied: google-crc32c<2.0dev,>=1.0 in /tmpfs/src/tf_docs_env/lib/python3.7/site-packages (from google-resumable-media<3.0dev,>=0.6.0->google-cloud-bigquery<3,>=1.6.0; extra == \"gcp\"->apache-beam[gcp]<3,>=2.36->tensorflow-model-analysis<0.39,>=0.38->fairness_indicators) (1.3.0)\r\n",
      "Requirement already satisfied: typing-utils>=0.0.3 in /tmpfs/src/tf_docs_env/lib/python3.7/site-packages (from overrides<7.0.0,>=6.0.1->google-cloud-pubsublite<2,>=1.2.0; extra == \"gcp\"->apache-beam[gcp]<3,>=2.36->tensorflow-model-analysis<0.39,>=0.38->fairness_indicators) (0.1.0)\r\n",
      "Requirement already satisfied: oauthlib>=3.0.0 in /tmpfs/src/tf_docs_env/lib/python3.7/site-packages (from requests-oauthlib>=0.7.0->google-auth-oauthlib<0.5,>=0.4.1->tensorboard<2.9,>=2.8->tensorflow!=2.0.*,!=2.1.*,!=2.2.*,!=2.3.*,!=2.4.*,!=2.5.*,!=2.6.*,!=2.7.*,<3,>=1.15.5->fairness_indicators) (3.2.0)\r\n",
      "Requirement already satisfied: zipp>=0.5 in /tmpfs/src/tf_docs_env/lib/python3.7/site-packages (from importlib-metadata>=4.4; python_version < \"3.10\"->markdown>=2.6.8->tensorboard<2.9,>=2.8->tensorflow!=2.0.*,!=2.1.*,!=2.2.*,!=2.3.*,!=2.4.*,!=2.5.*,!=2.6.*,!=2.7.*,<3,>=1.15.5->fairness_indicators) (3.7.0)\r\n",
      "Requirement already satisfied: MarkupSafe>=0.23 in /tmpfs/src/tf_docs_env/lib/python3.7/site-packages (from jinja2->notebook>=4.4.1->widgetsnbextension~=3.6.0->ipywidgets<8,>=7->tensorflow-model-analysis<0.39,>=0.38->fairness_indicators) (2.0.1)\r\n",
      "Requirement already satisfied: argon2-cffi-bindings in /tmpfs/src/tf_docs_env/lib/python3.7/site-packages (from argon2-cffi->notebook>=4.4.1->widgetsnbextension~=3.6.0->ipywidgets<8,>=7->tensorflow-model-analysis<0.39,>=0.38->fairness_indicators) (21.2.0)\r\n"
     ]
    },
    {
     "name": "stdout",
     "output_type": "stream",
     "text": [
      "Requirement already satisfied: nbclient<0.6.0,>=0.5.0 in /tmpfs/src/tf_docs_env/lib/python3.7/site-packages (from nbconvert>=5->notebook>=4.4.1->widgetsnbextension~=3.6.0->ipywidgets<8,>=7->tensorflow-model-analysis<0.39,>=0.38->fairness_indicators) (0.5.13)\r\n",
      "Requirement already satisfied: pandocfilters>=1.4.1 in /tmpfs/src/tf_docs_env/lib/python3.7/site-packages (from nbconvert>=5->notebook>=4.4.1->widgetsnbextension~=3.6.0->ipywidgets<8,>=7->tensorflow-model-analysis<0.39,>=0.38->fairness_indicators) (1.5.0)\r\n",
      "Requirement already satisfied: testpath in /tmpfs/src/tf_docs_env/lib/python3.7/site-packages (from nbconvert>=5->notebook>=4.4.1->widgetsnbextension~=3.6.0->ipywidgets<8,>=7->tensorflow-model-analysis<0.39,>=0.38->fairness_indicators) (0.6.0)\r\n",
      "Requirement already satisfied: defusedxml in /tmpfs/src/tf_docs_env/lib/python3.7/site-packages (from nbconvert>=5->notebook>=4.4.1->widgetsnbextension~=3.6.0->ipywidgets<8,>=7->tensorflow-model-analysis<0.39,>=0.38->fairness_indicators) (0.7.1)\r\n",
      "Requirement already satisfied: bleach in /tmpfs/src/tf_docs_env/lib/python3.7/site-packages (from nbconvert>=5->notebook>=4.4.1->widgetsnbextension~=3.6.0->ipywidgets<8,>=7->tensorflow-model-analysis<0.39,>=0.38->fairness_indicators) (4.1.0)\r\n",
      "Requirement already satisfied: jupyterlab-pygments in /tmpfs/src/tf_docs_env/lib/python3.7/site-packages (from nbconvert>=5->notebook>=4.4.1->widgetsnbextension~=3.6.0->ipywidgets<8,>=7->tensorflow-model-analysis<0.39,>=0.38->fairness_indicators) (0.1.2)\r\n",
      "Requirement already satisfied: beautifulsoup4 in /tmpfs/src/tf_docs_env/lib/python3.7/site-packages (from nbconvert>=5->notebook>=4.4.1->widgetsnbextension~=3.6.0->ipywidgets<8,>=7->tensorflow-model-analysis<0.39,>=0.38->fairness_indicators) (4.10.0)\r\n",
      "Requirement already satisfied: mistune<2,>=0.8.1 in /tmpfs/src/tf_docs_env/lib/python3.7/site-packages (from nbconvert>=5->notebook>=4.4.1->widgetsnbextension~=3.6.0->ipywidgets<8,>=7->tensorflow-model-analysis<0.39,>=0.38->fairness_indicators) (0.8.4)\r\n",
      "Requirement already satisfied: cffi>=1.0.1 in /tmpfs/src/tf_docs_env/lib/python3.7/site-packages (from argon2-cffi-bindings->argon2-cffi->notebook>=4.4.1->widgetsnbextension~=3.6.0->ipywidgets<8,>=7->tensorflow-model-analysis<0.39,>=0.38->fairness_indicators) (1.15.0)\r\n",
      "Requirement already satisfied: webencodings in /tmpfs/src/tf_docs_env/lib/python3.7/site-packages (from bleach->nbconvert>=5->notebook>=4.4.1->widgetsnbextension~=3.6.0->ipywidgets<8,>=7->tensorflow-model-analysis<0.39,>=0.38->fairness_indicators) (0.5.1)\r\n",
      "Requirement already satisfied: soupsieve>1.2 in /tmpfs/src/tf_docs_env/lib/python3.7/site-packages (from beautifulsoup4->nbconvert>=5->notebook>=4.4.1->widgetsnbextension~=3.6.0->ipywidgets<8,>=7->tensorflow-model-analysis<0.39,>=0.38->fairness_indicators) (2.3.1)\r\n",
      "Requirement already satisfied: pycparser in /tmpfs/src/tf_docs_env/lib/python3.7/site-packages (from cffi>=1.0.1->argon2-cffi-bindings->argon2-cffi->notebook>=4.4.1->widgetsnbextension~=3.6.0->ipywidgets<8,>=7->tensorflow-model-analysis<0.39,>=0.38->fairness_indicators) (2.21)\r\n"
     ]
    },
    {
     "name": "stdout",
     "output_type": "stream",
     "text": [
      "\u001b[33mWARNING: You are using pip version 20.2; however, version 22.0.4 is available.\r\n",
      "You should consider upgrading via the '/tmpfs/src/tf_docs_env/bin/python -m pip install --upgrade pip' command.\u001b[0m\r\n"
     ]
    },
    {
     "name": "stdout",
     "output_type": "stream",
     "text": [
      "Requirement already satisfied: google-api-python-client==1.8.3 in /tmpfs/src/tf_docs_env/lib/python3.7/site-packages (1.8.3)\r\n",
      "Requirement already satisfied: uritemplate<4dev,>=3.0.0 in /tmpfs/src/tf_docs_env/lib/python3.7/site-packages (from google-api-python-client==1.8.3) (3.0.1)\r\n",
      "Requirement already satisfied: six<2dev,>=1.6.1 in /tmpfs/src/tf_docs_env/lib/python3.7/site-packages (from google-api-python-client==1.8.3) (1.16.0)\r\n",
      "Requirement already satisfied: google-auth>=1.4.1 in /tmpfs/src/tf_docs_env/lib/python3.7/site-packages (from google-api-python-client==1.8.3) (2.6.2)\r\n",
      "Requirement already satisfied: google-auth-httplib2>=0.0.3 in /tmpfs/src/tf_docs_env/lib/python3.7/site-packages (from google-api-python-client==1.8.3) (0.1.0)\r\n",
      "Requirement already satisfied: httplib2<1dev,>=0.9.2 in /tmpfs/src/tf_docs_env/lib/python3.7/site-packages (from google-api-python-client==1.8.3) (0.19.1)\r\n"
     ]
    },
    {
     "name": "stdout",
     "output_type": "stream",
     "text": [
      "Requirement already satisfied: google-api-core<2dev,>=1.13.0 in /tmpfs/src/tf_docs_env/lib/python3.7/site-packages (from google-api-python-client==1.8.3) (1.31.5)\r\n",
      "Requirement already satisfied: cachetools<6.0,>=2.0.0 in /tmpfs/src/tf_docs_env/lib/python3.7/site-packages (from google-auth>=1.4.1->google-api-python-client==1.8.3) (4.2.4)\r\n",
      "Requirement already satisfied: rsa<5,>=3.1.4; python_version >= \"3.6\" in /tmpfs/src/tf_docs_env/lib/python3.7/site-packages (from google-auth>=1.4.1->google-api-python-client==1.8.3) (4.8)\r\n",
      "Requirement already satisfied: pyasn1-modules>=0.2.1 in /tmpfs/src/tf_docs_env/lib/python3.7/site-packages (from google-auth>=1.4.1->google-api-python-client==1.8.3) (0.2.8)\r\n",
      "Requirement already satisfied: pyparsing<3,>=2.4.2 in /tmpfs/src/tf_docs_env/lib/python3.7/site-packages (from httplib2<1dev,>=0.9.2->google-api-python-client==1.8.3) (2.4.7)\r\n",
      "Requirement already satisfied: packaging>=14.3 in /tmpfs/src/tf_docs_env/lib/python3.7/site-packages (from google-api-core<2dev,>=1.13.0->google-api-python-client==1.8.3) (21.3)\r\n",
      "Requirement already satisfied: setuptools>=40.3.0 in /tmpfs/src/tf_docs_env/lib/python3.7/site-packages (from google-api-core<2dev,>=1.13.0->google-api-python-client==1.8.3) (61.3.0)\r\n"
     ]
    },
    {
     "name": "stdout",
     "output_type": "stream",
     "text": [
      "Requirement already satisfied: googleapis-common-protos<2.0dev,>=1.6.0 in /tmpfs/src/tf_docs_env/lib/python3.7/site-packages (from google-api-core<2dev,>=1.13.0->google-api-python-client==1.8.3) (1.56.0)\r\n",
      "Requirement already satisfied: protobuf>=3.12.0; python_version > \"3\" in /tmpfs/src/tf_docs_env/lib/python3.7/site-packages (from google-api-core<2dev,>=1.13.0->google-api-python-client==1.8.3) (3.20.0rc2)\r\n",
      "Requirement already satisfied: requests<3.0.0dev,>=2.18.0 in /tmpfs/src/tf_docs_env/lib/python3.7/site-packages (from google-api-core<2dev,>=1.13.0->google-api-python-client==1.8.3) (2.27.1)\r\n",
      "Requirement already satisfied: pytz in /tmpfs/src/tf_docs_env/lib/python3.7/site-packages (from google-api-core<2dev,>=1.13.0->google-api-python-client==1.8.3) (2022.1)\r\n",
      "Requirement already satisfied: pyasn1>=0.1.3 in /tmpfs/src/tf_docs_env/lib/python3.7/site-packages (from rsa<5,>=3.1.4; python_version >= \"3.6\"->google-auth>=1.4.1->google-api-python-client==1.8.3) (0.4.8)\r\n",
      "Requirement already satisfied: charset-normalizer~=2.0.0; python_version >= \"3\" in /tmpfs/src/tf_docs_env/lib/python3.7/site-packages (from requests<3.0.0dev,>=2.18.0->google-api-core<2dev,>=1.13.0->google-api-python-client==1.8.3) (2.0.12)\r\n",
      "Requirement already satisfied: idna<4,>=2.5; python_version >= \"3\" in /tmpfs/src/tf_docs_env/lib/python3.7/site-packages (from requests<3.0.0dev,>=2.18.0->google-api-core<2dev,>=1.13.0->google-api-python-client==1.8.3) (3.3)\r\n",
      "Requirement already satisfied: urllib3<1.27,>=1.21.1 in /tmpfs/src/tf_docs_env/lib/python3.7/site-packages (from requests<3.0.0dev,>=2.18.0->google-api-core<2dev,>=1.13.0->google-api-python-client==1.8.3) (1.26.9)\r\n"
     ]
    },
    {
     "name": "stdout",
     "output_type": "stream",
     "text": [
      "Requirement already satisfied: certifi>=2017.4.17 in /tmpfs/src/tf_docs_env/lib/python3.7/site-packages (from requests<3.0.0dev,>=2.18.0->google-api-core<2dev,>=1.13.0->google-api-python-client==1.8.3) (2021.10.8)\r\n"
     ]
    },
    {
     "name": "stdout",
     "output_type": "stream",
     "text": [
      "\u001b[33mWARNING: You are using pip version 20.2; however, version 22.0.4 is available.\r\n",
      "You should consider upgrading via the '/tmpfs/src/tf_docs_env/bin/python -m pip install --upgrade pip' command.\u001b[0m\r\n"
     ]
    },
    {
     "name": "stdout",
     "output_type": "stream",
     "text": [
      "Requirement already satisfied: tensorboard-plugin-fairness-indicators in /tmpfs/src/tf_docs_env/lib/python3.7/site-packages (0.38.0)\r\n",
      "Requirement already satisfied: tensorflow-model-analysis<0.39,>=0.38 in /tmpfs/src/tf_docs_env/lib/python3.7/site-packages (from tensorboard-plugin-fairness-indicators) (0.38.0)\r\n",
      "Requirement already satisfied: tensorflow<3,>=2.8.0 in /tmpfs/src/tf_docs_env/lib/python3.7/site-packages (from tensorboard-plugin-fairness-indicators) (2.8.0)\r\n",
      "Requirement already satisfied: tensorboard<3,>=2.8.0 in /tmpfs/src/tf_docs_env/lib/python3.7/site-packages (from tensorboard-plugin-fairness-indicators) (2.8.0)\r\n",
      "Requirement already satisfied: protobuf<4,>=3.13 in /tmpfs/src/tf_docs_env/lib/python3.7/site-packages (from tensorboard-plugin-fairness-indicators) (3.20.0rc2)\r\n",
      "Requirement already satisfied: tfx-bsl<1.8.0,>=1.7.0 in /tmpfs/src/tf_docs_env/lib/python3.7/site-packages (from tensorflow-model-analysis<0.39,>=0.38->tensorboard-plugin-fairness-indicators) (1.7.0)\r\n"
     ]
    },
    {
     "name": "stdout",
     "output_type": "stream",
     "text": [
      "Requirement already satisfied: apache-beam[gcp]<3,>=2.36 in /tmpfs/src/tf_docs_env/lib/python3.7/site-packages (from tensorflow-model-analysis<0.39,>=0.38->tensorboard-plugin-fairness-indicators) (2.37.0)\r\n"
     ]
    },
    {
     "name": "stdout",
     "output_type": "stream",
     "text": [
      "Requirement already satisfied: ipython<8,>=7 in /tmpfs/src/tf_docs_env/lib/python3.7/site-packages (from tensorflow-model-analysis<0.39,>=0.38->tensorboard-plugin-fairness-indicators) (7.32.0)\r\n"
     ]
    },
    {
     "name": "stdout",
     "output_type": "stream",
     "text": [
      "Requirement already satisfied: numpy<2,>=1.16 in /tmpfs/src/tf_docs_env/lib/python3.7/site-packages (from tensorflow-model-analysis<0.39,>=0.38->tensorboard-plugin-fairness-indicators) (1.21.5)\r\n",
      "Requirement already satisfied: ipywidgets<8,>=7 in /tmpfs/src/tf_docs_env/lib/python3.7/site-packages (from tensorflow-model-analysis<0.39,>=0.38->tensorboard-plugin-fairness-indicators) (7.7.0)\r\n"
     ]
    },
    {
     "name": "stdout",
     "output_type": "stream",
     "text": [
      "Collecting absl-py<2.0.0,>=0.9\r\n",
      "  Using cached absl_py-1.0.0-py3-none-any.whl (126 kB)\r\n"
     ]
    },
    {
     "name": "stdout",
     "output_type": "stream",
     "text": [
      "Requirement already satisfied: pyarrow<6,>=1 in /tmpfs/src/tf_docs_env/lib/python3.7/site-packages (from tensorflow-model-analysis<0.39,>=0.38->tensorboard-plugin-fairness-indicators) (5.0.0)\r\n",
      "Requirement already satisfied: six<2,>=1.12 in /tmpfs/src/tf_docs_env/lib/python3.7/site-packages (from tensorflow-model-analysis<0.39,>=0.38->tensorboard-plugin-fairness-indicators) (1.16.0)\r\n",
      "Requirement already satisfied: tensorflow-metadata<1.8.0,>=1.7.0 in /tmpfs/src/tf_docs_env/lib/python3.7/site-packages (from tensorflow-model-analysis<0.39,>=0.38->tensorboard-plugin-fairness-indicators) (1.7.0)\r\n",
      "Requirement already satisfied: pandas<2,>=1.0 in /tmpfs/src/tf_docs_env/lib/python3.7/site-packages (from tensorflow-model-analysis<0.39,>=0.38->tensorboard-plugin-fairness-indicators) (1.3.5)\r\n",
      "Requirement already satisfied: scipy<2,>=1.4.1 in /tmpfs/src/tf_docs_env/lib/python3.7/site-packages (from tensorflow-model-analysis<0.39,>=0.38->tensorboard-plugin-fairness-indicators) (1.7.3)\r\n",
      "Requirement already satisfied: tf-estimator-nightly==2.8.0.dev2021122109 in /tmpfs/src/tf_docs_env/lib/python3.7/site-packages (from tensorflow<3,>=2.8.0->tensorboard-plugin-fairness-indicators) (2.8.0.dev2021122109)\r\n",
      "Requirement already satisfied: h5py>=2.9.0 in /tmpfs/src/tf_docs_env/lib/python3.7/site-packages (from tensorflow<3,>=2.8.0->tensorboard-plugin-fairness-indicators) (3.6.0)\r\n",
      "Requirement already satisfied: wrapt>=1.11.0 in /tmpfs/src/tf_docs_env/lib/python3.7/site-packages (from tensorflow<3,>=2.8.0->tensorboard-plugin-fairness-indicators) (1.14.0)\r\n",
      "Requirement already satisfied: gast>=0.2.1 in /tmpfs/src/tf_docs_env/lib/python3.7/site-packages (from tensorflow<3,>=2.8.0->tensorboard-plugin-fairness-indicators) (0.5.3)\r\n",
      "Requirement already satisfied: termcolor>=1.1.0 in /tmpfs/src/tf_docs_env/lib/python3.7/site-packages (from tensorflow<3,>=2.8.0->tensorboard-plugin-fairness-indicators) (1.1.0)\r\n",
      "Requirement already satisfied: keras-preprocessing>=1.1.1 in /tmpfs/src/tf_docs_env/lib/python3.7/site-packages (from tensorflow<3,>=2.8.0->tensorboard-plugin-fairness-indicators) (1.1.2)\r\n"
     ]
    },
    {
     "name": "stdout",
     "output_type": "stream",
     "text": [
      "Requirement already satisfied: keras<2.9,>=2.8.0rc0 in /tmpfs/src/tf_docs_env/lib/python3.7/site-packages (from tensorflow<3,>=2.8.0->tensorboard-plugin-fairness-indicators) (2.8.0)\r\n",
      "Requirement already satisfied: setuptools in /tmpfs/src/tf_docs_env/lib/python3.7/site-packages (from tensorflow<3,>=2.8.0->tensorboard-plugin-fairness-indicators) (61.3.0)\r\n",
      "Requirement already satisfied: astunparse>=1.6.0 in /tmpfs/src/tf_docs_env/lib/python3.7/site-packages (from tensorflow<3,>=2.8.0->tensorboard-plugin-fairness-indicators) (1.6.3)\r\n",
      "Requirement already satisfied: opt-einsum>=2.3.2 in /tmpfs/src/tf_docs_env/lib/python3.7/site-packages (from tensorflow<3,>=2.8.0->tensorboard-plugin-fairness-indicators) (3.3.0)\r\n",
      "Requirement already satisfied: libclang>=9.0.1 in /tmpfs/src/tf_docs_env/lib/python3.7/site-packages (from tensorflow<3,>=2.8.0->tensorboard-plugin-fairness-indicators) (13.0.0)\r\n",
      "Requirement already satisfied: typing-extensions>=3.6.6 in /tmpfs/src/tf_docs_env/lib/python3.7/site-packages (from tensorflow<3,>=2.8.0->tensorboard-plugin-fairness-indicators) (4.1.1)\r\n",
      "Requirement already satisfied: google-pasta>=0.1.1 in /tmpfs/src/tf_docs_env/lib/python3.7/site-packages (from tensorflow<3,>=2.8.0->tensorboard-plugin-fairness-indicators) (0.2.0)\r\n",
      "Requirement already satisfied: grpcio<2.0,>=1.24.3 in /tmpfs/src/tf_docs_env/lib/python3.7/site-packages (from tensorflow<3,>=2.8.0->tensorboard-plugin-fairness-indicators) (1.45.0rc1)\r\n"
     ]
    },
    {
     "name": "stdout",
     "output_type": "stream",
     "text": [
      "Requirement already satisfied: tensorflow-io-gcs-filesystem>=0.23.1 in /tmpfs/src/tf_docs_env/lib/python3.7/site-packages (from tensorflow<3,>=2.8.0->tensorboard-plugin-fairness-indicators) (0.24.0)\r\n",
      "Requirement already satisfied: flatbuffers>=1.12 in /tmpfs/src/tf_docs_env/lib/python3.7/site-packages (from tensorflow<3,>=2.8.0->tensorboard-plugin-fairness-indicators) (2.0)\r\n",
      "Requirement already satisfied: requests<3,>=2.21.0 in /tmpfs/src/tf_docs_env/lib/python3.7/site-packages (from tensorboard<3,>=2.8.0->tensorboard-plugin-fairness-indicators) (2.27.1)\r\n",
      "Requirement already satisfied: tensorboard-data-server<0.7.0,>=0.6.0 in /tmpfs/src/tf_docs_env/lib/python3.7/site-packages (from tensorboard<3,>=2.8.0->tensorboard-plugin-fairness-indicators) (0.6.1)\r\n",
      "Requirement already satisfied: werkzeug>=0.11.15 in /tmpfs/src/tf_docs_env/lib/python3.7/site-packages (from tensorboard<3,>=2.8.0->tensorboard-plugin-fairness-indicators) (2.1.0)\r\n",
      "Requirement already satisfied: markdown>=2.6.8 in /tmpfs/src/tf_docs_env/lib/python3.7/site-packages (from tensorboard<3,>=2.8.0->tensorboard-plugin-fairness-indicators) (3.3.6)\r\n",
      "Requirement already satisfied: wheel>=0.26 in /tmpfs/src/tf_docs_env/lib/python3.7/site-packages (from tensorboard<3,>=2.8.0->tensorboard-plugin-fairness-indicators) (0.37.1)\r\n",
      "Requirement already satisfied: google-auth-oauthlib<0.5,>=0.4.1 in /tmpfs/src/tf_docs_env/lib/python3.7/site-packages (from tensorboard<3,>=2.8.0->tensorboard-plugin-fairness-indicators) (0.4.6)\r\n",
      "Requirement already satisfied: google-auth<3,>=1.6.3 in /tmpfs/src/tf_docs_env/lib/python3.7/site-packages (from tensorboard<3,>=2.8.0->tensorboard-plugin-fairness-indicators) (2.6.2)\r\n",
      "Requirement already satisfied: tensorboard-plugin-wit>=1.6.0 in /tmpfs/src/tf_docs_env/lib/python3.7/site-packages (from tensorboard<3,>=2.8.0->tensorboard-plugin-fairness-indicators) (1.8.1)\r\n",
      "Requirement already satisfied: google-api-python-client<2,>=1.7.11 in /tmpfs/src/tf_docs_env/lib/python3.7/site-packages (from tfx-bsl<1.8.0,>=1.7.0->tensorflow-model-analysis<0.39,>=0.38->tensorboard-plugin-fairness-indicators) (1.8.3)\r\n"
     ]
    },
    {
     "name": "stdout",
     "output_type": "stream",
     "text": [
      "Requirement already satisfied: tensorflow-serving-api!=2.0.*,!=2.1.*,!=2.2.*,!=2.3.*,!=2.4.*,!=2.5.*,!=2.6.*,!=2.7.*,<3,>=1.15 in /tmpfs/src/tf_docs_env/lib/python3.7/site-packages (from tfx-bsl<1.8.0,>=1.7.0->tensorflow-model-analysis<0.39,>=0.38->tensorboard-plugin-fairness-indicators) (2.8.0)\r\n",
      "Requirement already satisfied: crcmod<2.0,>=1.7 in /tmpfs/src/tf_docs_env/lib/python3.7/site-packages (from apache-beam[gcp]<3,>=2.36->tensorflow-model-analysis<0.39,>=0.38->tensorboard-plugin-fairness-indicators) (1.7)\r\n",
      "Requirement already satisfied: httplib2<0.20.0,>=0.8 in /tmpfs/src/tf_docs_env/lib/python3.7/site-packages (from apache-beam[gcp]<3,>=2.36->tensorflow-model-analysis<0.39,>=0.38->tensorboard-plugin-fairness-indicators) (0.19.1)\r\n",
      "Requirement already satisfied: python-dateutil<3,>=2.8.0 in /tmpfs/src/tf_docs_env/lib/python3.7/site-packages (from apache-beam[gcp]<3,>=2.36->tensorflow-model-analysis<0.39,>=0.38->tensorboard-plugin-fairness-indicators) (2.8.2)\r\n",
      "Requirement already satisfied: pytz>=2018.3 in /tmpfs/src/tf_docs_env/lib/python3.7/site-packages (from apache-beam[gcp]<3,>=2.36->tensorflow-model-analysis<0.39,>=0.38->tensorboard-plugin-fairness-indicators) (2022.1)\r\n",
      "Requirement already satisfied: pydot<2,>=1.2.0 in /tmpfs/src/tf_docs_env/lib/python3.7/site-packages (from apache-beam[gcp]<3,>=2.36->tensorflow-model-analysis<0.39,>=0.38->tensorboard-plugin-fairness-indicators) (1.4.2)\r\n",
      "Requirement already satisfied: fastavro<2,>=0.23.6 in /tmpfs/src/tf_docs_env/lib/python3.7/site-packages (from apache-beam[gcp]<3,>=2.36->tensorflow-model-analysis<0.39,>=0.38->tensorboard-plugin-fairness-indicators) (1.4.10)\r\n",
      "Requirement already satisfied: dill<0.3.2,>=0.3.1.1 in /tmpfs/src/tf_docs_env/lib/python3.7/site-packages (from apache-beam[gcp]<3,>=2.36->tensorflow-model-analysis<0.39,>=0.38->tensorboard-plugin-fairness-indicators) (0.3.1.1)\r\n",
      "Requirement already satisfied: hdfs<3.0.0,>=2.1.0 in /tmpfs/src/tf_docs_env/lib/python3.7/site-packages (from apache-beam[gcp]<3,>=2.36->tensorflow-model-analysis<0.39,>=0.38->tensorboard-plugin-fairness-indicators) (2.7.0)\r\n",
      "Requirement already satisfied: orjson<4.0 in /tmpfs/src/tf_docs_env/lib/python3.7/site-packages (from apache-beam[gcp]<3,>=2.36->tensorflow-model-analysis<0.39,>=0.38->tensorboard-plugin-fairness-indicators) (3.6.7)\r\n",
      "Requirement already satisfied: oauth2client<5,>=2.0.1 in /tmpfs/src/tf_docs_env/lib/python3.7/site-packages (from apache-beam[gcp]<3,>=2.36->tensorflow-model-analysis<0.39,>=0.38->tensorboard-plugin-fairness-indicators) (4.1.3)\r\n",
      "Requirement already satisfied: cloudpickle<3,>=2.0.0 in /tmpfs/src/tf_docs_env/lib/python3.7/site-packages (from apache-beam[gcp]<3,>=2.36->tensorflow-model-analysis<0.39,>=0.38->tensorboard-plugin-fairness-indicators) (2.0.0)\r\n",
      "Requirement already satisfied: pymongo<4.0.0,>=3.8.0 in /tmpfs/src/tf_docs_env/lib/python3.7/site-packages (from apache-beam[gcp]<3,>=2.36->tensorflow-model-analysis<0.39,>=0.38->tensorboard-plugin-fairness-indicators) (3.12.3)\r\n"
     ]
    },
    {
     "name": "stdout",
     "output_type": "stream",
     "text": [
      "Requirement already satisfied: proto-plus<2,>=1.7.1 in /tmpfs/src/tf_docs_env/lib/python3.7/site-packages (from apache-beam[gcp]<3,>=2.36->tensorflow-model-analysis<0.39,>=0.38->tensorboard-plugin-fairness-indicators) (1.20.3)\r\n",
      "Requirement already satisfied: google-cloud-language<2,>=1.3.0; extra == \"gcp\" in /tmpfs/src/tf_docs_env/lib/python3.7/site-packages (from apache-beam[gcp]<3,>=2.36->tensorflow-model-analysis<0.39,>=0.38->tensorboard-plugin-fairness-indicators) (1.3.0)\r\n",
      "Requirement already satisfied: google-cloud-vision<2,>=0.38.0; extra == \"gcp\" in /tmpfs/src/tf_docs_env/lib/python3.7/site-packages (from apache-beam[gcp]<3,>=2.36->tensorflow-model-analysis<0.39,>=0.38->tensorboard-plugin-fairness-indicators) (1.0.0)\r\n",
      "Requirement already satisfied: google-cloud-bigquery<3,>=1.6.0; extra == \"gcp\" in /tmpfs/src/tf_docs_env/lib/python3.7/site-packages (from apache-beam[gcp]<3,>=2.36->tensorflow-model-analysis<0.39,>=0.38->tensorboard-plugin-fairness-indicators) (2.34.3)\r\n",
      "Requirement already satisfied: google-cloud-bigquery-storage>=2.6.3; extra == \"gcp\" in /tmpfs/src/tf_docs_env/lib/python3.7/site-packages (from apache-beam[gcp]<3,>=2.36->tensorflow-model-analysis<0.39,>=0.38->tensorboard-plugin-fairness-indicators) (2.13.0)\r\n"
     ]
    },
    {
     "name": "stdout",
     "output_type": "stream",
     "text": [
      "Requirement already satisfied: google-cloud-pubsub<3,>=2.1.0; extra == \"gcp\" in /tmpfs/src/tf_docs_env/lib/python3.7/site-packages (from apache-beam[gcp]<3,>=2.36->tensorflow-model-analysis<0.39,>=0.38->tensorboard-plugin-fairness-indicators) (2.11.0)\r\n",
      "Requirement already satisfied: google-apitools<0.5.32,>=0.5.31; extra == \"gcp\" in /tmpfs/src/tf_docs_env/lib/python3.7/site-packages (from apache-beam[gcp]<3,>=2.36->tensorflow-model-analysis<0.39,>=0.38->tensorboard-plugin-fairness-indicators) (0.5.31)\r\n",
      "Requirement already satisfied: cachetools<5,>=3.1.0; extra == \"gcp\" in /tmpfs/src/tf_docs_env/lib/python3.7/site-packages (from apache-beam[gcp]<3,>=2.36->tensorflow-model-analysis<0.39,>=0.38->tensorboard-plugin-fairness-indicators) (4.2.4)\r\n",
      "Requirement already satisfied: grpcio-gcp<1,>=0.2.2; extra == \"gcp\" in /tmpfs/src/tf_docs_env/lib/python3.7/site-packages (from apache-beam[gcp]<3,>=2.36->tensorflow-model-analysis<0.39,>=0.38->tensorboard-plugin-fairness-indicators) (0.2.2)\r\n",
      "Requirement already satisfied: google-cloud-bigtable<2,>=0.31.1; extra == \"gcp\" in /tmpfs/src/tf_docs_env/lib/python3.7/site-packages (from apache-beam[gcp]<3,>=2.36->tensorflow-model-analysis<0.39,>=0.38->tensorboard-plugin-fairness-indicators) (1.7.0)\r\n",
      "Requirement already satisfied: google-cloud-spanner<2,>=1.13.0; extra == \"gcp\" in /tmpfs/src/tf_docs_env/lib/python3.7/site-packages (from apache-beam[gcp]<3,>=2.36->tensorflow-model-analysis<0.39,>=0.38->tensorboard-plugin-fairness-indicators) (1.19.1)\r\n",
      "Requirement already satisfied: google-cloud-videointelligence<2,>=1.8.0; extra == \"gcp\" in /tmpfs/src/tf_docs_env/lib/python3.7/site-packages (from apache-beam[gcp]<3,>=2.36->tensorflow-model-analysis<0.39,>=0.38->tensorboard-plugin-fairness-indicators) (1.16.1)\r\n",
      "Requirement already satisfied: google-cloud-pubsublite<2,>=1.2.0; extra == \"gcp\" in /tmpfs/src/tf_docs_env/lib/python3.7/site-packages (from apache-beam[gcp]<3,>=2.36->tensorflow-model-analysis<0.39,>=0.38->tensorboard-plugin-fairness-indicators) (1.4.1)\r\n"
     ]
    },
    {
     "name": "stdout",
     "output_type": "stream",
     "text": [
      "Requirement already satisfied: google-cloud-datastore<2,>=1.8.0; extra == \"gcp\" in /tmpfs/src/tf_docs_env/lib/python3.7/site-packages (from apache-beam[gcp]<3,>=2.36->tensorflow-model-analysis<0.39,>=0.38->tensorboard-plugin-fairness-indicators) (1.15.3)\r\n",
      "Requirement already satisfied: google-cloud-dlp<4,>=3.0.0; extra == \"gcp\" in /tmpfs/src/tf_docs_env/lib/python3.7/site-packages (from apache-beam[gcp]<3,>=2.36->tensorflow-model-analysis<0.39,>=0.38->tensorboard-plugin-fairness-indicators) (3.6.2)\r\n",
      "Requirement already satisfied: google-cloud-recommendations-ai<=0.2.0,>=0.1.0; extra == \"gcp\" in /tmpfs/src/tf_docs_env/lib/python3.7/site-packages (from apache-beam[gcp]<3,>=2.36->tensorflow-model-analysis<0.39,>=0.38->tensorboard-plugin-fairness-indicators) (0.2.0)\r\n",
      "Requirement already satisfied: google-cloud-core<2,>=0.28.1; extra == \"gcp\" in /tmpfs/src/tf_docs_env/lib/python3.7/site-packages (from apache-beam[gcp]<3,>=2.36->tensorflow-model-analysis<0.39,>=0.38->tensorboard-plugin-fairness-indicators) (1.7.2)\r\n",
      "Requirement already satisfied: jedi>=0.16 in /tmpfs/src/tf_docs_env/lib/python3.7/site-packages (from ipython<8,>=7->tensorflow-model-analysis<0.39,>=0.38->tensorboard-plugin-fairness-indicators) (0.18.1)\r\n",
      "Requirement already satisfied: pickleshare in /tmpfs/src/tf_docs_env/lib/python3.7/site-packages (from ipython<8,>=7->tensorflow-model-analysis<0.39,>=0.38->tensorboard-plugin-fairness-indicators) (0.7.5)\r\n",
      "Requirement already satisfied: pexpect>4.3; sys_platform != \"win32\" in /tmpfs/src/tf_docs_env/lib/python3.7/site-packages (from ipython<8,>=7->tensorflow-model-analysis<0.39,>=0.38->tensorboard-plugin-fairness-indicators) (4.8.0)\r\n",
      "Requirement already satisfied: prompt-toolkit!=3.0.0,!=3.0.1,<3.1.0,>=2.0.0 in /tmpfs/src/tf_docs_env/lib/python3.7/site-packages (from ipython<8,>=7->tensorflow-model-analysis<0.39,>=0.38->tensorboard-plugin-fairness-indicators) (3.0.28)\r\n",
      "Requirement already satisfied: pygments in /tmpfs/src/tf_docs_env/lib/python3.7/site-packages (from ipython<8,>=7->tensorflow-model-analysis<0.39,>=0.38->tensorboard-plugin-fairness-indicators) (2.11.2)\r\n",
      "Requirement already satisfied: traitlets>=4.2 in /tmpfs/src/tf_docs_env/lib/python3.7/site-packages (from ipython<8,>=7->tensorflow-model-analysis<0.39,>=0.38->tensorboard-plugin-fairness-indicators) (5.1.1)\r\n",
      "Requirement already satisfied: decorator in /tmpfs/src/tf_docs_env/lib/python3.7/site-packages (from ipython<8,>=7->tensorflow-model-analysis<0.39,>=0.38->tensorboard-plugin-fairness-indicators) (5.1.1)\r\n",
      "Requirement already satisfied: backcall in /tmpfs/src/tf_docs_env/lib/python3.7/site-packages (from ipython<8,>=7->tensorflow-model-analysis<0.39,>=0.38->tensorboard-plugin-fairness-indicators) (0.2.0)\r\n",
      "Requirement already satisfied: matplotlib-inline in /tmpfs/src/tf_docs_env/lib/python3.7/site-packages (from ipython<8,>=7->tensorflow-model-analysis<0.39,>=0.38->tensorboard-plugin-fairness-indicators) (0.1.3)\r\n",
      "Requirement already satisfied: widgetsnbextension~=3.6.0 in /tmpfs/src/tf_docs_env/lib/python3.7/site-packages (from ipywidgets<8,>=7->tensorflow-model-analysis<0.39,>=0.38->tensorboard-plugin-fairness-indicators) (3.6.0)\r\n",
      "Requirement already satisfied: ipykernel>=4.5.1 in /tmpfs/src/tf_docs_env/lib/python3.7/site-packages (from ipywidgets<8,>=7->tensorflow-model-analysis<0.39,>=0.38->tensorboard-plugin-fairness-indicators) (6.11.0)\r\n"
     ]
    },
    {
     "name": "stdout",
     "output_type": "stream",
     "text": [
      "Requirement already satisfied: ipython-genutils~=0.2.0 in /tmpfs/src/tf_docs_env/lib/python3.7/site-packages (from ipywidgets<8,>=7->tensorflow-model-analysis<0.39,>=0.38->tensorboard-plugin-fairness-indicators) (0.2.0)\r\n",
      "Requirement already satisfied: nbformat>=4.2.0 in /tmpfs/src/tf_docs_env/lib/python3.7/site-packages (from ipywidgets<8,>=7->tensorflow-model-analysis<0.39,>=0.38->tensorboard-plugin-fairness-indicators) (5.2.0)\r\n",
      "Requirement already satisfied: jupyterlab-widgets>=1.0.0; python_version >= \"3.6\" in /tmpfs/src/tf_docs_env/lib/python3.7/site-packages (from ipywidgets<8,>=7->tensorflow-model-analysis<0.39,>=0.38->tensorboard-plugin-fairness-indicators) (1.1.0)\r\n",
      "Requirement already satisfied: googleapis-common-protos<2,>=1.52.0 in /tmpfs/src/tf_docs_env/lib/python3.7/site-packages (from tensorflow-metadata<1.8.0,>=1.7.0->tensorflow-model-analysis<0.39,>=0.38->tensorboard-plugin-fairness-indicators) (1.56.0)\r\n",
      "Requirement already satisfied: cached-property; python_version < \"3.8\" in /tmpfs/src/tf_docs_env/lib/python3.7/site-packages (from h5py>=2.9.0->tensorflow<3,>=2.8.0->tensorboard-plugin-fairness-indicators) (1.5.2)\r\n",
      "Requirement already satisfied: certifi>=2017.4.17 in /tmpfs/src/tf_docs_env/lib/python3.7/site-packages (from requests<3,>=2.21.0->tensorboard<3,>=2.8.0->tensorboard-plugin-fairness-indicators) (2021.10.8)\r\n",
      "Requirement already satisfied: idna<4,>=2.5; python_version >= \"3\" in /tmpfs/src/tf_docs_env/lib/python3.7/site-packages (from requests<3,>=2.21.0->tensorboard<3,>=2.8.0->tensorboard-plugin-fairness-indicators) (3.3)\r\n",
      "Requirement already satisfied: charset-normalizer~=2.0.0; python_version >= \"3\" in /tmpfs/src/tf_docs_env/lib/python3.7/site-packages (from requests<3,>=2.21.0->tensorboard<3,>=2.8.0->tensorboard-plugin-fairness-indicators) (2.0.12)\r\n",
      "Requirement already satisfied: urllib3<1.27,>=1.21.1 in /tmpfs/src/tf_docs_env/lib/python3.7/site-packages (from requests<3,>=2.21.0->tensorboard<3,>=2.8.0->tensorboard-plugin-fairness-indicators) (1.26.9)\r\n",
      "Requirement already satisfied: importlib-metadata>=4.4; python_version < \"3.10\" in /tmpfs/src/tf_docs_env/lib/python3.7/site-packages (from markdown>=2.6.8->tensorboard<3,>=2.8.0->tensorboard-plugin-fairness-indicators) (4.11.3)\r\n"
     ]
    },
    {
     "name": "stdout",
     "output_type": "stream",
     "text": [
      "Requirement already satisfied: requests-oauthlib>=0.7.0 in /tmpfs/src/tf_docs_env/lib/python3.7/site-packages (from google-auth-oauthlib<0.5,>=0.4.1->tensorboard<3,>=2.8.0->tensorboard-plugin-fairness-indicators) (1.3.1)\r\n",
      "Requirement already satisfied: rsa<5,>=3.1.4; python_version >= \"3.6\" in /tmpfs/src/tf_docs_env/lib/python3.7/site-packages (from google-auth<3,>=1.6.3->tensorboard<3,>=2.8.0->tensorboard-plugin-fairness-indicators) (4.8)\r\n",
      "Requirement already satisfied: pyasn1-modules>=0.2.1 in /tmpfs/src/tf_docs_env/lib/python3.7/site-packages (from google-auth<3,>=1.6.3->tensorboard<3,>=2.8.0->tensorboard-plugin-fairness-indicators) (0.2.8)\r\n",
      "Requirement already satisfied: google-auth-httplib2>=0.0.3 in /tmpfs/src/tf_docs_env/lib/python3.7/site-packages (from google-api-python-client<2,>=1.7.11->tfx-bsl<1.8.0,>=1.7.0->tensorflow-model-analysis<0.39,>=0.38->tensorboard-plugin-fairness-indicators) (0.1.0)\r\n",
      "Requirement already satisfied: uritemplate<4dev,>=3.0.0 in /tmpfs/src/tf_docs_env/lib/python3.7/site-packages (from google-api-python-client<2,>=1.7.11->tfx-bsl<1.8.0,>=1.7.0->tensorflow-model-analysis<0.39,>=0.38->tensorboard-plugin-fairness-indicators) (3.0.1)\r\n",
      "Requirement already satisfied: google-api-core<2dev,>=1.13.0 in /tmpfs/src/tf_docs_env/lib/python3.7/site-packages (from google-api-python-client<2,>=1.7.11->tfx-bsl<1.8.0,>=1.7.0->tensorflow-model-analysis<0.39,>=0.38->tensorboard-plugin-fairness-indicators) (1.31.5)\r\n",
      "Requirement already satisfied: pyparsing<3,>=2.4.2 in /tmpfs/src/tf_docs_env/lib/python3.7/site-packages (from httplib2<0.20.0,>=0.8->apache-beam[gcp]<3,>=2.36->tensorflow-model-analysis<0.39,>=0.38->tensorboard-plugin-fairness-indicators) (2.4.7)\r\n",
      "Requirement already satisfied: docopt in /tmpfs/src/tf_docs_env/lib/python3.7/site-packages (from hdfs<3.0.0,>=2.1.0->apache-beam[gcp]<3,>=2.36->tensorflow-model-analysis<0.39,>=0.38->tensorboard-plugin-fairness-indicators) (0.6.2)\r\n",
      "Requirement already satisfied: pyasn1>=0.1.7 in /tmpfs/src/tf_docs_env/lib/python3.7/site-packages (from oauth2client<5,>=2.0.1->apache-beam[gcp]<3,>=2.36->tensorflow-model-analysis<0.39,>=0.38->tensorboard-plugin-fairness-indicators) (0.4.8)\r\n",
      "Requirement already satisfied: google-resumable-media<3.0dev,>=0.6.0 in /tmpfs/src/tf_docs_env/lib/python3.7/site-packages (from google-cloud-bigquery<3,>=1.6.0; extra == \"gcp\"->apache-beam[gcp]<3,>=2.36->tensorflow-model-analysis<0.39,>=0.38->tensorboard-plugin-fairness-indicators) (2.3.2)\r\n",
      "Requirement already satisfied: packaging>=14.3 in /tmpfs/src/tf_docs_env/lib/python3.7/site-packages (from google-cloud-bigquery<3,>=1.6.0; extra == \"gcp\"->apache-beam[gcp]<3,>=2.36->tensorflow-model-analysis<0.39,>=0.38->tensorboard-plugin-fairness-indicators) (21.3)\r\n",
      "Requirement already satisfied: grpc-google-iam-v1<0.13dev,>=0.12.3 in /tmpfs/src/tf_docs_env/lib/python3.7/site-packages (from google-cloud-pubsub<3,>=2.1.0; extra == \"gcp\"->apache-beam[gcp]<3,>=2.36->tensorflow-model-analysis<0.39,>=0.38->tensorboard-plugin-fairness-indicators) (0.12.3)\r\n",
      "Requirement already satisfied: grpcio-status>=1.16.0 in /tmpfs/src/tf_docs_env/lib/python3.7/site-packages (from google-cloud-pubsub<3,>=2.1.0; extra == \"gcp\"->apache-beam[gcp]<3,>=2.36->tensorflow-model-analysis<0.39,>=0.38->tensorboard-plugin-fairness-indicators) (1.45.0)\r\n",
      "Requirement already satisfied: fasteners>=0.14 in /tmpfs/src/tf_docs_env/lib/python3.7/site-packages (from google-apitools<0.5.32,>=0.5.31; extra == \"gcp\"->apache-beam[gcp]<3,>=2.36->tensorflow-model-analysis<0.39,>=0.38->tensorboard-plugin-fairness-indicators) (0.17.3)\r\n",
      "Requirement already satisfied: overrides<7.0.0,>=6.0.1 in /tmpfs/src/tf_docs_env/lib/python3.7/site-packages (from google-cloud-pubsublite<2,>=1.2.0; extra == \"gcp\"->apache-beam[gcp]<3,>=2.36->tensorflow-model-analysis<0.39,>=0.38->tensorboard-plugin-fairness-indicators) (6.1.0)\r\n",
      "Requirement already satisfied: parso<0.9.0,>=0.8.0 in /tmpfs/src/tf_docs_env/lib/python3.7/site-packages (from jedi>=0.16->ipython<8,>=7->tensorflow-model-analysis<0.39,>=0.38->tensorboard-plugin-fairness-indicators) (0.8.3)\r\n"
     ]
    },
    {
     "name": "stdout",
     "output_type": "stream",
     "text": [
      "Requirement already satisfied: ptyprocess>=0.5 in /tmpfs/src/tf_docs_env/lib/python3.7/site-packages (from pexpect>4.3; sys_platform != \"win32\"->ipython<8,>=7->tensorflow-model-analysis<0.39,>=0.38->tensorboard-plugin-fairness-indicators) (0.7.0)\r\n",
      "Requirement already satisfied: wcwidth in /tmpfs/src/tf_docs_env/lib/python3.7/site-packages (from prompt-toolkit!=3.0.0,!=3.0.1,<3.1.0,>=2.0.0->ipython<8,>=7->tensorflow-model-analysis<0.39,>=0.38->tensorboard-plugin-fairness-indicators) (0.2.5)\r\n",
      "Requirement already satisfied: notebook>=4.4.1 in /tmpfs/src/tf_docs_env/lib/python3.7/site-packages (from widgetsnbextension~=3.6.0->ipywidgets<8,>=7->tensorflow-model-analysis<0.39,>=0.38->tensorboard-plugin-fairness-indicators) (6.4.10)\r\n",
      "Requirement already satisfied: psutil in /tmpfs/src/tf_docs_env/lib/python3.7/site-packages (from ipykernel>=4.5.1->ipywidgets<8,>=7->tensorflow-model-analysis<0.39,>=0.38->tensorboard-plugin-fairness-indicators) (5.9.0)\r\n",
      "Requirement already satisfied: nest-asyncio in /tmpfs/src/tf_docs_env/lib/python3.7/site-packages (from ipykernel>=4.5.1->ipywidgets<8,>=7->tensorflow-model-analysis<0.39,>=0.38->tensorboard-plugin-fairness-indicators) (1.5.4)\r\n",
      "Requirement already satisfied: jupyter-client>=6.1.12 in /tmpfs/src/tf_docs_env/lib/python3.7/site-packages (from ipykernel>=4.5.1->ipywidgets<8,>=7->tensorflow-model-analysis<0.39,>=0.38->tensorboard-plugin-fairness-indicators) (7.2.1)\r\n",
      "Requirement already satisfied: tornado>=6.1 in /tmpfs/src/tf_docs_env/lib/python3.7/site-packages (from ipykernel>=4.5.1->ipywidgets<8,>=7->tensorflow-model-analysis<0.39,>=0.38->tensorboard-plugin-fairness-indicators) (6.1)\r\n",
      "Requirement already satisfied: debugpy>=1.0 in /tmpfs/src/tf_docs_env/lib/python3.7/site-packages (from ipykernel>=4.5.1->ipywidgets<8,>=7->tensorflow-model-analysis<0.39,>=0.38->tensorboard-plugin-fairness-indicators) (1.6.0)\r\n"
     ]
    },
    {
     "name": "stdout",
     "output_type": "stream",
     "text": [
      "Requirement already satisfied: jsonschema!=2.5.0,>=2.4 in /tmpfs/src/tf_docs_env/lib/python3.7/site-packages (from nbformat>=4.2.0->ipywidgets<8,>=7->tensorflow-model-analysis<0.39,>=0.38->tensorboard-plugin-fairness-indicators) (4.4.0)\r\n",
      "Requirement already satisfied: jupyter-core in /tmpfs/src/tf_docs_env/lib/python3.7/site-packages (from nbformat>=4.2.0->ipywidgets<8,>=7->tensorflow-model-analysis<0.39,>=0.38->tensorboard-plugin-fairness-indicators) (4.9.2)\r\n",
      "Requirement already satisfied: zipp>=0.5 in /tmpfs/src/tf_docs_env/lib/python3.7/site-packages (from importlib-metadata>=4.4; python_version < \"3.10\"->markdown>=2.6.8->tensorboard<3,>=2.8.0->tensorboard-plugin-fairness-indicators) (3.7.0)\r\n",
      "Requirement already satisfied: oauthlib>=3.0.0 in /tmpfs/src/tf_docs_env/lib/python3.7/site-packages (from requests-oauthlib>=0.7.0->google-auth-oauthlib<0.5,>=0.4.1->tensorboard<3,>=2.8.0->tensorboard-plugin-fairness-indicators) (3.2.0)\r\n",
      "Requirement already satisfied: google-crc32c<2.0dev,>=1.0 in /tmpfs/src/tf_docs_env/lib/python3.7/site-packages (from google-resumable-media<3.0dev,>=0.6.0->google-cloud-bigquery<3,>=1.6.0; extra == \"gcp\"->apache-beam[gcp]<3,>=2.36->tensorflow-model-analysis<0.39,>=0.38->tensorboard-plugin-fairness-indicators) (1.3.0)\r\n",
      "Requirement already satisfied: typing-utils>=0.0.3 in /tmpfs/src/tf_docs_env/lib/python3.7/site-packages (from overrides<7.0.0,>=6.0.1->google-cloud-pubsublite<2,>=1.2.0; extra == \"gcp\"->apache-beam[gcp]<3,>=2.36->tensorflow-model-analysis<0.39,>=0.38->tensorboard-plugin-fairness-indicators) (0.1.0)\r\n",
      "Requirement already satisfied: pyzmq>=17 in /tmpfs/src/tf_docs_env/lib/python3.7/site-packages (from notebook>=4.4.1->widgetsnbextension~=3.6.0->ipywidgets<8,>=7->tensorflow-model-analysis<0.39,>=0.38->tensorboard-plugin-fairness-indicators) (22.3.0)\r\n",
      "Requirement already satisfied: jinja2 in /tmpfs/src/tf_docs_env/lib/python3.7/site-packages (from notebook>=4.4.1->widgetsnbextension~=3.6.0->ipywidgets<8,>=7->tensorflow-model-analysis<0.39,>=0.38->tensorboard-plugin-fairness-indicators) (2.11.3)\r\n",
      "Requirement already satisfied: nbconvert>=5 in /tmpfs/src/tf_docs_env/lib/python3.7/site-packages (from notebook>=4.4.1->widgetsnbextension~=3.6.0->ipywidgets<8,>=7->tensorflow-model-analysis<0.39,>=0.38->tensorboard-plugin-fairness-indicators) (6.4.5)\r\n"
     ]
    },
    {
     "name": "stdout",
     "output_type": "stream",
     "text": [
      "Requirement already satisfied: argon2-cffi in /tmpfs/src/tf_docs_env/lib/python3.7/site-packages (from notebook>=4.4.1->widgetsnbextension~=3.6.0->ipywidgets<8,>=7->tensorflow-model-analysis<0.39,>=0.38->tensorboard-plugin-fairness-indicators) (21.3.0)\r\n",
      "Requirement already satisfied: prometheus-client in /tmpfs/src/tf_docs_env/lib/python3.7/site-packages (from notebook>=4.4.1->widgetsnbextension~=3.6.0->ipywidgets<8,>=7->tensorflow-model-analysis<0.39,>=0.38->tensorboard-plugin-fairness-indicators) (0.13.1)\r\n",
      "Requirement already satisfied: terminado>=0.8.3 in /tmpfs/src/tf_docs_env/lib/python3.7/site-packages (from notebook>=4.4.1->widgetsnbextension~=3.6.0->ipywidgets<8,>=7->tensorflow-model-analysis<0.39,>=0.38->tensorboard-plugin-fairness-indicators) (0.13.3)\r\n",
      "Requirement already satisfied: Send2Trash>=1.8.0 in /tmpfs/src/tf_docs_env/lib/python3.7/site-packages (from notebook>=4.4.1->widgetsnbextension~=3.6.0->ipywidgets<8,>=7->tensorflow-model-analysis<0.39,>=0.38->tensorboard-plugin-fairness-indicators) (1.8.0)\r\n",
      "Requirement already satisfied: entrypoints in /tmpfs/src/tf_docs_env/lib/python3.7/site-packages (from jupyter-client>=6.1.12->ipykernel>=4.5.1->ipywidgets<8,>=7->tensorflow-model-analysis<0.39,>=0.38->tensorboard-plugin-fairness-indicators) (0.4)\r\n",
      "Requirement already satisfied: importlib-resources>=1.4.0; python_version < \"3.9\" in /tmpfs/src/tf_docs_env/lib/python3.7/site-packages (from jsonschema!=2.5.0,>=2.4->nbformat>=4.2.0->ipywidgets<8,>=7->tensorflow-model-analysis<0.39,>=0.38->tensorboard-plugin-fairness-indicators) (5.6.0)\r\n"
     ]
    },
    {
     "name": "stdout",
     "output_type": "stream",
     "text": [
      "Requirement already satisfied: attrs>=17.4.0 in /tmpfs/src/tf_docs_env/lib/python3.7/site-packages (from jsonschema!=2.5.0,>=2.4->nbformat>=4.2.0->ipywidgets<8,>=7->tensorflow-model-analysis<0.39,>=0.38->tensorboard-plugin-fairness-indicators) (21.4.0)\r\n",
      "Requirement already satisfied: pyrsistent!=0.17.0,!=0.17.1,!=0.17.2,>=0.14.0 in /tmpfs/src/tf_docs_env/lib/python3.7/site-packages (from jsonschema!=2.5.0,>=2.4->nbformat>=4.2.0->ipywidgets<8,>=7->tensorflow-model-analysis<0.39,>=0.38->tensorboard-plugin-fairness-indicators) (0.18.1)\r\n",
      "Requirement already satisfied: MarkupSafe>=0.23 in /tmpfs/src/tf_docs_env/lib/python3.7/site-packages (from jinja2->notebook>=4.4.1->widgetsnbextension~=3.6.0->ipywidgets<8,>=7->tensorflow-model-analysis<0.39,>=0.38->tensorboard-plugin-fairness-indicators) (2.0.1)\r\n",
      "Requirement already satisfied: mistune<2,>=0.8.1 in /tmpfs/src/tf_docs_env/lib/python3.7/site-packages (from nbconvert>=5->notebook>=4.4.1->widgetsnbextension~=3.6.0->ipywidgets<8,>=7->tensorflow-model-analysis<0.39,>=0.38->tensorboard-plugin-fairness-indicators) (0.8.4)\r\n",
      "Requirement already satisfied: defusedxml in /tmpfs/src/tf_docs_env/lib/python3.7/site-packages (from nbconvert>=5->notebook>=4.4.1->widgetsnbextension~=3.6.0->ipywidgets<8,>=7->tensorflow-model-analysis<0.39,>=0.38->tensorboard-plugin-fairness-indicators) (0.7.1)\r\n",
      "Requirement already satisfied: beautifulsoup4 in /tmpfs/src/tf_docs_env/lib/python3.7/site-packages (from nbconvert>=5->notebook>=4.4.1->widgetsnbextension~=3.6.0->ipywidgets<8,>=7->tensorflow-model-analysis<0.39,>=0.38->tensorboard-plugin-fairness-indicators) (4.10.0)\r\n",
      "Requirement already satisfied: pandocfilters>=1.4.1 in /tmpfs/src/tf_docs_env/lib/python3.7/site-packages (from nbconvert>=5->notebook>=4.4.1->widgetsnbextension~=3.6.0->ipywidgets<8,>=7->tensorflow-model-analysis<0.39,>=0.38->tensorboard-plugin-fairness-indicators) (1.5.0)\r\n",
      "Requirement already satisfied: testpath in /tmpfs/src/tf_docs_env/lib/python3.7/site-packages (from nbconvert>=5->notebook>=4.4.1->widgetsnbextension~=3.6.0->ipywidgets<8,>=7->tensorflow-model-analysis<0.39,>=0.38->tensorboard-plugin-fairness-indicators) (0.6.0)\r\n",
      "Requirement already satisfied: jupyterlab-pygments in /tmpfs/src/tf_docs_env/lib/python3.7/site-packages (from nbconvert>=5->notebook>=4.4.1->widgetsnbextension~=3.6.0->ipywidgets<8,>=7->tensorflow-model-analysis<0.39,>=0.38->tensorboard-plugin-fairness-indicators) (0.1.2)\r\n"
     ]
    },
    {
     "name": "stdout",
     "output_type": "stream",
     "text": [
      "Requirement already satisfied: nbclient<0.6.0,>=0.5.0 in /tmpfs/src/tf_docs_env/lib/python3.7/site-packages (from nbconvert>=5->notebook>=4.4.1->widgetsnbextension~=3.6.0->ipywidgets<8,>=7->tensorflow-model-analysis<0.39,>=0.38->tensorboard-plugin-fairness-indicators) (0.5.13)\r\n",
      "Requirement already satisfied: bleach in /tmpfs/src/tf_docs_env/lib/python3.7/site-packages (from nbconvert>=5->notebook>=4.4.1->widgetsnbextension~=3.6.0->ipywidgets<8,>=7->tensorflow-model-analysis<0.39,>=0.38->tensorboard-plugin-fairness-indicators) (4.1.0)\r\n",
      "Requirement already satisfied: argon2-cffi-bindings in /tmpfs/src/tf_docs_env/lib/python3.7/site-packages (from argon2-cffi->notebook>=4.4.1->widgetsnbextension~=3.6.0->ipywidgets<8,>=7->tensorflow-model-analysis<0.39,>=0.38->tensorboard-plugin-fairness-indicators) (21.2.0)\r\n",
      "Requirement already satisfied: soupsieve>1.2 in /tmpfs/src/tf_docs_env/lib/python3.7/site-packages (from beautifulsoup4->nbconvert>=5->notebook>=4.4.1->widgetsnbextension~=3.6.0->ipywidgets<8,>=7->tensorflow-model-analysis<0.39,>=0.38->tensorboard-plugin-fairness-indicators) (2.3.1)\r\n",
      "Requirement already satisfied: webencodings in /tmpfs/src/tf_docs_env/lib/python3.7/site-packages (from bleach->nbconvert>=5->notebook>=4.4.1->widgetsnbextension~=3.6.0->ipywidgets<8,>=7->tensorflow-model-analysis<0.39,>=0.38->tensorboard-plugin-fairness-indicators) (0.5.1)\r\n",
      "Requirement already satisfied: cffi>=1.0.1 in /tmpfs/src/tf_docs_env/lib/python3.7/site-packages (from argon2-cffi-bindings->argon2-cffi->notebook>=4.4.1->widgetsnbextension~=3.6.0->ipywidgets<8,>=7->tensorflow-model-analysis<0.39,>=0.38->tensorboard-plugin-fairness-indicators) (1.15.0)\r\n",
      "Requirement already satisfied: pycparser in /tmpfs/src/tf_docs_env/lib/python3.7/site-packages (from cffi>=1.0.1->argon2-cffi-bindings->argon2-cffi->notebook>=4.4.1->widgetsnbextension~=3.6.0->ipywidgets<8,>=7->tensorflow-model-analysis<0.39,>=0.38->tensorboard-plugin-fairness-indicators) (2.21)\r\n"
     ]
    },
    {
     "name": "stdout",
     "output_type": "stream",
     "text": [
      "Installing collected packages: absl-py\r\n",
      "  Attempting uninstall: absl-py\r\n"
     ]
    },
    {
     "name": "stdout",
     "output_type": "stream",
     "text": [
      "    Found existing installation: absl-py 0.8.1\r\n",
      "    Uninstalling absl-py-0.8.1:\r\n",
      "      Successfully uninstalled absl-py-0.8.1\r\n"
     ]
    },
    {
     "name": "stdout",
     "output_type": "stream",
     "text": [
      "Successfully installed absl-py-1.0.0\r\n"
     ]
    },
    {
     "name": "stdout",
     "output_type": "stream",
     "text": [
      "\u001b[33mWARNING: You are using pip version 20.2; however, version 22.0.4 is available.\r\n",
      "You should consider upgrading via the '/tmpfs/src/tf_docs_env/bin/python -m pip install --upgrade pip' command.\u001b[0m\r\n"
     ]
    },
    {
     "name": "stdout",
     "output_type": "stream",
     "text": [
      "Requirement already satisfied: tensorflow-serving-api==2.8.0 in /tmpfs/src/tf_docs_env/lib/python3.7/site-packages (2.8.0)\r\n",
      "Requirement already satisfied: grpcio<2,>=1.0 in /tmpfs/src/tf_docs_env/lib/python3.7/site-packages (from tensorflow-serving-api==2.8.0) (1.45.0rc1)\r\n",
      "Requirement already satisfied: tensorflow<3,>=2.8.0 in /tmpfs/src/tf_docs_env/lib/python3.7/site-packages (from tensorflow-serving-api==2.8.0) (2.8.0)\r\n",
      "Requirement already satisfied: protobuf>=3.6.0 in /tmpfs/src/tf_docs_env/lib/python3.7/site-packages (from tensorflow-serving-api==2.8.0) (3.20.0rc2)\r\n",
      "Requirement already satisfied: six>=1.5.2 in /tmpfs/src/tf_docs_env/lib/python3.7/site-packages (from grpcio<2,>=1.0->tensorflow-serving-api==2.8.0) (1.16.0)\r\n",
      "Requirement already satisfied: wrapt>=1.11.0 in /tmpfs/src/tf_docs_env/lib/python3.7/site-packages (from tensorflow<3,>=2.8.0->tensorflow-serving-api==2.8.0) (1.14.0)\r\n",
      "Requirement already satisfied: libclang>=9.0.1 in /tmpfs/src/tf_docs_env/lib/python3.7/site-packages (from tensorflow<3,>=2.8.0->tensorflow-serving-api==2.8.0) (13.0.0)\r\n",
      "Requirement already satisfied: setuptools in /tmpfs/src/tf_docs_env/lib/python3.7/site-packages (from tensorflow<3,>=2.8.0->tensorflow-serving-api==2.8.0) (61.3.0)\r\n"
     ]
    },
    {
     "name": "stdout",
     "output_type": "stream",
     "text": [
      "Requirement already satisfied: astunparse>=1.6.0 in /tmpfs/src/tf_docs_env/lib/python3.7/site-packages (from tensorflow<3,>=2.8.0->tensorflow-serving-api==2.8.0) (1.6.3)\r\n",
      "Requirement already satisfied: numpy>=1.20 in /tmpfs/src/tf_docs_env/lib/python3.7/site-packages (from tensorflow<3,>=2.8.0->tensorflow-serving-api==2.8.0) (1.21.5)\r\n",
      "Requirement already satisfied: google-pasta>=0.1.1 in /tmpfs/src/tf_docs_env/lib/python3.7/site-packages (from tensorflow<3,>=2.8.0->tensorflow-serving-api==2.8.0) (0.2.0)\r\n",
      "Requirement already satisfied: tensorflow-io-gcs-filesystem>=0.23.1 in /tmpfs/src/tf_docs_env/lib/python3.7/site-packages (from tensorflow<3,>=2.8.0->tensorflow-serving-api==2.8.0) (0.24.0)\r\n",
      "Requirement already satisfied: tensorboard<2.9,>=2.8 in /tmpfs/src/tf_docs_env/lib/python3.7/site-packages (from tensorflow<3,>=2.8.0->tensorflow-serving-api==2.8.0) (2.8.0)\r\n",
      "Requirement already satisfied: opt-einsum>=2.3.2 in /tmpfs/src/tf_docs_env/lib/python3.7/site-packages (from tensorflow<3,>=2.8.0->tensorflow-serving-api==2.8.0) (3.3.0)\r\n"
     ]
    },
    {
     "name": "stdout",
     "output_type": "stream",
     "text": [
      "Requirement already satisfied: keras-preprocessing>=1.1.1 in /tmpfs/src/tf_docs_env/lib/python3.7/site-packages (from tensorflow<3,>=2.8.0->tensorflow-serving-api==2.8.0) (1.1.2)\r\n",
      "Requirement already satisfied: flatbuffers>=1.12 in /tmpfs/src/tf_docs_env/lib/python3.7/site-packages (from tensorflow<3,>=2.8.0->tensorflow-serving-api==2.8.0) (2.0)\r\n",
      "Requirement already satisfied: termcolor>=1.1.0 in /tmpfs/src/tf_docs_env/lib/python3.7/site-packages (from tensorflow<3,>=2.8.0->tensorflow-serving-api==2.8.0) (1.1.0)\r\n",
      "Requirement already satisfied: gast>=0.2.1 in /tmpfs/src/tf_docs_env/lib/python3.7/site-packages (from tensorflow<3,>=2.8.0->tensorflow-serving-api==2.8.0) (0.5.3)\r\n",
      "Requirement already satisfied: absl-py>=0.4.0 in /tmpfs/src/tf_docs_env/lib/python3.7/site-packages (from tensorflow<3,>=2.8.0->tensorflow-serving-api==2.8.0) (1.0.0)\r\n",
      "Requirement already satisfied: typing-extensions>=3.6.6 in /tmpfs/src/tf_docs_env/lib/python3.7/site-packages (from tensorflow<3,>=2.8.0->tensorflow-serving-api==2.8.0) (4.1.1)\r\n",
      "Requirement already satisfied: tf-estimator-nightly==2.8.0.dev2021122109 in /tmpfs/src/tf_docs_env/lib/python3.7/site-packages (from tensorflow<3,>=2.8.0->tensorflow-serving-api==2.8.0) (2.8.0.dev2021122109)\r\n",
      "Requirement already satisfied: h5py>=2.9.0 in /tmpfs/src/tf_docs_env/lib/python3.7/site-packages (from tensorflow<3,>=2.8.0->tensorflow-serving-api==2.8.0) (3.6.0)\r\n",
      "Requirement already satisfied: keras<2.9,>=2.8.0rc0 in /tmpfs/src/tf_docs_env/lib/python3.7/site-packages (from tensorflow<3,>=2.8.0->tensorflow-serving-api==2.8.0) (2.8.0)\r\n",
      "Requirement already satisfied: wheel<1.0,>=0.23.0 in /tmpfs/src/tf_docs_env/lib/python3.7/site-packages (from astunparse>=1.6.0->tensorflow<3,>=2.8.0->tensorflow-serving-api==2.8.0) (0.37.1)\r\n",
      "Requirement already satisfied: werkzeug>=0.11.15 in /tmpfs/src/tf_docs_env/lib/python3.7/site-packages (from tensorboard<2.9,>=2.8->tensorflow<3,>=2.8.0->tensorflow-serving-api==2.8.0) (2.1.0)\r\n",
      "Requirement already satisfied: requests<3,>=2.21.0 in /tmpfs/src/tf_docs_env/lib/python3.7/site-packages (from tensorboard<2.9,>=2.8->tensorflow<3,>=2.8.0->tensorflow-serving-api==2.8.0) (2.27.1)\r\n",
      "Requirement already satisfied: tensorboard-plugin-wit>=1.6.0 in /tmpfs/src/tf_docs_env/lib/python3.7/site-packages (from tensorboard<2.9,>=2.8->tensorflow<3,>=2.8.0->tensorflow-serving-api==2.8.0) (1.8.1)\r\n",
      "Requirement already satisfied: markdown>=2.6.8 in /tmpfs/src/tf_docs_env/lib/python3.7/site-packages (from tensorboard<2.9,>=2.8->tensorflow<3,>=2.8.0->tensorflow-serving-api==2.8.0) (3.3.6)\r\n"
     ]
    },
    {
     "name": "stdout",
     "output_type": "stream",
     "text": [
      "Requirement already satisfied: google-auth<3,>=1.6.3 in /tmpfs/src/tf_docs_env/lib/python3.7/site-packages (from tensorboard<2.9,>=2.8->tensorflow<3,>=2.8.0->tensorflow-serving-api==2.8.0) (2.6.2)\r\n",
      "Requirement already satisfied: google-auth-oauthlib<0.5,>=0.4.1 in /tmpfs/src/tf_docs_env/lib/python3.7/site-packages (from tensorboard<2.9,>=2.8->tensorflow<3,>=2.8.0->tensorflow-serving-api==2.8.0) (0.4.6)\r\n",
      "Requirement already satisfied: tensorboard-data-server<0.7.0,>=0.6.0 in /tmpfs/src/tf_docs_env/lib/python3.7/site-packages (from tensorboard<2.9,>=2.8->tensorflow<3,>=2.8.0->tensorflow-serving-api==2.8.0) (0.6.1)\r\n",
      "Requirement already satisfied: cached-property; python_version < \"3.8\" in /tmpfs/src/tf_docs_env/lib/python3.7/site-packages (from h5py>=2.9.0->tensorflow<3,>=2.8.0->tensorflow-serving-api==2.8.0) (1.5.2)\r\n",
      "Requirement already satisfied: idna<4,>=2.5; python_version >= \"3\" in /tmpfs/src/tf_docs_env/lib/python3.7/site-packages (from requests<3,>=2.21.0->tensorboard<2.9,>=2.8->tensorflow<3,>=2.8.0->tensorflow-serving-api==2.8.0) (3.3)\r\n",
      "Requirement already satisfied: charset-normalizer~=2.0.0; python_version >= \"3\" in /tmpfs/src/tf_docs_env/lib/python3.7/site-packages (from requests<3,>=2.21.0->tensorboard<2.9,>=2.8->tensorflow<3,>=2.8.0->tensorflow-serving-api==2.8.0) (2.0.12)\r\n",
      "Requirement already satisfied: urllib3<1.27,>=1.21.1 in /tmpfs/src/tf_docs_env/lib/python3.7/site-packages (from requests<3,>=2.21.0->tensorboard<2.9,>=2.8->tensorflow<3,>=2.8.0->tensorflow-serving-api==2.8.0) (1.26.9)\r\n",
      "Requirement already satisfied: certifi>=2017.4.17 in /tmpfs/src/tf_docs_env/lib/python3.7/site-packages (from requests<3,>=2.21.0->tensorboard<2.9,>=2.8->tensorflow<3,>=2.8.0->tensorflow-serving-api==2.8.0) (2021.10.8)\r\n",
      "Requirement already satisfied: importlib-metadata>=4.4; python_version < \"3.10\" in /tmpfs/src/tf_docs_env/lib/python3.7/site-packages (from markdown>=2.6.8->tensorboard<2.9,>=2.8->tensorflow<3,>=2.8.0->tensorflow-serving-api==2.8.0) (4.11.3)\r\n"
     ]
    },
    {
     "name": "stdout",
     "output_type": "stream",
     "text": [
      "Requirement already satisfied: pyasn1-modules>=0.2.1 in /tmpfs/src/tf_docs_env/lib/python3.7/site-packages (from google-auth<3,>=1.6.3->tensorboard<2.9,>=2.8->tensorflow<3,>=2.8.0->tensorflow-serving-api==2.8.0) (0.2.8)\r\n",
      "Requirement already satisfied: cachetools<6.0,>=2.0.0 in /tmpfs/src/tf_docs_env/lib/python3.7/site-packages (from google-auth<3,>=1.6.3->tensorboard<2.9,>=2.8->tensorflow<3,>=2.8.0->tensorflow-serving-api==2.8.0) (4.2.4)\r\n",
      "Requirement already satisfied: rsa<5,>=3.1.4; python_version >= \"3.6\" in /tmpfs/src/tf_docs_env/lib/python3.7/site-packages (from google-auth<3,>=1.6.3->tensorboard<2.9,>=2.8->tensorflow<3,>=2.8.0->tensorflow-serving-api==2.8.0) (4.8)\r\n",
      "Requirement already satisfied: requests-oauthlib>=0.7.0 in /tmpfs/src/tf_docs_env/lib/python3.7/site-packages (from google-auth-oauthlib<0.5,>=0.4.1->tensorboard<2.9,>=2.8->tensorflow<3,>=2.8.0->tensorflow-serving-api==2.8.0) (1.3.1)\r\n",
      "Requirement already satisfied: zipp>=0.5 in /tmpfs/src/tf_docs_env/lib/python3.7/site-packages (from importlib-metadata>=4.4; python_version < \"3.10\"->markdown>=2.6.8->tensorboard<2.9,>=2.8->tensorflow<3,>=2.8.0->tensorflow-serving-api==2.8.0) (3.7.0)\r\n",
      "Requirement already satisfied: pyasn1<0.5.0,>=0.4.6 in /tmpfs/src/tf_docs_env/lib/python3.7/site-packages (from pyasn1-modules>=0.2.1->google-auth<3,>=1.6.3->tensorboard<2.9,>=2.8->tensorflow<3,>=2.8.0->tensorflow-serving-api==2.8.0) (0.4.8)\r\n",
      "Requirement already satisfied: oauthlib>=3.0.0 in /tmpfs/src/tf_docs_env/lib/python3.7/site-packages (from requests-oauthlib>=0.7.0->google-auth-oauthlib<0.5,>=0.4.1->tensorboard<2.9,>=2.8->tensorflow<3,>=2.8.0->tensorflow-serving-api==2.8.0) (3.2.0)\r\n"
     ]
    },
    {
     "name": "stdout",
     "output_type": "stream",
     "text": [
      "\u001b[33mWARNING: You are using pip version 20.2; however, version 22.0.4 is available.\r\n",
      "You should consider upgrading via the '/tmpfs/src/tf_docs_env/bin/python -m pip install --upgrade pip' command.\u001b[0m\r\n"
     ]
    }
   ],
   "source": [
    "!pip install -q -U pip==20.2\n",
    "\n",
    "!pip install fairness_indicators 'absl-py<0.9,>=0.7'\n",
    "!pip install google-api-python-client==1.8.3\n",
    "!pip install tensorboard-plugin-fairness-indicators\n",
    "!pip install tensorflow-serving-api==2.8.0"
   ]
  },
  {
   "cell_type": "markdown",
   "metadata": {
    "id": "mglfaM4_mtIk"
   },
   "source": [
    "**Restart the runtime.** After the runtime is restarted, continue with following cells without running previous cell again."
   ]
  },
  {
   "cell_type": "code",
   "execution_count": 3,
   "metadata": {
    "execution": {
     "iopub.execute_input": "2022-04-01T01:09:14.526978Z",
     "iopub.status.busy": "2022-04-01T01:09:14.526438Z",
     "iopub.status.idle": "2022-04-01T01:09:14.529692Z",
     "shell.execute_reply": "2022-04-01T01:09:14.529218Z"
    },
    "id": "sFZJ8f_M7mlc"
   },
   "outputs": [],
   "source": [
    "# %tf.disable_v2_behavior()\t# Uncomment this line if running in Google Colab."
   ]
  },
  {
   "cell_type": "code",
   "execution_count": 4,
   "metadata": {
    "execution": {
     "iopub.execute_input": "2022-04-01T01:09:14.532569Z",
     "iopub.status.busy": "2022-04-01T01:09:14.532182Z",
     "iopub.status.idle": "2022-04-01T01:09:18.030542Z",
     "shell.execute_reply": "2022-04-01T01:09:18.029949Z"
    },
    "id": "B8dlyTyiTe-9"
   },
   "outputs": [],
   "source": [
    "import datetime\n",
    "import os\n",
    "import tempfile\n",
    "from tensorboard_plugin_fairness_indicators import summary_v2\n",
    "import tensorflow.compat.v1 as tf\n",
    "\n",
    "# example_model.py is provided in fairness_indicators package to train and\n",
    "# evaluate an example model. \n",
    "from fairness_indicators import example_model\n",
    "\n",
    "tf.compat.v1.enable_eager_execution()"
   ]
  },
  {
   "cell_type": "markdown",
   "metadata": {
    "id": "TsplOJGqWCf5"
   },
   "source": [
    "# Data and Constants"
   ]
  },
  {
   "cell_type": "code",
   "execution_count": 5,
   "metadata": {
    "execution": {
     "iopub.execute_input": "2022-04-01T01:09:18.034462Z",
     "iopub.status.busy": "2022-04-01T01:09:18.033982Z",
     "iopub.status.idle": "2022-04-01T01:09:42.803636Z",
     "shell.execute_reply": "2022-04-01T01:09:42.802947Z"
    },
    "id": "NdLBi6tN5i7I"
   },
   "outputs": [
    {
     "name": "stdout",
     "output_type": "stream",
     "text": [
      "Downloading data from https://storage.googleapis.com/civil_comments_dataset/train_tf_processed.tfrecord\n"
     ]
    },
    {
     "name": "stdout",
     "output_type": "stream",
     "text": [
      "\r",
      "    16384/488153424 [..............................] - ETA: 2s"
     ]
    },
    {
     "name": "stdout",
     "output_type": "stream",
     "text": [
      "\b\b\b\b\b\b\b\b\b\b\b\b\b\b\b\b\b\b\b\b\b\b\b\b\b\b\b\b\b\b\b\b\b\b\b\b\b\b\b\b\b\b\b\b\b\b\b\b\b\b\b\b\b\b\b\b\b\b\b\b\b\b\r",
      "  4202496/488153424 [..............................] - ETA: 1:24"
     ]
    },
    {
     "name": "stdout",
     "output_type": "stream",
     "text": [
      "\b\b\b\b\b\b\b\b\b\b\b\b\b\b\b\b\b\b\b\b\b\b\b\b\b\b\b\b\b\b\b\b\b\b\b\b\b\b\b\b\b\b\b\b\b\b\b\b\b\b\b\b\b\b\b\b\b\b\b\b\b\b\b\b\r",
      " 16785408/488153424 [>.............................] - ETA: 41s "
     ]
    },
    {
     "name": "stdout",
     "output_type": "stream",
     "text": [
      "\b\b\b\b\b\b\b\b\b\b\b\b\b\b\b\b\b\b\b\b\b\b\b\b\b\b\b\b\b\b\b\b\b\b\b\b\b\b\b\b\b\b\b\b\b\b\b\b\b\b\b\b\b\b\b\b\b\b\b\b\b\b\b\r",
      " 22929408/488153424 [>.............................] - ETA: 30s"
     ]
    },
    {
     "name": "stdout",
     "output_type": "stream",
     "text": [
      "\b\b\b\b\b\b\b\b\b\b\b\b\b\b\b\b\b\b\b\b\b\b\b\b\b\b\b\b\b\b\b\b\b\b\b\b\b\b\b\b\b\b\b\b\b\b\b\b\b\b\b\b\b\b\b\b\b\b\b\b\b\b\b\r",
      " 33562624/488153424 [=>............................] - ETA: 31s"
     ]
    },
    {
     "name": "stdout",
     "output_type": "stream",
     "text": [
      "\b\b\b\b\b\b\b\b\b\b\b\b\b\b\b\b\b\b\b\b\b\b\b\b\b\b\b\b\b\b\b\b\b\b\b\b\b\b\b\b\b\b\b\b\b\b\b\b\b\b\b\b\b\b\b\b\b\b\b\b\b\b\b\r",
      " 45129728/488153424 [=>............................] - ETA: 23s"
     ]
    },
    {
     "name": "stdout",
     "output_type": "stream",
     "text": [
      "\b\b\b\b\b\b\b\b\b\b\b\b\b\b\b\b\b\b\b\b\b\b\b\b\b\b\b\b\b\b\b\b\b\b\b\b\b\b\b\b\b\b\b\b\b\b\b\b\b\b\b\b\b\b\b\b\b\b\b\b\b\b\b\r",
      " 50339840/488153424 [==>...........................] - ETA: 25s"
     ]
    },
    {
     "name": "stdout",
     "output_type": "stream",
     "text": [
      "\b\b\b\b\b\b\b\b\b\b\b\b\b\b\b\b\b\b\b\b\b\b\b\b\b\b\b\b\b\b\b\b\b\b\b\b\b\b\b\b\b\b\b\b\b\b\b\b\b\b\b\b\b\b\b\b\b\b\b\b\b\b\b\r",
      " 58728448/488153424 [==>...........................] - ETA: 21s"
     ]
    },
    {
     "name": "stdout",
     "output_type": "stream",
     "text": [
      "\b\b\b\b\b\b\b\b\b\b\b\b\b\b\b\b\b\b\b\b\b\b\b\b\b\b\b\b\b\b\b\b\b\b\b\b\b\b\b\b\b\b\b\b\b\b\b\b\b\b\b\b\b\b\b\b\b\b\b\b\b\b\b\r",
      " 71540736/488153424 [===>..........................] - ETA: 17s"
     ]
    },
    {
     "name": "stdout",
     "output_type": "stream",
     "text": [
      "\b\b\b\b\b\b\b\b\b\b\b\b\b\b\b\b\b\b\b\b\b\b\b\b\b\b\b\b\b\b\b\b\b\b\b\b\b\b\b\b\b\b\b\b\b\b\b\b\b\b\b\b\b\b\b\b\b\b\b\b\b\b\b\r",
      " 75505664/488153424 [===>..........................] - ETA: 17s"
     ]
    },
    {
     "name": "stdout",
     "output_type": "stream",
     "text": [
      "\b\b\b\b\b\b\b\b\b\b\b\b\b\b\b\b\b\b\b\b\b\b\b\b\b\b\b\b\b\b\b\b\b\b\b\b\b\b\b\b\b\b\b\b\b\b\b\b\b\b\b\b\b\b\b\b\b\b\b\b\b\b\b\r",
      " 83894272/488153424 [====>.........................] - ETA: 21s"
     ]
    },
    {
     "name": "stdout",
     "output_type": "stream",
     "text": [
      "\b\b\b\b\b\b\b\b\b\b\b\b\b\b\b\b\b\b\b\b\b\b\b\b\b\b\b\b\b\b\b\b\b\b\b\b\b\b\b\b\b\b\b\b\b\b\b\b\b\b\b\b\b\b\b\b\b\b\b\b\b\b\b\r",
      " 89292800/488153424 [====>.........................] - ETA: 20s"
     ]
    },
    {
     "name": "stdout",
     "output_type": "stream",
     "text": [
      "\b\b\b\b\b\b\b\b\b\b\b\b\b\b\b\b\b\b\b\b\b\b\b\b\b\b\b\b\b\b\b\b\b\b\b\b\b\b\b\b\b\b\b\b\b\b\b\b\b\b\b\b\b\b\b\b\b\b\b\b\b\b\b\r",
      "101285888/488153424 [=====>........................] - ETA: 17s"
     ]
    },
    {
     "name": "stdout",
     "output_type": "stream",
     "text": [
      "\b\b\b\b\b\b\b\b\b\b\b\b\b\b\b\b\b\b\b\b\b\b\b\b\b\b\b\b\b\b\b\b\b\b\b\b\b\b\b\b\b\b\b\b\b\b\b\b\b\b\b\b\b\b\b\b\b\b\b\b\b\b\b\r",
      "112951296/488153424 [=====>........................] - ETA: 15s"
     ]
    },
    {
     "name": "stdout",
     "output_type": "stream",
     "text": [
      "\b\b\b\b\b\b\b\b\b\b\b\b\b\b\b\b\b\b\b\b\b\b\b\b\b\b\b\b\b\b\b\b\b\b\b\b\b\b\b\b\b\b\b\b\b\b\b\b\b\b\b\b\b\b\b\b\b\b\b\b\b\b\b\r",
      "117448704/488153424 [======>.......................] - ETA: 15s"
     ]
    },
    {
     "name": "stdout",
     "output_type": "stream",
     "text": [
      "\b\b\b\b\b\b\b\b\b\b\b\b\b\b\b\b\b\b\b\b\b\b\b\b\b\b\b\b\b\b\b\b\b\b\b\b\b\b\b\b\b\b\b\b\b\b\b\b\b\b\b\b\b\b\b\b\b\b\b\b\b\b\b\r",
      "125837312/488153424 [======>.......................] - ETA: 14s"
     ]
    },
    {
     "name": "stdout",
     "output_type": "stream",
     "text": [
      "\b\b\b\b\b\b\b\b\b\b\b\b\b\b\b\b\b\b\b\b\b\b\b\b\b\b\b\b\b\b\b\b\b\b\b\b\b\b\b\b\b\b\b\b\b\b\b\b\b\b\b\b\b\b\b\b\b\b\b\b\b\b\b\r",
      "134225920/488153424 [=======>......................] - ETA: 14s"
     ]
    },
    {
     "name": "stdout",
     "output_type": "stream",
     "text": [
      "\b\b\b\b\b\b\b\b\b\b\b\b\b\b\b\b\b\b\b\b\b\b\b\b\b\b\b\b\b\b\b\b\b\b\b\b\b\b\b\b\b\b\b\b\b\b\b\b\b\b\b\b\b\b\b\b\b\b\b\b\b\b\b\r",
      "142614528/488153424 [=======>......................] - ETA: 13s"
     ]
    },
    {
     "name": "stdout",
     "output_type": "stream",
     "text": [
      "\b\b\b\b\b\b\b\b\b\b\b\b\b\b\b\b\b\b\b\b\b\b\b\b\b\b\b\b\b\b\b\b\b\b\b\b\b\b\b\b\b\b\b\b\b\b\b\b\b\b\b\b\b\b\b\b\b\b\b\b\b\b\b\r",
      "151322624/488153424 [========>.....................] - ETA: 12s"
     ]
    },
    {
     "name": "stdout",
     "output_type": "stream",
     "text": [
      "\b\b\b\b\b\b\b\b\b\b\b\b\b\b\b\b\b\b\b\b\b\b\b\b\b\b\b\b\b\b\b\b\b\b\b\b\b\b\b\b\b\b\b\b\b\b\b\b\b\b\b\b\b\b\b\b\b\b\b\b\b\b\b\r",
      "155803648/488153424 [========>.....................] - ETA: 12s"
     ]
    },
    {
     "name": "stdout",
     "output_type": "stream",
     "text": [
      "\b\b\b\b\b\b\b\b\b\b\b\b\b\b\b\b\b\b\b\b\b\b\b\b\b\b\b\b\b\b\b\b\b\b\b\b\b\b\b\b\b\b\b\b\b\b\b\b\b\b\b\b\b\b\b\b\b\b\b\b\b\b\b\r",
      "160120832/488153424 [========>.....................] - ETA: 11s"
     ]
    },
    {
     "name": "stdout",
     "output_type": "stream",
     "text": [
      "\b\b\b\b\b\b\b\b\b\b\b\b\b\b\b\b\b\b\b\b\b\b\b\b\b\b\b\b\b\b\b\b\b\b\b\b\b\b\b\b\b\b\b\b\b\b\b\b\b\b\b\b\b\b\b\b\b\b\b\b\b\b\b\r",
      "162070528/488153424 [========>.....................] - ETA: 11s"
     ]
    },
    {
     "name": "stdout",
     "output_type": "stream",
     "text": [
      "\b\b\b\b\b\b\b\b\b\b\b\b\b\b\b\b\b\b\b\b\b\b\b\b\b\b\b\b\b\b\b\b\b\b\b\b\b\b\b\b\b\b\b\b\b\b\b\b\b\b\b\b\b\b\b\b\b\b\b\b\b\b\b\r",
      "167780352/488153424 [=========>....................] - ETA: 11s"
     ]
    },
    {
     "name": "stdout",
     "output_type": "stream",
     "text": [
      "\b\b\b\b\b\b\b\b\b\b\b\b\b\b\b\b\b\b\b\b\b\b\b\b\b\b\b\b\b\b\b\b\b\b\b\b\b\b\b\b\b\b\b\b\b\b\b\b\b\b\b\b\b\b\b\b\b\b\b\b\b\b\b\r",
      "176168960/488153424 [=========>....................] - ETA: 10s"
     ]
    },
    {
     "name": "stdout",
     "output_type": "stream",
     "text": [
      "\b\b\b\b\b\b\b\b\b\b\b\b\b\b\b\b\b\b\b\b\b\b\b\b\b\b\b\b\b\b\b\b\b\b\b\b\b\b\b\b\b\b\b\b\b\b\b\b\b\b\b\b\b\b\b\b\b\b\b\b\b\b\b\r",
      "183459840/488153424 [==========>...................] - ETA: 10s"
     ]
    },
    {
     "name": "stdout",
     "output_type": "stream",
     "text": [
      "\b\b\b\b\b\b\b\b\b\b\b\b\b\b\b\b\b\b\b\b\b\b\b\b\b\b\b\b\b\b\b\b\b\b\b\b\b\b\b\b\b\b\b\b\b\b\b\b\b\b\b\b\b\b\b\b\b\b\b\b\b\b\b\r",
      "184557568/488153424 [==========>...................] - ETA: 11s"
     ]
    },
    {
     "name": "stdout",
     "output_type": "stream",
     "text": [
      "\b\b\b\b\b\b\b\b\b\b\b\b\b\b\b\b\b\b\b\b\b\b\b\b\b\b\b\b\b\b\b\b\b\b\b\b\b\b\b\b\b\b\b\b\b\b\b\b\b\b\b\b\b\b\b\b\b\b\b\b\b\b\b\r",
      "192946176/488153424 [==========>...................] - ETA: 11s"
     ]
    },
    {
     "name": "stdout",
     "output_type": "stream",
     "text": [
      "\b\b\b\b\b\b\b\b\b\b\b\b\b\b\b\b\b\b\b\b\b\b\b\b\b\b\b\b\b\b\b\b\b\b\b\b\b\b\b\b\b\b\b\b\b\b\b\b\b\b\b\b\b\b\b\b\b\b\b\b\b\b\b\r",
      "200359936/488153424 [===========>..................] - ETA: 10s"
     ]
    },
    {
     "name": "stdout",
     "output_type": "stream",
     "text": [
      "\b\b\b\b\b\b\b\b\b\b\b\b\b\b\b\b\b\b\b\b\b\b\b\b\b\b\b\b\b\b\b\b\b\b\b\b\b\b\b\b\b\b\b\b\b\b\b\b\b\b\b\b\b\b\b\b\b\b\b\b\b\b\b\r",
      "215687168/488153424 [============>.................] - ETA: 9s "
     ]
    },
    {
     "name": "stdout",
     "output_type": "stream",
     "text": [
      "\b\b\b\b\b\b\b\b\b\b\b\b\b\b\b\b\b\b\b\b\b\b\b\b\b\b\b\b\b\b\b\b\b\b\b\b\b\b\b\b\b\b\b\b\b\b\b\b\b\b\b\b\b\b\b\b\b\b\b\b\b\b\r",
      "226500608/488153424 [============>.................] - ETA: 8s"
     ]
    },
    {
     "name": "stdout",
     "output_type": "stream",
     "text": [
      "\b\b\b\b\b\b\b\b\b\b\b\b\b\b\b\b\b\b\b\b\b\b\b\b\b\b\b\b\b\b\b\b\b\b\b\b\b\b\b\b\b\b\b\b\b\b\b\b\b\b\b\b\b\b\b\b\b\b\b\b\b\b\r",
      "239747072/488153424 [=============>................] - ETA: 8s"
     ]
    },
    {
     "name": "stdout",
     "output_type": "stream",
     "text": [
      "\b\b\b\b\b\b\b\b\b\b\b\b\b\b\b\b\b\b\b\b\b\b\b\b\b\b\b\b\b\b\b\b\b\b\b\b\b\b\b\b\b\b\b\b\b\b\b\b\b\b\b\b\b\b\b\b\b\b\b\b\b\b\r",
      "253919232/488153424 [==============>...............] - ETA: 7s"
     ]
    },
    {
     "name": "stdout",
     "output_type": "stream",
     "text": [
      "\b\b\b\b\b\b\b\b\b\b\b\b\b\b\b\b\b\b\b\b\b\b\b\b\b\b\b\b\b\b\b\b\b\b\b\b\b\b\b\b\b\b\b\b\b\b\b\b\b\b\b\b\b\b\b\b\b\b\b\b\b\b\r",
      "260055040/488153424 [==============>...............] - ETA: 7s"
     ]
    },
    {
     "name": "stdout",
     "output_type": "stream",
     "text": [
      "\b\b\b\b\b\b\b\b\b\b\b\b\b\b\b\b\b\b\b\b\b\b\b\b\b\b\b\b\b\b\b\b\b\b\b\b\b\b\b\b\b\b\b\b\b\b\b\b\b\b\b\b\b\b\b\b\b\b\b\b\b\b\r",
      "268443648/488153424 [===============>..............] - ETA: 7s"
     ]
    },
    {
     "name": "stdout",
     "output_type": "stream",
     "text": [
      "\b\b\b\b\b\b\b\b\b\b\b\b\b\b\b\b\b\b\b\b\b\b\b\b\b\b\b\b\b\b\b\b\b\b\b\b\b\b\b\b\b\b\b\b\b\b\b\b\b\b\b\b\b\b\b\b\b\b\b\b\b\b\r",
      "282206208/488153424 [================>.............] - ETA: 6s"
     ]
    },
    {
     "name": "stdout",
     "output_type": "stream",
     "text": [
      "\b\b\b\b\b\b\b\b\b\b\b\b\b\b\b\b\b\b\b\b\b\b\b\b\b\b\b\b\b\b\b\b\b\b\b\b\b\b\b\b\b\b\b\b\b\b\b\b\b\b\b\b\b\b\b\b\b\b\b\b\b\b\r",
      "293609472/488153424 [=================>............] - ETA: 5s"
     ]
    },
    {
     "name": "stdout",
     "output_type": "stream",
     "text": [
      "\b\b\b\b\b\b\b\b\b\b\b\b\b\b\b\b\b\b\b\b\b\b\b\b\b\b\b\b\b\b\b\b\b\b\b\b\b\b\b\b\b\b\b\b\b\b\b\b\b\b\b\b\b\b\b\b\b\b\b\b\b\b\r",
      "301998080/488153424 [=================>............] - ETA: 5s"
     ]
    },
    {
     "name": "stdout",
     "output_type": "stream",
     "text": [
      "\b\b\b\b\b\b\b\b\b\b\b\b\b\b\b\b\b\b\b\b\b\b\b\b\b\b\b\b\b\b\b\b\b\b\b\b\b\b\b\b\b\b\b\b\b\b\b\b\b\b\b\b\b\b\b\b\b\b\b\b\b\b\r",
      "310386688/488153424 [==================>...........] - ETA: 5s"
     ]
    },
    {
     "name": "stdout",
     "output_type": "stream",
     "text": [
      "\b\b\b\b\b\b\b\b\b\b\b\b\b\b\b\b\b\b\b\b\b\b\b\b\b\b\b\b\b\b\b\b\b\b\b\b\b\b\b\b\b\b\b\b\b\b\b\b\b\b\b\b\b\b\b\b\b\b\b\b\b\b\r",
      "318775296/488153424 [==================>...........] - ETA: 4s"
     ]
    },
    {
     "name": "stdout",
     "output_type": "stream",
     "text": [
      "\b\b\b\b\b\b\b\b\b\b\b\b\b\b\b\b\b\b\b\b\b\b\b\b\b\b\b\b\b\b\b\b\b\b\b\b\b\b\b\b\b\b\b\b\b\b\b\b\b\b\b\b\b\b\b\b\b\b\b\b\b\b\r",
      "331046912/488153424 [===================>..........] - ETA: 4s"
     ]
    },
    {
     "name": "stdout",
     "output_type": "stream",
     "text": [
      "\b\b\b\b\b\b\b\b\b\b\b\b\b\b\b\b\b\b\b\b\b\b\b\b\b\b\b\b\b\b\b\b\b\b\b\b\b\b\b\b\b\b\b\b\b\b\b\b\b\b\b\b\b\b\b\b\b\b\b\b\b\b\r",
      "340500480/488153424 [===================>..........] - ETA: 4s"
     ]
    },
    {
     "name": "stdout",
     "output_type": "stream",
     "text": [
      "\b\b\b\b\b\b\b\b\b\b\b\b\b\b\b\b\b\b\b\b\b\b\b\b\b\b\b\b\b\b\b\b\b\b\b\b\b\b\b\b\b\b\b\b\b\b\b\b\b\b\b\b\b\b\b\b\b\b\b\b\b\b\r",
      "343941120/488153424 [====================>.........] - ETA: 4s"
     ]
    },
    {
     "name": "stdout",
     "output_type": "stream",
     "text": [
      "\b\b\b\b\b\b\b\b\b\b\b\b\b\b\b\b\b\b\b\b\b\b\b\b\b\b\b\b\b\b\b\b\b\b\b\b\b\b\b\b\b\b\b\b\b\b\b\b\b\b\b\b\b\b\b\b\b\b\b\b\b\b\r",
      "352329728/488153424 [====================>.........] - ETA: 3s"
     ]
    },
    {
     "name": "stdout",
     "output_type": "stream",
     "text": [
      "\b\b\b\b\b\b\b\b\b\b\b\b\b\b\b\b\b\b\b\b\b\b\b\b\b\b\b\b\b\b\b\b\b\b\b\b\b\b\b\b\b\b\b\b\b\b\b\b\b\b\b\b\b\b\b\b\b\b\b\b\b\b\r",
      "365240320/488153424 [=====================>........] - ETA: 3s"
     ]
    },
    {
     "name": "stdout",
     "output_type": "stream",
     "text": [
      "\b\b\b\b\b\b\b\b\b\b\b\b\b\b\b\b\b\b\b\b\b\b\b\b\b\b\b\b\b\b\b\b\b\b\b\b\b\b\b\b\b\b\b\b\b\b\b\b\b\b\b\b\b\b\b\b\b\b\b\b\b\b\r",
      "369106944/488153424 [=====================>........] - ETA: 3s"
     ]
    },
    {
     "name": "stdout",
     "output_type": "stream",
     "text": [
      "\b\b\b\b\b\b\b\b\b\b\b\b\b\b\b\b\b\b\b\b\b\b\b\b\b\b\b\b\b\b\b\b\b\b\b\b\b\b\b\b\b\b\b\b\b\b\b\b\b\b\b\b\b\b\b\b\b\b\b\b\b\b\r",
      "377495552/488153424 [======================>.......] - ETA: 3s"
     ]
    },
    {
     "name": "stdout",
     "output_type": "stream",
     "text": [
      "\b\b\b\b\b\b\b\b\b\b\b\b\b\b\b\b\b\b\b\b\b\b\b\b\b\b\b\b\b\b\b\b\b\b\b\b\b\b\b\b\b\b\b\b\b\b\b\b\b\b\b\b\b\b\b\b\b\b\b\b\b\b\r",
      "385884160/488153424 [======================>.......] - ETA: 2s"
     ]
    },
    {
     "name": "stdout",
     "output_type": "stream",
     "text": [
      "\b\b\b\b\b\b\b\b\b\b\b\b\b\b\b\b\b\b\b\b\b\b\b\b\b\b\b\b\b\b\b\b\b\b\b\b\b\b\b\b\b\b\b\b\b\b\b\b\b\b\b\b\b\b\b\b\b\b\b\b\b\b\r",
      "396746752/488153424 [=======================>......] - ETA: 2s"
     ]
    },
    {
     "name": "stdout",
     "output_type": "stream",
     "text": [
      "\b\b\b\b\b\b\b\b\b\b\b\b\b\b\b\b\b\b\b\b\b\b\b\b\b\b\b\b\b\b\b\b\b\b\b\b\b\b\b\b\b\b\b\b\b\b\b\b\b\b\b\b\b\b\b\b\b\b\b\b\b\b\r",
      "402661376/488153424 [=======================>......] - ETA: 2s"
     ]
    },
    {
     "name": "stdout",
     "output_type": "stream",
     "text": [
      "\b\b\b\b\b\b\b\b\b\b\b\b\b\b\b\b\b\b\b\b\b\b\b\b\b\b\b\b\b\b\b\b\b\b\b\b\b\b\b\b\b\b\b\b\b\b\b\b\b\b\b\b\b\b\b\b\b\b\b\b\b\b\r",
      "416817152/488153424 [========================>.....] - ETA: 1s"
     ]
    },
    {
     "name": "stdout",
     "output_type": "stream",
     "text": [
      "\b\b\b\b\b\b\b\b\b\b\b\b\b\b\b\b\b\b\b\b\b\b\b\b\b\b\b\b\b\b\b\b\b\b\b\b\b\b\b\b\b\b\b\b\b\b\b\b\b\b\b\b\b\b\b\b\b\b\b\b\b\b\r",
      "419438592/488153424 [========================>.....] - ETA: 1s"
     ]
    },
    {
     "name": "stdout",
     "output_type": "stream",
     "text": [
      "\b\b\b\b\b\b\b\b\b\b\b\b\b\b\b\b\b\b\b\b\b\b\b\b\b\b\b\b\b\b\b\b\b\b\b\b\b\b\b\b\b\b\b\b\b\b\b\b\b\b\b\b\b\b\b\b\b\b\b\b\b\b\r",
      "427474944/488153424 [=========================>....] - ETA: 1s"
     ]
    },
    {
     "name": "stdout",
     "output_type": "stream",
     "text": [
      "\b\b\b\b\b\b\b\b\b\b\b\b\b\b\b\b\b\b\b\b\b\b\b\b\b\b\b\b\b\b\b\b\b\b\b\b\b\b\b\b\b\b\b\b\b\b\b\b\b\b\b\b\b\b\b\b\b\b\b\b\b\b\r",
      "441327616/488153424 [==========================>...] - ETA: 1s"
     ]
    },
    {
     "name": "stdout",
     "output_type": "stream",
     "text": [
      "\b\b\b\b\b\b\b\b\b\b\b\b\b\b\b\b\b\b\b\b\b\b\b\b\b\b\b\b\b\b\b\b\b\b\b\b\b\b\b\b\b\b\b\b\b\b\b\b\b\b\b\b\b\b\b\b\b\b\b\b\b\b\r",
      "452993024/488153424 [==========================>...] - ETA: 0s"
     ]
    },
    {
     "name": "stdout",
     "output_type": "stream",
     "text": [
      "\b\b\b\b\b\b\b\b\b\b\b\b\b\b\b\b\b\b\b\b\b\b\b\b\b\b\b\b\b\b\b\b\b\b\b\b\b\b\b\b\b\b\b\b\b\b\b\b\b\b\b\b\b\b\b\b\b\b\b\b\b\b\r",
      "461381632/488153424 [===========================>..] - ETA: 0s"
     ]
    },
    {
     "name": "stdout",
     "output_type": "stream",
     "text": [
      "\b\b\b\b\b\b\b\b\b\b\b\b\b\b\b\b\b\b\b\b\b\b\b\b\b\b\b\b\b\b\b\b\b\b\b\b\b\b\b\b\b\b\b\b\b\b\b\b\b\b\b\b\b\b\b\b\b\b\b\b\b\b\r",
      "469770240/488153424 [===========================>..] - ETA: 0s"
     ]
    },
    {
     "name": "stdout",
     "output_type": "stream",
     "text": [
      "\b\b\b\b\b\b\b\b\b\b\b\b\b\b\b\b\b\b\b\b\b\b\b\b\b\b\b\b\b\b\b\b\b\b\b\b\b\b\b\b\b\b\b\b\b\b\b\b\b\b\b\b\b\b\b\b\b\b\b\b\b\b\r",
      "476692480/488153424 [============================>.] - ETA: 0s"
     ]
    },
    {
     "name": "stdout",
     "output_type": "stream",
     "text": [
      "\b\b\b\b\b\b\b\b\b\b\b\b\b\b\b\b\b\b\b\b\b\b\b\b\b\b\b\b\b\b\b\b\b\b\b\b\b\b\b\b\b\b\b\b\b\b\b\b\b\b\b\b\b\b\b\b\b\b\b\b\b\b\r",
      "482377728/488153424 [============================>.] - ETA: 0s"
     ]
    },
    {
     "name": "stdout",
     "output_type": "stream",
     "text": [
      "\b\b\b\b\b\b\b\b\b\b\b\b\b\b\b\b\b\b\b\b\b\b\b\b\b\b\b\b\b\b\b\b\b\b\b\b\b\b\b\b\b\b\b\b\b\b\b\b\b\b\b\b\b\b\b\b\b\b\b\b\b\b\r",
      "488161280/488153424 [==============================] - 13s 0us/step\n"
     ]
    },
    {
     "name": "stdout",
     "output_type": "stream",
     "text": [
      "\b\b\b\b\b\b\b\b\b\b\b\b\b\b\b\b\b\b\b\b\b\b\b\b\b\b\b\b\b\b\b\b\b\b\b\b\b\b\b\b\b\b\b\b\b\b\b\b\b\b\b\b\b\b\b\b\b\b\b\b\b\b\b\b\b\b\b\r",
      "488169472/488153424 [==============================] - 13s 0us/step\n"
     ]
    },
    {
     "name": "stdout",
     "output_type": "stream",
     "text": [
      "Downloading data from https://storage.googleapis.com/civil_comments_dataset/validate_tf_processed.tfrecord\n"
     ]
    },
    {
     "name": "stdout",
     "output_type": "stream",
     "text": [
      "\r",
      "    16384/324941336 [..............................] - ETA: 1s"
     ]
    },
    {
     "name": "stdout",
     "output_type": "stream",
     "text": [
      "\b\b\b\b\b\b\b\b\b\b\b\b\b\b\b\b\b\b\b\b\b\b\b\b\b\b\b\b\b\b\b\b\b\b\b\b\b\b\b\b\b\b\b\b\b\b\b\b\b\b\b\b\b\b\b\b\b\b\b\b\b\b\r",
      "  4202496/324941336 [..............................] - ETA: 48s"
     ]
    },
    {
     "name": "stdout",
     "output_type": "stream",
     "text": [
      "\b\b\b\b\b\b\b\b\b\b\b\b\b\b\b\b\b\b\b\b\b\b\b\b\b\b\b\b\b\b\b\b\b\b\b\b\b\b\b\b\b\b\b\b\b\b\b\b\b\b\b\b\b\b\b\b\b\b\b\b\b\b\b\r",
      " 16785408/324941336 [>.............................] - ETA: 25s"
     ]
    },
    {
     "name": "stdout",
     "output_type": "stream",
     "text": [
      "\b\b\b\b\b\b\b\b\b\b\b\b\b\b\b\b\b\b\b\b\b\b\b\b\b\b\b\b\b\b\b\b\b\b\b\b\b\b\b\b\b\b\b\b\b\b\b\b\b\b\b\b\b\b\b\b\b\b\b\b\b\b\b\r",
      " 29761536/324941336 [=>............................] - ETA: 14s"
     ]
    },
    {
     "name": "stdout",
     "output_type": "stream",
     "text": [
      "\b\b\b\b\b\b\b\b\b\b\b\b\b\b\b\b\b\b\b\b\b\b\b\b\b\b\b\b\b\b\b\b\b\b\b\b\b\b\b\b\b\b\b\b\b\b\b\b\b\b\b\b\b\b\b\b\b\b\b\b\b\b\b\r",
      " 43483136/324941336 [===>..........................] - ETA: 9s "
     ]
    },
    {
     "name": "stdout",
     "output_type": "stream",
     "text": [
      "\b\b\b\b\b\b\b\b\b\b\b\b\b\b\b\b\b\b\b\b\b\b\b\b\b\b\b\b\b\b\b\b\b\b\b\b\b\b\b\b\b\b\b\b\b\b\b\b\b\b\b\b\b\b\b\b\b\b\b\b\b\b\r",
      " 50339840/324941336 [===>..........................] - ETA: 10s"
     ]
    },
    {
     "name": "stdout",
     "output_type": "stream",
     "text": [
      "\b\b\b\b\b\b\b\b\b\b\b\b\b\b\b\b\b\b\b\b\b\b\b\b\b\b\b\b\b\b\b\b\b\b\b\b\b\b\b\b\b\b\b\b\b\b\b\b\b\b\b\b\b\b\b\b\b\b\b\b\b\b\b\r",
      " 58843136/324941336 [====>.........................] - ETA: 8s "
     ]
    },
    {
     "name": "stdout",
     "output_type": "stream",
     "text": [
      "\b\b\b\b\b\b\b\b\b\b\b\b\b\b\b\b\b\b\b\b\b\b\b\b\b\b\b\b\b\b\b\b\b\b\b\b\b\b\b\b\b\b\b\b\b\b\b\b\b\b\b\b\b\b\b\b\b\b\b\b\b\b\r",
      " 69050368/324941336 [=====>........................] - ETA: 7s"
     ]
    },
    {
     "name": "stdout",
     "output_type": "stream",
     "text": [
      "\b\b\b\b\b\b\b\b\b\b\b\b\b\b\b\b\b\b\b\b\b\b\b\b\b\b\b\b\b\b\b\b\b\b\b\b\b\b\b\b\b\b\b\b\b\b\b\b\b\b\b\b\b\b\b\b\b\b\b\b\b\b\r",
      " 83394560/324941336 [======>.......................] - ETA: 5s"
     ]
    },
    {
     "name": "stdout",
     "output_type": "stream",
     "text": [
      "\b\b\b\b\b\b\b\b\b\b\b\b\b\b\b\b\b\b\b\b\b\b\b\b\b\b\b\b\b\b\b\b\b\b\b\b\b\b\b\b\b\b\b\b\b\b\b\b\b\b\b\b\b\b\b\b\b\b\b\b\b\b\r",
      " 83894272/324941336 [======>.......................] - ETA: 6s"
     ]
    },
    {
     "name": "stdout",
     "output_type": "stream",
     "text": [
      "\b\b\b\b\b\b\b\b\b\b\b\b\b\b\b\b\b\b\b\b\b\b\b\b\b\b\b\b\b\b\b\b\b\b\b\b\b\b\b\b\b\b\b\b\b\b\b\b\b\b\b\b\b\b\b\b\b\b\b\b\b\b\r",
      " 92282880/324941336 [=======>......................] - ETA: 6s"
     ]
    },
    {
     "name": "stdout",
     "output_type": "stream",
     "text": [
      "\b\b\b\b\b\b\b\b\b\b\b\b\b\b\b\b\b\b\b\b\b\b\b\b\b\b\b\b\b\b\b\b\b\b\b\b\b\b\b\b\b\b\b\b\b\b\b\b\b\b\b\b\b\b\b\b\b\b\b\b\b\b\r",
      "100671488/324941336 [========>.....................] - ETA: 7s"
     ]
    },
    {
     "name": "stdout",
     "output_type": "stream",
     "text": [
      "\b\b\b\b\b\b\b\b\b\b\b\b\b\b\b\b\b\b\b\b\b\b\b\b\b\b\b\b\b\b\b\b\b\b\b\b\b\b\b\b\b\b\b\b\b\b\b\b\b\b\b\b\b\b\b\b\b\b\b\b\b\b\r",
      "110583808/324941336 [=========>....................] - ETA: 6s"
     ]
    },
    {
     "name": "stdout",
     "output_type": "stream",
     "text": [
      "\b\b\b\b\b\b\b\b\b\b\b\b\b\b\b\b\b\b\b\b\b\b\b\b\b\b\b\b\b\b\b\b\b\b\b\b\b\b\b\b\b\b\b\b\b\b\b\b\b\b\b\b\b\b\b\b\b\b\b\b\b\b\r",
      "123756544/324941336 [==========>...................] - ETA: 5s"
     ]
    },
    {
     "name": "stdout",
     "output_type": "stream",
     "text": [
      "\b\b\b\b\b\b\b\b\b\b\b\b\b\b\b\b\b\b\b\b\b\b\b\b\b\b\b\b\b\b\b\b\b\b\b\b\b\b\b\b\b\b\b\b\b\b\b\b\b\b\b\b\b\b\b\b\b\b\b\b\b\b\r",
      "134225920/324941336 [===========>..................] - ETA: 5s"
     ]
    },
    {
     "name": "stdout",
     "output_type": "stream",
     "text": [
      "\b\b\b\b\b\b\b\b\b\b\b\b\b\b\b\b\b\b\b\b\b\b\b\b\b\b\b\b\b\b\b\b\b\b\b\b\b\b\b\b\b\b\b\b\b\b\b\b\b\b\b\b\b\b\b\b\b\b\b\b\b\b\r",
      "147349504/324941336 [============>.................] - ETA: 4s"
     ]
    },
    {
     "name": "stdout",
     "output_type": "stream",
     "text": [
      "\b\b\b\b\b\b\b\b\b\b\b\b\b\b\b\b\b\b\b\b\b\b\b\b\b\b\b\b\b\b\b\b\b\b\b\b\b\b\b\b\b\b\b\b\b\b\b\b\b\b\b\b\b\b\b\b\b\b\b\b\b\b\r",
      "151347200/324941336 [============>.................] - ETA: 4s"
     ]
    },
    {
     "name": "stdout",
     "output_type": "stream",
     "text": [
      "\b\b\b\b\b\b\b\b\b\b\b\b\b\b\b\b\b\b\b\b\b\b\b\b\b\b\b\b\b\b\b\b\b\b\b\b\b\b\b\b\b\b\b\b\b\b\b\b\b\b\b\b\b\b\b\b\b\b\b\b\b\b\r",
      "159391744/324941336 [=============>................] - ETA: 5s"
     ]
    },
    {
     "name": "stdout",
     "output_type": "stream",
     "text": [
      "\b\b\b\b\b\b\b\b\b\b\b\b\b\b\b\b\b\b\b\b\b\b\b\b\b\b\b\b\b\b\b\b\b\b\b\b\b\b\b\b\b\b\b\b\b\b\b\b\b\b\b\b\b\b\b\b\b\b\b\b\b\b\r",
      "167780352/324941336 [==============>...............] - ETA: 4s"
     ]
    },
    {
     "name": "stdout",
     "output_type": "stream",
     "text": [
      "\b\b\b\b\b\b\b\b\b\b\b\b\b\b\b\b\b\b\b\b\b\b\b\b\b\b\b\b\b\b\b\b\b\b\b\b\b\b\b\b\b\b\b\b\b\b\b\b\b\b\b\b\b\b\b\b\b\b\b\b\b\b\r",
      "180535296/324941336 [===============>..............] - ETA: 4s"
     ]
    },
    {
     "name": "stdout",
     "output_type": "stream",
     "text": [
      "\b\b\b\b\b\b\b\b\b\b\b\b\b\b\b\b\b\b\b\b\b\b\b\b\b\b\b\b\b\b\b\b\b\b\b\b\b\b\b\b\b\b\b\b\b\b\b\b\b\b\b\b\b\b\b\b\b\b\b\b\b\b\r",
      "192946176/324941336 [================>.............] - ETA: 3s"
     ]
    },
    {
     "name": "stdout",
     "output_type": "stream",
     "text": [
      "\b\b\b\b\b\b\b\b\b\b\b\b\b\b\b\b\b\b\b\b\b\b\b\b\b\b\b\b\b\b\b\b\b\b\b\b\b\b\b\b\b\b\b\b\b\b\b\b\b\b\b\b\b\b\b\b\b\b\b\b\b\b\r",
      "201334784/324941336 [=================>............] - ETA: 3s"
     ]
    },
    {
     "name": "stdout",
     "output_type": "stream",
     "text": [
      "\b\b\b\b\b\b\b\b\b\b\b\b\b\b\b\b\b\b\b\b\b\b\b\b\b\b\b\b\b\b\b\b\b\b\b\b\b\b\b\b\b\b\b\b\b\b\b\b\b\b\b\b\b\b\b\b\b\b\b\b\b\b\r",
      "209723392/324941336 [==================>...........] - ETA: 3s"
     ]
    },
    {
     "name": "stdout",
     "output_type": "stream",
     "text": [
      "\b\b\b\b\b\b\b\b\b\b\b\b\b\b\b\b\b\b\b\b\b\b\b\b\b\b\b\b\b\b\b\b\b\b\b\b\b\b\b\b\b\b\b\b\b\b\b\b\b\b\b\b\b\b\b\b\b\b\b\b\b\b\r",
      "218112000/324941336 [===================>..........] - ETA: 3s"
     ]
    },
    {
     "name": "stdout",
     "output_type": "stream",
     "text": [
      "\b\b\b\b\b\b\b\b\b\b\b\b\b\b\b\b\b\b\b\b\b\b\b\b\b\b\b\b\b\b\b\b\b\b\b\b\b\b\b\b\b\b\b\b\b\b\b\b\b\b\b\b\b\b\b\b\b\b\b\b\b\b\r",
      "230719488/324941336 [====================>.........] - ETA: 2s"
     ]
    },
    {
     "name": "stdout",
     "output_type": "stream",
     "text": [
      "\b\b\b\b\b\b\b\b\b\b\b\b\b\b\b\b\b\b\b\b\b\b\b\b\b\b\b\b\b\b\b\b\b\b\b\b\b\b\b\b\b\b\b\b\b\b\b\b\b\b\b\b\b\b\b\b\b\b\b\b\b\b\r",
      "243687424/324941336 [=====================>........] - ETA: 2s"
     ]
    },
    {
     "name": "stdout",
     "output_type": "stream",
     "text": [
      "\b\b\b\b\b\b\b\b\b\b\b\b\b\b\b\b\b\b\b\b\b\b\b\b\b\b\b\b\b\b\b\b\b\b\b\b\b\b\b\b\b\b\b\b\b\b\b\b\b\b\b\b\b\b\b\b\b\b\b\b\b\b\r",
      "251666432/324941336 [======================>.......] - ETA: 2s"
     ]
    },
    {
     "name": "stdout",
     "output_type": "stream",
     "text": [
      "\b\b\b\b\b\b\b\b\b\b\b\b\b\b\b\b\b\b\b\b\b\b\b\b\b\b\b\b\b\b\b\b\b\b\b\b\b\b\b\b\b\b\b\b\b\b\b\b\b\b\b\b\b\b\b\b\b\b\b\b\b\b\r",
      "260055040/324941336 [=======================>......] - ETA: 1s"
     ]
    },
    {
     "name": "stdout",
     "output_type": "stream",
     "text": [
      "\b\b\b\b\b\b\b\b\b\b\b\b\b\b\b\b\b\b\b\b\b\b\b\b\b\b\b\b\b\b\b\b\b\b\b\b\b\b\b\b\b\b\b\b\b\b\b\b\b\b\b\b\b\b\b\b\b\b\b\b\b\b\r",
      "268443648/324941336 [=======================>......] - ETA: 1s"
     ]
    },
    {
     "name": "stdout",
     "output_type": "stream",
     "text": [
      "\b\b\b\b\b\b\b\b\b\b\b\b\b\b\b\b\b\b\b\b\b\b\b\b\b\b\b\b\b\b\b\b\b\b\b\b\b\b\b\b\b\b\b\b\b\b\b\b\b\b\b\b\b\b\b\b\b\b\b\b\b\b\r",
      "281583616/324941336 [========================>.....] - ETA: 1s"
     ]
    },
    {
     "name": "stdout",
     "output_type": "stream",
     "text": [
      "\b\b\b\b\b\b\b\b\b\b\b\b\b\b\b\b\b\b\b\b\b\b\b\b\b\b\b\b\b\b\b\b\b\b\b\b\b\b\b\b\b\b\b\b\b\b\b\b\b\b\b\b\b\b\b\b\b\b\b\b\b\b\r",
      "285220864/324941336 [=========================>....] - ETA: 1s"
     ]
    },
    {
     "name": "stdout",
     "output_type": "stream",
     "text": [
      "\b\b\b\b\b\b\b\b\b\b\b\b\b\b\b\b\b\b\b\b\b\b\b\b\b\b\b\b\b\b\b\b\b\b\b\b\b\b\b\b\b\b\b\b\b\b\b\b\b\b\b\b\b\b\b\b\b\b\b\b\b\b\r",
      "298385408/324941336 [==========================>...] - ETA: 0s"
     ]
    },
    {
     "name": "stdout",
     "output_type": "stream",
     "text": [
      "\b\b\b\b\b\b\b\b\b\b\b\b\b\b\b\b\b\b\b\b\b\b\b\b\b\b\b\b\b\b\b\b\b\b\b\b\b\b\b\b\b\b\b\b\b\b\b\b\b\b\b\b\b\b\b\b\b\b\b\b\b\b\r",
      "301998080/324941336 [==========================>...] - ETA: 0s"
     ]
    },
    {
     "name": "stdout",
     "output_type": "stream",
     "text": [
      "\b\b\b\b\b\b\b\b\b\b\b\b\b\b\b\b\b\b\b\b\b\b\b\b\b\b\b\b\b\b\b\b\b\b\b\b\b\b\b\b\b\b\b\b\b\b\b\b\b\b\b\b\b\b\b\b\b\b\b\b\b\b\r",
      "310386688/324941336 [===========================>..] - ETA: 0s"
     ]
    },
    {
     "name": "stdout",
     "output_type": "stream",
     "text": [
      "\b\b\b\b\b\b\b\b\b\b\b\b\b\b\b\b\b\b\b\b\b\b\b\b\b\b\b\b\b\b\b\b\b\b\b\b\b\b\b\b\b\b\b\b\b\b\b\b\b\b\b\b\b\b\b\b\b\b\b\b\b\b\r",
      "318775296/324941336 [============================>.] - ETA: 0s"
     ]
    },
    {
     "name": "stdout",
     "output_type": "stream",
     "text": [
      "\b\b\b\b\b\b\b\b\b\b\b\b\b\b\b\b\b\b\b\b\b\b\b\b\b\b\b\b\b\b\b\b\b\b\b\b\b\b\b\b\b\b\b\b\b\b\b\b\b\b\b\b\b\b\b\b\b\b\b\b\b\b\r",
      "324943872/324941336 [==============================] - 9s 0us/step\n"
     ]
    },
    {
     "name": "stdout",
     "output_type": "stream",
     "text": [
      "\b\b\b\b\b\b\b\b\b\b\b\b\b\b\b\b\b\b\b\b\b\b\b\b\b\b\b\b\b\b\b\b\b\b\b\b\b\b\b\b\b\b\b\b\b\b\b\b\b\b\b\b\b\b\b\b\b\b\b\b\b\b\b\b\b\b\r",
      "324952064/324941336 [==============================] - 9s 0us/step\n"
     ]
    }
   ],
   "source": [
    "# To know about dataset, check Fairness Indicators Example Colab at:\n",
    "# https://github.com/tensorflow/fairness-indicators/blob/master/g3doc/tutorials/Fairness_Indicators_Example_Colab.ipynb\n",
    "\n",
    "train_tf_file = tf.keras.utils.get_file('train.tf', 'https://storage.googleapis.com/civil_comments_dataset/train_tf_processed.tfrecord')\n",
    "validate_tf_file = tf.keras.utils.get_file('validate.tf', 'https://storage.googleapis.com/civil_comments_dataset/validate_tf_processed.tfrecord')\n",
    "\n",
    "BASE_DIR = tempfile.gettempdir()\n",
    "TEXT_FEATURE = 'comment_text'\n",
    "LABEL = 'toxicity'\n",
    "FEATURE_MAP = {\n",
    "    # Label:\n",
    "    LABEL: tf.io.FixedLenFeature([], tf.float32),\n",
    "    # Text:\n",
    "    TEXT_FEATURE: tf.io.FixedLenFeature([], tf.string),\n",
    "\n",
    "    # Identities:\n",
    "    'sexual_orientation': tf.io.VarLenFeature(tf.string),\n",
    "    'gender': tf.io.VarLenFeature(tf.string),\n",
    "    'religion': tf.io.VarLenFeature(tf.string),\n",
    "    'race': tf.io.VarLenFeature(tf.string),\n",
    "    'disability': tf.io.VarLenFeature(tf.string),\n",
    "}"
   ]
  },
  {
   "cell_type": "markdown",
   "metadata": {
    "id": "mfbgerCsEOmN"
   },
   "source": [
    "# Train the Model"
   ]
  },
  {
   "cell_type": "code",
   "execution_count": 6,
   "metadata": {
    "execution": {
     "iopub.execute_input": "2022-04-01T01:09:42.807199Z",
     "iopub.status.busy": "2022-04-01T01:09:42.806698Z",
     "iopub.status.idle": "2022-04-01T01:10:06.273330Z",
     "shell.execute_reply": "2022-04-01T01:10:06.272718Z"
    },
    "id": "YwoC-dzEDid3"
   },
   "outputs": [
    {
     "name": "stdout",
     "output_type": "stream",
     "text": [
      "INFO:tensorflow:Using default config.\n"
     ]
    },
    {
     "name": "stderr",
     "output_type": "stream",
     "text": [
      "INFO:tensorflow:Using default config.\n"
     ]
    },
    {
     "name": "stdout",
     "output_type": "stream",
     "text": [
      "INFO:tensorflow:Using config: {'_model_dir': '/tmp/train/20220401-010942', '_tf_random_seed': None, '_save_summary_steps': 100, '_save_checkpoints_steps': None, '_save_checkpoints_secs': 600, '_session_config': allow_soft_placement: true\n",
      "graph_options {\n",
      "  rewrite_options {\n",
      "    meta_optimizer_iterations: ONE\n",
      "  }\n",
      "}\n",
      ", '_keep_checkpoint_max': 5, '_keep_checkpoint_every_n_hours': 10000, '_log_step_count_steps': 100, '_train_distribute': None, '_device_fn': None, '_protocol': None, '_eval_distribute': None, '_experimental_distribute': None, '_experimental_max_worker_delay_secs': None, '_session_creation_timeout_secs': 7200, '_checkpoint_save_graph_def': True, '_service': None, '_cluster_spec': ClusterSpec({}), '_task_type': 'worker', '_task_id': 0, '_global_id_in_cluster': 0, '_master': '', '_evaluation_master': '', '_is_chief': True, '_num_ps_replicas': 0, '_num_worker_replicas': 1}\n"
     ]
    },
    {
     "name": "stderr",
     "output_type": "stream",
     "text": [
      "INFO:tensorflow:Using config: {'_model_dir': '/tmp/train/20220401-010942', '_tf_random_seed': None, '_save_summary_steps': 100, '_save_checkpoints_steps': None, '_save_checkpoints_secs': 600, '_session_config': allow_soft_placement: true\n",
      "graph_options {\n",
      "  rewrite_options {\n",
      "    meta_optimizer_iterations: ONE\n",
      "  }\n",
      "}\n",
      ", '_keep_checkpoint_max': 5, '_keep_checkpoint_every_n_hours': 10000, '_log_step_count_steps': 100, '_train_distribute': None, '_device_fn': None, '_protocol': None, '_eval_distribute': None, '_experimental_distribute': None, '_experimental_max_worker_delay_secs': None, '_session_creation_timeout_secs': 7200, '_checkpoint_save_graph_def': True, '_service': None, '_cluster_spec': ClusterSpec({}), '_task_type': 'worker', '_task_id': 0, '_global_id_in_cluster': 0, '_master': '', '_evaluation_master': '', '_is_chief': True, '_num_ps_replicas': 0, '_num_worker_replicas': 1}\n"
     ]
    },
    {
     "name": "stdout",
     "output_type": "stream",
     "text": [
      "WARNING:tensorflow:From /tmpfs/src/tf_docs_env/lib/python3.7/site-packages/tensorflow/python/training/training_util.py:397: Variable.initialized_value (from tensorflow.python.ops.variables) is deprecated and will be removed in a future version.\n",
      "Instructions for updating:\n",
      "Use Variable.read_value. Variables in 2.X are initialized automatically both in eager and graph (inside tf.defun) contexts.\n"
     ]
    },
    {
     "name": "stderr",
     "output_type": "stream",
     "text": [
      "WARNING:tensorflow:From /tmpfs/src/tf_docs_env/lib/python3.7/site-packages/tensorflow/python/training/training_util.py:397: Variable.initialized_value (from tensorflow.python.ops.variables) is deprecated and will be removed in a future version.\n",
      "Instructions for updating:\n",
      "Use Variable.read_value. Variables in 2.X are initialized automatically both in eager and graph (inside tf.defun) contexts.\n"
     ]
    },
    {
     "name": "stdout",
     "output_type": "stream",
     "text": [
      "INFO:tensorflow:Calling model_fn.\n"
     ]
    },
    {
     "name": "stderr",
     "output_type": "stream",
     "text": [
      "INFO:tensorflow:Calling model_fn.\n"
     ]
    },
    {
     "name": "stdout",
     "output_type": "stream",
     "text": [
      "INFO:tensorflow:Saver not created because there are no variables in the graph to restore\n"
     ]
    },
    {
     "name": "stderr",
     "output_type": "stream",
     "text": [
      "2022-04-01 01:09:52.392329: W tensorflow/core/common_runtime/graph_constructor.cc:1511] Importing a graph with a lower producer version 26 into an existing graph with producer version 987. Shape inference will have run different parts of the graph with different producer versions.\n",
      "INFO:tensorflow:Saver not created because there are no variables in the graph to restore\n"
     ]
    },
    {
     "name": "stdout",
     "output_type": "stream",
     "text": [
      "INFO:tensorflow:Saver not created because there are no variables in the graph to restore\n"
     ]
    },
    {
     "name": "stderr",
     "output_type": "stream",
     "text": [
      "INFO:tensorflow:Saver not created because there are no variables in the graph to restore\n"
     ]
    },
    {
     "name": "stdout",
     "output_type": "stream",
     "text": [
      "WARNING:tensorflow:From /tmpfs/src/tf_docs_env/lib/python3.7/site-packages/tensorflow_estimator/python/estimator/canned/head.py:400: NumericColumn._get_dense_tensor (from tensorflow.python.feature_column.feature_column_v2) is deprecated and will be removed in a future version.\n",
      "Instructions for updating:\n",
      "The old _FeatureColumn APIs are being deprecated. Please use the new FeatureColumn APIs instead.\n"
     ]
    },
    {
     "name": "stderr",
     "output_type": "stream",
     "text": [
      "WARNING:tensorflow:From /tmpfs/src/tf_docs_env/lib/python3.7/site-packages/tensorflow_estimator/python/estimator/canned/head.py:400: NumericColumn._get_dense_tensor (from tensorflow.python.feature_column.feature_column_v2) is deprecated and will be removed in a future version.\n",
      "Instructions for updating:\n",
      "The old _FeatureColumn APIs are being deprecated. Please use the new FeatureColumn APIs instead.\n"
     ]
    },
    {
     "name": "stdout",
     "output_type": "stream",
     "text": [
      "WARNING:tensorflow:From /tmpfs/src/tf_docs_env/lib/python3.7/site-packages/tensorflow/python/feature_column/feature_column.py:2188: NumericColumn._transform_feature (from tensorflow.python.feature_column.feature_column_v2) is deprecated and will be removed in a future version.\n",
      "Instructions for updating:\n",
      "The old _FeatureColumn APIs are being deprecated. Please use the new FeatureColumn APIs instead.\n"
     ]
    },
    {
     "name": "stderr",
     "output_type": "stream",
     "text": [
      "WARNING:tensorflow:From /tmpfs/src/tf_docs_env/lib/python3.7/site-packages/tensorflow/python/feature_column/feature_column.py:2188: NumericColumn._transform_feature (from tensorflow.python.feature_column.feature_column_v2) is deprecated and will be removed in a future version.\n",
      "Instructions for updating:\n",
      "The old _FeatureColumn APIs are being deprecated. Please use the new FeatureColumn APIs instead.\n"
     ]
    },
    {
     "name": "stdout",
     "output_type": "stream",
     "text": [
      "WARNING:tensorflow:From /tmpfs/src/tf_docs_env/lib/python3.7/site-packages/tensorflow/python/training/adagrad.py:139: calling Constant.__init__ (from tensorflow.python.ops.init_ops) with dtype is deprecated and will be removed in a future version.\n",
      "Instructions for updating:\n",
      "Call initializer instance with the dtype argument instead of passing it to the constructor\n"
     ]
    },
    {
     "name": "stderr",
     "output_type": "stream",
     "text": [
      "WARNING:tensorflow:From /tmpfs/src/tf_docs_env/lib/python3.7/site-packages/tensorflow/python/training/adagrad.py:139: calling Constant.__init__ (from tensorflow.python.ops.init_ops) with dtype is deprecated and will be removed in a future version.\n",
      "Instructions for updating:\n",
      "Call initializer instance with the dtype argument instead of passing it to the constructor\n"
     ]
    },
    {
     "name": "stdout",
     "output_type": "stream",
     "text": [
      "INFO:tensorflow:Done calling model_fn.\n"
     ]
    },
    {
     "name": "stderr",
     "output_type": "stream",
     "text": [
      "INFO:tensorflow:Done calling model_fn.\n"
     ]
    },
    {
     "name": "stdout",
     "output_type": "stream",
     "text": [
      "INFO:tensorflow:Create CheckpointSaverHook.\n"
     ]
    },
    {
     "name": "stderr",
     "output_type": "stream",
     "text": [
      "INFO:tensorflow:Create CheckpointSaverHook.\n"
     ]
    },
    {
     "name": "stdout",
     "output_type": "stream",
     "text": [
      "INFO:tensorflow:Graph was finalized.\n"
     ]
    },
    {
     "name": "stderr",
     "output_type": "stream",
     "text": [
      "INFO:tensorflow:Graph was finalized.\n"
     ]
    },
    {
     "name": "stdout",
     "output_type": "stream",
     "text": [
      "INFO:tensorflow:Running local_init_op.\n"
     ]
    },
    {
     "name": "stderr",
     "output_type": "stream",
     "text": [
      "INFO:tensorflow:Running local_init_op.\n"
     ]
    },
    {
     "name": "stdout",
     "output_type": "stream",
     "text": [
      "INFO:tensorflow:Done running local_init_op.\n"
     ]
    },
    {
     "name": "stderr",
     "output_type": "stream",
     "text": [
      "INFO:tensorflow:Done running local_init_op.\n"
     ]
    },
    {
     "name": "stdout",
     "output_type": "stream",
     "text": [
      "INFO:tensorflow:Calling checkpoint listeners before saving checkpoint 0...\n"
     ]
    },
    {
     "name": "stderr",
     "output_type": "stream",
     "text": [
      "INFO:tensorflow:Calling checkpoint listeners before saving checkpoint 0...\n"
     ]
    },
    {
     "name": "stdout",
     "output_type": "stream",
     "text": [
      "INFO:tensorflow:Saving checkpoints for 0 into /tmp/train/20220401-010942/model.ckpt.\n"
     ]
    },
    {
     "name": "stderr",
     "output_type": "stream",
     "text": [
      "INFO:tensorflow:Saving checkpoints for 0 into /tmp/train/20220401-010942/model.ckpt.\n"
     ]
    },
    {
     "name": "stdout",
     "output_type": "stream",
     "text": [
      "INFO:tensorflow:Calling checkpoint listeners after saving checkpoint 0...\n"
     ]
    },
    {
     "name": "stderr",
     "output_type": "stream",
     "text": [
      "INFO:tensorflow:Calling checkpoint listeners after saving checkpoint 0...\n"
     ]
    },
    {
     "name": "stdout",
     "output_type": "stream",
     "text": [
      "INFO:tensorflow:loss = 58.44097, step = 0\n"
     ]
    },
    {
     "name": "stderr",
     "output_type": "stream",
     "text": [
      "INFO:tensorflow:loss = 58.44097, step = 0\n"
     ]
    },
    {
     "name": "stdout",
     "output_type": "stream",
     "text": [
      "INFO:tensorflow:global_step/sec: 96.7895\n"
     ]
    },
    {
     "name": "stderr",
     "output_type": "stream",
     "text": [
      "INFO:tensorflow:global_step/sec: 96.7895\n"
     ]
    },
    {
     "name": "stdout",
     "output_type": "stream",
     "text": [
      "INFO:tensorflow:loss = 55.787037, step = 100 (1.035 sec)\n"
     ]
    },
    {
     "name": "stderr",
     "output_type": "stream",
     "text": [
      "INFO:tensorflow:loss = 55.787037, step = 100 (1.035 sec)\n"
     ]
    },
    {
     "name": "stdout",
     "output_type": "stream",
     "text": [
      "INFO:tensorflow:global_step/sec: 105.942\n"
     ]
    },
    {
     "name": "stderr",
     "output_type": "stream",
     "text": [
      "INFO:tensorflow:global_step/sec: 105.942\n"
     ]
    },
    {
     "name": "stdout",
     "output_type": "stream",
     "text": [
      "INFO:tensorflow:loss = 47.61846, step = 200 (0.944 sec)\n"
     ]
    },
    {
     "name": "stderr",
     "output_type": "stream",
     "text": [
      "INFO:tensorflow:loss = 47.61846, step = 200 (0.944 sec)\n"
     ]
    },
    {
     "name": "stdout",
     "output_type": "stream",
     "text": [
      "INFO:tensorflow:global_step/sec: 105.57\n"
     ]
    },
    {
     "name": "stderr",
     "output_type": "stream",
     "text": [
      "INFO:tensorflow:global_step/sec: 105.57\n"
     ]
    },
    {
     "name": "stdout",
     "output_type": "stream",
     "text": [
      "INFO:tensorflow:loss = 56.31213, step = 300 (0.947 sec)\n"
     ]
    },
    {
     "name": "stderr",
     "output_type": "stream",
     "text": [
      "INFO:tensorflow:loss = 56.31213, step = 300 (0.947 sec)\n"
     ]
    },
    {
     "name": "stdout",
     "output_type": "stream",
     "text": [
      "INFO:tensorflow:global_step/sec: 106.001\n"
     ]
    },
    {
     "name": "stderr",
     "output_type": "stream",
     "text": [
      "INFO:tensorflow:global_step/sec: 106.001\n"
     ]
    },
    {
     "name": "stdout",
     "output_type": "stream",
     "text": [
      "INFO:tensorflow:loss = 56.419426, step = 400 (0.943 sec)\n"
     ]
    },
    {
     "name": "stderr",
     "output_type": "stream",
     "text": [
      "INFO:tensorflow:loss = 56.419426, step = 400 (0.943 sec)\n"
     ]
    },
    {
     "name": "stdout",
     "output_type": "stream",
     "text": [
      "INFO:tensorflow:global_step/sec: 107.241\n"
     ]
    },
    {
     "name": "stderr",
     "output_type": "stream",
     "text": [
      "INFO:tensorflow:global_step/sec: 107.241\n"
     ]
    },
    {
     "name": "stdout",
     "output_type": "stream",
     "text": [
      "INFO:tensorflow:loss = 41.688374, step = 500 (0.933 sec)\n"
     ]
    },
    {
     "name": "stderr",
     "output_type": "stream",
     "text": [
      "INFO:tensorflow:loss = 41.688374, step = 500 (0.933 sec)\n"
     ]
    },
    {
     "name": "stdout",
     "output_type": "stream",
     "text": [
      "INFO:tensorflow:global_step/sec: 106.991\n"
     ]
    },
    {
     "name": "stderr",
     "output_type": "stream",
     "text": [
      "INFO:tensorflow:global_step/sec: 106.991\n"
     ]
    },
    {
     "name": "stdout",
     "output_type": "stream",
     "text": [
      "INFO:tensorflow:loss = 45.378628, step = 600 (0.935 sec)\n"
     ]
    },
    {
     "name": "stderr",
     "output_type": "stream",
     "text": [
      "INFO:tensorflow:loss = 45.378628, step = 600 (0.935 sec)\n"
     ]
    },
    {
     "name": "stdout",
     "output_type": "stream",
     "text": [
      "INFO:tensorflow:global_step/sec: 106.56\n"
     ]
    },
    {
     "name": "stderr",
     "output_type": "stream",
     "text": [
      "INFO:tensorflow:global_step/sec: 106.56\n"
     ]
    },
    {
     "name": "stdout",
     "output_type": "stream",
     "text": [
      "INFO:tensorflow:loss = 51.376953, step = 700 (0.939 sec)\n"
     ]
    },
    {
     "name": "stderr",
     "output_type": "stream",
     "text": [
      "INFO:tensorflow:loss = 51.376953, step = 700 (0.939 sec)\n"
     ]
    },
    {
     "name": "stdout",
     "output_type": "stream",
     "text": [
      "INFO:tensorflow:global_step/sec: 107.538\n"
     ]
    },
    {
     "name": "stderr",
     "output_type": "stream",
     "text": [
      "INFO:tensorflow:global_step/sec: 107.538\n"
     ]
    },
    {
     "name": "stdout",
     "output_type": "stream",
     "text": [
      "INFO:tensorflow:loss = 47.450737, step = 800 (0.930 sec)\n"
     ]
    },
    {
     "name": "stderr",
     "output_type": "stream",
     "text": [
      "INFO:tensorflow:loss = 47.450737, step = 800 (0.930 sec)\n"
     ]
    },
    {
     "name": "stdout",
     "output_type": "stream",
     "text": [
      "INFO:tensorflow:global_step/sec: 98.8517\n"
     ]
    },
    {
     "name": "stderr",
     "output_type": "stream",
     "text": [
      "INFO:tensorflow:global_step/sec: 98.8517\n"
     ]
    },
    {
     "name": "stdout",
     "output_type": "stream",
     "text": [
      "INFO:tensorflow:loss = 48.301567, step = 900 (1.012 sec)\n"
     ]
    },
    {
     "name": "stderr",
     "output_type": "stream",
     "text": [
      "INFO:tensorflow:loss = 48.301567, step = 900 (1.012 sec)\n"
     ]
    },
    {
     "name": "stdout",
     "output_type": "stream",
     "text": [
      "INFO:tensorflow:Calling checkpoint listeners before saving checkpoint 1000...\n"
     ]
    },
    {
     "name": "stderr",
     "output_type": "stream",
     "text": [
      "INFO:tensorflow:Calling checkpoint listeners before saving checkpoint 1000...\n"
     ]
    },
    {
     "name": "stdout",
     "output_type": "stream",
     "text": [
      "INFO:tensorflow:Saving checkpoints for 1000 into /tmp/train/20220401-010942/model.ckpt.\n"
     ]
    },
    {
     "name": "stderr",
     "output_type": "stream",
     "text": [
      "INFO:tensorflow:Saving checkpoints for 1000 into /tmp/train/20220401-010942/model.ckpt.\n"
     ]
    },
    {
     "name": "stdout",
     "output_type": "stream",
     "text": [
      "INFO:tensorflow:Calling checkpoint listeners after saving checkpoint 1000...\n"
     ]
    },
    {
     "name": "stderr",
     "output_type": "stream",
     "text": [
      "INFO:tensorflow:Calling checkpoint listeners after saving checkpoint 1000...\n"
     ]
    },
    {
     "name": "stdout",
     "output_type": "stream",
     "text": [
      "INFO:tensorflow:Loss for final step: 50.759575.\n"
     ]
    },
    {
     "name": "stderr",
     "output_type": "stream",
     "text": [
      "INFO:tensorflow:Loss for final step: 50.759575.\n"
     ]
    }
   ],
   "source": [
    "model_dir = os.path.join(BASE_DIR, 'train',\n",
    "                         datetime.datetime.now().strftime('%Y%m%d-%H%M%S'))\n",
    "\n",
    "classifier = example_model.train_model(model_dir,\n",
    "                                       train_tf_file,\n",
    "                                       LABEL,\n",
    "                                       TEXT_FEATURE,\n",
    "                                       FEATURE_MAP)"
   ]
  },
  {
   "cell_type": "markdown",
   "metadata": {
    "id": "jTPqije9Eg5b"
   },
   "source": [
    "# Run TensorFlow Model Analysis with Fairness Indicators\n",
    "This step might take 2 to 5 minutes."
   ]
  },
  {
   "cell_type": "code",
   "execution_count": 7,
   "metadata": {
    "execution": {
     "iopub.execute_input": "2022-04-01T01:10:06.277184Z",
     "iopub.status.busy": "2022-04-01T01:10:06.276629Z",
     "iopub.status.idle": "2022-04-01T01:12:02.575645Z",
     "shell.execute_reply": "2022-04-01T01:12:02.575004Z"
    },
    "id": "QLjiy5VCzlRw"
   },
   "outputs": [
    {
     "name": "stdout",
     "output_type": "stream",
     "text": [
      "WARNING:tensorflow:From /tmpfs/src/tf_docs_env/lib/python3.7/site-packages/tensorflow_model_analysis/eval_saved_model/encoding.py:132: build_tensor_info (from tensorflow.python.saved_model.utils_impl) is deprecated and will be removed in a future version.\n",
      "Instructions for updating:\n",
      "This function will only be available through the v1 compatibility library as tf.compat.v1.saved_model.utils.build_tensor_info or tf.compat.v1.saved_model.build_tensor_info.\n"
     ]
    },
    {
     "name": "stderr",
     "output_type": "stream",
     "text": [
      "WARNING:tensorflow:From /tmpfs/src/tf_docs_env/lib/python3.7/site-packages/tensorflow_model_analysis/eval_saved_model/encoding.py:132: build_tensor_info (from tensorflow.python.saved_model.utils_impl) is deprecated and will be removed in a future version.\n",
      "Instructions for updating:\n",
      "This function will only be available through the v1 compatibility library as tf.compat.v1.saved_model.utils.build_tensor_info or tf.compat.v1.saved_model.build_tensor_info.\n"
     ]
    },
    {
     "name": "stdout",
     "output_type": "stream",
     "text": [
      "INFO:tensorflow:Calling model_fn.\n"
     ]
    },
    {
     "name": "stderr",
     "output_type": "stream",
     "text": [
      "INFO:tensorflow:Calling model_fn.\n"
     ]
    },
    {
     "name": "stdout",
     "output_type": "stream",
     "text": [
      "INFO:tensorflow:Saver not created because there are no variables in the graph to restore\n"
     ]
    },
    {
     "name": "stderr",
     "output_type": "stream",
     "text": [
      "2022-04-01 01:10:06.310994: W tensorflow/core/common_runtime/graph_constructor.cc:1511] Importing a graph with a lower producer version 26 into an existing graph with producer version 987. Shape inference will have run different parts of the graph with different producer versions.\n",
      "INFO:tensorflow:Saver not created because there are no variables in the graph to restore\n"
     ]
    },
    {
     "name": "stdout",
     "output_type": "stream",
     "text": [
      "INFO:tensorflow:Saver not created because there are no variables in the graph to restore\n"
     ]
    },
    {
     "name": "stderr",
     "output_type": "stream",
     "text": [
      "INFO:tensorflow:Saver not created because there are no variables in the graph to restore\n"
     ]
    },
    {
     "name": "stdout",
     "output_type": "stream",
     "text": [
      "WARNING:tensorflow:From /tmpfs/src/tf_docs_env/lib/python3.7/site-packages/tensorflow_estimator/python/estimator/canned/head.py:640: auc (from tensorflow.python.ops.metrics_impl) is deprecated and will be removed in a future version.\n",
      "Instructions for updating:\n",
      "The value of AUC returned by this may race with the update so this is deprecated. Please use tf.keras.metrics.AUC instead.\n"
     ]
    },
    {
     "name": "stderr",
     "output_type": "stream",
     "text": [
      "WARNING:tensorflow:From /tmpfs/src/tf_docs_env/lib/python3.7/site-packages/tensorflow_estimator/python/estimator/canned/head.py:640: auc (from tensorflow.python.ops.metrics_impl) is deprecated and will be removed in a future version.\n",
      "Instructions for updating:\n",
      "The value of AUC returned by this may race with the update so this is deprecated. Please use tf.keras.metrics.AUC instead.\n"
     ]
    },
    {
     "name": "stdout",
     "output_type": "stream",
     "text": [
      "WARNING:tensorflow:Trapezoidal rule is known to produce incorrect PR-AUCs; please switch to \"careful_interpolation\" instead.\n"
     ]
    },
    {
     "name": "stderr",
     "output_type": "stream",
     "text": [
      "WARNING:tensorflow:Trapezoidal rule is known to produce incorrect PR-AUCs; please switch to \"careful_interpolation\" instead.\n"
     ]
    },
    {
     "name": "stdout",
     "output_type": "stream",
     "text": [
      "WARNING:tensorflow:Trapezoidal rule is known to produce incorrect PR-AUCs; please switch to \"careful_interpolation\" instead.\n"
     ]
    },
    {
     "name": "stderr",
     "output_type": "stream",
     "text": [
      "WARNING:tensorflow:Trapezoidal rule is known to produce incorrect PR-AUCs; please switch to \"careful_interpolation\" instead.\n"
     ]
    },
    {
     "name": "stdout",
     "output_type": "stream",
     "text": [
      "INFO:tensorflow:Done calling model_fn.\n"
     ]
    },
    {
     "name": "stderr",
     "output_type": "stream",
     "text": [
      "INFO:tensorflow:Done calling model_fn.\n"
     ]
    },
    {
     "name": "stdout",
     "output_type": "stream",
     "text": [
      "INFO:tensorflow:Signatures INCLUDED in export for Classify: None\n"
     ]
    },
    {
     "name": "stderr",
     "output_type": "stream",
     "text": [
      "INFO:tensorflow:Signatures INCLUDED in export for Classify: None\n"
     ]
    },
    {
     "name": "stdout",
     "output_type": "stream",
     "text": [
      "INFO:tensorflow:Signatures INCLUDED in export for Regress: None\n"
     ]
    },
    {
     "name": "stderr",
     "output_type": "stream",
     "text": [
      "INFO:tensorflow:Signatures INCLUDED in export for Regress: None\n"
     ]
    },
    {
     "name": "stdout",
     "output_type": "stream",
     "text": [
      "INFO:tensorflow:Signatures INCLUDED in export for Predict: None\n"
     ]
    },
    {
     "name": "stderr",
     "output_type": "stream",
     "text": [
      "INFO:tensorflow:Signatures INCLUDED in export for Predict: None\n"
     ]
    },
    {
     "name": "stdout",
     "output_type": "stream",
     "text": [
      "INFO:tensorflow:Signatures INCLUDED in export for Train: None\n"
     ]
    },
    {
     "name": "stderr",
     "output_type": "stream",
     "text": [
      "INFO:tensorflow:Signatures INCLUDED in export for Train: None\n"
     ]
    },
    {
     "name": "stdout",
     "output_type": "stream",
     "text": [
      "INFO:tensorflow:Signatures INCLUDED in export for Eval: ['eval']\n"
     ]
    },
    {
     "name": "stderr",
     "output_type": "stream",
     "text": [
      "INFO:tensorflow:Signatures INCLUDED in export for Eval: ['eval']\n"
     ]
    },
    {
     "name": "stdout",
     "output_type": "stream",
     "text": [
      "WARNING:tensorflow:Export includes no default signature!\n"
     ]
    },
    {
     "name": "stderr",
     "output_type": "stream",
     "text": [
      "WARNING:tensorflow:Export includes no default signature!\n"
     ]
    },
    {
     "name": "stdout",
     "output_type": "stream",
     "text": [
      "INFO:tensorflow:Restoring parameters from /tmp/train/20220401-010942/model.ckpt-1000\n"
     ]
    },
    {
     "name": "stderr",
     "output_type": "stream",
     "text": [
      "INFO:tensorflow:Restoring parameters from /tmp/train/20220401-010942/model.ckpt-1000\n"
     ]
    },
    {
     "name": "stdout",
     "output_type": "stream",
     "text": [
      "INFO:tensorflow:Assets added to graph.\n"
     ]
    },
    {
     "name": "stderr",
     "output_type": "stream",
     "text": [
      "INFO:tensorflow:Assets added to graph.\n"
     ]
    },
    {
     "name": "stdout",
     "output_type": "stream",
     "text": [
      "INFO:tensorflow:Assets written to: /tmp/tfma_eval_model/temp-1648775406/assets\n"
     ]
    },
    {
     "name": "stderr",
     "output_type": "stream",
     "text": [
      "INFO:tensorflow:Assets written to: /tmp/tfma_eval_model/temp-1648775406/assets\n"
     ]
    },
    {
     "name": "stdout",
     "output_type": "stream",
     "text": [
      "INFO:tensorflow:SavedModel written to: /tmp/tfma_eval_model/temp-1648775406/saved_model.pb\n"
     ]
    },
    {
     "name": "stderr",
     "output_type": "stream",
     "text": [
      "INFO:tensorflow:SavedModel written to: /tmp/tfma_eval_model/temp-1648775406/saved_model.pb\n"
     ]
    },
    {
     "name": "stderr",
     "output_type": "stream",
     "text": [
      "WARNING:absl:Tensorflow version (2.8.0) found. Note that TFMA support for TF 2.0 is currently in beta\n"
     ]
    },
    {
     "name": "stderr",
     "output_type": "stream",
     "text": [
      "WARNING:apache_beam.runners.interactive.interactive_environment:Dependencies required for Interactive Beam PCollection visualization are not available, please use: `pip install apache-beam[interactive]` to install necessary dependencies to enable all data visualization features.\n"
     ]
    },
    {
     "data": {
      "application/javascript": [
       "\n",
       "        if (typeof window.interactive_beam_jquery == 'undefined') {\n",
       "          var jqueryScript = document.createElement('script');\n",
       "          jqueryScript.src = 'https://code.jquery.com/jquery-3.4.1.slim.min.js';\n",
       "          jqueryScript.type = 'text/javascript';\n",
       "          jqueryScript.onload = function() {\n",
       "            var datatableScript = document.createElement('script');\n",
       "            datatableScript.src = 'https://cdn.datatables.net/1.10.20/js/jquery.dataTables.min.js';\n",
       "            datatableScript.type = 'text/javascript';\n",
       "            datatableScript.onload = function() {\n",
       "              window.interactive_beam_jquery = jQuery.noConflict(true);\n",
       "              window.interactive_beam_jquery(document).ready(function($){\n",
       "                \n",
       "              });\n",
       "            }\n",
       "            document.head.appendChild(datatableScript);\n",
       "          };\n",
       "          document.head.appendChild(jqueryScript);\n",
       "        } else {\n",
       "          window.interactive_beam_jquery(document).ready(function($){\n",
       "            \n",
       "          });\n",
       "        }"
      ]
     },
     "metadata": {},
     "output_type": "display_data"
    },
    {
     "name": "stderr",
     "output_type": "stream",
     "text": [
      "WARNING:root:Make sure that locally built Python SDK docker image has Python 3.7 interpreter.\n"
     ]
    },
    {
     "name": "stdout",
     "output_type": "stream",
     "text": [
      "WARNING:tensorflow:From /tmpfs/src/tf_docs_env/lib/python3.7/site-packages/tensorflow_model_analysis/eval_saved_model/load.py:164: load (from tensorflow.python.saved_model.loader_impl) is deprecated and will be removed in a future version.\n",
      "Instructions for updating:\n",
      "This function will only be available through the v1 compatibility library as tf.compat.v1.saved_model.loader.load or tf.compat.v1.saved_model.load. There will be a new function for importing SavedModels in Tensorflow 2.0.\n"
     ]
    },
    {
     "name": "stderr",
     "output_type": "stream",
     "text": [
      "WARNING:tensorflow:From /tmpfs/src/tf_docs_env/lib/python3.7/site-packages/tensorflow_model_analysis/eval_saved_model/load.py:164: load (from tensorflow.python.saved_model.loader_impl) is deprecated and will be removed in a future version.\n",
      "Instructions for updating:\n",
      "This function will only be available through the v1 compatibility library as tf.compat.v1.saved_model.loader.load or tf.compat.v1.saved_model.load. There will be a new function for importing SavedModels in Tensorflow 2.0.\n"
     ]
    },
    {
     "name": "stdout",
     "output_type": "stream",
     "text": [
      "INFO:tensorflow:Restoring parameters from /tmp/tfma_eval_model/1648775406/variables/variables\n"
     ]
    },
    {
     "name": "stderr",
     "output_type": "stream",
     "text": [
      "INFO:tensorflow:Restoring parameters from /tmp/tfma_eval_model/1648775406/variables/variables\n"
     ]
    },
    {
     "name": "stdout",
     "output_type": "stream",
     "text": [
      "WARNING:tensorflow:From /tmpfs/src/tf_docs_env/lib/python3.7/site-packages/tensorflow_model_analysis/eval_saved_model/graph_ref.py:184: get_tensor_from_tensor_info (from tensorflow.python.saved_model.utils_impl) is deprecated and will be removed in a future version.\n",
      "Instructions for updating:\n",
      "This function will only be available through the v1 compatibility library as tf.compat.v1.saved_model.utils.get_tensor_from_tensor_info or tf.compat.v1.saved_model.get_tensor_from_tensor_info.\n"
     ]
    },
    {
     "name": "stderr",
     "output_type": "stream",
     "text": [
      "WARNING:tensorflow:From /tmpfs/src/tf_docs_env/lib/python3.7/site-packages/tensorflow_model_analysis/eval_saved_model/graph_ref.py:184: get_tensor_from_tensor_info (from tensorflow.python.saved_model.utils_impl) is deprecated and will be removed in a future version.\n",
      "Instructions for updating:\n",
      "This function will only be available through the v1 compatibility library as tf.compat.v1.saved_model.utils.get_tensor_from_tensor_info or tf.compat.v1.saved_model.get_tensor_from_tensor_info.\n"
     ]
    },
    {
     "name": "stderr",
     "output_type": "stream",
     "text": [
      "WARNING:apache_beam.io.tfrecordio:Couldn't find python-snappy so the implementation of _TFRecordUtil._masked_crc32c is not as fast as it could be.\n"
     ]
    },
    {
     "name": "stdout",
     "output_type": "stream",
     "text": [
      "WARNING:tensorflow:From /tmpfs/src/tf_docs_env/lib/python3.7/site-packages/tensorflow_model_analysis/writers/metrics_plots_and_validations_writer.py:109: tf_record_iterator (from tensorflow.python.lib.io.tf_record) is deprecated and will be removed in a future version.\n",
      "Instructions for updating:\n",
      "Use eager execution and: \n",
      "`tf.data.TFRecordDataset(path)`\n"
     ]
    },
    {
     "name": "stderr",
     "output_type": "stream",
     "text": [
      "WARNING:tensorflow:From /tmpfs/src/tf_docs_env/lib/python3.7/site-packages/tensorflow_model_analysis/writers/metrics_plots_and_validations_writer.py:109: tf_record_iterator (from tensorflow.python.lib.io.tf_record) is deprecated and will be removed in a future version.\n",
      "Instructions for updating:\n",
      "Use eager execution and: \n",
      "`tf.data.TFRecordDataset(path)`\n"
     ]
    }
   ],
   "source": [
    "tfma_eval_result_path = os.path.join(BASE_DIR, 'tfma_eval_result')\n",
    "\n",
    "example_model.evaluate_model(classifier,\n",
    "                             validate_tf_file,\n",
    "                             tfma_eval_result_path,\n",
    "                             'gender',\n",
    "                             LABEL,\n",
    "                             FEATURE_MAP)"
   ]
  },
  {
   "cell_type": "markdown",
   "metadata": {
    "id": "U1ROnulYc8Ub"
   },
   "source": [
    "# Visualize Fairness Indicators in TensorBoard\n",
    "\n",
    "\n",
    "Below you will visualize Fairness Indicators in Tensorboard and compare performance of each slice of the data on selected metrics. You can adjust the baseline comparison slice as well as the displayed threshold(s) using the drop down menus at the top of the visualization. You can also select different evaluation runs using the drop down menu at the top-left corner."
   ]
  },
  {
   "cell_type": "markdown",
   "metadata": {
    "id": "zCV-Jo0xda6g"
   },
   "source": [
    "## Write Fairness Indicators Summary\n",
    "Write summary file containing all required information to visualize Fairness Indicators in TensorBoard."
   ]
  },
  {
   "cell_type": "code",
   "execution_count": 8,
   "metadata": {
    "execution": {
     "iopub.execute_input": "2022-04-01T01:12:02.579244Z",
     "iopub.status.busy": "2022-04-01T01:12:02.578654Z",
     "iopub.status.idle": "2022-04-01T01:12:02.588248Z",
     "shell.execute_reply": "2022-04-01T01:12:02.587749Z"
    },
    "id": "JNaNhTCTAMHm"
   },
   "outputs": [],
   "source": [
    "import tensorflow.compat.v2 as tf2\n",
    "\n",
    "writer = tf2.summary.create_file_writer(\n",
    "    os.path.join(model_dir, 'fairness_indicators'))\n",
    "with writer.as_default():\n",
    "  summary_v2.FairnessIndicators(tfma_eval_result_path, step=1)\n",
    "writer.close()"
   ]
  },
  {
   "cell_type": "markdown",
   "metadata": {
    "id": "MB2Gfm9BdXVY"
   },
   "source": [
    "## Launch TensorBoard\n",
    "Navigate to \"Fairness Indicators\" tab to visualize Fairness Indicators."
   ]
  },
  {
   "cell_type": "code",
   "execution_count": 9,
   "metadata": {
    "execution": {
     "iopub.execute_input": "2022-04-01T01:12:02.591382Z",
     "iopub.status.busy": "2022-04-01T01:12:02.590840Z",
     "iopub.status.idle": "2022-04-01T01:12:02.595571Z",
     "shell.execute_reply": "2022-04-01T01:12:02.595059Z"
    },
    "id": "UiHhDWu8tyEI"
   },
   "outputs": [],
   "source": [
    "%load_ext tensorboard"
   ]
  },
  {
   "cell_type": "code",
   "execution_count": null,
   "metadata": {
    "id": "ix6d718udWsK"
   },
   "outputs": [],
   "source": [
    "%tensorboard --logdir=$model_dir"
   ]
  }
 ],
 "metadata": {
  "accelerator": "GPU",
  "colab": {
   "collapsed_sections": [],
   "name": "Fairness Indicators TensorBoard Plugin Example Colab.ipynb",
   "private_outputs": true,
   "provenance": [],
   "toc_visible": true
  },
  "kernelspec": {
   "display_name": "Python 3",
   "name": "python3"
  },
  "language_info": {
   "codemirror_mode": {
    "name": "ipython",
    "version": 3
   },
   "file_extension": ".py",
   "mimetype": "text/x-python",
   "name": "python",
   "nbconvert_exporter": "python",
   "pygments_lexer": "ipython3",
   "version": "3.7.5"
  }
 },
 "nbformat": 4,
 "nbformat_minor": 0
}
