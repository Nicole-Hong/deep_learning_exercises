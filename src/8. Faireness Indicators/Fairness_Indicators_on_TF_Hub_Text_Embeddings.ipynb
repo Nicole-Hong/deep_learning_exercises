{
 "cells": [
  {
   "cell_type": "markdown",
   "metadata": {
    "id": "Tce3stUlHN0L"
   },
   "source": [
    "##### Copyright 2020 The TensorFlow Authors."
   ]
  },
  {
   "cell_type": "code",
   "execution_count": 1,
   "metadata": {
    "cellView": "form",
    "execution": {
     "iopub.execute_input": "2022-06-14T09:09:46.124390Z",
     "iopub.status.busy": "2022-06-14T09:09:46.124140Z",
     "iopub.status.idle": "2022-06-14T09:09:46.127922Z",
     "shell.execute_reply": "2022-06-14T09:09:46.127331Z"
    },
    "id": "tuOe1ymfHZPu"
   },
   "outputs": [],
   "source": [
    "#@title Licensed under the Apache License, Version 2.0 (the \"License\");\n",
    "# you may not use this file except in compliance with the License.\n",
    "# You may obtain a copy of the License at\n",
    "#\n",
    "# https://www.apache.org/licenses/LICENSE-2.0\n",
    "#\n",
    "# Unless required by applicable law or agreed to in writing, software\n",
    "# distributed under the License is distributed on an \"AS IS\" BASIS,\n",
    "# WITHOUT WARRANTIES OR CONDITIONS OF ANY KIND, either express or implied.\n",
    "# See the License for the specific language governing permissions and\n",
    "# limitations under the License."
   ]
  },
  {
   "cell_type": "markdown",
   "metadata": {
    "id": "aalPefrUUplk"
   },
   "source": [
    "# Fairness Indicators on TF-Hub Text Embeddings"
   ]
  },
  {
   "cell_type": "markdown",
   "metadata": {
    "id": "MfBg1C5NB3X0"
   },
   "source": [
    "<table class=\"tfo-notebook-buttons\" align=\"left\">\n",
    "  <td>\n",
    "    <a target=\"_blank\" href=\"https://www.tensorflow.org/responsible_ai/fairness_indicators/tutorials/Fairness_Indicators_on_TF_Hub_Text_Embeddings\"><img src=\"https://www.tensorflow.org/images/tf_logo_32px.png\" />View on TensorFlow.org</a>\n",
    "  </td>\n",
    "  <td>\n",
    "    <a target=\"_blank\" href=\"https://colab.research.google.com/github/tensorflow/fairness-indicators/blob/master/g3doc/tutorials/Fairness_Indicators_on_TF_Hub_Text_Embeddings.ipynb\"><img src=\"https://www.tensorflow.org/images/colab_logo_32px.png\" />Run in Google Colab</a>\n",
    "  </td>\n",
    "  <td>\n",
    "    <a target=\"_blank\" href=\"https://github.com/tensorflow/fairness-indicators/blob/master/g3doc/tutorials/Fairness_Indicators_on_TF_Hub_Text_Embeddings.ipynb\"><img src=\"https://www.tensorflow.org/images/GitHub-Mark-32px.png\" />View on GitHub</a>\n",
    "  </td>\n",
    "  <td>\n",
    "    <a href=\"https://storage.googleapis.com/tensorflow_docs/fairness-indicators/g3doc/tutorials/Fairness_Indicators_on_TF_Hub_Text_Embeddings.ipynb\"><img src=\"https://www.tensorflow.org/images/download_logo_32px.png\" />Download notebook</a>\n",
    "  </td>\n",
    "  <td>\n",
    "    <a href=\"https://tfhub.dev/google/random-nnlm-en-dim128/1\"><img src=\"https://www.tensorflow.org/images/hub_logo_32px.png\" />See TF Hub model</a>\n",
    "  </td>\n",
    "</table>"
   ]
  },
  {
   "cell_type": "markdown",
   "metadata": {
    "id": "w0zsksbydmNp"
   },
   "source": [
    "In this tutorial, you will learn how to use [Fairness Indicators](https://github.com/tensorflow/fairness-indicators) to evaluate embeddings from [TF Hub](https://www.tensorflow.org/hub). This notebook uses the [Civil Comments dataset](https://www.kaggle.com/c/jigsaw-unintended-bias-in-toxicity-classification)."
   ]
  },
  {
   "cell_type": "markdown",
   "metadata": {
    "id": "u33JXdluZ2lG"
   },
   "source": [
    "## Setup\n",
    "\n",
    "Install the required libraries."
   ]
  },
  {
   "cell_type": "code",
   "execution_count": 2,
   "metadata": {
    "execution": {
     "iopub.execute_input": "2022-06-14T09:09:46.130978Z",
     "iopub.status.busy": "2022-06-14T09:09:46.130758Z",
     "iopub.status.idle": "2022-06-14T09:09:49.383202Z",
     "shell.execute_reply": "2022-06-14T09:09:49.382437Z"
    },
    "id": "BAUEkqYlzP3W"
   },
   "outputs": [
    {
     "name": "stdout",
     "output_type": "stream",
     "text": [
      "\u001b[33mWARNING: You are using pip version 20.2; however, version 22.1.2 is available.\r\n",
      "You should consider upgrading via the '/usr/bin/python3.8 -m pip install --upgrade pip' command.\u001b[0m\r\n"
     ]
    },
    {
     "name": "stdout",
     "output_type": "stream",
     "text": [
      "Defaulting to user installation because normal site-packages is not writeable\r\n"
     ]
    },
    {
     "name": "stdout",
     "output_type": "stream",
     "text": [
      "Requirement already satisfied: fairness-indicators in /home/kbuilder/.local/lib/python3.8/site-packages (0.39.0)\r\n",
      "Requirement already satisfied: absl-py==0.12.0 in /home/kbuilder/.local/lib/python3.8/site-packages (0.12.0)\r\n",
      "Requirement already satisfied: pyarrow==2.0.0 in /home/kbuilder/.local/lib/python3.8/site-packages (2.0.0)\r\n",
      "Requirement already satisfied: apache-beam==2.38.0 in /home/kbuilder/.local/lib/python3.8/site-packages (2.38.0)\r\n"
     ]
    },
    {
     "name": "stdout",
     "output_type": "stream",
     "text": [
      "Requirement already satisfied: avro-python3==1.9.1 in /home/kbuilder/.local/lib/python3.8/site-packages (1.9.1)\r\n",
      "Requirement already satisfied: tensorflow-hub<1.0.0,>=0.8.0 in /home/kbuilder/.local/lib/python3.8/site-packages (from fairness-indicators) (0.12.0)\r\n",
      "Requirement already satisfied: protobuf<4,>=3.13 in /home/kbuilder/.local/lib/python3.8/site-packages (from fairness-indicators) (3.19.4)\r\n",
      "Requirement already satisfied: tensorflow-model-analysis<0.40,>=0.39 in /home/kbuilder/.local/lib/python3.8/site-packages (from fairness-indicators) (0.39.0)\r\n",
      "Requirement already satisfied: tensorflow!=2.0.*,!=2.1.*,!=2.2.*,!=2.3.*,!=2.4.*,!=2.5.*,!=2.6.*,!=2.7.*,<3,>=1.15.5 in /home/kbuilder/.local/lib/python3.8/site-packages (from fairness-indicators) (2.9.1)\r\n",
      "Requirement already satisfied: witwidget<2,>=1.4.4 in /home/kbuilder/.local/lib/python3.8/site-packages (from fairness-indicators) (1.8.1)\r\n",
      "Requirement already satisfied: tensorflow-data-validation<1.9.0,>=1.8.0 in /home/kbuilder/.local/lib/python3.8/site-packages (from fairness-indicators) (1.8.0)\r\n"
     ]
    },
    {
     "name": "stdout",
     "output_type": "stream",
     "text": [
      "Requirement already satisfied: six in /home/kbuilder/.local/lib/python3.8/site-packages (from absl-py==0.12.0) (1.16.0)\r\n",
      "Requirement already satisfied: numpy>=1.14 in /home/kbuilder/.local/lib/python3.8/site-packages (from pyarrow==2.0.0) (1.22.4)\r\n",
      "Requirement already satisfied: python-dateutil<3,>=2.8.0 in /home/kbuilder/.local/lib/python3.8/site-packages (from apache-beam==2.38.0) (2.8.2)\r\n",
      "Requirement already satisfied: dill<0.3.2,>=0.3.1.1 in /home/kbuilder/.local/lib/python3.8/site-packages (from apache-beam==2.38.0) (0.3.1.1)\r\n",
      "Requirement already satisfied: pytz>=2018.3 in /home/kbuilder/.local/lib/python3.8/site-packages (from apache-beam==2.38.0) (2022.1)\r\n",
      "Requirement already satisfied: crcmod<2.0,>=1.7 in /home/kbuilder/.local/lib/python3.8/site-packages (from apache-beam==2.38.0) (1.7)\r\n",
      "Requirement already satisfied: oauth2client<5,>=2.0.1 in /home/kbuilder/.local/lib/python3.8/site-packages (from apache-beam==2.38.0) (4.1.3)\r\n",
      "Requirement already satisfied: orjson<4.0 in /home/kbuilder/.local/lib/python3.8/site-packages (from apache-beam==2.38.0) (3.7.2)\r\n",
      "Requirement already satisfied: httplib2<0.20.0,>=0.8 in /home/kbuilder/.local/lib/python3.8/site-packages (from apache-beam==2.38.0) (0.19.1)\r\n",
      "Requirement already satisfied: fastavro<2,>=0.23.6 in /home/kbuilder/.local/lib/python3.8/site-packages (from apache-beam==2.38.0) (1.5.1)\r\n",
      "Requirement already satisfied: pymongo<4.0.0,>=3.8.0 in /home/kbuilder/.local/lib/python3.8/site-packages (from apache-beam==2.38.0) (3.12.3)\r\n",
      "Requirement already satisfied: grpcio<2,>=1.29.0 in /home/kbuilder/.local/lib/python3.8/site-packages (from apache-beam==2.38.0) (1.46.3)\r\n"
     ]
    },
    {
     "name": "stdout",
     "output_type": "stream",
     "text": [
      "Requirement already satisfied: pydot<2,>=1.2.0 in /home/kbuilder/.local/lib/python3.8/site-packages (from apache-beam==2.38.0) (1.4.2)\r\n",
      "Requirement already satisfied: requests<3.0.0,>=2.24.0 in /home/kbuilder/.local/lib/python3.8/site-packages (from apache-beam==2.38.0) (2.28.0)\r\n",
      "Requirement already satisfied: hdfs<3.0.0,>=2.1.0 in /home/kbuilder/.local/lib/python3.8/site-packages (from apache-beam==2.38.0) (2.7.0)\r\n",
      "Requirement already satisfied: cloudpickle<3,>=2.0.0 in /home/kbuilder/.local/lib/python3.8/site-packages (from apache-beam==2.38.0) (2.1.0)\r\n",
      "Requirement already satisfied: proto-plus<2,>=1.7.1 in /home/kbuilder/.local/lib/python3.8/site-packages (from apache-beam==2.38.0) (1.20.5)\r\n",
      "Requirement already satisfied: typing-extensions>=3.7.0 in /usr/local/lib/python3.8/dist-packages (from apache-beam==2.38.0) (4.2.0)\r\n",
      "Requirement already satisfied: tfx-bsl<1.9.0,>=1.8.0 in /home/kbuilder/.local/lib/python3.8/site-packages (from tensorflow-model-analysis<0.40,>=0.39->fairness-indicators) (1.8.0)\r\n",
      "Requirement already satisfied: ipywidgets<8,>=7 in /home/kbuilder/.local/lib/python3.8/site-packages (from tensorflow-model-analysis<0.40,>=0.39->fairness-indicators) (7.7.0)\r\n",
      "Requirement already satisfied: tensorflow-metadata<1.9.0,>=1.8.0 in /home/kbuilder/.local/lib/python3.8/site-packages (from tensorflow-model-analysis<0.40,>=0.39->fairness-indicators) (1.8.0)\r\n",
      "Requirement already satisfied: scipy<2,>=1.4.1 in /home/kbuilder/.local/lib/python3.8/site-packages (from tensorflow-model-analysis<0.40,>=0.39->fairness-indicators) (1.8.1)\r\n"
     ]
    },
    {
     "name": "stdout",
     "output_type": "stream",
     "text": [
      "Requirement already satisfied: ipython<8,>=7 in /home/kbuilder/.local/lib/python3.8/site-packages (from tensorflow-model-analysis<0.40,>=0.39->fairness-indicators) (7.34.0)\r\n",
      "Requirement already satisfied: pandas<2,>=1.0 in /home/kbuilder/.local/lib/python3.8/site-packages (from tensorflow-model-analysis<0.40,>=0.39->fairness-indicators) (1.4.2)\r\n",
      "Requirement already satisfied: google-pasta>=0.1.1 in /home/kbuilder/.local/lib/python3.8/site-packages (from tensorflow!=2.0.*,!=2.1.*,!=2.2.*,!=2.3.*,!=2.4.*,!=2.5.*,!=2.6.*,!=2.7.*,<3,>=1.15.5->fairness-indicators) (0.2.0)\r\n",
      "Requirement already satisfied: tensorboard<2.10,>=2.9 in /home/kbuilder/.local/lib/python3.8/site-packages (from tensorflow!=2.0.*,!=2.1.*,!=2.2.*,!=2.3.*,!=2.4.*,!=2.5.*,!=2.6.*,!=2.7.*,<3,>=1.15.5->fairness-indicators) (2.9.1)\r\n"
     ]
    },
    {
     "name": "stdout",
     "output_type": "stream",
     "text": [
      "Requirement already satisfied: flatbuffers<2,>=1.12 in /home/kbuilder/.local/lib/python3.8/site-packages (from tensorflow!=2.0.*,!=2.1.*,!=2.2.*,!=2.3.*,!=2.4.*,!=2.5.*,!=2.6.*,!=2.7.*,<3,>=1.15.5->fairness-indicators) (1.12)\r\n",
      "Requirement already satisfied: setuptools in /home/kbuilder/.local/lib/python3.8/site-packages (from tensorflow!=2.0.*,!=2.1.*,!=2.2.*,!=2.3.*,!=2.4.*,!=2.5.*,!=2.6.*,!=2.7.*,<3,>=1.15.5->fairness-indicators) (62.4.0)\r\n",
      "Requirement already satisfied: keras-preprocessing>=1.1.1 in /home/kbuilder/.local/lib/python3.8/site-packages (from tensorflow!=2.0.*,!=2.1.*,!=2.2.*,!=2.3.*,!=2.4.*,!=2.5.*,!=2.6.*,!=2.7.*,<3,>=1.15.5->fairness-indicators) (1.1.2)\r\n",
      "Requirement already satisfied: wrapt>=1.11.0 in /home/kbuilder/.local/lib/python3.8/site-packages (from tensorflow!=2.0.*,!=2.1.*,!=2.2.*,!=2.3.*,!=2.4.*,!=2.5.*,!=2.6.*,!=2.7.*,<3,>=1.15.5->fairness-indicators) (1.14.1)\r\n",
      "Requirement already satisfied: tensorflow-estimator<2.10.0,>=2.9.0rc0 in /home/kbuilder/.local/lib/python3.8/site-packages (from tensorflow!=2.0.*,!=2.1.*,!=2.2.*,!=2.3.*,!=2.4.*,!=2.5.*,!=2.6.*,!=2.7.*,<3,>=1.15.5->fairness-indicators) (2.9.0)\r\n",
      "Requirement already satisfied: packaging in /usr/local/lib/python3.8/dist-packages (from tensorflow!=2.0.*,!=2.1.*,!=2.2.*,!=2.3.*,!=2.4.*,!=2.5.*,!=2.6.*,!=2.7.*,<3,>=1.15.5->fairness-indicators) (21.3)\r\n",
      "Requirement already satisfied: keras<2.10.0,>=2.9.0rc0 in /home/kbuilder/.local/lib/python3.8/site-packages (from tensorflow!=2.0.*,!=2.1.*,!=2.2.*,!=2.3.*,!=2.4.*,!=2.5.*,!=2.6.*,!=2.7.*,<3,>=1.15.5->fairness-indicators) (2.9.0)\r\n",
      "Requirement already satisfied: tensorflow-io-gcs-filesystem>=0.23.1 in /home/kbuilder/.local/lib/python3.8/site-packages (from tensorflow!=2.0.*,!=2.1.*,!=2.2.*,!=2.3.*,!=2.4.*,!=2.5.*,!=2.6.*,!=2.7.*,<3,>=1.15.5->fairness-indicators) (0.26.0)\r\n"
     ]
    },
    {
     "name": "stdout",
     "output_type": "stream",
     "text": [
      "Requirement already satisfied: h5py>=2.9.0 in /home/kbuilder/.local/lib/python3.8/site-packages (from tensorflow!=2.0.*,!=2.1.*,!=2.2.*,!=2.3.*,!=2.4.*,!=2.5.*,!=2.6.*,!=2.7.*,<3,>=1.15.5->fairness-indicators) (3.7.0)\r\n",
      "Requirement already satisfied: termcolor>=1.1.0 in /home/kbuilder/.local/lib/python3.8/site-packages (from tensorflow!=2.0.*,!=2.1.*,!=2.2.*,!=2.3.*,!=2.4.*,!=2.5.*,!=2.6.*,!=2.7.*,<3,>=1.15.5->fairness-indicators) (1.1.0)\r\n",
      "Requirement already satisfied: opt-einsum>=2.3.2 in /home/kbuilder/.local/lib/python3.8/site-packages (from tensorflow!=2.0.*,!=2.1.*,!=2.2.*,!=2.3.*,!=2.4.*,!=2.5.*,!=2.6.*,!=2.7.*,<3,>=1.15.5->fairness-indicators) (3.3.0)\r\n",
      "Requirement already satisfied: astunparse>=1.6.0 in /home/kbuilder/.local/lib/python3.8/site-packages (from tensorflow!=2.0.*,!=2.1.*,!=2.2.*,!=2.3.*,!=2.4.*,!=2.5.*,!=2.6.*,!=2.7.*,<3,>=1.15.5->fairness-indicators) (1.6.3)\r\n",
      "Requirement already satisfied: libclang>=13.0.0 in /usr/local/lib/python3.8/dist-packages (from tensorflow!=2.0.*,!=2.1.*,!=2.2.*,!=2.3.*,!=2.4.*,!=2.5.*,!=2.6.*,!=2.7.*,<3,>=1.15.5->fairness-indicators) (14.0.1)\r\n",
      "Requirement already satisfied: gast<=0.4.0,>=0.2.1 in /home/kbuilder/.local/lib/python3.8/site-packages (from tensorflow!=2.0.*,!=2.1.*,!=2.2.*,!=2.3.*,!=2.4.*,!=2.5.*,!=2.6.*,!=2.7.*,<3,>=1.15.5->fairness-indicators) (0.4.0)\r\n",
      "Requirement already satisfied: google-api-python-client>=1.7.8 in /home/kbuilder/.local/lib/python3.8/site-packages (from witwidget<2,>=1.4.4->fairness-indicators) (2.50.0)\r\n",
      "Requirement already satisfied: pyfarmhash<0.4,>=0.2 in /home/kbuilder/.local/lib/python3.8/site-packages (from tensorflow-data-validation<1.9.0,>=1.8.0->fairness-indicators) (0.3.2)\r\n",
      "Requirement already satisfied: joblib<0.15,>=0.12 in /home/kbuilder/.local/lib/python3.8/site-packages (from tensorflow-data-validation<1.9.0,>=1.8.0->fairness-indicators) (0.14.1)\r\n",
      "Requirement already satisfied: pyasn1>=0.1.7 in /home/kbuilder/.local/lib/python3.8/site-packages (from oauth2client<5,>=2.0.1->apache-beam==2.38.0) (0.4.8)\r\n",
      "Requirement already satisfied: rsa>=3.1.4 in /home/kbuilder/.local/lib/python3.8/site-packages (from oauth2client<5,>=2.0.1->apache-beam==2.38.0) (4.8)\r\n",
      "Requirement already satisfied: pyasn1-modules>=0.0.5 in /home/kbuilder/.local/lib/python3.8/site-packages (from oauth2client<5,>=2.0.1->apache-beam==2.38.0) (0.2.8)\r\n"
     ]
    },
    {
     "name": "stdout",
     "output_type": "stream",
     "text": [
      "Collecting pyparsing<3,>=2.4.2\r\n",
      "  Using cached pyparsing-2.4.7-py2.py3-none-any.whl (67 kB)\r\n"
     ]
    },
    {
     "name": "stdout",
     "output_type": "stream",
     "text": [
      "Requirement already satisfied: certifi>=2017.4.17 in /home/kbuilder/.local/lib/python3.8/site-packages (from requests<3.0.0,>=2.24.0->apache-beam==2.38.0) (2022.5.18.1)\r\n",
      "Requirement already satisfied: urllib3<1.27,>=1.21.1 in /usr/local/lib/python3.8/dist-packages (from requests<3.0.0,>=2.24.0->apache-beam==2.38.0) (1.26.9)\r\n",
      "Requirement already satisfied: idna<4,>=2.5 in /home/kbuilder/.local/lib/python3.8/site-packages (from requests<3.0.0,>=2.24.0->apache-beam==2.38.0) (3.3)\r\n",
      "Requirement already satisfied: charset-normalizer~=2.0.0 in /home/kbuilder/.local/lib/python3.8/site-packages (from requests<3.0.0,>=2.24.0->apache-beam==2.38.0) (2.0.12)\r\n",
      "Requirement already satisfied: docopt in /home/kbuilder/.local/lib/python3.8/site-packages (from hdfs<3.0.0,>=2.1.0->apache-beam==2.38.0) (0.6.2)\r\n",
      "Requirement already satisfied: tensorflow-serving-api!=2.0.*,!=2.1.*,!=2.2.*,!=2.3.*,!=2.4.*,!=2.5.*,!=2.6.*,!=2.7.*,<3,>=1.15 in /home/kbuilder/.local/lib/python3.8/site-packages (from tfx-bsl<1.9.0,>=1.8.0->tensorflow-model-analysis<0.40,>=0.39->fairness-indicators) (2.9.0)\r\n",
      "Requirement already satisfied: traitlets>=4.3.1 in /home/kbuilder/.local/lib/python3.8/site-packages (from ipywidgets<8,>=7->tensorflow-model-analysis<0.40,>=0.39->fairness-indicators) (5.2.2.post1)\r\n"
     ]
    },
    {
     "name": "stdout",
     "output_type": "stream",
     "text": [
      "Requirement already satisfied: jupyterlab-widgets>=1.0.0; python_version >= \"3.6\" in /home/kbuilder/.local/lib/python3.8/site-packages (from ipywidgets<8,>=7->tensorflow-model-analysis<0.40,>=0.39->fairness-indicators) (1.1.0)\r\n",
      "Requirement already satisfied: nbformat>=4.2.0 in /home/kbuilder/.local/lib/python3.8/site-packages (from ipywidgets<8,>=7->tensorflow-model-analysis<0.40,>=0.39->fairness-indicators) (5.4.0)\r\n",
      "Requirement already satisfied: ipykernel>=4.5.1 in /home/kbuilder/.local/lib/python3.8/site-packages (from ipywidgets<8,>=7->tensorflow-model-analysis<0.40,>=0.39->fairness-indicators) (6.14.0)\r\n",
      "Requirement already satisfied: widgetsnbextension~=3.6.0 in /home/kbuilder/.local/lib/python3.8/site-packages (from ipywidgets<8,>=7->tensorflow-model-analysis<0.40,>=0.39->fairness-indicators) (3.6.0)\r\n",
      "Requirement already satisfied: ipython-genutils~=0.2.0 in /home/kbuilder/.local/lib/python3.8/site-packages (from ipywidgets<8,>=7->tensorflow-model-analysis<0.40,>=0.39->fairness-indicators) (0.2.0)\r\n",
      "Requirement already satisfied: googleapis-common-protos<2,>=1.52.0 in /home/kbuilder/.local/lib/python3.8/site-packages (from tensorflow-metadata<1.9.0,>=1.8.0->tensorflow-model-analysis<0.40,>=0.39->fairness-indicators) (1.56.2)\r\n",
      "Requirement already satisfied: pickleshare in /home/kbuilder/.local/lib/python3.8/site-packages (from ipython<8,>=7->tensorflow-model-analysis<0.40,>=0.39->fairness-indicators) (0.7.5)\r\n",
      "Requirement already satisfied: decorator in /home/kbuilder/.local/lib/python3.8/site-packages (from ipython<8,>=7->tensorflow-model-analysis<0.40,>=0.39->fairness-indicators) (5.1.1)\r\n",
      "Requirement already satisfied: prompt-toolkit!=3.0.0,!=3.0.1,<3.1.0,>=2.0.0 in /home/kbuilder/.local/lib/python3.8/site-packages (from ipython<8,>=7->tensorflow-model-analysis<0.40,>=0.39->fairness-indicators) (3.0.29)\r\n",
      "Requirement already satisfied: matplotlib-inline in /home/kbuilder/.local/lib/python3.8/site-packages (from ipython<8,>=7->tensorflow-model-analysis<0.40,>=0.39->fairness-indicators) (0.1.3)\r\n",
      "Requirement already satisfied: pexpect>4.3; sys_platform != \"win32\" in /home/kbuilder/.local/lib/python3.8/site-packages (from ipython<8,>=7->tensorflow-model-analysis<0.40,>=0.39->fairness-indicators) (4.8.0)\r\n",
      "Requirement already satisfied: jedi>=0.16 in /home/kbuilder/.local/lib/python3.8/site-packages (from ipython<8,>=7->tensorflow-model-analysis<0.40,>=0.39->fairness-indicators) (0.18.1)\r\n",
      "Requirement already satisfied: pygments in /usr/local/lib/python3.8/dist-packages (from ipython<8,>=7->tensorflow-model-analysis<0.40,>=0.39->fairness-indicators) (2.12.0)\r\n",
      "Requirement already satisfied: backcall in /home/kbuilder/.local/lib/python3.8/site-packages (from ipython<8,>=7->tensorflow-model-analysis<0.40,>=0.39->fairness-indicators) (0.2.0)\r\n",
      "Requirement already satisfied: google-auth-oauthlib<0.5,>=0.4.1 in /home/kbuilder/.local/lib/python3.8/site-packages (from tensorboard<2.10,>=2.9->tensorflow!=2.0.*,!=2.1.*,!=2.2.*,!=2.3.*,!=2.4.*,!=2.5.*,!=2.6.*,!=2.7.*,<3,>=1.15.5->fairness-indicators) (0.4.6)\r\n",
      "Requirement already satisfied: tensorboard-data-server<0.7.0,>=0.6.0 in /home/kbuilder/.local/lib/python3.8/site-packages (from tensorboard<2.10,>=2.9->tensorflow!=2.0.*,!=2.1.*,!=2.2.*,!=2.3.*,!=2.4.*,!=2.5.*,!=2.6.*,!=2.7.*,<3,>=1.15.5->fairness-indicators) (0.6.1)\r\n",
      "Requirement already satisfied: tensorboard-plugin-wit>=1.6.0 in /home/kbuilder/.local/lib/python3.8/site-packages (from tensorboard<2.10,>=2.9->tensorflow!=2.0.*,!=2.1.*,!=2.2.*,!=2.3.*,!=2.4.*,!=2.5.*,!=2.6.*,!=2.7.*,<3,>=1.15.5->fairness-indicators) (1.8.1)\r\n",
      "Requirement already satisfied: wheel>=0.26 in /home/kbuilder/.local/lib/python3.8/site-packages (from tensorboard<2.10,>=2.9->tensorflow!=2.0.*,!=2.1.*,!=2.2.*,!=2.3.*,!=2.4.*,!=2.5.*,!=2.6.*,!=2.7.*,<3,>=1.15.5->fairness-indicators) (0.37.1)\r\n",
      "Requirement already satisfied: werkzeug>=1.0.1 in /home/kbuilder/.local/lib/python3.8/site-packages (from tensorboard<2.10,>=2.9->tensorflow!=2.0.*,!=2.1.*,!=2.2.*,!=2.3.*,!=2.4.*,!=2.5.*,!=2.6.*,!=2.7.*,<3,>=1.15.5->fairness-indicators) (2.1.2)\r\n"
     ]
    },
    {
     "name": "stdout",
     "output_type": "stream",
     "text": [
      "Requirement already satisfied: google-auth<3,>=1.6.3 in /home/kbuilder/.local/lib/python3.8/site-packages (from tensorboard<2.10,>=2.9->tensorflow!=2.0.*,!=2.1.*,!=2.2.*,!=2.3.*,!=2.4.*,!=2.5.*,!=2.6.*,!=2.7.*,<3,>=1.15.5->fairness-indicators) (2.7.0)\r\n",
      "Requirement already satisfied: markdown>=2.6.8 in /home/kbuilder/.local/lib/python3.8/site-packages (from tensorboard<2.10,>=2.9->tensorflow!=2.0.*,!=2.1.*,!=2.2.*,!=2.3.*,!=2.4.*,!=2.5.*,!=2.6.*,!=2.7.*,<3,>=1.15.5->fairness-indicators) (3.3.7)\r\n",
      "Requirement already satisfied: google-api-core!=2.0.*,!=2.1.*,!=2.2.*,!=2.3.0,<3.0.0dev,>=1.31.5 in /home/kbuilder/.local/lib/python3.8/site-packages (from google-api-python-client>=1.7.8->witwidget<2,>=1.4.4->fairness-indicators) (2.8.1)\r\n",
      "Requirement already satisfied: google-auth-httplib2>=0.1.0 in /home/kbuilder/.local/lib/python3.8/site-packages (from google-api-python-client>=1.7.8->witwidget<2,>=1.4.4->fairness-indicators) (0.1.0)\r\n",
      "Requirement already satisfied: uritemplate<5,>=3.0.1 in /home/kbuilder/.local/lib/python3.8/site-packages (from google-api-python-client>=1.7.8->witwidget<2,>=1.4.4->fairness-indicators) (4.1.1)\r\n",
      "Requirement already satisfied: fastjsonschema in /home/kbuilder/.local/lib/python3.8/site-packages (from nbformat>=4.2.0->ipywidgets<8,>=7->tensorflow-model-analysis<0.40,>=0.39->fairness-indicators) (2.15.3)\r\n",
      "Requirement already satisfied: jsonschema>=2.6 in /home/kbuilder/.local/lib/python3.8/site-packages (from nbformat>=4.2.0->ipywidgets<8,>=7->tensorflow-model-analysis<0.40,>=0.39->fairness-indicators) (4.6.0)\r\n"
     ]
    },
    {
     "name": "stdout",
     "output_type": "stream",
     "text": [
      "Requirement already satisfied: jupyter-core in /home/kbuilder/.local/lib/python3.8/site-packages (from nbformat>=4.2.0->ipywidgets<8,>=7->tensorflow-model-analysis<0.40,>=0.39->fairness-indicators) (4.10.0)\r\n",
      "Requirement already satisfied: psutil in /usr/local/lib/python3.8/dist-packages (from ipykernel>=4.5.1->ipywidgets<8,>=7->tensorflow-model-analysis<0.40,>=0.39->fairness-indicators) (5.9.0)\r\n",
      "Requirement already satisfied: tornado>=6.1 in /home/kbuilder/.local/lib/python3.8/site-packages (from ipykernel>=4.5.1->ipywidgets<8,>=7->tensorflow-model-analysis<0.40,>=0.39->fairness-indicators) (6.1)\r\n",
      "Requirement already satisfied: debugpy>=1.0 in /home/kbuilder/.local/lib/python3.8/site-packages (from ipykernel>=4.5.1->ipywidgets<8,>=7->tensorflow-model-analysis<0.40,>=0.39->fairness-indicators) (1.6.0)\r\n",
      "Requirement already satisfied: nest-asyncio in /home/kbuilder/.local/lib/python3.8/site-packages (from ipykernel>=4.5.1->ipywidgets<8,>=7->tensorflow-model-analysis<0.40,>=0.39->fairness-indicators) (1.5.5)\r\n",
      "Requirement already satisfied: jupyter-client>=6.1.12 in /home/kbuilder/.local/lib/python3.8/site-packages (from ipykernel>=4.5.1->ipywidgets<8,>=7->tensorflow-model-analysis<0.40,>=0.39->fairness-indicators) (7.3.4)\r\n",
      "Requirement already satisfied: notebook>=4.4.1 in /home/kbuilder/.local/lib/python3.8/site-packages (from widgetsnbextension~=3.6.0->ipywidgets<8,>=7->tensorflow-model-analysis<0.40,>=0.39->fairness-indicators) (6.4.12)\r\n"
     ]
    },
    {
     "name": "stdout",
     "output_type": "stream",
     "text": [
      "Requirement already satisfied: wcwidth in /home/kbuilder/.local/lib/python3.8/site-packages (from prompt-toolkit!=3.0.0,!=3.0.1,<3.1.0,>=2.0.0->ipython<8,>=7->tensorflow-model-analysis<0.40,>=0.39->fairness-indicators) (0.2.5)\r\n",
      "Requirement already satisfied: ptyprocess>=0.5 in /home/kbuilder/.local/lib/python3.8/site-packages (from pexpect>4.3; sys_platform != \"win32\"->ipython<8,>=7->tensorflow-model-analysis<0.40,>=0.39->fairness-indicators) (0.7.0)\r\n",
      "Requirement already satisfied: parso<0.9.0,>=0.8.0 in /home/kbuilder/.local/lib/python3.8/site-packages (from jedi>=0.16->ipython<8,>=7->tensorflow-model-analysis<0.40,>=0.39->fairness-indicators) (0.8.3)\r\n",
      "Requirement already satisfied: requests-oauthlib>=0.7.0 in /home/kbuilder/.local/lib/python3.8/site-packages (from google-auth-oauthlib<0.5,>=0.4.1->tensorboard<2.10,>=2.9->tensorflow!=2.0.*,!=2.1.*,!=2.2.*,!=2.3.*,!=2.4.*,!=2.5.*,!=2.6.*,!=2.7.*,<3,>=1.15.5->fairness-indicators) (1.3.1)\r\n",
      "Requirement already satisfied: cachetools<6.0,>=2.0.0 in /home/kbuilder/.local/lib/python3.8/site-packages (from google-auth<3,>=1.6.3->tensorboard<2.10,>=2.9->tensorflow!=2.0.*,!=2.1.*,!=2.2.*,!=2.3.*,!=2.4.*,!=2.5.*,!=2.6.*,!=2.7.*,<3,>=1.15.5->fairness-indicators) (5.2.0)\r\n",
      "Requirement already satisfied: importlib-metadata>=4.4; python_version < \"3.10\" in /usr/local/lib/python3.8/dist-packages (from markdown>=2.6.8->tensorboard<2.10,>=2.9->tensorflow!=2.0.*,!=2.1.*,!=2.2.*,!=2.3.*,!=2.4.*,!=2.5.*,!=2.6.*,!=2.7.*,<3,>=1.15.5->fairness-indicators) (4.11.3)\r\n",
      "Requirement already satisfied: importlib-resources>=1.4.0; python_version < \"3.9\" in /home/kbuilder/.local/lib/python3.8/site-packages (from jsonschema>=2.6->nbformat>=4.2.0->ipywidgets<8,>=7->tensorflow-model-analysis<0.40,>=0.39->fairness-indicators) (5.7.1)\r\n",
      "Requirement already satisfied: attrs>=17.4.0 in /home/kbuilder/.local/lib/python3.8/site-packages (from jsonschema>=2.6->nbformat>=4.2.0->ipywidgets<8,>=7->tensorflow-model-analysis<0.40,>=0.39->fairness-indicators) (21.4.0)\r\n"
     ]
    },
    {
     "name": "stdout",
     "output_type": "stream",
     "text": [
      "Requirement already satisfied: pyrsistent!=0.17.0,!=0.17.1,!=0.17.2,>=0.14.0 in /home/kbuilder/.local/lib/python3.8/site-packages (from jsonschema>=2.6->nbformat>=4.2.0->ipywidgets<8,>=7->tensorflow-model-analysis<0.40,>=0.39->fairness-indicators) (0.18.1)\r\n",
      "Requirement already satisfied: pyzmq>=23.0 in /home/kbuilder/.local/lib/python3.8/site-packages (from jupyter-client>=6.1.12->ipykernel>=4.5.1->ipywidgets<8,>=7->tensorflow-model-analysis<0.40,>=0.39->fairness-indicators) (23.1.0)\r\n",
      "Requirement already satisfied: entrypoints in /home/kbuilder/.local/lib/python3.8/site-packages (from jupyter-client>=6.1.12->ipykernel>=4.5.1->ipywidgets<8,>=7->tensorflow-model-analysis<0.40,>=0.39->fairness-indicators) (0.4)\r\n",
      "Requirement already satisfied: jinja2 in /home/kbuilder/.local/lib/python3.8/site-packages (from notebook>=4.4.1->widgetsnbextension~=3.6.0->ipywidgets<8,>=7->tensorflow-model-analysis<0.40,>=0.39->fairness-indicators) (2.11.3)\r\n",
      "Requirement already satisfied: nbconvert>=5 in /home/kbuilder/.local/lib/python3.8/site-packages (from notebook>=4.4.1->widgetsnbextension~=3.6.0->ipywidgets<8,>=7->tensorflow-model-analysis<0.40,>=0.39->fairness-indicators) (6.4.5)\r\n",
      "Requirement already satisfied: argon2-cffi in /home/kbuilder/.local/lib/python3.8/site-packages (from notebook>=4.4.1->widgetsnbextension~=3.6.0->ipywidgets<8,>=7->tensorflow-model-analysis<0.40,>=0.39->fairness-indicators) (21.3.0)\r\n"
     ]
    },
    {
     "name": "stdout",
     "output_type": "stream",
     "text": [
      "Requirement already satisfied: Send2Trash>=1.8.0 in /home/kbuilder/.local/lib/python3.8/site-packages (from notebook>=4.4.1->widgetsnbextension~=3.6.0->ipywidgets<8,>=7->tensorflow-model-analysis<0.40,>=0.39->fairness-indicators) (1.8.0)\r\n",
      "Requirement already satisfied: terminado>=0.8.3 in /home/kbuilder/.local/lib/python3.8/site-packages (from notebook>=4.4.1->widgetsnbextension~=3.6.0->ipywidgets<8,>=7->tensorflow-model-analysis<0.40,>=0.39->fairness-indicators) (0.15.0)\r\n",
      "Requirement already satisfied: prometheus-client in /home/kbuilder/.local/lib/python3.8/site-packages (from notebook>=4.4.1->widgetsnbextension~=3.6.0->ipywidgets<8,>=7->tensorflow-model-analysis<0.40,>=0.39->fairness-indicators) (0.14.1)\r\n",
      "Requirement already satisfied: oauthlib>=3.0.0 in /home/kbuilder/.local/lib/python3.8/site-packages (from requests-oauthlib>=0.7.0->google-auth-oauthlib<0.5,>=0.4.1->tensorboard<2.10,>=2.9->tensorflow!=2.0.*,!=2.1.*,!=2.2.*,!=2.3.*,!=2.4.*,!=2.5.*,!=2.6.*,!=2.7.*,<3,>=1.15.5->fairness-indicators) (3.2.0)\r\n",
      "Requirement already satisfied: zipp>=0.5 in /home/kbuilder/.local/lib/python3.8/site-packages (from importlib-metadata>=4.4; python_version < \"3.10\"->markdown>=2.6.8->tensorboard<2.10,>=2.9->tensorflow!=2.0.*,!=2.1.*,!=2.2.*,!=2.3.*,!=2.4.*,!=2.5.*,!=2.6.*,!=2.7.*,<3,>=1.15.5->fairness-indicators) (3.8.0)\r\n",
      "Requirement already satisfied: MarkupSafe>=0.23 in /home/kbuilder/.local/lib/python3.8/site-packages (from jinja2->notebook>=4.4.1->widgetsnbextension~=3.6.0->ipywidgets<8,>=7->tensorflow-model-analysis<0.40,>=0.39->fairness-indicators) (2.0.1)\r\n",
      "Requirement already satisfied: jupyterlab-pygments in /home/kbuilder/.local/lib/python3.8/site-packages (from nbconvert>=5->notebook>=4.4.1->widgetsnbextension~=3.6.0->ipywidgets<8,>=7->tensorflow-model-analysis<0.40,>=0.39->fairness-indicators) (0.2.2)\r\n",
      "Requirement already satisfied: beautifulsoup4 in /home/kbuilder/.local/lib/python3.8/site-packages (from nbconvert>=5->notebook>=4.4.1->widgetsnbextension~=3.6.0->ipywidgets<8,>=7->tensorflow-model-analysis<0.40,>=0.39->fairness-indicators) (4.11.1)\r\n",
      "Requirement already satisfied: nbclient<0.6.0,>=0.5.0 in /home/kbuilder/.local/lib/python3.8/site-packages (from nbconvert>=5->notebook>=4.4.1->widgetsnbextension~=3.6.0->ipywidgets<8,>=7->tensorflow-model-analysis<0.40,>=0.39->fairness-indicators) (0.5.13)\r\n"
     ]
    },
    {
     "name": "stdout",
     "output_type": "stream",
     "text": [
      "Requirement already satisfied: mistune<2,>=0.8.1 in /home/kbuilder/.local/lib/python3.8/site-packages (from nbconvert>=5->notebook>=4.4.1->widgetsnbextension~=3.6.0->ipywidgets<8,>=7->tensorflow-model-analysis<0.40,>=0.39->fairness-indicators) (0.8.4)\r\n",
      "Requirement already satisfied: testpath in /home/kbuilder/.local/lib/python3.8/site-packages (from nbconvert>=5->notebook>=4.4.1->widgetsnbextension~=3.6.0->ipywidgets<8,>=7->tensorflow-model-analysis<0.40,>=0.39->fairness-indicators) (0.6.0)\r\n",
      "Requirement already satisfied: defusedxml in /home/kbuilder/.local/lib/python3.8/site-packages (from nbconvert>=5->notebook>=4.4.1->widgetsnbextension~=3.6.0->ipywidgets<8,>=7->tensorflow-model-analysis<0.40,>=0.39->fairness-indicators) (0.7.1)\r\n",
      "Requirement already satisfied: bleach in /usr/local/lib/python3.8/dist-packages (from nbconvert>=5->notebook>=4.4.1->widgetsnbextension~=3.6.0->ipywidgets<8,>=7->tensorflow-model-analysis<0.40,>=0.39->fairness-indicators) (5.0.0)\r\n",
      "Requirement already satisfied: pandocfilters>=1.4.1 in /home/kbuilder/.local/lib/python3.8/site-packages (from nbconvert>=5->notebook>=4.4.1->widgetsnbextension~=3.6.0->ipywidgets<8,>=7->tensorflow-model-analysis<0.40,>=0.39->fairness-indicators) (1.5.0)\r\n",
      "Requirement already satisfied: argon2-cffi-bindings in /home/kbuilder/.local/lib/python3.8/site-packages (from argon2-cffi->notebook>=4.4.1->widgetsnbextension~=3.6.0->ipywidgets<8,>=7->tensorflow-model-analysis<0.40,>=0.39->fairness-indicators) (21.2.0)\r\n",
      "Requirement already satisfied: soupsieve>1.2 in /home/kbuilder/.local/lib/python3.8/site-packages (from beautifulsoup4->nbconvert>=5->notebook>=4.4.1->widgetsnbextension~=3.6.0->ipywidgets<8,>=7->tensorflow-model-analysis<0.40,>=0.39->fairness-indicators) (2.3.2.post1)\r\n",
      "Requirement already satisfied: webencodings in /usr/local/lib/python3.8/dist-packages (from bleach->nbconvert>=5->notebook>=4.4.1->widgetsnbextension~=3.6.0->ipywidgets<8,>=7->tensorflow-model-analysis<0.40,>=0.39->fairness-indicators) (0.5.1)\r\n",
      "Requirement already satisfied: cffi>=1.0.1 in /home/kbuilder/.local/lib/python3.8/site-packages (from argon2-cffi-bindings->argon2-cffi->notebook>=4.4.1->widgetsnbextension~=3.6.0->ipywidgets<8,>=7->tensorflow-model-analysis<0.40,>=0.39->fairness-indicators) (1.15.0)\r\n",
      "Requirement already satisfied: pycparser in /home/kbuilder/.local/lib/python3.8/site-packages (from cffi>=1.0.1->argon2-cffi-bindings->argon2-cffi->notebook>=4.4.1->widgetsnbextension~=3.6.0->ipywidgets<8,>=7->tensorflow-model-analysis<0.40,>=0.39->fairness-indicators) (2.21)\r\n"
     ]
    },
    {
     "name": "stdout",
     "output_type": "stream",
     "text": [
      "Installing collected packages: pyparsing\r\n"
     ]
    },
    {
     "name": "stdout",
     "output_type": "stream",
     "text": [
      "\u001b[31mERROR: After October 2020 you may experience errors when installing or updating packages. This is because pip will change the way that it resolves dependency conflicts.\r\n",
      "\r\n",
      "We recommend you use --use-feature=2020-resolver to test your packages with the new resolver before it becomes the default.\r\n",
      "\r\n",
      "ansible-core 2.11.11 requires cryptography, which is not installed.\r\n",
      "ansible-core 2.11.11 requires PyYAML, which is not installed.\u001b[0m\r\n",
      "Successfully installed pyparsing-2.4.7\r\n"
     ]
    },
    {
     "name": "stdout",
     "output_type": "stream",
     "text": [
      "\u001b[33mWARNING: You are using pip version 20.2; however, version 22.1.2 is available.\r\n",
      "You should consider upgrading via the '/usr/bin/python3.8 -m pip install --upgrade pip' command.\u001b[0m\r\n"
     ]
    }
   ],
   "source": [
    "!pip install -q -U pip==20.2\n",
    "\n",
    "!pip install fairness-indicators \\\n",
    "  \"absl-py==0.12.0\" \\\n",
    "  \"pyarrow==2.0.0\" \\\n",
    "  \"apache-beam==2.38.0\" \\\n",
    "  \"avro-python3==1.9.1\""
   ]
  },
  {
   "cell_type": "markdown",
   "metadata": {
    "id": "e6pe8c6L7kCW"
   },
   "source": [
    "Import other required libraries."
   ]
  },
  {
   "cell_type": "code",
   "execution_count": 3,
   "metadata": {
    "execution": {
     "iopub.execute_input": "2022-06-14T09:09:49.387041Z",
     "iopub.status.busy": "2022-06-14T09:09:49.386520Z",
     "iopub.status.idle": "2022-06-14T09:09:51.862585Z",
     "shell.execute_reply": "2022-06-14T09:09:51.861664Z"
    },
    "id": "B8dlyTyiTe-9"
   },
   "outputs": [],
   "source": [
    "import os\n",
    "import tempfile\n",
    "import apache_beam as beam\n",
    "from datetime import datetime\n",
    "import tensorflow as tf\n",
    "import tensorflow_hub as hub\n",
    "import tensorflow_model_analysis as tfma\n",
    "from tensorflow_model_analysis.addons.fairness.view import widget_view\n",
    "from tensorflow_model_analysis.addons.fairness.post_export_metrics import fairness_indicators\n",
    "from fairness_indicators import example_model\n",
    "from fairness_indicators.tutorial_utils import util"
   ]
  },
  {
   "cell_type": "markdown",
   "metadata": {
    "id": "Xz4PcI0hSVcq"
   },
   "source": [
    "### Dataset\n",
    "\n",
    "In this notebook, you work with the [Civil Comments dataset](https://www.kaggle.com/c/jigsaw-unintended-bias-in-toxicity-classification) which contains approximately 2 million public comments made public by the [Civil Comments platform](https://github.com/reaktivstudios/civil-comments) in 2017 for ongoing research. This effort was sponsored by Jigsaw, who have hosted competitions on Kaggle to help classify toxic comments as well as minimize unintended model bias.\n",
    "\n",
    "Each individual text comment in the dataset has a toxicity label, with the label being 1 if the comment is toxic and 0 if the comment is non-toxic. Within the data, a subset of comments are labeled with a variety of identity attributes, including categories for gender, sexual orientation, religion, and race or ethnicity."
   ]
  },
  {
   "cell_type": "markdown",
   "metadata": {
    "id": "9ekzb7vVnPCc"
   },
   "source": [
    "### Prepare the data\n",
    "\n",
    "TensorFlow parses features from data using [`tf.io.FixedLenFeature`](https://www.tensorflow.org/api_docs/python/tf/io/FixedLenFeature) and [`tf.io.VarLenFeature`](https://www.tensorflow.org/api_docs/python/tf/io/VarLenFeature). Map out the input feature, output feature, and all other slicing features of interest."
   ]
  },
  {
   "cell_type": "code",
   "execution_count": 4,
   "metadata": {
    "execution": {
     "iopub.execute_input": "2022-06-14T09:09:51.866515Z",
     "iopub.status.busy": "2022-06-14T09:09:51.866113Z",
     "iopub.status.idle": "2022-06-14T09:09:51.871314Z",
     "shell.execute_reply": "2022-06-14T09:09:51.870743Z"
    },
    "id": "n4_nXQDykX6W"
   },
   "outputs": [],
   "source": [
    "BASE_DIR = tempfile.gettempdir()\n",
    "\n",
    "# The input and output features of the classifier\n",
    "TEXT_FEATURE = 'comment_text'\n",
    "LABEL = 'toxicity'\n",
    "\n",
    "FEATURE_MAP = {\n",
    "    # input and output features\n",
    "    LABEL: tf.io.FixedLenFeature([], tf.float32),\n",
    "    TEXT_FEATURE: tf.io.FixedLenFeature([], tf.string),\n",
    "\n",
    "    # slicing features\n",
    "    'sexual_orientation': tf.io.VarLenFeature(tf.string),\n",
    "    'gender': tf.io.VarLenFeature(tf.string),\n",
    "    'religion': tf.io.VarLenFeature(tf.string),\n",
    "    'race': tf.io.VarLenFeature(tf.string),\n",
    "    'disability': tf.io.VarLenFeature(tf.string)\n",
    "}\n",
    "\n",
    "IDENTITY_TERMS = ['gender', 'sexual_orientation', 'race', 'religion', 'disability']"
   ]
  },
  {
   "cell_type": "markdown",
   "metadata": {
    "id": "CeUtnaT49Doq"
   },
   "source": [
    "By default, the notebook downloads a preprocessed version of this dataset, but\n",
    "you may use the original dataset and re-run the processing steps if\n",
    "desired.\n",
    "\n",
    "In the original dataset, each comment is labeled with the percentage\n",
    "of raters who believed that a comment corresponds to a particular\n",
    "identity. For example, a comment might be labeled with the following:\n",
    "`{ male: 0.3, female: 1.0, transgender: 0.0, heterosexual: 0.8,\n",
    "homosexual_gay_or_lesbian: 1.0 }`.\n",
    "\n",
    "The processing step groups identity by category (gender,\n",
    "sexual_orientation, etc.) and removes identities with a score less\n",
    "than 0.5. So the example above would be converted to the following:\n",
    "of raters who believed that a comment corresponds to a particular\n",
    "identity. For example, the comment above would be labeled with the\n",
    "following:\n",
    "`{ gender: [female], sexual_orientation: [heterosexual,\n",
    "homosexual_gay_or_lesbian] }`"
   ]
  },
  {
   "cell_type": "markdown",
   "metadata": {
    "id": "FHxa31VX9eP2"
   },
   "source": [
    "Download the dataset."
   ]
  },
  {
   "cell_type": "code",
   "execution_count": 5,
   "metadata": {
    "execution": {
     "iopub.execute_input": "2022-06-14T09:09:51.874472Z",
     "iopub.status.busy": "2022-06-14T09:09:51.873927Z",
     "iopub.status.idle": "2022-06-14T09:09:58.098664Z",
     "shell.execute_reply": "2022-06-14T09:09:58.098021Z"
    },
    "id": "NUmSmqYGS0n8"
   },
   "outputs": [
    {
     "name": "stdout",
     "output_type": "stream",
     "text": [
      "Downloading data from https://storage.googleapis.com/civil_comments_dataset/train_tf_processed.tfrecord\n"
     ]
    },
    {
     "name": "stdout",
     "output_type": "stream",
     "text": [
      "\r",
      "     8192/488153424 [..............................] - ETA: 0s"
     ]
    },
    {
     "name": "stdout",
     "output_type": "stream",
     "text": [
      "\b\b\b\b\b\b\b\b\b\b\b\b\b\b\b\b\b\b\b\b\b\b\b\b\b\b\b\b\b\b\b\b\b\b\b\b\b\b\b\b\b\b\b\b\b\b\b\b\b\b\b\b\b\b\b\b\b\b\b\b\b\b\r",
      "  4202496/488153424 [..............................] - ETA: 17s"
     ]
    },
    {
     "name": "stdout",
     "output_type": "stream",
     "text": [
      "\b\b\b\b\b\b\b\b\b\b\b\b\b\b\b\b\b\b\b\b\b\b\b\b\b\b\b\b\b\b\b\b\b\b\b\b\b\b\b\b\b\b\b\b\b\b\b\b\b\b\b\b\b\b\b\b\b\b\b\b\b\b\b\r",
      " 19546112/488153424 [>.............................] - ETA: 4s "
     ]
    },
    {
     "name": "stdout",
     "output_type": "stream",
     "text": [
      "\b\b\b\b\b\b\b\b\b\b\b\b\b\b\b\b\b\b\b\b\b\b\b\b\b\b\b\b\b\b\b\b\b\b\b\b\b\b\b\b\b\b\b\b\b\b\b\b\b\b\b\b\b\b\b\b\b\b\b\b\b\b\r",
      " 27615232/488153424 [>.............................] - ETA: 4s"
     ]
    },
    {
     "name": "stdout",
     "output_type": "stream",
     "text": [
      "\b\b\b\b\b\b\b\b\b\b\b\b\b\b\b\b\b\b\b\b\b\b\b\b\b\b\b\b\b\b\b\b\b\b\b\b\b\b\b\b\b\b\b\b\b\b\b\b\b\b\b\b\b\b\b\b\b\b\b\b\b\b\r",
      " 33562624/488153424 [=>............................] - ETA: 4s"
     ]
    },
    {
     "name": "stdout",
     "output_type": "stream",
     "text": [
      "\b\b\b\b\b\b\b\b\b\b\b\b\b\b\b\b\b\b\b\b\b\b\b\b\b\b\b\b\b\b\b\b\b\b\b\b\b\b\b\b\b\b\b\b\b\b\b\b\b\b\b\b\b\b\b\b\b\b\b\b\b\b\r",
      " 50339840/488153424 [==>...........................] - ETA: 5s"
     ]
    },
    {
     "name": "stdout",
     "output_type": "stream",
     "text": [
      "\b\b\b\b\b\b\b\b\b\b\b\b\b\b\b\b\b\b\b\b\b\b\b\b\b\b\b\b\b\b\b\b\b\b\b\b\b\b\b\b\b\b\b\b\b\b\b\b\b\b\b\b\b\b\b\b\b\b\b\b\b\b\r",
      " 58728448/488153424 [==>...........................] - ETA: 6s"
     ]
    },
    {
     "name": "stdout",
     "output_type": "stream",
     "text": [
      "\b\b\b\b\b\b\b\b\b\b\b\b\b\b\b\b\b\b\b\b\b\b\b\b\b\b\b\b\b\b\b\b\b\b\b\b\b\b\b\b\b\b\b\b\b\b\b\b\b\b\b\b\b\b\b\b\b\b\b\b\b\b\r",
      " 77692928/488153424 [===>..........................] - ETA: 4s"
     ]
    },
    {
     "name": "stdout",
     "output_type": "stream",
     "text": [
      "\b\b\b\b\b\b\b\b\b\b\b\b\b\b\b\b\b\b\b\b\b\b\b\b\b\b\b\b\b\b\b\b\b\b\b\b\b\b\b\b\b\b\b\b\b\b\b\b\b\b\b\b\b\b\b\b\b\b\b\b\b\b\r",
      " 92282880/488153424 [====>.........................] - ETA: 4s"
     ]
    },
    {
     "name": "stdout",
     "output_type": "stream",
     "text": [
      "\b\b\b\b\b\b\b\b\b\b\b\b\b\b\b\b\b\b\b\b\b\b\b\b\b\b\b\b\b\b\b\b\b\b\b\b\b\b\b\b\b\b\b\b\b\b\b\b\b\b\b\b\b\b\b\b\b\b\b\b\b\b\r",
      "100671488/488153424 [=====>........................] - ETA: 4s"
     ]
    },
    {
     "name": "stdout",
     "output_type": "stream",
     "text": [
      "\b\b\b\b\b\b\b\b\b\b\b\b\b\b\b\b\b\b\b\b\b\b\b\b\b\b\b\b\b\b\b\b\b\b\b\b\b\b\b\b\b\b\b\b\b\b\b\b\b\b\b\b\b\b\b\b\b\b\b\b\b\b\r",
      "114892800/488153424 [======>.......................] - ETA: 3s"
     ]
    },
    {
     "name": "stdout",
     "output_type": "stream",
     "text": [
      "\b\b\b\b\b\b\b\b\b\b\b\b\b\b\b\b\b\b\b\b\b\b\b\b\b\b\b\b\b\b\b\b\b\b\b\b\b\b\b\b\b\b\b\b\b\b\b\b\b\b\b\b\b\b\b\b\b\b\b\b\b\b\r",
      "134225920/488153424 [=======>......................] - ETA: 3s"
     ]
    },
    {
     "name": "stdout",
     "output_type": "stream",
     "text": [
      "\b\b\b\b\b\b\b\b\b\b\b\b\b\b\b\b\b\b\b\b\b\b\b\b\b\b\b\b\b\b\b\b\b\b\b\b\b\b\b\b\b\b\b\b\b\b\b\b\b\b\b\b\b\b\b\b\b\b\b\b\b\b\r",
      "153272320/488153424 [========>.....................] - ETA: 3s"
     ]
    },
    {
     "name": "stdout",
     "output_type": "stream",
     "text": [
      "\b\b\b\b\b\b\b\b\b\b\b\b\b\b\b\b\b\b\b\b\b\b\b\b\b\b\b\b\b\b\b\b\b\b\b\b\b\b\b\b\b\b\b\b\b\b\b\b\b\b\b\b\b\b\b\b\b\b\b\b\b\b\r",
      "167780352/488153424 [=========>....................] - ETA: 3s"
     ]
    },
    {
     "name": "stdout",
     "output_type": "stream",
     "text": [
      "\b\b\b\b\b\b\b\b\b\b\b\b\b\b\b\b\b\b\b\b\b\b\b\b\b\b\b\b\b\b\b\b\b\b\b\b\b\b\b\b\b\b\b\b\b\b\b\b\b\b\b\b\b\b\b\b\b\b\b\b\b\b\r",
      "186007552/488153424 [==========>...................] - ETA: 2s"
     ]
    },
    {
     "name": "stdout",
     "output_type": "stream",
     "text": [
      "\b\b\b\b\b\b\b\b\b\b\b\b\b\b\b\b\b\b\b\b\b\b\b\b\b\b\b\b\b\b\b\b\b\b\b\b\b\b\b\b\b\b\b\b\b\b\b\b\b\b\b\b\b\b\b\b\b\b\b\b\b\b\r",
      "201334784/488153424 [===========>..................] - ETA: 2s"
     ]
    },
    {
     "name": "stdout",
     "output_type": "stream",
     "text": [
      "\b\b\b\b\b\b\b\b\b\b\b\b\b\b\b\b\b\b\b\b\b\b\b\b\b\b\b\b\b\b\b\b\b\b\b\b\b\b\b\b\b\b\b\b\b\b\b\b\b\b\b\b\b\b\b\b\b\b\b\b\b\b\r",
      "209723392/488153424 [===========>..................] - ETA: 2s"
     ]
    },
    {
     "name": "stdout",
     "output_type": "stream",
     "text": [
      "\b\b\b\b\b\b\b\b\b\b\b\b\b\b\b\b\b\b\b\b\b\b\b\b\b\b\b\b\b\b\b\b\b\b\b\b\b\b\b\b\b\b\b\b\b\b\b\b\b\b\b\b\b\b\b\b\b\b\b\b\b\b\r",
      "218112000/488153424 [============>.................] - ETA: 2s"
     ]
    },
    {
     "name": "stdout",
     "output_type": "stream",
     "text": [
      "\b\b\b\b\b\b\b\b\b\b\b\b\b\b\b\b\b\b\b\b\b\b\b\b\b\b\b\b\b\b\b\b\b\b\b\b\b\b\b\b\b\b\b\b\b\b\b\b\b\b\b\b\b\b\b\b\b\b\b\b\b\b\r",
      "234889216/488153424 [=============>................] - ETA: 2s"
     ]
    },
    {
     "name": "stdout",
     "output_type": "stream",
     "text": [
      "\b\b\b\b\b\b\b\b\b\b\b\b\b\b\b\b\b\b\b\b\b\b\b\b\b\b\b\b\b\b\b\b\b\b\b\b\b\b\b\b\b\b\b\b\b\b\b\b\b\b\b\b\b\b\b\b\b\b\b\b\b\b\r",
      "243277824/488153424 [=============>................] - ETA: 2s"
     ]
    },
    {
     "name": "stdout",
     "output_type": "stream",
     "text": [
      "\b\b\b\b\b\b\b\b\b\b\b\b\b\b\b\b\b\b\b\b\b\b\b\b\b\b\b\b\b\b\b\b\b\b\b\b\b\b\b\b\b\b\b\b\b\b\b\b\b\b\b\b\b\b\b\b\b\b\b\b\b\b\r",
      "251666432/488153424 [==============>...............] - ETA: 2s"
     ]
    },
    {
     "name": "stdout",
     "output_type": "stream",
     "text": [
      "\b\b\b\b\b\b\b\b\b\b\b\b\b\b\b\b\b\b\b\b\b\b\b\b\b\b\b\b\b\b\b\b\b\b\b\b\b\b\b\b\b\b\b\b\b\b\b\b\b\b\b\b\b\b\b\b\b\b\b\b\b\b\r",
      "270622720/488153424 [===============>..............] - ETA: 2s"
     ]
    },
    {
     "name": "stdout",
     "output_type": "stream",
     "text": [
      "\b\b\b\b\b\b\b\b\b\b\b\b\b\b\b\b\b\b\b\b\b\b\b\b\b\b\b\b\b\b\b\b\b\b\b\b\b\b\b\b\b\b\b\b\b\b\b\b\b\b\b\b\b\b\b\b\b\b\b\b\b\b\r",
      "285220864/488153424 [================>.............] - ETA: 1s"
     ]
    },
    {
     "name": "stdout",
     "output_type": "stream",
     "text": [
      "\b\b\b\b\b\b\b\b\b\b\b\b\b\b\b\b\b\b\b\b\b\b\b\b\b\b\b\b\b\b\b\b\b\b\b\b\b\b\b\b\b\b\b\b\b\b\b\b\b\b\b\b\b\b\b\b\b\b\b\b\b\b\r",
      "293609472/488153424 [=================>............] - ETA: 1s"
     ]
    },
    {
     "name": "stdout",
     "output_type": "stream",
     "text": [
      "\b\b\b\b\b\b\b\b\b\b\b\b\b\b\b\b\b\b\b\b\b\b\b\b\b\b\b\b\b\b\b\b\b\b\b\b\b\b\b\b\b\b\b\b\b\b\b\b\b\b\b\b\b\b\b\b\b\b\b\b\b\b\r",
      "308879360/488153424 [=================>............] - ETA: 1s"
     ]
    },
    {
     "name": "stdout",
     "output_type": "stream",
     "text": [
      "\b\b\b\b\b\b\b\b\b\b\b\b\b\b\b\b\b\b\b\b\b\b\b\b\b\b\b\b\b\b\b\b\b\b\b\b\b\b\b\b\b\b\b\b\b\b\b\b\b\b\b\b\b\b\b\b\b\b\b\b\b\b\r",
      "318775296/488153424 [==================>...........] - ETA: 1s"
     ]
    },
    {
     "name": "stdout",
     "output_type": "stream",
     "text": [
      "\b\b\b\b\b\b\b\b\b\b\b\b\b\b\b\b\b\b\b\b\b\b\b\b\b\b\b\b\b\b\b\b\b\b\b\b\b\b\b\b\b\b\b\b\b\b\b\b\b\b\b\b\b\b\b\b\b\b\b\b\b\b\r",
      "327163904/488153424 [===================>..........] - ETA: 1s"
     ]
    },
    {
     "name": "stdout",
     "output_type": "stream",
     "text": [
      "\b\b\b\b\b\b\b\b\b\b\b\b\b\b\b\b\b\b\b\b\b\b\b\b\b\b\b\b\b\b\b\b\b\b\b\b\b\b\b\b\b\b\b\b\b\b\b\b\b\b\b\b\b\b\b\b\b\b\b\b\b\b\r",
      "339337216/488153424 [===================>..........] - ETA: 1s"
     ]
    },
    {
     "name": "stdout",
     "output_type": "stream",
     "text": [
      "\b\b\b\b\b\b\b\b\b\b\b\b\b\b\b\b\b\b\b\b\b\b\b\b\b\b\b\b\b\b\b\b\b\b\b\b\b\b\b\b\b\b\b\b\b\b\b\b\b\b\b\b\b\b\b\b\b\b\b\b\b\b\r",
      "352329728/488153424 [====================>.........] - ETA: 1s"
     ]
    },
    {
     "name": "stdout",
     "output_type": "stream",
     "text": [
      "\b\b\b\b\b\b\b\b\b\b\b\b\b\b\b\b\b\b\b\b\b\b\b\b\b\b\b\b\b\b\b\b\b\b\b\b\b\b\b\b\b\b\b\b\b\b\b\b\b\b\b\b\b\b\b\b\b\b\b\b\b\b\r",
      "368992256/488153424 [=====================>........] - ETA: 0s"
     ]
    },
    {
     "name": "stdout",
     "output_type": "stream",
     "text": [
      "\b\b\b\b\b\b\b\b\b\b\b\b\b\b\b\b\b\b\b\b\b\b\b\b\b\b\b\b\b\b\b\b\b\b\b\b\b\b\b\b\b\b\b\b\b\b\b\b\b\b\b\b\b\b\b\b\b\b\b\b\b\b\r",
      "369106944/488153424 [=====================>........] - ETA: 1s"
     ]
    },
    {
     "name": "stdout",
     "output_type": "stream",
     "text": [
      "\b\b\b\b\b\b\b\b\b\b\b\b\b\b\b\b\b\b\b\b\b\b\b\b\b\b\b\b\b\b\b\b\b\b\b\b\b\b\b\b\b\b\b\b\b\b\b\b\b\b\b\b\b\b\b\b\b\b\b\b\b\b\r",
      "385556480/488153424 [======================>.......] - ETA: 0s"
     ]
    },
    {
     "name": "stdout",
     "output_type": "stream",
     "text": [
      "\b\b\b\b\b\b\b\b\b\b\b\b\b\b\b\b\b\b\b\b\b\b\b\b\b\b\b\b\b\b\b\b\b\b\b\b\b\b\b\b\b\b\b\b\b\b\b\b\b\b\b\b\b\b\b\b\b\b\b\b\b\b\r",
      "402661376/488153424 [=======================>......] - ETA: 0s"
     ]
    },
    {
     "name": "stdout",
     "output_type": "stream",
     "text": [
      "\b\b\b\b\b\b\b\b\b\b\b\b\b\b\b\b\b\b\b\b\b\b\b\b\b\b\b\b\b\b\b\b\b\b\b\b\b\b\b\b\b\b\b\b\b\b\b\b\b\b\b\b\b\b\b\b\b\b\b\b\b\b\r",
      "411049984/488153424 [========================>.....] - ETA: 0s"
     ]
    },
    {
     "name": "stdout",
     "output_type": "stream",
     "text": [
      "\b\b\b\b\b\b\b\b\b\b\b\b\b\b\b\b\b\b\b\b\b\b\b\b\b\b\b\b\b\b\b\b\b\b\b\b\b\b\b\b\b\b\b\b\b\b\b\b\b\b\b\b\b\b\b\b\b\b\b\b\b\b\r",
      "427827200/488153424 [=========================>....] - ETA: 0s"
     ]
    },
    {
     "name": "stdout",
     "output_type": "stream",
     "text": [
      "\b\b\b\b\b\b\b\b\b\b\b\b\b\b\b\b\b\b\b\b\b\b\b\b\b\b\b\b\b\b\b\b\b\b\b\b\b\b\b\b\b\b\b\b\b\b\b\b\b\b\b\b\b\b\b\b\b\b\b\b\b\b\r",
      "444604416/488153424 [==========================>...] - ETA: 0s"
     ]
    },
    {
     "name": "stdout",
     "output_type": "stream",
     "text": [
      "\b\b\b\b\b\b\b\b\b\b\b\b\b\b\b\b\b\b\b\b\b\b\b\b\b\b\b\b\b\b\b\b\b\b\b\b\b\b\b\b\b\b\b\b\b\b\b\b\b\b\b\b\b\b\b\b\b\b\b\b\b\b\r",
      "455450624/488153424 [==========================>...] - ETA: 0s"
     ]
    },
    {
     "name": "stdout",
     "output_type": "stream",
     "text": [
      "\b\b\b\b\b\b\b\b\b\b\b\b\b\b\b\b\b\b\b\b\b\b\b\b\b\b\b\b\b\b\b\b\b\b\b\b\b\b\b\b\b\b\b\b\b\b\b\b\b\b\b\b\b\b\b\b\b\b\b\b\b\b\r",
      "463953920/488153424 [===========================>..] - ETA: 0s"
     ]
    },
    {
     "name": "stdout",
     "output_type": "stream",
     "text": [
      "\b\b\b\b\b\b\b\b\b\b\b\b\b\b\b\b\b\b\b\b\b\b\b\b\b\b\b\b\b\b\b\b\b\b\b\b\b\b\b\b\b\b\b\b\b\b\b\b\b\b\b\b\b\b\b\b\b\b\b\b\b\b\r",
      "470933504/488153424 [===========================>..] - ETA: 0s"
     ]
    },
    {
     "name": "stdout",
     "output_type": "stream",
     "text": [
      "\b\b\b\b\b\b\b\b\b\b\b\b\b\b\b\b\b\b\b\b\b\b\b\b\b\b\b\b\b\b\b\b\b\b\b\b\b\b\b\b\b\b\b\b\b\b\b\b\b\b\b\b\b\b\b\b\b\b\b\b\b\b\r",
      "488153424/488153424 [==============================] - 4s 0us/step\n"
     ]
    },
    {
     "name": "stdout",
     "output_type": "stream",
     "text": [
      "Downloading data from https://storage.googleapis.com/civil_comments_dataset/validate_tf_processed.tfrecord\n"
     ]
    },
    {
     "name": "stdout",
     "output_type": "stream",
     "text": [
      "\r",
      "     8192/324941336 [..............................] - ETA: 0s"
     ]
    },
    {
     "name": "stdout",
     "output_type": "stream",
     "text": [
      "\b\b\b\b\b\b\b\b\b\b\b\b\b\b\b\b\b\b\b\b\b\b\b\b\b\b\b\b\b\b\b\b\b\b\b\b\b\b\b\b\b\b\b\b\b\b\b\b\b\b\b\b\b\b\b\b\b\b\b\b\b\b\r",
      "  4202496/324941336 [..............................] - ETA: 25s"
     ]
    },
    {
     "name": "stdout",
     "output_type": "stream",
     "text": [
      "\b\b\b\b\b\b\b\b\b\b\b\b\b\b\b\b\b\b\b\b\b\b\b\b\b\b\b\b\b\b\b\b\b\b\b\b\b\b\b\b\b\b\b\b\b\b\b\b\b\b\b\b\b\b\b\b\b\b\b\b\b\b\b\r",
      " 18784256/324941336 [>.............................] - ETA: 6s "
     ]
    },
    {
     "name": "stdout",
     "output_type": "stream",
     "text": [
      "\b\b\b\b\b\b\b\b\b\b\b\b\b\b\b\b\b\b\b\b\b\b\b\b\b\b\b\b\b\b\b\b\b\b\b\b\b\b\b\b\b\b\b\b\b\b\b\b\b\b\b\b\b\b\b\b\b\b\b\b\b\b\r",
      " 33562624/324941336 [==>...........................] - ETA: 3s"
     ]
    },
    {
     "name": "stdout",
     "output_type": "stream",
     "text": [
      "\b\b\b\b\b\b\b\b\b\b\b\b\b\b\b\b\b\b\b\b\b\b\b\b\b\b\b\b\b\b\b\b\b\b\b\b\b\b\b\b\b\b\b\b\b\b\b\b\b\b\b\b\b\b\b\b\b\b\b\b\b\b\r",
      " 43212800/324941336 [==>...........................] - ETA: 3s"
     ]
    },
    {
     "name": "stdout",
     "output_type": "stream",
     "text": [
      "\b\b\b\b\b\b\b\b\b\b\b\b\b\b\b\b\b\b\b\b\b\b\b\b\b\b\b\b\b\b\b\b\b\b\b\b\b\b\b\b\b\b\b\b\b\b\b\b\b\b\b\b\b\b\b\b\b\b\b\b\b\b\r",
      " 58728448/324941336 [====>.........................] - ETA: 3s"
     ]
    },
    {
     "name": "stdout",
     "output_type": "stream",
     "text": [
      "\b\b\b\b\b\b\b\b\b\b\b\b\b\b\b\b\b\b\b\b\b\b\b\b\b\b\b\b\b\b\b\b\b\b\b\b\b\b\b\b\b\b\b\b\b\b\b\b\b\b\b\b\b\b\b\b\b\b\b\b\b\b\r",
      " 77242368/324941336 [======>.......................] - ETA: 2s"
     ]
    },
    {
     "name": "stdout",
     "output_type": "stream",
     "text": [
      "\b\b\b\b\b\b\b\b\b\b\b\b\b\b\b\b\b\b\b\b\b\b\b\b\b\b\b\b\b\b\b\b\b\b\b\b\b\b\b\b\b\b\b\b\b\b\b\b\b\b\b\b\b\b\b\b\b\b\b\b\b\b\r",
      " 92282880/324941336 [=======>......................] - ETA: 2s"
     ]
    },
    {
     "name": "stdout",
     "output_type": "stream",
     "text": [
      "\b\b\b\b\b\b\b\b\b\b\b\b\b\b\b\b\b\b\b\b\b\b\b\b\b\b\b\b\b\b\b\b\b\b\b\b\b\b\b\b\b\b\b\b\b\b\b\b\b\b\b\b\b\b\b\b\b\b\b\b\b\b\r",
      "109060096/324941336 [=========>....................] - ETA: 1s"
     ]
    },
    {
     "name": "stdout",
     "output_type": "stream",
     "text": [
      "\b\b\b\b\b\b\b\b\b\b\b\b\b\b\b\b\b\b\b\b\b\b\b\b\b\b\b\b\b\b\b\b\b\b\b\b\b\b\b\b\b\b\b\b\b\b\b\b\b\b\b\b\b\b\b\b\b\b\b\b\b\b\r",
      "123011072/324941336 [==========>...................] - ETA: 1s"
     ]
    },
    {
     "name": "stdout",
     "output_type": "stream",
     "text": [
      "\b\b\b\b\b\b\b\b\b\b\b\b\b\b\b\b\b\b\b\b\b\b\b\b\b\b\b\b\b\b\b\b\b\b\b\b\b\b\b\b\b\b\b\b\b\b\b\b\b\b\b\b\b\b\b\b\b\b\b\b\b\b\r",
      "131751936/324941336 [===========>..................] - ETA: 1s"
     ]
    },
    {
     "name": "stdout",
     "output_type": "stream",
     "text": [
      "\b\b\b\b\b\b\b\b\b\b\b\b\b\b\b\b\b\b\b\b\b\b\b\b\b\b\b\b\b\b\b\b\b\b\b\b\b\b\b\b\b\b\b\b\b\b\b\b\b\b\b\b\b\b\b\b\b\b\b\b\b\b\r",
      "136896512/324941336 [===========>..................] - ETA: 1s"
     ]
    },
    {
     "name": "stdout",
     "output_type": "stream",
     "text": [
      "\b\b\b\b\b\b\b\b\b\b\b\b\b\b\b\b\b\b\b\b\b\b\b\b\b\b\b\b\b\b\b\b\b\b\b\b\b\b\b\b\b\b\b\b\b\b\b\b\b\b\b\b\b\b\b\b\b\b\b\b\b\b\r",
      "157343744/324941336 [=============>................] - ETA: 1s"
     ]
    },
    {
     "name": "stdout",
     "output_type": "stream",
     "text": [
      "\b\b\b\b\b\b\b\b\b\b\b\b\b\b\b\b\b\b\b\b\b\b\b\b\b\b\b\b\b\b\b\b\b\b\b\b\b\b\b\b\b\b\b\b\b\b\b\b\b\b\b\b\b\b\b\b\b\b\b\b\b\b\r",
      "167780352/324941336 [==============>...............] - ETA: 1s"
     ]
    },
    {
     "name": "stdout",
     "output_type": "stream",
     "text": [
      "\b\b\b\b\b\b\b\b\b\b\b\b\b\b\b\b\b\b\b\b\b\b\b\b\b\b\b\b\b\b\b\b\b\b\b\b\b\b\b\b\b\b\b\b\b\b\b\b\b\b\b\b\b\b\b\b\b\b\b\b\b\b\r",
      "182116352/324941336 [===============>..............] - ETA: 0s"
     ]
    },
    {
     "name": "stdout",
     "output_type": "stream",
     "text": [
      "\b\b\b\b\b\b\b\b\b\b\b\b\b\b\b\b\b\b\b\b\b\b\b\b\b\b\b\b\b\b\b\b\b\b\b\b\b\b\b\b\b\b\b\b\b\b\b\b\b\b\b\b\b\b\b\b\b\b\b\b\b\b\r",
      "198320128/324941336 [=================>............] - ETA: 0s"
     ]
    },
    {
     "name": "stdout",
     "output_type": "stream",
     "text": [
      "\b\b\b\b\b\b\b\b\b\b\b\b\b\b\b\b\b\b\b\b\b\b\b\b\b\b\b\b\b\b\b\b\b\b\b\b\b\b\b\b\b\b\b\b\b\b\b\b\b\b\b\b\b\b\b\b\b\b\b\b\b\b\r",
      "209723392/324941336 [==================>...........] - ETA: 0s"
     ]
    },
    {
     "name": "stdout",
     "output_type": "stream",
     "text": [
      "\b\b\b\b\b\b\b\b\b\b\b\b\b\b\b\b\b\b\b\b\b\b\b\b\b\b\b\b\b\b\b\b\b\b\b\b\b\b\b\b\b\b\b\b\b\b\b\b\b\b\b\b\b\b\b\b\b\b\b\b\b\b\r",
      "229203968/324941336 [====================>.........] - ETA: 0s"
     ]
    },
    {
     "name": "stdout",
     "output_type": "stream",
     "text": [
      "\b\b\b\b\b\b\b\b\b\b\b\b\b\b\b\b\b\b\b\b\b\b\b\b\b\b\b\b\b\b\b\b\b\b\b\b\b\b\b\b\b\b\b\b\b\b\b\b\b\b\b\b\b\b\b\b\b\b\b\b\b\b\r",
      "243277824/324941336 [=====================>........] - ETA: 0s"
     ]
    },
    {
     "name": "stdout",
     "output_type": "stream",
     "text": [
      "\b\b\b\b\b\b\b\b\b\b\b\b\b\b\b\b\b\b\b\b\b\b\b\b\b\b\b\b\b\b\b\b\b\b\b\b\b\b\b\b\b\b\b\b\b\b\b\b\b\b\b\b\b\b\b\b\b\b\b\b\b\b\r",
      "258662400/324941336 [======================>.......] - ETA: 0s"
     ]
    },
    {
     "name": "stdout",
     "output_type": "stream",
     "text": [
      "\b\b\b\b\b\b\b\b\b\b\b\b\b\b\b\b\b\b\b\b\b\b\b\b\b\b\b\b\b\b\b\b\b\b\b\b\b\b\b\b\b\b\b\b\b\b\b\b\b\b\b\b\b\b\b\b\b\b\b\b\b\b\r",
      "260055040/324941336 [=======================>......] - ETA: 0s"
     ]
    },
    {
     "name": "stdout",
     "output_type": "stream",
     "text": [
      "\b\b\b\b\b\b\b\b\b\b\b\b\b\b\b\b\b\b\b\b\b\b\b\b\b\b\b\b\b\b\b\b\b\b\b\b\b\b\b\b\b\b\b\b\b\b\b\b\b\b\b\b\b\b\b\b\b\b\b\b\b\b\r",
      "279003136/324941336 [========================>.....] - ETA: 0s"
     ]
    },
    {
     "name": "stdout",
     "output_type": "stream",
     "text": [
      "\b\b\b\b\b\b\b\b\b\b\b\b\b\b\b\b\b\b\b\b\b\b\b\b\b\b\b\b\b\b\b\b\b\b\b\b\b\b\b\b\b\b\b\b\b\b\b\b\b\b\b\b\b\b\b\b\b\b\b\b\b\b\r",
      "293609472/324941336 [==========================>...] - ETA: 0s"
     ]
    },
    {
     "name": "stdout",
     "output_type": "stream",
     "text": [
      "\b\b\b\b\b\b\b\b\b\b\b\b\b\b\b\b\b\b\b\b\b\b\b\b\b\b\b\b\b\b\b\b\b\b\b\b\b\b\b\b\b\b\b\b\b\b\b\b\b\b\b\b\b\b\b\b\b\b\b\b\b\b\r",
      "301998080/324941336 [==========================>...] - ETA: 0s"
     ]
    },
    {
     "name": "stdout",
     "output_type": "stream",
     "text": [
      "\b\b\b\b\b\b\b\b\b\b\b\b\b\b\b\b\b\b\b\b\b\b\b\b\b\b\b\b\b\b\b\b\b\b\b\b\b\b\b\b\b\b\b\b\b\b\b\b\b\b\b\b\b\b\b\b\b\b\b\b\b\b\r",
      "310386688/324941336 [===========================>..] - ETA: 0s"
     ]
    },
    {
     "name": "stdout",
     "output_type": "stream",
     "text": [
      "\b\b\b\b\b\b\b\b\b\b\b\b\b\b\b\b\b\b\b\b\b\b\b\b\b\b\b\b\b\b\b\b\b\b\b\b\b\b\b\b\b\b\b\b\b\b\b\b\b\b\b\b\b\b\b\b\b\b\b\b\b\b\r",
      "324941336/324941336 [==============================] - 2s 0us/step\n"
     ]
    }
   ],
   "source": [
    "download_original_data = False #@param {type:\"boolean\"}\n",
    "\n",
    "if download_original_data:\n",
    "  train_tf_file = tf.keras.utils.get_file('train_tf.tfrecord',\n",
    "                                          'https://storage.googleapis.com/civil_comments_dataset/train_tf.tfrecord')\n",
    "  validate_tf_file = tf.keras.utils.get_file('validate_tf.tfrecord',\n",
    "                                             'https://storage.googleapis.com/civil_comments_dataset/validate_tf.tfrecord')\n",
    "\n",
    "  # The identity terms list will be grouped together by their categories\n",
    "  # (see 'IDENTITY_COLUMNS') on threshold 0.5. Only the identity term column,\n",
    "  # text column and label column will be kept after processing.\n",
    "  train_tf_file = util.convert_comments_data(train_tf_file)\n",
    "  validate_tf_file = util.convert_comments_data(validate_tf_file)\n",
    "\n",
    "else:\n",
    "  train_tf_file = tf.keras.utils.get_file('train_tf_processed.tfrecord',\n",
    "                                          'https://storage.googleapis.com/civil_comments_dataset/train_tf_processed.tfrecord')\n",
    "  validate_tf_file = tf.keras.utils.get_file('validate_tf_processed.tfrecord',\n",
    "                                             'https://storage.googleapis.com/civil_comments_dataset/validate_tf_processed.tfrecord')"
   ]
  },
  {
   "cell_type": "markdown",
   "metadata": {
    "id": "zz1NLR5Uu3oQ"
   },
   "source": [
    "## Create a TensorFlow Model Analysis Pipeline\n",
    "\n",
    "The Fairness Indicators library operates on [TensorFlow Model Analysis (TFMA) models](https://www.tensorflow.org/tfx/model_analysis/get_started). TFMA models wrap TensorFlow models with additional functionality to evaluate and visualize their results. The actual evaluation occurs inside of an [Apache Beam pipeline](https://beam.apache.org/documentation/programming-guide/).\n",
    "\n",
    "The steps you follow to create a TFMA pipeline are:\n",
    "1. Build a TensorFlow model\n",
    "2. Build a TFMA model on top of the TensorFlow model\n",
    "3. Run the model analysis in an orchestrator. The example model in this notebook uses Apache Beam as the orchestrator."
   ]
  },
  {
   "cell_type": "code",
   "execution_count": 6,
   "metadata": {
    "execution": {
     "iopub.execute_input": "2022-06-14T09:09:58.102485Z",
     "iopub.status.busy": "2022-06-14T09:09:58.101919Z",
     "iopub.status.idle": "2022-06-14T09:09:58.106673Z",
     "shell.execute_reply": "2022-06-14T09:09:58.106133Z"
    },
    "id": "7nSvu4IUCigW"
   },
   "outputs": [],
   "source": [
    "def embedding_fairness_result(embedding, identity_term='gender'):\n",
    "  \n",
    "  model_dir = os.path.join(BASE_DIR, 'train',\n",
    "                         datetime.now().strftime('%Y%m%d-%H%M%S'))\n",
    "\n",
    "  print(\"Training classifier for \" + embedding)\n",
    "  classifier = example_model.train_model(model_dir,\n",
    "                                         train_tf_file,\n",
    "                                         LABEL,\n",
    "                                         TEXT_FEATURE,\n",
    "                                         FEATURE_MAP,\n",
    "                                         embedding)\n",
    "\n",
    "  # Create a unique path to store the results for this embedding.\n",
    "  embedding_name = embedding.split('/')[-2]\n",
    "  eval_result_path = os.path.join(BASE_DIR, 'eval_result', embedding_name)\n",
    "\n",
    "  example_model.evaluate_model(classifier,\n",
    "                               validate_tf_file,\n",
    "                               eval_result_path,\n",
    "                               identity_term,\n",
    "                               LABEL,\n",
    "                               FEATURE_MAP)\n",
    "  return tfma.load_eval_result(output_path=eval_result_path)"
   ]
  },
  {
   "cell_type": "markdown",
   "metadata": {
    "id": "jTPqije9Eg5b"
   },
   "source": [
    "## Run TFMA & Fairness Indicators"
   ]
  },
  {
   "cell_type": "markdown",
   "metadata": {
    "id": "8AvInTNt8Gyn"
   },
   "source": [
    "### Fairness Indicators Metrics\n",
    "\n",
    "Some of the metrics available with Fairness Indicators are:\n",
    "\n",
    "* [Negative Rate, False Negative Rate (FNR), and True Negative Rate (TNR)](https://en.wikipedia.org/wiki/False_positives_and_false_negatives#False_positive_and_false_negative_rates)\n",
    "* [Positive Rate, False Positive Rate (FPR), and True Positive Rate (TPR)](https://en.wikipedia.org/wiki/False_positives_and_false_negatives#False_positive_and_false_negative_rates)\n",
    "* [Accuracy](https://www.tensorflow.org/api_docs/python/tf/keras/metrics/Accuracy)\n",
    "* [Precision and Recall](https://en.wikipedia.org/wiki/Precision_and_recall)\n",
    "* [Precision-Recall AUC](https://www.tensorflow.org/api_docs/python/tf/keras/metrics/AUC)\n",
    "* [ROC AUC](https://en.wikipedia.org/wiki/Receiver_operating_characteristic#Area_under_the_curve)"
   ]
  },
  {
   "cell_type": "markdown",
   "metadata": {
    "id": "LGXCFtScblYt"
   },
   "source": [
    "### Text Embeddings"
   ]
  },
  {
   "cell_type": "markdown",
   "metadata": {
    "id": "1CI-1M5qXGjG"
   },
   "source": [
    "**[TF-Hub](https://www.tensorflow.org/hub)** provides several **text embeddings**. These embeddings will serve as the feature column for the different models. This tutorial uses the following embeddings:\n",
    "\n",
    "* [**random-nnlm-en-dim128**](https://tfhub.dev/google/random-nnlm-en-dim128/1): random text embeddings, this serves as a convenient baseline.\n",
    "* [**nnlm-en-dim128**](https://tfhub.dev/google/nnlm-en-dim128/1): a text embedding based on [A Neural Probabilistic Language Model](http://www.jmlr.org/papers/volume3/bengio03a/bengio03a.pdf). \n",
    "* [**universal-sentence-encoder**](https://tfhub.dev/google/universal-sentence-encoder/2): a text embedding based on [Universal Sentence Encoder](https://arxiv.org/pdf/1803.11175.pdf)."
   ]
  },
  {
   "cell_type": "markdown",
   "metadata": {
    "id": "xxq97Qt7itVL"
   },
   "source": [
    "## Fairness Indicator Results"
   ]
  },
  {
   "cell_type": "markdown",
   "metadata": {
    "id": "27FX15awixuK"
   },
   "source": [
    "Compute fairness indicators with the `embedding_fairness_result` pipeline, and then render the results in the Fairness Indicator UI widget with `widget_view.render_fairness_indicator` for all the above embeddings.\n",
    "\n",
    "Note: You may need to run the `widget_view.render_fairness_indicator` cells twice for the visualization to be displayed."
   ]
  },
  {
   "cell_type": "markdown",
   "metadata": {
    "id": "yEUbZ93y8NCW"
   },
   "source": [
    "#### Random NNLM"
   ]
  },
  {
   "cell_type": "code",
   "execution_count": 7,
   "metadata": {
    "execution": {
     "iopub.execute_input": "2022-06-14T09:09:58.110240Z",
     "iopub.status.busy": "2022-06-14T09:09:58.109675Z",
     "iopub.status.idle": "2022-06-14T09:12:13.430575Z",
     "shell.execute_reply": "2022-06-14T09:12:13.429957Z"
    },
    "id": "DkSuox-Pb6Pz"
   },
   "outputs": [
    {
     "name": "stdout",
     "output_type": "stream",
     "text": [
      "Training classifier for https://tfhub.dev/google/random-nnlm-en-dim128/1\n"
     ]
    },
    {
     "name": "stdout",
     "output_type": "stream",
     "text": [
      "INFO:tensorflow:Using default config.\n"
     ]
    },
    {
     "name": "stderr",
     "output_type": "stream",
     "text": [
      "INFO:tensorflow:Using default config.\n"
     ]
    },
    {
     "name": "stdout",
     "output_type": "stream",
     "text": [
      "INFO:tensorflow:Using config: {'_model_dir': '/tmpfs/tmp/train/20220614-090958', '_tf_random_seed': None, '_save_summary_steps': 100, '_save_checkpoints_steps': None, '_save_checkpoints_secs': 600, '_session_config': allow_soft_placement: true\n",
      "graph_options {\n",
      "  rewrite_options {\n",
      "    meta_optimizer_iterations: ONE\n",
      "  }\n",
      "}\n",
      ", '_keep_checkpoint_max': 5, '_keep_checkpoint_every_n_hours': 10000, '_log_step_count_steps': 100, '_train_distribute': None, '_device_fn': None, '_protocol': None, '_eval_distribute': None, '_experimental_distribute': None, '_experimental_max_worker_delay_secs': None, '_session_creation_timeout_secs': 7200, '_checkpoint_save_graph_def': True, '_service': None, '_cluster_spec': ClusterSpec({}), '_task_type': 'worker', '_task_id': 0, '_global_id_in_cluster': 0, '_master': '', '_evaluation_master': '', '_is_chief': True, '_num_ps_replicas': 0, '_num_worker_replicas': 1}\n"
     ]
    },
    {
     "name": "stderr",
     "output_type": "stream",
     "text": [
      "INFO:tensorflow:Using config: {'_model_dir': '/tmpfs/tmp/train/20220614-090958', '_tf_random_seed': None, '_save_summary_steps': 100, '_save_checkpoints_steps': None, '_save_checkpoints_secs': 600, '_session_config': allow_soft_placement: true\n",
      "graph_options {\n",
      "  rewrite_options {\n",
      "    meta_optimizer_iterations: ONE\n",
      "  }\n",
      "}\n",
      ", '_keep_checkpoint_max': 5, '_keep_checkpoint_every_n_hours': 10000, '_log_step_count_steps': 100, '_train_distribute': None, '_device_fn': None, '_protocol': None, '_eval_distribute': None, '_experimental_distribute': None, '_experimental_max_worker_delay_secs': None, '_session_creation_timeout_secs': 7200, '_checkpoint_save_graph_def': True, '_service': None, '_cluster_spec': ClusterSpec({}), '_task_type': 'worker', '_task_id': 0, '_global_id_in_cluster': 0, '_master': '', '_evaluation_master': '', '_is_chief': True, '_num_ps_replicas': 0, '_num_worker_replicas': 1}\n"
     ]
    },
    {
     "name": "stdout",
     "output_type": "stream",
     "text": [
      "WARNING:tensorflow:From /home/kbuilder/.local/lib/python3.8/site-packages/tensorflow/python/training/training_util.py:396: Variable.initialized_value (from tensorflow.python.ops.variables) is deprecated and will be removed in a future version.\n",
      "Instructions for updating:\n",
      "Use Variable.read_value. Variables in 2.X are initialized automatically both in eager and graph (inside tf.defun) contexts.\n"
     ]
    },
    {
     "name": "stderr",
     "output_type": "stream",
     "text": [
      "WARNING:tensorflow:From /home/kbuilder/.local/lib/python3.8/site-packages/tensorflow/python/training/training_util.py:396: Variable.initialized_value (from tensorflow.python.ops.variables) is deprecated and will be removed in a future version.\n",
      "Instructions for updating:\n",
      "Use Variable.read_value. Variables in 2.X are initialized automatically both in eager and graph (inside tf.defun) contexts.\n"
     ]
    },
    {
     "name": "stdout",
     "output_type": "stream",
     "text": [
      "INFO:tensorflow:Calling model_fn.\n"
     ]
    },
    {
     "name": "stderr",
     "output_type": "stream",
     "text": [
      "INFO:tensorflow:Calling model_fn.\n"
     ]
    },
    {
     "name": "stdout",
     "output_type": "stream",
     "text": [
      "INFO:tensorflow:Saver not created because there are no variables in the graph to restore\n"
     ]
    },
    {
     "name": "stderr",
     "output_type": "stream",
     "text": [
      "2022-06-14 09:10:02.621978: W tensorflow/core/common_runtime/graph_constructor.cc:1526] Importing a graph with a lower producer version 26 into an existing graph with producer version 1087. Shape inference will have run different parts of the graph with different producer versions.\n",
      "INFO:tensorflow:Saver not created because there are no variables in the graph to restore\n"
     ]
    },
    {
     "name": "stdout",
     "output_type": "stream",
     "text": [
      "INFO:tensorflow:Saver not created because there are no variables in the graph to restore\n"
     ]
    },
    {
     "name": "stderr",
     "output_type": "stream",
     "text": [
      "INFO:tensorflow:Saver not created because there are no variables in the graph to restore\n"
     ]
    },
    {
     "name": "stdout",
     "output_type": "stream",
     "text": [
      "WARNING:tensorflow:From /home/kbuilder/.local/lib/python3.8/site-packages/tensorflow_estimator/python/estimator/canned/head.py:399: NumericColumn._get_dense_tensor (from tensorflow.python.feature_column.feature_column_v2) is deprecated and will be removed in a future version.\n",
      "Instructions for updating:\n",
      "The old _FeatureColumn APIs are being deprecated. Please use the new FeatureColumn APIs instead.\n"
     ]
    },
    {
     "name": "stderr",
     "output_type": "stream",
     "text": [
      "WARNING:tensorflow:From /home/kbuilder/.local/lib/python3.8/site-packages/tensorflow_estimator/python/estimator/canned/head.py:399: NumericColumn._get_dense_tensor (from tensorflow.python.feature_column.feature_column_v2) is deprecated and will be removed in a future version.\n",
      "Instructions for updating:\n",
      "The old _FeatureColumn APIs are being deprecated. Please use the new FeatureColumn APIs instead.\n"
     ]
    },
    {
     "name": "stdout",
     "output_type": "stream",
     "text": [
      "WARNING:tensorflow:From /home/kbuilder/.local/lib/python3.8/site-packages/tensorflow/python/feature_column/feature_column.py:2188: NumericColumn._transform_feature (from tensorflow.python.feature_column.feature_column_v2) is deprecated and will be removed in a future version.\n",
      "Instructions for updating:\n",
      "The old _FeatureColumn APIs are being deprecated. Please use the new FeatureColumn APIs instead.\n"
     ]
    },
    {
     "name": "stderr",
     "output_type": "stream",
     "text": [
      "WARNING:tensorflow:From /home/kbuilder/.local/lib/python3.8/site-packages/tensorflow/python/feature_column/feature_column.py:2188: NumericColumn._transform_feature (from tensorflow.python.feature_column.feature_column_v2) is deprecated and will be removed in a future version.\n",
      "Instructions for updating:\n",
      "The old _FeatureColumn APIs are being deprecated. Please use the new FeatureColumn APIs instead.\n"
     ]
    },
    {
     "name": "stdout",
     "output_type": "stream",
     "text": [
      "WARNING:tensorflow:From /home/kbuilder/.local/lib/python3.8/site-packages/tensorflow/python/training/adagrad.py:138: calling Constant.__init__ (from tensorflow.python.ops.init_ops) with dtype is deprecated and will be removed in a future version.\n",
      "Instructions for updating:\n",
      "Call initializer instance with the dtype argument instead of passing it to the constructor\n"
     ]
    },
    {
     "name": "stderr",
     "output_type": "stream",
     "text": [
      "WARNING:tensorflow:From /home/kbuilder/.local/lib/python3.8/site-packages/tensorflow/python/training/adagrad.py:138: calling Constant.__init__ (from tensorflow.python.ops.init_ops) with dtype is deprecated and will be removed in a future version.\n",
      "Instructions for updating:\n",
      "Call initializer instance with the dtype argument instead of passing it to the constructor\n"
     ]
    },
    {
     "name": "stdout",
     "output_type": "stream",
     "text": [
      "INFO:tensorflow:Done calling model_fn.\n"
     ]
    },
    {
     "name": "stderr",
     "output_type": "stream",
     "text": [
      "INFO:tensorflow:Done calling model_fn.\n"
     ]
    },
    {
     "name": "stdout",
     "output_type": "stream",
     "text": [
      "INFO:tensorflow:Create CheckpointSaverHook.\n"
     ]
    },
    {
     "name": "stderr",
     "output_type": "stream",
     "text": [
      "INFO:tensorflow:Create CheckpointSaverHook.\n"
     ]
    },
    {
     "name": "stdout",
     "output_type": "stream",
     "text": [
      "INFO:tensorflow:Graph was finalized.\n"
     ]
    },
    {
     "name": "stderr",
     "output_type": "stream",
     "text": [
      "INFO:tensorflow:Graph was finalized.\n"
     ]
    },
    {
     "name": "stderr",
     "output_type": "stream",
     "text": [
      "2022-06-14 09:10:05.658333: W tensorflow/core/common_runtime/forward_type_inference.cc:231] Type inference failed. This indicates an invalid graph that escaped type checking. Error message: INVALID_ARGUMENT: expected compatible input types, but input 1:\n",
      "type_id: TFT_OPTIONAL\n",
      "args {\n",
      "  type_id: TFT_PRODUCT\n",
      "  args {\n",
      "    type_id: TFT_TENSOR\n",
      "    args {\n",
      "      type_id: TFT_INT64\n",
      "    }\n",
      "  }\n",
      "}\n",
      " is neither a subtype nor a supertype of the combined inputs preceding it:\n",
      "type_id: TFT_OPTIONAL\n",
      "args {\n",
      "  type_id: TFT_PRODUCT\n",
      "  args {\n",
      "    type_id: TFT_TENSOR\n",
      "    args {\n",
      "      type_id: TFT_INT32\n",
      "    }\n",
      "  }\n",
      "}\n",
      "\n",
      "\twhile inferring type of node 'dnn/zero_fraction/cond/output/_18'\n"
     ]
    },
    {
     "name": "stdout",
     "output_type": "stream",
     "text": [
      "INFO:tensorflow:Running local_init_op.\n"
     ]
    },
    {
     "name": "stderr",
     "output_type": "stream",
     "text": [
      "INFO:tensorflow:Running local_init_op.\n"
     ]
    },
    {
     "name": "stdout",
     "output_type": "stream",
     "text": [
      "INFO:tensorflow:Done running local_init_op.\n"
     ]
    },
    {
     "name": "stderr",
     "output_type": "stream",
     "text": [
      "INFO:tensorflow:Done running local_init_op.\n"
     ]
    },
    {
     "name": "stdout",
     "output_type": "stream",
     "text": [
      "INFO:tensorflow:Calling checkpoint listeners before saving checkpoint 0...\n"
     ]
    },
    {
     "name": "stderr",
     "output_type": "stream",
     "text": [
      "INFO:tensorflow:Calling checkpoint listeners before saving checkpoint 0...\n"
     ]
    },
    {
     "name": "stdout",
     "output_type": "stream",
     "text": [
      "INFO:tensorflow:Saving checkpoints for 0 into /tmpfs/tmp/train/20220614-090958/model.ckpt.\n"
     ]
    },
    {
     "name": "stderr",
     "output_type": "stream",
     "text": [
      "INFO:tensorflow:Saving checkpoints for 0 into /tmpfs/tmp/train/20220614-090958/model.ckpt.\n"
     ]
    },
    {
     "name": "stdout",
     "output_type": "stream",
     "text": [
      "INFO:tensorflow:/tmpfs/tmp/train/20220614-090958/model.ckpt-0.index\n"
     ]
    },
    {
     "name": "stderr",
     "output_type": "stream",
     "text": [
      "INFO:tensorflow:/tmpfs/tmp/train/20220614-090958/model.ckpt-0.index\n"
     ]
    },
    {
     "name": "stdout",
     "output_type": "stream",
     "text": [
      "INFO:tensorflow:0\n"
     ]
    },
    {
     "name": "stderr",
     "output_type": "stream",
     "text": [
      "INFO:tensorflow:0\n"
     ]
    },
    {
     "name": "stdout",
     "output_type": "stream",
     "text": [
      "INFO:tensorflow:/tmpfs/tmp/train/20220614-090958/model.ckpt-0.data-00000-of-00001\n"
     ]
    },
    {
     "name": "stderr",
     "output_type": "stream",
     "text": [
      "INFO:tensorflow:/tmpfs/tmp/train/20220614-090958/model.ckpt-0.data-00000-of-00001\n"
     ]
    },
    {
     "name": "stdout",
     "output_type": "stream",
     "text": [
      "INFO:tensorflow:499500\n"
     ]
    },
    {
     "name": "stderr",
     "output_type": "stream",
     "text": [
      "INFO:tensorflow:499500\n"
     ]
    },
    {
     "name": "stdout",
     "output_type": "stream",
     "text": [
      "INFO:tensorflow:/tmpfs/tmp/train/20220614-090958/model.ckpt-0.meta\n"
     ]
    },
    {
     "name": "stderr",
     "output_type": "stream",
     "text": [
      "INFO:tensorflow:/tmpfs/tmp/train/20220614-090958/model.ckpt-0.meta\n"
     ]
    },
    {
     "name": "stdout",
     "output_type": "stream",
     "text": [
      "INFO:tensorflow:499700\n"
     ]
    },
    {
     "name": "stderr",
     "output_type": "stream",
     "text": [
      "INFO:tensorflow:499700\n"
     ]
    },
    {
     "name": "stdout",
     "output_type": "stream",
     "text": [
      "INFO:tensorflow:Calling checkpoint listeners after saving checkpoint 0...\n"
     ]
    },
    {
     "name": "stderr",
     "output_type": "stream",
     "text": [
      "INFO:tensorflow:Calling checkpoint listeners after saving checkpoint 0...\n"
     ]
    },
    {
     "name": "stdout",
     "output_type": "stream",
     "text": [
      "INFO:tensorflow:loss = 60.322533, step = 0\n"
     ]
    },
    {
     "name": "stderr",
     "output_type": "stream",
     "text": [
      "INFO:tensorflow:loss = 60.322533, step = 0\n"
     ]
    },
    {
     "name": "stdout",
     "output_type": "stream",
     "text": [
      "INFO:tensorflow:global_step/sec: 105.34\n"
     ]
    },
    {
     "name": "stderr",
     "output_type": "stream",
     "text": [
      "INFO:tensorflow:global_step/sec: 105.34\n"
     ]
    },
    {
     "name": "stdout",
     "output_type": "stream",
     "text": [
      "INFO:tensorflow:loss = 69.436104, step = 100 (0.951 sec)\n"
     ]
    },
    {
     "name": "stderr",
     "output_type": "stream",
     "text": [
      "INFO:tensorflow:loss = 69.436104, step = 100 (0.951 sec)\n"
     ]
    },
    {
     "name": "stdout",
     "output_type": "stream",
     "text": [
      "INFO:tensorflow:global_step/sec: 118.322\n"
     ]
    },
    {
     "name": "stderr",
     "output_type": "stream",
     "text": [
      "INFO:tensorflow:global_step/sec: 118.322\n"
     ]
    },
    {
     "name": "stdout",
     "output_type": "stream",
     "text": [
      "INFO:tensorflow:loss = 58.448486, step = 200 (0.845 sec)\n"
     ]
    },
    {
     "name": "stderr",
     "output_type": "stream",
     "text": [
      "INFO:tensorflow:loss = 58.448486, step = 200 (0.845 sec)\n"
     ]
    },
    {
     "name": "stdout",
     "output_type": "stream",
     "text": [
      "INFO:tensorflow:global_step/sec: 113.728\n"
     ]
    },
    {
     "name": "stderr",
     "output_type": "stream",
     "text": [
      "INFO:tensorflow:global_step/sec: 113.728\n"
     ]
    },
    {
     "name": "stdout",
     "output_type": "stream",
     "text": [
      "INFO:tensorflow:loss = 59.17833, step = 300 (0.879 sec)\n"
     ]
    },
    {
     "name": "stderr",
     "output_type": "stream",
     "text": [
      "INFO:tensorflow:loss = 59.17833, step = 300 (0.879 sec)\n"
     ]
    },
    {
     "name": "stdout",
     "output_type": "stream",
     "text": [
      "INFO:tensorflow:global_step/sec: 118.647\n"
     ]
    },
    {
     "name": "stderr",
     "output_type": "stream",
     "text": [
      "INFO:tensorflow:global_step/sec: 118.647\n"
     ]
    },
    {
     "name": "stdout",
     "output_type": "stream",
     "text": [
      "INFO:tensorflow:loss = 61.447083, step = 400 (0.843 sec)\n"
     ]
    },
    {
     "name": "stderr",
     "output_type": "stream",
     "text": [
      "INFO:tensorflow:loss = 61.447083, step = 400 (0.843 sec)\n"
     ]
    },
    {
     "name": "stdout",
     "output_type": "stream",
     "text": [
      "INFO:tensorflow:global_step/sec: 119.444\n"
     ]
    },
    {
     "name": "stderr",
     "output_type": "stream",
     "text": [
      "INFO:tensorflow:global_step/sec: 119.444\n"
     ]
    },
    {
     "name": "stdout",
     "output_type": "stream",
     "text": [
      "INFO:tensorflow:loss = 55.700905, step = 500 (0.837 sec)\n"
     ]
    },
    {
     "name": "stderr",
     "output_type": "stream",
     "text": [
      "INFO:tensorflow:loss = 55.700905, step = 500 (0.837 sec)\n"
     ]
    },
    {
     "name": "stdout",
     "output_type": "stream",
     "text": [
      "INFO:tensorflow:global_step/sec: 118.611\n"
     ]
    },
    {
     "name": "stderr",
     "output_type": "stream",
     "text": [
      "INFO:tensorflow:global_step/sec: 118.611\n"
     ]
    },
    {
     "name": "stdout",
     "output_type": "stream",
     "text": [
      "INFO:tensorflow:loss = 57.49019, step = 600 (0.843 sec)\n"
     ]
    },
    {
     "name": "stderr",
     "output_type": "stream",
     "text": [
      "INFO:tensorflow:loss = 57.49019, step = 600 (0.843 sec)\n"
     ]
    },
    {
     "name": "stdout",
     "output_type": "stream",
     "text": [
      "INFO:tensorflow:global_step/sec: 120.025\n"
     ]
    },
    {
     "name": "stderr",
     "output_type": "stream",
     "text": [
      "INFO:tensorflow:global_step/sec: 120.025\n"
     ]
    },
    {
     "name": "stdout",
     "output_type": "stream",
     "text": [
      "INFO:tensorflow:loss = 63.6143, step = 700 (0.833 sec)\n"
     ]
    },
    {
     "name": "stderr",
     "output_type": "stream",
     "text": [
      "INFO:tensorflow:loss = 63.6143, step = 700 (0.833 sec)\n"
     ]
    },
    {
     "name": "stdout",
     "output_type": "stream",
     "text": [
      "INFO:tensorflow:global_step/sec: 120.645\n"
     ]
    },
    {
     "name": "stderr",
     "output_type": "stream",
     "text": [
      "INFO:tensorflow:global_step/sec: 120.645\n"
     ]
    },
    {
     "name": "stdout",
     "output_type": "stream",
     "text": [
      "INFO:tensorflow:loss = 58.11577, step = 800 (0.829 sec)\n"
     ]
    },
    {
     "name": "stderr",
     "output_type": "stream",
     "text": [
      "INFO:tensorflow:loss = 58.11577, step = 800 (0.829 sec)\n"
     ]
    },
    {
     "name": "stdout",
     "output_type": "stream",
     "text": [
      "INFO:tensorflow:global_step/sec: 119.27\n"
     ]
    },
    {
     "name": "stderr",
     "output_type": "stream",
     "text": [
      "INFO:tensorflow:global_step/sec: 119.27\n"
     ]
    },
    {
     "name": "stdout",
     "output_type": "stream",
     "text": [
      "INFO:tensorflow:loss = 56.72918, step = 900 (0.839 sec)\n"
     ]
    },
    {
     "name": "stderr",
     "output_type": "stream",
     "text": [
      "INFO:tensorflow:loss = 56.72918, step = 900 (0.839 sec)\n"
     ]
    },
    {
     "name": "stdout",
     "output_type": "stream",
     "text": [
      "INFO:tensorflow:Calling checkpoint listeners before saving checkpoint 1000...\n"
     ]
    },
    {
     "name": "stderr",
     "output_type": "stream",
     "text": [
      "INFO:tensorflow:Calling checkpoint listeners before saving checkpoint 1000...\n"
     ]
    },
    {
     "name": "stdout",
     "output_type": "stream",
     "text": [
      "INFO:tensorflow:Saving checkpoints for 1000 into /tmpfs/tmp/train/20220614-090958/model.ckpt.\n"
     ]
    },
    {
     "name": "stderr",
     "output_type": "stream",
     "text": [
      "INFO:tensorflow:Saving checkpoints for 1000 into /tmpfs/tmp/train/20220614-090958/model.ckpt.\n"
     ]
    },
    {
     "name": "stdout",
     "output_type": "stream",
     "text": [
      "INFO:tensorflow:/tmpfs/tmp/train/20220614-090958/model.ckpt-1000.meta\n"
     ]
    },
    {
     "name": "stderr",
     "output_type": "stream",
     "text": [
      "INFO:tensorflow:/tmpfs/tmp/train/20220614-090958/model.ckpt-1000.meta\n"
     ]
    },
    {
     "name": "stdout",
     "output_type": "stream",
     "text": [
      "INFO:tensorflow:200\n"
     ]
    },
    {
     "name": "stderr",
     "output_type": "stream",
     "text": [
      "INFO:tensorflow:200\n"
     ]
    },
    {
     "name": "stdout",
     "output_type": "stream",
     "text": [
      "INFO:tensorflow:/tmpfs/tmp/train/20220614-090958/model.ckpt-1000.data-00000-of-00001\n"
     ]
    },
    {
     "name": "stderr",
     "output_type": "stream",
     "text": [
      "INFO:tensorflow:/tmpfs/tmp/train/20220614-090958/model.ckpt-1000.data-00000-of-00001\n"
     ]
    },
    {
     "name": "stdout",
     "output_type": "stream",
     "text": [
      "INFO:tensorflow:499700\n"
     ]
    },
    {
     "name": "stderr",
     "output_type": "stream",
     "text": [
      "INFO:tensorflow:499700\n"
     ]
    },
    {
     "name": "stdout",
     "output_type": "stream",
     "text": [
      "INFO:tensorflow:/tmpfs/tmp/train/20220614-090958/model.ckpt-1000.index\n"
     ]
    },
    {
     "name": "stderr",
     "output_type": "stream",
     "text": [
      "INFO:tensorflow:/tmpfs/tmp/train/20220614-090958/model.ckpt-1000.index\n"
     ]
    },
    {
     "name": "stdout",
     "output_type": "stream",
     "text": [
      "INFO:tensorflow:499700\n"
     ]
    },
    {
     "name": "stderr",
     "output_type": "stream",
     "text": [
      "INFO:tensorflow:499700\n"
     ]
    },
    {
     "name": "stdout",
     "output_type": "stream",
     "text": [
      "INFO:tensorflow:Calling checkpoint listeners after saving checkpoint 1000...\n"
     ]
    },
    {
     "name": "stderr",
     "output_type": "stream",
     "text": [
      "INFO:tensorflow:Calling checkpoint listeners after saving checkpoint 1000...\n"
     ]
    },
    {
     "name": "stdout",
     "output_type": "stream",
     "text": [
      "INFO:tensorflow:Loss for final step: 59.84497.\n"
     ]
    },
    {
     "name": "stderr",
     "output_type": "stream",
     "text": [
      "INFO:tensorflow:Loss for final step: 59.84497.\n"
     ]
    },
    {
     "name": "stdout",
     "output_type": "stream",
     "text": [
      "WARNING:tensorflow:From /home/kbuilder/.local/lib/python3.8/site-packages/tensorflow_model_analysis/eval_saved_model/encoding.py:132: build_tensor_info (from tensorflow.python.saved_model.utils_impl) is deprecated and will be removed in a future version.\n",
      "Instructions for updating:\n",
      "This function will only be available through the v1 compatibility library as tf.compat.v1.saved_model.utils.build_tensor_info or tf.compat.v1.saved_model.build_tensor_info.\n"
     ]
    },
    {
     "name": "stderr",
     "output_type": "stream",
     "text": [
      "WARNING:tensorflow:From /home/kbuilder/.local/lib/python3.8/site-packages/tensorflow_model_analysis/eval_saved_model/encoding.py:132: build_tensor_info (from tensorflow.python.saved_model.utils_impl) is deprecated and will be removed in a future version.\n",
      "Instructions for updating:\n",
      "This function will only be available through the v1 compatibility library as tf.compat.v1.saved_model.utils.build_tensor_info or tf.compat.v1.saved_model.build_tensor_info.\n"
     ]
    },
    {
     "name": "stdout",
     "output_type": "stream",
     "text": [
      "INFO:tensorflow:Calling model_fn.\n"
     ]
    },
    {
     "name": "stderr",
     "output_type": "stream",
     "text": [
      "INFO:tensorflow:Calling model_fn.\n"
     ]
    },
    {
     "name": "stdout",
     "output_type": "stream",
     "text": [
      "INFO:tensorflow:Saver not created because there are no variables in the graph to restore\n"
     ]
    },
    {
     "name": "stderr",
     "output_type": "stream",
     "text": [
      "2022-06-14 09:10:18.245097: W tensorflow/core/common_runtime/graph_constructor.cc:1526] Importing a graph with a lower producer version 26 into an existing graph with producer version 1087. Shape inference will have run different parts of the graph with different producer versions.\n",
      "INFO:tensorflow:Saver not created because there are no variables in the graph to restore\n"
     ]
    },
    {
     "name": "stdout",
     "output_type": "stream",
     "text": [
      "INFO:tensorflow:Saver not created because there are no variables in the graph to restore\n"
     ]
    },
    {
     "name": "stderr",
     "output_type": "stream",
     "text": [
      "INFO:tensorflow:Saver not created because there are no variables in the graph to restore\n"
     ]
    },
    {
     "name": "stdout",
     "output_type": "stream",
     "text": [
      "WARNING:tensorflow:From /home/kbuilder/.local/lib/python3.8/site-packages/tensorflow_estimator/python/estimator/canned/head.py:635: auc (from tensorflow.python.ops.metrics_impl) is deprecated and will be removed in a future version.\n",
      "Instructions for updating:\n",
      "The value of AUC returned by this may race with the update so this is deprecated. Please use tf.keras.metrics.AUC instead.\n"
     ]
    },
    {
     "name": "stderr",
     "output_type": "stream",
     "text": [
      "WARNING:tensorflow:From /home/kbuilder/.local/lib/python3.8/site-packages/tensorflow_estimator/python/estimator/canned/head.py:635: auc (from tensorflow.python.ops.metrics_impl) is deprecated and will be removed in a future version.\n",
      "Instructions for updating:\n",
      "The value of AUC returned by this may race with the update so this is deprecated. Please use tf.keras.metrics.AUC instead.\n"
     ]
    },
    {
     "name": "stdout",
     "output_type": "stream",
     "text": [
      "WARNING:tensorflow:Trapezoidal rule is known to produce incorrect PR-AUCs; please switch to \"careful_interpolation\" instead.\n"
     ]
    },
    {
     "name": "stderr",
     "output_type": "stream",
     "text": [
      "WARNING:tensorflow:Trapezoidal rule is known to produce incorrect PR-AUCs; please switch to \"careful_interpolation\" instead.\n"
     ]
    },
    {
     "name": "stdout",
     "output_type": "stream",
     "text": [
      "WARNING:tensorflow:Trapezoidal rule is known to produce incorrect PR-AUCs; please switch to \"careful_interpolation\" instead.\n"
     ]
    },
    {
     "name": "stderr",
     "output_type": "stream",
     "text": [
      "WARNING:tensorflow:Trapezoidal rule is known to produce incorrect PR-AUCs; please switch to \"careful_interpolation\" instead.\n"
     ]
    },
    {
     "name": "stdout",
     "output_type": "stream",
     "text": [
      "INFO:tensorflow:Done calling model_fn.\n"
     ]
    },
    {
     "name": "stderr",
     "output_type": "stream",
     "text": [
      "INFO:tensorflow:Done calling model_fn.\n"
     ]
    },
    {
     "name": "stdout",
     "output_type": "stream",
     "text": [
      "WARNING:tensorflow:From /home/kbuilder/.local/lib/python3.8/site-packages/tensorflow/python/saved_model/model_utils/export_utils.py:84: get_tensor_from_tensor_info (from tensorflow.python.saved_model.utils_impl) is deprecated and will be removed in a future version.\n",
      "Instructions for updating:\n",
      "This function will only be available through the v1 compatibility library as tf.compat.v1.saved_model.utils.get_tensor_from_tensor_info or tf.compat.v1.saved_model.get_tensor_from_tensor_info.\n"
     ]
    },
    {
     "name": "stderr",
     "output_type": "stream",
     "text": [
      "WARNING:tensorflow:From /home/kbuilder/.local/lib/python3.8/site-packages/tensorflow/python/saved_model/model_utils/export_utils.py:84: get_tensor_from_tensor_info (from tensorflow.python.saved_model.utils_impl) is deprecated and will be removed in a future version.\n",
      "Instructions for updating:\n",
      "This function will only be available through the v1 compatibility library as tf.compat.v1.saved_model.utils.get_tensor_from_tensor_info or tf.compat.v1.saved_model.get_tensor_from_tensor_info.\n"
     ]
    },
    {
     "name": "stdout",
     "output_type": "stream",
     "text": [
      "INFO:tensorflow:Signatures INCLUDED in export for Classify: None\n"
     ]
    },
    {
     "name": "stderr",
     "output_type": "stream",
     "text": [
      "INFO:tensorflow:Signatures INCLUDED in export for Classify: None\n"
     ]
    },
    {
     "name": "stdout",
     "output_type": "stream",
     "text": [
      "INFO:tensorflow:Signatures INCLUDED in export for Regress: None\n"
     ]
    },
    {
     "name": "stderr",
     "output_type": "stream",
     "text": [
      "INFO:tensorflow:Signatures INCLUDED in export for Regress: None\n"
     ]
    },
    {
     "name": "stdout",
     "output_type": "stream",
     "text": [
      "INFO:tensorflow:Signatures INCLUDED in export for Predict: None\n"
     ]
    },
    {
     "name": "stderr",
     "output_type": "stream",
     "text": [
      "INFO:tensorflow:Signatures INCLUDED in export for Predict: None\n"
     ]
    },
    {
     "name": "stdout",
     "output_type": "stream",
     "text": [
      "INFO:tensorflow:Signatures INCLUDED in export for Train: None\n"
     ]
    },
    {
     "name": "stderr",
     "output_type": "stream",
     "text": [
      "INFO:tensorflow:Signatures INCLUDED in export for Train: None\n"
     ]
    },
    {
     "name": "stdout",
     "output_type": "stream",
     "text": [
      "INFO:tensorflow:Signatures INCLUDED in export for Eval: ['eval']\n"
     ]
    },
    {
     "name": "stderr",
     "output_type": "stream",
     "text": [
      "INFO:tensorflow:Signatures INCLUDED in export for Eval: ['eval']\n"
     ]
    },
    {
     "name": "stdout",
     "output_type": "stream",
     "text": [
      "WARNING:tensorflow:Export includes no default signature!\n"
     ]
    },
    {
     "name": "stderr",
     "output_type": "stream",
     "text": [
      "WARNING:tensorflow:Export includes no default signature!\n"
     ]
    },
    {
     "name": "stdout",
     "output_type": "stream",
     "text": [
      "INFO:tensorflow:Restoring parameters from /tmpfs/tmp/train/20220614-090958/model.ckpt-1000\n"
     ]
    },
    {
     "name": "stderr",
     "output_type": "stream",
     "text": [
      "INFO:tensorflow:Restoring parameters from /tmpfs/tmp/train/20220614-090958/model.ckpt-1000\n"
     ]
    },
    {
     "name": "stdout",
     "output_type": "stream",
     "text": [
      "INFO:tensorflow:Assets added to graph.\n"
     ]
    },
    {
     "name": "stderr",
     "output_type": "stream",
     "text": [
      "INFO:tensorflow:Assets added to graph.\n"
     ]
    },
    {
     "name": "stdout",
     "output_type": "stream",
     "text": [
      "INFO:tensorflow:Assets written to: /tmpfs/tmp/tfma_eval_model/temp-1655197818/assets\n"
     ]
    },
    {
     "name": "stderr",
     "output_type": "stream",
     "text": [
      "INFO:tensorflow:Assets written to: /tmpfs/tmp/tfma_eval_model/temp-1655197818/assets\n"
     ]
    },
    {
     "name": "stdout",
     "output_type": "stream",
     "text": [
      "INFO:tensorflow:/tmpfs/tmp/tfma_eval_model/temp-1655197818/variables/variables.index\n"
     ]
    },
    {
     "name": "stderr",
     "output_type": "stream",
     "text": [
      "INFO:tensorflow:/tmpfs/tmp/tfma_eval_model/temp-1655197818/variables/variables.index\n"
     ]
    },
    {
     "name": "stdout",
     "output_type": "stream",
     "text": [
      "INFO:tensorflow:0\n"
     ]
    },
    {
     "name": "stderr",
     "output_type": "stream",
     "text": [
      "INFO:tensorflow:0\n"
     ]
    },
    {
     "name": "stdout",
     "output_type": "stream",
     "text": [
      "INFO:tensorflow:/tmpfs/tmp/tfma_eval_model/temp-1655197818/variables/variables.data-00000-of-00001\n"
     ]
    },
    {
     "name": "stderr",
     "output_type": "stream",
     "text": [
      "INFO:tensorflow:/tmpfs/tmp/tfma_eval_model/temp-1655197818/variables/variables.data-00000-of-00001\n"
     ]
    },
    {
     "name": "stdout",
     "output_type": "stream",
     "text": [
      "INFO:tensorflow:499000\n"
     ]
    },
    {
     "name": "stderr",
     "output_type": "stream",
     "text": [
      "INFO:tensorflow:499000\n"
     ]
    },
    {
     "name": "stdout",
     "output_type": "stream",
     "text": [
      "INFO:tensorflow:SavedModel written to: /tmpfs/tmp/tfma_eval_model/temp-1655197818/saved_model.pb\n"
     ]
    },
    {
     "name": "stderr",
     "output_type": "stream",
     "text": [
      "INFO:tensorflow:SavedModel written to: /tmpfs/tmp/tfma_eval_model/temp-1655197818/saved_model.pb\n"
     ]
    },
    {
     "name": "stderr",
     "output_type": "stream",
     "text": [
      "WARNING:absl:Tensorflow version (2.9.1) found. Note that TFMA support for TF 2.0 is currently in beta\n"
     ]
    },
    {
     "name": "stderr",
     "output_type": "stream",
     "text": [
      "WARNING:apache_beam.runners.interactive.interactive_environment:Dependencies required for Interactive Beam PCollection visualization are not available, please use: `pip install apache-beam[interactive]` to install necessary dependencies to enable all data visualization features.\n"
     ]
    },
    {
     "data": {
      "application/javascript": [
       "\n",
       "        if (typeof window.interactive_beam_jquery == 'undefined') {\n",
       "          var jqueryScript = document.createElement('script');\n",
       "          jqueryScript.src = 'https://code.jquery.com/jquery-3.4.1.slim.min.js';\n",
       "          jqueryScript.type = 'text/javascript';\n",
       "          jqueryScript.onload = function() {\n",
       "            var datatableScript = document.createElement('script');\n",
       "            datatableScript.src = 'https://cdn.datatables.net/1.10.20/js/jquery.dataTables.min.js';\n",
       "            datatableScript.type = 'text/javascript';\n",
       "            datatableScript.onload = function() {\n",
       "              window.interactive_beam_jquery = jQuery.noConflict(true);\n",
       "              window.interactive_beam_jquery(document).ready(function($){\n",
       "                \n",
       "              });\n",
       "            }\n",
       "            document.head.appendChild(datatableScript);\n",
       "          };\n",
       "          document.head.appendChild(jqueryScript);\n",
       "        } else {\n",
       "          window.interactive_beam_jquery(document).ready(function($){\n",
       "            \n",
       "          });\n",
       "        }"
      ]
     },
     "metadata": {},
     "output_type": "display_data"
    },
    {
     "name": "stderr",
     "output_type": "stream",
     "text": [
      "WARNING:root:Make sure that locally built Python SDK docker image has Python 3.8 interpreter.\n"
     ]
    },
    {
     "name": "stdout",
     "output_type": "stream",
     "text": [
      "WARNING:tensorflow:From /home/kbuilder/.local/lib/python3.8/site-packages/tensorflow_model_analysis/eval_saved_model/load.py:163: load (from tensorflow.python.saved_model.loader_impl) is deprecated and will be removed in a future version.\n",
      "Instructions for updating:\n",
      "This function will only be available through the v1 compatibility library as tf.compat.v1.saved_model.loader.load or tf.compat.v1.saved_model.load. There will be a new function for importing SavedModels in Tensorflow 2.0.\n"
     ]
    },
    {
     "name": "stderr",
     "output_type": "stream",
     "text": [
      "WARNING:tensorflow:From /home/kbuilder/.local/lib/python3.8/site-packages/tensorflow_model_analysis/eval_saved_model/load.py:163: load (from tensorflow.python.saved_model.loader_impl) is deprecated and will be removed in a future version.\n",
      "Instructions for updating:\n",
      "This function will only be available through the v1 compatibility library as tf.compat.v1.saved_model.loader.load or tf.compat.v1.saved_model.load. There will be a new function for importing SavedModels in Tensorflow 2.0.\n"
     ]
    },
    {
     "name": "stdout",
     "output_type": "stream",
     "text": [
      "INFO:tensorflow:Restoring parameters from /tmpfs/tmp/tfma_eval_model/1655197818/variables/variables\n"
     ]
    },
    {
     "name": "stderr",
     "output_type": "stream",
     "text": [
      "INFO:tensorflow:Restoring parameters from /tmpfs/tmp/tfma_eval_model/1655197818/variables/variables\n"
     ]
    },
    {
     "name": "stderr",
     "output_type": "stream",
     "text": [
      "WARNING:apache_beam.io.tfrecordio:Couldn't find python-snappy so the implementation of _TFRecordUtil._masked_crc32c is not as fast as it could be.\n"
     ]
    },
    {
     "name": "stdout",
     "output_type": "stream",
     "text": [
      "WARNING:tensorflow:From /home/kbuilder/.local/lib/python3.8/site-packages/tensorflow_model_analysis/writers/metrics_plots_and_validations_writer.py:109: tf_record_iterator (from tensorflow.python.lib.io.tf_record) is deprecated and will be removed in a future version.\n",
      "Instructions for updating:\n",
      "Use eager execution and: \n",
      "`tf.data.TFRecordDataset(path)`\n"
     ]
    },
    {
     "name": "stderr",
     "output_type": "stream",
     "text": [
      "WARNING:tensorflow:From /home/kbuilder/.local/lib/python3.8/site-packages/tensorflow_model_analysis/writers/metrics_plots_and_validations_writer.py:109: tf_record_iterator (from tensorflow.python.lib.io.tf_record) is deprecated and will be removed in a future version.\n",
      "Instructions for updating:\n",
      "Use eager execution and: \n",
      "`tf.data.TFRecordDataset(path)`\n"
     ]
    }
   ],
   "source": [
    "eval_result_random_nnlm = embedding_fairness_result('https://tfhub.dev/google/random-nnlm-en-dim128/1')"
   ]
  },
  {
   "cell_type": "code",
   "execution_count": 8,
   "metadata": {
    "execution": {
     "iopub.execute_input": "2022-06-14T09:12:13.434089Z",
     "iopub.status.busy": "2022-06-14T09:12:13.433506Z",
     "iopub.status.idle": "2022-06-14T09:12:13.444437Z",
     "shell.execute_reply": "2022-06-14T09:12:13.443798Z"
    },
    "id": "05xUesz6VpAe"
   },
   "outputs": [
    {
     "data": {
      "application/vnd.jupyter.widget-view+json": {
       "model_id": "818168d983a7496cb20cd718c1740efe",
       "version_major": 2,
       "version_minor": 0
      },
      "text/plain": [
       "FairnessIndicatorViewer(slicingMetrics=[{'sliceValue': 'Overall', 'slice': 'Overall', 'metrics': {'post_export…"
      ]
     },
     "metadata": {},
     "output_type": "display_data"
    }
   ],
   "source": [
    "widget_view.render_fairness_indicator(eval_result=eval_result_random_nnlm)"
   ]
  },
  {
   "cell_type": "markdown",
   "metadata": {
    "id": "jmKe8Z1b8SBy"
   },
   "source": [
    "#### NNLM"
   ]
  },
  {
   "cell_type": "code",
   "execution_count": 9,
   "metadata": {
    "execution": {
     "iopub.execute_input": "2022-06-14T09:12:13.448913Z",
     "iopub.status.busy": "2022-06-14T09:12:13.448227Z",
     "iopub.status.idle": "2022-06-14T09:14:24.243034Z",
     "shell.execute_reply": "2022-06-14T09:14:24.242322Z"
    },
    "id": "5b8HcTUBckj1"
   },
   "outputs": [
    {
     "name": "stdout",
     "output_type": "stream",
     "text": [
      "Training classifier for https://tfhub.dev/google/nnlm-en-dim128/1\n"
     ]
    },
    {
     "name": "stdout",
     "output_type": "stream",
     "text": [
      "INFO:tensorflow:Using default config.\n"
     ]
    },
    {
     "name": "stderr",
     "output_type": "stream",
     "text": [
      "INFO:tensorflow:Using default config.\n"
     ]
    },
    {
     "name": "stdout",
     "output_type": "stream",
     "text": [
      "INFO:tensorflow:Using config: {'_model_dir': '/tmpfs/tmp/train/20220614-091213', '_tf_random_seed': None, '_save_summary_steps': 100, '_save_checkpoints_steps': None, '_save_checkpoints_secs': 600, '_session_config': allow_soft_placement: true\n",
      "graph_options {\n",
      "  rewrite_options {\n",
      "    meta_optimizer_iterations: ONE\n",
      "  }\n",
      "}\n",
      ", '_keep_checkpoint_max': 5, '_keep_checkpoint_every_n_hours': 10000, '_log_step_count_steps': 100, '_train_distribute': None, '_device_fn': None, '_protocol': None, '_eval_distribute': None, '_experimental_distribute': None, '_experimental_max_worker_delay_secs': None, '_session_creation_timeout_secs': 7200, '_checkpoint_save_graph_def': True, '_service': None, '_cluster_spec': ClusterSpec({}), '_task_type': 'worker', '_task_id': 0, '_global_id_in_cluster': 0, '_master': '', '_evaluation_master': '', '_is_chief': True, '_num_ps_replicas': 0, '_num_worker_replicas': 1}\n"
     ]
    },
    {
     "name": "stderr",
     "output_type": "stream",
     "text": [
      "INFO:tensorflow:Using config: {'_model_dir': '/tmpfs/tmp/train/20220614-091213', '_tf_random_seed': None, '_save_summary_steps': 100, '_save_checkpoints_steps': None, '_save_checkpoints_secs': 600, '_session_config': allow_soft_placement: true\n",
      "graph_options {\n",
      "  rewrite_options {\n",
      "    meta_optimizer_iterations: ONE\n",
      "  }\n",
      "}\n",
      ", '_keep_checkpoint_max': 5, '_keep_checkpoint_every_n_hours': 10000, '_log_step_count_steps': 100, '_train_distribute': None, '_device_fn': None, '_protocol': None, '_eval_distribute': None, '_experimental_distribute': None, '_experimental_max_worker_delay_secs': None, '_session_creation_timeout_secs': 7200, '_checkpoint_save_graph_def': True, '_service': None, '_cluster_spec': ClusterSpec({}), '_task_type': 'worker', '_task_id': 0, '_global_id_in_cluster': 0, '_master': '', '_evaluation_master': '', '_is_chief': True, '_num_ps_replicas': 0, '_num_worker_replicas': 1}\n"
     ]
    },
    {
     "name": "stdout",
     "output_type": "stream",
     "text": [
      "INFO:tensorflow:Calling model_fn.\n"
     ]
    },
    {
     "name": "stderr",
     "output_type": "stream",
     "text": [
      "INFO:tensorflow:Calling model_fn.\n"
     ]
    },
    {
     "name": "stdout",
     "output_type": "stream",
     "text": [
      "INFO:tensorflow:Saver not created because there are no variables in the graph to restore\n"
     ]
    },
    {
     "name": "stderr",
     "output_type": "stream",
     "text": [
      "2022-06-14 09:12:17.374346: W tensorflow/core/common_runtime/graph_constructor.cc:1526] Importing a graph with a lower producer version 26 into an existing graph with producer version 1087. Shape inference will have run different parts of the graph with different producer versions.\n",
      "INFO:tensorflow:Saver not created because there are no variables in the graph to restore\n"
     ]
    },
    {
     "name": "stdout",
     "output_type": "stream",
     "text": [
      "INFO:tensorflow:Saver not created because there are no variables in the graph to restore\n"
     ]
    },
    {
     "name": "stderr",
     "output_type": "stream",
     "text": [
      "INFO:tensorflow:Saver not created because there are no variables in the graph to restore\n"
     ]
    },
    {
     "name": "stdout",
     "output_type": "stream",
     "text": [
      "INFO:tensorflow:Done calling model_fn.\n"
     ]
    },
    {
     "name": "stderr",
     "output_type": "stream",
     "text": [
      "INFO:tensorflow:Done calling model_fn.\n"
     ]
    },
    {
     "name": "stdout",
     "output_type": "stream",
     "text": [
      "INFO:tensorflow:Create CheckpointSaverHook.\n"
     ]
    },
    {
     "name": "stderr",
     "output_type": "stream",
     "text": [
      "INFO:tensorflow:Create CheckpointSaverHook.\n"
     ]
    },
    {
     "name": "stdout",
     "output_type": "stream",
     "text": [
      "INFO:tensorflow:Graph was finalized.\n"
     ]
    },
    {
     "name": "stderr",
     "output_type": "stream",
     "text": [
      "INFO:tensorflow:Graph was finalized.\n"
     ]
    },
    {
     "name": "stdout",
     "output_type": "stream",
     "text": [
      "INFO:tensorflow:Running local_init_op.\n"
     ]
    },
    {
     "name": "stderr",
     "output_type": "stream",
     "text": [
      "INFO:tensorflow:Running local_init_op.\n"
     ]
    },
    {
     "name": "stdout",
     "output_type": "stream",
     "text": [
      "INFO:tensorflow:Done running local_init_op.\n"
     ]
    },
    {
     "name": "stderr",
     "output_type": "stream",
     "text": [
      "INFO:tensorflow:Done running local_init_op.\n"
     ]
    },
    {
     "name": "stdout",
     "output_type": "stream",
     "text": [
      "INFO:tensorflow:Calling checkpoint listeners before saving checkpoint 0...\n"
     ]
    },
    {
     "name": "stderr",
     "output_type": "stream",
     "text": [
      "INFO:tensorflow:Calling checkpoint listeners before saving checkpoint 0...\n"
     ]
    },
    {
     "name": "stdout",
     "output_type": "stream",
     "text": [
      "INFO:tensorflow:Saving checkpoints for 0 into /tmpfs/tmp/train/20220614-091213/model.ckpt.\n"
     ]
    },
    {
     "name": "stderr",
     "output_type": "stream",
     "text": [
      "INFO:tensorflow:Saving checkpoints for 0 into /tmpfs/tmp/train/20220614-091213/model.ckpt.\n"
     ]
    },
    {
     "name": "stdout",
     "output_type": "stream",
     "text": [
      "INFO:tensorflow:/tmpfs/tmp/train/20220614-091213/model.ckpt-0.index\n"
     ]
    },
    {
     "name": "stderr",
     "output_type": "stream",
     "text": [
      "INFO:tensorflow:/tmpfs/tmp/train/20220614-091213/model.ckpt-0.index\n"
     ]
    },
    {
     "name": "stdout",
     "output_type": "stream",
     "text": [
      "INFO:tensorflow:0\n"
     ]
    },
    {
     "name": "stderr",
     "output_type": "stream",
     "text": [
      "INFO:tensorflow:0\n"
     ]
    },
    {
     "name": "stdout",
     "output_type": "stream",
     "text": [
      "INFO:tensorflow:/tmpfs/tmp/train/20220614-091213/model.ckpt-0.data-00000-of-00001\n"
     ]
    },
    {
     "name": "stderr",
     "output_type": "stream",
     "text": [
      "INFO:tensorflow:/tmpfs/tmp/train/20220614-091213/model.ckpt-0.data-00000-of-00001\n"
     ]
    },
    {
     "name": "stdout",
     "output_type": "stream",
     "text": [
      "INFO:tensorflow:499500\n"
     ]
    },
    {
     "name": "stderr",
     "output_type": "stream",
     "text": [
      "INFO:tensorflow:499500\n"
     ]
    },
    {
     "name": "stdout",
     "output_type": "stream",
     "text": [
      "INFO:tensorflow:/tmpfs/tmp/train/20220614-091213/model.ckpt-0.meta\n"
     ]
    },
    {
     "name": "stderr",
     "output_type": "stream",
     "text": [
      "INFO:tensorflow:/tmpfs/tmp/train/20220614-091213/model.ckpt-0.meta\n"
     ]
    },
    {
     "name": "stdout",
     "output_type": "stream",
     "text": [
      "INFO:tensorflow:499700\n"
     ]
    },
    {
     "name": "stderr",
     "output_type": "stream",
     "text": [
      "INFO:tensorflow:499700\n"
     ]
    },
    {
     "name": "stdout",
     "output_type": "stream",
     "text": [
      "INFO:tensorflow:Calling checkpoint listeners after saving checkpoint 0...\n"
     ]
    },
    {
     "name": "stderr",
     "output_type": "stream",
     "text": [
      "INFO:tensorflow:Calling checkpoint listeners after saving checkpoint 0...\n"
     ]
    },
    {
     "name": "stdout",
     "output_type": "stream",
     "text": [
      "INFO:tensorflow:loss = 58.952602, step = 0\n"
     ]
    },
    {
     "name": "stderr",
     "output_type": "stream",
     "text": [
      "INFO:tensorflow:loss = 58.952602, step = 0\n"
     ]
    },
    {
     "name": "stdout",
     "output_type": "stream",
     "text": [
      "INFO:tensorflow:global_step/sec: 98.1672\n"
     ]
    },
    {
     "name": "stderr",
     "output_type": "stream",
     "text": [
      "INFO:tensorflow:global_step/sec: 98.1672\n"
     ]
    },
    {
     "name": "stdout",
     "output_type": "stream",
     "text": [
      "INFO:tensorflow:loss = 56.296246, step = 100 (1.020 sec)\n"
     ]
    },
    {
     "name": "stderr",
     "output_type": "stream",
     "text": [
      "INFO:tensorflow:loss = 56.296246, step = 100 (1.020 sec)\n"
     ]
    },
    {
     "name": "stdout",
     "output_type": "stream",
     "text": [
      "INFO:tensorflow:global_step/sec: 120.827\n"
     ]
    },
    {
     "name": "stderr",
     "output_type": "stream",
     "text": [
      "INFO:tensorflow:global_step/sec: 120.827\n"
     ]
    },
    {
     "name": "stdout",
     "output_type": "stream",
     "text": [
      "INFO:tensorflow:loss = 47.47363, step = 200 (0.828 sec)\n"
     ]
    },
    {
     "name": "stderr",
     "output_type": "stream",
     "text": [
      "INFO:tensorflow:loss = 47.47363, step = 200 (0.828 sec)\n"
     ]
    },
    {
     "name": "stdout",
     "output_type": "stream",
     "text": [
      "INFO:tensorflow:global_step/sec: 120.299\n"
     ]
    },
    {
     "name": "stderr",
     "output_type": "stream",
     "text": [
      "INFO:tensorflow:global_step/sec: 120.299\n"
     ]
    },
    {
     "name": "stdout",
     "output_type": "stream",
     "text": [
      "INFO:tensorflow:loss = 55.859955, step = 300 (0.831 sec)\n"
     ]
    },
    {
     "name": "stderr",
     "output_type": "stream",
     "text": [
      "INFO:tensorflow:loss = 55.859955, step = 300 (0.831 sec)\n"
     ]
    },
    {
     "name": "stdout",
     "output_type": "stream",
     "text": [
      "INFO:tensorflow:global_step/sec: 121.801\n"
     ]
    },
    {
     "name": "stderr",
     "output_type": "stream",
     "text": [
      "INFO:tensorflow:global_step/sec: 121.801\n"
     ]
    },
    {
     "name": "stdout",
     "output_type": "stream",
     "text": [
      "INFO:tensorflow:loss = 56.50974, step = 400 (0.821 sec)\n"
     ]
    },
    {
     "name": "stderr",
     "output_type": "stream",
     "text": [
      "INFO:tensorflow:loss = 56.50974, step = 400 (0.821 sec)\n"
     ]
    },
    {
     "name": "stdout",
     "output_type": "stream",
     "text": [
      "INFO:tensorflow:global_step/sec: 122.749\n"
     ]
    },
    {
     "name": "stderr",
     "output_type": "stream",
     "text": [
      "INFO:tensorflow:global_step/sec: 122.749\n"
     ]
    },
    {
     "name": "stdout",
     "output_type": "stream",
     "text": [
      "INFO:tensorflow:loss = 41.725105, step = 500 (0.815 sec)\n"
     ]
    },
    {
     "name": "stderr",
     "output_type": "stream",
     "text": [
      "INFO:tensorflow:loss = 41.725105, step = 500 (0.815 sec)\n"
     ]
    },
    {
     "name": "stdout",
     "output_type": "stream",
     "text": [
      "INFO:tensorflow:global_step/sec: 119.494\n"
     ]
    },
    {
     "name": "stderr",
     "output_type": "stream",
     "text": [
      "INFO:tensorflow:global_step/sec: 119.494\n"
     ]
    },
    {
     "name": "stdout",
     "output_type": "stream",
     "text": [
      "INFO:tensorflow:loss = 45.665905, step = 600 (0.837 sec)\n"
     ]
    },
    {
     "name": "stderr",
     "output_type": "stream",
     "text": [
      "INFO:tensorflow:loss = 45.665905, step = 600 (0.837 sec)\n"
     ]
    },
    {
     "name": "stdout",
     "output_type": "stream",
     "text": [
      "INFO:tensorflow:global_step/sec: 120.659\n"
     ]
    },
    {
     "name": "stderr",
     "output_type": "stream",
     "text": [
      "INFO:tensorflow:global_step/sec: 120.659\n"
     ]
    },
    {
     "name": "stdout",
     "output_type": "stream",
     "text": [
      "INFO:tensorflow:loss = 51.187576, step = 700 (0.829 sec)\n"
     ]
    },
    {
     "name": "stderr",
     "output_type": "stream",
     "text": [
      "INFO:tensorflow:loss = 51.187576, step = 700 (0.829 sec)\n"
     ]
    },
    {
     "name": "stdout",
     "output_type": "stream",
     "text": [
      "INFO:tensorflow:global_step/sec: 121.586\n"
     ]
    },
    {
     "name": "stderr",
     "output_type": "stream",
     "text": [
      "INFO:tensorflow:global_step/sec: 121.586\n"
     ]
    },
    {
     "name": "stdout",
     "output_type": "stream",
     "text": [
      "INFO:tensorflow:loss = 47.72211, step = 800 (0.823 sec)\n"
     ]
    },
    {
     "name": "stderr",
     "output_type": "stream",
     "text": [
      "INFO:tensorflow:loss = 47.72211, step = 800 (0.823 sec)\n"
     ]
    },
    {
     "name": "stdout",
     "output_type": "stream",
     "text": [
      "INFO:tensorflow:global_step/sec: 121.297\n"
     ]
    },
    {
     "name": "stderr",
     "output_type": "stream",
     "text": [
      "INFO:tensorflow:global_step/sec: 121.297\n"
     ]
    },
    {
     "name": "stdout",
     "output_type": "stream",
     "text": [
      "INFO:tensorflow:loss = 47.887997, step = 900 (0.824 sec)\n"
     ]
    },
    {
     "name": "stderr",
     "output_type": "stream",
     "text": [
      "INFO:tensorflow:loss = 47.887997, step = 900 (0.824 sec)\n"
     ]
    },
    {
     "name": "stdout",
     "output_type": "stream",
     "text": [
      "INFO:tensorflow:Calling checkpoint listeners before saving checkpoint 1000...\n"
     ]
    },
    {
     "name": "stderr",
     "output_type": "stream",
     "text": [
      "INFO:tensorflow:Calling checkpoint listeners before saving checkpoint 1000...\n"
     ]
    },
    {
     "name": "stdout",
     "output_type": "stream",
     "text": [
      "INFO:tensorflow:Saving checkpoints for 1000 into /tmpfs/tmp/train/20220614-091213/model.ckpt.\n"
     ]
    },
    {
     "name": "stderr",
     "output_type": "stream",
     "text": [
      "INFO:tensorflow:Saving checkpoints for 1000 into /tmpfs/tmp/train/20220614-091213/model.ckpt.\n"
     ]
    },
    {
     "name": "stdout",
     "output_type": "stream",
     "text": [
      "INFO:tensorflow:/tmpfs/tmp/train/20220614-091213/model.ckpt-1000.meta\n"
     ]
    },
    {
     "name": "stderr",
     "output_type": "stream",
     "text": [
      "INFO:tensorflow:/tmpfs/tmp/train/20220614-091213/model.ckpt-1000.meta\n"
     ]
    },
    {
     "name": "stdout",
     "output_type": "stream",
     "text": [
      "INFO:tensorflow:200\n"
     ]
    },
    {
     "name": "stderr",
     "output_type": "stream",
     "text": [
      "INFO:tensorflow:200\n"
     ]
    },
    {
     "name": "stdout",
     "output_type": "stream",
     "text": [
      "INFO:tensorflow:/tmpfs/tmp/train/20220614-091213/model.ckpt-1000.data-00000-of-00001\n"
     ]
    },
    {
     "name": "stderr",
     "output_type": "stream",
     "text": [
      "INFO:tensorflow:/tmpfs/tmp/train/20220614-091213/model.ckpt-1000.data-00000-of-00001\n"
     ]
    },
    {
     "name": "stdout",
     "output_type": "stream",
     "text": [
      "INFO:tensorflow:499700\n"
     ]
    },
    {
     "name": "stderr",
     "output_type": "stream",
     "text": [
      "INFO:tensorflow:499700\n"
     ]
    },
    {
     "name": "stdout",
     "output_type": "stream",
     "text": [
      "INFO:tensorflow:/tmpfs/tmp/train/20220614-091213/model.ckpt-1000.index\n"
     ]
    },
    {
     "name": "stderr",
     "output_type": "stream",
     "text": [
      "INFO:tensorflow:/tmpfs/tmp/train/20220614-091213/model.ckpt-1000.index\n"
     ]
    },
    {
     "name": "stdout",
     "output_type": "stream",
     "text": [
      "INFO:tensorflow:499700\n"
     ]
    },
    {
     "name": "stderr",
     "output_type": "stream",
     "text": [
      "INFO:tensorflow:499700\n"
     ]
    },
    {
     "name": "stdout",
     "output_type": "stream",
     "text": [
      "INFO:tensorflow:Calling checkpoint listeners after saving checkpoint 1000...\n"
     ]
    },
    {
     "name": "stderr",
     "output_type": "stream",
     "text": [
      "INFO:tensorflow:Calling checkpoint listeners after saving checkpoint 1000...\n"
     ]
    },
    {
     "name": "stdout",
     "output_type": "stream",
     "text": [
      "INFO:tensorflow:Loss for final step: 50.993393.\n"
     ]
    },
    {
     "name": "stderr",
     "output_type": "stream",
     "text": [
      "INFO:tensorflow:Loss for final step: 50.993393.\n"
     ]
    },
    {
     "name": "stdout",
     "output_type": "stream",
     "text": [
      "INFO:tensorflow:Calling model_fn.\n"
     ]
    },
    {
     "name": "stderr",
     "output_type": "stream",
     "text": [
      "INFO:tensorflow:Calling model_fn.\n"
     ]
    },
    {
     "name": "stdout",
     "output_type": "stream",
     "text": [
      "INFO:tensorflow:Saver not created because there are no variables in the graph to restore\n"
     ]
    },
    {
     "name": "stderr",
     "output_type": "stream",
     "text": [
      "2022-06-14 09:12:28.786680: W tensorflow/core/common_runtime/graph_constructor.cc:1526] Importing a graph with a lower producer version 26 into an existing graph with producer version 1087. Shape inference will have run different parts of the graph with different producer versions.\n",
      "INFO:tensorflow:Saver not created because there are no variables in the graph to restore\n"
     ]
    },
    {
     "name": "stdout",
     "output_type": "stream",
     "text": [
      "INFO:tensorflow:Saver not created because there are no variables in the graph to restore\n"
     ]
    },
    {
     "name": "stderr",
     "output_type": "stream",
     "text": [
      "INFO:tensorflow:Saver not created because there are no variables in the graph to restore\n"
     ]
    },
    {
     "name": "stdout",
     "output_type": "stream",
     "text": [
      "WARNING:tensorflow:Trapezoidal rule is known to produce incorrect PR-AUCs; please switch to \"careful_interpolation\" instead.\n"
     ]
    },
    {
     "name": "stderr",
     "output_type": "stream",
     "text": [
      "WARNING:tensorflow:Trapezoidal rule is known to produce incorrect PR-AUCs; please switch to \"careful_interpolation\" instead.\n"
     ]
    },
    {
     "name": "stdout",
     "output_type": "stream",
     "text": [
      "WARNING:tensorflow:Trapezoidal rule is known to produce incorrect PR-AUCs; please switch to \"careful_interpolation\" instead.\n"
     ]
    },
    {
     "name": "stderr",
     "output_type": "stream",
     "text": [
      "WARNING:tensorflow:Trapezoidal rule is known to produce incorrect PR-AUCs; please switch to \"careful_interpolation\" instead.\n"
     ]
    },
    {
     "name": "stdout",
     "output_type": "stream",
     "text": [
      "INFO:tensorflow:Done calling model_fn.\n"
     ]
    },
    {
     "name": "stderr",
     "output_type": "stream",
     "text": [
      "INFO:tensorflow:Done calling model_fn.\n"
     ]
    },
    {
     "name": "stdout",
     "output_type": "stream",
     "text": [
      "INFO:tensorflow:Signatures INCLUDED in export for Classify: None\n"
     ]
    },
    {
     "name": "stderr",
     "output_type": "stream",
     "text": [
      "INFO:tensorflow:Signatures INCLUDED in export for Classify: None\n"
     ]
    },
    {
     "name": "stdout",
     "output_type": "stream",
     "text": [
      "INFO:tensorflow:Signatures INCLUDED in export for Regress: None\n"
     ]
    },
    {
     "name": "stderr",
     "output_type": "stream",
     "text": [
      "INFO:tensorflow:Signatures INCLUDED in export for Regress: None\n"
     ]
    },
    {
     "name": "stdout",
     "output_type": "stream",
     "text": [
      "INFO:tensorflow:Signatures INCLUDED in export for Predict: None\n"
     ]
    },
    {
     "name": "stderr",
     "output_type": "stream",
     "text": [
      "INFO:tensorflow:Signatures INCLUDED in export for Predict: None\n"
     ]
    },
    {
     "name": "stdout",
     "output_type": "stream",
     "text": [
      "INFO:tensorflow:Signatures INCLUDED in export for Train: None\n"
     ]
    },
    {
     "name": "stderr",
     "output_type": "stream",
     "text": [
      "INFO:tensorflow:Signatures INCLUDED in export for Train: None\n"
     ]
    },
    {
     "name": "stdout",
     "output_type": "stream",
     "text": [
      "INFO:tensorflow:Signatures INCLUDED in export for Eval: ['eval']\n"
     ]
    },
    {
     "name": "stderr",
     "output_type": "stream",
     "text": [
      "INFO:tensorflow:Signatures INCLUDED in export for Eval: ['eval']\n"
     ]
    },
    {
     "name": "stdout",
     "output_type": "stream",
     "text": [
      "WARNING:tensorflow:Export includes no default signature!\n"
     ]
    },
    {
     "name": "stderr",
     "output_type": "stream",
     "text": [
      "WARNING:tensorflow:Export includes no default signature!\n"
     ]
    },
    {
     "name": "stdout",
     "output_type": "stream",
     "text": [
      "INFO:tensorflow:Restoring parameters from /tmpfs/tmp/train/20220614-091213/model.ckpt-1000\n"
     ]
    },
    {
     "name": "stderr",
     "output_type": "stream",
     "text": [
      "INFO:tensorflow:Restoring parameters from /tmpfs/tmp/train/20220614-091213/model.ckpt-1000\n"
     ]
    },
    {
     "name": "stdout",
     "output_type": "stream",
     "text": [
      "INFO:tensorflow:Assets added to graph.\n"
     ]
    },
    {
     "name": "stderr",
     "output_type": "stream",
     "text": [
      "INFO:tensorflow:Assets added to graph.\n"
     ]
    },
    {
     "name": "stdout",
     "output_type": "stream",
     "text": [
      "INFO:tensorflow:Assets written to: /tmpfs/tmp/tfma_eval_model/temp-1655197948/assets\n"
     ]
    },
    {
     "name": "stderr",
     "output_type": "stream",
     "text": [
      "INFO:tensorflow:Assets written to: /tmpfs/tmp/tfma_eval_model/temp-1655197948/assets\n"
     ]
    },
    {
     "name": "stdout",
     "output_type": "stream",
     "text": [
      "INFO:tensorflow:/tmpfs/tmp/tfma_eval_model/temp-1655197948/variables/variables.index\n"
     ]
    },
    {
     "name": "stderr",
     "output_type": "stream",
     "text": [
      "INFO:tensorflow:/tmpfs/tmp/tfma_eval_model/temp-1655197948/variables/variables.index\n"
     ]
    },
    {
     "name": "stdout",
     "output_type": "stream",
     "text": [
      "INFO:tensorflow:0\n"
     ]
    },
    {
     "name": "stderr",
     "output_type": "stream",
     "text": [
      "INFO:tensorflow:0\n"
     ]
    },
    {
     "name": "stdout",
     "output_type": "stream",
     "text": [
      "INFO:tensorflow:/tmpfs/tmp/tfma_eval_model/temp-1655197948/variables/variables.data-00000-of-00001\n"
     ]
    },
    {
     "name": "stderr",
     "output_type": "stream",
     "text": [
      "INFO:tensorflow:/tmpfs/tmp/tfma_eval_model/temp-1655197948/variables/variables.data-00000-of-00001\n"
     ]
    },
    {
     "name": "stdout",
     "output_type": "stream",
     "text": [
      "INFO:tensorflow:499000\n"
     ]
    },
    {
     "name": "stderr",
     "output_type": "stream",
     "text": [
      "INFO:tensorflow:499000\n"
     ]
    },
    {
     "name": "stdout",
     "output_type": "stream",
     "text": [
      "INFO:tensorflow:SavedModel written to: /tmpfs/tmp/tfma_eval_model/temp-1655197948/saved_model.pb\n"
     ]
    },
    {
     "name": "stderr",
     "output_type": "stream",
     "text": [
      "INFO:tensorflow:SavedModel written to: /tmpfs/tmp/tfma_eval_model/temp-1655197948/saved_model.pb\n"
     ]
    },
    {
     "name": "stderr",
     "output_type": "stream",
     "text": [
      "WARNING:absl:Tensorflow version (2.9.1) found. Note that TFMA support for TF 2.0 is currently in beta\n"
     ]
    },
    {
     "name": "stderr",
     "output_type": "stream",
     "text": [
      "WARNING:root:Make sure that locally built Python SDK docker image has Python 3.8 interpreter.\n"
     ]
    },
    {
     "name": "stdout",
     "output_type": "stream",
     "text": [
      "INFO:tensorflow:Restoring parameters from /tmpfs/tmp/tfma_eval_model/1655197948/variables/variables\n"
     ]
    },
    {
     "name": "stderr",
     "output_type": "stream",
     "text": [
      "INFO:tensorflow:Restoring parameters from /tmpfs/tmp/tfma_eval_model/1655197948/variables/variables\n"
     ]
    }
   ],
   "source": [
    "eval_result_nnlm = embedding_fairness_result('https://tfhub.dev/google/nnlm-en-dim128/1')"
   ]
  },
  {
   "cell_type": "code",
   "execution_count": 10,
   "metadata": {
    "execution": {
     "iopub.execute_input": "2022-06-14T09:14:24.247308Z",
     "iopub.status.busy": "2022-06-14T09:14:24.246825Z",
     "iopub.status.idle": "2022-06-14T09:14:24.257984Z",
     "shell.execute_reply": "2022-06-14T09:14:24.257366Z"
    },
    "id": "n6hasLzFVrDN"
   },
   "outputs": [
    {
     "data": {
      "application/vnd.jupyter.widget-view+json": {
       "model_id": "3ba6ef437ac54fcba9b19a66ee8d47fa",
       "version_major": 2,
       "version_minor": 0
      },
      "text/plain": [
       "FairnessIndicatorViewer(slicingMetrics=[{'sliceValue': 'Overall', 'slice': 'Overall', 'metrics': {'post_export…"
      ]
     },
     "metadata": {},
     "output_type": "display_data"
    }
   ],
   "source": [
    "widget_view.render_fairness_indicator(eval_result=eval_result_nnlm)"
   ]
  },
  {
   "cell_type": "markdown",
   "metadata": {
    "id": "1I4xEDNq8T0X"
   },
   "source": [
    "#### Universal Sentence Encoder"
   ]
  },
  {
   "cell_type": "code",
   "execution_count": 11,
   "metadata": {
    "execution": {
     "iopub.execute_input": "2022-06-14T09:14:24.263639Z",
     "iopub.status.busy": "2022-06-14T09:14:24.263205Z",
     "iopub.status.idle": "2022-06-14T09:21:55.213233Z",
     "shell.execute_reply": "2022-06-14T09:21:55.212494Z"
    },
    "id": "GrdweWRkck8A"
   },
   "outputs": [
    {
     "name": "stdout",
     "output_type": "stream",
     "text": [
      "Training classifier for https://tfhub.dev/google/universal-sentence-encoder/2\n"
     ]
    },
    {
     "name": "stdout",
     "output_type": "stream",
     "text": [
      "INFO:tensorflow:Using default config.\n"
     ]
    },
    {
     "name": "stderr",
     "output_type": "stream",
     "text": [
      "INFO:tensorflow:Using default config.\n"
     ]
    },
    {
     "name": "stdout",
     "output_type": "stream",
     "text": [
      "INFO:tensorflow:Using config: {'_model_dir': '/tmpfs/tmp/train/20220614-091424', '_tf_random_seed': None, '_save_summary_steps': 100, '_save_checkpoints_steps': None, '_save_checkpoints_secs': 600, '_session_config': allow_soft_placement: true\n",
      "graph_options {\n",
      "  rewrite_options {\n",
      "    meta_optimizer_iterations: ONE\n",
      "  }\n",
      "}\n",
      ", '_keep_checkpoint_max': 5, '_keep_checkpoint_every_n_hours': 10000, '_log_step_count_steps': 100, '_train_distribute': None, '_device_fn': None, '_protocol': None, '_eval_distribute': None, '_experimental_distribute': None, '_experimental_max_worker_delay_secs': None, '_session_creation_timeout_secs': 7200, '_checkpoint_save_graph_def': True, '_service': None, '_cluster_spec': ClusterSpec({}), '_task_type': 'worker', '_task_id': 0, '_global_id_in_cluster': 0, '_master': '', '_evaluation_master': '', '_is_chief': True, '_num_ps_replicas': 0, '_num_worker_replicas': 1}\n"
     ]
    },
    {
     "name": "stderr",
     "output_type": "stream",
     "text": [
      "INFO:tensorflow:Using config: {'_model_dir': '/tmpfs/tmp/train/20220614-091424', '_tf_random_seed': None, '_save_summary_steps': 100, '_save_checkpoints_steps': None, '_save_checkpoints_secs': 600, '_session_config': allow_soft_placement: true\n",
      "graph_options {\n",
      "  rewrite_options {\n",
      "    meta_optimizer_iterations: ONE\n",
      "  }\n",
      "}\n",
      ", '_keep_checkpoint_max': 5, '_keep_checkpoint_every_n_hours': 10000, '_log_step_count_steps': 100, '_train_distribute': None, '_device_fn': None, '_protocol': None, '_eval_distribute': None, '_experimental_distribute': None, '_experimental_max_worker_delay_secs': None, '_session_creation_timeout_secs': 7200, '_checkpoint_save_graph_def': True, '_service': None, '_cluster_spec': ClusterSpec({}), '_task_type': 'worker', '_task_id': 0, '_global_id_in_cluster': 0, '_master': '', '_evaluation_master': '', '_is_chief': True, '_num_ps_replicas': 0, '_num_worker_replicas': 1}\n"
     ]
    },
    {
     "name": "stdout",
     "output_type": "stream",
     "text": [
      "INFO:tensorflow:Calling model_fn.\n"
     ]
    },
    {
     "name": "stderr",
     "output_type": "stream",
     "text": [
      "INFO:tensorflow:Calling model_fn.\n"
     ]
    },
    {
     "name": "stderr",
     "output_type": "stream",
     "text": [
      "2022-06-14 09:14:32.364706: W tensorflow/core/common_runtime/graph_constructor.cc:1526] Importing a graph with a lower producer version 26 into an existing graph with producer version 1087. Shape inference will have run different parts of the graph with different producer versions.\n"
     ]
    },
    {
     "name": "stdout",
     "output_type": "stream",
     "text": [
      "INFO:tensorflow:Saver not created because there are no variables in the graph to restore\n"
     ]
    },
    {
     "name": "stderr",
     "output_type": "stream",
     "text": [
      "INFO:tensorflow:Saver not created because there are no variables in the graph to restore\n"
     ]
    },
    {
     "name": "stdout",
     "output_type": "stream",
     "text": [
      "INFO:tensorflow:Saver not created because there are no variables in the graph to restore\n"
     ]
    },
    {
     "name": "stderr",
     "output_type": "stream",
     "text": [
      "INFO:tensorflow:Saver not created because there are no variables in the graph to restore\n"
     ]
    },
    {
     "name": "stdout",
     "output_type": "stream",
     "text": [
      "INFO:tensorflow:Done calling model_fn.\n"
     ]
    },
    {
     "name": "stderr",
     "output_type": "stream",
     "text": [
      "INFO:tensorflow:Done calling model_fn.\n"
     ]
    },
    {
     "name": "stdout",
     "output_type": "stream",
     "text": [
      "INFO:tensorflow:Create CheckpointSaverHook.\n"
     ]
    },
    {
     "name": "stderr",
     "output_type": "stream",
     "text": [
      "INFO:tensorflow:Create CheckpointSaverHook.\n"
     ]
    },
    {
     "name": "stdout",
     "output_type": "stream",
     "text": [
      "INFO:tensorflow:Graph was finalized.\n"
     ]
    },
    {
     "name": "stderr",
     "output_type": "stream",
     "text": [
      "INFO:tensorflow:Graph was finalized.\n"
     ]
    },
    {
     "name": "stdout",
     "output_type": "stream",
     "text": [
      "INFO:tensorflow:Running local_init_op.\n"
     ]
    },
    {
     "name": "stderr",
     "output_type": "stream",
     "text": [
      "INFO:tensorflow:Running local_init_op.\n"
     ]
    },
    {
     "name": "stdout",
     "output_type": "stream",
     "text": [
      "INFO:tensorflow:Done running local_init_op.\n"
     ]
    },
    {
     "name": "stderr",
     "output_type": "stream",
     "text": [
      "INFO:tensorflow:Done running local_init_op.\n"
     ]
    },
    {
     "name": "stdout",
     "output_type": "stream",
     "text": [
      "INFO:tensorflow:Calling checkpoint listeners before saving checkpoint 0...\n"
     ]
    },
    {
     "name": "stderr",
     "output_type": "stream",
     "text": [
      "INFO:tensorflow:Calling checkpoint listeners before saving checkpoint 0...\n"
     ]
    },
    {
     "name": "stdout",
     "output_type": "stream",
     "text": [
      "INFO:tensorflow:Saving checkpoints for 0 into /tmpfs/tmp/train/20220614-091424/model.ckpt.\n"
     ]
    },
    {
     "name": "stderr",
     "output_type": "stream",
     "text": [
      "INFO:tensorflow:Saving checkpoints for 0 into /tmpfs/tmp/train/20220614-091424/model.ckpt.\n"
     ]
    },
    {
     "name": "stdout",
     "output_type": "stream",
     "text": [
      "INFO:tensorflow:/tmpfs/tmp/train/20220614-091424/model.ckpt-0.index\n"
     ]
    },
    {
     "name": "stderr",
     "output_type": "stream",
     "text": [
      "INFO:tensorflow:/tmpfs/tmp/train/20220614-091424/model.ckpt-0.index\n"
     ]
    },
    {
     "name": "stdout",
     "output_type": "stream",
     "text": [
      "INFO:tensorflow:0\n"
     ]
    },
    {
     "name": "stderr",
     "output_type": "stream",
     "text": [
      "INFO:tensorflow:0\n"
     ]
    },
    {
     "name": "stdout",
     "output_type": "stream",
     "text": [
      "INFO:tensorflow:/tmpfs/tmp/train/20220614-091424/model.ckpt-0.data-00000-of-00001\n"
     ]
    },
    {
     "name": "stderr",
     "output_type": "stream",
     "text": [
      "INFO:tensorflow:/tmpfs/tmp/train/20220614-091424/model.ckpt-0.data-00000-of-00001\n"
     ]
    },
    {
     "name": "stdout",
     "output_type": "stream",
     "text": [
      "INFO:tensorflow:1035600\n"
     ]
    },
    {
     "name": "stderr",
     "output_type": "stream",
     "text": [
      "INFO:tensorflow:1035600\n"
     ]
    },
    {
     "name": "stdout",
     "output_type": "stream",
     "text": [
      "INFO:tensorflow:/tmpfs/tmp/train/20220614-091424/model.ckpt-0.meta\n"
     ]
    },
    {
     "name": "stderr",
     "output_type": "stream",
     "text": [
      "INFO:tensorflow:/tmpfs/tmp/train/20220614-091424/model.ckpt-0.meta\n"
     ]
    },
    {
     "name": "stdout",
     "output_type": "stream",
     "text": [
      "INFO:tensorflow:1054400\n"
     ]
    },
    {
     "name": "stderr",
     "output_type": "stream",
     "text": [
      "INFO:tensorflow:1054400\n"
     ]
    },
    {
     "name": "stdout",
     "output_type": "stream",
     "text": [
      "INFO:tensorflow:Calling checkpoint listeners after saving checkpoint 0...\n"
     ]
    },
    {
     "name": "stderr",
     "output_type": "stream",
     "text": [
      "INFO:tensorflow:Calling checkpoint listeners after saving checkpoint 0...\n"
     ]
    },
    {
     "name": "stdout",
     "output_type": "stream",
     "text": [
      "INFO:tensorflow:loss = 58.970486, step = 0\n"
     ]
    },
    {
     "name": "stderr",
     "output_type": "stream",
     "text": [
      "INFO:tensorflow:loss = 58.970486, step = 0\n"
     ]
    },
    {
     "name": "stdout",
     "output_type": "stream",
     "text": [
      "INFO:tensorflow:global_step/sec: 11.6285\n"
     ]
    },
    {
     "name": "stderr",
     "output_type": "stream",
     "text": [
      "INFO:tensorflow:global_step/sec: 11.6285\n"
     ]
    },
    {
     "name": "stdout",
     "output_type": "stream",
     "text": [
      "INFO:tensorflow:loss = 49.28814, step = 100 (8.601 sec)\n"
     ]
    },
    {
     "name": "stderr",
     "output_type": "stream",
     "text": [
      "INFO:tensorflow:loss = 49.28814, step = 100 (8.601 sec)\n"
     ]
    },
    {
     "name": "stdout",
     "output_type": "stream",
     "text": [
      "INFO:tensorflow:global_step/sec: 12.092\n"
     ]
    },
    {
     "name": "stderr",
     "output_type": "stream",
     "text": [
      "INFO:tensorflow:global_step/sec: 12.092\n"
     ]
    },
    {
     "name": "stdout",
     "output_type": "stream",
     "text": [
      "INFO:tensorflow:loss = 46.587196, step = 200 (8.270 sec)\n"
     ]
    },
    {
     "name": "stderr",
     "output_type": "stream",
     "text": [
      "INFO:tensorflow:loss = 46.587196, step = 200 (8.270 sec)\n"
     ]
    },
    {
     "name": "stdout",
     "output_type": "stream",
     "text": [
      "INFO:tensorflow:global_step/sec: 12.189\n"
     ]
    },
    {
     "name": "stderr",
     "output_type": "stream",
     "text": [
      "INFO:tensorflow:global_step/sec: 12.189\n"
     ]
    },
    {
     "name": "stdout",
     "output_type": "stream",
     "text": [
      "INFO:tensorflow:loss = 47.823334, step = 300 (8.204 sec)\n"
     ]
    },
    {
     "name": "stderr",
     "output_type": "stream",
     "text": [
      "INFO:tensorflow:loss = 47.823334, step = 300 (8.204 sec)\n"
     ]
    },
    {
     "name": "stdout",
     "output_type": "stream",
     "text": [
      "INFO:tensorflow:global_step/sec: 12.2692\n"
     ]
    },
    {
     "name": "stderr",
     "output_type": "stream",
     "text": [
      "INFO:tensorflow:global_step/sec: 12.2692\n"
     ]
    },
    {
     "name": "stdout",
     "output_type": "stream",
     "text": [
      "INFO:tensorflow:loss = 44.688576, step = 400 (8.150 sec)\n"
     ]
    },
    {
     "name": "stderr",
     "output_type": "stream",
     "text": [
      "INFO:tensorflow:loss = 44.688576, step = 400 (8.150 sec)\n"
     ]
    },
    {
     "name": "stdout",
     "output_type": "stream",
     "text": [
      "INFO:tensorflow:global_step/sec: 12.2589\n"
     ]
    },
    {
     "name": "stderr",
     "output_type": "stream",
     "text": [
      "INFO:tensorflow:global_step/sec: 12.2589\n"
     ]
    },
    {
     "name": "stdout",
     "output_type": "stream",
     "text": [
      "INFO:tensorflow:loss = 35.17933, step = 500 (8.157 sec)\n"
     ]
    },
    {
     "name": "stderr",
     "output_type": "stream",
     "text": [
      "INFO:tensorflow:loss = 35.17933, step = 500 (8.157 sec)\n"
     ]
    },
    {
     "name": "stdout",
     "output_type": "stream",
     "text": [
      "INFO:tensorflow:global_step/sec: 12.2221\n"
     ]
    },
    {
     "name": "stderr",
     "output_type": "stream",
     "text": [
      "INFO:tensorflow:global_step/sec: 12.2221\n"
     ]
    },
    {
     "name": "stdout",
     "output_type": "stream",
     "text": [
      "INFO:tensorflow:loss = 42.452896, step = 600 (8.182 sec)\n"
     ]
    },
    {
     "name": "stderr",
     "output_type": "stream",
     "text": [
      "INFO:tensorflow:loss = 42.452896, step = 600 (8.182 sec)\n"
     ]
    },
    {
     "name": "stdout",
     "output_type": "stream",
     "text": [
      "INFO:tensorflow:global_step/sec: 12.1482\n"
     ]
    },
    {
     "name": "stderr",
     "output_type": "stream",
     "text": [
      "INFO:tensorflow:global_step/sec: 12.1482\n"
     ]
    },
    {
     "name": "stdout",
     "output_type": "stream",
     "text": [
      "INFO:tensorflow:loss = 40.674175, step = 700 (8.232 sec)\n"
     ]
    },
    {
     "name": "stderr",
     "output_type": "stream",
     "text": [
      "INFO:tensorflow:loss = 40.674175, step = 700 (8.232 sec)\n"
     ]
    },
    {
     "name": "stdout",
     "output_type": "stream",
     "text": [
      "INFO:tensorflow:global_step/sec: 12.2072\n"
     ]
    },
    {
     "name": "stderr",
     "output_type": "stream",
     "text": [
      "INFO:tensorflow:global_step/sec: 12.2072\n"
     ]
    },
    {
     "name": "stdout",
     "output_type": "stream",
     "text": [
      "INFO:tensorflow:loss = 37.366833, step = 800 (8.192 sec)\n"
     ]
    },
    {
     "name": "stderr",
     "output_type": "stream",
     "text": [
      "INFO:tensorflow:loss = 37.366833, step = 800 (8.192 sec)\n"
     ]
    },
    {
     "name": "stdout",
     "output_type": "stream",
     "text": [
      "INFO:tensorflow:global_step/sec: 12.2323\n"
     ]
    },
    {
     "name": "stderr",
     "output_type": "stream",
     "text": [
      "INFO:tensorflow:global_step/sec: 12.2323\n"
     ]
    },
    {
     "name": "stdout",
     "output_type": "stream",
     "text": [
      "INFO:tensorflow:loss = 32.822994, step = 900 (8.175 sec)\n"
     ]
    },
    {
     "name": "stderr",
     "output_type": "stream",
     "text": [
      "INFO:tensorflow:loss = 32.822994, step = 900 (8.175 sec)\n"
     ]
    },
    {
     "name": "stdout",
     "output_type": "stream",
     "text": [
      "INFO:tensorflow:Calling checkpoint listeners before saving checkpoint 1000...\n"
     ]
    },
    {
     "name": "stderr",
     "output_type": "stream",
     "text": [
      "INFO:tensorflow:Calling checkpoint listeners before saving checkpoint 1000...\n"
     ]
    },
    {
     "name": "stdout",
     "output_type": "stream",
     "text": [
      "INFO:tensorflow:Saving checkpoints for 1000 into /tmpfs/tmp/train/20220614-091424/model.ckpt.\n"
     ]
    },
    {
     "name": "stderr",
     "output_type": "stream",
     "text": [
      "INFO:tensorflow:Saving checkpoints for 1000 into /tmpfs/tmp/train/20220614-091424/model.ckpt.\n"
     ]
    },
    {
     "name": "stdout",
     "output_type": "stream",
     "text": [
      "INFO:tensorflow:/tmpfs/tmp/train/20220614-091424/model.ckpt-1000.meta\n"
     ]
    },
    {
     "name": "stderr",
     "output_type": "stream",
     "text": [
      "INFO:tensorflow:/tmpfs/tmp/train/20220614-091424/model.ckpt-1000.meta\n"
     ]
    },
    {
     "name": "stdout",
     "output_type": "stream",
     "text": [
      "INFO:tensorflow:18800\n"
     ]
    },
    {
     "name": "stderr",
     "output_type": "stream",
     "text": [
      "INFO:tensorflow:18800\n"
     ]
    },
    {
     "name": "stdout",
     "output_type": "stream",
     "text": [
      "INFO:tensorflow:/tmpfs/tmp/train/20220614-091424/model.ckpt-1000.data-00000-of-00001\n"
     ]
    },
    {
     "name": "stderr",
     "output_type": "stream",
     "text": [
      "INFO:tensorflow:/tmpfs/tmp/train/20220614-091424/model.ckpt-1000.data-00000-of-00001\n"
     ]
    },
    {
     "name": "stdout",
     "output_type": "stream",
     "text": [
      "INFO:tensorflow:1054400\n"
     ]
    },
    {
     "name": "stderr",
     "output_type": "stream",
     "text": [
      "INFO:tensorflow:1054400\n"
     ]
    },
    {
     "name": "stdout",
     "output_type": "stream",
     "text": [
      "INFO:tensorflow:/tmpfs/tmp/train/20220614-091424/model.ckpt-1000.index\n"
     ]
    },
    {
     "name": "stderr",
     "output_type": "stream",
     "text": [
      "INFO:tensorflow:/tmpfs/tmp/train/20220614-091424/model.ckpt-1000.index\n"
     ]
    },
    {
     "name": "stdout",
     "output_type": "stream",
     "text": [
      "INFO:tensorflow:1054400\n"
     ]
    },
    {
     "name": "stderr",
     "output_type": "stream",
     "text": [
      "INFO:tensorflow:1054400\n"
     ]
    },
    {
     "name": "stdout",
     "output_type": "stream",
     "text": [
      "INFO:tensorflow:Calling checkpoint listeners after saving checkpoint 1000...\n"
     ]
    },
    {
     "name": "stderr",
     "output_type": "stream",
     "text": [
      "INFO:tensorflow:Calling checkpoint listeners after saving checkpoint 1000...\n"
     ]
    },
    {
     "name": "stdout",
     "output_type": "stream",
     "text": [
      "INFO:tensorflow:Loss for final step: 47.103577.\n"
     ]
    },
    {
     "name": "stderr",
     "output_type": "stream",
     "text": [
      "INFO:tensorflow:Loss for final step: 47.103577.\n"
     ]
    },
    {
     "name": "stdout",
     "output_type": "stream",
     "text": [
      "INFO:tensorflow:Calling model_fn.\n"
     ]
    },
    {
     "name": "stderr",
     "output_type": "stream",
     "text": [
      "INFO:tensorflow:Calling model_fn.\n"
     ]
    },
    {
     "name": "stderr",
     "output_type": "stream",
     "text": [
      "2022-06-14 09:16:16.582798: W tensorflow/core/common_runtime/graph_constructor.cc:1526] Importing a graph with a lower producer version 26 into an existing graph with producer version 1087. Shape inference will have run different parts of the graph with different producer versions.\n"
     ]
    },
    {
     "name": "stdout",
     "output_type": "stream",
     "text": [
      "INFO:tensorflow:Saver not created because there are no variables in the graph to restore\n"
     ]
    },
    {
     "name": "stderr",
     "output_type": "stream",
     "text": [
      "INFO:tensorflow:Saver not created because there are no variables in the graph to restore\n"
     ]
    },
    {
     "name": "stdout",
     "output_type": "stream",
     "text": [
      "INFO:tensorflow:Saver not created because there are no variables in the graph to restore\n"
     ]
    },
    {
     "name": "stderr",
     "output_type": "stream",
     "text": [
      "INFO:tensorflow:Saver not created because there are no variables in the graph to restore\n"
     ]
    },
    {
     "name": "stdout",
     "output_type": "stream",
     "text": [
      "WARNING:tensorflow:Trapezoidal rule is known to produce incorrect PR-AUCs; please switch to \"careful_interpolation\" instead.\n"
     ]
    },
    {
     "name": "stderr",
     "output_type": "stream",
     "text": [
      "WARNING:tensorflow:Trapezoidal rule is known to produce incorrect PR-AUCs; please switch to \"careful_interpolation\" instead.\n"
     ]
    },
    {
     "name": "stdout",
     "output_type": "stream",
     "text": [
      "WARNING:tensorflow:Trapezoidal rule is known to produce incorrect PR-AUCs; please switch to \"careful_interpolation\" instead.\n"
     ]
    },
    {
     "name": "stderr",
     "output_type": "stream",
     "text": [
      "WARNING:tensorflow:Trapezoidal rule is known to produce incorrect PR-AUCs; please switch to \"careful_interpolation\" instead.\n"
     ]
    },
    {
     "name": "stdout",
     "output_type": "stream",
     "text": [
      "INFO:tensorflow:Done calling model_fn.\n"
     ]
    },
    {
     "name": "stderr",
     "output_type": "stream",
     "text": [
      "INFO:tensorflow:Done calling model_fn.\n"
     ]
    },
    {
     "name": "stdout",
     "output_type": "stream",
     "text": [
      "INFO:tensorflow:Signatures INCLUDED in export for Classify: None\n"
     ]
    },
    {
     "name": "stderr",
     "output_type": "stream",
     "text": [
      "INFO:tensorflow:Signatures INCLUDED in export for Classify: None\n"
     ]
    },
    {
     "name": "stdout",
     "output_type": "stream",
     "text": [
      "INFO:tensorflow:Signatures INCLUDED in export for Regress: None\n"
     ]
    },
    {
     "name": "stderr",
     "output_type": "stream",
     "text": [
      "INFO:tensorflow:Signatures INCLUDED in export for Regress: None\n"
     ]
    },
    {
     "name": "stdout",
     "output_type": "stream",
     "text": [
      "INFO:tensorflow:Signatures INCLUDED in export for Predict: None\n"
     ]
    },
    {
     "name": "stderr",
     "output_type": "stream",
     "text": [
      "INFO:tensorflow:Signatures INCLUDED in export for Predict: None\n"
     ]
    },
    {
     "name": "stdout",
     "output_type": "stream",
     "text": [
      "INFO:tensorflow:Signatures INCLUDED in export for Train: None\n"
     ]
    },
    {
     "name": "stderr",
     "output_type": "stream",
     "text": [
      "INFO:tensorflow:Signatures INCLUDED in export for Train: None\n"
     ]
    },
    {
     "name": "stdout",
     "output_type": "stream",
     "text": [
      "INFO:tensorflow:Signatures INCLUDED in export for Eval: ['eval']\n"
     ]
    },
    {
     "name": "stderr",
     "output_type": "stream",
     "text": [
      "INFO:tensorflow:Signatures INCLUDED in export for Eval: ['eval']\n"
     ]
    },
    {
     "name": "stdout",
     "output_type": "stream",
     "text": [
      "WARNING:tensorflow:Export includes no default signature!\n"
     ]
    },
    {
     "name": "stderr",
     "output_type": "stream",
     "text": [
      "WARNING:tensorflow:Export includes no default signature!\n"
     ]
    },
    {
     "name": "stdout",
     "output_type": "stream",
     "text": [
      "INFO:tensorflow:Restoring parameters from /tmpfs/tmp/train/20220614-091424/model.ckpt-1000\n"
     ]
    },
    {
     "name": "stderr",
     "output_type": "stream",
     "text": [
      "INFO:tensorflow:Restoring parameters from /tmpfs/tmp/train/20220614-091424/model.ckpt-1000\n"
     ]
    },
    {
     "name": "stdout",
     "output_type": "stream",
     "text": [
      "INFO:tensorflow:Assets added to graph.\n"
     ]
    },
    {
     "name": "stderr",
     "output_type": "stream",
     "text": [
      "INFO:tensorflow:Assets added to graph.\n"
     ]
    },
    {
     "name": "stdout",
     "output_type": "stream",
     "text": [
      "INFO:tensorflow:No assets to write.\n"
     ]
    },
    {
     "name": "stderr",
     "output_type": "stream",
     "text": [
      "INFO:tensorflow:No assets to write.\n"
     ]
    },
    {
     "name": "stdout",
     "output_type": "stream",
     "text": [
      "INFO:tensorflow:/tmpfs/tmp/tfma_eval_model/temp-1655198176/variables/variables.index\n"
     ]
    },
    {
     "name": "stderr",
     "output_type": "stream",
     "text": [
      "INFO:tensorflow:/tmpfs/tmp/tfma_eval_model/temp-1655198176/variables/variables.index\n"
     ]
    },
    {
     "name": "stdout",
     "output_type": "stream",
     "text": [
      "INFO:tensorflow:0\n"
     ]
    },
    {
     "name": "stderr",
     "output_type": "stream",
     "text": [
      "INFO:tensorflow:0\n"
     ]
    },
    {
     "name": "stdout",
     "output_type": "stream",
     "text": [
      "INFO:tensorflow:/tmpfs/tmp/tfma_eval_model/temp-1655198176/variables/variables.data-00000-of-00001\n"
     ]
    },
    {
     "name": "stderr",
     "output_type": "stream",
     "text": [
      "INFO:tensorflow:/tmpfs/tmp/tfma_eval_model/temp-1655198176/variables/variables.data-00000-of-00001\n"
     ]
    },
    {
     "name": "stdout",
     "output_type": "stream",
     "text": [
      "INFO:tensorflow:1034400\n"
     ]
    },
    {
     "name": "stderr",
     "output_type": "stream",
     "text": [
      "INFO:tensorflow:1034400\n"
     ]
    },
    {
     "name": "stdout",
     "output_type": "stream",
     "text": [
      "INFO:tensorflow:SavedModel written to: /tmpfs/tmp/tfma_eval_model/temp-1655198176/saved_model.pb\n"
     ]
    },
    {
     "name": "stderr",
     "output_type": "stream",
     "text": [
      "INFO:tensorflow:SavedModel written to: /tmpfs/tmp/tfma_eval_model/temp-1655198176/saved_model.pb\n"
     ]
    },
    {
     "name": "stderr",
     "output_type": "stream",
     "text": [
      "WARNING:absl:Tensorflow version (2.9.1) found. Note that TFMA support for TF 2.0 is currently in beta\n"
     ]
    },
    {
     "name": "stderr",
     "output_type": "stream",
     "text": [
      "WARNING:root:Make sure that locally built Python SDK docker image has Python 3.8 interpreter.\n"
     ]
    },
    {
     "name": "stdout",
     "output_type": "stream",
     "text": [
      "INFO:tensorflow:Restoring parameters from /tmpfs/tmp/tfma_eval_model/1655198176/variables/variables\n"
     ]
    },
    {
     "name": "stderr",
     "output_type": "stream",
     "text": [
      "INFO:tensorflow:Restoring parameters from /tmpfs/tmp/tfma_eval_model/1655198176/variables/variables\n"
     ]
    }
   ],
   "source": [
    "eval_result_use = embedding_fairness_result('https://tfhub.dev/google/universal-sentence-encoder/2')"
   ]
  },
  {
   "cell_type": "code",
   "execution_count": 12,
   "metadata": {
    "execution": {
     "iopub.execute_input": "2022-06-14T09:21:55.217021Z",
     "iopub.status.busy": "2022-06-14T09:21:55.216758Z",
     "iopub.status.idle": "2022-06-14T09:21:55.228119Z",
     "shell.execute_reply": "2022-06-14T09:21:55.227550Z"
    },
    "id": "JBABAkZMVtTK"
   },
   "outputs": [
    {
     "data": {
      "application/vnd.jupyter.widget-view+json": {
       "model_id": "b6b198efad2a483c9046507c1ed87f86",
       "version_major": 2,
       "version_minor": 0
      },
      "text/plain": [
       "FairnessIndicatorViewer(slicingMetrics=[{'sliceValue': 'Overall', 'slice': 'Overall', 'metrics': {'auc': {'dou…"
      ]
     },
     "metadata": {},
     "output_type": "display_data"
    }
   ],
   "source": [
    "widget_view.render_fairness_indicator(eval_result=eval_result_use)"
   ]
  },
  {
   "cell_type": "markdown",
   "metadata": {
    "id": "402oTKbap77R"
   },
   "source": [
    "### Comparing Embeddings"
   ]
  },
  {
   "cell_type": "markdown",
   "metadata": {
    "id": "UgnqwNjpqBuv"
   },
   "source": [
    "You can also use Fairness Indicators to compare embeddings directly. For example, compare the models generated from the NNLM and USE embeddings."
   ]
  },
  {
   "cell_type": "code",
   "execution_count": 13,
   "metadata": {
    "execution": {
     "iopub.execute_input": "2022-06-14T09:21:55.232817Z",
     "iopub.status.busy": "2022-06-14T09:21:55.232581Z",
     "iopub.status.idle": "2022-06-14T09:21:55.246614Z",
     "shell.execute_reply": "2022-06-14T09:21:55.246060Z"
    },
    "id": "49ECfYWUp7Kk"
   },
   "outputs": [
    {
     "data": {
      "application/vnd.jupyter.widget-view+json": {
       "model_id": "11c870ec2c1e4efa9414a5d16d509f5c",
       "version_major": 2,
       "version_minor": 0
      },
      "text/plain": [
       "FairnessIndicatorViewer(evalName='nnlm', evalNameCompare='use', slicingMetrics=[{'sliceValue': 'Overall', 'sli…"
      ]
     },
     "metadata": {},
     "output_type": "display_data"
    }
   ],
   "source": [
    "widget_view.render_fairness_indicator(multi_eval_results={'nnlm': eval_result_nnlm, 'use': eval_result_use})"
   ]
  }
 ],
 "metadata": {
  "colab": {
   "collapsed_sections": [],
   "name": "Fairness Indicators on TF-Hub Text Embeddings",
   "private_outputs": true,
   "provenance": [],
   "toc_visible": true
  },
  "kernelspec": {
   "display_name": "Python 3",
   "name": "python3"
  },
  "language_info": {
   "codemirror_mode": {
    "name": "ipython",
    "version": 3
   },
   "file_extension": ".py",
   "mimetype": "text/x-python",
   "name": "python",
   "nbconvert_exporter": "python",
   "pygments_lexer": "ipython3",
   "version": "3.8.10"
  },
  "widgets": {
   "application/vnd.jupyter.widget-state+json": {
    "state": {
     "11c870ec2c1e4efa9414a5d16d509f5c": {
      "model_module": "tensorflow_model_analysis",
      "model_module_version": "0.39.0",
      "model_name": "FairnessIndicatorModel",
      "state": {
       "_dom_classes": [],
       "_model_module": "tensorflow_model_analysis",
       "_model_module_version": "0.39.0",
       "_model_name": "FairnessIndicatorModel",
       "_view_count": null,
       "_view_module": "tensorflow_model_analysis",
       "_view_module_version": "0.39.0",
       "_view_name": "FairnessIndicatorView",
       "evalName": "nnlm",
       "evalNameCompare": "use",
       "js_events": [],
       "layout": "IPY_MODEL_d1c551eb79024ebebe374a92b93c5052",
       "slicingMetrics": [
        {
         "metrics": {
          "accuracy": {
           "doubleValue": 0.718055248260498
          },
          "accuracy_baseline": {
           "doubleValue": 0.9198060631752014
          },
          "auc": {
           "doubleValue": 0.7967084646224976
          },
          "auc_precision_recall": {
           "doubleValue": 0.3008578419685364
          },
          "average_loss": {
           "doubleValue": 0.5615909695625305
          },
          "label/mean": {
           "doubleValue": 0.08019392192363739
          },
          "post_export_metrics/example_count": {
           "doubleValue": 721950.0
          },
          "post_export_metrics/fairness/confusion_matrix_at_thresholds": {
           "confusionMatrixAtThresholds": {
            "matrices": [
             {
              "boundedFalseNegatives": {
               "value": 341.0
              },
              "boundedFalsePositives": {
               "value": 611645.0
              },
              "boundedPrecision": {
               "value": 0.08600568026304245
              },
              "boundedRecall": {
               "value": 0.994110107421875
              },
              "boundedTrueNegatives": {
               "value": 52409.0
              },
              "boundedTruePositives": {
               "value": 57555.0
              },
              "falseNegatives": 341.0,
              "falsePositives": 611645.0,
              "precision": 0.08600568026304245,
              "recall": 0.994110107421875,
              "tDistributionFalseNegatives": {
               "unsampledValue": 341.0
              },
              "tDistributionFalsePositives": {
               "unsampledValue": 611645.0
              },
              "tDistributionPrecision": {
               "unsampledValue": 0.08600568026304245
              },
              "tDistributionRecall": {
               "unsampledValue": 0.994110107421875
              },
              "tDistributionTrueNegatives": {
               "unsampledValue": 52409.0
              },
              "tDistributionTruePositives": {
               "unsampledValue": 57555.0
              },
              "threshold": 0.10000000149011612,
              "trueNegatives": 52409.0,
              "truePositives": 57555.0
             },
             {
              "boundedFalseNegatives": {
               "value": 5043.0
              },
              "boundedFalsePositives": {
               "value": 384565.0
              },
              "boundedPrecision": {
               "value": 0.1208295077085495
              },
              "boundedRecall": {
               "value": 0.9128955602645874
              },
              "boundedTrueNegatives": {
               "value": 279489.0
              },
              "boundedTruePositives": {
               "value": 52853.0
              },
              "falseNegatives": 5043.0,
              "falsePositives": 384565.0,
              "precision": 0.1208295077085495,
              "recall": 0.9128955602645874,
              "tDistributionFalseNegatives": {
               "unsampledValue": 5043.0
              },
              "tDistributionFalsePositives": {
               "unsampledValue": 384565.0
              },
              "tDistributionPrecision": {
               "unsampledValue": 0.1208295077085495
              },
              "tDistributionRecall": {
               "unsampledValue": 0.9128955602645874
              },
              "tDistributionTrueNegatives": {
               "unsampledValue": 279489.0
              },
              "tDistributionTruePositives": {
               "unsampledValue": 52853.0
              },
              "threshold": 0.30000001192092896,
              "trueNegatives": 279489.0,
              "truePositives": 52853.0
             },
             {
              "boundedFalseNegatives": {
               "value": 15643.0
              },
              "boundedFalsePositives": {
               "value": 187907.0
              },
              "boundedPrecision": {
               "value": 0.18358097970485687
              },
              "boundedRecall": {
               "value": 0.7298086285591125
              },
              "boundedTrueNegatives": {
               "value": 476147.0
              },
              "boundedTruePositives": {
               "value": 42253.0
              },
              "falseNegatives": 15643.0,
              "falsePositives": 187907.0,
              "precision": 0.18358097970485687,
              "recall": 0.7298086285591125,
              "tDistributionFalseNegatives": {
               "unsampledValue": 15643.0
              },
              "tDistributionFalsePositives": {
               "unsampledValue": 187907.0
              },
              "tDistributionPrecision": {
               "unsampledValue": 0.18358097970485687
              },
              "tDistributionRecall": {
               "unsampledValue": 0.7298086285591125
              },
              "tDistributionTrueNegatives": {
               "unsampledValue": 476147.0
              },
              "tDistributionTruePositives": {
               "unsampledValue": 42253.0
              },
              "threshold": 0.5,
              "trueNegatives": 476147.0,
              "truePositives": 42253.0
             },
             {
              "boundedFalseNegatives": {
               "value": 31414.0
              },
              "boundedFalsePositives": {
               "value": 64845.0
              },
              "boundedPrecision": {
               "value": 0.2899690270423889
              },
              "boundedRecall": {
               "value": 0.4574063718318939
              },
              "boundedTrueNegatives": {
               "value": 599209.0
              },
              "boundedTruePositives": {
               "value": 26482.0
              },
              "falseNegatives": 31414.0,
              "falsePositives": 64845.0,
              "precision": 0.2899690270423889,
              "recall": 0.4574063718318939,
              "tDistributionFalseNegatives": {
               "unsampledValue": 31414.0
              },
              "tDistributionFalsePositives": {
               "unsampledValue": 64845.0
              },
              "tDistributionPrecision": {
               "unsampledValue": 0.2899690270423889
              },
              "tDistributionRecall": {
               "unsampledValue": 0.4574063718318939
              },
              "tDistributionTrueNegatives": {
               "unsampledValue": 599209.0
              },
              "tDistributionTruePositives": {
               "unsampledValue": 26482.0
              },
              "threshold": 0.699999988079071,
              "trueNegatives": 599209.0,
              "truePositives": 26482.0
             },
             {
              "boundedFalseNegatives": {
               "value": 51530.0
              },
              "boundedFalsePositives": {
               "value": 6011.0
              },
              "boundedPrecision": {
               "value": 0.5143411159515381
              },
              "boundedRecall": {
               "value": 0.10995578020811081
              },
              "boundedTrueNegatives": {
               "value": 658043.0
              },
              "boundedTruePositives": {
               "value": 6366.0
              },
              "falseNegatives": 51530.0,
              "falsePositives": 6011.0,
              "precision": 0.5143411159515381,
              "recall": 0.10995578020811081,
              "tDistributionFalseNegatives": {
               "unsampledValue": 51530.0
              },
              "tDistributionFalsePositives": {
               "unsampledValue": 6011.0
              },
              "tDistributionPrecision": {
               "unsampledValue": 0.5143411159515381
              },
              "tDistributionRecall": {
               "unsampledValue": 0.10995578020811081
              },
              "tDistributionTrueNegatives": {
               "unsampledValue": 658043.0
              },
              "tDistributionTruePositives": {
               "unsampledValue": 6366.0
              },
              "threshold": 0.8999999761581421,
              "trueNegatives": 658043.0,
              "truePositives": 6366.0
             }
            ]
           }
          },
          "post_export_metrics/false_discovery_rate@0.10": {
           "doubleValue": 0.913994312286377
          },
          "post_export_metrics/false_discovery_rate@0.30": {
           "doubleValue": 0.8791704773902893
          },
          "post_export_metrics/false_discovery_rate@0.50": {
           "doubleValue": 0.8164190053939819
          },
          "post_export_metrics/false_discovery_rate@0.70": {
           "doubleValue": 0.7100309729576111
          },
          "post_export_metrics/false_discovery_rate@0.90": {
           "doubleValue": 0.4856588840484619
          },
          "post_export_metrics/false_negative_rate@0.10": {
           "doubleValue": 0.005889871623367071
          },
          "post_export_metrics/false_negative_rate@0.30": {
           "doubleValue": 0.08710446208715439
          },
          "post_export_metrics/false_negative_rate@0.50": {
           "doubleValue": 0.27019137144088745
          },
          "post_export_metrics/false_negative_rate@0.70": {
           "doubleValue": 0.5425935983657837
          },
          "post_export_metrics/false_negative_rate@0.90": {
           "doubleValue": 0.8900442123413086
          },
          "post_export_metrics/false_omission_rate@0.10": {
           "doubleValue": 0.006464454811066389
          },
          "post_export_metrics/false_omission_rate@0.30": {
           "doubleValue": 0.017723841592669487
          },
          "post_export_metrics/false_omission_rate@0.50": {
           "doubleValue": 0.031808290630578995
          },
          "post_export_metrics/false_omission_rate@0.70": {
           "doubleValue": 0.04981423169374466
          },
          "post_export_metrics/false_omission_rate@0.90": {
           "doubleValue": 0.07262113690376282
          },
          "post_export_metrics/false_positive_rate@0.10": {
           "doubleValue": 0.9210771918296814
          },
          "post_export_metrics/false_positive_rate@0.30": {
           "doubleValue": 0.5791170597076416
          },
          "post_export_metrics/false_positive_rate@0.50": {
           "doubleValue": 0.2829694449901581
          },
          "post_export_metrics/false_positive_rate@0.70": {
           "doubleValue": 0.0976501926779747
          },
          "post_export_metrics/false_positive_rate@0.90": {
           "doubleValue": 0.00905197486281395
          },
          "post_export_metrics/negative_rate@0.10": {
           "doubleValue": 0.07306600362062454
          },
          "post_export_metrics/negative_rate@0.30": {
           "doubleValue": 0.3941159248352051
          },
          "post_export_metrics/negative_rate@0.50": {
           "doubleValue": 0.6811967492103577
          },
          "post_export_metrics/negative_rate@0.70": {
           "doubleValue": 0.8734995722770691
          },
          "post_export_metrics/negative_rate@0.90": {
           "doubleValue": 0.9828561544418335
          },
          "post_export_metrics/positive_rate@0.10": {
           "doubleValue": 0.926934003829956
          },
          "post_export_metrics/positive_rate@0.30": {
           "doubleValue": 0.6058840751647949
          },
          "post_export_metrics/positive_rate@0.50": {
           "doubleValue": 0.31880325078964233
          },
          "post_export_metrics/positive_rate@0.70": {
           "doubleValue": 0.1265004575252533
          },
          "post_export_metrics/positive_rate@0.90": {
           "doubleValue": 0.017143847420811653
          },
          "post_export_metrics/true_negative_rate@0.10": {
           "doubleValue": 0.078922800719738
          },
          "post_export_metrics/true_negative_rate@0.30": {
           "doubleValue": 0.4208829402923584
          },
          "post_export_metrics/true_negative_rate@0.50": {
           "doubleValue": 0.7170305252075195
          },
          "post_export_metrics/true_negative_rate@0.70": {
           "doubleValue": 0.9023498296737671
          },
          "post_export_metrics/true_negative_rate@0.90": {
           "doubleValue": 0.9909480214118958
          },
          "post_export_metrics/true_positive_rate@0.10": {
           "doubleValue": 0.994110107421875
          },
          "post_export_metrics/true_positive_rate@0.30": {
           "doubleValue": 0.9128955602645874
          },
          "post_export_metrics/true_positive_rate@0.50": {
           "doubleValue": 0.7298086285591125
          },
          "post_export_metrics/true_positive_rate@0.70": {
           "doubleValue": 0.4574063718318939
          },
          "post_export_metrics/true_positive_rate@0.90": {
           "doubleValue": 0.10995578020811081
          },
          "precision": {
           "doubleValue": 0.18358097970485687
          },
          "prediction/mean": {
           "doubleValue": 0.39958447217941284
          },
          "recall": {
           "doubleValue": 0.7298086285591125
          }
         },
         "slice": "Overall",
         "sliceValue": "Overall"
        },
        {
         "metrics": {
          "accuracy": {
           "doubleValue": 0.5682107210159302
          },
          "accuracy_baseline": {
           "doubleValue": 0.8633428812026978
          },
          "auc": {
           "doubleValue": 0.7713558673858643
          },
          "auc_precision_recall": {
           "doubleValue": 0.3608880937099457
          },
          "average_loss": {
           "doubleValue": 0.7635968923568726
          },
          "label/mean": {
           "doubleValue": 0.13665708899497986
          },
          "post_export_metrics/example_count": {
           "doubleValue": 21221.0
          },
          "post_export_metrics/fairness/confusion_matrix_at_thresholds": {
           "confusionMatrixAtThresholds": {
            "matrices": [
             {
              "boundedFalseNegatives": {
               "value": 6.0
              },
              "boundedFalsePositives": {
               "value": 17439.0
              },
              "boundedPrecision": {
               "value": 0.14233019948005676
              },
              "boundedRecall": {
               "value": 0.9979310631752014
              },
              "boundedTrueNegatives": {
               "value": 882.0
              },
              "boundedTruePositives": {
               "value": 2894.0
              },
              "falseNegatives": 6.0,
              "falsePositives": 17439.0,
              "precision": 0.14233019948005676,
              "recall": 0.9979310631752014,
              "tDistributionFalseNegatives": {
               "unsampledValue": 6.0
              },
              "tDistributionFalsePositives": {
               "unsampledValue": 17439.0
              },
              "tDistributionPrecision": {
               "unsampledValue": 0.14233019948005676
              },
              "tDistributionRecall": {
               "unsampledValue": 0.9979310631752014
              },
              "tDistributionTrueNegatives": {
               "unsampledValue": 882.0
              },
              "tDistributionTruePositives": {
               "unsampledValue": 2894.0
              },
              "threshold": 0.10000000149011612,
              "trueNegatives": 882.0,
              "truePositives": 2894.0
             },
             {
              "boundedFalseNegatives": {
               "value": 120.0
              },
              "boundedFalsePositives": {
               "value": 13489.0
              },
              "boundedPrecision": {
               "value": 0.1708771288394928
              },
              "boundedRecall": {
               "value": 0.9586206674575806
              },
              "boundedTrueNegatives": {
               "value": 4832.0
              },
              "boundedTruePositives": {
               "value": 2780.0
              },
              "falseNegatives": 120.0,
              "falsePositives": 13489.0,
              "precision": 0.1708771288394928,
              "recall": 0.9586206674575806,
              "tDistributionFalseNegatives": {
               "unsampledValue": 120.0
              },
              "tDistributionFalsePositives": {
               "unsampledValue": 13489.0
              },
              "tDistributionPrecision": {
               "unsampledValue": 0.1708771288394928
              },
              "tDistributionRecall": {
               "unsampledValue": 0.9586206674575806
              },
              "tDistributionTrueNegatives": {
               "unsampledValue": 4832.0
              },
              "tDistributionTruePositives": {
               "unsampledValue": 2780.0
              },
              "threshold": 0.30000001192092896,
              "trueNegatives": 4832.0,
              "truePositives": 2780.0
             },
             {
              "boundedFalseNegatives": {
               "value": 434.0
              },
              "boundedFalsePositives": {
               "value": 8729.0
              },
              "boundedPrecision": {
               "value": 0.22027690708637238
              },
              "boundedRecall": {
               "value": 0.8503448367118835
              },
              "boundedTrueNegatives": {
               "value": 9592.0
              },
              "boundedTruePositives": {
               "value": 2466.0
              },
              "falseNegatives": 434.0,
              "falsePositives": 8729.0,
              "precision": 0.22027690708637238,
              "recall": 0.8503448367118835,
              "tDistributionFalseNegatives": {
               "unsampledValue": 434.0
              },
              "tDistributionFalsePositives": {
               "unsampledValue": 8729.0
              },
              "tDistributionPrecision": {
               "unsampledValue": 0.22027690708637238
              },
              "tDistributionRecall": {
               "unsampledValue": 0.8503448367118835
              },
              "tDistributionTrueNegatives": {
               "unsampledValue": 9592.0
              },
              "tDistributionTruePositives": {
               "unsampledValue": 2466.0
              },
              "threshold": 0.5,
              "trueNegatives": 9592.0,
              "truePositives": 2466.0
             },
             {
              "boundedFalseNegatives": {
               "value": 1151.0
              },
              "boundedFalsePositives": {
               "value": 4154.0
              },
              "boundedPrecision": {
               "value": 0.29629001021385193
              },
              "boundedRecall": {
               "value": 0.6031034588813782
              },
              "boundedTrueNegatives": {
               "value": 14167.0
              },
              "boundedTruePositives": {
               "value": 1749.0
              },
              "falseNegatives": 1151.0,
              "falsePositives": 4154.0,
              "precision": 0.29629001021385193,
              "recall": 0.6031034588813782,
              "tDistributionFalseNegatives": {
               "unsampledValue": 1151.0
              },
              "tDistributionFalsePositives": {
               "unsampledValue": 4154.0
              },
              "tDistributionPrecision": {
               "unsampledValue": 0.29629001021385193
              },
              "tDistributionRecall": {
               "unsampledValue": 0.6031034588813782
              },
              "tDistributionTrueNegatives": {
               "unsampledValue": 14167.0
              },
              "tDistributionTruePositives": {
               "unsampledValue": 1749.0
              },
              "threshold": 0.699999988079071,
              "trueNegatives": 14167.0,
              "truePositives": 1749.0
             },
             {
              "boundedFalseNegatives": {
               "value": 2305.0
              },
              "boundedFalsePositives": {
               "value": 636.0
              },
              "boundedPrecision": {
               "value": 0.4833468794822693
              },
              "boundedRecall": {
               "value": 0.20517241954803467
              },
              "boundedTrueNegatives": {
               "value": 17685.0
              },
              "boundedTruePositives": {
               "value": 595.0
              },
              "falseNegatives": 2305.0,
              "falsePositives": 636.0,
              "precision": 0.4833468794822693,
              "recall": 0.20517241954803467,
              "tDistributionFalseNegatives": {
               "unsampledValue": 2305.0
              },
              "tDistributionFalsePositives": {
               "unsampledValue": 636.0
              },
              "tDistributionPrecision": {
               "unsampledValue": 0.4833468794822693
              },
              "tDistributionRecall": {
               "unsampledValue": 0.20517241954803467
              },
              "tDistributionTrueNegatives": {
               "unsampledValue": 17685.0
              },
              "tDistributionTruePositives": {
               "unsampledValue": 595.0
              },
              "threshold": 0.8999999761581421,
              "trueNegatives": 17685.0,
              "truePositives": 595.0
             }
            ]
           }
          },
          "post_export_metrics/false_discovery_rate@0.10": {
           "doubleValue": 0.8576697707176208
          },
          "post_export_metrics/false_discovery_rate@0.30": {
           "doubleValue": 0.8291229009628296
          },
          "post_export_metrics/false_discovery_rate@0.50": {
           "doubleValue": 0.7797231078147888
          },
          "post_export_metrics/false_discovery_rate@0.70": {
           "doubleValue": 0.7037099599838257
          },
          "post_export_metrics/false_discovery_rate@0.90": {
           "doubleValue": 0.5166531205177307
          },
          "post_export_metrics/false_negative_rate@0.10": {
           "doubleValue": 0.0020689654629677534
          },
          "post_export_metrics/false_negative_rate@0.30": {
           "doubleValue": 0.04137931019067764
          },
          "post_export_metrics/false_negative_rate@0.50": {
           "doubleValue": 0.14965517818927765
          },
          "post_export_metrics/false_negative_rate@0.70": {
           "doubleValue": 0.3968965411186218
          },
          "post_export_metrics/false_negative_rate@0.90": {
           "doubleValue": 0.7948275804519653
          },
          "post_export_metrics/false_omission_rate@0.10": {
           "doubleValue": 0.006756756920367479
          },
          "post_export_metrics/false_omission_rate@0.30": {
           "doubleValue": 0.024232633411884308
          },
          "post_export_metrics/false_omission_rate@0.50": {
           "doubleValue": 0.043287452310323715
          },
          "post_export_metrics/false_omission_rate@0.70": {
           "doubleValue": 0.07514035701751709
          },
          "post_export_metrics/false_omission_rate@0.90": {
           "doubleValue": 0.11530765146017075
          },
          "post_export_metrics/false_positive_rate@0.10": {
           "doubleValue": 0.9518585205078125
          },
          "post_export_metrics/false_positive_rate@0.30": {
           "doubleValue": 0.7362589240074158
          },
          "post_export_metrics/false_positive_rate@0.50": {
           "doubleValue": 0.47644779086112976
          },
          "post_export_metrics/false_positive_rate@0.70": {
           "doubleValue": 0.22673435509204865
          },
          "post_export_metrics/false_positive_rate@0.90": {
           "doubleValue": 0.034714262932538986
          },
          "post_export_metrics/negative_rate@0.10": {
           "doubleValue": 0.04184534028172493
          },
          "post_export_metrics/negative_rate@0.30": {
           "doubleValue": 0.23335374891757965
          },
          "post_export_metrics/negative_rate@0.50": {
           "doubleValue": 0.47245651483535767
          },
          "post_export_metrics/negative_rate@0.70": {
           "doubleValue": 0.7218321561813354
          },
          "post_export_metrics/negative_rate@0.90": {
           "doubleValue": 0.9419914484024048
          },
          "post_export_metrics/positive_rate@0.10": {
           "doubleValue": 0.9581546783447266
          },
          "post_export_metrics/positive_rate@0.30": {
           "doubleValue": 0.7666462659835815
          },
          "post_export_metrics/positive_rate@0.50": {
           "doubleValue": 0.5275434851646423
          },
          "post_export_metrics/positive_rate@0.70": {
           "doubleValue": 0.27816784381866455
          },
          "post_export_metrics/positive_rate@0.90": {
           "doubleValue": 0.058008577674627304
          },
          "post_export_metrics/true_negative_rate@0.10": {
           "doubleValue": 0.0481414757668972
          },
          "post_export_metrics/true_negative_rate@0.30": {
           "doubleValue": 0.26374107599258423
          },
          "post_export_metrics/true_negative_rate@0.50": {
           "doubleValue": 0.5235521793365479
          },
          "post_export_metrics/true_negative_rate@0.70": {
           "doubleValue": 0.7732656598091125
          },
          "post_export_metrics/true_negative_rate@0.90": {
           "doubleValue": 0.9652857184410095
          },
          "post_export_metrics/true_positive_rate@0.10": {
           "doubleValue": 0.9979310631752014
          },
          "post_export_metrics/true_positive_rate@0.30": {
           "doubleValue": 0.9586206674575806
          },
          "post_export_metrics/true_positive_rate@0.50": {
           "doubleValue": 0.8503448367118835
          },
          "post_export_metrics/true_positive_rate@0.70": {
           "doubleValue": 0.6031034588813782
          },
          "post_export_metrics/true_positive_rate@0.90": {
           "doubleValue": 0.20517241954803467
          },
          "precision": {
           "doubleValue": 0.22027690708637238
          },
          "prediction/mean": {
           "doubleValue": 0.5177326798439026
          },
          "recall": {
           "doubleValue": 0.8503448367118835
          }
         },
         "slice": "gender:female",
         "sliceValue": "female"
        },
        {
         "metrics": {
          "accuracy": {
           "doubleValue": 0.5429877042770386
          },
          "accuracy_baseline": {
           "doubleValue": 0.8499943614006042
          },
          "auc": {
           "doubleValue": 0.765247106552124
          },
          "auc_precision_recall": {
           "doubleValue": 0.3823912739753723
          },
          "average_loss": {
           "doubleValue": 0.7979258298873901
          },
          "label/mean": {
           "doubleValue": 0.15000563859939575
          },
          "post_export_metrics/example_count": {
           "doubleValue": 17726.0
          },
          "post_export_metrics/fairness/confusion_matrix_at_thresholds": {
           "confusionMatrixAtThresholds": {
            "matrices": [
             {
              "boundedFalseNegatives": {
               "value": 6.0
              },
              "boundedFalsePositives": {
               "value": 14563.0
              },
              "boundedPrecision": {
               "value": 0.15410083532333374
              },
              "boundedRecall": {
               "value": 0.9977434873580933
              },
              "boundedTrueNegatives": {
               "value": 504.0
              },
              "boundedTruePositives": {
               "value": 2653.0
              },
              "falseNegatives": 6.0,
              "falsePositives": 14563.0,
              "precision": 0.15410083532333374,
              "recall": 0.9977434873580933,
              "tDistributionFalseNegatives": {
               "unsampledValue": 6.0
              },
              "tDistributionFalsePositives": {
               "unsampledValue": 14563.0
              },
              "tDistributionPrecision": {
               "unsampledValue": 0.15410083532333374
              },
              "tDistributionRecall": {
               "unsampledValue": 0.9977434873580933
              },
              "tDistributionTrueNegatives": {
               "unsampledValue": 504.0
              },
              "tDistributionTruePositives": {
               "unsampledValue": 2653.0
              },
              "threshold": 0.10000000149011612,
              "trueNegatives": 504.0,
              "truePositives": 2653.0
             },
             {
              "boundedFalseNegatives": {
               "value": 94.0
              },
              "boundedFalsePositives": {
               "value": 11682.0
              },
              "boundedPrecision": {
               "value": 0.18003790080547333
              },
              "boundedRecall": {
               "value": 0.9646483659744263
              },
              "boundedTrueNegatives": {
               "value": 3385.0
              },
              "boundedTruePositives": {
               "value": 2565.0
              },
              "falseNegatives": 94.0,
              "falsePositives": 11682.0,
              "precision": 0.18003790080547333,
              "recall": 0.9646483659744263,
              "tDistributionFalseNegatives": {
               "unsampledValue": 94.0
              },
              "tDistributionFalsePositives": {
               "unsampledValue": 11682.0
              },
              "tDistributionPrecision": {
               "unsampledValue": 0.18003790080547333
              },
              "tDistributionRecall": {
               "unsampledValue": 0.9646483659744263
              },
              "tDistributionTrueNegatives": {
               "unsampledValue": 3385.0
              },
              "tDistributionTruePositives": {
               "unsampledValue": 2565.0
              },
              "threshold": 0.30000001192092896,
              "trueNegatives": 3385.0,
              "truePositives": 2565.0
             },
             {
              "boundedFalseNegatives": {
               "value": 357.0
              },
              "boundedFalsePositives": {
               "value": 7744.0
              },
              "boundedPrecision": {
               "value": 0.22914592921733856
              },
              "boundedRecall": {
               "value": 0.8657389879226685
              },
              "boundedTrueNegatives": {
               "value": 7323.0
              },
              "boundedTruePositives": {
               "value": 2302.0
              },
              "falseNegatives": 357.0,
              "falsePositives": 7744.0,
              "precision": 0.22914592921733856,
              "recall": 0.8657389879226685,
              "tDistributionFalseNegatives": {
               "unsampledValue": 357.0
              },
              "tDistributionFalsePositives": {
               "unsampledValue": 7744.0
              },
              "tDistributionPrecision": {
               "unsampledValue": 0.22914592921733856
              },
              "tDistributionRecall": {
               "unsampledValue": 0.8657389879226685
              },
              "tDistributionTrueNegatives": {
               "unsampledValue": 7323.0
              },
              "tDistributionTruePositives": {
               "unsampledValue": 2302.0
              },
              "threshold": 0.5,
              "trueNegatives": 7323.0,
              "truePositives": 2302.0
             },
             {
              "boundedFalseNegatives": {
               "value": 985.0
              },
              "boundedFalsePositives": {
               "value": 3779.0
              },
              "boundedPrecision": {
               "value": 0.3069869875907898
              },
              "boundedRecall": {
               "value": 0.6295599937438965
              },
              "boundedTrueNegatives": {
               "value": 11288.0
              },
              "boundedTruePositives": {
               "value": 1674.0
              },
              "falseNegatives": 985.0,
              "falsePositives": 3779.0,
              "precision": 0.3069869875907898,
              "recall": 0.6295599937438965,
              "tDistributionFalseNegatives": {
               "unsampledValue": 985.0
              },
              "tDistributionFalsePositives": {
               "unsampledValue": 3779.0
              },
              "tDistributionPrecision": {
               "unsampledValue": 0.3069869875907898
              },
              "tDistributionRecall": {
               "unsampledValue": 0.6295599937438965
              },
              "tDistributionTrueNegatives": {
               "unsampledValue": 11288.0
              },
              "tDistributionTruePositives": {
               "unsampledValue": 1674.0
              },
              "threshold": 0.699999988079071,
              "trueNegatives": 11288.0,
              "truePositives": 1674.0
             },
             {
              "boundedFalseNegatives": {
               "value": 2081.0
              },
              "boundedFalsePositives": {
               "value": 574.0
              },
              "boundedPrecision": {
               "value": 0.5017361044883728
              },
              "boundedRecall": {
               "value": 0.21737495064735413
              },
              "boundedTrueNegatives": {
               "value": 14493.0
              },
              "boundedTruePositives": {
               "value": 578.0
              },
              "falseNegatives": 2081.0,
              "falsePositives": 574.0,
              "precision": 0.5017361044883728,
              "recall": 0.21737495064735413,
              "tDistributionFalseNegatives": {
               "unsampledValue": 2081.0
              },
              "tDistributionFalsePositives": {
               "unsampledValue": 574.0
              },
              "tDistributionPrecision": {
               "unsampledValue": 0.5017361044883728
              },
              "tDistributionRecall": {
               "unsampledValue": 0.21737495064735413
              },
              "tDistributionTrueNegatives": {
               "unsampledValue": 14493.0
              },
              "tDistributionTruePositives": {
               "unsampledValue": 578.0
              },
              "threshold": 0.8999999761581421,
              "trueNegatives": 14493.0,
              "truePositives": 578.0
             }
            ]
           }
          },
          "post_export_metrics/false_discovery_rate@0.10": {
           "doubleValue": 0.8458991646766663
          },
          "post_export_metrics/false_discovery_rate@0.30": {
           "doubleValue": 0.8199620842933655
          },
          "post_export_metrics/false_discovery_rate@0.50": {
           "doubleValue": 0.7708540558815002
          },
          "post_export_metrics/false_discovery_rate@0.70": {
           "doubleValue": 0.6930130124092102
          },
          "post_export_metrics/false_discovery_rate@0.90": {
           "doubleValue": 0.4982638955116272
          },
          "post_export_metrics/false_negative_rate@0.10": {
           "doubleValue": 0.0022564874961972237
          },
          "post_export_metrics/false_negative_rate@0.30": {
           "doubleValue": 0.03535163775086403
          },
          "post_export_metrics/false_negative_rate@0.50": {
           "doubleValue": 0.13426099717617035
          },
          "post_export_metrics/false_negative_rate@0.70": {
           "doubleValue": 0.3704400062561035
          },
          "post_export_metrics/false_negative_rate@0.90": {
           "doubleValue": 0.7826250195503235
          },
          "post_export_metrics/false_omission_rate@0.10": {
           "doubleValue": 0.0117647061124444
          },
          "post_export_metrics/false_omission_rate@0.30": {
           "doubleValue": 0.027019258588552475
          },
          "post_export_metrics/false_omission_rate@0.50": {
           "doubleValue": 0.04648437350988388
          },
          "post_export_metrics/false_omission_rate@0.70": {
           "doubleValue": 0.08025747537612915
          },
          "post_export_metrics/false_omission_rate@0.90": {
           "doubleValue": 0.12555810809135437
          },
          "post_export_metrics/false_positive_rate@0.10": {
           "doubleValue": 0.9665493965148926
          },
          "post_export_metrics/false_positive_rate@0.30": {
           "doubleValue": 0.7753368020057678
          },
          "post_export_metrics/false_positive_rate@0.50": {
           "doubleValue": 0.5139709115028381
          },
          "post_export_metrics/false_positive_rate@0.70": {
           "doubleValue": 0.2508130371570587
          },
          "post_export_metrics/false_positive_rate@0.90": {
           "doubleValue": 0.03809650242328644
          },
          "post_export_metrics/negative_rate@0.10": {
           "doubleValue": 0.0287712961435318
          },
          "post_export_metrics/negative_rate@0.30": {
           "doubleValue": 0.19626536965370178
          },
          "post_export_metrics/negative_rate@0.50": {
           "doubleValue": 0.4332618713378906
          },
          "post_export_metrics/negative_rate@0.70": {
           "doubleValue": 0.6923727989196777
          },
          "post_export_metrics/negative_rate@0.90": {
           "doubleValue": 0.9350107312202454
          },
          "post_export_metrics/positive_rate@0.10": {
           "doubleValue": 0.9712287187576294
          },
          "post_export_metrics/positive_rate@0.30": {
           "doubleValue": 0.8037346005439758
          },
          "post_export_metrics/positive_rate@0.50": {
           "doubleValue": 0.5667381286621094
          },
          "post_export_metrics/positive_rate@0.70": {
           "doubleValue": 0.30762720108032227
          },
          "post_export_metrics/positive_rate@0.90": {
           "doubleValue": 0.06498928368091583
          },
          "post_export_metrics/true_negative_rate@0.10": {
           "doubleValue": 0.03345058858394623
          },
          "post_export_metrics/true_negative_rate@0.30": {
           "doubleValue": 0.2246631681919098
          },
          "post_export_metrics/true_negative_rate@0.50": {
           "doubleValue": 0.4860290586948395
          },
          "post_export_metrics/true_negative_rate@0.70": {
           "doubleValue": 0.7491869926452637
          },
          "post_export_metrics/true_negative_rate@0.90": {
           "doubleValue": 0.9619035124778748
          },
          "post_export_metrics/true_positive_rate@0.10": {
           "doubleValue": 0.9977434873580933
          },
          "post_export_metrics/true_positive_rate@0.30": {
           "doubleValue": 0.9646483659744263
          },
          "post_export_metrics/true_positive_rate@0.50": {
           "doubleValue": 0.8657389879226685
          },
          "post_export_metrics/true_positive_rate@0.70": {
           "doubleValue": 0.6295599937438965
          },
          "post_export_metrics/true_positive_rate@0.90": {
           "doubleValue": 0.21737495064735413
          },
          "precision": {
           "doubleValue": 0.22914592921733856
          },
          "prediction/mean": {
           "doubleValue": 0.5420265793800354
          },
          "recall": {
           "doubleValue": 0.8657389879226685
          }
         },
         "slice": "gender:male",
         "sliceValue": "male"
        },
        {
         "metrics": {
          "accuracy": {
           "doubleValue": 0.6213080286979675
          },
          "accuracy_baseline": {
           "doubleValue": 0.7943037748336792
          },
          "auc": {
           "doubleValue": 0.732110857963562
          },
          "auc_precision_recall": {
           "doubleValue": 0.3981589376926422
          },
          "average_loss": {
           "doubleValue": 0.6888409852981567
          },
          "label/mean": {
           "doubleValue": 0.2056961953639984
          },
          "post_export_metrics/example_count": {
           "doubleValue": 948.0
          },
          "post_export_metrics/fairness/confusion_matrix_at_thresholds": {
           "confusionMatrixAtThresholds": {
            "matrices": [
             {
              "boundedFalseNegatives": {
               "value": 3.0
              },
              "boundedFalsePositives": {
               "value": 717.0
              },
              "boundedPrecision": {
               "value": 0.2112211287021637
              },
              "boundedRecall": {
               "value": 0.9846153855323792
              },
              "boundedTrueNegatives": {
               "value": 36.0
              },
              "boundedTruePositives": {
               "value": 192.0
              },
              "falseNegatives": 3.0,
              "falsePositives": 717.0,
              "precision": 0.2112211287021637,
              "recall": 0.9846153855323792,
              "tDistributionFalseNegatives": {
               "unsampledValue": 3.0
              },
              "tDistributionFalsePositives": {
               "unsampledValue": 717.0
              },
              "tDistributionPrecision": {
               "unsampledValue": 0.2112211287021637
              },
              "tDistributionRecall": {
               "unsampledValue": 0.9846153855323792
              },
              "tDistributionTrueNegatives": {
               "unsampledValue": 36.0
              },
              "tDistributionTruePositives": {
               "unsampledValue": 192.0
              },
              "threshold": 0.10000000149011612,
              "trueNegatives": 36.0,
              "truePositives": 192.0
             },
             {
              "boundedFalseNegatives": {
               "value": 13.0
              },
              "boundedFalsePositives": {
               "value": 536.0
              },
              "boundedPrecision": {
               "value": 0.2534818947315216
              },
              "boundedRecall": {
               "value": 0.9333333373069763
              },
              "boundedTrueNegatives": {
               "value": 217.0
              },
              "boundedTruePositives": {
               "value": 182.0
              },
              "falseNegatives": 13.0,
              "falsePositives": 536.0,
              "precision": 0.2534818947315216,
              "recall": 0.9333333373069763,
              "tDistributionFalseNegatives": {
               "unsampledValue": 13.0
              },
              "tDistributionFalsePositives": {
               "unsampledValue": 536.0
              },
              "tDistributionPrecision": {
               "unsampledValue": 0.2534818947315216
              },
              "tDistributionRecall": {
               "unsampledValue": 0.9333333373069763
              },
              "tDistributionTrueNegatives": {
               "unsampledValue": 217.0
              },
              "tDistributionTruePositives": {
               "unsampledValue": 182.0
              },
              "threshold": 0.30000001192092896,
              "trueNegatives": 217.0,
              "truePositives": 182.0
             },
             {
              "boundedFalseNegatives": {
               "value": 45.0
              },
              "boundedFalsePositives": {
               "value": 314.0
              },
              "boundedPrecision": {
               "value": 0.3232758641242981
              },
              "boundedRecall": {
               "value": 0.7692307829856873
              },
              "boundedTrueNegatives": {
               "value": 439.0
              },
              "boundedTruePositives": {
               "value": 150.0
              },
              "falseNegatives": 45.0,
              "falsePositives": 314.0,
              "precision": 0.3232758641242981,
              "recall": 0.7692307829856873,
              "tDistributionFalseNegatives": {
               "unsampledValue": 45.0
              },
              "tDistributionFalsePositives": {
               "unsampledValue": 314.0
              },
              "tDistributionPrecision": {
               "unsampledValue": 0.3232758641242981
              },
              "tDistributionRecall": {
               "unsampledValue": 0.7692307829856873
              },
              "tDistributionTrueNegatives": {
               "unsampledValue": 439.0
              },
              "tDistributionTruePositives": {
               "unsampledValue": 150.0
              },
              "threshold": 0.5,
              "trueNegatives": 439.0,
              "truePositives": 150.0
             },
             {
              "boundedFalseNegatives": {
               "value": 105.0
              },
              "boundedFalsePositives": {
               "value": 127.0
              },
              "boundedPrecision": {
               "value": 0.41474655270576477
              },
              "boundedRecall": {
               "value": 0.4615384638309479
              },
              "boundedTrueNegatives": {
               "value": 626.0
              },
              "boundedTruePositives": {
               "value": 90.0
              },
              "falseNegatives": 105.0,
              "falsePositives": 127.0,
              "precision": 0.41474655270576477,
              "recall": 0.4615384638309479,
              "tDistributionFalseNegatives": {
               "unsampledValue": 105.0
              },
              "tDistributionFalsePositives": {
               "unsampledValue": 127.0
              },
              "tDistributionPrecision": {
               "unsampledValue": 0.41474655270576477
              },
              "tDistributionRecall": {
               "unsampledValue": 0.4615384638309479
              },
              "tDistributionTrueNegatives": {
               "unsampledValue": 626.0
              },
              "tDistributionTruePositives": {
               "unsampledValue": 90.0
              },
              "threshold": 0.699999988079071,
              "trueNegatives": 626.0,
              "truePositives": 90.0
             },
             {
              "boundedFalseNegatives": {
               "value": 175.0
              },
              "boundedFalsePositives": {
               "value": 16.0
              },
              "boundedPrecision": {
               "value": 0.5555555820465088
              },
              "boundedRecall": {
               "value": 0.10256410390138626
              },
              "boundedTrueNegatives": {
               "value": 737.0
              },
              "boundedTruePositives": {
               "value": 20.0
              },
              "falseNegatives": 175.0,
              "falsePositives": 16.0,
              "precision": 0.5555555820465088,
              "recall": 0.10256410390138626,
              "tDistributionFalseNegatives": {
               "unsampledValue": 175.0
              },
              "tDistributionFalsePositives": {
               "unsampledValue": 16.0
              },
              "tDistributionPrecision": {
               "unsampledValue": 0.5555555820465088
              },
              "tDistributionRecall": {
               "unsampledValue": 0.10256410390138626
              },
              "tDistributionTrueNegatives": {
               "unsampledValue": 737.0
              },
              "tDistributionTruePositives": {
               "unsampledValue": 20.0
              },
              "threshold": 0.8999999761581421,
              "trueNegatives": 737.0,
              "truePositives": 20.0
             }
            ]
           }
          },
          "post_export_metrics/false_discovery_rate@0.10": {
           "doubleValue": 0.7887789011001587
          },
          "post_export_metrics/false_discovery_rate@0.30": {
           "doubleValue": 0.7465181350708008
          },
          "post_export_metrics/false_discovery_rate@0.50": {
           "doubleValue": 0.6767241358757019
          },
          "post_export_metrics/false_discovery_rate@0.70": {
           "doubleValue": 0.5852534770965576
          },
          "post_export_metrics/false_discovery_rate@0.90": {
           "doubleValue": 0.4444444477558136
          },
          "post_export_metrics/false_negative_rate@0.10": {
           "doubleValue": 0.015384615398943424
          },
          "post_export_metrics/false_negative_rate@0.30": {
           "doubleValue": 0.06666667014360428
          },
          "post_export_metrics/false_negative_rate@0.50": {
           "doubleValue": 0.23076923191547394
          },
          "post_export_metrics/false_negative_rate@0.70": {
           "doubleValue": 0.5384615659713745
          },
          "post_export_metrics/false_negative_rate@0.90": {
           "doubleValue": 0.8974359035491943
          },
          "post_export_metrics/false_omission_rate@0.10": {
           "doubleValue": 0.07692307978868484
          },
          "post_export_metrics/false_omission_rate@0.30": {
           "doubleValue": 0.056521739810705185
          },
          "post_export_metrics/false_omission_rate@0.50": {
           "doubleValue": 0.0929752066731453
          },
          "post_export_metrics/false_omission_rate@0.70": {
           "doubleValue": 0.14363884925842285
          },
          "post_export_metrics/false_omission_rate@0.90": {
           "doubleValue": 0.19188596308231354
          },
          "post_export_metrics/false_positive_rate@0.10": {
           "doubleValue": 0.9521912336349487
          },
          "post_export_metrics/false_positive_rate@0.30": {
           "doubleValue": 0.7118194103240967
          },
          "post_export_metrics/false_positive_rate@0.50": {
           "doubleValue": 0.4169986844062805
          },
          "post_export_metrics/false_positive_rate@0.70": {
           "doubleValue": 0.16865870356559753
          },
          "post_export_metrics/false_positive_rate@0.90": {
           "doubleValue": 0.021248340606689453
          },
          "post_export_metrics/negative_rate@0.10": {
           "doubleValue": 0.04113924130797386
          },
          "post_export_metrics/negative_rate@0.30": {
           "doubleValue": 0.24261602759361267
          },
          "post_export_metrics/negative_rate@0.50": {
           "doubleValue": 0.5105485320091248
          },
          "post_export_metrics/negative_rate@0.70": {
           "doubleValue": 0.7710970640182495
          },
          "post_export_metrics/negative_rate@0.90": {
           "doubleValue": 0.9620253443717957
          },
          "post_export_metrics/positive_rate@0.10": {
           "doubleValue": 0.9588607549667358
          },
          "post_export_metrics/positive_rate@0.30": {
           "doubleValue": 0.7573839426040649
          },
          "post_export_metrics/positive_rate@0.50": {
           "doubleValue": 0.48945146799087524
          },
          "post_export_metrics/positive_rate@0.70": {
           "doubleValue": 0.22890295088291168
          },
          "post_export_metrics/positive_rate@0.90": {
           "doubleValue": 0.037974681705236435
          },
          "post_export_metrics/true_negative_rate@0.10": {
           "doubleValue": 0.04780876636505127
          },
          "post_export_metrics/true_negative_rate@0.30": {
           "doubleValue": 0.2881806194782257
          },
          "post_export_metrics/true_negative_rate@0.50": {
           "doubleValue": 0.5830013155937195
          },
          "post_export_metrics/true_negative_rate@0.70": {
           "doubleValue": 0.8313413262367249
          },
          "post_export_metrics/true_negative_rate@0.90": {
           "doubleValue": 0.9787516593933105
          },
          "post_export_metrics/true_positive_rate@0.10": {
           "doubleValue": 0.9846153855323792
          },
          "post_export_metrics/true_positive_rate@0.30": {
           "doubleValue": 0.9333333373069763
          },
          "post_export_metrics/true_positive_rate@0.50": {
           "doubleValue": 0.7692307829856873
          },
          "post_export_metrics/true_positive_rate@0.70": {
           "doubleValue": 0.4615384638309479
          },
          "post_export_metrics/true_positive_rate@0.90": {
           "doubleValue": 0.10256410390138626
          },
          "precision": {
           "doubleValue": 0.3232758641242981
          },
          "prediction/mean": {
           "doubleValue": 0.4937463402748108
          },
          "recall": {
           "doubleValue": 0.7692307829856873
          }
         },
         "slice": "gender:transgender",
         "sliceValue": "transgender"
        },
        {
         "metrics": {
          "accuracy": {
           "doubleValue": 0.5
          },
          "accuracy_baseline": {
           "doubleValue": 0.6666666269302368
          },
          "auc": {
           "doubleValue": 0.6874999403953552
          },
          "auc_precision_recall": {
           "doubleValue": 0.5833331346511841
          },
          "average_loss": {
           "doubleValue": 0.694214403629303
          },
          "label/mean": {
           "doubleValue": 0.3333333432674408
          },
          "post_export_metrics/example_count": {
           "doubleValue": 6.0
          },
          "post_export_metrics/fairness/confusion_matrix_at_thresholds": {
           "confusionMatrixAtThresholds": {
            "matrices": [
             {
              "boundedFalseNegatives": {
               "value": 0.0
              },
              "boundedFalsePositives": {
               "value": 4.0
              },
              "boundedPrecision": {
               "value": 0.3333333432674408
              },
              "boundedRecall": {
               "value": 1.0
              },
              "boundedTrueNegatives": {
               "value": 0.0
              },
              "boundedTruePositives": {
               "value": 2.0
              },
              "falsePositives": 4.0,
              "precision": 0.3333333432674408,
              "recall": 1.0,
              "tDistributionFalseNegatives": {
               "unsampledValue": 0.0
              },
              "tDistributionFalsePositives": {
               "unsampledValue": 4.0
              },
              "tDistributionPrecision": {
               "unsampledValue": 0.3333333432674408
              },
              "tDistributionRecall": {
               "unsampledValue": 1.0
              },
              "tDistributionTrueNegatives": {
               "unsampledValue": 0.0
              },
              "tDistributionTruePositives": {
               "unsampledValue": 2.0
              },
              "threshold": 0.10000000149011612,
              "truePositives": 2.0
             },
             {
              "boundedFalseNegatives": {
               "value": 0.0
              },
              "boundedFalsePositives": {
               "value": 3.0
              },
              "boundedPrecision": {
               "value": 0.4000000059604645
              },
              "boundedRecall": {
               "value": 1.0
              },
              "boundedTrueNegatives": {
               "value": 1.0
              },
              "boundedTruePositives": {
               "value": 2.0
              },
              "falsePositives": 3.0,
              "precision": 0.4000000059604645,
              "recall": 1.0,
              "tDistributionFalseNegatives": {
               "unsampledValue": 0.0
              },
              "tDistributionFalsePositives": {
               "unsampledValue": 3.0
              },
              "tDistributionPrecision": {
               "unsampledValue": 0.4000000059604645
              },
              "tDistributionRecall": {
               "unsampledValue": 1.0
              },
              "tDistributionTrueNegatives": {
               "unsampledValue": 1.0
              },
              "tDistributionTruePositives": {
               "unsampledValue": 2.0
              },
              "threshold": 0.30000001192092896,
              "trueNegatives": 1.0,
              "truePositives": 2.0
             },
             {
              "boundedFalseNegatives": {
               "value": 1.0
              },
              "boundedFalsePositives": {
               "value": 2.0
              },
              "boundedPrecision": {
               "value": 0.3333333432674408
              },
              "boundedRecall": {
               "value": 0.5
              },
              "boundedTrueNegatives": {
               "value": 2.0
              },
              "boundedTruePositives": {
               "value": 1.0
              },
              "falseNegatives": 1.0,
              "falsePositives": 2.0,
              "precision": 0.3333333432674408,
              "recall": 0.5,
              "tDistributionFalseNegatives": {
               "unsampledValue": 1.0
              },
              "tDistributionFalsePositives": {
               "unsampledValue": 2.0
              },
              "tDistributionPrecision": {
               "unsampledValue": 0.3333333432674408
              },
              "tDistributionRecall": {
               "unsampledValue": 0.5
              },
              "tDistributionTrueNegatives": {
               "unsampledValue": 2.0
              },
              "tDistributionTruePositives": {
               "unsampledValue": 1.0
              },
              "threshold": 0.5,
              "trueNegatives": 2.0,
              "truePositives": 1.0
             },
             {
              "boundedFalseNegatives": {
               "value": 1.0
              },
              "boundedFalsePositives": {
               "value": 1.0
              },
              "boundedPrecision": {
               "value": 0.5
              },
              "boundedRecall": {
               "value": 0.5
              },
              "boundedTrueNegatives": {
               "value": 3.0
              },
              "boundedTruePositives": {
               "value": 1.0
              },
              "falseNegatives": 1.0,
              "falsePositives": 1.0,
              "precision": 0.5,
              "recall": 0.5,
              "tDistributionFalseNegatives": {
               "unsampledValue": 1.0
              },
              "tDistributionFalsePositives": {
               "unsampledValue": 1.0
              },
              "tDistributionPrecision": {
               "unsampledValue": 0.5
              },
              "tDistributionRecall": {
               "unsampledValue": 0.5
              },
              "tDistributionTrueNegatives": {
               "unsampledValue": 3.0
              },
              "tDistributionTruePositives": {
               "unsampledValue": 1.0
              },
              "threshold": 0.699999988079071,
              "trueNegatives": 3.0,
              "truePositives": 1.0
             },
             {
              "boundedFalseNegatives": {
               "value": 2.0
              },
              "boundedFalsePositives": {
               "value": 0.0
              },
              "boundedPrecision": {
               "value": 0.0
              },
              "boundedRecall": {
               "value": 0.0
              },
              "boundedTrueNegatives": {
               "value": 4.0
              },
              "boundedTruePositives": {
               "value": 0.0
              },
              "falseNegatives": 2.0,
              "tDistributionFalseNegatives": {
               "unsampledValue": 2.0
              },
              "tDistributionFalsePositives": {
               "unsampledValue": 0.0
              },
              "tDistributionPrecision": {
               "unsampledValue": 0.0
              },
              "tDistributionRecall": {
               "unsampledValue": 0.0
              },
              "tDistributionTrueNegatives": {
               "unsampledValue": 4.0
              },
              "tDistributionTruePositives": {
               "unsampledValue": 0.0
              },
              "threshold": 0.8999999761581421,
              "trueNegatives": 4.0
             }
            ]
           }
          },
          "post_export_metrics/false_discovery_rate@0.10": {
           "doubleValue": 0.6666666865348816
          },
          "post_export_metrics/false_discovery_rate@0.30": {
           "doubleValue": 0.6000000238418579
          },
          "post_export_metrics/false_discovery_rate@0.50": {
           "doubleValue": 0.6666666865348816
          },
          "post_export_metrics/false_discovery_rate@0.70": {
           "doubleValue": 0.5
          },
          "post_export_metrics/false_discovery_rate@0.90": {
           "doubleValue": 0.0
          },
          "post_export_metrics/false_negative_rate@0.10": {
           "doubleValue": 0.0
          },
          "post_export_metrics/false_negative_rate@0.30": {
           "doubleValue": 0.0
          },
          "post_export_metrics/false_negative_rate@0.50": {
           "doubleValue": 0.5
          },
          "post_export_metrics/false_negative_rate@0.70": {
           "doubleValue": 0.5
          },
          "post_export_metrics/false_negative_rate@0.90": {
           "doubleValue": 1.0
          },
          "post_export_metrics/false_omission_rate@0.10": {
           "doubleValue": 0.0
          },
          "post_export_metrics/false_omission_rate@0.30": {
           "doubleValue": 0.0
          },
          "post_export_metrics/false_omission_rate@0.50": {
           "doubleValue": 0.3333333432674408
          },
          "post_export_metrics/false_omission_rate@0.70": {
           "doubleValue": 0.25
          },
          "post_export_metrics/false_omission_rate@0.90": {
           "doubleValue": 0.3333333432674408
          },
          "post_export_metrics/false_positive_rate@0.10": {
           "doubleValue": 1.0
          },
          "post_export_metrics/false_positive_rate@0.30": {
           "doubleValue": 0.75
          },
          "post_export_metrics/false_positive_rate@0.50": {
           "doubleValue": 0.5
          },
          "post_export_metrics/false_positive_rate@0.70": {
           "doubleValue": 0.25
          },
          "post_export_metrics/false_positive_rate@0.90": {
           "doubleValue": 0.0
          },
          "post_export_metrics/negative_rate@0.10": {
           "doubleValue": 0.0
          },
          "post_export_metrics/negative_rate@0.30": {
           "doubleValue": 0.1666666716337204
          },
          "post_export_metrics/negative_rate@0.50": {
           "doubleValue": 0.5
          },
          "post_export_metrics/negative_rate@0.70": {
           "doubleValue": 0.6666666865348816
          },
          "post_export_metrics/negative_rate@0.90": {
           "doubleValue": 1.0
          },
          "post_export_metrics/positive_rate@0.10": {
           "doubleValue": 1.0
          },
          "post_export_metrics/positive_rate@0.30": {
           "doubleValue": 0.8333333134651184
          },
          "post_export_metrics/positive_rate@0.50": {
           "doubleValue": 0.5
          },
          "post_export_metrics/positive_rate@0.70": {
           "doubleValue": 0.3333333432674408
          },
          "post_export_metrics/positive_rate@0.90": {
           "doubleValue": 0.0
          },
          "post_export_metrics/true_negative_rate@0.10": {
           "doubleValue": 0.0
          },
          "post_export_metrics/true_negative_rate@0.30": {
           "doubleValue": 0.25
          },
          "post_export_metrics/true_negative_rate@0.50": {
           "doubleValue": 0.5
          },
          "post_export_metrics/true_negative_rate@0.70": {
           "doubleValue": 0.75
          },
          "post_export_metrics/true_negative_rate@0.90": {
           "doubleValue": 1.0
          },
          "post_export_metrics/true_positive_rate@0.10": {
           "doubleValue": 1.0
          },
          "post_export_metrics/true_positive_rate@0.30": {
           "doubleValue": 1.0
          },
          "post_export_metrics/true_positive_rate@0.50": {
           "doubleValue": 0.5
          },
          "post_export_metrics/true_positive_rate@0.70": {
           "doubleValue": 0.5
          },
          "post_export_metrics/true_positive_rate@0.90": {
           "doubleValue": 0.0
          },
          "precision": {
           "doubleValue": 0.3333333432674408
          },
          "prediction/mean": {
           "doubleValue": 0.5383572578430176
          },
          "recall": {
           "doubleValue": 0.5
          }
         },
         "slice": "gender:other_gender",
         "sliceValue": "other_gender"
        }
       ],
       "slicingMetricsCompare": [
        {
         "metrics": {
          "accuracy": {
           "doubleValue": 0.770808219909668
          },
          "accuracy_baseline": {
           "doubleValue": 0.9198060631752014
          },
          "auc": {
           "doubleValue": 0.8566742539405823
          },
          "auc_precision_recall": {
           "doubleValue": 0.4211058020591736
          },
          "average_loss": {
           "doubleValue": 0.4676019251346588
          },
          "label/mean": {
           "doubleValue": 0.08019392192363739
          },
          "post_export_metrics/example_count": {
           "doubleValue": 721950.0
          },
          "post_export_metrics/fairness/confusion_matrix_at_thresholds": {
           "confusionMatrixAtThresholds": {
            "matrices": [
             {
              "boundedFalseNegatives": {
               "value": 835.0
              },
              "boundedFalsePositives": {
               "value": 493498.0
              },
              "boundedPrecision": {
               "value": 0.10364193469285965
              },
              "boundedRecall": {
               "value": 0.9855775833129883
              },
              "boundedTrueNegatives": {
               "value": 170556.0
              },
              "boundedTruePositives": {
               "value": 57061.0
              },
              "falseNegatives": 835.0,
              "falsePositives": 493498.0,
              "precision": 0.10364193469285965,
              "recall": 0.9855775833129883,
              "tDistributionFalseNegatives": {
               "unsampledValue": 835.0
              },
              "tDistributionFalsePositives": {
               "unsampledValue": 493498.0
              },
              "tDistributionPrecision": {
               "unsampledValue": 0.10364193469285965
              },
              "tDistributionRecall": {
               "unsampledValue": 0.9855775833129883
              },
              "tDistributionTrueNegatives": {
               "unsampledValue": 170556.0
              },
              "tDistributionTruePositives": {
               "unsampledValue": 57061.0
              },
              "threshold": 0.10000000149011612,
              "trueNegatives": 170556.0,
              "truePositives": 57061.0
             },
             {
              "boundedFalseNegatives": {
               "value": 5359.0
              },
              "boundedFalsePositives": {
               "value": 276908.0
              },
              "boundedPrecision": {
               "value": 0.15947122871875763
              },
              "boundedRecall": {
               "value": 0.9074375033378601
              },
              "boundedTrueNegatives": {
               "value": 387146.0
              },
              "boundedTruePositives": {
               "value": 52537.0
              },
              "falseNegatives": 5359.0,
              "falsePositives": 276908.0,
              "precision": 0.15947122871875763,
              "recall": 0.9074375033378601,
              "tDistributionFalseNegatives": {
               "unsampledValue": 5359.0
              },
              "tDistributionFalsePositives": {
               "unsampledValue": 276908.0
              },
              "tDistributionPrecision": {
               "unsampledValue": 0.15947122871875763
              },
              "tDistributionRecall": {
               "unsampledValue": 0.9074375033378601
              },
              "tDistributionTrueNegatives": {
               "unsampledValue": 387146.0
              },
              "tDistributionTruePositives": {
               "unsampledValue": 52537.0
              },
              "threshold": 0.30000001192092896,
              "trueNegatives": 387146.0,
              "truePositives": 52537.0
             },
             {
              "boundedFalseNegatives": {
               "value": 12718.0
              },
              "boundedFalsePositives": {
               "value": 152747.0
              },
              "boundedPrecision": {
               "value": 0.2282581776380539
              },
              "boundedRecall": {
               "value": 0.780330240726471
              },
              "boundedTrueNegatives": {
               "value": 511307.0
              },
              "boundedTruePositives": {
               "value": 45178.0
              },
              "falseNegatives": 12718.0,
              "falsePositives": 152747.0,
              "precision": 0.2282581776380539,
              "recall": 0.780330240726471,
              "tDistributionFalseNegatives": {
               "unsampledValue": 12718.0
              },
              "tDistributionFalsePositives": {
               "unsampledValue": 152747.0
              },
              "tDistributionPrecision": {
               "unsampledValue": 0.2282581776380539
              },
              "tDistributionRecall": {
               "unsampledValue": 0.780330240726471
              },
              "tDistributionTrueNegatives": {
               "unsampledValue": 511307.0
              },
              "tDistributionTruePositives": {
               "unsampledValue": 45178.0
              },
              "threshold": 0.5,
              "trueNegatives": 511307.0,
              "truePositives": 45178.0
             },
             {
              "boundedFalseNegatives": {
               "value": 24426.0
              },
              "boundedFalsePositives": {
               "value": 65574.0
              },
              "boundedPrecision": {
               "value": 0.3379306197166443
              },
              "boundedRecall": {
               "value": 0.5781055688858032
              },
              "boundedTrueNegatives": {
               "value": 598480.0
              },
              "boundedTruePositives": {
               "value": 33470.0
              },
              "falseNegatives": 24426.0,
              "falsePositives": 65574.0,
              "precision": 0.3379306197166443,
              "recall": 0.5781055688858032,
              "tDistributionFalseNegatives": {
               "unsampledValue": 24426.0
              },
              "tDistributionFalsePositives": {
               "unsampledValue": 65574.0
              },
              "tDistributionPrecision": {
               "unsampledValue": 0.3379306197166443
              },
              "tDistributionRecall": {
               "unsampledValue": 0.5781055688858032
              },
              "tDistributionTrueNegatives": {
               "unsampledValue": 598480.0
              },
              "tDistributionTruePositives": {
               "unsampledValue": 33470.0
              },
              "threshold": 0.699999988079071,
              "trueNegatives": 598480.0,
              "truePositives": 33470.0
             },
             {
              "boundedFalseNegatives": {
               "value": 46060.0
              },
              "boundedFalsePositives": {
               "value": 7450.0
              },
              "boundedPrecision": {
               "value": 0.6137094497680664
              },
              "boundedRecall": {
               "value": 0.2044355422258377
              },
              "boundedTrueNegatives": {
               "value": 656604.0
              },
              "boundedTruePositives": {
               "value": 11836.0
              },
              "falseNegatives": 46060.0,
              "falsePositives": 7450.0,
              "precision": 0.6137094497680664,
              "recall": 0.2044355422258377,
              "tDistributionFalseNegatives": {
               "unsampledValue": 46060.0
              },
              "tDistributionFalsePositives": {
               "unsampledValue": 7450.0
              },
              "tDistributionPrecision": {
               "unsampledValue": 0.6137094497680664
              },
              "tDistributionRecall": {
               "unsampledValue": 0.2044355422258377
              },
              "tDistributionTrueNegatives": {
               "unsampledValue": 656604.0
              },
              "tDistributionTruePositives": {
               "unsampledValue": 11836.0
              },
              "threshold": 0.8999999761581421,
              "trueNegatives": 656604.0,
              "truePositives": 11836.0
             }
            ]
           }
          },
          "post_export_metrics/false_discovery_rate@0.10": {
           "doubleValue": 0.896358072757721
          },
          "post_export_metrics/false_discovery_rate@0.30": {
           "doubleValue": 0.8405287861824036
          },
          "post_export_metrics/false_discovery_rate@0.50": {
           "doubleValue": 0.7717418074607849
          },
          "post_export_metrics/false_discovery_rate@0.70": {
           "doubleValue": 0.6620693802833557
          },
          "post_export_metrics/false_discovery_rate@0.90": {
           "doubleValue": 0.386290580034256
          },
          "post_export_metrics/false_negative_rate@0.10": {
           "doubleValue": 0.01442241296172142
          },
          "post_export_metrics/false_negative_rate@0.30": {
           "doubleValue": 0.09256252646446228
          },
          "post_export_metrics/false_negative_rate@0.50": {
           "doubleValue": 0.21966975927352905
          },
          "post_export_metrics/false_negative_rate@0.70": {
           "doubleValue": 0.4218944311141968
          },
          "post_export_metrics/false_negative_rate@0.90": {
           "doubleValue": 0.7955644726753235
          },
          "post_export_metrics/false_omission_rate@0.10": {
           "doubleValue": 0.004871901124715805
          },
          "post_export_metrics/false_omission_rate@0.30": {
           "doubleValue": 0.013653329573571682
          },
          "post_export_metrics/false_omission_rate@0.50": {
           "doubleValue": 0.02426983416080475
          },
          "post_export_metrics/false_omission_rate@0.70": {
           "doubleValue": 0.03921297937631607
          },
          "post_export_metrics/false_omission_rate@0.90": {
           "doubleValue": 0.0655505359172821
          },
          "post_export_metrics/false_positive_rate@0.10": {
           "doubleValue": 0.7431594133377075
          },
          "post_export_metrics/false_positive_rate@0.30": {
           "doubleValue": 0.41699621081352234
          },
          "post_export_metrics/false_positive_rate@0.50": {
           "doubleValue": 0.23002195358276367
          },
          "post_export_metrics/false_positive_rate@0.70": {
           "doubleValue": 0.09874799102544785
          },
          "post_export_metrics/false_positive_rate@0.90": {
           "doubleValue": 0.011218966916203499
          },
          "post_export_metrics/negative_rate@0.10": {
           "doubleValue": 0.2374000996351242
          },
          "post_export_metrics/negative_rate@0.30": {
           "doubleValue": 0.5436733961105347
          },
          "post_export_metrics/negative_rate@0.50": {
           "doubleValue": 0.7258466482162476
          },
          "post_export_metrics/negative_rate@0.70": {
           "doubleValue": 0.8628104329109192
          },
          "post_export_metrics/negative_rate@0.90": {
           "doubleValue": 0.9732862114906311
          },
          "post_export_metrics/positive_rate@0.10": {
           "doubleValue": 0.7625998854637146
          },
          "post_export_metrics/positive_rate@0.30": {
           "doubleValue": 0.45632660388946533
          },
          "post_export_metrics/positive_rate@0.50": {
           "doubleValue": 0.27415332198143005
          },
          "post_export_metrics/positive_rate@0.70": {
           "doubleValue": 0.13718955218791962
          },
          "post_export_metrics/positive_rate@0.90": {
           "doubleValue": 0.026713760569691658
          },
          "post_export_metrics/true_negative_rate@0.10": {
           "doubleValue": 0.2568405568599701
          },
          "post_export_metrics/true_negative_rate@0.30": {
           "doubleValue": 0.5830038189888
          },
          "post_export_metrics/true_negative_rate@0.50": {
           "doubleValue": 0.7699780464172363
          },
          "post_export_metrics/true_negative_rate@0.70": {
           "doubleValue": 0.901252031326294
          },
          "post_export_metrics/true_negative_rate@0.90": {
           "doubleValue": 0.9887810349464417
          },
          "post_export_metrics/true_positive_rate@0.10": {
           "doubleValue": 0.9855775833129883
          },
          "post_export_metrics/true_positive_rate@0.30": {
           "doubleValue": 0.9074375033378601
          },
          "post_export_metrics/true_positive_rate@0.50": {
           "doubleValue": 0.780330240726471
          },
          "post_export_metrics/true_positive_rate@0.70": {
           "doubleValue": 0.5781055688858032
          },
          "post_export_metrics/true_positive_rate@0.90": {
           "doubleValue": 0.2044355422258377
          },
          "precision": {
           "doubleValue": 0.2282581776380539
          },
          "prediction/mean": {
           "doubleValue": 0.3368438482284546
          },
          "recall": {
           "doubleValue": 0.780330240726471
          }
         },
         "slice": "Overall",
         "sliceValue": "Overall"
        },
        {
         "metrics": {
          "accuracy": {
           "doubleValue": 0.6149568557739258
          },
          "accuracy_baseline": {
           "doubleValue": 0.8633428812026978
          },
          "auc": {
           "doubleValue": 0.8222715258598328
          },
          "auc_precision_recall": {
           "doubleValue": 0.45935046672821045
          },
          "average_loss": {
           "doubleValue": 0.6969166994094849
          },
          "label/mean": {
           "doubleValue": 0.13665708899497986
          },
          "post_export_metrics/example_count": {
           "doubleValue": 21221.0
          },
          "post_export_metrics/fairness/confusion_matrix_at_thresholds": {
           "confusionMatrixAtThresholds": {
            "matrices": [
             {
              "boundedFalseNegatives": {
               "value": 12.0
              },
              "boundedFalsePositives": {
               "value": 16405.0
              },
              "boundedPrecision": {
               "value": 0.1496915966272354
              },
              "boundedRecall": {
               "value": 0.9958620667457581
              },
              "boundedTrueNegatives": {
               "value": 1916.0
              },
              "boundedTruePositives": {
               "value": 2888.0
              },
              "falseNegatives": 12.0,
              "falsePositives": 16405.0,
              "precision": 0.1496915966272354,
              "recall": 0.9958620667457581,
              "tDistributionFalseNegatives": {
               "unsampledValue": 12.0
              },
              "tDistributionFalsePositives": {
               "unsampledValue": 16405.0
              },
              "tDistributionPrecision": {
               "unsampledValue": 0.1496915966272354
              },
              "tDistributionRecall": {
               "unsampledValue": 0.9958620667457581
              },
              "tDistributionTrueNegatives": {
               "unsampledValue": 1916.0
              },
              "tDistributionTruePositives": {
               "unsampledValue": 2888.0
              },
              "threshold": 0.10000000149011612,
              "trueNegatives": 1916.0,
              "truePositives": 2888.0
             },
             {
              "boundedFalseNegatives": {
               "value": 116.0
              },
              "boundedFalsePositives": {
               "value": 11854.0
              },
              "boundedPrecision": {
               "value": 0.1901899129152298
              },
              "boundedRecall": {
               "value": 0.9599999785423279
              },
              "boundedTrueNegatives": {
               "value": 6467.0
              },
              "boundedTruePositives": {
               "value": 2784.0
              },
              "falseNegatives": 116.0,
              "falsePositives": 11854.0,
              "precision": 0.1901899129152298,
              "recall": 0.9599999785423279,
              "tDistributionFalseNegatives": {
               "unsampledValue": 116.0
              },
              "tDistributionFalsePositives": {
               "unsampledValue": 11854.0
              },
              "tDistributionPrecision": {
               "unsampledValue": 0.1901899129152298
              },
              "tDistributionRecall": {
               "unsampledValue": 0.9599999785423279
              },
              "tDistributionTrueNegatives": {
               "unsampledValue": 6467.0
              },
              "tDistributionTruePositives": {
               "unsampledValue": 2784.0
              },
              "threshold": 0.30000001192092896,
              "trueNegatives": 6467.0,
              "truePositives": 2784.0
             },
             {
              "boundedFalseNegatives": {
               "value": 364.0
              },
              "boundedFalsePositives": {
               "value": 7807.0
              },
              "boundedPrecision": {
               "value": 0.24518997967243195
              },
              "boundedRecall": {
               "value": 0.8744827508926392
              },
              "boundedTrueNegatives": {
               "value": 10514.0
              },
              "boundedTruePositives": {
               "value": 2536.0
              },
              "falseNegatives": 364.0,
              "falsePositives": 7807.0,
              "precision": 0.24518997967243195,
              "recall": 0.8744827508926392,
              "tDistributionFalseNegatives": {
               "unsampledValue": 364.0
              },
              "tDistributionFalsePositives": {
               "unsampledValue": 7807.0
              },
              "tDistributionPrecision": {
               "unsampledValue": 0.24518997967243195
              },
              "tDistributionRecall": {
               "unsampledValue": 0.8744827508926392
              },
              "tDistributionTrueNegatives": {
               "unsampledValue": 10514.0
              },
              "tDistributionTruePositives": {
               "unsampledValue": 2536.0
              },
              "threshold": 0.5,
              "trueNegatives": 10514.0,
              "truePositives": 2536.0
             },
             {
              "boundedFalseNegatives": {
               "value": 891.0
              },
              "boundedFalsePositives": {
               "value": 3962.0
              },
              "boundedPrecision": {
               "value": 0.33645954728126526
              },
              "boundedRecall": {
               "value": 0.6927586197853088
              },
              "boundedTrueNegatives": {
               "value": 14359.0
              },
              "boundedTruePositives": {
               "value": 2009.0
              },
              "falseNegatives": 891.0,
              "falsePositives": 3962.0,
              "precision": 0.33645954728126526,
              "recall": 0.6927586197853088,
              "tDistributionFalseNegatives": {
               "unsampledValue": 891.0
              },
              "tDistributionFalsePositives": {
               "unsampledValue": 3962.0
              },
              "tDistributionPrecision": {
               "unsampledValue": 0.33645954728126526
              },
              "tDistributionRecall": {
               "unsampledValue": 0.6927586197853088
              },
              "tDistributionTrueNegatives": {
               "unsampledValue": 14359.0
              },
              "tDistributionTruePositives": {
               "unsampledValue": 2009.0
              },
              "threshold": 0.699999988079071,
              "trueNegatives": 14359.0,
              "truePositives": 2009.0
             },
             {
              "boundedFalseNegatives": {
               "value": 2098.0
              },
              "boundedFalsePositives": {
               "value": 576.0
              },
              "boundedPrecision": {
               "value": 0.5820028781890869
              },
              "boundedRecall": {
               "value": 0.2765517234802246
              },
              "boundedTrueNegatives": {
               "value": 17745.0
              },
              "boundedTruePositives": {
               "value": 802.0
              },
              "falseNegatives": 2098.0,
              "falsePositives": 576.0,
              "precision": 0.5820028781890869,
              "recall": 0.2765517234802246,
              "tDistributionFalseNegatives": {
               "unsampledValue": 2098.0
              },
              "tDistributionFalsePositives": {
               "unsampledValue": 576.0
              },
              "tDistributionPrecision": {
               "unsampledValue": 0.5820028781890869
              },
              "tDistributionRecall": {
               "unsampledValue": 0.2765517234802246
              },
              "tDistributionTrueNegatives": {
               "unsampledValue": 17745.0
              },
              "tDistributionTruePositives": {
               "unsampledValue": 802.0
              },
              "threshold": 0.8999999761581421,
              "trueNegatives": 17745.0,
              "truePositives": 802.0
             }
            ]
           }
          },
          "post_export_metrics/false_discovery_rate@0.10": {
           "doubleValue": 0.8503084182739258
          },
          "post_export_metrics/false_discovery_rate@0.30": {
           "doubleValue": 0.8098101019859314
          },
          "post_export_metrics/false_discovery_rate@0.50": {
           "doubleValue": 0.7548100352287292
          },
          "post_export_metrics/false_discovery_rate@0.70": {
           "doubleValue": 0.6635404229164124
          },
          "post_export_metrics/false_discovery_rate@0.90": {
           "doubleValue": 0.4179970920085907
          },
          "post_export_metrics/false_negative_rate@0.10": {
           "doubleValue": 0.004137930925935507
          },
          "post_export_metrics/false_negative_rate@0.30": {
           "doubleValue": 0.03999999910593033
          },
          "post_export_metrics/false_negative_rate@0.50": {
           "doubleValue": 0.12551723420619965
          },
          "post_export_metrics/false_negative_rate@0.70": {
           "doubleValue": 0.30724138021469116
          },
          "post_export_metrics/false_negative_rate@0.90": {
           "doubleValue": 0.7234482765197754
          },
          "post_export_metrics/false_omission_rate@0.10": {
           "doubleValue": 0.006224066484719515
          },
          "post_export_metrics/false_omission_rate@0.30": {
           "doubleValue": 0.017621144652366638
          },
          "post_export_metrics/false_omission_rate@0.50": {
           "doubleValue": 0.0334620326757431
          },
          "post_export_metrics/false_omission_rate@0.70": {
           "doubleValue": 0.058426231145858765
          },
          "post_export_metrics/false_omission_rate@0.90": {
           "doubleValue": 0.10572998225688934
          },
          "post_export_metrics/false_positive_rate@0.10": {
           "doubleValue": 0.8954205513000488
          },
          "post_export_metrics/false_positive_rate@0.30": {
           "doubleValue": 0.6470170617103577
          },
          "post_export_metrics/false_positive_rate@0.50": {
           "doubleValue": 0.4261230230331421
          },
          "post_export_metrics/false_positive_rate@0.70": {
           "doubleValue": 0.2162545770406723
          },
          "post_export_metrics/false_positive_rate@0.90": {
           "doubleValue": 0.03143933042883873
          },
          "post_export_metrics/negative_rate@0.10": {
           "doubleValue": 0.09085340052843094
          },
          "post_export_metrics/negative_rate@0.30": {
           "doubleValue": 0.31021156907081604
          },
          "post_export_metrics/negative_rate@0.50": {
           "doubleValue": 0.5126054286956787
          },
          "post_export_metrics/negative_rate@0.70": {
           "doubleValue": 0.7186277508735657
          },
          "post_export_metrics/negative_rate@0.90": {
           "doubleValue": 0.9350643157958984
          },
          "post_export_metrics/positive_rate@0.10": {
           "doubleValue": 0.9091466069221497
          },
          "post_export_metrics/positive_rate@0.30": {
           "doubleValue": 0.6897884011268616
          },
          "post_export_metrics/positive_rate@0.50": {
           "doubleValue": 0.4873945713043213
          },
          "post_export_metrics/positive_rate@0.70": {
           "doubleValue": 0.28137221932411194
          },
          "post_export_metrics/positive_rate@0.90": {
           "doubleValue": 0.06493567675352097
          },
          "post_export_metrics/true_negative_rate@0.10": {
           "doubleValue": 0.10457944124937057
          },
          "post_export_metrics/true_negative_rate@0.30": {
           "doubleValue": 0.35298290848731995
          },
          "post_export_metrics/true_negative_rate@0.50": {
           "doubleValue": 0.5738769769668579
          },
          "post_export_metrics/true_negative_rate@0.70": {
           "doubleValue": 0.7837454080581665
          },
          "post_export_metrics/true_negative_rate@0.90": {
           "doubleValue": 0.9685606956481934
          },
          "post_export_metrics/true_positive_rate@0.10": {
           "doubleValue": 0.9958620667457581
          },
          "post_export_metrics/true_positive_rate@0.30": {
           "doubleValue": 0.9599999785423279
          },
          "post_export_metrics/true_positive_rate@0.50": {
           "doubleValue": 0.8744827508926392
          },
          "post_export_metrics/true_positive_rate@0.70": {
           "doubleValue": 0.6927586197853088
          },
          "post_export_metrics/true_positive_rate@0.90": {
           "doubleValue": 0.2765517234802246
          },
          "precision": {
           "doubleValue": 0.24518997967243195
          },
          "prediction/mean": {
           "doubleValue": 0.48737040162086487
          },
          "recall": {
           "doubleValue": 0.8744827508926392
          }
         },
         "slice": "gender:female",
         "sliceValue": "female"
        },
        {
         "metrics": {
          "accuracy": {
           "doubleValue": 0.6017149686813354
          },
          "accuracy_baseline": {
           "doubleValue": 0.8499943614006042
          },
          "auc": {
           "doubleValue": 0.8225376605987549
          },
          "auc_precision_recall": {
           "doubleValue": 0.49405187368392944
          },
          "average_loss": {
           "doubleValue": 0.7162370681762695
          },
          "label/mean": {
           "doubleValue": 0.15000563859939575
          },
          "post_export_metrics/example_count": {
           "doubleValue": 17726.0
          },
          "post_export_metrics/fairness/confusion_matrix_at_thresholds": {
           "confusionMatrixAtThresholds": {
            "matrices": [
             {
              "boundedFalseNegatives": {
               "value": 5.0
              },
              "boundedFalsePositives": {
               "value": 13722.0
              },
              "boundedPrecision": {
               "value": 0.16206644475460052
              },
              "boundedRecall": {
               "value": 0.998119592666626
              },
              "boundedTrueNegatives": {
               "value": 1345.0
              },
              "boundedTruePositives": {
               "value": 2654.0
              },
              "falseNegatives": 5.0,
              "falsePositives": 13722.0,
              "precision": 0.16206644475460052,
              "recall": 0.998119592666626,
              "tDistributionFalseNegatives": {
               "unsampledValue": 5.0
              },
              "tDistributionFalsePositives": {
               "unsampledValue": 13722.0
              },
              "tDistributionPrecision": {
               "unsampledValue": 0.16206644475460052
              },
              "tDistributionRecall": {
               "unsampledValue": 0.998119592666626
              },
              "tDistributionTrueNegatives": {
               "unsampledValue": 1345.0
              },
              "tDistributionTruePositives": {
               "unsampledValue": 2654.0
              },
              "threshold": 0.10000000149011612,
              "trueNegatives": 1345.0,
              "truePositives": 2654.0
             },
             {
              "boundedFalseNegatives": {
               "value": 91.0
              },
              "boundedFalsePositives": {
               "value": 10054.0
              },
              "boundedPrecision": {
               "value": 0.20345428586006165
              },
              "boundedRecall": {
               "value": 0.9657766222953796
              },
              "boundedTrueNegatives": {
               "value": 5013.0
              },
              "boundedTruePositives": {
               "value": 2568.0
              },
              "falseNegatives": 91.0,
              "falsePositives": 10054.0,
              "precision": 0.20345428586006165,
              "recall": 0.9657766222953796,
              "tDistributionFalseNegatives": {
               "unsampledValue": 91.0
              },
              "tDistributionFalsePositives": {
               "unsampledValue": 10054.0
              },
              "tDistributionPrecision": {
               "unsampledValue": 0.20345428586006165
              },
              "tDistributionRecall": {
               "unsampledValue": 0.9657766222953796
              },
              "tDistributionTrueNegatives": {
               "unsampledValue": 5013.0
              },
              "tDistributionTruePositives": {
               "unsampledValue": 2568.0
              },
              "threshold": 0.30000001192092896,
              "trueNegatives": 5013.0,
              "truePositives": 2568.0
             },
             {
              "boundedFalseNegatives": {
               "value": 309.0
              },
              "boundedFalsePositives": {
               "value": 6751.0
              },
              "boundedPrecision": {
               "value": 0.2582133710384369
              },
              "boundedRecall": {
               "value": 0.883790910243988
              },
              "boundedTrueNegatives": {
               "value": 8316.0
              },
              "boundedTruePositives": {
               "value": 2350.0
              },
              "falseNegatives": 309.0,
              "falsePositives": 6751.0,
              "precision": 0.2582133710384369,
              "recall": 0.883790910243988,
              "tDistributionFalseNegatives": {
               "unsampledValue": 309.0
              },
              "tDistributionFalsePositives": {
               "unsampledValue": 6751.0
              },
              "tDistributionPrecision": {
               "unsampledValue": 0.2582133710384369
              },
              "tDistributionRecall": {
               "unsampledValue": 0.883790910243988
              },
              "tDistributionTrueNegatives": {
               "unsampledValue": 8316.0
              },
              "tDistributionTruePositives": {
               "unsampledValue": 2350.0
              },
              "threshold": 0.5,
              "trueNegatives": 8316.0,
              "truePositives": 2350.0
             },
             {
              "boundedFalseNegatives": {
               "value": 773.0
              },
              "boundedFalsePositives": {
               "value": 3505.0
              },
              "boundedPrecision": {
               "value": 0.3498423397541046
              },
              "boundedRecall": {
               "value": 0.7092891931533813
              },
              "boundedTrueNegatives": {
               "value": 11562.0
              },
              "boundedTruePositives": {
               "value": 1886.0
              },
              "falseNegatives": 773.0,
              "falsePositives": 3505.0,
              "precision": 0.3498423397541046,
              "recall": 0.7092891931533813,
              "tDistributionFalseNegatives": {
               "unsampledValue": 773.0
              },
              "tDistributionFalsePositives": {
               "unsampledValue": 3505.0
              },
              "tDistributionPrecision": {
               "unsampledValue": 0.3498423397541046
              },
              "tDistributionRecall": {
               "unsampledValue": 0.7092891931533813
              },
              "tDistributionTrueNegatives": {
               "unsampledValue": 11562.0
              },
              "tDistributionTruePositives": {
               "unsampledValue": 1886.0
              },
              "threshold": 0.699999988079071,
              "trueNegatives": 11562.0,
              "truePositives": 1886.0
             },
             {
              "boundedFalseNegatives": {
               "value": 1896.0
              },
              "boundedFalsePositives": {
               "value": 495.0
              },
              "boundedPrecision": {
               "value": 0.6065182685852051
              },
              "boundedRecall": {
               "value": 0.2869499921798706
              },
              "boundedTrueNegatives": {
               "value": 14572.0
              },
              "boundedTruePositives": {
               "value": 763.0
              },
              "falseNegatives": 1896.0,
              "falsePositives": 495.0,
              "precision": 0.6065182685852051,
              "recall": 0.2869499921798706,
              "tDistributionFalseNegatives": {
               "unsampledValue": 1896.0
              },
              "tDistributionFalsePositives": {
               "unsampledValue": 495.0
              },
              "tDistributionPrecision": {
               "unsampledValue": 0.6065182685852051
              },
              "tDistributionRecall": {
               "unsampledValue": 0.2869499921798706
              },
              "tDistributionTrueNegatives": {
               "unsampledValue": 14572.0
              },
              "tDistributionTruePositives": {
               "unsampledValue": 763.0
              },
              "threshold": 0.8999999761581421,
              "trueNegatives": 14572.0,
              "truePositives": 763.0
             }
            ]
           }
          },
          "post_export_metrics/false_discovery_rate@0.10": {
           "doubleValue": 0.8379335403442383
          },
          "post_export_metrics/false_discovery_rate@0.30": {
           "doubleValue": 0.796545684337616
          },
          "post_export_metrics/false_discovery_rate@0.50": {
           "doubleValue": 0.7417865991592407
          },
          "post_export_metrics/false_discovery_rate@0.70": {
           "doubleValue": 0.6501576900482178
          },
          "post_export_metrics/false_discovery_rate@0.90": {
           "doubleValue": 0.3934817314147949
          },
          "post_export_metrics/false_negative_rate@0.10": {
           "doubleValue": 0.0018804061692208052
          },
          "post_export_metrics/false_negative_rate@0.30": {
           "doubleValue": 0.034223392605781555
          },
          "post_export_metrics/false_negative_rate@0.50": {
           "doubleValue": 0.11620910465717316
          },
          "post_export_metrics/false_negative_rate@0.70": {
           "doubleValue": 0.29071080684661865
          },
          "post_export_metrics/false_negative_rate@0.90": {
           "doubleValue": 0.7130500078201294
          },
          "post_export_metrics/false_omission_rate@0.10": {
           "doubleValue": 0.003703703638166189
          },
          "post_export_metrics/false_omission_rate@0.30": {
           "doubleValue": 0.017829153686761856
          },
          "post_export_metrics/false_omission_rate@0.50": {
           "doubleValue": 0.03582608699798584
          },
          "post_export_metrics/false_omission_rate@0.70": {
           "doubleValue": 0.06266720592975616
          },
          "post_export_metrics/false_omission_rate@0.90": {
           "doubleValue": 0.11513237655162811
          },
          "post_export_metrics/false_positive_rate@0.10": {
           "doubleValue": 0.910732090473175
          },
          "post_export_metrics/false_positive_rate@0.30": {
           "doubleValue": 0.6672860980033875
          },
          "post_export_metrics/false_positive_rate@0.50": {
           "doubleValue": 0.44806531071662903
          },
          "post_export_metrics/false_positive_rate@0.70": {
           "doubleValue": 0.23262760043144226
          },
          "post_export_metrics/false_positive_rate@0.90": {
           "doubleValue": 0.03285325691103935
          },
          "post_export_metrics/negative_rate@0.10": {
           "doubleValue": 0.07615931332111359
          },
          "post_export_metrics/negative_rate@0.30": {
           "doubleValue": 0.2879386246204376
          },
          "post_export_metrics/negative_rate@0.50": {
           "doubleValue": 0.48657339811325073
          },
          "post_export_metrics/negative_rate@0.70": {
           "doubleValue": 0.6958704590797424
          },
          "post_export_metrics/negative_rate@0.90": {
           "doubleValue": 0.9290307760238647
          },
          "post_export_metrics/positive_rate@0.10": {
           "doubleValue": 0.9238407015800476
          },
          "post_export_metrics/positive_rate@0.30": {
           "doubleValue": 0.7120614051818848
          },
          "post_export_metrics/positive_rate@0.50": {
           "doubleValue": 0.5134266018867493
          },
          "post_export_metrics/positive_rate@0.70": {
           "doubleValue": 0.30412954092025757
          },
          "post_export_metrics/positive_rate@0.90": {
           "doubleValue": 0.07096919417381287
          },
          "post_export_metrics/true_negative_rate@0.10": {
           "doubleValue": 0.08926793932914734
          },
          "post_export_metrics/true_negative_rate@0.30": {
           "doubleValue": 0.33271387219429016
          },
          "post_export_metrics/true_negative_rate@0.50": {
           "doubleValue": 0.5519347190856934
          },
          "post_export_metrics/true_negative_rate@0.70": {
           "doubleValue": 0.7673724293708801
          },
          "post_export_metrics/true_negative_rate@0.90": {
           "doubleValue": 0.9671467542648315
          },
          "post_export_metrics/true_positive_rate@0.10": {
           "doubleValue": 0.998119592666626
          },
          "post_export_metrics/true_positive_rate@0.30": {
           "doubleValue": 0.9657766222953796
          },
          "post_export_metrics/true_positive_rate@0.50": {
           "doubleValue": 0.883790910243988
          },
          "post_export_metrics/true_positive_rate@0.70": {
           "doubleValue": 0.7092891931533813
          },
          "post_export_metrics/true_positive_rate@0.90": {
           "doubleValue": 0.2869499921798706
          },
          "precision": {
           "doubleValue": 0.2582133710384369
          },
          "prediction/mean": {
           "doubleValue": 0.5055094957351685
          },
          "recall": {
           "doubleValue": 0.883790910243988
          }
         },
         "slice": "gender:male",
         "sliceValue": "male"
        },
        {
         "metrics": {
          "accuracy": {
           "doubleValue": 0.6297468543052673
          },
          "accuracy_baseline": {
           "doubleValue": 0.7943037748336792
          },
          "auc": {
           "doubleValue": 0.7938264012336731
          },
          "auc_precision_recall": {
           "doubleValue": 0.5060698986053467
          },
          "average_loss": {
           "doubleValue": 0.6512935161590576
          },
          "label/mean": {
           "doubleValue": 0.2056961953639984
          },
          "post_export_metrics/example_count": {
           "doubleValue": 948.0
          },
          "post_export_metrics/fairness/confusion_matrix_at_thresholds": {
           "confusionMatrixAtThresholds": {
            "matrices": [
             {
              "boundedFalseNegatives": {
               "value": 2.0
              },
              "boundedFalsePositives": {
               "value": 693.0
              },
              "boundedPrecision": {
               "value": 0.21783295273780823
              },
              "boundedRecall": {
               "value": 0.9897435903549194
              },
              "boundedTrueNegatives": {
               "value": 60.0
              },
              "boundedTruePositives": {
               "value": 193.0
              },
              "falseNegatives": 2.0,
              "falsePositives": 693.0,
              "precision": 0.21783295273780823,
              "recall": 0.9897435903549194,
              "tDistributionFalseNegatives": {
               "unsampledValue": 2.0
              },
              "tDistributionFalsePositives": {
               "unsampledValue": 693.0
              },
              "tDistributionPrecision": {
               "unsampledValue": 0.21783295273780823
              },
              "tDistributionRecall": {
               "unsampledValue": 0.9897435903549194
              },
              "tDistributionTrueNegatives": {
               "unsampledValue": 60.0
              },
              "tDistributionTruePositives": {
               "unsampledValue": 193.0
              },
              "threshold": 0.10000000149011612,
              "trueNegatives": 60.0,
              "truePositives": 193.0
             },
             {
              "boundedFalseNegatives": {
               "value": 12.0
              },
              "boundedFalsePositives": {
               "value": 499.0
              },
              "boundedPrecision": {
               "value": 0.268328458070755
              },
              "boundedRecall": {
               "value": 0.9384615421295166
              },
              "boundedTrueNegatives": {
               "value": 254.0
              },
              "boundedTruePositives": {
               "value": 183.0
              },
              "falseNegatives": 12.0,
              "falsePositives": 499.0,
              "precision": 0.268328458070755,
              "recall": 0.9384615421295166,
              "tDistributionFalseNegatives": {
               "unsampledValue": 12.0
              },
              "tDistributionFalsePositives": {
               "unsampledValue": 499.0
              },
              "tDistributionPrecision": {
               "unsampledValue": 0.268328458070755
              },
              "tDistributionRecall": {
               "unsampledValue": 0.9384615421295166
              },
              "tDistributionTrueNegatives": {
               "unsampledValue": 254.0
              },
              "tDistributionTruePositives": {
               "unsampledValue": 183.0
              },
              "threshold": 0.30000001192092896,
              "trueNegatives": 254.0,
              "truePositives": 183.0
             },
             {
              "boundedFalseNegatives": {
               "value": 39.0
              },
              "boundedFalsePositives": {
               "value": 312.0
              },
              "boundedPrecision": {
               "value": 0.3333333432674408
              },
              "boundedRecall": {
               "value": 0.800000011920929
              },
              "boundedTrueNegatives": {
               "value": 441.0
              },
              "boundedTruePositives": {
               "value": 156.0
              },
              "falseNegatives": 39.0,
              "falsePositives": 312.0,
              "precision": 0.3333333432674408,
              "recall": 0.800000011920929,
              "tDistributionFalseNegatives": {
               "unsampledValue": 39.0
              },
              "tDistributionFalsePositives": {
               "unsampledValue": 312.0
              },
              "tDistributionPrecision": {
               "unsampledValue": 0.3333333432674408
              },
              "tDistributionRecall": {
               "unsampledValue": 0.800000011920929
              },
              "tDistributionTrueNegatives": {
               "unsampledValue": 441.0
              },
              "tDistributionTruePositives": {
               "unsampledValue": 156.0
              },
              "threshold": 0.5,
              "trueNegatives": 441.0,
              "truePositives": 156.0
             },
             {
              "boundedFalseNegatives": {
               "value": 81.0
              },
              "boundedFalsePositives": {
               "value": 136.0
              },
              "boundedPrecision": {
               "value": 0.4560000002384186
              },
              "boundedRecall": {
               "value": 0.5846154093742371
              },
              "boundedTrueNegatives": {
               "value": 617.0
              },
              "boundedTruePositives": {
               "value": 114.0
              },
              "falseNegatives": 81.0,
              "falsePositives": 136.0,
              "precision": 0.4560000002384186,
              "recall": 0.5846154093742371,
              "tDistributionFalseNegatives": {
               "unsampledValue": 81.0
              },
              "tDistributionFalsePositives": {
               "unsampledValue": 136.0
              },
              "tDistributionPrecision": {
               "unsampledValue": 0.4560000002384186
              },
              "tDistributionRecall": {
               "unsampledValue": 0.5846154093742371
              },
              "tDistributionTrueNegatives": {
               "unsampledValue": 617.0
              },
              "tDistributionTruePositives": {
               "unsampledValue": 114.0
              },
              "threshold": 0.699999988079071,
              "trueNegatives": 617.0,
              "truePositives": 114.0
             },
             {
              "boundedFalseNegatives": {
               "value": 159.0
              },
              "boundedFalsePositives": {
               "value": 18.0
              },
              "boundedPrecision": {
               "value": 0.6666666865348816
              },
              "boundedRecall": {
               "value": 0.1846153885126114
              },
              "boundedTrueNegatives": {
               "value": 735.0
              },
              "boundedTruePositives": {
               "value": 36.0
              },
              "falseNegatives": 159.0,
              "falsePositives": 18.0,
              "precision": 0.6666666865348816,
              "recall": 0.1846153885126114,
              "tDistributionFalseNegatives": {
               "unsampledValue": 159.0
              },
              "tDistributionFalsePositives": {
               "unsampledValue": 18.0
              },
              "tDistributionPrecision": {
               "unsampledValue": 0.6666666865348816
              },
              "tDistributionRecall": {
               "unsampledValue": 0.1846153885126114
              },
              "tDistributionTrueNegatives": {
               "unsampledValue": 735.0
              },
              "tDistributionTruePositives": {
               "unsampledValue": 36.0
              },
              "threshold": 0.8999999761581421,
              "trueNegatives": 735.0,
              "truePositives": 36.0
             }
            ]
           }
          },
          "post_export_metrics/false_discovery_rate@0.10": {
           "doubleValue": 0.7821670174598694
          },
          "post_export_metrics/false_discovery_rate@0.30": {
           "doubleValue": 0.7316715717315674
          },
          "post_export_metrics/false_discovery_rate@0.50": {
           "doubleValue": 0.6666666865348816
          },
          "post_export_metrics/false_discovery_rate@0.70": {
           "doubleValue": 0.5440000295639038
          },
          "post_export_metrics/false_discovery_rate@0.90": {
           "doubleValue": 0.3333333432674408
          },
          "post_export_metrics/false_negative_rate@0.10": {
           "doubleValue": 0.010256410576403141
          },
          "post_export_metrics/false_negative_rate@0.30": {
           "doubleValue": 0.0615384615957737
          },
          "post_export_metrics/false_negative_rate@0.50": {
           "doubleValue": 0.20000000298023224
          },
          "post_export_metrics/false_negative_rate@0.70": {
           "doubleValue": 0.4153846204280853
          },
          "post_export_metrics/false_negative_rate@0.90": {
           "doubleValue": 0.8153846263885498
          },
          "post_export_metrics/false_omission_rate@0.10": {
           "doubleValue": 0.032258063554763794
          },
          "post_export_metrics/false_omission_rate@0.30": {
           "doubleValue": 0.04511278122663498
          },
          "post_export_metrics/false_omission_rate@0.50": {
           "doubleValue": 0.08124999701976776
          },
          "post_export_metrics/false_omission_rate@0.70": {
           "doubleValue": 0.11604584753513336
          },
          "post_export_metrics/false_omission_rate@0.90": {
           "doubleValue": 0.1778523474931717
          },
          "post_export_metrics/false_positive_rate@0.10": {
           "doubleValue": 0.9203187227249146
          },
          "post_export_metrics/false_positive_rate@0.30": {
           "doubleValue": 0.6626825928688049
          },
          "post_export_metrics/false_positive_rate@0.50": {
           "doubleValue": 0.41434264183044434
          },
          "post_export_metrics/false_positive_rate@0.70": {
           "doubleValue": 0.18061089515686035
          },
          "post_export_metrics/false_positive_rate@0.90": {
           "doubleValue": 0.023904383182525635
          },
          "post_export_metrics/negative_rate@0.10": {
           "doubleValue": 0.06540084630250931
          },
          "post_export_metrics/negative_rate@0.30": {
           "doubleValue": 0.2805907130241394
          },
          "post_export_metrics/negative_rate@0.50": {
           "doubleValue": 0.5063291192054749
          },
          "post_export_metrics/negative_rate@0.70": {
           "doubleValue": 0.7362869381904602
          },
          "post_export_metrics/negative_rate@0.90": {
           "doubleValue": 0.9430379867553711
          },
          "post_export_metrics/positive_rate@0.10": {
           "doubleValue": 0.9345991611480713
          },
          "post_export_metrics/positive_rate@0.30": {
           "doubleValue": 0.7194092869758606
          },
          "post_export_metrics/positive_rate@0.50": {
           "doubleValue": 0.49367088079452515
          },
          "post_export_metrics/positive_rate@0.70": {
           "doubleValue": 0.2637130916118622
          },
          "post_export_metrics/positive_rate@0.90": {
           "doubleValue": 0.0569620244204998
          },
          "post_export_metrics/true_negative_rate@0.10": {
           "doubleValue": 0.07968127727508545
          },
          "post_export_metrics/true_negative_rate@0.30": {
           "doubleValue": 0.33731740713119507
          },
          "post_export_metrics/true_negative_rate@0.50": {
           "doubleValue": 0.5856573581695557
          },
          "post_export_metrics/true_negative_rate@0.70": {
           "doubleValue": 0.8193891048431396
          },
          "post_export_metrics/true_negative_rate@0.90": {
           "doubleValue": 0.9760956168174744
          },
          "post_export_metrics/true_positive_rate@0.10": {
           "doubleValue": 0.9897435903549194
          },
          "post_export_metrics/true_positive_rate@0.30": {
           "doubleValue": 0.9384615421295166
          },
          "post_export_metrics/true_positive_rate@0.50": {
           "doubleValue": 0.800000011920929
          },
          "post_export_metrics/true_positive_rate@0.70": {
           "doubleValue": 0.5846154093742371
          },
          "post_export_metrics/true_positive_rate@0.90": {
           "doubleValue": 0.1846153885126114
          },
          "precision": {
           "doubleValue": 0.3333333432674408
          },
          "prediction/mean": {
           "doubleValue": 0.492001473903656
          },
          "recall": {
           "doubleValue": 0.800000011920929
          }
         },
         "slice": "gender:transgender",
         "sliceValue": "transgender"
        },
        {
         "metrics": {
          "accuracy": {
           "doubleValue": 0.8333333134651184
          },
          "accuracy_baseline": {
           "doubleValue": 0.6666666269302368
          },
          "auc": {
           "doubleValue": 0.8749998807907104
          },
          "auc_precision_recall": {
           "doubleValue": 0.7916663289070129
          },
          "average_loss": {
           "doubleValue": 0.505406379699707
          },
          "label/mean": {
           "doubleValue": 0.3333333432674408
          },
          "post_export_metrics/example_count": {
           "doubleValue": 6.0
          },
          "post_export_metrics/fairness/confusion_matrix_at_thresholds": {
           "confusionMatrixAtThresholds": {
            "matrices": [
             {
              "boundedFalseNegatives": {
               "value": 0.0
              },
              "boundedFalsePositives": {
               "value": 3.0
              },
              "boundedPrecision": {
               "value": 0.4000000059604645
              },
              "boundedRecall": {
               "value": 1.0
              },
              "boundedTrueNegatives": {
               "value": 1.0
              },
              "boundedTruePositives": {
               "value": 2.0
              },
              "falsePositives": 3.0,
              "precision": 0.4000000059604645,
              "recall": 1.0,
              "tDistributionFalseNegatives": {
               "unsampledValue": 0.0
              },
              "tDistributionFalsePositives": {
               "unsampledValue": 3.0
              },
              "tDistributionPrecision": {
               "unsampledValue": 0.4000000059604645
              },
              "tDistributionRecall": {
               "unsampledValue": 1.0
              },
              "tDistributionTrueNegatives": {
               "unsampledValue": 1.0
              },
              "tDistributionTruePositives": {
               "unsampledValue": 2.0
              },
              "threshold": 0.10000000149011612,
              "trueNegatives": 1.0,
              "truePositives": 2.0
             },
             {
              "boundedFalseNegatives": {
               "value": 0.0
              },
              "boundedFalsePositives": {
               "value": 2.0
              },
              "boundedPrecision": {
               "value": 0.5
              },
              "boundedRecall": {
               "value": 1.0
              },
              "boundedTrueNegatives": {
               "value": 2.0
              },
              "boundedTruePositives": {
               "value": 2.0
              },
              "falsePositives": 2.0,
              "precision": 0.5,
              "recall": 1.0,
              "tDistributionFalseNegatives": {
               "unsampledValue": 0.0
              },
              "tDistributionFalsePositives": {
               "unsampledValue": 2.0
              },
              "tDistributionPrecision": {
               "unsampledValue": 0.5
              },
              "tDistributionRecall": {
               "unsampledValue": 1.0
              },
              "tDistributionTrueNegatives": {
               "unsampledValue": 2.0
              },
              "tDistributionTruePositives": {
               "unsampledValue": 2.0
              },
              "threshold": 0.30000001192092896,
              "trueNegatives": 2.0,
              "truePositives": 2.0
             },
             {
              "boundedFalseNegatives": {
               "value": 0.0
              },
              "boundedFalsePositives": {
               "value": 1.0
              },
              "boundedPrecision": {
               "value": 0.6666666865348816
              },
              "boundedRecall": {
               "value": 1.0
              },
              "boundedTrueNegatives": {
               "value": 3.0
              },
              "boundedTruePositives": {
               "value": 2.0
              },
              "falsePositives": 1.0,
              "precision": 0.6666666865348816,
              "recall": 1.0,
              "tDistributionFalseNegatives": {
               "unsampledValue": 0.0
              },
              "tDistributionFalsePositives": {
               "unsampledValue": 1.0
              },
              "tDistributionPrecision": {
               "unsampledValue": 0.6666666865348816
              },
              "tDistributionRecall": {
               "unsampledValue": 1.0
              },
              "tDistributionTrueNegatives": {
               "unsampledValue": 3.0
              },
              "tDistributionTruePositives": {
               "unsampledValue": 2.0
              },
              "threshold": 0.5,
              "trueNegatives": 3.0,
              "truePositives": 2.0
             },
             {
              "boundedFalseNegatives": {
               "value": 1.0
              },
              "boundedFalsePositives": {
               "value": 1.0
              },
              "boundedPrecision": {
               "value": 0.5
              },
              "boundedRecall": {
               "value": 0.5
              },
              "boundedTrueNegatives": {
               "value": 3.0
              },
              "boundedTruePositives": {
               "value": 1.0
              },
              "falseNegatives": 1.0,
              "falsePositives": 1.0,
              "precision": 0.5,
              "recall": 0.5,
              "tDistributionFalseNegatives": {
               "unsampledValue": 1.0
              },
              "tDistributionFalsePositives": {
               "unsampledValue": 1.0
              },
              "tDistributionPrecision": {
               "unsampledValue": 0.5
              },
              "tDistributionRecall": {
               "unsampledValue": 0.5
              },
              "tDistributionTrueNegatives": {
               "unsampledValue": 3.0
              },
              "tDistributionTruePositives": {
               "unsampledValue": 1.0
              },
              "threshold": 0.699999988079071,
              "trueNegatives": 3.0,
              "truePositives": 1.0
             },
             {
              "boundedFalseNegatives": {
               "value": 1.0
              },
              "boundedFalsePositives": {
               "value": 0.0
              },
              "boundedPrecision": {
               "value": 1.0
              },
              "boundedRecall": {
               "value": 0.5
              },
              "boundedTrueNegatives": {
               "value": 4.0
              },
              "boundedTruePositives": {
               "value": 1.0
              },
              "falseNegatives": 1.0,
              "precision": 1.0,
              "recall": 0.5,
              "tDistributionFalseNegatives": {
               "unsampledValue": 1.0
              },
              "tDistributionFalsePositives": {
               "unsampledValue": 0.0
              },
              "tDistributionPrecision": {
               "unsampledValue": 1.0
              },
              "tDistributionRecall": {
               "unsampledValue": 0.5
              },
              "tDistributionTrueNegatives": {
               "unsampledValue": 4.0
              },
              "tDistributionTruePositives": {
               "unsampledValue": 1.0
              },
              "threshold": 0.8999999761581421,
              "trueNegatives": 4.0,
              "truePositives": 1.0
             }
            ]
           }
          },
          "post_export_metrics/false_discovery_rate@0.10": {
           "doubleValue": 0.6000000238418579
          },
          "post_export_metrics/false_discovery_rate@0.30": {
           "doubleValue": 0.5
          },
          "post_export_metrics/false_discovery_rate@0.50": {
           "doubleValue": 0.3333333432674408
          },
          "post_export_metrics/false_discovery_rate@0.70": {
           "doubleValue": 0.5
          },
          "post_export_metrics/false_discovery_rate@0.90": {
           "doubleValue": 0.0
          },
          "post_export_metrics/false_negative_rate@0.10": {
           "doubleValue": 0.0
          },
          "post_export_metrics/false_negative_rate@0.30": {
           "doubleValue": 0.0
          },
          "post_export_metrics/false_negative_rate@0.50": {
           "doubleValue": 0.0
          },
          "post_export_metrics/false_negative_rate@0.70": {
           "doubleValue": 0.5
          },
          "post_export_metrics/false_negative_rate@0.90": {
           "doubleValue": 0.5
          },
          "post_export_metrics/false_omission_rate@0.10": {
           "doubleValue": 0.0
          },
          "post_export_metrics/false_omission_rate@0.30": {
           "doubleValue": 0.0
          },
          "post_export_metrics/false_omission_rate@0.50": {
           "doubleValue": 0.0
          },
          "post_export_metrics/false_omission_rate@0.70": {
           "doubleValue": 0.25
          },
          "post_export_metrics/false_omission_rate@0.90": {
           "doubleValue": 0.20000000298023224
          },
          "post_export_metrics/false_positive_rate@0.10": {
           "doubleValue": 0.75
          },
          "post_export_metrics/false_positive_rate@0.30": {
           "doubleValue": 0.5
          },
          "post_export_metrics/false_positive_rate@0.50": {
           "doubleValue": 0.25
          },
          "post_export_metrics/false_positive_rate@0.70": {
           "doubleValue": 0.25
          },
          "post_export_metrics/false_positive_rate@0.90": {
           "doubleValue": 0.0
          },
          "post_export_metrics/negative_rate@0.10": {
           "doubleValue": 0.1666666716337204
          },
          "post_export_metrics/negative_rate@0.30": {
           "doubleValue": 0.3333333432674408
          },
          "post_export_metrics/negative_rate@0.50": {
           "doubleValue": 0.5
          },
          "post_export_metrics/negative_rate@0.70": {
           "doubleValue": 0.6666666865348816
          },
          "post_export_metrics/negative_rate@0.90": {
           "doubleValue": 0.8333333134651184
          },
          "post_export_metrics/positive_rate@0.10": {
           "doubleValue": 0.8333333134651184
          },
          "post_export_metrics/positive_rate@0.30": {
           "doubleValue": 0.6666666865348816
          },
          "post_export_metrics/positive_rate@0.50": {
           "doubleValue": 0.5
          },
          "post_export_metrics/positive_rate@0.70": {
           "doubleValue": 0.3333333432674408
          },
          "post_export_metrics/positive_rate@0.90": {
           "doubleValue": 0.1666666716337204
          },
          "post_export_metrics/true_negative_rate@0.10": {
           "doubleValue": 0.25
          },
          "post_export_metrics/true_negative_rate@0.30": {
           "doubleValue": 0.5
          },
          "post_export_metrics/true_negative_rate@0.50": {
           "doubleValue": 0.75
          },
          "post_export_metrics/true_negative_rate@0.70": {
           "doubleValue": 0.75
          },
          "post_export_metrics/true_negative_rate@0.90": {
           "doubleValue": 1.0
          },
          "post_export_metrics/true_positive_rate@0.10": {
           "doubleValue": 1.0
          },
          "post_export_metrics/true_positive_rate@0.30": {
           "doubleValue": 1.0
          },
          "post_export_metrics/true_positive_rate@0.50": {
           "doubleValue": 1.0
          },
          "post_export_metrics/true_positive_rate@0.70": {
           "doubleValue": 0.5
          },
          "post_export_metrics/true_positive_rate@0.90": {
           "doubleValue": 0.5
          },
          "precision": {
           "doubleValue": 0.6666666865348816
          },
          "prediction/mean": {
           "doubleValue": 0.5423787236213684
          },
          "recall": {
           "doubleValue": 1.0
          }
         },
         "slice": "gender:other_gender",
         "sliceValue": "other_gender"
        }
       ]
      }
     },
     "2868d95c155546eb8bd34fc3ef8c0aab": {
      "model_module": "@jupyter-widgets/base",
      "model_module_version": "1.2.0",
      "model_name": "LayoutModel",
      "state": {
       "_model_module": "@jupyter-widgets/base",
       "_model_module_version": "1.2.0",
       "_model_name": "LayoutModel",
       "_view_count": null,
       "_view_module": "@jupyter-widgets/base",
       "_view_module_version": "1.2.0",
       "_view_name": "LayoutView",
       "align_content": null,
       "align_items": null,
       "align_self": null,
       "border": null,
       "bottom": null,
       "display": null,
       "flex": null,
       "flex_flow": null,
       "grid_area": null,
       "grid_auto_columns": null,
       "grid_auto_flow": null,
       "grid_auto_rows": null,
       "grid_column": null,
       "grid_gap": null,
       "grid_row": null,
       "grid_template_areas": null,
       "grid_template_columns": null,
       "grid_template_rows": null,
       "height": null,
       "justify_content": null,
       "justify_items": null,
       "left": null,
       "margin": null,
       "max_height": null,
       "max_width": null,
       "min_height": null,
       "min_width": null,
       "object_fit": null,
       "object_position": null,
       "order": null,
       "overflow": null,
       "overflow_x": null,
       "overflow_y": null,
       "padding": null,
       "right": null,
       "top": null,
       "visibility": null,
       "width": null
      }
     },
     "3ba6ef437ac54fcba9b19a66ee8d47fa": {
      "model_module": "tensorflow_model_analysis",
      "model_module_version": "0.39.0",
      "model_name": "FairnessIndicatorModel",
      "state": {
       "_dom_classes": [],
       "_model_module": "tensorflow_model_analysis",
       "_model_module_version": "0.39.0",
       "_model_name": "FairnessIndicatorModel",
       "_view_count": null,
       "_view_module": "tensorflow_model_analysis",
       "_view_module_version": "0.39.0",
       "_view_name": "FairnessIndicatorView",
       "evalName": "",
       "evalNameCompare": "",
       "js_events": [],
       "layout": "IPY_MODEL_af2c2627035240c9804701cf366d5240",
       "slicingMetrics": [
        {
         "metrics": {
          "accuracy": {
           "doubleValue": 0.718055248260498
          },
          "accuracy_baseline": {
           "doubleValue": 0.9198060631752014
          },
          "auc": {
           "doubleValue": 0.7967084646224976
          },
          "auc_precision_recall": {
           "doubleValue": 0.3008578419685364
          },
          "average_loss": {
           "doubleValue": 0.5615909695625305
          },
          "label/mean": {
           "doubleValue": 0.08019392192363739
          },
          "post_export_metrics/example_count": {
           "doubleValue": 721950.0
          },
          "post_export_metrics/fairness/confusion_matrix_at_thresholds": {
           "confusionMatrixAtThresholds": {
            "matrices": [
             {
              "boundedFalseNegatives": {
               "value": 341.0
              },
              "boundedFalsePositives": {
               "value": 611645.0
              },
              "boundedPrecision": {
               "value": 0.08600568026304245
              },
              "boundedRecall": {
               "value": 0.994110107421875
              },
              "boundedTrueNegatives": {
               "value": 52409.0
              },
              "boundedTruePositives": {
               "value": 57555.0
              },
              "falseNegatives": 341.0,
              "falsePositives": 611645.0,
              "precision": 0.08600568026304245,
              "recall": 0.994110107421875,
              "tDistributionFalseNegatives": {
               "unsampledValue": 341.0
              },
              "tDistributionFalsePositives": {
               "unsampledValue": 611645.0
              },
              "tDistributionPrecision": {
               "unsampledValue": 0.08600568026304245
              },
              "tDistributionRecall": {
               "unsampledValue": 0.994110107421875
              },
              "tDistributionTrueNegatives": {
               "unsampledValue": 52409.0
              },
              "tDistributionTruePositives": {
               "unsampledValue": 57555.0
              },
              "threshold": 0.10000000149011612,
              "trueNegatives": 52409.0,
              "truePositives": 57555.0
             },
             {
              "boundedFalseNegatives": {
               "value": 5043.0
              },
              "boundedFalsePositives": {
               "value": 384565.0
              },
              "boundedPrecision": {
               "value": 0.1208295077085495
              },
              "boundedRecall": {
               "value": 0.9128955602645874
              },
              "boundedTrueNegatives": {
               "value": 279489.0
              },
              "boundedTruePositives": {
               "value": 52853.0
              },
              "falseNegatives": 5043.0,
              "falsePositives": 384565.0,
              "precision": 0.1208295077085495,
              "recall": 0.9128955602645874,
              "tDistributionFalseNegatives": {
               "unsampledValue": 5043.0
              },
              "tDistributionFalsePositives": {
               "unsampledValue": 384565.0
              },
              "tDistributionPrecision": {
               "unsampledValue": 0.1208295077085495
              },
              "tDistributionRecall": {
               "unsampledValue": 0.9128955602645874
              },
              "tDistributionTrueNegatives": {
               "unsampledValue": 279489.0
              },
              "tDistributionTruePositives": {
               "unsampledValue": 52853.0
              },
              "threshold": 0.30000001192092896,
              "trueNegatives": 279489.0,
              "truePositives": 52853.0
             },
             {
              "boundedFalseNegatives": {
               "value": 15643.0
              },
              "boundedFalsePositives": {
               "value": 187907.0
              },
              "boundedPrecision": {
               "value": 0.18358097970485687
              },
              "boundedRecall": {
               "value": 0.7298086285591125
              },
              "boundedTrueNegatives": {
               "value": 476147.0
              },
              "boundedTruePositives": {
               "value": 42253.0
              },
              "falseNegatives": 15643.0,
              "falsePositives": 187907.0,
              "precision": 0.18358097970485687,
              "recall": 0.7298086285591125,
              "tDistributionFalseNegatives": {
               "unsampledValue": 15643.0
              },
              "tDistributionFalsePositives": {
               "unsampledValue": 187907.0
              },
              "tDistributionPrecision": {
               "unsampledValue": 0.18358097970485687
              },
              "tDistributionRecall": {
               "unsampledValue": 0.7298086285591125
              },
              "tDistributionTrueNegatives": {
               "unsampledValue": 476147.0
              },
              "tDistributionTruePositives": {
               "unsampledValue": 42253.0
              },
              "threshold": 0.5,
              "trueNegatives": 476147.0,
              "truePositives": 42253.0
             },
             {
              "boundedFalseNegatives": {
               "value": 31414.0
              },
              "boundedFalsePositives": {
               "value": 64845.0
              },
              "boundedPrecision": {
               "value": 0.2899690270423889
              },
              "boundedRecall": {
               "value": 0.4574063718318939
              },
              "boundedTrueNegatives": {
               "value": 599209.0
              },
              "boundedTruePositives": {
               "value": 26482.0
              },
              "falseNegatives": 31414.0,
              "falsePositives": 64845.0,
              "precision": 0.2899690270423889,
              "recall": 0.4574063718318939,
              "tDistributionFalseNegatives": {
               "unsampledValue": 31414.0
              },
              "tDistributionFalsePositives": {
               "unsampledValue": 64845.0
              },
              "tDistributionPrecision": {
               "unsampledValue": 0.2899690270423889
              },
              "tDistributionRecall": {
               "unsampledValue": 0.4574063718318939
              },
              "tDistributionTrueNegatives": {
               "unsampledValue": 599209.0
              },
              "tDistributionTruePositives": {
               "unsampledValue": 26482.0
              },
              "threshold": 0.699999988079071,
              "trueNegatives": 599209.0,
              "truePositives": 26482.0
             },
             {
              "boundedFalseNegatives": {
               "value": 51530.0
              },
              "boundedFalsePositives": {
               "value": 6011.0
              },
              "boundedPrecision": {
               "value": 0.5143411159515381
              },
              "boundedRecall": {
               "value": 0.10995578020811081
              },
              "boundedTrueNegatives": {
               "value": 658043.0
              },
              "boundedTruePositives": {
               "value": 6366.0
              },
              "falseNegatives": 51530.0,
              "falsePositives": 6011.0,
              "precision": 0.5143411159515381,
              "recall": 0.10995578020811081,
              "tDistributionFalseNegatives": {
               "unsampledValue": 51530.0
              },
              "tDistributionFalsePositives": {
               "unsampledValue": 6011.0
              },
              "tDistributionPrecision": {
               "unsampledValue": 0.5143411159515381
              },
              "tDistributionRecall": {
               "unsampledValue": 0.10995578020811081
              },
              "tDistributionTrueNegatives": {
               "unsampledValue": 658043.0
              },
              "tDistributionTruePositives": {
               "unsampledValue": 6366.0
              },
              "threshold": 0.8999999761581421,
              "trueNegatives": 658043.0,
              "truePositives": 6366.0
             }
            ]
           }
          },
          "post_export_metrics/false_discovery_rate@0.10": {
           "doubleValue": 0.913994312286377
          },
          "post_export_metrics/false_discovery_rate@0.30": {
           "doubleValue": 0.8791704773902893
          },
          "post_export_metrics/false_discovery_rate@0.50": {
           "doubleValue": 0.8164190053939819
          },
          "post_export_metrics/false_discovery_rate@0.70": {
           "doubleValue": 0.7100309729576111
          },
          "post_export_metrics/false_discovery_rate@0.90": {
           "doubleValue": 0.4856588840484619
          },
          "post_export_metrics/false_negative_rate@0.10": {
           "doubleValue": 0.005889871623367071
          },
          "post_export_metrics/false_negative_rate@0.30": {
           "doubleValue": 0.08710446208715439
          },
          "post_export_metrics/false_negative_rate@0.50": {
           "doubleValue": 0.27019137144088745
          },
          "post_export_metrics/false_negative_rate@0.70": {
           "doubleValue": 0.5425935983657837
          },
          "post_export_metrics/false_negative_rate@0.90": {
           "doubleValue": 0.8900442123413086
          },
          "post_export_metrics/false_omission_rate@0.10": {
           "doubleValue": 0.006464454811066389
          },
          "post_export_metrics/false_omission_rate@0.30": {
           "doubleValue": 0.017723841592669487
          },
          "post_export_metrics/false_omission_rate@0.50": {
           "doubleValue": 0.031808290630578995
          },
          "post_export_metrics/false_omission_rate@0.70": {
           "doubleValue": 0.04981423169374466
          },
          "post_export_metrics/false_omission_rate@0.90": {
           "doubleValue": 0.07262113690376282
          },
          "post_export_metrics/false_positive_rate@0.10": {
           "doubleValue": 0.9210771918296814
          },
          "post_export_metrics/false_positive_rate@0.30": {
           "doubleValue": 0.5791170597076416
          },
          "post_export_metrics/false_positive_rate@0.50": {
           "doubleValue": 0.2829694449901581
          },
          "post_export_metrics/false_positive_rate@0.70": {
           "doubleValue": 0.0976501926779747
          },
          "post_export_metrics/false_positive_rate@0.90": {
           "doubleValue": 0.00905197486281395
          },
          "post_export_metrics/negative_rate@0.10": {
           "doubleValue": 0.07306600362062454
          },
          "post_export_metrics/negative_rate@0.30": {
           "doubleValue": 0.3941159248352051
          },
          "post_export_metrics/negative_rate@0.50": {
           "doubleValue": 0.6811967492103577
          },
          "post_export_metrics/negative_rate@0.70": {
           "doubleValue": 0.8734995722770691
          },
          "post_export_metrics/negative_rate@0.90": {
           "doubleValue": 0.9828561544418335
          },
          "post_export_metrics/positive_rate@0.10": {
           "doubleValue": 0.926934003829956
          },
          "post_export_metrics/positive_rate@0.30": {
           "doubleValue": 0.6058840751647949
          },
          "post_export_metrics/positive_rate@0.50": {
           "doubleValue": 0.31880325078964233
          },
          "post_export_metrics/positive_rate@0.70": {
           "doubleValue": 0.1265004575252533
          },
          "post_export_metrics/positive_rate@0.90": {
           "doubleValue": 0.017143847420811653
          },
          "post_export_metrics/true_negative_rate@0.10": {
           "doubleValue": 0.078922800719738
          },
          "post_export_metrics/true_negative_rate@0.30": {
           "doubleValue": 0.4208829402923584
          },
          "post_export_metrics/true_negative_rate@0.50": {
           "doubleValue": 0.7170305252075195
          },
          "post_export_metrics/true_negative_rate@0.70": {
           "doubleValue": 0.9023498296737671
          },
          "post_export_metrics/true_negative_rate@0.90": {
           "doubleValue": 0.9909480214118958
          },
          "post_export_metrics/true_positive_rate@0.10": {
           "doubleValue": 0.994110107421875
          },
          "post_export_metrics/true_positive_rate@0.30": {
           "doubleValue": 0.9128955602645874
          },
          "post_export_metrics/true_positive_rate@0.50": {
           "doubleValue": 0.7298086285591125
          },
          "post_export_metrics/true_positive_rate@0.70": {
           "doubleValue": 0.4574063718318939
          },
          "post_export_metrics/true_positive_rate@0.90": {
           "doubleValue": 0.10995578020811081
          },
          "precision": {
           "doubleValue": 0.18358097970485687
          },
          "prediction/mean": {
           "doubleValue": 0.39958447217941284
          },
          "recall": {
           "doubleValue": 0.7298086285591125
          }
         },
         "slice": "Overall",
         "sliceValue": "Overall"
        },
        {
         "metrics": {
          "accuracy": {
           "doubleValue": 0.5682107210159302
          },
          "accuracy_baseline": {
           "doubleValue": 0.8633428812026978
          },
          "auc": {
           "doubleValue": 0.7713558673858643
          },
          "auc_precision_recall": {
           "doubleValue": 0.3608880937099457
          },
          "average_loss": {
           "doubleValue": 0.7635968923568726
          },
          "label/mean": {
           "doubleValue": 0.13665708899497986
          },
          "post_export_metrics/example_count": {
           "doubleValue": 21221.0
          },
          "post_export_metrics/fairness/confusion_matrix_at_thresholds": {
           "confusionMatrixAtThresholds": {
            "matrices": [
             {
              "boundedFalseNegatives": {
               "value": 6.0
              },
              "boundedFalsePositives": {
               "value": 17439.0
              },
              "boundedPrecision": {
               "value": 0.14233019948005676
              },
              "boundedRecall": {
               "value": 0.9979310631752014
              },
              "boundedTrueNegatives": {
               "value": 882.0
              },
              "boundedTruePositives": {
               "value": 2894.0
              },
              "falseNegatives": 6.0,
              "falsePositives": 17439.0,
              "precision": 0.14233019948005676,
              "recall": 0.9979310631752014,
              "tDistributionFalseNegatives": {
               "unsampledValue": 6.0
              },
              "tDistributionFalsePositives": {
               "unsampledValue": 17439.0
              },
              "tDistributionPrecision": {
               "unsampledValue": 0.14233019948005676
              },
              "tDistributionRecall": {
               "unsampledValue": 0.9979310631752014
              },
              "tDistributionTrueNegatives": {
               "unsampledValue": 882.0
              },
              "tDistributionTruePositives": {
               "unsampledValue": 2894.0
              },
              "threshold": 0.10000000149011612,
              "trueNegatives": 882.0,
              "truePositives": 2894.0
             },
             {
              "boundedFalseNegatives": {
               "value": 120.0
              },
              "boundedFalsePositives": {
               "value": 13489.0
              },
              "boundedPrecision": {
               "value": 0.1708771288394928
              },
              "boundedRecall": {
               "value": 0.9586206674575806
              },
              "boundedTrueNegatives": {
               "value": 4832.0
              },
              "boundedTruePositives": {
               "value": 2780.0
              },
              "falseNegatives": 120.0,
              "falsePositives": 13489.0,
              "precision": 0.1708771288394928,
              "recall": 0.9586206674575806,
              "tDistributionFalseNegatives": {
               "unsampledValue": 120.0
              },
              "tDistributionFalsePositives": {
               "unsampledValue": 13489.0
              },
              "tDistributionPrecision": {
               "unsampledValue": 0.1708771288394928
              },
              "tDistributionRecall": {
               "unsampledValue": 0.9586206674575806
              },
              "tDistributionTrueNegatives": {
               "unsampledValue": 4832.0
              },
              "tDistributionTruePositives": {
               "unsampledValue": 2780.0
              },
              "threshold": 0.30000001192092896,
              "trueNegatives": 4832.0,
              "truePositives": 2780.0
             },
             {
              "boundedFalseNegatives": {
               "value": 434.0
              },
              "boundedFalsePositives": {
               "value": 8729.0
              },
              "boundedPrecision": {
               "value": 0.22027690708637238
              },
              "boundedRecall": {
               "value": 0.8503448367118835
              },
              "boundedTrueNegatives": {
               "value": 9592.0
              },
              "boundedTruePositives": {
               "value": 2466.0
              },
              "falseNegatives": 434.0,
              "falsePositives": 8729.0,
              "precision": 0.22027690708637238,
              "recall": 0.8503448367118835,
              "tDistributionFalseNegatives": {
               "unsampledValue": 434.0
              },
              "tDistributionFalsePositives": {
               "unsampledValue": 8729.0
              },
              "tDistributionPrecision": {
               "unsampledValue": 0.22027690708637238
              },
              "tDistributionRecall": {
               "unsampledValue": 0.8503448367118835
              },
              "tDistributionTrueNegatives": {
               "unsampledValue": 9592.0
              },
              "tDistributionTruePositives": {
               "unsampledValue": 2466.0
              },
              "threshold": 0.5,
              "trueNegatives": 9592.0,
              "truePositives": 2466.0
             },
             {
              "boundedFalseNegatives": {
               "value": 1151.0
              },
              "boundedFalsePositives": {
               "value": 4154.0
              },
              "boundedPrecision": {
               "value": 0.29629001021385193
              },
              "boundedRecall": {
               "value": 0.6031034588813782
              },
              "boundedTrueNegatives": {
               "value": 14167.0
              },
              "boundedTruePositives": {
               "value": 1749.0
              },
              "falseNegatives": 1151.0,
              "falsePositives": 4154.0,
              "precision": 0.29629001021385193,
              "recall": 0.6031034588813782,
              "tDistributionFalseNegatives": {
               "unsampledValue": 1151.0
              },
              "tDistributionFalsePositives": {
               "unsampledValue": 4154.0
              },
              "tDistributionPrecision": {
               "unsampledValue": 0.29629001021385193
              },
              "tDistributionRecall": {
               "unsampledValue": 0.6031034588813782
              },
              "tDistributionTrueNegatives": {
               "unsampledValue": 14167.0
              },
              "tDistributionTruePositives": {
               "unsampledValue": 1749.0
              },
              "threshold": 0.699999988079071,
              "trueNegatives": 14167.0,
              "truePositives": 1749.0
             },
             {
              "boundedFalseNegatives": {
               "value": 2305.0
              },
              "boundedFalsePositives": {
               "value": 636.0
              },
              "boundedPrecision": {
               "value": 0.4833468794822693
              },
              "boundedRecall": {
               "value": 0.20517241954803467
              },
              "boundedTrueNegatives": {
               "value": 17685.0
              },
              "boundedTruePositives": {
               "value": 595.0
              },
              "falseNegatives": 2305.0,
              "falsePositives": 636.0,
              "precision": 0.4833468794822693,
              "recall": 0.20517241954803467,
              "tDistributionFalseNegatives": {
               "unsampledValue": 2305.0
              },
              "tDistributionFalsePositives": {
               "unsampledValue": 636.0
              },
              "tDistributionPrecision": {
               "unsampledValue": 0.4833468794822693
              },
              "tDistributionRecall": {
               "unsampledValue": 0.20517241954803467
              },
              "tDistributionTrueNegatives": {
               "unsampledValue": 17685.0
              },
              "tDistributionTruePositives": {
               "unsampledValue": 595.0
              },
              "threshold": 0.8999999761581421,
              "trueNegatives": 17685.0,
              "truePositives": 595.0
             }
            ]
           }
          },
          "post_export_metrics/false_discovery_rate@0.10": {
           "doubleValue": 0.8576697707176208
          },
          "post_export_metrics/false_discovery_rate@0.30": {
           "doubleValue": 0.8291229009628296
          },
          "post_export_metrics/false_discovery_rate@0.50": {
           "doubleValue": 0.7797231078147888
          },
          "post_export_metrics/false_discovery_rate@0.70": {
           "doubleValue": 0.7037099599838257
          },
          "post_export_metrics/false_discovery_rate@0.90": {
           "doubleValue": 0.5166531205177307
          },
          "post_export_metrics/false_negative_rate@0.10": {
           "doubleValue": 0.0020689654629677534
          },
          "post_export_metrics/false_negative_rate@0.30": {
           "doubleValue": 0.04137931019067764
          },
          "post_export_metrics/false_negative_rate@0.50": {
           "doubleValue": 0.14965517818927765
          },
          "post_export_metrics/false_negative_rate@0.70": {
           "doubleValue": 0.3968965411186218
          },
          "post_export_metrics/false_negative_rate@0.90": {
           "doubleValue": 0.7948275804519653
          },
          "post_export_metrics/false_omission_rate@0.10": {
           "doubleValue": 0.006756756920367479
          },
          "post_export_metrics/false_omission_rate@0.30": {
           "doubleValue": 0.024232633411884308
          },
          "post_export_metrics/false_omission_rate@0.50": {
           "doubleValue": 0.043287452310323715
          },
          "post_export_metrics/false_omission_rate@0.70": {
           "doubleValue": 0.07514035701751709
          },
          "post_export_metrics/false_omission_rate@0.90": {
           "doubleValue": 0.11530765146017075
          },
          "post_export_metrics/false_positive_rate@0.10": {
           "doubleValue": 0.9518585205078125
          },
          "post_export_metrics/false_positive_rate@0.30": {
           "doubleValue": 0.7362589240074158
          },
          "post_export_metrics/false_positive_rate@0.50": {
           "doubleValue": 0.47644779086112976
          },
          "post_export_metrics/false_positive_rate@0.70": {
           "doubleValue": 0.22673435509204865
          },
          "post_export_metrics/false_positive_rate@0.90": {
           "doubleValue": 0.034714262932538986
          },
          "post_export_metrics/negative_rate@0.10": {
           "doubleValue": 0.04184534028172493
          },
          "post_export_metrics/negative_rate@0.30": {
           "doubleValue": 0.23335374891757965
          },
          "post_export_metrics/negative_rate@0.50": {
           "doubleValue": 0.47245651483535767
          },
          "post_export_metrics/negative_rate@0.70": {
           "doubleValue": 0.7218321561813354
          },
          "post_export_metrics/negative_rate@0.90": {
           "doubleValue": 0.9419914484024048
          },
          "post_export_metrics/positive_rate@0.10": {
           "doubleValue": 0.9581546783447266
          },
          "post_export_metrics/positive_rate@0.30": {
           "doubleValue": 0.7666462659835815
          },
          "post_export_metrics/positive_rate@0.50": {
           "doubleValue": 0.5275434851646423
          },
          "post_export_metrics/positive_rate@0.70": {
           "doubleValue": 0.27816784381866455
          },
          "post_export_metrics/positive_rate@0.90": {
           "doubleValue": 0.058008577674627304
          },
          "post_export_metrics/true_negative_rate@0.10": {
           "doubleValue": 0.0481414757668972
          },
          "post_export_metrics/true_negative_rate@0.30": {
           "doubleValue": 0.26374107599258423
          },
          "post_export_metrics/true_negative_rate@0.50": {
           "doubleValue": 0.5235521793365479
          },
          "post_export_metrics/true_negative_rate@0.70": {
           "doubleValue": 0.7732656598091125
          },
          "post_export_metrics/true_negative_rate@0.90": {
           "doubleValue": 0.9652857184410095
          },
          "post_export_metrics/true_positive_rate@0.10": {
           "doubleValue": 0.9979310631752014
          },
          "post_export_metrics/true_positive_rate@0.30": {
           "doubleValue": 0.9586206674575806
          },
          "post_export_metrics/true_positive_rate@0.50": {
           "doubleValue": 0.8503448367118835
          },
          "post_export_metrics/true_positive_rate@0.70": {
           "doubleValue": 0.6031034588813782
          },
          "post_export_metrics/true_positive_rate@0.90": {
           "doubleValue": 0.20517241954803467
          },
          "precision": {
           "doubleValue": 0.22027690708637238
          },
          "prediction/mean": {
           "doubleValue": 0.5177326798439026
          },
          "recall": {
           "doubleValue": 0.8503448367118835
          }
         },
         "slice": "gender:female",
         "sliceValue": "female"
        },
        {
         "metrics": {
          "accuracy": {
           "doubleValue": 0.5429877042770386
          },
          "accuracy_baseline": {
           "doubleValue": 0.8499943614006042
          },
          "auc": {
           "doubleValue": 0.765247106552124
          },
          "auc_precision_recall": {
           "doubleValue": 0.3823912739753723
          },
          "average_loss": {
           "doubleValue": 0.7979258298873901
          },
          "label/mean": {
           "doubleValue": 0.15000563859939575
          },
          "post_export_metrics/example_count": {
           "doubleValue": 17726.0
          },
          "post_export_metrics/fairness/confusion_matrix_at_thresholds": {
           "confusionMatrixAtThresholds": {
            "matrices": [
             {
              "boundedFalseNegatives": {
               "value": 6.0
              },
              "boundedFalsePositives": {
               "value": 14563.0
              },
              "boundedPrecision": {
               "value": 0.15410083532333374
              },
              "boundedRecall": {
               "value": 0.9977434873580933
              },
              "boundedTrueNegatives": {
               "value": 504.0
              },
              "boundedTruePositives": {
               "value": 2653.0
              },
              "falseNegatives": 6.0,
              "falsePositives": 14563.0,
              "precision": 0.15410083532333374,
              "recall": 0.9977434873580933,
              "tDistributionFalseNegatives": {
               "unsampledValue": 6.0
              },
              "tDistributionFalsePositives": {
               "unsampledValue": 14563.0
              },
              "tDistributionPrecision": {
               "unsampledValue": 0.15410083532333374
              },
              "tDistributionRecall": {
               "unsampledValue": 0.9977434873580933
              },
              "tDistributionTrueNegatives": {
               "unsampledValue": 504.0
              },
              "tDistributionTruePositives": {
               "unsampledValue": 2653.0
              },
              "threshold": 0.10000000149011612,
              "trueNegatives": 504.0,
              "truePositives": 2653.0
             },
             {
              "boundedFalseNegatives": {
               "value": 94.0
              },
              "boundedFalsePositives": {
               "value": 11682.0
              },
              "boundedPrecision": {
               "value": 0.18003790080547333
              },
              "boundedRecall": {
               "value": 0.9646483659744263
              },
              "boundedTrueNegatives": {
               "value": 3385.0
              },
              "boundedTruePositives": {
               "value": 2565.0
              },
              "falseNegatives": 94.0,
              "falsePositives": 11682.0,
              "precision": 0.18003790080547333,
              "recall": 0.9646483659744263,
              "tDistributionFalseNegatives": {
               "unsampledValue": 94.0
              },
              "tDistributionFalsePositives": {
               "unsampledValue": 11682.0
              },
              "tDistributionPrecision": {
               "unsampledValue": 0.18003790080547333
              },
              "tDistributionRecall": {
               "unsampledValue": 0.9646483659744263
              },
              "tDistributionTrueNegatives": {
               "unsampledValue": 3385.0
              },
              "tDistributionTruePositives": {
               "unsampledValue": 2565.0
              },
              "threshold": 0.30000001192092896,
              "trueNegatives": 3385.0,
              "truePositives": 2565.0
             },
             {
              "boundedFalseNegatives": {
               "value": 357.0
              },
              "boundedFalsePositives": {
               "value": 7744.0
              },
              "boundedPrecision": {
               "value": 0.22914592921733856
              },
              "boundedRecall": {
               "value": 0.8657389879226685
              },
              "boundedTrueNegatives": {
               "value": 7323.0
              },
              "boundedTruePositives": {
               "value": 2302.0
              },
              "falseNegatives": 357.0,
              "falsePositives": 7744.0,
              "precision": 0.22914592921733856,
              "recall": 0.8657389879226685,
              "tDistributionFalseNegatives": {
               "unsampledValue": 357.0
              },
              "tDistributionFalsePositives": {
               "unsampledValue": 7744.0
              },
              "tDistributionPrecision": {
               "unsampledValue": 0.22914592921733856
              },
              "tDistributionRecall": {
               "unsampledValue": 0.8657389879226685
              },
              "tDistributionTrueNegatives": {
               "unsampledValue": 7323.0
              },
              "tDistributionTruePositives": {
               "unsampledValue": 2302.0
              },
              "threshold": 0.5,
              "trueNegatives": 7323.0,
              "truePositives": 2302.0
             },
             {
              "boundedFalseNegatives": {
               "value": 985.0
              },
              "boundedFalsePositives": {
               "value": 3779.0
              },
              "boundedPrecision": {
               "value": 0.3069869875907898
              },
              "boundedRecall": {
               "value": 0.6295599937438965
              },
              "boundedTrueNegatives": {
               "value": 11288.0
              },
              "boundedTruePositives": {
               "value": 1674.0
              },
              "falseNegatives": 985.0,
              "falsePositives": 3779.0,
              "precision": 0.3069869875907898,
              "recall": 0.6295599937438965,
              "tDistributionFalseNegatives": {
               "unsampledValue": 985.0
              },
              "tDistributionFalsePositives": {
               "unsampledValue": 3779.0
              },
              "tDistributionPrecision": {
               "unsampledValue": 0.3069869875907898
              },
              "tDistributionRecall": {
               "unsampledValue": 0.6295599937438965
              },
              "tDistributionTrueNegatives": {
               "unsampledValue": 11288.0
              },
              "tDistributionTruePositives": {
               "unsampledValue": 1674.0
              },
              "threshold": 0.699999988079071,
              "trueNegatives": 11288.0,
              "truePositives": 1674.0
             },
             {
              "boundedFalseNegatives": {
               "value": 2081.0
              },
              "boundedFalsePositives": {
               "value": 574.0
              },
              "boundedPrecision": {
               "value": 0.5017361044883728
              },
              "boundedRecall": {
               "value": 0.21737495064735413
              },
              "boundedTrueNegatives": {
               "value": 14493.0
              },
              "boundedTruePositives": {
               "value": 578.0
              },
              "falseNegatives": 2081.0,
              "falsePositives": 574.0,
              "precision": 0.5017361044883728,
              "recall": 0.21737495064735413,
              "tDistributionFalseNegatives": {
               "unsampledValue": 2081.0
              },
              "tDistributionFalsePositives": {
               "unsampledValue": 574.0
              },
              "tDistributionPrecision": {
               "unsampledValue": 0.5017361044883728
              },
              "tDistributionRecall": {
               "unsampledValue": 0.21737495064735413
              },
              "tDistributionTrueNegatives": {
               "unsampledValue": 14493.0
              },
              "tDistributionTruePositives": {
               "unsampledValue": 578.0
              },
              "threshold": 0.8999999761581421,
              "trueNegatives": 14493.0,
              "truePositives": 578.0
             }
            ]
           }
          },
          "post_export_metrics/false_discovery_rate@0.10": {
           "doubleValue": 0.8458991646766663
          },
          "post_export_metrics/false_discovery_rate@0.30": {
           "doubleValue": 0.8199620842933655
          },
          "post_export_metrics/false_discovery_rate@0.50": {
           "doubleValue": 0.7708540558815002
          },
          "post_export_metrics/false_discovery_rate@0.70": {
           "doubleValue": 0.6930130124092102
          },
          "post_export_metrics/false_discovery_rate@0.90": {
           "doubleValue": 0.4982638955116272
          },
          "post_export_metrics/false_negative_rate@0.10": {
           "doubleValue": 0.0022564874961972237
          },
          "post_export_metrics/false_negative_rate@0.30": {
           "doubleValue": 0.03535163775086403
          },
          "post_export_metrics/false_negative_rate@0.50": {
           "doubleValue": 0.13426099717617035
          },
          "post_export_metrics/false_negative_rate@0.70": {
           "doubleValue": 0.3704400062561035
          },
          "post_export_metrics/false_negative_rate@0.90": {
           "doubleValue": 0.7826250195503235
          },
          "post_export_metrics/false_omission_rate@0.10": {
           "doubleValue": 0.0117647061124444
          },
          "post_export_metrics/false_omission_rate@0.30": {
           "doubleValue": 0.027019258588552475
          },
          "post_export_metrics/false_omission_rate@0.50": {
           "doubleValue": 0.04648437350988388
          },
          "post_export_metrics/false_omission_rate@0.70": {
           "doubleValue": 0.08025747537612915
          },
          "post_export_metrics/false_omission_rate@0.90": {
           "doubleValue": 0.12555810809135437
          },
          "post_export_metrics/false_positive_rate@0.10": {
           "doubleValue": 0.9665493965148926
          },
          "post_export_metrics/false_positive_rate@0.30": {
           "doubleValue": 0.7753368020057678
          },
          "post_export_metrics/false_positive_rate@0.50": {
           "doubleValue": 0.5139709115028381
          },
          "post_export_metrics/false_positive_rate@0.70": {
           "doubleValue": 0.2508130371570587
          },
          "post_export_metrics/false_positive_rate@0.90": {
           "doubleValue": 0.03809650242328644
          },
          "post_export_metrics/negative_rate@0.10": {
           "doubleValue": 0.0287712961435318
          },
          "post_export_metrics/negative_rate@0.30": {
           "doubleValue": 0.19626536965370178
          },
          "post_export_metrics/negative_rate@0.50": {
           "doubleValue": 0.4332618713378906
          },
          "post_export_metrics/negative_rate@0.70": {
           "doubleValue": 0.6923727989196777
          },
          "post_export_metrics/negative_rate@0.90": {
           "doubleValue": 0.9350107312202454
          },
          "post_export_metrics/positive_rate@0.10": {
           "doubleValue": 0.9712287187576294
          },
          "post_export_metrics/positive_rate@0.30": {
           "doubleValue": 0.8037346005439758
          },
          "post_export_metrics/positive_rate@0.50": {
           "doubleValue": 0.5667381286621094
          },
          "post_export_metrics/positive_rate@0.70": {
           "doubleValue": 0.30762720108032227
          },
          "post_export_metrics/positive_rate@0.90": {
           "doubleValue": 0.06498928368091583
          },
          "post_export_metrics/true_negative_rate@0.10": {
           "doubleValue": 0.03345058858394623
          },
          "post_export_metrics/true_negative_rate@0.30": {
           "doubleValue": 0.2246631681919098
          },
          "post_export_metrics/true_negative_rate@0.50": {
           "doubleValue": 0.4860290586948395
          },
          "post_export_metrics/true_negative_rate@0.70": {
           "doubleValue": 0.7491869926452637
          },
          "post_export_metrics/true_negative_rate@0.90": {
           "doubleValue": 0.9619035124778748
          },
          "post_export_metrics/true_positive_rate@0.10": {
           "doubleValue": 0.9977434873580933
          },
          "post_export_metrics/true_positive_rate@0.30": {
           "doubleValue": 0.9646483659744263
          },
          "post_export_metrics/true_positive_rate@0.50": {
           "doubleValue": 0.8657389879226685
          },
          "post_export_metrics/true_positive_rate@0.70": {
           "doubleValue": 0.6295599937438965
          },
          "post_export_metrics/true_positive_rate@0.90": {
           "doubleValue": 0.21737495064735413
          },
          "precision": {
           "doubleValue": 0.22914592921733856
          },
          "prediction/mean": {
           "doubleValue": 0.5420265793800354
          },
          "recall": {
           "doubleValue": 0.8657389879226685
          }
         },
         "slice": "gender:male",
         "sliceValue": "male"
        },
        {
         "metrics": {
          "accuracy": {
           "doubleValue": 0.6213080286979675
          },
          "accuracy_baseline": {
           "doubleValue": 0.7943037748336792
          },
          "auc": {
           "doubleValue": 0.732110857963562
          },
          "auc_precision_recall": {
           "doubleValue": 0.3981589376926422
          },
          "average_loss": {
           "doubleValue": 0.6888409852981567
          },
          "label/mean": {
           "doubleValue": 0.2056961953639984
          },
          "post_export_metrics/example_count": {
           "doubleValue": 948.0
          },
          "post_export_metrics/fairness/confusion_matrix_at_thresholds": {
           "confusionMatrixAtThresholds": {
            "matrices": [
             {
              "boundedFalseNegatives": {
               "value": 3.0
              },
              "boundedFalsePositives": {
               "value": 717.0
              },
              "boundedPrecision": {
               "value": 0.2112211287021637
              },
              "boundedRecall": {
               "value": 0.9846153855323792
              },
              "boundedTrueNegatives": {
               "value": 36.0
              },
              "boundedTruePositives": {
               "value": 192.0
              },
              "falseNegatives": 3.0,
              "falsePositives": 717.0,
              "precision": 0.2112211287021637,
              "recall": 0.9846153855323792,
              "tDistributionFalseNegatives": {
               "unsampledValue": 3.0
              },
              "tDistributionFalsePositives": {
               "unsampledValue": 717.0
              },
              "tDistributionPrecision": {
               "unsampledValue": 0.2112211287021637
              },
              "tDistributionRecall": {
               "unsampledValue": 0.9846153855323792
              },
              "tDistributionTrueNegatives": {
               "unsampledValue": 36.0
              },
              "tDistributionTruePositives": {
               "unsampledValue": 192.0
              },
              "threshold": 0.10000000149011612,
              "trueNegatives": 36.0,
              "truePositives": 192.0
             },
             {
              "boundedFalseNegatives": {
               "value": 13.0
              },
              "boundedFalsePositives": {
               "value": 536.0
              },
              "boundedPrecision": {
               "value": 0.2534818947315216
              },
              "boundedRecall": {
               "value": 0.9333333373069763
              },
              "boundedTrueNegatives": {
               "value": 217.0
              },
              "boundedTruePositives": {
               "value": 182.0
              },
              "falseNegatives": 13.0,
              "falsePositives": 536.0,
              "precision": 0.2534818947315216,
              "recall": 0.9333333373069763,
              "tDistributionFalseNegatives": {
               "unsampledValue": 13.0
              },
              "tDistributionFalsePositives": {
               "unsampledValue": 536.0
              },
              "tDistributionPrecision": {
               "unsampledValue": 0.2534818947315216
              },
              "tDistributionRecall": {
               "unsampledValue": 0.9333333373069763
              },
              "tDistributionTrueNegatives": {
               "unsampledValue": 217.0
              },
              "tDistributionTruePositives": {
               "unsampledValue": 182.0
              },
              "threshold": 0.30000001192092896,
              "trueNegatives": 217.0,
              "truePositives": 182.0
             },
             {
              "boundedFalseNegatives": {
               "value": 45.0
              },
              "boundedFalsePositives": {
               "value": 314.0
              },
              "boundedPrecision": {
               "value": 0.3232758641242981
              },
              "boundedRecall": {
               "value": 0.7692307829856873
              },
              "boundedTrueNegatives": {
               "value": 439.0
              },
              "boundedTruePositives": {
               "value": 150.0
              },
              "falseNegatives": 45.0,
              "falsePositives": 314.0,
              "precision": 0.3232758641242981,
              "recall": 0.7692307829856873,
              "tDistributionFalseNegatives": {
               "unsampledValue": 45.0
              },
              "tDistributionFalsePositives": {
               "unsampledValue": 314.0
              },
              "tDistributionPrecision": {
               "unsampledValue": 0.3232758641242981
              },
              "tDistributionRecall": {
               "unsampledValue": 0.7692307829856873
              },
              "tDistributionTrueNegatives": {
               "unsampledValue": 439.0
              },
              "tDistributionTruePositives": {
               "unsampledValue": 150.0
              },
              "threshold": 0.5,
              "trueNegatives": 439.0,
              "truePositives": 150.0
             },
             {
              "boundedFalseNegatives": {
               "value": 105.0
              },
              "boundedFalsePositives": {
               "value": 127.0
              },
              "boundedPrecision": {
               "value": 0.41474655270576477
              },
              "boundedRecall": {
               "value": 0.4615384638309479
              },
              "boundedTrueNegatives": {
               "value": 626.0
              },
              "boundedTruePositives": {
               "value": 90.0
              },
              "falseNegatives": 105.0,
              "falsePositives": 127.0,
              "precision": 0.41474655270576477,
              "recall": 0.4615384638309479,
              "tDistributionFalseNegatives": {
               "unsampledValue": 105.0
              },
              "tDistributionFalsePositives": {
               "unsampledValue": 127.0
              },
              "tDistributionPrecision": {
               "unsampledValue": 0.41474655270576477
              },
              "tDistributionRecall": {
               "unsampledValue": 0.4615384638309479
              },
              "tDistributionTrueNegatives": {
               "unsampledValue": 626.0
              },
              "tDistributionTruePositives": {
               "unsampledValue": 90.0
              },
              "threshold": 0.699999988079071,
              "trueNegatives": 626.0,
              "truePositives": 90.0
             },
             {
              "boundedFalseNegatives": {
               "value": 175.0
              },
              "boundedFalsePositives": {
               "value": 16.0
              },
              "boundedPrecision": {
               "value": 0.5555555820465088
              },
              "boundedRecall": {
               "value": 0.10256410390138626
              },
              "boundedTrueNegatives": {
               "value": 737.0
              },
              "boundedTruePositives": {
               "value": 20.0
              },
              "falseNegatives": 175.0,
              "falsePositives": 16.0,
              "precision": 0.5555555820465088,
              "recall": 0.10256410390138626,
              "tDistributionFalseNegatives": {
               "unsampledValue": 175.0
              },
              "tDistributionFalsePositives": {
               "unsampledValue": 16.0
              },
              "tDistributionPrecision": {
               "unsampledValue": 0.5555555820465088
              },
              "tDistributionRecall": {
               "unsampledValue": 0.10256410390138626
              },
              "tDistributionTrueNegatives": {
               "unsampledValue": 737.0
              },
              "tDistributionTruePositives": {
               "unsampledValue": 20.0
              },
              "threshold": 0.8999999761581421,
              "trueNegatives": 737.0,
              "truePositives": 20.0
             }
            ]
           }
          },
          "post_export_metrics/false_discovery_rate@0.10": {
           "doubleValue": 0.7887789011001587
          },
          "post_export_metrics/false_discovery_rate@0.30": {
           "doubleValue": 0.7465181350708008
          },
          "post_export_metrics/false_discovery_rate@0.50": {
           "doubleValue": 0.6767241358757019
          },
          "post_export_metrics/false_discovery_rate@0.70": {
           "doubleValue": 0.5852534770965576
          },
          "post_export_metrics/false_discovery_rate@0.90": {
           "doubleValue": 0.4444444477558136
          },
          "post_export_metrics/false_negative_rate@0.10": {
           "doubleValue": 0.015384615398943424
          },
          "post_export_metrics/false_negative_rate@0.30": {
           "doubleValue": 0.06666667014360428
          },
          "post_export_metrics/false_negative_rate@0.50": {
           "doubleValue": 0.23076923191547394
          },
          "post_export_metrics/false_negative_rate@0.70": {
           "doubleValue": 0.5384615659713745
          },
          "post_export_metrics/false_negative_rate@0.90": {
           "doubleValue": 0.8974359035491943
          },
          "post_export_metrics/false_omission_rate@0.10": {
           "doubleValue": 0.07692307978868484
          },
          "post_export_metrics/false_omission_rate@0.30": {
           "doubleValue": 0.056521739810705185
          },
          "post_export_metrics/false_omission_rate@0.50": {
           "doubleValue": 0.0929752066731453
          },
          "post_export_metrics/false_omission_rate@0.70": {
           "doubleValue": 0.14363884925842285
          },
          "post_export_metrics/false_omission_rate@0.90": {
           "doubleValue": 0.19188596308231354
          },
          "post_export_metrics/false_positive_rate@0.10": {
           "doubleValue": 0.9521912336349487
          },
          "post_export_metrics/false_positive_rate@0.30": {
           "doubleValue": 0.7118194103240967
          },
          "post_export_metrics/false_positive_rate@0.50": {
           "doubleValue": 0.4169986844062805
          },
          "post_export_metrics/false_positive_rate@0.70": {
           "doubleValue": 0.16865870356559753
          },
          "post_export_metrics/false_positive_rate@0.90": {
           "doubleValue": 0.021248340606689453
          },
          "post_export_metrics/negative_rate@0.10": {
           "doubleValue": 0.04113924130797386
          },
          "post_export_metrics/negative_rate@0.30": {
           "doubleValue": 0.24261602759361267
          },
          "post_export_metrics/negative_rate@0.50": {
           "doubleValue": 0.5105485320091248
          },
          "post_export_metrics/negative_rate@0.70": {
           "doubleValue": 0.7710970640182495
          },
          "post_export_metrics/negative_rate@0.90": {
           "doubleValue": 0.9620253443717957
          },
          "post_export_metrics/positive_rate@0.10": {
           "doubleValue": 0.9588607549667358
          },
          "post_export_metrics/positive_rate@0.30": {
           "doubleValue": 0.7573839426040649
          },
          "post_export_metrics/positive_rate@0.50": {
           "doubleValue": 0.48945146799087524
          },
          "post_export_metrics/positive_rate@0.70": {
           "doubleValue": 0.22890295088291168
          },
          "post_export_metrics/positive_rate@0.90": {
           "doubleValue": 0.037974681705236435
          },
          "post_export_metrics/true_negative_rate@0.10": {
           "doubleValue": 0.04780876636505127
          },
          "post_export_metrics/true_negative_rate@0.30": {
           "doubleValue": 0.2881806194782257
          },
          "post_export_metrics/true_negative_rate@0.50": {
           "doubleValue": 0.5830013155937195
          },
          "post_export_metrics/true_negative_rate@0.70": {
           "doubleValue": 0.8313413262367249
          },
          "post_export_metrics/true_negative_rate@0.90": {
           "doubleValue": 0.9787516593933105
          },
          "post_export_metrics/true_positive_rate@0.10": {
           "doubleValue": 0.9846153855323792
          },
          "post_export_metrics/true_positive_rate@0.30": {
           "doubleValue": 0.9333333373069763
          },
          "post_export_metrics/true_positive_rate@0.50": {
           "doubleValue": 0.7692307829856873
          },
          "post_export_metrics/true_positive_rate@0.70": {
           "doubleValue": 0.4615384638309479
          },
          "post_export_metrics/true_positive_rate@0.90": {
           "doubleValue": 0.10256410390138626
          },
          "precision": {
           "doubleValue": 0.3232758641242981
          },
          "prediction/mean": {
           "doubleValue": 0.4937463402748108
          },
          "recall": {
           "doubleValue": 0.7692307829856873
          }
         },
         "slice": "gender:transgender",
         "sliceValue": "transgender"
        },
        {
         "metrics": {
          "accuracy": {
           "doubleValue": 0.5
          },
          "accuracy_baseline": {
           "doubleValue": 0.6666666269302368
          },
          "auc": {
           "doubleValue": 0.6874999403953552
          },
          "auc_precision_recall": {
           "doubleValue": 0.5833331346511841
          },
          "average_loss": {
           "doubleValue": 0.694214403629303
          },
          "label/mean": {
           "doubleValue": 0.3333333432674408
          },
          "post_export_metrics/example_count": {
           "doubleValue": 6.0
          },
          "post_export_metrics/fairness/confusion_matrix_at_thresholds": {
           "confusionMatrixAtThresholds": {
            "matrices": [
             {
              "boundedFalseNegatives": {
               "value": 0.0
              },
              "boundedFalsePositives": {
               "value": 4.0
              },
              "boundedPrecision": {
               "value": 0.3333333432674408
              },
              "boundedRecall": {
               "value": 1.0
              },
              "boundedTrueNegatives": {
               "value": 0.0
              },
              "boundedTruePositives": {
               "value": 2.0
              },
              "falsePositives": 4.0,
              "precision": 0.3333333432674408,
              "recall": 1.0,
              "tDistributionFalseNegatives": {
               "unsampledValue": 0.0
              },
              "tDistributionFalsePositives": {
               "unsampledValue": 4.0
              },
              "tDistributionPrecision": {
               "unsampledValue": 0.3333333432674408
              },
              "tDistributionRecall": {
               "unsampledValue": 1.0
              },
              "tDistributionTrueNegatives": {
               "unsampledValue": 0.0
              },
              "tDistributionTruePositives": {
               "unsampledValue": 2.0
              },
              "threshold": 0.10000000149011612,
              "truePositives": 2.0
             },
             {
              "boundedFalseNegatives": {
               "value": 0.0
              },
              "boundedFalsePositives": {
               "value": 3.0
              },
              "boundedPrecision": {
               "value": 0.4000000059604645
              },
              "boundedRecall": {
               "value": 1.0
              },
              "boundedTrueNegatives": {
               "value": 1.0
              },
              "boundedTruePositives": {
               "value": 2.0
              },
              "falsePositives": 3.0,
              "precision": 0.4000000059604645,
              "recall": 1.0,
              "tDistributionFalseNegatives": {
               "unsampledValue": 0.0
              },
              "tDistributionFalsePositives": {
               "unsampledValue": 3.0
              },
              "tDistributionPrecision": {
               "unsampledValue": 0.4000000059604645
              },
              "tDistributionRecall": {
               "unsampledValue": 1.0
              },
              "tDistributionTrueNegatives": {
               "unsampledValue": 1.0
              },
              "tDistributionTruePositives": {
               "unsampledValue": 2.0
              },
              "threshold": 0.30000001192092896,
              "trueNegatives": 1.0,
              "truePositives": 2.0
             },
             {
              "boundedFalseNegatives": {
               "value": 1.0
              },
              "boundedFalsePositives": {
               "value": 2.0
              },
              "boundedPrecision": {
               "value": 0.3333333432674408
              },
              "boundedRecall": {
               "value": 0.5
              },
              "boundedTrueNegatives": {
               "value": 2.0
              },
              "boundedTruePositives": {
               "value": 1.0
              },
              "falseNegatives": 1.0,
              "falsePositives": 2.0,
              "precision": 0.3333333432674408,
              "recall": 0.5,
              "tDistributionFalseNegatives": {
               "unsampledValue": 1.0
              },
              "tDistributionFalsePositives": {
               "unsampledValue": 2.0
              },
              "tDistributionPrecision": {
               "unsampledValue": 0.3333333432674408
              },
              "tDistributionRecall": {
               "unsampledValue": 0.5
              },
              "tDistributionTrueNegatives": {
               "unsampledValue": 2.0
              },
              "tDistributionTruePositives": {
               "unsampledValue": 1.0
              },
              "threshold": 0.5,
              "trueNegatives": 2.0,
              "truePositives": 1.0
             },
             {
              "boundedFalseNegatives": {
               "value": 1.0
              },
              "boundedFalsePositives": {
               "value": 1.0
              },
              "boundedPrecision": {
               "value": 0.5
              },
              "boundedRecall": {
               "value": 0.5
              },
              "boundedTrueNegatives": {
               "value": 3.0
              },
              "boundedTruePositives": {
               "value": 1.0
              },
              "falseNegatives": 1.0,
              "falsePositives": 1.0,
              "precision": 0.5,
              "recall": 0.5,
              "tDistributionFalseNegatives": {
               "unsampledValue": 1.0
              },
              "tDistributionFalsePositives": {
               "unsampledValue": 1.0
              },
              "tDistributionPrecision": {
               "unsampledValue": 0.5
              },
              "tDistributionRecall": {
               "unsampledValue": 0.5
              },
              "tDistributionTrueNegatives": {
               "unsampledValue": 3.0
              },
              "tDistributionTruePositives": {
               "unsampledValue": 1.0
              },
              "threshold": 0.699999988079071,
              "trueNegatives": 3.0,
              "truePositives": 1.0
             },
             {
              "boundedFalseNegatives": {
               "value": 2.0
              },
              "boundedFalsePositives": {
               "value": 0.0
              },
              "boundedPrecision": {
               "value": 0.0
              },
              "boundedRecall": {
               "value": 0.0
              },
              "boundedTrueNegatives": {
               "value": 4.0
              },
              "boundedTruePositives": {
               "value": 0.0
              },
              "falseNegatives": 2.0,
              "tDistributionFalseNegatives": {
               "unsampledValue": 2.0
              },
              "tDistributionFalsePositives": {
               "unsampledValue": 0.0
              },
              "tDistributionPrecision": {
               "unsampledValue": 0.0
              },
              "tDistributionRecall": {
               "unsampledValue": 0.0
              },
              "tDistributionTrueNegatives": {
               "unsampledValue": 4.0
              },
              "tDistributionTruePositives": {
               "unsampledValue": 0.0
              },
              "threshold": 0.8999999761581421,
              "trueNegatives": 4.0
             }
            ]
           }
          },
          "post_export_metrics/false_discovery_rate@0.10": {
           "doubleValue": 0.6666666865348816
          },
          "post_export_metrics/false_discovery_rate@0.30": {
           "doubleValue": 0.6000000238418579
          },
          "post_export_metrics/false_discovery_rate@0.50": {
           "doubleValue": 0.6666666865348816
          },
          "post_export_metrics/false_discovery_rate@0.70": {
           "doubleValue": 0.5
          },
          "post_export_metrics/false_discovery_rate@0.90": {
           "doubleValue": 0.0
          },
          "post_export_metrics/false_negative_rate@0.10": {
           "doubleValue": 0.0
          },
          "post_export_metrics/false_negative_rate@0.30": {
           "doubleValue": 0.0
          },
          "post_export_metrics/false_negative_rate@0.50": {
           "doubleValue": 0.5
          },
          "post_export_metrics/false_negative_rate@0.70": {
           "doubleValue": 0.5
          },
          "post_export_metrics/false_negative_rate@0.90": {
           "doubleValue": 1.0
          },
          "post_export_metrics/false_omission_rate@0.10": {
           "doubleValue": 0.0
          },
          "post_export_metrics/false_omission_rate@0.30": {
           "doubleValue": 0.0
          },
          "post_export_metrics/false_omission_rate@0.50": {
           "doubleValue": 0.3333333432674408
          },
          "post_export_metrics/false_omission_rate@0.70": {
           "doubleValue": 0.25
          },
          "post_export_metrics/false_omission_rate@0.90": {
           "doubleValue": 0.3333333432674408
          },
          "post_export_metrics/false_positive_rate@0.10": {
           "doubleValue": 1.0
          },
          "post_export_metrics/false_positive_rate@0.30": {
           "doubleValue": 0.75
          },
          "post_export_metrics/false_positive_rate@0.50": {
           "doubleValue": 0.5
          },
          "post_export_metrics/false_positive_rate@0.70": {
           "doubleValue": 0.25
          },
          "post_export_metrics/false_positive_rate@0.90": {
           "doubleValue": 0.0
          },
          "post_export_metrics/negative_rate@0.10": {
           "doubleValue": 0.0
          },
          "post_export_metrics/negative_rate@0.30": {
           "doubleValue": 0.1666666716337204
          },
          "post_export_metrics/negative_rate@0.50": {
           "doubleValue": 0.5
          },
          "post_export_metrics/negative_rate@0.70": {
           "doubleValue": 0.6666666865348816
          },
          "post_export_metrics/negative_rate@0.90": {
           "doubleValue": 1.0
          },
          "post_export_metrics/positive_rate@0.10": {
           "doubleValue": 1.0
          },
          "post_export_metrics/positive_rate@0.30": {
           "doubleValue": 0.8333333134651184
          },
          "post_export_metrics/positive_rate@0.50": {
           "doubleValue": 0.5
          },
          "post_export_metrics/positive_rate@0.70": {
           "doubleValue": 0.3333333432674408
          },
          "post_export_metrics/positive_rate@0.90": {
           "doubleValue": 0.0
          },
          "post_export_metrics/true_negative_rate@0.10": {
           "doubleValue": 0.0
          },
          "post_export_metrics/true_negative_rate@0.30": {
           "doubleValue": 0.25
          },
          "post_export_metrics/true_negative_rate@0.50": {
           "doubleValue": 0.5
          },
          "post_export_metrics/true_negative_rate@0.70": {
           "doubleValue": 0.75
          },
          "post_export_metrics/true_negative_rate@0.90": {
           "doubleValue": 1.0
          },
          "post_export_metrics/true_positive_rate@0.10": {
           "doubleValue": 1.0
          },
          "post_export_metrics/true_positive_rate@0.30": {
           "doubleValue": 1.0
          },
          "post_export_metrics/true_positive_rate@0.50": {
           "doubleValue": 0.5
          },
          "post_export_metrics/true_positive_rate@0.70": {
           "doubleValue": 0.5
          },
          "post_export_metrics/true_positive_rate@0.90": {
           "doubleValue": 0.0
          },
          "precision": {
           "doubleValue": 0.3333333432674408
          },
          "prediction/mean": {
           "doubleValue": 0.5383572578430176
          },
          "recall": {
           "doubleValue": 0.5
          }
         },
         "slice": "gender:other_gender",
         "sliceValue": "other_gender"
        }
       ],
       "slicingMetricsCompare": []
      }
     },
     "818168d983a7496cb20cd718c1740efe": {
      "model_module": "tensorflow_model_analysis",
      "model_module_version": "0.39.0",
      "model_name": "FairnessIndicatorModel",
      "state": {
       "_dom_classes": [],
       "_model_module": "tensorflow_model_analysis",
       "_model_module_version": "0.39.0",
       "_model_name": "FairnessIndicatorModel",
       "_view_count": null,
       "_view_module": "tensorflow_model_analysis",
       "_view_module_version": "0.39.0",
       "_view_name": "FairnessIndicatorView",
       "evalName": "",
       "evalNameCompare": "",
       "js_events": [],
       "layout": "IPY_MODEL_c67d9b7ede644318996ebea33562fe0d",
       "slicingMetrics": [
        {
         "metrics": {
          "accuracy": {
           "doubleValue": 0.6239074468612671
          },
          "accuracy_baseline": {
           "doubleValue": 0.9198060631752014
          },
          "auc": {
           "doubleValue": 0.6402726173400879
          },
          "auc_precision_recall": {
           "doubleValue": 0.14400392770767212
          },
          "average_loss": {
           "doubleValue": 0.6511761546134949
          },
          "label/mean": {
           "doubleValue": 0.08019392192363739
          },
          "post_export_metrics/example_count": {
           "doubleValue": 721950.0
          },
          "post_export_metrics/fairness/confusion_matrix_at_thresholds": {
           "confusionMatrixAtThresholds": {
            "matrices": [
             {
              "boundedFalseNegatives": {
               "value": 1.0
              },
              "boundedFalsePositives": {
               "value": 663998.0
              },
              "boundedPrecision": {
               "value": 0.08019886910915375
              },
              "boundedRecall": {
               "value": 0.9999827146530151
              },
              "boundedTrueNegatives": {
               "value": 56.0
              },
              "boundedTruePositives": {
               "value": 57895.0
              },
              "falseNegatives": 1.0,
              "falsePositives": 663998.0,
              "precision": 0.08019886910915375,
              "recall": 0.9999827146530151,
              "tDistributionFalseNegatives": {
               "unsampledValue": 1.0
              },
              "tDistributionFalsePositives": {
               "unsampledValue": 663998.0
              },
              "tDistributionPrecision": {
               "unsampledValue": 0.08019886910915375
              },
              "tDistributionRecall": {
               "unsampledValue": 0.9999827146530151
              },
              "tDistributionTrueNegatives": {
               "unsampledValue": 56.0
              },
              "tDistributionTruePositives": {
               "unsampledValue": 57895.0
              },
              "threshold": 0.10000000149011612,
              "trueNegatives": 56.0,
              "truePositives": 57895.0
             },
             {
              "boundedFalseNegatives": {
               "value": 1903.0
              },
              "boundedFalsePositives": {
               "value": 606757.0
              },
              "boundedPrecision": {
               "value": 0.08448585122823715
              },
              "boundedRecall": {
               "value": 0.967130720615387
              },
              "boundedTrueNegatives": {
               "value": 57297.0
              },
              "boundedTruePositives": {
               "value": 55993.0
              },
              "falseNegatives": 1903.0,
              "falsePositives": 606757.0,
              "precision": 0.08448585122823715,
              "recall": 0.967130720615387,
              "tDistributionFalseNegatives": {
               "unsampledValue": 1903.0
              },
              "tDistributionFalsePositives": {
               "unsampledValue": 606757.0
              },
              "tDistributionPrecision": {
               "unsampledValue": 0.08448585122823715
              },
              "tDistributionRecall": {
               "unsampledValue": 0.967130720615387
              },
              "tDistributionTrueNegatives": {
               "unsampledValue": 57297.0
              },
              "tDistributionTruePositives": {
               "unsampledValue": 55993.0
              },
              "threshold": 0.30000001192092896,
              "trueNegatives": 57297.0,
              "truePositives": 55993.0
             },
             {
              "boundedFalseNegatives": {
               "value": 24800.0
              },
              "boundedFalsePositives": {
               "value": 246720.0
              },
              "boundedPrecision": {
               "value": 0.11827772855758667
              },
              "boundedRecall": {
               "value": 0.5716457366943359
              },
              "boundedTrueNegatives": {
               "value": 417334.0
              },
              "boundedTruePositives": {
               "value": 33096.0
              },
              "falseNegatives": 24800.0,
              "falsePositives": 246720.0,
              "precision": 0.11827772855758667,
              "recall": 0.5716457366943359,
              "tDistributionFalseNegatives": {
               "unsampledValue": 24800.0
              },
              "tDistributionFalsePositives": {
               "unsampledValue": 246720.0
              },
              "tDistributionPrecision": {
               "unsampledValue": 0.11827772855758667
              },
              "tDistributionRecall": {
               "unsampledValue": 0.5716457366943359
              },
              "tDistributionTrueNegatives": {
               "unsampledValue": 417334.0
              },
              "tDistributionTruePositives": {
               "unsampledValue": 33096.0
              },
              "threshold": 0.5,
              "trueNegatives": 417334.0,
              "truePositives": 33096.0
             },
             {
              "boundedFalseNegatives": {
               "value": 52428.0
              },
              "boundedFalsePositives": {
               "value": 19038.0
              },
              "boundedPrecision": {
               "value": 0.2231290340423584
              },
              "boundedRecall": {
               "value": 0.09444521367549896
              },
              "boundedTrueNegatives": {
               "value": 645016.0
              },
              "boundedTruePositives": {
               "value": 5468.0
              },
              "falseNegatives": 52428.0,
              "falsePositives": 19038.0,
              "precision": 0.2231290340423584,
              "recall": 0.09444521367549896,
              "tDistributionFalseNegatives": {
               "unsampledValue": 52428.0
              },
              "tDistributionFalsePositives": {
               "unsampledValue": 19038.0
              },
              "tDistributionPrecision": {
               "unsampledValue": 0.2231290340423584
              },
              "tDistributionRecall": {
               "unsampledValue": 0.09444521367549896
              },
              "tDistributionTrueNegatives": {
               "unsampledValue": 645016.0
              },
              "tDistributionTruePositives": {
               "unsampledValue": 5468.0
              },
              "threshold": 0.699999988079071,
              "trueNegatives": 645016.0,
              "truePositives": 5468.0
             },
             {
              "boundedFalseNegatives": {
               "value": 57863.0
              },
              "boundedFalsePositives": {
               "value": 21.0
              },
              "boundedPrecision": {
               "value": 0.6111111044883728
              },
              "boundedRecall": {
               "value": 0.0005699875764548779
              },
              "boundedTrueNegatives": {
               "value": 664033.0
              },
              "boundedTruePositives": {
               "value": 33.0
              },
              "falseNegatives": 57863.0,
              "falsePositives": 21.0,
              "precision": 0.6111111044883728,
              "recall": 0.0005699875764548779,
              "tDistributionFalseNegatives": {
               "unsampledValue": 57863.0
              },
              "tDistributionFalsePositives": {
               "unsampledValue": 21.0
              },
              "tDistributionPrecision": {
               "unsampledValue": 0.6111111044883728
              },
              "tDistributionRecall": {
               "unsampledValue": 0.0005699875764548779
              },
              "tDistributionTrueNegatives": {
               "unsampledValue": 664033.0
              },
              "tDistributionTruePositives": {
               "unsampledValue": 33.0
              },
              "threshold": 0.8999999761581421,
              "trueNegatives": 664033.0,
              "truePositives": 33.0
             }
            ]
           }
          },
          "post_export_metrics/false_discovery_rate@0.10": {
           "doubleValue": 0.9198011159896851
          },
          "post_export_metrics/false_discovery_rate@0.30": {
           "doubleValue": 0.9155141711235046
          },
          "post_export_metrics/false_discovery_rate@0.50": {
           "doubleValue": 0.8817222714424133
          },
          "post_export_metrics/false_discovery_rate@0.70": {
           "doubleValue": 0.7768709659576416
          },
          "post_export_metrics/false_discovery_rate@0.90": {
           "doubleValue": 0.3888888955116272
          },
          "post_export_metrics/false_negative_rate@0.10": {
           "doubleValue": 1.7272350305574946e-05
          },
          "post_export_metrics/false_negative_rate@0.30": {
           "doubleValue": 0.032869283109903336
          },
          "post_export_metrics/false_negative_rate@0.50": {
           "doubleValue": 0.42835429310798645
          },
          "post_export_metrics/false_negative_rate@0.70": {
           "doubleValue": 0.9055547714233398
          },
          "post_export_metrics/false_negative_rate@0.90": {
           "doubleValue": 0.9994300007820129
          },
          "post_export_metrics/false_omission_rate@0.10": {
           "doubleValue": 0.017543859779834747
          },
          "post_export_metrics/false_omission_rate@0.30": {
           "doubleValue": 0.032145269215106964
          },
          "post_export_metrics/false_omission_rate@0.50": {
           "doubleValue": 0.05609159171581268
          },
          "post_export_metrics/false_omission_rate@0.70": {
           "doubleValue": 0.07517162710428238
          },
          "post_export_metrics/false_omission_rate@0.90": {
           "doubleValue": 0.08015420287847519
          },
          "post_export_metrics/false_positive_rate@0.10": {
           "doubleValue": 0.9999156594276428
          },
          "post_export_metrics/false_positive_rate@0.30": {
           "doubleValue": 0.9137163758277893
          },
          "post_export_metrics/false_positive_rate@0.50": {
           "doubleValue": 0.3715360462665558
          },
          "post_export_metrics/false_positive_rate@0.70": {
           "doubleValue": 0.02866935543715954
          },
          "post_export_metrics/false_positive_rate@0.90": {
           "doubleValue": 3.162393477396108e-05
          },
          "post_export_metrics/negative_rate@0.10": {
           "doubleValue": 7.895283488323912e-05
          },
          "post_export_metrics/negative_rate@0.30": {
           "doubleValue": 0.08200013637542725
          },
          "post_export_metrics/negative_rate@0.50": {
           "doubleValue": 0.6124163866043091
          },
          "post_export_metrics/negative_rate@0.70": {
           "doubleValue": 0.9660558104515076
          },
          "post_export_metrics/negative_rate@0.90": {
           "doubleValue": 0.9999251961708069
          },
          "post_export_metrics/positive_rate@0.10": {
           "doubleValue": 0.9999210238456726
          },
          "post_export_metrics/positive_rate@0.30": {
           "doubleValue": 0.9179998636245728
          },
          "post_export_metrics/positive_rate@0.50": {
           "doubleValue": 0.3875836133956909
          },
          "post_export_metrics/positive_rate@0.70": {
           "doubleValue": 0.033944178372621536
          },
          "post_export_metrics/positive_rate@0.90": {
           "doubleValue": 7.479742635041475e-05
          },
          "post_export_metrics/true_negative_rate@0.10": {
           "doubleValue": 8.433048787992448e-05
          },
          "post_export_metrics/true_negative_rate@0.30": {
           "doubleValue": 0.08628364652395248
          },
          "post_export_metrics/true_negative_rate@0.50": {
           "doubleValue": 0.6284639239311218
          },
          "post_export_metrics/true_negative_rate@0.70": {
           "doubleValue": 0.9713306427001953
          },
          "post_export_metrics/true_negative_rate@0.90": {
           "doubleValue": 0.9999683499336243
          },
          "post_export_metrics/true_positive_rate@0.10": {
           "doubleValue": 0.9999827146530151
          },
          "post_export_metrics/true_positive_rate@0.30": {
           "doubleValue": 0.967130720615387
          },
          "post_export_metrics/true_positive_rate@0.50": {
           "doubleValue": 0.5716457366943359
          },
          "post_export_metrics/true_positive_rate@0.70": {
           "doubleValue": 0.09444521367549896
          },
          "post_export_metrics/true_positive_rate@0.90": {
           "doubleValue": 0.0005699875764548779
          },
          "precision": {
           "doubleValue": 0.11827772855758667
          },
          "prediction/mean": {
           "doubleValue": 0.4677772521972656
          },
          "recall": {
           "doubleValue": 0.5716457366943359
          }
         },
         "slice": "Overall",
         "sliceValue": "Overall"
        },
        {
         "metrics": {
          "accuracy": {
           "doubleValue": 0.600254476070404
          },
          "accuracy_baseline": {
           "doubleValue": 0.8633428812026978
          },
          "auc": {
           "doubleValue": 0.6298419833183289
          },
          "auc_precision_recall": {
           "doubleValue": 0.20865730941295624
          },
          "average_loss": {
           "doubleValue": 0.6652624011039734
          },
          "label/mean": {
           "doubleValue": 0.13665708899497986
          },
          "post_export_metrics/example_count": {
           "doubleValue": 21221.0
          },
          "post_export_metrics/fairness/confusion_matrix_at_thresholds": {
           "confusionMatrixAtThresholds": {
            "matrices": [
             {
              "boundedFalseNegatives": {
               "value": 0.0
              },
              "boundedFalsePositives": {
               "value": 18319.0
              },
              "boundedPrecision": {
               "value": 0.13666996359825134
              },
              "boundedRecall": {
               "value": 1.0
              },
              "boundedTrueNegatives": {
               "value": 2.0
              },
              "boundedTruePositives": {
               "value": 2900.0
              },
              "falsePositives": 18319.0,
              "precision": 0.13666996359825134,
              "recall": 1.0,
              "tDistributionFalseNegatives": {
               "unsampledValue": 0.0
              },
              "tDistributionFalsePositives": {
               "unsampledValue": 18319.0
              },
              "tDistributionPrecision": {
               "unsampledValue": 0.13666996359825134
              },
              "tDistributionRecall": {
               "unsampledValue": 1.0
              },
              "tDistributionTrueNegatives": {
               "unsampledValue": 2.0
              },
              "tDistributionTruePositives": {
               "unsampledValue": 2900.0
              },
              "threshold": 0.10000000149011612,
              "trueNegatives": 2.0,
              "truePositives": 2900.0
             },
             {
              "boundedFalseNegatives": {
               "value": 96.0
              },
              "boundedFalsePositives": {
               "value": 16694.0
              },
              "boundedPrecision": {
               "value": 0.14380961656570435
              },
              "boundedRecall": {
               "value": 0.9668965339660645
              },
              "boundedTrueNegatives": {
               "value": 1627.0
              },
              "boundedTruePositives": {
               "value": 2804.0
              },
              "falseNegatives": 96.0,
              "falsePositives": 16694.0,
              "precision": 0.14380961656570435,
              "recall": 0.9668965339660645,
              "tDistributionFalseNegatives": {
               "unsampledValue": 96.0
              },
              "tDistributionFalsePositives": {
               "unsampledValue": 16694.0
              },
              "tDistributionPrecision": {
               "unsampledValue": 0.14380961656570435
              },
              "tDistributionRecall": {
               "unsampledValue": 0.9668965339660645
              },
              "tDistributionTrueNegatives": {
               "unsampledValue": 1627.0
              },
              "tDistributionTruePositives": {
               "unsampledValue": 2804.0
              },
              "threshold": 0.30000001192092896,
              "trueNegatives": 1627.0,
              "truePositives": 2804.0
             },
             {
              "boundedFalseNegatives": {
               "value": 1221.0
              },
              "boundedFalsePositives": {
               "value": 7262.0
              },
              "boundedPrecision": {
               "value": 0.18778659403324127
              },
              "boundedRecall": {
               "value": 0.5789655447006226
              },
              "boundedTrueNegatives": {
               "value": 11059.0
              },
              "boundedTruePositives": {
               "value": 1679.0
              },
              "falseNegatives": 1221.0,
              "falsePositives": 7262.0,
              "precision": 0.18778659403324127,
              "recall": 0.5789655447006226,
              "tDistributionFalseNegatives": {
               "unsampledValue": 1221.0
              },
              "tDistributionFalsePositives": {
               "unsampledValue": 7262.0
              },
              "tDistributionPrecision": {
               "unsampledValue": 0.18778659403324127
              },
              "tDistributionRecall": {
               "unsampledValue": 0.5789655447006226
              },
              "tDistributionTrueNegatives": {
               "unsampledValue": 11059.0
              },
              "tDistributionTruePositives": {
               "unsampledValue": 1679.0
              },
              "threshold": 0.5,
              "trueNegatives": 11059.0,
              "truePositives": 1679.0
             },
             {
              "boundedFalseNegatives": {
               "value": 2613.0
              },
              "boundedFalsePositives": {
               "value": 726.0
              },
              "boundedPrecision": {
               "value": 0.28331688046455383
              },
              "boundedRecall": {
               "value": 0.09896551817655563
              },
              "boundedTrueNegatives": {
               "value": 17595.0
              },
              "boundedTruePositives": {
               "value": 287.0
              },
              "falseNegatives": 2613.0,
              "falsePositives": 726.0,
              "precision": 0.28331688046455383,
              "recall": 0.09896551817655563,
              "tDistributionFalseNegatives": {
               "unsampledValue": 2613.0
              },
              "tDistributionFalsePositives": {
               "unsampledValue": 726.0
              },
              "tDistributionPrecision": {
               "unsampledValue": 0.28331688046455383
              },
              "tDistributionRecall": {
               "unsampledValue": 0.09896551817655563
              },
              "tDistributionTrueNegatives": {
               "unsampledValue": 17595.0
              },
              "tDistributionTruePositives": {
               "unsampledValue": 287.0
              },
              "threshold": 0.699999988079071,
              "trueNegatives": 17595.0,
              "truePositives": 287.0
             },
             {
              "boundedFalseNegatives": {
               "value": 2899.0
              },
              "boundedFalsePositives": {
               "value": 5.0
              },
              "boundedPrecision": {
               "value": 0.1666666716337204
              },
              "boundedRecall": {
               "value": 0.00034482759656384587
              },
              "boundedTrueNegatives": {
               "value": 18316.0
              },
              "boundedTruePositives": {
               "value": 1.0
              },
              "falseNegatives": 2899.0,
              "falsePositives": 5.0,
              "precision": 0.1666666716337204,
              "recall": 0.00034482759656384587,
              "tDistributionFalseNegatives": {
               "unsampledValue": 2899.0
              },
              "tDistributionFalsePositives": {
               "unsampledValue": 5.0
              },
              "tDistributionPrecision": {
               "unsampledValue": 0.1666666716337204
              },
              "tDistributionRecall": {
               "unsampledValue": 0.00034482759656384587
              },
              "tDistributionTrueNegatives": {
               "unsampledValue": 18316.0
              },
              "tDistributionTruePositives": {
               "unsampledValue": 1.0
              },
              "threshold": 0.8999999761581421,
              "trueNegatives": 18316.0,
              "truePositives": 1.0
             }
            ]
           }
          },
          "post_export_metrics/false_discovery_rate@0.10": {
           "doubleValue": 0.8633300065994263
          },
          "post_export_metrics/false_discovery_rate@0.30": {
           "doubleValue": 0.8561903834342957
          },
          "post_export_metrics/false_discovery_rate@0.50": {
           "doubleValue": 0.8122134208679199
          },
          "post_export_metrics/false_discovery_rate@0.70": {
           "doubleValue": 0.7166830897331238
          },
          "post_export_metrics/false_discovery_rate@0.90": {
           "doubleValue": 0.8333333134651184
          },
          "post_export_metrics/false_negative_rate@0.10": {
           "doubleValue": 0.0
          },
          "post_export_metrics/false_negative_rate@0.30": {
           "doubleValue": 0.033103447407484055
          },
          "post_export_metrics/false_negative_rate@0.50": {
           "doubleValue": 0.42103448510169983
          },
          "post_export_metrics/false_negative_rate@0.70": {
           "doubleValue": 0.9010344743728638
          },
          "post_export_metrics/false_negative_rate@0.90": {
           "doubleValue": 0.9996551871299744
          },
          "post_export_metrics/false_omission_rate@0.10": {
           "doubleValue": 0.0
          },
          "post_export_metrics/false_omission_rate@0.30": {
           "doubleValue": 0.05571677163243294
          },
          "post_export_metrics/false_omission_rate@0.50": {
           "doubleValue": 0.09942996501922607
          },
          "post_export_metrics/false_omission_rate@0.70": {
           "doubleValue": 0.12930522859096527
          },
          "post_export_metrics/false_omission_rate@0.90": {
           "doubleValue": 0.13664859533309937
          },
          "post_export_metrics/false_positive_rate@0.10": {
           "doubleValue": 0.9998908638954163
          },
          "post_export_metrics/false_positive_rate@0.30": {
           "doubleValue": 0.9111948013305664
          },
          "post_export_metrics/false_positive_rate@0.50": {
           "doubleValue": 0.39637574553489685
          },
          "post_export_metrics/false_positive_rate@0.70": {
           "doubleValue": 0.03962665796279907
          },
          "post_export_metrics/false_positive_rate@0.90": {
           "doubleValue": 0.0002729108673520386
          },
          "post_export_metrics/negative_rate@0.10": {
           "doubleValue": 9.424626477994025e-05
          },
          "post_export_metrics/negative_rate@0.30": {
           "doubleValue": 0.08119315654039383
          },
          "post_export_metrics/negative_rate@0.50": {
           "doubleValue": 0.5786720514297485
          },
          "post_export_metrics/negative_rate@0.70": {
           "doubleValue": 0.9522642493247986
          },
          "post_export_metrics/negative_rate@0.90": {
           "doubleValue": 0.9997172355651855
          },
          "post_export_metrics/positive_rate@0.10": {
           "doubleValue": 0.9999057650566101
          },
          "post_export_metrics/positive_rate@0.30": {
           "doubleValue": 0.9188068509101868
          },
          "post_export_metrics/positive_rate@0.50": {
           "doubleValue": 0.4213279187679291
          },
          "post_export_metrics/positive_rate@0.70": {
           "doubleValue": 0.047735732048749924
          },
          "post_export_metrics/positive_rate@0.90": {
           "doubleValue": 0.00028273879433982074
          },
          "post_export_metrics/true_negative_rate@0.10": {
           "doubleValue": 0.0001091643498511985
          },
          "post_export_metrics/true_negative_rate@0.30": {
           "doubleValue": 0.0888051986694336
          },
          "post_export_metrics/true_negative_rate@0.50": {
           "doubleValue": 0.6036242842674255
          },
          "post_export_metrics/true_negative_rate@0.70": {
           "doubleValue": 0.9603733420372009
          },
          "post_export_metrics/true_negative_rate@0.90": {
           "doubleValue": 0.9997270703315735
          },
          "post_export_metrics/true_positive_rate@0.10": {
           "doubleValue": 1.0
          },
          "post_export_metrics/true_positive_rate@0.30": {
           "doubleValue": 0.9668965339660645
          },
          "post_export_metrics/true_positive_rate@0.50": {
           "doubleValue": 0.5789655447006226
          },
          "post_export_metrics/true_positive_rate@0.70": {
           "doubleValue": 0.09896551817655563
          },
          "post_export_metrics/true_positive_rate@0.90": {
           "doubleValue": 0.00034482759656384587
          },
          "precision": {
           "doubleValue": 0.18778659403324127
          },
          "prediction/mean": {
           "doubleValue": 0.4768083393573761
          },
          "recall": {
           "doubleValue": 0.5789655447006226
          }
         },
         "slice": "gender:female",
         "sliceValue": "female"
        },
        {
         "metrics": {
          "accuracy": {
           "doubleValue": 0.5586144924163818
          },
          "accuracy_baseline": {
           "doubleValue": 0.8499943614006042
          },
          "auc": {
           "doubleValue": 0.6389296054840088
          },
          "auc_precision_recall": {
           "doubleValue": 0.23645241558551788
          },
          "average_loss": {
           "doubleValue": 0.6953951120376587
          },
          "label/mean": {
           "doubleValue": 0.15000563859939575
          },
          "post_export_metrics/example_count": {
           "doubleValue": 17726.0
          },
          "post_export_metrics/fairness/confusion_matrix_at_thresholds": {
           "confusionMatrixAtThresholds": {
            "matrices": [
             {
              "boundedFalseNegatives": {
               "value": 0.0
              },
              "boundedFalsePositives": {
               "value": 15067.0
              },
              "boundedPrecision": {
               "value": 0.15000563859939575
              },
              "boundedRecall": {
               "value": 1.0
              },
              "boundedTrueNegatives": {
               "value": 0.0
              },
              "boundedTruePositives": {
               "value": 2659.0
              },
              "falsePositives": 15067.0,
              "precision": 0.15000563859939575,
              "recall": 1.0,
              "tDistributionFalseNegatives": {
               "unsampledValue": 0.0
              },
              "tDistributionFalsePositives": {
               "unsampledValue": 15067.0
              },
              "tDistributionPrecision": {
               "unsampledValue": 0.15000563859939575
              },
              "tDistributionRecall": {
               "unsampledValue": 1.0
              },
              "tDistributionTrueNegatives": {
               "unsampledValue": 0.0
              },
              "tDistributionTruePositives": {
               "unsampledValue": 2659.0
              },
              "threshold": 0.10000000149011612,
              "truePositives": 2659.0
             },
             {
              "boundedFalseNegatives": {
               "value": 60.0
              },
              "boundedFalsePositives": {
               "value": 14002.0
              },
              "boundedPrecision": {
               "value": 0.15655682981014252
              },
              "boundedRecall": {
               "value": 0.9774351119995117
              },
              "boundedTrueNegatives": {
               "value": 1065.0
              },
              "boundedTruePositives": {
               "value": 2599.0
              },
              "falseNegatives": 60.0,
              "falsePositives": 14002.0,
              "precision": 0.15655682981014252,
              "recall": 0.9774351119995117,
              "tDistributionFalseNegatives": {
               "unsampledValue": 60.0
              },
              "tDistributionFalsePositives": {
               "unsampledValue": 14002.0
              },
              "tDistributionPrecision": {
               "unsampledValue": 0.15655682981014252
              },
              "tDistributionRecall": {
               "unsampledValue": 0.9774351119995117
              },
              "tDistributionTrueNegatives": {
               "unsampledValue": 1065.0
              },
              "tDistributionTruePositives": {
               "unsampledValue": 2599.0
              },
              "threshold": 0.30000001192092896,
              "trueNegatives": 1065.0,
              "truePositives": 2599.0
             },
             {
              "boundedFalseNegatives": {
               "value": 920.0
              },
              "boundedFalsePositives": {
               "value": 6904.0
              },
              "boundedPrecision": {
               "value": 0.20120328664779663
              },
              "boundedRecall": {
               "value": 0.6540052890777588
              },
              "boundedTrueNegatives": {
               "value": 8163.0
              },
              "boundedTruePositives": {
               "value": 1739.0
              },
              "falseNegatives": 920.0,
              "falsePositives": 6904.0,
              "precision": 0.20120328664779663,
              "recall": 0.6540052890777588,
              "tDistributionFalseNegatives": {
               "unsampledValue": 920.0
              },
              "tDistributionFalsePositives": {
               "unsampledValue": 6904.0
              },
              "tDistributionPrecision": {
               "unsampledValue": 0.20120328664779663
              },
              "tDistributionRecall": {
               "unsampledValue": 0.6540052890777588
              },
              "tDistributionTrueNegatives": {
               "unsampledValue": 8163.0
              },
              "tDistributionTruePositives": {
               "unsampledValue": 1739.0
              },
              "threshold": 0.5,
              "trueNegatives": 8163.0,
              "truePositives": 1739.0
             },
             {
              "boundedFalseNegatives": {
               "value": 2284.0
              },
              "boundedFalsePositives": {
               "value": 863.0
              },
              "boundedPrecision": {
               "value": 0.30290791392326355
              },
              "boundedRecall": {
               "value": 0.1410304605960846
              },
              "boundedTrueNegatives": {
               "value": 14204.0
              },
              "boundedTruePositives": {
               "value": 375.0
              },
              "falseNegatives": 2284.0,
              "falsePositives": 863.0,
              "precision": 0.30290791392326355,
              "recall": 0.1410304605960846,
              "tDistributionFalseNegatives": {
               "unsampledValue": 2284.0
              },
              "tDistributionFalsePositives": {
               "unsampledValue": 863.0
              },
              "tDistributionPrecision": {
               "unsampledValue": 0.30290791392326355
              },
              "tDistributionRecall": {
               "unsampledValue": 0.1410304605960846
              },
              "tDistributionTrueNegatives": {
               "unsampledValue": 14204.0
              },
              "tDistributionTruePositives": {
               "unsampledValue": 375.0
              },
              "threshold": 0.699999988079071,
              "trueNegatives": 14204.0,
              "truePositives": 375.0
             },
             {
              "boundedFalseNegatives": {
               "value": 2654.0
              },
              "boundedFalsePositives": {
               "value": 6.0
              },
              "boundedPrecision": {
               "value": 0.4545454680919647
              },
              "boundedRecall": {
               "value": 0.0018804061692208052
              },
              "boundedTrueNegatives": {
               "value": 15061.0
              },
              "boundedTruePositives": {
               "value": 5.0
              },
              "falseNegatives": 2654.0,
              "falsePositives": 6.0,
              "precision": 0.4545454680919647,
              "recall": 0.0018804061692208052,
              "tDistributionFalseNegatives": {
               "unsampledValue": 2654.0
              },
              "tDistributionFalsePositives": {
               "unsampledValue": 6.0
              },
              "tDistributionPrecision": {
               "unsampledValue": 0.4545454680919647
              },
              "tDistributionRecall": {
               "unsampledValue": 0.0018804061692208052
              },
              "tDistributionTrueNegatives": {
               "unsampledValue": 15061.0
              },
              "tDistributionTruePositives": {
               "unsampledValue": 5.0
              },
              "threshold": 0.8999999761581421,
              "trueNegatives": 15061.0,
              "truePositives": 5.0
             }
            ]
           }
          },
          "post_export_metrics/false_discovery_rate@0.10": {
           "doubleValue": 0.8499943614006042
          },
          "post_export_metrics/false_discovery_rate@0.30": {
           "doubleValue": 0.8434431552886963
          },
          "post_export_metrics/false_discovery_rate@0.50": {
           "doubleValue": 0.7987967133522034
          },
          "post_export_metrics/false_discovery_rate@0.70": {
           "doubleValue": 0.6970920562744141
          },
          "post_export_metrics/false_discovery_rate@0.90": {
           "doubleValue": 0.5454545617103577
          },
          "post_export_metrics/false_negative_rate@0.10": {
           "doubleValue": 0.0
          },
          "post_export_metrics/false_negative_rate@0.30": {
           "doubleValue": 0.022564873099327087
          },
          "post_export_metrics/false_negative_rate@0.50": {
           "doubleValue": 0.3459947407245636
          },
          "post_export_metrics/false_negative_rate@0.70": {
           "doubleValue": 0.858969509601593
          },
          "post_export_metrics/false_negative_rate@0.90": {
           "doubleValue": 0.998119592666626
          },
          "post_export_metrics/false_omission_rate@0.10": {
           "doubleValue": 0.0
          },
          "post_export_metrics/false_omission_rate@0.30": {
           "doubleValue": 0.0533333346247673
          },
          "post_export_metrics/false_omission_rate@0.50": {
           "doubleValue": 0.10128811746835709
          },
          "post_export_metrics/false_omission_rate@0.70": {
           "doubleValue": 0.13852499425411224
          },
          "post_export_metrics/false_omission_rate@0.90": {
           "doubleValue": 0.14981654286384583
          },
          "post_export_metrics/false_positive_rate@0.10": {
           "doubleValue": 1.0
          },
          "post_export_metrics/false_positive_rate@0.30": {
           "doubleValue": 0.9293157458305359
          },
          "post_export_metrics/false_positive_rate@0.50": {
           "doubleValue": 0.4582199454307556
          },
          "post_export_metrics/false_positive_rate@0.70": {
           "doubleValue": 0.05727749317884445
          },
          "post_export_metrics/false_positive_rate@0.90": {
           "doubleValue": 0.00039822128019295633
          },
          "post_export_metrics/negative_rate@0.10": {
           "doubleValue": 0.0
          },
          "post_export_metrics/negative_rate@0.30": {
           "doubleValue": 0.06346609443426132
          },
          "post_export_metrics/negative_rate@0.50": {
           "doubleValue": 0.5124111771583557
          },
          "post_export_metrics/negative_rate@0.70": {
           "doubleValue": 0.9301590919494629
          },
          "post_export_metrics/negative_rate@0.90": {
           "doubleValue": 0.9993794560432434
          },
          "post_export_metrics/positive_rate@0.10": {
           "doubleValue": 1.0
          },
          "post_export_metrics/positive_rate@0.30": {
           "doubleValue": 0.9365339279174805
          },
          "post_export_metrics/positive_rate@0.50": {
           "doubleValue": 0.4875888526439667
          },
          "post_export_metrics/positive_rate@0.70": {
           "doubleValue": 0.06984090805053711
          },
          "post_export_metrics/positive_rate@0.90": {
           "doubleValue": 0.0006205573445186019
          },
          "post_export_metrics/true_negative_rate@0.10": {
           "doubleValue": 0.0
          },
          "post_export_metrics/true_negative_rate@0.30": {
           "doubleValue": 0.0706842765212059
          },
          "post_export_metrics/true_negative_rate@0.50": {
           "doubleValue": 0.5417800545692444
          },
          "post_export_metrics/true_negative_rate@0.70": {
           "doubleValue": 0.942722499370575
          },
          "post_export_metrics/true_negative_rate@0.90": {
           "doubleValue": 0.9996017813682556
          },
          "post_export_metrics/true_positive_rate@0.10": {
           "doubleValue": 1.0
          },
          "post_export_metrics/true_positive_rate@0.30": {
           "doubleValue": 0.9774351119995117
          },
          "post_export_metrics/true_positive_rate@0.50": {
           "doubleValue": 0.6540052890777588
          },
          "post_export_metrics/true_positive_rate@0.70": {
           "doubleValue": 0.1410304605960846
          },
          "post_export_metrics/true_positive_rate@0.90": {
           "doubleValue": 0.0018804061692208052
          },
          "precision": {
           "doubleValue": 0.20120328664779663
          },
          "prediction/mean": {
           "doubleValue": 0.49924546480178833
          },
          "recall": {
           "doubleValue": 0.6540052890777588
          }
         },
         "slice": "gender:male",
         "sliceValue": "male"
        },
        {
         "metrics": {
          "accuracy": {
           "doubleValue": 0.5443037748336792
          },
          "accuracy_baseline": {
           "doubleValue": 0.7943037748336792
          },
          "auc": {
           "doubleValue": 0.617192804813385
          },
          "auc_precision_recall": {
           "doubleValue": 0.2728058993816376
          },
          "average_loss": {
           "doubleValue": 0.6997048258781433
          },
          "label/mean": {
           "doubleValue": 0.2056961953639984
          },
          "post_export_metrics/example_count": {
           "doubleValue": 948.0
          },
          "post_export_metrics/fairness/confusion_matrix_at_thresholds": {
           "confusionMatrixAtThresholds": {
            "matrices": [
             {
              "boundedFalseNegatives": {
               "value": 0.0
              },
              "boundedFalsePositives": {
               "value": 753.0
              },
              "boundedPrecision": {
               "value": 0.2056961953639984
              },
              "boundedRecall": {
               "value": 1.0
              },
              "boundedTrueNegatives": {
               "value": 0.0
              },
              "boundedTruePositives": {
               "value": 195.0
              },
              "falsePositives": 753.0,
              "precision": 0.2056961953639984,
              "recall": 1.0,
              "tDistributionFalseNegatives": {
               "unsampledValue": 0.0
              },
              "tDistributionFalsePositives": {
               "unsampledValue": 753.0
              },
              "tDistributionPrecision": {
               "unsampledValue": 0.2056961953639984
              },
              "tDistributionRecall": {
               "unsampledValue": 1.0
              },
              "tDistributionTrueNegatives": {
               "unsampledValue": 0.0
              },
              "tDistributionTruePositives": {
               "unsampledValue": 195.0
              },
              "threshold": 0.10000000149011612,
              "truePositives": 195.0
             },
             {
              "boundedFalseNegatives": {
               "value": 1.0
              },
              "boundedFalsePositives": {
               "value": 708.0
              },
              "boundedPrecision": {
               "value": 0.21507760882377625
              },
              "boundedRecall": {
               "value": 0.9948717951774597
              },
              "boundedTrueNegatives": {
               "value": 45.0
              },
              "boundedTruePositives": {
               "value": 194.0
              },
              "falseNegatives": 1.0,
              "falsePositives": 708.0,
              "precision": 0.21507760882377625,
              "recall": 0.9948717951774597,
              "tDistributionFalseNegatives": {
               "unsampledValue": 1.0
              },
              "tDistributionFalsePositives": {
               "unsampledValue": 708.0
              },
              "tDistributionPrecision": {
               "unsampledValue": 0.21507760882377625
              },
              "tDistributionRecall": {
               "unsampledValue": 0.9948717951774597
              },
              "tDistributionTrueNegatives": {
               "unsampledValue": 45.0
              },
              "tDistributionTruePositives": {
               "unsampledValue": 194.0
              },
              "threshold": 0.30000001192092896,
              "trueNegatives": 45.0,
              "truePositives": 194.0
             },
             {
              "boundedFalseNegatives": {
               "value": 68.0
              },
              "boundedFalsePositives": {
               "value": 364.0
              },
              "boundedPrecision": {
               "value": 0.2586558163166046
              },
              "boundedRecall": {
               "value": 0.6512820720672607
              },
              "boundedTrueNegatives": {
               "value": 389.0
              },
              "boundedTruePositives": {
               "value": 127.0
              },
              "falseNegatives": 68.0,
              "falsePositives": 364.0,
              "precision": 0.2586558163166046,
              "recall": 0.6512820720672607,
              "tDistributionFalseNegatives": {
               "unsampledValue": 68.0
              },
              "tDistributionFalsePositives": {
               "unsampledValue": 364.0
              },
              "tDistributionPrecision": {
               "unsampledValue": 0.2586558163166046
              },
              "tDistributionRecall": {
               "unsampledValue": 0.6512820720672607
              },
              "tDistributionTrueNegatives": {
               "unsampledValue": 389.0
              },
              "tDistributionTruePositives": {
               "unsampledValue": 127.0
              },
              "threshold": 0.5,
              "trueNegatives": 389.0,
              "truePositives": 127.0
             },
             {
              "boundedFalseNegatives": {
               "value": 178.0
              },
              "boundedFalsePositives": {
               "value": 39.0
              },
              "boundedPrecision": {
               "value": 0.3035714328289032
              },
              "boundedRecall": {
               "value": 0.08717948943376541
              },
              "boundedTrueNegatives": {
               "value": 714.0
              },
              "boundedTruePositives": {
               "value": 17.0
              },
              "falseNegatives": 178.0,
              "falsePositives": 39.0,
              "precision": 0.3035714328289032,
              "recall": 0.08717948943376541,
              "tDistributionFalseNegatives": {
               "unsampledValue": 178.0
              },
              "tDistributionFalsePositives": {
               "unsampledValue": 39.0
              },
              "tDistributionPrecision": {
               "unsampledValue": 0.3035714328289032
              },
              "tDistributionRecall": {
               "unsampledValue": 0.08717948943376541
              },
              "tDistributionTrueNegatives": {
               "unsampledValue": 714.0
              },
              "tDistributionTruePositives": {
               "unsampledValue": 17.0
              },
              "threshold": 0.699999988079071,
              "trueNegatives": 714.0,
              "truePositives": 17.0
             },
             {
              "boundedFalseNegatives": {
               "value": 195.0
              },
              "boundedFalsePositives": {
               "value": 0.0
              },
              "boundedPrecision": {
               "value": 0.0
              },
              "boundedRecall": {
               "value": 0.0
              },
              "boundedTrueNegatives": {
               "value": 753.0
              },
              "boundedTruePositives": {
               "value": 0.0
              },
              "falseNegatives": 195.0,
              "tDistributionFalseNegatives": {
               "unsampledValue": 195.0
              },
              "tDistributionFalsePositives": {
               "unsampledValue": 0.0
              },
              "tDistributionPrecision": {
               "unsampledValue": 0.0
              },
              "tDistributionRecall": {
               "unsampledValue": 0.0
              },
              "tDistributionTrueNegatives": {
               "unsampledValue": 753.0
              },
              "tDistributionTruePositives": {
               "unsampledValue": 0.0
              },
              "threshold": 0.8999999761581421,
              "trueNegatives": 753.0
             }
            ]
           }
          },
          "post_export_metrics/false_discovery_rate@0.10": {
           "doubleValue": 0.7943037748336792
          },
          "post_export_metrics/false_discovery_rate@0.30": {
           "doubleValue": 0.7849224209785461
          },
          "post_export_metrics/false_discovery_rate@0.50": {
           "doubleValue": 0.7413442134857178
          },
          "post_export_metrics/false_discovery_rate@0.70": {
           "doubleValue": 0.6964285969734192
          },
          "post_export_metrics/false_discovery_rate@0.90": {
           "doubleValue": 0.0
          },
          "post_export_metrics/false_negative_rate@0.10": {
           "doubleValue": 0.0
          },
          "post_export_metrics/false_negative_rate@0.30": {
           "doubleValue": 0.0051282052882015705
          },
          "post_export_metrics/false_negative_rate@0.50": {
           "doubleValue": 0.34871795773506165
          },
          "post_export_metrics/false_negative_rate@0.70": {
           "doubleValue": 0.9128205180168152
          },
          "post_export_metrics/false_negative_rate@0.90": {
           "doubleValue": 1.0
          },
          "post_export_metrics/false_omission_rate@0.10": {
           "doubleValue": 0.0
          },
          "post_export_metrics/false_omission_rate@0.30": {
           "doubleValue": 0.021739130839705467
          },
          "post_export_metrics/false_omission_rate@0.50": {
           "doubleValue": 0.14879649877548218
          },
          "post_export_metrics/false_omission_rate@0.70": {
           "doubleValue": 0.1995515674352646
          },
          "post_export_metrics/false_omission_rate@0.90": {
           "doubleValue": 0.2056961953639984
          },
          "post_export_metrics/false_positive_rate@0.10": {
           "doubleValue": 1.0
          },
          "post_export_metrics/false_positive_rate@0.30": {
           "doubleValue": 0.9402390718460083
          },
          "post_export_metrics/false_positive_rate@0.50": {
           "doubleValue": 0.48339974880218506
          },
          "post_export_metrics/false_positive_rate@0.70": {
           "doubleValue": 0.05179283022880554
          },
          "post_export_metrics/false_positive_rate@0.90": {
           "doubleValue": 0.0
          },
          "post_export_metrics/negative_rate@0.10": {
           "doubleValue": 0.0
          },
          "post_export_metrics/negative_rate@0.30": {
           "doubleValue": 0.048523206263780594
          },
          "post_export_metrics/negative_rate@0.50": {
           "doubleValue": 0.4820675253868103
          },
          "post_export_metrics/negative_rate@0.70": {
           "doubleValue": 0.9409282803535461
          },
          "post_export_metrics/negative_rate@0.90": {
           "doubleValue": 1.0
          },
          "post_export_metrics/positive_rate@0.10": {
           "doubleValue": 1.0
          },
          "post_export_metrics/positive_rate@0.30": {
           "doubleValue": 0.9514768123626709
          },
          "post_export_metrics/positive_rate@0.50": {
           "doubleValue": 0.5179324746131897
          },
          "post_export_metrics/positive_rate@0.70": {
           "doubleValue": 0.05907173082232475
          },
          "post_export_metrics/positive_rate@0.90": {
           "doubleValue": 0.0
          },
          "post_export_metrics/true_negative_rate@0.10": {
           "doubleValue": 0.0
          },
          "post_export_metrics/true_negative_rate@0.30": {
           "doubleValue": 0.05976095795631409
          },
          "post_export_metrics/true_negative_rate@0.50": {
           "doubleValue": 0.5166002511978149
          },
          "post_export_metrics/true_negative_rate@0.70": {
           "doubleValue": 0.9482071995735168
          },
          "post_export_metrics/true_negative_rate@0.90": {
           "doubleValue": 1.0
          },
          "post_export_metrics/true_positive_rate@0.10": {
           "doubleValue": 1.0
          },
          "post_export_metrics/true_positive_rate@0.30": {
           "doubleValue": 0.9948717951774597
          },
          "post_export_metrics/true_positive_rate@0.50": {
           "doubleValue": 0.6512820720672607
          },
          "post_export_metrics/true_positive_rate@0.70": {
           "doubleValue": 0.08717948943376541
          },
          "post_export_metrics/true_positive_rate@0.90": {
           "doubleValue": 0.0
          },
          "precision": {
           "doubleValue": 0.2586558163166046
          },
          "prediction/mean": {
           "doubleValue": 0.5065167546272278
          },
          "recall": {
           "doubleValue": 0.6512820720672607
          }
         },
         "slice": "gender:transgender",
         "sliceValue": "transgender"
        },
        {
         "metrics": {
          "accuracy": {
           "doubleValue": 0.8333333134651184
          },
          "accuracy_baseline": {
           "doubleValue": 0.6666666269302368
          },
          "auc": {
           "doubleValue": 0.7499999403953552
          },
          "auc_precision_recall": {
           "doubleValue": 0.41666683554649353
          },
          "average_loss": {
           "doubleValue": 0.6852626800537109
          },
          "label/mean": {
           "doubleValue": 0.3333333432674408
          },
          "post_export_metrics/example_count": {
           "doubleValue": 6.0
          },
          "post_export_metrics/fairness/confusion_matrix_at_thresholds": {
           "confusionMatrixAtThresholds": {
            "matrices": [
             {
              "boundedFalseNegatives": {
               "value": 0.0
              },
              "boundedFalsePositives": {
               "value": 4.0
              },
              "boundedPrecision": {
               "value": 0.3333333432674408
              },
              "boundedRecall": {
               "value": 1.0
              },
              "boundedTrueNegatives": {
               "value": 0.0
              },
              "boundedTruePositives": {
               "value": 2.0
              },
              "falsePositives": 4.0,
              "precision": 0.3333333432674408,
              "recall": 1.0,
              "tDistributionFalseNegatives": {
               "unsampledValue": 0.0
              },
              "tDistributionFalsePositives": {
               "unsampledValue": 4.0
              },
              "tDistributionPrecision": {
               "unsampledValue": 0.3333333432674408
              },
              "tDistributionRecall": {
               "unsampledValue": 1.0
              },
              "tDistributionTrueNegatives": {
               "unsampledValue": 0.0
              },
              "tDistributionTruePositives": {
               "unsampledValue": 2.0
              },
              "threshold": 0.10000000149011612,
              "truePositives": 2.0
             },
             {
              "boundedFalseNegatives": {
               "value": 0.0
              },
              "boundedFalsePositives": {
               "value": 4.0
              },
              "boundedPrecision": {
               "value": 0.3333333432674408
              },
              "boundedRecall": {
               "value": 1.0
              },
              "boundedTrueNegatives": {
               "value": 0.0
              },
              "boundedTruePositives": {
               "value": 2.0
              },
              "falsePositives": 4.0,
              "precision": 0.3333333432674408,
              "recall": 1.0,
              "tDistributionFalseNegatives": {
               "unsampledValue": 0.0
              },
              "tDistributionFalsePositives": {
               "unsampledValue": 4.0
              },
              "tDistributionPrecision": {
               "unsampledValue": 0.3333333432674408
              },
              "tDistributionRecall": {
               "unsampledValue": 1.0
              },
              "tDistributionTrueNegatives": {
               "unsampledValue": 0.0
              },
              "tDistributionTruePositives": {
               "unsampledValue": 2.0
              },
              "threshold": 0.30000001192092896,
              "truePositives": 2.0
             },
             {
              "boundedFalseNegatives": {
               "value": 0.0
              },
              "boundedFalsePositives": {
               "value": 1.0
              },
              "boundedPrecision": {
               "value": 0.6666666865348816
              },
              "boundedRecall": {
               "value": 1.0
              },
              "boundedTrueNegatives": {
               "value": 3.0
              },
              "boundedTruePositives": {
               "value": 2.0
              },
              "falsePositives": 1.0,
              "precision": 0.6666666865348816,
              "recall": 1.0,
              "tDistributionFalseNegatives": {
               "unsampledValue": 0.0
              },
              "tDistributionFalsePositives": {
               "unsampledValue": 1.0
              },
              "tDistributionPrecision": {
               "unsampledValue": 0.6666666865348816
              },
              "tDistributionRecall": {
               "unsampledValue": 1.0
              },
              "tDistributionTrueNegatives": {
               "unsampledValue": 3.0
              },
              "tDistributionTruePositives": {
               "unsampledValue": 2.0
              },
              "threshold": 0.5,
              "trueNegatives": 3.0,
              "truePositives": 2.0
             },
             {
              "boundedFalseNegatives": {
               "value": 2.0
              },
              "boundedFalsePositives": {
               "value": 1.0
              },
              "boundedPrecision": {
               "value": 0.0
              },
              "boundedRecall": {
               "value": 0.0
              },
              "boundedTrueNegatives": {
               "value": 3.0
              },
              "boundedTruePositives": {
               "value": 0.0
              },
              "falseNegatives": 2.0,
              "falsePositives": 1.0,
              "tDistributionFalseNegatives": {
               "unsampledValue": 2.0
              },
              "tDistributionFalsePositives": {
               "unsampledValue": 1.0
              },
              "tDistributionPrecision": {
               "unsampledValue": 0.0
              },
              "tDistributionRecall": {
               "unsampledValue": 0.0
              },
              "tDistributionTrueNegatives": {
               "unsampledValue": 3.0
              },
              "tDistributionTruePositives": {
               "unsampledValue": 0.0
              },
              "threshold": 0.699999988079071,
              "trueNegatives": 3.0
             },
             {
              "boundedFalseNegatives": {
               "value": 2.0
              },
              "boundedFalsePositives": {
               "value": 0.0
              },
              "boundedPrecision": {
               "value": 0.0
              },
              "boundedRecall": {
               "value": 0.0
              },
              "boundedTrueNegatives": {
               "value": 4.0
              },
              "boundedTruePositives": {
               "value": 0.0
              },
              "falseNegatives": 2.0,
              "tDistributionFalseNegatives": {
               "unsampledValue": 2.0
              },
              "tDistributionFalsePositives": {
               "unsampledValue": 0.0
              },
              "tDistributionPrecision": {
               "unsampledValue": 0.0
              },
              "tDistributionRecall": {
               "unsampledValue": 0.0
              },
              "tDistributionTrueNegatives": {
               "unsampledValue": 4.0
              },
              "tDistributionTruePositives": {
               "unsampledValue": 0.0
              },
              "threshold": 0.8999999761581421,
              "trueNegatives": 4.0
             }
            ]
           }
          },
          "post_export_metrics/false_discovery_rate@0.10": {
           "doubleValue": 0.6666666865348816
          },
          "post_export_metrics/false_discovery_rate@0.30": {
           "doubleValue": 0.6666666865348816
          },
          "post_export_metrics/false_discovery_rate@0.50": {
           "doubleValue": 0.3333333432674408
          },
          "post_export_metrics/false_discovery_rate@0.70": {
           "doubleValue": 1.0
          },
          "post_export_metrics/false_discovery_rate@0.90": {
           "doubleValue": 0.0
          },
          "post_export_metrics/false_negative_rate@0.10": {
           "doubleValue": 0.0
          },
          "post_export_metrics/false_negative_rate@0.30": {
           "doubleValue": 0.0
          },
          "post_export_metrics/false_negative_rate@0.50": {
           "doubleValue": 0.0
          },
          "post_export_metrics/false_negative_rate@0.70": {
           "doubleValue": 1.0
          },
          "post_export_metrics/false_negative_rate@0.90": {
           "doubleValue": 1.0
          },
          "post_export_metrics/false_omission_rate@0.10": {
           "doubleValue": 0.0
          },
          "post_export_metrics/false_omission_rate@0.30": {
           "doubleValue": 0.0
          },
          "post_export_metrics/false_omission_rate@0.50": {
           "doubleValue": 0.0
          },
          "post_export_metrics/false_omission_rate@0.70": {
           "doubleValue": 0.4000000059604645
          },
          "post_export_metrics/false_omission_rate@0.90": {
           "doubleValue": 0.3333333432674408
          },
          "post_export_metrics/false_positive_rate@0.10": {
           "doubleValue": 1.0
          },
          "post_export_metrics/false_positive_rate@0.30": {
           "doubleValue": 1.0
          },
          "post_export_metrics/false_positive_rate@0.50": {
           "doubleValue": 0.25
          },
          "post_export_metrics/false_positive_rate@0.70": {
           "doubleValue": 0.25
          },
          "post_export_metrics/false_positive_rate@0.90": {
           "doubleValue": 0.0
          },
          "post_export_metrics/negative_rate@0.10": {
           "doubleValue": 0.0
          },
          "post_export_metrics/negative_rate@0.30": {
           "doubleValue": 0.0
          },
          "post_export_metrics/negative_rate@0.50": {
           "doubleValue": 0.5
          },
          "post_export_metrics/negative_rate@0.70": {
           "doubleValue": 0.8333333134651184
          },
          "post_export_metrics/negative_rate@0.90": {
           "doubleValue": 1.0
          },
          "post_export_metrics/positive_rate@0.10": {
           "doubleValue": 1.0
          },
          "post_export_metrics/positive_rate@0.30": {
           "doubleValue": 1.0
          },
          "post_export_metrics/positive_rate@0.50": {
           "doubleValue": 0.5
          },
          "post_export_metrics/positive_rate@0.70": {
           "doubleValue": 0.1666666716337204
          },
          "post_export_metrics/positive_rate@0.90": {
           "doubleValue": 0.0
          },
          "post_export_metrics/true_negative_rate@0.10": {
           "doubleValue": 0.0
          },
          "post_export_metrics/true_negative_rate@0.30": {
           "doubleValue": 0.0
          },
          "post_export_metrics/true_negative_rate@0.50": {
           "doubleValue": 0.75
          },
          "post_export_metrics/true_negative_rate@0.70": {
           "doubleValue": 0.75
          },
          "post_export_metrics/true_negative_rate@0.90": {
           "doubleValue": 1.0
          },
          "post_export_metrics/true_positive_rate@0.10": {
           "doubleValue": 1.0
          },
          "post_export_metrics/true_positive_rate@0.30": {
           "doubleValue": 1.0
          },
          "post_export_metrics/true_positive_rate@0.50": {
           "doubleValue": 1.0
          },
          "post_export_metrics/true_positive_rate@0.70": {
           "doubleValue": 0.0
          },
          "post_export_metrics/true_positive_rate@0.90": {
           "doubleValue": 0.0
          },
          "precision": {
           "doubleValue": 0.6666666865348816
          },
          "prediction/mean": {
           "doubleValue": 0.530520498752594
          },
          "recall": {
           "doubleValue": 1.0
          }
         },
         "slice": "gender:other_gender",
         "sliceValue": "other_gender"
        }
       ],
       "slicingMetricsCompare": []
      }
     },
     "af2c2627035240c9804701cf366d5240": {
      "model_module": "@jupyter-widgets/base",
      "model_module_version": "1.2.0",
      "model_name": "LayoutModel",
      "state": {
       "_model_module": "@jupyter-widgets/base",
       "_model_module_version": "1.2.0",
       "_model_name": "LayoutModel",
       "_view_count": null,
       "_view_module": "@jupyter-widgets/base",
       "_view_module_version": "1.2.0",
       "_view_name": "LayoutView",
       "align_content": null,
       "align_items": null,
       "align_self": null,
       "border": null,
       "bottom": null,
       "display": null,
       "flex": null,
       "flex_flow": null,
       "grid_area": null,
       "grid_auto_columns": null,
       "grid_auto_flow": null,
       "grid_auto_rows": null,
       "grid_column": null,
       "grid_gap": null,
       "grid_row": null,
       "grid_template_areas": null,
       "grid_template_columns": null,
       "grid_template_rows": null,
       "height": null,
       "justify_content": null,
       "justify_items": null,
       "left": null,
       "margin": null,
       "max_height": null,
       "max_width": null,
       "min_height": null,
       "min_width": null,
       "object_fit": null,
       "object_position": null,
       "order": null,
       "overflow": null,
       "overflow_x": null,
       "overflow_y": null,
       "padding": null,
       "right": null,
       "top": null,
       "visibility": null,
       "width": null
      }
     },
     "b6b198efad2a483c9046507c1ed87f86": {
      "model_module": "tensorflow_model_analysis",
      "model_module_version": "0.39.0",
      "model_name": "FairnessIndicatorModel",
      "state": {
       "_dom_classes": [],
       "_model_module": "tensorflow_model_analysis",
       "_model_module_version": "0.39.0",
       "_model_name": "FairnessIndicatorModel",
       "_view_count": null,
       "_view_module": "tensorflow_model_analysis",
       "_view_module_version": "0.39.0",
       "_view_name": "FairnessIndicatorView",
       "evalName": "",
       "evalNameCompare": "",
       "js_events": [],
       "layout": "IPY_MODEL_2868d95c155546eb8bd34fc3ef8c0aab",
       "slicingMetrics": [
        {
         "metrics": {
          "accuracy": {
           "doubleValue": 0.770808219909668
          },
          "accuracy_baseline": {
           "doubleValue": 0.9198060631752014
          },
          "auc": {
           "doubleValue": 0.8566742539405823
          },
          "auc_precision_recall": {
           "doubleValue": 0.4211058020591736
          },
          "average_loss": {
           "doubleValue": 0.4676019251346588
          },
          "label/mean": {
           "doubleValue": 0.08019392192363739
          },
          "post_export_metrics/example_count": {
           "doubleValue": 721950.0
          },
          "post_export_metrics/fairness/confusion_matrix_at_thresholds": {
           "confusionMatrixAtThresholds": {
            "matrices": [
             {
              "boundedFalseNegatives": {
               "value": 835.0
              },
              "boundedFalsePositives": {
               "value": 493498.0
              },
              "boundedPrecision": {
               "value": 0.10364193469285965
              },
              "boundedRecall": {
               "value": 0.9855775833129883
              },
              "boundedTrueNegatives": {
               "value": 170556.0
              },
              "boundedTruePositives": {
               "value": 57061.0
              },
              "falseNegatives": 835.0,
              "falsePositives": 493498.0,
              "precision": 0.10364193469285965,
              "recall": 0.9855775833129883,
              "tDistributionFalseNegatives": {
               "unsampledValue": 835.0
              },
              "tDistributionFalsePositives": {
               "unsampledValue": 493498.0
              },
              "tDistributionPrecision": {
               "unsampledValue": 0.10364193469285965
              },
              "tDistributionRecall": {
               "unsampledValue": 0.9855775833129883
              },
              "tDistributionTrueNegatives": {
               "unsampledValue": 170556.0
              },
              "tDistributionTruePositives": {
               "unsampledValue": 57061.0
              },
              "threshold": 0.10000000149011612,
              "trueNegatives": 170556.0,
              "truePositives": 57061.0
             },
             {
              "boundedFalseNegatives": {
               "value": 5359.0
              },
              "boundedFalsePositives": {
               "value": 276908.0
              },
              "boundedPrecision": {
               "value": 0.15947122871875763
              },
              "boundedRecall": {
               "value": 0.9074375033378601
              },
              "boundedTrueNegatives": {
               "value": 387146.0
              },
              "boundedTruePositives": {
               "value": 52537.0
              },
              "falseNegatives": 5359.0,
              "falsePositives": 276908.0,
              "precision": 0.15947122871875763,
              "recall": 0.9074375033378601,
              "tDistributionFalseNegatives": {
               "unsampledValue": 5359.0
              },
              "tDistributionFalsePositives": {
               "unsampledValue": 276908.0
              },
              "tDistributionPrecision": {
               "unsampledValue": 0.15947122871875763
              },
              "tDistributionRecall": {
               "unsampledValue": 0.9074375033378601
              },
              "tDistributionTrueNegatives": {
               "unsampledValue": 387146.0
              },
              "tDistributionTruePositives": {
               "unsampledValue": 52537.0
              },
              "threshold": 0.30000001192092896,
              "trueNegatives": 387146.0,
              "truePositives": 52537.0
             },
             {
              "boundedFalseNegatives": {
               "value": 12718.0
              },
              "boundedFalsePositives": {
               "value": 152747.0
              },
              "boundedPrecision": {
               "value": 0.2282581776380539
              },
              "boundedRecall": {
               "value": 0.780330240726471
              },
              "boundedTrueNegatives": {
               "value": 511307.0
              },
              "boundedTruePositives": {
               "value": 45178.0
              },
              "falseNegatives": 12718.0,
              "falsePositives": 152747.0,
              "precision": 0.2282581776380539,
              "recall": 0.780330240726471,
              "tDistributionFalseNegatives": {
               "unsampledValue": 12718.0
              },
              "tDistributionFalsePositives": {
               "unsampledValue": 152747.0
              },
              "tDistributionPrecision": {
               "unsampledValue": 0.2282581776380539
              },
              "tDistributionRecall": {
               "unsampledValue": 0.780330240726471
              },
              "tDistributionTrueNegatives": {
               "unsampledValue": 511307.0
              },
              "tDistributionTruePositives": {
               "unsampledValue": 45178.0
              },
              "threshold": 0.5,
              "trueNegatives": 511307.0,
              "truePositives": 45178.0
             },
             {
              "boundedFalseNegatives": {
               "value": 24426.0
              },
              "boundedFalsePositives": {
               "value": 65574.0
              },
              "boundedPrecision": {
               "value": 0.3379306197166443
              },
              "boundedRecall": {
               "value": 0.5781055688858032
              },
              "boundedTrueNegatives": {
               "value": 598480.0
              },
              "boundedTruePositives": {
               "value": 33470.0
              },
              "falseNegatives": 24426.0,
              "falsePositives": 65574.0,
              "precision": 0.3379306197166443,
              "recall": 0.5781055688858032,
              "tDistributionFalseNegatives": {
               "unsampledValue": 24426.0
              },
              "tDistributionFalsePositives": {
               "unsampledValue": 65574.0
              },
              "tDistributionPrecision": {
               "unsampledValue": 0.3379306197166443
              },
              "tDistributionRecall": {
               "unsampledValue": 0.5781055688858032
              },
              "tDistributionTrueNegatives": {
               "unsampledValue": 598480.0
              },
              "tDistributionTruePositives": {
               "unsampledValue": 33470.0
              },
              "threshold": 0.699999988079071,
              "trueNegatives": 598480.0,
              "truePositives": 33470.0
             },
             {
              "boundedFalseNegatives": {
               "value": 46060.0
              },
              "boundedFalsePositives": {
               "value": 7450.0
              },
              "boundedPrecision": {
               "value": 0.6137094497680664
              },
              "boundedRecall": {
               "value": 0.2044355422258377
              },
              "boundedTrueNegatives": {
               "value": 656604.0
              },
              "boundedTruePositives": {
               "value": 11836.0
              },
              "falseNegatives": 46060.0,
              "falsePositives": 7450.0,
              "precision": 0.6137094497680664,
              "recall": 0.2044355422258377,
              "tDistributionFalseNegatives": {
               "unsampledValue": 46060.0
              },
              "tDistributionFalsePositives": {
               "unsampledValue": 7450.0
              },
              "tDistributionPrecision": {
               "unsampledValue": 0.6137094497680664
              },
              "tDistributionRecall": {
               "unsampledValue": 0.2044355422258377
              },
              "tDistributionTrueNegatives": {
               "unsampledValue": 656604.0
              },
              "tDistributionTruePositives": {
               "unsampledValue": 11836.0
              },
              "threshold": 0.8999999761581421,
              "trueNegatives": 656604.0,
              "truePositives": 11836.0
             }
            ]
           }
          },
          "post_export_metrics/false_discovery_rate@0.10": {
           "doubleValue": 0.896358072757721
          },
          "post_export_metrics/false_discovery_rate@0.30": {
           "doubleValue": 0.8405287861824036
          },
          "post_export_metrics/false_discovery_rate@0.50": {
           "doubleValue": 0.7717418074607849
          },
          "post_export_metrics/false_discovery_rate@0.70": {
           "doubleValue": 0.6620693802833557
          },
          "post_export_metrics/false_discovery_rate@0.90": {
           "doubleValue": 0.386290580034256
          },
          "post_export_metrics/false_negative_rate@0.10": {
           "doubleValue": 0.01442241296172142
          },
          "post_export_metrics/false_negative_rate@0.30": {
           "doubleValue": 0.09256252646446228
          },
          "post_export_metrics/false_negative_rate@0.50": {
           "doubleValue": 0.21966975927352905
          },
          "post_export_metrics/false_negative_rate@0.70": {
           "doubleValue": 0.4218944311141968
          },
          "post_export_metrics/false_negative_rate@0.90": {
           "doubleValue": 0.7955644726753235
          },
          "post_export_metrics/false_omission_rate@0.10": {
           "doubleValue": 0.004871901124715805
          },
          "post_export_metrics/false_omission_rate@0.30": {
           "doubleValue": 0.013653329573571682
          },
          "post_export_metrics/false_omission_rate@0.50": {
           "doubleValue": 0.02426983416080475
          },
          "post_export_metrics/false_omission_rate@0.70": {
           "doubleValue": 0.03921297937631607
          },
          "post_export_metrics/false_omission_rate@0.90": {
           "doubleValue": 0.0655505359172821
          },
          "post_export_metrics/false_positive_rate@0.10": {
           "doubleValue": 0.7431594133377075
          },
          "post_export_metrics/false_positive_rate@0.30": {
           "doubleValue": 0.41699621081352234
          },
          "post_export_metrics/false_positive_rate@0.50": {
           "doubleValue": 0.23002195358276367
          },
          "post_export_metrics/false_positive_rate@0.70": {
           "doubleValue": 0.09874799102544785
          },
          "post_export_metrics/false_positive_rate@0.90": {
           "doubleValue": 0.011218966916203499
          },
          "post_export_metrics/negative_rate@0.10": {
           "doubleValue": 0.2374000996351242
          },
          "post_export_metrics/negative_rate@0.30": {
           "doubleValue": 0.5436733961105347
          },
          "post_export_metrics/negative_rate@0.50": {
           "doubleValue": 0.7258466482162476
          },
          "post_export_metrics/negative_rate@0.70": {
           "doubleValue": 0.8628104329109192
          },
          "post_export_metrics/negative_rate@0.90": {
           "doubleValue": 0.9732862114906311
          },
          "post_export_metrics/positive_rate@0.10": {
           "doubleValue": 0.7625998854637146
          },
          "post_export_metrics/positive_rate@0.30": {
           "doubleValue": 0.45632660388946533
          },
          "post_export_metrics/positive_rate@0.50": {
           "doubleValue": 0.27415332198143005
          },
          "post_export_metrics/positive_rate@0.70": {
           "doubleValue": 0.13718955218791962
          },
          "post_export_metrics/positive_rate@0.90": {
           "doubleValue": 0.026713760569691658
          },
          "post_export_metrics/true_negative_rate@0.10": {
           "doubleValue": 0.2568405568599701
          },
          "post_export_metrics/true_negative_rate@0.30": {
           "doubleValue": 0.5830038189888
          },
          "post_export_metrics/true_negative_rate@0.50": {
           "doubleValue": 0.7699780464172363
          },
          "post_export_metrics/true_negative_rate@0.70": {
           "doubleValue": 0.901252031326294
          },
          "post_export_metrics/true_negative_rate@0.90": {
           "doubleValue": 0.9887810349464417
          },
          "post_export_metrics/true_positive_rate@0.10": {
           "doubleValue": 0.9855775833129883
          },
          "post_export_metrics/true_positive_rate@0.30": {
           "doubleValue": 0.9074375033378601
          },
          "post_export_metrics/true_positive_rate@0.50": {
           "doubleValue": 0.780330240726471
          },
          "post_export_metrics/true_positive_rate@0.70": {
           "doubleValue": 0.5781055688858032
          },
          "post_export_metrics/true_positive_rate@0.90": {
           "doubleValue": 0.2044355422258377
          },
          "precision": {
           "doubleValue": 0.2282581776380539
          },
          "prediction/mean": {
           "doubleValue": 0.3368438482284546
          },
          "recall": {
           "doubleValue": 0.780330240726471
          }
         },
         "slice": "Overall",
         "sliceValue": "Overall"
        },
        {
         "metrics": {
          "accuracy": {
           "doubleValue": 0.6149568557739258
          },
          "accuracy_baseline": {
           "doubleValue": 0.8633428812026978
          },
          "auc": {
           "doubleValue": 0.8222715258598328
          },
          "auc_precision_recall": {
           "doubleValue": 0.45935046672821045
          },
          "average_loss": {
           "doubleValue": 0.6969166994094849
          },
          "label/mean": {
           "doubleValue": 0.13665708899497986
          },
          "post_export_metrics/example_count": {
           "doubleValue": 21221.0
          },
          "post_export_metrics/fairness/confusion_matrix_at_thresholds": {
           "confusionMatrixAtThresholds": {
            "matrices": [
             {
              "boundedFalseNegatives": {
               "value": 12.0
              },
              "boundedFalsePositives": {
               "value": 16405.0
              },
              "boundedPrecision": {
               "value": 0.1496915966272354
              },
              "boundedRecall": {
               "value": 0.9958620667457581
              },
              "boundedTrueNegatives": {
               "value": 1916.0
              },
              "boundedTruePositives": {
               "value": 2888.0
              },
              "falseNegatives": 12.0,
              "falsePositives": 16405.0,
              "precision": 0.1496915966272354,
              "recall": 0.9958620667457581,
              "tDistributionFalseNegatives": {
               "unsampledValue": 12.0
              },
              "tDistributionFalsePositives": {
               "unsampledValue": 16405.0
              },
              "tDistributionPrecision": {
               "unsampledValue": 0.1496915966272354
              },
              "tDistributionRecall": {
               "unsampledValue": 0.9958620667457581
              },
              "tDistributionTrueNegatives": {
               "unsampledValue": 1916.0
              },
              "tDistributionTruePositives": {
               "unsampledValue": 2888.0
              },
              "threshold": 0.10000000149011612,
              "trueNegatives": 1916.0,
              "truePositives": 2888.0
             },
             {
              "boundedFalseNegatives": {
               "value": 116.0
              },
              "boundedFalsePositives": {
               "value": 11854.0
              },
              "boundedPrecision": {
               "value": 0.1901899129152298
              },
              "boundedRecall": {
               "value": 0.9599999785423279
              },
              "boundedTrueNegatives": {
               "value": 6467.0
              },
              "boundedTruePositives": {
               "value": 2784.0
              },
              "falseNegatives": 116.0,
              "falsePositives": 11854.0,
              "precision": 0.1901899129152298,
              "recall": 0.9599999785423279,
              "tDistributionFalseNegatives": {
               "unsampledValue": 116.0
              },
              "tDistributionFalsePositives": {
               "unsampledValue": 11854.0
              },
              "tDistributionPrecision": {
               "unsampledValue": 0.1901899129152298
              },
              "tDistributionRecall": {
               "unsampledValue": 0.9599999785423279
              },
              "tDistributionTrueNegatives": {
               "unsampledValue": 6467.0
              },
              "tDistributionTruePositives": {
               "unsampledValue": 2784.0
              },
              "threshold": 0.30000001192092896,
              "trueNegatives": 6467.0,
              "truePositives": 2784.0
             },
             {
              "boundedFalseNegatives": {
               "value": 364.0
              },
              "boundedFalsePositives": {
               "value": 7807.0
              },
              "boundedPrecision": {
               "value": 0.24518997967243195
              },
              "boundedRecall": {
               "value": 0.8744827508926392
              },
              "boundedTrueNegatives": {
               "value": 10514.0
              },
              "boundedTruePositives": {
               "value": 2536.0
              },
              "falseNegatives": 364.0,
              "falsePositives": 7807.0,
              "precision": 0.24518997967243195,
              "recall": 0.8744827508926392,
              "tDistributionFalseNegatives": {
               "unsampledValue": 364.0
              },
              "tDistributionFalsePositives": {
               "unsampledValue": 7807.0
              },
              "tDistributionPrecision": {
               "unsampledValue": 0.24518997967243195
              },
              "tDistributionRecall": {
               "unsampledValue": 0.8744827508926392
              },
              "tDistributionTrueNegatives": {
               "unsampledValue": 10514.0
              },
              "tDistributionTruePositives": {
               "unsampledValue": 2536.0
              },
              "threshold": 0.5,
              "trueNegatives": 10514.0,
              "truePositives": 2536.0
             },
             {
              "boundedFalseNegatives": {
               "value": 891.0
              },
              "boundedFalsePositives": {
               "value": 3962.0
              },
              "boundedPrecision": {
               "value": 0.33645954728126526
              },
              "boundedRecall": {
               "value": 0.6927586197853088
              },
              "boundedTrueNegatives": {
               "value": 14359.0
              },
              "boundedTruePositives": {
               "value": 2009.0
              },
              "falseNegatives": 891.0,
              "falsePositives": 3962.0,
              "precision": 0.33645954728126526,
              "recall": 0.6927586197853088,
              "tDistributionFalseNegatives": {
               "unsampledValue": 891.0
              },
              "tDistributionFalsePositives": {
               "unsampledValue": 3962.0
              },
              "tDistributionPrecision": {
               "unsampledValue": 0.33645954728126526
              },
              "tDistributionRecall": {
               "unsampledValue": 0.6927586197853088
              },
              "tDistributionTrueNegatives": {
               "unsampledValue": 14359.0
              },
              "tDistributionTruePositives": {
               "unsampledValue": 2009.0
              },
              "threshold": 0.699999988079071,
              "trueNegatives": 14359.0,
              "truePositives": 2009.0
             },
             {
              "boundedFalseNegatives": {
               "value": 2098.0
              },
              "boundedFalsePositives": {
               "value": 576.0
              },
              "boundedPrecision": {
               "value": 0.5820028781890869
              },
              "boundedRecall": {
               "value": 0.2765517234802246
              },
              "boundedTrueNegatives": {
               "value": 17745.0
              },
              "boundedTruePositives": {
               "value": 802.0
              },
              "falseNegatives": 2098.0,
              "falsePositives": 576.0,
              "precision": 0.5820028781890869,
              "recall": 0.2765517234802246,
              "tDistributionFalseNegatives": {
               "unsampledValue": 2098.0
              },
              "tDistributionFalsePositives": {
               "unsampledValue": 576.0
              },
              "tDistributionPrecision": {
               "unsampledValue": 0.5820028781890869
              },
              "tDistributionRecall": {
               "unsampledValue": 0.2765517234802246
              },
              "tDistributionTrueNegatives": {
               "unsampledValue": 17745.0
              },
              "tDistributionTruePositives": {
               "unsampledValue": 802.0
              },
              "threshold": 0.8999999761581421,
              "trueNegatives": 17745.0,
              "truePositives": 802.0
             }
            ]
           }
          },
          "post_export_metrics/false_discovery_rate@0.10": {
           "doubleValue": 0.8503084182739258
          },
          "post_export_metrics/false_discovery_rate@0.30": {
           "doubleValue": 0.8098101019859314
          },
          "post_export_metrics/false_discovery_rate@0.50": {
           "doubleValue": 0.7548100352287292
          },
          "post_export_metrics/false_discovery_rate@0.70": {
           "doubleValue": 0.6635404229164124
          },
          "post_export_metrics/false_discovery_rate@0.90": {
           "doubleValue": 0.4179970920085907
          },
          "post_export_metrics/false_negative_rate@0.10": {
           "doubleValue": 0.004137930925935507
          },
          "post_export_metrics/false_negative_rate@0.30": {
           "doubleValue": 0.03999999910593033
          },
          "post_export_metrics/false_negative_rate@0.50": {
           "doubleValue": 0.12551723420619965
          },
          "post_export_metrics/false_negative_rate@0.70": {
           "doubleValue": 0.30724138021469116
          },
          "post_export_metrics/false_negative_rate@0.90": {
           "doubleValue": 0.7234482765197754
          },
          "post_export_metrics/false_omission_rate@0.10": {
           "doubleValue": 0.006224066484719515
          },
          "post_export_metrics/false_omission_rate@0.30": {
           "doubleValue": 0.017621144652366638
          },
          "post_export_metrics/false_omission_rate@0.50": {
           "doubleValue": 0.0334620326757431
          },
          "post_export_metrics/false_omission_rate@0.70": {
           "doubleValue": 0.058426231145858765
          },
          "post_export_metrics/false_omission_rate@0.90": {
           "doubleValue": 0.10572998225688934
          },
          "post_export_metrics/false_positive_rate@0.10": {
           "doubleValue": 0.8954205513000488
          },
          "post_export_metrics/false_positive_rate@0.30": {
           "doubleValue": 0.6470170617103577
          },
          "post_export_metrics/false_positive_rate@0.50": {
           "doubleValue": 0.4261230230331421
          },
          "post_export_metrics/false_positive_rate@0.70": {
           "doubleValue": 0.2162545770406723
          },
          "post_export_metrics/false_positive_rate@0.90": {
           "doubleValue": 0.03143933042883873
          },
          "post_export_metrics/negative_rate@0.10": {
           "doubleValue": 0.09085340052843094
          },
          "post_export_metrics/negative_rate@0.30": {
           "doubleValue": 0.31021156907081604
          },
          "post_export_metrics/negative_rate@0.50": {
           "doubleValue": 0.5126054286956787
          },
          "post_export_metrics/negative_rate@0.70": {
           "doubleValue": 0.7186277508735657
          },
          "post_export_metrics/negative_rate@0.90": {
           "doubleValue": 0.9350643157958984
          },
          "post_export_metrics/positive_rate@0.10": {
           "doubleValue": 0.9091466069221497
          },
          "post_export_metrics/positive_rate@0.30": {
           "doubleValue": 0.6897884011268616
          },
          "post_export_metrics/positive_rate@0.50": {
           "doubleValue": 0.4873945713043213
          },
          "post_export_metrics/positive_rate@0.70": {
           "doubleValue": 0.28137221932411194
          },
          "post_export_metrics/positive_rate@0.90": {
           "doubleValue": 0.06493567675352097
          },
          "post_export_metrics/true_negative_rate@0.10": {
           "doubleValue": 0.10457944124937057
          },
          "post_export_metrics/true_negative_rate@0.30": {
           "doubleValue": 0.35298290848731995
          },
          "post_export_metrics/true_negative_rate@0.50": {
           "doubleValue": 0.5738769769668579
          },
          "post_export_metrics/true_negative_rate@0.70": {
           "doubleValue": 0.7837454080581665
          },
          "post_export_metrics/true_negative_rate@0.90": {
           "doubleValue": 0.9685606956481934
          },
          "post_export_metrics/true_positive_rate@0.10": {
           "doubleValue": 0.9958620667457581
          },
          "post_export_metrics/true_positive_rate@0.30": {
           "doubleValue": 0.9599999785423279
          },
          "post_export_metrics/true_positive_rate@0.50": {
           "doubleValue": 0.8744827508926392
          },
          "post_export_metrics/true_positive_rate@0.70": {
           "doubleValue": 0.6927586197853088
          },
          "post_export_metrics/true_positive_rate@0.90": {
           "doubleValue": 0.2765517234802246
          },
          "precision": {
           "doubleValue": 0.24518997967243195
          },
          "prediction/mean": {
           "doubleValue": 0.48737040162086487
          },
          "recall": {
           "doubleValue": 0.8744827508926392
          }
         },
         "slice": "gender:female",
         "sliceValue": "female"
        },
        {
         "metrics": {
          "accuracy": {
           "doubleValue": 0.6017149686813354
          },
          "accuracy_baseline": {
           "doubleValue": 0.8499943614006042
          },
          "auc": {
           "doubleValue": 0.8225376605987549
          },
          "auc_precision_recall": {
           "doubleValue": 0.49405187368392944
          },
          "average_loss": {
           "doubleValue": 0.7162370681762695
          },
          "label/mean": {
           "doubleValue": 0.15000563859939575
          },
          "post_export_metrics/example_count": {
           "doubleValue": 17726.0
          },
          "post_export_metrics/fairness/confusion_matrix_at_thresholds": {
           "confusionMatrixAtThresholds": {
            "matrices": [
             {
              "boundedFalseNegatives": {
               "value": 5.0
              },
              "boundedFalsePositives": {
               "value": 13722.0
              },
              "boundedPrecision": {
               "value": 0.16206644475460052
              },
              "boundedRecall": {
               "value": 0.998119592666626
              },
              "boundedTrueNegatives": {
               "value": 1345.0
              },
              "boundedTruePositives": {
               "value": 2654.0
              },
              "falseNegatives": 5.0,
              "falsePositives": 13722.0,
              "precision": 0.16206644475460052,
              "recall": 0.998119592666626,
              "tDistributionFalseNegatives": {
               "unsampledValue": 5.0
              },
              "tDistributionFalsePositives": {
               "unsampledValue": 13722.0
              },
              "tDistributionPrecision": {
               "unsampledValue": 0.16206644475460052
              },
              "tDistributionRecall": {
               "unsampledValue": 0.998119592666626
              },
              "tDistributionTrueNegatives": {
               "unsampledValue": 1345.0
              },
              "tDistributionTruePositives": {
               "unsampledValue": 2654.0
              },
              "threshold": 0.10000000149011612,
              "trueNegatives": 1345.0,
              "truePositives": 2654.0
             },
             {
              "boundedFalseNegatives": {
               "value": 91.0
              },
              "boundedFalsePositives": {
               "value": 10054.0
              },
              "boundedPrecision": {
               "value": 0.20345428586006165
              },
              "boundedRecall": {
               "value": 0.9657766222953796
              },
              "boundedTrueNegatives": {
               "value": 5013.0
              },
              "boundedTruePositives": {
               "value": 2568.0
              },
              "falseNegatives": 91.0,
              "falsePositives": 10054.0,
              "precision": 0.20345428586006165,
              "recall": 0.9657766222953796,
              "tDistributionFalseNegatives": {
               "unsampledValue": 91.0
              },
              "tDistributionFalsePositives": {
               "unsampledValue": 10054.0
              },
              "tDistributionPrecision": {
               "unsampledValue": 0.20345428586006165
              },
              "tDistributionRecall": {
               "unsampledValue": 0.9657766222953796
              },
              "tDistributionTrueNegatives": {
               "unsampledValue": 5013.0
              },
              "tDistributionTruePositives": {
               "unsampledValue": 2568.0
              },
              "threshold": 0.30000001192092896,
              "trueNegatives": 5013.0,
              "truePositives": 2568.0
             },
             {
              "boundedFalseNegatives": {
               "value": 309.0
              },
              "boundedFalsePositives": {
               "value": 6751.0
              },
              "boundedPrecision": {
               "value": 0.2582133710384369
              },
              "boundedRecall": {
               "value": 0.883790910243988
              },
              "boundedTrueNegatives": {
               "value": 8316.0
              },
              "boundedTruePositives": {
               "value": 2350.0
              },
              "falseNegatives": 309.0,
              "falsePositives": 6751.0,
              "precision": 0.2582133710384369,
              "recall": 0.883790910243988,
              "tDistributionFalseNegatives": {
               "unsampledValue": 309.0
              },
              "tDistributionFalsePositives": {
               "unsampledValue": 6751.0
              },
              "tDistributionPrecision": {
               "unsampledValue": 0.2582133710384369
              },
              "tDistributionRecall": {
               "unsampledValue": 0.883790910243988
              },
              "tDistributionTrueNegatives": {
               "unsampledValue": 8316.0
              },
              "tDistributionTruePositives": {
               "unsampledValue": 2350.0
              },
              "threshold": 0.5,
              "trueNegatives": 8316.0,
              "truePositives": 2350.0
             },
             {
              "boundedFalseNegatives": {
               "value": 773.0
              },
              "boundedFalsePositives": {
               "value": 3505.0
              },
              "boundedPrecision": {
               "value": 0.3498423397541046
              },
              "boundedRecall": {
               "value": 0.7092891931533813
              },
              "boundedTrueNegatives": {
               "value": 11562.0
              },
              "boundedTruePositives": {
               "value": 1886.0
              },
              "falseNegatives": 773.0,
              "falsePositives": 3505.0,
              "precision": 0.3498423397541046,
              "recall": 0.7092891931533813,
              "tDistributionFalseNegatives": {
               "unsampledValue": 773.0
              },
              "tDistributionFalsePositives": {
               "unsampledValue": 3505.0
              },
              "tDistributionPrecision": {
               "unsampledValue": 0.3498423397541046
              },
              "tDistributionRecall": {
               "unsampledValue": 0.7092891931533813
              },
              "tDistributionTrueNegatives": {
               "unsampledValue": 11562.0
              },
              "tDistributionTruePositives": {
               "unsampledValue": 1886.0
              },
              "threshold": 0.699999988079071,
              "trueNegatives": 11562.0,
              "truePositives": 1886.0
             },
             {
              "boundedFalseNegatives": {
               "value": 1896.0
              },
              "boundedFalsePositives": {
               "value": 495.0
              },
              "boundedPrecision": {
               "value": 0.6065182685852051
              },
              "boundedRecall": {
               "value": 0.2869499921798706
              },
              "boundedTrueNegatives": {
               "value": 14572.0
              },
              "boundedTruePositives": {
               "value": 763.0
              },
              "falseNegatives": 1896.0,
              "falsePositives": 495.0,
              "precision": 0.6065182685852051,
              "recall": 0.2869499921798706,
              "tDistributionFalseNegatives": {
               "unsampledValue": 1896.0
              },
              "tDistributionFalsePositives": {
               "unsampledValue": 495.0
              },
              "tDistributionPrecision": {
               "unsampledValue": 0.6065182685852051
              },
              "tDistributionRecall": {
               "unsampledValue": 0.2869499921798706
              },
              "tDistributionTrueNegatives": {
               "unsampledValue": 14572.0
              },
              "tDistributionTruePositives": {
               "unsampledValue": 763.0
              },
              "threshold": 0.8999999761581421,
              "trueNegatives": 14572.0,
              "truePositives": 763.0
             }
            ]
           }
          },
          "post_export_metrics/false_discovery_rate@0.10": {
           "doubleValue": 0.8379335403442383
          },
          "post_export_metrics/false_discovery_rate@0.30": {
           "doubleValue": 0.796545684337616
          },
          "post_export_metrics/false_discovery_rate@0.50": {
           "doubleValue": 0.7417865991592407
          },
          "post_export_metrics/false_discovery_rate@0.70": {
           "doubleValue": 0.6501576900482178
          },
          "post_export_metrics/false_discovery_rate@0.90": {
           "doubleValue": 0.3934817314147949
          },
          "post_export_metrics/false_negative_rate@0.10": {
           "doubleValue": 0.0018804061692208052
          },
          "post_export_metrics/false_negative_rate@0.30": {
           "doubleValue": 0.034223392605781555
          },
          "post_export_metrics/false_negative_rate@0.50": {
           "doubleValue": 0.11620910465717316
          },
          "post_export_metrics/false_negative_rate@0.70": {
           "doubleValue": 0.29071080684661865
          },
          "post_export_metrics/false_negative_rate@0.90": {
           "doubleValue": 0.7130500078201294
          },
          "post_export_metrics/false_omission_rate@0.10": {
           "doubleValue": 0.003703703638166189
          },
          "post_export_metrics/false_omission_rate@0.30": {
           "doubleValue": 0.017829153686761856
          },
          "post_export_metrics/false_omission_rate@0.50": {
           "doubleValue": 0.03582608699798584
          },
          "post_export_metrics/false_omission_rate@0.70": {
           "doubleValue": 0.06266720592975616
          },
          "post_export_metrics/false_omission_rate@0.90": {
           "doubleValue": 0.11513237655162811
          },
          "post_export_metrics/false_positive_rate@0.10": {
           "doubleValue": 0.910732090473175
          },
          "post_export_metrics/false_positive_rate@0.30": {
           "doubleValue": 0.6672860980033875
          },
          "post_export_metrics/false_positive_rate@0.50": {
           "doubleValue": 0.44806531071662903
          },
          "post_export_metrics/false_positive_rate@0.70": {
           "doubleValue": 0.23262760043144226
          },
          "post_export_metrics/false_positive_rate@0.90": {
           "doubleValue": 0.03285325691103935
          },
          "post_export_metrics/negative_rate@0.10": {
           "doubleValue": 0.07615931332111359
          },
          "post_export_metrics/negative_rate@0.30": {
           "doubleValue": 0.2879386246204376
          },
          "post_export_metrics/negative_rate@0.50": {
           "doubleValue": 0.48657339811325073
          },
          "post_export_metrics/negative_rate@0.70": {
           "doubleValue": 0.6958704590797424
          },
          "post_export_metrics/negative_rate@0.90": {
           "doubleValue": 0.9290307760238647
          },
          "post_export_metrics/positive_rate@0.10": {
           "doubleValue": 0.9238407015800476
          },
          "post_export_metrics/positive_rate@0.30": {
           "doubleValue": 0.7120614051818848
          },
          "post_export_metrics/positive_rate@0.50": {
           "doubleValue": 0.5134266018867493
          },
          "post_export_metrics/positive_rate@0.70": {
           "doubleValue": 0.30412954092025757
          },
          "post_export_metrics/positive_rate@0.90": {
           "doubleValue": 0.07096919417381287
          },
          "post_export_metrics/true_negative_rate@0.10": {
           "doubleValue": 0.08926793932914734
          },
          "post_export_metrics/true_negative_rate@0.30": {
           "doubleValue": 0.33271387219429016
          },
          "post_export_metrics/true_negative_rate@0.50": {
           "doubleValue": 0.5519347190856934
          },
          "post_export_metrics/true_negative_rate@0.70": {
           "doubleValue": 0.7673724293708801
          },
          "post_export_metrics/true_negative_rate@0.90": {
           "doubleValue": 0.9671467542648315
          },
          "post_export_metrics/true_positive_rate@0.10": {
           "doubleValue": 0.998119592666626
          },
          "post_export_metrics/true_positive_rate@0.30": {
           "doubleValue": 0.9657766222953796
          },
          "post_export_metrics/true_positive_rate@0.50": {
           "doubleValue": 0.883790910243988
          },
          "post_export_metrics/true_positive_rate@0.70": {
           "doubleValue": 0.7092891931533813
          },
          "post_export_metrics/true_positive_rate@0.90": {
           "doubleValue": 0.2869499921798706
          },
          "precision": {
           "doubleValue": 0.2582133710384369
          },
          "prediction/mean": {
           "doubleValue": 0.5055094957351685
          },
          "recall": {
           "doubleValue": 0.883790910243988
          }
         },
         "slice": "gender:male",
         "sliceValue": "male"
        },
        {
         "metrics": {
          "accuracy": {
           "doubleValue": 0.6297468543052673
          },
          "accuracy_baseline": {
           "doubleValue": 0.7943037748336792
          },
          "auc": {
           "doubleValue": 0.7938264012336731
          },
          "auc_precision_recall": {
           "doubleValue": 0.5060698986053467
          },
          "average_loss": {
           "doubleValue": 0.6512935161590576
          },
          "label/mean": {
           "doubleValue": 0.2056961953639984
          },
          "post_export_metrics/example_count": {
           "doubleValue": 948.0
          },
          "post_export_metrics/fairness/confusion_matrix_at_thresholds": {
           "confusionMatrixAtThresholds": {
            "matrices": [
             {
              "boundedFalseNegatives": {
               "value": 2.0
              },
              "boundedFalsePositives": {
               "value": 693.0
              },
              "boundedPrecision": {
               "value": 0.21783295273780823
              },
              "boundedRecall": {
               "value": 0.9897435903549194
              },
              "boundedTrueNegatives": {
               "value": 60.0
              },
              "boundedTruePositives": {
               "value": 193.0
              },
              "falseNegatives": 2.0,
              "falsePositives": 693.0,
              "precision": 0.21783295273780823,
              "recall": 0.9897435903549194,
              "tDistributionFalseNegatives": {
               "unsampledValue": 2.0
              },
              "tDistributionFalsePositives": {
               "unsampledValue": 693.0
              },
              "tDistributionPrecision": {
               "unsampledValue": 0.21783295273780823
              },
              "tDistributionRecall": {
               "unsampledValue": 0.9897435903549194
              },
              "tDistributionTrueNegatives": {
               "unsampledValue": 60.0
              },
              "tDistributionTruePositives": {
               "unsampledValue": 193.0
              },
              "threshold": 0.10000000149011612,
              "trueNegatives": 60.0,
              "truePositives": 193.0
             },
             {
              "boundedFalseNegatives": {
               "value": 12.0
              },
              "boundedFalsePositives": {
               "value": 499.0
              },
              "boundedPrecision": {
               "value": 0.268328458070755
              },
              "boundedRecall": {
               "value": 0.9384615421295166
              },
              "boundedTrueNegatives": {
               "value": 254.0
              },
              "boundedTruePositives": {
               "value": 183.0
              },
              "falseNegatives": 12.0,
              "falsePositives": 499.0,
              "precision": 0.268328458070755,
              "recall": 0.9384615421295166,
              "tDistributionFalseNegatives": {
               "unsampledValue": 12.0
              },
              "tDistributionFalsePositives": {
               "unsampledValue": 499.0
              },
              "tDistributionPrecision": {
               "unsampledValue": 0.268328458070755
              },
              "tDistributionRecall": {
               "unsampledValue": 0.9384615421295166
              },
              "tDistributionTrueNegatives": {
               "unsampledValue": 254.0
              },
              "tDistributionTruePositives": {
               "unsampledValue": 183.0
              },
              "threshold": 0.30000001192092896,
              "trueNegatives": 254.0,
              "truePositives": 183.0
             },
             {
              "boundedFalseNegatives": {
               "value": 39.0
              },
              "boundedFalsePositives": {
               "value": 312.0
              },
              "boundedPrecision": {
               "value": 0.3333333432674408
              },
              "boundedRecall": {
               "value": 0.800000011920929
              },
              "boundedTrueNegatives": {
               "value": 441.0
              },
              "boundedTruePositives": {
               "value": 156.0
              },
              "falseNegatives": 39.0,
              "falsePositives": 312.0,
              "precision": 0.3333333432674408,
              "recall": 0.800000011920929,
              "tDistributionFalseNegatives": {
               "unsampledValue": 39.0
              },
              "tDistributionFalsePositives": {
               "unsampledValue": 312.0
              },
              "tDistributionPrecision": {
               "unsampledValue": 0.3333333432674408
              },
              "tDistributionRecall": {
               "unsampledValue": 0.800000011920929
              },
              "tDistributionTrueNegatives": {
               "unsampledValue": 441.0
              },
              "tDistributionTruePositives": {
               "unsampledValue": 156.0
              },
              "threshold": 0.5,
              "trueNegatives": 441.0,
              "truePositives": 156.0
             },
             {
              "boundedFalseNegatives": {
               "value": 81.0
              },
              "boundedFalsePositives": {
               "value": 136.0
              },
              "boundedPrecision": {
               "value": 0.4560000002384186
              },
              "boundedRecall": {
               "value": 0.5846154093742371
              },
              "boundedTrueNegatives": {
               "value": 617.0
              },
              "boundedTruePositives": {
               "value": 114.0
              },
              "falseNegatives": 81.0,
              "falsePositives": 136.0,
              "precision": 0.4560000002384186,
              "recall": 0.5846154093742371,
              "tDistributionFalseNegatives": {
               "unsampledValue": 81.0
              },
              "tDistributionFalsePositives": {
               "unsampledValue": 136.0
              },
              "tDistributionPrecision": {
               "unsampledValue": 0.4560000002384186
              },
              "tDistributionRecall": {
               "unsampledValue": 0.5846154093742371
              },
              "tDistributionTrueNegatives": {
               "unsampledValue": 617.0
              },
              "tDistributionTruePositives": {
               "unsampledValue": 114.0
              },
              "threshold": 0.699999988079071,
              "trueNegatives": 617.0,
              "truePositives": 114.0
             },
             {
              "boundedFalseNegatives": {
               "value": 159.0
              },
              "boundedFalsePositives": {
               "value": 18.0
              },
              "boundedPrecision": {
               "value": 0.6666666865348816
              },
              "boundedRecall": {
               "value": 0.1846153885126114
              },
              "boundedTrueNegatives": {
               "value": 735.0
              },
              "boundedTruePositives": {
               "value": 36.0
              },
              "falseNegatives": 159.0,
              "falsePositives": 18.0,
              "precision": 0.6666666865348816,
              "recall": 0.1846153885126114,
              "tDistributionFalseNegatives": {
               "unsampledValue": 159.0
              },
              "tDistributionFalsePositives": {
               "unsampledValue": 18.0
              },
              "tDistributionPrecision": {
               "unsampledValue": 0.6666666865348816
              },
              "tDistributionRecall": {
               "unsampledValue": 0.1846153885126114
              },
              "tDistributionTrueNegatives": {
               "unsampledValue": 735.0
              },
              "tDistributionTruePositives": {
               "unsampledValue": 36.0
              },
              "threshold": 0.8999999761581421,
              "trueNegatives": 735.0,
              "truePositives": 36.0
             }
            ]
           }
          },
          "post_export_metrics/false_discovery_rate@0.10": {
           "doubleValue": 0.7821670174598694
          },
          "post_export_metrics/false_discovery_rate@0.30": {
           "doubleValue": 0.7316715717315674
          },
          "post_export_metrics/false_discovery_rate@0.50": {
           "doubleValue": 0.6666666865348816
          },
          "post_export_metrics/false_discovery_rate@0.70": {
           "doubleValue": 0.5440000295639038
          },
          "post_export_metrics/false_discovery_rate@0.90": {
           "doubleValue": 0.3333333432674408
          },
          "post_export_metrics/false_negative_rate@0.10": {
           "doubleValue": 0.010256410576403141
          },
          "post_export_metrics/false_negative_rate@0.30": {
           "doubleValue": 0.0615384615957737
          },
          "post_export_metrics/false_negative_rate@0.50": {
           "doubleValue": 0.20000000298023224
          },
          "post_export_metrics/false_negative_rate@0.70": {
           "doubleValue": 0.4153846204280853
          },
          "post_export_metrics/false_negative_rate@0.90": {
           "doubleValue": 0.8153846263885498
          },
          "post_export_metrics/false_omission_rate@0.10": {
           "doubleValue": 0.032258063554763794
          },
          "post_export_metrics/false_omission_rate@0.30": {
           "doubleValue": 0.04511278122663498
          },
          "post_export_metrics/false_omission_rate@0.50": {
           "doubleValue": 0.08124999701976776
          },
          "post_export_metrics/false_omission_rate@0.70": {
           "doubleValue": 0.11604584753513336
          },
          "post_export_metrics/false_omission_rate@0.90": {
           "doubleValue": 0.1778523474931717
          },
          "post_export_metrics/false_positive_rate@0.10": {
           "doubleValue": 0.9203187227249146
          },
          "post_export_metrics/false_positive_rate@0.30": {
           "doubleValue": 0.6626825928688049
          },
          "post_export_metrics/false_positive_rate@0.50": {
           "doubleValue": 0.41434264183044434
          },
          "post_export_metrics/false_positive_rate@0.70": {
           "doubleValue": 0.18061089515686035
          },
          "post_export_metrics/false_positive_rate@0.90": {
           "doubleValue": 0.023904383182525635
          },
          "post_export_metrics/negative_rate@0.10": {
           "doubleValue": 0.06540084630250931
          },
          "post_export_metrics/negative_rate@0.30": {
           "doubleValue": 0.2805907130241394
          },
          "post_export_metrics/negative_rate@0.50": {
           "doubleValue": 0.5063291192054749
          },
          "post_export_metrics/negative_rate@0.70": {
           "doubleValue": 0.7362869381904602
          },
          "post_export_metrics/negative_rate@0.90": {
           "doubleValue": 0.9430379867553711
          },
          "post_export_metrics/positive_rate@0.10": {
           "doubleValue": 0.9345991611480713
          },
          "post_export_metrics/positive_rate@0.30": {
           "doubleValue": 0.7194092869758606
          },
          "post_export_metrics/positive_rate@0.50": {
           "doubleValue": 0.49367088079452515
          },
          "post_export_metrics/positive_rate@0.70": {
           "doubleValue": 0.2637130916118622
          },
          "post_export_metrics/positive_rate@0.90": {
           "doubleValue": 0.0569620244204998
          },
          "post_export_metrics/true_negative_rate@0.10": {
           "doubleValue": 0.07968127727508545
          },
          "post_export_metrics/true_negative_rate@0.30": {
           "doubleValue": 0.33731740713119507
          },
          "post_export_metrics/true_negative_rate@0.50": {
           "doubleValue": 0.5856573581695557
          },
          "post_export_metrics/true_negative_rate@0.70": {
           "doubleValue": 0.8193891048431396
          },
          "post_export_metrics/true_negative_rate@0.90": {
           "doubleValue": 0.9760956168174744
          },
          "post_export_metrics/true_positive_rate@0.10": {
           "doubleValue": 0.9897435903549194
          },
          "post_export_metrics/true_positive_rate@0.30": {
           "doubleValue": 0.9384615421295166
          },
          "post_export_metrics/true_positive_rate@0.50": {
           "doubleValue": 0.800000011920929
          },
          "post_export_metrics/true_positive_rate@0.70": {
           "doubleValue": 0.5846154093742371
          },
          "post_export_metrics/true_positive_rate@0.90": {
           "doubleValue": 0.1846153885126114
          },
          "precision": {
           "doubleValue": 0.3333333432674408
          },
          "prediction/mean": {
           "doubleValue": 0.492001473903656
          },
          "recall": {
           "doubleValue": 0.800000011920929
          }
         },
         "slice": "gender:transgender",
         "sliceValue": "transgender"
        },
        {
         "metrics": {
          "accuracy": {
           "doubleValue": 0.8333333134651184
          },
          "accuracy_baseline": {
           "doubleValue": 0.6666666269302368
          },
          "auc": {
           "doubleValue": 0.8749998807907104
          },
          "auc_precision_recall": {
           "doubleValue": 0.7916663289070129
          },
          "average_loss": {
           "doubleValue": 0.505406379699707
          },
          "label/mean": {
           "doubleValue": 0.3333333432674408
          },
          "post_export_metrics/example_count": {
           "doubleValue": 6.0
          },
          "post_export_metrics/fairness/confusion_matrix_at_thresholds": {
           "confusionMatrixAtThresholds": {
            "matrices": [
             {
              "boundedFalseNegatives": {
               "value": 0.0
              },
              "boundedFalsePositives": {
               "value": 3.0
              },
              "boundedPrecision": {
               "value": 0.4000000059604645
              },
              "boundedRecall": {
               "value": 1.0
              },
              "boundedTrueNegatives": {
               "value": 1.0
              },
              "boundedTruePositives": {
               "value": 2.0
              },
              "falsePositives": 3.0,
              "precision": 0.4000000059604645,
              "recall": 1.0,
              "tDistributionFalseNegatives": {
               "unsampledValue": 0.0
              },
              "tDistributionFalsePositives": {
               "unsampledValue": 3.0
              },
              "tDistributionPrecision": {
               "unsampledValue": 0.4000000059604645
              },
              "tDistributionRecall": {
               "unsampledValue": 1.0
              },
              "tDistributionTrueNegatives": {
               "unsampledValue": 1.0
              },
              "tDistributionTruePositives": {
               "unsampledValue": 2.0
              },
              "threshold": 0.10000000149011612,
              "trueNegatives": 1.0,
              "truePositives": 2.0
             },
             {
              "boundedFalseNegatives": {
               "value": 0.0
              },
              "boundedFalsePositives": {
               "value": 2.0
              },
              "boundedPrecision": {
               "value": 0.5
              },
              "boundedRecall": {
               "value": 1.0
              },
              "boundedTrueNegatives": {
               "value": 2.0
              },
              "boundedTruePositives": {
               "value": 2.0
              },
              "falsePositives": 2.0,
              "precision": 0.5,
              "recall": 1.0,
              "tDistributionFalseNegatives": {
               "unsampledValue": 0.0
              },
              "tDistributionFalsePositives": {
               "unsampledValue": 2.0
              },
              "tDistributionPrecision": {
               "unsampledValue": 0.5
              },
              "tDistributionRecall": {
               "unsampledValue": 1.0
              },
              "tDistributionTrueNegatives": {
               "unsampledValue": 2.0
              },
              "tDistributionTruePositives": {
               "unsampledValue": 2.0
              },
              "threshold": 0.30000001192092896,
              "trueNegatives": 2.0,
              "truePositives": 2.0
             },
             {
              "boundedFalseNegatives": {
               "value": 0.0
              },
              "boundedFalsePositives": {
               "value": 1.0
              },
              "boundedPrecision": {
               "value": 0.6666666865348816
              },
              "boundedRecall": {
               "value": 1.0
              },
              "boundedTrueNegatives": {
               "value": 3.0
              },
              "boundedTruePositives": {
               "value": 2.0
              },
              "falsePositives": 1.0,
              "precision": 0.6666666865348816,
              "recall": 1.0,
              "tDistributionFalseNegatives": {
               "unsampledValue": 0.0
              },
              "tDistributionFalsePositives": {
               "unsampledValue": 1.0
              },
              "tDistributionPrecision": {
               "unsampledValue": 0.6666666865348816
              },
              "tDistributionRecall": {
               "unsampledValue": 1.0
              },
              "tDistributionTrueNegatives": {
               "unsampledValue": 3.0
              },
              "tDistributionTruePositives": {
               "unsampledValue": 2.0
              },
              "threshold": 0.5,
              "trueNegatives": 3.0,
              "truePositives": 2.0
             },
             {
              "boundedFalseNegatives": {
               "value": 1.0
              },
              "boundedFalsePositives": {
               "value": 1.0
              },
              "boundedPrecision": {
               "value": 0.5
              },
              "boundedRecall": {
               "value": 0.5
              },
              "boundedTrueNegatives": {
               "value": 3.0
              },
              "boundedTruePositives": {
               "value": 1.0
              },
              "falseNegatives": 1.0,
              "falsePositives": 1.0,
              "precision": 0.5,
              "recall": 0.5,
              "tDistributionFalseNegatives": {
               "unsampledValue": 1.0
              },
              "tDistributionFalsePositives": {
               "unsampledValue": 1.0
              },
              "tDistributionPrecision": {
               "unsampledValue": 0.5
              },
              "tDistributionRecall": {
               "unsampledValue": 0.5
              },
              "tDistributionTrueNegatives": {
               "unsampledValue": 3.0
              },
              "tDistributionTruePositives": {
               "unsampledValue": 1.0
              },
              "threshold": 0.699999988079071,
              "trueNegatives": 3.0,
              "truePositives": 1.0
             },
             {
              "boundedFalseNegatives": {
               "value": 1.0
              },
              "boundedFalsePositives": {
               "value": 0.0
              },
              "boundedPrecision": {
               "value": 1.0
              },
              "boundedRecall": {
               "value": 0.5
              },
              "boundedTrueNegatives": {
               "value": 4.0
              },
              "boundedTruePositives": {
               "value": 1.0
              },
              "falseNegatives": 1.0,
              "precision": 1.0,
              "recall": 0.5,
              "tDistributionFalseNegatives": {
               "unsampledValue": 1.0
              },
              "tDistributionFalsePositives": {
               "unsampledValue": 0.0
              },
              "tDistributionPrecision": {
               "unsampledValue": 1.0
              },
              "tDistributionRecall": {
               "unsampledValue": 0.5
              },
              "tDistributionTrueNegatives": {
               "unsampledValue": 4.0
              },
              "tDistributionTruePositives": {
               "unsampledValue": 1.0
              },
              "threshold": 0.8999999761581421,
              "trueNegatives": 4.0,
              "truePositives": 1.0
             }
            ]
           }
          },
          "post_export_metrics/false_discovery_rate@0.10": {
           "doubleValue": 0.6000000238418579
          },
          "post_export_metrics/false_discovery_rate@0.30": {
           "doubleValue": 0.5
          },
          "post_export_metrics/false_discovery_rate@0.50": {
           "doubleValue": 0.3333333432674408
          },
          "post_export_metrics/false_discovery_rate@0.70": {
           "doubleValue": 0.5
          },
          "post_export_metrics/false_discovery_rate@0.90": {
           "doubleValue": 0.0
          },
          "post_export_metrics/false_negative_rate@0.10": {
           "doubleValue": 0.0
          },
          "post_export_metrics/false_negative_rate@0.30": {
           "doubleValue": 0.0
          },
          "post_export_metrics/false_negative_rate@0.50": {
           "doubleValue": 0.0
          },
          "post_export_metrics/false_negative_rate@0.70": {
           "doubleValue": 0.5
          },
          "post_export_metrics/false_negative_rate@0.90": {
           "doubleValue": 0.5
          },
          "post_export_metrics/false_omission_rate@0.10": {
           "doubleValue": 0.0
          },
          "post_export_metrics/false_omission_rate@0.30": {
           "doubleValue": 0.0
          },
          "post_export_metrics/false_omission_rate@0.50": {
           "doubleValue": 0.0
          },
          "post_export_metrics/false_omission_rate@0.70": {
           "doubleValue": 0.25
          },
          "post_export_metrics/false_omission_rate@0.90": {
           "doubleValue": 0.20000000298023224
          },
          "post_export_metrics/false_positive_rate@0.10": {
           "doubleValue": 0.75
          },
          "post_export_metrics/false_positive_rate@0.30": {
           "doubleValue": 0.5
          },
          "post_export_metrics/false_positive_rate@0.50": {
           "doubleValue": 0.25
          },
          "post_export_metrics/false_positive_rate@0.70": {
           "doubleValue": 0.25
          },
          "post_export_metrics/false_positive_rate@0.90": {
           "doubleValue": 0.0
          },
          "post_export_metrics/negative_rate@0.10": {
           "doubleValue": 0.1666666716337204
          },
          "post_export_metrics/negative_rate@0.30": {
           "doubleValue": 0.3333333432674408
          },
          "post_export_metrics/negative_rate@0.50": {
           "doubleValue": 0.5
          },
          "post_export_metrics/negative_rate@0.70": {
           "doubleValue": 0.6666666865348816
          },
          "post_export_metrics/negative_rate@0.90": {
           "doubleValue": 0.8333333134651184
          },
          "post_export_metrics/positive_rate@0.10": {
           "doubleValue": 0.8333333134651184
          },
          "post_export_metrics/positive_rate@0.30": {
           "doubleValue": 0.6666666865348816
          },
          "post_export_metrics/positive_rate@0.50": {
           "doubleValue": 0.5
          },
          "post_export_metrics/positive_rate@0.70": {
           "doubleValue": 0.3333333432674408
          },
          "post_export_metrics/positive_rate@0.90": {
           "doubleValue": 0.1666666716337204
          },
          "post_export_metrics/true_negative_rate@0.10": {
           "doubleValue": 0.25
          },
          "post_export_metrics/true_negative_rate@0.30": {
           "doubleValue": 0.5
          },
          "post_export_metrics/true_negative_rate@0.50": {
           "doubleValue": 0.75
          },
          "post_export_metrics/true_negative_rate@0.70": {
           "doubleValue": 0.75
          },
          "post_export_metrics/true_negative_rate@0.90": {
           "doubleValue": 1.0
          },
          "post_export_metrics/true_positive_rate@0.10": {
           "doubleValue": 1.0
          },
          "post_export_metrics/true_positive_rate@0.30": {
           "doubleValue": 1.0
          },
          "post_export_metrics/true_positive_rate@0.50": {
           "doubleValue": 1.0
          },
          "post_export_metrics/true_positive_rate@0.70": {
           "doubleValue": 0.5
          },
          "post_export_metrics/true_positive_rate@0.90": {
           "doubleValue": 0.5
          },
          "precision": {
           "doubleValue": 0.6666666865348816
          },
          "prediction/mean": {
           "doubleValue": 0.5423787236213684
          },
          "recall": {
           "doubleValue": 1.0
          }
         },
         "slice": "gender:other_gender",
         "sliceValue": "other_gender"
        }
       ],
       "slicingMetricsCompare": []
      }
     },
     "c67d9b7ede644318996ebea33562fe0d": {
      "model_module": "@jupyter-widgets/base",
      "model_module_version": "1.2.0",
      "model_name": "LayoutModel",
      "state": {
       "_model_module": "@jupyter-widgets/base",
       "_model_module_version": "1.2.0",
       "_model_name": "LayoutModel",
       "_view_count": null,
       "_view_module": "@jupyter-widgets/base",
       "_view_module_version": "1.2.0",
       "_view_name": "LayoutView",
       "align_content": null,
       "align_items": null,
       "align_self": null,
       "border": null,
       "bottom": null,
       "display": null,
       "flex": null,
       "flex_flow": null,
       "grid_area": null,
       "grid_auto_columns": null,
       "grid_auto_flow": null,
       "grid_auto_rows": null,
       "grid_column": null,
       "grid_gap": null,
       "grid_row": null,
       "grid_template_areas": null,
       "grid_template_columns": null,
       "grid_template_rows": null,
       "height": null,
       "justify_content": null,
       "justify_items": null,
       "left": null,
       "margin": null,
       "max_height": null,
       "max_width": null,
       "min_height": null,
       "min_width": null,
       "object_fit": null,
       "object_position": null,
       "order": null,
       "overflow": null,
       "overflow_x": null,
       "overflow_y": null,
       "padding": null,
       "right": null,
       "top": null,
       "visibility": null,
       "width": null
      }
     },
     "d1c551eb79024ebebe374a92b93c5052": {
      "model_module": "@jupyter-widgets/base",
      "model_module_version": "1.2.0",
      "model_name": "LayoutModel",
      "state": {
       "_model_module": "@jupyter-widgets/base",
       "_model_module_version": "1.2.0",
       "_model_name": "LayoutModel",
       "_view_count": null,
       "_view_module": "@jupyter-widgets/base",
       "_view_module_version": "1.2.0",
       "_view_name": "LayoutView",
       "align_content": null,
       "align_items": null,
       "align_self": null,
       "border": null,
       "bottom": null,
       "display": null,
       "flex": null,
       "flex_flow": null,
       "grid_area": null,
       "grid_auto_columns": null,
       "grid_auto_flow": null,
       "grid_auto_rows": null,
       "grid_column": null,
       "grid_gap": null,
       "grid_row": null,
       "grid_template_areas": null,
       "grid_template_columns": null,
       "grid_template_rows": null,
       "height": null,
       "justify_content": null,
       "justify_items": null,
       "left": null,
       "margin": null,
       "max_height": null,
       "max_width": null,
       "min_height": null,
       "min_width": null,
       "object_fit": null,
       "object_position": null,
       "order": null,
       "overflow": null,
       "overflow_x": null,
       "overflow_y": null,
       "padding": null,
       "right": null,
       "top": null,
       "visibility": null,
       "width": null
      }
     }
    },
    "version_major": 2,
    "version_minor": 0
   }
  }
 },
 "nbformat": 4,
 "nbformat_minor": 0
}
