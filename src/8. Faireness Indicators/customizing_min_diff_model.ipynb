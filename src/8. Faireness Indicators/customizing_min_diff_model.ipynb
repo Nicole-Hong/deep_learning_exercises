{
 "cells": [
  {
   "cell_type": "markdown",
   "metadata": {
    "id": "ovuaMP69GhTw"
   },
   "source": [
    "##### Copyright 2020 The TensorFlow Authors."
   ]
  },
  {
   "cell_type": "code",
   "execution_count": 1,
   "metadata": {
    "cellView": "form",
    "execution": {
     "iopub.execute_input": "2022-04-01T00:05:50.361383Z",
     "iopub.status.busy": "2022-04-01T00:05:50.361161Z",
     "iopub.status.idle": "2022-04-01T00:05:50.364941Z",
     "shell.execute_reply": "2022-04-01T00:05:50.364413Z"
    },
    "id": "2SPjdj3XGwrO"
   },
   "outputs": [],
   "source": [
    "#@title Licensed under the Apache License, Version 2.0 (the \"License\");\n",
    "# you may not use this file except in compliance with the License.\n",
    "# You may obtain a copy of the License at\n",
    "#\n",
    "# https://www.apache.org/licenses/LICENSE-2.0\n",
    "#\n",
    "# Unless required by applicable law or agreed to in writing, software\n",
    "# distributed under the License is distributed on an \"AS IS\" BASIS,\n",
    "# WITHOUT WARRANTIES OR CONDITIONS OF ANY KIND, either express or implied.\n",
    "# See the License for the specific language governing permissions and\n",
    "# limitations under the License."
   ]
  },
  {
   "cell_type": "markdown",
   "metadata": {
    "id": "SdAOaOmwHEjq"
   },
   "source": [
    "# Customizing MinDiffModel\n",
    "\n",
    "<div class=\"devsite-table-wrapper\"><table class=\"tfo-notebook-buttons\" align=\"left\">\n",
    "  <td><a target=\"_blank\" href=\"https://www.tensorflow.org/responsible_ai/model_remediation/min_diff/guide/customizing_min_diff_model\">\n",
    "  <img src=\"https://www.tensorflow.org/images/tf_logo_32px.png\" />View on TensorFlow.org</a>\n",
    "</td>\n",
    "<td>\n",
    "  <a target=\"_blank\" href=\"https://colab.research.google.com/github/tensorflow/model-remediation/blob/master/docs/min_diff/guide/customizing_min_diff_model.ipynb\">\n",
    "  <img src=\"https://www.tensorflow.org/images/colab_logo_32px.png\">Run in Google Colab</a>\n",
    "</td>\n",
    "<td>\n",
    "  <a target=\"_blank\" href=\"https://github.com/tensorflow/model-remediation/blob/master/docs/min_diff/guide/customizing_min_diff_model.ipynb\">\n",
    "  <img width=32px src=\"https://www.tensorflow.org/images/GitHub-Mark-32px.png\">View source on GitHub</a>\n",
    "</td>\n",
    "<td>\n",
    "  <a target=\"_blank\" href=\"https://storage.googleapis.com/tensorflow_docs/model-remediation/docs/min_diff/guide/customizing_min_diff_model.ipynb\"><img src=\"https://www.tensorflow.org/images/download_logo_32px.png\" />Download notebook</a>\n",
    "</td>\n",
    "</table></div>"
   ]
  },
  {
   "cell_type": "markdown",
   "metadata": {
    "id": "qfWz3dWyMjyw"
   },
   "source": [
    "##Introduction\n",
    "\n",
    "In most cases, using `MinDiffModel` directly as described in the [\"Integrating MinDiff with MinDiffModel\" guide](./integrating_min_diff_with_min_diff_model) is sufficient. However, it is possible that you will need customized behavior. The two primary reasons for this are:\n",
    "\n",
    "*   The `keras.Model` you are using has custom behavior that you want to preserve.\n",
    "*   You want the `MinDiffModel` to behave differently from the default.\n",
    "\n",
    "In either case, you will need to subclass `MinDiffModel` to achieve the desired results."
   ]
  },
  {
   "cell_type": "markdown",
   "metadata": {
    "id": "X0KEthjiwvwg"
   },
   "source": [
    "##Setup"
   ]
  },
  {
   "cell_type": "code",
   "execution_count": 2,
   "metadata": {
    "execution": {
     "iopub.execute_input": "2022-04-01T00:05:50.368097Z",
     "iopub.status.busy": "2022-04-01T00:05:50.367665Z",
     "iopub.status.idle": "2022-04-01T00:05:52.052811Z",
     "shell.execute_reply": "2022-04-01T00:05:52.052186Z"
    },
    "id": "kmAHyZt9TErX"
   },
   "outputs": [
    {
     "name": "stdout",
     "output_type": "stream",
     "text": [
      "Collecting tensorflow-model-remediation\r\n",
      "  Using cached tensorflow_model_remediation-0.1.6-py3-none-any.whl (96 kB)\r\n",
      "Requirement already satisfied: tensorflow>=2.0.0 in /tmpfs/src/tf_docs_env/lib/python3.7/site-packages (from tensorflow-model-remediation) (2.8.0)\r\n",
      "Requirement already satisfied: dill in /tmpfs/src/tf_docs_env/lib/python3.7/site-packages (from tensorflow-model-remediation) (0.3.4)\r\n",
      "Requirement already satisfied: pandas in /tmpfs/src/tf_docs_env/lib/python3.7/site-packages (from tensorflow-model-remediation) (1.3.5)\r\n",
      "Requirement already satisfied: tensorflow-hub in /tmpfs/src/tf_docs_env/lib/python3.7/site-packages (from tensorflow-model-remediation) (0.12.0)\r\n"
     ]
    },
    {
     "name": "stdout",
     "output_type": "stream",
     "text": [
      "Collecting mock\r\n",
      "  Using cached mock-4.0.3-py3-none-any.whl (28 kB)\r\n",
      "Requirement already satisfied: setuptools in /tmpfs/src/tf_docs_env/lib/python3.7/site-packages (from tensorflow>=2.0.0->tensorflow-model-remediation) (61.3.0)\r\n",
      "Requirement already satisfied: tf-estimator-nightly==2.8.0.dev2021122109 in /tmpfs/src/tf_docs_env/lib/python3.7/site-packages (from tensorflow>=2.0.0->tensorflow-model-remediation) (2.8.0.dev2021122109)\r\n",
      "Requirement already satisfied: numpy>=1.20 in /tmpfs/src/tf_docs_env/lib/python3.7/site-packages (from tensorflow>=2.0.0->tensorflow-model-remediation) (1.21.5)\r\n",
      "Requirement already satisfied: keras<2.9,>=2.8.0rc0 in /tmpfs/src/tf_docs_env/lib/python3.7/site-packages (from tensorflow>=2.0.0->tensorflow-model-remediation) (2.8.0)\r\n",
      "Requirement already satisfied: gast>=0.2.1 in /tmpfs/src/tf_docs_env/lib/python3.7/site-packages (from tensorflow>=2.0.0->tensorflow-model-remediation) (0.5.3)\r\n",
      "Requirement already satisfied: grpcio<2.0,>=1.24.3 in /tmpfs/src/tf_docs_env/lib/python3.7/site-packages (from tensorflow>=2.0.0->tensorflow-model-remediation) (1.45.0rc1)\r\n",
      "Requirement already satisfied: termcolor>=1.1.0 in /tmpfs/src/tf_docs_env/lib/python3.7/site-packages (from tensorflow>=2.0.0->tensorflow-model-remediation) (1.1.0)\r\n",
      "Requirement already satisfied: absl-py>=0.4.0 in /tmpfs/src/tf_docs_env/lib/python3.7/site-packages (from tensorflow>=2.0.0->tensorflow-model-remediation) (1.0.0)\r\n",
      "Requirement already satisfied: flatbuffers>=1.12 in /tmpfs/src/tf_docs_env/lib/python3.7/site-packages (from tensorflow>=2.0.0->tensorflow-model-remediation) (2.0)\r\n",
      "Requirement already satisfied: google-pasta>=0.1.1 in /tmpfs/src/tf_docs_env/lib/python3.7/site-packages (from tensorflow>=2.0.0->tensorflow-model-remediation) (0.2.0)\r\n",
      "Requirement already satisfied: opt-einsum>=2.3.2 in /tmpfs/src/tf_docs_env/lib/python3.7/site-packages (from tensorflow>=2.0.0->tensorflow-model-remediation) (3.3.0)\r\n",
      "Requirement already satisfied: six>=1.12.0 in /tmpfs/src/tf_docs_env/lib/python3.7/site-packages (from tensorflow>=2.0.0->tensorflow-model-remediation) (1.16.0)\r\n",
      "Requirement already satisfied: astunparse>=1.6.0 in /tmpfs/src/tf_docs_env/lib/python3.7/site-packages (from tensorflow>=2.0.0->tensorflow-model-remediation) (1.6.3)\r\n",
      "Requirement already satisfied: libclang>=9.0.1 in /tmpfs/src/tf_docs_env/lib/python3.7/site-packages (from tensorflow>=2.0.0->tensorflow-model-remediation) (13.0.0)\r\n"
     ]
    },
    {
     "name": "stdout",
     "output_type": "stream",
     "text": [
      "Requirement already satisfied: h5py>=2.9.0 in /tmpfs/src/tf_docs_env/lib/python3.7/site-packages (from tensorflow>=2.0.0->tensorflow-model-remediation) (3.6.0)\r\n",
      "Requirement already satisfied: wrapt>=1.11.0 in /tmpfs/src/tf_docs_env/lib/python3.7/site-packages (from tensorflow>=2.0.0->tensorflow-model-remediation) (1.14.0)\r\n",
      "Requirement already satisfied: tensorflow-io-gcs-filesystem>=0.23.1 in /tmpfs/src/tf_docs_env/lib/python3.7/site-packages (from tensorflow>=2.0.0->tensorflow-model-remediation) (0.24.0)\r\n",
      "Requirement already satisfied: tensorboard<2.9,>=2.8 in /tmpfs/src/tf_docs_env/lib/python3.7/site-packages (from tensorflow>=2.0.0->tensorflow-model-remediation) (2.8.0)\r\n",
      "Requirement already satisfied: typing-extensions>=3.6.6 in /tmpfs/src/tf_docs_env/lib/python3.7/site-packages (from tensorflow>=2.0.0->tensorflow-model-remediation) (4.1.1)\r\n",
      "Requirement already satisfied: keras-preprocessing>=1.1.1 in /tmpfs/src/tf_docs_env/lib/python3.7/site-packages (from tensorflow>=2.0.0->tensorflow-model-remediation) (1.1.2)\r\n",
      "Requirement already satisfied: protobuf>=3.9.2 in /tmpfs/src/tf_docs_env/lib/python3.7/site-packages (from tensorflow>=2.0.0->tensorflow-model-remediation) (3.20.0rc2)\r\n",
      "Requirement already satisfied: pytz>=2017.3 in /tmpfs/src/tf_docs_env/lib/python3.7/site-packages (from pandas->tensorflow-model-remediation) (2022.1)\r\n",
      "Requirement already satisfied: python-dateutil>=2.7.3 in /tmpfs/src/tf_docs_env/lib/python3.7/site-packages (from pandas->tensorflow-model-remediation) (2.8.2)\r\n",
      "Requirement already satisfied: wheel<1.0,>=0.23.0 in /tmpfs/src/tf_docs_env/lib/python3.7/site-packages (from astunparse>=1.6.0->tensorflow>=2.0.0->tensorflow-model-remediation) (0.37.1)\r\n",
      "Requirement already satisfied: cached-property in /tmpfs/src/tf_docs_env/lib/python3.7/site-packages (from h5py>=2.9.0->tensorflow>=2.0.0->tensorflow-model-remediation) (1.5.2)\r\n"
     ]
    },
    {
     "name": "stdout",
     "output_type": "stream",
     "text": [
      "Requirement already satisfied: markdown>=2.6.8 in /tmpfs/src/tf_docs_env/lib/python3.7/site-packages (from tensorboard<2.9,>=2.8->tensorflow>=2.0.0->tensorflow-model-remediation) (3.3.6)\r\n",
      "Requirement already satisfied: google-auth-oauthlib<0.5,>=0.4.1 in /tmpfs/src/tf_docs_env/lib/python3.7/site-packages (from tensorboard<2.9,>=2.8->tensorflow>=2.0.0->tensorflow-model-remediation) (0.4.6)\r\n",
      "Requirement already satisfied: werkzeug>=0.11.15 in /tmpfs/src/tf_docs_env/lib/python3.7/site-packages (from tensorboard<2.9,>=2.8->tensorflow>=2.0.0->tensorflow-model-remediation) (2.1.0)\r\n",
      "Requirement already satisfied: tensorboard-plugin-wit>=1.6.0 in /tmpfs/src/tf_docs_env/lib/python3.7/site-packages (from tensorboard<2.9,>=2.8->tensorflow>=2.0.0->tensorflow-model-remediation) (1.8.1)\r\n",
      "Requirement already satisfied: requests<3,>=2.21.0 in /tmpfs/src/tf_docs_env/lib/python3.7/site-packages (from tensorboard<2.9,>=2.8->tensorflow>=2.0.0->tensorflow-model-remediation) (2.27.1)\r\n",
      "Requirement already satisfied: tensorboard-data-server<0.7.0,>=0.6.0 in /tmpfs/src/tf_docs_env/lib/python3.7/site-packages (from tensorboard<2.9,>=2.8->tensorflow>=2.0.0->tensorflow-model-remediation) (0.6.1)\r\n",
      "Requirement already satisfied: google-auth<3,>=1.6.3 in /tmpfs/src/tf_docs_env/lib/python3.7/site-packages (from tensorboard<2.9,>=2.8->tensorflow>=2.0.0->tensorflow-model-remediation) (2.6.2)\r\n"
     ]
    },
    {
     "name": "stdout",
     "output_type": "stream",
     "text": [
      "Requirement already satisfied: cachetools<6.0,>=2.0.0 in /tmpfs/src/tf_docs_env/lib/python3.7/site-packages (from google-auth<3,>=1.6.3->tensorboard<2.9,>=2.8->tensorflow>=2.0.0->tensorflow-model-remediation) (5.0.0)\r\n",
      "Requirement already satisfied: rsa<5,>=3.1.4 in /tmpfs/src/tf_docs_env/lib/python3.7/site-packages (from google-auth<3,>=1.6.3->tensorboard<2.9,>=2.8->tensorflow>=2.0.0->tensorflow-model-remediation) (4.8)\r\n",
      "Requirement already satisfied: pyasn1-modules>=0.2.1 in /tmpfs/src/tf_docs_env/lib/python3.7/site-packages (from google-auth<3,>=1.6.3->tensorboard<2.9,>=2.8->tensorflow>=2.0.0->tensorflow-model-remediation) (0.2.8)\r\n",
      "Requirement already satisfied: requests-oauthlib>=0.7.0 in /tmpfs/src/tf_docs_env/lib/python3.7/site-packages (from google-auth-oauthlib<0.5,>=0.4.1->tensorboard<2.9,>=2.8->tensorflow>=2.0.0->tensorflow-model-remediation) (1.3.1)\r\n",
      "Requirement already satisfied: importlib-metadata>=4.4 in /tmpfs/src/tf_docs_env/lib/python3.7/site-packages (from markdown>=2.6.8->tensorboard<2.9,>=2.8->tensorflow>=2.0.0->tensorflow-model-remediation) (4.11.3)\r\n"
     ]
    },
    {
     "name": "stdout",
     "output_type": "stream",
     "text": [
      "Requirement already satisfied: idna<4,>=2.5 in /tmpfs/src/tf_docs_env/lib/python3.7/site-packages (from requests<3,>=2.21.0->tensorboard<2.9,>=2.8->tensorflow>=2.0.0->tensorflow-model-remediation) (3.3)\r\n",
      "Requirement already satisfied: charset-normalizer~=2.0.0 in /tmpfs/src/tf_docs_env/lib/python3.7/site-packages (from requests<3,>=2.21.0->tensorboard<2.9,>=2.8->tensorflow>=2.0.0->tensorflow-model-remediation) (2.0.12)\r\n",
      "Requirement already satisfied: urllib3<1.27,>=1.21.1 in /tmpfs/src/tf_docs_env/lib/python3.7/site-packages (from requests<3,>=2.21.0->tensorboard<2.9,>=2.8->tensorflow>=2.0.0->tensorflow-model-remediation) (1.26.9)\r\n",
      "Requirement already satisfied: certifi>=2017.4.17 in /tmpfs/src/tf_docs_env/lib/python3.7/site-packages (from requests<3,>=2.21.0->tensorboard<2.9,>=2.8->tensorflow>=2.0.0->tensorflow-model-remediation) (2021.10.8)\r\n"
     ]
    },
    {
     "name": "stdout",
     "output_type": "stream",
     "text": [
      "Requirement already satisfied: zipp>=0.5 in /tmpfs/src/tf_docs_env/lib/python3.7/site-packages (from importlib-metadata>=4.4->markdown>=2.6.8->tensorboard<2.9,>=2.8->tensorflow>=2.0.0->tensorflow-model-remediation) (3.7.0)\r\n",
      "Requirement already satisfied: pyasn1<0.5.0,>=0.4.6 in /tmpfs/src/tf_docs_env/lib/python3.7/site-packages (from pyasn1-modules>=0.2.1->google-auth<3,>=1.6.3->tensorboard<2.9,>=2.8->tensorflow>=2.0.0->tensorflow-model-remediation) (0.4.8)\r\n",
      "Requirement already satisfied: oauthlib>=3.0.0 in /tmpfs/src/tf_docs_env/lib/python3.7/site-packages (from requests-oauthlib>=0.7.0->google-auth-oauthlib<0.5,>=0.4.1->tensorboard<2.9,>=2.8->tensorflow>=2.0.0->tensorflow-model-remediation) (3.2.0)\r\n"
     ]
    },
    {
     "name": "stdout",
     "output_type": "stream",
     "text": [
      "Installing collected packages: mock, tensorflow-model-remediation\r\n"
     ]
    },
    {
     "name": "stdout",
     "output_type": "stream",
     "text": [
      "Successfully installed mock-4.0.3 tensorflow-model-remediation-0.1.6\r\n"
     ]
    }
   ],
   "source": [
    "!pip install --upgrade tensorflow-model-remediation"
   ]
  },
  {
   "cell_type": "code",
   "execution_count": 3,
   "metadata": {
    "execution": {
     "iopub.execute_input": "2022-04-01T00:05:52.056750Z",
     "iopub.status.busy": "2022-04-01T00:05:52.056165Z",
     "iopub.status.idle": "2022-04-01T00:05:53.886162Z",
     "shell.execute_reply": "2022-04-01T00:05:53.885580Z"
    },
    "id": "XRa49AkYS6n1"
   },
   "outputs": [],
   "source": [
    "import tensorflow as tf\n",
    "tf.get_logger().setLevel('ERROR')  # Avoid TF warnings.\n",
    "from tensorflow_model_remediation import min_diff\n",
    "from tensorflow_model_remediation.tools.tutorials_utils import uci as tutorials_utils"
   ]
  },
  {
   "cell_type": "markdown",
   "metadata": {
    "id": "SIKBbSGZQvBt"
   },
   "source": [
    "First, download the data. For succinctness, the input preparation logic has been factored out into helper functions as described in the [input preparation guide](./min_diff_data_preparation#utility_functions_for_other_guides). You can read the full guide for details on this process."
   ]
  },
  {
   "cell_type": "code",
   "execution_count": 4,
   "metadata": {
    "execution": {
     "iopub.execute_input": "2022-04-01T00:05:53.890305Z",
     "iopub.status.busy": "2022-04-01T00:05:53.889701Z",
     "iopub.status.idle": "2022-04-01T00:05:56.606906Z",
     "shell.execute_reply": "2022-04-01T00:05:56.606313Z"
    },
    "id": "Yhbj5eqLQpzC"
   },
   "outputs": [],
   "source": [
    "# Original Dataset for training, sampled at 0.3 for reduced runtimes.\n",
    "train_df = tutorials_utils.get_uci_data(split='train', sample=0.3)\n",
    "train_ds = tutorials_utils.df_to_dataset(train_df, batch_size=128)\n",
    "\n",
    "# Dataset needed to train with MinDiff.\n",
    "train_with_min_diff_ds = (\n",
    "    tutorials_utils.get_uci_with_min_diff_dataset(split='train', sample=0.3))"
   ]
  },
  {
   "cell_type": "markdown",
   "metadata": {
    "id": "M5UY0aDskbsO"
   },
   "source": [
    "## Preserving Original Model Customizations\n",
    "\n",
    "`tf.keras.Model` is designed to be easily customized via subclassing as described [here](https://www.tensorflow.org/guide/keras/custom_layers_and_models#the_model_class). If your model has customized implementations that you wish to preserve when applying MinDiff, you will need to subclass `MinDiffModel`."
   ]
  },
  {
   "cell_type": "markdown",
   "metadata": {
    "id": "XPUDWc_ro-sX"
   },
   "source": [
    "### Original Custom Model\n",
    "\n",
    "To see how you can preserve customizations, create a custom model that sets an attribute to `True` when its custom `train_step` is called.  This is not a useful customization but will serve to illustrate behavior.\n"
   ]
  },
  {
   "cell_type": "code",
   "execution_count": 5,
   "metadata": {
    "execution": {
     "iopub.execute_input": "2022-04-01T00:05:56.610587Z",
     "iopub.status.busy": "2022-04-01T00:05:56.610174Z",
     "iopub.status.idle": "2022-04-01T00:05:56.613873Z",
     "shell.execute_reply": "2022-04-01T00:05:56.613324Z"
    },
    "id": "EowVwf79pE7j"
   },
   "outputs": [],
   "source": [
    "class CustomModel(tf.keras.Model):\n",
    "\n",
    "  # Customized train_step\n",
    "  def train_step(self, *args, **kwargs):\n",
    "    self.used_custom_train_step = True  # Marker that we can check for.\n",
    "    return super(CustomModel, self).train_step(*args, **kwargs)"
   ]
  },
  {
   "cell_type": "markdown",
   "metadata": {
    "id": "jdeDa67XbNiv"
   },
   "source": [
    "Training such a model would look the same as a normal `Sequential` model."
   ]
  },
  {
   "cell_type": "code",
   "execution_count": 6,
   "metadata": {
    "execution": {
     "iopub.execute_input": "2022-04-01T00:05:56.616907Z",
     "iopub.status.busy": "2022-04-01T00:05:56.616402Z",
     "iopub.status.idle": "2022-04-01T00:05:58.231642Z",
     "shell.execute_reply": "2022-04-01T00:05:58.230997Z"
    },
    "id": "9reVfMpvbJGW"
   },
   "outputs": [
    {
     "name": "stdout",
     "output_type": "stream",
     "text": [
      "Model used the custom train_step:\n",
      "True\n"
     ]
    }
   ],
   "source": [
    "model = tutorials_utils.get_uci_model(model_class=CustomModel)  # Use CustomModel.\n",
    "\n",
    "model.compile(optimizer='adam', loss='binary_crossentropy')\n",
    "\n",
    "_ = model.fit(train_ds.take(1), epochs=1, verbose=0)\n",
    "\n",
    "# Model has used the custom train_step.\n",
    "print('Model used the custom train_step:')\n",
    "print(hasattr(model, 'used_custom_train_step'))  # True"
   ]
  },
  {
   "cell_type": "markdown",
   "metadata": {
    "id": "6S19mOvVpDU2"
   },
   "source": [
    "### Subclassing MinDiffModel\n",
    "\n",
    "If you were to try and use `MinDiffModel` directly, the model would not use the custom `train_step`."
   ]
  },
  {
   "cell_type": "code",
   "execution_count": 7,
   "metadata": {
    "execution": {
     "iopub.execute_input": "2022-04-01T00:05:58.234696Z",
     "iopub.status.busy": "2022-04-01T00:05:58.234511Z",
     "iopub.status.idle": "2022-04-01T00:06:01.863708Z",
     "shell.execute_reply": "2022-04-01T00:06:01.863073Z"
    },
    "id": "motiNz_NbGB3"
   },
   "outputs": [
    {
     "name": "stderr",
     "output_type": "stream",
     "text": [
      "2022-04-01 00:06:01.600288: W tensorflow/core/grappler/optimizers/loop_optimizer.cc:907] Skipping loop optimization for Merge node with control input: min_diff_model/mmd_loss_inputs/assert_non_negative/assert_less_equal/Assert/AssertGuard/branch_executed/_8\n"
     ]
    },
    {
     "name": "stdout",
     "output_type": "stream",
     "text": [
      "Model used the custom train_step:\n",
      "False\n"
     ]
    }
   ],
   "source": [
    "model = tutorials_utils.get_uci_model(model_class=CustomModel)\n",
    "model = min_diff.keras.MinDiffModel(model, min_diff.losses.MMDLoss())\n",
    "\n",
    "model.compile(optimizer='adam', loss='binary_crossentropy')\n",
    "\n",
    "_ = model.fit(train_with_min_diff_ds.take(1), epochs=1, verbose=0)\n",
    "\n",
    "# Model has not used the custom train_step.\n",
    "print('Model used the custom train_step:')\n",
    "print(hasattr(model, 'used_custom_train_step'))  # False"
   ]
  },
  {
   "cell_type": "markdown",
   "metadata": {
    "id": "QGZszcNnfWs3"
   },
   "source": [
    "In order to use the correct `train_step` method, you need a custom class that subclasses both `MinDiffModel` and `CustomModel`.\n",
    "\n",
    "Note: Make sure to inherit from `MinDiffModel` first. This is important since you need to make sure that certain functions such as `__init__` and `call` still come from `MinDiffModel`."
   ]
  },
  {
   "cell_type": "code",
   "execution_count": 8,
   "metadata": {
    "execution": {
     "iopub.execute_input": "2022-04-01T00:06:01.867340Z",
     "iopub.status.busy": "2022-04-01T00:06:01.866801Z",
     "iopub.status.idle": "2022-04-01T00:06:01.870292Z",
     "shell.execute_reply": "2022-04-01T00:06:01.869622Z"
    },
    "id": "l5ozMo_gplLP"
   },
   "outputs": [],
   "source": [
    "class CustomMinDiffModel(min_diff.keras.MinDiffModel, CustomModel):\n",
    "  pass  # No need for any further implementation."
   ]
  },
  {
   "cell_type": "markdown",
   "metadata": {
    "id": "ZYy40uGKgAB_"
   },
   "source": [
    "Training this model will use the `train_step` from `CustomModel`."
   ]
  },
  {
   "cell_type": "code",
   "execution_count": 9,
   "metadata": {
    "execution": {
     "iopub.execute_input": "2022-04-01T00:06:01.873295Z",
     "iopub.status.busy": "2022-04-01T00:06:01.872958Z",
     "iopub.status.idle": "2022-04-01T00:06:04.080464Z",
     "shell.execute_reply": "2022-04-01T00:06:04.079803Z"
    },
    "id": "AieekYU4f_D_"
   },
   "outputs": [
    {
     "name": "stderr",
     "output_type": "stream",
     "text": [
      "2022-04-01 00:06:03.809907: W tensorflow/core/grappler/optimizers/loop_optimizer.cc:907] Skipping loop optimization for Merge node with control input: custom_min_diff_model/mmd_loss_inputs/assert_non_negative/assert_less_equal/Assert/AssertGuard/branch_executed/_8\n"
     ]
    },
    {
     "name": "stdout",
     "output_type": "stream",
     "text": [
      "Model used the custom train_step:\n",
      "True\n"
     ]
    }
   ],
   "source": [
    "model = tutorials_utils.get_uci_model(model_class=CustomModel)\n",
    "\n",
    "model = CustomMinDiffModel(model, min_diff.losses.MMDLoss())\n",
    "\n",
    "model.compile(optimizer='adam', loss='binary_crossentropy')\n",
    "\n",
    "_ = model.fit(train_with_min_diff_ds.take(1), epochs=1, verbose=0)\n",
    "\n",
    "# Model has used the custom train_step.\n",
    "print('Model used the custom train_step:')\n",
    "print(hasattr(model, 'used_custom_train_step'))  # True"
   ]
  },
  {
   "cell_type": "markdown",
   "metadata": {
    "id": "x8M1EqzEmIq4"
   },
   "source": [
    "##Customizing default behaviors of `MinDiffModel`\n",
    "\n",
    "In other cases, you may want to change specific default behaviors of `MinDiffModel`. The most common use case of this is changing the default unpacking behavior to properly handle your data if you don't use `pack_min_diff_data`.\n",
    "\n",
    "When packing the data into a custom format, this might appear as follows."
   ]
  },
  {
   "cell_type": "code",
   "execution_count": 10,
   "metadata": {
    "execution": {
     "iopub.execute_input": "2022-04-01T00:06:04.083672Z",
     "iopub.status.busy": "2022-04-01T00:06:04.083191Z",
     "iopub.status.idle": "2022-04-01T00:06:04.319510Z",
     "shell.execute_reply": "2022-04-01T00:06:04.318771Z"
    },
    "id": "-37_74R4jTRN"
   },
   "outputs": [],
   "source": [
    "def _reformat_input(inputs, original_labels):\n",
    "  min_diff_data = min_diff.keras.utils.unpack_min_diff_data(inputs)\n",
    "  original_inputs = min_diff.keras.utils.unpack_original_inputs(inputs)\n",
    "\n",
    "  return ({\n",
    "      'min_diff_data': min_diff_data,\n",
    "      'original_inputs': original_inputs}, original_labels)\n",
    "\n",
    "customized_train_with_min_diff_ds = train_with_min_diff_ds.map(_reformat_input)"
   ]
  },
  {
   "cell_type": "markdown",
   "metadata": {
    "id": "wDHdQXp0v27r"
   },
   "source": [
    "The `customized_train_with_min_diff_ds` dataset returns batches composed of tuples `(x, y)` where `x` is a dict containing `min_diff_data` and `original_inputs` and `y` is the `original_labels`.\n"
   ]
  },
  {
   "cell_type": "code",
   "execution_count": 11,
   "metadata": {
    "execution": {
     "iopub.execute_input": "2022-04-01T00:06:04.323045Z",
     "iopub.status.busy": "2022-04-01T00:06:04.322847Z",
     "iopub.status.idle": "2022-04-01T00:06:04.484674Z",
     "shell.execute_reply": "2022-04-01T00:06:04.484063Z"
    },
    "id": "ch4tJRP1KqwP"
   },
   "outputs": [
    {
     "name": "stdout",
     "output_type": "stream",
     "text": [
      "Type of x: <class 'dict'>\n",
      "Keys of x: dict_keys(['min_diff_data', 'original_inputs'])\n"
     ]
    }
   ],
   "source": [
    "for x, _ in customized_train_with_min_diff_ds.take(1):\n",
    "  print('Type of x:', type(x))  # dict\n",
    "  print('Keys of x:', x.keys())  # 'min_diff_data', 'original_inputs'"
   ]
  },
  {
   "cell_type": "markdown",
   "metadata": {
    "id": "-s8HuF8jKqGK"
   },
   "source": [
    "This data format is not what `MinDiffModel` expects by default and passing `customized_train_with_min_diff_ds` to it would result in unexpected behavior. To fix this you will need to create your own subclass."
   ]
  },
  {
   "cell_type": "code",
   "execution_count": 12,
   "metadata": {
    "execution": {
     "iopub.execute_input": "2022-04-01T00:06:04.488601Z",
     "iopub.status.busy": "2022-04-01T00:06:04.487949Z",
     "iopub.status.idle": "2022-04-01T00:06:04.492130Z",
     "shell.execute_reply": "2022-04-01T00:06:04.491506Z"
    },
    "id": "Nh0v7HA6ipOl"
   },
   "outputs": [],
   "source": [
    "class CustomUnpackingMinDiffModel(min_diff.keras.MinDiffModel):\n",
    "\n",
    "  def unpack_min_diff_data(self, inputs):\n",
    "    return inputs['min_diff_data']\n",
    "\n",
    "  def unpack_original_inputs(self, inputs):\n",
    "    return inputs['original_inputs']\n"
   ]
  },
  {
   "cell_type": "markdown",
   "metadata": {
    "id": "9Mqj2QsLwHic"
   },
   "source": [
    "With this subclass, you can train as with the other examples."
   ]
  },
  {
   "cell_type": "code",
   "execution_count": 13,
   "metadata": {
    "execution": {
     "iopub.execute_input": "2022-04-01T00:06:04.495239Z",
     "iopub.status.busy": "2022-04-01T00:06:04.494725Z",
     "iopub.status.idle": "2022-04-01T00:06:07.176161Z",
     "shell.execute_reply": "2022-04-01T00:06:07.175531Z"
    },
    "id": "yLAfa0HguFWH"
   },
   "outputs": [
    {
     "name": "stderr",
     "output_type": "stream",
     "text": [
      "2022-04-01 00:06:06.510609: W tensorflow/core/grappler/optimizers/loop_optimizer.cc:907] Skipping loop optimization for Merge node with control input: custom_unpacking_min_diff_model/mmd_loss_inputs/assert_non_negative/assert_less_equal/Assert/AssertGuard/branch_executed/_8\n"
     ]
    },
    {
     "name": "stdout",
     "output_type": "stream",
     "text": [
      "\r",
      " 1/36 [..............................] - ETA: 1:03 - loss: 1.3368 - min_diff_loss: 0.0289"
     ]
    },
    {
     "name": "stdout",
     "output_type": "stream",
     "text": [
      "\b\b\b\b\b\b\b\b\b\b\b\b\b\b\b\b\b\b\b\b\b\b\b\b\b\b\b\b\b\b\b\b\b\b\b\b\b\b\b\b\b\b\b\b\b\b\b\b\b\b\b\b\b\b\b\b\b\b\b\b\b\b\b\b\b\b\b\b\b\b\b\b\b\b\b\b\b\b\b\b\b\b\b\b\b\b\b\b\b\r",
      " 6/36 [====>.........................] - ETA: 0s - loss: 0.8272 - min_diff_loss: 0.0388  "
     ]
    },
    {
     "name": "stdout",
     "output_type": "stream",
     "text": [
      "\b\b\b\b\b\b\b\b\b\b\b\b\b\b\b\b\b\b\b\b\b\b\b\b\b\b\b\b\b\b\b\b\b\b\b\b\b\b\b\b\b\b\b\b\b\b\b\b\b\b\b\b\b\b\b\b\b\b\b\b\b\b\b\b\b\b\b\b\b\b\b\b\b\b\b\b\b\b\b\b\b\b\b\b\b\b\b\r",
      "11/36 [========>.....................] - ETA: 0s - loss: 0.7484 - min_diff_loss: 0.0320"
     ]
    },
    {
     "name": "stdout",
     "output_type": "stream",
     "text": [
      "\b\b\b\b\b\b\b\b\b\b\b\b\b\b\b\b\b\b\b\b\b\b\b\b\b\b\b\b\b\b\b\b\b\b\b\b\b\b\b\b\b\b\b\b\b\b\b\b\b\b\b\b\b\b\b\b\b\b\b\b\b\b\b\b\b\b\b\b\b\b\b\b\b\b\b\b\b\b\b\b\b\b\b\b\b\b\b\r",
      "16/36 [============>.................] - ETA: 0s - loss: 0.7075 - min_diff_loss: 0.0374"
     ]
    },
    {
     "name": "stdout",
     "output_type": "stream",
     "text": [
      "\b\b\b\b\b\b\b\b\b\b\b\b\b\b\b\b\b\b\b\b\b\b\b\b\b\b\b\b\b\b\b\b\b\b\b\b\b\b\b\b\b\b\b\b\b\b\b\b\b\b\b\b\b\b\b\b\b\b\b\b\b\b\b\b\b\b\b\b\b\b\b\b\b\b\b\b\b\b\b\b\b\b\b\b\b\b\b\r",
      "21/36 [================>.............] - ETA: 0s - loss: 0.6885 - min_diff_loss: 0.0368"
     ]
    },
    {
     "name": "stdout",
     "output_type": "stream",
     "text": [
      "\b\b\b\b\b\b\b\b\b\b\b\b\b\b\b\b\b\b\b\b\b\b\b\b\b\b\b\b\b\b\b\b\b\b\b\b\b\b\b\b\b\b\b\b\b\b\b\b\b\b\b\b\b\b\b\b\b\b\b\b\b\b\b\b\b\b\b\b\b\b\b\b\b\b\b\b\b\b\b\b\b\b\b\b\b\b\b\r",
      "26/36 [====================>.........] - ETA: 0s - loss: 0.6916 - min_diff_loss: 0.0350"
     ]
    },
    {
     "name": "stdout",
     "output_type": "stream",
     "text": [
      "\b\b\b\b\b\b\b\b\b\b\b\b\b\b\b\b\b\b\b\b\b\b\b\b\b\b\b\b\b\b\b\b\b\b\b\b\b\b\b\b\b\b\b\b\b\b\b\b\b\b\b\b\b\b\b\b\b\b\b\b\b\b\b\b\b\b\b\b\b\b\b\b\b\b\b\b\b\b\b\b\b\b\b\b\b\b\b\r",
      "31/36 [========================>.....] - ETA: 0s - loss: 0.6941 - min_diff_loss: 0.0328"
     ]
    },
    {
     "name": "stdout",
     "output_type": "stream",
     "text": [
      "\b\b\b\b\b\b\b\b\b\b\b\b\b\b\b\b\b\b\b\b\b\b\b\b\b\b\b\b\b\b\b\b\b\b\b\b\b\b\b\b\b\b\b\b\b\b\b\b\b\b\b\b\b\b\b\b\b\b\b\b\b\b\b\b\b\b\b\b\b\b\b\b\b\b\b\b\b\b\b\b\b\b\b\b\b\b\b\r",
      "36/36 [==============================] - ETA: 0s - loss: 0.6951 - min_diff_loss: 0.0322"
     ]
    },
    {
     "name": "stdout",
     "output_type": "stream",
     "text": [
      "\b\b\b\b\b\b\b\b\b\b\b\b\b\b\b\b\b\b\b\b\b\b\b\b\b\b\b\b\b\b\b\b\b\b\b\b\b\b\b\b\b\b\b\b\b\b\b\b\b\b\b\b\b\b\b\b\b\b\b\b\b\b\b\b\b\b\b\b\b\b\b\b\b\b\b\b\b\b\b\b\b\b\b\b\b\b\b\r",
      "36/36 [==============================] - 2s 12ms/step - loss: 0.6951 - min_diff_loss: 0.0322\n"
     ]
    }
   ],
   "source": [
    "model = tutorials_utils.get_uci_model()\n",
    "model = CustomUnpackingMinDiffModel(model, min_diff.losses.MMDLoss())\n",
    "\n",
    "model.compile(optimizer='adam', loss='binary_crossentropy')\n",
    "\n",
    "_ = model.fit(customized_train_with_min_diff_ds, epochs=1)"
   ]
  },
  {
   "cell_type": "markdown",
   "metadata": {
    "id": "-fNyaok_L5Q4"
   },
   "source": [
    "##Limitations of a Customized `MinDiffModel`\n",
    "\n",
    "Creating a custom `MinDiffModel` provides a huge amount of flexibility for more complex use cases. However, there are still some edge cases that it will not support.\n"
   ]
  },
  {
   "cell_type": "markdown",
   "metadata": {
    "id": "QYO2Uxzxe8km"
   },
   "source": [
    "### Preprocessing or Validation of inputs before `call`\n",
    "\n",
    "The biggest limitation for a subclass of `MinDiffModel` is that it requires the `x` component of the input data (i.e. the first or only element in the batch returned by the `tf.data.Dataset`) to be passed through without preprocessing or validation to `call`.\n",
    "\n",
    "This is simply because the `min_diff_data` is packed into the `x` component of the input data. Any preprocessing or validation will not expect the additional structure containing `min_diff_data` and will likely break.\n",
    "\n",
    "If the preprocessing or validation is easily customizable (e.g. factored into its own method) then this is easily addressed by overriding it to ensure it handles the additional structure correctly.\n",
    "\n",
    "An example with validation might look like this:\n",
    "```\n",
    "class CustomMinDiffModel(min_diff.keras.MinDiffModel, CustomModel):\n",
    "\n",
    "  # Override so that it correctly handles additional `min_diff_data`.\n",
    "  def validate_inputs(self, inputs):\n",
    "    original_inputs = self.unpack_original_inputs(inputs)\n",
    "    ...  # Optionally also validate min_diff_data\n",
    "    # Call original validate method with correct inputs\n",
    "    return super(CustomMinDiffModel, self).validate(original_inputs)\n",
    "```\n",
    "If the preprocessing or validation isn't easily customizable, then using `MinDiffModel` may not work for you and you will need to integrate MinDiff without it as described in [this guide](./integrating_min_diff_without_min_diff_model)."
   ]
  },
  {
   "cell_type": "markdown",
   "metadata": {
    "id": "-w4b9AOc3j-N"
   },
   "source": [
    "### Method name collisions\n",
    "\n",
    "It is possible that your model has methods whose names clash with those implemented in `MinDiffModel` (see full list of public methods in the [API documentation](https://www.tensorflow.org/responsible_ai/model_remediation/api_docs/python/model_remediation/min_diff/keras/MinDiffModel#methods)).\n",
    "\n",
    "Note: Both `compile` and `save` will use any customized implementations provided so are not a cause for concern. Similarly, `call` will invoke the original model's `call` method after calculating the `min_diff_loss`.\n",
    "\n",
    "\n",
    "This is only problematic if these will be called on an instance of the model (rather than internally in some other method). While highly unlikely, if you are in this situation you will have to either override and rename some methods or, if not possible, you may need to consider integrating MinDiff without `MinDiffModel` as described in [this guide on the subject](./integrating_min_diff_without_min_diff_model)."
   ]
  },
  {
   "cell_type": "markdown",
   "metadata": {
    "id": "1sGofxqcHYD5"
   },
   "source": [
    "## Additional Resources\n",
    "\n",
    "*   For an in depth discussion on fairness evaluation see the [Fairness Indicators guidance](https://www.tensorflow.org/responsible_ai/fairness_indicators/guide/guidance)\n",
    "*   For general information on Remediation and MinDiff, see the [remediation overview](https://www.tensorflow.org/responsible_ai/model_remediation).\n",
    "*    For details on requirements surrounding MinDiff see [this guide](https://www.tensorflow.org/responsible_ai/model_remediation/min_diff/guide/requirements).\n",
    "*   To see an end-to-end tutorial on using MinDiff in Keras, see [this tutorial](https://www.tensorflow.org/responsible_ai/model_remediation/min_diff/tutorials/min_diff_keras)."
   ]
  }
 ],
 "metadata": {
  "colab": {
   "collapsed_sections": [],
   "name": "customizing_min_diff_model.ipynb",
   "toc_visible": true
  },
  "kernelspec": {
   "display_name": "Python 3",
   "name": "python3"
  },
  "language_info": {
   "codemirror_mode": {
    "name": "ipython",
    "version": 3
   },
   "file_extension": ".py",
   "mimetype": "text/x-python",
   "name": "python",
   "nbconvert_exporter": "python",
   "pygments_lexer": "ipython3",
   "version": "3.7.5"
  }
 },
 "nbformat": 4,
 "nbformat_minor": 0
}
