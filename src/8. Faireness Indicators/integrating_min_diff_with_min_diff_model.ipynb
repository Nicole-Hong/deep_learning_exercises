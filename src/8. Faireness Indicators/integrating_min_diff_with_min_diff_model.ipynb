{
 "cells": [
  {
   "cell_type": "markdown",
   "metadata": {
    "id": "bGaTDBFcGjLD"
   },
   "source": [
    "##### Copyright 2020 The TensorFlow Authors."
   ]
  },
  {
   "cell_type": "code",
   "execution_count": 1,
   "metadata": {
    "cellView": "form",
    "execution": {
     "iopub.execute_input": "2022-04-01T00:10:39.982608Z",
     "iopub.status.busy": "2022-04-01T00:10:39.981975Z",
     "iopub.status.idle": "2022-04-01T00:10:39.986345Z",
     "shell.execute_reply": "2022-04-01T00:10:39.985866Z"
    },
    "id": "kSHPY98YGyIz"
   },
   "outputs": [],
   "source": [
    "#@title Licensed under the Apache License, Version 2.0 (the \"License\");\n",
    "# you may not use this file except in compliance with the License.\n",
    "# You may obtain a copy of the License at\n",
    "#\n",
    "# https://www.apache.org/licenses/LICENSE-2.0\n",
    "#\n",
    "# Unless required by applicable law or agreed to in writing, software\n",
    "# distributed under the License is distributed on an \"AS IS\" BASIS,\n",
    "# WITHOUT WARRANTIES OR CONDITIONS OF ANY KIND, either express or implied.\n",
    "# See the License for the specific language governing permissions and\n",
    "# limitations under the License."
   ]
  },
  {
   "cell_type": "markdown",
   "metadata": {
    "id": "s7F2uyRLHU6B"
   },
   "source": [
    "# Integrating MinDiff with MinDiffModel\n",
    "\n",
    "<div class=\"devsite-table-wrapper\"><table class=\"tfo-notebook-buttons\" align=\"left\">\n",
    "  <td><a target=\"_blank\" href=\"https://www.tensorflow.org/responsible_ai/model_remediation/min_diff/guide/integrating_min_diff_with_min_diff_model\">\n",
    "  <img src=\"https://www.tensorflow.org/images/tf_logo_32px.png\" />View on TensorFlow.org</a>\n",
    "</td>\n",
    "<td>\n",
    "  <a target=\"_blank\" href=\"https://colab.research.google.com/github/tensorflow/model-remediation/blob/master/docs/min_diff/guide/integrating_min_diff_with_min_diff_model.ipynb\">\n",
    "  <img src=\"https://www.tensorflow.org/images/colab_logo_32px.png\">Run in Google Colab</a>\n",
    "</td>\n",
    "<td>\n",
    "  <a target=\"_blank\" href=\"https://github.com/tensorflow/model-remediation/blob/master/docs/min_diff/guide/integrating_min_diff_with_min_diff_model.ipynb\">\n",
    "  <img width=32px src=\"https://www.tensorflow.org/images/GitHub-Mark-32px.png\">View source on GitHub</a>\n",
    "</td>\n",
    "<td>\n",
    "  <a target=\"_blank\" href=\"https://storage.googleapis.com/tensorflow_docs/model-remediation/docs/min_diff/guide/integrating_min_diff_with_min_diff_model.ipynb\"><img src=\"https://www.tensorflow.org/images/download_logo_32px.png\" />Download notebook</a>\n",
    "</td>\n",
    "</table></div>"
   ]
  },
  {
   "cell_type": "markdown",
   "metadata": {
    "id": "qfWz3dWyMjyw"
   },
   "source": [
    "##Introduction\n",
    "\n",
    "There are two steps to integrating MinDiff into your model:\n",
    "\n",
    "1.   Prepare the data (covered in the [input preparation guide](./min_diff_data_preparation)).\n",
    "\n",
    "2.   Alter or create a model that will integrate MinDiff during training.\n",
    "\n",
    "This guide will cover the simplest way to complete the second step: using `MinDiffModel`.\n"
   ]
  },
  {
   "cell_type": "markdown",
   "metadata": {
    "id": "X0KEthjiwvwg"
   },
   "source": [
    "##Setup"
   ]
  },
  {
   "cell_type": "code",
   "execution_count": 2,
   "metadata": {
    "execution": {
     "iopub.execute_input": "2022-04-01T00:10:39.989540Z",
     "iopub.status.busy": "2022-04-01T00:10:39.989117Z",
     "iopub.status.idle": "2022-04-01T00:10:41.698786Z",
     "shell.execute_reply": "2022-04-01T00:10:41.698070Z"
    },
    "id": "kmAHyZt9TErX"
   },
   "outputs": [
    {
     "name": "stdout",
     "output_type": "stream",
     "text": [
      "Collecting tensorflow-model-remediation\r\n",
      "  Using cached tensorflow_model_remediation-0.1.6-py3-none-any.whl (96 kB)\r\n",
      "Requirement already satisfied: pandas in /tmpfs/src/tf_docs_env/lib/python3.7/site-packages (from tensorflow-model-remediation) (1.3.5)\r\n",
      "Requirement already satisfied: tensorflow-hub in /tmpfs/src/tf_docs_env/lib/python3.7/site-packages (from tensorflow-model-remediation) (0.12.0)\r\n",
      "Requirement already satisfied: tensorflow>=2.0.0 in /tmpfs/src/tf_docs_env/lib/python3.7/site-packages (from tensorflow-model-remediation) (2.8.0)\r\n",
      "Requirement already satisfied: dill in /tmpfs/src/tf_docs_env/lib/python3.7/site-packages (from tensorflow-model-remediation) (0.3.4)\r\n",
      "Collecting mock\r\n",
      "  Using cached mock-4.0.3-py3-none-any.whl (28 kB)\r\n"
     ]
    },
    {
     "name": "stdout",
     "output_type": "stream",
     "text": [
      "Requirement already satisfied: opt-einsum>=2.3.2 in /tmpfs/src/tf_docs_env/lib/python3.7/site-packages (from tensorflow>=2.0.0->tensorflow-model-remediation) (3.3.0)\r\n",
      "Requirement already satisfied: keras-preprocessing>=1.1.1 in /tmpfs/src/tf_docs_env/lib/python3.7/site-packages (from tensorflow>=2.0.0->tensorflow-model-remediation) (1.1.2)\r\n",
      "Requirement already satisfied: h5py>=2.9.0 in /tmpfs/src/tf_docs_env/lib/python3.7/site-packages (from tensorflow>=2.0.0->tensorflow-model-remediation) (3.6.0)\r\n",
      "Requirement already satisfied: keras<2.9,>=2.8.0rc0 in /tmpfs/src/tf_docs_env/lib/python3.7/site-packages (from tensorflow>=2.0.0->tensorflow-model-remediation) (2.8.0)\r\n",
      "Requirement already satisfied: flatbuffers>=1.12 in /tmpfs/src/tf_docs_env/lib/python3.7/site-packages (from tensorflow>=2.0.0->tensorflow-model-remediation) (2.0)\r\n",
      "Requirement already satisfied: protobuf>=3.9.2 in /tmpfs/src/tf_docs_env/lib/python3.7/site-packages (from tensorflow>=2.0.0->tensorflow-model-remediation) (3.20.0rc2)\r\n",
      "Requirement already satisfied: gast>=0.2.1 in /tmpfs/src/tf_docs_env/lib/python3.7/site-packages (from tensorflow>=2.0.0->tensorflow-model-remediation) (0.5.3)\r\n",
      "Requirement already satisfied: google-pasta>=0.1.1 in /tmpfs/src/tf_docs_env/lib/python3.7/site-packages (from tensorflow>=2.0.0->tensorflow-model-remediation) (0.2.0)\r\n",
      "Requirement already satisfied: wrapt>=1.11.0 in /tmpfs/src/tf_docs_env/lib/python3.7/site-packages (from tensorflow>=2.0.0->tensorflow-model-remediation) (1.14.0)\r\n",
      "Requirement already satisfied: libclang>=9.0.1 in /tmpfs/src/tf_docs_env/lib/python3.7/site-packages (from tensorflow>=2.0.0->tensorflow-model-remediation) (13.0.0)\r\n",
      "Requirement already satisfied: six>=1.12.0 in /tmpfs/src/tf_docs_env/lib/python3.7/site-packages (from tensorflow>=2.0.0->tensorflow-model-remediation) (1.16.0)\r\n",
      "Requirement already satisfied: termcolor>=1.1.0 in /tmpfs/src/tf_docs_env/lib/python3.7/site-packages (from tensorflow>=2.0.0->tensorflow-model-remediation) (1.1.0)\r\n",
      "Requirement already satisfied: absl-py>=0.4.0 in /tmpfs/src/tf_docs_env/lib/python3.7/site-packages (from tensorflow>=2.0.0->tensorflow-model-remediation) (1.0.0)\r\n",
      "Requirement already satisfied: setuptools in /tmpfs/src/tf_docs_env/lib/python3.7/site-packages (from tensorflow>=2.0.0->tensorflow-model-remediation) (61.3.0)\r\n",
      "Requirement already satisfied: typing-extensions>=3.6.6 in /tmpfs/src/tf_docs_env/lib/python3.7/site-packages (from tensorflow>=2.0.0->tensorflow-model-remediation) (4.1.1)\r\n",
      "Requirement already satisfied: tensorflow-io-gcs-filesystem>=0.23.1 in /tmpfs/src/tf_docs_env/lib/python3.7/site-packages (from tensorflow>=2.0.0->tensorflow-model-remediation) (0.24.0)\r\n",
      "Requirement already satisfied: tensorboard<2.9,>=2.8 in /tmpfs/src/tf_docs_env/lib/python3.7/site-packages (from tensorflow>=2.0.0->tensorflow-model-remediation) (2.8.0)\r\n",
      "Requirement already satisfied: grpcio<2.0,>=1.24.3 in /tmpfs/src/tf_docs_env/lib/python3.7/site-packages (from tensorflow>=2.0.0->tensorflow-model-remediation) (1.45.0rc1)\r\n",
      "Requirement already satisfied: astunparse>=1.6.0 in /tmpfs/src/tf_docs_env/lib/python3.7/site-packages (from tensorflow>=2.0.0->tensorflow-model-remediation) (1.6.3)\r\n",
      "Requirement already satisfied: tf-estimator-nightly==2.8.0.dev2021122109 in /tmpfs/src/tf_docs_env/lib/python3.7/site-packages (from tensorflow>=2.0.0->tensorflow-model-remediation) (2.8.0.dev2021122109)\r\n",
      "Requirement already satisfied: numpy>=1.20 in /tmpfs/src/tf_docs_env/lib/python3.7/site-packages (from tensorflow>=2.0.0->tensorflow-model-remediation) (1.21.5)\r\n",
      "Requirement already satisfied: python-dateutil>=2.7.3 in /tmpfs/src/tf_docs_env/lib/python3.7/site-packages (from pandas->tensorflow-model-remediation) (2.8.2)\r\n",
      "Requirement already satisfied: pytz>=2017.3 in /tmpfs/src/tf_docs_env/lib/python3.7/site-packages (from pandas->tensorflow-model-remediation) (2022.1)\r\n"
     ]
    },
    {
     "name": "stdout",
     "output_type": "stream",
     "text": [
      "Requirement already satisfied: wheel<1.0,>=0.23.0 in /tmpfs/src/tf_docs_env/lib/python3.7/site-packages (from astunparse>=1.6.0->tensorflow>=2.0.0->tensorflow-model-remediation) (0.37.1)\r\n",
      "Requirement already satisfied: cached-property in /tmpfs/src/tf_docs_env/lib/python3.7/site-packages (from h5py>=2.9.0->tensorflow>=2.0.0->tensorflow-model-remediation) (1.5.2)\r\n"
     ]
    },
    {
     "name": "stdout",
     "output_type": "stream",
     "text": [
      "Requirement already satisfied: tensorboard-plugin-wit>=1.6.0 in /tmpfs/src/tf_docs_env/lib/python3.7/site-packages (from tensorboard<2.9,>=2.8->tensorflow>=2.0.0->tensorflow-model-remediation) (1.8.1)\r\n",
      "Requirement already satisfied: werkzeug>=0.11.15 in /tmpfs/src/tf_docs_env/lib/python3.7/site-packages (from tensorboard<2.9,>=2.8->tensorflow>=2.0.0->tensorflow-model-remediation) (2.1.0)\r\n",
      "Requirement already satisfied: google-auth<3,>=1.6.3 in /tmpfs/src/tf_docs_env/lib/python3.7/site-packages (from tensorboard<2.9,>=2.8->tensorflow>=2.0.0->tensorflow-model-remediation) (2.6.2)\r\n",
      "Requirement already satisfied: markdown>=2.6.8 in /tmpfs/src/tf_docs_env/lib/python3.7/site-packages (from tensorboard<2.9,>=2.8->tensorflow>=2.0.0->tensorflow-model-remediation) (3.3.6)\r\n",
      "Requirement already satisfied: requests<3,>=2.21.0 in /tmpfs/src/tf_docs_env/lib/python3.7/site-packages (from tensorboard<2.9,>=2.8->tensorflow>=2.0.0->tensorflow-model-remediation) (2.27.1)\r\n",
      "Requirement already satisfied: tensorboard-data-server<0.7.0,>=0.6.0 in /tmpfs/src/tf_docs_env/lib/python3.7/site-packages (from tensorboard<2.9,>=2.8->tensorflow>=2.0.0->tensorflow-model-remediation) (0.6.1)\r\n",
      "Requirement already satisfied: google-auth-oauthlib<0.5,>=0.4.1 in /tmpfs/src/tf_docs_env/lib/python3.7/site-packages (from tensorboard<2.9,>=2.8->tensorflow>=2.0.0->tensorflow-model-remediation) (0.4.6)\r\n",
      "Requirement already satisfied: pyasn1-modules>=0.2.1 in /tmpfs/src/tf_docs_env/lib/python3.7/site-packages (from google-auth<3,>=1.6.3->tensorboard<2.9,>=2.8->tensorflow>=2.0.0->tensorflow-model-remediation) (0.2.8)\r\n",
      "Requirement already satisfied: rsa<5,>=3.1.4 in /tmpfs/src/tf_docs_env/lib/python3.7/site-packages (from google-auth<3,>=1.6.3->tensorboard<2.9,>=2.8->tensorflow>=2.0.0->tensorflow-model-remediation) (4.8)\r\n",
      "Requirement already satisfied: cachetools<6.0,>=2.0.0 in /tmpfs/src/tf_docs_env/lib/python3.7/site-packages (from google-auth<3,>=1.6.3->tensorboard<2.9,>=2.8->tensorflow>=2.0.0->tensorflow-model-remediation) (5.0.0)\r\n",
      "Requirement already satisfied: requests-oauthlib>=0.7.0 in /tmpfs/src/tf_docs_env/lib/python3.7/site-packages (from google-auth-oauthlib<0.5,>=0.4.1->tensorboard<2.9,>=2.8->tensorflow>=2.0.0->tensorflow-model-remediation) (1.3.1)\r\n",
      "Requirement already satisfied: importlib-metadata>=4.4 in /tmpfs/src/tf_docs_env/lib/python3.7/site-packages (from markdown>=2.6.8->tensorboard<2.9,>=2.8->tensorflow>=2.0.0->tensorflow-model-remediation) (4.11.3)\r\n"
     ]
    },
    {
     "name": "stdout",
     "output_type": "stream",
     "text": [
      "Requirement already satisfied: certifi>=2017.4.17 in /tmpfs/src/tf_docs_env/lib/python3.7/site-packages (from requests<3,>=2.21.0->tensorboard<2.9,>=2.8->tensorflow>=2.0.0->tensorflow-model-remediation) (2021.10.8)\r\n",
      "Requirement already satisfied: idna<4,>=2.5 in /tmpfs/src/tf_docs_env/lib/python3.7/site-packages (from requests<3,>=2.21.0->tensorboard<2.9,>=2.8->tensorflow>=2.0.0->tensorflow-model-remediation) (3.3)\r\n",
      "Requirement already satisfied: urllib3<1.27,>=1.21.1 in /tmpfs/src/tf_docs_env/lib/python3.7/site-packages (from requests<3,>=2.21.0->tensorboard<2.9,>=2.8->tensorflow>=2.0.0->tensorflow-model-remediation) (1.26.9)\r\n",
      "Requirement already satisfied: charset-normalizer~=2.0.0 in /tmpfs/src/tf_docs_env/lib/python3.7/site-packages (from requests<3,>=2.21.0->tensorboard<2.9,>=2.8->tensorflow>=2.0.0->tensorflow-model-remediation) (2.0.12)\r\n"
     ]
    },
    {
     "name": "stdout",
     "output_type": "stream",
     "text": [
      "Requirement already satisfied: zipp>=0.5 in /tmpfs/src/tf_docs_env/lib/python3.7/site-packages (from importlib-metadata>=4.4->markdown>=2.6.8->tensorboard<2.9,>=2.8->tensorflow>=2.0.0->tensorflow-model-remediation) (3.7.0)\r\n",
      "Requirement already satisfied: pyasn1<0.5.0,>=0.4.6 in /tmpfs/src/tf_docs_env/lib/python3.7/site-packages (from pyasn1-modules>=0.2.1->google-auth<3,>=1.6.3->tensorboard<2.9,>=2.8->tensorflow>=2.0.0->tensorflow-model-remediation) (0.4.8)\r\n",
      "Requirement already satisfied: oauthlib>=3.0.0 in /tmpfs/src/tf_docs_env/lib/python3.7/site-packages (from requests-oauthlib>=0.7.0->google-auth-oauthlib<0.5,>=0.4.1->tensorboard<2.9,>=2.8->tensorflow>=2.0.0->tensorflow-model-remediation) (3.2.0)\r\n"
     ]
    },
    {
     "name": "stdout",
     "output_type": "stream",
     "text": [
      "Installing collected packages: mock, tensorflow-model-remediation\r\n"
     ]
    },
    {
     "name": "stdout",
     "output_type": "stream",
     "text": [
      "Successfully installed mock-4.0.3 tensorflow-model-remediation-0.1.6\r\n"
     ]
    }
   ],
   "source": [
    "!pip install --upgrade tensorflow-model-remediation"
   ]
  },
  {
   "cell_type": "code",
   "execution_count": 3,
   "metadata": {
    "execution": {
     "iopub.execute_input": "2022-04-01T00:10:41.702615Z",
     "iopub.status.busy": "2022-04-01T00:10:41.702210Z",
     "iopub.status.idle": "2022-04-01T00:10:43.527885Z",
     "shell.execute_reply": "2022-04-01T00:10:43.527245Z"
    },
    "id": "XRa49AkYS6n1"
   },
   "outputs": [],
   "source": [
    "import tensorflow as tf\n",
    "tf.get_logger().setLevel('ERROR')  # Avoid TF warnings.\n",
    "from tensorflow_model_remediation import min_diff\n",
    "from tensorflow_model_remediation.tools.tutorials_utils import uci as tutorials_utils"
   ]
  },
  {
   "cell_type": "markdown",
   "metadata": {
    "id": "G_ZFlyRnzYkT"
   },
   "source": [
    "First, download the data. For succinctness, the input preparation logic has been factored out into helper functions as described in the [input preparation guide](./min_diff_data_preparation#utility_functions_for_other_guides). You can read the full guide for details on this process."
   ]
  },
  {
   "cell_type": "code",
   "execution_count": 4,
   "metadata": {
    "execution": {
     "iopub.execute_input": "2022-04-01T00:10:43.531750Z",
     "iopub.status.busy": "2022-04-01T00:10:43.531300Z",
     "iopub.status.idle": "2022-04-01T00:10:45.865124Z",
     "shell.execute_reply": "2022-04-01T00:10:45.864531Z"
    },
    "id": "XIWmfFko95u2"
   },
   "outputs": [],
   "source": [
    "# Original DataFrame for training, sampled at 0.3 for reduced runtimes.\n",
    "train_df = tutorials_utils.get_uci_data(split='train', sample=0.3)\n",
    "\n",
    "# Dataset needed to train with MinDiff.\n",
    "train_with_min_diff_ds = (\n",
    "    tutorials_utils.get_uci_with_min_diff_dataset(split='train', sample=0.3))"
   ]
  },
  {
   "cell_type": "markdown",
   "metadata": {
    "id": "dDdT9-xq0hx5"
   },
   "source": [
    "##Original Model\n",
    "\n",
    "This guide uses a basic, untuned `keras.Model` using the [Functional API](https://www.tensorflow.org/guide/keras/functional) to highlight using MinDiff. In a real world application, you would carefully choose the model architecture and use tuning to improve model quality before attempting to address any fairness issues.\n",
    "\n",
    "Since `MinDiffModel` is designed to work with most Keras `Model` classes, we have factored out the logic of building the model into a helper function: `get_uci_model`."
   ]
  },
  {
   "cell_type": "markdown",
   "metadata": {
    "id": "aiKWBYEZ_t5T"
   },
   "source": [
    "### Training with a Pandas DataFrame\n",
    "\n",
    "This guide trains over a single epoch for speed, but could easily improve the model's performance by increasing the number of epochs."
   ]
  },
  {
   "cell_type": "code",
   "execution_count": 5,
   "metadata": {
    "execution": {
     "iopub.execute_input": "2022-04-01T00:10:45.868598Z",
     "iopub.status.busy": "2022-04-01T00:10:45.868425Z",
     "iopub.status.idle": "2022-04-01T00:10:48.037051Z",
     "shell.execute_reply": "2022-04-01T00:10:48.036453Z"
    },
    "id": "h3xyQKPwFwCV"
   },
   "outputs": [
    {
     "name": "stdout",
     "output_type": "stream",
     "text": [
      "\r",
      " 1/77 [..............................] - ETA: 1:33 - loss: 0.9179"
     ]
    },
    {
     "name": "stdout",
     "output_type": "stream",
     "text": [
      "\b\b\b\b\b\b\b\b\b\b\b\b\b\b\b\b\b\b\b\b\b\b\b\b\b\b\b\b\b\b\b\b\b\b\b\b\b\b\b\b\b\b\b\b\b\b\b\b\b\b\b\b\b\b\b\b\b\b\b\b\b\b\b\b\b\r",
      " 9/77 [==>...........................] - ETA: 0s - loss: 0.7585  "
     ]
    },
    {
     "name": "stdout",
     "output_type": "stream",
     "text": [
      "\b\b\b\b\b\b\b\b\b\b\b\b\b\b\b\b\b\b\b\b\b\b\b\b\b\b\b\b\b\b\b\b\b\b\b\b\b\b\b\b\b\b\b\b\b\b\b\b\b\b\b\b\b\b\b\b\b\b\b\b\b\b\b\r",
      "17/77 [=====>........................] - ETA: 0s - loss: 0.6867"
     ]
    },
    {
     "name": "stdout",
     "output_type": "stream",
     "text": [
      "\b\b\b\b\b\b\b\b\b\b\b\b\b\b\b\b\b\b\b\b\b\b\b\b\b\b\b\b\b\b\b\b\b\b\b\b\b\b\b\b\b\b\b\b\b\b\b\b\b\b\b\b\b\b\b\b\b\b\b\b\b\b\b\r",
      "25/77 [========>.....................] - ETA: 0s - loss: 0.6734"
     ]
    },
    {
     "name": "stdout",
     "output_type": "stream",
     "text": [
      "\b\b\b\b\b\b\b\b\b\b\b\b\b\b\b\b\b\b\b\b\b\b\b\b\b\b\b\b\b\b\b\b\b\b\b\b\b\b\b\b\b\b\b\b\b\b\b\b\b\b\b\b\b\b\b\b\b\b\b\b\b\b\b\r",
      "33/77 [===========>..................] - ETA: 0s - loss: 0.6409"
     ]
    },
    {
     "name": "stdout",
     "output_type": "stream",
     "text": [
      "\b\b\b\b\b\b\b\b\b\b\b\b\b\b\b\b\b\b\b\b\b\b\b\b\b\b\b\b\b\b\b\b\b\b\b\b\b\b\b\b\b\b\b\b\b\b\b\b\b\b\b\b\b\b\b\b\b\b\b\b\b\b\b\r",
      "41/77 [==============>...............] - ETA: 0s - loss: 0.6178"
     ]
    },
    {
     "name": "stdout",
     "output_type": "stream",
     "text": [
      "\b\b\b\b\b\b\b\b\b\b\b\b\b\b\b\b\b\b\b\b\b\b\b\b\b\b\b\b\b\b\b\b\b\b\b\b\b\b\b\b\b\b\b\b\b\b\b\b\b\b\b\b\b\b\b\b\b\b\b\b\b\b\b\r",
      "49/77 [==================>...........] - ETA: 0s - loss: 0.5965"
     ]
    },
    {
     "name": "stdout",
     "output_type": "stream",
     "text": [
      "\b\b\b\b\b\b\b\b\b\b\b\b\b\b\b\b\b\b\b\b\b\b\b\b\b\b\b\b\b\b\b\b\b\b\b\b\b\b\b\b\b\b\b\b\b\b\b\b\b\b\b\b\b\b\b\b\b\b\b\b\b\b\b\r",
      "57/77 [=====================>........] - ETA: 0s - loss: 0.5795"
     ]
    },
    {
     "name": "stdout",
     "output_type": "stream",
     "text": [
      "\b\b\b\b\b\b\b\b\b\b\b\b\b\b\b\b\b\b\b\b\b\b\b\b\b\b\b\b\b\b\b\b\b\b\b\b\b\b\b\b\b\b\b\b\b\b\b\b\b\b\b\b\b\b\b\b\b\b\b\b\b\b\b\r",
      "65/77 [========================>.....] - ETA: 0s - loss: 0.5644"
     ]
    },
    {
     "name": "stdout",
     "output_type": "stream",
     "text": [
      "\b\b\b\b\b\b\b\b\b\b\b\b\b\b\b\b\b\b\b\b\b\b\b\b\b\b\b\b\b\b\b\b\b\b\b\b\b\b\b\b\b\b\b\b\b\b\b\b\b\b\b\b\b\b\b\b\b\b\b\b\b\b\b\r",
      "73/77 [===========================>..] - ETA: 0s - loss: 0.5462"
     ]
    },
    {
     "name": "stdout",
     "output_type": "stream",
     "text": [
      "\b\b\b\b\b\b\b\b\b\b\b\b\b\b\b\b\b\b\b\b\b\b\b\b\b\b\b\b\b\b\b\b\b\b\b\b\b\b\b\b\b\b\b\b\b\b\b\b\b\b\b\b\b\b\b\b\b\b\b\b\b\b\b\r",
      "77/77 [==============================] - 2s 7ms/step - loss: 0.5387\n"
     ]
    }
   ],
   "source": [
    "model = tutorials_utils.get_uci_model()\n",
    "\n",
    "model.compile(optimizer='adam', loss='binary_crossentropy')\n",
    "\n",
    "df_without_target = train_df.drop(['target'], axis=1)  # Drop 'target' for x.\n",
    "_ = model.fit(\n",
    "    x=dict(df_without_target),  # The model expects a dictionary of features.\n",
    "    y=train_df['target'],\n",
    "    batch_size=128,\n",
    "    epochs=1)"
   ]
  },
  {
   "cell_type": "markdown",
   "metadata": {
    "id": "LBB2HYQ0_u0V"
   },
   "source": [
    "### Training with a `tf.data.Dataset`\n",
    "\n",
    "The equivalent training with a `tf.data.Dataset` would look very similar (although initialization and input randomness may yield slightly different results)."
   ]
  },
  {
   "cell_type": "code",
   "execution_count": 6,
   "metadata": {
    "execution": {
     "iopub.execute_input": "2022-04-01T00:10:48.040388Z",
     "iopub.status.busy": "2022-04-01T00:10:48.040180Z",
     "iopub.status.idle": "2022-04-01T00:10:49.718266Z",
     "shell.execute_reply": "2022-04-01T00:10:49.717646Z"
    },
    "id": "Fkx_Yo_0G-Ti"
   },
   "outputs": [
    {
     "name": "stdout",
     "output_type": "stream",
     "text": [
      "\r",
      " 1/77 [..............................] - ETA: 1:05 - loss: 0.7654"
     ]
    },
    {
     "name": "stdout",
     "output_type": "stream",
     "text": [
      "\b\b\b\b\b\b\b\b\b\b\b\b\b\b\b\b\b\b\b\b\b\b\b\b\b\b\b\b\b\b\b\b\b\b\b\b\b\b\b\b\b\b\b\b\b\b\b\b\b\b\b\b\b\b\b\b\b\b\b\b\b\b\b\b\b\r",
      " 8/77 [==>...........................] - ETA: 0s - loss: 0.8801  "
     ]
    },
    {
     "name": "stdout",
     "output_type": "stream",
     "text": [
      "\b\b\b\b\b\b\b\b\b\b\b\b\b\b\b\b\b\b\b\b\b\b\b\b\b\b\b\b\b\b\b\b\b\b\b\b\b\b\b\b\b\b\b\b\b\b\b\b\b\b\b\b\b\b\b\b\b\b\b\b\b\b\b\r",
      "16/77 [=====>........................] - ETA: 0s - loss: 0.7758"
     ]
    },
    {
     "name": "stdout",
     "output_type": "stream",
     "text": [
      "\b\b\b\b\b\b\b\b\b\b\b\b\b\b\b\b\b\b\b\b\b\b\b\b\b\b\b\b\b\b\b\b\b\b\b\b\b\b\b\b\b\b\b\b\b\b\b\b\b\b\b\b\b\b\b\b\b\b\b\b\b\b\b\r",
      "24/77 [========>.....................] - ETA: 0s - loss: 0.7042"
     ]
    },
    {
     "name": "stdout",
     "output_type": "stream",
     "text": [
      "\b\b\b\b\b\b\b\b\b\b\b\b\b\b\b\b\b\b\b\b\b\b\b\b\b\b\b\b\b\b\b\b\b\b\b\b\b\b\b\b\b\b\b\b\b\b\b\b\b\b\b\b\b\b\b\b\b\b\b\b\b\b\b\r",
      "32/77 [===========>..................] - ETA: 0s - loss: 0.6835"
     ]
    },
    {
     "name": "stdout",
     "output_type": "stream",
     "text": [
      "\b\b\b\b\b\b\b\b\b\b\b\b\b\b\b\b\b\b\b\b\b\b\b\b\b\b\b\b\b\b\b\b\b\b\b\b\b\b\b\b\b\b\b\b\b\b\b\b\b\b\b\b\b\b\b\b\b\b\b\b\b\b\b\r",
      "40/77 [==============>...............] - ETA: 0s - loss: 0.6529"
     ]
    },
    {
     "name": "stdout",
     "output_type": "stream",
     "text": [
      "\b\b\b\b\b\b\b\b\b\b\b\b\b\b\b\b\b\b\b\b\b\b\b\b\b\b\b\b\b\b\b\b\b\b\b\b\b\b\b\b\b\b\b\b\b\b\b\b\b\b\b\b\b\b\b\b\b\b\b\b\b\b\b\r",
      "47/77 [=================>............] - ETA: 0s - loss: 0.6288"
     ]
    },
    {
     "name": "stdout",
     "output_type": "stream",
     "text": [
      "\b\b\b\b\b\b\b\b\b\b\b\b\b\b\b\b\b\b\b\b\b\b\b\b\b\b\b\b\b\b\b\b\b\b\b\b\b\b\b\b\b\b\b\b\b\b\b\b\b\b\b\b\b\b\b\b\b\b\b\b\b\b\b\r",
      "55/77 [====================>.........] - ETA: 0s - loss: 0.6278"
     ]
    },
    {
     "name": "stdout",
     "output_type": "stream",
     "text": [
      "\b\b\b\b\b\b\b\b\b\b\b\b\b\b\b\b\b\b\b\b\b\b\b\b\b\b\b\b\b\b\b\b\b\b\b\b\b\b\b\b\b\b\b\b\b\b\b\b\b\b\b\b\b\b\b\b\b\b\b\b\b\b\b\r",
      "62/77 [=======================>......] - ETA: 0s - loss: 0.6258"
     ]
    },
    {
     "name": "stdout",
     "output_type": "stream",
     "text": [
      "\b\b\b\b\b\b\b\b\b\b\b\b\b\b\b\b\b\b\b\b\b\b\b\b\b\b\b\b\b\b\b\b\b\b\b\b\b\b\b\b\b\b\b\b\b\b\b\b\b\b\b\b\b\b\b\b\b\b\b\b\b\b\b\r",
      "70/77 [==========================>...] - ETA: 0s - loss: 0.6071"
     ]
    },
    {
     "name": "stdout",
     "output_type": "stream",
     "text": [
      "\b\b\b\b\b\b\b\b\b\b\b\b\b\b\b\b\b\b\b\b\b\b\b\b\b\b\b\b\b\b\b\b\b\b\b\b\b\b\b\b\b\b\b\b\b\b\b\b\b\b\b\b\b\b\b\b\b\b\b\b\b\b\b\r",
      "77/77 [==============================] - ETA: 0s - loss: 0.5925"
     ]
    },
    {
     "name": "stdout",
     "output_type": "stream",
     "text": [
      "\b\b\b\b\b\b\b\b\b\b\b\b\b\b\b\b\b\b\b\b\b\b\b\b\b\b\b\b\b\b\b\b\b\b\b\b\b\b\b\b\b\b\b\b\b\b\b\b\b\b\b\b\b\b\b\b\b\b\b\b\b\b\b\r",
      "77/77 [==============================] - 1s 7ms/step - loss: 0.5925\n"
     ]
    }
   ],
   "source": [
    "model = tutorials_utils.get_uci_model()\n",
    "\n",
    "model.compile(optimizer='adam', loss='binary_crossentropy')\n",
    "\n",
    "_ = model.fit(\n",
    "    tutorials_utils.df_to_dataset(train_df, batch_size=128),  # Converted to Dataset.\n",
    "    epochs=1)"
   ]
  },
  {
   "cell_type": "markdown",
   "metadata": {
    "id": "PXO297cnbp8N"
   },
   "source": [
    "## Integrating MinDiff for training\n",
    "\n",
    "Once the data has been prepared, apply MinDiff to your model with the following steps:"
   ]
  },
  {
   "cell_type": "markdown",
   "metadata": {
    "id": "k4y7wEnObiNJ"
   },
   "source": [
    "1.   Create the original model as you would without MinDiff."
   ]
  },
  {
   "cell_type": "code",
   "execution_count": 7,
   "metadata": {
    "execution": {
     "iopub.execute_input": "2022-04-01T00:10:49.721785Z",
     "iopub.status.busy": "2022-04-01T00:10:49.721332Z",
     "iopub.status.idle": "2022-04-01T00:10:49.978786Z",
     "shell.execute_reply": "2022-04-01T00:10:49.978163Z"
    },
    "id": "gKk6jI7JblPe"
   },
   "outputs": [],
   "source": [
    "original_model = tutorials_utils.get_uci_model()\n"
   ]
  },
  {
   "cell_type": "markdown",
   "metadata": {
    "id": "Uc4Qq4REbKsW"
   },
   "source": [
    "2.   Wrap it in a `MinDiffModel`."
   ]
  },
  {
   "cell_type": "code",
   "execution_count": 8,
   "metadata": {
    "execution": {
     "iopub.execute_input": "2022-04-01T00:10:49.982781Z",
     "iopub.status.busy": "2022-04-01T00:10:49.982296Z",
     "iopub.status.idle": "2022-04-01T00:10:49.992306Z",
     "shell.execute_reply": "2022-04-01T00:10:49.991599Z"
    },
    "id": "Qsiv5hqzbX4D"
   },
   "outputs": [],
   "source": [
    "min_diff_model = min_diff.keras.MinDiffModel(\n",
    "    original_model=original_model,\n",
    "    loss=min_diff.losses.MMDLoss(),\n",
    "    loss_weight=1)"
   ]
  },
  {
   "cell_type": "markdown",
   "metadata": {
    "id": "E70FHQd8bRaz"
   },
   "source": [
    "3.   Compile it as you would without MinDiff."
   ]
  },
  {
   "cell_type": "code",
   "execution_count": 9,
   "metadata": {
    "execution": {
     "iopub.execute_input": "2022-04-01T00:10:49.995637Z",
     "iopub.status.busy": "2022-04-01T00:10:49.995304Z",
     "iopub.status.idle": "2022-04-01T00:10:50.006730Z",
     "shell.execute_reply": "2022-04-01T00:10:50.006193Z"
    },
    "id": "BEXVHuEwbaN0"
   },
   "outputs": [],
   "source": [
    "min_diff_model.compile(optimizer='adam', loss='binary_crossentropy')"
   ]
  },
  {
   "cell_type": "markdown",
   "metadata": {
    "id": "RjfnQD_7bT96"
   },
   "source": [
    "4.   Train it with the MinDiff dataset (`train_with_min_diff_ds` in this case)."
   ]
  },
  {
   "cell_type": "code",
   "execution_count": 10,
   "metadata": {
    "execution": {
     "iopub.execute_input": "2022-04-01T00:10:50.010637Z",
     "iopub.status.busy": "2022-04-01T00:10:50.009974Z",
     "iopub.status.idle": "2022-04-01T00:10:53.810780Z",
     "shell.execute_reply": "2022-04-01T00:10:53.810213Z"
    },
    "id": "AywcpEnUbcXW"
   },
   "outputs": [
    {
     "name": "stderr",
     "output_type": "stream",
     "text": [
      "2022-04-01 00:10:53.139306: W tensorflow/core/grappler/optimizers/loop_optimizer.cc:907] Skipping loop optimization for Merge node with control input: min_diff_model/mmd_loss_inputs/assert_non_negative/assert_less_equal/Assert/AssertGuard/branch_executed/_8\n"
     ]
    },
    {
     "name": "stdout",
     "output_type": "stream",
     "text": [
      "\r",
      " 1/36 [..............................] - ETA: 1:53 - loss: 0.7158 - min_diff_loss: 0.0327"
     ]
    },
    {
     "name": "stdout",
     "output_type": "stream",
     "text": [
      "\b\b\b\b\b\b\b\b\b\b\b\b\b\b\b\b\b\b\b\b\b\b\b\b\b\b\b\b\b\b\b\b\b\b\b\b\b\b\b\b\b\b\b\b\b\b\b\b\b\b\b\b\b\b\b\b\b\b\b\b\b\b\b\b\b\b\b\b\b\b\b\b\b\b\b\b\b\b\b\b\b\b\b\b\b\b\b\b\b\r",
      " 6/36 [====>.........................] - ETA: 0s - loss: 1.0519 - min_diff_loss: 0.0311  "
     ]
    },
    {
     "name": "stdout",
     "output_type": "stream",
     "text": [
      "\b\b\b\b\b\b\b\b\b\b\b\b\b\b\b\b\b\b\b\b\b\b\b\b\b\b\b\b\b\b\b\b\b\b\b\b\b\b\b\b\b\b\b\b\b\b\b\b\b\b\b\b\b\b\b\b\b\b\b\b\b\b\b\b\b\b\b\b\b\b\b\b\b\b\b\b\b\b\b\b\b\b\b\b\b\b\b\r",
      "11/36 [========>.....................] - ETA: 0s - loss: 0.8990 - min_diff_loss: 0.0383"
     ]
    },
    {
     "name": "stdout",
     "output_type": "stream",
     "text": [
      "\b\b\b\b\b\b\b\b\b\b\b\b\b\b\b\b\b\b\b\b\b\b\b\b\b\b\b\b\b\b\b\b\b\b\b\b\b\b\b\b\b\b\b\b\b\b\b\b\b\b\b\b\b\b\b\b\b\b\b\b\b\b\b\b\b\b\b\b\b\b\b\b\b\b\b\b\b\b\b\b\b\b\b\b\b\b\b\r",
      "16/36 [============>.................] - ETA: 0s - loss: 0.8474 - min_diff_loss: 0.0347"
     ]
    },
    {
     "name": "stdout",
     "output_type": "stream",
     "text": [
      "\b\b\b\b\b\b\b\b\b\b\b\b\b\b\b\b\b\b\b\b\b\b\b\b\b\b\b\b\b\b\b\b\b\b\b\b\b\b\b\b\b\b\b\b\b\b\b\b\b\b\b\b\b\b\b\b\b\b\b\b\b\b\b\b\b\b\b\b\b\b\b\b\b\b\b\b\b\b\b\b\b\b\b\b\b\b\b\r",
      "20/36 [===============>..............] - ETA: 0s - loss: 0.8314 - min_diff_loss: 0.0333"
     ]
    },
    {
     "name": "stdout",
     "output_type": "stream",
     "text": [
      "\b\b\b\b\b\b\b\b\b\b\b\b\b\b\b\b\b\b\b\b\b\b\b\b\b\b\b\b\b\b\b\b\b\b\b\b\b\b\b\b\b\b\b\b\b\b\b\b\b\b\b\b\b\b\b\b\b\b\b\b\b\b\b\b\b\b\b\b\b\b\b\b\b\b\b\b\b\b\b\b\b\b\b\b\b\b\b\r",
      "25/36 [===================>..........] - ETA: 0s - loss: 0.7957 - min_diff_loss: 0.0329"
     ]
    },
    {
     "name": "stdout",
     "output_type": "stream",
     "text": [
      "\b\b\b\b\b\b\b\b\b\b\b\b\b\b\b\b\b\b\b\b\b\b\b\b\b\b\b\b\b\b\b\b\b\b\b\b\b\b\b\b\b\b\b\b\b\b\b\b\b\b\b\b\b\b\b\b\b\b\b\b\b\b\b\b\b\b\b\b\b\b\b\b\b\b\b\b\b\b\b\b\b\b\b\b\b\b\b\r",
      "30/36 [========================>.....] - ETA: 0s - loss: 0.7783 - min_diff_loss: 0.0344"
     ]
    },
    {
     "name": "stdout",
     "output_type": "stream",
     "text": [
      "\b\b\b\b\b\b\b\b\b\b\b\b\b\b\b\b\b\b\b\b\b\b\b\b\b\b\b\b\b\b\b\b\b\b\b\b\b\b\b\b\b\b\b\b\b\b\b\b\b\b\b\b\b\b\b\b\b\b\b\b\b\b\b\b\b\b\b\b\b\b\b\b\b\b\b\b\b\b\b\b\b\b\b\b\b\b\b\r",
      "35/36 [============================>.] - ETA: 0s - loss: 0.7681 - min_diff_loss: 0.0354"
     ]
    },
    {
     "name": "stdout",
     "output_type": "stream",
     "text": [
      "\b\b\b\b\b\b\b\b\b\b\b\b\b\b\b\b\b\b\b\b\b\b\b\b\b\b\b\b\b\b\b\b\b\b\b\b\b\b\b\b\b\b\b\b\b\b\b\b\b\b\b\b\b\b\b\b\b\b\b\b\b\b\b\b\b\b\b\b\b\b\b\b\b\b\b\b\b\b\b\b\b\b\b\b\b\b\b\r",
      "36/36 [==============================] - 4s 12ms/step - loss: 0.7614 - min_diff_loss: 0.0350\n"
     ]
    }
   ],
   "source": [
    "_ = min_diff_model.fit(train_with_min_diff_ds, epochs=1)"
   ]
  },
  {
   "cell_type": "markdown",
   "metadata": {
    "id": "amsq5GUsmYXb"
   },
   "source": [
    "## Evaluation and Prediction with `MinDiffModel`\n",
    "\n",
    "Both evaluating and predicting with a `MinDiffModel` are similar to doing so with the original model.\n",
    "\n",
    "When calling `evaluate` you can pass in either the original dataset or the one containing MinDiff data. If you choose the latter, you will also get the `min_diff_loss` metric in addition to any other metrics being measured `loss` will also include the `min_diff_loss`.\n",
    "\n",
    "When calling `evaluate` you can pass in either the original dataset or the one containing MinDiff data.  If you include MinDiff in the call to evaluate, two things will differ:\n",
    "\n",
    "*   An additional metric called `min_diff_loss` will be present in the output.\n",
    "*   The value of the `loss` metric will be the sum of the original `loss` metric (not shown in the output) and the `min_diff_loss`.\n"
   ]
  },
  {
   "cell_type": "code",
   "execution_count": 11,
   "metadata": {
    "execution": {
     "iopub.execute_input": "2022-04-01T00:10:53.814329Z",
     "iopub.status.busy": "2022-04-01T00:10:53.813914Z",
     "iopub.status.idle": "2022-04-01T00:10:56.166659Z",
     "shell.execute_reply": "2022-04-01T00:10:56.166051Z"
    },
    "id": "9EByyrITpkYQ"
   },
   "outputs": [
    {
     "name": "stdout",
     "output_type": "stream",
     "text": [
      "\r",
      " 1/77 [..............................] - ETA: 29s - loss: 0.5044"
     ]
    },
    {
     "name": "stdout",
     "output_type": "stream",
     "text": [
      "\b\b\b\b\b\b\b\b\b\b\b\b\b\b\b\b\b\b\b\b\b\b\b\b\b\b\b\b\b\b\b\b\b\b\b\b\b\b\b\b\b\b\b\b\b\b\b\b\b\b\b\b\b\b\b\b\b\b\b\b\b\b\b\b\r",
      " 9/77 [==>...........................] - ETA: 0s - loss: 0.7377 "
     ]
    },
    {
     "name": "stdout",
     "output_type": "stream",
     "text": [
      "\b\b\b\b\b\b\b\b\b\b\b\b\b\b\b\b\b\b\b\b\b\b\b\b\b\b\b\b\b\b\b\b\b\b\b\b\b\b\b\b\b\b\b\b\b\b\b\b\b\b\b\b\b\b\b\b\b\b\b\b\b\b\b\r",
      "18/77 [======>.......................] - ETA: 0s - loss: 0.7695"
     ]
    },
    {
     "name": "stdout",
     "output_type": "stream",
     "text": [
      "\b\b\b\b\b\b\b\b\b\b\b\b\b\b\b\b\b\b\b\b\b\b\b\b\b\b\b\b\b\b\b\b\b\b\b\b\b\b\b\b\b\b\b\b\b\b\b\b\b\b\b\b\b\b\b\b\b\b\b\b\b\b\b\r",
      "27/77 [=========>....................] - ETA: 0s - loss: 0.7451"
     ]
    },
    {
     "name": "stdout",
     "output_type": "stream",
     "text": [
      "\b\b\b\b\b\b\b\b\b\b\b\b\b\b\b\b\b\b\b\b\b\b\b\b\b\b\b\b\b\b\b\b\b\b\b\b\b\b\b\b\b\b\b\b\b\b\b\b\b\b\b\b\b\b\b\b\b\b\b\b\b\b\b\r",
      "36/77 [=============>................] - ETA: 0s - loss: 0.7718"
     ]
    },
    {
     "name": "stdout",
     "output_type": "stream",
     "text": [
      "\b\b\b\b\b\b\b\b\b\b\b\b\b\b\b\b\b\b\b\b\b\b\b\b\b\b\b\b\b\b\b\b\b\b\b\b\b\b\b\b\b\b\b\b\b\b\b\b\b\b\b\b\b\b\b\b\b\b\b\b\b\b\b\r",
      "45/77 [================>.............] - ETA: 0s - loss: 0.7497"
     ]
    },
    {
     "name": "stdout",
     "output_type": "stream",
     "text": [
      "\b\b\b\b\b\b\b\b\b\b\b\b\b\b\b\b\b\b\b\b\b\b\b\b\b\b\b\b\b\b\b\b\b\b\b\b\b\b\b\b\b\b\b\b\b\b\b\b\b\b\b\b\b\b\b\b\b\b\b\b\b\b\b\r",
      "54/77 [====================>.........] - ETA: 0s - loss: 0.7653"
     ]
    },
    {
     "name": "stdout",
     "output_type": "stream",
     "text": [
      "\b\b\b\b\b\b\b\b\b\b\b\b\b\b\b\b\b\b\b\b\b\b\b\b\b\b\b\b\b\b\b\b\b\b\b\b\b\b\b\b\b\b\b\b\b\b\b\b\b\b\b\b\b\b\b\b\b\b\b\b\b\b\b\r",
      "63/77 [=======================>......] - ETA: 0s - loss: 0.7655"
     ]
    },
    {
     "name": "stdout",
     "output_type": "stream",
     "text": [
      "\b\b\b\b\b\b\b\b\b\b\b\b\b\b\b\b\b\b\b\b\b\b\b\b\b\b\b\b\b\b\b\b\b\b\b\b\b\b\b\b\b\b\b\b\b\b\b\b\b\b\b\b\b\b\b\b\b\b\b\b\b\b\b\r",
      "72/77 [===========================>..] - ETA: 0s - loss: 0.7669"
     ]
    },
    {
     "name": "stdout",
     "output_type": "stream",
     "text": [
      "\b\b\b\b\b\b\b\b\b\b\b\b\b\b\b\b\b\b\b\b\b\b\b\b\b\b\b\b\b\b\b\b\b\b\b\b\b\b\b\b\b\b\b\b\b\b\b\b\b\b\b\b\b\b\b\b\b\b\b\b\b\b\b\r",
      "77/77 [==============================] - 1s 6ms/step - loss: 0.7653\n"
     ]
    },
    {
     "name": "stdout",
     "output_type": "stream",
     "text": [
      "\r",
      " 1/36 [..............................] - ETA: 36s - loss: 0.6000 - min_diff_loss: 0.0291"
     ]
    },
    {
     "name": "stderr",
     "output_type": "stream",
     "text": [
      "2022-04-01 00:10:55.551612: W tensorflow/core/grappler/optimizers/loop_optimizer.cc:907] Skipping loop optimization for Merge node with control input: min_diff_model/mmd_loss_inputs/assert_non_negative/assert_less_equal/Assert/AssertGuard/branch_executed/_8\n"
     ]
    },
    {
     "name": "stdout",
     "output_type": "stream",
     "text": [
      "\b\b\b\b\b\b\b\b\b\b\b\b\b\b\b\b\b\b\b\b\b\b\b\b\b\b\b\b\b\b\b\b\b\b\b\b\b\b\b\b\b\b\b\b\b\b\b\b\b\b\b\b\b\b\b\b\b\b\b\b\b\b\b\b\b\b\b\b\b\b\b\b\b\b\b\b\b\b\b\b\b\b\b\b\b\b\b\b\r",
      " 6/36 [====>.........................] - ETA: 0s - loss: 0.7697 - min_diff_loss: 0.0339 "
     ]
    },
    {
     "name": "stdout",
     "output_type": "stream",
     "text": [
      "\b\b\b\b\b\b\b\b\b\b\b\b\b\b\b\b\b\b\b\b\b\b\b\b\b\b\b\b\b\b\b\b\b\b\b\b\b\b\b\b\b\b\b\b\b\b\b\b\b\b\b\b\b\b\b\b\b\b\b\b\b\b\b\b\b\b\b\b\b\b\b\b\b\b\b\b\b\b\b\b\b\b\b\b\b\b\b\r",
      "11/36 [========>.....................] - ETA: 0s - loss: 0.7678 - min_diff_loss: 0.0316"
     ]
    },
    {
     "name": "stdout",
     "output_type": "stream",
     "text": [
      "\b\b\b\b\b\b\b\b\b\b\b\b\b\b\b\b\b\b\b\b\b\b\b\b\b\b\b\b\b\b\b\b\b\b\b\b\b\b\b\b\b\b\b\b\b\b\b\b\b\b\b\b\b\b\b\b\b\b\b\b\b\b\b\b\b\b\b\b\b\b\b\b\b\b\b\b\b\b\b\b\b\b\b\b\b\b\b\r",
      "16/36 [============>.................] - ETA: 0s - loss: 0.7910 - min_diff_loss: 0.0380"
     ]
    },
    {
     "name": "stdout",
     "output_type": "stream",
     "text": [
      "\b\b\b\b\b\b\b\b\b\b\b\b\b\b\b\b\b\b\b\b\b\b\b\b\b\b\b\b\b\b\b\b\b\b\b\b\b\b\b\b\b\b\b\b\b\b\b\b\b\b\b\b\b\b\b\b\b\b\b\b\b\b\b\b\b\b\b\b\b\b\b\b\b\b\b\b\b\b\b\b\b\b\b\b\b\b\b\r",
      "21/36 [================>.............] - ETA: 0s - loss: 0.8260 - min_diff_loss: 0.0309"
     ]
    },
    {
     "name": "stdout",
     "output_type": "stream",
     "text": [
      "\b\b\b\b\b\b\b\b\b\b\b\b\b\b\b\b\b\b\b\b\b\b\b\b\b\b\b\b\b\b\b\b\b\b\b\b\b\b\b\b\b\b\b\b\b\b\b\b\b\b\b\b\b\b\b\b\b\b\b\b\b\b\b\b\b\b\b\b\b\b\b\b\b\b\b\b\b\b\b\b\b\b\b\b\b\b\b\r",
      "26/36 [====================>.........] - ETA: 0s - loss: 0.8135 - min_diff_loss: 0.0296"
     ]
    },
    {
     "name": "stdout",
     "output_type": "stream",
     "text": [
      "\b\b\b\b\b\b\b\b\b\b\b\b\b\b\b\b\b\b\b\b\b\b\b\b\b\b\b\b\b\b\b\b\b\b\b\b\b\b\b\b\b\b\b\b\b\b\b\b\b\b\b\b\b\b\b\b\b\b\b\b\b\b\b\b\b\b\b\b\b\b\b\b\b\b\b\b\b\b\b\b\b\b\b\b\b\b\b\r",
      "31/36 [========================>.....] - ETA: 0s - loss: 0.8140 - min_diff_loss: 0.0282"
     ]
    },
    {
     "name": "stdout",
     "output_type": "stream",
     "text": [
      "\b\b\b\b\b\b\b\b\b\b\b\b\b\b\b\b\b\b\b\b\b\b\b\b\b\b\b\b\b\b\b\b\b\b\b\b\b\b\b\b\b\b\b\b\b\b\b\b\b\b\b\b\b\b\b\b\b\b\b\b\b\b\b\b\b\b\b\b\b\b\b\b\b\b\b\b\b\b\b\b\b\b\b\b\b\b\b\r",
      "36/36 [==============================] - ETA: 0s - loss: 0.8052 - min_diff_loss: 0.0284"
     ]
    },
    {
     "name": "stdout",
     "output_type": "stream",
     "text": [
      "\b\b\b\b\b\b\b\b\b\b\b\b\b\b\b\b\b\b\b\b\b\b\b\b\b\b\b\b\b\b\b\b\b\b\b\b\b\b\b\b\b\b\b\b\b\b\b\b\b\b\b\b\b\b\b\b\b\b\b\b\b\b\b\b\b\b\b\b\b\b\b\b\b\b\b\b\b\b\b\b\b\b\b\b\b\b\b\r",
      "36/36 [==============================] - 1s 12ms/step - loss: 0.8052 - min_diff_loss: 0.0284\n"
     ]
    }
   ],
   "source": [
    "_ = min_diff_model.evaluate(\n",
    "    tutorials_utils.df_to_dataset(train_df, batch_size=128))\n",
    "# Calling with MinDiff data will include min_diff_loss in metrics.\n",
    "_ = min_diff_model.evaluate(train_with_min_diff_ds)"
   ]
  },
  {
   "cell_type": "markdown",
   "metadata": {
    "id": "JSvO3idwstw8"
   },
   "source": [
    "When calling `predict` you can technically also pass in the dataset with the MinDiff data but it will be ignored and not affect the output.\n"
   ]
  },
  {
   "cell_type": "code",
   "execution_count": 12,
   "metadata": {
    "execution": {
     "iopub.execute_input": "2022-04-01T00:10:56.170191Z",
     "iopub.status.busy": "2022-04-01T00:10:56.169789Z",
     "iopub.status.idle": "2022-04-01T00:10:58.216340Z",
     "shell.execute_reply": "2022-04-01T00:10:58.215649Z"
    },
    "id": "vj-d3OxtrIPN"
   },
   "outputs": [
    {
     "name": "stderr",
     "output_type": "stream",
     "text": [
      "2022-04-01 00:10:57.629525: W tensorflow/core/grappler/optimizers/loop_optimizer.cc:907] Skipping loop optimization for Merge node with control input: min_diff_model/mmd_loss_inputs/assert_non_negative/assert_less_equal/Assert/AssertGuard/branch_executed/_8\n"
     ]
    }
   ],
   "source": [
    "_ = min_diff_model.predict(\n",
    "    tutorials_utils.df_to_dataset(train_df, batch_size=128))\n",
    "_ = min_diff_model.predict(train_with_min_diff_ds)  # Identical to results above."
   ]
  },
  {
   "cell_type": "markdown",
   "metadata": {
    "id": "-fNyaok_L5Q4"
   },
   "source": [
    "##Limitations of using `MinDiffModel` directly\n",
    "\n",
    "When using `MinDiffModel` as described above, most methods will use the default implementations of `tf.keras.Model` (exceptions listed in the [API documentation](https://www.tensorflow.org/responsible_ai/model_remediation/api_docs/python/model_remediation/min_diff/keras/MinDiffModel#methods)).\n"
   ]
  },
  {
   "cell_type": "code",
   "execution_count": 13,
   "metadata": {
    "execution": {
     "iopub.execute_input": "2022-04-01T00:10:58.220209Z",
     "iopub.status.busy": "2022-04-01T00:10:58.219739Z",
     "iopub.status.idle": "2022-04-01T00:10:58.224046Z",
     "shell.execute_reply": "2022-04-01T00:10:58.223383Z"
    },
    "id": "kCMMgyHHNTXj"
   },
   "outputs": [
    {
     "name": "stdout",
     "output_type": "stream",
     "text": [
      "MinDiffModel.fit == keras.Model.fit\n",
      "True\n",
      "MinDiffModel.train_step == keras.Model.train_step\n",
      "True\n"
     ]
    }
   ],
   "source": [
    "print('MinDiffModel.fit == keras.Model.fit')\n",
    "print(min_diff.keras.MinDiffModel.fit == tf.keras.Model.fit)\n",
    "print('MinDiffModel.train_step == keras.Model.train_step')\n",
    "print(min_diff.keras.MinDiffModel.train_step == tf.keras.Model.train_step)"
   ]
  },
  {
   "cell_type": "markdown",
   "metadata": {
    "id": "SAuIu3OPT_Yb"
   },
   "source": [
    "For `keras.Sequential` or `keras.Model`, this is perfectly fine since they use the same functions."
   ]
  },
  {
   "cell_type": "code",
   "execution_count": 14,
   "metadata": {
    "execution": {
     "iopub.execute_input": "2022-04-01T00:10:58.226899Z",
     "iopub.status.busy": "2022-04-01T00:10:58.226528Z",
     "iopub.status.idle": "2022-04-01T00:10:58.230717Z",
     "shell.execute_reply": "2022-04-01T00:10:58.230066Z"
    },
    "id": "I5_1UlR3UhFt"
   },
   "outputs": [
    {
     "name": "stdout",
     "output_type": "stream",
     "text": [
      "Sequential.fit == keras.Model.fit\n",
      "True\n",
      "tf.keras.Sequential.train_step == keras.Model.train_step\n",
      "True\n"
     ]
    }
   ],
   "source": [
    "print('Sequential.fit == keras.Model.fit')\n",
    "print(tf.keras.Sequential.fit == tf.keras.Model.fit)\n",
    "print('tf.keras.Sequential.train_step == keras.Model.train_step')\n",
    "print(tf.keras.Sequential.train_step == tf.keras.Model.train_step)"
   ]
  },
  {
   "cell_type": "markdown",
   "metadata": {
    "id": "EW33EjzKUqcD"
   },
   "source": [
    "However, if your model is a [subclass of `keras.Model`](https://www.tensorflow.org/guide/keras/custom_layers_and_models#the_model_class), wrapping it with `MinDiffModel` will effectively lose the customization."
   ]
  },
  {
   "cell_type": "code",
   "execution_count": 15,
   "metadata": {
    "execution": {
     "iopub.execute_input": "2022-04-01T00:10:58.233806Z",
     "iopub.status.busy": "2022-04-01T00:10:58.233263Z",
     "iopub.status.idle": "2022-04-01T00:10:58.237364Z",
     "shell.execute_reply": "2022-04-01T00:10:58.236802Z"
    },
    "id": "FD6cbym2V0ek"
   },
   "outputs": [
    {
     "name": "stdout",
     "output_type": "stream",
     "text": [
      "CustomModel.train_step == keras.Model.train_step\n",
      "False\n"
     ]
    }
   ],
   "source": [
    "class CustomModel(tf.keras.Model):\n",
    "\n",
    "  def train_step(self, **kwargs):\n",
    "    pass  # Custom implementation.\n",
    "\n",
    "print('CustomModel.train_step == keras.Model.train_step')\n",
    "print(CustomModel.train_step == tf.keras.Model.train_step)"
   ]
  },
  {
   "cell_type": "markdown",
   "metadata": {
    "id": "7tRHsJWHWDqE"
   },
   "source": [
    "If this is your use case, you should not use `MinDiffModel` directly. Instead, you will need to subclass it as described in the [customization guide](./customizing_min_diff_model)."
   ]
  },
  {
   "cell_type": "markdown",
   "metadata": {
    "id": "rylE-YPSHSD_"
   },
   "source": [
    "## Additional Resources\n",
    "\n",
    "*   For an in depth discussion on fairness evaluation see the [Fairness Indicators guidance](https://www.tensorflow.org/responsible_ai/fairness_indicators/guide/guidance)\n",
    "*   For general information on Remediation and MinDiff, see the [remediation overview](https://www.tensorflow.org/responsible_ai/model_remediation).\n",
    "*    For details on requirements surrounding MinDiff see [this guide](https://www.tensorflow.org/responsible_ai/model_remediation/min_diff/guide/requirements).\n",
    "*   To see an end-to-end tutorial on using MinDiff in Keras, see [this tutorial](https://www.tensorflow.org/responsible_ai/model_remediation/min_diff/tutorials/min_diff_keras)."
   ]
  }
 ],
 "metadata": {
  "colab": {
   "collapsed_sections": [],
   "name": "integrating_min_diff_with_min_diff_model.ipynb",
   "toc_visible": true
  },
  "kernelspec": {
   "display_name": "Python 3",
   "name": "python3"
  },
  "language_info": {
   "codemirror_mode": {
    "name": "ipython",
    "version": 3
   },
   "file_extension": ".py",
   "mimetype": "text/x-python",
   "name": "python",
   "nbconvert_exporter": "python",
   "pygments_lexer": "ipython3",
   "version": "3.7.5"
  }
 },
 "nbformat": 4,
 "nbformat_minor": 0
}
