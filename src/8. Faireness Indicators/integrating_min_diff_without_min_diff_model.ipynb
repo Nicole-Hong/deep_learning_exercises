{
 "cells": [
  {
   "cell_type": "markdown",
   "metadata": {
    "id": "mpuejPjIFoQn"
   },
   "source": [
    "##### Copyright 2020 The TensorFlow Authors."
   ]
  },
  {
   "cell_type": "code",
   "execution_count": 1,
   "metadata": {
    "cellView": "form",
    "execution": {
     "iopub.execute_input": "2022-04-01T00:07:30.821061Z",
     "iopub.status.busy": "2022-04-01T00:07:30.820458Z",
     "iopub.status.idle": "2022-04-01T00:07:30.824633Z",
     "shell.execute_reply": "2022-04-01T00:07:30.824011Z"
    },
    "id": "iCxdpOf4F0D9"
   },
   "outputs": [],
   "source": [
    "#@title Licensed under the Apache License, Version 2.0 (the \"License\");\n",
    "# you may not use this file except in compliance with the License.\n",
    "# You may obtain a copy of the License at\n",
    "#\n",
    "# https://www.apache.org/licenses/LICENSE-2.0\n",
    "#\n",
    "# Unless required by applicable law or agreed to in writing, software\n",
    "# distributed under the License is distributed on an \"AS IS\" BASIS,\n",
    "# WITHOUT WARRANTIES OR CONDITIONS OF ANY KIND, either express or implied.\n",
    "# See the License for the specific language governing permissions and\n",
    "# limitations under the License."
   ]
  },
  {
   "cell_type": "markdown",
   "metadata": {
    "id": "GA85tCT3F3aY"
   },
   "source": [
    "# Integrating MinDiff without MinDiffModel\n",
    "\n",
    "<div class=\"devsite-table-wrapper\"><table class=\"tfo-notebook-buttons\" align=\"left\">\n",
    "  <td><a target=\"_blank\" href=\"https://www.tensorflow.org/responsible_ai/model_remediation/min_diff/guide/integrating_min_diff_without_min_diff_model\">\n",
    "  <img src=\"https://www.tensorflow.org/images/tf_logo_32px.png\" />View on TensorFlow.org</a>\n",
    "</td>\n",
    "<td>\n",
    "  <a target=\"_blank\" href=\"https://colab.research.google.com/github/tensorflow/model-remediation/blob/master/docs/min_diff/guide/integrating_min_diff_without_min_diff_model.ipynb\">\n",
    "  <img src=\"https://www.tensorflow.org/images/colab_logo_32px.png\">Run in Google Colab</a>\n",
    "</td>\n",
    "<td>\n",
    "  <a target=\"_blank\" href=\"https://github.com/tensorflow/model-remediation/blob/master/docs/min_diff/guide/integrating_min_diff_without_min_diff_model.ipynb\">\n",
    "  <img width=32px src=\"https://www.tensorflow.org/images/GitHub-Mark-32px.png\">View source on GitHub</a>\n",
    "</td>\n",
    "<td>\n",
    "  <a target=\"_blank\" href=\"https://storage.googleapis.com/tensorflow_docs/model-remediation/docs/min_diff/guide/integrating_min_diff_without_min_diff_model.ipynb\"><img src=\"https://www.tensorflow.org/images/download_logo_32px.png\" />Download notebook</a>\n",
    "</td>\n",
    "</table></div>"
   ]
  },
  {
   "cell_type": "markdown",
   "metadata": {
    "id": "qfWz3dWyMjyw"
   },
   "source": [
    "##Introduction\n",
    "\n",
    "It is possible to integrate MinDiff directly into your model's implementation. While doing so does not have the convenience of using `MinDiffModel`, this option offers the highest level of control which can be particularly useful when your model is a subclass of `tf.keras.Model`.\n",
    "\n",
    "This guide demonstrates how you can integrate MinDiff directly into a custom model's implementation by adding to the `train_step` method."
   ]
  },
  {
   "cell_type": "markdown",
   "metadata": {
    "id": "X0KEthjiwvwg"
   },
   "source": [
    "##Setup"
   ]
  },
  {
   "cell_type": "code",
   "execution_count": 2,
   "metadata": {
    "execution": {
     "iopub.execute_input": "2022-04-01T00:07:30.827653Z",
     "iopub.status.busy": "2022-04-01T00:07:30.827273Z",
     "iopub.status.idle": "2022-04-01T00:07:32.520293Z",
     "shell.execute_reply": "2022-04-01T00:07:32.519630Z"
    },
    "id": "kmAHyZt9TErX"
   },
   "outputs": [
    {
     "name": "stdout",
     "output_type": "stream",
     "text": [
      "Collecting tensorflow-model-remediation\r\n",
      "  Using cached tensorflow_model_remediation-0.1.6-py3-none-any.whl (96 kB)\r\n"
     ]
    },
    {
     "name": "stdout",
     "output_type": "stream",
     "text": [
      "Collecting mock\r\n",
      "  Using cached mock-4.0.3-py3-none-any.whl (28 kB)\r\n",
      "Requirement already satisfied: tensorflow-hub in /tmpfs/src/tf_docs_env/lib/python3.7/site-packages (from tensorflow-model-remediation) (0.12.0)\r\n",
      "Requirement already satisfied: pandas in /tmpfs/src/tf_docs_env/lib/python3.7/site-packages (from tensorflow-model-remediation) (1.3.5)\r\n",
      "Requirement already satisfied: tensorflow>=2.0.0 in /tmpfs/src/tf_docs_env/lib/python3.7/site-packages (from tensorflow-model-remediation) (2.8.0)\r\n",
      "Requirement already satisfied: dill in /tmpfs/src/tf_docs_env/lib/python3.7/site-packages (from tensorflow-model-remediation) (0.3.4)\r\n",
      "Requirement already satisfied: h5py>=2.9.0 in /tmpfs/src/tf_docs_env/lib/python3.7/site-packages (from tensorflow>=2.0.0->tensorflow-model-remediation) (3.6.0)\r\n",
      "Requirement already satisfied: tensorflow-io-gcs-filesystem>=0.23.1 in /tmpfs/src/tf_docs_env/lib/python3.7/site-packages (from tensorflow>=2.0.0->tensorflow-model-remediation) (0.24.0)\r\n",
      "Requirement already satisfied: gast>=0.2.1 in /tmpfs/src/tf_docs_env/lib/python3.7/site-packages (from tensorflow>=2.0.0->tensorflow-model-remediation) (0.5.3)\r\n",
      "Requirement already satisfied: opt-einsum>=2.3.2 in /tmpfs/src/tf_docs_env/lib/python3.7/site-packages (from tensorflow>=2.0.0->tensorflow-model-remediation) (3.3.0)\r\n",
      "Requirement already satisfied: tensorboard<2.9,>=2.8 in /tmpfs/src/tf_docs_env/lib/python3.7/site-packages (from tensorflow>=2.0.0->tensorflow-model-remediation) (2.8.0)\r\n",
      "Requirement already satisfied: termcolor>=1.1.0 in /tmpfs/src/tf_docs_env/lib/python3.7/site-packages (from tensorflow>=2.0.0->tensorflow-model-remediation) (1.1.0)\r\n",
      "Requirement already satisfied: astunparse>=1.6.0 in /tmpfs/src/tf_docs_env/lib/python3.7/site-packages (from tensorflow>=2.0.0->tensorflow-model-remediation) (1.6.3)\r\n",
      "Requirement already satisfied: flatbuffers>=1.12 in /tmpfs/src/tf_docs_env/lib/python3.7/site-packages (from tensorflow>=2.0.0->tensorflow-model-remediation) (2.0)\r\n",
      "Requirement already satisfied: setuptools in /tmpfs/src/tf_docs_env/lib/python3.7/site-packages (from tensorflow>=2.0.0->tensorflow-model-remediation) (61.3.0)\r\n",
      "Requirement already satisfied: absl-py>=0.4.0 in /tmpfs/src/tf_docs_env/lib/python3.7/site-packages (from tensorflow>=2.0.0->tensorflow-model-remediation) (1.0.0)\r\n"
     ]
    },
    {
     "name": "stdout",
     "output_type": "stream",
     "text": [
      "Requirement already satisfied: libclang>=9.0.1 in /tmpfs/src/tf_docs_env/lib/python3.7/site-packages (from tensorflow>=2.0.0->tensorflow-model-remediation) (13.0.0)\r\n",
      "Requirement already satisfied: numpy>=1.20 in /tmpfs/src/tf_docs_env/lib/python3.7/site-packages (from tensorflow>=2.0.0->tensorflow-model-remediation) (1.21.5)\r\n",
      "Requirement already satisfied: wrapt>=1.11.0 in /tmpfs/src/tf_docs_env/lib/python3.7/site-packages (from tensorflow>=2.0.0->tensorflow-model-remediation) (1.14.0)\r\n",
      "Requirement already satisfied: keras<2.9,>=2.8.0rc0 in /tmpfs/src/tf_docs_env/lib/python3.7/site-packages (from tensorflow>=2.0.0->tensorflow-model-remediation) (2.8.0)\r\n",
      "Requirement already satisfied: keras-preprocessing>=1.1.1 in /tmpfs/src/tf_docs_env/lib/python3.7/site-packages (from tensorflow>=2.0.0->tensorflow-model-remediation) (1.1.2)\r\n",
      "Requirement already satisfied: google-pasta>=0.1.1 in /tmpfs/src/tf_docs_env/lib/python3.7/site-packages (from tensorflow>=2.0.0->tensorflow-model-remediation) (0.2.0)\r\n",
      "Requirement already satisfied: tf-estimator-nightly==2.8.0.dev2021122109 in /tmpfs/src/tf_docs_env/lib/python3.7/site-packages (from tensorflow>=2.0.0->tensorflow-model-remediation) (2.8.0.dev2021122109)\r\n",
      "Requirement already satisfied: six>=1.12.0 in /tmpfs/src/tf_docs_env/lib/python3.7/site-packages (from tensorflow>=2.0.0->tensorflow-model-remediation) (1.16.0)\r\n",
      "Requirement already satisfied: grpcio<2.0,>=1.24.3 in /tmpfs/src/tf_docs_env/lib/python3.7/site-packages (from tensorflow>=2.0.0->tensorflow-model-remediation) (1.45.0rc1)\r\n",
      "Requirement already satisfied: protobuf>=3.9.2 in /tmpfs/src/tf_docs_env/lib/python3.7/site-packages (from tensorflow>=2.0.0->tensorflow-model-remediation) (3.20.0rc2)\r\n",
      "Requirement already satisfied: typing-extensions>=3.6.6 in /tmpfs/src/tf_docs_env/lib/python3.7/site-packages (from tensorflow>=2.0.0->tensorflow-model-remediation) (4.1.1)\r\n",
      "Requirement already satisfied: python-dateutil>=2.7.3 in /tmpfs/src/tf_docs_env/lib/python3.7/site-packages (from pandas->tensorflow-model-remediation) (2.8.2)\r\n",
      "Requirement already satisfied: pytz>=2017.3 in /tmpfs/src/tf_docs_env/lib/python3.7/site-packages (from pandas->tensorflow-model-remediation) (2022.1)\r\n",
      "Requirement already satisfied: wheel<1.0,>=0.23.0 in /tmpfs/src/tf_docs_env/lib/python3.7/site-packages (from astunparse>=1.6.0->tensorflow>=2.0.0->tensorflow-model-remediation) (0.37.1)\r\n"
     ]
    },
    {
     "name": "stdout",
     "output_type": "stream",
     "text": [
      "Requirement already satisfied: cached-property in /tmpfs/src/tf_docs_env/lib/python3.7/site-packages (from h5py>=2.9.0->tensorflow>=2.0.0->tensorflow-model-remediation) (1.5.2)\r\n",
      "Requirement already satisfied: google-auth<3,>=1.6.3 in /tmpfs/src/tf_docs_env/lib/python3.7/site-packages (from tensorboard<2.9,>=2.8->tensorflow>=2.0.0->tensorflow-model-remediation) (2.6.2)\r\n",
      "Requirement already satisfied: google-auth-oauthlib<0.5,>=0.4.1 in /tmpfs/src/tf_docs_env/lib/python3.7/site-packages (from tensorboard<2.9,>=2.8->tensorflow>=2.0.0->tensorflow-model-remediation) (0.4.6)\r\n",
      "Requirement already satisfied: requests<3,>=2.21.0 in /tmpfs/src/tf_docs_env/lib/python3.7/site-packages (from tensorboard<2.9,>=2.8->tensorflow>=2.0.0->tensorflow-model-remediation) (2.27.1)\r\n",
      "Requirement already satisfied: werkzeug>=0.11.15 in /tmpfs/src/tf_docs_env/lib/python3.7/site-packages (from tensorboard<2.9,>=2.8->tensorflow>=2.0.0->tensorflow-model-remediation) (2.1.0)\r\n",
      "Requirement already satisfied: markdown>=2.6.8 in /tmpfs/src/tf_docs_env/lib/python3.7/site-packages (from tensorboard<2.9,>=2.8->tensorflow>=2.0.0->tensorflow-model-remediation) (3.3.6)\r\n",
      "Requirement already satisfied: tensorboard-data-server<0.7.0,>=0.6.0 in /tmpfs/src/tf_docs_env/lib/python3.7/site-packages (from tensorboard<2.9,>=2.8->tensorflow>=2.0.0->tensorflow-model-remediation) (0.6.1)\r\n"
     ]
    },
    {
     "name": "stdout",
     "output_type": "stream",
     "text": [
      "Requirement already satisfied: tensorboard-plugin-wit>=1.6.0 in /tmpfs/src/tf_docs_env/lib/python3.7/site-packages (from tensorboard<2.9,>=2.8->tensorflow>=2.0.0->tensorflow-model-remediation) (1.8.1)\r\n",
      "Requirement already satisfied: cachetools<6.0,>=2.0.0 in /tmpfs/src/tf_docs_env/lib/python3.7/site-packages (from google-auth<3,>=1.6.3->tensorboard<2.9,>=2.8->tensorflow>=2.0.0->tensorflow-model-remediation) (5.0.0)\r\n",
      "Requirement already satisfied: pyasn1-modules>=0.2.1 in /tmpfs/src/tf_docs_env/lib/python3.7/site-packages (from google-auth<3,>=1.6.3->tensorboard<2.9,>=2.8->tensorflow>=2.0.0->tensorflow-model-remediation) (0.2.8)\r\n",
      "Requirement already satisfied: rsa<5,>=3.1.4 in /tmpfs/src/tf_docs_env/lib/python3.7/site-packages (from google-auth<3,>=1.6.3->tensorboard<2.9,>=2.8->tensorflow>=2.0.0->tensorflow-model-remediation) (4.8)\r\n",
      "Requirement already satisfied: requests-oauthlib>=0.7.0 in /tmpfs/src/tf_docs_env/lib/python3.7/site-packages (from google-auth-oauthlib<0.5,>=0.4.1->tensorboard<2.9,>=2.8->tensorflow>=2.0.0->tensorflow-model-remediation) (1.3.1)\r\n",
      "Requirement already satisfied: importlib-metadata>=4.4 in /tmpfs/src/tf_docs_env/lib/python3.7/site-packages (from markdown>=2.6.8->tensorboard<2.9,>=2.8->tensorflow>=2.0.0->tensorflow-model-remediation) (4.11.3)\r\n"
     ]
    },
    {
     "name": "stdout",
     "output_type": "stream",
     "text": [
      "Requirement already satisfied: certifi>=2017.4.17 in /tmpfs/src/tf_docs_env/lib/python3.7/site-packages (from requests<3,>=2.21.0->tensorboard<2.9,>=2.8->tensorflow>=2.0.0->tensorflow-model-remediation) (2021.10.8)\r\n",
      "Requirement already satisfied: charset-normalizer~=2.0.0 in /tmpfs/src/tf_docs_env/lib/python3.7/site-packages (from requests<3,>=2.21.0->tensorboard<2.9,>=2.8->tensorflow>=2.0.0->tensorflow-model-remediation) (2.0.12)\r\n",
      "Requirement already satisfied: idna<4,>=2.5 in /tmpfs/src/tf_docs_env/lib/python3.7/site-packages (from requests<3,>=2.21.0->tensorboard<2.9,>=2.8->tensorflow>=2.0.0->tensorflow-model-remediation) (3.3)\r\n",
      "Requirement already satisfied: urllib3<1.27,>=1.21.1 in /tmpfs/src/tf_docs_env/lib/python3.7/site-packages (from requests<3,>=2.21.0->tensorboard<2.9,>=2.8->tensorflow>=2.0.0->tensorflow-model-remediation) (1.26.9)\r\n"
     ]
    },
    {
     "name": "stdout",
     "output_type": "stream",
     "text": [
      "Requirement already satisfied: zipp>=0.5 in /tmpfs/src/tf_docs_env/lib/python3.7/site-packages (from importlib-metadata>=4.4->markdown>=2.6.8->tensorboard<2.9,>=2.8->tensorflow>=2.0.0->tensorflow-model-remediation) (3.7.0)\r\n",
      "Requirement already satisfied: pyasn1<0.5.0,>=0.4.6 in /tmpfs/src/tf_docs_env/lib/python3.7/site-packages (from pyasn1-modules>=0.2.1->google-auth<3,>=1.6.3->tensorboard<2.9,>=2.8->tensorflow>=2.0.0->tensorflow-model-remediation) (0.4.8)\r\n",
      "Requirement already satisfied: oauthlib>=3.0.0 in /tmpfs/src/tf_docs_env/lib/python3.7/site-packages (from requests-oauthlib>=0.7.0->google-auth-oauthlib<0.5,>=0.4.1->tensorboard<2.9,>=2.8->tensorflow>=2.0.0->tensorflow-model-remediation) (3.2.0)\r\n"
     ]
    },
    {
     "name": "stdout",
     "output_type": "stream",
     "text": [
      "Installing collected packages: mock, tensorflow-model-remediation\r\n"
     ]
    },
    {
     "name": "stdout",
     "output_type": "stream",
     "text": [
      "Successfully installed mock-4.0.3 tensorflow-model-remediation-0.1.6\r\n"
     ]
    }
   ],
   "source": [
    "!pip install --upgrade tensorflow-model-remediation"
   ]
  },
  {
   "cell_type": "code",
   "execution_count": 3,
   "metadata": {
    "execution": {
     "iopub.execute_input": "2022-04-01T00:07:32.524083Z",
     "iopub.status.busy": "2022-04-01T00:07:32.523684Z",
     "iopub.status.idle": "2022-04-01T00:07:34.355588Z",
     "shell.execute_reply": "2022-04-01T00:07:34.354899Z"
    },
    "id": "XRa49AkYS6n1"
   },
   "outputs": [],
   "source": [
    "import tensorflow as tf\n",
    "tf.get_logger().setLevel('ERROR')  # Avoid TF warnings.\n",
    "from tensorflow_model_remediation import min_diff\n",
    "from tensorflow_model_remediation.tools.tutorials_utils import uci as tutorials_utils"
   ]
  },
  {
   "cell_type": "markdown",
   "metadata": {
    "id": "SIKBbSGZQvBt"
   },
   "source": [
    "First, download the data. For succinctness, the input preparation logic has been factored out into helper functions as described in the [input preparation guide](./min_diff_data_preparation#utility_functions_for_other_guides). You can read the full guide for details on this process."
   ]
  },
  {
   "cell_type": "code",
   "execution_count": 4,
   "metadata": {
    "execution": {
     "iopub.execute_input": "2022-04-01T00:07:34.359392Z",
     "iopub.status.busy": "2022-04-01T00:07:34.358967Z",
     "iopub.status.idle": "2022-04-01T00:07:36.747190Z",
     "shell.execute_reply": "2022-04-01T00:07:36.746458Z"
    },
    "id": "Yhbj5eqLQpzC"
   },
   "outputs": [],
   "source": [
    "# Original Dataset for training, sampled at 0.3 for reduced runtimes.\n",
    "train_df = tutorials_utils.get_uci_data(split='train', sample=0.3)\n",
    "train_ds = tutorials_utils.df_to_dataset(train_df, batch_size=128)\n",
    "\n",
    "# Dataset needed to train with MinDiff.\n",
    "train_with_min_diff_ds = (\n",
    "    tutorials_utils.get_uci_with_min_diff_dataset(split='train', sample=0.3))"
   ]
  },
  {
   "cell_type": "markdown",
   "metadata": {
    "id": "M5UY0aDskbsO"
   },
   "source": [
    "## Original Custom Model Customizations\n",
    "\n",
    "`tf.keras.Model` is designed to be easily customized via subclassing. This usually involves changing what happens in the call to `fit` as described [here](https://www.tensorflow.org/guide/keras/customizing_what_happens_in_fit).\n",
    "\n",
    "This guide uses a custom implementation where the `train_step` closely resembles the default `tf.keras.Model.train_step`. Normally, there would be no benefit to doing so, but here, it will help demonstrate how to integrate MinDiff."
   ]
  },
  {
   "cell_type": "code",
   "execution_count": 5,
   "metadata": {
    "execution": {
     "iopub.execute_input": "2022-04-01T00:07:36.750830Z",
     "iopub.status.busy": "2022-04-01T00:07:36.750631Z",
     "iopub.status.idle": "2022-04-01T00:07:36.755587Z",
     "shell.execute_reply": "2022-04-01T00:07:36.755088Z"
    },
    "id": "WSUm4UemEdQO"
   },
   "outputs": [],
   "source": [
    "class CustomModel(tf.keras.Model):\n",
    "\n",
    "  def train_step(self, data):\n",
    "    # Unpack the data.\n",
    "    x, y, sample_weight = tf.keras.utils.unpack_x_y_sample_weight(data)\n",
    "\n",
    "    with tf.GradientTape() as tape:\n",
    "      y_pred = self(x, training=True)  # Forward pass.\n",
    "      loss = self.compiled_loss(\n",
    "          y, y_pred, sample_weight, regularization_losses=self.losses)\n",
    "      # Compute the loss value.\n",
    "      loss = self.compiled_loss(\n",
    "          y, y_pred, sample_weight, regularization_losses=self.losses)\n",
    "\n",
    "    # Compute gradients and update weights.\n",
    "    self.optimizer.minimize(loss, self.trainable_variables, tape=tape)\n",
    "    # Update and return metrics.\n",
    "    self.compiled_metrics.update_state(y, y_pred, sample_weight)\n",
    "    return {m.name: m.result() for m in self.metrics}"
   ]
  },
  {
   "cell_type": "markdown",
   "metadata": {
    "id": "6NrwQD_4Hqjk"
   },
   "source": [
    "Train the model as you would a typical `Model` using the Functional API."
   ]
  },
  {
   "cell_type": "code",
   "execution_count": 6,
   "metadata": {
    "execution": {
     "iopub.execute_input": "2022-04-01T00:07:36.758692Z",
     "iopub.status.busy": "2022-04-01T00:07:36.758238Z",
     "iopub.status.idle": "2022-04-01T00:07:38.970789Z",
     "shell.execute_reply": "2022-04-01T00:07:38.970214Z"
    },
    "id": "ZwNFHlmuHtrg"
   },
   "outputs": [
    {
     "name": "stdout",
     "output_type": "stream",
     "text": [
      "\r",
      " 1/77 [..............................] - ETA: 1:38 - loss: 1.6285"
     ]
    },
    {
     "name": "stdout",
     "output_type": "stream",
     "text": [
      "\b\b\b\b\b\b\b\b\b\b\b\b\b\b\b\b\b\b\b\b\b\b\b\b\b\b\b\b\b\b\b\b\b\b\b\b\b\b\b\b\b\b\b\b\b\b\b\b\b\b\b\b\b\b\b\b\b\b\b\b\b\b\b\b\b\r",
      " 8/77 [==>...........................] - ETA: 0s - loss: 0.7569  "
     ]
    },
    {
     "name": "stdout",
     "output_type": "stream",
     "text": [
      "\b\b\b\b\b\b\b\b\b\b\b\b\b\b\b\b\b\b\b\b\b\b\b\b\b\b\b\b\b\b\b\b\b\b\b\b\b\b\b\b\b\b\b\b\b\b\b\b\b\b\b\b\b\b\b\b\b\b\b\b\b\b\b\r",
      "16/77 [=====>........................] - ETA: 0s - loss: 0.6692"
     ]
    },
    {
     "name": "stdout",
     "output_type": "stream",
     "text": [
      "\b\b\b\b\b\b\b\b\b\b\b\b\b\b\b\b\b\b\b\b\b\b\b\b\b\b\b\b\b\b\b\b\b\b\b\b\b\b\b\b\b\b\b\b\b\b\b\b\b\b\b\b\b\b\b\b\b\b\b\b\b\b\b\r",
      "23/77 [=======>......................] - ETA: 0s - loss: 0.6233"
     ]
    },
    {
     "name": "stdout",
     "output_type": "stream",
     "text": [
      "\b\b\b\b\b\b\b\b\b\b\b\b\b\b\b\b\b\b\b\b\b\b\b\b\b\b\b\b\b\b\b\b\b\b\b\b\b\b\b\b\b\b\b\b\b\b\b\b\b\b\b\b\b\b\b\b\b\b\b\b\b\b\b\r",
      "31/77 [===========>..................] - ETA: 0s - loss: 0.6072"
     ]
    },
    {
     "name": "stdout",
     "output_type": "stream",
     "text": [
      "\b\b\b\b\b\b\b\b\b\b\b\b\b\b\b\b\b\b\b\b\b\b\b\b\b\b\b\b\b\b\b\b\b\b\b\b\b\b\b\b\b\b\b\b\b\b\b\b\b\b\b\b\b\b\b\b\b\b\b\b\b\b\b\r",
      "39/77 [==============>...............] - ETA: 0s - loss: 0.5843"
     ]
    },
    {
     "name": "stdout",
     "output_type": "stream",
     "text": [
      "\b\b\b\b\b\b\b\b\b\b\b\b\b\b\b\b\b\b\b\b\b\b\b\b\b\b\b\b\b\b\b\b\b\b\b\b\b\b\b\b\b\b\b\b\b\b\b\b\b\b\b\b\b\b\b\b\b\b\b\b\b\b\b\r",
      "47/77 [=================>............] - ETA: 0s - loss: 0.5604"
     ]
    },
    {
     "name": "stdout",
     "output_type": "stream",
     "text": [
      "\b\b\b\b\b\b\b\b\b\b\b\b\b\b\b\b\b\b\b\b\b\b\b\b\b\b\b\b\b\b\b\b\b\b\b\b\b\b\b\b\b\b\b\b\b\b\b\b\b\b\b\b\b\b\b\b\b\b\b\b\b\b\b\r",
      "55/77 [====================>.........] - ETA: 0s - loss: 0.5605"
     ]
    },
    {
     "name": "stdout",
     "output_type": "stream",
     "text": [
      "\b\b\b\b\b\b\b\b\b\b\b\b\b\b\b\b\b\b\b\b\b\b\b\b\b\b\b\b\b\b\b\b\b\b\b\b\b\b\b\b\b\b\b\b\b\b\b\b\b\b\b\b\b\b\b\b\b\b\b\b\b\b\b\r",
      "62/77 [=======================>......] - ETA: 0s - loss: 0.5524"
     ]
    },
    {
     "name": "stdout",
     "output_type": "stream",
     "text": [
      "\b\b\b\b\b\b\b\b\b\b\b\b\b\b\b\b\b\b\b\b\b\b\b\b\b\b\b\b\b\b\b\b\b\b\b\b\b\b\b\b\b\b\b\b\b\b\b\b\b\b\b\b\b\b\b\b\b\b\b\b\b\b\b\r",
      "69/77 [=========================>....] - ETA: 0s - loss: 0.5439"
     ]
    },
    {
     "name": "stdout",
     "output_type": "stream",
     "text": [
      "\b\b\b\b\b\b\b\b\b\b\b\b\b\b\b\b\b\b\b\b\b\b\b\b\b\b\b\b\b\b\b\b\b\b\b\b\b\b\b\b\b\b\b\b\b\b\b\b\b\b\b\b\b\b\b\b\b\b\b\b\b\b\b\r",
      "77/77 [==============================] - ETA: 0s - loss: 0.5331"
     ]
    },
    {
     "name": "stdout",
     "output_type": "stream",
     "text": [
      "\b\b\b\b\b\b\b\b\b\b\b\b\b\b\b\b\b\b\b\b\b\b\b\b\b\b\b\b\b\b\b\b\b\b\b\b\b\b\b\b\b\b\b\b\b\b\b\b\b\b\b\b\b\b\b\b\b\b\b\b\b\b\b\r",
      "77/77 [==============================] - 2s 7ms/step - loss: 0.5331\n"
     ]
    }
   ],
   "source": [
    "model = tutorials_utils.get_uci_model(model_class=CustomModel)  # Use CustomModel.\n",
    "\n",
    "model.compile(optimizer='adam', loss='binary_crossentropy')\n",
    "\n",
    "_ = model.fit(train_ds, epochs=1)"
   ]
  },
  {
   "cell_type": "markdown",
   "metadata": {
    "id": "6_SV-IJuJsZB"
   },
   "source": [
    "## Integrating MinDiff directly into your model\n"
   ]
  },
  {
   "cell_type": "markdown",
   "metadata": {
    "id": "TRohSkrnL-y5"
   },
   "source": [
    "### Adding MinDiff to the `train_step`\n",
    "\n",
    "To integrate MinDiff, you will need to add some lines to the `CustomModel` which is renamed here as `CustomModelWithMinDiff`.\n",
    "\n",
    "Note: For convenience the MinDiff loss and weight are hard coded. In practice, you will likely want to pass them into the `__init__` method and access them as instance attributes.\n",
    "\n",
    "For clarity, this guide uses a boolean flag called `apply_min_diff`. All of the code relevant to MinDiff will only be run if it is set to `True`. If set to `False` then the model would behave exactly the same as `CustomModel`."
   ]
  },
  {
   "cell_type": "code",
   "execution_count": 7,
   "metadata": {
    "execution": {
     "iopub.execute_input": "2022-04-01T00:07:38.974298Z",
     "iopub.status.busy": "2022-04-01T00:07:38.973931Z",
     "iopub.status.idle": "2022-04-01T00:07:38.980939Z",
     "shell.execute_reply": "2022-04-01T00:07:38.980411Z"
    },
    "id": "Tq3PGiRzMzzq"
   },
   "outputs": [],
   "source": [
    "min_diff_loss_fn = min_diff.losses.MMDLoss()  # Hard coded for convenience.\n",
    "min_diff_weight = 2  # Arbitrary number for example, hard coded for convenience.\n",
    "apply_min_diff = True  # Flag to help show where the additional lines are.\n",
    "\n",
    "class CustomModelWithMinDiff(tf.keras.Model):\n",
    "\n",
    "  def train_step(self, data):\n",
    "    # Unpack the data.\n",
    "    x, y, sample_weight = tf.keras.utils.unpack_x_y_sample_weight(data)\n",
    "\n",
    "    # Unpack the MinDiff data.\n",
    "    if apply_min_diff:\n",
    "      min_diff_data = min_diff.keras.utils.unpack_min_diff_data(x)\n",
    "      min_diff_x, membership, min_diff_sample_weight = (\n",
    "          tf.keras.utils.unpack_x_y_sample_weight(min_diff_data))\n",
    "      x = min_diff.keras.utils.unpack_original_inputs(x)\n",
    "\n",
    "    with tf.GradientTape() as tape:\n",
    "      y_pred = self(x, training=True)  # Forward pass.\n",
    "      loss = self.compiled_loss(\n",
    "          y, y_pred, sample_weight, regularization_losses=self.losses)\n",
    "      # Compute the loss value.\n",
    "      loss = self.compiled_loss(\n",
    "          y, y_pred, sample_weight, regularization_losses=self.losses)\n",
    "\n",
    "      # Calculate and add the min_diff_loss. This must be done within the scope\n",
    "      # of tf.GradientTape().\n",
    "      if apply_min_diff:\n",
    "        min_diff_predictions = self(min_diff_x, training=True)\n",
    "        min_diff_loss = min_diff_weight * min_diff_loss_fn(\n",
    "            min_diff_predictions, membership, min_diff_sample_weight)\n",
    "        loss += min_diff_loss\n",
    "\n",
    "    # Compute gradients and update weights.\n",
    "    self.optimizer.minimize(loss, self.trainable_variables, tape=tape)\n",
    "    # Update and return metrics.\n",
    "    self.compiled_metrics.update_state(y, y_pred, sample_weight)\n",
    "    return {m.name: m.result() for m in self.metrics}"
   ]
  },
  {
   "cell_type": "markdown",
   "metadata": {
    "id": "Z2JMBhXmRnv7"
   },
   "source": [
    "Training with this model looks exactly the same as with the previous with the exception of the dataset used."
   ]
  },
  {
   "cell_type": "code",
   "execution_count": 8,
   "metadata": {
    "execution": {
     "iopub.execute_input": "2022-04-01T00:07:38.983898Z",
     "iopub.status.busy": "2022-04-01T00:07:38.983489Z",
     "iopub.status.idle": "2022-04-01T00:07:41.188489Z",
     "shell.execute_reply": "2022-04-01T00:07:41.187780Z"
    },
    "id": "3C8tUAxBRNtx"
   },
   "outputs": [
    {
     "name": "stdout",
     "output_type": "stream",
     "text": [
      "\r",
      " 1/36 [..............................] - ETA: 54s - loss: 0.8567"
     ]
    },
    {
     "name": "stderr",
     "output_type": "stream",
     "text": [
      "2022-04-01 00:07:40.717416: W tensorflow/core/grappler/optimizers/loop_optimizer.cc:907] Skipping loop optimization for Merge node with control input: mmd_loss_inputs/assert_non_negative/assert_less_equal/Assert/AssertGuard/branch_executed/_8\n"
     ]
    },
    {
     "name": "stdout",
     "output_type": "stream",
     "text": [
      "\b\b\b\b\b\b\b\b\b\b\b\b\b\b\b\b\b\b\b\b\b\b\b\b\b\b\b\b\b\b\b\b\b\b\b\b\b\b\b\b\b\b\b\b\b\b\b\b\b\b\b\b\b\b\b\b\b\b\b\b\b\b\b\b\r",
      " 7/36 [====>.........................] - ETA: 0s - loss: 0.7582 "
     ]
    },
    {
     "name": "stdout",
     "output_type": "stream",
     "text": [
      "\b\b\b\b\b\b\b\b\b\b\b\b\b\b\b\b\b\b\b\b\b\b\b\b\b\b\b\b\b\b\b\b\b\b\b\b\b\b\b\b\b\b\b\b\b\b\b\b\b\b\b\b\b\b\b\b\b\b\b\b\b\b\b\r",
      "14/36 [==========>...................] - ETA: 0s - loss: 0.7320"
     ]
    },
    {
     "name": "stdout",
     "output_type": "stream",
     "text": [
      "\b\b\b\b\b\b\b\b\b\b\b\b\b\b\b\b\b\b\b\b\b\b\b\b\b\b\b\b\b\b\b\b\b\b\b\b\b\b\b\b\b\b\b\b\b\b\b\b\b\b\b\b\b\b\b\b\b\b\b\b\b\b\b\r",
      "21/36 [================>.............] - ETA: 0s - loss: 0.7037"
     ]
    },
    {
     "name": "stdout",
     "output_type": "stream",
     "text": [
      "\b\b\b\b\b\b\b\b\b\b\b\b\b\b\b\b\b\b\b\b\b\b\b\b\b\b\b\b\b\b\b\b\b\b\b\b\b\b\b\b\b\b\b\b\b\b\b\b\b\b\b\b\b\b\b\b\b\b\b\b\b\b\b\r",
      "28/36 [======================>.......] - ETA: 0s - loss: 0.6638"
     ]
    },
    {
     "name": "stdout",
     "output_type": "stream",
     "text": [
      "\b\b\b\b\b\b\b\b\b\b\b\b\b\b\b\b\b\b\b\b\b\b\b\b\b\b\b\b\b\b\b\b\b\b\b\b\b\b\b\b\b\b\b\b\b\b\b\b\b\b\b\b\b\b\b\b\b\b\b\b\b\b\b\r",
      "35/36 [============================>.] - ETA: 0s - loss: 0.6427"
     ]
    },
    {
     "name": "stdout",
     "output_type": "stream",
     "text": [
      "\b\b\b\b\b\b\b\b\b\b\b\b\b\b\b\b\b\b\b\b\b\b\b\b\b\b\b\b\b\b\b\b\b\b\b\b\b\b\b\b\b\b\b\b\b\b\b\b\b\b\b\b\b\b\b\b\b\b\b\b\b\b\b\r",
      "36/36 [==============================] - 2s 8ms/step - loss: 0.6380\n"
     ]
    }
   ],
   "source": [
    "model = tutorials_utils.get_uci_model(model_class=CustomModelWithMinDiff)\n",
    "\n",
    "model.compile(optimizer='adam', loss='binary_crossentropy')\n",
    "\n",
    "_ = model.fit(train_with_min_diff_ds, epochs=1)"
   ]
  },
  {
   "cell_type": "markdown",
   "metadata": {
    "id": "6S19mOvVpDU2"
   },
   "source": [
    "### Reshaping your input (optional)\n",
    "\n",
    "Given that this approach provides full control, you can take this opportunity to reshape the input into a slightly cleaner form. When using `MinDiffModel`, the `min_diff_data` needs to be packed into the first component of every batch. This is the case with the `train_with_min_diff_ds` dataset."
   ]
  },
  {
   "cell_type": "code",
   "execution_count": 9,
   "metadata": {
    "execution": {
     "iopub.execute_input": "2022-04-01T00:07:41.191550Z",
     "iopub.status.busy": "2022-04-01T00:07:41.191358Z",
     "iopub.status.idle": "2022-04-01T00:07:41.325552Z",
     "shell.execute_reply": "2022-04-01T00:07:41.324824Z"
    },
    "id": "dGeKuuQfKlqx"
   },
   "outputs": [
    {
     "name": "stdout",
     "output_type": "stream",
     "text": [
      "Type of x: <class 'tensorflow_model_remediation.min_diff.keras.utils.input_utils.MinDiffPackedInputs'>\n",
      "Type of y: <class 'tensorflow.python.framework.ops.EagerTensor'>\n"
     ]
    }
   ],
   "source": [
    "for x, y in train_with_min_diff_ds.take(1):\n",
    "  print('Type of x:', type(x))  # MinDiffPackedInputs\n",
    "  print('Type of y:', type(y))  # Tensor (original labels)"
   ]
  },
  {
   "cell_type": "markdown",
   "metadata": {
    "id": "If9fHA0dLL7B"
   },
   "source": [
    "With this requirement lifted, you can reorganize the data in a slightly more intuitive structure with the original and MinDiff data cleanly separated."
   ]
  },
  {
   "cell_type": "code",
   "execution_count": 10,
   "metadata": {
    "execution": {
     "iopub.execute_input": "2022-04-01T00:07:41.329013Z",
     "iopub.status.busy": "2022-04-01T00:07:41.328648Z",
     "iopub.status.idle": "2022-04-01T00:07:41.443267Z",
     "shell.execute_reply": "2022-04-01T00:07:41.442591Z"
    },
    "id": "gs_HUT5YLLIm"
   },
   "outputs": [],
   "source": [
    "def _reformat_input(inputs, original_labels):\n",
    "  min_diff_data = min_diff.keras.utils.unpack_min_diff_data(inputs)\n",
    "  original_inputs = min_diff.keras.utils.unpack_original_inputs(inputs)\n",
    "  original_data = (original_inputs, original_labels)\n",
    "\n",
    "  return {\n",
    "      'min_diff_data': min_diff_data,\n",
    "      'original_data': original_data}\n",
    "\n",
    "customized_train_with_min_diff_ds = train_with_min_diff_ds.map(_reformat_input)"
   ]
  },
  {
   "cell_type": "markdown",
   "metadata": {
    "id": "EYDw_6yDLr6i"
   },
   "source": [
    "This step is completely optional but can be useful to better organize the data. If you do so, the only difference in how you implement `CustomModelWithMinDiff` will be how you unpack `data` at the beginning.\n",
    "```\n",
    "class CustomModelWithMinDiff(tf.keras.Model):\n",
    "\n",
    "  def train_step(self, data):\n",
    "    # Unpack the MinDiff data from the custom structure.\n",
    "    if apply_min_diff:\n",
    "      min_diff_data = data['min_diff_data']\n",
    "      min_diff_x, membership, min_diff_sample_weight = (\n",
    "          tf.keras.utils.unpack_x_y_sample_weight(min_diff_data))\n",
    "      data = data['original_data']\n",
    "\n",
    "    ... # possible preprocessing or validation on data before unpacking.\n",
    "\n",
    "    x, y, sample_weight = tf.keras.utils.unpack_x_y_sample_weight(data)\n",
    "\n",
    "    ...\n",
    "```"
   ]
  },
  {
   "cell_type": "markdown",
   "metadata": {
    "id": "d-2x63WvwZKO"
   },
   "source": [
    "With this last step, you can fully control both the input format and how it is used within the model to apply MinDiff."
   ]
  },
  {
   "cell_type": "markdown",
   "metadata": {
    "id": "X5RDsztOHa05"
   },
   "source": [
    "## Additional Resources\n",
    "\n",
    "*   For an in depth discussion on fairness evaluation see the [Fairness Indicators guidance](https://www.tensorflow.org/responsible_ai/fairness_indicators/guide/guidance)\n",
    "*   For general information on Remediation and MinDiff, see the [remediation overview](https://www.tensorflow.org/responsible_ai/model_remediation).\n",
    "*    For details on requirements surrounding MinDiff see [this guide](https://www.tensorflow.org/responsible_ai/model_remediation/min_diff/guide/requirements).\n",
    "*   To see an end-to-end tutorial on using MinDiff in Keras, see [this tutorial](https://www.tensorflow.org/responsible_ai/model_remediation/min_diff/tutorials/min_diff_keras)."
   ]
  }
 ],
 "metadata": {
  "colab": {
   "collapsed_sections": [],
   "name": "integrating_min_diff_without_min_diff_model.ipynb",
   "toc_visible": true
  },
  "kernelspec": {
   "display_name": "Python 3",
   "name": "python3"
  },
  "language_info": {
   "codemirror_mode": {
    "name": "ipython",
    "version": 3
   },
   "file_extension": ".py",
   "mimetype": "text/x-python",
   "name": "python",
   "nbconvert_exporter": "python",
   "pygments_lexer": "ipython3",
   "version": "3.7.5"
  }
 },
 "nbformat": 4,
 "nbformat_minor": 0
}
