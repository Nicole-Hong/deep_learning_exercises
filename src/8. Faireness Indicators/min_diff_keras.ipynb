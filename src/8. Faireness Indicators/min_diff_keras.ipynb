{
 "cells": [
  {
   "cell_type": "markdown",
   "metadata": {
    "id": "moGQn-psFggi"
   },
   "source": [
    "##### Copyright 2020 The TensorFlow Authors."
   ]
  },
  {
   "cell_type": "code",
   "execution_count": 1,
   "metadata": {
    "cellView": "form",
    "execution": {
     "iopub.execute_input": "2022-04-01T00:13:04.834040Z",
     "iopub.status.busy": "2022-04-01T00:13:04.833536Z",
     "iopub.status.idle": "2022-04-01T00:13:04.839008Z",
     "shell.execute_reply": "2022-04-01T00:13:04.838360Z"
    },
    "id": "cUGG66UTFwJ-"
   },
   "outputs": [],
   "source": [
    "#@title Licensed under the Apache License, Version 2.0 (the \"License\");\n",
    "# you may not use this file except in compliance with the License.\n",
    "# You may obtain a copy of the License at\n",
    "#\n",
    "# https://www.apache.org/licenses/LICENSE-2.0\n",
    "#\n",
    "# Unless required by applicable law or agreed to in writing, software\n",
    "# distributed under the License is distributed on an \"AS IS\" BASIS,\n",
    "# WITHOUT WARRANTIES OR CONDITIONS OF ANY KIND, either express or implied.\n",
    "# See the License for the specific language governing permissions and\n",
    "# limitations under the License."
   ]
  },
  {
   "cell_type": "markdown",
   "metadata": {
    "id": "YpbnPF_MEv4h"
   },
   "source": [
    "# Model Remediation Case Study\n",
    "\n",
    "<div class=\"devsite-table-wrapper\"><table class=\"tfo-notebook-buttons\" align=\"left\">\n",
    "  <td><a target=\"_blank\" href=\"https://www.tensorflow.org/responsible_ai/model_remediation/min_diff/tutorials/min_diff_keras\">\n",
    "  <img src=\"https://www.tensorflow.org/images/tf_logo_32px.png\" />View on TensorFlow.org</a>\n",
    "</td>\n",
    "<td>\n",
    "  <a target=\"_blank\" href=\"https://colab.research.google.com/github/tensorflow/model-remediation/blob/master/docs/min_diff/tutorials/min_diff_keras.ipynb\">\n",
    "  <img src=\"https://www.tensorflow.org/images/colab_logo_32px.png\">Run in Google Colab</a>\n",
    "</td>\n",
    "<td>\n",
    "  <a target=\"_blank\" href=\"https://github.com/tensorflow/model-remediation/blob/master/docs/min_diff/tutorials/min_diff_keras.ipynb\">\n",
    "  <img width=32px src=\"https://www.tensorflow.org/images/GitHub-Mark-32px.png\">View source on GitHub</a>\n",
    "</td>\n",
    "<td>\n",
    "  <a target=\"_blank\" href=\"https://storage.googleapis.com/tensorflow_docs/model-remediation/docs/min_diff/tutorials/min_diff_keras.ipynb\"><img src=\"https://www.tensorflow.org/images/download_logo_32px.png\" />Download notebook</a>\n",
    "</td>\n",
    "</table></div>"
   ]
  },
  {
   "cell_type": "markdown",
   "metadata": {
    "id": "yMcQGRPHnjP9"
   },
   "source": [
    "In this notebook, we’ll train a text classifier to identify written content that could be considered toxic or harmful, and apply MinDiff to remediate some fairness concerns. In our workflow, we will:\n",
    "1.   Evaluate our baseline model’s performance on text containing references to sensitive groups. \n",
    "2.   Improve performance on any underperforming groups by training with MinDiff. \n",
    "3.   Evaluate the new model’s performance on our chosen metric.\n",
    "\n",
    "Our purpose is to demonstrate usage of the MinDiff technique with a very minimal workflow, not to lay out a principled approach to fairness in machine learning. As such, our evaluation will only focus on one sensitive category and a single metric. We also don’t address potential shortcomings in the dataset, nor tune our configurations. In a production setting, you would want to approach each of these with rigor. For more information on evaluating for fairness, see [this guide](https://www.tensorflow.org/responsible_ai/fairness_indicators/guide/guidance).\n"
   ]
  },
  {
   "cell_type": "markdown",
   "metadata": {
    "id": "_FCDIaf8wsll"
   },
   "source": [
    "## Setup\n",
    "\n",
    "We begin by installing Fairness Indicators and TensorFlow Model Remediation.\n"
   ]
  },
  {
   "cell_type": "code",
   "execution_count": 2,
   "metadata": {
    "cellView": "form",
    "execution": {
     "iopub.execute_input": "2022-04-01T00:13:04.842353Z",
     "iopub.status.busy": "2022-04-01T00:13:04.841941Z",
     "iopub.status.idle": "2022-04-01T00:13:09.989880Z",
     "shell.execute_reply": "2022-04-01T00:13:09.989014Z"
    },
    "id": "WoA7i_6ShG6Y"
   },
   "outputs": [
    {
     "name": "stdout",
     "output_type": "stream",
     "text": [
      "Requirement already satisfied: tensorflow-model-remediation in /tmpfs/src/tf_docs_env/lib/python3.7/site-packages (0.1.6)\r\n"
     ]
    },
    {
     "name": "stdout",
     "output_type": "stream",
     "text": [
      "Requirement already satisfied: pandas in /tmpfs/src/tf_docs_env/lib/python3.7/site-packages (from tensorflow-model-remediation) (1.3.5)\r\n",
      "Requirement already satisfied: tensorflow>=2.0.0 in /tmpfs/src/tf_docs_env/lib/python3.7/site-packages (from tensorflow-model-remediation) (2.8.0)\r\n",
      "Requirement already satisfied: dill in /tmpfs/src/tf_docs_env/lib/python3.7/site-packages (from tensorflow-model-remediation) (0.3.1.1)\r\n",
      "Requirement already satisfied: mock in /tmpfs/src/tf_docs_env/lib/python3.7/site-packages (from tensorflow-model-remediation) (4.0.3)\r\n",
      "Requirement already satisfied: tensorflow-hub in /tmpfs/src/tf_docs_env/lib/python3.7/site-packages (from tensorflow-model-remediation) (0.12.0)\r\n"
     ]
    },
    {
     "name": "stdout",
     "output_type": "stream",
     "text": [
      "Requirement already satisfied: gast>=0.2.1 in /tmpfs/src/tf_docs_env/lib/python3.7/site-packages (from tensorflow>=2.0.0->tensorflow-model-remediation) (0.5.3)\r\n",
      "Requirement already satisfied: protobuf>=3.9.2 in /tmpfs/src/tf_docs_env/lib/python3.7/site-packages (from tensorflow>=2.0.0->tensorflow-model-remediation) (3.20.0rc2)\r\n",
      "Requirement already satisfied: absl-py>=0.4.0 in /tmpfs/src/tf_docs_env/lib/python3.7/site-packages (from tensorflow>=2.0.0->tensorflow-model-remediation) (1.0.0)\r\n",
      "Requirement already satisfied: flatbuffers>=1.12 in /tmpfs/src/tf_docs_env/lib/python3.7/site-packages (from tensorflow>=2.0.0->tensorflow-model-remediation) (2.0)\r\n",
      "Requirement already satisfied: tensorboard<2.9,>=2.8 in /tmpfs/src/tf_docs_env/lib/python3.7/site-packages (from tensorflow>=2.0.0->tensorflow-model-remediation) (2.8.0)\r\n",
      "Requirement already satisfied: wrapt>=1.11.0 in /tmpfs/src/tf_docs_env/lib/python3.7/site-packages (from tensorflow>=2.0.0->tensorflow-model-remediation) (1.14.0)\r\n",
      "Requirement already satisfied: libclang>=9.0.1 in /tmpfs/src/tf_docs_env/lib/python3.7/site-packages (from tensorflow>=2.0.0->tensorflow-model-remediation) (13.0.0)\r\n",
      "Requirement already satisfied: grpcio<2.0,>=1.24.3 in /tmpfs/src/tf_docs_env/lib/python3.7/site-packages (from tensorflow>=2.0.0->tensorflow-model-remediation) (1.45.0rc1)\r\n",
      "Requirement already satisfied: h5py>=2.9.0 in /tmpfs/src/tf_docs_env/lib/python3.7/site-packages (from tensorflow>=2.0.0->tensorflow-model-remediation) (3.6.0)\r\n",
      "Requirement already satisfied: termcolor>=1.1.0 in /tmpfs/src/tf_docs_env/lib/python3.7/site-packages (from tensorflow>=2.0.0->tensorflow-model-remediation) (1.1.0)\r\n",
      "Requirement already satisfied: tensorflow-io-gcs-filesystem>=0.23.1 in /tmpfs/src/tf_docs_env/lib/python3.7/site-packages (from tensorflow>=2.0.0->tensorflow-model-remediation) (0.24.0)\r\n",
      "Requirement already satisfied: six>=1.12.0 in /tmpfs/src/tf_docs_env/lib/python3.7/site-packages (from tensorflow>=2.0.0->tensorflow-model-remediation) (1.16.0)\r\n",
      "Requirement already satisfied: numpy>=1.20 in /tmpfs/src/tf_docs_env/lib/python3.7/site-packages (from tensorflow>=2.0.0->tensorflow-model-remediation) (1.21.5)\r\n",
      "Requirement already satisfied: google-pasta>=0.1.1 in /tmpfs/src/tf_docs_env/lib/python3.7/site-packages (from tensorflow>=2.0.0->tensorflow-model-remediation) (0.2.0)\r\n",
      "Requirement already satisfied: tf-estimator-nightly==2.8.0.dev2021122109 in /tmpfs/src/tf_docs_env/lib/python3.7/site-packages (from tensorflow>=2.0.0->tensorflow-model-remediation) (2.8.0.dev2021122109)\r\n",
      "Requirement already satisfied: keras-preprocessing>=1.1.1 in /tmpfs/src/tf_docs_env/lib/python3.7/site-packages (from tensorflow>=2.0.0->tensorflow-model-remediation) (1.1.2)\r\n",
      "Requirement already satisfied: opt-einsum>=2.3.2 in /tmpfs/src/tf_docs_env/lib/python3.7/site-packages (from tensorflow>=2.0.0->tensorflow-model-remediation) (3.3.0)\r\n",
      "Requirement already satisfied: keras<2.9,>=2.8.0rc0 in /tmpfs/src/tf_docs_env/lib/python3.7/site-packages (from tensorflow>=2.0.0->tensorflow-model-remediation) (2.8.0)\r\n",
      "Requirement already satisfied: astunparse>=1.6.0 in /tmpfs/src/tf_docs_env/lib/python3.7/site-packages (from tensorflow>=2.0.0->tensorflow-model-remediation) (1.6.3)\r\n",
      "Requirement already satisfied: setuptools in /tmpfs/src/tf_docs_env/lib/python3.7/site-packages (from tensorflow>=2.0.0->tensorflow-model-remediation) (61.3.0)\r\n",
      "Requirement already satisfied: typing-extensions>=3.6.6 in /tmpfs/src/tf_docs_env/lib/python3.7/site-packages (from tensorflow>=2.0.0->tensorflow-model-remediation) (4.1.1)\r\n",
      "Requirement already satisfied: pytz>=2017.3 in /tmpfs/src/tf_docs_env/lib/python3.7/site-packages (from pandas->tensorflow-model-remediation) (2022.1)\r\n",
      "Requirement already satisfied: python-dateutil>=2.7.3 in /tmpfs/src/tf_docs_env/lib/python3.7/site-packages (from pandas->tensorflow-model-remediation) (2.8.2)\r\n",
      "Requirement already satisfied: wheel<1.0,>=0.23.0 in /tmpfs/src/tf_docs_env/lib/python3.7/site-packages (from astunparse>=1.6.0->tensorflow>=2.0.0->tensorflow-model-remediation) (0.37.1)\r\n"
     ]
    },
    {
     "name": "stdout",
     "output_type": "stream",
     "text": [
      "Requirement already satisfied: cached-property in /tmpfs/src/tf_docs_env/lib/python3.7/site-packages (from h5py>=2.9.0->tensorflow>=2.0.0->tensorflow-model-remediation) (1.5.2)\r\n"
     ]
    },
    {
     "name": "stdout",
     "output_type": "stream",
     "text": [
      "Requirement already satisfied: google-auth<3,>=1.6.3 in /tmpfs/src/tf_docs_env/lib/python3.7/site-packages (from tensorboard<2.9,>=2.8->tensorflow>=2.0.0->tensorflow-model-remediation) (1.35.0)\r\n",
      "Requirement already satisfied: google-auth-oauthlib<0.5,>=0.4.1 in /tmpfs/src/tf_docs_env/lib/python3.7/site-packages (from tensorboard<2.9,>=2.8->tensorflow>=2.0.0->tensorflow-model-remediation) (0.4.6)\r\n",
      "Requirement already satisfied: tensorboard-data-server<0.7.0,>=0.6.0 in /tmpfs/src/tf_docs_env/lib/python3.7/site-packages (from tensorboard<2.9,>=2.8->tensorflow>=2.0.0->tensorflow-model-remediation) (0.6.1)\r\n",
      "Requirement already satisfied: requests<3,>=2.21.0 in /tmpfs/src/tf_docs_env/lib/python3.7/site-packages (from tensorboard<2.9,>=2.8->tensorflow>=2.0.0->tensorflow-model-remediation) (2.27.1)\r\n",
      "Requirement already satisfied: werkzeug>=0.11.15 in /tmpfs/src/tf_docs_env/lib/python3.7/site-packages (from tensorboard<2.9,>=2.8->tensorflow>=2.0.0->tensorflow-model-remediation) (2.1.0)\r\n",
      "Requirement already satisfied: tensorboard-plugin-wit>=1.6.0 in /tmpfs/src/tf_docs_env/lib/python3.7/site-packages (from tensorboard<2.9,>=2.8->tensorflow>=2.0.0->tensorflow-model-remediation) (1.8.1)\r\n",
      "Requirement already satisfied: markdown>=2.6.8 in /tmpfs/src/tf_docs_env/lib/python3.7/site-packages (from tensorboard<2.9,>=2.8->tensorflow>=2.0.0->tensorflow-model-remediation) (3.3.6)\r\n",
      "Requirement already satisfied: rsa<5,>=3.1.4 in /tmpfs/src/tf_docs_env/lib/python3.7/site-packages (from google-auth<3,>=1.6.3->tensorboard<2.9,>=2.8->tensorflow>=2.0.0->tensorflow-model-remediation) (4.8)\r\n",
      "Requirement already satisfied: pyasn1-modules>=0.2.1 in /tmpfs/src/tf_docs_env/lib/python3.7/site-packages (from google-auth<3,>=1.6.3->tensorboard<2.9,>=2.8->tensorflow>=2.0.0->tensorflow-model-remediation) (0.2.8)\r\n",
      "Requirement already satisfied: cachetools<5.0,>=2.0.0 in /tmpfs/src/tf_docs_env/lib/python3.7/site-packages (from google-auth<3,>=1.6.3->tensorboard<2.9,>=2.8->tensorflow>=2.0.0->tensorflow-model-remediation) (4.2.4)\r\n",
      "Requirement already satisfied: requests-oauthlib>=0.7.0 in /tmpfs/src/tf_docs_env/lib/python3.7/site-packages (from google-auth-oauthlib<0.5,>=0.4.1->tensorboard<2.9,>=2.8->tensorflow>=2.0.0->tensorflow-model-remediation) (1.3.1)\r\n",
      "Requirement already satisfied: importlib-metadata>=4.4 in /tmpfs/src/tf_docs_env/lib/python3.7/site-packages (from markdown>=2.6.8->tensorboard<2.9,>=2.8->tensorflow>=2.0.0->tensorflow-model-remediation) (4.11.3)\r\n"
     ]
    },
    {
     "name": "stdout",
     "output_type": "stream",
     "text": [
      "Requirement already satisfied: certifi>=2017.4.17 in /tmpfs/src/tf_docs_env/lib/python3.7/site-packages (from requests<3,>=2.21.0->tensorboard<2.9,>=2.8->tensorflow>=2.0.0->tensorflow-model-remediation) (2021.10.8)\r\n",
      "Requirement already satisfied: idna<4,>=2.5 in /tmpfs/src/tf_docs_env/lib/python3.7/site-packages (from requests<3,>=2.21.0->tensorboard<2.9,>=2.8->tensorflow>=2.0.0->tensorflow-model-remediation) (3.3)\r\n",
      "Requirement already satisfied: urllib3<1.27,>=1.21.1 in /tmpfs/src/tf_docs_env/lib/python3.7/site-packages (from requests<3,>=2.21.0->tensorboard<2.9,>=2.8->tensorflow>=2.0.0->tensorflow-model-remediation) (1.26.9)\r\n",
      "Requirement already satisfied: charset-normalizer~=2.0.0 in /tmpfs/src/tf_docs_env/lib/python3.7/site-packages (from requests<3,>=2.21.0->tensorboard<2.9,>=2.8->tensorflow>=2.0.0->tensorflow-model-remediation) (2.0.12)\r\n"
     ]
    },
    {
     "name": "stdout",
     "output_type": "stream",
     "text": [
      "Requirement already satisfied: zipp>=0.5 in /tmpfs/src/tf_docs_env/lib/python3.7/site-packages (from importlib-metadata>=4.4->markdown>=2.6.8->tensorboard<2.9,>=2.8->tensorflow>=2.0.0->tensorflow-model-remediation) (3.7.0)\r\n",
      "Requirement already satisfied: pyasn1<0.5.0,>=0.4.6 in /tmpfs/src/tf_docs_env/lib/python3.7/site-packages (from pyasn1-modules>=0.2.1->google-auth<3,>=1.6.3->tensorboard<2.9,>=2.8->tensorflow>=2.0.0->tensorflow-model-remediation) (0.4.8)\r\n",
      "Requirement already satisfied: oauthlib>=3.0.0 in /tmpfs/src/tf_docs_env/lib/python3.7/site-packages (from requests-oauthlib>=0.7.0->google-auth-oauthlib<0.5,>=0.4.1->tensorboard<2.9,>=2.8->tensorflow>=2.0.0->tensorflow-model-remediation) (3.2.0)\r\n"
     ]
    },
    {
     "name": "stdout",
     "output_type": "stream",
     "text": [
      "Requirement already satisfied: fairness-indicators in /tmpfs/src/tf_docs_env/lib/python3.7/site-packages (0.38.0)\r\n"
     ]
    },
    {
     "name": "stdout",
     "output_type": "stream",
     "text": [
      "Requirement already satisfied: witwidget<2,>=1.4.4 in /tmpfs/src/tf_docs_env/lib/python3.7/site-packages (from fairness-indicators) (1.8.1)\r\n",
      "Requirement already satisfied: tensorflow-data-validation<1.8.0,>=1.7.0 in /tmpfs/src/tf_docs_env/lib/python3.7/site-packages (from fairness-indicators) (1.7.0)\r\n",
      "Requirement already satisfied: tensorflow-hub<1.0.0,>=0.8.0 in /tmpfs/src/tf_docs_env/lib/python3.7/site-packages (from fairness-indicators) (0.12.0)\r\n",
      "Requirement already satisfied: tensorflow-model-analysis<0.39,>=0.38 in /tmpfs/src/tf_docs_env/lib/python3.7/site-packages (from fairness-indicators) (0.38.0)\r\n",
      "Requirement already satisfied: protobuf<4,>=3.13 in /tmpfs/src/tf_docs_env/lib/python3.7/site-packages (from fairness-indicators) (3.20.0rc2)\r\n",
      "Requirement already satisfied: tensorflow!=2.0.*,!=2.1.*,!=2.2.*,!=2.3.*,!=2.4.*,!=2.5.*,!=2.6.*,!=2.7.*,<3,>=1.15.5 in /tmpfs/src/tf_docs_env/lib/python3.7/site-packages (from fairness-indicators) (2.8.0)\r\n",
      "Requirement already satisfied: keras<2.9,>=2.8.0rc0 in /tmpfs/src/tf_docs_env/lib/python3.7/site-packages (from tensorflow!=2.0.*,!=2.1.*,!=2.2.*,!=2.3.*,!=2.4.*,!=2.5.*,!=2.6.*,!=2.7.*,<3,>=1.15.5->fairness-indicators) (2.8.0)\r\n"
     ]
    },
    {
     "name": "stdout",
     "output_type": "stream",
     "text": [
      "Requirement already satisfied: h5py>=2.9.0 in /tmpfs/src/tf_docs_env/lib/python3.7/site-packages (from tensorflow!=2.0.*,!=2.1.*,!=2.2.*,!=2.3.*,!=2.4.*,!=2.5.*,!=2.6.*,!=2.7.*,<3,>=1.15.5->fairness-indicators) (3.6.0)\r\n",
      "Requirement already satisfied: astunparse>=1.6.0 in /tmpfs/src/tf_docs_env/lib/python3.7/site-packages (from tensorflow!=2.0.*,!=2.1.*,!=2.2.*,!=2.3.*,!=2.4.*,!=2.5.*,!=2.6.*,!=2.7.*,<3,>=1.15.5->fairness-indicators) (1.6.3)\r\n",
      "Requirement already satisfied: gast>=0.2.1 in /tmpfs/src/tf_docs_env/lib/python3.7/site-packages (from tensorflow!=2.0.*,!=2.1.*,!=2.2.*,!=2.3.*,!=2.4.*,!=2.5.*,!=2.6.*,!=2.7.*,<3,>=1.15.5->fairness-indicators) (0.5.3)\r\n",
      "Requirement already satisfied: numpy>=1.20 in /tmpfs/src/tf_docs_env/lib/python3.7/site-packages (from tensorflow!=2.0.*,!=2.1.*,!=2.2.*,!=2.3.*,!=2.4.*,!=2.5.*,!=2.6.*,!=2.7.*,<3,>=1.15.5->fairness-indicators) (1.21.5)\r\n",
      "Requirement already satisfied: setuptools in /tmpfs/src/tf_docs_env/lib/python3.7/site-packages (from tensorflow!=2.0.*,!=2.1.*,!=2.2.*,!=2.3.*,!=2.4.*,!=2.5.*,!=2.6.*,!=2.7.*,<3,>=1.15.5->fairness-indicators) (61.3.0)\r\n",
      "Requirement already satisfied: termcolor>=1.1.0 in /tmpfs/src/tf_docs_env/lib/python3.7/site-packages (from tensorflow!=2.0.*,!=2.1.*,!=2.2.*,!=2.3.*,!=2.4.*,!=2.5.*,!=2.6.*,!=2.7.*,<3,>=1.15.5->fairness-indicators) (1.1.0)\r\n",
      "Requirement already satisfied: absl-py>=0.4.0 in /tmpfs/src/tf_docs_env/lib/python3.7/site-packages (from tensorflow!=2.0.*,!=2.1.*,!=2.2.*,!=2.3.*,!=2.4.*,!=2.5.*,!=2.6.*,!=2.7.*,<3,>=1.15.5->fairness-indicators) (1.0.0)\r\n",
      "Requirement already satisfied: six>=1.12.0 in /tmpfs/src/tf_docs_env/lib/python3.7/site-packages (from tensorflow!=2.0.*,!=2.1.*,!=2.2.*,!=2.3.*,!=2.4.*,!=2.5.*,!=2.6.*,!=2.7.*,<3,>=1.15.5->fairness-indicators) (1.16.0)\r\n",
      "Requirement already satisfied: opt-einsum>=2.3.2 in /tmpfs/src/tf_docs_env/lib/python3.7/site-packages (from tensorflow!=2.0.*,!=2.1.*,!=2.2.*,!=2.3.*,!=2.4.*,!=2.5.*,!=2.6.*,!=2.7.*,<3,>=1.15.5->fairness-indicators) (3.3.0)\r\n",
      "Requirement already satisfied: google-pasta>=0.1.1 in /tmpfs/src/tf_docs_env/lib/python3.7/site-packages (from tensorflow!=2.0.*,!=2.1.*,!=2.2.*,!=2.3.*,!=2.4.*,!=2.5.*,!=2.6.*,!=2.7.*,<3,>=1.15.5->fairness-indicators) (0.2.0)\r\n",
      "Requirement already satisfied: typing-extensions>=3.6.6 in /tmpfs/src/tf_docs_env/lib/python3.7/site-packages (from tensorflow!=2.0.*,!=2.1.*,!=2.2.*,!=2.3.*,!=2.4.*,!=2.5.*,!=2.6.*,!=2.7.*,<3,>=1.15.5->fairness-indicators) (4.1.1)\r\n",
      "Requirement already satisfied: wrapt>=1.11.0 in /tmpfs/src/tf_docs_env/lib/python3.7/site-packages (from tensorflow!=2.0.*,!=2.1.*,!=2.2.*,!=2.3.*,!=2.4.*,!=2.5.*,!=2.6.*,!=2.7.*,<3,>=1.15.5->fairness-indicators) (1.14.0)\r\n",
      "Requirement already satisfied: tf-estimator-nightly==2.8.0.dev2021122109 in /tmpfs/src/tf_docs_env/lib/python3.7/site-packages (from tensorflow!=2.0.*,!=2.1.*,!=2.2.*,!=2.3.*,!=2.4.*,!=2.5.*,!=2.6.*,!=2.7.*,<3,>=1.15.5->fairness-indicators) (2.8.0.dev2021122109)\r\n",
      "Requirement already satisfied: tensorboard<2.9,>=2.8 in /tmpfs/src/tf_docs_env/lib/python3.7/site-packages (from tensorflow!=2.0.*,!=2.1.*,!=2.2.*,!=2.3.*,!=2.4.*,!=2.5.*,!=2.6.*,!=2.7.*,<3,>=1.15.5->fairness-indicators) (2.8.0)\r\n",
      "Requirement already satisfied: libclang>=9.0.1 in /tmpfs/src/tf_docs_env/lib/python3.7/site-packages (from tensorflow!=2.0.*,!=2.1.*,!=2.2.*,!=2.3.*,!=2.4.*,!=2.5.*,!=2.6.*,!=2.7.*,<3,>=1.15.5->fairness-indicators) (13.0.0)\r\n",
      "Requirement already satisfied: keras-preprocessing>=1.1.1 in /tmpfs/src/tf_docs_env/lib/python3.7/site-packages (from tensorflow!=2.0.*,!=2.1.*,!=2.2.*,!=2.3.*,!=2.4.*,!=2.5.*,!=2.6.*,!=2.7.*,<3,>=1.15.5->fairness-indicators) (1.1.2)\r\n",
      "Requirement already satisfied: tensorflow-io-gcs-filesystem>=0.23.1 in /tmpfs/src/tf_docs_env/lib/python3.7/site-packages (from tensorflow!=2.0.*,!=2.1.*,!=2.2.*,!=2.3.*,!=2.4.*,!=2.5.*,!=2.6.*,!=2.7.*,<3,>=1.15.5->fairness-indicators) (0.24.0)\r\n",
      "Requirement already satisfied: grpcio<2.0,>=1.24.3 in /tmpfs/src/tf_docs_env/lib/python3.7/site-packages (from tensorflow!=2.0.*,!=2.1.*,!=2.2.*,!=2.3.*,!=2.4.*,!=2.5.*,!=2.6.*,!=2.7.*,<3,>=1.15.5->fairness-indicators) (1.45.0rc1)\r\n",
      "Requirement already satisfied: flatbuffers>=1.12 in /tmpfs/src/tf_docs_env/lib/python3.7/site-packages (from tensorflow!=2.0.*,!=2.1.*,!=2.2.*,!=2.3.*,!=2.4.*,!=2.5.*,!=2.6.*,!=2.7.*,<3,>=1.15.5->fairness-indicators) (2.0)\r\n",
      "Requirement already satisfied: apache-beam[gcp]<3,>=2.36 in /tmpfs/src/tf_docs_env/lib/python3.7/site-packages (from tensorflow-data-validation<1.8.0,>=1.7.0->fairness-indicators) (2.37.0)\r\n",
      "Requirement already satisfied: tensorflow-metadata<1.8,>=1.7.0 in /tmpfs/src/tf_docs_env/lib/python3.7/site-packages (from tensorflow-data-validation<1.8.0,>=1.7.0->fairness-indicators) (1.7.0)\r\n",
      "Requirement already satisfied: joblib<0.15,>=0.12 in /tmpfs/src/tf_docs_env/lib/python3.7/site-packages (from tensorflow-data-validation<1.8.0,>=1.7.0->fairness-indicators) (0.14.1)\r\n",
      "Requirement already satisfied: pyfarmhash<0.4,>=0.2 in /tmpfs/src/tf_docs_env/lib/python3.7/site-packages (from tensorflow-data-validation<1.8.0,>=1.7.0->fairness-indicators) (0.3.2)\r\n",
      "Requirement already satisfied: pandas<2,>=1.0 in /tmpfs/src/tf_docs_env/lib/python3.7/site-packages (from tensorflow-data-validation<1.8.0,>=1.7.0->fairness-indicators) (1.3.5)\r\n",
      "Requirement already satisfied: pyarrow<6,>=1 in /tmpfs/src/tf_docs_env/lib/python3.7/site-packages (from tensorflow-data-validation<1.8.0,>=1.7.0->fairness-indicators) (5.0.0)\r\n",
      "Requirement already satisfied: tfx-bsl<1.8,>=1.7.0 in /tmpfs/src/tf_docs_env/lib/python3.7/site-packages (from tensorflow-data-validation<1.8.0,>=1.7.0->fairness-indicators) (1.7.0)\r\n"
     ]
    },
    {
     "name": "stdout",
     "output_type": "stream",
     "text": [
      "Requirement already satisfied: ipywidgets<8,>=7 in /tmpfs/src/tf_docs_env/lib/python3.7/site-packages (from tensorflow-model-analysis<0.39,>=0.38->fairness-indicators) (7.7.0)\r\n",
      "Requirement already satisfied: scipy<2,>=1.4.1 in /tmpfs/src/tf_docs_env/lib/python3.7/site-packages (from tensorflow-model-analysis<0.39,>=0.38->fairness-indicators) (1.7.3)\r\n",
      "Requirement already satisfied: ipython<8,>=7 in /tmpfs/src/tf_docs_env/lib/python3.7/site-packages (from tensorflow-model-analysis<0.39,>=0.38->fairness-indicators) (7.32.0)\r\n",
      "Requirement already satisfied: oauth2client>=4.1.3 in /tmpfs/src/tf_docs_env/lib/python3.7/site-packages (from witwidget<2,>=1.4.4->fairness-indicators) (4.1.3)\r\n",
      "Requirement already satisfied: google-api-python-client>=1.7.8 in /tmpfs/src/tf_docs_env/lib/python3.7/site-packages (from witwidget<2,>=1.4.4->fairness-indicators) (1.12.11)\r\n"
     ]
    },
    {
     "name": "stdout",
     "output_type": "stream",
     "text": [
      "Requirement already satisfied: proto-plus<2,>=1.7.1 in /tmpfs/src/tf_docs_env/lib/python3.7/site-packages (from apache-beam[gcp]<3,>=2.36->tensorflow-data-validation<1.8.0,>=1.7.0->fairness-indicators) (1.20.3)\r\n",
      "Requirement already satisfied: requests<3.0.0,>=2.24.0 in /tmpfs/src/tf_docs_env/lib/python3.7/site-packages (from apache-beam[gcp]<3,>=2.36->tensorflow-data-validation<1.8.0,>=1.7.0->fairness-indicators) (2.27.1)\r\n",
      "Requirement already satisfied: fastavro<2,>=0.23.6 in /tmpfs/src/tf_docs_env/lib/python3.7/site-packages (from apache-beam[gcp]<3,>=2.36->tensorflow-data-validation<1.8.0,>=1.7.0->fairness-indicators) (1.4.10)\r\n",
      "Requirement already satisfied: crcmod<2.0,>=1.7 in /tmpfs/src/tf_docs_env/lib/python3.7/site-packages (from apache-beam[gcp]<3,>=2.36->tensorflow-data-validation<1.8.0,>=1.7.0->fairness-indicators) (1.7)\r\n",
      "Requirement already satisfied: pytz>=2018.3 in /tmpfs/src/tf_docs_env/lib/python3.7/site-packages (from apache-beam[gcp]<3,>=2.36->tensorflow-data-validation<1.8.0,>=1.7.0->fairness-indicators) (2022.1)\r\n",
      "Requirement already satisfied: httplib2<0.20.0,>=0.8 in /tmpfs/src/tf_docs_env/lib/python3.7/site-packages (from apache-beam[gcp]<3,>=2.36->tensorflow-data-validation<1.8.0,>=1.7.0->fairness-indicators) (0.19.1)\r\n",
      "Requirement already satisfied: orjson<4.0 in /tmpfs/src/tf_docs_env/lib/python3.7/site-packages (from apache-beam[gcp]<3,>=2.36->tensorflow-data-validation<1.8.0,>=1.7.0->fairness-indicators) (3.6.7)\r\n",
      "Requirement already satisfied: cloudpickle<3,>=2.0.0 in /tmpfs/src/tf_docs_env/lib/python3.7/site-packages (from apache-beam[gcp]<3,>=2.36->tensorflow-data-validation<1.8.0,>=1.7.0->fairness-indicators) (2.0.0)\r\n",
      "Requirement already satisfied: dill<0.3.2,>=0.3.1.1 in /tmpfs/src/tf_docs_env/lib/python3.7/site-packages (from apache-beam[gcp]<3,>=2.36->tensorflow-data-validation<1.8.0,>=1.7.0->fairness-indicators) (0.3.1.1)\r\n",
      "Requirement already satisfied: pydot<2,>=1.2.0 in /tmpfs/src/tf_docs_env/lib/python3.7/site-packages (from apache-beam[gcp]<3,>=2.36->tensorflow-data-validation<1.8.0,>=1.7.0->fairness-indicators) (1.4.2)\r\n",
      "Requirement already satisfied: python-dateutil<3,>=2.8.0 in /tmpfs/src/tf_docs_env/lib/python3.7/site-packages (from apache-beam[gcp]<3,>=2.36->tensorflow-data-validation<1.8.0,>=1.7.0->fairness-indicators) (2.8.2)\r\n",
      "Requirement already satisfied: hdfs<3.0.0,>=2.1.0 in /tmpfs/src/tf_docs_env/lib/python3.7/site-packages (from apache-beam[gcp]<3,>=2.36->tensorflow-data-validation<1.8.0,>=1.7.0->fairness-indicators) (2.7.0)\r\n",
      "Requirement already satisfied: pymongo<4.0.0,>=3.8.0 in /tmpfs/src/tf_docs_env/lib/python3.7/site-packages (from apache-beam[gcp]<3,>=2.36->tensorflow-data-validation<1.8.0,>=1.7.0->fairness-indicators) (3.12.3)\r\n",
      "Requirement already satisfied: google-cloud-core<2,>=0.28.1 in /tmpfs/src/tf_docs_env/lib/python3.7/site-packages (from apache-beam[gcp]<3,>=2.36->tensorflow-data-validation<1.8.0,>=1.7.0->fairness-indicators) (1.7.2)\r\n",
      "Requirement already satisfied: google-cloud-datastore<2,>=1.8.0 in /tmpfs/src/tf_docs_env/lib/python3.7/site-packages (from apache-beam[gcp]<3,>=2.36->tensorflow-data-validation<1.8.0,>=1.7.0->fairness-indicators) (1.15.3)\r\n",
      "Requirement already satisfied: google-cloud-recommendations-ai<=0.2.0,>=0.1.0 in /tmpfs/src/tf_docs_env/lib/python3.7/site-packages (from apache-beam[gcp]<3,>=2.36->tensorflow-data-validation<1.8.0,>=1.7.0->fairness-indicators) (0.2.0)\r\n",
      "Requirement already satisfied: google-cloud-spanner<2,>=1.13.0 in /tmpfs/src/tf_docs_env/lib/python3.7/site-packages (from apache-beam[gcp]<3,>=2.36->tensorflow-data-validation<1.8.0,>=1.7.0->fairness-indicators) (1.19.1)\r\n",
      "Requirement already satisfied: grpcio-gcp<1,>=0.2.2 in /tmpfs/src/tf_docs_env/lib/python3.7/site-packages (from apache-beam[gcp]<3,>=2.36->tensorflow-data-validation<1.8.0,>=1.7.0->fairness-indicators) (0.2.2)\r\n",
      "Requirement already satisfied: google-apitools<0.5.32,>=0.5.31 in /tmpfs/src/tf_docs_env/lib/python3.7/site-packages (from apache-beam[gcp]<3,>=2.36->tensorflow-data-validation<1.8.0,>=1.7.0->fairness-indicators) (0.5.31)\r\n",
      "Requirement already satisfied: google-cloud-pubsublite<2,>=1.2.0 in /tmpfs/src/tf_docs_env/lib/python3.7/site-packages (from apache-beam[gcp]<3,>=2.36->tensorflow-data-validation<1.8.0,>=1.7.0->fairness-indicators) (1.4.1)\r\n",
      "Requirement already satisfied: google-cloud-vision<2,>=0.38.0 in /tmpfs/src/tf_docs_env/lib/python3.7/site-packages (from apache-beam[gcp]<3,>=2.36->tensorflow-data-validation<1.8.0,>=1.7.0->fairness-indicators) (1.0.0)\r\n",
      "Requirement already satisfied: google-cloud-bigtable<2,>=0.31.1 in /tmpfs/src/tf_docs_env/lib/python3.7/site-packages (from apache-beam[gcp]<3,>=2.36->tensorflow-data-validation<1.8.0,>=1.7.0->fairness-indicators) (1.7.0)\r\n",
      "Requirement already satisfied: google-cloud-bigquery<3,>=1.6.0 in /tmpfs/src/tf_docs_env/lib/python3.7/site-packages (from apache-beam[gcp]<3,>=2.36->tensorflow-data-validation<1.8.0,>=1.7.0->fairness-indicators) (2.34.3)\r\n",
      "Requirement already satisfied: google-cloud-language<2,>=1.3.0 in /tmpfs/src/tf_docs_env/lib/python3.7/site-packages (from apache-beam[gcp]<3,>=2.36->tensorflow-data-validation<1.8.0,>=1.7.0->fairness-indicators) (1.3.0)\r\n",
      "Requirement already satisfied: cachetools<5,>=3.1.0 in /tmpfs/src/tf_docs_env/lib/python3.7/site-packages (from apache-beam[gcp]<3,>=2.36->tensorflow-data-validation<1.8.0,>=1.7.0->fairness-indicators) (4.2.4)\r\n",
      "Requirement already satisfied: google-cloud-pubsub<3,>=2.1.0 in /tmpfs/src/tf_docs_env/lib/python3.7/site-packages (from apache-beam[gcp]<3,>=2.36->tensorflow-data-validation<1.8.0,>=1.7.0->fairness-indicators) (2.11.0)\r\n",
      "Requirement already satisfied: google-cloud-videointelligence<2,>=1.8.0 in /tmpfs/src/tf_docs_env/lib/python3.7/site-packages (from apache-beam[gcp]<3,>=2.36->tensorflow-data-validation<1.8.0,>=1.7.0->fairness-indicators) (1.16.1)\r\n"
     ]
    },
    {
     "name": "stdout",
     "output_type": "stream",
     "text": [
      "Requirement already satisfied: google-cloud-dlp<4,>=3.0.0 in /tmpfs/src/tf_docs_env/lib/python3.7/site-packages (from apache-beam[gcp]<3,>=2.36->tensorflow-data-validation<1.8.0,>=1.7.0->fairness-indicators) (3.6.2)\r\n",
      "Requirement already satisfied: google-auth<3,>=1.18.0 in /tmpfs/src/tf_docs_env/lib/python3.7/site-packages (from apache-beam[gcp]<3,>=2.36->tensorflow-data-validation<1.8.0,>=1.7.0->fairness-indicators) (1.35.0)\r\n",
      "Requirement already satisfied: google-cloud-bigquery-storage>=2.6.3 in /tmpfs/src/tf_docs_env/lib/python3.7/site-packages (from apache-beam[gcp]<3,>=2.36->tensorflow-data-validation<1.8.0,>=1.7.0->fairness-indicators) (2.13.0)\r\n",
      "Requirement already satisfied: wheel<1.0,>=0.23.0 in /tmpfs/src/tf_docs_env/lib/python3.7/site-packages (from astunparse>=1.6.0->tensorflow!=2.0.*,!=2.1.*,!=2.2.*,!=2.3.*,!=2.4.*,!=2.5.*,!=2.6.*,!=2.7.*,<3,>=1.15.5->fairness-indicators) (0.37.1)\r\n",
      "Requirement already satisfied: google-auth-httplib2>=0.0.3 in /tmpfs/src/tf_docs_env/lib/python3.7/site-packages (from google-api-python-client>=1.7.8->witwidget<2,>=1.4.4->fairness-indicators) (0.1.0)\r\n",
      "Requirement already satisfied: google-api-core<3dev,>=1.21.0 in /tmpfs/src/tf_docs_env/lib/python3.7/site-packages (from google-api-python-client>=1.7.8->witwidget<2,>=1.4.4->fairness-indicators) (1.31.5)\r\n",
      "Requirement already satisfied: uritemplate<4dev,>=3.0.0 in /tmpfs/src/tf_docs_env/lib/python3.7/site-packages (from google-api-python-client>=1.7.8->witwidget<2,>=1.4.4->fairness-indicators) (3.0.1)\r\n",
      "Requirement already satisfied: cached-property in /tmpfs/src/tf_docs_env/lib/python3.7/site-packages (from h5py>=2.9.0->tensorflow!=2.0.*,!=2.1.*,!=2.2.*,!=2.3.*,!=2.4.*,!=2.5.*,!=2.6.*,!=2.7.*,<3,>=1.15.5->fairness-indicators) (1.5.2)\r\n"
     ]
    },
    {
     "name": "stdout",
     "output_type": "stream",
     "text": [
      "Requirement already satisfied: prompt-toolkit!=3.0.0,!=3.0.1,<3.1.0,>=2.0.0 in /tmpfs/src/tf_docs_env/lib/python3.7/site-packages (from ipython<8,>=7->tensorflow-model-analysis<0.39,>=0.38->fairness-indicators) (3.0.28)\r\n",
      "Requirement already satisfied: jedi>=0.16 in /tmpfs/src/tf_docs_env/lib/python3.7/site-packages (from ipython<8,>=7->tensorflow-model-analysis<0.39,>=0.38->fairness-indicators) (0.18.1)\r\n",
      "Requirement already satisfied: matplotlib-inline in /tmpfs/src/tf_docs_env/lib/python3.7/site-packages (from ipython<8,>=7->tensorflow-model-analysis<0.39,>=0.38->fairness-indicators) (0.1.3)\r\n",
      "Requirement already satisfied: pexpect>4.3 in /tmpfs/src/tf_docs_env/lib/python3.7/site-packages (from ipython<8,>=7->tensorflow-model-analysis<0.39,>=0.38->fairness-indicators) (4.8.0)\r\n",
      "Requirement already satisfied: backcall in /tmpfs/src/tf_docs_env/lib/python3.7/site-packages (from ipython<8,>=7->tensorflow-model-analysis<0.39,>=0.38->fairness-indicators) (0.2.0)\r\n",
      "Requirement already satisfied: traitlets>=4.2 in /tmpfs/src/tf_docs_env/lib/python3.7/site-packages (from ipython<8,>=7->tensorflow-model-analysis<0.39,>=0.38->fairness-indicators) (5.1.1)\r\n",
      "Requirement already satisfied: pygments in /tmpfs/src/tf_docs_env/lib/python3.7/site-packages (from ipython<8,>=7->tensorflow-model-analysis<0.39,>=0.38->fairness-indicators) (2.11.2)\r\n",
      "Requirement already satisfied: pickleshare in /tmpfs/src/tf_docs_env/lib/python3.7/site-packages (from ipython<8,>=7->tensorflow-model-analysis<0.39,>=0.38->fairness-indicators) (0.7.5)\r\n",
      "Requirement already satisfied: decorator in /tmpfs/src/tf_docs_env/lib/python3.7/site-packages (from ipython<8,>=7->tensorflow-model-analysis<0.39,>=0.38->fairness-indicators) (5.1.1)\r\n"
     ]
    },
    {
     "name": "stdout",
     "output_type": "stream",
     "text": [
      "Requirement already satisfied: ipykernel>=4.5.1 in /tmpfs/src/tf_docs_env/lib/python3.7/site-packages (from ipywidgets<8,>=7->tensorflow-model-analysis<0.39,>=0.38->fairness-indicators) (6.11.0)\r\n",
      "Requirement already satisfied: widgetsnbextension~=3.6.0 in /tmpfs/src/tf_docs_env/lib/python3.7/site-packages (from ipywidgets<8,>=7->tensorflow-model-analysis<0.39,>=0.38->fairness-indicators) (3.6.0)\r\n",
      "Requirement already satisfied: jupyterlab-widgets>=1.0.0 in /tmpfs/src/tf_docs_env/lib/python3.7/site-packages (from ipywidgets<8,>=7->tensorflow-model-analysis<0.39,>=0.38->fairness-indicators) (1.1.0)\r\n",
      "Requirement already satisfied: nbformat>=4.2.0 in /tmpfs/src/tf_docs_env/lib/python3.7/site-packages (from ipywidgets<8,>=7->tensorflow-model-analysis<0.39,>=0.38->fairness-indicators) (5.2.0)\r\n",
      "Requirement already satisfied: ipython-genutils~=0.2.0 in /tmpfs/src/tf_docs_env/lib/python3.7/site-packages (from ipywidgets<8,>=7->tensorflow-model-analysis<0.39,>=0.38->fairness-indicators) (0.2.0)\r\n",
      "Requirement already satisfied: pyasn1>=0.1.7 in /tmpfs/src/tf_docs_env/lib/python3.7/site-packages (from oauth2client>=4.1.3->witwidget<2,>=1.4.4->fairness-indicators) (0.4.8)\r\n",
      "Requirement already satisfied: rsa>=3.1.4 in /tmpfs/src/tf_docs_env/lib/python3.7/site-packages (from oauth2client>=4.1.3->witwidget<2,>=1.4.4->fairness-indicators) (4.8)\r\n",
      "Requirement already satisfied: pyasn1-modules>=0.0.5 in /tmpfs/src/tf_docs_env/lib/python3.7/site-packages (from oauth2client>=4.1.3->witwidget<2,>=1.4.4->fairness-indicators) (0.2.8)\r\n"
     ]
    },
    {
     "name": "stdout",
     "output_type": "stream",
     "text": [
      "Requirement already satisfied: google-auth-oauthlib<0.5,>=0.4.1 in /tmpfs/src/tf_docs_env/lib/python3.7/site-packages (from tensorboard<2.9,>=2.8->tensorflow!=2.0.*,!=2.1.*,!=2.2.*,!=2.3.*,!=2.4.*,!=2.5.*,!=2.6.*,!=2.7.*,<3,>=1.15.5->fairness-indicators) (0.4.6)\r\n",
      "Requirement already satisfied: tensorboard-plugin-wit>=1.6.0 in /tmpfs/src/tf_docs_env/lib/python3.7/site-packages (from tensorboard<2.9,>=2.8->tensorflow!=2.0.*,!=2.1.*,!=2.2.*,!=2.3.*,!=2.4.*,!=2.5.*,!=2.6.*,!=2.7.*,<3,>=1.15.5->fairness-indicators) (1.8.1)\r\n",
      "Requirement already satisfied: werkzeug>=0.11.15 in /tmpfs/src/tf_docs_env/lib/python3.7/site-packages (from tensorboard<2.9,>=2.8->tensorflow!=2.0.*,!=2.1.*,!=2.2.*,!=2.3.*,!=2.4.*,!=2.5.*,!=2.6.*,!=2.7.*,<3,>=1.15.5->fairness-indicators) (2.1.0)\r\n",
      "Requirement already satisfied: markdown>=2.6.8 in /tmpfs/src/tf_docs_env/lib/python3.7/site-packages (from tensorboard<2.9,>=2.8->tensorflow!=2.0.*,!=2.1.*,!=2.2.*,!=2.3.*,!=2.4.*,!=2.5.*,!=2.6.*,!=2.7.*,<3,>=1.15.5->fairness-indicators) (3.3.6)\r\n",
      "Requirement already satisfied: tensorboard-data-server<0.7.0,>=0.6.0 in /tmpfs/src/tf_docs_env/lib/python3.7/site-packages (from tensorboard<2.9,>=2.8->tensorflow!=2.0.*,!=2.1.*,!=2.2.*,!=2.3.*,!=2.4.*,!=2.5.*,!=2.6.*,!=2.7.*,<3,>=1.15.5->fairness-indicators) (0.6.1)\r\n",
      "Requirement already satisfied: googleapis-common-protos<2,>=1.52.0 in /tmpfs/src/tf_docs_env/lib/python3.7/site-packages (from tensorflow-metadata<1.8,>=1.7.0->tensorflow-data-validation<1.8.0,>=1.7.0->fairness-indicators) (1.56.0)\r\n",
      "Requirement already satisfied: tensorflow-serving-api!=2.0.*,!=2.1.*,!=2.2.*,!=2.3.*,!=2.4.*,!=2.5.*,!=2.6.*,!=2.7.*,<3,>=1.15 in /tmpfs/src/tf_docs_env/lib/python3.7/site-packages (from tfx-bsl<1.8,>=1.7.0->tensorflow-data-validation<1.8.0,>=1.7.0->fairness-indicators) (2.8.0)\r\n"
     ]
    },
    {
     "name": "stdout",
     "output_type": "stream",
     "text": [
      "Requirement already satisfied: packaging>=14.3 in /tmpfs/src/tf_docs_env/lib/python3.7/site-packages (from google-api-core<3dev,>=1.21.0->google-api-python-client>=1.7.8->witwidget<2,>=1.4.4->fairness-indicators) (21.3)\r\n",
      "Requirement already satisfied: fasteners>=0.14 in /tmpfs/src/tf_docs_env/lib/python3.7/site-packages (from google-apitools<0.5.32,>=0.5.31->apache-beam[gcp]<3,>=2.36->tensorflow-data-validation<1.8.0,>=1.7.0->fairness-indicators) (0.17.3)\r\n",
      "Requirement already satisfied: requests-oauthlib>=0.7.0 in /tmpfs/src/tf_docs_env/lib/python3.7/site-packages (from google-auth-oauthlib<0.5,>=0.4.1->tensorboard<2.9,>=2.8->tensorflow!=2.0.*,!=2.1.*,!=2.2.*,!=2.3.*,!=2.4.*,!=2.5.*,!=2.6.*,!=2.7.*,<3,>=1.15.5->fairness-indicators) (1.3.1)\r\n"
     ]
    },
    {
     "name": "stdout",
     "output_type": "stream",
     "text": [
      "Requirement already satisfied: google-resumable-media<3.0dev,>=0.6.0 in /tmpfs/src/tf_docs_env/lib/python3.7/site-packages (from google-cloud-bigquery<3,>=1.6.0->apache-beam[gcp]<3,>=2.36->tensorflow-data-validation<1.8.0,>=1.7.0->fairness-indicators) (2.3.2)\r\n"
     ]
    },
    {
     "name": "stdout",
     "output_type": "stream",
     "text": [
      "Requirement already satisfied: grpc-google-iam-v1<0.13dev,>=0.12.3 in /tmpfs/src/tf_docs_env/lib/python3.7/site-packages (from google-cloud-bigtable<2,>=0.31.1->apache-beam[gcp]<3,>=2.36->tensorflow-data-validation<1.8.0,>=1.7.0->fairness-indicators) (0.12.3)\r\n"
     ]
    },
    {
     "name": "stdout",
     "output_type": "stream",
     "text": [
      "Requirement already satisfied: grpcio-status>=1.16.0 in /tmpfs/src/tf_docs_env/lib/python3.7/site-packages (from google-cloud-pubsub<3,>=2.1.0->apache-beam[gcp]<3,>=2.36->tensorflow-data-validation<1.8.0,>=1.7.0->fairness-indicators) (1.44.0)\r\n",
      "Requirement already satisfied: overrides<7.0.0,>=6.0.1 in /tmpfs/src/tf_docs_env/lib/python3.7/site-packages (from google-cloud-pubsublite<2,>=1.2.0->apache-beam[gcp]<3,>=2.36->tensorflow-data-validation<1.8.0,>=1.7.0->fairness-indicators) (6.1.0)\r\n"
     ]
    },
    {
     "name": "stdout",
     "output_type": "stream",
     "text": [
      "Requirement already satisfied: docopt in /tmpfs/src/tf_docs_env/lib/python3.7/site-packages (from hdfs<3.0.0,>=2.1.0->apache-beam[gcp]<3,>=2.36->tensorflow-data-validation<1.8.0,>=1.7.0->fairness-indicators) (0.6.2)\r\n"
     ]
    },
    {
     "name": "stdout",
     "output_type": "stream",
     "text": [
      "Requirement already satisfied: pyparsing<3,>=2.4.2 in /tmpfs/src/tf_docs_env/lib/python3.7/site-packages (from httplib2<0.20.0,>=0.8->apache-beam[gcp]<3,>=2.36->tensorflow-data-validation<1.8.0,>=1.7.0->fairness-indicators) (2.4.7)\r\n",
      "Requirement already satisfied: psutil in /tmpfs/src/tf_docs_env/lib/python3.7/site-packages (from ipykernel>=4.5.1->ipywidgets<8,>=7->tensorflow-model-analysis<0.39,>=0.38->fairness-indicators) (5.9.0)\r\n",
      "Requirement already satisfied: jupyter-client>=6.1.12 in /tmpfs/src/tf_docs_env/lib/python3.7/site-packages (from ipykernel>=4.5.1->ipywidgets<8,>=7->tensorflow-model-analysis<0.39,>=0.38->fairness-indicators) (7.2.1)\r\n",
      "Requirement already satisfied: nest-asyncio in /tmpfs/src/tf_docs_env/lib/python3.7/site-packages (from ipykernel>=4.5.1->ipywidgets<8,>=7->tensorflow-model-analysis<0.39,>=0.38->fairness-indicators) (1.5.4)\r\n",
      "Requirement already satisfied: tornado>=6.1 in /tmpfs/src/tf_docs_env/lib/python3.7/site-packages (from ipykernel>=4.5.1->ipywidgets<8,>=7->tensorflow-model-analysis<0.39,>=0.38->fairness-indicators) (6.1)\r\n",
      "Requirement already satisfied: debugpy>=1.0 in /tmpfs/src/tf_docs_env/lib/python3.7/site-packages (from ipykernel>=4.5.1->ipywidgets<8,>=7->tensorflow-model-analysis<0.39,>=0.38->fairness-indicators) (1.6.0)\r\n"
     ]
    },
    {
     "name": "stdout",
     "output_type": "stream",
     "text": [
      "Requirement already satisfied: parso<0.9.0,>=0.8.0 in /tmpfs/src/tf_docs_env/lib/python3.7/site-packages (from jedi>=0.16->ipython<8,>=7->tensorflow-model-analysis<0.39,>=0.38->fairness-indicators) (0.8.3)\r\n",
      "Requirement already satisfied: importlib-metadata>=4.4 in /tmpfs/src/tf_docs_env/lib/python3.7/site-packages (from markdown>=2.6.8->tensorboard<2.9,>=2.8->tensorflow!=2.0.*,!=2.1.*,!=2.2.*,!=2.3.*,!=2.4.*,!=2.5.*,!=2.6.*,!=2.7.*,<3,>=1.15.5->fairness-indicators) (4.11.3)\r\n",
      "Requirement already satisfied: jsonschema!=2.5.0,>=2.4 in /tmpfs/src/tf_docs_env/lib/python3.7/site-packages (from nbformat>=4.2.0->ipywidgets<8,>=7->tensorflow-model-analysis<0.39,>=0.38->fairness-indicators) (4.4.0)\r\n",
      "Requirement already satisfied: jupyter-core in /tmpfs/src/tf_docs_env/lib/python3.7/site-packages (from nbformat>=4.2.0->ipywidgets<8,>=7->tensorflow-model-analysis<0.39,>=0.38->fairness-indicators) (4.9.2)\r\n"
     ]
    },
    {
     "name": "stdout",
     "output_type": "stream",
     "text": [
      "Requirement already satisfied: ptyprocess>=0.5 in /tmpfs/src/tf_docs_env/lib/python3.7/site-packages (from pexpect>4.3->ipython<8,>=7->tensorflow-model-analysis<0.39,>=0.38->fairness-indicators) (0.7.0)\r\n",
      "Requirement already satisfied: wcwidth in /tmpfs/src/tf_docs_env/lib/python3.7/site-packages (from prompt-toolkit!=3.0.0,!=3.0.1,<3.1.0,>=2.0.0->ipython<8,>=7->tensorflow-model-analysis<0.39,>=0.38->fairness-indicators) (0.2.5)\r\n"
     ]
    },
    {
     "name": "stdout",
     "output_type": "stream",
     "text": [
      "Requirement already satisfied: urllib3<1.27,>=1.21.1 in /tmpfs/src/tf_docs_env/lib/python3.7/site-packages (from requests<3.0.0,>=2.24.0->apache-beam[gcp]<3,>=2.36->tensorflow-data-validation<1.8.0,>=1.7.0->fairness-indicators) (1.26.9)\r\n",
      "Requirement already satisfied: charset-normalizer~=2.0.0 in /tmpfs/src/tf_docs_env/lib/python3.7/site-packages (from requests<3.0.0,>=2.24.0->apache-beam[gcp]<3,>=2.36->tensorflow-data-validation<1.8.0,>=1.7.0->fairness-indicators) (2.0.12)\r\n",
      "Requirement already satisfied: certifi>=2017.4.17 in /tmpfs/src/tf_docs_env/lib/python3.7/site-packages (from requests<3.0.0,>=2.24.0->apache-beam[gcp]<3,>=2.36->tensorflow-data-validation<1.8.0,>=1.7.0->fairness-indicators) (2021.10.8)\r\n",
      "Requirement already satisfied: idna<4,>=2.5 in /tmpfs/src/tf_docs_env/lib/python3.7/site-packages (from requests<3.0.0,>=2.24.0->apache-beam[gcp]<3,>=2.36->tensorflow-data-validation<1.8.0,>=1.7.0->fairness-indicators) (3.3)\r\n"
     ]
    },
    {
     "name": "stdout",
     "output_type": "stream",
     "text": [
      "Requirement already satisfied: notebook>=4.4.1 in /tmpfs/src/tf_docs_env/lib/python3.7/site-packages (from widgetsnbextension~=3.6.0->ipywidgets<8,>=7->tensorflow-model-analysis<0.39,>=0.38->fairness-indicators) (6.4.10)\r\n"
     ]
    },
    {
     "name": "stdout",
     "output_type": "stream",
     "text": [
      "Requirement already satisfied: google-crc32c<2.0dev,>=1.0 in /tmpfs/src/tf_docs_env/lib/python3.7/site-packages (from google-resumable-media<3.0dev,>=0.6.0->google-cloud-bigquery<3,>=1.6.0->apache-beam[gcp]<3,>=2.36->tensorflow-data-validation<1.8.0,>=1.7.0->fairness-indicators) (1.3.0)\r\n"
     ]
    },
    {
     "name": "stdout",
     "output_type": "stream",
     "text": [
      "Requirement already satisfied: zipp>=0.5 in /tmpfs/src/tf_docs_env/lib/python3.7/site-packages (from importlib-metadata>=4.4->markdown>=2.6.8->tensorboard<2.9,>=2.8->tensorflow!=2.0.*,!=2.1.*,!=2.2.*,!=2.3.*,!=2.4.*,!=2.5.*,!=2.6.*,!=2.7.*,<3,>=1.15.5->fairness-indicators) (3.7.0)\r\n"
     ]
    },
    {
     "name": "stdout",
     "output_type": "stream",
     "text": [
      "Requirement already satisfied: pyrsistent!=0.17.0,!=0.17.1,!=0.17.2,>=0.14.0 in /tmpfs/src/tf_docs_env/lib/python3.7/site-packages (from jsonschema!=2.5.0,>=2.4->nbformat>=4.2.0->ipywidgets<8,>=7->tensorflow-model-analysis<0.39,>=0.38->fairness-indicators) (0.18.1)\r\n",
      "Requirement already satisfied: importlib-resources>=1.4.0 in /tmpfs/src/tf_docs_env/lib/python3.7/site-packages (from jsonschema!=2.5.0,>=2.4->nbformat>=4.2.0->ipywidgets<8,>=7->tensorflow-model-analysis<0.39,>=0.38->fairness-indicators) (5.6.0)\r\n",
      "Requirement already satisfied: attrs>=17.4.0 in /tmpfs/src/tf_docs_env/lib/python3.7/site-packages (from jsonschema!=2.5.0,>=2.4->nbformat>=4.2.0->ipywidgets<8,>=7->tensorflow-model-analysis<0.39,>=0.38->fairness-indicators) (21.4.0)\r\n"
     ]
    },
    {
     "name": "stdout",
     "output_type": "stream",
     "text": [
      "Requirement already satisfied: entrypoints in /tmpfs/src/tf_docs_env/lib/python3.7/site-packages (from jupyter-client>=6.1.12->ipykernel>=4.5.1->ipywidgets<8,>=7->tensorflow-model-analysis<0.39,>=0.38->fairness-indicators) (0.4)\r\n",
      "Requirement already satisfied: pyzmq>=22.3 in /tmpfs/src/tf_docs_env/lib/python3.7/site-packages (from jupyter-client>=6.1.12->ipykernel>=4.5.1->ipywidgets<8,>=7->tensorflow-model-analysis<0.39,>=0.38->fairness-indicators) (22.3.0)\r\n"
     ]
    },
    {
     "name": "stdout",
     "output_type": "stream",
     "text": [
      "Requirement already satisfied: prometheus-client in /tmpfs/src/tf_docs_env/lib/python3.7/site-packages (from notebook>=4.4.1->widgetsnbextension~=3.6.0->ipywidgets<8,>=7->tensorflow-model-analysis<0.39,>=0.38->fairness-indicators) (0.13.1)\r\n",
      "Requirement already satisfied: Send2Trash>=1.8.0 in /tmpfs/src/tf_docs_env/lib/python3.7/site-packages (from notebook>=4.4.1->widgetsnbextension~=3.6.0->ipywidgets<8,>=7->tensorflow-model-analysis<0.39,>=0.38->fairness-indicators) (1.8.0)\r\n",
      "Requirement already satisfied: jinja2 in /tmpfs/src/tf_docs_env/lib/python3.7/site-packages (from notebook>=4.4.1->widgetsnbextension~=3.6.0->ipywidgets<8,>=7->tensorflow-model-analysis<0.39,>=0.38->fairness-indicators) (2.11.3)\r\n",
      "Requirement already satisfied: terminado>=0.8.3 in /tmpfs/src/tf_docs_env/lib/python3.7/site-packages (from notebook>=4.4.1->widgetsnbextension~=3.6.0->ipywidgets<8,>=7->tensorflow-model-analysis<0.39,>=0.38->fairness-indicators) (0.13.3)\r\n",
      "Requirement already satisfied: argon2-cffi in /tmpfs/src/tf_docs_env/lib/python3.7/site-packages (from notebook>=4.4.1->widgetsnbextension~=3.6.0->ipywidgets<8,>=7->tensorflow-model-analysis<0.39,>=0.38->fairness-indicators) (21.3.0)\r\n",
      "Requirement already satisfied: nbconvert>=5 in /tmpfs/src/tf_docs_env/lib/python3.7/site-packages (from notebook>=4.4.1->widgetsnbextension~=3.6.0->ipywidgets<8,>=7->tensorflow-model-analysis<0.39,>=0.38->fairness-indicators) (6.4.5)\r\n",
      "Requirement already satisfied: typing-utils>=0.0.3 in /tmpfs/src/tf_docs_env/lib/python3.7/site-packages (from overrides<7.0.0,>=6.0.1->google-cloud-pubsublite<2,>=1.2.0->apache-beam[gcp]<3,>=2.36->tensorflow-data-validation<1.8.0,>=1.7.0->fairness-indicators) (0.1.0)\r\n"
     ]
    },
    {
     "name": "stdout",
     "output_type": "stream",
     "text": [
      "Requirement already satisfied: oauthlib>=3.0.0 in /tmpfs/src/tf_docs_env/lib/python3.7/site-packages (from requests-oauthlib>=0.7.0->google-auth-oauthlib<0.5,>=0.4.1->tensorboard<2.9,>=2.8->tensorflow!=2.0.*,!=2.1.*,!=2.2.*,!=2.3.*,!=2.4.*,!=2.5.*,!=2.6.*,!=2.7.*,<3,>=1.15.5->fairness-indicators) (3.2.0)\r\n"
     ]
    },
    {
     "name": "stdout",
     "output_type": "stream",
     "text": [
      "Requirement already satisfied: testpath in /tmpfs/src/tf_docs_env/lib/python3.7/site-packages (from nbconvert>=5->notebook>=4.4.1->widgetsnbextension~=3.6.0->ipywidgets<8,>=7->tensorflow-model-analysis<0.39,>=0.38->fairness-indicators) (0.6.0)\r\n",
      "Requirement already satisfied: nbclient<0.6.0,>=0.5.0 in /tmpfs/src/tf_docs_env/lib/python3.7/site-packages (from nbconvert>=5->notebook>=4.4.1->widgetsnbextension~=3.6.0->ipywidgets<8,>=7->tensorflow-model-analysis<0.39,>=0.38->fairness-indicators) (0.5.13)\r\n",
      "Requirement already satisfied: jupyterlab-pygments in /tmpfs/src/tf_docs_env/lib/python3.7/site-packages (from nbconvert>=5->notebook>=4.4.1->widgetsnbextension~=3.6.0->ipywidgets<8,>=7->tensorflow-model-analysis<0.39,>=0.38->fairness-indicators) (0.1.2)\r\n",
      "Requirement already satisfied: MarkupSafe>=2.0 in /tmpfs/src/tf_docs_env/lib/python3.7/site-packages (from nbconvert>=5->notebook>=4.4.1->widgetsnbextension~=3.6.0->ipywidgets<8,>=7->tensorflow-model-analysis<0.39,>=0.38->fairness-indicators) (2.0.1)\r\n",
      "Requirement already satisfied: defusedxml in /tmpfs/src/tf_docs_env/lib/python3.7/site-packages (from nbconvert>=5->notebook>=4.4.1->widgetsnbextension~=3.6.0->ipywidgets<8,>=7->tensorflow-model-analysis<0.39,>=0.38->fairness-indicators) (0.7.1)\r\n",
      "Requirement already satisfied: bleach in /tmpfs/src/tf_docs_env/lib/python3.7/site-packages (from nbconvert>=5->notebook>=4.4.1->widgetsnbextension~=3.6.0->ipywidgets<8,>=7->tensorflow-model-analysis<0.39,>=0.38->fairness-indicators) (4.1.0)\r\n",
      "Requirement already satisfied: mistune<2,>=0.8.1 in /tmpfs/src/tf_docs_env/lib/python3.7/site-packages (from nbconvert>=5->notebook>=4.4.1->widgetsnbextension~=3.6.0->ipywidgets<8,>=7->tensorflow-model-analysis<0.39,>=0.38->fairness-indicators) (0.8.4)\r\n",
      "Requirement already satisfied: beautifulsoup4 in /tmpfs/src/tf_docs_env/lib/python3.7/site-packages (from nbconvert>=5->notebook>=4.4.1->widgetsnbextension~=3.6.0->ipywidgets<8,>=7->tensorflow-model-analysis<0.39,>=0.38->fairness-indicators) (4.10.0)\r\n",
      "Requirement already satisfied: pandocfilters>=1.4.1 in /tmpfs/src/tf_docs_env/lib/python3.7/site-packages (from nbconvert>=5->notebook>=4.4.1->widgetsnbextension~=3.6.0->ipywidgets<8,>=7->tensorflow-model-analysis<0.39,>=0.38->fairness-indicators) (1.5.0)\r\n"
     ]
    },
    {
     "name": "stdout",
     "output_type": "stream",
     "text": [
      "Requirement already satisfied: argon2-cffi-bindings in /tmpfs/src/tf_docs_env/lib/python3.7/site-packages (from argon2-cffi->notebook>=4.4.1->widgetsnbextension~=3.6.0->ipywidgets<8,>=7->tensorflow-model-analysis<0.39,>=0.38->fairness-indicators) (21.2.0)\r\n"
     ]
    },
    {
     "name": "stdout",
     "output_type": "stream",
     "text": [
      "Requirement already satisfied: cffi>=1.0.1 in /tmpfs/src/tf_docs_env/lib/python3.7/site-packages (from argon2-cffi-bindings->argon2-cffi->notebook>=4.4.1->widgetsnbextension~=3.6.0->ipywidgets<8,>=7->tensorflow-model-analysis<0.39,>=0.38->fairness-indicators) (1.15.0)\r\n",
      "Requirement already satisfied: soupsieve>1.2 in /tmpfs/src/tf_docs_env/lib/python3.7/site-packages (from beautifulsoup4->nbconvert>=5->notebook>=4.4.1->widgetsnbextension~=3.6.0->ipywidgets<8,>=7->tensorflow-model-analysis<0.39,>=0.38->fairness-indicators) (2.3.1)\r\n"
     ]
    },
    {
     "name": "stdout",
     "output_type": "stream",
     "text": [
      "Requirement already satisfied: webencodings in /tmpfs/src/tf_docs_env/lib/python3.7/site-packages (from bleach->nbconvert>=5->notebook>=4.4.1->widgetsnbextension~=3.6.0->ipywidgets<8,>=7->tensorflow-model-analysis<0.39,>=0.38->fairness-indicators) (0.5.1)\r\n"
     ]
    },
    {
     "name": "stdout",
     "output_type": "stream",
     "text": [
      "Requirement already satisfied: pycparser in /tmpfs/src/tf_docs_env/lib/python3.7/site-packages (from cffi>=1.0.1->argon2-cffi-bindings->argon2-cffi->notebook>=4.4.1->widgetsnbextension~=3.6.0->ipywidgets<8,>=7->tensorflow-model-analysis<0.39,>=0.38->fairness-indicators) (2.21)\r\n"
     ]
    }
   ],
   "source": [
    "#@title Installs\n",
    "!pip install --upgrade tensorflow-model-remediation\n",
    "!pip install --upgrade fairness-indicators\n"
   ]
  },
  {
   "cell_type": "markdown",
   "metadata": {
    "id": "SlyU3HZpob8i"
   },
   "source": [
    "Import all necessary components, including MinDiff and Fairness Indicators for evaluation."
   ]
  },
  {
   "cell_type": "code",
   "execution_count": 3,
   "metadata": {
    "cellView": "form",
    "execution": {
     "iopub.execute_input": "2022-04-01T00:13:09.993958Z",
     "iopub.status.busy": "2022-04-01T00:13:09.993722Z",
     "iopub.status.idle": "2022-04-01T00:13:13.024712Z",
     "shell.execute_reply": "2022-04-01T00:13:13.024138Z"
    },
    "id": "JYLW8UIsIMrE"
   },
   "outputs": [],
   "source": [
    "#@title Imports\n",
    "import copy\n",
    "import os\n",
    "import requests\n",
    "import tempfile\n",
    "import zipfile\n",
    "\n",
    "import tensorflow_model_remediation.min_diff as md\n",
    "from tensorflow_model_remediation.tools.tutorials_utils import min_diff_keras_utils\n",
    "\n",
    "from fairness_indicators.tutorial_utils import util as fi_util\n",
    "import numpy as np\n",
    "import tensorflow as tf\n",
    "import tensorflow_hub as hub\n",
    "from tensorflow_model_analysis.addons.fairness.view import widget_view"
   ]
  },
  {
   "cell_type": "markdown",
   "metadata": {
    "id": "zPkyRv5_ozdC"
   },
   "source": [
    "We use a utility function to download the preprocessed data and prepare the labels to match the model’s output shape. The function also downloads the data as TFRecords to make later evaluation quicker. Alternatively, you may convert the Pandas DataFrame into TFRecords with any available utility conversion function.\n"
   ]
  },
  {
   "cell_type": "code",
   "execution_count": 4,
   "metadata": {
    "execution": {
     "iopub.execute_input": "2022-04-01T00:13:13.028322Z",
     "iopub.status.busy": "2022-04-01T00:13:13.028105Z",
     "iopub.status.idle": "2022-04-01T00:13:32.855165Z",
     "shell.execute_reply": "2022-04-01T00:13:32.854398Z"
    },
    "id": "-Hw5HdppwuBs"
   },
   "outputs": [
    {
     "name": "stdout",
     "output_type": "stream",
     "text": [
      "Downloading data from https://storage.googleapis.com/civil_comments_dataset/train_df_processed.csv\n"
     ]
    },
    {
     "name": "stdout",
     "output_type": "stream",
     "text": [
      "\r",
      "    16384/345699197 [..............................] - ETA: 2s"
     ]
    },
    {
     "name": "stdout",
     "output_type": "stream",
     "text": [
      "\b\b\b\b\b\b\b\b\b\b\b\b\b\b\b\b\b\b\b\b\b\b\b\b\b\b\b\b\b\b\b\b\b\b\b\b\b\b\b\b\b\b\b\b\b\b\b\b\b\b\b\b\b\b\b\b\b\b\b\b\b\b\r",
      "  4202496/345699197 [..............................] - ETA: 20s"
     ]
    },
    {
     "name": "stdout",
     "output_type": "stream",
     "text": [
      "\b\b\b\b\b\b\b\b\b\b\b\b\b\b\b\b\b\b\b\b\b\b\b\b\b\b\b\b\b\b\b\b\b\b\b\b\b\b\b\b\b\b\b\b\b\b\b\b\b\b\b\b\b\b\b\b\b\b\b\b\b\b\b\r",
      " 16785408/345699197 [>.............................] - ETA: 10s"
     ]
    },
    {
     "name": "stdout",
     "output_type": "stream",
     "text": [
      "\b\b\b\b\b\b\b\b\b\b\b\b\b\b\b\b\b\b\b\b\b\b\b\b\b\b\b\b\b\b\b\b\b\b\b\b\b\b\b\b\b\b\b\b\b\b\b\b\b\b\b\b\b\b\b\b\b\b\b\b\b\b\b\r",
      " 25174016/345699197 [=>............................] - ETA: 10s"
     ]
    },
    {
     "name": "stdout",
     "output_type": "stream",
     "text": [
      "\b\b\b\b\b\b\b\b\b\b\b\b\b\b\b\b\b\b\b\b\b\b\b\b\b\b\b\b\b\b\b\b\b\b\b\b\b\b\b\b\b\b\b\b\b\b\b\b\b\b\b\b\b\b\b\b\b\b\b\b\b\b\b\r",
      " 38805504/345699197 [==>...........................] - ETA: 6s "
     ]
    },
    {
     "name": "stdout",
     "output_type": "stream",
     "text": [
      "\b\b\b\b\b\b\b\b\b\b\b\b\b\b\b\b\b\b\b\b\b\b\b\b\b\b\b\b\b\b\b\b\b\b\b\b\b\b\b\b\b\b\b\b\b\b\b\b\b\b\b\b\b\b\b\b\b\b\b\b\b\b\r",
      " 50339840/345699197 [===>..........................] - ETA: 5s"
     ]
    },
    {
     "name": "stdout",
     "output_type": "stream",
     "text": [
      "\b\b\b\b\b\b\b\b\b\b\b\b\b\b\b\b\b\b\b\b\b\b\b\b\b\b\b\b\b\b\b\b\b\b\b\b\b\b\b\b\b\b\b\b\b\b\b\b\b\b\b\b\b\b\b\b\b\b\b\b\b\b\r",
      " 58728448/345699197 [====>.........................] - ETA: 5s"
     ]
    },
    {
     "name": "stdout",
     "output_type": "stream",
     "text": [
      "\b\b\b\b\b\b\b\b\b\b\b\b\b\b\b\b\b\b\b\b\b\b\b\b\b\b\b\b\b\b\b\b\b\b\b\b\b\b\b\b\b\b\b\b\b\b\b\b\b\b\b\b\b\b\b\b\b\b\b\b\b\b\r",
      " 70713344/345699197 [=====>........................] - ETA: 4s"
     ]
    },
    {
     "name": "stdout",
     "output_type": "stream",
     "text": [
      "\b\b\b\b\b\b\b\b\b\b\b\b\b\b\b\b\b\b\b\b\b\b\b\b\b\b\b\b\b\b\b\b\b\b\b\b\b\b\b\b\b\b\b\b\b\b\b\b\b\b\b\b\b\b\b\b\b\b\b\b\b\b\r",
      " 83894272/345699197 [======>.......................] - ETA: 3s"
     ]
    },
    {
     "name": "stdout",
     "output_type": "stream",
     "text": [
      "\b\b\b\b\b\b\b\b\b\b\b\b\b\b\b\b\b\b\b\b\b\b\b\b\b\b\b\b\b\b\b\b\b\b\b\b\b\b\b\b\b\b\b\b\b\b\b\b\b\b\b\b\b\b\b\b\b\b\b\b\b\b\r",
      " 98869248/345699197 [=======>......................] - ETA: 3s"
     ]
    },
    {
     "name": "stdout",
     "output_type": "stream",
     "text": [
      "\b\b\b\b\b\b\b\b\b\b\b\b\b\b\b\b\b\b\b\b\b\b\b\b\b\b\b\b\b\b\b\b\b\b\b\b\b\b\b\b\b\b\b\b\b\b\b\b\b\b\b\b\b\b\b\b\b\b\b\b\b\b\r",
      "109060096/345699197 [========>.....................] - ETA: 3s"
     ]
    },
    {
     "name": "stdout",
     "output_type": "stream",
     "text": [
      "\b\b\b\b\b\b\b\b\b\b\b\b\b\b\b\b\b\b\b\b\b\b\b\b\b\b\b\b\b\b\b\b\b\b\b\b\b\b\b\b\b\b\b\b\b\b\b\b\b\b\b\b\b\b\b\b\b\b\b\b\b\b\r",
      "117448704/345699197 [=========>....................] - ETA: 3s"
     ]
    },
    {
     "name": "stdout",
     "output_type": "stream",
     "text": [
      "\b\b\b\b\b\b\b\b\b\b\b\b\b\b\b\b\b\b\b\b\b\b\b\b\b\b\b\b\b\b\b\b\b\b\b\b\b\b\b\b\b\b\b\b\b\b\b\b\b\b\b\b\b\b\b\b\b\b\b\b\b\b\r",
      "125837312/345699197 [=========>....................] - ETA: 2s"
     ]
    },
    {
     "name": "stdout",
     "output_type": "stream",
     "text": [
      "\b\b\b\b\b\b\b\b\b\b\b\b\b\b\b\b\b\b\b\b\b\b\b\b\b\b\b\b\b\b\b\b\b\b\b\b\b\b\b\b\b\b\b\b\b\b\b\b\b\b\b\b\b\b\b\b\b\b\b\b\b\b\r",
      "134225920/345699197 [==========>...................] - ETA: 2s"
     ]
    },
    {
     "name": "stdout",
     "output_type": "stream",
     "text": [
      "\b\b\b\b\b\b\b\b\b\b\b\b\b\b\b\b\b\b\b\b\b\b\b\b\b\b\b\b\b\b\b\b\b\b\b\b\b\b\b\b\b\b\b\b\b\b\b\b\b\b\b\b\b\b\b\b\b\b\b\b\b\b\r",
      "145072128/345699197 [===========>..................] - ETA: 2s"
     ]
    },
    {
     "name": "stdout",
     "output_type": "stream",
     "text": [
      "\b\b\b\b\b\b\b\b\b\b\b\b\b\b\b\b\b\b\b\b\b\b\b\b\b\b\b\b\b\b\b\b\b\b\b\b\b\b\b\b\b\b\b\b\b\b\b\b\b\b\b\b\b\b\b\b\b\b\b\b\b\b\r",
      "151003136/345699197 [============>.................] - ETA: 3s"
     ]
    },
    {
     "name": "stdout",
     "output_type": "stream",
     "text": [
      "\b\b\b\b\b\b\b\b\b\b\b\b\b\b\b\b\b\b\b\b\b\b\b\b\b\b\b\b\b\b\b\b\b\b\b\b\b\b\b\b\b\b\b\b\b\b\b\b\b\b\b\b\b\b\b\b\b\b\b\b\b\b\r",
      "165912576/345699197 [=============>................] - ETA: 2s"
     ]
    },
    {
     "name": "stdout",
     "output_type": "stream",
     "text": [
      "\b\b\b\b\b\b\b\b\b\b\b\b\b\b\b\b\b\b\b\b\b\b\b\b\b\b\b\b\b\b\b\b\b\b\b\b\b\b\b\b\b\b\b\b\b\b\b\b\b\b\b\b\b\b\b\b\b\b\b\b\b\b\r",
      "177307648/345699197 [==============>...............] - ETA: 2s"
     ]
    },
    {
     "name": "stdout",
     "output_type": "stream",
     "text": [
      "\b\b\b\b\b\b\b\b\b\b\b\b\b\b\b\b\b\b\b\b\b\b\b\b\b\b\b\b\b\b\b\b\b\b\b\b\b\b\b\b\b\b\b\b\b\b\b\b\b\b\b\b\b\b\b\b\b\b\b\b\b\b\r",
      "184557568/345699197 [===============>..............] - ETA: 2s"
     ]
    },
    {
     "name": "stdout",
     "output_type": "stream",
     "text": [
      "\b\b\b\b\b\b\b\b\b\b\b\b\b\b\b\b\b\b\b\b\b\b\b\b\b\b\b\b\b\b\b\b\b\b\b\b\b\b\b\b\b\b\b\b\b\b\b\b\b\b\b\b\b\b\b\b\b\b\b\b\b\b\r",
      "194322432/345699197 [===============>..............] - ETA: 2s"
     ]
    },
    {
     "name": "stdout",
     "output_type": "stream",
     "text": [
      "\b\b\b\b\b\b\b\b\b\b\b\b\b\b\b\b\b\b\b\b\b\b\b\b\b\b\b\b\b\b\b\b\b\b\b\b\b\b\b\b\b\b\b\b\b\b\b\b\b\b\b\b\b\b\b\b\b\b\b\b\b\b\r",
      "201334784/345699197 [================>.............] - ETA: 2s"
     ]
    },
    {
     "name": "stdout",
     "output_type": "stream",
     "text": [
      "\b\b\b\b\b\b\b\b\b\b\b\b\b\b\b\b\b\b\b\b\b\b\b\b\b\b\b\b\b\b\b\b\b\b\b\b\b\b\b\b\b\b\b\b\b\b\b\b\b\b\b\b\b\b\b\b\b\b\b\b\b\b\r",
      "209723392/345699197 [=================>............] - ETA: 2s"
     ]
    },
    {
     "name": "stdout",
     "output_type": "stream",
     "text": [
      "\b\b\b\b\b\b\b\b\b\b\b\b\b\b\b\b\b\b\b\b\b\b\b\b\b\b\b\b\b\b\b\b\b\b\b\b\b\b\b\b\b\b\b\b\b\b\b\b\b\b\b\b\b\b\b\b\b\b\b\b\b\b\r",
      "222593024/345699197 [==================>...........] - ETA: 1s"
     ]
    },
    {
     "name": "stdout",
     "output_type": "stream",
     "text": [
      "\b\b\b\b\b\b\b\b\b\b\b\b\b\b\b\b\b\b\b\b\b\b\b\b\b\b\b\b\b\b\b\b\b\b\b\b\b\b\b\b\b\b\b\b\b\b\b\b\b\b\b\b\b\b\b\b\b\b\b\b\b\b\r",
      "234889216/345699197 [===================>..........] - ETA: 1s"
     ]
    },
    {
     "name": "stdout",
     "output_type": "stream",
     "text": [
      "\b\b\b\b\b\b\b\b\b\b\b\b\b\b\b\b\b\b\b\b\b\b\b\b\b\b\b\b\b\b\b\b\b\b\b\b\b\b\b\b\b\b\b\b\b\b\b\b\b\b\b\b\b\b\b\b\b\b\b\b\b\b\r",
      "248406016/345699197 [====================>.........] - ETA: 1s"
     ]
    },
    {
     "name": "stdout",
     "output_type": "stream",
     "text": [
      "\b\b\b\b\b\b\b\b\b\b\b\b\b\b\b\b\b\b\b\b\b\b\b\b\b\b\b\b\b\b\b\b\b\b\b\b\b\b\b\b\b\b\b\b\b\b\b\b\b\b\b\b\b\b\b\b\b\b\b\b\b\b\r",
      "265019392/345699197 [=====================>........] - ETA: 1s"
     ]
    },
    {
     "name": "stdout",
     "output_type": "stream",
     "text": [
      "\b\b\b\b\b\b\b\b\b\b\b\b\b\b\b\b\b\b\b\b\b\b\b\b\b\b\b\b\b\b\b\b\b\b\b\b\b\b\b\b\b\b\b\b\b\b\b\b\b\b\b\b\b\b\b\b\b\b\b\b\b\b\r",
      "268443648/345699197 [======================>.......] - ETA: 1s"
     ]
    },
    {
     "name": "stdout",
     "output_type": "stream",
     "text": [
      "\b\b\b\b\b\b\b\b\b\b\b\b\b\b\b\b\b\b\b\b\b\b\b\b\b\b\b\b\b\b\b\b\b\b\b\b\b\b\b\b\b\b\b\b\b\b\b\b\b\b\b\b\b\b\b\b\b\b\b\b\b\b\r",
      "283115520/345699197 [=======================>......] - ETA: 0s"
     ]
    },
    {
     "name": "stdout",
     "output_type": "stream",
     "text": [
      "\b\b\b\b\b\b\b\b\b\b\b\b\b\b\b\b\b\b\b\b\b\b\b\b\b\b\b\b\b\b\b\b\b\b\b\b\b\b\b\b\b\b\b\b\b\b\b\b\b\b\b\b\b\b\b\b\b\b\b\b\b\b\r",
      "285220864/345699197 [=======================>......] - ETA: 0s"
     ]
    },
    {
     "name": "stdout",
     "output_type": "stream",
     "text": [
      "\b\b\b\b\b\b\b\b\b\b\b\b\b\b\b\b\b\b\b\b\b\b\b\b\b\b\b\b\b\b\b\b\b\b\b\b\b\b\b\b\b\b\b\b\b\b\b\b\b\b\b\b\b\b\b\b\b\b\b\b\b\b\r",
      "298942464/345699197 [========================>.....] - ETA: 0s"
     ]
    },
    {
     "name": "stdout",
     "output_type": "stream",
     "text": [
      "\b\b\b\b\b\b\b\b\b\b\b\b\b\b\b\b\b\b\b\b\b\b\b\b\b\b\b\b\b\b\b\b\b\b\b\b\b\b\b\b\b\b\b\b\b\b\b\b\b\b\b\b\b\b\b\b\b\b\b\b\b\b\r",
      "314441728/345699197 [==========================>...] - ETA: 0s"
     ]
    },
    {
     "name": "stdout",
     "output_type": "stream",
     "text": [
      "\b\b\b\b\b\b\b\b\b\b\b\b\b\b\b\b\b\b\b\b\b\b\b\b\b\b\b\b\b\b\b\b\b\b\b\b\b\b\b\b\b\b\b\b\b\b\b\b\b\b\b\b\b\b\b\b\b\b\b\b\b\b\r",
      "318775296/345699197 [==========================>...] - ETA: 0s"
     ]
    },
    {
     "name": "stdout",
     "output_type": "stream",
     "text": [
      "\b\b\b\b\b\b\b\b\b\b\b\b\b\b\b\b\b\b\b\b\b\b\b\b\b\b\b\b\b\b\b\b\b\b\b\b\b\b\b\b\b\b\b\b\b\b\b\b\b\b\b\b\b\b\b\b\b\b\b\b\b\b\r",
      "333840384/345699197 [===========================>..] - ETA: 0s"
     ]
    },
    {
     "name": "stdout",
     "output_type": "stream",
     "text": [
      "\b\b\b\b\b\b\b\b\b\b\b\b\b\b\b\b\b\b\b\b\b\b\b\b\b\b\b\b\b\b\b\b\b\b\b\b\b\b\b\b\b\b\b\b\b\b\b\b\b\b\b\b\b\b\b\b\b\b\b\b\b\b\r",
      "345702400/345699197 [==============================] - 5s 0us/step\n"
     ]
    },
    {
     "name": "stdout",
     "output_type": "stream",
     "text": [
      "\b\b\b\b\b\b\b\b\b\b\b\b\b\b\b\b\b\b\b\b\b\b\b\b\b\b\b\b\b\b\b\b\b\b\b\b\b\b\b\b\b\b\b\b\b\b\b\b\b\b\b\b\b\b\b\b\b\b\b\b\b\b\b\b\b\b\r",
      "345710592/345699197 [==============================] - 5s 0us/step\n"
     ]
    },
    {
     "name": "stdout",
     "output_type": "stream",
     "text": [
      "Downloading data from https://storage.googleapis.com/civil_comments_dataset/validate_df_processed.csv\n"
     ]
    },
    {
     "name": "stdout",
     "output_type": "stream",
     "text": [
      "\r",
      "    16384/229970098 [..............................] - ETA: 1s"
     ]
    },
    {
     "name": "stdout",
     "output_type": "stream",
     "text": [
      "\b\b\b\b\b\b\b\b\b\b\b\b\b\b\b\b\b\b\b\b\b\b\b\b\b\b\b\b\b\b\b\b\b\b\b\b\b\b\b\b\b\b\b\b\b\b\b\b\b\b\b\b\b\b\b\b\b\b\b\b\b\b\r",
      "  4202496/229970098 [..............................] - ETA: 13s"
     ]
    },
    {
     "name": "stdout",
     "output_type": "stream",
     "text": [
      "\b\b\b\b\b\b\b\b\b\b\b\b\b\b\b\b\b\b\b\b\b\b\b\b\b\b\b\b\b\b\b\b\b\b\b\b\b\b\b\b\b\b\b\b\b\b\b\b\b\b\b\b\b\b\b\b\b\b\b\b\b\b\b\r",
      "  8396800/229970098 [>.............................] - ETA: 10s"
     ]
    },
    {
     "name": "stdout",
     "output_type": "stream",
     "text": [
      "\b\b\b\b\b\b\b\b\b\b\b\b\b\b\b\b\b\b\b\b\b\b\b\b\b\b\b\b\b\b\b\b\b\b\b\b\b\b\b\b\b\b\b\b\b\b\b\b\b\b\b\b\b\b\b\b\b\b\b\b\b\b\b\r",
      " 25182208/229970098 [==>...........................] - ETA: 3s "
     ]
    },
    {
     "name": "stdout",
     "output_type": "stream",
     "text": [
      "\b\b\b\b\b\b\b\b\b\b\b\b\b\b\b\b\b\b\b\b\b\b\b\b\b\b\b\b\b\b\b\b\b\b\b\b\b\b\b\b\b\b\b\b\b\b\b\b\b\b\b\b\b\b\b\b\b\b\b\b\b\b\r",
      " 33562624/229970098 [===>..........................] - ETA: 3s"
     ]
    },
    {
     "name": "stdout",
     "output_type": "stream",
     "text": [
      "\b\b\b\b\b\b\b\b\b\b\b\b\b\b\b\b\b\b\b\b\b\b\b\b\b\b\b\b\b\b\b\b\b\b\b\b\b\b\b\b\b\b\b\b\b\b\b\b\b\b\b\b\b\b\b\b\b\b\b\b\b\b\r",
      " 41951232/229970098 [====>.........................] - ETA: 3s"
     ]
    },
    {
     "name": "stdout",
     "output_type": "stream",
     "text": [
      "\b\b\b\b\b\b\b\b\b\b\b\b\b\b\b\b\b\b\b\b\b\b\b\b\b\b\b\b\b\b\b\b\b\b\b\b\b\b\b\b\b\b\b\b\b\b\b\b\b\b\b\b\b\b\b\b\b\b\b\b\b\b\r",
      " 58163200/229970098 [======>.......................] - ETA: 2s"
     ]
    },
    {
     "name": "stdout",
     "output_type": "stream",
     "text": [
      "\b\b\b\b\b\b\b\b\b\b\b\b\b\b\b\b\b\b\b\b\b\b\b\b\b\b\b\b\b\b\b\b\b\b\b\b\b\b\b\b\b\b\b\b\b\b\b\b\b\b\b\b\b\b\b\b\b\b\b\b\b\b\r",
      " 59416576/229970098 [======>.......................] - ETA: 2s"
     ]
    },
    {
     "name": "stdout",
     "output_type": "stream",
     "text": [
      "\b\b\b\b\b\b\b\b\b\b\b\b\b\b\b\b\b\b\b\b\b\b\b\b\b\b\b\b\b\b\b\b\b\b\b\b\b\b\b\b\b\b\b\b\b\b\b\b\b\b\b\b\b\b\b\b\b\b\b\b\b\b\r",
      " 67117056/229970098 [=======>......................] - ETA: 3s"
     ]
    },
    {
     "name": "stdout",
     "output_type": "stream",
     "text": [
      "\b\b\b\b\b\b\b\b\b\b\b\b\b\b\b\b\b\b\b\b\b\b\b\b\b\b\b\b\b\b\b\b\b\b\b\b\b\b\b\b\b\b\b\b\b\b\b\b\b\b\b\b\b\b\b\b\b\b\b\b\b\b\r",
      " 82771968/229970098 [=========>....................] - ETA: 2s"
     ]
    },
    {
     "name": "stdout",
     "output_type": "stream",
     "text": [
      "\b\b\b\b\b\b\b\b\b\b\b\b\b\b\b\b\b\b\b\b\b\b\b\b\b\b\b\b\b\b\b\b\b\b\b\b\b\b\b\b\b\b\b\b\b\b\b\b\b\b\b\b\b\b\b\b\b\b\b\b\b\b\r",
      "100671488/229970098 [============>.................] - ETA: 1s"
     ]
    },
    {
     "name": "stdout",
     "output_type": "stream",
     "text": [
      "\b\b\b\b\b\b\b\b\b\b\b\b\b\b\b\b\b\b\b\b\b\b\b\b\b\b\b\b\b\b\b\b\b\b\b\b\b\b\b\b\b\b\b\b\b\b\b\b\b\b\b\b\b\b\b\b\b\b\b\b\b\b\r",
      "109060096/229970098 [=============>................] - ETA: 1s"
     ]
    },
    {
     "name": "stdout",
     "output_type": "stream",
     "text": [
      "\b\b\b\b\b\b\b\b\b\b\b\b\b\b\b\b\b\b\b\b\b\b\b\b\b\b\b\b\b\b\b\b\b\b\b\b\b\b\b\b\b\b\b\b\b\b\b\b\b\b\b\b\b\b\b\b\b\b\b\b\b\b\r",
      "125042688/229970098 [===============>..............] - ETA: 1s"
     ]
    },
    {
     "name": "stdout",
     "output_type": "stream",
     "text": [
      "\b\b\b\b\b\b\b\b\b\b\b\b\b\b\b\b\b\b\b\b\b\b\b\b\b\b\b\b\b\b\b\b\b\b\b\b\b\b\b\b\b\b\b\b\b\b\b\b\b\b\b\b\b\b\b\b\b\b\b\b\b\b\r",
      "134225920/229970098 [================>.............] - ETA: 1s"
     ]
    },
    {
     "name": "stdout",
     "output_type": "stream",
     "text": [
      "\b\b\b\b\b\b\b\b\b\b\b\b\b\b\b\b\b\b\b\b\b\b\b\b\b\b\b\b\b\b\b\b\b\b\b\b\b\b\b\b\b\b\b\b\b\b\b\b\b\b\b\b\b\b\b\b\b\b\b\b\b\b\r",
      "149405696/229970098 [==================>...........] - ETA: 1s"
     ]
    },
    {
     "name": "stdout",
     "output_type": "stream",
     "text": [
      "\b\b\b\b\b\b\b\b\b\b\b\b\b\b\b\b\b\b\b\b\b\b\b\b\b\b\b\b\b\b\b\b\b\b\b\b\b\b\b\b\b\b\b\b\b\b\b\b\b\b\b\b\b\b\b\b\b\b\b\b\b\b\r",
      "165470208/229970098 [====================>.........] - ETA: 0s"
     ]
    },
    {
     "name": "stdout",
     "output_type": "stream",
     "text": [
      "\b\b\b\b\b\b\b\b\b\b\b\b\b\b\b\b\b\b\b\b\b\b\b\b\b\b\b\b\b\b\b\b\b\b\b\b\b\b\b\b\b\b\b\b\b\b\b\b\b\b\b\b\b\b\b\b\b\b\b\b\b\b\r",
      "167780352/229970098 [====================>.........] - ETA: 0s"
     ]
    },
    {
     "name": "stdout",
     "output_type": "stream",
     "text": [
      "\b\b\b\b\b\b\b\b\b\b\b\b\b\b\b\b\b\b\b\b\b\b\b\b\b\b\b\b\b\b\b\b\b\b\b\b\b\b\b\b\b\b\b\b\b\b\b\b\b\b\b\b\b\b\b\b\b\b\b\b\b\b\r",
      "180412416/229970098 [======================>.......] - ETA: 0s"
     ]
    },
    {
     "name": "stdout",
     "output_type": "stream",
     "text": [
      "\b\b\b\b\b\b\b\b\b\b\b\b\b\b\b\b\b\b\b\b\b\b\b\b\b\b\b\b\b\b\b\b\b\b\b\b\b\b\b\b\b\b\b\b\b\b\b\b\b\b\b\b\b\b\b\b\b\b\b\b\b\b\r",
      "184557568/229970098 [=======================>......] - ETA: 0s"
     ]
    },
    {
     "name": "stdout",
     "output_type": "stream",
     "text": [
      "\b\b\b\b\b\b\b\b\b\b\b\b\b\b\b\b\b\b\b\b\b\b\b\b\b\b\b\b\b\b\b\b\b\b\b\b\b\b\b\b\b\b\b\b\b\b\b\b\b\b\b\b\b\b\b\b\b\b\b\b\b\b\r",
      "201293824/229970098 [=========================>....] - ETA: 0s"
     ]
    },
    {
     "name": "stdout",
     "output_type": "stream",
     "text": [
      "\b\b\b\b\b\b\b\b\b\b\b\b\b\b\b\b\b\b\b\b\b\b\b\b\b\b\b\b\b\b\b\b\b\b\b\b\b\b\b\b\b\b\b\b\b\b\b\b\b\b\b\b\b\b\b\b\b\b\b\b\b\b\r",
      "201334784/229970098 [=========================>....] - ETA: 0s"
     ]
    },
    {
     "name": "stdout",
     "output_type": "stream",
     "text": [
      "\b\b\b\b\b\b\b\b\b\b\b\b\b\b\b\b\b\b\b\b\b\b\b\b\b\b\b\b\b\b\b\b\b\b\b\b\b\b\b\b\b\b\b\b\b\b\b\b\b\b\b\b\b\b\b\b\b\b\b\b\b\b\r",
      "209723392/229970098 [==========================>...] - ETA: 0s"
     ]
    },
    {
     "name": "stdout",
     "output_type": "stream",
     "text": [
      "\b\b\b\b\b\b\b\b\b\b\b\b\b\b\b\b\b\b\b\b\b\b\b\b\b\b\b\b\b\b\b\b\b\b\b\b\b\b\b\b\b\b\b\b\b\b\b\b\b\b\b\b\b\b\b\b\b\b\b\b\b\b\r",
      "225886208/229970098 [============================>.] - ETA: 0s"
     ]
    },
    {
     "name": "stdout",
     "output_type": "stream",
     "text": [
      "\b\b\b\b\b\b\b\b\b\b\b\b\b\b\b\b\b\b\b\b\b\b\b\b\b\b\b\b\b\b\b\b\b\b\b\b\b\b\b\b\b\b\b\b\b\b\b\b\b\b\b\b\b\b\b\b\b\b\b\b\b\b\r",
      "229974016/229970098 [==============================] - 3s 0us/step\n"
     ]
    },
    {
     "name": "stdout",
     "output_type": "stream",
     "text": [
      "\b\b\b\b\b\b\b\b\b\b\b\b\b\b\b\b\b\b\b\b\b\b\b\b\b\b\b\b\b\b\b\b\b\b\b\b\b\b\b\b\b\b\b\b\b\b\b\b\b\b\b\b\b\b\b\b\b\b\b\b\b\b\b\b\b\b\r",
      "229982208/229970098 [==============================] - 3s 0us/step\n"
     ]
    },
    {
     "name": "stdout",
     "output_type": "stream",
     "text": [
      "Downloading data from https://storage.googleapis.com/civil_comments_dataset/validate_tf_processed.tfrecord\n"
     ]
    },
    {
     "name": "stdout",
     "output_type": "stream",
     "text": [
      "\r",
      "    16384/324941336 [..............................] - ETA: 1s"
     ]
    },
    {
     "name": "stdout",
     "output_type": "stream",
     "text": [
      "\b\b\b\b\b\b\b\b\b\b\b\b\b\b\b\b\b\b\b\b\b\b\b\b\b\b\b\b\b\b\b\b\b\b\b\b\b\b\b\b\b\b\b\b\b\b\b\b\b\b\b\b\b\b\b\b\b\b\b\b\b\b\r",
      "  4202496/324941336 [..............................] - ETA: 23s"
     ]
    },
    {
     "name": "stdout",
     "output_type": "stream",
     "text": [
      "\b\b\b\b\b\b\b\b\b\b\b\b\b\b\b\b\b\b\b\b\b\b\b\b\b\b\b\b\b\b\b\b\b\b\b\b\b\b\b\b\b\b\b\b\b\b\b\b\b\b\b\b\b\b\b\b\b\b\b\b\b\b\b\r",
      " 16785408/324941336 [>.............................] - ETA: 7s "
     ]
    },
    {
     "name": "stdout",
     "output_type": "stream",
     "text": [
      "\b\b\b\b\b\b\b\b\b\b\b\b\b\b\b\b\b\b\b\b\b\b\b\b\b\b\b\b\b\b\b\b\b\b\b\b\b\b\b\b\b\b\b\b\b\b\b\b\b\b\b\b\b\b\b\b\b\b\b\b\b\b\r",
      " 28590080/324941336 [=>............................] - ETA: 4s"
     ]
    },
    {
     "name": "stdout",
     "output_type": "stream",
     "text": [
      "\b\b\b\b\b\b\b\b\b\b\b\b\b\b\b\b\b\b\b\b\b\b\b\b\b\b\b\b\b\b\b\b\b\b\b\b\b\b\b\b\b\b\b\b\b\b\b\b\b\b\b\b\b\b\b\b\b\b\b\b\b\b\r",
      " 33562624/324941336 [==>...........................] - ETA: 5s"
     ]
    },
    {
     "name": "stdout",
     "output_type": "stream",
     "text": [
      "\b\b\b\b\b\b\b\b\b\b\b\b\b\b\b\b\b\b\b\b\b\b\b\b\b\b\b\b\b\b\b\b\b\b\b\b\b\b\b\b\b\b\b\b\b\b\b\b\b\b\b\b\b\b\b\b\b\b\b\b\b\b\r",
      " 41852928/324941336 [==>...........................] - ETA: 4s"
     ]
    },
    {
     "name": "stdout",
     "output_type": "stream",
     "text": [
      "\b\b\b\b\b\b\b\b\b\b\b\b\b\b\b\b\b\b\b\b\b\b\b\b\b\b\b\b\b\b\b\b\b\b\b\b\b\b\b\b\b\b\b\b\b\b\b\b\b\b\b\b\b\b\b\b\b\b\b\b\b\b\r",
      " 56745984/324941336 [====>.........................] - ETA: 3s"
     ]
    },
    {
     "name": "stdout",
     "output_type": "stream",
     "text": [
      "\b\b\b\b\b\b\b\b\b\b\b\b\b\b\b\b\b\b\b\b\b\b\b\b\b\b\b\b\b\b\b\b\b\b\b\b\b\b\b\b\b\b\b\b\b\b\b\b\b\b\b\b\b\b\b\b\b\b\b\b\b\b\r",
      " 67117056/324941336 [=====>........................] - ETA: 3s"
     ]
    },
    {
     "name": "stdout",
     "output_type": "stream",
     "text": [
      "\b\b\b\b\b\b\b\b\b\b\b\b\b\b\b\b\b\b\b\b\b\b\b\b\b\b\b\b\b\b\b\b\b\b\b\b\b\b\b\b\b\b\b\b\b\b\b\b\b\b\b\b\b\b\b\b\b\b\b\b\b\b\r",
      " 75505664/324941336 [=====>........................] - ETA: 3s"
     ]
    },
    {
     "name": "stdout",
     "output_type": "stream",
     "text": [
      "\b\b\b\b\b\b\b\b\b\b\b\b\b\b\b\b\b\b\b\b\b\b\b\b\b\b\b\b\b\b\b\b\b\b\b\b\b\b\b\b\b\b\b\b\b\b\b\b\b\b\b\b\b\b\b\b\b\b\b\b\b\b\r",
      " 83894272/324941336 [======>.......................] - ETA: 3s"
     ]
    },
    {
     "name": "stdout",
     "output_type": "stream",
     "text": [
      "\b\b\b\b\b\b\b\b\b\b\b\b\b\b\b\b\b\b\b\b\b\b\b\b\b\b\b\b\b\b\b\b\b\b\b\b\b\b\b\b\b\b\b\b\b\b\b\b\b\b\b\b\b\b\b\b\b\b\b\b\b\b\r",
      " 96395264/324941336 [=======>......................] - ETA: 2s"
     ]
    },
    {
     "name": "stdout",
     "output_type": "stream",
     "text": [
      "\b\b\b\b\b\b\b\b\b\b\b\b\b\b\b\b\b\b\b\b\b\b\b\b\b\b\b\b\b\b\b\b\b\b\b\b\b\b\b\b\b\b\b\b\b\b\b\b\b\b\b\b\b\b\b\b\b\b\b\b\b\b\r",
      "109060096/324941336 [=========>....................] - ETA: 2s"
     ]
    },
    {
     "name": "stdout",
     "output_type": "stream",
     "text": [
      "\b\b\b\b\b\b\b\b\b\b\b\b\b\b\b\b\b\b\b\b\b\b\b\b\b\b\b\b\b\b\b\b\b\b\b\b\b\b\b\b\b\b\b\b\b\b\b\b\b\b\b\b\b\b\b\b\b\b\b\b\b\b\r",
      "117448704/324941336 [=========>....................] - ETA: 2s"
     ]
    },
    {
     "name": "stdout",
     "output_type": "stream",
     "text": [
      "\b\b\b\b\b\b\b\b\b\b\b\b\b\b\b\b\b\b\b\b\b\b\b\b\b\b\b\b\b\b\b\b\b\b\b\b\b\b\b\b\b\b\b\b\b\b\b\b\b\b\b\b\b\b\b\b\b\b\b\b\b\b\r",
      "128499712/324941336 [==========>...................] - ETA: 2s"
     ]
    },
    {
     "name": "stdout",
     "output_type": "stream",
     "text": [
      "\b\b\b\b\b\b\b\b\b\b\b\b\b\b\b\b\b\b\b\b\b\b\b\b\b\b\b\b\b\b\b\b\b\b\b\b\b\b\b\b\b\b\b\b\b\b\b\b\b\b\b\b\b\b\b\b\b\b\b\b\b\b\r",
      "142614528/324941336 [============>.................] - ETA: 2s"
     ]
    },
    {
     "name": "stdout",
     "output_type": "stream",
     "text": [
      "\b\b\b\b\b\b\b\b\b\b\b\b\b\b\b\b\b\b\b\b\b\b\b\b\b\b\b\b\b\b\b\b\b\b\b\b\b\b\b\b\b\b\b\b\b\b\b\b\b\b\b\b\b\b\b\b\b\b\b\b\b\b\r",
      "151003136/324941336 [============>.................] - ETA: 2s"
     ]
    },
    {
     "name": "stdout",
     "output_type": "stream",
     "text": [
      "\b\b\b\b\b\b\b\b\b\b\b\b\b\b\b\b\b\b\b\b\b\b\b\b\b\b\b\b\b\b\b\b\b\b\b\b\b\b\b\b\b\b\b\b\b\b\b\b\b\b\b\b\b\b\b\b\b\b\b\b\b\b\r",
      "161497088/324941336 [=============>................] - ETA: 1s"
     ]
    },
    {
     "name": "stdout",
     "output_type": "stream",
     "text": [
      "\b\b\b\b\b\b\b\b\b\b\b\b\b\b\b\b\b\b\b\b\b\b\b\b\b\b\b\b\b\b\b\b\b\b\b\b\b\b\b\b\b\b\b\b\b\b\b\b\b\b\b\b\b\b\b\b\b\b\b\b\b\b\r",
      "174104576/324941336 [===============>..............] - ETA: 1s"
     ]
    },
    {
     "name": "stdout",
     "output_type": "stream",
     "text": [
      "\b\b\b\b\b\b\b\b\b\b\b\b\b\b\b\b\b\b\b\b\b\b\b\b\b\b\b\b\b\b\b\b\b\b\b\b\b\b\b\b\b\b\b\b\b\b\b\b\b\b\b\b\b\b\b\b\b\b\b\b\b\b\r",
      "184557568/324941336 [================>.............] - ETA: 1s"
     ]
    },
    {
     "name": "stdout",
     "output_type": "stream",
     "text": [
      "\b\b\b\b\b\b\b\b\b\b\b\b\b\b\b\b\b\b\b\b\b\b\b\b\b\b\b\b\b\b\b\b\b\b\b\b\b\b\b\b\b\b\b\b\b\b\b\b\b\b\b\b\b\b\b\b\b\b\b\b\b\b\r",
      "196272128/324941336 [=================>............] - ETA: 1s"
     ]
    },
    {
     "name": "stdout",
     "output_type": "stream",
     "text": [
      "\b\b\b\b\b\b\b\b\b\b\b\b\b\b\b\b\b\b\b\b\b\b\b\b\b\b\b\b\b\b\b\b\b\b\b\b\b\b\b\b\b\b\b\b\b\b\b\b\b\b\b\b\b\b\b\b\b\b\b\b\b\b\r",
      "211673088/324941336 [==================>...........] - ETA: 1s"
     ]
    },
    {
     "name": "stdout",
     "output_type": "stream",
     "text": [
      "\b\b\b\b\b\b\b\b\b\b\b\b\b\b\b\b\b\b\b\b\b\b\b\b\b\b\b\b\b\b\b\b\b\b\b\b\b\b\b\b\b\b\b\b\b\b\b\b\b\b\b\b\b\b\b\b\b\b\b\b\b\b\r",
      "218112000/324941336 [===================>..........] - ETA: 1s"
     ]
    },
    {
     "name": "stdout",
     "output_type": "stream",
     "text": [
      "\b\b\b\b\b\b\b\b\b\b\b\b\b\b\b\b\b\b\b\b\b\b\b\b\b\b\b\b\b\b\b\b\b\b\b\b\b\b\b\b\b\b\b\b\b\b\b\b\b\b\b\b\b\b\b\b\b\b\b\b\b\b\r",
      "226779136/324941336 [===================>..........] - ETA: 1s"
     ]
    },
    {
     "name": "stdout",
     "output_type": "stream",
     "text": [
      "\b\b\b\b\b\b\b\b\b\b\b\b\b\b\b\b\b\b\b\b\b\b\b\b\b\b\b\b\b\b\b\b\b\b\b\b\b\b\b\b\b\b\b\b\b\b\b\b\b\b\b\b\b\b\b\b\b\b\b\b\b\b\r",
      "237928448/324941336 [====================>.........] - ETA: 0s"
     ]
    },
    {
     "name": "stdout",
     "output_type": "stream",
     "text": [
      "\b\b\b\b\b\b\b\b\b\b\b\b\b\b\b\b\b\b\b\b\b\b\b\b\b\b\b\b\b\b\b\b\b\b\b\b\b\b\b\b\b\b\b\b\b\b\b\b\b\b\b\b\b\b\b\b\b\b\b\b\b\b\r",
      "251666432/324941336 [======================>.......] - ETA: 0s"
     ]
    },
    {
     "name": "stdout",
     "output_type": "stream",
     "text": [
      "\b\b\b\b\b\b\b\b\b\b\b\b\b\b\b\b\b\b\b\b\b\b\b\b\b\b\b\b\b\b\b\b\b\b\b\b\b\b\b\b\b\b\b\b\b\b\b\b\b\b\b\b\b\b\b\b\b\b\b\b\b\b\r",
      "260055040/324941336 [=======================>......] - ETA: 0s"
     ]
    },
    {
     "name": "stdout",
     "output_type": "stream",
     "text": [
      "\b\b\b\b\b\b\b\b\b\b\b\b\b\b\b\b\b\b\b\b\b\b\b\b\b\b\b\b\b\b\b\b\b\b\b\b\b\b\b\b\b\b\b\b\b\b\b\b\b\b\b\b\b\b\b\b\b\b\b\b\b\b\r",
      "272932864/324941336 [========================>.....] - ETA: 0s"
     ]
    },
    {
     "name": "stdout",
     "output_type": "stream",
     "text": [
      "\b\b\b\b\b\b\b\b\b\b\b\b\b\b\b\b\b\b\b\b\b\b\b\b\b\b\b\b\b\b\b\b\b\b\b\b\b\b\b\b\b\b\b\b\b\b\b\b\b\b\b\b\b\b\b\b\b\b\b\b\b\b\r",
      "286588928/324941336 [=========================>....] - ETA: 0s"
     ]
    },
    {
     "name": "stdout",
     "output_type": "stream",
     "text": [
      "\b\b\b\b\b\b\b\b\b\b\b\b\b\b\b\b\b\b\b\b\b\b\b\b\b\b\b\b\b\b\b\b\b\b\b\b\b\b\b\b\b\b\b\b\b\b\b\b\b\b\b\b\b\b\b\b\b\b\b\b\b\b\r",
      "293609472/324941336 [==========================>...] - ETA: 0s"
     ]
    },
    {
     "name": "stdout",
     "output_type": "stream",
     "text": [
      "\b\b\b\b\b\b\b\b\b\b\b\b\b\b\b\b\b\b\b\b\b\b\b\b\b\b\b\b\b\b\b\b\b\b\b\b\b\b\b\b\b\b\b\b\b\b\b\b\b\b\b\b\b\b\b\b\b\b\b\b\b\b\r",
      "301998080/324941336 [==========================>...] - ETA: 0s"
     ]
    },
    {
     "name": "stdout",
     "output_type": "stream",
     "text": [
      "\b\b\b\b\b\b\b\b\b\b\b\b\b\b\b\b\b\b\b\b\b\b\b\b\b\b\b\b\b\b\b\b\b\b\b\b\b\b\b\b\b\b\b\b\b\b\b\b\b\b\b\b\b\b\b\b\b\b\b\b\b\b\r",
      "310386688/324941336 [===========================>..] - ETA: 0s"
     ]
    },
    {
     "name": "stdout",
     "output_type": "stream",
     "text": [
      "\b\b\b\b\b\b\b\b\b\b\b\b\b\b\b\b\b\b\b\b\b\b\b\b\b\b\b\b\b\b\b\b\b\b\b\b\b\b\b\b\b\b\b\b\b\b\b\b\b\b\b\b\b\b\b\b\b\b\b\b\b\b\r",
      "318914560/324941336 [============================>.] - ETA: 0s"
     ]
    },
    {
     "name": "stdout",
     "output_type": "stream",
     "text": [
      "\b\b\b\b\b\b\b\b\b\b\b\b\b\b\b\b\b\b\b\b\b\b\b\b\b\b\b\b\b\b\b\b\b\b\b\b\b\b\b\b\b\b\b\b\b\b\b\b\b\b\b\b\b\b\b\b\b\b\b\b\b\b\r",
      "324943872/324941336 [==============================] - 4s 0us/step\n"
     ]
    },
    {
     "name": "stdout",
     "output_type": "stream",
     "text": [
      "\b\b\b\b\b\b\b\b\b\b\b\b\b\b\b\b\b\b\b\b\b\b\b\b\b\b\b\b\b\b\b\b\b\b\b\b\b\b\b\b\b\b\b\b\b\b\b\b\b\b\b\b\b\b\b\b\b\b\b\b\b\b\b\b\b\b\r",
      "324952064/324941336 [==============================] - 4s 0us/step\n"
     ]
    }
   ],
   "source": [
    "# We use a helper utility to preprocessed data for convenience and speed.\n",
    "data_train, data_validate, validate_tfrecord_file, labels_train, labels_validate = min_diff_keras_utils.download_and_process_civil_comments_data()"
   ]
  },
  {
   "cell_type": "markdown",
   "metadata": {
    "id": "LGum4JXSo-Qu"
   },
   "source": [
    "We define a few useful constants.  We will train the model on the `’comment_text’` feature, with our target label as `’toxicity’`. Note that the batch size here is chosen arbitrarily, but in a production setting you would need to tune it for best performance."
   ]
  },
  {
   "cell_type": "code",
   "execution_count": 5,
   "metadata": {
    "execution": {
     "iopub.execute_input": "2022-04-01T00:13:32.859047Z",
     "iopub.status.busy": "2022-04-01T00:13:32.858842Z",
     "iopub.status.idle": "2022-04-01T00:13:32.862234Z",
     "shell.execute_reply": "2022-04-01T00:13:32.861716Z"
    },
    "id": "Ular7EPMU_Y1"
   },
   "outputs": [],
   "source": [
    "TEXT_FEATURE = 'comment_text'\n",
    "LABEL = 'toxicity'\n",
    "BATCH_SIZE = 512"
   ]
  },
  {
   "cell_type": "markdown",
   "metadata": {
    "id": "tyRduaSapFqt"
   },
   "source": [
    "Set random seeds. (Note that this does not fully stabilize results.)"
   ]
  },
  {
   "cell_type": "code",
   "execution_count": 6,
   "metadata": {
    "execution": {
     "iopub.execute_input": "2022-04-01T00:13:32.865566Z",
     "iopub.status.busy": "2022-04-01T00:13:32.865036Z",
     "iopub.status.idle": "2022-04-01T00:13:32.868503Z",
     "shell.execute_reply": "2022-04-01T00:13:32.867742Z"
    },
    "id": "taGEqZGB_FWN"
   },
   "outputs": [],
   "source": [
    "#@title Seeds\n",
    "np.random.seed(1)\n",
    "tf.random.set_seed(1)"
   ]
  },
  {
   "cell_type": "markdown",
   "metadata": {
    "id": "D_r-uFyQpbkW"
   },
   "source": [
    "## Define and train the baseline model\n",
    "\n",
    "To reduce runtime, we use a pretrained model by default. It is a simple Keras sequential model with an initial embedding and convolution layers, outputting a toxicity prediction. If you prefer, you can change this and train from scratch using our utility function to create the model. (Note that since your environment is likely different from ours, you would need to customize the tuning and evaluation thresholds.)"
   ]
  },
  {
   "cell_type": "code",
   "execution_count": 7,
   "metadata": {
    "execution": {
     "iopub.execute_input": "2022-04-01T00:13:32.871602Z",
     "iopub.status.busy": "2022-04-01T00:13:32.871234Z",
     "iopub.status.idle": "2022-04-01T00:13:55.024846Z",
     "shell.execute_reply": "2022-04-01T00:13:55.024145Z"
    },
    "id": "KcRceFceKyE_"
   },
   "outputs": [],
   "source": [
    "use_pretrained_model = True #@param {type:\"boolean\"}\n",
    "\n",
    "if use_pretrained_model:\n",
    "  URL = 'https://storage.googleapis.com/civil_comments_model/baseline_model.zip'\n",
    "  BASE_PATH = tempfile.mkdtemp()\n",
    "  ZIP_PATH = os.path.join(BASE_PATH, 'baseline_model.zip')\n",
    "  MODEL_PATH = os.path.join(BASE_PATH, 'tmp/baseline_model')\n",
    "\n",
    "  r = requests.get(URL, allow_redirects=True)\n",
    "  open(ZIP_PATH, 'wb').write(r.content)\n",
    "\n",
    "  with zipfile.ZipFile(ZIP_PATH, 'r') as zip_ref:\n",
    "    zip_ref.extractall(BASE_PATH)\n",
    "  baseline_model = tf.keras.models.load_model(\n",
    "      MODEL_PATH, custom_objects={'KerasLayer' : hub.KerasLayer})\n",
    "else:\n",
    "  optimizer = tf.keras.optimizers.Adam(learning_rate=0.001)\n",
    "  loss = tf.keras.losses.BinaryCrossentropy()\n",
    "\n",
    "  baseline_model = min_diff_keras_utils.create_keras_sequential_model()\n",
    "  \n",
    "  baseline_model.compile(optimizer=optimizer, loss=loss, metrics=['accuracy'])\n",
    "\n",
    "  baseline_model.fit(x=data_train[TEXT_FEATURE],\n",
    "                     y=labels_train,\n",
    "                     batch_size=BATCH_SIZE,\n",
    "                     epochs=20)"
   ]
  },
  {
   "cell_type": "markdown",
   "metadata": {
    "id": "m8nsimBdp-lh"
   },
   "source": [
    "We save the model in order to evaluate using [Fairness Indicators](https://www.tensorflow.org/responsible_ai/fairness_indicators)."
   ]
  },
  {
   "cell_type": "code",
   "execution_count": 8,
   "metadata": {
    "execution": {
     "iopub.execute_input": "2022-04-01T00:13:55.033521Z",
     "iopub.status.busy": "2022-04-01T00:13:55.033315Z",
     "iopub.status.idle": "2022-04-01T00:13:56.905692Z",
     "shell.execute_reply": "2022-04-01T00:13:56.904925Z"
    },
    "id": "DRLTXwDfN6a7"
   },
   "outputs": [
    {
     "name": "stderr",
     "output_type": "stream",
     "text": [
      "2022-04-01 00:13:55.440930: W tensorflow/python/util/util.cc:368] Sets are not currently considered sequences, but this may change in the future, so consider avoiding using them.\n"
     ]
    },
    {
     "name": "stdout",
     "output_type": "stream",
     "text": [
      "INFO:tensorflow:Assets written to: /tmp/saved_modelsv08307on/model_export_baseline/assets\n"
     ]
    },
    {
     "name": "stderr",
     "output_type": "stream",
     "text": [
      "INFO:tensorflow:Assets written to: /tmp/saved_modelsv08307on/model_export_baseline/assets\n"
     ]
    }
   ],
   "source": [
    "base_dir = tempfile.mkdtemp(prefix='saved_models')\n",
    "baseline_model_location = os.path.join(base_dir, 'model_export_baseline')\n",
    "baseline_model.save(baseline_model_location, save_format='tf')"
   ]
  },
  {
   "cell_type": "markdown",
   "metadata": {
    "id": "7ZRoxj-iqNqm"
   },
   "source": [
    "Next we run Fairness Indicators. As a reminder, we’re just going to perform sliced evaluation for comments referencing one category, *religious groups*. In a production environment, we recommend taking a thoughtful approach to determining which categories and metrics to evaluate across. \n",
    "\n",
    "To compute model performance, the utility function makes a few convenient choices for metrics, slices, and classifier thresholds."
   ]
  },
  {
   "cell_type": "code",
   "execution_count": 9,
   "metadata": {
    "execution": {
     "iopub.execute_input": "2022-04-01T00:13:56.909004Z",
     "iopub.status.busy": "2022-04-01T00:13:56.908642Z",
     "iopub.status.idle": "2022-04-01T00:25:38.758741Z",
     "shell.execute_reply": "2022-04-01T00:25:38.757908Z"
    },
    "id": "4d6CZj2d-jrw"
   },
   "outputs": [
    {
     "name": "stderr",
     "output_type": "stream",
     "text": [
      "WARNING:absl:Tensorflow version (2.8.0) found. Note that TFMA support for TF 2.0 is currently in beta\n"
     ]
    },
    {
     "name": "stderr",
     "output_type": "stream",
     "text": [
      "WARNING:apache_beam.runners.interactive.interactive_environment:Dependencies required for Interactive Beam PCollection visualization are not available, please use: `pip install apache-beam[interactive]` to install necessary dependencies to enable all data visualization features.\n"
     ]
    },
    {
     "data": {
      "application/javascript": [
       "\n",
       "        if (typeof window.interactive_beam_jquery == 'undefined') {\n",
       "          var jqueryScript = document.createElement('script');\n",
       "          jqueryScript.src = 'https://code.jquery.com/jquery-3.4.1.slim.min.js';\n",
       "          jqueryScript.type = 'text/javascript';\n",
       "          jqueryScript.onload = function() {\n",
       "            var datatableScript = document.createElement('script');\n",
       "            datatableScript.src = 'https://cdn.datatables.net/1.10.20/js/jquery.dataTables.min.js';\n",
       "            datatableScript.type = 'text/javascript';\n",
       "            datatableScript.onload = function() {\n",
       "              window.interactive_beam_jquery = jQuery.noConflict(true);\n",
       "              window.interactive_beam_jquery(document).ready(function($){\n",
       "                \n",
       "              });\n",
       "            }\n",
       "            document.head.appendChild(datatableScript);\n",
       "          };\n",
       "          document.head.appendChild(jqueryScript);\n",
       "        } else {\n",
       "          window.interactive_beam_jquery(document).ready(function($){\n",
       "            \n",
       "          });\n",
       "        }"
      ]
     },
     "metadata": {},
     "output_type": "display_data"
    },
    {
     "name": "stderr",
     "output_type": "stream",
     "text": [
      "WARNING:root:Make sure that locally built Python SDK docker image has Python 3.7 interpreter.\n"
     ]
    },
    {
     "name": "stderr",
     "output_type": "stream",
     "text": [
      "WARNING:apache_beam.io.tfrecordio:Couldn't find python-snappy so the implementation of _TFRecordUtil._masked_crc32c is not as fast as it could be.\n"
     ]
    },
    {
     "name": "stdout",
     "output_type": "stream",
     "text": [
      "WARNING:tensorflow:From /tmpfs/src/tf_docs_env/lib/python3.7/site-packages/tensorflow_model_analysis/writers/metrics_plots_and_validations_writer.py:109: tf_record_iterator (from tensorflow.python.lib.io.tf_record) is deprecated and will be removed in a future version.\n",
      "Instructions for updating:\n",
      "Use eager execution and: \n",
      "`tf.data.TFRecordDataset(path)`\n"
     ]
    },
    {
     "name": "stderr",
     "output_type": "stream",
     "text": [
      "WARNING:tensorflow:From /tmpfs/src/tf_docs_env/lib/python3.7/site-packages/tensorflow_model_analysis/writers/metrics_plots_and_validations_writer.py:109: tf_record_iterator (from tensorflow.python.lib.io.tf_record) is deprecated and will be removed in a future version.\n",
      "Instructions for updating:\n",
      "Use eager execution and: \n",
      "`tf.data.TFRecordDataset(path)`\n"
     ]
    }
   ],
   "source": [
    "# We use a helper utility to hide the evaluation logic for readability.\n",
    "base_dir = tempfile.mkdtemp(prefix='eval')\n",
    "eval_dir = os.path.join(base_dir, 'tfma_eval_result')\n",
    "eval_result = fi_util.get_eval_results(\n",
    "    baseline_model_location, eval_dir, validate_tfrecord_file)"
   ]
  },
  {
   "cell_type": "markdown",
   "metadata": {
    "id": "S1X0wtRXmHPX"
   },
   "source": [
    "###  Render Evaluation Results"
   ]
  },
  {
   "cell_type": "code",
   "execution_count": 10,
   "metadata": {
    "execution": {
     "iopub.execute_input": "2022-04-01T00:25:38.762355Z",
     "iopub.status.busy": "2022-04-01T00:25:38.761905Z",
     "iopub.status.idle": "2022-04-01T00:25:38.778088Z",
     "shell.execute_reply": "2022-04-01T00:25:38.777539Z"
    },
    "id": "ynbJR3Qc-j0D"
   },
   "outputs": [
    {
     "data": {
      "application/vnd.jupyter.widget-view+json": {
       "model_id": "83aa376f05584f2da1e9ebbbfbef5860",
       "version_major": 2,
       "version_minor": 0
      },
      "text/plain": [
       "FairnessIndicatorViewer(slicingMetrics=[{'sliceValue': 'Overall', 'slice': 'Overall', 'metrics': {'accuracy': …"
      ]
     },
     "metadata": {},
     "output_type": "display_data"
    }
   ],
   "source": [
    "widget_view.render_fairness_indicator(eval_result)"
   ]
  },
  {
   "cell_type": "markdown",
   "metadata": {
    "id": "o2cYxsxNqT_P"
   },
   "source": [
    "Let’s look at the evaluation results. Try selecting the metric false positive rate (FPR) with threshold 0.450. We can see that the model does not perform as well for some religious groups as for others, displaying a much higher FPR. Note the wide confidence intervals on some groups because they have too few examples. This makes it difficult to say with certainty that there is a significant difference in performance for these slices. We may want to collect more examples to address this issue. We can, however, attempt to apply MinDiff for the two groups that we are confident are underperforming.\n",
    "\n",
    "We’ve chosen to focus on FPR, because a higher FPR means that comments referencing these identity groups are more likely to be incorrectly flagged as toxic than other comments. This could lead to inequitable outcomes for users engaging in dialogue about religion, but note that disparities in other metrics can lead to other types of harm."
   ]
  },
  {
   "cell_type": "markdown",
   "metadata": {
    "id": "CRG6SHR8ryMV"
   },
   "source": [
    "## Define and Train the MinDiff Model\n",
    "\n",
    "Now, we’ll try to improve the FPR for underperforming religious groups. We’ll attempt to do so using [MinDiff](https://arxiv.org/abs/1910.11779), a remediation technique that seeks to balance error rates across slices of your data by penalizing disparities in performance during training. When we apply MinDiff, model performance may degrade slightly on other slices. As such, our goals with MinDiff will be:\n",
    "*   Improved performance for underperforming groups\n",
    "*   Limited degradation for other groups and overall performance\n",
    "\n"
   ]
  },
  {
   "cell_type": "markdown",
   "metadata": {
    "id": "opFCpJjadf7g"
   },
   "source": [
    "### Prepare your data\n",
    "\n",
    "To use MinDiff, we create two additional data splits:\n",
    "* A split for non-toxic examples referencing minority groups: In our case, this will include comments with references to our underperforming identity terms.  We don’t include some of the groups because there are too few examples, leading to higher uncertainty with wide confidence interval ranges.\n",
    "* A split for non-toxic examples referencing the majority group.\n",
    "\n",
    "It’s important to have sufficient examples belonging to the underperforming classes. Based on your model architecture, data distribution, and MinDiff configuration, the amount of data needed can vary significantly. In past applications, we have seen MinDiff work well with 5,000 examples in each data split.\n",
    "\n",
    "In our case, the groups in the minority splits have example quantities of 9,688 and 3,906. Note the class imbalances in the dataset; in practice, this could be cause for concern, but we won’t seek to address them in this notebook since our intention is just to demonstrate MinDiff.  \n",
    "\n",
    "We select only negative examples for these groups, so that MinDiff can optimize on getting these examples right. It may seem counterintuitive to carve out sets of ground truth *negative* examples if we’re primarily concerned with disparities in *false positive rate*, but remember that a false positive prediction is a ground truth negative example that’s incorrectly classified as positive, which is the issue we’re trying to address."
   ]
  },
  {
   "cell_type": "markdown",
   "metadata": {
    "id": "1QilngDumRfI"
   },
   "source": [
    "#### Create MinDiff DataFrames"
   ]
  },
  {
   "cell_type": "code",
   "execution_count": 11,
   "metadata": {
    "execution": {
     "iopub.execute_input": "2022-04-01T00:25:38.783353Z",
     "iopub.status.busy": "2022-04-01T00:25:38.782911Z",
     "iopub.status.idle": "2022-04-01T00:25:39.618836Z",
     "shell.execute_reply": "2022-04-01T00:25:39.617837Z"
    },
    "id": "jj4dychpyrqM"
   },
   "outputs": [],
   "source": [
    "# Create masks for the sensitive and nonsensitive groups\n",
    "minority_mask = data_train.religion.apply(\n",
    "    lambda x: any(religion in x for religion in ('jewish', 'muslim')))\n",
    "majority_mask = data_train.religion.apply(lambda x: x == \"['christian']\")\n",
    "\n",
    "# Select nontoxic examples, so MinDiff will be able to reduce sensitive FP rate.\n",
    "true_negative_mask = data_train['toxicity'] == 0\n",
    "\n",
    "data_train_main = copy.copy(data_train)\n",
    "data_train_sensitive = data_train[minority_mask & true_negative_mask]\n",
    "data_train_nonsensitive = data_train[majority_mask & true_negative_mask]"
   ]
  },
  {
   "cell_type": "markdown",
   "metadata": {
    "id": "3lR_w3LHt6QK"
   },
   "source": [
    "We also need to convert our Pandas DataFrames into Tensorflow Datasets for MinDiff input.  Note that unlike the Keras model API for Pandas DataFrames, using Datasets means that we need to provide the model’s input features and labels together in one Dataset. Here we provide the `'comment_text'` as an input feature and reshape the label to match the model's expected output. \n",
    "\n",
    "We batch the Dataset at this stage, too, since MinDiff requires batched Datasets.  Note that we tune the batch size selection the same way it is tuned for the baseline model, taking into account training speed and hardware considerations while balancing with model performance. Here we have chosen the same batch size for all three datasets but this is not a requirement, although it’s good practice to have the two MinDiff batch sizes be equivalent."
   ]
  },
  {
   "cell_type": "markdown",
   "metadata": {
    "id": "yA4Kw9tsmopa"
   },
   "source": [
    "#### Create MinDiff Datasets"
   ]
  },
  {
   "cell_type": "code",
   "execution_count": 12,
   "metadata": {
    "execution": {
     "iopub.execute_input": "2022-04-01T00:25:39.623069Z",
     "iopub.status.busy": "2022-04-01T00:25:39.622478Z",
     "iopub.status.idle": "2022-04-01T00:25:39.843189Z",
     "shell.execute_reply": "2022-04-01T00:25:39.842600Z"
    },
    "id": "C0DkFMTOuIQT"
   },
   "outputs": [],
   "source": [
    "# Convert the pandas DataFrames to Datasets.\n",
    "dataset_train_main = tf.data.Dataset.from_tensor_slices(\n",
    "    (data_train_main['comment_text'].values, \n",
    "     data_train_main.pop(LABEL).values.reshape(-1,1) * 1.0)).batch(BATCH_SIZE)\n",
    "dataset_train_sensitive = tf.data.Dataset.from_tensor_slices(\n",
    "    (data_train_sensitive['comment_text'].values, \n",
    "     data_train_sensitive.pop(LABEL).values.reshape(-1,1) * 1.0)).batch(BATCH_SIZE)\n",
    "dataset_train_nonsensitive = tf.data.Dataset.from_tensor_slices(\n",
    "    (data_train_nonsensitive['comment_text'].values, \n",
    "     data_train_nonsensitive.pop(LABEL).values.reshape(-1,1) * 1.0)).batch(BATCH_SIZE)"
   ]
  },
  {
   "cell_type": "markdown",
   "metadata": {
    "id": "XRGvjZ8VuBvz"
   },
   "source": [
    "### Train and evaluate the model\n",
    "\n",
    "To train with MinDiff, simply take the original model and wrap it in a MinDiffModel with a corresponding `loss` and `loss_weight`.  We are using 1.5 as the default `loss_weight`, but this is a parameter that needs to be tuned for your use case, since it depends on your model and product requirements.  You can experiment with changing the value to see how it impacts the model, noting that increasing it pushes the performance of the minority and majority groups closer together but may come with more pronounced tradeoffs.\n",
    "\n",
    "Then we compile the model normally (using the regular non-MinDiff loss) and fit to train."
   ]
  },
  {
   "cell_type": "markdown",
   "metadata": {
    "id": "eP_eTUpYm6U-"
   },
   "source": [
    "#### Train MinDiffModel"
   ]
  },
  {
   "cell_type": "code",
   "execution_count": 13,
   "metadata": {
    "execution": {
     "iopub.execute_input": "2022-04-01T00:25:39.847147Z",
     "iopub.status.busy": "2022-04-01T00:25:39.846951Z",
     "iopub.status.idle": "2022-04-01T00:25:56.270495Z",
     "shell.execute_reply": "2022-04-01T00:25:56.269907Z"
    },
    "id": "xutVGl9fyikP"
   },
   "outputs": [
    {
     "name": "stdout",
     "output_type": "stream",
     "text": [
      "INFO:tensorflow:Assets written to: /tmp/saved_modelse0kek8my/model_export_min_diff/assets\n"
     ]
    },
    {
     "name": "stderr",
     "output_type": "stream",
     "text": [
      "INFO:tensorflow:Assets written to: /tmp/saved_modelse0kek8my/model_export_min_diff/assets\n"
     ]
    }
   ],
   "source": [
    "use_pretrained_model = True #@param {type:\"boolean\"}\n",
    "\n",
    "base_dir = tempfile.mkdtemp(prefix='saved_models')\n",
    "min_diff_model_location = os.path.join(base_dir, 'model_export_min_diff')\n",
    "\n",
    "if use_pretrained_model:\n",
    "  BASE_MIN_DIFF_PATH = tempfile.mkdtemp()\n",
    "  MIN_DIFF_URL = 'https://storage.googleapis.com/civil_comments_model/min_diff_model.zip'\n",
    "  ZIP_PATH = os.path.join(BASE_PATH, 'min_diff_model.zip')\n",
    "  MIN_DIFF_MODEL_PATH = os.path.join(BASE_MIN_DIFF_PATH, 'tmp/min_diff_model')\n",
    "  DIRPATH = '/tmp/min_diff_model'\n",
    "\n",
    "  r = requests.get(MIN_DIFF_URL, allow_redirects=True)\n",
    "  open(ZIP_PATH, 'wb').write(r.content)\n",
    "\n",
    "  with zipfile.ZipFile(ZIP_PATH, 'r') as zip_ref:\n",
    "    zip_ref.extractall(BASE_MIN_DIFF_PATH)\n",
    "  min_diff_model = tf.keras.models.load_model(\n",
    "      MIN_DIFF_MODEL_PATH, custom_objects={'KerasLayer' : hub.KerasLayer})\n",
    "  \n",
    "  min_diff_model.save(min_diff_model_location, save_format='tf')\n",
    "\n",
    "else:\n",
    "  min_diff_weight = 1.5 #@param {type:\"number\"}\n",
    "\n",
    "  # Create the dataset that will be passed to the MinDiffModel during training.\n",
    "  dataset = md.keras.utils.input_utils.pack_min_diff_data(\n",
    "      dataset_train_main, dataset_train_sensitive, dataset_train_nonsensitive)\n",
    "\n",
    "  # Create the original model.\n",
    "  original_model = min_diff_keras_utils.create_keras_sequential_model()\n",
    "  \n",
    "  # Wrap the original model in a MinDiffModel, passing in one of the MinDiff\n",
    "  # losses and using the set loss_weight.\n",
    "  min_diff_loss = md.losses.MMDLoss()\n",
    "  min_diff_model = md.keras.MinDiffModel(original_model,\n",
    "                                         min_diff_loss,\n",
    "                                         min_diff_weight)\n",
    "\n",
    "  # Compile the model normally after wrapping the original model.  Note that\n",
    "  # this means we use the baseline's model's loss here.\n",
    "  optimizer = tf.keras.optimizers.Adam(learning_rate=0.001)\n",
    "  loss = tf.keras.losses.BinaryCrossentropy()\n",
    "  min_diff_model.compile(optimizer=optimizer, loss=loss, metrics=['accuracy'])\n",
    "\n",
    "  min_diff_model.fit(dataset, epochs=20)\n",
    "\n",
    "  min_diff_model.save_original_model(min_diff_model_location, save_format='tf')"
   ]
  },
  {
   "cell_type": "markdown",
   "metadata": {
    "id": "doJhbIKVwQdp"
   },
   "source": [
    "Next we evaluate the results.  "
   ]
  },
  {
   "cell_type": "code",
   "execution_count": 14,
   "metadata": {
    "execution": {
     "iopub.execute_input": "2022-04-01T00:25:56.274741Z",
     "iopub.status.busy": "2022-04-01T00:25:56.274332Z",
     "iopub.status.idle": "2022-04-01T00:37:42.303667Z",
     "shell.execute_reply": "2022-04-01T00:37:42.302987Z"
    },
    "id": "0CBdOQCH5IR6"
   },
   "outputs": [
    {
     "name": "stderr",
     "output_type": "stream",
     "text": [
      "WARNING:absl:Tensorflow version (2.8.0) found. Note that TFMA support for TF 2.0 is currently in beta\n"
     ]
    },
    {
     "name": "stderr",
     "output_type": "stream",
     "text": [
      "WARNING:root:Make sure that locally built Python SDK docker image has Python 3.7 interpreter.\n"
     ]
    }
   ],
   "source": [
    "min_diff_eval_subdir = os.path.join(base_dir, 'tfma_eval_result')\n",
    "min_diff_eval_result = fi_util.get_eval_results(\n",
    "    min_diff_model_location,\n",
    "    min_diff_eval_subdir,\n",
    "    validate_tfrecord_file,\n",
    "    slice_selection='religion')"
   ]
  },
  {
   "cell_type": "markdown",
   "metadata": {
    "id": "JObiq-mVwUzL"
   },
   "source": [
    "To ensure we evaluate a new model correctly, we need to select a threshold the same way that we would the baseline model. In a production setting, this would mean ensuring that evaluation metrics meet launch standards. In our case, we will pick the threshold that results in a similar overall FPR to the baseline model. This threshold may be different from the one you selected for the baseline model.  Try selecting false positive rate with threshold 0.400.  (Note that the subgroups with very low quantity examples have very wide confidence range intervals and don’t have predictable results.)   "
   ]
  },
  {
   "cell_type": "code",
   "execution_count": 15,
   "metadata": {
    "execution": {
     "iopub.execute_input": "2022-04-01T00:37:42.307771Z",
     "iopub.status.busy": "2022-04-01T00:37:42.307301Z",
     "iopub.status.idle": "2022-04-01T00:37:42.322215Z",
     "shell.execute_reply": "2022-04-01T00:37:42.321669Z"
    },
    "id": "A3_PEjYBO3Dq"
   },
   "outputs": [
    {
     "data": {
      "application/vnd.jupyter.widget-view+json": {
       "model_id": "0c40fccb7dc7466095a8c59ee63ccc45",
       "version_major": 2,
       "version_minor": 0
      },
      "text/plain": [
       "FairnessIndicatorViewer(slicingMetrics=[{'sliceValue': 'Overall', 'slice': 'Overall', 'metrics': {'accuracy': …"
      ]
     },
     "metadata": {},
     "output_type": "display_data"
    }
   ],
   "source": [
    "widget_view.render_fairness_indicator(min_diff_eval_result)"
   ]
  },
  {
   "cell_type": "markdown",
   "metadata": {
    "id": "sVRurkbZwYMj"
   },
   "source": [
    "Reviewing these results, you may notice that the FPRs for our target groups have improved. The gap between our lowest performing group and the majority group has improved from .024 to .006. Given the improvements we’ve observed and the continued strong performance for the majority group, we’ve satisfied both of our goals. Depending on the product, further improvements may be necessary, but this approach has gotten our model one step closer to performing equitably for all users."
   ]
  }
 ],
 "metadata": {
  "colab": {
   "collapsed_sections": [],
   "name": "min_diff_keras.ipynb",
   "provenance": [],
   "toc_visible": true
  },
  "kernelspec": {
   "display_name": "Python 3",
   "name": "python3"
  },
  "language_info": {
   "codemirror_mode": {
    "name": "ipython",
    "version": 3
   },
   "file_extension": ".py",
   "mimetype": "text/x-python",
   "name": "python",
   "nbconvert_exporter": "python",
   "pygments_lexer": "ipython3",
   "version": "3.7.5"
  },
  "widgets": {
   "application/vnd.jupyter.widget-state+json": {
    "state": {
     "0c40fccb7dc7466095a8c59ee63ccc45": {
      "model_module": "tensorflow_model_analysis",
      "model_module_version": "0.38.0",
      "model_name": "FairnessIndicatorModel",
      "state": {
       "_dom_classes": [],
       "_model_module": "tensorflow_model_analysis",
       "_model_module_version": "0.38.0",
       "_model_name": "FairnessIndicatorModel",
       "_view_count": null,
       "_view_module": "tensorflow_model_analysis",
       "_view_module_version": "0.38.0",
       "_view_name": "FairnessIndicatorView",
       "evalName": "",
       "evalNameCompare": "",
       "js_events": [],
       "layout": "IPY_MODEL_1078ae512a034439b042fd8518001f12",
       "slicingMetrics": [
        {
         "metrics": {
          "accuracy": {
           "boundedValue": {
            "lowerBound": 0.0,
            "upperBound": 0.0,
            "value": 0.0
           }
          },
          "auc": {
           "boundedValue": {
            "lowerBound": 0.7799264364000617,
            "upperBound": 0.7840468395663501,
            "value": 0.7819865265478935
           }
          },
          "example_count": {
           "doubleValue": 721950.0
          },
          "fairness_indicators_metrics/false_discovery_rate@0.4000": {
           "boundedValue": {
            "lowerBound": 0.4708128849988999,
            "upperBound": 0.4886036854839502,
            "value": 0.4797083682818246
           }
          },
          "fairness_indicators_metrics/false_discovery_rate@0.4125": {
           "boundedValue": {
            "lowerBound": 0.4619003851391104,
            "upperBound": 0.48035215089186784,
            "value": 0.4711262798634812
           }
          },
          "fairness_indicators_metrics/false_discovery_rate@0.4250": {
           "boundedValue": {
            "lowerBound": 0.4534700085398046,
            "upperBound": 0.473359130551358,
            "value": 0.4634146341463415
           }
          },
          "fairness_indicators_metrics/false_discovery_rate@0.4375": {
           "boundedValue": {
            "lowerBound": 0.4445370045568983,
            "upperBound": 0.4626073669973055,
            "value": 0.45357197491203916
           }
          },
          "fairness_indicators_metrics/false_discovery_rate@0.4500": {
           "boundedValue": {
            "lowerBound": 0.4382675587551458,
            "upperBound": 0.45590412261191715,
            "value": 0.4470854555744199
           }
          },
          "fairness_indicators_metrics/false_discovery_rate@0.4675": {
           "boundedValue": {
            "lowerBound": 0.42593060932302146,
            "upperBound": 0.4418099841086362,
            "value": 0.4338698390482855
           }
          },
          "fairness_indicators_metrics/false_discovery_rate@0.4750": {
           "boundedValue": {
            "lowerBound": 0.4207063389013775,
            "upperBound": 0.4365929874016103,
            "value": 0.4286491880613263
           }
          },
          "fairness_indicators_metrics/false_discovery_rate@0.4875": {
           "boundedValue": {
            "lowerBound": 0.4115186777882719,
            "upperBound": 0.4285443569680677,
            "value": 0.4200310559006211
           }
          },
          "fairness_indicators_metrics/false_discovery_rate@0.5000": {
           "boundedValue": {
            "lowerBound": 0.40605701263218225,
            "upperBound": 0.42423171524796593,
            "value": 0.4151436031331593
           }
          },
          "fairness_indicators_metrics/false_negative_rate@0.4000": {
           "boundedValue": {
            "lowerBound": 0.8574350726415808,
            "upperBound": 0.8639961946035396,
            "value": 0.8607157662014647
           }
          },
          "fairness_indicators_metrics/false_negative_rate@0.4125": {
           "boundedValue": {
            "lowerBound": 0.8629448298126602,
            "upperBound": 0.8694025460871561,
            "value": 0.8661738289346415
           }
          },
          "fairness_indicators_metrics/false_negative_rate@0.4250": {
           "boundedValue": {
            "lowerBound": 0.8683387698931903,
            "upperBound": 0.874786536702226,
            "value": 0.8715628022661324
           }
          },
          "fairness_indicators_metrics/false_negative_rate@0.4375": {
           "boundedValue": {
            "lowerBound": 0.8734318487624517,
            "upperBound": 0.879780479149342,
            "value": 0.8766063285891944
           }
          },
          "fairness_indicators_metrics/false_negative_rate@0.4500": {
           "boundedValue": {
            "lowerBound": 0.8786768953418341,
            "upperBound": 0.885071594750151,
            "value": 0.8818743954677353
           }
          },
          "fairness_indicators_metrics/false_negative_rate@0.4675": {
           "boundedValue": {
            "lowerBound": 0.885305902000328,
            "upperBound": 0.8911205125942185,
            "value": 0.8882133480724057
           }
          },
          "fairness_indicators_metrics/false_negative_rate@0.4750": {
           "boundedValue": {
            "lowerBound": 0.8883891138924881,
            "upperBound": 0.8940480755257344,
            "value": 0.8912187370457372
           }
          },
          "fairness_indicators_metrics/false_negative_rate@0.4875": {
           "boundedValue": {
            "lowerBound": 0.8938894904689787,
            "upperBound": 0.899671060054535,
            "value": 0.8967804338814426
           }
          },
          "fairness_indicators_metrics/false_negative_rate@0.5000": {
           "boundedValue": {
            "lowerBound": 0.9002740691251433,
            "upperBound": 0.9062752625009732,
            "value": 0.903274837639906
           }
          },
          "fairness_indicators_metrics/false_omission_rate@0.4000": {
           "boundedValue": {
            "lowerBound": 0.06974322983400366,
            "upperBound": 0.07133379726480746,
            "value": 0.0705385086863774
           }
          },
          "fairness_indicators_metrics/false_omission_rate@0.4125": {
           "boundedValue": {
            "lowerBound": 0.07010125938292934,
            "upperBound": 0.07169996553898332,
            "value": 0.07090060794570903
           }
          },
          "fairness_indicators_metrics/false_omission_rate@0.4250": {
           "boundedValue": {
            "lowerBound": 0.07045405531091828,
            "upperBound": 0.07206980693294193,
            "value": 0.07126192641634138
           }
          },
          "fairness_indicators_metrics/false_omission_rate@0.4375": {
           "boundedValue": {
            "lowerBound": 0.07078247312750535,
            "upperBound": 0.07240759891960197,
            "value": 0.07159503213538052
           }
          },
          "fairness_indicators_metrics/false_omission_rate@0.4500": {
           "boundedValue": {
            "lowerBound": 0.07114866799316767,
            "upperBound": 0.07275880017678486,
            "value": 0.07195373044092218
           }
          },
          "fairness_indicators_metrics/false_omission_rate@0.4675": {
           "boundedValue": {
            "lowerBound": 0.07157939317381264,
            "upperBound": 0.07317134553966433,
            "value": 0.0723753655783527
           }
          },
          "fairness_indicators_metrics/false_omission_rate@0.4750": {
           "boundedValue": {
            "lowerBound": 0.07177824936936295,
            "upperBound": 0.07337871607189586,
            "value": 0.07257847852170476
           }
          },
          "fairness_indicators_metrics/false_omission_rate@0.4875": {
           "boundedValue": {
            "lowerBound": 0.07214089823050839,
            "upperBound": 0.073774354977044,
            "value": 0.07295762218856004
           }
          },
          "fairness_indicators_metrics/false_omission_rate@0.5000": {
           "boundedValue": {
            "lowerBound": 0.07258176457294056,
            "upperBound": 0.07423979131125126,
            "value": 0.07341077381996841
           }
          },
          "fairness_indicators_metrics/false_positive_rate@0.4000": {
           "boundedValue": {
            "lowerBound": 0.01092852263796087,
            "upperBound": 0.011464234047652221,
            "value": 0.011196378607763827
           }
          },
          "fairness_indicators_metrics/false_positive_rate@0.4125": {
           "boundedValue": {
            "lowerBound": 0.010148986239881828,
            "upperBound": 0.010638478271039403,
            "value": 0.010393733039782908
           }
          },
          "fairness_indicators_metrics/false_positive_rate@0.4250": {
           "boundedValue": {
            "lowerBound": 0.00941973373592427,
            "upperBound": 0.009922067253928883,
            "value": 0.009670900258111539
           }
          },
          "fairness_indicators_metrics/false_positive_rate@0.4375": {
           "boundedValue": {
            "lowerBound": 0.008733039892293357,
            "upperBound": 0.00912695252485002,
            "value": 0.008929996656898385
           }
          },
          "fairness_indicators_metrics/false_positive_rate@0.4500": {
           "boundedValue": {
            "lowerBound": 0.00814599136838355,
            "upperBound": 0.008509281247979927,
            "value": 0.008327636005505576
           }
          },
          "fairness_indicators_metrics/false_positive_rate@0.4675": {
           "boundedValue": {
            "lowerBound": 0.007322678314302172,
            "upperBound": 0.0076158673443682354,
            "value": 0.007469272077270824
           }
          },
          "fairness_indicators_metrics/false_positive_rate@0.4750": {
           "boundedValue": {
            "lowerBound": 0.006977639344027944,
            "upperBound": 0.0072531323498872795,
            "value": 0.0071153851945775495
           }
          },
          "fairness_indicators_metrics/false_positive_rate@0.4875": {
           "boundedValue": {
            "lowerBound": 0.006373618820350745,
            "upperBound": 0.0066614661590941576,
            "value": 0.006517542248070187
           }
          },
          "fairness_indicators_metrics/false_positive_rate@0.5000": {
           "boundedValue": {
            "lowerBound": 0.00585946941552162,
            "upperBound": 0.006112447909974493,
            "value": 0.005985958973216033
           }
          },
          "fairness_indicators_metrics/negative_rate@0.4000": {
           "boundedValue": {
            "lowerBound": 0.9782259364419806,
            "upperBound": 0.9788375727159869,
            "value": 0.978531754276612
           }
          },
          "fairness_indicators_metrics/negative_rate@0.4125": {
           "boundedValue": {
            "lowerBound": 0.9794373977436276,
            "upperBound": 0.9799780751314572,
            "value": 0.9797077359927973
           }
          },
          "fairness_indicators_metrics/negative_rate@0.4250": {
           "boundedValue": {
            "lowerBound": 0.9805392307567192,
            "upperBound": 0.9810702983847409,
            "value": 0.9808047648729137
           }
          },
          "fairness_indicators_metrics/negative_rate@0.4375": {
           "boundedValue": {
            "lowerBound": 0.9816474770538558,
            "upperBound": 0.982133947542572,
            "value": 0.9818907126532308
           }
          },
          "fairness_indicators_metrics/negative_rate@0.4500": {
           "boundedValue": {
            "lowerBound": 0.9826024623884982,
            "upperBound": 0.9831320040869148,
            "value": 0.9828672345730314
           }
          },
          "fairness_indicators_metrics/negative_rate@0.4675": {
           "boundedValue": {
            "lowerBound": 0.9839253595913167,
            "upperBound": 0.9844048536969177,
            "value": 0.9841651083870074
           }
          },
          "fairness_indicators_metrics/negative_rate@0.4750": {
           "boundedValue": {
            "lowerBound": 0.9845076789776722,
            "upperBound": 0.9849555778935827,
            "value": 0.9847316296142392
           }
          },
          "fairness_indicators_metrics/negative_rate@0.4875": {
           "boundedValue": {
            "lowerBound": 0.9854976352264148,
            "upperBound": 0.9859574509966721,
            "value": 0.9857275434586883
           }
          },
          "fairness_indicators_metrics/negative_rate@0.5000": {
           "boundedValue": {
            "lowerBound": 0.9865145113135072,
            "upperBound": 0.9869601061285307,
            "value": 0.9867373086778862
           }
          },
          "fairness_indicators_metrics/positive_rate@0.4000": {
           "boundedValue": {
            "lowerBound": 0.02116242728401313,
            "upperBound": 0.021774063558019294,
            "value": 0.021468245723388048
           }
          },
          "fairness_indicators_metrics/positive_rate@0.4125": {
           "boundedValue": {
            "lowerBound": 0.02002192486854298,
            "upperBound": 0.020562602256372246,
            "value": 0.020292264007202715
           }
          },
          "fairness_indicators_metrics/positive_rate@0.4250": {
           "boundedValue": {
            "lowerBound": 0.018929701615259142,
            "upperBound": 0.01946076924328076,
            "value": 0.019195235127086364
           }
          },
          "fairness_indicators_metrics/positive_rate@0.4375": {
           "boundedValue": {
            "lowerBound": 0.017866052457428054,
            "upperBound": 0.018352522946144097,
            "value": 0.018109287346769167
           }
          },
          "fairness_indicators_metrics/positive_rate@0.4500": {
           "boundedValue": {
            "lowerBound": 0.016867995913084955,
            "upperBound": 0.017397537611501823,
            "value": 0.01713276542696863
           }
          },
          "fairness_indicators_metrics/positive_rate@0.4675": {
           "boundedValue": {
            "lowerBound": 0.015595146303082038,
            "upperBound": 0.016074640408683723,
            "value": 0.01583489161299259
           }
          },
          "fairness_indicators_metrics/positive_rate@0.4750": {
           "boundedValue": {
            "lowerBound": 0.015044422106417342,
            "upperBound": 0.015492321022327754,
            "value": 0.015268370385760786
           }
          },
          "fairness_indicators_metrics/positive_rate@0.4875": {
           "boundedValue": {
            "lowerBound": 0.014042549003327607,
            "upperBound": 0.014502364773585442,
            "value": 0.014272456541311726
           }
          },
          "fairness_indicators_metrics/positive_rate@0.5000": {
           "boundedValue": {
            "lowerBound": 0.01303989387146949,
            "upperBound": 0.013485488686492755,
            "value": 0.01326269132211372
           }
          },
          "fairness_indicators_metrics/true_negative_rate@0.4000": {
           "boundedValue": {
            "lowerBound": 0.9885357659523477,
            "upperBound": 0.989071477362039,
            "value": 0.9888036213922362
           }
          },
          "fairness_indicators_metrics/true_negative_rate@0.4125": {
           "boundedValue": {
            "lowerBound": 0.9893615217289605,
            "upperBound": 0.9898510137601183,
            "value": 0.9896062669602171
           }
          },
          "fairness_indicators_metrics/true_negative_rate@0.4250": {
           "boundedValue": {
            "lowerBound": 0.990077932746071,
            "upperBound": 0.9905802662640756,
            "value": 0.9903290997418884
           }
          },
          "fairness_indicators_metrics/true_negative_rate@0.4375": {
           "boundedValue": {
            "lowerBound": 0.9908730474751501,
            "upperBound": 0.9912669601077067,
            "value": 0.9910700033431016
           }
          },
          "fairness_indicators_metrics/true_negative_rate@0.4500": {
           "boundedValue": {
            "lowerBound": 0.9914907187520201,
            "upperBound": 0.9918540086316161,
            "value": 0.9916723639944944
           }
          },
          "fairness_indicators_metrics/true_negative_rate@0.4675": {
           "boundedValue": {
            "lowerBound": 0.9923841326556319,
            "upperBound": 0.9926773216856978,
            "value": 0.9925307279227292
           }
          },
          "fairness_indicators_metrics/true_negative_rate@0.4750": {
           "boundedValue": {
            "lowerBound": 0.9927468676501127,
            "upperBound": 0.9930223606559719,
            "value": 0.9928846148054224
           }
          },
          "fairness_indicators_metrics/true_negative_rate@0.4875": {
           "boundedValue": {
            "lowerBound": 0.9933385338409063,
            "upperBound": 0.9936263811796494,
            "value": 0.9934824577519298
           }
          },
          "fairness_indicators_metrics/true_negative_rate@0.5000": {
           "boundedValue": {
            "lowerBound": 0.9938875520900254,
            "upperBound": 0.9941405305844782,
            "value": 0.9940140410267839
           }
          },
          "fairness_indicators_metrics/true_positive_rate@0.4000": {
           "boundedValue": {
            "lowerBound": 0.13600380539646045,
            "upperBound": 0.14256492735841902,
            "value": 0.1392842337985353
           }
          },
          "fairness_indicators_metrics/true_positive_rate@0.4125": {
           "boundedValue": {
            "lowerBound": 0.13059745391284397,
            "upperBound": 0.13705517018734,
            "value": 0.13382617106535857
           }
          },
          "fairness_indicators_metrics/true_positive_rate@0.4250": {
           "boundedValue": {
            "lowerBound": 0.1252134632977739,
            "upperBound": 0.13166123010680966,
            "value": 0.12843719773386764
           }
          },
          "fairness_indicators_metrics/true_positive_rate@0.4375": {
           "boundedValue": {
            "lowerBound": 0.12021952085065819,
            "upperBound": 0.1265681512375482,
            "value": 0.12339367141080558
           }
          },
          "fairness_indicators_metrics/true_positive_rate@0.4500": {
           "boundedValue": {
            "lowerBound": 0.11492840524984888,
            "upperBound": 0.12132310465816598,
            "value": 0.11812560453226476
           }
          },
          "fairness_indicators_metrics/true_positive_rate@0.4675": {
           "boundedValue": {
            "lowerBound": 0.10887948740578164,
            "upperBound": 0.11469409799967241,
            "value": 0.11178665192759431
           }
          },
          "fairness_indicators_metrics/true_positive_rate@0.4750": {
           "boundedValue": {
            "lowerBound": 0.10595192447426569,
            "upperBound": 0.1116108861075116,
            "value": 0.10878126295426281
           }
          },
          "fairness_indicators_metrics/true_positive_rate@0.4875": {
           "boundedValue": {
            "lowerBound": 0.10032893994546487,
            "upperBound": 0.10611050953102084,
            "value": 0.10321956611855741
           }
          },
          "fairness_indicators_metrics/true_positive_rate@0.5000": {
           "boundedValue": {
            "lowerBound": 0.09372473749902704,
            "upperBound": 0.09972593087485646,
            "value": 0.09672516236009396
           }
          }
         },
         "slice": "Overall",
         "sliceValue": "Overall"
        },
        {
         "metrics": {
          "accuracy": {
           "boundedValue": {
            "lowerBound": 0.0,
            "upperBound": 0.0,
            "value": 0.0
           }
          },
          "auc": {
           "boundedValue": {
            "lowerBound": 0.7506235963503799,
            "upperBound": 0.7810003335940342,
            "value": 0.7658157179490176
           }
          },
          "example_count": {
           "doubleValue": 16172.0
          },
          "fairness_indicators_metrics/false_discovery_rate@0.4000": {
           "boundedValue": {
            "lowerBound": 0.35788697584267787,
            "upperBound": 0.4970940322121126,
            "value": 0.427536231884058
           }
          },
          "fairness_indicators_metrics/false_discovery_rate@0.4125": {
           "boundedValue": {
            "lowerBound": 0.34245686748101817,
            "upperBound": 0.48881726874189685,
            "value": 0.41568627450980394
           }
          },
          "fairness_indicators_metrics/false_discovery_rate@0.4250": {
           "boundedValue": {
            "lowerBound": 0.31387427168932436,
            "upperBound": 0.465294013378195,
            "value": 0.38961038961038963
           }
          },
          "fairness_indicators_metrics/false_discovery_rate@0.4375": {
           "boundedValue": {
            "lowerBound": 0.32254562080000493,
            "upperBound": 0.4716834845559269,
            "value": 0.39712918660287083
           }
          },
          "fairness_indicators_metrics/false_discovery_rate@0.4500": {
           "boundedValue": {
            "lowerBound": 0.32054977784563293,
            "upperBound": 0.47324643994920085,
            "value": 0.39690721649484534
           }
          },
          "fairness_indicators_metrics/false_discovery_rate@0.4675": {
           "boundedValue": {
            "lowerBound": 0.30420948739608633,
            "upperBound": 0.4615140832278273,
            "value": 0.38285714285714284
           }
          },
          "fairness_indicators_metrics/false_discovery_rate@0.4750": {
           "boundedValue": {
            "lowerBound": 0.3004713331003472,
            "upperBound": 0.4614419945612303,
            "value": 0.38095238095238093
           }
          },
          "fairness_indicators_metrics/false_discovery_rate@0.4875": {
           "boundedValue": {
            "lowerBound": 0.2888797932051447,
            "upperBound": 0.44802224962265835,
            "value": 0.3684210526315789
           }
          },
          "fairness_indicators_metrics/false_discovery_rate@0.5000": {
           "boundedValue": {
            "lowerBound": 0.28527183201315504,
            "upperBound": 0.43420222470597086,
            "value": 0.3597122302158273
           }
          },
          "fairness_indicators_metrics/false_negative_rate@0.4000": {
           "boundedValue": {
            "lowerBound": 0.8779010351192216,
            "upperBound": 0.9065496786287579,
            "value": 0.8922237380627558
           }
          },
          "fairness_indicators_metrics/false_negative_rate@0.4125": {
           "boundedValue": {
            "lowerBound": 0.8832017521240879,
            "upperBound": 0.91352766041351,
            "value": 0.8983628922237381
           }
          },
          "fairness_indicators_metrics/false_negative_rate@0.4250": {
           "boundedValue": {
            "lowerBound": 0.8886769174354108,
            "upperBound": 0.9189670940905155,
            "value": 0.9038199181446112
           }
          },
          "fairness_indicators_metrics/false_negative_rate@0.4375": {
           "boundedValue": {
            "lowerBound": 0.8980669875866502,
            "upperBound": 0.9300386035571263,
            "value": 0.9140518417462483
           }
          },
          "fairness_indicators_metrics/false_negative_rate@0.4500": {
           "boundedValue": {
            "lowerBound": 0.9036836422095854,
            "upperBound": 0.9366982669628386,
            "value": 0.9201909959072305
           }
          },
          "fairness_indicators_metrics/false_negative_rate@0.4675": {
           "boundedValue": {
            "lowerBound": 0.9097821455658647,
            "upperBound": 0.9428775305859397,
            "value": 0.9263301500682128
           }
          },
          "fairness_indicators_metrics/false_negative_rate@0.4750": {
           "boundedValue": {
            "lowerBound": 0.9134499797899589,
            "upperBound": 0.9446677962038466,
            "value": 0.9290586630286494
           }
          },
          "fairness_indicators_metrics/false_negative_rate@0.4875": {
           "boundedValue": {
            "lowerBound": 0.9190000600782603,
            "upperBound": 0.9500325640386403,
            "value": 0.9345156889495225
           }
          },
          "fairness_indicators_metrics/false_negative_rate@0.5000": {
           "boundedValue": {
            "lowerBound": 0.9251066066651396,
            "upperBound": 0.9534744399298459,
            "value": 0.9392905866302865
           }
          },
          "fairness_indicators_metrics/false_omission_rate@0.4000": {
           "boundedValue": {
            "lowerBound": 0.07844913478530731,
            "upperBound": 0.08612103230583838,
            "value": 0.08228485153497735
           }
          },
          "fairness_indicators_metrics/false_omission_rate@0.4125": {
           "boundedValue": {
            "lowerBound": 0.07886217906142542,
            "upperBound": 0.08662176085622272,
            "value": 0.08274172268643588
           }
          },
          "fairness_indicators_metrics/false_omission_rate@0.4250": {
           "boundedValue": {
            "lowerBound": 0.07932409600465995,
            "upperBound": 0.08691434146886601,
            "value": 0.08311900131735776
           }
          },
          "fairness_indicators_metrics/false_omission_rate@0.4375": {
           "boundedValue": {
            "lowerBound": 0.07999978436634783,
            "upperBound": 0.08788879128523,
            "value": 0.08394412077930213
           }
          },
          "fairness_indicators_metrics/false_omission_rate@0.4500": {
           "boundedValue": {
            "lowerBound": 0.08028399607063486,
            "upperBound": 0.08857352338333083,
            "value": 0.08442858931030167
           }
          },
          "fairness_indicators_metrics/false_omission_rate@0.4675": {
           "boundedValue": {
            "lowerBound": 0.08071199294677177,
            "upperBound": 0.08907015198443587,
            "value": 0.0848909170469463
           }
          },
          "fairness_indicators_metrics/false_omission_rate@0.4750": {
           "boundedValue": {
            "lowerBound": 0.08098168249277415,
            "upperBound": 0.08922613329383453,
            "value": 0.08510372406898276
           }
          },
          "fairness_indicators_metrics/false_omission_rate@0.4875": {
           "boundedValue": {
            "lowerBound": 0.08141319619178235,
            "upperBound": 0.08962340995131694,
            "value": 0.08551810237203496
           }
          },
          "fairness_indicators_metrics/false_omission_rate@0.5000": {
           "boundedValue": {
            "lowerBound": 0.08173755789245053,
            "upperBound": 0.09003352384425249,
            "value": 0.08588536144202583
           }
          },
          "fairness_indicators_metrics/false_positive_rate@0.4000": {
           "boundedValue": {
            "lowerBound": 0.00598805987598405,
            "upperBound": 0.010059857375768363,
            "value": 0.008023935808513532
           }
          },
          "fairness_indicators_metrics/false_positive_rate@0.4125": {
           "boundedValue": {
            "lowerBound": 0.005224079862509412,
            "upperBound": 0.009191839338103682,
            "value": 0.007207942336461309
           }
          },
          "fairness_indicators_metrics/false_positive_rate@0.4250": {
           "boundedValue": {
            "lowerBound": 0.004494539129810337,
            "upperBound": 0.007745333783421059,
            "value": 0.006119951040391677
           }
          },
          "fairness_indicators_metrics/false_positive_rate@0.4375": {
           "boundedValue": {
            "lowerBound": 0.004170268923210071,
            "upperBound": 0.007117625048039458,
            "value": 0.005643954848361213
           }
          },
          "fairness_indicators_metrics/false_positive_rate@0.4500": {
           "boundedValue": {
            "lowerBound": 0.003832459750326143,
            "upperBound": 0.006639463063265438,
            "value": 0.005235958112335101
           }
          },
          "fairness_indicators_metrics/false_positive_rate@0.4675": {
           "boundedValue": {
            "lowerBound": 0.0033144261944574684,
            "upperBound": 0.005797498330179181,
            "value": 0.004555963552291582
           }
          },
          "fairness_indicators_metrics/false_positive_rate@0.4750": {
           "boundedValue": {
            "lowerBound": 0.003150797949672004,
            "upperBound": 0.005553172293568805,
            "value": 0.004351965184278526
           }
          },
          "fairness_indicators_metrics/false_positive_rate@0.4875": {
           "boundedValue": {
            "lowerBound": 0.0028034643425140383,
            "upperBound": 0.004812494150375139,
            "value": 0.00380796953624371
           }
          },
          "fairness_indicators_metrics/false_positive_rate@0.5000": {
           "boundedValue": {
            "lowerBound": 0.002510996987976395,
            "upperBound": 0.004288963778469533,
            "value": 0.003399972800217598
           }
          },
          "fairness_indicators_metrics/negative_rate@0.4000": {
           "boundedValue": {
            "lowerBound": 0.9804880048953966,
            "upperBound": 0.9853788939858656,
            "value": 0.9829334652485778
           }
          },
          "fairness_indicators_metrics/negative_rate@0.4125": {
           "boundedValue": {
            "lowerBound": 0.9817263656303166,
            "upperBound": 0.9867376696311498,
            "value": 0.984232005936186
           }
          },
          "fairness_indicators_metrics/negative_rate@0.4250": {
           "boundedValue": {
            "lowerBound": 0.9835944384954456,
            "upperBound": 0.9878376737891641,
            "value": 0.9857160524363097
           }
          },
          "fairness_indicators_metrics/negative_rate@0.4375": {
           "boundedValue": {
            "lowerBound": 0.9849275052473015,
            "upperBound": 0.9892252611107998,
            "value": 0.9870764283947564
           }
          },
          "fairness_indicators_metrics/negative_rate@0.4500": {
           "boundedValue": {
            "lowerBound": 0.9858685964713196,
            "upperBound": 0.9901392380180358,
            "value": 0.9880039574573337
           }
          },
          "fairness_indicators_metrics/negative_rate@0.4675": {
           "boundedValue": {
            "lowerBound": 0.987151019873069,
            "upperBound": 0.9912065355908165,
            "value": 0.9891788276032649
           }
          },
          "fairness_indicators_metrics/negative_rate@0.4750": {
           "boundedValue": {
            "lowerBound": 0.9877066952445195,
            "upperBound": 0.9915165619913928,
            "value": 0.9896116744991343
           }
          },
          "fairness_indicators_metrics/negative_rate@0.4875": {
           "boundedValue": {
            "lowerBound": 0.9888040690223878,
            "upperBound": 0.9923979723817162,
            "value": 0.9906010388325501
           }
          },
          "fairness_indicators_metrics/negative_rate@0.5000": {
           "boundedValue": {
            "lowerBound": 0.9897413661626931,
            "upperBound": 0.9930683527296827,
            "value": 0.9914048973534504
           }
          },
          "fairness_indicators_metrics/positive_rate@0.4000": {
           "boundedValue": {
            "lowerBound": 0.0146211060141342,
            "upperBound": 0.019511995104603375,
            "value": 0.01706653475142221
           }
          },
          "fairness_indicators_metrics/positive_rate@0.4125": {
           "boundedValue": {
            "lowerBound": 0.013262330368850177,
            "upperBound": 0.01827363436968333,
            "value": 0.015767994063814
           }
          },
          "fairness_indicators_metrics/positive_rate@0.4250": {
           "boundedValue": {
            "lowerBound": 0.012162326210835711,
            "upperBound": 0.016405561504554588,
            "value": 0.014283947563690329
           }
          },
          "fairness_indicators_metrics/positive_rate@0.4375": {
           "boundedValue": {
            "lowerBound": 0.010774738889199916,
            "upperBound": 0.015072494752698682,
            "value": 0.012923571605243631
           }
          },
          "fairness_indicators_metrics/positive_rate@0.4500": {
           "boundedValue": {
            "lowerBound": 0.009860761981964124,
            "upperBound": 0.014131403528680333,
            "value": 0.011996042542666337
           }
          },
          "fairness_indicators_metrics/positive_rate@0.4675": {
           "boundedValue": {
            "lowerBound": 0.008793464409183422,
            "upperBound": 0.012848980126931081,
            "value": 0.010821172396735098
           }
          },
          "fairness_indicators_metrics/positive_rate@0.4750": {
           "boundedValue": {
            "lowerBound": 0.008483438008607458,
            "upperBound": 0.012293304755480735,
            "value": 0.010388325500865693
           }
          },
          "fairness_indicators_metrics/positive_rate@0.4875": {
           "boundedValue": {
            "lowerBound": 0.007602027618283935,
            "upperBound": 0.01119593097761221,
            "value": 0.009398961167449914
           }
          },
          "fairness_indicators_metrics/positive_rate@0.5000": {
           "boundedValue": {
            "lowerBound": 0.006931647270317216,
            "upperBound": 0.010258633837306585,
            "value": 0.008595102646549592
           }
          },
          "fairness_indicators_metrics/true_negative_rate@0.4000": {
           "boundedValue": {
            "lowerBound": 0.9899401426242314,
            "upperBound": 0.994011940124016,
            "value": 0.9919760641914864
           }
          },
          "fairness_indicators_metrics/true_negative_rate@0.4125": {
           "boundedValue": {
            "lowerBound": 0.9908081606618965,
            "upperBound": 0.9947759201374907,
            "value": 0.9927920576635387
           }
          },
          "fairness_indicators_metrics/true_negative_rate@0.4250": {
           "boundedValue": {
            "lowerBound": 0.9922546662165788,
            "upperBound": 0.9955054608701894,
            "value": 0.9938800489596084
           }
          },
          "fairness_indicators_metrics/true_negative_rate@0.4375": {
           "boundedValue": {
            "lowerBound": 0.9928823749519605,
            "upperBound": 0.99582973107679,
            "value": 0.9943560451516388
           }
          },
          "fairness_indicators_metrics/true_negative_rate@0.4500": {
           "boundedValue": {
            "lowerBound": 0.9933605369367345,
            "upperBound": 0.9961675402496738,
            "value": 0.9947640418876649
           }
          },
          "fairness_indicators_metrics/true_negative_rate@0.4675": {
           "boundedValue": {
            "lowerBound": 0.9942025016698208,
            "upperBound": 0.9966855738055427,
            "value": 0.9954440364477084
           }
          },
          "fairness_indicators_metrics/true_negative_rate@0.4750": {
           "boundedValue": {
            "lowerBound": 0.9944468277064313,
            "upperBound": 0.9968492020503281,
            "value": 0.9956480348157215
           }
          },
          "fairness_indicators_metrics/true_negative_rate@0.4875": {
           "boundedValue": {
            "lowerBound": 0.9951875058496247,
            "upperBound": 0.9971965356574861,
            "value": 0.9961920304637563
           }
          },
          "fairness_indicators_metrics/true_negative_rate@0.5000": {
           "boundedValue": {
            "lowerBound": 0.9957110362215303,
            "upperBound": 0.9974890030120235,
            "value": 0.9966000271997824
           }
          },
          "fairness_indicators_metrics/true_positive_rate@0.4000": {
           "boundedValue": {
            "lowerBound": 0.09345032137124214,
            "upperBound": 0.12209896488077822,
            "value": 0.1077762619372442
           }
          },
          "fairness_indicators_metrics/true_positive_rate@0.4125": {
           "boundedValue": {
            "lowerBound": 0.0864723395864902,
            "upperBound": 0.1167982478759122,
            "value": 0.10163710777626193
           }
          },
          "fairness_indicators_metrics/true_positive_rate@0.4250": {
           "boundedValue": {
            "lowerBound": 0.08103290590948466,
            "upperBound": 0.11132308256458905,
            "value": 0.09618008185538882
           }
          },
          "fairness_indicators_metrics/true_positive_rate@0.4375": {
           "boundedValue": {
            "lowerBound": 0.06996139644287347,
            "upperBound": 0.10193301241334976,
            "value": 0.08594815825375171
           }
          },
          "fairness_indicators_metrics/true_positive_rate@0.4500": {
           "boundedValue": {
            "lowerBound": 0.06330173303716119,
            "upperBound": 0.09631635779041445,
            "value": 0.07980900409276943
           }
          },
          "fairness_indicators_metrics/true_positive_rate@0.4675": {
           "boundedValue": {
            "lowerBound": 0.05712246941406042,
            "upperBound": 0.09021785443413514,
            "value": 0.07366984993178717
           }
          },
          "fairness_indicators_metrics/true_positive_rate@0.4750": {
           "boundedValue": {
            "lowerBound": 0.05533220379615349,
            "upperBound": 0.08655002021004078,
            "value": 0.07094133697135062
           }
          },
          "fairness_indicators_metrics/true_positive_rate@0.4875": {
           "boundedValue": {
            "lowerBound": 0.049967435961359566,
            "upperBound": 0.08099993992173964,
            "value": 0.06548431105047749
           }
          },
          "fairness_indicators_metrics/true_positive_rate@0.5000": {
           "boundedValue": {
            "lowerBound": 0.04652556007015397,
            "upperBound": 0.07489339333486048,
            "value": 0.06070941336971351
           }
          }
         },
         "slice": "religion:christian",
         "sliceValue": "christian"
        },
        {
         "metrics": {
          "accuracy": {
           "boundedValue": {
            "lowerBound": 0.0,
            "upperBound": 0.0,
            "value": 0.0
           }
          },
          "auc": {
           "boundedValue": {
            "lowerBound": 0.6949096197247171,
            "upperBound": 0.7273850968947548,
            "value": 0.7111476189774205
           }
          },
          "example_count": {
           "doubleValue": 8436.0
          },
          "fairness_indicators_metrics/false_discovery_rate@0.4000": {
           "boundedValue": {
            "lowerBound": 0.29057819926931305,
            "upperBound": 0.432339693806721,
            "value": 0.3614457831325301
           }
          },
          "fairness_indicators_metrics/false_discovery_rate@0.4125": {
           "boundedValue": {
            "lowerBound": 0.2840566353273852,
            "upperBound": 0.42030014720125625,
            "value": 0.3521739130434783
           }
          },
          "fairness_indicators_metrics/false_discovery_rate@0.4250": {
           "boundedValue": {
            "lowerBound": 0.2826288815292026,
            "upperBound": 0.4237917205984041,
            "value": 0.3532110091743119
           }
          },
          "fairness_indicators_metrics/false_discovery_rate@0.4375": {
           "boundedValue": {
            "lowerBound": 0.2846894792711816,
            "upperBound": 0.4206362359222011,
            "value": 0.3526570048309179
           }
          },
          "fairness_indicators_metrics/false_discovery_rate@0.4500": {
           "boundedValue": {
            "lowerBound": 0.2661733936492352,
            "upperBound": 0.40394570207313873,
            "value": 0.33505154639175255
           }
          },
          "fairness_indicators_metrics/false_discovery_rate@0.4675": {
           "boundedValue": {
            "lowerBound": 0.24228810511231025,
            "upperBound": 0.37993910334160497,
            "value": 0.3111111111111111
           }
          },
          "fairness_indicators_metrics/false_discovery_rate@0.4750": {
           "boundedValue": {
            "lowerBound": 0.24711831923455624,
            "upperBound": 0.38386356650066583,
            "value": 0.31547619047619047
           }
          },
          "fairness_indicators_metrics/false_discovery_rate@0.4875": {
           "boundedValue": {
            "lowerBound": 0.225286944721662,
            "upperBound": 0.3622356200616378,
            "value": 0.29375
           }
          },
          "fairness_indicators_metrics/false_discovery_rate@0.5000": {
           "boundedValue": {
            "lowerBound": 0.2351928539972367,
            "upperBound": 0.35790112747464575,
            "value": 0.296551724137931
           }
          },
          "fairness_indicators_metrics/false_negative_rate@0.4000": {
           "boundedValue": {
            "lowerBound": 0.9044879549849749,
            "upperBound": 0.9280527105240719,
            "value": 0.9162717219589257
           }
          },
          "fairness_indicators_metrics/false_negative_rate@0.4125": {
           "boundedValue": {
            "lowerBound": 0.911798957974904,
            "upperBound": 0.9312745173679915,
            "value": 0.9215376513954713
           }
          },
          "fairness_indicators_metrics/false_negative_rate@0.4250": {
           "boundedValue": {
            "lowerBound": 0.9164153349635068,
            "upperBound": 0.9350833347093693,
            "value": 0.9257503949447078
           }
          },
          "fairness_indicators_metrics/false_negative_rate@0.4375": {
           "boundedValue": {
            "lowerBound": 0.9195289927464675,
            "upperBound": 0.939341352880077,
            "value": 0.9294365455502897
           }
          },
          "fairness_indicators_metrics/false_negative_rate@0.4500": {
           "boundedValue": {
            "lowerBound": 0.9216396722280531,
            "upperBound": 0.942496720177294,
            "value": 0.9320695102685624
           }
          },
          "fairness_indicators_metrics/false_negative_rate@0.4675": {
           "boundedValue": {
            "lowerBound": 0.9242541458605771,
            "upperBound": 0.9451477478395862,
            "value": 0.9347024749868352
           }
          },
          "fairness_indicators_metrics/false_negative_rate@0.4750": {
           "boundedValue": {
            "lowerBound": 0.9291600086408162,
            "upperBound": 0.9497213595304917,
            "value": 0.9394418114797262
           }
          },
          "fairness_indicators_metrics/false_negative_rate@0.4875": {
           "boundedValue": {
            "lowerBound": 0.930511425104258,
            "upperBound": 0.9504767300247244,
            "value": 0.9404949973670352
           }
          },
          "fairness_indicators_metrics/false_negative_rate@0.5000": {
           "boundedValue": {
            "lowerBound": 0.9380314276091563,
            "upperBound": 0.9545412796628697,
            "value": 0.9462875197472354
           }
          },
          "fairness_indicators_metrics/false_omission_rate@0.4000": {
           "boundedValue": {
            "lowerBound": 0.2034820625786758,
            "upperBound": 0.22158121796269026,
            "value": 0.21253206302674973
           }
          },
          "fairness_indicators_metrics/false_omission_rate@0.4125": {
           "boundedValue": {
            "lowerBound": 0.2044347746453425,
            "upperBound": 0.22208164626179971,
            "value": 0.21325859127467706
           }
          },
          "fairness_indicators_metrics/false_omission_rate@0.4250": {
           "boundedValue": {
            "lowerBound": 0.20503537984221415,
            "upperBound": 0.2228051603538424,
            "value": 0.21392066196154783
           }
          },
          "fairness_indicators_metrics/false_omission_rate@0.4375": {
           "boundedValue": {
            "lowerBound": 0.20545469414892753,
            "upperBound": 0.22351516509709313,
            "value": 0.21448535666545146
           }
          },
          "fairness_indicators_metrics/false_omission_rate@0.4500": {
           "boundedValue": {
            "lowerBound": 0.20571533721028448,
            "upperBound": 0.2237912074983391,
            "value": 0.21475370055811696
           }
          },
          "fairness_indicators_metrics/false_omission_rate@0.4675": {
           "boundedValue": {
            "lowerBound": 0.205889886591282,
            "upperBound": 0.2240995454436075,
            "value": 0.21499515503875968
           }
          },
          "fairness_indicators_metrics/false_omission_rate@0.4750": {
           "boundedValue": {
            "lowerBound": 0.20679388123384373,
            "upperBound": 0.2247485604686375,
            "value": 0.21577164973391388
           }
          },
          "fairness_indicators_metrics/false_omission_rate@0.4875": {
           "boundedValue": {
            "lowerBound": 0.20696988403024594,
            "upperBound": 0.22463867655812544,
            "value": 0.21580473658772353
           }
          },
          "fairness_indicators_metrics/false_omission_rate@0.5000": {
           "boundedValue": {
            "lowerBound": 0.20784761102782173,
            "upperBound": 0.22563357346674917,
            "value": 0.21674104450609094
           }
          },
          "fairness_indicators_metrics/false_positive_rate@0.4000": {
           "boundedValue": {
            "lowerBound": 0.011138649157034584,
            "upperBound": 0.016397087320461103,
            "value": 0.013767783386874713
           }
          },
          "fairness_indicators_metrics/false_positive_rate@0.4125": {
           "boundedValue": {
            "lowerBound": 0.00993946841684612,
            "upperBound": 0.01484268008926579,
            "value": 0.012391005048187242
           }
          },
          "fairness_indicators_metrics/false_positive_rate@0.4250": {
           "boundedValue": {
            "lowerBound": 0.00930614548796634,
            "upperBound": 0.014252131872934705,
            "value": 0.011779103564326144
           }
          },
          "fairness_indicators_metrics/false_positive_rate@0.4375": {
           "boundedValue": {
            "lowerBound": 0.008944008282861501,
            "upperBound": 0.01339036172301606,
            "value": 0.011167202080465045
           }
          },
          "fairness_indicators_metrics/false_positive_rate@0.4500": {
           "boundedValue": {
            "lowerBound": 0.007781821763473698,
            "upperBound": 0.012104960587694714,
            "value": 0.009943399112742848
           }
          },
          "fairness_indicators_metrics/false_positive_rate@0.4675": {
           "boundedValue": {
            "lowerBound": 0.00645429903757367,
            "upperBound": 0.010679009397440216,
            "value": 0.008566620774055378
           }
          },
          "fairness_indicators_metrics/false_positive_rate@0.4750": {
           "boundedValue": {
            "lowerBound": 0.00624157936387882,
            "upperBound": 0.009973799001285404,
            "value": 0.008107694661159553
           }
          },
          "fairness_indicators_metrics/false_positive_rate@0.4875": {
           "boundedValue": {
            "lowerBound": 0.005420925725022521,
            "upperBound": 0.008958512985675677,
            "value": 0.007189842435367906
           }
          },
          "fairness_indicators_metrics/false_positive_rate@0.5000": {
           "boundedValue": {
            "lowerBound": 0.004984943533110163,
            "upperBound": 0.008170771416627073,
            "value": 0.006577940951506807
           }
          },
          "fairness_indicators_metrics/negative_rate@0.4000": {
           "boundedValue": {
            "lowerBound": 0.9686823071580769,
            "upperBound": 0.9722847807839335,
            "value": 0.9704836415362731
           }
          },
          "fairness_indicators_metrics/negative_rate@0.4125": {
           "boundedValue": {
            "lowerBound": 0.9711256000077473,
            "upperBound": 0.9743460550845178,
            "value": 0.9727358937885253
           }
          },
          "fairness_indicators_metrics/negative_rate@0.4250": {
           "boundedValue": {
            "lowerBound": 0.9725700454232467,
            "upperBound": 0.9757466198060332,
            "value": 0.974158368895211
           }
          },
          "fairness_indicators_metrics/negative_rate@0.4375": {
           "boundedValue": {
            "lowerBound": 0.9736095641558801,
            "upperBound": 0.9773150638363489,
            "value": 0.9754623044096729
           }
          },
          "fairness_indicators_metrics/negative_rate@0.4500": {
           "boundedValue": {
            "lowerBound": 0.9747715881754941,
            "upperBound": 0.979235073881197,
            "value": 0.9770033191085823
           }
          },
          "fairness_indicators_metrics/negative_rate@0.4675": {
           "boundedValue": {
            "lowerBound": 0.9762081326665989,
            "upperBound": 0.9811175684257388,
            "value": 0.9786628733997155
           }
          },
          "fairness_indicators_metrics/negative_rate@0.4750": {
           "boundedValue": {
            "lowerBound": 0.9777206433329938,
            "upperBound": 0.9824500743562238,
            "value": 0.9800853485064012
           }
          },
          "fairness_indicators_metrics/negative_rate@0.4875": {
           "boundedValue": {
            "lowerBound": 0.9787168062747631,
            "upperBound": 0.9833506614045957,
            "value": 0.9810336652441916
           }
          },
          "fairness_indicators_metrics/negative_rate@0.5000": {
           "boundedValue": {
            "lowerBound": 0.9807080511987039,
            "upperBound": 0.984915553821383,
            "value": 0.9828117591275486
           }
          },
          "fairness_indicators_metrics/positive_rate@0.4000": {
           "boundedValue": {
            "lowerBound": 0.027715219216066286,
            "upperBound": 0.03131769284192328,
            "value": 0.029516358463726886
           }
          },
          "fairness_indicators_metrics/positive_rate@0.4125": {
           "boundedValue": {
            "lowerBound": 0.025653944915482278,
            "upperBound": 0.028874399992252914,
            "value": 0.027264106211474633
           }
          },
          "fairness_indicators_metrics/positive_rate@0.4250": {
           "boundedValue": {
            "lowerBound": 0.024253380193966754,
            "upperBound": 0.02742995457675339,
            "value": 0.025841631104789
           }
          },
          "fairness_indicators_metrics/positive_rate@0.4375": {
           "boundedValue": {
            "lowerBound": 0.022684936163650974,
            "upperBound": 0.026390435844119726,
            "value": 0.02453769559032717
           }
          },
          "fairness_indicators_metrics/positive_rate@0.4500": {
           "boundedValue": {
            "lowerBound": 0.0207649261188029,
            "upperBound": 0.025228411824505914,
            "value": 0.022996680891417733
           }
          },
          "fairness_indicators_metrics/positive_rate@0.4675": {
           "boundedValue": {
            "lowerBound": 0.018882431574260984,
            "upperBound": 0.02379186733340096,
            "value": 0.021337126600284494
           }
          },
          "fairness_indicators_metrics/positive_rate@0.4750": {
           "boundedValue": {
            "lowerBound": 0.017549925643776214,
            "upperBound": 0.022279356667006214,
            "value": 0.01991465149359886
           }
          },
          "fairness_indicators_metrics/positive_rate@0.4875": {
           "boundedValue": {
            "lowerBound": 0.01664933859540431,
            "upperBound": 0.02128319372523725,
            "value": 0.01896633475580844
           }
          },
          "fairness_indicators_metrics/positive_rate@0.5000": {
           "boundedValue": {
            "lowerBound": 0.015084446178617122,
            "upperBound": 0.019291948801296102,
            "value": 0.0171882408724514
           }
          },
          "fairness_indicators_metrics/true_negative_rate@0.4000": {
           "boundedValue": {
            "lowerBound": 0.9836029126795388,
            "upperBound": 0.9888613508429657,
            "value": 0.9862322166131253
           }
          },
          "fairness_indicators_metrics/true_negative_rate@0.4125": {
           "boundedValue": {
            "lowerBound": 0.9851573199107342,
            "upperBound": 0.9900605315831539,
            "value": 0.9876089949518128
           }
          },
          "fairness_indicators_metrics/true_negative_rate@0.4250": {
           "boundedValue": {
            "lowerBound": 0.9857478681270655,
            "upperBound": 0.9906938545120338,
            "value": 0.9882208964356739
           }
          },
          "fairness_indicators_metrics/true_negative_rate@0.4375": {
           "boundedValue": {
            "lowerBound": 0.9866096382769838,
            "upperBound": 0.9910559917171384,
            "value": 0.9888327979195349
           }
          },
          "fairness_indicators_metrics/true_negative_rate@0.4500": {
           "boundedValue": {
            "lowerBound": 0.9878950394123053,
            "upperBound": 0.9922181782365264,
            "value": 0.9900566008872571
           }
          },
          "fairness_indicators_metrics/true_negative_rate@0.4675": {
           "boundedValue": {
            "lowerBound": 0.9893209906025596,
            "upperBound": 0.9935457009624266,
            "value": 0.9914333792259447
           }
          },
          "fairness_indicators_metrics/true_negative_rate@0.4750": {
           "boundedValue": {
            "lowerBound": 0.9900262009987149,
            "upperBound": 0.9937584206361212,
            "value": 0.9918923053388404
           }
          },
          "fairness_indicators_metrics/true_negative_rate@0.4875": {
           "boundedValue": {
            "lowerBound": 0.9910414870143243,
            "upperBound": 0.9945790742749774,
            "value": 0.9928101575646321
           }
          },
          "fairness_indicators_metrics/true_negative_rate@0.5000": {
           "boundedValue": {
            "lowerBound": 0.991829228583373,
            "upperBound": 0.9950150564668898,
            "value": 0.9934220590484932
           }
          },
          "fairness_indicators_metrics/true_positive_rate@0.4000": {
           "boundedValue": {
            "lowerBound": 0.07194728947592817,
            "upperBound": 0.09551204501502496,
            "value": 0.08372827804107424
           }
          },
          "fairness_indicators_metrics/true_positive_rate@0.4125": {
           "boundedValue": {
            "lowerBound": 0.0687254826320083,
            "upperBound": 0.08820104202509595,
            "value": 0.0784623486045287
           }
          },
          "fairness_indicators_metrics/true_positive_rate@0.4250": {
           "boundedValue": {
            "lowerBound": 0.06491666529063035,
            "upperBound": 0.08358466503649366,
            "value": 0.07424960505529225
           }
          },
          "fairness_indicators_metrics/true_positive_rate@0.4375": {
           "boundedValue": {
            "lowerBound": 0.06065864711992275,
            "upperBound": 0.08047100725353265,
            "value": 0.07056345444971038
           }
          },
          "fairness_indicators_metrics/true_positive_rate@0.4500": {
           "boundedValue": {
            "lowerBound": 0.05750327982270598,
            "upperBound": 0.07836032777194699,
            "value": 0.0679304897314376
           }
          },
          "fairness_indicators_metrics/true_positive_rate@0.4675": {
           "boundedValue": {
            "lowerBound": 0.05485225216041372,
            "upperBound": 0.0757458541394227,
            "value": 0.06529752501316483
           }
          },
          "fairness_indicators_metrics/true_positive_rate@0.4750": {
           "boundedValue": {
            "lowerBound": 0.05027864046950819,
            "upperBound": 0.0708399913591837,
            "value": 0.06055818852027383
           }
          },
          "fairness_indicators_metrics/true_positive_rate@0.4875": {
           "boundedValue": {
            "lowerBound": 0.04952326997527577,
            "upperBound": 0.0694885748957421,
            "value": 0.05950500263296472
           }
          },
          "fairness_indicators_metrics/true_positive_rate@0.5000": {
           "boundedValue": {
            "lowerBound": 0.04545872033713057,
            "upperBound": 0.06196857239084372,
            "value": 0.053712480252764615
           }
          }
         },
         "slice": "religion:muslim",
         "sliceValue": "muslim"
        },
        {
         "metrics": {
          "accuracy": {
           "boundedValue": {
            "lowerBound": 0.0,
            "upperBound": 0.0,
            "value": 0.0
           }
          },
          "auc": {
           "boundedValue": {
            "lowerBound": 0.6800049264092112,
            "upperBound": 0.736252060741186,
            "value": 0.7081257093655825
           }
          },
          "example_count": {
           "doubleValue": 3015.0
          },
          "fairness_indicators_metrics/false_discovery_rate@0.4000": {
           "boundedValue": {
            "lowerBound": 0.2542583171683836,
            "upperBound": 0.5026196460380622,
            "value": 0.3783783783783784
           }
          },
          "fairness_indicators_metrics/false_discovery_rate@0.4125": {
           "boundedValue": {
            "lowerBound": 0.24637391778368437,
            "upperBound": 0.49665127079055993,
            "value": 0.37142857142857144
           }
          },
          "fairness_indicators_metrics/false_discovery_rate@0.4250": {
           "boundedValue": {
            "lowerBound": 0.2333248564559821,
            "upperBound": 0.5051687137011908,
            "value": 0.36923076923076925
           }
          },
          "fairness_indicators_metrics/false_discovery_rate@0.4375": {
           "boundedValue": {
            "lowerBound": 0.2531697268276142,
            "upperBound": 0.5263951995024009,
            "value": 0.3898305084745763
           }
          },
          "fairness_indicators_metrics/false_discovery_rate@0.4500": {
           "boundedValue": {
            "lowerBound": 0.256568103560362,
            "upperBound": 0.5503872442353219,
            "value": 0.40350877192982454
           }
          },
          "fairness_indicators_metrics/false_discovery_rate@0.4675": {
           "boundedValue": {
            "lowerBound": 0.2230174536109097,
            "upperBound": 0.5218552189283354,
            "value": 0.37254901960784315
           }
          },
          "fairness_indicators_metrics/false_discovery_rate@0.4750": {
           "boundedValue": {
            "lowerBound": 0.22826153000183896,
            "upperBound": 0.5314698904726103,
            "value": 0.38
           }
          },
          "fairness_indicators_metrics/false_discovery_rate@0.4875": {
           "boundedValue": {
            "lowerBound": 0.19080893800337612,
            "upperBound": 0.553026909578404,
            "value": 0.37209302325581395
           }
          },
          "fairness_indicators_metrics/false_discovery_rate@0.5000": {
           "boundedValue": {
            "lowerBound": 0.1630077839059118,
            "upperBound": 0.5195546558420221,
            "value": 0.34146341463414637
           }
          },
          "fairness_indicators_metrics/false_negative_rate@0.4000": {
           "boundedValue": {
            "lowerBound": 0.8756113972397799,
            "upperBound": 0.9439871163694225,
            "value": 0.9098039215686274
           }
          },
          "fairness_indicators_metrics/false_negative_rate@0.4125": {
           "boundedValue": {
            "lowerBound": 0.8787146848417962,
            "upperBound": 0.9487269973300942,
            "value": 0.9137254901960784
           }
          },
          "fairness_indicators_metrics/false_negative_rate@0.4250": {
           "boundedValue": {
            "lowerBound": 0.88906056761773,
            "upperBound": 0.9501473840983324,
            "value": 0.9196078431372549
           }
          },
          "fairness_indicators_metrics/false_negative_rate@0.4375": {
           "boundedValue": {
            "lowerBound": 0.9038421566362261,
            "upperBound": 0.9549747497439517,
            "value": 0.9294117647058824
           }
          },
          "fairness_indicators_metrics/false_negative_rate@0.4500": {
           "boundedValue": {
            "lowerBound": 0.9081915667294314,
            "upperBound": 0.9584697934433475,
            "value": 0.9333333333333333
           }
          },
          "fairness_indicators_metrics/false_negative_rate@0.4675": {
           "boundedValue": {
            "lowerBound": 0.9128939716375815,
            "upperBound": 0.9616066908860001,
            "value": 0.9372549019607843
           }
          },
          "fairness_indicators_metrics/false_negative_rate@0.4750": {
           "boundedValue": {
            "lowerBound": 0.9161886265156047,
            "upperBound": 0.9622325561526053,
            "value": 0.9392156862745098
           }
          },
          "fairness_indicators_metrics/false_negative_rate@0.4875": {
           "boundedValue": {
            "lowerBound": 0.928446621657191,
            "upperBound": 0.9656609193715863,
            "value": 0.9470588235294117
           }
          },
          "fairness_indicators_metrics/false_negative_rate@0.5000": {
           "boundedValue": {
            "lowerBound": 0.928446621657191,
            "upperBound": 0.9656609193715863,
            "value": 0.9470588235294117
           }
          },
          "fairness_indicators_metrics/false_omission_rate@0.4000": {
           "boundedValue": {
            "lowerBound": 0.1421896541690827,
            "upperBound": 0.17334807011813047,
            "value": 0.15776946616797008
           }
          },
          "fairness_indicators_metrics/false_omission_rate@0.4125": {
           "boundedValue": {
            "lowerBound": 0.1426303699019767,
            "upperBound": 0.17383685958712186,
            "value": 0.15823429541595926
           }
          },
          "fairness_indicators_metrics/false_omission_rate@0.4250": {
           "boundedValue": {
            "lowerBound": 0.14374014049429484,
            "upperBound": 0.17422461285808166,
            "value": 0.15898305084745762
           }
          },
          "fairness_indicators_metrics/false_omission_rate@0.4375": {
           "boundedValue": {
            "lowerBound": 0.14517706548368423,
            "upperBound": 0.17552559741998755,
            "value": 0.16035182679296348
           }
          },
          "fairness_indicators_metrics/false_omission_rate@0.4500": {
           "boundedValue": {
            "lowerBound": 0.1457737368634355,
            "upperBound": 0.17606443698189297,
            "value": 0.16091954022988506
           }
          },
          "fairness_indicators_metrics/false_omission_rate@0.4675": {
           "boundedValue": {
            "lowerBound": 0.14590571092988663,
            "upperBound": 0.17663036373401308,
            "value": 0.1612685560053981
           }
          },
          "fairness_indicators_metrics/false_omission_rate@0.4750": {
           "boundedValue": {
            "lowerBound": 0.1460343021130881,
            "upperBound": 0.1770677339753673,
            "value": 0.1615514333895447
           }
          },
          "fairness_indicators_metrics/false_omission_rate@0.4875": {
           "boundedValue": {
            "lowerBound": 0.14701006701917818,
            "upperBound": 0.17802294442471217,
            "value": 0.16251682368775236
           }
          },
          "fairness_indicators_metrics/false_omission_rate@0.5000": {
           "boundedValue": {
            "lowerBound": 0.14687929044358924,
            "upperBound": 0.17793522477047455,
            "value": 0.16240753194351043
           }
          },
          "fairness_indicators_metrics/false_positive_rate@0.4000": {
           "boundedValue": {
            "lowerBound": 0.0066907312028582225,
            "upperBound": 0.015663563119515056,
            "value": 0.011177644710578843
           }
          },
          "fairness_indicators_metrics/false_positive_rate@0.4125": {
           "boundedValue": {
            "lowerBound": 0.006115442273196199,
            "upperBound": 0.014641887962898321,
            "value": 0.010379241516966068
           }
          },
          "fairness_indicators_metrics/false_positive_rate@0.4250": {
           "boundedValue": {
            "lowerBound": 0.005203438585404619,
            "upperBound": 0.01395726225280267,
            "value": 0.009580838323353293
           }
          },
          "fairness_indicators_metrics/false_positive_rate@0.4375": {
           "boundedValue": {
            "lowerBound": 0.004846259576210504,
            "upperBound": 0.013516126443467516,
            "value": 0.009181636726546906
           }
          },
          "fairness_indicators_metrics/false_positive_rate@0.4500": {
           "boundedValue": {
            "lowerBound": 0.004846259576210504,
            "upperBound": 0.013516126443467516,
            "value": 0.009181636726546906
           }
          },
          "fairness_indicators_metrics/false_positive_rate@0.4675": {
           "boundedValue": {
            "lowerBound": 0.003365494020953543,
            "upperBound": 0.011803334285315244,
            "value": 0.007584830339321357
           }
          },
          "fairness_indicators_metrics/false_positive_rate@0.4750": {
           "boundedValue": {
            "lowerBound": 0.003365494020953543,
            "upperBound": 0.011803334285315244,
            "value": 0.007584830339321357
           }
          },
          "fairness_indicators_metrics/false_positive_rate@0.4875": {
           "boundedValue": {
            "lowerBound": 0.002488315632795896,
            "upperBound": 0.010285482309661854,
            "value": 0.006387225548902195
           }
          },
          "fairness_indicators_metrics/false_positive_rate@0.5000": {
           "boundedValue": {
            "lowerBound": 0.001962367300779041,
            "upperBound": 0.009214854452149493,
            "value": 0.005588822355289421
           }
          },
          "fairness_indicators_metrics/negative_rate@0.4000": {
           "boundedValue": {
            "lowerBound": 0.9681731415798722,
            "upperBound": 0.9827386903374691,
            "value": 0.9754560530679933
           }
          },
          "fairness_indicators_metrics/negative_rate@0.4125": {
           "boundedValue": {
            "lowerBound": 0.9693384616014105,
            "upperBound": 0.9842268139738102,
            "value": 0.9767827529021559
           }
          },
          "fairness_indicators_metrics/negative_rate@0.4250": {
           "boundedValue": {
            "lowerBound": 0.971776657823911,
            "upperBound": 0.985104878263226,
            "value": 0.978441127694859
           }
          },
          "fairness_indicators_metrics/negative_rate@0.4375": {
           "boundedValue": {
            "lowerBound": 0.9743880656766569,
            "upperBound": 0.9864737793710806,
            "value": 0.9804311774461029
           }
          },
          "fairness_indicators_metrics/negative_rate@0.4500": {
           "boundedValue": {
            "lowerBound": 0.9753328262223595,
            "upperBound": 0.9868557652238363,
            "value": 0.981094527363184
           }
          },
          "fairness_indicators_metrics/negative_rate@0.4675": {
           "boundedValue": {
            "lowerBound": 0.9772099975641974,
            "upperBound": 0.988958624263571,
            "value": 0.9830845771144279
           }
          },
          "fairness_indicators_metrics/negative_rate@0.4750": {
           "boundedValue": {
            "lowerBound": 0.9778354117694609,
            "upperBound": 0.9889968431751136,
            "value": 0.9834162520729685
           }
          },
          "fairness_indicators_metrics/negative_rate@0.4875": {
           "boundedValue": {
            "lowerBound": 0.9816483759725356,
            "upperBound": 0.9898272353190589,
            "value": 0.9857379767827529
           }
          },
          "fairness_indicators_metrics/negative_rate@0.5000": {
           "boundedValue": {
            "lowerBound": 0.9822748042181217,
            "upperBound": 0.9905274192253308,
            "value": 0.9864013266998342
           }
          },
          "fairness_indicators_metrics/positive_rate@0.4000": {
           "boundedValue": {
            "lowerBound": 0.01726130966253079,
            "upperBound": 0.03182685842012762,
            "value": 0.024543946932006632
           }
          },
          "fairness_indicators_metrics/positive_rate@0.4125": {
           "boundedValue": {
            "lowerBound": 0.01577318602619003,
            "upperBound": 0.03066153839858954,
            "value": 0.02321724709784411
           }
          },
          "fairness_indicators_metrics/positive_rate@0.4250": {
           "boundedValue": {
            "lowerBound": 0.014895121736774123,
            "upperBound": 0.028223342176088947,
            "value": 0.02155887230514096
           }
          },
          "fairness_indicators_metrics/positive_rate@0.4375": {
           "boundedValue": {
            "lowerBound": 0.013526220628919422,
            "upperBound": 0.02561193432334309,
            "value": 0.01956882255389718
           }
          },
          "fairness_indicators_metrics/positive_rate@0.4500": {
           "boundedValue": {
            "lowerBound": 0.013144234776163596,
            "upperBound": 0.024667173777640217,
            "value": 0.01890547263681592
           }
          },
          "fairness_indicators_metrics/positive_rate@0.4675": {
           "boundedValue": {
            "lowerBound": 0.011041375736429293,
            "upperBound": 0.02279000243580267,
            "value": 0.01691542288557214
           }
          },
          "fairness_indicators_metrics/positive_rate@0.4750": {
           "boundedValue": {
            "lowerBound": 0.011003156824886819,
            "upperBound": 0.022164588230538886,
            "value": 0.01658374792703151
           }
          },
          "fairness_indicators_metrics/positive_rate@0.4875": {
           "boundedValue": {
            "lowerBound": 0.010172764680940988,
            "upperBound": 0.018351624027464247,
            "value": 0.014262023217247097
           }
          },
          "fairness_indicators_metrics/positive_rate@0.5000": {
           "boundedValue": {
            "lowerBound": 0.009472580774669087,
            "upperBound": 0.0177251957818782,
            "value": 0.013598673300165837
           }
          },
          "fairness_indicators_metrics/true_negative_rate@0.4000": {
           "boundedValue": {
            "lowerBound": 0.9843364368804851,
            "upperBound": 0.9933092687971418,
            "value": 0.9888223552894212
           }
          },
          "fairness_indicators_metrics/true_negative_rate@0.4125": {
           "boundedValue": {
            "lowerBound": 0.9853581120371014,
            "upperBound": 0.993884557726804,
            "value": 0.9896207584830339
           }
          },
          "fairness_indicators_metrics/true_negative_rate@0.4250": {
           "boundedValue": {
            "lowerBound": 0.9860427377471974,
            "upperBound": 0.9947965614145955,
            "value": 0.9904191616766467
           }
          },
          "fairness_indicators_metrics/true_negative_rate@0.4375": {
           "boundedValue": {
            "lowerBound": 0.9864838735565327,
            "upperBound": 0.9951537404237896,
            "value": 0.9908183632734531
           }
          },
          "fairness_indicators_metrics/true_negative_rate@0.4500": {
           "boundedValue": {
            "lowerBound": 0.9864838735565327,
            "upperBound": 0.9951537404237896,
            "value": 0.9908183632734531
           }
          },
          "fairness_indicators_metrics/true_negative_rate@0.4675": {
           "boundedValue": {
            "lowerBound": 0.9881966657146848,
            "upperBound": 0.9966345059790462,
            "value": 0.9924151696606787
           }
          },
          "fairness_indicators_metrics/true_negative_rate@0.4750": {
           "boundedValue": {
            "lowerBound": 0.9881966657146848,
            "upperBound": 0.9966345059790462,
            "value": 0.9924151696606787
           }
          },
          "fairness_indicators_metrics/true_negative_rate@0.4875": {
           "boundedValue": {
            "lowerBound": 0.9897145176903382,
            "upperBound": 0.9975116843672042,
            "value": 0.9936127744510979
           }
          },
          "fairness_indicators_metrics/true_negative_rate@0.5000": {
           "boundedValue": {
            "lowerBound": 0.9907851455478502,
            "upperBound": 0.9980376326992209,
            "value": 0.9944111776447105
           }
          },
          "fairness_indicators_metrics/true_positive_rate@0.4000": {
           "boundedValue": {
            "lowerBound": 0.05601288363057759,
            "upperBound": 0.12438860276022005,
            "value": 0.09019607843137255
           }
          },
          "fairness_indicators_metrics/true_positive_rate@0.4125": {
           "boundedValue": {
            "lowerBound": 0.051273002669905476,
            "upperBound": 0.12128531515820393,
            "value": 0.08627450980392157
           }
          },
          "fairness_indicators_metrics/true_positive_rate@0.4250": {
           "boundedValue": {
            "lowerBound": 0.04985261590166745,
            "upperBound": 0.11093943238227005,
            "value": 0.0803921568627451
           }
          },
          "fairness_indicators_metrics/true_positive_rate@0.4375": {
           "boundedValue": {
            "lowerBound": 0.04502525025604825,
            "upperBound": 0.09615784336377442,
            "value": 0.07058823529411765
           }
          },
          "fairness_indicators_metrics/true_positive_rate@0.4500": {
           "boundedValue": {
            "lowerBound": 0.04153020655665242,
            "upperBound": 0.09180843327056866,
            "value": 0.06666666666666667
           }
          },
          "fairness_indicators_metrics/true_positive_rate@0.4675": {
           "boundedValue": {
            "lowerBound": 0.038393309113999796,
            "upperBound": 0.08710602836241857,
            "value": 0.06274509803921569
           }
          },
          "fairness_indicators_metrics/true_positive_rate@0.4750": {
           "boundedValue": {
            "lowerBound": 0.03776744384739471,
            "upperBound": 0.08381137348439564,
            "value": 0.060784313725490195
           }
          },
          "fairness_indicators_metrics/true_positive_rate@0.4875": {
           "boundedValue": {
            "lowerBound": 0.034339080628413454,
            "upperBound": 0.07155337834280912,
            "value": 0.052941176470588235
           }
          },
          "fairness_indicators_metrics/true_positive_rate@0.5000": {
           "boundedValue": {
            "lowerBound": 0.034339080628413454,
            "upperBound": 0.07155337834280912,
            "value": 0.052941176470588235
           }
          }
         },
         "slice": "religion:jewish",
         "sliceValue": "jewish"
        },
        {
         "metrics": {
          "accuracy": {
           "boundedValue": {
            "lowerBound": 0.0,
            "upperBound": 0.0,
            "value": 0.0
           }
          },
          "auc": {
           "boundedValue": {
            "lowerBound": 0.6918173972796244,
            "upperBound": 0.8171350518110831,
            "value": 0.7544400044400045
           }
          },
          "example_count": {
           "doubleValue": 545.0
          },
          "fairness_indicators_metrics/false_discovery_rate@0.4000": {
           "boundedValue": {
            "lowerBound": 0.23063411305054798,
            "upperBound": 0.96782742541099,
            "value": 0.6
           }
          },
          "fairness_indicators_metrics/false_discovery_rate@0.4125": {
           "boundedValue": {
            "lowerBound": 0.23063411305054798,
            "upperBound": 0.96782742541099,
            "value": 0.6
           }
          },
          "fairness_indicators_metrics/false_discovery_rate@0.4250": {
           "boundedValue": {
            "lowerBound": 0.30251007326532636,
            "upperBound": 0.9809731102178569,
            "value": 0.6428571428571429
           }
          },
          "fairness_indicators_metrics/false_discovery_rate@0.4375": {
           "boundedValue": {
            "lowerBound": 0.30251007326532636,
            "upperBound": 0.9809731102178569,
            "value": 0.6428571428571429
           }
          },
          "fairness_indicators_metrics/false_discovery_rate@0.4500": {
           "boundedValue": {
            "lowerBound": 0.29280865342902906,
            "upperBound": 1.037595386975011,
            "value": 0.6666666666666666
           }
          },
          "fairness_indicators_metrics/false_discovery_rate@0.4675": {
           "boundedValue": {
            "lowerBound": 0.15486551329080944,
            "upperBound": 1.0416027406774442,
            "value": 0.6
           }
          },
          "fairness_indicators_metrics/false_discovery_rate@0.4750": {
           "boundedValue": {
            "lowerBound": 0.15486551329080944,
            "upperBound": 1.0416027406774442,
            "value": 0.6
           }
          },
          "fairness_indicators_metrics/false_discovery_rate@0.4875": {
           "boundedValue": {
            "lowerBound": 0.15486551329080944,
            "upperBound": 1.0416027406774442,
            "value": 0.6
           }
          },
          "fairness_indicators_metrics/false_discovery_rate@0.5000": {
           "boundedValue": {
            "lowerBound": 0.1624131134158191,
            "upperBound": 0.947309108806403,
            "value": 0.5555555555555556
           }
          },
          "fairness_indicators_metrics/false_negative_rate@0.4000": {
           "boundedValue": {
            "lowerBound": 0.8553101950343337,
            "upperBound": 0.9888815172251454,
            "value": 0.922077922077922
           }
          },
          "fairness_indicators_metrics/false_negative_rate@0.4125": {
           "boundedValue": {
            "lowerBound": 0.8553101950343337,
            "upperBound": 0.9888815172251454,
            "value": 0.922077922077922
           }
          },
          "fairness_indicators_metrics/false_negative_rate@0.4250": {
           "boundedValue": {
            "lowerBound": 0.8823223665579109,
            "upperBound": 0.9877988447193572,
            "value": 0.935064935064935
           }
          },
          "fairness_indicators_metrics/false_negative_rate@0.4375": {
           "boundedValue": {
            "lowerBound": 0.8823223665579109,
            "upperBound": 0.9877988447193572,
            "value": 0.935064935064935
           }
          },
          "fairness_indicators_metrics/false_negative_rate@0.4500": {
           "boundedValue": {
            "lowerBound": 0.8971225220052559,
            "upperBound": 0.9989281882898007,
            "value": 0.948051948051948
           }
          },
          "fairness_indicators_metrics/false_negative_rate@0.4675": {
           "boundedValue": {
            "lowerBound": 0.8971225220052559,
            "upperBound": 0.9989281882898007,
            "value": 0.948051948051948
           }
          },
          "fairness_indicators_metrics/false_negative_rate@0.4750": {
           "boundedValue": {
            "lowerBound": 0.8971225220052559,
            "upperBound": 0.9989281882898007,
            "value": 0.948051948051948
           }
          },
          "fairness_indicators_metrics/false_negative_rate@0.4875": {
           "boundedValue": {
            "lowerBound": 0.8971225220052559,
            "upperBound": 0.9989281882898007,
            "value": 0.948051948051948
           }
          },
          "fairness_indicators_metrics/false_negative_rate@0.5000": {
           "boundedValue": {
            "lowerBound": 0.8971225220052559,
            "upperBound": 0.9989281882898007,
            "value": 0.948051948051948
           }
          },
          "fairness_indicators_metrics/false_omission_rate@0.4000": {
           "boundedValue": {
            "lowerBound": 0.10803711868440513,
            "upperBound": 0.15987179801507423,
            "value": 0.1339622641509434
           }
          },
          "fairness_indicators_metrics/false_omission_rate@0.4125": {
           "boundedValue": {
            "lowerBound": 0.10803711868440513,
            "upperBound": 0.15987179801507423,
            "value": 0.1339622641509434
           }
          },
          "fairness_indicators_metrics/false_omission_rate@0.4250": {
           "boundedValue": {
            "lowerBound": 0.10872460885807025,
            "upperBound": 0.16244581038536934,
            "value": 0.13559322033898305
           }
          },
          "fairness_indicators_metrics/false_omission_rate@0.4375": {
           "boundedValue": {
            "lowerBound": 0.10872460885807025,
            "upperBound": 0.16244581038536934,
            "value": 0.13559322033898305
           }
          },
          "fairness_indicators_metrics/false_omission_rate@0.4500": {
           "boundedValue": {
            "lowerBound": 0.1089691377231882,
            "upperBound": 0.16493439410667457,
            "value": 0.13696060037523453
           }
          },
          "fairness_indicators_metrics/false_omission_rate@0.4675": {
           "boundedValue": {
            "lowerBound": 0.10873727195040792,
            "upperBound": 0.16414109377120037,
            "value": 0.13644859813084112
           }
          },
          "fairness_indicators_metrics/false_omission_rate@0.4750": {
           "boundedValue": {
            "lowerBound": 0.10873727195040792,
            "upperBound": 0.16414109377120037,
            "value": 0.13644859813084112
           }
          },
          "fairness_indicators_metrics/false_omission_rate@0.4875": {
           "boundedValue": {
            "lowerBound": 0.10873727195040792,
            "upperBound": 0.16414109377120037,
            "value": 0.13644859813084112
           }
          },
          "fairness_indicators_metrics/false_omission_rate@0.5000": {
           "boundedValue": {
            "lowerBound": 0.1086227116189867,
            "upperBound": 0.16374655178000128,
            "value": 0.13619402985074627
           }
          },
          "fairness_indicators_metrics/false_positive_rate@0.4000": {
           "boundedValue": {
            "lowerBound": 0.0017550170631038496,
            "upperBound": 0.03669952523241936,
            "value": 0.019230769230769232
           }
          },
          "fairness_indicators_metrics/false_positive_rate@0.4125": {
           "boundedValue": {
            "lowerBound": 0.0017550170631038496,
            "upperBound": 0.03669952523241936,
            "value": 0.019230769230769232
           }
          },
          "fairness_indicators_metrics/false_positive_rate@0.4250": {
           "boundedValue": {
            "lowerBound": 0.0017550170631038496,
            "upperBound": 0.03669952523241936,
            "value": 0.019230769230769232
           }
          },
          "fairness_indicators_metrics/false_positive_rate@0.4375": {
           "boundedValue": {
            "lowerBound": 0.0017550170631038496,
            "upperBound": 0.03669952523241936,
            "value": 0.019230769230769232
           }
          },
          "fairness_indicators_metrics/false_positive_rate@0.4500": {
           "boundedValue": {
            "lowerBound": -0.0003445988967650665,
            "upperBound": 0.03452559333308866,
            "value": 0.017094017094017096
           }
          },
          "fairness_indicators_metrics/false_positive_rate@0.4675": {
           "boundedValue": {
            "lowerBound": -0.001628911389043865,
            "upperBound": 0.027259795906861915,
            "value": 0.01282051282051282
           }
          },
          "fairness_indicators_metrics/false_positive_rate@0.4750": {
           "boundedValue": {
            "lowerBound": -0.001628911389043865,
            "upperBound": 0.027259795906861915,
            "value": 0.01282051282051282
           }
          },
          "fairness_indicators_metrics/false_positive_rate@0.4875": {
           "boundedValue": {
            "lowerBound": -0.001628911389043865,
            "upperBound": 0.027259795906861915,
            "value": 0.01282051282051282
           }
          },
          "fairness_indicators_metrics/false_positive_rate@0.5000": {
           "boundedValue": {
            "lowerBound": -0.00014806782318589964,
            "upperBound": 0.021509537054744256,
            "value": 0.010683760683760684
           }
          },
          "fairness_indicators_metrics/negative_rate@0.4000": {
           "boundedValue": {
            "lowerBound": 0.9564601617774139,
            "upperBound": 0.9885009984757086,
            "value": 0.9724770642201835
           }
          },
          "fairness_indicators_metrics/negative_rate@0.4125": {
           "boundedValue": {
            "lowerBound": 0.9564601617774139,
            "upperBound": 0.9885009984757086,
            "value": 0.9724770642201835
           }
          },
          "fairness_indicators_metrics/negative_rate@0.4250": {
           "boundedValue": {
            "lowerBound": 0.9590071944756527,
            "upperBound": 0.9896237393051283,
            "value": 0.9743119266055046
           }
          },
          "fairness_indicators_metrics/negative_rate@0.4375": {
           "boundedValue": {
            "lowerBound": 0.9590071944756527,
            "upperBound": 0.9896237393051283,
            "value": 0.9743119266055046
           }
          },
          "fairness_indicators_metrics/negative_rate@0.4500": {
           "boundedValue": {
            "lowerBound": 0.9622163543054398,
            "upperBound": 0.9937533753710555,
            "value": 0.9779816513761468
           }
          },
          "fairness_indicators_metrics/negative_rate@0.4675": {
           "boundedValue": {
            "lowerBound": 0.9678564814170149,
            "upperBound": 0.995454653737451,
            "value": 0.981651376146789
           }
          },
          "fairness_indicators_metrics/negative_rate@0.4750": {
           "boundedValue": {
            "lowerBound": 0.9678564814170149,
            "upperBound": 0.995454653737451,
            "value": 0.981651376146789
           }
          },
          "fairness_indicators_metrics/negative_rate@0.4875": {
           "boundedValue": {
            "lowerBound": 0.9678564814170149,
            "upperBound": 0.995454653737451,
            "value": 0.981651376146789
           }
          },
          "fairness_indicators_metrics/negative_rate@0.5000": {
           "boundedValue": {
            "lowerBound": 0.9719983395792182,
            "upperBound": 0.9949787540418074,
            "value": 0.9834862385321101
           }
          },
          "fairness_indicators_metrics/positive_rate@0.4000": {
           "boundedValue": {
            "lowerBound": 0.011499001524291366,
            "upperBound": 0.043539838222586114,
            "value": 0.027522935779816515
           }
          },
          "fairness_indicators_metrics/positive_rate@0.4125": {
           "boundedValue": {
            "lowerBound": 0.011499001524291366,
            "upperBound": 0.043539838222586114,
            "value": 0.027522935779816515
           }
          },
          "fairness_indicators_metrics/positive_rate@0.4250": {
           "boundedValue": {
            "lowerBound": 0.010376260694871539,
            "upperBound": 0.04099280552434733,
            "value": 0.025688073394495414
           }
          },
          "fairness_indicators_metrics/positive_rate@0.4375": {
           "boundedValue": {
            "lowerBound": 0.010376260694871539,
            "upperBound": 0.04099280552434733,
            "value": 0.025688073394495414
           }
          },
          "fairness_indicators_metrics/positive_rate@0.4500": {
           "boundedValue": {
            "lowerBound": 0.006246624628944562,
            "upperBound": 0.037783645694559755,
            "value": 0.022018348623853212
           }
          },
          "fairness_indicators_metrics/positive_rate@0.4675": {
           "boundedValue": {
            "lowerBound": 0.004545346262549004,
            "upperBound": 0.03214351858298498,
            "value": 0.01834862385321101
           }
          },
          "fairness_indicators_metrics/positive_rate@0.4750": {
           "boundedValue": {
            "lowerBound": 0.004545346262549004,
            "upperBound": 0.03214351858298498,
            "value": 0.01834862385321101
           }
          },
          "fairness_indicators_metrics/positive_rate@0.4875": {
           "boundedValue": {
            "lowerBound": 0.004545346262549004,
            "upperBound": 0.03214351858298498,
            "value": 0.01834862385321101
           }
          },
          "fairness_indicators_metrics/positive_rate@0.5000": {
           "boundedValue": {
            "lowerBound": 0.0050212459581923195,
            "upperBound": 0.028001660420781276,
            "value": 0.01651376146788991
           }
          },
          "fairness_indicators_metrics/true_negative_rate@0.4000": {
           "boundedValue": {
            "lowerBound": 0.9633004747675806,
            "upperBound": 0.9982449829368962,
            "value": 0.9807692307692307
           }
          },
          "fairness_indicators_metrics/true_negative_rate@0.4125": {
           "boundedValue": {
            "lowerBound": 0.9633004747675806,
            "upperBound": 0.9982449829368962,
            "value": 0.9807692307692307
           }
          },
          "fairness_indicators_metrics/true_negative_rate@0.4250": {
           "boundedValue": {
            "lowerBound": 0.9633004747675806,
            "upperBound": 0.9982449829368962,
            "value": 0.9807692307692307
           }
          },
          "fairness_indicators_metrics/true_negative_rate@0.4375": {
           "boundedValue": {
            "lowerBound": 0.9633004747675806,
            "upperBound": 0.9982449829368962,
            "value": 0.9807692307692307
           }
          },
          "fairness_indicators_metrics/true_negative_rate@0.4500": {
           "boundedValue": {
            "lowerBound": 0.9654744066669112,
            "upperBound": 1.0003445988967654,
            "value": 0.9829059829059829
           }
          },
          "fairness_indicators_metrics/true_negative_rate@0.4675": {
           "boundedValue": {
            "lowerBound": 0.9727402040931382,
            "upperBound": 1.0016289113890435,
            "value": 0.9871794871794872
           }
          },
          "fairness_indicators_metrics/true_negative_rate@0.4750": {
           "boundedValue": {
            "lowerBound": 0.9727402040931382,
            "upperBound": 1.0016289113890435,
            "value": 0.9871794871794872
           }
          },
          "fairness_indicators_metrics/true_negative_rate@0.4875": {
           "boundedValue": {
            "lowerBound": 0.9727402040931382,
            "upperBound": 1.0016289113890435,
            "value": 0.9871794871794872
           }
          },
          "fairness_indicators_metrics/true_negative_rate@0.5000": {
           "boundedValue": {
            "lowerBound": 0.9784904629452561,
            "upperBound": 1.0001480678231858,
            "value": 0.9893162393162394
           }
          },
          "fairness_indicators_metrics/true_positive_rate@0.4000": {
           "boundedValue": {
            "lowerBound": 0.011118482774854416,
            "upperBound": 0.14468980496566622,
            "value": 0.07792207792207792
           }
          },
          "fairness_indicators_metrics/true_positive_rate@0.4125": {
           "boundedValue": {
            "lowerBound": 0.011118482774854416,
            "upperBound": 0.14468980496566622,
            "value": 0.07792207792207792
           }
          },
          "fairness_indicators_metrics/true_positive_rate@0.4250": {
           "boundedValue": {
            "lowerBound": 0.012201155280642681,
            "upperBound": 0.1176776334420893,
            "value": 0.06493506493506493
           }
          },
          "fairness_indicators_metrics/true_positive_rate@0.4375": {
           "boundedValue": {
            "lowerBound": 0.012201155280642681,
            "upperBound": 0.1176776334420893,
            "value": 0.06493506493506493
           }
          },
          "fairness_indicators_metrics/true_positive_rate@0.4500": {
           "boundedValue": {
            "lowerBound": 0.001071811710199197,
            "upperBound": 0.1028774779947441,
            "value": 0.05194805194805195
           }
          },
          "fairness_indicators_metrics/true_positive_rate@0.4675": {
           "boundedValue": {
            "lowerBound": 0.001071811710199197,
            "upperBound": 0.1028774779947441,
            "value": 0.05194805194805195
           }
          },
          "fairness_indicators_metrics/true_positive_rate@0.4750": {
           "boundedValue": {
            "lowerBound": 0.001071811710199197,
            "upperBound": 0.1028774779947441,
            "value": 0.05194805194805195
           }
          },
          "fairness_indicators_metrics/true_positive_rate@0.4875": {
           "boundedValue": {
            "lowerBound": 0.001071811710199197,
            "upperBound": 0.1028774779947441,
            "value": 0.05194805194805195
           }
          },
          "fairness_indicators_metrics/true_positive_rate@0.5000": {
           "boundedValue": {
            "lowerBound": 0.001071811710199197,
            "upperBound": 0.1028774779947441,
            "value": 0.05194805194805195
           }
          }
         },
         "slice": "religion:atheist",
         "sliceValue": "atheist"
        },
        {
         "metrics": {
          "accuracy": {
           "boundedValue": {
            "lowerBound": 0.0,
            "upperBound": 0.0,
            "value": 0.0
           }
          },
          "auc": {
           "boundedValue": {
            "lowerBound": 0.546936170203782,
            "upperBound": 0.8175648749216449,
            "value": 0.6821969696969699
           }
          },
          "example_count": {
           "doubleValue": 218.0
          },
          "fairness_indicators_metrics/false_discovery_rate@0.4000": {
           "boundedValue": {
            "lowerBound": -0.9425172802630517,
            "upperBound": 1.9425172802630517,
            "value": 0.5
           }
          },
          "fairness_indicators_metrics/false_discovery_rate@0.4125": {
           "boundedValue": {
            "lowerBound": -0.9425172802630517,
            "upperBound": 1.9425172802630517,
            "value": 0.5
           }
          },
          "fairness_indicators_metrics/false_discovery_rate@0.4250": {
           "boundedValue": {
            "lowerBound": -0.9425172802630517,
            "upperBound": 1.9425172802630517,
            "value": 0.5
           }
          },
          "fairness_indicators_metrics/false_discovery_rate@0.4375": {
           "boundedValue": {
            "lowerBound": -0.9425172802630517,
            "upperBound": 1.9425172802630517,
            "value": 0.5
           }
          },
          "fairness_indicators_metrics/false_discovery_rate@0.4500": {
           "boundedValue": {
            "lowerBound": "NaN",
            "upperBound": "NaN",
            "value": 1.0
           }
          },
          "fairness_indicators_metrics/false_discovery_rate@0.4675": {
           "boundedValue": {
            "lowerBound": "NaN",
            "upperBound": "NaN",
            "value": "NaN"
           }
          },
          "fairness_indicators_metrics/false_discovery_rate@0.4750": {
           "boundedValue": {
            "lowerBound": "NaN",
            "upperBound": "NaN",
            "value": "NaN"
           }
          },
          "fairness_indicators_metrics/false_discovery_rate@0.4875": {
           "boundedValue": {
            "lowerBound": "NaN",
            "upperBound": "NaN",
            "value": "NaN"
           }
          },
          "fairness_indicators_metrics/false_discovery_rate@0.5000": {
           "boundedValue": {
            "lowerBound": "NaN",
            "upperBound": "NaN",
            "value": "NaN"
           }
          },
          "fairness_indicators_metrics/false_negative_rate@0.4000": {
           "boundedValue": {
            "lowerBound": 0.8437452560513311,
            "upperBound": 1.056366543054276,
            "value": 0.95
           }
          },
          "fairness_indicators_metrics/false_negative_rate@0.4125": {
           "boundedValue": {
            "lowerBound": 0.8437452560513311,
            "upperBound": 1.056366543054276,
            "value": 0.95
           }
          },
          "fairness_indicators_metrics/false_negative_rate@0.4250": {
           "boundedValue": {
            "lowerBound": 0.8437452560513311,
            "upperBound": 1.056366543054276,
            "value": 0.95
           }
          },
          "fairness_indicators_metrics/false_negative_rate@0.4375": {
           "boundedValue": {
            "lowerBound": 0.8437452560513311,
            "upperBound": 1.056366543054276,
            "value": 0.95
           }
          },
          "fairness_indicators_metrics/false_negative_rate@0.4500": {
           "boundedValue": {
            "lowerBound": 1.0,
            "upperBound": 1.0,
            "value": 1.0
           }
          },
          "fairness_indicators_metrics/false_negative_rate@0.4675": {
           "boundedValue": {
            "lowerBound": 1.0,
            "upperBound": 1.0,
            "value": 1.0
           }
          },
          "fairness_indicators_metrics/false_negative_rate@0.4750": {
           "boundedValue": {
            "lowerBound": 1.0,
            "upperBound": 1.0,
            "value": 1.0
           }
          },
          "fairness_indicators_metrics/false_negative_rate@0.4875": {
           "boundedValue": {
            "lowerBound": 1.0,
            "upperBound": 1.0,
            "value": 1.0
           }
          },
          "fairness_indicators_metrics/false_negative_rate@0.5000": {
           "boundedValue": {
            "lowerBound": 1.0,
            "upperBound": 1.0,
            "value": 1.0
           }
          },
          "fairness_indicators_metrics/false_omission_rate@0.4000": {
           "boundedValue": {
            "lowerBound": 0.06155221353151831,
            "upperBound": 0.11434280573992132,
            "value": 0.08796296296296297
           }
          },
          "fairness_indicators_metrics/false_omission_rate@0.4125": {
           "boundedValue": {
            "lowerBound": 0.06155221353151831,
            "upperBound": 0.11434280573992132,
            "value": 0.08796296296296297
           }
          },
          "fairness_indicators_metrics/false_omission_rate@0.4250": {
           "boundedValue": {
            "lowerBound": 0.06155221353151831,
            "upperBound": 0.11434280573992132,
            "value": 0.08796296296296297
           }
          },
          "fairness_indicators_metrics/false_omission_rate@0.4375": {
           "boundedValue": {
            "lowerBound": 0.06155221353151831,
            "upperBound": 0.11434280573992132,
            "value": 0.08796296296296297
           }
          },
          "fairness_indicators_metrics/false_omission_rate@0.4500": {
           "boundedValue": {
            "lowerBound": 0.06455940075411046,
            "upperBound": 0.119741731958215,
            "value": 0.09216589861751152
           }
          },
          "fairness_indicators_metrics/false_omission_rate@0.4675": {
           "boundedValue": {
            "lowerBound": 0.06454048489382712,
            "upperBound": 0.11891306527814362,
            "value": 0.09174311926605505
           }
          },
          "fairness_indicators_metrics/false_omission_rate@0.4750": {
           "boundedValue": {
            "lowerBound": 0.06454048489382712,
            "upperBound": 0.11891306527814362,
            "value": 0.09174311926605505
           }
          },
          "fairness_indicators_metrics/false_omission_rate@0.4875": {
           "boundedValue": {
            "lowerBound": 0.06454048489382712,
            "upperBound": 0.11891306527814362,
            "value": 0.09174311926605505
           }
          },
          "fairness_indicators_metrics/false_omission_rate@0.5000": {
           "boundedValue": {
            "lowerBound": 0.06454048489382712,
            "upperBound": 0.11891306527814362,
            "value": 0.09174311926605505
           }
          },
          "fairness_indicators_metrics/false_positive_rate@0.4000": {
           "boundedValue": {
            "lowerBound": -0.005550690520358102,
            "upperBound": 0.015654126861513826,
            "value": 0.005050505050505051
           }
          },
          "fairness_indicators_metrics/false_positive_rate@0.4125": {
           "boundedValue": {
            "lowerBound": -0.005550690520358102,
            "upperBound": 0.015654126861513826,
            "value": 0.005050505050505051
           }
          },
          "fairness_indicators_metrics/false_positive_rate@0.4250": {
           "boundedValue": {
            "lowerBound": -0.005550690520358102,
            "upperBound": 0.015654126861513826,
            "value": 0.005050505050505051
           }
          },
          "fairness_indicators_metrics/false_positive_rate@0.4375": {
           "boundedValue": {
            "lowerBound": -0.005550690520358102,
            "upperBound": 0.015654126861513826,
            "value": 0.005050505050505051
           }
          },
          "fairness_indicators_metrics/false_positive_rate@0.4500": {
           "boundedValue": {
            "lowerBound": -0.005550690520358102,
            "upperBound": 0.015654126861513826,
            "value": 0.005050505050505051
           }
          },
          "fairness_indicators_metrics/false_positive_rate@0.4675": {
           "boundedValue": {
            "lowerBound": 0.0,
            "upperBound": 0.0,
            "value": 0.0
           }
          },
          "fairness_indicators_metrics/false_positive_rate@0.4750": {
           "boundedValue": {
            "lowerBound": 0.0,
            "upperBound": 0.0,
            "value": 0.0
           }
          },
          "fairness_indicators_metrics/false_positive_rate@0.4875": {
           "boundedValue": {
            "lowerBound": 0.0,
            "upperBound": 0.0,
            "value": 0.0
           }
          },
          "fairness_indicators_metrics/false_positive_rate@0.5000": {
           "boundedValue": {
            "lowerBound": 0.0,
            "upperBound": 0.0,
            "value": 0.0
           }
          },
          "fairness_indicators_metrics/negative_rate@0.4000": {
           "boundedValue": {
            "lowerBound": 0.9776035148638839,
            "upperBound": 1.0040475982842314,
            "value": 0.9908256880733946
           }
          },
          "fairness_indicators_metrics/negative_rate@0.4125": {
           "boundedValue": {
            "lowerBound": 0.9776035148638839,
            "upperBound": 1.0040475982842314,
            "value": 0.9908256880733946
           }
          },
          "fairness_indicators_metrics/negative_rate@0.4250": {
           "boundedValue": {
            "lowerBound": 0.9776035148638839,
            "upperBound": 1.0040475982842314,
            "value": 0.9908256880733946
           }
          },
          "fairness_indicators_metrics/negative_rate@0.4375": {
           "boundedValue": {
            "lowerBound": 0.9776035148638839,
            "upperBound": 1.0040475982842314,
            "value": 0.9908256880733946
           }
          },
          "fairness_indicators_metrics/negative_rate@0.4500": {
           "boundedValue": {
            "lowerBound": 0.985782577976485,
            "upperBound": 1.0050429785975725,
            "value": 0.9954128440366973
           }
          },
          "fairness_indicators_metrics/negative_rate@0.4675": {
           "boundedValue": {
            "lowerBound": 1.0,
            "upperBound": 1.0,
            "value": 1.0
           }
          },
          "fairness_indicators_metrics/negative_rate@0.4750": {
           "boundedValue": {
            "lowerBound": 1.0,
            "upperBound": 1.0,
            "value": 1.0
           }
          },
          "fairness_indicators_metrics/negative_rate@0.4875": {
           "boundedValue": {
            "lowerBound": 1.0,
            "upperBound": 1.0,
            "value": 1.0
           }
          },
          "fairness_indicators_metrics/negative_rate@0.5000": {
           "boundedValue": {
            "lowerBound": 1.0,
            "upperBound": 1.0,
            "value": 1.0
           }
          },
          "fairness_indicators_metrics/positive_rate@0.4000": {
           "boundedValue": {
            "lowerBound": -0.004047598284231485,
            "upperBound": 0.022396485136116546,
            "value": 0.009174311926605505
           }
          },
          "fairness_indicators_metrics/positive_rate@0.4125": {
           "boundedValue": {
            "lowerBound": -0.004047598284231485,
            "upperBound": 0.022396485136116546,
            "value": 0.009174311926605505
           }
          },
          "fairness_indicators_metrics/positive_rate@0.4250": {
           "boundedValue": {
            "lowerBound": -0.004047598284231485,
            "upperBound": 0.022396485136116546,
            "value": 0.009174311926605505
           }
          },
          "fairness_indicators_metrics/positive_rate@0.4375": {
           "boundedValue": {
            "lowerBound": -0.004047598284231485,
            "upperBound": 0.022396485136116546,
            "value": 0.009174311926605505
           }
          },
          "fairness_indicators_metrics/positive_rate@0.4500": {
           "boundedValue": {
            "lowerBound": -0.005042978597572522,
            "upperBound": 0.014217422023515051,
            "value": 0.0045871559633027525
           }
          },
          "fairness_indicators_metrics/positive_rate@0.4675": {
           "boundedValue": {
            "lowerBound": 0.0,
            "upperBound": 0.0,
            "value": 0.0
           }
          },
          "fairness_indicators_metrics/positive_rate@0.4750": {
           "boundedValue": {
            "lowerBound": 0.0,
            "upperBound": 0.0,
            "value": 0.0
           }
          },
          "fairness_indicators_metrics/positive_rate@0.4875": {
           "boundedValue": {
            "lowerBound": 0.0,
            "upperBound": 0.0,
            "value": 0.0
           }
          },
          "fairness_indicators_metrics/positive_rate@0.5000": {
           "boundedValue": {
            "lowerBound": 0.0,
            "upperBound": 0.0,
            "value": 0.0
           }
          },
          "fairness_indicators_metrics/true_negative_rate@0.4000": {
           "boundedValue": {
            "lowerBound": 0.9843458731384862,
            "upperBound": 1.0055506905203582,
            "value": 0.9949494949494949
           }
          },
          "fairness_indicators_metrics/true_negative_rate@0.4125": {
           "boundedValue": {
            "lowerBound": 0.9843458731384862,
            "upperBound": 1.0055506905203582,
            "value": 0.9949494949494949
           }
          },
          "fairness_indicators_metrics/true_negative_rate@0.4250": {
           "boundedValue": {
            "lowerBound": 0.9843458731384862,
            "upperBound": 1.0055506905203582,
            "value": 0.9949494949494949
           }
          },
          "fairness_indicators_metrics/true_negative_rate@0.4375": {
           "boundedValue": {
            "lowerBound": 0.9843458731384862,
            "upperBound": 1.0055506905203582,
            "value": 0.9949494949494949
           }
          },
          "fairness_indicators_metrics/true_negative_rate@0.4500": {
           "boundedValue": {
            "lowerBound": 0.9843458731384862,
            "upperBound": 1.0055506905203582,
            "value": 0.9949494949494949
           }
          },
          "fairness_indicators_metrics/true_negative_rate@0.4675": {
           "boundedValue": {
            "lowerBound": 1.0,
            "upperBound": 1.0,
            "value": 1.0
           }
          },
          "fairness_indicators_metrics/true_negative_rate@0.4750": {
           "boundedValue": {
            "lowerBound": 1.0,
            "upperBound": 1.0,
            "value": 1.0
           }
          },
          "fairness_indicators_metrics/true_negative_rate@0.4875": {
           "boundedValue": {
            "lowerBound": 1.0,
            "upperBound": 1.0,
            "value": 1.0
           }
          },
          "fairness_indicators_metrics/true_negative_rate@0.5000": {
           "boundedValue": {
            "lowerBound": 1.0,
            "upperBound": 1.0,
            "value": 1.0
           }
          },
          "fairness_indicators_metrics/true_positive_rate@0.4000": {
           "boundedValue": {
            "lowerBound": -0.05636654305427594,
            "upperBound": 0.15625474394866878,
            "value": 0.05
           }
          },
          "fairness_indicators_metrics/true_positive_rate@0.4125": {
           "boundedValue": {
            "lowerBound": -0.05636654305427594,
            "upperBound": 0.15625474394866878,
            "value": 0.05
           }
          },
          "fairness_indicators_metrics/true_positive_rate@0.4250": {
           "boundedValue": {
            "lowerBound": -0.05636654305427594,
            "upperBound": 0.15625474394866878,
            "value": 0.05
           }
          },
          "fairness_indicators_metrics/true_positive_rate@0.4375": {
           "boundedValue": {
            "lowerBound": -0.05636654305427594,
            "upperBound": 0.15625474394866878,
            "value": 0.05
           }
          },
          "fairness_indicators_metrics/true_positive_rate@0.4500": {
           "boundedValue": {
            "lowerBound": 0.0,
            "upperBound": 0.0,
            "value": 0.0
           }
          },
          "fairness_indicators_metrics/true_positive_rate@0.4675": {
           "boundedValue": {
            "lowerBound": 0.0,
            "upperBound": 0.0,
            "value": 0.0
           }
          },
          "fairness_indicators_metrics/true_positive_rate@0.4750": {
           "boundedValue": {
            "lowerBound": 0.0,
            "upperBound": 0.0,
            "value": 0.0
           }
          },
          "fairness_indicators_metrics/true_positive_rate@0.4875": {
           "boundedValue": {
            "lowerBound": 0.0,
            "upperBound": 0.0,
            "value": 0.0
           }
          },
          "fairness_indicators_metrics/true_positive_rate@0.5000": {
           "boundedValue": {
            "lowerBound": 0.0,
            "upperBound": 0.0,
            "value": 0.0
           }
          }
         },
         "slice": "religion:hindu",
         "sliceValue": "hindu"
        },
        {
         "metrics": {
          "accuracy": {
           "boundedValue": {
            "lowerBound": 0.0,
            "upperBound": 0.0,
            "value": 0.0
           }
          },
          "auc": {
           "boundedValue": {
            "lowerBound": 0.7165425078314653,
            "upperBound": 0.8540776651214159,
            "value": 0.7852078633580406
           }
          },
          "example_count": {
           "doubleValue": 243.0
          },
          "fairness_indicators_metrics/false_discovery_rate@0.4000": {
           "boundedValue": {
            "lowerBound": 0.0,
            "upperBound": 0.0,
            "value": 0.0
           }
          },
          "fairness_indicators_metrics/false_discovery_rate@0.4125": {
           "boundedValue": {
            "lowerBound": 0.0,
            "upperBound": 0.0,
            "value": 0.0
           }
          },
          "fairness_indicators_metrics/false_discovery_rate@0.4250": {
           "boundedValue": {
            "lowerBound": 0.0,
            "upperBound": 0.0,
            "value": 0.0
           }
          },
          "fairness_indicators_metrics/false_discovery_rate@0.4375": {
           "boundedValue": {
            "lowerBound": 0.0,
            "upperBound": 0.0,
            "value": 0.0
           }
          },
          "fairness_indicators_metrics/false_discovery_rate@0.4500": {
           "boundedValue": {
            "lowerBound": 0.0,
            "upperBound": 0.0,
            "value": 0.0
           }
          },
          "fairness_indicators_metrics/false_discovery_rate@0.4675": {
           "boundedValue": {
            "lowerBound": 0.0,
            "upperBound": 0.0,
            "value": 0.0
           }
          },
          "fairness_indicators_metrics/false_discovery_rate@0.4750": {
           "boundedValue": {
            "lowerBound": 0.0,
            "upperBound": 0.0,
            "value": 0.0
           }
          },
          "fairness_indicators_metrics/false_discovery_rate@0.4875": {
           "boundedValue": {
            "lowerBound": "NaN",
            "upperBound": "NaN",
            "value": 0.0
           }
          },
          "fairness_indicators_metrics/false_discovery_rate@0.5000": {
           "boundedValue": {
            "lowerBound": "NaN",
            "upperBound": "NaN",
            "value": 0.0
           }
          },
          "fairness_indicators_metrics/false_negative_rate@0.4000": {
           "boundedValue": {
            "lowerBound": 0.7810141299434014,
            "upperBound": 1.0120891639529959,
            "value": 0.896551724137931
           }
          },
          "fairness_indicators_metrics/false_negative_rate@0.4125": {
           "boundedValue": {
            "lowerBound": 0.7810141299434014,
            "upperBound": 1.0120891639529959,
            "value": 0.896551724137931
           }
          },
          "fairness_indicators_metrics/false_negative_rate@0.4250": {
           "boundedValue": {
            "lowerBound": 0.8327570138095894,
            "upperBound": 1.029359332168826,
            "value": 0.9310344827586207
           }
          },
          "fairness_indicators_metrics/false_negative_rate@0.4375": {
           "boundedValue": {
            "lowerBound": 0.8327570138095894,
            "upperBound": 1.029359332168826,
            "value": 0.9310344827586207
           }
          },
          "fairness_indicators_metrics/false_negative_rate@0.4500": {
           "boundedValue": {
            "lowerBound": 0.8327570138095894,
            "upperBound": 1.029359332168826,
            "value": 0.9310344827586207
           }
          },
          "fairness_indicators_metrics/false_negative_rate@0.4675": {
           "boundedValue": {
            "lowerBound": 0.8327570138095894,
            "upperBound": 1.029359332168826,
            "value": 0.9310344827586207
           }
          },
          "fairness_indicators_metrics/false_negative_rate@0.4750": {
           "boundedValue": {
            "lowerBound": 0.8327570138095894,
            "upperBound": 1.029359332168826,
            "value": 0.9310344827586207
           }
          },
          "fairness_indicators_metrics/false_negative_rate@0.4875": {
           "boundedValue": {
            "lowerBound": 0.8923353863326859,
            "upperBound": 1.0387940117277463,
            "value": 0.9655172413793104
           }
          },
          "fairness_indicators_metrics/false_negative_rate@0.5000": {
           "boundedValue": {
            "lowerBound": 0.8923353863326859,
            "upperBound": 1.0387940117277463,
            "value": 0.9655172413793104
           }
          },
          "fairness_indicators_metrics/false_omission_rate@0.4000": {
           "boundedValue": {
            "lowerBound": 0.06739018483315432,
            "upperBound": 0.14928168148684948,
            "value": 0.10833333333333334
           }
          },
          "fairness_indicators_metrics/false_omission_rate@0.4125": {
           "boundedValue": {
            "lowerBound": 0.06739018483315432,
            "upperBound": 0.14928168148684948,
            "value": 0.10833333333333334
           }
          },
          "fairness_indicators_metrics/false_omission_rate@0.4250": {
           "boundedValue": {
            "lowerBound": 0.0702972555828076,
            "upperBound": 0.15378020078940863,
            "value": 0.11203319502074689
           }
          },
          "fairness_indicators_metrics/false_omission_rate@0.4375": {
           "boundedValue": {
            "lowerBound": 0.0702972555828076,
            "upperBound": 0.15378020078940863,
            "value": 0.11203319502074689
           }
          },
          "fairness_indicators_metrics/false_omission_rate@0.4500": {
           "boundedValue": {
            "lowerBound": 0.0702972555828076,
            "upperBound": 0.15378020078940863,
            "value": 0.11203319502074689
           }
          },
          "fairness_indicators_metrics/false_omission_rate@0.4675": {
           "boundedValue": {
            "lowerBound": 0.0702972555828076,
            "upperBound": 0.15378020078940863,
            "value": 0.11203319502074689
           }
          },
          "fairness_indicators_metrics/false_omission_rate@0.4750": {
           "boundedValue": {
            "lowerBound": 0.0702972555828076,
            "upperBound": 0.15378020078940863,
            "value": 0.11203319502074689
           }
          },
          "fairness_indicators_metrics/false_omission_rate@0.4875": {
           "boundedValue": {
            "lowerBound": 0.07378100793788722,
            "upperBound": 0.15763653865570687,
            "value": 0.11570247933884298
           }
          },
          "fairness_indicators_metrics/false_omission_rate@0.5000": {
           "boundedValue": {
            "lowerBound": 0.07378100793788722,
            "upperBound": 0.15763653865570687,
            "value": 0.11570247933884298
           }
          },
          "fairness_indicators_metrics/false_positive_rate@0.4000": {
           "boundedValue": {
            "lowerBound": 0.0,
            "upperBound": 0.0,
            "value": 0.0
           }
          },
          "fairness_indicators_metrics/false_positive_rate@0.4125": {
           "boundedValue": {
            "lowerBound": 0.0,
            "upperBound": 0.0,
            "value": 0.0
           }
          },
          "fairness_indicators_metrics/false_positive_rate@0.4250": {
           "boundedValue": {
            "lowerBound": 0.0,
            "upperBound": 0.0,
            "value": 0.0
           }
          },
          "fairness_indicators_metrics/false_positive_rate@0.4375": {
           "boundedValue": {
            "lowerBound": 0.0,
            "upperBound": 0.0,
            "value": 0.0
           }
          },
          "fairness_indicators_metrics/false_positive_rate@0.4500": {
           "boundedValue": {
            "lowerBound": 0.0,
            "upperBound": 0.0,
            "value": 0.0
           }
          },
          "fairness_indicators_metrics/false_positive_rate@0.4675": {
           "boundedValue": {
            "lowerBound": 0.0,
            "upperBound": 0.0,
            "value": 0.0
           }
          },
          "fairness_indicators_metrics/false_positive_rate@0.4750": {
           "boundedValue": {
            "lowerBound": 0.0,
            "upperBound": 0.0,
            "value": 0.0
           }
          },
          "fairness_indicators_metrics/false_positive_rate@0.4875": {
           "boundedValue": {
            "lowerBound": 0.0,
            "upperBound": 0.0,
            "value": 0.0
           }
          },
          "fairness_indicators_metrics/false_positive_rate@0.5000": {
           "boundedValue": {
            "lowerBound": 0.0,
            "upperBound": 0.0,
            "value": 0.0
           }
          },
          "fairness_indicators_metrics/negative_rate@0.4000": {
           "boundedValue": {
            "lowerBound": 0.9738598909747175,
            "upperBound": 1.0014580800831885,
            "value": 0.9876543209876543
           }
          },
          "fairness_indicators_metrics/negative_rate@0.4125": {
           "boundedValue": {
            "lowerBound": 0.9738598909747175,
            "upperBound": 1.0014580800831885,
            "value": 0.9876543209876543
           }
          },
          "fairness_indicators_metrics/negative_rate@0.4250": {
           "boundedValue": {
            "lowerBound": 0.9802193578244819,
            "upperBound": 1.0033361856361163,
            "value": 0.9917695473251029
           }
          },
          "fairness_indicators_metrics/negative_rate@0.4375": {
           "boundedValue": {
            "lowerBound": 0.9802193578244819,
            "upperBound": 1.0033361856361163,
            "value": 0.9917695473251029
           }
          },
          "fairness_indicators_metrics/negative_rate@0.4500": {
           "boundedValue": {
            "lowerBound": 0.9802193578244819,
            "upperBound": 1.0033361856361163,
            "value": 0.9917695473251029
           }
          },
          "fairness_indicators_metrics/negative_rate@0.4675": {
           "boundedValue": {
            "lowerBound": 0.9802193578244819,
            "upperBound": 1.0033361856361163,
            "value": 0.9917695473251029
           }
          },
          "fairness_indicators_metrics/negative_rate@0.4750": {
           "boundedValue": {
            "lowerBound": 0.9802193578244819,
            "upperBound": 1.0033361856361163,
            "value": 0.9917695473251029
           }
          },
          "fairness_indicators_metrics/negative_rate@0.4875": {
           "boundedValue": {
            "lowerBound": 0.9872949440585536,
            "upperBound": 1.0044926217991867,
            "value": 0.9958847736625515
           }
          },
          "fairness_indicators_metrics/negative_rate@0.5000": {
           "boundedValue": {
            "lowerBound": 0.9872949440585536,
            "upperBound": 1.0044926217991867,
            "value": 0.9958847736625515
           }
          },
          "fairness_indicators_metrics/positive_rate@0.4000": {
           "boundedValue": {
            "lowerBound": -0.0014580800831880455,
            "upperBound": 0.026140109025282368,
            "value": 0.012345679012345678
           }
          },
          "fairness_indicators_metrics/positive_rate@0.4125": {
           "boundedValue": {
            "lowerBound": -0.0014580800831880455,
            "upperBound": 0.026140109025282368,
            "value": 0.012345679012345678
           }
          },
          "fairness_indicators_metrics/positive_rate@0.4250": {
           "boundedValue": {
            "lowerBound": -0.00333618563611612,
            "upperBound": 0.019780642175518212,
            "value": 0.00823045267489712
           }
          },
          "fairness_indicators_metrics/positive_rate@0.4375": {
           "boundedValue": {
            "lowerBound": -0.00333618563611612,
            "upperBound": 0.019780642175518212,
            "value": 0.00823045267489712
           }
          },
          "fairness_indicators_metrics/positive_rate@0.4500": {
           "boundedValue": {
            "lowerBound": -0.00333618563611612,
            "upperBound": 0.019780642175518212,
            "value": 0.00823045267489712
           }
          },
          "fairness_indicators_metrics/positive_rate@0.4675": {
           "boundedValue": {
            "lowerBound": -0.00333618563611612,
            "upperBound": 0.019780642175518212,
            "value": 0.00823045267489712
           }
          },
          "fairness_indicators_metrics/positive_rate@0.4750": {
           "boundedValue": {
            "lowerBound": -0.00333618563611612,
            "upperBound": 0.019780642175518212,
            "value": 0.00823045267489712
           }
          },
          "fairness_indicators_metrics/positive_rate@0.4875": {
           "boundedValue": {
            "lowerBound": -0.0044926217991868266,
            "upperBound": 0.012705055941446684,
            "value": 0.00411522633744856
           }
          },
          "fairness_indicators_metrics/positive_rate@0.5000": {
           "boundedValue": {
            "lowerBound": -0.0044926217991868266,
            "upperBound": 0.012705055941446684,
            "value": 0.00411522633744856
           }
          },
          "fairness_indicators_metrics/true_negative_rate@0.4000": {
           "boundedValue": {
            "lowerBound": 1.0,
            "upperBound": 1.0,
            "value": 1.0
           }
          },
          "fairness_indicators_metrics/true_negative_rate@0.4125": {
           "boundedValue": {
            "lowerBound": 1.0,
            "upperBound": 1.0,
            "value": 1.0
           }
          },
          "fairness_indicators_metrics/true_negative_rate@0.4250": {
           "boundedValue": {
            "lowerBound": 1.0,
            "upperBound": 1.0,
            "value": 1.0
           }
          },
          "fairness_indicators_metrics/true_negative_rate@0.4375": {
           "boundedValue": {
            "lowerBound": 1.0,
            "upperBound": 1.0,
            "value": 1.0
           }
          },
          "fairness_indicators_metrics/true_negative_rate@0.4500": {
           "boundedValue": {
            "lowerBound": 1.0,
            "upperBound": 1.0,
            "value": 1.0
           }
          },
          "fairness_indicators_metrics/true_negative_rate@0.4675": {
           "boundedValue": {
            "lowerBound": 1.0,
            "upperBound": 1.0,
            "value": 1.0
           }
          },
          "fairness_indicators_metrics/true_negative_rate@0.4750": {
           "boundedValue": {
            "lowerBound": 1.0,
            "upperBound": 1.0,
            "value": 1.0
           }
          },
          "fairness_indicators_metrics/true_negative_rate@0.4875": {
           "boundedValue": {
            "lowerBound": 1.0,
            "upperBound": 1.0,
            "value": 1.0
           }
          },
          "fairness_indicators_metrics/true_negative_rate@0.5000": {
           "boundedValue": {
            "lowerBound": 1.0,
            "upperBound": 1.0,
            "value": 1.0
           }
          },
          "fairness_indicators_metrics/true_positive_rate@0.4000": {
           "boundedValue": {
            "lowerBound": -0.01208916395299596,
            "upperBound": 0.21898587005659864,
            "value": 0.10344827586206896
           }
          },
          "fairness_indicators_metrics/true_positive_rate@0.4125": {
           "boundedValue": {
            "lowerBound": -0.01208916395299596,
            "upperBound": 0.21898587005659864,
            "value": 0.10344827586206896
           }
          },
          "fairness_indicators_metrics/true_positive_rate@0.4250": {
           "boundedValue": {
            "lowerBound": -0.029359332168825705,
            "upperBound": 0.16724298619041073,
            "value": 0.06896551724137931
           }
          },
          "fairness_indicators_metrics/true_positive_rate@0.4375": {
           "boundedValue": {
            "lowerBound": -0.029359332168825705,
            "upperBound": 0.16724298619041073,
            "value": 0.06896551724137931
           }
          },
          "fairness_indicators_metrics/true_positive_rate@0.4500": {
           "boundedValue": {
            "lowerBound": -0.029359332168825705,
            "upperBound": 0.16724298619041073,
            "value": 0.06896551724137931
           }
          },
          "fairness_indicators_metrics/true_positive_rate@0.4675": {
           "boundedValue": {
            "lowerBound": -0.029359332168825705,
            "upperBound": 0.16724298619041073,
            "value": 0.06896551724137931
           }
          },
          "fairness_indicators_metrics/true_positive_rate@0.4750": {
           "boundedValue": {
            "lowerBound": -0.029359332168825705,
            "upperBound": 0.16724298619041073,
            "value": 0.06896551724137931
           }
          },
          "fairness_indicators_metrics/true_positive_rate@0.4875": {
           "boundedValue": {
            "lowerBound": -0.03879401172774633,
            "upperBound": 0.10766461366731378,
            "value": 0.034482758620689655
           }
          },
          "fairness_indicators_metrics/true_positive_rate@0.5000": {
           "boundedValue": {
            "lowerBound": -0.03879401172774633,
            "upperBound": 0.10766461366731378,
            "value": 0.034482758620689655
           }
          }
         },
         "slice": "religion:buddhist",
         "sliceValue": "buddhist"
        },
        {
         "metrics": {
          "accuracy": {
           "boundedValue": {
            "lowerBound": 0.0,
            "upperBound": 0.0,
            "value": 0.0
           }
          },
          "auc": {
           "boundedValue": {
            "lowerBound": 0.5533353880335222,
            "upperBound": 0.8031179543287,
            "value": 0.6780956112852664
           }
          },
          "example_count": {
           "doubleValue": 138.0
          },
          "fairness_indicators_metrics/false_discovery_rate@0.4000": {
           "boundedValue": {
            "lowerBound": 0.0,
            "upperBound": 0.0,
            "value": 0.0
           }
          },
          "fairness_indicators_metrics/false_discovery_rate@0.4125": {
           "boundedValue": {
            "lowerBound": 0.0,
            "upperBound": 0.0,
            "value": 0.0
           }
          },
          "fairness_indicators_metrics/false_discovery_rate@0.4250": {
           "boundedValue": {
            "lowerBound": 0.0,
            "upperBound": 0.0,
            "value": 0.0
           }
          },
          "fairness_indicators_metrics/false_discovery_rate@0.4375": {
           "boundedValue": {
            "lowerBound": 0.0,
            "upperBound": 0.0,
            "value": 0.0
           }
          },
          "fairness_indicators_metrics/false_discovery_rate@0.4500": {
           "boundedValue": {
            "lowerBound": 0.0,
            "upperBound": 0.0,
            "value": 0.0
           }
          },
          "fairness_indicators_metrics/false_discovery_rate@0.4675": {
           "boundedValue": {
            "lowerBound": 0.0,
            "upperBound": 0.0,
            "value": 0.0
           }
          },
          "fairness_indicators_metrics/false_discovery_rate@0.4750": {
           "boundedValue": {
            "lowerBound": 0.0,
            "upperBound": 0.0,
            "value": 0.0
           }
          },
          "fairness_indicators_metrics/false_discovery_rate@0.4875": {
           "boundedValue": {
            "lowerBound": 0.0,
            "upperBound": 0.0,
            "value": 0.0
           }
          },
          "fairness_indicators_metrics/false_discovery_rate@0.5000": {
           "boundedValue": {
            "lowerBound": 0.0,
            "upperBound": 0.0,
            "value": 0.0
           }
          },
          "fairness_indicators_metrics/false_negative_rate@0.4000": {
           "boundedValue": {
            "lowerBound": 0.7765176276445449,
            "upperBound": 1.0415559654290483,
            "value": 0.9090909090909091
           }
          },
          "fairness_indicators_metrics/false_negative_rate@0.4125": {
           "boundedValue": {
            "lowerBound": 0.7765176276445449,
            "upperBound": 1.0415559654290483,
            "value": 0.9090909090909091
           }
          },
          "fairness_indicators_metrics/false_negative_rate@0.4250": {
           "boundedValue": {
            "lowerBound": 0.7765176276445449,
            "upperBound": 1.0415559654290483,
            "value": 0.9090909090909091
           }
          },
          "fairness_indicators_metrics/false_negative_rate@0.4375": {
           "boundedValue": {
            "lowerBound": 0.7765176276445449,
            "upperBound": 1.0415559654290483,
            "value": 0.9090909090909091
           }
          },
          "fairness_indicators_metrics/false_negative_rate@0.4500": {
           "boundedValue": {
            "lowerBound": 0.7765176276445449,
            "upperBound": 1.0415559654290483,
            "value": 0.9090909090909091
           }
          },
          "fairness_indicators_metrics/false_negative_rate@0.4675": {
           "boundedValue": {
            "lowerBound": 0.7765176276445449,
            "upperBound": 1.0415559654290483,
            "value": 0.9090909090909091
           }
          },
          "fairness_indicators_metrics/false_negative_rate@0.4750": {
           "boundedValue": {
            "lowerBound": 0.7765176276445449,
            "upperBound": 1.0415559654290483,
            "value": 0.9090909090909091
           }
          },
          "fairness_indicators_metrics/false_negative_rate@0.4875": {
           "boundedValue": {
            "lowerBound": 0.7765176276445449,
            "upperBound": 1.0415559654290483,
            "value": 0.9090909090909091
           }
          },
          "fairness_indicators_metrics/false_negative_rate@0.5000": {
           "boundedValue": {
            "lowerBound": 0.7765176276445449,
            "upperBound": 1.0415559654290483,
            "value": 0.9090909090909091
           }
          },
          "fairness_indicators_metrics/false_omission_rate@0.4000": {
           "boundedValue": {
            "lowerBound": 0.09359912820091881,
            "upperBound": 0.20052570814693366,
            "value": 0.14705882352941177
           }
          },
          "fairness_indicators_metrics/false_omission_rate@0.4125": {
           "boundedValue": {
            "lowerBound": 0.09359912820091881,
            "upperBound": 0.20052570814693366,
            "value": 0.14705882352941177
           }
          },
          "fairness_indicators_metrics/false_omission_rate@0.4250": {
           "boundedValue": {
            "lowerBound": 0.09359912820091881,
            "upperBound": 0.20052570814693366,
            "value": 0.14705882352941177
           }
          },
          "fairness_indicators_metrics/false_omission_rate@0.4375": {
           "boundedValue": {
            "lowerBound": 0.09359912820091881,
            "upperBound": 0.20052570814693366,
            "value": 0.14705882352941177
           }
          },
          "fairness_indicators_metrics/false_omission_rate@0.4500": {
           "boundedValue": {
            "lowerBound": 0.09359912820091881,
            "upperBound": 0.20052570814693366,
            "value": 0.14705882352941177
           }
          },
          "fairness_indicators_metrics/false_omission_rate@0.4675": {
           "boundedValue": {
            "lowerBound": 0.09359912820091881,
            "upperBound": 0.20052570814693366,
            "value": 0.14705882352941177
           }
          },
          "fairness_indicators_metrics/false_omission_rate@0.4750": {
           "boundedValue": {
            "lowerBound": 0.09359912820091881,
            "upperBound": 0.20052570814693366,
            "value": 0.14705882352941177
           }
          },
          "fairness_indicators_metrics/false_omission_rate@0.4875": {
           "boundedValue": {
            "lowerBound": 0.09359912820091881,
            "upperBound": 0.20052570814693366,
            "value": 0.14705882352941177
           }
          },
          "fairness_indicators_metrics/false_omission_rate@0.5000": {
           "boundedValue": {
            "lowerBound": 0.09359912820091881,
            "upperBound": 0.20052570814693366,
            "value": 0.14705882352941177
           }
          },
          "fairness_indicators_metrics/false_positive_rate@0.4000": {
           "boundedValue": {
            "lowerBound": 0.0,
            "upperBound": 0.0,
            "value": 0.0
           }
          },
          "fairness_indicators_metrics/false_positive_rate@0.4125": {
           "boundedValue": {
            "lowerBound": 0.0,
            "upperBound": 0.0,
            "value": 0.0
           }
          },
          "fairness_indicators_metrics/false_positive_rate@0.4250": {
           "boundedValue": {
            "lowerBound": 0.0,
            "upperBound": 0.0,
            "value": 0.0
           }
          },
          "fairness_indicators_metrics/false_positive_rate@0.4375": {
           "boundedValue": {
            "lowerBound": 0.0,
            "upperBound": 0.0,
            "value": 0.0
           }
          },
          "fairness_indicators_metrics/false_positive_rate@0.4500": {
           "boundedValue": {
            "lowerBound": 0.0,
            "upperBound": 0.0,
            "value": 0.0
           }
          },
          "fairness_indicators_metrics/false_positive_rate@0.4675": {
           "boundedValue": {
            "lowerBound": 0.0,
            "upperBound": 0.0,
            "value": 0.0
           }
          },
          "fairness_indicators_metrics/false_positive_rate@0.4750": {
           "boundedValue": {
            "lowerBound": 0.0,
            "upperBound": 0.0,
            "value": 0.0
           }
          },
          "fairness_indicators_metrics/false_positive_rate@0.4875": {
           "boundedValue": {
            "lowerBound": 0.0,
            "upperBound": 0.0,
            "value": 0.0
           }
          },
          "fairness_indicators_metrics/false_positive_rate@0.5000": {
           "boundedValue": {
            "lowerBound": 0.0,
            "upperBound": 0.0,
            "value": 0.0
           }
          },
          "fairness_indicators_metrics/negative_rate@0.4000": {
           "boundedValue": {
            "lowerBound": 0.9644499456555962,
            "upperBound": 1.0065541811357133,
            "value": 0.9855072463768116
           }
          },
          "fairness_indicators_metrics/negative_rate@0.4125": {
           "boundedValue": {
            "lowerBound": 0.9644499456555962,
            "upperBound": 1.0065541811357133,
            "value": 0.9855072463768116
           }
          },
          "fairness_indicators_metrics/negative_rate@0.4250": {
           "boundedValue": {
            "lowerBound": 0.9644499456555962,
            "upperBound": 1.0065541811357133,
            "value": 0.9855072463768116
           }
          },
          "fairness_indicators_metrics/negative_rate@0.4375": {
           "boundedValue": {
            "lowerBound": 0.9644499456555962,
            "upperBound": 1.0065541811357133,
            "value": 0.9855072463768116
           }
          },
          "fairness_indicators_metrics/negative_rate@0.4500": {
           "boundedValue": {
            "lowerBound": 0.9644499456555962,
            "upperBound": 1.0065541811357133,
            "value": 0.9855072463768116
           }
          },
          "fairness_indicators_metrics/negative_rate@0.4675": {
           "boundedValue": {
            "lowerBound": 0.9644499456555962,
            "upperBound": 1.0065541811357133,
            "value": 0.9855072463768116
           }
          },
          "fairness_indicators_metrics/negative_rate@0.4750": {
           "boundedValue": {
            "lowerBound": 0.9644499456555962,
            "upperBound": 1.0065541811357133,
            "value": 0.9855072463768116
           }
          },
          "fairness_indicators_metrics/negative_rate@0.4875": {
           "boundedValue": {
            "lowerBound": 0.9644499456555962,
            "upperBound": 1.0065541811357133,
            "value": 0.9855072463768116
           }
          },
          "fairness_indicators_metrics/negative_rate@0.5000": {
           "boundedValue": {
            "lowerBound": 0.9644499456555962,
            "upperBound": 1.0065541811357133,
            "value": 0.9855072463768116
           }
          },
          "fairness_indicators_metrics/positive_rate@0.4000": {
           "boundedValue": {
            "lowerBound": -0.006554181135713275,
            "upperBound": 0.03555005434440347,
            "value": 0.014492753623188406
           }
          },
          "fairness_indicators_metrics/positive_rate@0.4125": {
           "boundedValue": {
            "lowerBound": -0.006554181135713275,
            "upperBound": 0.03555005434440347,
            "value": 0.014492753623188406
           }
          },
          "fairness_indicators_metrics/positive_rate@0.4250": {
           "boundedValue": {
            "lowerBound": -0.006554181135713275,
            "upperBound": 0.03555005434440347,
            "value": 0.014492753623188406
           }
          },
          "fairness_indicators_metrics/positive_rate@0.4375": {
           "boundedValue": {
            "lowerBound": -0.006554181135713275,
            "upperBound": 0.03555005434440347,
            "value": 0.014492753623188406
           }
          },
          "fairness_indicators_metrics/positive_rate@0.4500": {
           "boundedValue": {
            "lowerBound": -0.006554181135713275,
            "upperBound": 0.03555005434440347,
            "value": 0.014492753623188406
           }
          },
          "fairness_indicators_metrics/positive_rate@0.4675": {
           "boundedValue": {
            "lowerBound": -0.006554181135713275,
            "upperBound": 0.03555005434440347,
            "value": 0.014492753623188406
           }
          },
          "fairness_indicators_metrics/positive_rate@0.4750": {
           "boundedValue": {
            "lowerBound": -0.006554181135713275,
            "upperBound": 0.03555005434440347,
            "value": 0.014492753623188406
           }
          },
          "fairness_indicators_metrics/positive_rate@0.4875": {
           "boundedValue": {
            "lowerBound": -0.006554181135713275,
            "upperBound": 0.03555005434440347,
            "value": 0.014492753623188406
           }
          },
          "fairness_indicators_metrics/positive_rate@0.5000": {
           "boundedValue": {
            "lowerBound": -0.006554181135713275,
            "upperBound": 0.03555005434440347,
            "value": 0.014492753623188406
           }
          },
          "fairness_indicators_metrics/true_negative_rate@0.4000": {
           "boundedValue": {
            "lowerBound": 1.0,
            "upperBound": 1.0,
            "value": 1.0
           }
          },
          "fairness_indicators_metrics/true_negative_rate@0.4125": {
           "boundedValue": {
            "lowerBound": 1.0,
            "upperBound": 1.0,
            "value": 1.0
           }
          },
          "fairness_indicators_metrics/true_negative_rate@0.4250": {
           "boundedValue": {
            "lowerBound": 1.0,
            "upperBound": 1.0,
            "value": 1.0
           }
          },
          "fairness_indicators_metrics/true_negative_rate@0.4375": {
           "boundedValue": {
            "lowerBound": 1.0,
            "upperBound": 1.0,
            "value": 1.0
           }
          },
          "fairness_indicators_metrics/true_negative_rate@0.4500": {
           "boundedValue": {
            "lowerBound": 1.0,
            "upperBound": 1.0,
            "value": 1.0
           }
          },
          "fairness_indicators_metrics/true_negative_rate@0.4675": {
           "boundedValue": {
            "lowerBound": 1.0,
            "upperBound": 1.0,
            "value": 1.0
           }
          },
          "fairness_indicators_metrics/true_negative_rate@0.4750": {
           "boundedValue": {
            "lowerBound": 1.0,
            "upperBound": 1.0,
            "value": 1.0
           }
          },
          "fairness_indicators_metrics/true_negative_rate@0.4875": {
           "boundedValue": {
            "lowerBound": 1.0,
            "upperBound": 1.0,
            "value": 1.0
           }
          },
          "fairness_indicators_metrics/true_negative_rate@0.5000": {
           "boundedValue": {
            "lowerBound": 1.0,
            "upperBound": 1.0,
            "value": 1.0
           }
          },
          "fairness_indicators_metrics/true_positive_rate@0.4000": {
           "boundedValue": {
            "lowerBound": -0.04155596542904828,
            "upperBound": 0.22348237235545526,
            "value": 0.09090909090909091
           }
          },
          "fairness_indicators_metrics/true_positive_rate@0.4125": {
           "boundedValue": {
            "lowerBound": -0.04155596542904828,
            "upperBound": 0.22348237235545526,
            "value": 0.09090909090909091
           }
          },
          "fairness_indicators_metrics/true_positive_rate@0.4250": {
           "boundedValue": {
            "lowerBound": -0.04155596542904828,
            "upperBound": 0.22348237235545526,
            "value": 0.09090909090909091
           }
          },
          "fairness_indicators_metrics/true_positive_rate@0.4375": {
           "boundedValue": {
            "lowerBound": -0.04155596542904828,
            "upperBound": 0.22348237235545526,
            "value": 0.09090909090909091
           }
          },
          "fairness_indicators_metrics/true_positive_rate@0.4500": {
           "boundedValue": {
            "lowerBound": -0.04155596542904828,
            "upperBound": 0.22348237235545526,
            "value": 0.09090909090909091
           }
          },
          "fairness_indicators_metrics/true_positive_rate@0.4675": {
           "boundedValue": {
            "lowerBound": -0.04155596542904828,
            "upperBound": 0.22348237235545526,
            "value": 0.09090909090909091
           }
          },
          "fairness_indicators_metrics/true_positive_rate@0.4750": {
           "boundedValue": {
            "lowerBound": -0.04155596542904828,
            "upperBound": 0.22348237235545526,
            "value": 0.09090909090909091
           }
          },
          "fairness_indicators_metrics/true_positive_rate@0.4875": {
           "boundedValue": {
            "lowerBound": -0.04155596542904828,
            "upperBound": 0.22348237235545526,
            "value": 0.09090909090909091
           }
          },
          "fairness_indicators_metrics/true_positive_rate@0.5000": {
           "boundedValue": {
            "lowerBound": -0.04155596542904828,
            "upperBound": 0.22348237235545526,
            "value": 0.09090909090909091
           }
          }
         },
         "slice": "religion:other_religion",
         "sliceValue": "other_religion"
        }
       ],
       "slicingMetricsCompare": []
      }
     },
     "1078ae512a034439b042fd8518001f12": {
      "model_module": "@jupyter-widgets/base",
      "model_module_version": "1.2.0",
      "model_name": "LayoutModel",
      "state": {
       "_model_module": "@jupyter-widgets/base",
       "_model_module_version": "1.2.0",
       "_model_name": "LayoutModel",
       "_view_count": null,
       "_view_module": "@jupyter-widgets/base",
       "_view_module_version": "1.2.0",
       "_view_name": "LayoutView",
       "align_content": null,
       "align_items": null,
       "align_self": null,
       "border": null,
       "bottom": null,
       "display": null,
       "flex": null,
       "flex_flow": null,
       "grid_area": null,
       "grid_auto_columns": null,
       "grid_auto_flow": null,
       "grid_auto_rows": null,
       "grid_column": null,
       "grid_gap": null,
       "grid_row": null,
       "grid_template_areas": null,
       "grid_template_columns": null,
       "grid_template_rows": null,
       "height": null,
       "justify_content": null,
       "justify_items": null,
       "left": null,
       "margin": null,
       "max_height": null,
       "max_width": null,
       "min_height": null,
       "min_width": null,
       "object_fit": null,
       "object_position": null,
       "order": null,
       "overflow": null,
       "overflow_x": null,
       "overflow_y": null,
       "padding": null,
       "right": null,
       "top": null,
       "visibility": null,
       "width": null
      }
     },
     "3b09cbc9651b45779541bcc1f6d28364": {
      "model_module": "@jupyter-widgets/base",
      "model_module_version": "1.2.0",
      "model_name": "LayoutModel",
      "state": {
       "_model_module": "@jupyter-widgets/base",
       "_model_module_version": "1.2.0",
       "_model_name": "LayoutModel",
       "_view_count": null,
       "_view_module": "@jupyter-widgets/base",
       "_view_module_version": "1.2.0",
       "_view_name": "LayoutView",
       "align_content": null,
       "align_items": null,
       "align_self": null,
       "border": null,
       "bottom": null,
       "display": null,
       "flex": null,
       "flex_flow": null,
       "grid_area": null,
       "grid_auto_columns": null,
       "grid_auto_flow": null,
       "grid_auto_rows": null,
       "grid_column": null,
       "grid_gap": null,
       "grid_row": null,
       "grid_template_areas": null,
       "grid_template_columns": null,
       "grid_template_rows": null,
       "height": null,
       "justify_content": null,
       "justify_items": null,
       "left": null,
       "margin": null,
       "max_height": null,
       "max_width": null,
       "min_height": null,
       "min_width": null,
       "object_fit": null,
       "object_position": null,
       "order": null,
       "overflow": null,
       "overflow_x": null,
       "overflow_y": null,
       "padding": null,
       "right": null,
       "top": null,
       "visibility": null,
       "width": null
      }
     },
     "83aa376f05584f2da1e9ebbbfbef5860": {
      "model_module": "tensorflow_model_analysis",
      "model_module_version": "0.38.0",
      "model_name": "FairnessIndicatorModel",
      "state": {
       "_dom_classes": [],
       "_model_module": "tensorflow_model_analysis",
       "_model_module_version": "0.38.0",
       "_model_name": "FairnessIndicatorModel",
       "_view_count": null,
       "_view_module": "tensorflow_model_analysis",
       "_view_module_version": "0.38.0",
       "_view_name": "FairnessIndicatorView",
       "evalName": "",
       "evalNameCompare": "",
       "js_events": [],
       "layout": "IPY_MODEL_3b09cbc9651b45779541bcc1f6d28364",
       "slicingMetrics": [
        {
         "metrics": {
          "accuracy": {
           "boundedValue": {
            "lowerBound": 0.0,
            "upperBound": 0.0,
            "value": 0.0
           }
          },
          "auc": {
           "boundedValue": {
            "lowerBound": 0.7914790513243848,
            "upperBound": 0.7957660852317825,
            "value": 0.7936225077166265
           }
          },
          "example_count": {
           "doubleValue": 721950.0
          },
          "fairness_indicators_metrics/false_discovery_rate@0.4000": {
           "boundedValue": {
            "lowerBound": 0.4960899621532178,
            "upperBound": 0.5090750596606247,
            "value": 0.50258242023459
           }
          },
          "fairness_indicators_metrics/false_discovery_rate@0.4125": {
           "boundedValue": {
            "lowerBound": 0.4864408621553773,
            "upperBound": 0.5001479519329555,
            "value": 0.4932941297843805
           }
          },
          "fairness_indicators_metrics/false_discovery_rate@0.4250": {
           "boundedValue": {
            "lowerBound": 0.47649406663056565,
            "upperBound": 0.49070689665689154,
            "value": 0.48360022087244614
           }
          },
          "fairness_indicators_metrics/false_discovery_rate@0.4375": {
           "boundedValue": {
            "lowerBound": 0.4658534201212443,
            "upperBound": 0.48003685921432027,
            "value": 0.47294494162271083
           }
          },
          "fairness_indicators_metrics/false_discovery_rate@0.4500": {
           "boundedValue": {
            "lowerBound": 0.4555601608417259,
            "upperBound": 0.47011368844195656,
            "value": 0.4628367619896822
           }
          },
          "fairness_indicators_metrics/false_discovery_rate@0.4675": {
           "boundedValue": {
            "lowerBound": 0.4416141163184962,
            "upperBound": 0.4579830828839038,
            "value": 0.44979834430057314
           }
          },
          "fairness_indicators_metrics/false_discovery_rate@0.4750": {
           "boundedValue": {
            "lowerBound": 0.436746089617017,
            "upperBound": 0.45405061459054274,
            "value": 0.44539804675939626
           }
          },
          "fairness_indicators_metrics/false_discovery_rate@0.4875": {
           "boundedValue": {
            "lowerBound": 0.4256436656887402,
            "upperBound": 0.4424491975045332,
            "value": 0.43404592240696754
           }
          },
          "fairness_indicators_metrics/false_discovery_rate@0.5000": {
           "boundedValue": {
            "lowerBound": 0.41359232574389726,
            "upperBound": 0.4313344536493845,
            "value": 0.422462648119526
           }
          },
          "fairness_indicators_metrics/false_negative_rate@0.4000": {
           "boundedValue": {
            "lowerBound": 0.81859762623028,
            "upperBound": 0.8254188825280621,
            "value": 0.8220084289070057
           }
          },
          "fairness_indicators_metrics/false_negative_rate@0.4125": {
           "boundedValue": {
            "lowerBound": 0.8267233670700486,
            "upperBound": 0.8339436681515177,
            "value": 0.8303337018101423
           }
          },
          "fairness_indicators_metrics/false_negative_rate@0.4250": {
           "boundedValue": {
            "lowerBound": 0.8348251646580223,
            "upperBound": 0.8421124048851105,
            "value": 0.8384689788586431
           }
          },
          "fairness_indicators_metrics/false_negative_rate@0.4375": {
           "boundedValue": {
            "lowerBound": 0.8431694533458962,
            "upperBound": 0.8496242037265589,
            "value": 0.8463969877020865
           }
          },
          "fairness_indicators_metrics/false_negative_rate@0.4500": {
           "boundedValue": {
            "lowerBound": 0.8514016638959294,
            "upperBound": 0.8572480892273915,
            "value": 0.85432499654553
           }
          },
          "fairness_indicators_metrics/false_negative_rate@0.4675": {
           "boundedValue": {
            "lowerBound": 0.8629896852646348,
            "upperBound": 0.8683906427475447,
            "value": 0.865690203122841
           }
          },
          "fairness_indicators_metrics/false_negative_rate@0.4750": {
           "boundedValue": {
            "lowerBound": 0.8677217310130467,
            "upperBound": 0.8733310943398374,
            "value": 0.8705264612408457
           }
          },
          "fairness_indicators_metrics/false_negative_rate@0.4875": {
           "boundedValue": {
            "lowerBound": 0.873745061235793,
            "upperBound": 0.879329340560029,
            "value": 0.8765372391875086
           }
          },
          "fairness_indicators_metrics/false_negative_rate@0.5000": {
           "boundedValue": {
            "lowerBound": 0.8808093381291889,
            "upperBound": 0.886842945290912,
            "value": 0.8838261710653585
           }
          },
          "fairness_indicators_metrics/false_omission_rate@0.4000": {
           "boundedValue": {
            "lowerBound": 0.06711881805587067,
            "upperBound": 0.06861637044988178,
            "value": 0.0678675989293145
           }
          },
          "fairness_indicators_metrics/false_omission_rate@0.4125": {
           "boundedValue": {
            "lowerBound": 0.06766520960180877,
            "upperBound": 0.06918494551160786,
            "value": 0.06842508298176393
           }
          },
          "fairness_indicators_metrics/false_omission_rate@0.4250": {
           "boundedValue": {
            "lowerBound": 0.06820001604753533,
            "upperBound": 0.0697404138631305,
            "value": 0.06897022050466015
           }
          },
          "fairness_indicators_metrics/false_omission_rate@0.4375": {
           "boundedValue": {
            "lowerBound": 0.06875351387181355,
            "upperBound": 0.07024689799031669,
            "value": 0.0695002106152945
           }
          },
          "fairness_indicators_metrics/false_omission_rate@0.4500": {
           "boundedValue": {
            "lowerBound": 0.0693146901388292,
            "upperBound": 0.070754880184201,
            "value": 0.07003478942979034
           }
          },
          "fairness_indicators_metrics/false_omission_rate@0.4675": {
           "boundedValue": {
            "lowerBound": 0.0701427046301778,
            "upperBound": 0.07147581314266968,
            "value": 0.07080926284618765
           }
          },
          "fairness_indicators_metrics/false_omission_rate@0.4750": {
           "boundedValue": {
            "lowerBound": 0.07046336541742358,
            "upperBound": 0.07182228772470418,
            "value": 0.0711428305247913
           }
          },
          "fairness_indicators_metrics/false_omission_rate@0.4875": {
           "boundedValue": {
            "lowerBound": 0.07086460442494351,
            "upperBound": 0.07222454451381198,
            "value": 0.07154457790559973
           }
          },
          "fairness_indicators_metrics/false_omission_rate@0.5000": {
           "boundedValue": {
            "lowerBound": 0.07135615802932525,
            "upperBound": 0.07272298990068297,
            "value": 0.07203957742037212
           }
          },
          "fairness_indicators_metrics/false_positive_rate@0.4000": {
           "boundedValue": {
            "lowerBound": 0.01543945419444646,
            "upperBound": 0.015919443807536963,
            "value": 0.0156794477557548
           }
          },
          "fairness_indicators_metrics/false_positive_rate@0.4125": {
           "boundedValue": {
            "lowerBound": 0.014205826412497128,
            "upperBound": 0.014596048993019653,
            "value": 0.014400937273173568
           }
          },
          "fairness_indicators_metrics/false_positive_rate@0.4250": {
           "boundedValue": {
            "lowerBound": 0.012981188842333876,
            "upperBound": 0.013396184859226353,
            "value": 0.01318868646224554
           }
          },
          "fairness_indicators_metrics/false_positive_rate@0.4375": {
           "boundedValue": {
            "lowerBound": 0.01182125977376421,
            "upperBound": 0.012212930831237395,
            "value": 0.012017094995286528
           }
          },
          "fairness_indicators_metrics/false_positive_rate@0.4500": {
           "boundedValue": {
            "lowerBound": 0.010750711192663189,
            "upperBound": 0.011136064269829873,
            "value": 0.010943387134178847
           }
          },
          "fairness_indicators_metrics/false_positive_rate@0.4675": {
           "boundedValue": {
            "lowerBound": 0.009383646474384659,
            "upperBound": 0.009762388753684344,
            "value": 0.009573016652260208
           }
          },
          "fairness_indicators_metrics/false_positive_rate@0.4750": {
           "boundedValue": {
            "lowerBound": 0.008879356497804962,
            "upperBound": 0.009251699776364197,
            "value": 0.009065527803461766
           }
          },
          "fairness_indicators_metrics/false_positive_rate@0.4875": {
           "boundedValue": {
            "lowerBound": 0.00809942902522026,
            "upperBound": 0.008411277079070854,
            "value": 0.00825535272733844
           }
          },
          "fairness_indicators_metrics/false_positive_rate@0.5000": {
           "boundedValue": {
            "lowerBound": 0.007254689425504793,
            "upperBound": 0.007563384497894407,
            "value": 0.007409036012131543
           }
          },
          "fairness_indicators_metrics/negative_rate@0.4000": {
           "boundedValue": {
            "lowerBound": 0.9710219948946843,
            "upperBound": 0.9715862147420817,
            "value": 0.971304106932613
           }
          },
          "fairness_indicators_metrics/negative_rate@0.4125": {
           "boundedValue": {
            "lowerBound": 0.9728911722661986,
            "upperBound": 0.9734042736623627,
            "value": 0.9731477249116974
           }
          },
          "fairness_indicators_metrics/negative_rate@0.4250": {
           "boundedValue": {
            "lowerBound": 0.9746302717453248,
            "upperBound": 0.9752000451772942,
            "value": 0.9749151603296627
           }
          },
          "fairness_indicators_metrics/negative_rate@0.4375": {
           "boundedValue": {
            "lowerBound": 0.9763778921742567,
            "upperBound": 0.9768792561804971,
            "value": 0.976628575386107
           }
          },
          "fairness_indicators_metrics/negative_rate@0.4500": {
           "boundedValue": {
            "lowerBound": 0.9780108568658656,
            "upperBound": 0.9784930534565417,
            "value": 0.9782519565066833
           }
          },
          "fairness_indicators_metrics/negative_rate@0.4675": {
           "boundedValue": {
            "lowerBound": 0.9801805441469443,
            "upperBound": 0.9806671562390542,
            "value": 0.9804238520673176
           }
          },
          "fairness_indicators_metrics/negative_rate@0.4750": {
           "boundedValue": {
            "lowerBound": 0.9810393201644623,
            "upperBound": 0.9815176413479609,
            "value": 0.9812784818893275
           }
          },
          "fairness_indicators_metrics/negative_rate@0.4875": {
           "boundedValue": {
            "lowerBound": 0.9822734616888319,
            "upperBound": 0.982737964634148,
            "value": 0.982505713692084
           }
          },
          "fairness_indicators_metrics/negative_rate@0.5000": {
           "boundedValue": {
            "lowerBound": 0.9836012455976362,
            "upperBound": 0.9841361302825007,
            "value": 0.98386868896738
           }
          },
          "fairness_indicators_metrics/positive_rate@0.4000": {
           "boundedValue": {
            "lowerBound": 0.028413785257917868,
            "upperBound": 0.02897800510531567,
            "value": 0.02869589306738694
           }
          },
          "fairness_indicators_metrics/positive_rate@0.4125": {
           "boundedValue": {
            "lowerBound": 0.02659572633763743,
            "upperBound": 0.027108827733801365,
            "value": 0.026852275088302513
           }
          },
          "fairness_indicators_metrics/positive_rate@0.4250": {
           "boundedValue": {
            "lowerBound": 0.024799954822705608,
            "upperBound": 0.02536972825467478,
            "value": 0.02508483967033728
           }
          },
          "fairness_indicators_metrics/positive_rate@0.4375": {
           "boundedValue": {
            "lowerBound": 0.023120743819503128,
            "upperBound": 0.023622107825743244,
            "value": 0.023371424613892928
           }
          },
          "fairness_indicators_metrics/positive_rate@0.4500": {
           "boundedValue": {
            "lowerBound": 0.021506946543458496,
            "upperBound": 0.021989143134134515,
            "value": 0.021748043493316712
           }
          },
          "fairness_indicators_metrics/positive_rate@0.4675": {
           "boundedValue": {
            "lowerBound": 0.019332843760945802,
            "upperBound": 0.019819455853055425,
            "value": 0.01957614793268232
           }
          },
          "fairness_indicators_metrics/positive_rate@0.4750": {
           "boundedValue": {
            "lowerBound": 0.018482358652039052,
            "upperBound": 0.018960679835537703,
            "value": 0.018721518110672485
           }
          },
          "fairness_indicators_metrics/positive_rate@0.4875": {
           "boundedValue": {
            "lowerBound": 0.017262035365851688,
            "upperBound": 0.017726538311168206,
            "value": 0.017494286307916062
           }
          },
          "fairness_indicators_metrics/positive_rate@0.5000": {
           "boundedValue": {
            "lowerBound": 0.015863869717499608,
            "upperBound": 0.016398754402363793,
            "value": 0.01613131103261999
           }
          },
          "fairness_indicators_metrics/true_negative_rate@0.4000": {
           "boundedValue": {
            "lowerBound": 0.984080556192463,
            "upperBound": 0.9845605458055535,
            "value": 0.9843205522442452
           }
          },
          "fairness_indicators_metrics/true_negative_rate@0.4125": {
           "boundedValue": {
            "lowerBound": 0.9854039510069803,
            "upperBound": 0.9857941735875027,
            "value": 0.9855990627268264
           }
          },
          "fairness_indicators_metrics/true_negative_rate@0.4250": {
           "boundedValue": {
            "lowerBound": 0.9866038151407736,
            "upperBound": 0.987018811157666,
            "value": 0.9868113135377544
           }
          },
          "fairness_indicators_metrics/true_negative_rate@0.4375": {
           "boundedValue": {
            "lowerBound": 0.9877870691687626,
            "upperBound": 0.9881787402262358,
            "value": 0.9879829050047134
           }
          },
          "fairness_indicators_metrics/true_negative_rate@0.4500": {
           "boundedValue": {
            "lowerBound": 0.9888639357301703,
            "upperBound": 0.9892492888073365,
            "value": 0.9890566128658211
           }
          },
          "fairness_indicators_metrics/true_negative_rate@0.4675": {
           "boundedValue": {
            "lowerBound": 0.9902376112463157,
            "upperBound": 0.9906163535256157,
            "value": 0.9904269833477398
           }
          },
          "fairness_indicators_metrics/true_negative_rate@0.4750": {
           "boundedValue": {
            "lowerBound": 0.9907483002236361,
            "upperBound": 0.9911206435021953,
            "value": 0.9909344721965382
           }
          },
          "fairness_indicators_metrics/true_negative_rate@0.4875": {
           "boundedValue": {
            "lowerBound": 0.991588722920929,
            "upperBound": 0.9919005709747799,
            "value": 0.9917446472726615
           }
          },
          "fairness_indicators_metrics/true_negative_rate@0.5000": {
           "boundedValue": {
            "lowerBound": 0.9924366155021055,
            "upperBound": 0.9927453105744951,
            "value": 0.9925909639878685
           }
          },
          "fairness_indicators_metrics/true_positive_rate@0.4000": {
           "boundedValue": {
            "lowerBound": 0.1745811174719378,
            "upperBound": 0.18140237376972004,
            "value": 0.17799157109299432
           }
          },
          "fairness_indicators_metrics/true_positive_rate@0.4125": {
           "boundedValue": {
            "lowerBound": 0.1660563318484823,
            "upperBound": 0.17327663292995135,
            "value": 0.16966629818985768
           }
          },
          "fairness_indicators_metrics/true_positive_rate@0.4250": {
           "boundedValue": {
            "lowerBound": 0.15788759511488934,
            "upperBound": 0.1651748353419776,
            "value": 0.16153102114135692
           }
          },
          "fairness_indicators_metrics/true_positive_rate@0.4375": {
           "boundedValue": {
            "lowerBound": 0.15037579627344133,
            "upperBound": 0.1568305466541038,
            "value": 0.1536030122979135
           }
          },
          "fairness_indicators_metrics/true_positive_rate@0.4500": {
           "boundedValue": {
            "lowerBound": 0.14275191077260832,
            "upperBound": 0.14859833610407067,
            "value": 0.1456750034544701
           }
          },
          "fairness_indicators_metrics/true_positive_rate@0.4675": {
           "boundedValue": {
            "lowerBound": 0.1316093572524551,
            "upperBound": 0.1370103147353655,
            "value": 0.13430979687715905
           }
          },
          "fairness_indicators_metrics/true_positive_rate@0.4750": {
           "boundedValue": {
            "lowerBound": 0.12666890566016253,
            "upperBound": 0.1322782689869531,
            "value": 0.12947353875915435
           }
          },
          "fairness_indicators_metrics/true_positive_rate@0.4875": {
           "boundedValue": {
            "lowerBound": 0.12067065943997088,
            "upperBound": 0.12625493876420732,
            "value": 0.12346276081249137
           }
          },
          "fairness_indicators_metrics/true_positive_rate@0.5000": {
           "boundedValue": {
            "lowerBound": 0.11315705470908811,
            "upperBound": 0.11919066187081102,
            "value": 0.11617382893464143
           }
          }
         },
         "slice": "Overall",
         "sliceValue": "Overall"
        },
        {
         "metrics": {
          "accuracy": {
           "boundedValue": {
            "lowerBound": 0.0,
            "upperBound": 0.0,
            "value": 0.0
           }
          },
          "auc": {
           "boundedValue": {
            "lowerBound": 0.8040204998508865,
            "upperBound": 0.8251576441733978,
            "value": 0.8145889771490287
           }
          },
          "example_count": {
           "doubleValue": 16172.0
          },
          "fairness_indicators_metrics/false_discovery_rate@0.4000": {
           "boundedValue": {
            "lowerBound": 0.4634572856937935,
            "upperBound": 0.5554178248931554,
            "value": 0.5094339622641509
           }
          },
          "fairness_indicators_metrics/false_discovery_rate@0.4125": {
           "boundedValue": {
            "lowerBound": 0.45591353372822074,
            "upperBound": 0.5422262144730139,
            "value": 0.49906542056074765
           }
          },
          "fairness_indicators_metrics/false_discovery_rate@0.4250": {
           "boundedValue": {
            "lowerBound": 0.4486453391321656,
            "upperBound": 0.5451512178677458,
            "value": 0.4968944099378882
           }
          },
          "fairness_indicators_metrics/false_discovery_rate@0.4375": {
           "boundedValue": {
            "lowerBound": 0.43362658534447057,
            "upperBound": 0.5417617752830849,
            "value": 0.48769574944071586
           }
          },
          "fairness_indicators_metrics/false_discovery_rate@0.4500": {
           "boundedValue": {
            "lowerBound": 0.4165437557538109,
            "upperBound": 0.5073342012512344,
            "value": 0.4619289340101523
           }
          },
          "fairness_indicators_metrics/false_discovery_rate@0.4675": {
           "boundedValue": {
            "lowerBound": 0.40063311413883895,
            "upperBound": 0.4934972143816023,
            "value": 0.4470588235294118
           }
          },
          "fairness_indicators_metrics/false_discovery_rate@0.4750": {
           "boundedValue": {
            "lowerBound": 0.38110879202333064,
            "upperBound": 0.4822441239173451,
            "value": 0.43167701863354035
           }
          },
          "fairness_indicators_metrics/false_discovery_rate@0.4875": {
           "boundedValue": {
            "lowerBound": 0.3520789311784366,
            "upperBound": 0.4800994256595391,
            "value": 0.4160839160839161
           }
          },
          "fairness_indicators_metrics/false_discovery_rate@0.5000": {
           "boundedValue": {
            "lowerBound": 0.34445773920762146,
            "upperBound": 0.48180269788209396,
            "value": 0.41312741312741313
           }
          },
          "fairness_indicators_metrics/false_negative_rate@0.4000": {
           "boundedValue": {
            "lowerBound": 0.7829317292132609,
            "upperBound": 0.8268932275428686,
            "value": 0.8049113233287858
           }
          },
          "fairness_indicators_metrics/false_negative_rate@0.4125": {
           "boundedValue": {
            "lowerBound": 0.7950544245751181,
            "upperBound": 0.8393247296723534,
            "value": 0.8171896316507503
           }
          },
          "fairness_indicators_metrics/false_negative_rate@0.4250": {
           "boundedValue": {
            "lowerBound": 0.8114405209094343,
            "upperBound": 0.8570467832582803,
            "value": 0.8342428376534788
           }
          },
          "fairness_indicators_metrics/false_negative_rate@0.4375": {
           "boundedValue": {
            "lowerBound": 0.8211923551071798,
            "upperBound": 0.8663925478211094,
            "value": 0.8437926330150068
           }
          },
          "fairness_indicators_metrics/false_negative_rate@0.4500": {
           "boundedValue": {
            "lowerBound": 0.8371467664453454,
            "upperBound": 0.8736334104552326,
            "value": 0.8553888130968622
           }
          },
          "fairness_indicators_metrics/false_negative_rate@0.4675": {
           "boundedValue": {
            "lowerBound": 0.8563039983521943,
            "upperBound": 0.8872162353322512,
            "value": 0.8717598908594816
           }
          },
          "fairness_indicators_metrics/false_negative_rate@0.4750": {
           "boundedValue": {
            "lowerBound": 0.8607492367986547,
            "upperBound": 0.8895916511289312,
            "value": 0.8751705320600273
           }
          },
          "fairness_indicators_metrics/false_negative_rate@0.4875": {
           "boundedValue": {
            "lowerBound": 0.8713026987965231,
            "upperBound": 0.9008692884380012,
            "value": 0.8860845839017736
           }
          },
          "fairness_indicators_metrics/false_negative_rate@0.5000": {
           "boundedValue": {
            "lowerBound": 0.8819758204351075,
            "upperBound": 0.9106593534131467,
            "value": 0.8963165075034106
           }
          },
          "fairness_indicators_metrics/false_omission_rate@0.4000": {
           "boundedValue": {
            "lowerBound": 0.0717824205473459,
            "upperBound": 0.07960669692575428,
            "value": 0.07569439989736353
           }
          },
          "fairness_indicators_metrics/false_omission_rate@0.4125": {
           "boundedValue": {
            "lowerBound": 0.07249275488476466,
            "upperBound": 0.08073387736243941,
            "value": 0.07661316109228113
           }
          },
          "fairness_indicators_metrics/false_omission_rate@0.4250": {
           "boundedValue": {
            "lowerBound": 0.07387190215273855,
            "upperBound": 0.08203383281009845,
            "value": 0.07795270571738161
           }
          },
          "fairness_indicators_metrics/false_omission_rate@0.4375": {
           "boundedValue": {
            "lowerBound": 0.07448571505893586,
            "upperBound": 0.08284362449702873,
            "value": 0.07866454689984102
           }
          },
          "fairness_indicators_metrics/false_omission_rate@0.4500": {
           "boundedValue": {
            "lowerBound": 0.075664977362866,
            "upperBound": 0.08329080558150138,
            "value": 0.07947775383445303
           }
          },
          "fairness_indicators_metrics/false_omission_rate@0.4675": {
           "boundedValue": {
            "lowerBound": 0.07674346817496196,
            "upperBound": 0.08470203983840364,
            "value": 0.08072258716523496
           }
          },
          "fairness_indicators_metrics/false_omission_rate@0.4750": {
           "boundedValue": {
            "lowerBound": 0.07693685804998289,
            "upperBound": 0.0849562272832254,
            "value": 0.08094637223974764
           }
          },
          "fairness_indicators_metrics/false_omission_rate@0.4875": {
           "boundedValue": {
            "lowerBound": 0.07789813057382698,
            "upperBound": 0.08564249767573985,
            "value": 0.08177011204834446
           }
          },
          "fairness_indicators_metrics/false_omission_rate@0.5000": {
           "boundedValue": {
            "lowerBound": 0.07862221226518898,
            "upperBound": 0.0865261921712508,
            "value": 0.0825739961038145
           }
          },
          "fairness_indicators_metrics/false_positive_rate@0.4000": {
           "boundedValue": {
            "lowerBound": 0.017929490036556264,
            "upperBound": 0.02246225221488421,
            "value": 0.020195838433292534
           }
          },
          "fairness_indicators_metrics/false_positive_rate@0.4125": {
           "boundedValue": {
            "lowerBound": 0.01600569499377931,
            "upperBound": 0.02030615856449631,
            "value": 0.018155854753161976
           }
          },
          "fairness_indicators_metrics/false_positive_rate@0.4250": {
           "boundedValue": {
            "lowerBound": 0.014025198526979246,
            "upperBound": 0.018614697810647392,
            "value": 0.016319869441044473
           }
          },
          "fairness_indicators_metrics/false_positive_rate@0.4375": {
           "boundedValue": {
            "lowerBound": 0.012476820869239656,
            "upperBound": 0.01717106539423274,
            "value": 0.014823881408948728
           }
          },
          "fairness_indicators_metrics/false_positive_rate@0.4500": {
           "boundedValue": {
            "lowerBound": 0.010834182687222665,
            "upperBound": 0.013917732314109338,
            "value": 0.012375900992792057
           }
          },
          "fairness_indicators_metrics/false_positive_rate@0.4675": {
           "boundedValue": {
            "lowerBound": 0.009011816978968346,
            "upperBound": 0.011660084734339115,
            "value": 0.0103359173126615
           }
          },
          "fairness_indicators_metrics/false_positive_rate@0.4750": {
           "boundedValue": {
            "lowerBound": 0.008059118557264862,
            "upperBound": 0.010844813090120206,
            "value": 0.009451924384604923
           }
          },
          "fairness_indicators_metrics/false_positive_rate@0.4875": {
           "boundedValue": {
            "lowerBound": 0.0066925415841224325,
            "upperBound": 0.009491443898444531,
            "value": 0.008091935264517883
           }
          },
          "fairness_indicators_metrics/false_positive_rate@0.5000": {
           "boundedValue": {
            "lowerBound": 0.005896931403979961,
            "upperBound": 0.008655064493390475,
            "value": 0.00727594179246566
           }
          },
          "fairness_indicators_metrics/negative_rate@0.4000": {
           "boundedValue": {
            "lowerBound": 0.961224613674902,
            "upperBound": 0.9666753557636386,
            "value": 0.9639500371011624
           }
          },
          "fairness_indicators_metrics/negative_rate@0.4125": {
           "boundedValue": {
            "lowerBound": 0.9639798537242237,
            "upperBound": 0.9698562604902476,
            "value": 0.9669181301014098
           }
          },
          "fairness_indicators_metrics/negative_rate@0.4250": {
           "boundedValue": {
            "lowerBound": 0.9669377029116965,
            "upperBound": 0.973329288232368,
            "value": 0.9701335641850112
           }
          },
          "fairness_indicators_metrics/negative_rate@0.4375": {
           "boundedValue": {
            "lowerBound": 0.9692750461994484,
            "upperBound": 0.9754440356780689,
            "value": 0.9723596339351966
           }
          },
          "fairness_indicators_metrics/negative_rate@0.4500": {
           "boundedValue": {
            "lowerBound": 0.9732560040801871,
            "upperBound": 0.978017607726747,
            "value": 0.9756369032896364
           }
          },
          "fairness_indicators_metrics/negative_rate@0.4675": {
           "boundedValue": {
            "lowerBound": 0.9771001697532041,
            "upperBound": 0.9808517582146966,
            "value": 0.9789760079149147
           }
          },
          "fairness_indicators_metrics/negative_rate@0.4750": {
           "boundedValue": {
            "lowerBound": 0.9783442301804396,
            "upperBound": 0.9818337549910751,
            "value": 0.9800890427900074
           }
          },
          "fairness_indicators_metrics/negative_rate@0.4875": {
           "boundedValue": {
            "lowerBound": 0.980779215113134,
            "upperBound": 0.9838509222514085,
            "value": 0.9823151125401929
           }
          },
          "fairness_indicators_metrics/negative_rate@0.5000": {
           "boundedValue": {
            "lowerBound": 0.9825112453419848,
            "upperBound": 0.9854580157182887,
            "value": 0.9839846648528321
           }
          },
          "fairness_indicators_metrics/positive_rate@0.4000": {
           "boundedValue": {
            "lowerBound": 0.033324644236361584,
            "upperBound": 0.03877538632509826,
            "value": 0.036049962898837495
           }
          },
          "fairness_indicators_metrics/positive_rate@0.4125": {
           "boundedValue": {
            "lowerBound": 0.030143739509752354,
            "upperBound": 0.03602014627577654,
            "value": 0.033081869898590154
           }
          },
          "fairness_indicators_metrics/positive_rate@0.4250": {
           "boundedValue": {
            "lowerBound": 0.026670711767631902,
            "upperBound": 0.033062297088303244,
            "value": 0.029866435814988868
           }
          },
          "fairness_indicators_metrics/positive_rate@0.4375": {
           "boundedValue": {
            "lowerBound": 0.024555964321930693,
            "upperBound": 0.030724953800551746,
            "value": 0.027640366064803364
           }
          },
          "fairness_indicators_metrics/positive_rate@0.4500": {
           "boundedValue": {
            "lowerBound": 0.021982392273252736,
            "upperBound": 0.026743995919812684,
            "value": 0.02436309671036359
           }
          },
          "fairness_indicators_metrics/positive_rate@0.4675": {
           "boundedValue": {
            "lowerBound": 0.01914824178530324,
            "upperBound": 0.02289983024679607,
            "value": 0.021023992085085333
           }
          },
          "fairness_indicators_metrics/positive_rate@0.4750": {
           "boundedValue": {
            "lowerBound": 0.018166245008924962,
            "upperBound": 0.02165576981956016,
            "value": 0.01991095720999258
           }
          },
          "fairness_indicators_metrics/positive_rate@0.4875": {
           "boundedValue": {
            "lowerBound": 0.01614907774859153,
            "upperBound": 0.019220784886865943,
            "value": 0.017684887459807074
           }
          },
          "fairness_indicators_metrics/positive_rate@0.5000": {
           "boundedValue": {
            "lowerBound": 0.014541984281711318,
            "upperBound": 0.017488754658015238,
            "value": 0.016015335147167943
           }
          },
          "fairness_indicators_metrics/true_negative_rate@0.4000": {
           "boundedValue": {
            "lowerBound": 0.9775377477851163,
            "upperBound": 0.9820705099634438,
            "value": 0.9798041615667075
           }
          },
          "fairness_indicators_metrics/true_negative_rate@0.4125": {
           "boundedValue": {
            "lowerBound": 0.9796938414355036,
            "upperBound": 0.9839943050062208,
            "value": 0.981844145246838
           }
          },
          "fairness_indicators_metrics/true_negative_rate@0.4250": {
           "boundedValue": {
            "lowerBound": 0.9813853021893526,
            "upperBound": 0.985974801473021,
            "value": 0.9836801305589555
           }
          },
          "fairness_indicators_metrics/true_negative_rate@0.4375": {
           "boundedValue": {
            "lowerBound": 0.9828289346057673,
            "upperBound": 0.9875231791307602,
            "value": 0.9851761185910513
           }
          },
          "fairness_indicators_metrics/true_negative_rate@0.4500": {
           "boundedValue": {
            "lowerBound": 0.9860822676858905,
            "upperBound": 0.9891658173127773,
            "value": 0.9876240990072079
           }
          },
          "fairness_indicators_metrics/true_negative_rate@0.4675": {
           "boundedValue": {
            "lowerBound": 0.9883399152656608,
            "upperBound": 0.9909881830210318,
            "value": 0.9896640826873385
           }
          },
          "fairness_indicators_metrics/true_negative_rate@0.4750": {
           "boundedValue": {
            "lowerBound": 0.9891551869098804,
            "upperBound": 0.9919408814427352,
            "value": 0.990548075615395
           }
          },
          "fairness_indicators_metrics/true_negative_rate@0.4875": {
           "boundedValue": {
            "lowerBound": 0.9905085561015556,
            "upperBound": 0.9933074584158774,
            "value": 0.9919080647354821
           }
          },
          "fairness_indicators_metrics/true_negative_rate@0.5000": {
           "boundedValue": {
            "lowerBound": 0.9913449355066094,
            "upperBound": 0.9941030685960198,
            "value": 0.9927240582075343
           }
          },
          "fairness_indicators_metrics/true_positive_rate@0.4000": {
           "boundedValue": {
            "lowerBound": 0.17310677245713132,
            "upperBound": 0.21706827078673904,
            "value": 0.19508867667121418
           }
          },
          "fairness_indicators_metrics/true_positive_rate@0.4125": {
           "boundedValue": {
            "lowerBound": 0.16067527032764695,
            "upperBound": 0.204945575424882,
            "value": 0.18281036834924966
           }
          },
          "fairness_indicators_metrics/true_positive_rate@0.4250": {
           "boundedValue": {
            "lowerBound": 0.14295321674171937,
            "upperBound": 0.18855947909056567,
            "value": 0.16575716234652116
           }
          },
          "fairness_indicators_metrics/true_positive_rate@0.4375": {
           "boundedValue": {
            "lowerBound": 0.13360745217889036,
            "upperBound": 0.1788076448928203,
            "value": 0.15620736698499318
           }
          },
          "fairness_indicators_metrics/true_positive_rate@0.4500": {
           "boundedValue": {
            "lowerBound": 0.12636658954476754,
            "upperBound": 0.1628532335546547,
            "value": 0.1446111869031378
           }
          },
          "fairness_indicators_metrics/true_positive_rate@0.4675": {
           "boundedValue": {
            "lowerBound": 0.11278376466774857,
            "upperBound": 0.14369600164780594,
            "value": 0.12824010914051842
           }
          },
          "fairness_indicators_metrics/true_positive_rate@0.4750": {
           "boundedValue": {
            "lowerBound": 0.11040834887106876,
            "upperBound": 0.13925076320134505,
            "value": 0.12482946793997271
           }
          },
          "fairness_indicators_metrics/true_positive_rate@0.4875": {
           "boundedValue": {
            "lowerBound": 0.09913071156199858,
            "upperBound": 0.12869730120347686,
            "value": 0.11391541609822646
           }
          },
          "fairness_indicators_metrics/true_positive_rate@0.5000": {
           "boundedValue": {
            "lowerBound": 0.08934064658685277,
            "upperBound": 0.11802417956489265,
            "value": 0.10368349249658936
           }
          }
         },
         "slice": "religion:christian",
         "sliceValue": "christian"
        },
        {
         "metrics": {
          "accuracy": {
           "boundedValue": {
            "lowerBound": 0.0,
            "upperBound": 0.0,
            "value": 0.0
           }
          },
          "auc": {
           "boundedValue": {
            "lowerBound": 0.7147613874330607,
            "upperBound": 0.7379112865464033,
            "value": 0.7263360835872249
           }
          },
          "example_count": {
           "doubleValue": 8436.0
          },
          "fairness_indicators_metrics/false_discovery_rate@0.4000": {
           "boundedValue": {
            "lowerBound": 0.4159811749620834,
            "upperBound": 0.48829135189592565,
            "value": 0.4521410579345088
           }
          },
          "fairness_indicators_metrics/false_discovery_rate@0.4125": {
           "boundedValue": {
            "lowerBound": 0.4117935535374989,
            "upperBound": 0.4913431523120032,
            "value": 0.451568894952251
           }
          },
          "fairness_indicators_metrics/false_discovery_rate@0.4250": {
           "boundedValue": {
            "lowerBound": 0.3924092638522386,
            "upperBound": 0.4801516269406545,
            "value": 0.4362818590704648
           }
          },
          "fairness_indicators_metrics/false_discovery_rate@0.4375": {
           "boundedValue": {
            "lowerBound": 0.3871649135302417,
            "upperBound": 0.4764715696918224,
            "value": 0.4318181818181818
           }
          },
          "fairness_indicators_metrics/false_discovery_rate@0.4500": {
           "boundedValue": {
            "lowerBound": 0.38032590372572667,
            "upperBound": 0.46815751099104114,
            "value": 0.42424242424242425
           }
          },
          "fairness_indicators_metrics/false_discovery_rate@0.4675": {
           "boundedValue": {
            "lowerBound": 0.3735691283815976,
            "upperBound": 0.4580792178650537,
            "value": 0.4158215010141988
           }
          },
          "fairness_indicators_metrics/false_discovery_rate@0.4750": {
           "boundedValue": {
            "lowerBound": 0.3579248310188219,
            "upperBound": 0.4541797195982652,
            "value": 0.4060475161987041
           }
          },
          "fairness_indicators_metrics/false_discovery_rate@0.4875": {
           "boundedValue": {
            "lowerBound": 0.3480950460018432,
            "upperBound": 0.4566209677323945,
            "value": 0.4023529411764706
           }
          },
          "fairness_indicators_metrics/false_discovery_rate@0.5000": {
           "boundedValue": {
            "lowerBound": 0.34361240708894336,
            "upperBound": 0.4574215300628425,
            "value": 0.4005037783375315
           }
          },
          "fairness_indicators_metrics/false_negative_rate@0.4000": {
           "boundedValue": {
            "lowerBound": 0.753293267986886,
            "upperBound": 0.7885734677237346,
            "value": 0.7709320695102686
           }
          },
          "fairness_indicators_metrics/false_negative_rate@0.4125": {
           "boundedValue": {
            "lowerBound": 0.7678642248154631,
            "upperBound": 0.8087597269068024,
            "value": 0.7883096366508688
           }
          },
          "fairness_indicators_metrics/false_negative_rate@0.4250": {
           "boundedValue": {
            "lowerBound": 0.783445327291115,
            "upperBound": 0.8205626569980766,
            "value": 0.8020010531858873
           }
          },
          "fairness_indicators_metrics/false_negative_rate@0.4375": {
           "boundedValue": {
            "lowerBound": 0.7989383890891955,
            "upperBound": 0.832452649019108,
            "value": 0.8156924697209057
           }
          },
          "fairness_indicators_metrics/false_negative_rate@0.4500": {
           "boundedValue": {
            "lowerBound": 0.8138805195386538,
            "upperBound": 0.8459462830337412,
            "value": 0.8299104791995787
           }
          },
          "fairness_indicators_metrics/false_negative_rate@0.4675": {
           "boundedValue": {
            "lowerBound": 0.8326283429589502,
            "upperBound": 0.8640583723173602,
            "value": 0.8483412322274881
           }
          },
          "fairness_indicators_metrics/false_negative_rate@0.4750": {
           "boundedValue": {
            "lowerBound": 0.8385120931476967,
            "upperBound": 0.871865605023462,
            "value": 0.8551869404949973
           }
          },
          "fairness_indicators_metrics/false_negative_rate@0.4875": {
           "boundedValue": {
            "lowerBound": 0.8497017704109688,
            "upperBound": 0.8827929664650567,
            "value": 0.866245392311743
           }
          },
          "fairness_indicators_metrics/false_negative_rate@0.5000": {
           "boundedValue": {
            "lowerBound": 0.8584475883995895,
            "upperBound": 0.8909018617342985,
            "value": 0.8746708794102159
           }
          },
          "fairness_indicators_metrics/false_omission_rate@0.4000": {
           "boundedValue": {
            "lowerBound": 0.18495632021753422,
            "upperBound": 0.19818873111598695,
            "value": 0.19157288667887987
           }
          },
          "fairness_indicators_metrics/false_omission_rate@0.4125": {
           "boundedValue": {
            "lowerBound": 0.18766558472224446,
            "upperBound": 0.2010134610520912,
            "value": 0.19433986758405816
           }
          },
          "fairness_indicators_metrics/false_omission_rate@0.4250": {
           "boundedValue": {
            "lowerBound": 0.189614547826346,
            "upperBound": 0.20245616356731233,
            "value": 0.19603552580769726
           }
          },
          "fairness_indicators_metrics/false_omission_rate@0.4375": {
           "boundedValue": {
            "lowerBound": 0.1916261906344997,
            "upperBound": 0.2045373590649886,
            "value": 0.19808184143222507
           }
          },
          "fairness_indicators_metrics/false_omission_rate@0.4500": {
           "boundedValue": {
            "lowerBound": 0.19369602469300448,
            "upperBound": 0.20655774596183832,
            "value": 0.20012698412698413
           }
          },
          "fairness_indicators_metrics/false_omission_rate@0.4675": {
           "boundedValue": {
            "lowerBound": 0.1963349763200085,
            "upperBound": 0.20930471178432178,
            "value": 0.20282009316379201
           }
          },
          "fairness_indicators_metrics/false_omission_rate@0.4750": {
           "boundedValue": {
            "lowerBound": 0.19713425316803654,
            "upperBound": 0.21024005655399217,
            "value": 0.20368744512730466
           }
          },
          "fairness_indicators_metrics/false_omission_rate@0.4875": {
           "boundedValue": {
            "lowerBound": 0.19866684020063324,
            "upperBound": 0.21201794977520677,
            "value": 0.20534265385095493
           }
          },
          "fairness_indicators_metrics/false_omission_rate@0.5000": {
           "boundedValue": {
            "lowerBound": 0.20046613806040603,
            "upperBound": 0.2127692384570785,
            "value": 0.20661773852469212
           }
          },
          "fairness_indicators_metrics/false_positive_rate@0.4000": {
           "boundedValue": {
            "lowerBound": 0.0484534931481102,
            "upperBound": 0.06138312051058626,
            "value": 0.05491815817653358
           }
          },
          "fairness_indicators_metrics/false_positive_rate@0.4125": {
           "boundedValue": {
            "lowerBound": 0.0443706535880518,
            "upperBound": 0.056899053217450826,
            "value": 0.05063484778950589
           }
          },
          "fairness_indicators_metrics/false_positive_rate@0.4250": {
           "boundedValue": {
            "lowerBound": 0.03847775901335505,
            "upperBound": 0.05055435895084716,
            "value": 0.0445158329508949
           }
          },
          "fairness_indicators_metrics/false_positive_rate@0.4375": {
           "boundedValue": {
            "lowerBound": 0.03526307730067564,
            "upperBound": 0.04612032157635035,
            "value": 0.04069144867676304
           }
          },
          "fairness_indicators_metrics/false_positive_rate@0.4500": {
           "boundedValue": {
            "lowerBound": 0.03134732986016778,
            "upperBound": 0.04146931230752238,
            "value": 0.03640813828973535
           }
          },
          "fairness_indicators_metrics/false_positive_rate@0.4675": {
           "boundedValue": {
            "lowerBound": 0.027063394082122147,
            "upperBound": 0.035656936038030995,
            "value": 0.03135995104788129
           }
          },
          "fairness_indicators_metrics/false_positive_rate@0.4750": {
           "boundedValue": {
            "lowerBound": 0.0243804799679197,
            "upperBound": 0.033139032733807125,
            "value": 0.028759369741471624
           }
          },
          "fairness_indicators_metrics/false_positive_rate@0.4875": {
           "boundedValue": {
            "lowerBound": 0.021812811340521276,
            "upperBound": 0.030505442589670865,
            "value": 0.026158788435061954
           }
          },
          "fairness_indicators_metrics/false_positive_rate@0.5000": {
           "boundedValue": {
            "lowerBound": 0.020283947049629488,
            "upperBound": 0.028362931944316643,
            "value": 0.02432308398347866
           }
          },
          "fairness_indicators_metrics/negative_rate@0.4000": {
           "boundedValue": {
            "lowerBound": 0.8988437370084198,
            "upperBound": 0.9129150905893945,
            "value": 0.9058795637743006
           }
          },
          "fairness_indicators_metrics/negative_rate@0.4125": {
           "boundedValue": {
            "lowerBound": 0.9056920578948029,
            "upperBound": 0.920529024058993,
            "value": 0.9131104788999526
           }
          },
          "fairness_indicators_metrics/negative_rate@0.4250": {
           "boundedValue": {
            "lowerBound": 0.9143012031719772,
            "upperBound": 0.9275669093769877,
            "value": 0.9209340919867236
           }
          },
          "fairness_indicators_metrics/negative_rate@0.4375": {
           "boundedValue": {
            "lowerBound": 0.9212672298289791,
            "upperBound": 0.9326920578338908,
            "value": 0.9269796111901375
           }
          },
          "fairness_indicators_metrics/negative_rate@0.4500": {
           "boundedValue": {
            "lowerBound": 0.9278103494506278,
            "upperBound": 0.9391883905719463,
            "value": 0.9334992887624467
           }
          },
          "fairness_indicators_metrics/negative_rate@0.4675": {
           "boundedValue": {
            "lowerBound": 0.9360917238291395,
            "upperBound": 0.9470280557550037,
            "value": 0.9415599810336652
           }
          },
          "fairness_indicators_metrics/negative_rate@0.4750": {
           "boundedValue": {
            "lowerBound": 0.9396426449044325,
            "upperBound": 0.9505890843896717,
            "value": 0.9451161688003793
           }
          },
          "fairness_indicators_metrics/negative_rate@0.4875": {
           "boundedValue": {
            "lowerBound": 0.9444929160709499,
            "upperBound": 0.9547479760019915,
            "value": 0.9496206733048839
           }
          },
          "fairness_indicators_metrics/negative_rate@0.5000": {
           "boundedValue": {
            "lowerBound": 0.9480312954416751,
            "upperBound": 0.9578481623968328,
            "value": 0.9529397818871503
           }
          },
          "fairness_indicators_metrics/positive_rate@0.4000": {
           "boundedValue": {
            "lowerBound": 0.0870849094106056,
            "upperBound": 0.10115626299158006,
            "value": 0.09412043622569938
           }
          },
          "fairness_indicators_metrics/positive_rate@0.4125": {
           "boundedValue": {
            "lowerBound": 0.0794709759410067,
            "upperBound": 0.0943079421051974,
            "value": 0.08688952110004741
           }
          },
          "fairness_indicators_metrics/positive_rate@0.4250": {
           "boundedValue": {
            "lowerBound": 0.07243309062301233,
            "upperBound": 0.08569879682802288,
            "value": 0.07906590801327644
           }
          },
          "fairness_indicators_metrics/positive_rate@0.4375": {
           "boundedValue": {
            "lowerBound": 0.06730794216610919,
            "upperBound": 0.0787327701710207,
            "value": 0.07302038880986249
           }
          },
          "fairness_indicators_metrics/positive_rate@0.4500": {
           "boundedValue": {
            "lowerBound": 0.06081160942805352,
            "upperBound": 0.07218965054937239,
            "value": 0.06650071123755334
           }
          },
          "fairness_indicators_metrics/positive_rate@0.4675": {
           "boundedValue": {
            "lowerBound": 0.05297194424499588,
            "upperBound": 0.06390827617086052,
            "value": 0.05844001896633476
           }
          },
          "fairness_indicators_metrics/positive_rate@0.4750": {
           "boundedValue": {
            "lowerBound": 0.049410915610328246,
            "upperBound": 0.06035735509556776,
            "value": 0.054883831199620675
           }
          },
          "fairness_indicators_metrics/positive_rate@0.4875": {
           "boundedValue": {
            "lowerBound": 0.04525202399800826,
            "upperBound": 0.055507083929050474,
            "value": 0.05037932669511617
           }
          },
          "fairness_indicators_metrics/positive_rate@0.5000": {
           "boundedValue": {
            "lowerBound": 0.04215183760316746,
            "upperBound": 0.05196870455832499,
            "value": 0.04706021811284969
           }
          },
          "fairness_indicators_metrics/true_negative_rate@0.4000": {
           "boundedValue": {
            "lowerBound": 0.9386168794894141,
            "upperBound": 0.9515465068518898,
            "value": 0.9450818418234664
           }
          },
          "fairness_indicators_metrics/true_negative_rate@0.4125": {
           "boundedValue": {
            "lowerBound": 0.9431009467825493,
            "upperBound": 0.9556293464119481,
            "value": 0.9493651522104941
           }
          },
          "fairness_indicators_metrics/true_negative_rate@0.4250": {
           "boundedValue": {
            "lowerBound": 0.9494456410491531,
            "upperBound": 0.961522240986645,
            "value": 0.9554841670491051
           }
          },
          "fairness_indicators_metrics/true_negative_rate@0.4375": {
           "boundedValue": {
            "lowerBound": 0.9538796784236494,
            "upperBound": 0.9647369226993248,
            "value": 0.959308551323237
           }
          },
          "fairness_indicators_metrics/true_negative_rate@0.4500": {
           "boundedValue": {
            "lowerBound": 0.9585306876924776,
            "upperBound": 0.968652670139832,
            "value": 0.9635918617102647
           }
          },
          "fairness_indicators_metrics/true_negative_rate@0.4675": {
           "boundedValue": {
            "lowerBound": 0.9643430639619693,
            "upperBound": 0.9729366059178778,
            "value": 0.9686400489521187
           }
          },
          "fairness_indicators_metrics/true_negative_rate@0.4750": {
           "boundedValue": {
            "lowerBound": 0.9668609672661929,
            "upperBound": 0.9756195200320802,
            "value": 0.9712406302585284
           }
          },
          "fairness_indicators_metrics/true_negative_rate@0.4875": {
           "boundedValue": {
            "lowerBound": 0.9694945574103292,
            "upperBound": 0.9781871886594783,
            "value": 0.9738412115649381
           }
          },
          "fairness_indicators_metrics/true_negative_rate@0.5000": {
           "boundedValue": {
            "lowerBound": 0.9716370680556834,
            "upperBound": 0.9797160529503708,
            "value": 0.9756769160165213
           }
          },
          "fairness_indicators_metrics/true_positive_rate@0.4000": {
           "boundedValue": {
            "lowerBound": 0.2114265322762655,
            "upperBound": 0.24670673201311405,
            "value": 0.22906793048973143
           }
          },
          "fairness_indicators_metrics/true_positive_rate@0.4125": {
           "boundedValue": {
            "lowerBound": 0.19124027309319755,
            "upperBound": 0.2321357751845369,
            "value": 0.21169036334913113
           }
          },
          "fairness_indicators_metrics/true_positive_rate@0.4250": {
           "boundedValue": {
            "lowerBound": 0.17943734300192338,
            "upperBound": 0.21655467270888512,
            "value": 0.1979989468141127
           }
          },
          "fairness_indicators_metrics/true_positive_rate@0.4375": {
           "boundedValue": {
            "lowerBound": 0.16754735098089216,
            "upperBound": 0.20106161091080468,
            "value": 0.18430753027909427
           }
          },
          "fairness_indicators_metrics/true_positive_rate@0.4500": {
           "boundedValue": {
            "lowerBound": 0.15405371696625877,
            "upperBound": 0.186119480461346,
            "value": 0.17008952080042128
           }
          },
          "fairness_indicators_metrics/true_positive_rate@0.4675": {
           "boundedValue": {
            "lowerBound": 0.13594162768263995,
            "upperBound": 0.16737165704104973,
            "value": 0.15165876777251186
           }
          },
          "fairness_indicators_metrics/true_positive_rate@0.4750": {
           "boundedValue": {
            "lowerBound": 0.12813439497653817,
            "upperBound": 0.16148790685230313,
            "value": 0.14481305950500264
           }
          },
          "fairness_indicators_metrics/true_positive_rate@0.4875": {
           "boundedValue": {
            "lowerBound": 0.1172070335349433,
            "upperBound": 0.15029822958903108,
            "value": 0.13375460768825698
           }
          },
          "fairness_indicators_metrics/true_positive_rate@0.5000": {
           "boundedValue": {
            "lowerBound": 0.10909813826570139,
            "upperBound": 0.14155241160041074,
            "value": 0.1253291205897841
           }
          }
         },
         "slice": "religion:muslim",
         "sliceValue": "muslim"
        },
        {
         "metrics": {
          "accuracy": {
           "boundedValue": {
            "lowerBound": 0.0,
            "upperBound": 0.0,
            "value": 0.0
           }
          },
          "auc": {
           "boundedValue": {
            "lowerBound": 0.74546894919327,
            "upperBound": 0.8420514834392192,
            "value": 0.7937895437895437
           }
          },
          "example_count": {
           "doubleValue": 545.0
          },
          "fairness_indicators_metrics/false_discovery_rate@0.4000": {
           "boundedValue": {
            "lowerBound": 0.25215218860629823,
            "upperBound": 0.6764383689842595,
            "value": 0.4642857142857143
           }
          },
          "fairness_indicators_metrics/false_discovery_rate@0.4125": {
           "boundedValue": {
            "lowerBound": 0.29985522200358977,
            "upperBound": 0.7402501798409422,
            "value": 0.52
           }
          },
          "fairness_indicators_metrics/false_discovery_rate@0.4250": {
           "boundedValue": {
            "lowerBound": 0.24661641936542494,
            "upperBound": 0.7098112109752488,
            "value": 0.4782608695652174
           }
          },
          "fairness_indicators_metrics/false_discovery_rate@0.4375": {
           "boundedValue": {
            "lowerBound": 0.24661641936542494,
            "upperBound": 0.7098112109752488,
            "value": 0.4782608695652174
           }
          },
          "fairness_indicators_metrics/false_discovery_rate@0.4500": {
           "boundedValue": {
            "lowerBound": 0.2464058287274533,
            "upperBound": 0.65364749084599,
            "value": 0.45
           }
          },
          "fairness_indicators_metrics/false_discovery_rate@0.4675": {
           "boundedValue": {
            "lowerBound": 0.2464058287274533,
            "upperBound": 0.65364749084599,
            "value": 0.45
           }
          },
          "fairness_indicators_metrics/false_discovery_rate@0.4750": {
           "boundedValue": {
            "lowerBound": 0.2464058287274533,
            "upperBound": 0.65364749084599,
            "value": 0.45
           }
          },
          "fairness_indicators_metrics/false_discovery_rate@0.4875": {
           "boundedValue": {
            "lowerBound": 0.21539094755373348,
            "upperBound": 0.6265982165329538,
            "value": 0.42105263157894735
           }
          },
          "fairness_indicators_metrics/false_discovery_rate@0.5000": {
           "boundedValue": {
            "lowerBound": 0.25133134591521056,
            "upperBound": 0.6896980658494954,
            "value": 0.47058823529411764
           }
          },
          "fairness_indicators_metrics/false_negative_rate@0.4000": {
           "boundedValue": {
            "lowerBound": 0.7193066716645796,
            "upperBound": 0.8911200778266976,
            "value": 0.8051948051948052
           }
          },
          "fairness_indicators_metrics/false_negative_rate@0.4125": {
           "boundedValue": {
            "lowerBound": 0.7595144907745048,
            "upperBound": 0.9288388738167837,
            "value": 0.8441558441558441
           }
          },
          "fairness_indicators_metrics/false_negative_rate@0.4250": {
           "boundedValue": {
            "lowerBound": 0.7595144907745048,
            "upperBound": 0.9288388738167837,
            "value": 0.8441558441558441
           }
          },
          "fairness_indicators_metrics/false_negative_rate@0.4375": {
           "boundedValue": {
            "lowerBound": 0.7595144907745048,
            "upperBound": 0.9288388738167837,
            "value": 0.8441558441558441
           }
          },
          "fairness_indicators_metrics/false_negative_rate@0.4500": {
           "boundedValue": {
            "lowerBound": 0.7770428571164758,
            "upperBound": 0.9372338507892877,
            "value": 0.8571428571428571
           }
          },
          "fairness_indicators_metrics/false_negative_rate@0.4675": {
           "boundedValue": {
            "lowerBound": 0.7770428571164758,
            "upperBound": 0.9372338507892877,
            "value": 0.8571428571428571
           }
          },
          "fairness_indicators_metrics/false_negative_rate@0.4750": {
           "boundedValue": {
            "lowerBound": 0.7770428571164758,
            "upperBound": 0.9372338507892877,
            "value": 0.8571428571428571
           }
          },
          "fairness_indicators_metrics/false_negative_rate@0.4875": {
           "boundedValue": {
            "lowerBound": 0.7770428571164758,
            "upperBound": 0.9372338507892877,
            "value": 0.8571428571428571
           }
          },
          "fairness_indicators_metrics/false_negative_rate@0.5000": {
           "boundedValue": {
            "lowerBound": 0.8153147148345858,
            "upperBound": 0.9509631198545685,
            "value": 0.8831168831168831
           }
          },
          "fairness_indicators_metrics/false_omission_rate@0.4000": {
           "boundedValue": {
            "lowerBound": 0.09576739743426062,
            "upperBound": 0.1440841323792415,
            "value": 0.11992263056092843
           }
          },
          "fairness_indicators_metrics/false_omission_rate@0.4125": {
           "boundedValue": {
            "lowerBound": 0.09957527074767472,
            "upperBound": 0.15043417500092873,
            "value": 0.125
           }
          },
          "fairness_indicators_metrics/false_omission_rate@0.4250": {
           "boundedValue": {
            "lowerBound": 0.09932618565784695,
            "upperBound": 0.14972466869168097,
            "value": 0.12452107279693486
           }
          },
          "fairness_indicators_metrics/false_omission_rate@0.4375": {
           "boundedValue": {
            "lowerBound": 0.09932618565784695,
            "upperBound": 0.14972466869168097,
            "value": 0.12452107279693486
           }
          },
          "fairness_indicators_metrics/false_omission_rate@0.4500": {
           "boundedValue": {
            "lowerBound": 0.0992725432981971,
            "upperBound": 0.1521647512245666,
            "value": 0.12571428571428572
           }
          },
          "fairness_indicators_metrics/false_omission_rate@0.4675": {
           "boundedValue": {
            "lowerBound": 0.0992725432981971,
            "upperBound": 0.1521647512245666,
            "value": 0.12571428571428572
           }
          },
          "fairness_indicators_metrics/false_omission_rate@0.4750": {
           "boundedValue": {
            "lowerBound": 0.0992725432981971,
            "upperBound": 0.1521647512245666,
            "value": 0.12571428571428572
           }
          },
          "fairness_indicators_metrics/false_omission_rate@0.4875": {
           "boundedValue": {
            "lowerBound": 0.098888316895789,
            "upperBound": 0.1520719658725503,
            "value": 0.12547528517110265
           }
          },
          "fairness_indicators_metrics/false_omission_rate@0.5000": {
           "boundedValue": {
            "lowerBound": 0.10393026603387039,
            "upperBound": 0.15365587032716824,
            "value": 0.12878787878787878
           }
          },
          "fairness_indicators_metrics/false_positive_rate@0.4000": {
           "boundedValue": {
            "lowerBound": 0.013609319126370254,
            "upperBound": 0.041938792394007794,
            "value": 0.027777777777777776
           }
          },
          "fairness_indicators_metrics/false_positive_rate@0.4125": {
           "boundedValue": {
            "lowerBound": 0.013609319126370254,
            "upperBound": 0.041938792394007794,
            "value": 0.027777777777777776
           }
          },
          "fairness_indicators_metrics/false_positive_rate@0.4250": {
           "boundedValue": {
            "lowerBound": 0.008994684400184692,
            "upperBound": 0.03800485985387592,
            "value": 0.023504273504273504
           }
          },
          "fairness_indicators_metrics/false_positive_rate@0.4375": {
           "boundedValue": {
            "lowerBound": 0.008994684400184692,
            "upperBound": 0.03800485985387592,
            "value": 0.023504273504273504
           }
          },
          "fairness_indicators_metrics/false_positive_rate@0.4500": {
           "boundedValue": {
            "lowerBound": 0.0075553294889690766,
            "upperBound": 0.03090176273882286,
            "value": 0.019230769230769232
           }
          },
          "fairness_indicators_metrics/false_positive_rate@0.4675": {
           "boundedValue": {
            "lowerBound": 0.0075553294889690766,
            "upperBound": 0.03090176273882286,
            "value": 0.019230769230769232
           }
          },
          "fairness_indicators_metrics/false_positive_rate@0.4750": {
           "boundedValue": {
            "lowerBound": 0.0075553294889690766,
            "upperBound": 0.03090176273882286,
            "value": 0.019230769230769232
           }
          },
          "fairness_indicators_metrics/false_positive_rate@0.4875": {
           "boundedValue": {
            "lowerBound": 0.0054057623328565094,
            "upperBound": 0.028779329671378334,
            "value": 0.017094017094017096
           }
          },
          "fairness_indicators_metrics/false_positive_rate@0.5000": {
           "boundedValue": {
            "lowerBound": 0.0054057623328565094,
            "upperBound": 0.028779329671378334,
            "value": 0.017094017094017096
           }
          },
          "fairness_indicators_metrics/negative_rate@0.4000": {
           "boundedValue": {
            "lowerBound": 0.9341402749321139,
            "upperBound": 0.9631095303354196,
            "value": 0.9486238532110092
           }
          },
          "fairness_indicators_metrics/negative_rate@0.4125": {
           "boundedValue": {
            "lowerBound": 0.9386332708113944,
            "upperBound": 0.9696306238051279,
            "value": 0.9541284403669725
           }
          },
          "fairness_indicators_metrics/negative_rate@0.4250": {
           "boundedValue": {
            "lowerBound": 0.9409483415546189,
            "upperBound": 0.9746559594092175,
            "value": 0.9577981651376147
           }
          },
          "fairness_indicators_metrics/negative_rate@0.4375": {
           "boundedValue": {
            "lowerBound": 0.9409483415546189,
            "upperBound": 0.9746559594092175,
            "value": 0.9577981651376147
           }
          },
          "fairness_indicators_metrics/negative_rate@0.4500": {
           "boundedValue": {
            "lowerBound": 0.9472167280256042,
            "upperBound": 0.979393862630651,
            "value": 0.963302752293578
           }
          },
          "fairness_indicators_metrics/negative_rate@0.4675": {
           "boundedValue": {
            "lowerBound": 0.9472167280256042,
            "upperBound": 0.979393862630651,
            "value": 0.963302752293578
           }
          },
          "fairness_indicators_metrics/negative_rate@0.4750": {
           "boundedValue": {
            "lowerBound": 0.9472167280256042,
            "upperBound": 0.979393862630651,
            "value": 0.963302752293578
           }
          },
          "fairness_indicators_metrics/negative_rate@0.4875": {
           "boundedValue": {
            "lowerBound": 0.9485474725712972,
            "upperBound": 0.9817327633059292,
            "value": 0.9651376146788991
           }
          },
          "fairness_indicators_metrics/negative_rate@0.5000": {
           "boundedValue": {
            "lowerBound": 0.9532226436585733,
            "upperBound": 0.9843961329567301,
            "value": 0.9688073394495413
           }
          },
          "fairness_indicators_metrics/positive_rate@0.4000": {
           "boundedValue": {
            "lowerBound": 0.0368904696645805,
            "upperBound": 0.06585972506788619,
            "value": 0.05137614678899083
           }
          },
          "fairness_indicators_metrics/positive_rate@0.4125": {
           "boundedValue": {
            "lowerBound": 0.030369376194872472,
            "upperBound": 0.06136672918860557,
            "value": 0.045871559633027525
           }
          },
          "fairness_indicators_metrics/positive_rate@0.4250": {
           "boundedValue": {
            "lowerBound": 0.025344040590782137,
            "upperBound": 0.05905165844538108,
            "value": 0.04220183486238532
           }
          },
          "fairness_indicators_metrics/positive_rate@0.4375": {
           "boundedValue": {
            "lowerBound": 0.025344040590782137,
            "upperBound": 0.05905165844538108,
            "value": 0.04220183486238532
           }
          },
          "fairness_indicators_metrics/positive_rate@0.4500": {
           "boundedValue": {
            "lowerBound": 0.020606137369349218,
            "upperBound": 0.05278327197439578,
            "value": 0.03669724770642202
           }
          },
          "fairness_indicators_metrics/positive_rate@0.4675": {
           "boundedValue": {
            "lowerBound": 0.020606137369349218,
            "upperBound": 0.05278327197439578,
            "value": 0.03669724770642202
           }
          },
          "fairness_indicators_metrics/positive_rate@0.4750": {
           "boundedValue": {
            "lowerBound": 0.020606137369349218,
            "upperBound": 0.05278327197439578,
            "value": 0.03669724770642202
           }
          },
          "fairness_indicators_metrics/positive_rate@0.4875": {
           "boundedValue": {
            "lowerBound": 0.018267236694070547,
            "upperBound": 0.05145252742870263,
            "value": 0.03486238532110092
           }
          },
          "fairness_indicators_metrics/positive_rate@0.5000": {
           "boundedValue": {
            "lowerBound": 0.015603867043269718,
            "upperBound": 0.04677735634142678,
            "value": 0.031192660550458717
           }
          },
          "fairness_indicators_metrics/true_negative_rate@0.4000": {
           "boundedValue": {
            "lowerBound": 0.9580612076059922,
            "upperBound": 0.9863906808736298,
            "value": 0.9722222222222222
           }
          },
          "fairness_indicators_metrics/true_negative_rate@0.4125": {
           "boundedValue": {
            "lowerBound": 0.9580612076059922,
            "upperBound": 0.9863906808736298,
            "value": 0.9722222222222222
           }
          },
          "fairness_indicators_metrics/true_negative_rate@0.4250": {
           "boundedValue": {
            "lowerBound": 0.961995140146124,
            "upperBound": 0.9910053155998153,
            "value": 0.9764957264957265
           }
          },
          "fairness_indicators_metrics/true_negative_rate@0.4375": {
           "boundedValue": {
            "lowerBound": 0.961995140146124,
            "upperBound": 0.9910053155998153,
            "value": 0.9764957264957265
           }
          },
          "fairness_indicators_metrics/true_negative_rate@0.4500": {
           "boundedValue": {
            "lowerBound": 0.9690982372611772,
            "upperBound": 0.9924446705110312,
            "value": 0.9807692307692307
           }
          },
          "fairness_indicators_metrics/true_negative_rate@0.4675": {
           "boundedValue": {
            "lowerBound": 0.9690982372611772,
            "upperBound": 0.9924446705110312,
            "value": 0.9807692307692307
           }
          },
          "fairness_indicators_metrics/true_negative_rate@0.4750": {
           "boundedValue": {
            "lowerBound": 0.9690982372611772,
            "upperBound": 0.9924446705110312,
            "value": 0.9807692307692307
           }
          },
          "fairness_indicators_metrics/true_negative_rate@0.4875": {
           "boundedValue": {
            "lowerBound": 0.9712206703286215,
            "upperBound": 0.9945942376671435,
            "value": 0.9829059829059829
           }
          },
          "fairness_indicators_metrics/true_negative_rate@0.5000": {
           "boundedValue": {
            "lowerBound": 0.9712206703286215,
            "upperBound": 0.9945942376671435,
            "value": 0.9829059829059829
           }
          },
          "fairness_indicators_metrics/true_positive_rate@0.4000": {
           "boundedValue": {
            "lowerBound": 0.10887992217330258,
            "upperBound": 0.28069332833542016,
            "value": 0.19480519480519481
           }
          },
          "fairness_indicators_metrics/true_positive_rate@0.4125": {
           "boundedValue": {
            "lowerBound": 0.07116112618321646,
            "upperBound": 0.2404855092254954,
            "value": 0.15584415584415584
           }
          },
          "fairness_indicators_metrics/true_positive_rate@0.4250": {
           "boundedValue": {
            "lowerBound": 0.07116112618321646,
            "upperBound": 0.2404855092254954,
            "value": 0.15584415584415584
           }
          },
          "fairness_indicators_metrics/true_positive_rate@0.4375": {
           "boundedValue": {
            "lowerBound": 0.07116112618321646,
            "upperBound": 0.2404855092254954,
            "value": 0.15584415584415584
           }
          },
          "fairness_indicators_metrics/true_positive_rate@0.4500": {
           "boundedValue": {
            "lowerBound": 0.06276614921071247,
            "upperBound": 0.2229571428835241,
            "value": 0.14285714285714285
           }
          },
          "fairness_indicators_metrics/true_positive_rate@0.4675": {
           "boundedValue": {
            "lowerBound": 0.06276614921071247,
            "upperBound": 0.2229571428835241,
            "value": 0.14285714285714285
           }
          },
          "fairness_indicators_metrics/true_positive_rate@0.4750": {
           "boundedValue": {
            "lowerBound": 0.06276614921071247,
            "upperBound": 0.2229571428835241,
            "value": 0.14285714285714285
           }
          },
          "fairness_indicators_metrics/true_positive_rate@0.4875": {
           "boundedValue": {
            "lowerBound": 0.06276614921071247,
            "upperBound": 0.2229571428835241,
            "value": 0.14285714285714285
           }
          },
          "fairness_indicators_metrics/true_positive_rate@0.5000": {
           "boundedValue": {
            "lowerBound": 0.049036880145431644,
            "upperBound": 0.1846852851654143,
            "value": 0.11688311688311688
           }
          }
         },
         "slice": "religion:atheist",
         "sliceValue": "atheist"
        },
        {
         "metrics": {
          "accuracy": {
           "boundedValue": {
            "lowerBound": 0.0,
            "upperBound": 0.0,
            "value": 0.0
           }
          },
          "auc": {
           "boundedValue": {
            "lowerBound": 0.7235542567721792,
            "upperBound": 0.7713081191090231,
            "value": 0.747431411686431
           }
          },
          "example_count": {
           "doubleValue": 3015.0
          },
          "fairness_indicators_metrics/false_discovery_rate@0.4000": {
           "boundedValue": {
            "lowerBound": 0.419824416804639,
            "upperBound": 0.5153799460626731,
            "value": 0.4675925925925926
           }
          },
          "fairness_indicators_metrics/false_discovery_rate@0.4125": {
           "boundedValue": {
            "lowerBound": 0.4041322591312562,
            "upperBound": 0.49742435146874747,
            "value": 0.45077720207253885
           }
          },
          "fairness_indicators_metrics/false_discovery_rate@0.4250": {
           "boundedValue": {
            "lowerBound": 0.3779712774325423,
            "upperBound": 0.47914278432413643,
            "value": 0.42857142857142855
           }
          },
          "fairness_indicators_metrics/false_discovery_rate@0.4375": {
           "boundedValue": {
            "lowerBound": 0.3575055427708831,
            "upperBound": 0.4600934763535338,
            "value": 0.4088050314465409
           }
          },
          "fairness_indicators_metrics/false_discovery_rate@0.4500": {
           "boundedValue": {
            "lowerBound": 0.3312762754098986,
            "upperBound": 0.45489199724043866,
            "value": 0.3931034482758621
           }
          },
          "fairness_indicators_metrics/false_discovery_rate@0.4675": {
           "boundedValue": {
            "lowerBound": 0.33429741897247417,
            "upperBound": 0.4469128161152311,
            "value": 0.390625
           }
          },
          "fairness_indicators_metrics/false_discovery_rate@0.4750": {
           "boundedValue": {
            "lowerBound": 0.320354164854336,
            "upperBound": 0.4462951152583232,
            "value": 0.38333333333333336
           }
          },
          "fairness_indicators_metrics/false_discovery_rate@0.4875": {
           "boundedValue": {
            "lowerBound": 0.28989345738981537,
            "upperBound": 0.4422060911063133,
            "value": 0.36607142857142855
           }
          },
          "fairness_indicators_metrics/false_discovery_rate@0.5000": {
           "boundedValue": {
            "lowerBound": 0.2772506454081468,
            "upperBound": 0.43423200476325163,
            "value": 0.3557692307692308
           }
          },
          "fairness_indicators_metrics/false_negative_rate@0.4000": {
           "boundedValue": {
            "lowerBound": 0.7434231039217136,
            "upperBound": 0.8055925153281236,
            "value": 0.7745098039215687
           }
          },
          "fairness_indicators_metrics/false_negative_rate@0.4125": {
           "boundedValue": {
            "lowerBound": 0.7623805884837919,
            "upperBound": 0.8219278582368347,
            "value": 0.792156862745098
           }
          },
          "fairness_indicators_metrics/false_negative_rate@0.4250": {
           "boundedValue": {
            "lowerBound": 0.7741350825329443,
            "upperBound": 0.8337093908965068,
            "value": 0.803921568627451
           }
          },
          "fairness_indicators_metrics/false_negative_rate@0.4375": {
           "boundedValue": {
            "lowerBound": 0.7891726648281326,
            "upperBound": 0.842207251628846,
            "value": 0.8156862745098039
           }
          },
          "fairness_indicators_metrics/false_negative_rate@0.4500": {
           "boundedValue": {
            "lowerBound": 0.8019635292891444,
            "upperBound": 0.8529412314495372,
            "value": 0.8274509803921568
           }
          },
          "fairness_indicators_metrics/false_negative_rate@0.4675": {
           "boundedValue": {
            "lowerBound": 0.8227328408860304,
            "upperBound": 0.8713788756640879,
            "value": 0.8470588235294118
           }
          },
          "fairness_indicators_metrics/false_negative_rate@0.4750": {
           "boundedValue": {
            "lowerBound": 0.8313344071977169,
            "upperBound": 0.8784747228659482,
            "value": 0.8549019607843137
           }
          },
          "fairness_indicators_metrics/false_negative_rate@0.4875": {
           "boundedValue": {
            "lowerBound": 0.8381525366636532,
            "upperBound": 0.8834155938750906,
            "value": 0.8607843137254902
           }
          },
          "fairness_indicators_metrics/false_negative_rate@0.5000": {
           "boundedValue": {
            "lowerBound": 0.8475832047734772,
            "upperBound": 0.8896721997010538,
            "value": 0.8686274509803922
           }
          },
          "fairness_indicators_metrics/false_omission_rate@0.4000": {
           "boundedValue": {
            "lowerBound": 0.13010850344273772,
            "upperBound": 0.15212998701748215,
            "value": 0.1411218292247231
           }
          },
          "fairness_indicators_metrics/false_omission_rate@0.4125": {
           "boundedValue": {
            "lowerBound": 0.13211321668277257,
            "upperBound": 0.1542031422908113,
            "value": 0.14316087880935507
           }
          },
          "fairness_indicators_metrics/false_omission_rate@0.4250": {
           "boundedValue": {
            "lowerBound": 0.1335111912433706,
            "upperBound": 0.15521637056637058,
            "value": 0.1443661971830986
           }
          },
          "fairness_indicators_metrics/false_omission_rate@0.4375": {
           "boundedValue": {
            "lowerBound": 0.13512999264784514,
            "upperBound": 0.1561823508547942,
            "value": 0.14565826330532214
           }
          },
          "fairness_indicators_metrics/false_omission_rate@0.4500": {
           "boundedValue": {
            "lowerBound": 0.13598412718731126,
            "upperBound": 0.15808851135981636,
            "value": 0.1470383275261324
           }
          },
          "fairness_indicators_metrics/false_omission_rate@0.4675": {
           "boundedValue": {
            "lowerBound": 0.13836199976892313,
            "upperBound": 0.1609053742066294,
            "value": 0.1496363006581226
           }
          },
          "fairness_indicators_metrics/false_omission_rate@0.4750": {
           "boundedValue": {
            "lowerBound": 0.13998525618430338,
            "upperBound": 0.16121912994842943,
            "value": 0.15060449050086355
           }
          },
          "fairness_indicators_metrics/false_omission_rate@0.4875": {
           "boundedValue": {
            "lowerBound": 0.14027065445927484,
            "upperBound": 0.1621702667704143,
            "value": 0.15122287289011369
           }
          },
          "fairness_indicators_metrics/false_omission_rate@0.5000": {
           "boundedValue": {
            "lowerBound": 0.14089126609710792,
            "upperBound": 0.16346725013425353,
            "value": 0.15218138096873926
           }
          },
          "fairness_indicators_metrics/false_positive_rate@0.4000": {
           "boundedValue": {
            "lowerBound": 0.033835371358362655,
            "upperBound": 0.04680559300752624,
            "value": 0.04031936127744511
           }
          },
          "fairness_indicators_metrics/false_positive_rate@0.4125": {
           "boundedValue": {
            "lowerBound": 0.028398778878165398,
            "upperBound": 0.04106406649906961,
            "value": 0.03473053892215569
           }
          },
          "fairness_indicators_metrics/false_positive_rate@0.4250": {
           "boundedValue": {
            "lowerBound": 0.023175269654161588,
            "upperBound": 0.03670636814332965,
            "value": 0.029940119760479042
           }
          },
          "fairness_indicators_metrics/false_positive_rate@0.4375": {
           "boundedValue": {
            "lowerBound": 0.020345977106172558,
            "upperBound": 0.031551138410124926,
            "value": 0.02594810379241517
           }
          },
          "fairness_indicators_metrics/false_positive_rate@0.4500": {
           "boundedValue": {
            "lowerBound": 0.01695165793792882,
            "upperBound": 0.0285591175643733,
            "value": 0.022754491017964073
           }
          },
          "fairness_indicators_metrics/false_positive_rate@0.4675": {
           "boundedValue": {
            "lowerBound": 0.014984696319186443,
            "upperBound": 0.02493708831946288,
            "value": 0.01996007984031936
           }
          },
          "fairness_indicators_metrics/false_positive_rate@0.4750": {
           "boundedValue": {
            "lowerBound": 0.013687439256330192,
            "upperBound": 0.023040289676548722,
            "value": 0.018363273453093812
           }
          },
          "fairness_indicators_metrics/false_positive_rate@0.4875": {
           "boundedValue": {
            "lowerBound": 0.011500498516223062,
            "upperBound": 0.02123615137834084,
            "value": 0.016367265469061875
           }
          },
          "fairness_indicators_metrics/false_positive_rate@0.5000": {
           "boundedValue": {
            "lowerBound": 0.01019857030063753,
            "upperBound": 0.01934379657263161,
            "value": 0.014770459081836327
           }
          },
          "fairness_indicators_metrics/negative_rate@0.4000": {
           "boundedValue": {
            "lowerBound": 0.9191289903240264,
            "upperBound": 0.9375850798499304,
            "value": 0.9283582089552239
           }
          },
          "fairness_indicators_metrics/negative_rate@0.4125": {
           "boundedValue": {
            "lowerBound": 0.926698381942447,
            "upperBound": 0.9452729703018314,
            "value": 0.9359867330016584
           }
          },
          "fairness_indicators_metrics/negative_rate@0.4250": {
           "boundedValue": {
            "lowerBound": 0.9320675183000866,
            "upperBound": 0.9518451106495216,
            "value": 0.9419568822553898
           }
          },
          "fairness_indicators_metrics/negative_rate@0.4375": {
           "boundedValue": {
            "lowerBound": 0.9387927572930999,
            "upperBound": 0.9557343877793347,
            "value": 0.9472636815920398
           }
          },
          "fairness_indicators_metrics/negative_rate@0.4500": {
           "boundedValue": {
            "lowerBound": 0.9440071914688921,
            "upperBound": 0.9598062019257161,
            "value": 0.9519071310116086
           }
          },
          "fairness_indicators_metrics/negative_rate@0.4675": {
           "boundedValue": {
            "lowerBound": 0.9501705214381161,
            "upperBound": 0.964918697072186,
            "value": 0.9575456053067993
           }
          },
          "fairness_indicators_metrics/negative_rate@0.4750": {
           "boundedValue": {
            "lowerBound": 0.9531983339346318,
            "upperBound": 0.967198562415971,
            "value": 0.9601990049751243
           }
          },
          "fairness_indicators_metrics/negative_rate@0.4875": {
           "boundedValue": {
            "lowerBound": 0.9564450375677314,
            "upperBound": 0.9692574701060079,
            "value": 0.9628524046434495
           }
          },
          "fairness_indicators_metrics/negative_rate@0.5000": {
           "boundedValue": {
            "lowerBound": 0.9597459146017596,
            "upperBound": 0.9712647584352573,
            "value": 0.9655058043117745
           }
          },
          "fairness_indicators_metrics/positive_rate@0.4000": {
           "boundedValue": {
            "lowerBound": 0.06241492015006954,
            "upperBound": 0.0808710096759737,
            "value": 0.07164179104477612
           }
          },
          "fairness_indicators_metrics/positive_rate@0.4125": {
           "boundedValue": {
            "lowerBound": 0.05472702969816853,
            "upperBound": 0.073301618057553,
            "value": 0.06401326699834163
           }
          },
          "fairness_indicators_metrics/positive_rate@0.4250": {
           "boundedValue": {
            "lowerBound": 0.04815488935047821,
            "upperBound": 0.06793248169991352,
            "value": 0.05804311774461028
           }
          },
          "fairness_indicators_metrics/positive_rate@0.4375": {
           "boundedValue": {
            "lowerBound": 0.0442656122206652,
            "upperBound": 0.06120724270690007,
            "value": 0.0527363184079602
           }
          },
          "fairness_indicators_metrics/positive_rate@0.4500": {
           "boundedValue": {
            "lowerBound": 0.04019379807428422,
            "upperBound": 0.05599280853110779,
            "value": 0.04809286898839138
           }
          },
          "fairness_indicators_metrics/positive_rate@0.4675": {
           "boundedValue": {
            "lowerBound": 0.03508130292781392,
            "upperBound": 0.04982947856188394,
            "value": 0.04245439469320066
           }
          },
          "fairness_indicators_metrics/positive_rate@0.4750": {
           "boundedValue": {
            "lowerBound": 0.03280143758402873,
            "upperBound": 0.04680166606536805,
            "value": 0.03980099502487562
           }
          },
          "fairness_indicators_metrics/positive_rate@0.4875": {
           "boundedValue": {
            "lowerBound": 0.03074252989399241,
            "upperBound": 0.04355496243226857,
            "value": 0.03714759535655058
           }
          },
          "fairness_indicators_metrics/positive_rate@0.5000": {
           "boundedValue": {
            "lowerBound": 0.02873524156474276,
            "upperBound": 0.040254085398240255,
            "value": 0.03449419568822554
           }
          },
          "fairness_indicators_metrics/true_negative_rate@0.4000": {
           "boundedValue": {
            "lowerBound": 0.953194406992474,
            "upperBound": 0.9661646286416372,
            "value": 0.9596806387225549
           }
          },
          "fairness_indicators_metrics/true_negative_rate@0.4125": {
           "boundedValue": {
            "lowerBound": 0.9589359335009304,
            "upperBound": 0.9716012211218346,
            "value": 0.9652694610778443
           }
          },
          "fairness_indicators_metrics/true_negative_rate@0.4250": {
           "boundedValue": {
            "lowerBound": 0.9632936318566704,
            "upperBound": 0.9768247303458383,
            "value": 0.9700598802395209
           }
          },
          "fairness_indicators_metrics/true_negative_rate@0.4375": {
           "boundedValue": {
            "lowerBound": 0.9684488615898751,
            "upperBound": 0.9796540228938276,
            "value": 0.9740518962075848
           }
          },
          "fairness_indicators_metrics/true_negative_rate@0.4500": {
           "boundedValue": {
            "lowerBound": 0.9714408824356267,
            "upperBound": 0.9830483420620715,
            "value": 0.9772455089820359
           }
          },
          "fairness_indicators_metrics/true_negative_rate@0.4675": {
           "boundedValue": {
            "lowerBound": 0.9750629116805373,
            "upperBound": 0.9850153036808135,
            "value": 0.9800399201596807
           }
          },
          "fairness_indicators_metrics/true_negative_rate@0.4750": {
           "boundedValue": {
            "lowerBound": 0.9769597103234514,
            "upperBound": 0.9863125607436697,
            "value": 0.9816367265469061
           }
          },
          "fairness_indicators_metrics/true_negative_rate@0.4875": {
           "boundedValue": {
            "lowerBound": 0.978763848621659,
            "upperBound": 0.988499501483777,
            "value": 0.9836327345309381
           }
          },
          "fairness_indicators_metrics/true_negative_rate@0.5000": {
           "boundedValue": {
            "lowerBound": 0.9806562034273681,
            "upperBound": 0.9898014296993626,
            "value": 0.9852295409181637
           }
          },
          "fairness_indicators_metrics/true_positive_rate@0.4000": {
           "boundedValue": {
            "lowerBound": 0.19440748467187638,
            "upperBound": 0.2565768960782866,
            "value": 0.22549019607843138
           }
          },
          "fairness_indicators_metrics/true_positive_rate@0.4125": {
           "boundedValue": {
            "lowerBound": 0.1780721417631653,
            "upperBound": 0.23761941151620805,
            "value": 0.20784313725490197
           }
          },
          "fairness_indicators_metrics/true_positive_rate@0.4250": {
           "boundedValue": {
            "lowerBound": 0.16629060910349336,
            "upperBound": 0.22586491746705573,
            "value": 0.19607843137254902
           }
          },
          "fairness_indicators_metrics/true_positive_rate@0.4375": {
           "boundedValue": {
            "lowerBound": 0.15779274837115412,
            "upperBound": 0.21082733517186739,
            "value": 0.1843137254901961
           }
          },
          "fairness_indicators_metrics/true_positive_rate@0.4500": {
           "boundedValue": {
            "lowerBound": 0.1470587685504629,
            "upperBound": 0.19803647071085573,
            "value": 0.17254901960784313
           }
          },
          "fairness_indicators_metrics/true_positive_rate@0.4675": {
           "boundedValue": {
            "lowerBound": 0.1286211243359121,
            "upperBound": 0.1772671591139695,
            "value": 0.15294117647058825
           }
          },
          "fairness_indicators_metrics/true_positive_rate@0.4750": {
           "boundedValue": {
            "lowerBound": 0.12152527713405151,
            "upperBound": 0.16866559280228335,
            "value": 0.1450980392156863
           }
          },
          "fairness_indicators_metrics/true_positive_rate@0.4875": {
           "boundedValue": {
            "lowerBound": 0.11658440612490972,
            "upperBound": 0.16184746333634664,
            "value": 0.1392156862745098
           }
          },
          "fairness_indicators_metrics/true_positive_rate@0.5000": {
           "boundedValue": {
            "lowerBound": 0.11032780029894622,
            "upperBound": 0.15241679522652285,
            "value": 0.13137254901960785
           }
          }
         },
         "slice": "religion:jewish",
         "sliceValue": "jewish"
        },
        {
         "metrics": {
          "accuracy": {
           "boundedValue": {
            "lowerBound": 0.0,
            "upperBound": 0.0,
            "value": 0.0
           }
          },
          "auc": {
           "boundedValue": {
            "lowerBound": 0.7615725396177757,
            "upperBound": 0.8952121995258715,
            "value": 0.8283918788269417
           }
          },
          "example_count": {
           "doubleValue": 243.0
          },
          "fairness_indicators_metrics/false_discovery_rate@0.4000": {
           "boundedValue": {
            "lowerBound": 0.26139348324518563,
            "upperBound": 0.8054197035680009,
            "value": 0.5333333333333333
           }
          },
          "fairness_indicators_metrics/false_discovery_rate@0.4125": {
           "boundedValue": {
            "lowerBound": 0.16322729737958036,
            "upperBound": 0.7594650103127276,
            "value": 0.46153846153846156
           }
          },
          "fairness_indicators_metrics/false_discovery_rate@0.4250": {
           "boundedValue": {
            "lowerBound": 0.09130898760898853,
            "upperBound": 0.8172011134011125,
            "value": 0.45454545454545453
           }
          },
          "fairness_indicators_metrics/false_discovery_rate@0.4375": {
           "boundedValue": {
            "lowerBound": 0.002313789960084578,
            "upperBound": 0.7962576386113441,
            "value": 0.4
           }
          },
          "fairness_indicators_metrics/false_discovery_rate@0.4500": {
           "boundedValue": {
            "lowerBound": 0.014562934246764303,
            "upperBound": 0.8731354784516485,
            "value": 0.4444444444444444
           }
          },
          "fairness_indicators_metrics/false_discovery_rate@0.4675": {
           "boundedValue": {
            "lowerBound": -0.12593518819666727,
            "upperBound": 0.8727209024823817,
            "value": 0.375
           }
          },
          "fairness_indicators_metrics/false_discovery_rate@0.4750": {
           "boundedValue": {
            "lowerBound": -0.12593518819666727,
            "upperBound": 0.8727209024823817,
            "value": 0.375
           }
          },
          "fairness_indicators_metrics/false_discovery_rate@0.4875": {
           "boundedValue": {
            "lowerBound": -0.3597763971276601,
            "upperBound": 0.9235859209371836,
            "value": 0.2857142857142857
           }
          },
          "fairness_indicators_metrics/false_discovery_rate@0.5000": {
           "boundedValue": {
            "lowerBound": -0.390412592471797,
            "upperBound": 1.0437459258051303,
            "value": 0.3333333333333333
           }
          },
          "fairness_indicators_metrics/false_negative_rate@0.4000": {
           "boundedValue": {
            "lowerBound": 0.5755976770391877,
            "upperBound": 0.9416026513680376,
            "value": 0.7586206896551724
           }
          },
          "fairness_indicators_metrics/false_negative_rate@0.4125": {
           "boundedValue": {
            "lowerBound": 0.5755976770391877,
            "upperBound": 0.9416026513680376,
            "value": 0.7586206896551724
           }
          },
          "fairness_indicators_metrics/false_negative_rate@0.4250": {
           "boundedValue": {
            "lowerBound": 0.6121382139054368,
            "upperBound": 0.9740160532833135,
            "value": 0.7931034482758621
           }
          },
          "fairness_indicators_metrics/false_negative_rate@0.4375": {
           "boundedValue": {
            "lowerBound": 0.6121382139054368,
            "upperBound": 0.9740160532833135,
            "value": 0.7931034482758621
           }
          },
          "fairness_indicators_metrics/false_negative_rate@0.4500": {
           "boundedValue": {
            "lowerBound": 0.6559690330547124,
            "upperBound": 0.9992714480478372,
            "value": 0.8275862068965517
           }
          },
          "fairness_indicators_metrics/false_negative_rate@0.4675": {
           "boundedValue": {
            "lowerBound": 0.6559690330547124,
            "upperBound": 0.9992714480478372,
            "value": 0.8275862068965517
           }
          },
          "fairness_indicators_metrics/false_negative_rate@0.4750": {
           "boundedValue": {
            "lowerBound": 0.6559690330547124,
            "upperBound": 0.9992714480478372,
            "value": 0.8275862068965517
           }
          },
          "fairness_indicators_metrics/false_negative_rate@0.4875": {
           "boundedValue": {
            "lowerBound": 0.6559690330547124,
            "upperBound": 0.9992714480478372,
            "value": 0.8275862068965517
           }
          },
          "fairness_indicators_metrics/false_negative_rate@0.5000": {
           "boundedValue": {
            "lowerBound": 0.7352832204823398,
            "upperBound": 0.988911199401735,
            "value": 0.8620689655172413
           }
          },
          "fairness_indicators_metrics/false_omission_rate@0.4000": {
           "boundedValue": {
            "lowerBound": 0.06635640919222136,
            "upperBound": 0.12660571180768312,
            "value": 0.09649122807017543
           }
          },
          "fairness_indicators_metrics/false_omission_rate@0.4125": {
           "boundedValue": {
            "lowerBound": 0.06585778972643143,
            "upperBound": 0.12542660437227385,
            "value": 0.09565217391304348
           }
          },
          "fairness_indicators_metrics/false_omission_rate@0.4250": {
           "boundedValue": {
            "lowerBound": 0.06793452644107698,
            "upperBound": 0.13032807154974352,
            "value": 0.09913793103448276
           }
          },
          "fairness_indicators_metrics/false_omission_rate@0.4375": {
           "boundedValue": {
            "lowerBound": 0.06786484449937663,
            "upperBound": 0.12954494793986226,
            "value": 0.09871244635193133
           }
          },
          "fairness_indicators_metrics/false_omission_rate@0.4500": {
           "boundedValue": {
            "lowerBound": 0.07278225604483188,
            "upperBound": 0.1323388810182599,
            "value": 0.10256410256410256
           }
          },
          "fairness_indicators_metrics/false_omission_rate@0.4675": {
           "boundedValue": {
            "lowerBound": 0.07262345242756132,
            "upperBound": 0.13162420682513837,
            "value": 0.10212765957446808
           }
          },
          "fairness_indicators_metrics/false_omission_rate@0.4750": {
           "boundedValue": {
            "lowerBound": 0.07262345242756132,
            "upperBound": 0.13162420682513837,
            "value": 0.10212765957446808
           }
          },
          "fairness_indicators_metrics/false_omission_rate@0.4875": {
           "boundedValue": {
            "lowerBound": 0.07207527872822074,
            "upperBound": 0.13130961645676703,
            "value": 0.1016949152542373
           }
          },
          "fairness_indicators_metrics/false_omission_rate@0.5000": {
           "boundedValue": {
            "lowerBound": 0.0766695117479984,
            "upperBound": 0.13430560713969422,
            "value": 0.10548523206751055
           }
          },
          "fairness_indicators_metrics/false_positive_rate@0.4000": {
           "boundedValue": {
            "lowerBound": 0.013858306089389254,
            "upperBound": 0.06086968250145249,
            "value": 0.037383177570093455
           }
          },
          "fairness_indicators_metrics/false_positive_rate@0.4125": {
           "boundedValue": {
            "lowerBound": 0.004517599953581048,
            "upperBound": 0.05152588469973492,
            "value": 0.028037383177570093
           }
          },
          "fairness_indicators_metrics/false_positive_rate@0.4250": {
           "boundedValue": {
            "lowerBound": 0.00039849224686823795,
            "upperBound": 0.04630022824250907,
            "value": 0.02336448598130841
           }
          },
          "fairness_indicators_metrics/false_positive_rate@0.4375": {
           "boundedValue": {
            "lowerBound": -0.00329848738984204,
            "upperBound": 0.04064759028876157,
            "value": 0.018691588785046728
           }
          },
          "fairness_indicators_metrics/false_positive_rate@0.4500": {
           "boundedValue": {
            "lowerBound": -0.00329848738984204,
            "upperBound": 0.04064759028876157,
            "value": 0.018691588785046728
           }
          },
          "fairness_indicators_metrics/false_positive_rate@0.4675": {
           "boundedValue": {
            "lowerBound": -0.00691887733864989,
            "upperBound": 0.03492567900649122,
            "value": 0.014018691588785047
           }
          },
          "fairness_indicators_metrics/false_positive_rate@0.4750": {
           "boundedValue": {
            "lowerBound": -0.00691887733864989,
            "upperBound": 0.03492567900649122,
            "value": 0.014018691588785047
           }
          },
          "fairness_indicators_metrics/false_positive_rate@0.4875": {
           "boundedValue": {
            "lowerBound": -0.010245940589523706,
            "upperBound": 0.028920542801673856,
            "value": 0.009345794392523364
           }
          },
          "fairness_indicators_metrics/false_positive_rate@0.5000": {
           "boundedValue": {
            "lowerBound": -0.010245940589523706,
            "upperBound": 0.028920542801673856,
            "value": 0.009345794392523364
           }
          },
          "fairness_indicators_metrics/negative_rate@0.4000": {
           "boundedValue": {
            "lowerBound": 0.9078202302987158,
            "upperBound": 0.9687413626235614,
            "value": 0.9382716049382716
           }
          },
          "fairness_indicators_metrics/negative_rate@0.4125": {
           "boundedValue": {
            "lowerBound": 0.9141375155661287,
            "upperBound": 0.978879438028494,
            "value": 0.9465020576131687
           }
          },
          "fairness_indicators_metrics/negative_rate@0.4250": {
           "boundedValue": {
            "lowerBound": 0.9243420375822186,
            "upperBound": 0.9851416878357043,
            "value": 0.9547325102880658
           }
          },
          "fairness_indicators_metrics/negative_rate@0.4375": {
           "boundedValue": {
            "lowerBound": 0.9282854922151421,
            "upperBound": 0.9894307022605565,
            "value": 0.9588477366255144
           }
          },
          "fairness_indicators_metrics/negative_rate@0.4500": {
           "boundedValue": {
            "lowerBound": 0.9326186087886333,
            "upperBound": 0.9933356047503911,
            "value": 0.9629629629629629
           }
          },
          "fairness_indicators_metrics/negative_rate@0.4675": {
           "boundedValue": {
            "lowerBound": 0.9364992964130606,
            "upperBound": 0.9976816901254119,
            "value": 0.9670781893004116
           }
          },
          "fairness_indicators_metrics/negative_rate@0.4750": {
           "boundedValue": {
            "lowerBound": 0.9364992964130606,
            "upperBound": 0.9976816901254119,
            "value": 0.9670781893004116
           }
          },
          "fairness_indicators_metrics/negative_rate@0.4875": {
           "boundedValue": {
            "lowerBound": 0.9403357996946775,
            "upperBound": 1.0020661118900274,
            "value": 0.9711934156378601
           }
          },
          "fairness_indicators_metrics/negative_rate@0.5000": {
           "boundedValue": {
            "lowerBound": 0.9475977118403861,
            "upperBound": 1.0030422188076438,
            "value": 0.9753086419753086
           }
          },
          "fairness_indicators_metrics/positive_rate@0.4000": {
           "boundedValue": {
            "lowerBound": 0.031258637376439094,
            "upperBound": 0.09217976970128382,
            "value": 0.06172839506172839
           }
          },
          "fairness_indicators_metrics/positive_rate@0.4125": {
           "boundedValue": {
            "lowerBound": 0.02112056197150579,
            "upperBound": 0.08586248443387147,
            "value": 0.053497942386831275
           }
          },
          "fairness_indicators_metrics/positive_rate@0.4250": {
           "boundedValue": {
            "lowerBound": 0.014858312164295662,
            "upperBound": 0.0756579624177812,
            "value": 0.04526748971193416
           }
          },
          "fairness_indicators_metrics/positive_rate@0.4375": {
           "boundedValue": {
            "lowerBound": 0.010569297739443227,
            "upperBound": 0.07171450778485791,
            "value": 0.0411522633744856
           }
          },
          "fairness_indicators_metrics/positive_rate@0.4500": {
           "boundedValue": {
            "lowerBound": 0.006664395249609042,
            "upperBound": 0.06738139121136641,
            "value": 0.037037037037037035
           }
          },
          "fairness_indicators_metrics/positive_rate@0.4675": {
           "boundedValue": {
            "lowerBound": 0.002318309874587879,
            "upperBound": 0.06350070358693952,
            "value": 0.03292181069958848
           }
          },
          "fairness_indicators_metrics/positive_rate@0.4750": {
           "boundedValue": {
            "lowerBound": 0.002318309874587879,
            "upperBound": 0.06350070358693952,
            "value": 0.03292181069958848
           }
          },
          "fairness_indicators_metrics/positive_rate@0.4875": {
           "boundedValue": {
            "lowerBound": -0.0020661118900270614,
            "upperBound": 0.05966420030532274,
            "value": 0.02880658436213992
           }
          },
          "fairness_indicators_metrics/positive_rate@0.5000": {
           "boundedValue": {
            "lowerBound": -0.00304221880764384,
            "upperBound": 0.05240228815961383,
            "value": 0.024691358024691357
           }
          },
          "fairness_indicators_metrics/true_negative_rate@0.4000": {
           "boundedValue": {
            "lowerBound": 0.9391303174985474,
            "upperBound": 0.9861416939106108,
            "value": 0.9626168224299065
           }
          },
          "fairness_indicators_metrics/true_negative_rate@0.4125": {
           "boundedValue": {
            "lowerBound": 0.948474115300265,
            "upperBound": 0.9954824000464187,
            "value": 0.9719626168224299
           }
          },
          "fairness_indicators_metrics/true_negative_rate@0.4250": {
           "boundedValue": {
            "lowerBound": 0.953699771757491,
            "upperBound": 0.9996015077531318,
            "value": 0.9766355140186916
           }
          },
          "fairness_indicators_metrics/true_negative_rate@0.4375": {
           "boundedValue": {
            "lowerBound": 0.9593524097112386,
            "upperBound": 1.0032984873898423,
            "value": 0.9813084112149533
           }
          },
          "fairness_indicators_metrics/true_negative_rate@0.4500": {
           "boundedValue": {
            "lowerBound": 0.9593524097112386,
            "upperBound": 1.0032984873898423,
            "value": 0.9813084112149533
           }
          },
          "fairness_indicators_metrics/true_negative_rate@0.4675": {
           "boundedValue": {
            "lowerBound": 0.965074320993509,
            "upperBound": 1.0069188773386495,
            "value": 0.985981308411215
           }
          },
          "fairness_indicators_metrics/true_negative_rate@0.4750": {
           "boundedValue": {
            "lowerBound": 0.965074320993509,
            "upperBound": 1.0069188773386495,
            "value": 0.985981308411215
           }
          },
          "fairness_indicators_metrics/true_negative_rate@0.4875": {
           "boundedValue": {
            "lowerBound": 0.9710794571983262,
            "upperBound": 1.0102459405895239,
            "value": 0.9906542056074766
           }
          },
          "fairness_indicators_metrics/true_negative_rate@0.5000": {
           "boundedValue": {
            "lowerBound": 0.9710794571983262,
            "upperBound": 1.0102459405895239,
            "value": 0.9906542056074766
           }
          },
          "fairness_indicators_metrics/true_positive_rate@0.4000": {
           "boundedValue": {
            "lowerBound": 0.0583973486319628,
            "upperBound": 0.42440232296081226,
            "value": 0.2413793103448276
           }
          },
          "fairness_indicators_metrics/true_positive_rate@0.4125": {
           "boundedValue": {
            "lowerBound": 0.0583973486319628,
            "upperBound": 0.42440232296081226,
            "value": 0.2413793103448276
           }
          },
          "fairness_indicators_metrics/true_positive_rate@0.4250": {
           "boundedValue": {
            "lowerBound": 0.025983946716686468,
            "upperBound": 0.38786178609456357,
            "value": 0.20689655172413793
           }
          },
          "fairness_indicators_metrics/true_positive_rate@0.4375": {
           "boundedValue": {
            "lowerBound": 0.025983946716686468,
            "upperBound": 0.38786178609456357,
            "value": 0.20689655172413793
           }
          },
          "fairness_indicators_metrics/true_positive_rate@0.4500": {
           "boundedValue": {
            "lowerBound": 0.000728551952162676,
            "upperBound": 0.3440309669452871,
            "value": 0.1724137931034483
           }
          },
          "fairness_indicators_metrics/true_positive_rate@0.4675": {
           "boundedValue": {
            "lowerBound": 0.000728551952162676,
            "upperBound": 0.3440309669452871,
            "value": 0.1724137931034483
           }
          },
          "fairness_indicators_metrics/true_positive_rate@0.4750": {
           "boundedValue": {
            "lowerBound": 0.000728551952162676,
            "upperBound": 0.3440309669452871,
            "value": 0.1724137931034483
           }
          },
          "fairness_indicators_metrics/true_positive_rate@0.4875": {
           "boundedValue": {
            "lowerBound": 0.000728551952162676,
            "upperBound": 0.3440309669452871,
            "value": 0.1724137931034483
           }
          },
          "fairness_indicators_metrics/true_positive_rate@0.5000": {
           "boundedValue": {
            "lowerBound": 0.011088800598264864,
            "upperBound": 0.26471677951766015,
            "value": 0.13793103448275862
           }
          }
         },
         "slice": "religion:buddhist",
         "sliceValue": "buddhist"
        },
        {
         "metrics": {
          "accuracy": {
           "boundedValue": {
            "lowerBound": 0.0,
            "upperBound": 0.0,
            "value": 0.0
           }
          },
          "auc": {
           "boundedValue": {
            "lowerBound": 0.7153903034838246,
            "upperBound": 0.9223652723806132,
            "value": 0.8187695924764891
           }
          },
          "example_count": {
           "doubleValue": 138.0
          },
          "fairness_indicators_metrics/false_discovery_rate@0.4000": {
           "boundedValue": {
            "lowerBound": -0.24652828270336458,
            "upperBound": 0.6415282827033647,
            "value": 0.2
           }
          },
          "fairness_indicators_metrics/false_discovery_rate@0.4125": {
           "boundedValue": {
            "lowerBound": -0.24652828270336458,
            "upperBound": 0.6415282827033647,
            "value": 0.2
           }
          },
          "fairness_indicators_metrics/false_discovery_rate@0.4250": {
           "boundedValue": {
            "lowerBound": 0.0,
            "upperBound": 0.0,
            "value": 0.0
           }
          },
          "fairness_indicators_metrics/false_discovery_rate@0.4375": {
           "boundedValue": {
            "lowerBound": 0.0,
            "upperBound": 0.0,
            "value": 0.0
           }
          },
          "fairness_indicators_metrics/false_discovery_rate@0.4500": {
           "boundedValue": {
            "lowerBound": 0.0,
            "upperBound": 0.0,
            "value": 0.0
           }
          },
          "fairness_indicators_metrics/false_discovery_rate@0.4675": {
           "boundedValue": {
            "lowerBound": 0.0,
            "upperBound": 0.0,
            "value": 0.0
           }
          },
          "fairness_indicators_metrics/false_discovery_rate@0.4750": {
           "boundedValue": {
            "lowerBound": 0.0,
            "upperBound": 0.0,
            "value": 0.0
           }
          },
          "fairness_indicators_metrics/false_discovery_rate@0.4875": {
           "boundedValue": {
            "lowerBound": 0.0,
            "upperBound": 0.0,
            "value": 0.0
           }
          },
          "fairness_indicators_metrics/false_discovery_rate@0.5000": {
           "boundedValue": {
            "lowerBound": 0.0,
            "upperBound": 0.0,
            "value": 0.0
           }
          },
          "fairness_indicators_metrics/false_negative_rate@0.4000": {
           "boundedValue": {
            "lowerBound": 0.6375826849215508,
            "upperBound": 0.9983639999725024,
            "value": 0.8181818181818182
           }
          },
          "fairness_indicators_metrics/false_negative_rate@0.4125": {
           "boundedValue": {
            "lowerBound": 0.6375826849215508,
            "upperBound": 0.9983639999725024,
            "value": 0.8181818181818182
           }
          },
          "fairness_indicators_metrics/false_negative_rate@0.4250": {
           "boundedValue": {
            "lowerBound": 0.6375826849215508,
            "upperBound": 0.9983639999725024,
            "value": 0.8181818181818182
           }
          },
          "fairness_indicators_metrics/false_negative_rate@0.4375": {
           "boundedValue": {
            "lowerBound": 0.6996833488855051,
            "upperBound": 1.027157617165987,
            "value": 0.8636363636363636
           }
          },
          "fairness_indicators_metrics/false_negative_rate@0.4500": {
           "boundedValue": {
            "lowerBound": 0.6996833488855051,
            "upperBound": 1.027157617165987,
            "value": 0.8636363636363636
           }
          },
          "fairness_indicators_metrics/false_negative_rate@0.4675": {
           "boundedValue": {
            "lowerBound": 0.7704737873150602,
            "upperBound": 1.0472614598938712,
            "value": 0.9090909090909091
           }
          },
          "fairness_indicators_metrics/false_negative_rate@0.4750": {
           "boundedValue": {
            "lowerBound": 0.7704737873150602,
            "upperBound": 1.0472614598938712,
            "value": 0.9090909090909091
           }
          },
          "fairness_indicators_metrics/false_negative_rate@0.4875": {
           "boundedValue": {
            "lowerBound": 0.7704737873150602,
            "upperBound": 1.0472614598938712,
            "value": 0.9090909090909091
           }
          },
          "fairness_indicators_metrics/false_negative_rate@0.5000": {
           "boundedValue": {
            "lowerBound": 0.7704737873150602,
            "upperBound": 1.0472614598938712,
            "value": 0.9090909090909091
           }
          },
          "fairness_indicators_metrics/false_omission_rate@0.4000": {
           "boundedValue": {
            "lowerBound": 0.07163828288471574,
            "upperBound": 0.19905093578145783,
            "value": 0.13533834586466165
           }
          },
          "fairness_indicators_metrics/false_omission_rate@0.4125": {
           "boundedValue": {
            "lowerBound": 0.07163828288471574,
            "upperBound": 0.19905093578145783,
            "value": 0.13533834586466165
           }
          },
          "fairness_indicators_metrics/false_omission_rate@0.4250": {
           "boundedValue": {
            "lowerBound": 0.0714087743456226,
            "upperBound": 0.1972534428845507,
            "value": 0.13432835820895522
           }
          },
          "fairness_indicators_metrics/false_omission_rate@0.4375": {
           "boundedValue": {
            "lowerBound": 0.07533328763109348,
            "upperBound": 0.206166838664687,
            "value": 0.14074074074074075
           }
          },
          "fairness_indicators_metrics/false_omission_rate@0.4500": {
           "boundedValue": {
            "lowerBound": 0.07533328763109348,
            "upperBound": 0.206166838664687,
            "value": 0.14074074074074075
           }
          },
          "fairness_indicators_metrics/false_omission_rate@0.4675": {
           "boundedValue": {
            "lowerBound": 0.0802346187282673,
            "upperBound": 0.21390605534977902,
            "value": 0.14705882352941177
           }
          },
          "fairness_indicators_metrics/false_omission_rate@0.4750": {
           "boundedValue": {
            "lowerBound": 0.0802346187282673,
            "upperBound": 0.21390605534977902,
            "value": 0.14705882352941177
           }
          },
          "fairness_indicators_metrics/false_omission_rate@0.4875": {
           "boundedValue": {
            "lowerBound": 0.0802346187282673,
            "upperBound": 0.21390605534977902,
            "value": 0.14705882352941177
           }
          },
          "fairness_indicators_metrics/false_omission_rate@0.5000": {
           "boundedValue": {
            "lowerBound": 0.0802346187282673,
            "upperBound": 0.21390605534977902,
            "value": 0.14705882352941177
           }
          },
          "fairness_indicators_metrics/false_positive_rate@0.4000": {
           "boundedValue": {
            "lowerBound": -0.009549064913431637,
            "upperBound": 0.0268238503612125,
            "value": 0.008620689655172414
           }
          },
          "fairness_indicators_metrics/false_positive_rate@0.4125": {
           "boundedValue": {
            "lowerBound": -0.009549064913431637,
            "upperBound": 0.0268238503612125,
            "value": 0.008620689655172414
           }
          },
          "fairness_indicators_metrics/false_positive_rate@0.4250": {
           "boundedValue": {
            "lowerBound": 0.0,
            "upperBound": 0.0,
            "value": 0.0
           }
          },
          "fairness_indicators_metrics/false_positive_rate@0.4375": {
           "boundedValue": {
            "lowerBound": 0.0,
            "upperBound": 0.0,
            "value": 0.0
           }
          },
          "fairness_indicators_metrics/false_positive_rate@0.4500": {
           "boundedValue": {
            "lowerBound": 0.0,
            "upperBound": 0.0,
            "value": 0.0
           }
          },
          "fairness_indicators_metrics/false_positive_rate@0.4675": {
           "boundedValue": {
            "lowerBound": 0.0,
            "upperBound": 0.0,
            "value": 0.0
           }
          },
          "fairness_indicators_metrics/false_positive_rate@0.4750": {
           "boundedValue": {
            "lowerBound": 0.0,
            "upperBound": 0.0,
            "value": 0.0
           }
          },
          "fairness_indicators_metrics/false_positive_rate@0.4875": {
           "boundedValue": {
            "lowerBound": 0.0,
            "upperBound": 0.0,
            "value": 0.0
           }
          },
          "fairness_indicators_metrics/false_positive_rate@0.5000": {
           "boundedValue": {
            "lowerBound": 0.0,
            "upperBound": 0.0,
            "value": 0.0
           }
          },
          "fairness_indicators_metrics/negative_rate@0.4000": {
           "boundedValue": {
            "lowerBound": 0.924008274378727,
            "upperBound": 1.0034403682094466,
            "value": 0.9637681159420289
           }
          },
          "fairness_indicators_metrics/negative_rate@0.4125": {
           "boundedValue": {
            "lowerBound": 0.924008274378727,
            "upperBound": 1.0034403682094466,
            "value": 0.9637681159420289
           }
          },
          "fairness_indicators_metrics/negative_rate@0.4250": {
           "boundedValue": {
            "lowerBound": 0.9410479052028663,
            "upperBound": 1.0009112099610349,
            "value": 0.9710144927536232
           }
          },
          "fairness_indicators_metrics/negative_rate@0.4375": {
           "boundedValue": {
            "lowerBound": 0.952160736372753,
            "upperBound": 1.0043088513668736,
            "value": 0.9782608695652174
           }
          },
          "fairness_indicators_metrics/negative_rate@0.4500": {
           "boundedValue": {
            "lowerBound": 0.952160736372753,
            "upperBound": 1.0043088513668736,
            "value": 0.9782608695652174
           }
          },
          "fairness_indicators_metrics/negative_rate@0.4675": {
           "boundedValue": {
            "lowerBound": 0.9638849916539727,
            "upperBound": 1.0070835895820032,
            "value": 0.9855072463768116
           }
          },
          "fairness_indicators_metrics/negative_rate@0.4750": {
           "boundedValue": {
            "lowerBound": 0.9638849916539727,
            "upperBound": 1.0070835895820032,
            "value": 0.9855072463768116
           }
          },
          "fairness_indicators_metrics/negative_rate@0.4875": {
           "boundedValue": {
            "lowerBound": 0.9638849916539727,
            "upperBound": 1.0070835895820032,
            "value": 0.9855072463768116
           }
          },
          "fairness_indicators_metrics/negative_rate@0.5000": {
           "boundedValue": {
            "lowerBound": 0.9638849916539727,
            "upperBound": 1.0070835895820032,
            "value": 0.9855072463768116
           }
          },
          "fairness_indicators_metrics/positive_rate@0.4000": {
           "boundedValue": {
            "lowerBound": -0.0034403682094472296,
            "upperBound": 0.07599172562127304,
            "value": 0.036231884057971016
           }
          },
          "fairness_indicators_metrics/positive_rate@0.4125": {
           "boundedValue": {
            "lowerBound": -0.0034403682094472296,
            "upperBound": 0.07599172562127304,
            "value": 0.036231884057971016
           }
          },
          "fairness_indicators_metrics/positive_rate@0.4250": {
           "boundedValue": {
            "lowerBound": -0.0009112099610345467,
            "upperBound": 0.05895209479713382,
            "value": 0.028985507246376812
           }
          },
          "fairness_indicators_metrics/positive_rate@0.4375": {
           "boundedValue": {
            "lowerBound": -0.004308851366873971,
            "upperBound": 0.04783926362724671,
            "value": 0.021739130434782608
           }
          },
          "fairness_indicators_metrics/positive_rate@0.4500": {
           "boundedValue": {
            "lowerBound": -0.004308851366873971,
            "upperBound": 0.04783926362724671,
            "value": 0.021739130434782608
           }
          },
          "fairness_indicators_metrics/positive_rate@0.4675": {
           "boundedValue": {
            "lowerBound": -0.0070835895820032194,
            "upperBound": 0.03611500834602728,
            "value": 0.014492753623188406
           }
          },
          "fairness_indicators_metrics/positive_rate@0.4750": {
           "boundedValue": {
            "lowerBound": -0.0070835895820032194,
            "upperBound": 0.03611500834602728,
            "value": 0.014492753623188406
           }
          },
          "fairness_indicators_metrics/positive_rate@0.4875": {
           "boundedValue": {
            "lowerBound": -0.0070835895820032194,
            "upperBound": 0.03611500834602728,
            "value": 0.014492753623188406
           }
          },
          "fairness_indicators_metrics/positive_rate@0.5000": {
           "boundedValue": {
            "lowerBound": -0.0070835895820032194,
            "upperBound": 0.03611500834602728,
            "value": 0.014492753623188406
           }
          },
          "fairness_indicators_metrics/true_negative_rate@0.4000": {
           "boundedValue": {
            "lowerBound": 0.9731761496387876,
            "upperBound": 1.0095490649134318,
            "value": 0.9913793103448276
           }
          },
          "fairness_indicators_metrics/true_negative_rate@0.4125": {
           "boundedValue": {
            "lowerBound": 0.9731761496387876,
            "upperBound": 1.0095490649134318,
            "value": 0.9913793103448276
           }
          },
          "fairness_indicators_metrics/true_negative_rate@0.4250": {
           "boundedValue": {
            "lowerBound": 1.0,
            "upperBound": 1.0,
            "value": 1.0
           }
          },
          "fairness_indicators_metrics/true_negative_rate@0.4375": {
           "boundedValue": {
            "lowerBound": 1.0,
            "upperBound": 1.0,
            "value": 1.0
           }
          },
          "fairness_indicators_metrics/true_negative_rate@0.4500": {
           "boundedValue": {
            "lowerBound": 1.0,
            "upperBound": 1.0,
            "value": 1.0
           }
          },
          "fairness_indicators_metrics/true_negative_rate@0.4675": {
           "boundedValue": {
            "lowerBound": 1.0,
            "upperBound": 1.0,
            "value": 1.0
           }
          },
          "fairness_indicators_metrics/true_negative_rate@0.4750": {
           "boundedValue": {
            "lowerBound": 1.0,
            "upperBound": 1.0,
            "value": 1.0
           }
          },
          "fairness_indicators_metrics/true_negative_rate@0.4875": {
           "boundedValue": {
            "lowerBound": 1.0,
            "upperBound": 1.0,
            "value": 1.0
           }
          },
          "fairness_indicators_metrics/true_negative_rate@0.5000": {
           "boundedValue": {
            "lowerBound": 1.0,
            "upperBound": 1.0,
            "value": 1.0
           }
          },
          "fairness_indicators_metrics/true_positive_rate@0.4000": {
           "boundedValue": {
            "lowerBound": 0.0016360000274972253,
            "upperBound": 0.3624173150784493,
            "value": 0.18181818181818182
           }
          },
          "fairness_indicators_metrics/true_positive_rate@0.4125": {
           "boundedValue": {
            "lowerBound": 0.0016360000274972253,
            "upperBound": 0.3624173150784493,
            "value": 0.18181818181818182
           }
          },
          "fairness_indicators_metrics/true_positive_rate@0.4250": {
           "boundedValue": {
            "lowerBound": 0.0016360000274972253,
            "upperBound": 0.3624173150784493,
            "value": 0.18181818181818182
           }
          },
          "fairness_indicators_metrics/true_positive_rate@0.4375": {
           "boundedValue": {
            "lowerBound": -0.027157617165987163,
            "upperBound": 0.3003166511144948,
            "value": 0.13636363636363635
           }
          },
          "fairness_indicators_metrics/true_positive_rate@0.4500": {
           "boundedValue": {
            "lowerBound": -0.027157617165987163,
            "upperBound": 0.3003166511144948,
            "value": 0.13636363636363635
           }
          },
          "fairness_indicators_metrics/true_positive_rate@0.4675": {
           "boundedValue": {
            "lowerBound": -0.04726145989387137,
            "upperBound": 0.22952621268493995,
            "value": 0.09090909090909091
           }
          },
          "fairness_indicators_metrics/true_positive_rate@0.4750": {
           "boundedValue": {
            "lowerBound": -0.04726145989387137,
            "upperBound": 0.22952621268493995,
            "value": 0.09090909090909091
           }
          },
          "fairness_indicators_metrics/true_positive_rate@0.4875": {
           "boundedValue": {
            "lowerBound": -0.04726145989387137,
            "upperBound": 0.22952621268493995,
            "value": 0.09090909090909091
           }
          },
          "fairness_indicators_metrics/true_positive_rate@0.5000": {
           "boundedValue": {
            "lowerBound": -0.04726145989387137,
            "upperBound": 0.22952621268493995,
            "value": 0.09090909090909091
           }
          }
         },
         "slice": "religion:other_religion",
         "sliceValue": "other_religion"
        },
        {
         "metrics": {
          "accuracy": {
           "boundedValue": {
            "lowerBound": 0.0,
            "upperBound": 0.0,
            "value": 0.0
           }
          },
          "auc": {
           "boundedValue": {
            "lowerBound": 0.5961990226320476,
            "upperBound": 0.8548979103038842,
            "value": 0.7257575757575757
           }
          },
          "example_count": {
           "doubleValue": 218.0
          },
          "fairness_indicators_metrics/false_discovery_rate@0.4000": {
           "boundedValue": {
            "lowerBound": 0.3889109382042528,
            "upperBound": 0.9447254254321107,
            "value": 0.6666666666666666
           }
          },
          "fairness_indicators_metrics/false_discovery_rate@0.4125": {
           "boundedValue": {
            "lowerBound": 0.22004061599894265,
            "upperBound": 0.891268907810581,
            "value": 0.5555555555555556
           }
          },
          "fairness_indicators_metrics/false_discovery_rate@0.4250": {
           "boundedValue": {
            "lowerBound": 0.194058156027422,
            "upperBound": 0.9492751773059112,
            "value": 0.5714285714285714
           }
          },
          "fairness_indicators_metrics/false_discovery_rate@0.4375": {
           "boundedValue": {
            "lowerBound": 0.09199449965888834,
            "upperBound": 0.9080055003411116,
            "value": 0.5
           }
          },
          "fairness_indicators_metrics/false_discovery_rate@0.4500": {
           "boundedValue": {
            "lowerBound": 0.09199449965888834,
            "upperBound": 0.9080055003411116,
            "value": 0.5
           }
          },
          "fairness_indicators_metrics/false_discovery_rate@0.4675": {
           "boundedValue": {
            "lowerBound": -0.042773901702433614,
            "upperBound": 0.8411072350357671,
            "value": 0.4
           }
          },
          "fairness_indicators_metrics/false_discovery_rate@0.4750": {
           "boundedValue": {
            "lowerBound": -0.042773901702433614,
            "upperBound": 0.8411072350357671,
            "value": 0.4
           }
          },
          "fairness_indicators_metrics/false_discovery_rate@0.4875": {
           "boundedValue": {
            "lowerBound": -0.042773901702433614,
            "upperBound": 0.8411072350357671,
            "value": 0.4
           }
          },
          "fairness_indicators_metrics/false_discovery_rate@0.5000": {
           "boundedValue": {
            "lowerBound": -0.042773901702433614,
            "upperBound": 0.8411072350357671,
            "value": 0.4
           }
          },
          "fairness_indicators_metrics/false_negative_rate@0.4000": {
           "boundedValue": {
            "lowerBound": 0.6369477942127308,
            "upperBound": 0.963234524328721,
            "value": 0.8
           }
          },
          "fairness_indicators_metrics/false_negative_rate@0.4125": {
           "boundedValue": {
            "lowerBound": 0.6369477942127308,
            "upperBound": 0.963234524328721,
            "value": 0.8
           }
          },
          "fairness_indicators_metrics/false_negative_rate@0.4250": {
           "boundedValue": {
            "lowerBound": 0.695760641621145,
            "upperBound": 1.0044663965625493,
            "value": 0.85
           }
          },
          "fairness_indicators_metrics/false_negative_rate@0.4375": {
           "boundedValue": {
            "lowerBound": 0.695760641621145,
            "upperBound": 1.0044663965625493,
            "value": 0.85
           }
          },
          "fairness_indicators_metrics/false_negative_rate@0.4500": {
           "boundedValue": {
            "lowerBound": 0.695760641621145,
            "upperBound": 1.0044663965625493,
            "value": 0.85
           }
          },
          "fairness_indicators_metrics/false_negative_rate@0.4675": {
           "boundedValue": {
            "lowerBound": 0.695760641621145,
            "upperBound": 1.0044663965625493,
            "value": 0.85
           }
          },
          "fairness_indicators_metrics/false_negative_rate@0.4750": {
           "boundedValue": {
            "lowerBound": 0.695760641621145,
            "upperBound": 1.0044663965625493,
            "value": 0.85
           }
          },
          "fairness_indicators_metrics/false_negative_rate@0.4875": {
           "boundedValue": {
            "lowerBound": 0.695760641621145,
            "upperBound": 1.0044663965625493,
            "value": 0.85
           }
          },
          "fairness_indicators_metrics/false_negative_rate@0.5000": {
           "boundedValue": {
            "lowerBound": 0.695760641621145,
            "upperBound": 1.0044663965625493,
            "value": 0.85
           }
          },
          "fairness_indicators_metrics/false_omission_rate@0.4000": {
           "boundedValue": {
            "lowerBound": 0.03690291851531561,
            "upperBound": 0.11845386287913837,
            "value": 0.07766990291262135
           }
          },
          "fairness_indicators_metrics/false_omission_rate@0.4125": {
           "boundedValue": {
            "lowerBound": 0.036499271383644734,
            "upperBound": 0.11662429939100039,
            "value": 0.07655502392344497
           }
          },
          "fairness_indicators_metrics/false_omission_rate@0.4250": {
           "boundedValue": {
            "lowerBound": 0.0397930728232279,
            "upperBound": 0.12135095247685816,
            "value": 0.08056872037914692
           }
          },
          "fairness_indicators_metrics/false_omission_rate@0.4375": {
           "boundedValue": {
            "lowerBound": 0.03942036900099473,
            "upperBound": 0.12096584068737794,
            "value": 0.08018867924528301
           }
          },
          "fairness_indicators_metrics/false_omission_rate@0.4500": {
           "boundedValue": {
            "lowerBound": 0.03942036900099473,
            "upperBound": 0.12096584068737794,
            "value": 0.08018867924528301
           }
          },
          "fairness_indicators_metrics/false_omission_rate@0.4675": {
           "boundedValue": {
            "lowerBound": 0.039111461644814306,
            "upperBound": 0.1205227830835848,
            "value": 0.07981220657276995
           }
          },
          "fairness_indicators_metrics/false_omission_rate@0.4750": {
           "boundedValue": {
            "lowerBound": 0.039111461644814306,
            "upperBound": 0.1205227830835848,
            "value": 0.07981220657276995
           }
          },
          "fairness_indicators_metrics/false_omission_rate@0.4875": {
           "boundedValue": {
            "lowerBound": 0.039111461644814306,
            "upperBound": 0.1205227830835848,
            "value": 0.07981220657276995
           }
          },
          "fairness_indicators_metrics/false_omission_rate@0.5000": {
           "boundedValue": {
            "lowerBound": 0.039111461644814306,
            "upperBound": 0.1205227830835848,
            "value": 0.07981220657276995
           }
          },
          "fairness_indicators_metrics/false_positive_rate@0.4000": {
           "boundedValue": {
            "lowerBound": 0.016919298817613563,
            "upperBound": 0.06389356332160309,
            "value": 0.04040404040404041
           }
          },
          "fairness_indicators_metrics/false_positive_rate@0.4125": {
           "boundedValue": {
            "lowerBound": 0.004919268961192092,
            "upperBound": 0.045575946865052314,
            "value": 0.025252525252525252
           }
          },
          "fairness_indicators_metrics/false_positive_rate@0.4250": {
           "boundedValue": {
            "lowerBound": 0.0012716286812111711,
            "upperBound": 0.03912329426316462,
            "value": 0.020202020202020204
           }
          },
          "fairness_indicators_metrics/false_positive_rate@0.4375": {
           "boundedValue": {
            "lowerBound": -0.0019514415993010393,
            "upperBound": 0.03224894671212159,
            "value": 0.015151515151515152
           }
          },
          "fairness_indicators_metrics/false_positive_rate@0.4500": {
           "boundedValue": {
            "lowerBound": -0.0019514415993010393,
            "upperBound": 0.03224894671212159,
            "value": 0.015151515151515152
           }
          },
          "fairness_indicators_metrics/false_positive_rate@0.4675": {
           "boundedValue": {
            "lowerBound": -0.00426494212851803,
            "upperBound": 0.02445649553028173,
            "value": 0.010101010101010102
           }
          },
          "fairness_indicators_metrics/false_positive_rate@0.4750": {
           "boundedValue": {
            "lowerBound": -0.00426494212851803,
            "upperBound": 0.02445649553028173,
            "value": 0.010101010101010102
           }
          },
          "fairness_indicators_metrics/false_positive_rate@0.4875": {
           "boundedValue": {
            "lowerBound": -0.00426494212851803,
            "upperBound": 0.02445649553028173,
            "value": 0.010101010101010102
           }
          },
          "fairness_indicators_metrics/false_positive_rate@0.5000": {
           "boundedValue": {
            "lowerBound": -0.00426494212851803,
            "upperBound": 0.02445649553028173,
            "value": 0.010101010101010102
           }
          },
          "fairness_indicators_metrics/negative_rate@0.4000": {
           "boundedValue": {
            "lowerBound": 0.9195799566616641,
            "upperBound": 0.9703224035518613,
            "value": 0.944954128440367
           }
          },
          "fairness_indicators_metrics/negative_rate@0.4125": {
           "boundedValue": {
            "lowerBound": 0.9335535913771358,
            "upperBound": 0.9838831544318667,
            "value": 0.9587155963302753
           }
          },
          "fairness_indicators_metrics/negative_rate@0.4250": {
           "boundedValue": {
            "lowerBound": 0.9428587315268403,
            "upperBound": 0.9929201664543766,
            "value": 0.9678899082568807
           }
          },
          "fairness_indicators_metrics/negative_rate@0.4375": {
           "boundedValue": {
            "lowerBound": 0.9480218596419131,
            "upperBound": 0.9969305288446472,
            "value": 0.9724770642201835
           }
          },
          "fairness_indicators_metrics/negative_rate@0.4500": {
           "boundedValue": {
            "lowerBound": 0.9480218596419131,
            "upperBound": 0.9969305288446472,
            "value": 0.9724770642201835
           }
          },
          "fairness_indicators_metrics/negative_rate@0.4675": {
           "boundedValue": {
            "lowerBound": 0.9536885473973499,
            "upperBound": 1.000444299588236,
            "value": 0.9770642201834863
           }
          },
          "fairness_indicators_metrics/negative_rate@0.4750": {
           "boundedValue": {
            "lowerBound": 0.9536885473973499,
            "upperBound": 1.000444299588236,
            "value": 0.9770642201834863
           }
          },
          "fairness_indicators_metrics/negative_rate@0.4875": {
           "boundedValue": {
            "lowerBound": 0.9536885473973499,
            "upperBound": 1.000444299588236,
            "value": 0.9770642201834863
           }
          },
          "fairness_indicators_metrics/negative_rate@0.5000": {
           "boundedValue": {
            "lowerBound": 0.9536885473973499,
            "upperBound": 1.000444299588236,
            "value": 0.9770642201834863
           }
          },
          "fairness_indicators_metrics/positive_rate@0.4000": {
           "boundedValue": {
            "lowerBound": 0.029677596448138555,
            "upperBound": 0.08042004333833594,
            "value": 0.05504587155963303
           }
          },
          "fairness_indicators_metrics/positive_rate@0.4125": {
           "boundedValue": {
            "lowerBound": 0.0161168455681334,
            "upperBound": 0.06644640862286444,
            "value": 0.04128440366972477
           }
          },
          "fairness_indicators_metrics/positive_rate@0.4250": {
           "boundedValue": {
            "lowerBound": 0.0070798335456230856,
            "upperBound": 0.0571412684731593,
            "value": 0.03211009174311927
           }
          },
          "fairness_indicators_metrics/positive_rate@0.4375": {
           "boundedValue": {
            "lowerBound": 0.003069471155352683,
            "upperBound": 0.05197814035808686,
            "value": 0.027522935779816515
           }
          },
          "fairness_indicators_metrics/positive_rate@0.4500": {
           "boundedValue": {
            "lowerBound": 0.003069471155352683,
            "upperBound": 0.05197814035808686,
            "value": 0.027522935779816515
           }
          },
          "fairness_indicators_metrics/positive_rate@0.4675": {
           "boundedValue": {
            "lowerBound": -0.000444299588235917,
            "upperBound": 0.04631145260265025,
            "value": 0.022935779816513763
           }
          },
          "fairness_indicators_metrics/positive_rate@0.4750": {
           "boundedValue": {
            "lowerBound": -0.000444299588235917,
            "upperBound": 0.04631145260265025,
            "value": 0.022935779816513763
           }
          },
          "fairness_indicators_metrics/positive_rate@0.4875": {
           "boundedValue": {
            "lowerBound": -0.000444299588235917,
            "upperBound": 0.04631145260265025,
            "value": 0.022935779816513763
           }
          },
          "fairness_indicators_metrics/positive_rate@0.5000": {
           "boundedValue": {
            "lowerBound": -0.000444299588235917,
            "upperBound": 0.04631145260265025,
            "value": 0.022935779816513763
           }
          },
          "fairness_indicators_metrics/true_negative_rate@0.4000": {
           "boundedValue": {
            "lowerBound": 0.9361064366783973,
            "upperBound": 0.9830807011823866,
            "value": 0.9595959595959596
           }
          },
          "fairness_indicators_metrics/true_negative_rate@0.4125": {
           "boundedValue": {
            "lowerBound": 0.9544240531349478,
            "upperBound": 0.995080731038808,
            "value": 0.9747474747474747
           }
          },
          "fairness_indicators_metrics/true_negative_rate@0.4250": {
           "boundedValue": {
            "lowerBound": 0.9608767057368357,
            "upperBound": 0.9987283713187887,
            "value": 0.9797979797979798
           }
          },
          "fairness_indicators_metrics/true_negative_rate@0.4375": {
           "boundedValue": {
            "lowerBound": 0.9677510532878786,
            "upperBound": 1.001951441599301,
            "value": 0.9848484848484849
           }
          },
          "fairness_indicators_metrics/true_negative_rate@0.4500": {
           "boundedValue": {
            "lowerBound": 0.9677510532878786,
            "upperBound": 1.001951441599301,
            "value": 0.9848484848484849
           }
          },
          "fairness_indicators_metrics/true_negative_rate@0.4675": {
           "boundedValue": {
            "lowerBound": 0.9755435044697186,
            "upperBound": 1.0042649421285181,
            "value": 0.98989898989899
           }
          },
          "fairness_indicators_metrics/true_negative_rate@0.4750": {
           "boundedValue": {
            "lowerBound": 0.9755435044697186,
            "upperBound": 1.0042649421285181,
            "value": 0.98989898989899
           }
          },
          "fairness_indicators_metrics/true_negative_rate@0.4875": {
           "boundedValue": {
            "lowerBound": 0.9755435044697186,
            "upperBound": 1.0042649421285181,
            "value": 0.98989898989899
           }
          },
          "fairness_indicators_metrics/true_negative_rate@0.5000": {
           "boundedValue": {
            "lowerBound": 0.9755435044697186,
            "upperBound": 1.0042649421285181,
            "value": 0.98989898989899
           }
          },
          "fairness_indicators_metrics/true_positive_rate@0.4000": {
           "boundedValue": {
            "lowerBound": 0.03676547567127908,
            "upperBound": 0.36305220578726927,
            "value": 0.2
           }
          },
          "fairness_indicators_metrics/true_positive_rate@0.4125": {
           "boundedValue": {
            "lowerBound": 0.03676547567127908,
            "upperBound": 0.36305220578726927,
            "value": 0.2
           }
          },
          "fairness_indicators_metrics/true_positive_rate@0.4250": {
           "boundedValue": {
            "lowerBound": -0.004466396562549324,
            "upperBound": 0.30423935837885474,
            "value": 0.15
           }
          },
          "fairness_indicators_metrics/true_positive_rate@0.4375": {
           "boundedValue": {
            "lowerBound": -0.004466396562549324,
            "upperBound": 0.30423935837885474,
            "value": 0.15
           }
          },
          "fairness_indicators_metrics/true_positive_rate@0.4500": {
           "boundedValue": {
            "lowerBound": -0.004466396562549324,
            "upperBound": 0.30423935837885474,
            "value": 0.15
           }
          },
          "fairness_indicators_metrics/true_positive_rate@0.4675": {
           "boundedValue": {
            "lowerBound": -0.004466396562549324,
            "upperBound": 0.30423935837885474,
            "value": 0.15
           }
          },
          "fairness_indicators_metrics/true_positive_rate@0.4750": {
           "boundedValue": {
            "lowerBound": -0.004466396562549324,
            "upperBound": 0.30423935837885474,
            "value": 0.15
           }
          },
          "fairness_indicators_metrics/true_positive_rate@0.4875": {
           "boundedValue": {
            "lowerBound": -0.004466396562549324,
            "upperBound": 0.30423935837885474,
            "value": 0.15
           }
          },
          "fairness_indicators_metrics/true_positive_rate@0.5000": {
           "boundedValue": {
            "lowerBound": -0.004466396562549324,
            "upperBound": 0.30423935837885474,
            "value": 0.15
           }
          }
         },
         "slice": "religion:hindu",
         "sliceValue": "hindu"
        }
       ],
       "slicingMetricsCompare": []
      }
     }
    },
    "version_major": 2,
    "version_minor": 0
   }
  }
 },
 "nbformat": 4,
 "nbformat_minor": 0
}
