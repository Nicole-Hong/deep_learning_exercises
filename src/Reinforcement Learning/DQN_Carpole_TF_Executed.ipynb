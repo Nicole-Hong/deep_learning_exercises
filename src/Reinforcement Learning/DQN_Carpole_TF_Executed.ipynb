{
  "cells": [
    {
      "cell_type": "markdown",
      "metadata": {
        "id": "cKOCZlhUgXVK"
      },
      "source": [
        "This example shows how to train a [DQN (Deep Q Networks)](https://storage.googleapis.com/deepmind-media/dqn/DQNNaturePaper.pdf)  agent on the Cartpole environment using the TF-Agents library.\n",
        "\n",
        "![Cartpole environment](https://raw.githubusercontent.com/tensorflow/agents/master/docs/tutorials/images/cartpole.png)\n",
        "\n",
        "It will walk you through all the components in a Reinforcement Learning (RL) pipeline for training, evaluation and data collection.\n",
        "\n",
        "\n",
        "To run this code live, click the 'Run in Google Colab' link above.\n"
      ]
    },
    {
      "cell_type": "markdown",
      "metadata": {
        "id": "1u9QVVsShC9X"
      },
      "source": [
        "## Setup"
      ]
    },
    {
      "cell_type": "markdown",
      "metadata": {
        "id": "kNrNXKI7bINP"
      },
      "source": [
        "If you haven't installed the following dependencies, run:"
      ]
    },
    {
      "cell_type": "code",
      "execution_count": 1,
      "metadata": {
        "id": "KEHR2Ui-lo8O",
        "colab": {
          "base_uri": "https://localhost:8080/"
        },
        "outputId": "a8759fdb-bdbb-4d1a-af08-301977bb2a75"
      },
      "outputs": [
        {
          "output_type": "stream",
          "name": "stdout",
          "text": [
            "\r0% [Working]\r            \rHit:1 http://ppa.launchpad.net/c2d4u.team/c2d4u4.0+/ubuntu bionic InRelease\n",
            "\r0% [Connecting to archive.ubuntu.com (91.189.91.39)] [Waiting for headers] [Con\r                                                                               \rGet:2 http://security.ubuntu.com/ubuntu bionic-security InRelease [88.7 kB]\n",
            "Hit:3 http://ppa.launchpad.net/cran/libgit2/ubuntu bionic InRelease\n",
            "Hit:4 http://ppa.launchpad.net/deadsnakes/ppa/ubuntu bionic InRelease\n",
            "Hit:5 https://developer.download.nvidia.com/compute/cuda/repos/ubuntu1804/x86_64  InRelease\n",
            "Hit:6 http://ppa.launchpad.net/graphics-drivers/ppa/ubuntu bionic InRelease\n",
            "Get:7 https://cloud.r-project.org/bin/linux/ubuntu bionic-cran40/ InRelease [3,626 B]\n",
            "Hit:8 http://archive.ubuntu.com/ubuntu bionic InRelease\n",
            "Get:9 http://archive.ubuntu.com/ubuntu bionic-updates InRelease [88.7 kB]\n",
            "Get:10 http://archive.ubuntu.com/ubuntu bionic-backports InRelease [74.6 kB]\n",
            "Get:11 http://security.ubuntu.com/ubuntu bionic-security/restricted amd64 Packages [1,006 kB]\n",
            "Get:12 http://security.ubuntu.com/ubuntu bionic-security/main amd64 Packages [2,861 kB]\n",
            "Ign:13 https://developer.download.nvidia.com/compute/machine-learning/repos/ubuntu1804/x86_64  InRelease\n",
            "Hit:14 https://developer.download.nvidia.com/compute/machine-learning/repos/ubuntu1804/x86_64  Release\n",
            "Get:15 http://security.ubuntu.com/ubuntu bionic-security/universe amd64 Packages [1,521 kB]\n",
            "Get:16 http://security.ubuntu.com/ubuntu bionic-security/multiverse amd64 Packages [22.8 kB]\n",
            "Get:17 http://archive.ubuntu.com/ubuntu bionic-updates/restricted amd64 Packages [1,040 kB]\n",
            "Get:18 http://archive.ubuntu.com/ubuntu bionic-updates/multiverse amd64 Packages [29.8 kB]\n",
            "Get:19 http://archive.ubuntu.com/ubuntu bionic-updates/main amd64 Packages [3,294 kB]\n",
            "Get:20 http://archive.ubuntu.com/ubuntu bionic-updates/universe amd64 Packages [2,297 kB]\n",
            "Get:21 http://archive.ubuntu.com/ubuntu bionic-backports/main amd64 Packages [12.2 kB]\n",
            "Fetched 12.3 MB in 4s (2,919 kB/s)\n",
            "Reading package lists... Done\n",
            "Reading package lists... Done\n",
            "Building dependency tree       \n",
            "Reading state information... Done\n",
            "freeglut3-dev is already the newest version (2.8.1-3).\n",
            "freeglut3-dev set to manually installed.\n",
            "ffmpeg is already the newest version (7:3.4.11-0ubuntu0.1).\n",
            "The following package was automatically installed and is no longer required:\n",
            "  libnvidia-common-460\n",
            "Use 'sudo apt autoremove' to remove it.\n",
            "The following NEW packages will be installed:\n",
            "  xvfb\n",
            "0 upgraded, 1 newly installed, 0 to remove and 49 not upgraded.\n",
            "Need to get 784 kB of archives.\n",
            "After this operation, 2,271 kB of additional disk space will be used.\n",
            "Get:1 http://archive.ubuntu.com/ubuntu bionic-updates/universe amd64 xvfb amd64 2:1.19.6-1ubuntu4.10 [784 kB]\n",
            "Fetched 784 kB in 2s (411 kB/s)\n",
            "debconf: unable to initialize frontend: Dialog\n",
            "debconf: (No usable dialog-like program is installed, so the dialog based frontend cannot be used. at /usr/share/perl5/Debconf/FrontEnd/Dialog.pm line 76, <> line 1.)\n",
            "debconf: falling back to frontend: Readline\n",
            "debconf: unable to initialize frontend: Readline\n",
            "debconf: (This frontend requires a controlling tty.)\n",
            "debconf: falling back to frontend: Teletype\n",
            "dpkg-preconfigure: unable to re-open stdin: \n",
            "Selecting previously unselected package xvfb.\n",
            "(Reading database ... 155639 files and directories currently installed.)\n",
            "Preparing to unpack .../xvfb_2%3a1.19.6-1ubuntu4.10_amd64.deb ...\n",
            "Unpacking xvfb (2:1.19.6-1ubuntu4.10) ...\n",
            "Setting up xvfb (2:1.19.6-1ubuntu4.10) ...\n",
            "Processing triggers for man-db (2.8.3-2ubuntu0.1) ...\n",
            "Looking in indexes: https://pypi.org/simple, https://us-python.pkg.dev/colab-wheels/public/simple/\n",
            "Collecting imageio==2.4.0\n",
            "  Downloading imageio-2.4.0.tar.gz (3.3 MB)\n",
            "\u001b[K     |████████████████████████████████| 3.3 MB 15.0 MB/s \n",
            "\u001b[?25hRequirement already satisfied: numpy in /usr/local/lib/python3.7/dist-packages (from imageio==2.4.0) (1.21.6)\n",
            "Requirement already satisfied: pillow in /usr/local/lib/python3.7/dist-packages (from imageio==2.4.0) (7.1.2)\n",
            "Building wheels for collected packages: imageio\n",
            "  Building wheel for imageio (setup.py) ... \u001b[?25l\u001b[?25hdone\n",
            "  Created wheel for imageio: filename=imageio-2.4.0-py3-none-any.whl size=3303895 sha256=1a8a26d2b63271fe9ec814434a9226befb96ac1c7702ae579634a0b75fdcca92\n",
            "  Stored in directory: /root/.cache/pip/wheels/aa/de/2f/6c5a75120d68a2c3138120c8d0ce1c6f9483a4b96307986bf2\n",
            "Successfully built imageio\n",
            "Installing collected packages: imageio\n",
            "  Attempting uninstall: imageio\n",
            "    Found existing installation: imageio 2.4.1\n",
            "    Uninstalling imageio-2.4.1:\n",
            "      Successfully uninstalled imageio-2.4.1\n",
            "\u001b[31mERROR: pip's dependency resolver does not currently take into account all the packages that are installed. This behaviour is the source of the following dependency conflicts.\n",
            "albumentations 0.1.12 requires imgaug<0.2.7,>=0.2.5, but you have imgaug 0.2.9 which is incompatible.\u001b[0m\n",
            "Successfully installed imageio-2.4.0\n",
            "Looking in indexes: https://pypi.org/simple, https://us-python.pkg.dev/colab-wheels/public/simple/\n",
            "Collecting pyvirtualdisplay\n",
            "  Downloading PyVirtualDisplay-3.0-py3-none-any.whl (15 kB)\n",
            "Installing collected packages: pyvirtualdisplay\n",
            "Successfully installed pyvirtualdisplay-3.0\n",
            "Looking in indexes: https://pypi.org/simple, https://us-python.pkg.dev/colab-wheels/public/simple/\n",
            "Collecting tf-agents[reverb]\n",
            "  Downloading tf_agents-0.13.0-py3-none-any.whl (1.3 MB)\n",
            "\u001b[K     |████████████████████████████████| 1.3 MB 14.1 MB/s \n",
            "\u001b[?25hRequirement already satisfied: protobuf>=3.11.3 in /usr/local/lib/python3.7/dist-packages (from tf-agents[reverb]) (3.17.3)\n",
            "Requirement already satisfied: tensorflow-probability>=0.16.0 in /usr/local/lib/python3.7/dist-packages (from tf-agents[reverb]) (0.16.0)\n",
            "Requirement already satisfied: six>=1.10.0 in /usr/local/lib/python3.7/dist-packages (from tf-agents[reverb]) (1.15.0)\n",
            "Requirement already satisfied: wrapt>=1.11.1 in /usr/local/lib/python3.7/dist-packages (from tf-agents[reverb]) (1.14.1)\n",
            "Requirement already satisfied: absl-py>=0.6.1 in /usr/local/lib/python3.7/dist-packages (from tf-agents[reverb]) (1.1.0)\n",
            "Requirement already satisfied: gym<=0.23.0,>=0.17.0 in /usr/local/lib/python3.7/dist-packages (from tf-agents[reverb]) (0.17.3)\n",
            "Requirement already satisfied: numpy>=1.13.3 in /usr/local/lib/python3.7/dist-packages (from tf-agents[reverb]) (1.21.6)\n",
            "Requirement already satisfied: cloudpickle>=1.3 in /usr/local/lib/python3.7/dist-packages (from tf-agents[reverb]) (1.3.0)\n",
            "Requirement already satisfied: gin-config>=0.4.0 in /usr/local/lib/python3.7/dist-packages (from tf-agents[reverb]) (0.5.0)\n",
            "Requirement already satisfied: typing-extensions>=3.7.4.3 in /usr/local/lib/python3.7/dist-packages (from tf-agents[reverb]) (4.1.1)\n",
            "Requirement already satisfied: pillow in /usr/local/lib/python3.7/dist-packages (from tf-agents[reverb]) (7.1.2)\n",
            "Collecting pygame==2.1.0\n",
            "  Downloading pygame-2.1.0-cp37-cp37m-manylinux_2_17_x86_64.manylinux2014_x86_64.whl (18.3 MB)\n",
            "\u001b[K     |████████████████████████████████| 18.3 MB 121 kB/s \n",
            "\u001b[?25hCollecting dm-reverb~=0.8.0\n",
            "  Downloading dm_reverb-0.8.0-cp37-cp37m-manylinux2014_x86_64.whl (6.5 MB)\n",
            "\u001b[K     |████████████████████████████████| 6.5 MB 48.1 MB/s \n",
            "\u001b[?25hCollecting rlds\n",
            "  Downloading rlds-0.1.4-py3-none-manylinux2010_x86_64.whl (37 kB)\n",
            "Collecting tensorflow~=2.9.0\n",
            "  Downloading tensorflow-2.9.1-cp37-cp37m-manylinux_2_17_x86_64.manylinux2014_x86_64.whl (511.7 MB)\n",
            "\u001b[K     |████████████████████████████████| 511.7 MB 6.1 kB/s \n",
            "\u001b[?25hRequirement already satisfied: dm-tree in /usr/local/lib/python3.7/dist-packages (from dm-reverb~=0.8.0->tf-agents[reverb]) (0.1.7)\n",
            "Requirement already satisfied: portpicker in /usr/local/lib/python3.7/dist-packages (from dm-reverb~=0.8.0->tf-agents[reverb]) (1.3.9)\n",
            "Requirement already satisfied: scipy in /usr/local/lib/python3.7/dist-packages (from gym<=0.23.0,>=0.17.0->tf-agents[reverb]) (1.4.1)\n",
            "Requirement already satisfied: pyglet<=1.5.0,>=1.4.0 in /usr/local/lib/python3.7/dist-packages (from gym<=0.23.0,>=0.17.0->tf-agents[reverb]) (1.5.0)\n",
            "Requirement already satisfied: future in /usr/local/lib/python3.7/dist-packages (from pyglet<=1.5.0,>=1.4.0->gym<=0.23.0,>=0.17.0->tf-agents[reverb]) (0.16.0)\n",
            "Requirement already satisfied: opt-einsum>=2.3.2 in /usr/local/lib/python3.7/dist-packages (from tensorflow~=2.9.0->tf-agents[reverb]) (3.3.0)\n",
            "Collecting gast<=0.4.0,>=0.2.1\n",
            "  Downloading gast-0.4.0-py3-none-any.whl (9.8 kB)\n",
            "Requirement already satisfied: h5py>=2.9.0 in /usr/local/lib/python3.7/dist-packages (from tensorflow~=2.9.0->tf-agents[reverb]) (3.1.0)\n",
            "Requirement already satisfied: google-pasta>=0.1.1 in /usr/local/lib/python3.7/dist-packages (from tensorflow~=2.9.0->tf-agents[reverb]) (0.2.0)\n",
            "Collecting tensorflow-estimator<2.10.0,>=2.9.0rc0\n",
            "  Downloading tensorflow_estimator-2.9.0-py2.py3-none-any.whl (438 kB)\n",
            "\u001b[K     |████████████████████████████████| 438 kB 61.3 MB/s \n",
            "\u001b[?25hRequirement already satisfied: astunparse>=1.6.0 in /usr/local/lib/python3.7/dist-packages (from tensorflow~=2.9.0->tf-agents[reverb]) (1.6.3)\n",
            "Requirement already satisfied: tensorflow-io-gcs-filesystem>=0.23.1 in /usr/local/lib/python3.7/dist-packages (from tensorflow~=2.9.0->tf-agents[reverb]) (0.26.0)\n",
            "Requirement already satisfied: keras-preprocessing>=1.1.1 in /usr/local/lib/python3.7/dist-packages (from tensorflow~=2.9.0->tf-agents[reverb]) (1.1.2)\n",
            "Requirement already satisfied: termcolor>=1.1.0 in /usr/local/lib/python3.7/dist-packages (from tensorflow~=2.9.0->tf-agents[reverb]) (1.1.0)\n",
            "Requirement already satisfied: grpcio<2.0,>=1.24.3 in /usr/local/lib/python3.7/dist-packages (from tensorflow~=2.9.0->tf-agents[reverb]) (1.46.3)\n",
            "Requirement already satisfied: libclang>=13.0.0 in /usr/local/lib/python3.7/dist-packages (from tensorflow~=2.9.0->tf-agents[reverb]) (14.0.1)\n",
            "Collecting flatbuffers<2,>=1.12\n",
            "  Downloading flatbuffers-1.12-py2.py3-none-any.whl (15 kB)\n",
            "Requirement already satisfied: setuptools in /usr/local/lib/python3.7/dist-packages (from tensorflow~=2.9.0->tf-agents[reverb]) (57.4.0)\n",
            "Collecting tensorboard<2.10,>=2.9\n",
            "  Downloading tensorboard-2.9.1-py3-none-any.whl (5.8 MB)\n",
            "\u001b[K     |████████████████████████████████| 5.8 MB 51.8 MB/s \n",
            "\u001b[?25hCollecting keras<2.10.0,>=2.9.0rc0\n",
            "  Downloading keras-2.9.0-py2.py3-none-any.whl (1.6 MB)\n",
            "\u001b[K     |████████████████████████████████| 1.6 MB 62.3 MB/s \n",
            "\u001b[?25hRequirement already satisfied: packaging in /usr/local/lib/python3.7/dist-packages (from tensorflow~=2.9.0->tf-agents[reverb]) (21.3)\n",
            "Requirement already satisfied: wheel<1.0,>=0.23.0 in /usr/local/lib/python3.7/dist-packages (from astunparse>=1.6.0->tensorflow~=2.9.0->tf-agents[reverb]) (0.37.1)\n",
            "Requirement already satisfied: cached-property in /usr/local/lib/python3.7/dist-packages (from h5py>=2.9.0->tensorflow~=2.9.0->tf-agents[reverb]) (1.5.2)\n",
            "Requirement already satisfied: requests<3,>=2.21.0 in /usr/local/lib/python3.7/dist-packages (from tensorboard<2.10,>=2.9->tensorflow~=2.9.0->tf-agents[reverb]) (2.23.0)\n",
            "Requirement already satisfied: tensorboard-plugin-wit>=1.6.0 in /usr/local/lib/python3.7/dist-packages (from tensorboard<2.10,>=2.9->tensorflow~=2.9.0->tf-agents[reverb]) (1.8.1)\n",
            "Requirement already satisfied: tensorboard-data-server<0.7.0,>=0.6.0 in /usr/local/lib/python3.7/dist-packages (from tensorboard<2.10,>=2.9->tensorflow~=2.9.0->tf-agents[reverb]) (0.6.1)\n",
            "Requirement already satisfied: markdown>=2.6.8 in /usr/local/lib/python3.7/dist-packages (from tensorboard<2.10,>=2.9->tensorflow~=2.9.0->tf-agents[reverb]) (3.3.7)\n",
            "Requirement already satisfied: google-auth<3,>=1.6.3 in /usr/local/lib/python3.7/dist-packages (from tensorboard<2.10,>=2.9->tensorflow~=2.9.0->tf-agents[reverb]) (1.35.0)\n",
            "Requirement already satisfied: werkzeug>=1.0.1 in /usr/local/lib/python3.7/dist-packages (from tensorboard<2.10,>=2.9->tensorflow~=2.9.0->tf-agents[reverb]) (1.0.1)\n",
            "Requirement already satisfied: google-auth-oauthlib<0.5,>=0.4.1 in /usr/local/lib/python3.7/dist-packages (from tensorboard<2.10,>=2.9->tensorflow~=2.9.0->tf-agents[reverb]) (0.4.6)\n",
            "Requirement already satisfied: pyasn1-modules>=0.2.1 in /usr/local/lib/python3.7/dist-packages (from google-auth<3,>=1.6.3->tensorboard<2.10,>=2.9->tensorflow~=2.9.0->tf-agents[reverb]) (0.2.8)\n",
            "Requirement already satisfied: rsa<5,>=3.1.4 in /usr/local/lib/python3.7/dist-packages (from google-auth<3,>=1.6.3->tensorboard<2.10,>=2.9->tensorflow~=2.9.0->tf-agents[reverb]) (4.8)\n",
            "Requirement already satisfied: cachetools<5.0,>=2.0.0 in /usr/local/lib/python3.7/dist-packages (from google-auth<3,>=1.6.3->tensorboard<2.10,>=2.9->tensorflow~=2.9.0->tf-agents[reverb]) (4.2.4)\n",
            "Requirement already satisfied: requests-oauthlib>=0.7.0 in /usr/local/lib/python3.7/dist-packages (from google-auth-oauthlib<0.5,>=0.4.1->tensorboard<2.10,>=2.9->tensorflow~=2.9.0->tf-agents[reverb]) (1.3.1)\n",
            "Requirement already satisfied: importlib-metadata>=4.4 in /usr/local/lib/python3.7/dist-packages (from markdown>=2.6.8->tensorboard<2.10,>=2.9->tensorflow~=2.9.0->tf-agents[reverb]) (4.11.4)\n",
            "Requirement already satisfied: zipp>=0.5 in /usr/local/lib/python3.7/dist-packages (from importlib-metadata>=4.4->markdown>=2.6.8->tensorboard<2.10,>=2.9->tensorflow~=2.9.0->tf-agents[reverb]) (3.8.0)\n",
            "Requirement already satisfied: pyasn1<0.5.0,>=0.4.6 in /usr/local/lib/python3.7/dist-packages (from pyasn1-modules>=0.2.1->google-auth<3,>=1.6.3->tensorboard<2.10,>=2.9->tensorflow~=2.9.0->tf-agents[reverb]) (0.4.8)\n",
            "Requirement already satisfied: urllib3!=1.25.0,!=1.25.1,<1.26,>=1.21.1 in /usr/local/lib/python3.7/dist-packages (from requests<3,>=2.21.0->tensorboard<2.10,>=2.9->tensorflow~=2.9.0->tf-agents[reverb]) (1.24.3)\n",
            "Requirement already satisfied: certifi>=2017.4.17 in /usr/local/lib/python3.7/dist-packages (from requests<3,>=2.21.0->tensorboard<2.10,>=2.9->tensorflow~=2.9.0->tf-agents[reverb]) (2022.6.15)\n",
            "Requirement already satisfied: idna<3,>=2.5 in /usr/local/lib/python3.7/dist-packages (from requests<3,>=2.21.0->tensorboard<2.10,>=2.9->tensorflow~=2.9.0->tf-agents[reverb]) (2.10)\n",
            "Requirement already satisfied: chardet<4,>=3.0.2 in /usr/local/lib/python3.7/dist-packages (from requests<3,>=2.21.0->tensorboard<2.10,>=2.9->tensorflow~=2.9.0->tf-agents[reverb]) (3.0.4)\n",
            "Requirement already satisfied: oauthlib>=3.0.0 in /usr/local/lib/python3.7/dist-packages (from requests-oauthlib>=0.7.0->google-auth-oauthlib<0.5,>=0.4.1->tensorboard<2.10,>=2.9->tensorflow~=2.9.0->tf-agents[reverb]) (3.2.0)\n",
            "Requirement already satisfied: decorator in /usr/local/lib/python3.7/dist-packages (from tensorflow-probability>=0.16.0->tf-agents[reverb]) (4.4.2)\n",
            "Requirement already satisfied: pyparsing!=3.0.5,>=2.0.2 in /usr/local/lib/python3.7/dist-packages (from packaging->tensorflow~=2.9.0->tf-agents[reverb]) (3.0.9)\n",
            "Installing collected packages: gast, tensorflow-estimator, tensorboard, pygame, keras, flatbuffers, tf-agents, tensorflow, rlds, dm-reverb\n",
            "  Attempting uninstall: gast\n",
            "    Found existing installation: gast 0.5.3\n",
            "    Uninstalling gast-0.5.3:\n",
            "      Successfully uninstalled gast-0.5.3\n",
            "  Attempting uninstall: tensorflow-estimator\n",
            "    Found existing installation: tensorflow-estimator 2.8.0\n",
            "    Uninstalling tensorflow-estimator-2.8.0:\n",
            "      Successfully uninstalled tensorflow-estimator-2.8.0\n",
            "  Attempting uninstall: tensorboard\n",
            "    Found existing installation: tensorboard 2.8.0\n",
            "    Uninstalling tensorboard-2.8.0:\n",
            "      Successfully uninstalled tensorboard-2.8.0\n",
            "  Attempting uninstall: keras\n",
            "    Found existing installation: keras 2.8.0\n",
            "    Uninstalling keras-2.8.0:\n",
            "      Successfully uninstalled keras-2.8.0\n",
            "  Attempting uninstall: flatbuffers\n",
            "    Found existing installation: flatbuffers 2.0\n",
            "    Uninstalling flatbuffers-2.0:\n",
            "      Successfully uninstalled flatbuffers-2.0\n",
            "  Attempting uninstall: tensorflow\n",
            "    Found existing installation: tensorflow 2.8.2+zzzcolab20220527125636\n",
            "    Uninstalling tensorflow-2.8.2+zzzcolab20220527125636:\n",
            "      Successfully uninstalled tensorflow-2.8.2+zzzcolab20220527125636\n",
            "Successfully installed dm-reverb-0.8.0 flatbuffers-1.12 gast-0.4.0 keras-2.9.0 pygame-2.1.0 rlds-0.1.4 tensorboard-2.9.1 tensorflow-2.9.1 tensorflow-estimator-2.9.0 tf-agents-0.13.0\n",
            "Looking in indexes: https://pypi.org/simple, https://us-python.pkg.dev/colab-wheels/public/simple/\n",
            "Requirement already satisfied: pyglet in /usr/local/lib/python3.7/dist-packages (1.5.0)\n",
            "Requirement already satisfied: future in /usr/local/lib/python3.7/dist-packages (from pyglet) (0.16.0)\n"
          ]
        }
      ],
      "source": [
        "!sudo apt-get update\n",
        "!sudo apt-get install -y xvfb ffmpeg freeglut3-dev\n",
        "!pip install 'imageio==2.4.0'\n",
        "!pip install pyvirtualdisplay\n",
        "!pip install tf-agents[reverb]\n",
        "!pip install pyglet"
      ]
    },
    {
      "cell_type": "code",
      "execution_count": 2,
      "metadata": {
        "id": "sMitx5qSgJk1"
      },
      "outputs": [],
      "source": [
        "from __future__ import absolute_import, division, print_function\n",
        "\n",
        "import base64\n",
        "import imageio\n",
        "import IPython\n",
        "import matplotlib\n",
        "import matplotlib.pyplot as plt\n",
        "import numpy as np\n",
        "import PIL.Image\n",
        "import pyvirtualdisplay\n",
        "import reverb\n",
        "\n",
        "import tensorflow as tf\n",
        "\n",
        "from tf_agents.agents.dqn import dqn_agent\n",
        "from tf_agents.drivers import py_driver\n",
        "from tf_agents.environments import suite_gym\n",
        "from tf_agents.environments import tf_py_environment\n",
        "from tf_agents.eval import metric_utils\n",
        "from tf_agents.metrics import tf_metrics\n",
        "from tf_agents.networks import sequential\n",
        "from tf_agents.policies import py_tf_eager_policy\n",
        "from tf_agents.policies import random_tf_policy\n",
        "from tf_agents.replay_buffers import reverb_replay_buffer\n",
        "from tf_agents.replay_buffers import reverb_utils\n",
        "from tf_agents.trajectories import trajectory\n",
        "from tf_agents.specs import tensor_spec\n",
        "from tf_agents.utils import common"
      ]
    },
    {
      "cell_type": "code",
      "execution_count": 3,
      "metadata": {
        "id": "J6HsdS5GbSjd"
      },
      "outputs": [],
      "source": [
        "# Set up a virtual display for rendering OpenAI gym environments.\n",
        "display = pyvirtualdisplay.Display(visible=0, size=(1400, 900)).start()"
      ]
    },
    {
      "cell_type": "code",
      "execution_count": 4,
      "metadata": {
        "id": "NspmzG4nP3b9",
        "colab": {
          "base_uri": "https://localhost:8080/",
          "height": 35
        },
        "outputId": "03be4fbe-0be8-4228-ee90-0f12d5b1e884"
      },
      "outputs": [
        {
          "output_type": "execute_result",
          "data": {
            "text/plain": [
              "'2.9.1'"
            ],
            "application/vnd.google.colaboratory.intrinsic+json": {
              "type": "string"
            }
          },
          "metadata": {},
          "execution_count": 4
        }
      ],
      "source": [
        "tf.version.VERSION"
      ]
    },
    {
      "cell_type": "markdown",
      "metadata": {
        "id": "LmC0NDhdLIKY"
      },
      "source": [
        "## Hyperparameters"
      ]
    },
    {
      "cell_type": "code",
      "execution_count": 5,
      "metadata": {
        "id": "HC1kNrOsLSIZ"
      },
      "outputs": [],
      "source": [
        "num_iterations = 20000 # @param {type:\"integer\"}\n",
        "\n",
        "initial_collect_steps = 100  # @param {type:\"integer\"}\n",
        "collect_steps_per_iteration =   1# @param {type:\"integer\"}\n",
        "replay_buffer_max_length = 100000  # @param {type:\"integer\"}\n",
        "\n",
        "batch_size = 64  # @param {type:\"integer\"}\n",
        "learning_rate = 1e-3  # @param {type:\"number\"}\n",
        "log_interval = 200  # @param {type:\"integer\"}\n",
        "\n",
        "num_eval_episodes = 10  # @param {type:\"integer\"}\n",
        "eval_interval = 1000  # @param {type:\"integer\"}"
      ]
    },
    {
      "cell_type": "markdown",
      "metadata": {
        "id": "VMsJC3DEgI0x"
      },
      "source": [
        "## Environment\n",
        "\n",
        "In Reinforcement Learning (RL), an environment represents the task or problem to be solved. Standard environments can be created in TF-Agents using `tf_agents.environments` suites. TF-Agents has suites for loading environments from sources such as the OpenAI Gym, Atari, and DM Control.\n",
        "\n",
        "Load the CartPole environment from the OpenAI Gym suite. "
      ]
    },
    {
      "cell_type": "code",
      "execution_count": 6,
      "metadata": {
        "id": "pYEz-S9gEv2-"
      },
      "outputs": [],
      "source": [
        "env_name = 'CartPole-v0'\n",
        "env = suite_gym.load(env_name)"
      ]
    },
    {
      "cell_type": "markdown",
      "metadata": {
        "id": "IIHYVBkuvPNw"
      },
      "source": [
        "You can render this environment to see how it looks. A free-swinging pole is attached to a cart.  The goal is to move the cart right or left in order to keep the pole pointing up."
      ]
    },
    {
      "cell_type": "code",
      "execution_count": 7,
      "metadata": {
        "id": "RlO7WIQHu_7D",
        "colab": {
          "base_uri": "https://localhost:8080/",
          "height": 417
        },
        "outputId": "8a21f421-078e-498e-9a52-71c729bf4d9d"
      },
      "outputs": [
        {
          "output_type": "execute_result",
          "data": {
            "text/plain": [
              "<PIL.Image.Image image mode=RGB size=600x400 at 0x7F0F01958FD0>"
            ],
            "image/png": "[encoded data removed]"
          },
          "metadata": {},
          "execution_count": 7
        }
      ],
      "source": [
        "#@test {\"skip\": true}\n",
        "env.reset()\n",
        "PIL.Image.fromarray(env.render())"
      ]
    },
    {
      "cell_type": "markdown",
      "metadata": {
        "id": "B9_lskPOey18"
      },
      "source": [
        "The `environment.step` method takes an `action` in the environment and returns a `TimeStep` tuple containing the next observation of the environment and the reward for the action.\n",
        "\n",
        "The `time_step_spec()` method returns the specification for the `TimeStep` tuple. Its `observation` attribute shows the shape of observations, the data types, and the ranges of allowed values. The `reward` attribute shows the same details for the reward.\n"
      ]
    },
    {
      "cell_type": "code",
      "execution_count": 8,
      "metadata": {
        "id": "exDv57iHfwQV",
        "colab": {
          "base_uri": "https://localhost:8080/"
        },
        "outputId": "07adf75f-0ba6-4ace-e78d-1d85f9925a52"
      },
      "outputs": [
        {
          "output_type": "stream",
          "name": "stdout",
          "text": [
            "Observation Spec:\n",
            "BoundedArraySpec(shape=(4,), dtype=dtype('float32'), name='observation', minimum=[-4.8000002e+00 -3.4028235e+38 -4.1887903e-01 -3.4028235e+38], maximum=[4.8000002e+00 3.4028235e+38 4.1887903e-01 3.4028235e+38])\n"
          ]
        }
      ],
      "source": [
        "print('Observation Spec:')\n",
        "print(env.time_step_spec().observation)"
      ]
    },
    {
      "cell_type": "code",
      "execution_count": 9,
      "metadata": {
        "id": "UxiSyCbBUQPi",
        "colab": {
          "base_uri": "https://localhost:8080/"
        },
        "outputId": "293bb577-49ad-4bc1-dd78-8f7c125fb193"
      },
      "outputs": [
        {
          "output_type": "stream",
          "name": "stdout",
          "text": [
            "Reward Spec:\n",
            "ArraySpec(shape=(), dtype=dtype('float32'), name='reward')\n"
          ]
        }
      ],
      "source": [
        "print('Reward Spec:')\n",
        "print(env.time_step_spec().reward)"
      ]
    },
    {
      "cell_type": "markdown",
      "metadata": {
        "id": "b_lHcIcqUaqB"
      },
      "source": [
        "The `action_spec()` method returns the shape, data types, and allowed values of valid actions."
      ]
    },
    {
      "cell_type": "code",
      "execution_count": 10,
      "metadata": {
        "id": "bttJ4uxZUQBr",
        "colab": {
          "base_uri": "https://localhost:8080/"
        },
        "outputId": "a921a0cf-3faf-46f8-e55c-7208600e6b85"
      },
      "outputs": [
        {
          "output_type": "stream",
          "name": "stdout",
          "text": [
            "Action Spec:\n",
            "BoundedArraySpec(shape=(), dtype=dtype('int64'), name='action', minimum=0, maximum=1)\n"
          ]
        }
      ],
      "source": [
        "print('Action Spec:')\n",
        "print(env.action_spec())"
      ]
    },
    {
      "cell_type": "markdown",
      "metadata": {
        "id": "eJCgJnx3g0yY"
      },
      "source": [
        "In the Cartpole environment:\n",
        "\n",
        "-   `observation` is an array of 4 floats: \n",
        "    -   the position and velocity of the cart\n",
        "    -   the angular position and velocity of the pole \n",
        "-   `reward` is a scalar float value\n",
        "-   `action` is a scalar integer with only two possible values:\n",
        "    -   `0` — \"move left\"\n",
        "    -   `1` — \"move right\"\n"
      ]
    },
    {
      "cell_type": "code",
      "execution_count": 11,
      "metadata": {
        "id": "V2UGR5t_iZX-",
        "colab": {
          "base_uri": "https://localhost:8080/"
        },
        "outputId": "c348684c-754f-4ef5-e03b-fe12f27746b3"
      },
      "outputs": [
        {
          "output_type": "stream",
          "name": "stdout",
          "text": [
            "Time step:\n",
            "TimeStep(\n",
            "{'discount': array(1., dtype=float32),\n",
            " 'observation': array([-0.03852767,  0.00759807, -0.03832645, -0.03192359], dtype=float32),\n",
            " 'reward': array(0., dtype=float32),\n",
            " 'step_type': array(0, dtype=int32)})\n",
            "Next time step:\n",
            "TimeStep(\n",
            "{'discount': array(1., dtype=float32),\n",
            " 'observation': array([-0.03837571,  0.20324808, -0.03896492, -0.3364483 ], dtype=float32),\n",
            " 'reward': array(1., dtype=float32),\n",
            " 'step_type': array(1, dtype=int32)})\n"
          ]
        }
      ],
      "source": [
        "time_step = env.reset()\n",
        "print('Time step:')\n",
        "print(time_step)\n",
        "\n",
        "action = np.array(1, dtype=np.int32)\n",
        "\n",
        "next_time_step = env.step(action)\n",
        "print('Next time step:')\n",
        "print(next_time_step)"
      ]
    },
    {
      "cell_type": "markdown",
      "metadata": {
        "id": "4JSc9GviWUBK"
      },
      "source": [
        "Usually two environments are instantiated: one for training and one for evaluation. "
      ]
    },
    {
      "cell_type": "code",
      "execution_count": 12,
      "metadata": {
        "id": "N7brXNIGWXjC"
      },
      "outputs": [],
      "source": [
        "train_py_env = suite_gym.load(env_name)\n",
        "eval_py_env = suite_gym.load(env_name)"
      ]
    },
    {
      "cell_type": "markdown",
      "metadata": {
        "id": "zuUqXAVmecTU"
      },
      "source": [
        "The Cartpole environment, like most environments, is written in pure Python. This is converted to TensorFlow using the `TFPyEnvironment` wrapper.\n",
        "\n",
        "The original environment's API uses Numpy arrays. The `TFPyEnvironment` converts these to `Tensors` to make it compatible with Tensorflow agents and policies.\n"
      ]
    },
    {
      "cell_type": "code",
      "execution_count": 13,
      "metadata": {
        "id": "Xp-Y4mD6eDhF"
      },
      "outputs": [],
      "source": [
        "train_env = tf_py_environment.TFPyEnvironment(train_py_env)\n",
        "eval_env = tf_py_environment.TFPyEnvironment(eval_py_env)"
      ]
    },
    {
      "cell_type": "markdown",
      "metadata": {
        "id": "E9lW_OZYFR8A"
      },
      "source": [
        "## Agent\n",
        "\n",
        "The algorithm used to solve an RL problem is represented by an `Agent`. TF-Agents provides standard implementations of a variety of `Agents`, including:\n",
        "\n",
        "-   [DQN](https://storage.googleapis.com/deepmind-media/dqn/DQNNaturePaper.pdf) (used in this tutorial)\n",
        "-   [REINFORCE](https://www-anw.cs.umass.edu/~barto/courses/cs687/williams92simple.pdf)\n",
        "-   [DDPG](https://arxiv.org/pdf/1509.02971.pdf)\n",
        "-   [TD3](https://arxiv.org/pdf/1802.09477.pdf)\n",
        "-   [PPO](https://arxiv.org/abs/1707.06347)\n",
        "-   [SAC](https://arxiv.org/abs/1801.01290)\n",
        "\n",
        "The DQN agent can be used in any environment which has a discrete action space.\n",
        "\n",
        "At the heart of a DQN Agent is a `QNetwork`, a neural network model that can learn to predict `QValues` (expected returns) for all actions, given an observation from the environment.\n",
        "\n",
        "We will use `tf_agents.networks.` to create a `QNetwork`. The network will consist of a sequence of `tf.keras.layers.Dense` layers, where the final layer will have 1 output for each possible action."
      ]
    },
    {
      "cell_type": "code",
      "execution_count": 14,
      "metadata": {
        "id": "TgkdEPg_muzV"
      },
      "outputs": [],
      "source": [
        "fc_layer_params = (100, 50)\n",
        "action_tensor_spec = tensor_spec.from_spec(env.action_spec())\n",
        "num_actions = action_tensor_spec.maximum - action_tensor_spec.minimum + 1\n",
        "\n",
        "# Define a helper function to create Dense layers configured with the right\n",
        "# activation and kernel initializer.\n",
        "def dense_layer(num_units):\n",
        "  return tf.keras.layers.Dense(\n",
        "      num_units,\n",
        "      activation=tf.keras.activations.relu,\n",
        "      kernel_initializer=tf.keras.initializers.VarianceScaling(\n",
        "          scale=2.0, mode='fan_in', distribution='truncated_normal'))\n",
        "\n",
        "# QNetwork consists of a sequence of Dense layers followed by a dense layer\n",
        "# with `num_actions` units to generate one q_value per available action as\n",
        "# its output.\n",
        "dense_layers = [dense_layer(num_units) for num_units in fc_layer_params]\n",
        "q_values_layer = tf.keras.layers.Dense(\n",
        "    num_actions,\n",
        "    activation=None,\n",
        "    kernel_initializer=tf.keras.initializers.RandomUniform(\n",
        "        minval=-0.03, maxval=0.03),\n",
        "    bias_initializer=tf.keras.initializers.Constant(-0.2))\n",
        "q_net = sequential.Sequential(dense_layers + [q_values_layer])"
      ]
    },
    {
      "cell_type": "markdown",
      "metadata": {
        "id": "z62u55hSmviJ"
      },
      "source": [
        "Now use `tf_agents.agents.dqn.dqn_agent` to instantiate a `DqnAgent`. In addition to the `time_step_spec`, `action_spec` and the QNetwork, the agent constructor also requires an optimizer (in this case, `AdamOptimizer`), a loss function, and an integer step counter."
      ]
    },
    {
      "cell_type": "code",
      "execution_count": 15,
      "metadata": {
        "id": "jbY4yrjTEyc9"
      },
      "outputs": [],
      "source": [
        "optimizer = tf.keras.optimizers.Adam(learning_rate=learning_rate)\n",
        "\n",
        "train_step_counter = tf.Variable(0)\n",
        "\n",
        "agent = dqn_agent.DqnAgent(\n",
        "    train_env.time_step_spec(),\n",
        "    train_env.action_spec(),\n",
        "    q_network=q_net,\n",
        "    optimizer=optimizer,\n",
        "    td_errors_loss_fn=common.element_wise_squared_loss,\n",
        "    train_step_counter=train_step_counter)\n",
        "\n",
        "agent.initialize()"
      ]
    },
    {
      "cell_type": "markdown",
      "metadata": {
        "id": "I0KLrEPwkn5x"
      },
      "source": [
        "## Policies\n",
        "\n",
        "A policy defines the way an agent acts in an environment. Typically, the goal of reinforcement learning is to train the underlying model until the policy produces the desired outcome.\n",
        "\n",
        "In this tutorial:\n",
        "\n",
        "-   The desired outcome is keeping the pole balanced upright over the cart.\n",
        "-   The policy returns an action (left or right) for each `time_step` observation.\n",
        "\n",
        "Agents contain two policies: \n",
        "\n",
        "-   `agent.policy` — The main policy that is used for evaluation and deployment.\n",
        "-   `agent.collect_policy` — A second policy that is used for data collection.\n"
      ]
    },
    {
      "cell_type": "code",
      "execution_count": 16,
      "metadata": {
        "id": "BwY7StuMkuV4"
      },
      "outputs": [],
      "source": [
        "eval_policy = agent.policy\n",
        "collect_policy = agent.collect_policy"
      ]
    },
    {
      "cell_type": "markdown",
      "metadata": {
        "id": "2Qs1Fl3dV0ae"
      },
      "source": [
        "Policies can be created independently of agents. For example, use `tf_agents.policies.random_tf_policy` to create a policy which will randomly select an action for each `time_step`."
      ]
    },
    {
      "cell_type": "code",
      "execution_count": 17,
      "metadata": {
        "id": "HE37-UCIrE69"
      },
      "outputs": [],
      "source": [
        "random_policy = random_tf_policy.RandomTFPolicy(train_env.time_step_spec(),\n",
        "                                                train_env.action_spec())"
      ]
    },
    {
      "cell_type": "markdown",
      "metadata": {
        "id": "dOlnlRRsUbxP"
      },
      "source": [
        "To get an action from a policy, call the `policy.action(time_step)` method. The `time_step` contains the observation from the environment. This method returns a `PolicyStep`, which is a named tuple with three components:\n",
        "\n",
        "-   `action` — the action to be taken (in this case, `0` or `1`)\n",
        "-   `state` — used for stateful (that is, RNN-based) policies\n",
        "-   `info` — auxiliary data, such as log probabilities of actions"
      ]
    },
    {
      "cell_type": "code",
      "execution_count": 18,
      "metadata": {
        "id": "5gCcpXswVAxk"
      },
      "outputs": [],
      "source": [
        "example_environment = tf_py_environment.TFPyEnvironment(\n",
        "    suite_gym.load('CartPole-v0'))"
      ]
    },
    {
      "cell_type": "code",
      "execution_count": 19,
      "metadata": {
        "id": "D4DHZtq3Ndis"
      },
      "outputs": [],
      "source": [
        "time_step = example_environment.reset()"
      ]
    },
    {
      "cell_type": "code",
      "execution_count": 20,
      "metadata": {
        "id": "PRFqAUzpNaAW",
        "colab": {
          "base_uri": "https://localhost:8080/"
        },
        "outputId": "067d0424-7dd8-4723-9bd9-9018d77866e9"
      },
      "outputs": [
        {
          "output_type": "execute_result",
          "data": {
            "text/plain": [
              "PolicyStep(action=<tf.Tensor: shape=(1,), dtype=int64, numpy=array([1])>, state=(), info=())"
            ]
          },
          "metadata": {},
          "execution_count": 20
        }
      ],
      "source": [
        "random_policy.action(time_step)"
      ]
    },
    {
      "cell_type": "markdown",
      "metadata": {
        "id": "94rCXQtbUbXv"
      },
      "source": [
        "## Metrics and Evaluation\n",
        "\n",
        "The most common metric used to evaluate a policy is the average return. The return is the sum of rewards obtained while running a policy in an environment for an episode. Several episodes are run, creating an average return.\n",
        "\n",
        "The following function computes the average return of a policy, given the policy, environment, and a number of episodes.\n"
      ]
    },
    {
      "cell_type": "code",
      "execution_count": 21,
      "metadata": {
        "id": "bitzHo5_UbXy"
      },
      "outputs": [],
      "source": [
        "#@test {\"skip\": true}\n",
        "def compute_avg_return(environment, policy, num_episodes=10):\n",
        "\n",
        "  total_return = 0.0\n",
        "  for _ in range(num_episodes):\n",
        "\n",
        "    time_step = environment.reset()\n",
        "    episode_return = 0.0\n",
        "\n",
        "    while not time_step.is_last():\n",
        "      action_step = policy.action(time_step)\n",
        "      time_step = environment.step(action_step.action)\n",
        "      episode_return += time_step.reward\n",
        "    total_return += episode_return\n",
        "\n",
        "  avg_return = total_return / num_episodes\n",
        "  return avg_return.numpy()[0]\n",
        "\n",
        "\n",
        "# See also the metrics module for standard implementations of different metrics.\n",
        "# https://github.com/tensorflow/agents/tree/master/tf_agents/metrics"
      ]
    },
    {
      "cell_type": "markdown",
      "metadata": {
        "id": "_snCVvq5Z8lJ"
      },
      "source": [
        "Running this computation on the `random_policy` shows a baseline performance in the environment."
      ]
    },
    {
      "cell_type": "code",
      "execution_count": 22,
      "metadata": {
        "id": "9bgU6Q6BZ8Bp",
        "colab": {
          "base_uri": "https://localhost:8080/"
        },
        "outputId": "38cc8c9e-e31b-4bb8-b85a-58dfe3460d83"
      },
      "outputs": [
        {
          "output_type": "execute_result",
          "data": {
            "text/plain": [
              "17.1"
            ]
          },
          "metadata": {},
          "execution_count": 22
        }
      ],
      "source": [
        "compute_avg_return(eval_env, random_policy, num_eval_episodes)"
      ]
    },
    {
      "cell_type": "markdown",
      "metadata": {
        "id": "NLva6g2jdWgr"
      },
      "source": [
        "## Replay Buffer\n",
        "\n",
        "In order to keep track of the data collected from the environment, we will use [Reverb](https://deepmind.com/research/open-source/Reverb), an efficient, extensible, and easy-to-use replay system by Deepmind. It stores experience data when we collect trajectories and is consumed during training.\n",
        "\n",
        "This replay buffer is constructed using specs describing the tensors that are to be stored, which can be obtained from the agent using agent.collect_data_spec.\n"
      ]
    },
    {
      "cell_type": "code",
      "execution_count": 23,
      "metadata": {
        "id": "vX2zGUWJGWAl"
      },
      "outputs": [],
      "source": [
        "table_name = 'uniform_table'\n",
        "replay_buffer_signature = tensor_spec.from_spec(\n",
        "      agent.collect_data_spec)\n",
        "replay_buffer_signature = tensor_spec.add_outer_dim(\n",
        "    replay_buffer_signature)\n",
        "\n",
        "table = reverb.Table(\n",
        "    table_name,\n",
        "    max_size=replay_buffer_max_length,\n",
        "    sampler=reverb.selectors.Uniform(),\n",
        "    remover=reverb.selectors.Fifo(),\n",
        "    rate_limiter=reverb.rate_limiters.MinSize(1),\n",
        "    signature=replay_buffer_signature)\n",
        "\n",
        "reverb_server = reverb.Server([table])\n",
        "\n",
        "replay_buffer = reverb_replay_buffer.ReverbReplayBuffer(\n",
        "    agent.collect_data_spec,\n",
        "    table_name=table_name,\n",
        "    sequence_length=2,\n",
        "    local_server=reverb_server)\n",
        "\n",
        "rb_observer = reverb_utils.ReverbAddTrajectoryObserver(\n",
        "  replay_buffer.py_client,\n",
        "  table_name,\n",
        "  sequence_length=2)"
      ]
    },
    {
      "cell_type": "markdown",
      "metadata": {
        "id": "ZGNTDJpZs4NN"
      },
      "source": [
        "For most agents, `collect_data_spec` is a named tuple called `Trajectory`, containing the specs for observations, actions, rewards, and other items."
      ]
    },
    {
      "cell_type": "code",
      "execution_count": 24,
      "metadata": {
        "id": "_IZ-3HcqgE1z",
        "colab": {
          "base_uri": "https://localhost:8080/"
        },
        "outputId": "6e3a3776-4e01-4cc1-a5f9-570845375539"
      },
      "outputs": [
        {
          "output_type": "execute_result",
          "data": {
            "text/plain": [
              "Trajectory(\n",
              "{'action': BoundedTensorSpec(shape=(), dtype=tf.int64, name='action', minimum=array(0), maximum=array(1)),\n",
              " 'discount': BoundedTensorSpec(shape=(), dtype=tf.float32, name='discount', minimum=array(0., dtype=float32), maximum=array(1., dtype=float32)),\n",
              " 'next_step_type': TensorSpec(shape=(), dtype=tf.int32, name='step_type'),\n",
              " 'observation': BoundedTensorSpec(shape=(4,), dtype=tf.float32, name='observation', minimum=array([-4.8000002e+00, -3.4028235e+38, -4.1887903e-01, -3.4028235e+38],\n",
              "      dtype=float32), maximum=array([4.8000002e+00, 3.4028235e+38, 4.1887903e-01, 3.4028235e+38],\n",
              "      dtype=float32)),\n",
              " 'policy_info': (),\n",
              " 'reward': TensorSpec(shape=(), dtype=tf.float32, name='reward'),\n",
              " 'step_type': TensorSpec(shape=(), dtype=tf.int32, name='step_type')})"
            ]
          },
          "metadata": {},
          "execution_count": 24
        }
      ],
      "source": [
        "agent.collect_data_spec"
      ]
    },
    {
      "cell_type": "code",
      "execution_count": 25,
      "metadata": {
        "id": "sy6g1tGcfRlw",
        "colab": {
          "base_uri": "https://localhost:8080/"
        },
        "outputId": "e6787881-22e9-42fe-c8a7-5ee3a3fb0b78"
      },
      "outputs": [
        {
          "output_type": "execute_result",
          "data": {
            "text/plain": [
              "('step_type',\n",
              " 'observation',\n",
              " 'action',\n",
              " 'policy_info',\n",
              " 'next_step_type',\n",
              " 'reward',\n",
              " 'discount')"
            ]
          },
          "metadata": {},
          "execution_count": 25
        }
      ],
      "source": [
        "agent.collect_data_spec._fields"
      ]
    },
    {
      "cell_type": "markdown",
      "metadata": {
        "id": "rVD5nQ9ZGo8_"
      },
      "source": [
        "## Data Collection\n",
        "\n",
        "Now execute the random policy in the environment for a few steps, recording the data in the replay buffer.\n",
        "\n",
        "Here we are using 'PyDriver' to run the experience collecting loop. You can learn more about TF Agents driver in our [drivers tutorial](https://www.tensorflow.org/agents/tutorials/4_drivers_tutorial)."
      ]
    },
    {
      "cell_type": "code",
      "execution_count": 26,
      "metadata": {
        "id": "wr1KSAEGG4h9",
        "colab": {
          "base_uri": "https://localhost:8080/"
        },
        "outputId": "39924135-6dec-4856-d85d-3e02e457458e"
      },
      "outputs": [
        {
          "output_type": "execute_result",
          "data": {
            "text/plain": [
              "(TimeStep(\n",
              "{'discount': array(1., dtype=float32),\n",
              " 'observation': array([ 0.01344784, -0.35003048,  0.03725279,  0.58232003], dtype=float32),\n",
              " 'reward': array(1., dtype=float32),\n",
              " 'step_type': array(1, dtype=int32)}),\n",
              " ())"
            ]
          },
          "metadata": {},
          "execution_count": 26
        }
      ],
      "source": [
        "#@test {\"skip\": true}\n",
        "py_driver.PyDriver(\n",
        "    env,\n",
        "    py_tf_eager_policy.PyTFEagerPolicy(\n",
        "      random_policy, use_tf_function=True),\n",
        "    [rb_observer],\n",
        "    max_steps=initial_collect_steps).run(train_py_env.reset())"
      ]
    },
    {
      "cell_type": "markdown",
      "metadata": {
        "id": "84z5pQJdoKxo"
      },
      "source": [
        "The replay buffer is now a collection of Trajectories."
      ]
    },
    {
      "cell_type": "code",
      "execution_count": null,
      "metadata": {
        "id": "4wZnLu2ViO4E"
      },
      "outputs": [],
      "source": [
        "# For the curious:\n",
        "# Uncomment to peel one of these off and inspect it.\n",
        "# iter(replay_buffer.as_dataset()).next()"
      ]
    },
    {
      "cell_type": "markdown",
      "metadata": {
        "id": "TujU-PMUsKjS"
      },
      "source": [
        "The agent needs access to the replay buffer. This is provided by creating an iterable `tf.data.Dataset` pipeline which will feed data to the agent.\n",
        "\n",
        "Each row of the replay buffer only stores a single observation step. But since the DQN Agent needs both the current and next observation to compute the loss, the dataset pipeline will sample two adjacent rows for each item in the batch (`num_steps=2`).\n",
        "\n",
        "This dataset is also optimized by running parallel calls and prefetching data."
      ]
    },
    {
      "cell_type": "code",
      "execution_count": 27,
      "metadata": {
        "id": "ba7bilizt_qW",
        "colab": {
          "base_uri": "https://localhost:8080/"
        },
        "outputId": "b2ef0a75-4145-49b8-ced9-f06a3aacec37"
      },
      "outputs": [
        {
          "output_type": "execute_result",
          "data": {
            "text/plain": [
              "<PrefetchDataset element_spec=(Trajectory(\n",
              "{'action': TensorSpec(shape=(64, 2), dtype=tf.int64, name=None),\n",
              " 'discount': TensorSpec(shape=(64, 2), dtype=tf.float32, name=None),\n",
              " 'next_step_type': TensorSpec(shape=(64, 2), dtype=tf.int32, name=None),\n",
              " 'observation': TensorSpec(shape=(64, 2, 4), dtype=tf.float32, name=None),\n",
              " 'policy_info': (),\n",
              " 'reward': TensorSpec(shape=(64, 2), dtype=tf.float32, name=None),\n",
              " 'step_type': TensorSpec(shape=(64, 2), dtype=tf.int32, name=None)}), SampleInfo(key=TensorSpec(shape=(64, 2), dtype=tf.uint64, name=None), probability=TensorSpec(shape=(64, 2), dtype=tf.float64, name=None), table_size=TensorSpec(shape=(64, 2), dtype=tf.int64, name=None), priority=TensorSpec(shape=(64, 2), dtype=tf.float64, name=None), times_sampled=TensorSpec(shape=(64, 2), dtype=tf.int32, name=None)))>"
            ]
          },
          "metadata": {},
          "execution_count": 27
        }
      ],
      "source": [
        "# Dataset generates trajectories with shape [Bx2x...]\n",
        "dataset = replay_buffer.as_dataset(\n",
        "    num_parallel_calls=3,\n",
        "    sample_batch_size=batch_size,\n",
        "    num_steps=2).prefetch(3)\n",
        "\n",
        "dataset"
      ]
    },
    {
      "cell_type": "code",
      "execution_count": 28,
      "metadata": {
        "id": "K13AST-2ppOq",
        "colab": {
          "base_uri": "https://localhost:8080/"
        },
        "outputId": "99c00ea5-af1c-4d54-89c6-b99fe3d7eb03"
      },
      "outputs": [
        {
          "output_type": "stream",
          "name": "stdout",
          "text": [
            "<tensorflow.python.data.ops.iterator_ops.OwnedIterator object at 0x7f0ee0169810>\n"
          ]
        }
      ],
      "source": [
        "iterator = iter(dataset)\n",
        "print(iterator)"
      ]
    },
    {
      "cell_type": "code",
      "execution_count": null,
      "metadata": {
        "id": "Th5w5Sff0b16"
      },
      "outputs": [],
      "source": [
        "# For the curious:\n",
        "# Uncomment to see what the dataset iterator is feeding to the agent.\n",
        "# Compare this representation of replay data \n",
        "# to the collection of individual trajectories shown earlier.\n",
        "\n",
        "# iterator.next()"
      ]
    },
    {
      "cell_type": "markdown",
      "metadata": {
        "id": "hBc9lj9VWWtZ"
      },
      "source": [
        "## Training the agent\n",
        "\n",
        "Two things must happen during the training loop:\n",
        "\n",
        "-   collect data from the environment\n",
        "-   use that data to train the agent's neural network(s)\n",
        "\n",
        "This example also periodicially evaluates the policy and prints the current score.\n",
        "\n",
        "The following will take ~5 minutes to run."
      ]
    },
    {
      "cell_type": "code",
      "execution_count": 29,
      "metadata": {
        "id": "0pTbJ3PeyF-u",
        "colab": {
          "base_uri": "https://localhost:8080/"
        },
        "outputId": "5fba77d1-7ec3-4f45-b979-2266ca2831ab"
      },
      "outputs": [
        {
          "output_type": "stream",
          "name": "stdout",
          "text": [
            "CPU times: user 3 µs, sys: 0 ns, total: 3 µs\n",
            "Wall time: 8.11 µs\n",
            "WARNING:tensorflow:From /usr/local/lib/python3.7/dist-packages/tensorflow/python/util/dispatch.py:1082: calling foldr_v2 (from tensorflow.python.ops.functional_ops) with back_prop=False is deprecated and will be removed in a future version.\n",
            "Instructions for updating:\n",
            "back_prop=False is deprecated. Consider using tf.stop_gradient instead.\n",
            "Instead of:\n",
            "results = tf.foldr(fn, elems, back_prop=False)\n",
            "Use:\n",
            "results = tf.nest.map_structure(tf.stop_gradient, tf.foldr(fn, elems))\n",
            "step = 200: loss = 6.762538433074951\n",
            "step = 400: loss = 21.18799591064453\n",
            "step = 600: loss = 329.2736511230469\n",
            "step = 800: loss = 247.8755645751953\n",
            "step = 1000: loss = 1228.725830078125\n",
            "step = 1000: Average Return = 111.0\n",
            "step = 1200: loss = 260.6748352050781\n",
            "step = 1400: loss = 407.5270080566406\n",
            "step = 1600: loss = 100.91920471191406\n",
            "step = 1800: loss = 107.80146026611328\n",
            "step = 2000: loss = 151.97930908203125\n",
            "step = 2000: Average Return = 128.3000030517578\n",
            "step = 2200: loss = 139.3455047607422\n",
            "step = 2400: loss = 164.90707397460938\n",
            "step = 2600: loss = 108.70201110839844\n",
            "step = 2800: loss = 2247.69482421875\n",
            "step = 3000: loss = 184.48699951171875\n",
            "step = 3000: Average Return = 200.0\n",
            "step = 3200: loss = 845.5599365234375\n",
            "step = 3400: loss = 608.6099853515625\n",
            "step = 3600: loss = 1189.7576904296875\n",
            "step = 3800: loss = 625.8208618164062\n",
            "step = 4000: loss = 625.0925903320312\n",
            "step = 4000: Average Return = 199.1999969482422\n",
            "step = 4200: loss = 3830.912353515625\n",
            "step = 4400: loss = 825.1607055664062\n",
            "step = 4600: loss = 802.9365844726562\n",
            "step = 4800: loss = 9026.3583984375\n",
            "step = 5000: loss = 1881.734619140625\n",
            "step = 5000: Average Return = 199.39999389648438\n",
            "step = 5200: loss = 1027.32177734375\n",
            "step = 5400: loss = 3659.505615234375\n",
            "step = 5600: loss = 1047.689453125\n",
            "step = 5800: loss = 2572.78515625\n",
            "step = 6000: loss = 2810.225830078125\n",
            "step = 6000: Average Return = 200.0\n",
            "step = 6200: loss = 5754.748046875\n",
            "step = 6400: loss = 3241.01806640625\n",
            "step = 6600: loss = 3825.4208984375\n",
            "step = 6800: loss = 5710.4404296875\n",
            "step = 7000: loss = 3806.95166015625\n",
            "step = 7000: Average Return = 200.0\n",
            "step = 7200: loss = 3183.290771484375\n",
            "step = 7400: loss = 5020.67236328125\n",
            "step = 7600: loss = 17236.04296875\n",
            "step = 7800: loss = 4974.5703125\n",
            "step = 8000: loss = 4780.14013671875\n",
            "step = 8000: Average Return = 200.0\n",
            "step = 8200: loss = 14738.357421875\n",
            "step = 8400: loss = 23545.220703125\n",
            "step = 8600: loss = 22707.9140625\n",
            "step = 8800: loss = 26904.89453125\n",
            "step = 9000: loss = 35568.93359375\n",
            "step = 9000: Average Return = 200.0\n",
            "step = 9200: loss = 16062.357421875\n",
            "step = 9400: loss = 10455.271484375\n",
            "step = 9600: loss = 37110.2109375\n",
            "step = 9800: loss = 165655.625\n",
            "step = 10000: loss = 42384.390625\n",
            "step = 10000: Average Return = 200.0\n",
            "step = 10200: loss = 56528.2421875\n",
            "step = 10400: loss = 1311347.5\n",
            "step = 10600: loss = 100968.7421875\n",
            "step = 10800: loss = 353160.40625\n",
            "step = 11000: loss = 62134.21484375\n",
            "step = 11000: Average Return = 200.0\n",
            "step = 11200: loss = 425618.875\n",
            "step = 11400: loss = 499703.875\n",
            "step = 11600: loss = 199180.09375\n",
            "step = 11800: loss = 1289867.125\n",
            "step = 12000: loss = 783895.25\n",
            "step = 12000: Average Return = 200.0\n",
            "step = 12200: loss = 668201.5\n",
            "step = 12400: loss = 1636876.5\n",
            "step = 12600: loss = 990753.375\n",
            "step = 12800: loss = 56804072.0\n",
            "step = 13000: loss = 1575483.875\n",
            "step = 13000: Average Return = 200.0\n",
            "step = 13200: loss = 965659.4375\n",
            "step = 13400: loss = 1327263.75\n",
            "step = 13600: loss = 2220099.25\n",
            "step = 13800: loss = 1987337.25\n",
            "step = 14000: loss = 1363371.0\n",
            "step = 14000: Average Return = 200.0\n",
            "step = 14200: loss = 2542183.25\n",
            "step = 14400: loss = 2782817.5\n",
            "step = 14600: loss = 3618602.0\n",
            "step = 14800: loss = 5237692.5\n",
            "step = 15000: loss = 270756096.0\n",
            "step = 15000: Average Return = 200.0\n",
            "step = 15200: loss = 4256358.5\n",
            "step = 15400: loss = 325406048.0\n",
            "step = 15600: loss = 3897925.5\n",
            "step = 15800: loss = 6174458.5\n",
            "step = 16000: loss = 5146223.0\n",
            "step = 16000: Average Return = 200.0\n",
            "step = 16200: loss = 3061394.5\n",
            "step = 16400: loss = 5635156.0\n",
            "step = 16600: loss = 7817798.0\n",
            "step = 16800: loss = 5872414.5\n",
            "step = 17000: loss = 15219529.0\n",
            "step = 17000: Average Return = 200.0\n",
            "step = 17200: loss = 6382032.0\n",
            "step = 17400: loss = 17599596.0\n",
            "step = 17600: loss = 15268472.0\n",
            "step = 17800: loss = 16070728.0\n",
            "step = 18000: loss = 7977642.0\n",
            "step = 18000: Average Return = 200.0\n",
            "step = 18200: loss = 15010662.0\n",
            "step = 18400: loss = 33749004.0\n",
            "step = 18600: loss = 178364240.0\n",
            "step = 18800: loss = 22924868.0\n",
            "step = 19000: loss = 30812142.0\n",
            "step = 19000: Average Return = 200.0\n",
            "step = 19200: loss = 11899732.0\n",
            "step = 19400: loss = 21521816.0\n",
            "step = 19600: loss = 12005634.0\n",
            "step = 19800: loss = 26171362.0\n",
            "step = 20000: loss = 69299864.0\n",
            "step = 20000: Average Return = 200.0\n"
          ]
        }
      ],
      "source": [
        "#@test {\"skip\": true}\n",
        "try:\n",
        "  %%time\n",
        "except:\n",
        "  pass\n",
        "\n",
        "# (Optional) Optimize by wrapping some of the code in a graph using TF function.\n",
        "agent.train = common.function(agent.train)\n",
        "\n",
        "# Reset the train step.\n",
        "agent.train_step_counter.assign(0)\n",
        "\n",
        "# Evaluate the agent's policy once before training.\n",
        "avg_return = compute_avg_return(eval_env, agent.policy, num_eval_episodes)\n",
        "returns = [avg_return]\n",
        "\n",
        "# Reset the environment.\n",
        "time_step = train_py_env.reset()\n",
        "\n",
        "# Create a driver to collect experience.\n",
        "collect_driver = py_driver.PyDriver(\n",
        "    env,\n",
        "    py_tf_eager_policy.PyTFEagerPolicy(\n",
        "      agent.collect_policy, use_tf_function=True),\n",
        "    [rb_observer],\n",
        "    max_steps=collect_steps_per_iteration)\n",
        "\n",
        "for _ in range(num_iterations):\n",
        "\n",
        "  # Collect a few steps and save to the replay buffer.\n",
        "  time_step, _ = collect_driver.run(time_step)\n",
        "\n",
        "  # Sample a batch of data from the buffer and update the agent's network.\n",
        "  experience, unused_info = next(iterator)\n",
        "  train_loss = agent.train(experience).loss\n",
        "\n",
        "  step = agent.train_step_counter.numpy()\n",
        "\n",
        "  if step % log_interval == 0:\n",
        "    print('step = {0}: loss = {1}'.format(step, train_loss))\n",
        "\n",
        "  if step % eval_interval == 0:\n",
        "    avg_return = compute_avg_return(eval_env, agent.policy, num_eval_episodes)\n",
        "    print('step = {0}: Average Return = {1}'.format(step, avg_return))\n",
        "    returns.append(avg_return)"
      ]
    },
    {
      "cell_type": "markdown",
      "metadata": {
        "id": "68jNcA_TiJDq"
      },
      "source": [
        "## Visualization\n"
      ]
    },
    {
      "cell_type": "markdown",
      "metadata": {
        "id": "aO-LWCdbbOIC"
      },
      "source": [
        "### Plots\n",
        "\n",
        "Use `matplotlib.pyplot` to chart how the policy improved during training.\n",
        "\n",
        "One iteration of `Cartpole-v0` consists of 200 time steps. The environment gives a reward of `+1` for each step the pole stays up, so the maximum return for one episode is 200. The charts shows the return increasing towards that maximum each time it is evaluated during training. (It may be a little unstable and not increase monotonically each time.)"
      ]
    },
    {
      "cell_type": "code",
      "execution_count": 30,
      "metadata": {
        "id": "NxtL1mbOYCVO",
        "colab": {
          "base_uri": "https://localhost:8080/",
          "height": 301
        },
        "outputId": "46f3803f-a0e0-4dc1-bf14-af595cc44538"
      },
      "outputs": [
        {
          "output_type": "execute_result",
          "data": {
            "text/plain": [
              "(1.6550004005432122, 250.0)"
            ]
          },
          "metadata": {},
          "execution_count": 30
        },
        {
          "output_type": "display_data",
          "data": {
            "text/plain": [
              "<Figure size 432x288 with 1 Axes>"
            ],
            "image/png": "[encoded data removed]"
          },
          "metadata": {
            "needs_background": "light"
          }
        }
      ],
      "source": [
        "#@test {\"skip\": true}\n",
        "\n",
        "iterations = range(0, num_iterations + 1, eval_interval)\n",
        "plt.plot(iterations, returns)\n",
        "plt.ylabel('Average Return')\n",
        "plt.xlabel('Iterations')\n",
        "plt.ylim(top=250)"
      ]
    },
    {
      "cell_type": "markdown",
      "metadata": {
        "id": "M7-XpPP99Cy7"
      },
      "source": [
        "### Videos"
      ]
    },
    {
      "cell_type": "markdown",
      "metadata": {
        "id": "9pGfGxSH32gn"
      },
      "source": [
        "Charts are nice. But more exciting is seeing an agent actually performing a task in an environment. \n",
        "\n",
        "First, create a function to embed videos in the notebook."
      ]
    },
    {
      "cell_type": "code",
      "execution_count": 31,
      "metadata": {
        "id": "ULaGr8pvOKbl"
      },
      "outputs": [],
      "source": [
        "def embed_mp4(filename):\n",
        "  \"\"\"Embeds an mp4 file in the notebook.\"\"\"\n",
        "  video = open(filename,'rb').read()\n",
        "  b64 = base64.b64encode(video)\n",
        "  tag = '''\n",
        "  <video width=\"640\" height=\"480\" controls>\n",
        "    <source src=\"data:video/mp4;base64,{0}\" type=\"video/mp4\">\n",
        "  Your browser does not support the video tag.\n",
        "  </video>'''.format(b64.decode())\n",
        "\n",
        "  return IPython.display.HTML(tag)"
      ]
    },
    {
      "cell_type": "markdown",
      "metadata": {
        "id": "9c_PH-pX4Pr5"
      },
      "source": [
        "Now iterate through a few episodes of the Cartpole game with the agent. The underlying Python environment (the one \"inside\" the TensorFlow environment wrapper) provides a `render()` method, which outputs an image of the environment state. These can be collected into a video."
      ]
    },
    {
      "cell_type": "code",
      "execution_count": 32,
      "metadata": {
        "id": "owOVWB158NlF",
        "colab": {
          "base_uri": "https://localhost:8080/",
          "height": 539
        },
        "outputId": "caad13a6-9d99-4421-a57b-e2fc697c30f9"
      },
      "outputs": [
        {
          "output_type": "stream",
          "name": "stderr",
          "text": [
            "WARNING:root:IMAGEIO FFMPEG_WRITER WARNING: input image is not divisible by macro_block_size=16, resizing from (400, 600) to (400, 608) to ensure video compatibility with most codecs and players. To prevent resizing, make your input image divisible by the macro_block_size or set the macro_block_size to None (risking incompatibility). You may also see a FFMPEG warning concerning speedloss due to data not being aligned.\n"
          ]
        },
        {
          "output_type": "execute_result",
          "data": {
            "text/plain": [
              "<IPython.core.display.HTML object>"
            ],
            "text/html": [
              "\n",
              "  <video width=\"640\" height=\"480\" controls>\n",
              "    <source src=\"data:video/mp4;base64,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\" type=\"video/mp4\">\n",
              "  Your browser does not support the video tag.\n",
              "  </video>"
            ]
          },
          "metadata": {},
          "execution_count": 32
        }
      ],
      "source": [
        "def create_policy_eval_video(policy, filename, num_episodes=5, fps=30):\n",
        "  filename = filename + \".mp4\"\n",
        "  with imageio.get_writer(filename, fps=fps) as video:\n",
        "    for _ in range(num_episodes):\n",
        "      time_step = eval_env.reset()\n",
        "      video.append_data(eval_py_env.render())\n",
        "      while not time_step.is_last():\n",
        "        action_step = policy.action(time_step)\n",
        "        time_step = eval_env.step(action_step.action)\n",
        "        video.append_data(eval_py_env.render())\n",
        "  return embed_mp4(filename)\n",
        "\n",
        "create_policy_eval_video(agent.policy, \"trained-agent\")"
      ]
    },
    {
      "cell_type": "markdown",
      "metadata": {
        "id": "povaAOcZygLw"
      },
      "source": [
        "For fun, compare the trained agent (above) to an agent moving randomly. (It does not do as well.)"
      ]
    },
    {
      "cell_type": "code",
      "execution_count": 33,
      "metadata": {
        "id": "pJZIdC37yNH4",
        "colab": {
          "base_uri": "https://localhost:8080/",
          "height": 539
        },
        "outputId": "eb2523da-cd6a-42d0-ef70-a9c26e62025f"
      },
      "outputs": [
        {
          "output_type": "stream",
          "name": "stderr",
          "text": [
            "WARNING:root:IMAGEIO FFMPEG_WRITER WARNING: input image is not divisible by macro_block_size=16, resizing from (400, 600) to (400, 608) to ensure video compatibility with most codecs and players. To prevent resizing, make your input image divisible by the macro_block_size or set the macro_block_size to None (risking incompatibility). You may also see a FFMPEG warning concerning speedloss due to data not being aligned.\n"
          ]
        },
        {
          "output_type": "execute_result",
          "data": {
            "text/plain": [
              "<IPython.core.display.HTML object>"
            ],
            "text/html": [
              "\n",
              "  <video width=\"640\" height=\"480\" controls>\n",
              "    <source src=\"data:video/mp4;base64,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\" type=\"video/mp4\">\n",
              "  Your browser does not support the video tag.\n",
              "  </video>"
            ]
          },
          "metadata": {},
          "execution_count": 33
        }
      ],
      "source": [
        "create_policy_eval_video(random_policy, \"random-agent\")"
      ]
    }
  ],
  "metadata": {
    "colab": {
      "collapsed_sections": [],
      "name": "Copy of DQN Tutorial.ipynb",
      "provenance": []
    },
    "kernelspec": {
      "display_name": "Python 3",
      "language": "python",
      "name": "python3"
    },
    "pycharm": {
      "stem_cell": {
        "cell_type": "raw",
        "metadata": {
          "collapsed": false
        },
        "source": []
      }
    },
    "accelerator": "GPU",
    "gpuClass": "standard"
  },
  "nbformat": 4,
  "nbformat_minor": 0
}