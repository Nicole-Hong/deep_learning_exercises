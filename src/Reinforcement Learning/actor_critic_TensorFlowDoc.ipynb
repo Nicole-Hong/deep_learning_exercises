{
 "cells": [
  {
   "cell_type": "markdown",
   "metadata": {
    "id": "_jQ1tEQCxwRx"
   },
   "source": [
    "##### Copyright 2020 The TensorFlow Authors."
   ]
  },
  {
   "cell_type": "code",
   "execution_count": 1,
   "metadata": {
    "cellView": "form",
    "execution": {
     "iopub.execute_input": "2022-06-11T01:21:01.247258Z",
     "iopub.status.busy": "2022-06-11T01:21:01.246680Z",
     "iopub.status.idle": "2022-06-11T01:21:01.250532Z",
     "shell.execute_reply": "2022-06-11T01:21:01.250028Z"
    },
    "id": "V_sgB_5dx1f1"
   },
   "outputs": [],
   "source": [
    "#@title Licensed under the Apache License, Version 2.0 (the \"License\");\n",
    "# you may not use this file except in compliance with the License.\n",
    "# You may obtain a copy of the License at\n",
    "#\n",
    "# https://www.apache.org/licenses/LICENSE-2.0\n",
    "#\n",
    "# Unless required by applicable law or agreed to in writing, software\n",
    "# distributed under the License is distributed on an \"AS IS\" BASIS,\n",
    "# WITHOUT WARRANTIES OR CONDITIONS OF ANY KIND, either express or implied.\n",
    "# See the License for the specific language governing permissions and\n",
    "# limitations under the License."
   ]
  },
  {
   "cell_type": "markdown",
   "metadata": {
    "id": "p62G8M_viUJp"
   },
   "source": [
    "# Playing CartPole with the Actor-Critic Method\n"
   ]
  },
  {
   "cell_type": "markdown",
   "metadata": {
    "id": "-mJ2i6jvZ3sK"
   },
   "source": [
    "<table class=\"tfo-notebook-buttons\" align=\"left\">\n",
    "  <td>\n",
    "    <a target=\"_blank\" href=\"https://www.tensorflow.org/tutorials/reinforcement_learning/actor_critic\">\n",
    "    <img src=\"https://www.tensorflow.org/images/tf_logo_32px.png\" />\n",
    "    View on TensorFlow.org</a>\n",
    "  </td>\n",
    "  <td>\n",
    "    <a target=\"_blank\" href=\"https://colab.research.google.com/github/tensorflow/docs/blob/master/site/en/tutorials/reinforcement_learning/actor_critic.ipynb\">\n",
    "    <img src=\"https://www.tensorflow.org/images/colab_logo_32px.png\" />\n",
    "    Run in Google Colab</a>\n",
    "  </td>\n",
    "  <td>\n",
    "    <a target=\"_blank\" href=\"https://github.com/tensorflow/docs/blob/master/site/en/tutorials/reinforcement_learning/actor_critic.ipynb\">\n",
    "    <img src=\"https://www.tensorflow.org/images/GitHub-Mark-32px.png\" />\n",
    "    View source on GitHub</a>\n",
    "  </td>\n",
    "  <td>\n",
    "    <a href=\"https://storage.googleapis.com/tensorflow_docs/docs/site/en/tutorials/reinforcement_learning/actor_critic.ipynb\"><img src=\"https://www.tensorflow.org/images/download_logo_32px.png\" />Download notebook</a>\n",
    "  </td>\n",
    "</table>"
   ]
  },
  {
   "cell_type": "markdown",
   "metadata": {
    "id": "kFgN7h_wiUJq"
   },
   "source": [
    "This tutorial demonstrates how to implement the [Actor-Critic](https://papers.nips.cc/paper/1786-actor-critic-algorithms.pdf) method using TensorFlow to train an agent on the [Open AI Gym](https://gym.openai.com/) CartPole-V0 environment.\n",
    "The reader is assumed to have some familiarity with [policy gradient methods](https://papers.nips.cc/paper/1713-policy-gradient-methods-for-reinforcement-learning-with-function-approximation.pdf) of reinforcement learning. \n"
   ]
  },
  {
   "cell_type": "markdown",
   "metadata": {
    "id": "_kA10ZKRR0hi"
   },
   "source": [
    "**Actor-Critic methods**\n",
    "\n",
    "Actor-Critic methods are [temporal difference (TD) learning](https://en.wikipedia.org/wiki/Temporal_difference_learning) methods that represent the policy function independent of the value function. \n",
    "\n",
    "A policy function (or policy) returns a probability distribution over actions that the agent can take based on the given state.\n",
    "A value function determines the expected return for an agent starting at a given state and acting according to a particular policy forever after.\n",
    "\n",
    "In the Actor-Critic method, the policy is referred to as the *actor* that proposes a set of possible actions given a state, and the estimated value function is referred to as the *critic*, which evaluates actions taken by the *actor* based on the given policy.\n",
    "\n",
    "In this tutorial, both the *Actor* and *Critic* will be represented using one neural network with two outputs.\n"
   ]
  },
  {
   "cell_type": "markdown",
   "metadata": {
    "id": "rBfiafKSRs2k"
   },
   "source": [
    "**CartPole-v0**\n",
    "\n",
    "In the [CartPole-v0 environment](https://www.gymlibrary.ml/environments/classic_control/cart_pole/), a pole is attached to a cart moving along a frictionless track. \n",
    "The pole starts upright and the goal of the agent is to prevent it from falling over by applying a force of -1 or +1 to the cart. \n",
    "A reward of +1 is given for every time step the pole remains upright.\n",
    "An episode ends when (1) the pole is more than 15 degrees from vertical or (2) the cart moves more than 2.4 units from the center.\n",
    "\n",
    "<center>\n",
    "  <figure>\n",
    "    <image src=\"https://tensorflow.org/tutorials/reinforcement_learning/images/cartpole-v0.gif\">\n",
    "    <figcaption>\n",
    "      Trained actor-critic model in Cartpole-v0 environment\n",
    "    </figcaption>\n",
    "  </figure>\n",
    "</center>\n"
   ]
  },
  {
   "cell_type": "markdown",
   "metadata": {
    "id": "XSNVK0AeRoJd"
   },
   "source": [
    "The problem is considered \"solved\" when the average total reward for the episode reaches 195 over 100 consecutive trials."
   ]
  },
  {
   "cell_type": "markdown",
   "metadata": {
    "id": "glLwIctHiUJq"
   },
   "source": [
    "## Setup\n",
    "\n",
    "Import necessary packages and configure global settings.\n"
   ]
  },
  {
   "cell_type": "code",
   "execution_count": 2,
   "metadata": {
    "execution": {
     "iopub.execute_input": "2022-06-11T01:21:01.254449Z",
     "iopub.status.busy": "2022-06-11T01:21:01.254002Z",
     "iopub.status.idle": "2022-06-11T01:21:14.545954Z",
     "shell.execute_reply": "2022-06-11T01:21:14.545149Z"
    },
    "id": "13l6BbxKhCKp"
   },
   "outputs": [
    {
     "name": "stdout",
     "output_type": "stream",
     "text": [
      "Collecting gym[classic_control]\r\n"
     ]
    },
    {
     "name": "stdout",
     "output_type": "stream",
     "text": [
      "  Downloading gym-0.24.1.tar.gz (696 kB)\r\n"
     ]
    },
    {
     "name": "stdout",
     "output_type": "stream",
     "text": [
      "  Installing build dependencies ... \u001b[?25l-"
     ]
    },
    {
     "name": "stdout",
     "output_type": "stream",
     "text": [
      "\b \b\\"
     ]
    },
    {
     "name": "stdout",
     "output_type": "stream",
     "text": [
      "\b \b|"
     ]
    },
    {
     "name": "stdout",
     "output_type": "stream",
     "text": [
      "\b \bdone\r\n"
     ]
    },
    {
     "name": "stdout",
     "output_type": "stream",
     "text": [
      "\u001b[?25h  Getting requirements to build wheel ... \u001b[?25l-"
     ]
    },
    {
     "name": "stdout",
     "output_type": "stream",
     "text": [
      "\b \b\\"
     ]
    },
    {
     "name": "stdout",
     "output_type": "stream",
     "text": [
      "\b \bdone\r\n"
     ]
    },
    {
     "name": "stdout",
     "output_type": "stream",
     "text": [
      "\u001b[?25h  Preparing metadata (pyproject.toml) ... \u001b[?25l-"
     ]
    },
    {
     "name": "stdout",
     "output_type": "stream",
     "text": [
      "\b \b\\"
     ]
    },
    {
     "name": "stdout",
     "output_type": "stream",
     "text": [
      "\b \b|"
     ]
    },
    {
     "name": "stdout",
     "output_type": "stream",
     "text": [
      "\b \b/"
     ]
    },
    {
     "name": "stdout",
     "output_type": "stream",
     "text": [
      "\b \bdone\r\n"
     ]
    },
    {
     "name": "stdout",
     "output_type": "stream",
     "text": [
      "\u001b[?25hCollecting cloudpickle>=1.2.0\r\n",
      "  Downloading cloudpickle-2.1.0-py3-none-any.whl (25 kB)\r\n"
     ]
    },
    {
     "name": "stdout",
     "output_type": "stream",
     "text": [
      "Collecting gym-notices>=0.0.4\r\n"
     ]
    },
    {
     "name": "stdout",
     "output_type": "stream",
     "text": [
      "  Downloading gym_notices-0.0.7-py3-none-any.whl (2.7 kB)\r\n",
      "Requirement already satisfied: importlib-metadata>=4.8.0 in /tmpfs/src/tf_docs_env/lib/python3.9/site-packages (from gym[classic_control]) (4.11.4)\r\n",
      "Requirement already satisfied: numpy>=1.18.0 in /tmpfs/src/tf_docs_env/lib/python3.9/site-packages (from gym[classic_control]) (1.23.0rc2)\r\n"
     ]
    },
    {
     "name": "stdout",
     "output_type": "stream",
     "text": [
      "Collecting pygame==2.1.0\r\n",
      "  Downloading pygame-2.1.0-cp39-cp39-manylinux_2_17_x86_64.manylinux2014_x86_64.whl (18.3 MB)\r\n"
     ]
    },
    {
     "name": "stdout",
     "output_type": "stream",
     "text": [
      "Requirement already satisfied: zipp>=0.5 in /tmpfs/src/tf_docs_env/lib/python3.9/site-packages (from importlib-metadata>=4.8.0->gym[classic_control]) (3.8.0)\r\n",
      "Building wheels for collected packages: gym\r\n"
     ]
    },
    {
     "name": "stdout",
     "output_type": "stream",
     "text": [
      "  Building wheel for gym (pyproject.toml) ... \u001b[?25l-"
     ]
    },
    {
     "name": "stdout",
     "output_type": "stream",
     "text": [
      "\b \b\\"
     ]
    },
    {
     "name": "stdout",
     "output_type": "stream",
     "text": [
      "\b \b|"
     ]
    },
    {
     "name": "stdout",
     "output_type": "stream",
     "text": [
      "\b \b/"
     ]
    },
    {
     "name": "stdout",
     "output_type": "stream",
     "text": [
      "\b \b-"
     ]
    },
    {
     "name": "stdout",
     "output_type": "stream",
     "text": [
      "\b \b\\"
     ]
    },
    {
     "name": "stdout",
     "output_type": "stream",
     "text": [
      "\b \bdone\r\n",
      "\u001b[?25h  Created wheel for gym: filename=gym-0.24.1-py3-none-any.whl size=793137 sha256=331131affa9d9a418868898dfea532c893d1ceccc90206fdbdd1e6de3164833b\r\n",
      "  Stored in directory: /home/kbuilder/.cache/pip/wheels/81/10/18/36362eda933f72e09d7c60b5fc9eaf22bf5876ee2450d6da60\r\n",
      "Successfully built gym\r\n"
     ]
    },
    {
     "name": "stdout",
     "output_type": "stream",
     "text": [
      "Installing collected packages: gym-notices, pygame, cloudpickle, gym\r\n"
     ]
    },
    {
     "name": "stdout",
     "output_type": "stream",
     "text": [
      "Successfully installed cloudpickle-2.1.0 gym-0.24.1 gym-notices-0.0.7 pygame-2.1.0\r\n"
     ]
    },
    {
     "name": "stdout",
     "output_type": "stream",
     "text": [
      "Collecting pyglet\r\n"
     ]
    },
    {
     "name": "stdout",
     "output_type": "stream",
     "text": [
      "  Downloading pyglet-1.5.26-py3-none-any.whl (1.1 MB)\r\n"
     ]
    },
    {
     "name": "stdout",
     "output_type": "stream",
     "text": [
      "Installing collected packages: pyglet\r\n"
     ]
    },
    {
     "name": "stdout",
     "output_type": "stream",
     "text": [
      "Successfully installed pyglet-1.5.26\r\n"
     ]
    }
   ],
   "source": [
    "!pip install gym[classic_control]\n",
    "!pip install pyglet"
   ]
  },
  {
   "cell_type": "code",
   "execution_count": 3,
   "metadata": {
    "execution": {
     "iopub.execute_input": "2022-06-11T01:21:14.550018Z",
     "iopub.status.busy": "2022-06-11T01:21:14.549744Z",
     "iopub.status.idle": "2022-06-11T01:21:32.568221Z",
     "shell.execute_reply": "2022-06-11T01:21:32.567282Z"
    },
    "id": "WBeQhPi2S4m5"
   },
   "outputs": [],
   "source": [
    "%%bash\n",
    "# Install additional packages for visualization\n",
    "sudo apt-get install -y xvfb python-opengl > /dev/null 2>&1\n",
    "pip install pyvirtualdisplay > /dev/null 2>&1\n",
    "pip install git+https://github.com/tensorflow/docs > /dev/null 2>&1"
   ]
  },
  {
   "cell_type": "code",
   "execution_count": 4,
   "metadata": {
    "execution": {
     "iopub.execute_input": "2022-06-11T01:21:32.572032Z",
     "iopub.status.busy": "2022-06-11T01:21:32.571753Z",
     "iopub.status.idle": "2022-06-11T01:21:35.171413Z",
     "shell.execute_reply": "2022-06-11T01:21:35.170656Z"
    },
    "id": "tT4N3qYviUJr"
   },
   "outputs": [
    {
     "name": "stderr",
     "output_type": "stream",
     "text": [
      "/tmpfs/src/tf_docs_env/lib/python3.9/site-packages/flatbuffers/compat.py:19: DeprecationWarning: the imp module is deprecated in favour of importlib; see the module's documentation for alternative uses\n",
      "  import imp\n",
      "/tmpfs/src/tf_docs_env/lib/python3.9/site-packages/keras/utils/image_utils.py:36: DeprecationWarning: NEAREST is deprecated and will be removed in Pillow 10 (2023-07-01). Use Resampling.NEAREST or Dither.NONE instead.\n",
      "  'nearest': pil_image.NEAREST,\n",
      "/tmpfs/src/tf_docs_env/lib/python3.9/site-packages/keras/utils/image_utils.py:37: DeprecationWarning: BILINEAR is deprecated and will be removed in Pillow 10 (2023-07-01). Use Resampling.BILINEAR instead.\n",
      "  'bilinear': pil_image.BILINEAR,\n",
      "/tmpfs/src/tf_docs_env/lib/python3.9/site-packages/keras/utils/image_utils.py:38: DeprecationWarning: BICUBIC is deprecated and will be removed in Pillow 10 (2023-07-01). Use Resampling.BICUBIC instead.\n",
      "  'bicubic': pil_image.BICUBIC,\n",
      "/tmpfs/src/tf_docs_env/lib/python3.9/site-packages/keras/utils/image_utils.py:39: DeprecationWarning: HAMMING is deprecated and will be removed in Pillow 10 (2023-07-01). Use Resampling.HAMMING instead.\n",
      "  'hamming': pil_image.HAMMING,\n",
      "/tmpfs/src/tf_docs_env/lib/python3.9/site-packages/keras/utils/image_utils.py:40: DeprecationWarning: BOX is deprecated and will be removed in Pillow 10 (2023-07-01). Use Resampling.BOX instead.\n",
      "  'box': pil_image.BOX,\n",
      "/tmpfs/src/tf_docs_env/lib/python3.9/site-packages/keras/utils/image_utils.py:41: DeprecationWarning: LANCZOS is deprecated and will be removed in Pillow 10 (2023-07-01). Use Resampling.LANCZOS instead.\n",
      "  'lanczos': pil_image.LANCZOS,\n"
     ]
    },
    {
     "name": "stderr",
     "output_type": "stream",
     "text": [
      "/tmpfs/src/tf_docs_env/lib/python3.9/site-packages/gym/envs/registration.py:564: UserWarning: \u001b[33mWARN: The environment CartPole-v0 is out of date. You should consider upgrading to version `v1`.\u001b[0m\n",
      "  logger.warn(\n",
      "/tmpfs/src/tf_docs_env/lib/python3.9/site-packages/gym/utils/passive_env_checker.py:97: UserWarning: \u001b[33mWARN: We recommend you to use a symmetric and normalized Box action space (range=[-1, 1]) https://stable-baselines3.readthedocs.io/en/master/guide/rl_tips.html\u001b[0m\n",
      "  logger.warn(\n",
      "/tmpfs/src/tf_docs_env/lib/python3.9/site-packages/gym/core.py:200: DeprecationWarning: \u001b[33mWARN: Function `env.seed(seed)` is marked as deprecated and will be removed in the future. Please use `env.reset(seed=seed)` instead.\u001b[0m\n",
      "  deprecation(\n"
     ]
    }
   ],
   "source": [
    "import collections\n",
    "import gym\n",
    "import numpy as np\n",
    "import statistics\n",
    "import tensorflow as tf\n",
    "import tqdm\n",
    "\n",
    "from matplotlib import pyplot as plt\n",
    "from tensorflow.keras import layers\n",
    "from typing import Any, List, Sequence, Tuple\n",
    "\n",
    "\n",
    "# Create the environment\n",
    "env = gym.make(\"CartPole-v0\")\n",
    "\n",
    "# Set seed for experiment reproducibility\n",
    "seed = 42\n",
    "env.seed(seed)\n",
    "tf.random.set_seed(seed)\n",
    "np.random.seed(seed)\n",
    "\n",
    "# Small epsilon value for stabilizing division operations\n",
    "eps = np.finfo(np.float32).eps.item()"
   ]
  },
  {
   "cell_type": "markdown",
   "metadata": {
    "id": "AOUCe2D0iUJu"
   },
   "source": [
    "## Model\n",
    "\n",
    "The *Actor* and *Critic* will be modeled using one neural network that generates the action probabilities and critic value respectively. This tutorial uses model subclassing to define the model. \n",
    "\n",
    "During the forward pass, the model will take in the state as the input and will output both action probabilities and critic value $V$, which models the state-dependent [value function](https://spinningup.openai.com/en/latest/spinningup/rl_intro.html#value-functions). The goal is to train a model that chooses actions based on a policy $\\pi$ that maximizes expected [return](https://spinningup.openai.com/en/latest/spinningup/rl_intro.html#reward-and-return).\n",
    "\n",
    "For Cartpole-v0, there are four values representing the state: cart position, cart-velocity, pole angle and pole velocity respectively. The agent can take two actions to push the cart left (0) and right (1) respectively.\n",
    "\n",
    "Refer to [OpenAI Gym's CartPole-v0 wiki page](http://www.derongliu.org/adp/adp-cdrom/Barto1983.pdf) for more information.\n"
   ]
  },
  {
   "cell_type": "code",
   "execution_count": 5,
   "metadata": {
    "execution": {
     "iopub.execute_input": "2022-06-11T01:21:35.175047Z",
     "iopub.status.busy": "2022-06-11T01:21:35.174540Z",
     "iopub.status.idle": "2022-06-11T01:21:35.180239Z",
     "shell.execute_reply": "2022-06-11T01:21:35.179692Z"
    },
    "id": "aXKbbMC-kmuv"
   },
   "outputs": [],
   "source": [
    "class ActorCritic(tf.keras.Model):\n",
    "  \"\"\"Combined actor-critic network.\"\"\"\n",
    "\n",
    "  def __init__(\n",
    "      self, \n",
    "      num_actions: int, \n",
    "      num_hidden_units: int):\n",
    "    \"\"\"Initialize.\"\"\"\n",
    "    super().__init__()\n",
    "\n",
    "    self.common = layers.Dense(num_hidden_units, activation=\"relu\")\n",
    "    self.actor = layers.Dense(num_actions)\n",
    "    self.critic = layers.Dense(1)\n",
    "\n",
    "  def call(self, inputs: tf.Tensor) -> Tuple[tf.Tensor, tf.Tensor]:\n",
    "    x = self.common(inputs)\n",
    "    return self.actor(x), self.critic(x)"
   ]
  },
  {
   "cell_type": "code",
   "execution_count": 6,
   "metadata": {
    "execution": {
     "iopub.execute_input": "2022-06-11T01:21:35.183389Z",
     "iopub.status.busy": "2022-06-11T01:21:35.182785Z",
     "iopub.status.idle": "2022-06-11T01:21:38.123862Z",
     "shell.execute_reply": "2022-06-11T01:21:38.123159Z"
    },
    "id": "nWyxJgjLn68c"
   },
   "outputs": [],
   "source": [
    "num_actions = env.action_space.n  # 2\n",
    "num_hidden_units = 128\n",
    "\n",
    "model = ActorCritic(num_actions, num_hidden_units)"
   ]
  },
  {
   "cell_type": "markdown",
   "metadata": {
    "id": "hk92njFziUJw"
   },
   "source": [
    "## Training\n",
    "\n",
    "To train the agent, you will follow these steps:\n",
    "\n",
    "1. Run the agent on the environment to collect training data per episode.\n",
    "2. Compute expected return at each time step.\n",
    "3. Compute the loss for the combined actor-critic model.\n",
    "4. Compute gradients and update network parameters.\n",
    "5. Repeat 1-4 until either success criterion or max episodes has been reached.\n"
   ]
  },
  {
   "cell_type": "markdown",
   "metadata": {
    "id": "R2nde2XDs8Gh"
   },
   "source": [
    "### 1. Collecting training data\n",
    "\n",
    "As in supervised learning, in order to train the actor-critic model, you need\n",
    "to have training data. However, in order to collect such data, the model would\n",
    "need to be \"run\" in the environment.\n",
    "\n",
    "Training data is collected for each episode. Then at each time step, the model's forward pass will be run on the environment's state in order to generate action probabilities and the critic value based on the current policy parameterized by the model's weights.\n",
    "\n",
    "The next action will be sampled from the action probabilities generated by the model, which would then be applied to the environment, causing the next state and reward to be generated.\n",
    "\n",
    "This process is implemented in the `run_episode` function, which uses TensorFlow operations so that it can later be compiled into a TensorFlow graph for faster training. Note that `tf.TensorArray`s were used to support Tensor iteration on variable length arrays."
   ]
  },
  {
   "cell_type": "code",
   "execution_count": 7,
   "metadata": {
    "execution": {
     "iopub.execute_input": "2022-06-11T01:21:38.127996Z",
     "iopub.status.busy": "2022-06-11T01:21:38.127540Z",
     "iopub.status.idle": "2022-06-11T01:21:38.132379Z",
     "shell.execute_reply": "2022-06-11T01:21:38.131736Z"
    },
    "id": "5URrbGlDSAGx"
   },
   "outputs": [],
   "source": [
    "# Wrap OpenAI Gym's `env.step` call as an operation in a TensorFlow function.\n",
    "# This would allow it to be included in a callable TensorFlow graph.\n",
    "\n",
    "def env_step(action: np.ndarray) -> Tuple[np.ndarray, np.ndarray, np.ndarray]:\n",
    "  \"\"\"Returns state, reward and done flag given an action.\"\"\"\n",
    "\n",
    "  state, reward, done, _ = env.step(action)\n",
    "  return (state.astype(np.float32), \n",
    "          np.array(reward, np.int32), \n",
    "          np.array(done, np.int32))\n",
    "\n",
    "\n",
    "def tf_env_step(action: tf.Tensor) -> List[tf.Tensor]:\n",
    "  return tf.numpy_function(env_step, [action], \n",
    "                           [tf.float32, tf.int32, tf.int32])"
   ]
  },
  {
   "cell_type": "code",
   "execution_count": 8,
   "metadata": {
    "execution": {
     "iopub.execute_input": "2022-06-11T01:21:38.135329Z",
     "iopub.status.busy": "2022-06-11T01:21:38.134848Z",
     "iopub.status.idle": "2022-06-11T01:21:38.141469Z",
     "shell.execute_reply": "2022-06-11T01:21:38.140828Z"
    },
    "id": "a4qVRV063Cl9"
   },
   "outputs": [],
   "source": [
    "def run_episode(\n",
    "    initial_state: tf.Tensor,  \n",
    "    model: tf.keras.Model, \n",
    "    max_steps: int) -> Tuple[tf.Tensor, tf.Tensor, tf.Tensor]:\n",
    "  \"\"\"Runs a single episode to collect training data.\"\"\"\n",
    "\n",
    "  action_probs = tf.TensorArray(dtype=tf.float32, size=0, dynamic_size=True)\n",
    "  values = tf.TensorArray(dtype=tf.float32, size=0, dynamic_size=True)\n",
    "  rewards = tf.TensorArray(dtype=tf.int32, size=0, dynamic_size=True)\n",
    "\n",
    "  initial_state_shape = initial_state.shape\n",
    "  state = initial_state\n",
    "\n",
    "  for t in tf.range(max_steps):\n",
    "    # Convert state into a batched tensor (batch size = 1)\n",
    "    state = tf.expand_dims(state, 0)\n",
    "  \n",
    "    # Run the model and to get action probabilities and critic value\n",
    "    action_logits_t, value = model(state)\n",
    "  \n",
    "    # Sample next action from the action probability distribution\n",
    "    action = tf.random.categorical(action_logits_t, 1)[0, 0]\n",
    "    action_probs_t = tf.nn.softmax(action_logits_t)\n",
    "\n",
    "    # Store critic values\n",
    "    values = values.write(t, tf.squeeze(value))\n",
    "\n",
    "    # Store log probability of the action chosen\n",
    "    action_probs = action_probs.write(t, action_probs_t[0, action])\n",
    "  \n",
    "    # Apply action to the environment to get next state and reward\n",
    "    state, reward, done = tf_env_step(action)\n",
    "    state.set_shape(initial_state_shape)\n",
    "  \n",
    "    # Store reward\n",
    "    rewards = rewards.write(t, reward)\n",
    "\n",
    "    if tf.cast(done, tf.bool):\n",
    "      break\n",
    "\n",
    "  action_probs = action_probs.stack()\n",
    "  values = values.stack()\n",
    "  rewards = rewards.stack()\n",
    "  \n",
    "  return action_probs, values, rewards"
   ]
  },
  {
   "cell_type": "markdown",
   "metadata": {
    "id": "lBnIHdz22dIx"
   },
   "source": [
    "### 2. Computing expected returns\n",
    "\n",
    "The sequence of rewards for each timestep $t$, $\\{r_{t}\\}^{T}_{t=1}$ collected during one episode is converted into a sequence of expected returns $\\{G_{t}\\}^{T}_{t=1}$ in which the sum of rewards is taken from the current timestep $t$ to $T$ and each reward is multiplied with an exponentially decaying discount factor $\\gamma$:\n",
    "\n",
    "$$G_{t} = \\sum^{T}_{t'=t} \\gamma^{t'-t}r_{t'}$$\n",
    "\n",
    "Since $\\gamma\\in(0,1)$, rewards further out from the current timestep are given less weight.\n",
    "\n",
    "Intuitively, expected return simply implies that rewards now are better than rewards later. In a mathematical sense, it is to ensure that the sum of the rewards converges.\n",
    "\n",
    "To stabilize training, the resulting sequence of returns is also standardized (i.e. to have zero mean and unit standard deviation).\n"
   ]
  },
  {
   "cell_type": "code",
   "execution_count": 9,
   "metadata": {
    "execution": {
     "iopub.execute_input": "2022-06-11T01:21:38.144427Z",
     "iopub.status.busy": "2022-06-11T01:21:38.143906Z",
     "iopub.status.idle": "2022-06-11T01:21:38.148898Z",
     "shell.execute_reply": "2022-06-11T01:21:38.148366Z"
    },
    "id": "jpEwFyl315dl"
   },
   "outputs": [],
   "source": [
    "def get_expected_return(\n",
    "    rewards: tf.Tensor, \n",
    "    gamma: float, \n",
    "    standardize: bool = True) -> tf.Tensor:\n",
    "  \"\"\"Compute expected returns per timestep.\"\"\"\n",
    "\n",
    "  n = tf.shape(rewards)[0]\n",
    "  returns = tf.TensorArray(dtype=tf.float32, size=n)\n",
    "\n",
    "  # Start from the end of `rewards` and accumulate reward sums\n",
    "  # into the `returns` array\n",
    "  rewards = tf.cast(rewards[::-1], dtype=tf.float32)\n",
    "  discounted_sum = tf.constant(0.0)\n",
    "  discounted_sum_shape = discounted_sum.shape\n",
    "  for i in tf.range(n):\n",
    "    reward = rewards[i]\n",
    "    discounted_sum = reward + gamma * discounted_sum\n",
    "    discounted_sum.set_shape(discounted_sum_shape)\n",
    "    returns = returns.write(i, discounted_sum)\n",
    "  returns = returns.stack()[::-1]\n",
    "\n",
    "  if standardize:\n",
    "    returns = ((returns - tf.math.reduce_mean(returns)) / \n",
    "               (tf.math.reduce_std(returns) + eps))\n",
    "\n",
    "  return returns"
   ]
  },
  {
   "cell_type": "markdown",
   "metadata": {
    "id": "1hrPLrgGxlvb"
   },
   "source": [
    "### 3. The actor-critic loss\n",
    "\n",
    "Since a hybrid actor-critic model is used, the chosen loss function is a combination of actor and critic losses for training, as shown below:\n",
    "\n",
    "$$L = L_{actor} + L_{critic}$$\n",
    "\n",
    "#### Actor loss\n",
    "\n",
    "The actor loss is based on [policy gradients with the critic as a state dependent baseline](https://www.youtube.com/watch?v=EKqxumCuAAY&t=62m23s) and computed with single-sample (per-episode) estimates.\n",
    "\n",
    "$$L_{actor} = -\\sum^{T}_{t=1} \\log\\pi_{\\theta}(a_{t} | s_{t})[G(s_{t}, a_{t})  - V^{\\pi}_{\\theta}(s_{t})]$$\n",
    "\n",
    "where:\n",
    "- $T$: the number of timesteps per episode, which can vary per episode\n",
    "- $s_{t}$: the state at timestep $t$\n",
    "- $a_{t}$: chosen action at timestep $t$ given state $s$\n",
    "- $\\pi_{\\theta}$: is the policy (actor) parameterized by $\\theta$\n",
    "- $V^{\\pi}_{\\theta}$: is the value function (critic) also parameterized by $\\theta$\n",
    "- $G = G_{t}$: the expected return for a given state, action pair at timestep $t$\n",
    "\n",
    "A negative term is added to the sum since the idea is to maximize the probabilities of actions yielding higher rewards by minimizing the combined loss.\n",
    "\n",
    "<br>\n",
    "\n",
    "##### Advantage\n",
    "\n",
    "The $G - V$ term in our $L_{actor}$ formulation is called the [advantage](https://spinningup.openai.com/en/latest/spinningup/rl_intro.html#advantage-functions), which indicates how much better an action is given a particular state over a random action selected according to the policy $\\pi$ for that state.\n",
    "\n",
    "While it's possible to exclude a baseline, this may result in high variance during training. And the nice thing about choosing the critic $V$ as a baseline is that it trained to be as close as possible to $G$, leading to a lower variance.\n",
    "\n",
    "In addition, without the critic, the algorithm would try to increase probabilities for actions taken on a particular state based on expected return, which may not make much of a difference if the relative probabilities between actions remain the same.\n",
    "\n",
    "For instance, suppose that two actions for a given state would yield the same expected return. Without the critic, the algorithm would try to raise the probability of these actions based on the objective $J$. With the critic, it may turn out that there's no advantage ($G - V = 0$) and thus no benefit gained in increasing the actions' probabilities and the algorithm would set the gradients to zero.\n",
    "\n",
    "<br>\n",
    "\n",
    "#### Critic loss\n",
    "\n",
    "Training $V$ to be as close possible to $G$ can be set up as a regression problem with the following loss function:\n",
    "\n",
    "$$L_{critic} = L_{\\delta}(G, V^{\\pi}_{\\theta})$$\n",
    "\n",
    "where $L_{\\delta}$ is the [Huber loss](https://en.wikipedia.org/wiki/Huber_loss), which is less sensitive to outliers in data than squared-error loss.\n"
   ]
  },
  {
   "cell_type": "code",
   "execution_count": 10,
   "metadata": {
    "execution": {
     "iopub.execute_input": "2022-06-11T01:21:38.151699Z",
     "iopub.status.busy": "2022-06-11T01:21:38.151268Z",
     "iopub.status.idle": "2022-06-11T01:21:38.155325Z",
     "shell.execute_reply": "2022-06-11T01:21:38.154807Z"
    },
    "id": "9EXwbEez6n9m"
   },
   "outputs": [],
   "source": [
    "huber_loss = tf.keras.losses.Huber(reduction=tf.keras.losses.Reduction.SUM)\n",
    "\n",
    "def compute_loss(\n",
    "    action_probs: tf.Tensor,  \n",
    "    values: tf.Tensor,  \n",
    "    returns: tf.Tensor) -> tf.Tensor:\n",
    "  \"\"\"Computes the combined actor-critic loss.\"\"\"\n",
    "\n",
    "  advantage = returns - values\n",
    "\n",
    "  action_log_probs = tf.math.log(action_probs)\n",
    "  actor_loss = -tf.math.reduce_sum(action_log_probs * advantage)\n",
    "\n",
    "  critic_loss = huber_loss(values, returns)\n",
    "\n",
    "  return actor_loss + critic_loss"
   ]
  },
  {
   "cell_type": "markdown",
   "metadata": {
    "id": "HSYkQOmRfV75"
   },
   "source": [
    "### 4. Defining the training step to update parameters\n",
    "\n",
    "All of the steps above are combined into a training step that is run every episode. All steps leading up to the loss function are executed with the `tf.GradientTape` context to enable automatic differentiation.\n",
    "\n",
    "This tutorial uses the Adam optimizer to apply the gradients to the model parameters.\n",
    "\n",
    "The sum of the undiscounted rewards, `episode_reward`, is also computed in this step. This value will be used later on to evaluate if the success criterion is met.\n",
    "\n",
    "The `tf.function` context is applied to the `train_step` function so that it can be compiled into a callable TensorFlow graph, which can lead to 10x speedup in training.\n"
   ]
  },
  {
   "cell_type": "code",
   "execution_count": 11,
   "metadata": {
    "execution": {
     "iopub.execute_input": "2022-06-11T01:21:38.158118Z",
     "iopub.status.busy": "2022-06-11T01:21:38.157685Z",
     "iopub.status.idle": "2022-06-11T01:21:38.163276Z",
     "shell.execute_reply": "2022-06-11T01:21:38.162757Z"
    },
    "id": "QoccrkF3IFCg"
   },
   "outputs": [],
   "source": [
    "optimizer = tf.keras.optimizers.Adam(learning_rate=0.01)\n",
    "\n",
    "\n",
    "@tf.function\n",
    "def train_step(\n",
    "    initial_state: tf.Tensor, \n",
    "    model: tf.keras.Model, \n",
    "    optimizer: tf.keras.optimizers.Optimizer, \n",
    "    gamma: float, \n",
    "    max_steps_per_episode: int) -> tf.Tensor:\n",
    "  \"\"\"Runs a model training step.\"\"\"\n",
    "\n",
    "  with tf.GradientTape() as tape:\n",
    "\n",
    "    # Run the model for one episode to collect training data\n",
    "    action_probs, values, rewards = run_episode(\n",
    "        initial_state, model, max_steps_per_episode) \n",
    "\n",
    "    # Calculate expected returns\n",
    "    returns = get_expected_return(rewards, gamma)\n",
    "\n",
    "    # Convert training data to appropriate TF tensor shapes\n",
    "    action_probs, values, returns = [\n",
    "        tf.expand_dims(x, 1) for x in [action_probs, values, returns]] \n",
    "\n",
    "    # Calculating loss values to update our network\n",
    "    loss = compute_loss(action_probs, values, returns)\n",
    "\n",
    "  # Compute the gradients from the loss\n",
    "  grads = tape.gradient(loss, model.trainable_variables)\n",
    "\n",
    "  # Apply the gradients to the model's parameters\n",
    "  optimizer.apply_gradients(zip(grads, model.trainable_variables))\n",
    "\n",
    "  episode_reward = tf.math.reduce_sum(rewards)\n",
    "\n",
    "  return episode_reward"
   ]
  },
  {
   "cell_type": "markdown",
   "metadata": {
    "id": "HFvZiDoAflGK"
   },
   "source": [
    "### 5. Run the training loop\n",
    "\n",
    "Training is executed by running the training step until either the success criterion or maximum number of episodes is reached.  \n",
    "\n",
    "A running record of episode rewards is kept in a queue. Once 100 trials are reached, the oldest reward is removed at the left (tail) end of the queue and the newest one is added at the head (right). A running sum of the rewards is also maintained for computational efficiency. \n",
    "\n",
    "Depending on your runtime, training can finish in less than a minute."
   ]
  },
  {
   "cell_type": "code",
   "execution_count": 12,
   "metadata": {
    "execution": {
     "iopub.execute_input": "2022-06-11T01:21:38.166075Z",
     "iopub.status.busy": "2022-06-11T01:21:38.165729Z",
     "iopub.status.idle": "2022-06-11T01:23:20.759266Z",
     "shell.execute_reply": "2022-06-11T01:23:20.758516Z"
    },
    "id": "kbmBxnzLiUJx"
   },
   "outputs": [
    {
     "name": "stderr",
     "output_type": "stream",
     "text": [
      "\r",
      "  0%|          | 0/10000 [00:00<?, ?it/s]"
     ]
    },
    {
     "name": "stderr",
     "output_type": "stream",
     "text": [
      "\r",
      "Episode 0:   0%|          | 0/10000 [00:02<?, ?it/s]"
     ]
    },
    {
     "name": "stderr",
     "output_type": "stream",
     "text": [
      "\r",
      "Episode 0:   0%|          | 0/10000 [00:02<?, ?it/s, episode_reward=40, running_reward=40]"
     ]
    },
    {
     "name": "stderr",
     "output_type": "stream",
     "text": [
      "\r",
      "Episode 0:   0%|          | 1/10000 [00:02<7:49:49,  2.82s/it, episode_reward=40, running_reward=40]"
     ]
    },
    {
     "name": "stderr",
     "output_type": "stream",
     "text": [
      "\r",
      "Episode 1:   0%|          | 1/10000 [00:02<7:49:49,  2.82s/it, episode_reward=40, running_reward=40]"
     ]
    },
    {
     "name": "stderr",
     "output_type": "stream",
     "text": [
      "\r",
      "Episode 1:   0%|          | 1/10000 [00:02<7:49:49,  2.82s/it, episode_reward=40, running_reward=40]"
     ]
    },
    {
     "name": "stderr",
     "output_type": "stream",
     "text": [
      "\r",
      "Episode 2:   0%|          | 1/10000 [00:02<7:49:49,  2.82s/it, episode_reward=40, running_reward=40]"
     ]
    },
    {
     "name": "stderr",
     "output_type": "stream",
     "text": [
      "\r",
      "Episode 2:   0%|          | 1/10000 [00:02<7:49:49,  2.82s/it, episode_reward=18, running_reward=32.7]"
     ]
    },
    {
     "name": "stderr",
     "output_type": "stream",
     "text": [
      "\r",
      "Episode 3:   0%|          | 1/10000 [00:02<7:49:49,  2.82s/it, episode_reward=18, running_reward=32.7]"
     ]
    },
    {
     "name": "stderr",
     "output_type": "stream",
     "text": [
      "\r",
      "Episode 3:   0%|          | 1/10000 [00:02<7:49:49,  2.82s/it, episode_reward=25, running_reward=30.8]"
     ]
    },
    {
     "name": "stderr",
     "output_type": "stream",
     "text": [
      "\r",
      "Episode 3:   0%|          | 4/10000 [00:02<1:33:31,  1.78it/s, episode_reward=25, running_reward=30.8]"
     ]
    },
    {
     "name": "stderr",
     "output_type": "stream",
     "text": [
      "\r",
      "Episode 4:   0%|          | 4/10000 [00:02<1:33:31,  1.78it/s, episode_reward=25, running_reward=30.8]"
     ]
    },
    {
     "name": "stderr",
     "output_type": "stream",
     "text": [
      "\r",
      "Episode 4:   0%|          | 4/10000 [00:02<1:33:31,  1.78it/s, episode_reward=21, running_reward=28.8]"
     ]
    },
    {
     "name": "stderr",
     "output_type": "stream",
     "text": [
      "\r",
      "Episode 5:   0%|          | 4/10000 [00:02<1:33:31,  1.78it/s, episode_reward=21, running_reward=28.8]"
     ]
    },
    {
     "name": "stderr",
     "output_type": "stream",
     "text": [
      "\r",
      "Episode 5:   0%|          | 4/10000 [00:02<1:33:31,  1.78it/s, episode_reward=13, running_reward=26.2]"
     ]
    },
    {
     "name": "stderr",
     "output_type": "stream",
     "text": [
      "\r",
      "Episode 6:   0%|          | 4/10000 [00:02<1:33:31,  1.78it/s, episode_reward=13, running_reward=26.2]"
     ]
    },
    {
     "name": "stderr",
     "output_type": "stream",
     "text": [
      "\r",
      "Episode 6:   0%|          | 4/10000 [00:02<1:33:31,  1.78it/s, episode_reward=15, running_reward=24.6]"
     ]
    },
    {
     "name": "stderr",
     "output_type": "stream",
     "text": [
      "\r",
      "Episode 7:   0%|          | 4/10000 [00:03<1:33:31,  1.78it/s, episode_reward=15, running_reward=24.6]"
     ]
    },
    {
     "name": "stderr",
     "output_type": "stream",
     "text": [
      "\r",
      "Episode 7:   0%|          | 4/10000 [00:03<1:33:31,  1.78it/s, episode_reward=17, running_reward=23.6]"
     ]
    },
    {
     "name": "stderr",
     "output_type": "stream",
     "text": [
      "\r",
      "Episode 8:   0%|          | 4/10000 [00:03<1:33:31,  1.78it/s, episode_reward=17, running_reward=23.6]"
     ]
    },
    {
     "name": "stderr",
     "output_type": "stream",
     "text": [
      "\r",
      "Episode 8:   0%|          | 4/10000 [00:03<1:33:31,  1.78it/s, episode_reward=11, running_reward=22.2]"
     ]
    },
    {
     "name": "stderr",
     "output_type": "stream",
     "text": [
      "\r",
      "Episode 8:   0%|          | 9/10000 [00:03<34:15,  4.86it/s, episode_reward=11, running_reward=22.2]  "
     ]
    },
    {
     "name": "stderr",
     "output_type": "stream",
     "text": [
      "\r",
      "Episode 9:   0%|          | 9/10000 [00:03<34:15,  4.86it/s, episode_reward=11, running_reward=22.2]"
     ]
    },
    {
     "name": "stderr",
     "output_type": "stream",
     "text": [
      "\r",
      "Episode 9:   0%|          | 9/10000 [00:03<34:15,  4.86it/s, episode_reward=32, running_reward=23.2]"
     ]
    },
    {
     "name": "stderr",
     "output_type": "stream",
     "text": [
      "\r",
      "Episode 10:   0%|          | 9/10000 [00:03<34:15,  4.86it/s, episode_reward=32, running_reward=23.2]"
     ]
    },
    {
     "name": "stderr",
     "output_type": "stream",
     "text": [
      "\r",
      "Episode 10:   0%|          | 9/10000 [00:03<34:15,  4.86it/s, episode_reward=17, running_reward=22.6]"
     ]
    },
    {
     "name": "stderr",
     "output_type": "stream",
     "text": [
      "\r",
      "Episode 11:   0%|          | 9/10000 [00:03<34:15,  4.86it/s, episode_reward=17, running_reward=22.6]"
     ]
    },
    {
     "name": "stderr",
     "output_type": "stream",
     "text": [
      "\r",
      "Episode 11:   0%|          | 9/10000 [00:03<34:15,  4.86it/s, episode_reward=17, running_reward=22.2]"
     ]
    },
    {
     "name": "stderr",
     "output_type": "stream",
     "text": [
      "\r",
      "Episode 12:   0%|          | 9/10000 [00:03<34:15,  4.86it/s, episode_reward=17, running_reward=22.2]"
     ]
    },
    {
     "name": "stderr",
     "output_type": "stream",
     "text": [
      "\r",
      "Episode 12:   0%|          | 9/10000 [00:03<34:15,  4.86it/s, episode_reward=9, running_reward=21.2] "
     ]
    },
    {
     "name": "stderr",
     "output_type": "stream",
     "text": [
      "\r",
      "Episode 12:   0%|          | 13/10000 [00:03<21:22,  7.79it/s, episode_reward=9, running_reward=21.2]"
     ]
    },
    {
     "name": "stderr",
     "output_type": "stream",
     "text": [
      "\r",
      "Episode 13:   0%|          | 13/10000 [00:03<21:22,  7.79it/s, episode_reward=9, running_reward=21.2]"
     ]
    },
    {
     "name": "stderr",
     "output_type": "stream",
     "text": [
      "\r",
      "Episode 13:   0%|          | 13/10000 [00:03<21:22,  7.79it/s, episode_reward=13, running_reward=20.6]"
     ]
    },
    {
     "name": "stderr",
     "output_type": "stream",
     "text": [
      "\r",
      "Episode 14:   0%|          | 13/10000 [00:03<21:22,  7.79it/s, episode_reward=13, running_reward=20.6]"
     ]
    },
    {
     "name": "stderr",
     "output_type": "stream",
     "text": [
      "\r",
      "Episode 14:   0%|          | 13/10000 [00:03<21:22,  7.79it/s, episode_reward=13, running_reward=20.1]"
     ]
    },
    {
     "name": "stderr",
     "output_type": "stream",
     "text": [
      "\r",
      "Episode 15:   0%|          | 13/10000 [00:03<21:22,  7.79it/s, episode_reward=13, running_reward=20.1]"
     ]
    },
    {
     "name": "stderr",
     "output_type": "stream",
     "text": [
      "\r",
      "Episode 15:   0%|          | 13/10000 [00:03<21:22,  7.79it/s, episode_reward=61, running_reward=22.6]"
     ]
    },
    {
     "name": "stderr",
     "output_type": "stream",
     "text": [
      "\r",
      "Episode 16:   0%|          | 13/10000 [00:03<21:22,  7.79it/s, episode_reward=61, running_reward=22.6]"
     ]
    },
    {
     "name": "stderr",
     "output_type": "stream",
     "text": [
      "\r",
      "Episode 16:   0%|          | 13/10000 [00:03<21:22,  7.79it/s, episode_reward=18, running_reward=22.4]"
     ]
    },
    {
     "name": "stderr",
     "output_type": "stream",
     "text": [
      "\r",
      "Episode 16:   0%|          | 17/10000 [00:03<15:36, 10.66it/s, episode_reward=18, running_reward=22.4]"
     ]
    },
    {
     "name": "stderr",
     "output_type": "stream",
     "text": [
      "\r",
      "Episode 17:   0%|          | 17/10000 [00:03<15:36, 10.66it/s, episode_reward=18, running_reward=22.4]"
     ]
    },
    {
     "name": "stderr",
     "output_type": "stream",
     "text": [
      "\r",
      "Episode 17:   0%|          | 17/10000 [00:03<15:36, 10.66it/s, episode_reward=22, running_reward=22.3]"
     ]
    },
    {
     "name": "stderr",
     "output_type": "stream",
     "text": [
      "\r",
      "Episode 18:   0%|          | 17/10000 [00:03<15:36, 10.66it/s, episode_reward=22, running_reward=22.3]"
     ]
    },
    {
     "name": "stderr",
     "output_type": "stream",
     "text": [
      "\r",
      "Episode 18:   0%|          | 17/10000 [00:03<15:36, 10.66it/s, episode_reward=17, running_reward=22.1]"
     ]
    },
    {
     "name": "stderr",
     "output_type": "stream",
     "text": [
      "\r",
      "Episode 19:   0%|          | 17/10000 [00:03<15:36, 10.66it/s, episode_reward=17, running_reward=22.1]"
     ]
    },
    {
     "name": "stderr",
     "output_type": "stream",
     "text": [
      "\r",
      "Episode 19:   0%|          | 17/10000 [00:03<15:36, 10.66it/s, episode_reward=11, running_reward=21.5]"
     ]
    },
    {
     "name": "stderr",
     "output_type": "stream",
     "text": [
      "\r",
      "Episode 20:   0%|          | 17/10000 [00:03<15:36, 10.66it/s, episode_reward=11, running_reward=21.5]"
     ]
    },
    {
     "name": "stderr",
     "output_type": "stream",
     "text": [
      "\r",
      "Episode 20:   0%|          | 17/10000 [00:03<15:36, 10.66it/s, episode_reward=18, running_reward=21.3]"
     ]
    },
    {
     "name": "stderr",
     "output_type": "stream",
     "text": [
      "\r",
      "Episode 21:   0%|          | 17/10000 [00:03<15:36, 10.66it/s, episode_reward=18, running_reward=21.3]"
     ]
    },
    {
     "name": "stderr",
     "output_type": "stream",
     "text": [
      "\r",
      "Episode 21:   0%|          | 17/10000 [00:03<15:36, 10.66it/s, episode_reward=52, running_reward=22.7]"
     ]
    },
    {
     "name": "stderr",
     "output_type": "stream",
     "text": [
      "\r",
      "Episode 21:   0%|          | 22/10000 [00:03<11:30, 14.45it/s, episode_reward=52, running_reward=22.7]"
     ]
    },
    {
     "name": "stderr",
     "output_type": "stream",
     "text": [
      "\r",
      "Episode 22:   0%|          | 22/10000 [00:03<11:30, 14.45it/s, episode_reward=52, running_reward=22.7]"
     ]
    },
    {
     "name": "stderr",
     "output_type": "stream",
     "text": [
      "\r",
      "Episode 22:   0%|          | 22/10000 [00:03<11:30, 14.45it/s, episode_reward=12, running_reward=22.3]"
     ]
    },
    {
     "name": "stderr",
     "output_type": "stream",
     "text": [
      "\r",
      "Episode 23:   0%|          | 22/10000 [00:03<11:30, 14.45it/s, episode_reward=12, running_reward=22.3]"
     ]
    },
    {
     "name": "stderr",
     "output_type": "stream",
     "text": [
      "\r",
      "Episode 23:   0%|          | 22/10000 [00:03<11:30, 14.45it/s, episode_reward=18, running_reward=22.1]"
     ]
    },
    {
     "name": "stderr",
     "output_type": "stream",
     "text": [
      "\r",
      "Episode 24:   0%|          | 22/10000 [00:03<11:30, 14.45it/s, episode_reward=18, running_reward=22.1]"
     ]
    },
    {
     "name": "stderr",
     "output_type": "stream",
     "text": [
      "\r",
      "Episode 24:   0%|          | 22/10000 [00:03<11:30, 14.45it/s, episode_reward=10, running_reward=21.6]"
     ]
    },
    {
     "name": "stderr",
     "output_type": "stream",
     "text": [
      "\r",
      "Episode 25:   0%|          | 22/10000 [00:03<11:30, 14.45it/s, episode_reward=10, running_reward=21.6]"
     ]
    },
    {
     "name": "stderr",
     "output_type": "stream",
     "text": [
      "\r",
      "Episode 25:   0%|          | 22/10000 [00:03<11:30, 14.45it/s, episode_reward=44, running_reward=22.5]"
     ]
    },
    {
     "name": "stderr",
     "output_type": "stream",
     "text": [
      "\r",
      "Episode 25:   0%|          | 26/10000 [00:03<09:22, 17.73it/s, episode_reward=44, running_reward=22.5]"
     ]
    },
    {
     "name": "stderr",
     "output_type": "stream",
     "text": [
      "\r",
      "Episode 26:   0%|          | 26/10000 [00:03<09:22, 17.73it/s, episode_reward=44, running_reward=22.5]"
     ]
    },
    {
     "name": "stderr",
     "output_type": "stream",
     "text": [
      "\r",
      "Episode 26:   0%|          | 26/10000 [00:03<09:22, 17.73it/s, episode_reward=11, running_reward=22]  "
     ]
    },
    {
     "name": "stderr",
     "output_type": "stream",
     "text": [
      "\r",
      "Episode 27:   0%|          | 26/10000 [00:03<09:22, 17.73it/s, episode_reward=11, running_reward=22]"
     ]
    },
    {
     "name": "stderr",
     "output_type": "stream",
     "text": [
      "\r",
      "Episode 27:   0%|          | 26/10000 [00:03<09:22, 17.73it/s, episode_reward=16, running_reward=21.8]"
     ]
    },
    {
     "name": "stderr",
     "output_type": "stream",
     "text": [
      "\r",
      "Episode 28:   0%|          | 26/10000 [00:03<09:22, 17.73it/s, episode_reward=16, running_reward=21.8]"
     ]
    },
    {
     "name": "stderr",
     "output_type": "stream",
     "text": [
      "\r",
      "Episode 28:   0%|          | 26/10000 [00:03<09:22, 17.73it/s, episode_reward=14, running_reward=21.6]"
     ]
    },
    {
     "name": "stderr",
     "output_type": "stream",
     "text": [
      "\r",
      "Episode 29:   0%|          | 26/10000 [00:03<09:22, 17.73it/s, episode_reward=14, running_reward=21.6]"
     ]
    },
    {
     "name": "stderr",
     "output_type": "stream",
     "text": [
      "\r",
      "Episode 29:   0%|          | 26/10000 [00:03<09:22, 17.73it/s, episode_reward=9, running_reward=21.1] "
     ]
    },
    {
     "name": "stderr",
     "output_type": "stream",
     "text": [
      "\r",
      "Episode 30:   0%|          | 26/10000 [00:03<09:22, 17.73it/s, episode_reward=9, running_reward=21.1]"
     ]
    },
    {
     "name": "stderr",
     "output_type": "stream",
     "text": [
      "\r",
      "Episode 30:   0%|          | 26/10000 [00:03<09:22, 17.73it/s, episode_reward=21, running_reward=21.1]"
     ]
    },
    {
     "name": "stderr",
     "output_type": "stream",
     "text": [
      "\r",
      "Episode 30:   0%|          | 31/10000 [00:03<07:13, 23.01it/s, episode_reward=21, running_reward=21.1]"
     ]
    },
    {
     "name": "stderr",
     "output_type": "stream",
     "text": [
      "\r",
      "Episode 31:   0%|          | 31/10000 [00:03<07:13, 23.01it/s, episode_reward=21, running_reward=21.1]"
     ]
    },
    {
     "name": "stderr",
     "output_type": "stream",
     "text": [
      "\r",
      "Episode 31:   0%|          | 31/10000 [00:03<07:13, 23.01it/s, episode_reward=13, running_reward=20.9]"
     ]
    },
    {
     "name": "stderr",
     "output_type": "stream",
     "text": [
      "\r",
      "Episode 32:   0%|          | 31/10000 [00:03<07:13, 23.01it/s, episode_reward=13, running_reward=20.9]"
     ]
    },
    {
     "name": "stderr",
     "output_type": "stream",
     "text": [
      "\r",
      "Episode 32:   0%|          | 31/10000 [00:03<07:13, 23.01it/s, episode_reward=32, running_reward=21.2]"
     ]
    },
    {
     "name": "stderr",
     "output_type": "stream",
     "text": [
      "\r",
      "Episode 33:   0%|          | 31/10000 [00:03<07:13, 23.01it/s, episode_reward=32, running_reward=21.2]"
     ]
    },
    {
     "name": "stderr",
     "output_type": "stream",
     "text": [
      "\r",
      "Episode 33:   0%|          | 31/10000 [00:03<07:13, 23.01it/s, episode_reward=30, running_reward=21.5]"
     ]
    },
    {
     "name": "stderr",
     "output_type": "stream",
     "text": [
      "\r",
      "Episode 34:   0%|          | 31/10000 [00:03<07:13, 23.01it/s, episode_reward=30, running_reward=21.5]"
     ]
    },
    {
     "name": "stderr",
     "output_type": "stream",
     "text": [
      "\r",
      "Episode 34:   0%|          | 31/10000 [00:03<07:13, 23.01it/s, episode_reward=44, running_reward=22.1]"
     ]
    },
    {
     "name": "stderr",
     "output_type": "stream",
     "text": [
      "\r",
      "Episode 34:   0%|          | 35/10000 [00:03<07:07, 23.29it/s, episode_reward=44, running_reward=22.1]"
     ]
    },
    {
     "name": "stderr",
     "output_type": "stream",
     "text": [
      "\r",
      "Episode 35:   0%|          | 35/10000 [00:03<07:07, 23.29it/s, episode_reward=44, running_reward=22.1]"
     ]
    },
    {
     "name": "stderr",
     "output_type": "stream",
     "text": [
      "\r",
      "Episode 35:   0%|          | 35/10000 [00:03<07:07, 23.29it/s, episode_reward=20, running_reward=22.1]"
     ]
    },
    {
     "name": "stderr",
     "output_type": "stream",
     "text": [
      "\r",
      "Episode 36:   0%|          | 35/10000 [00:03<07:07, 23.29it/s, episode_reward=20, running_reward=22.1]"
     ]
    },
    {
     "name": "stderr",
     "output_type": "stream",
     "text": [
      "\r",
      "Episode 36:   0%|          | 35/10000 [00:03<07:07, 23.29it/s, episode_reward=9, running_reward=21.7] "
     ]
    },
    {
     "name": "stderr",
     "output_type": "stream",
     "text": [
      "\r",
      "Episode 37:   0%|          | 35/10000 [00:03<07:07, 23.29it/s, episode_reward=9, running_reward=21.7]"
     ]
    },
    {
     "name": "stderr",
     "output_type": "stream",
     "text": [
      "\r",
      "Episode 37:   0%|          | 35/10000 [00:03<07:07, 23.29it/s, episode_reward=28, running_reward=21.9]"
     ]
    },
    {
     "name": "stderr",
     "output_type": "stream",
     "text": [
      "\r",
      "Episode 38:   0%|          | 35/10000 [00:03<07:07, 23.29it/s, episode_reward=28, running_reward=21.9]"
     ]
    },
    {
     "name": "stderr",
     "output_type": "stream",
     "text": [
      "\r",
      "Episode 38:   0%|          | 35/10000 [00:03<07:07, 23.29it/s, episode_reward=10, running_reward=21.6]"
     ]
    },
    {
     "name": "stderr",
     "output_type": "stream",
     "text": [
      "\r",
      "Episode 39:   0%|          | 35/10000 [00:03<07:07, 23.29it/s, episode_reward=10, running_reward=21.6]"
     ]
    },
    {
     "name": "stderr",
     "output_type": "stream",
     "text": [
      "\r",
      "Episode 39:   0%|          | 35/10000 [00:03<07:07, 23.29it/s, episode_reward=25, running_reward=21.6]"
     ]
    },
    {
     "name": "stderr",
     "output_type": "stream",
     "text": [
      "\r",
      "Episode 39:   0%|          | 40/10000 [00:03<06:09, 26.94it/s, episode_reward=25, running_reward=21.6]"
     ]
    },
    {
     "name": "stderr",
     "output_type": "stream",
     "text": [
      "\r",
      "Episode 40:   0%|          | 40/10000 [00:03<06:09, 26.94it/s, episode_reward=25, running_reward=21.6]"
     ]
    },
    {
     "name": "stderr",
     "output_type": "stream",
     "text": [
      "\r",
      "Episode 40:   0%|          | 40/10000 [00:03<06:09, 26.94it/s, episode_reward=23, running_reward=21.7]"
     ]
    },
    {
     "name": "stderr",
     "output_type": "stream",
     "text": [
      "\r",
      "Episode 41:   0%|          | 40/10000 [00:04<06:09, 26.94it/s, episode_reward=23, running_reward=21.7]"
     ]
    },
    {
     "name": "stderr",
     "output_type": "stream",
     "text": [
      "\r",
      "Episode 41:   0%|          | 40/10000 [00:04<06:09, 26.94it/s, episode_reward=35, running_reward=22]  "
     ]
    },
    {
     "name": "stderr",
     "output_type": "stream",
     "text": [
      "\r",
      "Episode 42:   0%|          | 40/10000 [00:04<06:09, 26.94it/s, episode_reward=35, running_reward=22]"
     ]
    },
    {
     "name": "stderr",
     "output_type": "stream",
     "text": [
      "\r",
      "Episode 42:   0%|          | 40/10000 [00:04<06:09, 26.94it/s, episode_reward=33, running_reward=22.3]"
     ]
    },
    {
     "name": "stderr",
     "output_type": "stream",
     "text": [
      "\r",
      "Episode 43:   0%|          | 40/10000 [00:04<06:09, 26.94it/s, episode_reward=33, running_reward=22.3]"
     ]
    },
    {
     "name": "stderr",
     "output_type": "stream",
     "text": [
      "\r",
      "Episode 43:   0%|          | 40/10000 [00:04<06:09, 26.94it/s, episode_reward=37, running_reward=22.6]"
     ]
    },
    {
     "name": "stderr",
     "output_type": "stream",
     "text": [
      "\r",
      "Episode 43:   0%|          | 44/10000 [00:04<06:24, 25.93it/s, episode_reward=37, running_reward=22.6]"
     ]
    },
    {
     "name": "stderr",
     "output_type": "stream",
     "text": [
      "\r",
      "Episode 44:   0%|          | 44/10000 [00:04<06:24, 25.93it/s, episode_reward=37, running_reward=22.6]"
     ]
    },
    {
     "name": "stderr",
     "output_type": "stream",
     "text": [
      "\r",
      "Episode 44:   0%|          | 44/10000 [00:04<06:24, 25.93it/s, episode_reward=86, running_reward=24]  "
     ]
    },
    {
     "name": "stderr",
     "output_type": "stream",
     "text": [
      "\r",
      "Episode 45:   0%|          | 44/10000 [00:04<06:24, 25.93it/s, episode_reward=86, running_reward=24]"
     ]
    },
    {
     "name": "stderr",
     "output_type": "stream",
     "text": [
      "\r",
      "Episode 45:   0%|          | 44/10000 [00:04<06:24, 25.93it/s, episode_reward=53, running_reward=24.6]"
     ]
    },
    {
     "name": "stderr",
     "output_type": "stream",
     "text": [
      "\r",
      "Episode 46:   0%|          | 44/10000 [00:04<06:24, 25.93it/s, episode_reward=53, running_reward=24.6]"
     ]
    },
    {
     "name": "stderr",
     "output_type": "stream",
     "text": [
      "\r",
      "Episode 46:   0%|          | 44/10000 [00:04<06:24, 25.93it/s, episode_reward=13, running_reward=24.4]"
     ]
    },
    {
     "name": "stderr",
     "output_type": "stream",
     "text": [
      "\r",
      "Episode 47:   0%|          | 44/10000 [00:04<06:24, 25.93it/s, episode_reward=13, running_reward=24.4]"
     ]
    },
    {
     "name": "stderr",
     "output_type": "stream",
     "text": [
      "\r",
      "Episode 47:   0%|          | 44/10000 [00:04<06:24, 25.93it/s, episode_reward=15, running_reward=24.2]"
     ]
    },
    {
     "name": "stderr",
     "output_type": "stream",
     "text": [
      "\r",
      "Episode 47:   0%|          | 48/10000 [00:04<07:23, 22.44it/s, episode_reward=15, running_reward=24.2]"
     ]
    },
    {
     "name": "stderr",
     "output_type": "stream",
     "text": [
      "\r",
      "Episode 48:   0%|          | 48/10000 [00:04<07:23, 22.44it/s, episode_reward=15, running_reward=24.2]"
     ]
    },
    {
     "name": "stderr",
     "output_type": "stream",
     "text": [
      "\r",
      "Episode 48:   0%|          | 48/10000 [00:04<07:23, 22.44it/s, episode_reward=48, running_reward=24.7]"
     ]
    },
    {
     "name": "stderr",
     "output_type": "stream",
     "text": [
      "\r",
      "Episode 49:   0%|          | 48/10000 [00:04<07:23, 22.44it/s, episode_reward=48, running_reward=24.7]"
     ]
    },
    {
     "name": "stderr",
     "output_type": "stream",
     "text": [
      "\r",
      "Episode 49:   0%|          | 48/10000 [00:04<07:23, 22.44it/s, episode_reward=31, running_reward=24.8]"
     ]
    },
    {
     "name": "stderr",
     "output_type": "stream",
     "text": [
      "\r",
      "Episode 50:   0%|          | 48/10000 [00:04<07:23, 22.44it/s, episode_reward=31, running_reward=24.8]"
     ]
    },
    {
     "name": "stderr",
     "output_type": "stream",
     "text": [
      "\r",
      "Episode 50:   0%|          | 48/10000 [00:04<07:23, 22.44it/s, episode_reward=38, running_reward=25.1]"
     ]
    },
    {
     "name": "stderr",
     "output_type": "stream",
     "text": [
      "\r",
      "Episode 50:   1%|          | 51/10000 [00:04<07:47, 21.27it/s, episode_reward=38, running_reward=25.1]"
     ]
    },
    {
     "name": "stderr",
     "output_type": "stream",
     "text": [
      "\r",
      "Episode 51:   1%|          | 51/10000 [00:04<07:47, 21.27it/s, episode_reward=38, running_reward=25.1]"
     ]
    },
    {
     "name": "stderr",
     "output_type": "stream",
     "text": [
      "\r",
      "Episode 51:   1%|          | 51/10000 [00:04<07:47, 21.27it/s, episode_reward=15, running_reward=24.9]"
     ]
    },
    {
     "name": "stderr",
     "output_type": "stream",
     "text": [
      "\r",
      "Episode 52:   1%|          | 51/10000 [00:04<07:47, 21.27it/s, episode_reward=15, running_reward=24.9]"
     ]
    },
    {
     "name": "stderr",
     "output_type": "stream",
     "text": [
      "\r",
      "Episode 52:   1%|          | 51/10000 [00:04<07:47, 21.27it/s, episode_reward=10, running_reward=24.6]"
     ]
    },
    {
     "name": "stderr",
     "output_type": "stream",
     "text": [
      "\r",
      "Episode 53:   1%|          | 51/10000 [00:04<07:47, 21.27it/s, episode_reward=10, running_reward=24.6]"
     ]
    },
    {
     "name": "stderr",
     "output_type": "stream",
     "text": [
      "\r",
      "Episode 53:   1%|          | 51/10000 [00:04<07:47, 21.27it/s, episode_reward=15, running_reward=24.4]"
     ]
    },
    {
     "name": "stderr",
     "output_type": "stream",
     "text": [
      "\r",
      "Episode 54:   1%|          | 51/10000 [00:04<07:47, 21.27it/s, episode_reward=15, running_reward=24.4]"
     ]
    },
    {
     "name": "stderr",
     "output_type": "stream",
     "text": [
      "\r",
      "Episode 54:   1%|          | 51/10000 [00:04<07:47, 21.27it/s, episode_reward=16, running_reward=24.3]"
     ]
    },
    {
     "name": "stderr",
     "output_type": "stream",
     "text": [
      "\r",
      "Episode 55:   1%|          | 51/10000 [00:04<07:47, 21.27it/s, episode_reward=16, running_reward=24.3]"
     ]
    },
    {
     "name": "stderr",
     "output_type": "stream",
     "text": [
      "\r",
      "Episode 55:   1%|          | 51/10000 [00:04<07:47, 21.27it/s, episode_reward=15, running_reward=24.1]"
     ]
    },
    {
     "name": "stderr",
     "output_type": "stream",
     "text": [
      "\r",
      "Episode 55:   1%|          | 56/10000 [00:04<06:16, 26.41it/s, episode_reward=15, running_reward=24.1]"
     ]
    },
    {
     "name": "stderr",
     "output_type": "stream",
     "text": [
      "\r",
      "Episode 56:   1%|          | 56/10000 [00:04<06:16, 26.41it/s, episode_reward=15, running_reward=24.1]"
     ]
    },
    {
     "name": "stderr",
     "output_type": "stream",
     "text": [
      "\r",
      "Episode 56:   1%|          | 56/10000 [00:04<06:16, 26.41it/s, episode_reward=9, running_reward=23.8] "
     ]
    },
    {
     "name": "stderr",
     "output_type": "stream",
     "text": [
      "\r",
      "Episode 57:   1%|          | 56/10000 [00:04<06:16, 26.41it/s, episode_reward=9, running_reward=23.8]"
     ]
    },
    {
     "name": "stderr",
     "output_type": "stream",
     "text": [
      "\r",
      "Episode 57:   1%|          | 56/10000 [00:04<06:16, 26.41it/s, episode_reward=10, running_reward=23.6]"
     ]
    },
    {
     "name": "stderr",
     "output_type": "stream",
     "text": [
      "\r",
      "Episode 58:   1%|          | 56/10000 [00:04<06:16, 26.41it/s, episode_reward=10, running_reward=23.6]"
     ]
    },
    {
     "name": "stderr",
     "output_type": "stream",
     "text": [
      "\r",
      "Episode 58:   1%|          | 56/10000 [00:04<06:16, 26.41it/s, episode_reward=17, running_reward=23.5]"
     ]
    },
    {
     "name": "stderr",
     "output_type": "stream",
     "text": [
      "\r",
      "Episode 59:   1%|          | 56/10000 [00:04<06:16, 26.41it/s, episode_reward=17, running_reward=23.5]"
     ]
    },
    {
     "name": "stderr",
     "output_type": "stream",
     "text": [
      "\r",
      "Episode 59:   1%|          | 56/10000 [00:04<06:16, 26.41it/s, episode_reward=14, running_reward=23.3]"
     ]
    },
    {
     "name": "stderr",
     "output_type": "stream",
     "text": [
      "\r",
      "Episode 60:   1%|          | 56/10000 [00:04<06:16, 26.41it/s, episode_reward=14, running_reward=23.3]"
     ]
    },
    {
     "name": "stderr",
     "output_type": "stream",
     "text": [
      "\r",
      "Episode 60:   1%|          | 56/10000 [00:04<06:16, 26.41it/s, episode_reward=10, running_reward=23.1]"
     ]
    },
    {
     "name": "stderr",
     "output_type": "stream",
     "text": [
      "\r",
      "Episode 61:   1%|          | 56/10000 [00:04<06:16, 26.41it/s, episode_reward=10, running_reward=23.1]"
     ]
    },
    {
     "name": "stderr",
     "output_type": "stream",
     "text": [
      "\r",
      "Episode 61:   1%|          | 56/10000 [00:04<06:16, 26.41it/s, episode_reward=17, running_reward=23]  "
     ]
    },
    {
     "name": "stderr",
     "output_type": "stream",
     "text": [
      "\r",
      "Episode 61:   1%|          | 62/10000 [00:04<05:08, 32.24it/s, episode_reward=17, running_reward=23]"
     ]
    },
    {
     "name": "stderr",
     "output_type": "stream",
     "text": [
      "\r",
      "Episode 62:   1%|          | 62/10000 [00:04<05:08, 32.24it/s, episode_reward=17, running_reward=23]"
     ]
    },
    {
     "name": "stderr",
     "output_type": "stream",
     "text": [
      "\r",
      "Episode 62:   1%|          | 62/10000 [00:04<05:08, 32.24it/s, episode_reward=13, running_reward=22.8]"
     ]
    },
    {
     "name": "stderr",
     "output_type": "stream",
     "text": [
      "\r",
      "Episode 63:   1%|          | 62/10000 [00:04<05:08, 32.24it/s, episode_reward=13, running_reward=22.8]"
     ]
    },
    {
     "name": "stderr",
     "output_type": "stream",
     "text": [
      "\r",
      "Episode 63:   1%|          | 62/10000 [00:04<05:08, 32.24it/s, episode_reward=18, running_reward=22.8]"
     ]
    },
    {
     "name": "stderr",
     "output_type": "stream",
     "text": [
      "\r",
      "Episode 64:   1%|          | 62/10000 [00:04<05:08, 32.24it/s, episode_reward=18, running_reward=22.8]"
     ]
    },
    {
     "name": "stderr",
     "output_type": "stream",
     "text": [
      "\r",
      "Episode 64:   1%|          | 62/10000 [00:04<05:08, 32.24it/s, episode_reward=9, running_reward=22.6] "
     ]
    },
    {
     "name": "stderr",
     "output_type": "stream",
     "text": [
      "\r",
      "Episode 65:   1%|          | 62/10000 [00:04<05:08, 32.24it/s, episode_reward=9, running_reward=22.6]"
     ]
    },
    {
     "name": "stderr",
     "output_type": "stream",
     "text": [
      "\r",
      "Episode 65:   1%|          | 62/10000 [00:04<05:08, 32.24it/s, episode_reward=16, running_reward=22.5]"
     ]
    },
    {
     "name": "stderr",
     "output_type": "stream",
     "text": [
      "\r",
      "Episode 66:   1%|          | 62/10000 [00:04<05:08, 32.24it/s, episode_reward=16, running_reward=22.5]"
     ]
    },
    {
     "name": "stderr",
     "output_type": "stream",
     "text": [
      "\r",
      "Episode 66:   1%|          | 62/10000 [00:04<05:08, 32.24it/s, episode_reward=13, running_reward=22.3]"
     ]
    },
    {
     "name": "stderr",
     "output_type": "stream",
     "text": [
      "\r",
      "Episode 66:   1%|          | 67/10000 [00:04<04:35, 36.10it/s, episode_reward=13, running_reward=22.3]"
     ]
    },
    {
     "name": "stderr",
     "output_type": "stream",
     "text": [
      "\r",
      "Episode 67:   1%|          | 67/10000 [00:04<04:35, 36.10it/s, episode_reward=13, running_reward=22.3]"
     ]
    },
    {
     "name": "stderr",
     "output_type": "stream",
     "text": [
      "\r",
      "Episode 67:   1%|          | 67/10000 [00:04<04:35, 36.10it/s, episode_reward=10, running_reward=22.1]"
     ]
    },
    {
     "name": "stderr",
     "output_type": "stream",
     "text": [
      "\r",
      "Episode 68:   1%|          | 67/10000 [00:04<04:35, 36.10it/s, episode_reward=10, running_reward=22.1]"
     ]
    },
    {
     "name": "stderr",
     "output_type": "stream",
     "text": [
      "\r",
      "Episode 68:   1%|          | 67/10000 [00:04<04:35, 36.10it/s, episode_reward=11, running_reward=22]  "
     ]
    },
    {
     "name": "stderr",
     "output_type": "stream",
     "text": [
      "\r",
      "Episode 69:   1%|          | 67/10000 [00:04<04:35, 36.10it/s, episode_reward=11, running_reward=22]"
     ]
    },
    {
     "name": "stderr",
     "output_type": "stream",
     "text": [
      "\r",
      "Episode 69:   1%|          | 67/10000 [00:04<04:35, 36.10it/s, episode_reward=20, running_reward=21.9]"
     ]
    },
    {
     "name": "stderr",
     "output_type": "stream",
     "text": [
      "\r",
      "Episode 70:   1%|          | 67/10000 [00:04<04:35, 36.10it/s, episode_reward=20, running_reward=21.9]"
     ]
    },
    {
     "name": "stderr",
     "output_type": "stream",
     "text": [
      "\r",
      "Episode 70:   1%|          | 67/10000 [00:04<04:35, 36.10it/s, episode_reward=20, running_reward=21.9]"
     ]
    },
    {
     "name": "stderr",
     "output_type": "stream",
     "text": [
      "\r",
      "Episode 71:   1%|          | 67/10000 [00:04<04:35, 36.10it/s, episode_reward=20, running_reward=21.9]"
     ]
    },
    {
     "name": "stderr",
     "output_type": "stream",
     "text": [
      "\r",
      "Episode 71:   1%|          | 67/10000 [00:04<04:35, 36.10it/s, episode_reward=15, running_reward=21.8]"
     ]
    },
    {
     "name": "stderr",
     "output_type": "stream",
     "text": [
      "\r",
      "Episode 71:   1%|          | 72/10000 [00:04<04:19, 38.26it/s, episode_reward=15, running_reward=21.8]"
     ]
    },
    {
     "name": "stderr",
     "output_type": "stream",
     "text": [
      "\r",
      "Episode 72:   1%|          | 72/10000 [00:04<04:19, 38.26it/s, episode_reward=15, running_reward=21.8]"
     ]
    },
    {
     "name": "stderr",
     "output_type": "stream",
     "text": [
      "\r",
      "Episode 72:   1%|          | 72/10000 [00:04<04:19, 38.26it/s, episode_reward=17, running_reward=21.8]"
     ]
    },
    {
     "name": "stderr",
     "output_type": "stream",
     "text": [
      "\r",
      "Episode 73:   1%|          | 72/10000 [00:05<04:19, 38.26it/s, episode_reward=17, running_reward=21.8]"
     ]
    },
    {
     "name": "stderr",
     "output_type": "stream",
     "text": [
      "\r",
      "Episode 73:   1%|          | 72/10000 [00:05<04:19, 38.26it/s, episode_reward=32, running_reward=21.9]"
     ]
    },
    {
     "name": "stderr",
     "output_type": "stream",
     "text": [
      "\r",
      "Episode 74:   1%|          | 72/10000 [00:05<04:19, 38.26it/s, episode_reward=32, running_reward=21.9]"
     ]
    },
    {
     "name": "stderr",
     "output_type": "stream",
     "text": [
      "\r",
      "Episode 74:   1%|          | 72/10000 [00:05<04:19, 38.26it/s, episode_reward=32, running_reward=22]  "
     ]
    },
    {
     "name": "stderr",
     "output_type": "stream",
     "text": [
      "\r",
      "Episode 75:   1%|          | 72/10000 [00:05<04:19, 38.26it/s, episode_reward=32, running_reward=22]"
     ]
    },
    {
     "name": "stderr",
     "output_type": "stream",
     "text": [
      "\r",
      "Episode 75:   1%|          | 72/10000 [00:05<04:19, 38.26it/s, episode_reward=27, running_reward=22.1]"
     ]
    },
    {
     "name": "stderr",
     "output_type": "stream",
     "text": [
      "\r",
      "Episode 76:   1%|          | 72/10000 [00:05<04:19, 38.26it/s, episode_reward=27, running_reward=22.1]"
     ]
    },
    {
     "name": "stderr",
     "output_type": "stream",
     "text": [
      "\r",
      "Episode 76:   1%|          | 72/10000 [00:05<04:19, 38.26it/s, episode_reward=25, running_reward=22.1]"
     ]
    },
    {
     "name": "stderr",
     "output_type": "stream",
     "text": [
      "\r",
      "Episode 76:   1%|          | 77/10000 [00:05<04:48, 34.40it/s, episode_reward=25, running_reward=22.1]"
     ]
    },
    {
     "name": "stderr",
     "output_type": "stream",
     "text": [
      "\r",
      "Episode 77:   1%|          | 77/10000 [00:05<04:48, 34.40it/s, episode_reward=25, running_reward=22.1]"
     ]
    },
    {
     "name": "stderr",
     "output_type": "stream",
     "text": [
      "\r",
      "Episode 77:   1%|          | 77/10000 [00:05<04:48, 34.40it/s, episode_reward=36, running_reward=22.3]"
     ]
    },
    {
     "name": "stderr",
     "output_type": "stream",
     "text": [
      "\r",
      "Episode 78:   1%|          | 77/10000 [00:05<04:48, 34.40it/s, episode_reward=36, running_reward=22.3]"
     ]
    },
    {
     "name": "stderr",
     "output_type": "stream",
     "text": [
      "\r",
      "Episode 78:   1%|          | 77/10000 [00:05<04:48, 34.40it/s, episode_reward=37, running_reward=22.5]"
     ]
    },
    {
     "name": "stderr",
     "output_type": "stream",
     "text": [
      "\r",
      "Episode 79:   1%|          | 77/10000 [00:05<04:48, 34.40it/s, episode_reward=37, running_reward=22.5]"
     ]
    },
    {
     "name": "stderr",
     "output_type": "stream",
     "text": [
      "\r",
      "Episode 79:   1%|          | 77/10000 [00:05<04:48, 34.40it/s, episode_reward=46, running_reward=22.8]"
     ]
    },
    {
     "name": "stderr",
     "output_type": "stream",
     "text": [
      "\r",
      "Episode 80:   1%|          | 77/10000 [00:05<04:48, 34.40it/s, episode_reward=46, running_reward=22.8]"
     ]
    },
    {
     "name": "stderr",
     "output_type": "stream",
     "text": [
      "\r",
      "Episode 80:   1%|          | 77/10000 [00:05<04:48, 34.40it/s, episode_reward=31, running_reward=22.9]"
     ]
    },
    {
     "name": "stderr",
     "output_type": "stream",
     "text": [
      "\r",
      "Episode 80:   1%|          | 81/10000 [00:05<05:42, 28.95it/s, episode_reward=31, running_reward=22.9]"
     ]
    },
    {
     "name": "stderr",
     "output_type": "stream",
     "text": [
      "\r",
      "Episode 81:   1%|          | 81/10000 [00:05<05:42, 28.95it/s, episode_reward=31, running_reward=22.9]"
     ]
    },
    {
     "name": "stderr",
     "output_type": "stream",
     "text": [
      "\r",
      "Episode 81:   1%|          | 81/10000 [00:05<05:42, 28.95it/s, episode_reward=29, running_reward=23]  "
     ]
    },
    {
     "name": "stderr",
     "output_type": "stream",
     "text": [
      "\r",
      "Episode 82:   1%|          | 81/10000 [00:05<05:42, 28.95it/s, episode_reward=29, running_reward=23]"
     ]
    },
    {
     "name": "stderr",
     "output_type": "stream",
     "text": [
      "\r",
      "Episode 82:   1%|          | 81/10000 [00:05<05:42, 28.95it/s, episode_reward=56, running_reward=23.4]"
     ]
    },
    {
     "name": "stderr",
     "output_type": "stream",
     "text": [
      "\r",
      "Episode 83:   1%|          | 81/10000 [00:05<05:42, 28.95it/s, episode_reward=56, running_reward=23.4]"
     ]
    },
    {
     "name": "stderr",
     "output_type": "stream",
     "text": [
      "\r",
      "Episode 83:   1%|          | 81/10000 [00:05<05:42, 28.95it/s, episode_reward=51, running_reward=23.7]"
     ]
    },
    {
     "name": "stderr",
     "output_type": "stream",
     "text": [
      "\r",
      "Episode 84:   1%|          | 81/10000 [00:05<05:42, 28.95it/s, episode_reward=51, running_reward=23.7]"
     ]
    },
    {
     "name": "stderr",
     "output_type": "stream",
     "text": [
      "\r",
      "Episode 84:   1%|          | 81/10000 [00:05<05:42, 28.95it/s, episode_reward=46, running_reward=24]  "
     ]
    },
    {
     "name": "stderr",
     "output_type": "stream",
     "text": [
      "\r",
      "Episode 84:   1%|          | 85/10000 [00:05<06:42, 24.61it/s, episode_reward=46, running_reward=24]"
     ]
    },
    {
     "name": "stderr",
     "output_type": "stream",
     "text": [
      "\r",
      "Episode 85:   1%|          | 85/10000 [00:05<06:42, 24.61it/s, episode_reward=46, running_reward=24]"
     ]
    },
    {
     "name": "stderr",
     "output_type": "stream",
     "text": [
      "\r",
      "Episode 85:   1%|          | 85/10000 [00:05<06:42, 24.61it/s, episode_reward=49, running_reward=24.2]"
     ]
    },
    {
     "name": "stderr",
     "output_type": "stream",
     "text": [
      "\r",
      "Episode 86:   1%|          | 85/10000 [00:05<06:42, 24.61it/s, episode_reward=49, running_reward=24.2]"
     ]
    },
    {
     "name": "stderr",
     "output_type": "stream",
     "text": [
      "\r",
      "Episode 86:   1%|          | 85/10000 [00:05<06:42, 24.61it/s, episode_reward=51, running_reward=24.6]"
     ]
    },
    {
     "name": "stderr",
     "output_type": "stream",
     "text": [
      "\r",
      "Episode 87:   1%|          | 85/10000 [00:05<06:42, 24.61it/s, episode_reward=51, running_reward=24.6]"
     ]
    },
    {
     "name": "stderr",
     "output_type": "stream",
     "text": [
      "\r",
      "Episode 87:   1%|          | 85/10000 [00:05<06:42, 24.61it/s, episode_reward=35, running_reward=24.7]"
     ]
    },
    {
     "name": "stderr",
     "output_type": "stream",
     "text": [
      "\r",
      "Episode 87:   1%|          | 88/10000 [00:05<07:18, 22.61it/s, episode_reward=35, running_reward=24.7]"
     ]
    },
    {
     "name": "stderr",
     "output_type": "stream",
     "text": [
      "\r",
      "Episode 88:   1%|          | 88/10000 [00:05<07:18, 22.61it/s, episode_reward=35, running_reward=24.7]"
     ]
    },
    {
     "name": "stderr",
     "output_type": "stream",
     "text": [
      "\r",
      "Episode 88:   1%|          | 88/10000 [00:05<07:18, 22.61it/s, episode_reward=23, running_reward=24.7]"
     ]
    },
    {
     "name": "stderr",
     "output_type": "stream",
     "text": [
      "\r",
      "Episode 89:   1%|          | 88/10000 [00:05<07:18, 22.61it/s, episode_reward=23, running_reward=24.7]"
     ]
    },
    {
     "name": "stderr",
     "output_type": "stream",
     "text": [
      "\r",
      "Episode 89:   1%|          | 88/10000 [00:05<07:18, 22.61it/s, episode_reward=30, running_reward=24.7]"
     ]
    },
    {
     "name": "stderr",
     "output_type": "stream",
     "text": [
      "\r",
      "Episode 90:   1%|          | 88/10000 [00:05<07:18, 22.61it/s, episode_reward=30, running_reward=24.7]"
     ]
    },
    {
     "name": "stderr",
     "output_type": "stream",
     "text": [
      "\r",
      "Episode 90:   1%|          | 88/10000 [00:05<07:18, 22.61it/s, episode_reward=57, running_reward=25.1]"
     ]
    },
    {
     "name": "stderr",
     "output_type": "stream",
     "text": [
      "\r",
      "Episode 90:   1%|          | 91/10000 [00:05<07:28, 22.11it/s, episode_reward=57, running_reward=25.1]"
     ]
    },
    {
     "name": "stderr",
     "output_type": "stream",
     "text": [
      "\r",
      "Episode 91:   1%|          | 91/10000 [00:06<07:28, 22.11it/s, episode_reward=57, running_reward=25.1]"
     ]
    },
    {
     "name": "stderr",
     "output_type": "stream",
     "text": [
      "\r",
      "Episode 91:   1%|          | 91/10000 [00:06<07:28, 22.11it/s, episode_reward=121, running_reward=26.1]"
     ]
    },
    {
     "name": "stderr",
     "output_type": "stream",
     "text": [
      "\r",
      "Episode 92:   1%|          | 91/10000 [00:06<07:28, 22.11it/s, episode_reward=121, running_reward=26.1]"
     ]
    },
    {
     "name": "stderr",
     "output_type": "stream",
     "text": [
      "\r",
      "Episode 92:   1%|          | 91/10000 [00:06<07:28, 22.11it/s, episode_reward=56, running_reward=26.4] "
     ]
    },
    {
     "name": "stderr",
     "output_type": "stream",
     "text": [
      "\r",
      "Episode 93:   1%|          | 91/10000 [00:06<07:28, 22.11it/s, episode_reward=56, running_reward=26.4]"
     ]
    },
    {
     "name": "stderr",
     "output_type": "stream",
     "text": [
      "\r",
      "Episode 93:   1%|          | 91/10000 [00:06<07:28, 22.11it/s, episode_reward=69, running_reward=26.9]"
     ]
    },
    {
     "name": "stderr",
     "output_type": "stream",
     "text": [
      "\r",
      "Episode 93:   1%|          | 94/10000 [00:06<10:19, 16.00it/s, episode_reward=69, running_reward=26.9]"
     ]
    },
    {
     "name": "stderr",
     "output_type": "stream",
     "text": [
      "\r",
      "Episode 94:   1%|          | 94/10000 [00:06<10:19, 16.00it/s, episode_reward=69, running_reward=26.9]"
     ]
    },
    {
     "name": "stderr",
     "output_type": "stream",
     "text": [
      "\r",
      "Episode 94:   1%|          | 94/10000 [00:06<10:19, 16.00it/s, episode_reward=63, running_reward=27.3]"
     ]
    },
    {
     "name": "stderr",
     "output_type": "stream",
     "text": [
      "\r",
      "Episode 95:   1%|          | 94/10000 [00:06<10:19, 16.00it/s, episode_reward=63, running_reward=27.3]"
     ]
    },
    {
     "name": "stderr",
     "output_type": "stream",
     "text": [
      "\r",
      "Episode 95:   1%|          | 94/10000 [00:06<10:19, 16.00it/s, episode_reward=35, running_reward=27.3]"
     ]
    },
    {
     "name": "stderr",
     "output_type": "stream",
     "text": [
      "\r",
      "Episode 95:   1%|          | 96/10000 [00:06<10:26, 15.81it/s, episode_reward=35, running_reward=27.3]"
     ]
    },
    {
     "name": "stderr",
     "output_type": "stream",
     "text": [
      "\r",
      "Episode 96:   1%|          | 96/10000 [00:06<10:26, 15.81it/s, episode_reward=35, running_reward=27.3]"
     ]
    },
    {
     "name": "stderr",
     "output_type": "stream",
     "text": [
      "\r",
      "Episode 96:   1%|          | 96/10000 [00:06<10:26, 15.81it/s, episode_reward=43, running_reward=27.5]"
     ]
    },
    {
     "name": "stderr",
     "output_type": "stream",
     "text": [
      "\r",
      "Episode 97:   1%|          | 96/10000 [00:06<10:26, 15.81it/s, episode_reward=43, running_reward=27.5]"
     ]
    },
    {
     "name": "stderr",
     "output_type": "stream",
     "text": [
      "\r",
      "Episode 97:   1%|          | 96/10000 [00:06<10:26, 15.81it/s, episode_reward=50, running_reward=27.7]"
     ]
    },
    {
     "name": "stderr",
     "output_type": "stream",
     "text": [
      "\r",
      "Episode 97:   1%|          | 98/10000 [00:06<10:24, 15.85it/s, episode_reward=50, running_reward=27.7]"
     ]
    },
    {
     "name": "stderr",
     "output_type": "stream",
     "text": [
      "\r",
      "Episode 98:   1%|          | 98/10000 [00:06<10:24, 15.85it/s, episode_reward=50, running_reward=27.7]"
     ]
    },
    {
     "name": "stderr",
     "output_type": "stream",
     "text": [
      "\r",
      "Episode 98:   1%|          | 98/10000 [00:06<10:24, 15.85it/s, episode_reward=55, running_reward=28]  "
     ]
    },
    {
     "name": "stderr",
     "output_type": "stream",
     "text": [
      "\r",
      "Episode 99:   1%|          | 98/10000 [00:06<10:24, 15.85it/s, episode_reward=55, running_reward=28]"
     ]
    },
    {
     "name": "stderr",
     "output_type": "stream",
     "text": [
      "\r",
      "Episode 99:   1%|          | 98/10000 [00:06<10:24, 15.85it/s, episode_reward=36, running_reward=28.1]"
     ]
    },
    {
     "name": "stderr",
     "output_type": "stream",
     "text": [
      "\r",
      "Episode 99:   1%|          | 100/10000 [00:06<10:22, 15.90it/s, episode_reward=36, running_reward=28.1]"
     ]
    },
    {
     "name": "stderr",
     "output_type": "stream",
     "text": [
      "\r",
      "Episode 100:   1%|          | 100/10000 [00:06<10:22, 15.90it/s, episode_reward=36, running_reward=28.1]"
     ]
    },
    {
     "name": "stderr",
     "output_type": "stream",
     "text": [
      "\r",
      "Episode 100:   1%|          | 100/10000 [00:06<10:22, 15.90it/s, episode_reward=18, running_reward=27.9]"
     ]
    },
    {
     "name": "stderr",
     "output_type": "stream",
     "text": [
      "\r",
      "Episode 101:   1%|          | 100/10000 [00:06<10:22, 15.90it/s, episode_reward=18, running_reward=27.9]"
     ]
    },
    {
     "name": "stderr",
     "output_type": "stream",
     "text": [
      "\r",
      "Episode 101:   1%|          | 100/10000 [00:06<10:22, 15.90it/s, episode_reward=31, running_reward=27.8]"
     ]
    },
    {
     "name": "stderr",
     "output_type": "stream",
     "text": [
      "\r",
      "Episode 102:   1%|          | 100/10000 [00:06<10:22, 15.90it/s, episode_reward=31, running_reward=27.8]"
     ]
    },
    {
     "name": "stderr",
     "output_type": "stream",
     "text": [
      "\r",
      "Episode 102:   1%|          | 100/10000 [00:06<10:22, 15.90it/s, episode_reward=16, running_reward=27.8]"
     ]
    },
    {
     "name": "stderr",
     "output_type": "stream",
     "text": [
      "\r",
      "Episode 103:   1%|          | 100/10000 [00:06<10:22, 15.90it/s, episode_reward=16, running_reward=27.8]"
     ]
    },
    {
     "name": "stderr",
     "output_type": "stream",
     "text": [
      "\r",
      "Episode 103:   1%|          | 100/10000 [00:06<10:22, 15.90it/s, episode_reward=34, running_reward=27.9]"
     ]
    },
    {
     "name": "stderr",
     "output_type": "stream",
     "text": [
      "\r",
      "Episode 103:   1%|          | 104/10000 [00:06<08:29, 19.43it/s, episode_reward=34, running_reward=27.9]"
     ]
    },
    {
     "name": "stderr",
     "output_type": "stream",
     "text": [
      "\r",
      "Episode 104:   1%|          | 104/10000 [00:06<08:29, 19.43it/s, episode_reward=34, running_reward=27.9]"
     ]
    },
    {
     "name": "stderr",
     "output_type": "stream",
     "text": [
      "\r",
      "Episode 104:   1%|          | 104/10000 [00:06<08:29, 19.43it/s, episode_reward=28, running_reward=27.9]"
     ]
    },
    {
     "name": "stderr",
     "output_type": "stream",
     "text": [
      "\r",
      "Episode 105:   1%|          | 104/10000 [00:06<08:29, 19.43it/s, episode_reward=28, running_reward=27.9]"
     ]
    },
    {
     "name": "stderr",
     "output_type": "stream",
     "text": [
      "\r",
      "Episode 105:   1%|          | 104/10000 [00:06<08:29, 19.43it/s, episode_reward=21, running_reward=28]  "
     ]
    },
    {
     "name": "stderr",
     "output_type": "stream",
     "text": [
      "\r",
      "Episode 106:   1%|          | 104/10000 [00:06<08:29, 19.43it/s, episode_reward=21, running_reward=28]"
     ]
    },
    {
     "name": "stderr",
     "output_type": "stream",
     "text": [
      "\r",
      "Episode 106:   1%|          | 104/10000 [00:06<08:29, 19.43it/s, episode_reward=24, running_reward=28.1]"
     ]
    },
    {
     "name": "stderr",
     "output_type": "stream",
     "text": [
      "\r",
      "Episode 106:   1%|          | 107/10000 [00:06<07:38, 21.59it/s, episode_reward=24, running_reward=28.1]"
     ]
    },
    {
     "name": "stderr",
     "output_type": "stream",
     "text": [
      "\r",
      "Episode 107:   1%|          | 107/10000 [00:06<07:38, 21.59it/s, episode_reward=24, running_reward=28.1]"
     ]
    },
    {
     "name": "stderr",
     "output_type": "stream",
     "text": [
      "\r",
      "Episode 107:   1%|          | 107/10000 [00:06<07:38, 21.59it/s, episode_reward=14, running_reward=28.1]"
     ]
    },
    {
     "name": "stderr",
     "output_type": "stream",
     "text": [
      "\r",
      "Episode 108:   1%|          | 107/10000 [00:06<07:38, 21.59it/s, episode_reward=14, running_reward=28.1]"
     ]
    },
    {
     "name": "stderr",
     "output_type": "stream",
     "text": [
      "\r",
      "Episode 108:   1%|          | 107/10000 [00:06<07:38, 21.59it/s, episode_reward=24, running_reward=28.2]"
     ]
    },
    {
     "name": "stderr",
     "output_type": "stream",
     "text": [
      "\r",
      "Episode 109:   1%|          | 107/10000 [00:06<07:38, 21.59it/s, episode_reward=24, running_reward=28.2]"
     ]
    },
    {
     "name": "stderr",
     "output_type": "stream",
     "text": [
      "\r",
      "Episode 109:   1%|          | 107/10000 [00:06<07:38, 21.59it/s, episode_reward=13, running_reward=28]  "
     ]
    },
    {
     "name": "stderr",
     "output_type": "stream",
     "text": [
      "\r",
      "Episode 110:   1%|          | 107/10000 [00:06<07:38, 21.59it/s, episode_reward=13, running_reward=28]"
     ]
    },
    {
     "name": "stderr",
     "output_type": "stream",
     "text": [
      "\r",
      "Episode 110:   1%|          | 107/10000 [00:06<07:38, 21.59it/s, episode_reward=12, running_reward=27.9]"
     ]
    },
    {
     "name": "stderr",
     "output_type": "stream",
     "text": [
      "\r",
      "Episode 111:   1%|          | 107/10000 [00:06<07:38, 21.59it/s, episode_reward=12, running_reward=27.9]"
     ]
    },
    {
     "name": "stderr",
     "output_type": "stream",
     "text": [
      "\r",
      "Episode 111:   1%|          | 107/10000 [00:06<07:38, 21.59it/s, episode_reward=9, running_reward=27.9] "
     ]
    },
    {
     "name": "stderr",
     "output_type": "stream",
     "text": [
      "\r",
      "Episode 111:   1%|          | 112/10000 [00:06<05:54, 27.87it/s, episode_reward=9, running_reward=27.9]"
     ]
    },
    {
     "name": "stderr",
     "output_type": "stream",
     "text": [
      "\r",
      "Episode 112:   1%|          | 112/10000 [00:06<05:54, 27.87it/s, episode_reward=9, running_reward=27.9]"
     ]
    },
    {
     "name": "stderr",
     "output_type": "stream",
     "text": [
      "\r",
      "Episode 112:   1%|          | 112/10000 [00:06<05:54, 27.87it/s, episode_reward=14, running_reward=27.9]"
     ]
    },
    {
     "name": "stderr",
     "output_type": "stream",
     "text": [
      "\r",
      "Episode 113:   1%|          | 112/10000 [00:07<05:54, 27.87it/s, episode_reward=14, running_reward=27.9]"
     ]
    },
    {
     "name": "stderr",
     "output_type": "stream",
     "text": [
      "\r",
      "Episode 113:   1%|          | 112/10000 [00:07<05:54, 27.87it/s, episode_reward=16, running_reward=27.9]"
     ]
    },
    {
     "name": "stderr",
     "output_type": "stream",
     "text": [
      "\r",
      "Episode 114:   1%|          | 112/10000 [00:07<05:54, 27.87it/s, episode_reward=16, running_reward=27.9]"
     ]
    },
    {
     "name": "stderr",
     "output_type": "stream",
     "text": [
      "\r",
      "Episode 114:   1%|          | 112/10000 [00:07<05:54, 27.87it/s, episode_reward=9, running_reward=27.9] "
     ]
    },
    {
     "name": "stderr",
     "output_type": "stream",
     "text": [
      "\r",
      "Episode 115:   1%|          | 112/10000 [00:07<05:54, 27.87it/s, episode_reward=9, running_reward=27.9]"
     ]
    },
    {
     "name": "stderr",
     "output_type": "stream",
     "text": [
      "\r",
      "Episode 115:   1%|          | 112/10000 [00:07<05:54, 27.87it/s, episode_reward=13, running_reward=27.4]"
     ]
    },
    {
     "name": "stderr",
     "output_type": "stream",
     "text": [
      "\r",
      "Episode 116:   1%|          | 112/10000 [00:07<05:54, 27.87it/s, episode_reward=13, running_reward=27.4]"
     ]
    },
    {
     "name": "stderr",
     "output_type": "stream",
     "text": [
      "\r",
      "Episode 116:   1%|          | 112/10000 [00:07<05:54, 27.87it/s, episode_reward=11, running_reward=27.4]"
     ]
    },
    {
     "name": "stderr",
     "output_type": "stream",
     "text": [
      "\r",
      "Episode 117:   1%|          | 112/10000 [00:07<05:54, 27.87it/s, episode_reward=11, running_reward=27.4]"
     ]
    },
    {
     "name": "stderr",
     "output_type": "stream",
     "text": [
      "\r",
      "Episode 117:   1%|          | 112/10000 [00:07<05:54, 27.87it/s, episode_reward=16, running_reward=27.3]"
     ]
    },
    {
     "name": "stderr",
     "output_type": "stream",
     "text": [
      "\r",
      "Episode 117:   1%|          | 118/10000 [00:07<04:47, 34.40it/s, episode_reward=16, running_reward=27.3]"
     ]
    },
    {
     "name": "stderr",
     "output_type": "stream",
     "text": [
      "\r",
      "Episode 118:   1%|          | 118/10000 [00:07<04:47, 34.40it/s, episode_reward=16, running_reward=27.3]"
     ]
    },
    {
     "name": "stderr",
     "output_type": "stream",
     "text": [
      "\r",
      "Episode 118:   1%|          | 118/10000 [00:07<04:47, 34.40it/s, episode_reward=15, running_reward=27.3]"
     ]
    },
    {
     "name": "stderr",
     "output_type": "stream",
     "text": [
      "\r",
      "Episode 119:   1%|          | 118/10000 [00:07<04:47, 34.40it/s, episode_reward=15, running_reward=27.3]"
     ]
    },
    {
     "name": "stderr",
     "output_type": "stream",
     "text": [
      "\r",
      "Episode 119:   1%|          | 118/10000 [00:07<04:47, 34.40it/s, episode_reward=10, running_reward=27.3]"
     ]
    },
    {
     "name": "stderr",
     "output_type": "stream",
     "text": [
      "\r",
      "Episode 120:   1%|          | 118/10000 [00:07<04:47, 34.40it/s, episode_reward=10, running_reward=27.3]"
     ]
    },
    {
     "name": "stderr",
     "output_type": "stream",
     "text": [
      "\r",
      "Episode 120:   1%|          | 118/10000 [00:07<04:47, 34.40it/s, episode_reward=11, running_reward=27.2]"
     ]
    },
    {
     "name": "stderr",
     "output_type": "stream",
     "text": [
      "\r",
      "Episode 121:   1%|          | 118/10000 [00:07<04:47, 34.40it/s, episode_reward=11, running_reward=27.2]"
     ]
    },
    {
     "name": "stderr",
     "output_type": "stream",
     "text": [
      "\r",
      "Episode 121:   1%|          | 118/10000 [00:07<04:47, 34.40it/s, episode_reward=15, running_reward=26.8]"
     ]
    },
    {
     "name": "stderr",
     "output_type": "stream",
     "text": [
      "\r",
      "Episode 122:   1%|          | 118/10000 [00:07<04:47, 34.40it/s, episode_reward=15, running_reward=26.8]"
     ]
    },
    {
     "name": "stderr",
     "output_type": "stream",
     "text": [
      "\r",
      "Episode 122:   1%|          | 118/10000 [00:07<04:47, 34.40it/s, episode_reward=13, running_reward=26.8]"
     ]
    },
    {
     "name": "stderr",
     "output_type": "stream",
     "text": [
      "\r",
      "Episode 123:   1%|          | 118/10000 [00:07<04:47, 34.40it/s, episode_reward=13, running_reward=26.8]"
     ]
    },
    {
     "name": "stderr",
     "output_type": "stream",
     "text": [
      "\r",
      "Episode 123:   1%|          | 118/10000 [00:07<04:47, 34.40it/s, episode_reward=10, running_reward=26.8]"
     ]
    },
    {
     "name": "stderr",
     "output_type": "stream",
     "text": [
      "\r",
      "Episode 123:   1%|          | 124/10000 [00:07<04:08, 39.70it/s, episode_reward=10, running_reward=26.8]"
     ]
    },
    {
     "name": "stderr",
     "output_type": "stream",
     "text": [
      "\r",
      "Episode 124:   1%|          | 124/10000 [00:07<04:08, 39.70it/s, episode_reward=10, running_reward=26.8]"
     ]
    },
    {
     "name": "stderr",
     "output_type": "stream",
     "text": [
      "\r",
      "Episode 124:   1%|          | 124/10000 [00:07<04:08, 39.70it/s, episode_reward=15, running_reward=26.8]"
     ]
    },
    {
     "name": "stderr",
     "output_type": "stream",
     "text": [
      "\r",
      "Episode 125:   1%|          | 124/10000 [00:07<04:08, 39.70it/s, episode_reward=15, running_reward=26.8]"
     ]
    },
    {
     "name": "stderr",
     "output_type": "stream",
     "text": [
      "\r",
      "Episode 125:   1%|          | 124/10000 [00:07<04:08, 39.70it/s, episode_reward=10, running_reward=26.5]"
     ]
    },
    {
     "name": "stderr",
     "output_type": "stream",
     "text": [
      "\r",
      "Episode 126:   1%|          | 124/10000 [00:07<04:08, 39.70it/s, episode_reward=10, running_reward=26.5]"
     ]
    },
    {
     "name": "stderr",
     "output_type": "stream",
     "text": [
      "\r",
      "Episode 126:   1%|          | 124/10000 [00:07<04:08, 39.70it/s, episode_reward=17, running_reward=26.5]"
     ]
    },
    {
     "name": "stderr",
     "output_type": "stream",
     "text": [
      "\r",
      "Episode 127:   1%|          | 124/10000 [00:07<04:08, 39.70it/s, episode_reward=17, running_reward=26.5]"
     ]
    },
    {
     "name": "stderr",
     "output_type": "stream",
     "text": [
      "\r",
      "Episode 127:   1%|          | 124/10000 [00:07<04:08, 39.70it/s, episode_reward=14, running_reward=26.5]"
     ]
    },
    {
     "name": "stderr",
     "output_type": "stream",
     "text": [
      "\r",
      "Episode 128:   1%|          | 124/10000 [00:07<04:08, 39.70it/s, episode_reward=14, running_reward=26.5]"
     ]
    },
    {
     "name": "stderr",
     "output_type": "stream",
     "text": [
      "\r",
      "Episode 128:   1%|          | 124/10000 [00:07<04:08, 39.70it/s, episode_reward=14, running_reward=26.5]"
     ]
    },
    {
     "name": "stderr",
     "output_type": "stream",
     "text": [
      "\r",
      "Episode 128:   1%|▏         | 129/10000 [00:07<03:55, 41.85it/s, episode_reward=14, running_reward=26.5]"
     ]
    },
    {
     "name": "stderr",
     "output_type": "stream",
     "text": [
      "\r",
      "Episode 129:   1%|▏         | 129/10000 [00:07<03:55, 41.85it/s, episode_reward=14, running_reward=26.5]"
     ]
    },
    {
     "name": "stderr",
     "output_type": "stream",
     "text": [
      "\r",
      "Episode 129:   1%|▏         | 129/10000 [00:07<03:55, 41.85it/s, episode_reward=11, running_reward=26.5]"
     ]
    },
    {
     "name": "stderr",
     "output_type": "stream",
     "text": [
      "\r",
      "Episode 130:   1%|▏         | 129/10000 [00:07<03:55, 41.85it/s, episode_reward=11, running_reward=26.5]"
     ]
    },
    {
     "name": "stderr",
     "output_type": "stream",
     "text": [
      "\r",
      "Episode 130:   1%|▏         | 129/10000 [00:07<03:55, 41.85it/s, episode_reward=12, running_reward=26.4]"
     ]
    },
    {
     "name": "stderr",
     "output_type": "stream",
     "text": [
      "\r",
      "Episode 131:   1%|▏         | 129/10000 [00:07<03:55, 41.85it/s, episode_reward=12, running_reward=26.4]"
     ]
    },
    {
     "name": "stderr",
     "output_type": "stream",
     "text": [
      "\r",
      "Episode 131:   1%|▏         | 129/10000 [00:07<03:55, 41.85it/s, episode_reward=8, running_reward=26.4] "
     ]
    },
    {
     "name": "stderr",
     "output_type": "stream",
     "text": [
      "\r",
      "Episode 132:   1%|▏         | 129/10000 [00:07<03:55, 41.85it/s, episode_reward=8, running_reward=26.4]"
     ]
    },
    {
     "name": "stderr",
     "output_type": "stream",
     "text": [
      "\r",
      "Episode 132:   1%|▏         | 129/10000 [00:07<03:55, 41.85it/s, episode_reward=10, running_reward=26.2]"
     ]
    },
    {
     "name": "stderr",
     "output_type": "stream",
     "text": [
      "\r",
      "Episode 133:   1%|▏         | 129/10000 [00:07<03:55, 41.85it/s, episode_reward=10, running_reward=26.2]"
     ]
    },
    {
     "name": "stderr",
     "output_type": "stream",
     "text": [
      "\r",
      "Episode 133:   1%|▏         | 129/10000 [00:07<03:55, 41.85it/s, episode_reward=18, running_reward=26.1]"
     ]
    },
    {
     "name": "stderr",
     "output_type": "stream",
     "text": [
      "\r",
      "Episode 134:   1%|▏         | 129/10000 [00:07<03:55, 41.85it/s, episode_reward=18, running_reward=26.1]"
     ]
    },
    {
     "name": "stderr",
     "output_type": "stream",
     "text": [
      "\r",
      "Episode 134:   1%|▏         | 129/10000 [00:07<03:55, 41.85it/s, episode_reward=12, running_reward=25.7]"
     ]
    },
    {
     "name": "stderr",
     "output_type": "stream",
     "text": [
      "\r",
      "Episode 134:   1%|▏         | 135/10000 [00:07<03:34, 45.91it/s, episode_reward=12, running_reward=25.7]"
     ]
    },
    {
     "name": "stderr",
     "output_type": "stream",
     "text": [
      "\r",
      "Episode 135:   1%|▏         | 135/10000 [00:07<03:34, 45.91it/s, episode_reward=12, running_reward=25.7]"
     ]
    },
    {
     "name": "stderr",
     "output_type": "stream",
     "text": [
      "\r",
      "Episode 135:   1%|▏         | 135/10000 [00:07<03:34, 45.91it/s, episode_reward=10, running_reward=25.6]"
     ]
    },
    {
     "name": "stderr",
     "output_type": "stream",
     "text": [
      "\r",
      "Episode 136:   1%|▏         | 135/10000 [00:07<03:34, 45.91it/s, episode_reward=10, running_reward=25.6]"
     ]
    },
    {
     "name": "stderr",
     "output_type": "stream",
     "text": [
      "\r",
      "Episode 136:   1%|▏         | 135/10000 [00:07<03:34, 45.91it/s, episode_reward=18, running_reward=25.7]"
     ]
    },
    {
     "name": "stderr",
     "output_type": "stream",
     "text": [
      "\r",
      "Episode 137:   1%|▏         | 135/10000 [00:07<03:34, 45.91it/s, episode_reward=18, running_reward=25.7]"
     ]
    },
    {
     "name": "stderr",
     "output_type": "stream",
     "text": [
      "\r",
      "Episode 137:   1%|▏         | 135/10000 [00:07<03:34, 45.91it/s, episode_reward=11, running_reward=25.6]"
     ]
    },
    {
     "name": "stderr",
     "output_type": "stream",
     "text": [
      "\r",
      "Episode 138:   1%|▏         | 135/10000 [00:07<03:34, 45.91it/s, episode_reward=11, running_reward=25.6]"
     ]
    },
    {
     "name": "stderr",
     "output_type": "stream",
     "text": [
      "\r",
      "Episode 138:   1%|▏         | 135/10000 [00:07<03:34, 45.91it/s, episode_reward=16, running_reward=25.6]"
     ]
    },
    {
     "name": "stderr",
     "output_type": "stream",
     "text": [
      "\r",
      "Episode 139:   1%|▏         | 135/10000 [00:07<03:34, 45.91it/s, episode_reward=16, running_reward=25.6]"
     ]
    },
    {
     "name": "stderr",
     "output_type": "stream",
     "text": [
      "\r",
      "Episode 139:   1%|▏         | 135/10000 [00:07<03:34, 45.91it/s, episode_reward=11, running_reward=25.5]"
     ]
    },
    {
     "name": "stderr",
     "output_type": "stream",
     "text": [
      "\r",
      "Episode 140:   1%|▏         | 135/10000 [00:07<03:34, 45.91it/s, episode_reward=11, running_reward=25.5]"
     ]
    },
    {
     "name": "stderr",
     "output_type": "stream",
     "text": [
      "\r",
      "Episode 140:   1%|▏         | 135/10000 [00:07<03:34, 45.91it/s, episode_reward=11, running_reward=25.4]"
     ]
    },
    {
     "name": "stderr",
     "output_type": "stream",
     "text": [
      "\r",
      "Episode 140:   1%|▏         | 141/10000 [00:07<03:26, 47.80it/s, episode_reward=11, running_reward=25.4]"
     ]
    },
    {
     "name": "stderr",
     "output_type": "stream",
     "text": [
      "\r",
      "Episode 141:   1%|▏         | 141/10000 [00:07<03:26, 47.80it/s, episode_reward=11, running_reward=25.4]"
     ]
    },
    {
     "name": "stderr",
     "output_type": "stream",
     "text": [
      "\r",
      "Episode 141:   1%|▏         | 141/10000 [00:07<03:26, 47.80it/s, episode_reward=10, running_reward=25.1]"
     ]
    },
    {
     "name": "stderr",
     "output_type": "stream",
     "text": [
      "\r",
      "Episode 142:   1%|▏         | 141/10000 [00:07<03:26, 47.80it/s, episode_reward=10, running_reward=25.1]"
     ]
    },
    {
     "name": "stderr",
     "output_type": "stream",
     "text": [
      "\r",
      "Episode 142:   1%|▏         | 141/10000 [00:07<03:26, 47.80it/s, episode_reward=10, running_reward=24.9]"
     ]
    },
    {
     "name": "stderr",
     "output_type": "stream",
     "text": [
      "\r",
      "Episode 143:   1%|▏         | 141/10000 [00:07<03:26, 47.80it/s, episode_reward=10, running_reward=24.9]"
     ]
    },
    {
     "name": "stderr",
     "output_type": "stream",
     "text": [
      "\r",
      "Episode 143:   1%|▏         | 141/10000 [00:07<03:26, 47.80it/s, episode_reward=9, running_reward=24.6] "
     ]
    },
    {
     "name": "stderr",
     "output_type": "stream",
     "text": [
      "\r",
      "Episode 144:   1%|▏         | 141/10000 [00:07<03:26, 47.80it/s, episode_reward=9, running_reward=24.6]"
     ]
    },
    {
     "name": "stderr",
     "output_type": "stream",
     "text": [
      "\r",
      "Episode 144:   1%|▏         | 141/10000 [00:07<03:26, 47.80it/s, episode_reward=11, running_reward=23.8]"
     ]
    },
    {
     "name": "stderr",
     "output_type": "stream",
     "text": [
      "\r",
      "Episode 145:   1%|▏         | 141/10000 [00:07<03:26, 47.80it/s, episode_reward=11, running_reward=23.8]"
     ]
    },
    {
     "name": "stderr",
     "output_type": "stream",
     "text": [
      "\r",
      "Episode 145:   1%|▏         | 141/10000 [00:07<03:26, 47.80it/s, episode_reward=15, running_reward=23.5]"
     ]
    },
    {
     "name": "stderr",
     "output_type": "stream",
     "text": [
      "\r",
      "Episode 146:   1%|▏         | 141/10000 [00:07<03:26, 47.80it/s, episode_reward=15, running_reward=23.5]"
     ]
    },
    {
     "name": "stderr",
     "output_type": "stream",
     "text": [
      "\r",
      "Episode 146:   1%|▏         | 141/10000 [00:07<03:26, 47.80it/s, episode_reward=15, running_reward=23.5]"
     ]
    },
    {
     "name": "stderr",
     "output_type": "stream",
     "text": [
      "\r",
      "Episode 146:   1%|▏         | 147/10000 [00:07<03:16, 50.02it/s, episode_reward=15, running_reward=23.5]"
     ]
    },
    {
     "name": "stderr",
     "output_type": "stream",
     "text": [
      "\r",
      "Episode 147:   1%|▏         | 147/10000 [00:07<03:16, 50.02it/s, episode_reward=15, running_reward=23.5]"
     ]
    },
    {
     "name": "stderr",
     "output_type": "stream",
     "text": [
      "\r",
      "Episode 147:   1%|▏         | 147/10000 [00:07<03:16, 50.02it/s, episode_reward=10, running_reward=23.4]"
     ]
    },
    {
     "name": "stderr",
     "output_type": "stream",
     "text": [
      "\r",
      "Episode 148:   1%|▏         | 147/10000 [00:07<03:16, 50.02it/s, episode_reward=10, running_reward=23.4]"
     ]
    },
    {
     "name": "stderr",
     "output_type": "stream",
     "text": [
      "\r",
      "Episode 148:   1%|▏         | 147/10000 [00:07<03:16, 50.02it/s, episode_reward=20, running_reward=23.1]"
     ]
    },
    {
     "name": "stderr",
     "output_type": "stream",
     "text": [
      "\r",
      "Episode 149:   1%|▏         | 147/10000 [00:07<03:16, 50.02it/s, episode_reward=20, running_reward=23.1]"
     ]
    },
    {
     "name": "stderr",
     "output_type": "stream",
     "text": [
      "\r",
      "Episode 149:   1%|▏         | 147/10000 [00:07<03:16, 50.02it/s, episode_reward=9, running_reward=22.9] "
     ]
    },
    {
     "name": "stderr",
     "output_type": "stream",
     "text": [
      "\r",
      "Episode 150:   1%|▏         | 147/10000 [00:07<03:16, 50.02it/s, episode_reward=9, running_reward=22.9]"
     ]
    },
    {
     "name": "stderr",
     "output_type": "stream",
     "text": [
      "\r",
      "Episode 150:   1%|▏         | 147/10000 [00:07<03:16, 50.02it/s, episode_reward=9, running_reward=22.6]"
     ]
    },
    {
     "name": "stderr",
     "output_type": "stream",
     "text": [
      "\r",
      "Episode 151:   1%|▏         | 147/10000 [00:07<03:16, 50.02it/s, episode_reward=9, running_reward=22.6]"
     ]
    },
    {
     "name": "stderr",
     "output_type": "stream",
     "text": [
      "\r",
      "Episode 151:   1%|▏         | 147/10000 [00:07<03:16, 50.02it/s, episode_reward=13, running_reward=22.6]"
     ]
    },
    {
     "name": "stderr",
     "output_type": "stream",
     "text": [
      "\r",
      "Episode 152:   1%|▏         | 147/10000 [00:07<03:16, 50.02it/s, episode_reward=13, running_reward=22.6]"
     ]
    },
    {
     "name": "stderr",
     "output_type": "stream",
     "text": [
      "\r",
      "Episode 152:   1%|▏         | 147/10000 [00:07<03:16, 50.02it/s, episode_reward=12, running_reward=22.6]"
     ]
    },
    {
     "name": "stderr",
     "output_type": "stream",
     "text": [
      "\r",
      "Episode 152:   2%|▏         | 153/10000 [00:07<03:07, 52.52it/s, episode_reward=12, running_reward=22.6]"
     ]
    },
    {
     "name": "stderr",
     "output_type": "stream",
     "text": [
      "\r",
      "Episode 153:   2%|▏         | 153/10000 [00:07<03:07, 52.52it/s, episode_reward=12, running_reward=22.6]"
     ]
    },
    {
     "name": "stderr",
     "output_type": "stream",
     "text": [
      "\r",
      "Episode 153:   2%|▏         | 153/10000 [00:07<03:07, 52.52it/s, episode_reward=17, running_reward=22.7]"
     ]
    },
    {
     "name": "stderr",
     "output_type": "stream",
     "text": [
      "\r",
      "Episode 154:   2%|▏         | 153/10000 [00:07<03:07, 52.52it/s, episode_reward=17, running_reward=22.7]"
     ]
    },
    {
     "name": "stderr",
     "output_type": "stream",
     "text": [
      "\r",
      "Episode 154:   2%|▏         | 153/10000 [00:07<03:07, 52.52it/s, episode_reward=16, running_reward=22.7]"
     ]
    },
    {
     "name": "stderr",
     "output_type": "stream",
     "text": [
      "\r",
      "Episode 155:   2%|▏         | 153/10000 [00:07<03:07, 52.52it/s, episode_reward=16, running_reward=22.7]"
     ]
    },
    {
     "name": "stderr",
     "output_type": "stream",
     "text": [
      "\r",
      "Episode 155:   2%|▏         | 153/10000 [00:07<03:07, 52.52it/s, episode_reward=11, running_reward=22.6]"
     ]
    },
    {
     "name": "stderr",
     "output_type": "stream",
     "text": [
      "\r",
      "Episode 156:   2%|▏         | 153/10000 [00:07<03:07, 52.52it/s, episode_reward=11, running_reward=22.6]"
     ]
    },
    {
     "name": "stderr",
     "output_type": "stream",
     "text": [
      "\r",
      "Episode 156:   2%|▏         | 153/10000 [00:07<03:07, 52.52it/s, episode_reward=15, running_reward=22.7]"
     ]
    },
    {
     "name": "stderr",
     "output_type": "stream",
     "text": [
      "\r",
      "Episode 157:   2%|▏         | 153/10000 [00:07<03:07, 52.52it/s, episode_reward=15, running_reward=22.7]"
     ]
    },
    {
     "name": "stderr",
     "output_type": "stream",
     "text": [
      "\r",
      "Episode 157:   2%|▏         | 153/10000 [00:07<03:07, 52.52it/s, episode_reward=13, running_reward=22.7]"
     ]
    },
    {
     "name": "stderr",
     "output_type": "stream",
     "text": [
      "\r",
      "Episode 158:   2%|▏         | 153/10000 [00:07<03:07, 52.52it/s, episode_reward=13, running_reward=22.7]"
     ]
    },
    {
     "name": "stderr",
     "output_type": "stream",
     "text": [
      "\r",
      "Episode 158:   2%|▏         | 153/10000 [00:07<03:07, 52.52it/s, episode_reward=21, running_reward=22.8]"
     ]
    },
    {
     "name": "stderr",
     "output_type": "stream",
     "text": [
      "\r",
      "Episode 158:   2%|▏         | 159/10000 [00:07<03:12, 51.24it/s, episode_reward=21, running_reward=22.8]"
     ]
    },
    {
     "name": "stderr",
     "output_type": "stream",
     "text": [
      "\r",
      "Episode 159:   2%|▏         | 159/10000 [00:07<03:12, 51.24it/s, episode_reward=21, running_reward=22.8]"
     ]
    },
    {
     "name": "stderr",
     "output_type": "stream",
     "text": [
      "\r",
      "Episode 159:   2%|▏         | 159/10000 [00:07<03:12, 51.24it/s, episode_reward=15, running_reward=22.8]"
     ]
    },
    {
     "name": "stderr",
     "output_type": "stream",
     "text": [
      "\r",
      "Episode 160:   2%|▏         | 159/10000 [00:07<03:12, 51.24it/s, episode_reward=15, running_reward=22.8]"
     ]
    },
    {
     "name": "stderr",
     "output_type": "stream",
     "text": [
      "\r",
      "Episode 160:   2%|▏         | 159/10000 [00:07<03:12, 51.24it/s, episode_reward=23, running_reward=22.9]"
     ]
    },
    {
     "name": "stderr",
     "output_type": "stream",
     "text": [
      "\r",
      "Episode 161:   2%|▏         | 159/10000 [00:07<03:12, 51.24it/s, episode_reward=23, running_reward=22.9]"
     ]
    },
    {
     "name": "stderr",
     "output_type": "stream",
     "text": [
      "\r",
      "Episode 161:   2%|▏         | 159/10000 [00:07<03:12, 51.24it/s, episode_reward=27, running_reward=23]  "
     ]
    },
    {
     "name": "stderr",
     "output_type": "stream",
     "text": [
      "\r",
      "Episode 162:   2%|▏         | 159/10000 [00:07<03:12, 51.24it/s, episode_reward=27, running_reward=23]"
     ]
    },
    {
     "name": "stderr",
     "output_type": "stream",
     "text": [
      "\r",
      "Episode 162:   2%|▏         | 159/10000 [00:07<03:12, 51.24it/s, episode_reward=18, running_reward=23]"
     ]
    },
    {
     "name": "stderr",
     "output_type": "stream",
     "text": [
      "\r",
      "Episode 163:   2%|▏         | 159/10000 [00:07<03:12, 51.24it/s, episode_reward=18, running_reward=23]"
     ]
    },
    {
     "name": "stderr",
     "output_type": "stream",
     "text": [
      "\r",
      "Episode 163:   2%|▏         | 159/10000 [00:07<03:12, 51.24it/s, episode_reward=15, running_reward=23]"
     ]
    },
    {
     "name": "stderr",
     "output_type": "stream",
     "text": [
      "\r",
      "Episode 164:   2%|▏         | 159/10000 [00:08<03:12, 51.24it/s, episode_reward=15, running_reward=23]"
     ]
    },
    {
     "name": "stderr",
     "output_type": "stream",
     "text": [
      "\r",
      "Episode 164:   2%|▏         | 159/10000 [00:08<03:12, 51.24it/s, episode_reward=20, running_reward=23.1]"
     ]
    },
    {
     "name": "stderr",
     "output_type": "stream",
     "text": [
      "\r",
      "Episode 164:   2%|▏         | 165/10000 [00:08<03:34, 45.94it/s, episode_reward=20, running_reward=23.1]"
     ]
    },
    {
     "name": "stderr",
     "output_type": "stream",
     "text": [
      "\r",
      "Episode 165:   2%|▏         | 165/10000 [00:08<03:34, 45.94it/s, episode_reward=20, running_reward=23.1]"
     ]
    },
    {
     "name": "stderr",
     "output_type": "stream",
     "text": [
      "\r",
      "Episode 165:   2%|▏         | 165/10000 [00:08<03:34, 45.94it/s, episode_reward=22, running_reward=23.2]"
     ]
    },
    {
     "name": "stderr",
     "output_type": "stream",
     "text": [
      "\r",
      "Episode 166:   2%|▏         | 165/10000 [00:08<03:34, 45.94it/s, episode_reward=22, running_reward=23.2]"
     ]
    },
    {
     "name": "stderr",
     "output_type": "stream",
     "text": [
      "\r",
      "Episode 166:   2%|▏         | 165/10000 [00:08<03:34, 45.94it/s, episode_reward=16, running_reward=23.2]"
     ]
    },
    {
     "name": "stderr",
     "output_type": "stream",
     "text": [
      "\r",
      "Episode 167:   2%|▏         | 165/10000 [00:08<03:34, 45.94it/s, episode_reward=16, running_reward=23.2]"
     ]
    },
    {
     "name": "stderr",
     "output_type": "stream",
     "text": [
      "\r",
      "Episode 167:   2%|▏         | 165/10000 [00:08<03:34, 45.94it/s, episode_reward=25, running_reward=23.4]"
     ]
    },
    {
     "name": "stderr",
     "output_type": "stream",
     "text": [
      "\r",
      "Episode 168:   2%|▏         | 165/10000 [00:08<03:34, 45.94it/s, episode_reward=25, running_reward=23.4]"
     ]
    },
    {
     "name": "stderr",
     "output_type": "stream",
     "text": [
      "\r",
      "Episode 168:   2%|▏         | 165/10000 [00:08<03:34, 45.94it/s, episode_reward=24, running_reward=23.5]"
     ]
    },
    {
     "name": "stderr",
     "output_type": "stream",
     "text": [
      "\r",
      "Episode 169:   2%|▏         | 165/10000 [00:08<03:34, 45.94it/s, episode_reward=24, running_reward=23.5]"
     ]
    },
    {
     "name": "stderr",
     "output_type": "stream",
     "text": [
      "\r",
      "Episode 169:   2%|▏         | 165/10000 [00:08<03:34, 45.94it/s, episode_reward=28, running_reward=23.6]"
     ]
    },
    {
     "name": "stderr",
     "output_type": "stream",
     "text": [
      "\r",
      "Episode 169:   2%|▏         | 170/10000 [00:08<03:53, 42.05it/s, episode_reward=28, running_reward=23.6]"
     ]
    },
    {
     "name": "stderr",
     "output_type": "stream",
     "text": [
      "\r",
      "Episode 170:   2%|▏         | 170/10000 [00:08<03:53, 42.05it/s, episode_reward=28, running_reward=23.6]"
     ]
    },
    {
     "name": "stderr",
     "output_type": "stream",
     "text": [
      "\r",
      "Episode 170:   2%|▏         | 170/10000 [00:08<03:53, 42.05it/s, episode_reward=28, running_reward=23.6]"
     ]
    },
    {
     "name": "stderr",
     "output_type": "stream",
     "text": [
      "\r",
      "Episode 171:   2%|▏         | 170/10000 [00:08<03:53, 42.05it/s, episode_reward=28, running_reward=23.6]"
     ]
    },
    {
     "name": "stderr",
     "output_type": "stream",
     "text": [
      "\r",
      "Episode 171:   2%|▏         | 170/10000 [00:08<03:53, 42.05it/s, episode_reward=23, running_reward=23.7]"
     ]
    },
    {
     "name": "stderr",
     "output_type": "stream",
     "text": [
      "\r",
      "Episode 172:   2%|▏         | 170/10000 [00:08<03:53, 42.05it/s, episode_reward=23, running_reward=23.7]"
     ]
    },
    {
     "name": "stderr",
     "output_type": "stream",
     "text": [
      "\r",
      "Episode 172:   2%|▏         | 170/10000 [00:08<03:53, 42.05it/s, episode_reward=27, running_reward=23.8]"
     ]
    },
    {
     "name": "stderr",
     "output_type": "stream",
     "text": [
      "\r",
      "Episode 173:   2%|▏         | 170/10000 [00:08<03:53, 42.05it/s, episode_reward=27, running_reward=23.8]"
     ]
    },
    {
     "name": "stderr",
     "output_type": "stream",
     "text": [
      "\r",
      "Episode 173:   2%|▏         | 170/10000 [00:08<03:53, 42.05it/s, episode_reward=19, running_reward=23.7]"
     ]
    },
    {
     "name": "stderr",
     "output_type": "stream",
     "text": [
      "\r",
      "Episode 174:   2%|▏         | 170/10000 [00:08<03:53, 42.05it/s, episode_reward=19, running_reward=23.7]"
     ]
    },
    {
     "name": "stderr",
     "output_type": "stream",
     "text": [
      "\r",
      "Episode 174:   2%|▏         | 170/10000 [00:08<03:53, 42.05it/s, episode_reward=25, running_reward=23.6]"
     ]
    },
    {
     "name": "stderr",
     "output_type": "stream",
     "text": [
      "\r",
      "Episode 174:   2%|▏         | 175/10000 [00:08<04:10, 39.29it/s, episode_reward=25, running_reward=23.6]"
     ]
    },
    {
     "name": "stderr",
     "output_type": "stream",
     "text": [
      "\r",
      "Episode 175:   2%|▏         | 175/10000 [00:08<04:10, 39.29it/s, episode_reward=25, running_reward=23.6]"
     ]
    },
    {
     "name": "stderr",
     "output_type": "stream",
     "text": [
      "\r",
      "Episode 175:   2%|▏         | 175/10000 [00:08<04:10, 39.29it/s, episode_reward=39, running_reward=23.8]"
     ]
    },
    {
     "name": "stderr",
     "output_type": "stream",
     "text": [
      "\r",
      "Episode 176:   2%|▏         | 175/10000 [00:08<04:10, 39.29it/s, episode_reward=39, running_reward=23.8]"
     ]
    },
    {
     "name": "stderr",
     "output_type": "stream",
     "text": [
      "\r",
      "Episode 176:   2%|▏         | 175/10000 [00:08<04:10, 39.29it/s, episode_reward=21, running_reward=23.7]"
     ]
    },
    {
     "name": "stderr",
     "output_type": "stream",
     "text": [
      "\r",
      "Episode 177:   2%|▏         | 175/10000 [00:08<04:10, 39.29it/s, episode_reward=21, running_reward=23.7]"
     ]
    },
    {
     "name": "stderr",
     "output_type": "stream",
     "text": [
      "\r",
      "Episode 177:   2%|▏         | 175/10000 [00:08<04:10, 39.29it/s, episode_reward=23, running_reward=23.6]"
     ]
    },
    {
     "name": "stderr",
     "output_type": "stream",
     "text": [
      "\r",
      "Episode 178:   2%|▏         | 175/10000 [00:08<04:10, 39.29it/s, episode_reward=23, running_reward=23.6]"
     ]
    },
    {
     "name": "stderr",
     "output_type": "stream",
     "text": [
      "\r",
      "Episode 178:   2%|▏         | 175/10000 [00:08<04:10, 39.29it/s, episode_reward=23, running_reward=23.4]"
     ]
    },
    {
     "name": "stderr",
     "output_type": "stream",
     "text": [
      "\r",
      "Episode 179:   2%|▏         | 175/10000 [00:08<04:10, 39.29it/s, episode_reward=23, running_reward=23.4]"
     ]
    },
    {
     "name": "stderr",
     "output_type": "stream",
     "text": [
      "\r",
      "Episode 179:   2%|▏         | 175/10000 [00:08<04:10, 39.29it/s, episode_reward=24, running_reward=23.2]"
     ]
    },
    {
     "name": "stderr",
     "output_type": "stream",
     "text": [
      "\r",
      "Episode 179:   2%|▏         | 180/10000 [00:08<04:29, 36.47it/s, episode_reward=24, running_reward=23.2]"
     ]
    },
    {
     "name": "stderr",
     "output_type": "stream",
     "text": [
      "\r",
      "Episode 180:   2%|▏         | 180/10000 [00:08<04:29, 36.47it/s, episode_reward=24, running_reward=23.2]"
     ]
    },
    {
     "name": "stderr",
     "output_type": "stream",
     "text": [
      "\r",
      "Episode 180:   2%|▏         | 180/10000 [00:08<04:29, 36.47it/s, episode_reward=55, running_reward=23.5]"
     ]
    },
    {
     "name": "stderr",
     "output_type": "stream",
     "text": [
      "\r",
      "Episode 181:   2%|▏         | 180/10000 [00:08<04:29, 36.47it/s, episode_reward=55, running_reward=23.5]"
     ]
    },
    {
     "name": "stderr",
     "output_type": "stream",
     "text": [
      "\r",
      "Episode 181:   2%|▏         | 180/10000 [00:08<04:29, 36.47it/s, episode_reward=57, running_reward=23.7]"
     ]
    },
    {
     "name": "stderr",
     "output_type": "stream",
     "text": [
      "\r",
      "Episode 182:   2%|▏         | 180/10000 [00:08<04:29, 36.47it/s, episode_reward=57, running_reward=23.7]"
     ]
    },
    {
     "name": "stderr",
     "output_type": "stream",
     "text": [
      "\r",
      "Episode 182:   2%|▏         | 180/10000 [00:08<04:29, 36.47it/s, episode_reward=49, running_reward=23.7]"
     ]
    },
    {
     "name": "stderr",
     "output_type": "stream",
     "text": [
      "\r",
      "Episode 183:   2%|▏         | 180/10000 [00:08<04:29, 36.47it/s, episode_reward=49, running_reward=23.7]"
     ]
    },
    {
     "name": "stderr",
     "output_type": "stream",
     "text": [
      "\r",
      "Episode 183:   2%|▏         | 180/10000 [00:08<04:29, 36.47it/s, episode_reward=72, running_reward=23.9]"
     ]
    },
    {
     "name": "stderr",
     "output_type": "stream",
     "text": [
      "\r",
      "Episode 183:   2%|▏         | 184/10000 [00:08<06:17, 26.01it/s, episode_reward=72, running_reward=23.9]"
     ]
    },
    {
     "name": "stderr",
     "output_type": "stream",
     "text": [
      "\r",
      "Episode 184:   2%|▏         | 184/10000 [00:08<06:17, 26.01it/s, episode_reward=72, running_reward=23.9]"
     ]
    },
    {
     "name": "stderr",
     "output_type": "stream",
     "text": [
      "\r",
      "Episode 184:   2%|▏         | 184/10000 [00:08<06:17, 26.01it/s, episode_reward=52, running_reward=23.9]"
     ]
    },
    {
     "name": "stderr",
     "output_type": "stream",
     "text": [
      "\r",
      "Episode 185:   2%|▏         | 184/10000 [00:08<06:17, 26.01it/s, episode_reward=52, running_reward=23.9]"
     ]
    },
    {
     "name": "stderr",
     "output_type": "stream",
     "text": [
      "\r",
      "Episode 185:   2%|▏         | 184/10000 [00:08<06:17, 26.01it/s, episode_reward=45, running_reward=23.9]"
     ]
    },
    {
     "name": "stderr",
     "output_type": "stream",
     "text": [
      "\r",
      "Episode 186:   2%|▏         | 184/10000 [00:08<06:17, 26.01it/s, episode_reward=45, running_reward=23.9]"
     ]
    },
    {
     "name": "stderr",
     "output_type": "stream",
     "text": [
      "\r",
      "Episode 186:   2%|▏         | 184/10000 [00:08<06:17, 26.01it/s, episode_reward=56, running_reward=23.9]"
     ]
    },
    {
     "name": "stderr",
     "output_type": "stream",
     "text": [
      "\r",
      "Episode 187:   2%|▏         | 184/10000 [00:09<06:17, 26.01it/s, episode_reward=56, running_reward=23.9]"
     ]
    },
    {
     "name": "stderr",
     "output_type": "stream",
     "text": [
      "\r",
      "Episode 187:   2%|▏         | 184/10000 [00:09<06:17, 26.01it/s, episode_reward=42, running_reward=24]  "
     ]
    },
    {
     "name": "stderr",
     "output_type": "stream",
     "text": [
      "\r",
      "Episode 187:   2%|▏         | 188/10000 [00:09<07:14, 22.57it/s, episode_reward=42, running_reward=24]"
     ]
    },
    {
     "name": "stderr",
     "output_type": "stream",
     "text": [
      "\r",
      "Episode 188:   2%|▏         | 188/10000 [00:09<07:14, 22.57it/s, episode_reward=42, running_reward=24]"
     ]
    },
    {
     "name": "stderr",
     "output_type": "stream",
     "text": [
      "\r",
      "Episode 188:   2%|▏         | 188/10000 [00:09<07:14, 22.57it/s, episode_reward=49, running_reward=24.3]"
     ]
    },
    {
     "name": "stderr",
     "output_type": "stream",
     "text": [
      "\r",
      "Episode 189:   2%|▏         | 188/10000 [00:09<07:14, 22.57it/s, episode_reward=49, running_reward=24.3]"
     ]
    },
    {
     "name": "stderr",
     "output_type": "stream",
     "text": [
      "\r",
      "Episode 189:   2%|▏         | 188/10000 [00:09<07:14, 22.57it/s, episode_reward=69, running_reward=24.7]"
     ]
    },
    {
     "name": "stderr",
     "output_type": "stream",
     "text": [
      "\r",
      "Episode 190:   2%|▏         | 188/10000 [00:09<07:14, 22.57it/s, episode_reward=69, running_reward=24.7]"
     ]
    },
    {
     "name": "stderr",
     "output_type": "stream",
     "text": [
      "\r",
      "Episode 190:   2%|▏         | 188/10000 [00:09<07:14, 22.57it/s, episode_reward=83, running_reward=24.9]"
     ]
    },
    {
     "name": "stderr",
     "output_type": "stream",
     "text": [
      "\r",
      "Episode 190:   2%|▏         | 191/10000 [00:09<08:37, 18.94it/s, episode_reward=83, running_reward=24.9]"
     ]
    },
    {
     "name": "stderr",
     "output_type": "stream",
     "text": [
      "\r",
      "Episode 191:   2%|▏         | 191/10000 [00:09<08:37, 18.94it/s, episode_reward=83, running_reward=24.9]"
     ]
    },
    {
     "name": "stderr",
     "output_type": "stream",
     "text": [
      "\r",
      "Episode 191:   2%|▏         | 191/10000 [00:09<08:37, 18.94it/s, episode_reward=90, running_reward=24.6]"
     ]
    },
    {
     "name": "stderr",
     "output_type": "stream",
     "text": [
      "\r",
      "Episode 192:   2%|▏         | 191/10000 [00:09<08:37, 18.94it/s, episode_reward=90, running_reward=24.6]"
     ]
    },
    {
     "name": "stderr",
     "output_type": "stream",
     "text": [
      "\r",
      "Episode 192:   2%|▏         | 191/10000 [00:09<08:37, 18.94it/s, episode_reward=77, running_reward=24.8]"
     ]
    },
    {
     "name": "stderr",
     "output_type": "stream",
     "text": [
      "\r",
      "Episode 193:   2%|▏         | 191/10000 [00:09<08:37, 18.94it/s, episode_reward=77, running_reward=24.8]"
     ]
    },
    {
     "name": "stderr",
     "output_type": "stream",
     "text": [
      "\r",
      "Episode 193:   2%|▏         | 191/10000 [00:09<08:37, 18.94it/s, episode_reward=77, running_reward=24.9]"
     ]
    },
    {
     "name": "stderr",
     "output_type": "stream",
     "text": [
      "\r",
      "Episode 193:   2%|▏         | 194/10000 [00:09<10:27, 15.64it/s, episode_reward=77, running_reward=24.9]"
     ]
    },
    {
     "name": "stderr",
     "output_type": "stream",
     "text": [
      "\r",
      "Episode 194:   2%|▏         | 194/10000 [00:09<10:27, 15.64it/s, episode_reward=77, running_reward=24.9]"
     ]
    },
    {
     "name": "stderr",
     "output_type": "stream",
     "text": [
      "\r",
      "Episode 194:   2%|▏         | 194/10000 [00:09<10:27, 15.64it/s, episode_reward=72, running_reward=25]  "
     ]
    },
    {
     "name": "stderr",
     "output_type": "stream",
     "text": [
      "\r",
      "Episode 195:   2%|▏         | 194/10000 [00:09<10:27, 15.64it/s, episode_reward=72, running_reward=25]"
     ]
    },
    {
     "name": "stderr",
     "output_type": "stream",
     "text": [
      "\r",
      "Episode 195:   2%|▏         | 194/10000 [00:09<10:27, 15.64it/s, episode_reward=184, running_reward=26.5]"
     ]
    },
    {
     "name": "stderr",
     "output_type": "stream",
     "text": [
      "\r",
      "Episode 195:   2%|▏         | 196/10000 [00:09<13:04, 12.50it/s, episode_reward=184, running_reward=26.5]"
     ]
    },
    {
     "name": "stderr",
     "output_type": "stream",
     "text": [
      "\r",
      "Episode 196:   2%|▏         | 196/10000 [00:09<13:04, 12.50it/s, episode_reward=184, running_reward=26.5]"
     ]
    },
    {
     "name": "stderr",
     "output_type": "stream",
     "text": [
      "\r",
      "Episode 196:   2%|▏         | 196/10000 [00:09<13:04, 12.50it/s, episode_reward=71, running_reward=26.8] "
     ]
    },
    {
     "name": "stderr",
     "output_type": "stream",
     "text": [
      "\r",
      "Episode 197:   2%|▏         | 196/10000 [00:10<13:04, 12.50it/s, episode_reward=71, running_reward=26.8]"
     ]
    },
    {
     "name": "stderr",
     "output_type": "stream",
     "text": [
      "\r",
      "Episode 197:   2%|▏         | 196/10000 [00:10<13:04, 12.50it/s, episode_reward=72, running_reward=27]  "
     ]
    },
    {
     "name": "stderr",
     "output_type": "stream",
     "text": [
      "\r",
      "Episode 197:   2%|▏         | 198/10000 [00:10<13:23, 12.19it/s, episode_reward=72, running_reward=27]"
     ]
    },
    {
     "name": "stderr",
     "output_type": "stream",
     "text": [
      "\r",
      "Episode 198:   2%|▏         | 198/10000 [00:10<13:23, 12.19it/s, episode_reward=72, running_reward=27]"
     ]
    },
    {
     "name": "stderr",
     "output_type": "stream",
     "text": [
      "\r",
      "Episode 198:   2%|▏         | 198/10000 [00:10<13:23, 12.19it/s, episode_reward=44, running_reward=26.9]"
     ]
    },
    {
     "name": "stderr",
     "output_type": "stream",
     "text": [
      "\r",
      "Episode 199:   2%|▏         | 198/10000 [00:10<13:23, 12.19it/s, episode_reward=44, running_reward=26.9]"
     ]
    },
    {
     "name": "stderr",
     "output_type": "stream",
     "text": [
      "\r",
      "Episode 199:   2%|▏         | 198/10000 [00:10<13:23, 12.19it/s, episode_reward=95, running_reward=27.5]"
     ]
    },
    {
     "name": "stderr",
     "output_type": "stream",
     "text": [
      "\r",
      "Episode 199:   2%|▏         | 200/10000 [00:10<13:35, 12.02it/s, episode_reward=95, running_reward=27.5]"
     ]
    },
    {
     "name": "stderr",
     "output_type": "stream",
     "text": [
      "\r",
      "Episode 200:   2%|▏         | 200/10000 [00:10<13:35, 12.02it/s, episode_reward=95, running_reward=27.5]"
     ]
    },
    {
     "name": "stderr",
     "output_type": "stream",
     "text": [
      "\r",
      "Episode 200:   2%|▏         | 200/10000 [00:10<13:35, 12.02it/s, episode_reward=85, running_reward=28.1]"
     ]
    },
    {
     "name": "stderr",
     "output_type": "stream",
     "text": [
      "\r",
      "Episode 201:   2%|▏         | 200/10000 [00:10<13:35, 12.02it/s, episode_reward=85, running_reward=28.1]"
     ]
    },
    {
     "name": "stderr",
     "output_type": "stream",
     "text": [
      "\r",
      "Episode 201:   2%|▏         | 200/10000 [00:10<13:35, 12.02it/s, episode_reward=55, running_reward=28.4]"
     ]
    },
    {
     "name": "stderr",
     "output_type": "stream",
     "text": [
      "\r",
      "Episode 201:   2%|▏         | 202/10000 [00:10<13:49, 11.82it/s, episode_reward=55, running_reward=28.4]"
     ]
    },
    {
     "name": "stderr",
     "output_type": "stream",
     "text": [
      "\r",
      "Episode 202:   2%|▏         | 202/10000 [00:10<13:49, 11.82it/s, episode_reward=55, running_reward=28.4]"
     ]
    },
    {
     "name": "stderr",
     "output_type": "stream",
     "text": [
      "\r",
      "Episode 202:   2%|▏         | 202/10000 [00:10<13:49, 11.82it/s, episode_reward=38, running_reward=28.6]"
     ]
    },
    {
     "name": "stderr",
     "output_type": "stream",
     "text": [
      "\r",
      "Episode 203:   2%|▏         | 202/10000 [00:10<13:49, 11.82it/s, episode_reward=38, running_reward=28.6]"
     ]
    },
    {
     "name": "stderr",
     "output_type": "stream",
     "text": [
      "\r",
      "Episode 203:   2%|▏         | 202/10000 [00:10<13:49, 11.82it/s, episode_reward=64, running_reward=28.9]"
     ]
    },
    {
     "name": "stderr",
     "output_type": "stream",
     "text": [
      "\r",
      "Episode 203:   2%|▏         | 204/10000 [00:10<12:53, 12.66it/s, episode_reward=64, running_reward=28.9]"
     ]
    },
    {
     "name": "stderr",
     "output_type": "stream",
     "text": [
      "\r",
      "Episode 204:   2%|▏         | 204/10000 [00:10<12:53, 12.66it/s, episode_reward=64, running_reward=28.9]"
     ]
    },
    {
     "name": "stderr",
     "output_type": "stream",
     "text": [
      "\r",
      "Episode 204:   2%|▏         | 204/10000 [00:10<12:53, 12.66it/s, episode_reward=113, running_reward=29.8]"
     ]
    },
    {
     "name": "stderr",
     "output_type": "stream",
     "text": [
      "\r",
      "Episode 205:   2%|▏         | 204/10000 [00:10<12:53, 12.66it/s, episode_reward=113, running_reward=29.8]"
     ]
    },
    {
     "name": "stderr",
     "output_type": "stream",
     "text": [
      "\r",
      "Episode 205:   2%|▏         | 204/10000 [00:10<12:53, 12.66it/s, episode_reward=32, running_reward=29.9] "
     ]
    },
    {
     "name": "stderr",
     "output_type": "stream",
     "text": [
      "\r",
      "Episode 205:   2%|▏         | 206/10000 [00:10<13:17, 12.27it/s, episode_reward=32, running_reward=29.9]"
     ]
    },
    {
     "name": "stderr",
     "output_type": "stream",
     "text": [
      "\r",
      "Episode 206:   2%|▏         | 206/10000 [00:10<13:17, 12.27it/s, episode_reward=32, running_reward=29.9]"
     ]
    },
    {
     "name": "stderr",
     "output_type": "stream",
     "text": [
      "\r",
      "Episode 206:   2%|▏         | 206/10000 [00:10<13:17, 12.27it/s, episode_reward=49, running_reward=30.1]"
     ]
    },
    {
     "name": "stderr",
     "output_type": "stream",
     "text": [
      "\r",
      "Episode 207:   2%|▏         | 206/10000 [00:10<13:17, 12.27it/s, episode_reward=49, running_reward=30.1]"
     ]
    },
    {
     "name": "stderr",
     "output_type": "stream",
     "text": [
      "\r",
      "Episode 207:   2%|▏         | 206/10000 [00:10<13:17, 12.27it/s, episode_reward=60, running_reward=30.6]"
     ]
    },
    {
     "name": "stderr",
     "output_type": "stream",
     "text": [
      "\r",
      "Episode 207:   2%|▏         | 208/10000 [00:10<12:43, 12.82it/s, episode_reward=60, running_reward=30.6]"
     ]
    },
    {
     "name": "stderr",
     "output_type": "stream",
     "text": [
      "\r",
      "Episode 208:   2%|▏         | 208/10000 [00:10<12:43, 12.82it/s, episode_reward=60, running_reward=30.6]"
     ]
    },
    {
     "name": "stderr",
     "output_type": "stream",
     "text": [
      "\r",
      "Episode 208:   2%|▏         | 208/10000 [00:10<12:43, 12.82it/s, episode_reward=36, running_reward=30.7]"
     ]
    },
    {
     "name": "stderr",
     "output_type": "stream",
     "text": [
      "\r",
      "Episode 209:   2%|▏         | 208/10000 [00:10<12:43, 12.82it/s, episode_reward=36, running_reward=30.7]"
     ]
    },
    {
     "name": "stderr",
     "output_type": "stream",
     "text": [
      "\r",
      "Episode 209:   2%|▏         | 208/10000 [00:10<12:43, 12.82it/s, episode_reward=29, running_reward=30.9]"
     ]
    },
    {
     "name": "stderr",
     "output_type": "stream",
     "text": [
      "\r",
      "Episode 210:   2%|▏         | 208/10000 [00:10<12:43, 12.82it/s, episode_reward=29, running_reward=30.9]"
     ]
    },
    {
     "name": "stderr",
     "output_type": "stream",
     "text": [
      "\r",
      "Episode 210:   2%|▏         | 208/10000 [00:10<12:43, 12.82it/s, episode_reward=38, running_reward=31.1]"
     ]
    },
    {
     "name": "stderr",
     "output_type": "stream",
     "text": [
      "\r",
      "Episode 210:   2%|▏         | 211/10000 [00:10<10:49, 15.07it/s, episode_reward=38, running_reward=31.1]"
     ]
    },
    {
     "name": "stderr",
     "output_type": "stream",
     "text": [
      "\r",
      "Episode 211:   2%|▏         | 211/10000 [00:11<10:49, 15.07it/s, episode_reward=38, running_reward=31.1]"
     ]
    },
    {
     "name": "stderr",
     "output_type": "stream",
     "text": [
      "\r",
      "Episode 211:   2%|▏         | 211/10000 [00:11<10:49, 15.07it/s, episode_reward=34, running_reward=31.4]"
     ]
    },
    {
     "name": "stderr",
     "output_type": "stream",
     "text": [
      "\r",
      "Episode 212:   2%|▏         | 211/10000 [00:11<10:49, 15.07it/s, episode_reward=34, running_reward=31.4]"
     ]
    },
    {
     "name": "stderr",
     "output_type": "stream",
     "text": [
      "\r",
      "Episode 212:   2%|▏         | 211/10000 [00:11<10:49, 15.07it/s, episode_reward=28, running_reward=31.5]"
     ]
    },
    {
     "name": "stderr",
     "output_type": "stream",
     "text": [
      "\r",
      "Episode 213:   2%|▏         | 211/10000 [00:11<10:49, 15.07it/s, episode_reward=28, running_reward=31.5]"
     ]
    },
    {
     "name": "stderr",
     "output_type": "stream",
     "text": [
      "\r",
      "Episode 213:   2%|▏         | 211/10000 [00:11<10:49, 15.07it/s, episode_reward=30, running_reward=31.6]"
     ]
    },
    {
     "name": "stderr",
     "output_type": "stream",
     "text": [
      "\r",
      "Episode 213:   2%|▏         | 214/10000 [00:11<09:16, 17.59it/s, episode_reward=30, running_reward=31.6]"
     ]
    },
    {
     "name": "stderr",
     "output_type": "stream",
     "text": [
      "\r",
      "Episode 214:   2%|▏         | 214/10000 [00:11<09:16, 17.59it/s, episode_reward=30, running_reward=31.6]"
     ]
    },
    {
     "name": "stderr",
     "output_type": "stream",
     "text": [
      "\r",
      "Episode 214:   2%|▏         | 214/10000 [00:11<09:16, 17.59it/s, episode_reward=49, running_reward=32]  "
     ]
    },
    {
     "name": "stderr",
     "output_type": "stream",
     "text": [
      "\r",
      "Episode 215:   2%|▏         | 214/10000 [00:11<09:16, 17.59it/s, episode_reward=49, running_reward=32]"
     ]
    },
    {
     "name": "stderr",
     "output_type": "stream",
     "text": [
      "\r",
      "Episode 215:   2%|▏         | 214/10000 [00:11<09:16, 17.59it/s, episode_reward=56, running_reward=32.5]"
     ]
    },
    {
     "name": "stderr",
     "output_type": "stream",
     "text": [
      "\r",
      "Episode 215:   2%|▏         | 216/10000 [00:11<09:40, 16.84it/s, episode_reward=56, running_reward=32.5]"
     ]
    },
    {
     "name": "stderr",
     "output_type": "stream",
     "text": [
      "\r",
      "Episode 216:   2%|▏         | 216/10000 [00:11<09:40, 16.84it/s, episode_reward=56, running_reward=32.5]"
     ]
    },
    {
     "name": "stderr",
     "output_type": "stream",
     "text": [
      "\r",
      "Episode 216:   2%|▏         | 216/10000 [00:11<09:40, 16.84it/s, episode_reward=94, running_reward=33.3]"
     ]
    },
    {
     "name": "stderr",
     "output_type": "stream",
     "text": [
      "\r",
      "Episode 217:   2%|▏         | 216/10000 [00:11<09:40, 16.84it/s, episode_reward=94, running_reward=33.3]"
     ]
    },
    {
     "name": "stderr",
     "output_type": "stream",
     "text": [
      "\r",
      "Episode 217:   2%|▏         | 216/10000 [00:11<09:40, 16.84it/s, episode_reward=60, running_reward=33.7]"
     ]
    },
    {
     "name": "stderr",
     "output_type": "stream",
     "text": [
      "\r",
      "Episode 217:   2%|▏         | 218/10000 [00:11<11:35, 14.06it/s, episode_reward=60, running_reward=33.7]"
     ]
    },
    {
     "name": "stderr",
     "output_type": "stream",
     "text": [
      "\r",
      "Episode 218:   2%|▏         | 218/10000 [00:11<11:35, 14.06it/s, episode_reward=60, running_reward=33.7]"
     ]
    },
    {
     "name": "stderr",
     "output_type": "stream",
     "text": [
      "\r",
      "Episode 218:   2%|▏         | 218/10000 [00:11<11:35, 14.06it/s, episode_reward=69, running_reward=34.3]"
     ]
    },
    {
     "name": "stderr",
     "output_type": "stream",
     "text": [
      "\r",
      "Episode 219:   2%|▏         | 218/10000 [00:11<11:35, 14.06it/s, episode_reward=69, running_reward=34.3]"
     ]
    },
    {
     "name": "stderr",
     "output_type": "stream",
     "text": [
      "\r",
      "Episode 219:   2%|▏         | 218/10000 [00:11<11:35, 14.06it/s, episode_reward=56, running_reward=34.7]"
     ]
    },
    {
     "name": "stderr",
     "output_type": "stream",
     "text": [
      "\r",
      "Episode 219:   2%|▏         | 220/10000 [00:11<12:01, 13.55it/s, episode_reward=56, running_reward=34.7]"
     ]
    },
    {
     "name": "stderr",
     "output_type": "stream",
     "text": [
      "\r",
      "Episode 220:   2%|▏         | 220/10000 [00:11<12:01, 13.55it/s, episode_reward=56, running_reward=34.7]"
     ]
    },
    {
     "name": "stderr",
     "output_type": "stream",
     "text": [
      "\r",
      "Episode 220:   2%|▏         | 220/10000 [00:11<12:01, 13.55it/s, episode_reward=85, running_reward=35.5]"
     ]
    },
    {
     "name": "stderr",
     "output_type": "stream",
     "text": [
      "\r",
      "Episode 221:   2%|▏         | 220/10000 [00:11<12:01, 13.55it/s, episode_reward=85, running_reward=35.5]"
     ]
    },
    {
     "name": "stderr",
     "output_type": "stream",
     "text": [
      "\r",
      "Episode 221:   2%|▏         | 220/10000 [00:11<12:01, 13.55it/s, episode_reward=33, running_reward=35.7]"
     ]
    },
    {
     "name": "stderr",
     "output_type": "stream",
     "text": [
      "\r",
      "Episode 221:   2%|▏         | 222/10000 [00:11<12:12, 13.34it/s, episode_reward=33, running_reward=35.7]"
     ]
    },
    {
     "name": "stderr",
     "output_type": "stream",
     "text": [
      "\r",
      "Episode 222:   2%|▏         | 222/10000 [00:11<12:12, 13.34it/s, episode_reward=33, running_reward=35.7]"
     ]
    },
    {
     "name": "stderr",
     "output_type": "stream",
     "text": [
      "\r",
      "Episode 222:   2%|▏         | 222/10000 [00:11<12:12, 13.34it/s, episode_reward=41, running_reward=35.9]"
     ]
    },
    {
     "name": "stderr",
     "output_type": "stream",
     "text": [
      "\r",
      "Episode 223:   2%|▏         | 222/10000 [00:11<12:12, 13.34it/s, episode_reward=41, running_reward=35.9]"
     ]
    },
    {
     "name": "stderr",
     "output_type": "stream",
     "text": [
      "\r",
      "Episode 223:   2%|▏         | 222/10000 [00:11<12:12, 13.34it/s, episode_reward=90, running_reward=36.7]"
     ]
    },
    {
     "name": "stderr",
     "output_type": "stream",
     "text": [
      "\r",
      "Episode 223:   2%|▏         | 224/10000 [00:11<12:33, 12.98it/s, episode_reward=90, running_reward=36.7]"
     ]
    },
    {
     "name": "stderr",
     "output_type": "stream",
     "text": [
      "\r",
      "Episode 224:   2%|▏         | 224/10000 [00:11<12:33, 12.98it/s, episode_reward=90, running_reward=36.7]"
     ]
    },
    {
     "name": "stderr",
     "output_type": "stream",
     "text": [
      "\r",
      "Episode 224:   2%|▏         | 224/10000 [00:11<12:33, 12.98it/s, episode_reward=39, running_reward=37]  "
     ]
    },
    {
     "name": "stderr",
     "output_type": "stream",
     "text": [
      "\r",
      "Episode 225:   2%|▏         | 224/10000 [00:11<12:33, 12.98it/s, episode_reward=39, running_reward=37]"
     ]
    },
    {
     "name": "stderr",
     "output_type": "stream",
     "text": [
      "\r",
      "Episode 225:   2%|▏         | 224/10000 [00:11<12:33, 12.98it/s, episode_reward=29, running_reward=37.2]"
     ]
    },
    {
     "name": "stderr",
     "output_type": "stream",
     "text": [
      "\r",
      "Episode 226:   2%|▏         | 224/10000 [00:12<12:33, 12.98it/s, episode_reward=29, running_reward=37.2]"
     ]
    },
    {
     "name": "stderr",
     "output_type": "stream",
     "text": [
      "\r",
      "Episode 226:   2%|▏         | 224/10000 [00:12<12:33, 12.98it/s, episode_reward=64, running_reward=37.6]"
     ]
    },
    {
     "name": "stderr",
     "output_type": "stream",
     "text": [
      "\r",
      "Episode 226:   2%|▏         | 227/10000 [00:12<11:07, 14.63it/s, episode_reward=64, running_reward=37.6]"
     ]
    },
    {
     "name": "stderr",
     "output_type": "stream",
     "text": [
      "\r",
      "Episode 227:   2%|▏         | 227/10000 [00:12<11:07, 14.63it/s, episode_reward=64, running_reward=37.6]"
     ]
    },
    {
     "name": "stderr",
     "output_type": "stream",
     "text": [
      "\r",
      "Episode 227:   2%|▏         | 227/10000 [00:12<11:07, 14.63it/s, episode_reward=86, running_reward=38.4]"
     ]
    },
    {
     "name": "stderr",
     "output_type": "stream",
     "text": [
      "\r",
      "Episode 228:   2%|▏         | 227/10000 [00:12<11:07, 14.63it/s, episode_reward=86, running_reward=38.4]"
     ]
    },
    {
     "name": "stderr",
     "output_type": "stream",
     "text": [
      "\r",
      "Episode 228:   2%|▏         | 227/10000 [00:12<11:07, 14.63it/s, episode_reward=51, running_reward=38.7]"
     ]
    },
    {
     "name": "stderr",
     "output_type": "stream",
     "text": [
      "\r",
      "Episode 228:   2%|▏         | 229/10000 [00:12<12:03, 13.50it/s, episode_reward=51, running_reward=38.7]"
     ]
    },
    {
     "name": "stderr",
     "output_type": "stream",
     "text": [
      "\r",
      "Episode 229:   2%|▏         | 229/10000 [00:12<12:03, 13.50it/s, episode_reward=51, running_reward=38.7]"
     ]
    },
    {
     "name": "stderr",
     "output_type": "stream",
     "text": [
      "\r",
      "Episode 229:   2%|▏         | 229/10000 [00:12<12:03, 13.50it/s, episode_reward=28, running_reward=38.9]"
     ]
    },
    {
     "name": "stderr",
     "output_type": "stream",
     "text": [
      "\r",
      "Episode 230:   2%|▏         | 229/10000 [00:12<12:03, 13.50it/s, episode_reward=28, running_reward=38.9]"
     ]
    },
    {
     "name": "stderr",
     "output_type": "stream",
     "text": [
      "\r",
      "Episode 230:   2%|▏         | 229/10000 [00:12<12:03, 13.50it/s, episode_reward=52, running_reward=39.3]"
     ]
    },
    {
     "name": "stderr",
     "output_type": "stream",
     "text": [
      "\r",
      "Episode 230:   2%|▏         | 231/10000 [00:12<11:06, 14.66it/s, episode_reward=52, running_reward=39.3]"
     ]
    },
    {
     "name": "stderr",
     "output_type": "stream",
     "text": [
      "\r",
      "Episode 231:   2%|▏         | 231/10000 [00:12<11:06, 14.66it/s, episode_reward=52, running_reward=39.3]"
     ]
    },
    {
     "name": "stderr",
     "output_type": "stream",
     "text": [
      "\r",
      "Episode 231:   2%|▏         | 231/10000 [00:12<11:06, 14.66it/s, episode_reward=39, running_reward=39.6]"
     ]
    },
    {
     "name": "stderr",
     "output_type": "stream",
     "text": [
      "\r",
      "Episode 232:   2%|▏         | 231/10000 [00:12<11:06, 14.66it/s, episode_reward=39, running_reward=39.6]"
     ]
    },
    {
     "name": "stderr",
     "output_type": "stream",
     "text": [
      "\r",
      "Episode 232:   2%|▏         | 231/10000 [00:12<11:06, 14.66it/s, episode_reward=32, running_reward=39.8]"
     ]
    },
    {
     "name": "stderr",
     "output_type": "stream",
     "text": [
      "\r",
      "Episode 232:   2%|▏         | 233/10000 [00:12<10:17, 15.82it/s, episode_reward=32, running_reward=39.8]"
     ]
    },
    {
     "name": "stderr",
     "output_type": "stream",
     "text": [
      "\r",
      "Episode 233:   2%|▏         | 233/10000 [00:12<10:17, 15.82it/s, episode_reward=32, running_reward=39.8]"
     ]
    },
    {
     "name": "stderr",
     "output_type": "stream",
     "text": [
      "\r",
      "Episode 233:   2%|▏         | 233/10000 [00:12<10:17, 15.82it/s, episode_reward=64, running_reward=40.3]"
     ]
    },
    {
     "name": "stderr",
     "output_type": "stream",
     "text": [
      "\r",
      "Episode 234:   2%|▏         | 233/10000 [00:12<10:17, 15.82it/s, episode_reward=64, running_reward=40.3]"
     ]
    },
    {
     "name": "stderr",
     "output_type": "stream",
     "text": [
      "\r",
      "Episode 234:   2%|▏         | 233/10000 [00:12<10:17, 15.82it/s, episode_reward=54, running_reward=40.7]"
     ]
    },
    {
     "name": "stderr",
     "output_type": "stream",
     "text": [
      "\r",
      "Episode 234:   2%|▏         | 235/10000 [00:12<10:50, 15.01it/s, episode_reward=54, running_reward=40.7]"
     ]
    },
    {
     "name": "stderr",
     "output_type": "stream",
     "text": [
      "\r",
      "Episode 235:   2%|▏         | 235/10000 [00:12<10:50, 15.01it/s, episode_reward=54, running_reward=40.7]"
     ]
    },
    {
     "name": "stderr",
     "output_type": "stream",
     "text": [
      "\r",
      "Episode 235:   2%|▏         | 235/10000 [00:12<10:50, 15.01it/s, episode_reward=33, running_reward=40.9]"
     ]
    },
    {
     "name": "stderr",
     "output_type": "stream",
     "text": [
      "\r",
      "Episode 236:   2%|▏         | 235/10000 [00:12<10:50, 15.01it/s, episode_reward=33, running_reward=40.9]"
     ]
    },
    {
     "name": "stderr",
     "output_type": "stream",
     "text": [
      "\r",
      "Episode 236:   2%|▏         | 235/10000 [00:12<10:50, 15.01it/s, episode_reward=40, running_reward=41.2]"
     ]
    },
    {
     "name": "stderr",
     "output_type": "stream",
     "text": [
      "\r",
      "Episode 237:   2%|▏         | 235/10000 [00:12<10:50, 15.01it/s, episode_reward=40, running_reward=41.2]"
     ]
    },
    {
     "name": "stderr",
     "output_type": "stream",
     "text": [
      "\r",
      "Episode 237:   2%|▏         | 235/10000 [00:12<10:50, 15.01it/s, episode_reward=32, running_reward=41.4]"
     ]
    },
    {
     "name": "stderr",
     "output_type": "stream",
     "text": [
      "\r",
      "Episode 237:   2%|▏         | 238/10000 [00:12<09:39, 16.86it/s, episode_reward=32, running_reward=41.4]"
     ]
    },
    {
     "name": "stderr",
     "output_type": "stream",
     "text": [
      "\r",
      "Episode 238:   2%|▏         | 238/10000 [00:12<09:39, 16.86it/s, episode_reward=32, running_reward=41.4]"
     ]
    },
    {
     "name": "stderr",
     "output_type": "stream",
     "text": [
      "\r",
      "Episode 238:   2%|▏         | 238/10000 [00:12<09:39, 16.86it/s, episode_reward=38, running_reward=41.6]"
     ]
    },
    {
     "name": "stderr",
     "output_type": "stream",
     "text": [
      "\r",
      "Episode 239:   2%|▏         | 238/10000 [00:12<09:39, 16.86it/s, episode_reward=38, running_reward=41.6]"
     ]
    },
    {
     "name": "stderr",
     "output_type": "stream",
     "text": [
      "\r",
      "Episode 239:   2%|▏         | 238/10000 [00:12<09:39, 16.86it/s, episode_reward=26, running_reward=41.7]"
     ]
    },
    {
     "name": "stderr",
     "output_type": "stream",
     "text": [
      "\r",
      "Episode 240:   2%|▏         | 238/10000 [00:12<09:39, 16.86it/s, episode_reward=26, running_reward=41.7]"
     ]
    },
    {
     "name": "stderr",
     "output_type": "stream",
     "text": [
      "\r",
      "Episode 240:   2%|▏         | 238/10000 [00:12<09:39, 16.86it/s, episode_reward=27, running_reward=41.9]"
     ]
    },
    {
     "name": "stderr",
     "output_type": "stream",
     "text": [
      "\r",
      "Episode 240:   2%|▏         | 241/10000 [00:12<08:31, 19.07it/s, episode_reward=27, running_reward=41.9]"
     ]
    },
    {
     "name": "stderr",
     "output_type": "stream",
     "text": [
      "\r",
      "Episode 241:   2%|▏         | 241/10000 [00:12<08:31, 19.07it/s, episode_reward=27, running_reward=41.9]"
     ]
    },
    {
     "name": "stderr",
     "output_type": "stream",
     "text": [
      "\r",
      "Episode 241:   2%|▏         | 241/10000 [00:12<08:31, 19.07it/s, episode_reward=40, running_reward=42.2]"
     ]
    },
    {
     "name": "stderr",
     "output_type": "stream",
     "text": [
      "\r",
      "Episode 242:   2%|▏         | 241/10000 [00:12<08:31, 19.07it/s, episode_reward=40, running_reward=42.2]"
     ]
    },
    {
     "name": "stderr",
     "output_type": "stream",
     "text": [
      "\r",
      "Episode 242:   2%|▏         | 241/10000 [00:12<08:31, 19.07it/s, episode_reward=23, running_reward=42.3]"
     ]
    },
    {
     "name": "stderr",
     "output_type": "stream",
     "text": [
      "\r",
      "Episode 243:   2%|▏         | 241/10000 [00:12<08:31, 19.07it/s, episode_reward=23, running_reward=42.3]"
     ]
    },
    {
     "name": "stderr",
     "output_type": "stream",
     "text": [
      "\r",
      "Episode 243:   2%|▏         | 241/10000 [00:12<08:31, 19.07it/s, episode_reward=15, running_reward=42.4]"
     ]
    },
    {
     "name": "stderr",
     "output_type": "stream",
     "text": [
      "\r",
      "Episode 243:   2%|▏         | 244/10000 [00:12<07:30, 21.66it/s, episode_reward=15, running_reward=42.4]"
     ]
    },
    {
     "name": "stderr",
     "output_type": "stream",
     "text": [
      "\r",
      "Episode 244:   2%|▏         | 244/10000 [00:13<07:30, 21.66it/s, episode_reward=15, running_reward=42.4]"
     ]
    },
    {
     "name": "stderr",
     "output_type": "stream",
     "text": [
      "\r",
      "Episode 244:   2%|▏         | 244/10000 [00:13<07:30, 21.66it/s, episode_reward=22, running_reward=42.5]"
     ]
    },
    {
     "name": "stderr",
     "output_type": "stream",
     "text": [
      "\r",
      "Episode 245:   2%|▏         | 244/10000 [00:13<07:30, 21.66it/s, episode_reward=22, running_reward=42.5]"
     ]
    },
    {
     "name": "stderr",
     "output_type": "stream",
     "text": [
      "\r",
      "Episode 245:   2%|▏         | 244/10000 [00:13<07:30, 21.66it/s, episode_reward=37, running_reward=42.7]"
     ]
    },
    {
     "name": "stderr",
     "output_type": "stream",
     "text": [
      "\r",
      "Episode 246:   2%|▏         | 244/10000 [00:13<07:30, 21.66it/s, episode_reward=37, running_reward=42.7]"
     ]
    },
    {
     "name": "stderr",
     "output_type": "stream",
     "text": [
      "\r",
      "Episode 246:   2%|▏         | 244/10000 [00:13<07:30, 21.66it/s, episode_reward=22, running_reward=42.8]"
     ]
    },
    {
     "name": "stderr",
     "output_type": "stream",
     "text": [
      "\r",
      "Episode 246:   2%|▏         | 247/10000 [00:13<07:02, 23.08it/s, episode_reward=22, running_reward=42.8]"
     ]
    },
    {
     "name": "stderr",
     "output_type": "stream",
     "text": [
      "\r",
      "Episode 247:   2%|▏         | 247/10000 [00:13<07:02, 23.08it/s, episode_reward=22, running_reward=42.8]"
     ]
    },
    {
     "name": "stderr",
     "output_type": "stream",
     "text": [
      "\r",
      "Episode 247:   2%|▏         | 247/10000 [00:13<07:02, 23.08it/s, episode_reward=28, running_reward=43]  "
     ]
    },
    {
     "name": "stderr",
     "output_type": "stream",
     "text": [
      "\r",
      "Episode 248:   2%|▏         | 247/10000 [00:13<07:02, 23.08it/s, episode_reward=28, running_reward=43]"
     ]
    },
    {
     "name": "stderr",
     "output_type": "stream",
     "text": [
      "\r",
      "Episode 248:   2%|▏         | 247/10000 [00:13<07:02, 23.08it/s, episode_reward=27, running_reward=43]"
     ]
    },
    {
     "name": "stderr",
     "output_type": "stream",
     "text": [
      "\r",
      "Episode 249:   2%|▏         | 247/10000 [00:13<07:02, 23.08it/s, episode_reward=27, running_reward=43]"
     ]
    },
    {
     "name": "stderr",
     "output_type": "stream",
     "text": [
      "\r",
      "Episode 249:   2%|▏         | 247/10000 [00:13<07:02, 23.08it/s, episode_reward=31, running_reward=43.3]"
     ]
    },
    {
     "name": "stderr",
     "output_type": "stream",
     "text": [
      "\r",
      "Episode 249:   2%|▎         | 250/10000 [00:13<06:41, 24.29it/s, episode_reward=31, running_reward=43.3]"
     ]
    },
    {
     "name": "stderr",
     "output_type": "stream",
     "text": [
      "\r",
      "Episode 250:   2%|▎         | 250/10000 [00:13<06:41, 24.29it/s, episode_reward=31, running_reward=43.3]"
     ]
    },
    {
     "name": "stderr",
     "output_type": "stream",
     "text": [
      "\r",
      "Episode 250:   2%|▎         | 250/10000 [00:13<06:41, 24.29it/s, episode_reward=17, running_reward=43.3]"
     ]
    },
    {
     "name": "stderr",
     "output_type": "stream",
     "text": [
      "\r",
      "Episode 251:   2%|▎         | 250/10000 [00:13<06:41, 24.29it/s, episode_reward=17, running_reward=43.3]"
     ]
    },
    {
     "name": "stderr",
     "output_type": "stream",
     "text": [
      "\r",
      "Episode 251:   2%|▎         | 250/10000 [00:13<06:41, 24.29it/s, episode_reward=45, running_reward=43.7]"
     ]
    },
    {
     "name": "stderr",
     "output_type": "stream",
     "text": [
      "\r",
      "Episode 252:   2%|▎         | 250/10000 [00:13<06:41, 24.29it/s, episode_reward=45, running_reward=43.7]"
     ]
    },
    {
     "name": "stderr",
     "output_type": "stream",
     "text": [
      "\r",
      "Episode 252:   2%|▎         | 250/10000 [00:13<06:41, 24.29it/s, episode_reward=23, running_reward=43.8]"
     ]
    },
    {
     "name": "stderr",
     "output_type": "stream",
     "text": [
      "\r",
      "Episode 252:   3%|▎         | 253/10000 [00:13<06:28, 25.09it/s, episode_reward=23, running_reward=43.8]"
     ]
    },
    {
     "name": "stderr",
     "output_type": "stream",
     "text": [
      "\r",
      "Episode 253:   3%|▎         | 253/10000 [00:13<06:28, 25.09it/s, episode_reward=23, running_reward=43.8]"
     ]
    },
    {
     "name": "stderr",
     "output_type": "stream",
     "text": [
      "\r",
      "Episode 253:   3%|▎         | 253/10000 [00:13<06:28, 25.09it/s, episode_reward=21, running_reward=43.8]"
     ]
    },
    {
     "name": "stderr",
     "output_type": "stream",
     "text": [
      "\r",
      "Episode 254:   3%|▎         | 253/10000 [00:13<06:28, 25.09it/s, episode_reward=21, running_reward=43.8]"
     ]
    },
    {
     "name": "stderr",
     "output_type": "stream",
     "text": [
      "\r",
      "Episode 254:   3%|▎         | 253/10000 [00:13<06:28, 25.09it/s, episode_reward=21, running_reward=43.9]"
     ]
    },
    {
     "name": "stderr",
     "output_type": "stream",
     "text": [
      "\r",
      "Episode 255:   3%|▎         | 253/10000 [00:13<06:28, 25.09it/s, episode_reward=21, running_reward=43.9]"
     ]
    },
    {
     "name": "stderr",
     "output_type": "stream",
     "text": [
      "\r",
      "Episode 255:   3%|▎         | 253/10000 [00:13<06:28, 25.09it/s, episode_reward=39, running_reward=44.1]"
     ]
    },
    {
     "name": "stderr",
     "output_type": "stream",
     "text": [
      "\r",
      "Episode 255:   3%|▎         | 256/10000 [00:13<06:17, 25.80it/s, episode_reward=39, running_reward=44.1]"
     ]
    },
    {
     "name": "stderr",
     "output_type": "stream",
     "text": [
      "\r",
      "Episode 256:   3%|▎         | 256/10000 [00:13<06:17, 25.80it/s, episode_reward=39, running_reward=44.1]"
     ]
    },
    {
     "name": "stderr",
     "output_type": "stream",
     "text": [
      "\r",
      "Episode 256:   3%|▎         | 256/10000 [00:13<06:17, 25.80it/s, episode_reward=30, running_reward=44.3]"
     ]
    },
    {
     "name": "stderr",
     "output_type": "stream",
     "text": [
      "\r",
      "Episode 257:   3%|▎         | 256/10000 [00:13<06:17, 25.80it/s, episode_reward=30, running_reward=44.3]"
     ]
    },
    {
     "name": "stderr",
     "output_type": "stream",
     "text": [
      "\r",
      "Episode 257:   3%|▎         | 256/10000 [00:13<06:17, 25.80it/s, episode_reward=30, running_reward=44.5]"
     ]
    },
    {
     "name": "stderr",
     "output_type": "stream",
     "text": [
      "\r",
      "Episode 258:   3%|▎         | 256/10000 [00:13<06:17, 25.80it/s, episode_reward=30, running_reward=44.5]"
     ]
    },
    {
     "name": "stderr",
     "output_type": "stream",
     "text": [
      "\r",
      "Episode 258:   3%|▎         | 256/10000 [00:13<06:17, 25.80it/s, episode_reward=24, running_reward=44.5]"
     ]
    },
    {
     "name": "stderr",
     "output_type": "stream",
     "text": [
      "\r",
      "Episode 258:   3%|▎         | 259/10000 [00:13<06:19, 25.66it/s, episode_reward=24, running_reward=44.5]"
     ]
    },
    {
     "name": "stderr",
     "output_type": "stream",
     "text": [
      "\r",
      "Episode 259:   3%|▎         | 259/10000 [00:13<06:19, 25.66it/s, episode_reward=24, running_reward=44.5]"
     ]
    },
    {
     "name": "stderr",
     "output_type": "stream",
     "text": [
      "\r",
      "Episode 259:   3%|▎         | 259/10000 [00:13<06:19, 25.66it/s, episode_reward=31, running_reward=44.6]"
     ]
    },
    {
     "name": "stderr",
     "output_type": "stream",
     "text": [
      "\r",
      "Episode 260:   3%|▎         | 259/10000 [00:13<06:19, 25.66it/s, episode_reward=31, running_reward=44.6]"
     ]
    },
    {
     "name": "stderr",
     "output_type": "stream",
     "text": [
      "\r",
      "Episode 260:   3%|▎         | 259/10000 [00:13<06:19, 25.66it/s, episode_reward=32, running_reward=44.7]"
     ]
    },
    {
     "name": "stderr",
     "output_type": "stream",
     "text": [
      "\r",
      "Episode 261:   3%|▎         | 259/10000 [00:13<06:19, 25.66it/s, episode_reward=32, running_reward=44.7]"
     ]
    },
    {
     "name": "stderr",
     "output_type": "stream",
     "text": [
      "\r",
      "Episode 261:   3%|▎         | 259/10000 [00:13<06:19, 25.66it/s, episode_reward=18, running_reward=44.6]"
     ]
    },
    {
     "name": "stderr",
     "output_type": "stream",
     "text": [
      "\r",
      "Episode 261:   3%|▎         | 262/10000 [00:13<06:19, 25.64it/s, episode_reward=18, running_reward=44.6]"
     ]
    },
    {
     "name": "stderr",
     "output_type": "stream",
     "text": [
      "\r",
      "Episode 262:   3%|▎         | 262/10000 [00:13<06:19, 25.64it/s, episode_reward=18, running_reward=44.6]"
     ]
    },
    {
     "name": "stderr",
     "output_type": "stream",
     "text": [
      "\r",
      "Episode 262:   3%|▎         | 262/10000 [00:13<06:19, 25.64it/s, episode_reward=21, running_reward=44.7]"
     ]
    },
    {
     "name": "stderr",
     "output_type": "stream",
     "text": [
      "\r",
      "Episode 263:   3%|▎         | 262/10000 [00:13<06:19, 25.64it/s, episode_reward=21, running_reward=44.7]"
     ]
    },
    {
     "name": "stderr",
     "output_type": "stream",
     "text": [
      "\r",
      "Episode 263:   3%|▎         | 262/10000 [00:13<06:19, 25.64it/s, episode_reward=23, running_reward=44.8]"
     ]
    },
    {
     "name": "stderr",
     "output_type": "stream",
     "text": [
      "\r",
      "Episode 264:   3%|▎         | 262/10000 [00:13<06:19, 25.64it/s, episode_reward=23, running_reward=44.8]"
     ]
    },
    {
     "name": "stderr",
     "output_type": "stream",
     "text": [
      "\r",
      "Episode 264:   3%|▎         | 262/10000 [00:13<06:19, 25.64it/s, episode_reward=34, running_reward=44.9]"
     ]
    },
    {
     "name": "stderr",
     "output_type": "stream",
     "text": [
      "\r",
      "Episode 264:   3%|▎         | 265/10000 [00:13<06:15, 25.94it/s, episode_reward=34, running_reward=44.9]"
     ]
    },
    {
     "name": "stderr",
     "output_type": "stream",
     "text": [
      "\r",
      "Episode 265:   3%|▎         | 265/10000 [00:13<06:15, 25.94it/s, episode_reward=34, running_reward=44.9]"
     ]
    },
    {
     "name": "stderr",
     "output_type": "stream",
     "text": [
      "\r",
      "Episode 265:   3%|▎         | 265/10000 [00:13<06:15, 25.94it/s, episode_reward=19, running_reward=44.9]"
     ]
    },
    {
     "name": "stderr",
     "output_type": "stream",
     "text": [
      "\r",
      "Episode 266:   3%|▎         | 265/10000 [00:13<06:15, 25.94it/s, episode_reward=19, running_reward=44.9]"
     ]
    },
    {
     "name": "stderr",
     "output_type": "stream",
     "text": [
      "\r",
      "Episode 266:   3%|▎         | 265/10000 [00:13<06:15, 25.94it/s, episode_reward=32, running_reward=45]  "
     ]
    },
    {
     "name": "stderr",
     "output_type": "stream",
     "text": [
      "\r",
      "Episode 267:   3%|▎         | 265/10000 [00:13<06:15, 25.94it/s, episode_reward=32, running_reward=45]"
     ]
    },
    {
     "name": "stderr",
     "output_type": "stream",
     "text": [
      "\r",
      "Episode 267:   3%|▎         | 265/10000 [00:13<06:15, 25.94it/s, episode_reward=41, running_reward=45.2]"
     ]
    },
    {
     "name": "stderr",
     "output_type": "stream",
     "text": [
      "\r",
      "Episode 267:   3%|▎         | 268/10000 [00:13<06:35, 24.62it/s, episode_reward=41, running_reward=45.2]"
     ]
    },
    {
     "name": "stderr",
     "output_type": "stream",
     "text": [
      "\r",
      "Episode 268:   3%|▎         | 268/10000 [00:13<06:35, 24.62it/s, episode_reward=41, running_reward=45.2]"
     ]
    },
    {
     "name": "stderr",
     "output_type": "stream",
     "text": [
      "\r",
      "Episode 268:   3%|▎         | 268/10000 [00:13<06:35, 24.62it/s, episode_reward=42, running_reward=45.4]"
     ]
    },
    {
     "name": "stderr",
     "output_type": "stream",
     "text": [
      "\r",
      "Episode 269:   3%|▎         | 268/10000 [00:14<06:35, 24.62it/s, episode_reward=42, running_reward=45.4]"
     ]
    },
    {
     "name": "stderr",
     "output_type": "stream",
     "text": [
      "\r",
      "Episode 269:   3%|▎         | 268/10000 [00:14<06:35, 24.62it/s, episode_reward=35, running_reward=45.4]"
     ]
    },
    {
     "name": "stderr",
     "output_type": "stream",
     "text": [
      "\r",
      "Episode 270:   3%|▎         | 268/10000 [00:14<06:35, 24.62it/s, episode_reward=35, running_reward=45.4]"
     ]
    },
    {
     "name": "stderr",
     "output_type": "stream",
     "text": [
      "\r",
      "Episode 270:   3%|▎         | 268/10000 [00:14<06:35, 24.62it/s, episode_reward=56, running_reward=45.7]"
     ]
    },
    {
     "name": "stderr",
     "output_type": "stream",
     "text": [
      "\r",
      "Episode 270:   3%|▎         | 271/10000 [00:14<07:32, 21.51it/s, episode_reward=56, running_reward=45.7]"
     ]
    },
    {
     "name": "stderr",
     "output_type": "stream",
     "text": [
      "\r",
      "Episode 271:   3%|▎         | 271/10000 [00:14<07:32, 21.51it/s, episode_reward=56, running_reward=45.7]"
     ]
    },
    {
     "name": "stderr",
     "output_type": "stream",
     "text": [
      "\r",
      "Episode 271:   3%|▎         | 271/10000 [00:14<07:32, 21.51it/s, episode_reward=97, running_reward=46.5]"
     ]
    },
    {
     "name": "stderr",
     "output_type": "stream",
     "text": [
      "\r",
      "Episode 272:   3%|▎         | 271/10000 [00:14<07:32, 21.51it/s, episode_reward=97, running_reward=46.5]"
     ]
    },
    {
     "name": "stderr",
     "output_type": "stream",
     "text": [
      "\r",
      "Episode 272:   3%|▎         | 271/10000 [00:14<07:32, 21.51it/s, episode_reward=35, running_reward=46.5]"
     ]
    },
    {
     "name": "stderr",
     "output_type": "stream",
     "text": [
      "\r",
      "Episode 273:   3%|▎         | 271/10000 [00:14<07:32, 21.51it/s, episode_reward=35, running_reward=46.5]"
     ]
    },
    {
     "name": "stderr",
     "output_type": "stream",
     "text": [
      "\r",
      "Episode 273:   3%|▎         | 271/10000 [00:14<07:32, 21.51it/s, episode_reward=35, running_reward=46.7]"
     ]
    },
    {
     "name": "stderr",
     "output_type": "stream",
     "text": [
      "\r",
      "Episode 273:   3%|▎         | 274/10000 [00:14<08:45, 18.52it/s, episode_reward=35, running_reward=46.7]"
     ]
    },
    {
     "name": "stderr",
     "output_type": "stream",
     "text": [
      "\r",
      "Episode 274:   3%|▎         | 274/10000 [00:14<08:45, 18.52it/s, episode_reward=35, running_reward=46.7]"
     ]
    },
    {
     "name": "stderr",
     "output_type": "stream",
     "text": [
      "\r",
      "Episode 274:   3%|▎         | 274/10000 [00:14<08:45, 18.52it/s, episode_reward=48, running_reward=46.9]"
     ]
    },
    {
     "name": "stderr",
     "output_type": "stream",
     "text": [
      "\r",
      "Episode 275:   3%|▎         | 274/10000 [00:14<08:45, 18.52it/s, episode_reward=48, running_reward=46.9]"
     ]
    },
    {
     "name": "stderr",
     "output_type": "stream",
     "text": [
      "\r",
      "Episode 275:   3%|▎         | 274/10000 [00:14<08:45, 18.52it/s, episode_reward=54, running_reward=47.1]"
     ]
    },
    {
     "name": "stderr",
     "output_type": "stream",
     "text": [
      "\r",
      "Episode 275:   3%|▎         | 276/10000 [00:14<09:15, 17.49it/s, episode_reward=54, running_reward=47.1]"
     ]
    },
    {
     "name": "stderr",
     "output_type": "stream",
     "text": [
      "\r",
      "Episode 276:   3%|▎         | 276/10000 [00:14<09:15, 17.49it/s, episode_reward=54, running_reward=47.1]"
     ]
    },
    {
     "name": "stderr",
     "output_type": "stream",
     "text": [
      "\r",
      "Episode 276:   3%|▎         | 276/10000 [00:14<09:15, 17.49it/s, episode_reward=27, running_reward=47.1]"
     ]
    },
    {
     "name": "stderr",
     "output_type": "stream",
     "text": [
      "\r",
      "Episode 277:   3%|▎         | 276/10000 [00:14<09:15, 17.49it/s, episode_reward=27, running_reward=47.1]"
     ]
    },
    {
     "name": "stderr",
     "output_type": "stream",
     "text": [
      "\r",
      "Episode 277:   3%|▎         | 276/10000 [00:14<09:15, 17.49it/s, episode_reward=47, running_reward=47.4]"
     ]
    },
    {
     "name": "stderr",
     "output_type": "stream",
     "text": [
      "\r",
      "Episode 278:   3%|▎         | 276/10000 [00:14<09:15, 17.49it/s, episode_reward=47, running_reward=47.4]"
     ]
    },
    {
     "name": "stderr",
     "output_type": "stream",
     "text": [
      "\r",
      "Episode 278:   3%|▎         | 276/10000 [00:14<09:15, 17.49it/s, episode_reward=81, running_reward=48]  "
     ]
    },
    {
     "name": "stderr",
     "output_type": "stream",
     "text": [
      "\r",
      "Episode 278:   3%|▎         | 279/10000 [00:14<09:44, 16.64it/s, episode_reward=81, running_reward=48]"
     ]
    },
    {
     "name": "stderr",
     "output_type": "stream",
     "text": [
      "\r",
      "Episode 279:   3%|▎         | 279/10000 [00:14<09:44, 16.64it/s, episode_reward=81, running_reward=48]"
     ]
    },
    {
     "name": "stderr",
     "output_type": "stream",
     "text": [
      "\r",
      "Episode 279:   3%|▎         | 279/10000 [00:14<09:44, 16.64it/s, episode_reward=46, running_reward=48.2]"
     ]
    },
    {
     "name": "stderr",
     "output_type": "stream",
     "text": [
      "\r",
      "Episode 280:   3%|▎         | 279/10000 [00:14<09:44, 16.64it/s, episode_reward=46, running_reward=48.2]"
     ]
    },
    {
     "name": "stderr",
     "output_type": "stream",
     "text": [
      "\r",
      "Episode 280:   3%|▎         | 279/10000 [00:14<09:44, 16.64it/s, episode_reward=46, running_reward=48.1]"
     ]
    },
    {
     "name": "stderr",
     "output_type": "stream",
     "text": [
      "\r",
      "Episode 280:   3%|▎         | 281/10000 [00:14<09:38, 16.81it/s, episode_reward=46, running_reward=48.1]"
     ]
    },
    {
     "name": "stderr",
     "output_type": "stream",
     "text": [
      "\r",
      "Episode 281:   3%|▎         | 281/10000 [00:14<09:38, 16.81it/s, episode_reward=46, running_reward=48.1]"
     ]
    },
    {
     "name": "stderr",
     "output_type": "stream",
     "text": [
      "\r",
      "Episode 281:   3%|▎         | 281/10000 [00:14<09:38, 16.81it/s, episode_reward=57, running_reward=48.1]"
     ]
    },
    {
     "name": "stderr",
     "output_type": "stream",
     "text": [
      "\r",
      "Episode 282:   3%|▎         | 281/10000 [00:14<09:38, 16.81it/s, episode_reward=57, running_reward=48.1]"
     ]
    },
    {
     "name": "stderr",
     "output_type": "stream",
     "text": [
      "\r",
      "Episode 282:   3%|▎         | 281/10000 [00:14<09:38, 16.81it/s, episode_reward=96, running_reward=48.6]"
     ]
    },
    {
     "name": "stderr",
     "output_type": "stream",
     "text": [
      "\r",
      "Episode 282:   3%|▎         | 283/10000 [00:14<11:03, 14.64it/s, episode_reward=96, running_reward=48.6]"
     ]
    },
    {
     "name": "stderr",
     "output_type": "stream",
     "text": [
      "\r",
      "Episode 283:   3%|▎         | 283/10000 [00:15<11:03, 14.64it/s, episode_reward=96, running_reward=48.6]"
     ]
    },
    {
     "name": "stderr",
     "output_type": "stream",
     "text": [
      "\r",
      "Episode 283:   3%|▎         | 283/10000 [00:15<11:03, 14.64it/s, episode_reward=106, running_reward=48.9]"
     ]
    },
    {
     "name": "stderr",
     "output_type": "stream",
     "text": [
      "\r",
      "Episode 284:   3%|▎         | 283/10000 [00:15<11:03, 14.64it/s, episode_reward=106, running_reward=48.9]"
     ]
    },
    {
     "name": "stderr",
     "output_type": "stream",
     "text": [
      "\r",
      "Episode 284:   3%|▎         | 283/10000 [00:15<11:03, 14.64it/s, episode_reward=56, running_reward=48.9] "
     ]
    },
    {
     "name": "stderr",
     "output_type": "stream",
     "text": [
      "\r",
      "Episode 284:   3%|▎         | 285/10000 [00:15<12:26, 13.02it/s, episode_reward=56, running_reward=48.9]"
     ]
    },
    {
     "name": "stderr",
     "output_type": "stream",
     "text": [
      "\r",
      "Episode 285:   3%|▎         | 285/10000 [00:15<12:26, 13.02it/s, episode_reward=56, running_reward=48.9]"
     ]
    },
    {
     "name": "stderr",
     "output_type": "stream",
     "text": [
      "\r",
      "Episode 285:   3%|▎         | 285/10000 [00:15<12:26, 13.02it/s, episode_reward=102, running_reward=49.5]"
     ]
    },
    {
     "name": "stderr",
     "output_type": "stream",
     "text": [
      "\r",
      "Episode 286:   3%|▎         | 285/10000 [00:15<12:26, 13.02it/s, episode_reward=102, running_reward=49.5]"
     ]
    },
    {
     "name": "stderr",
     "output_type": "stream",
     "text": [
      "\r",
      "Episode 286:   3%|▎         | 285/10000 [00:15<12:26, 13.02it/s, episode_reward=77, running_reward=49.7] "
     ]
    },
    {
     "name": "stderr",
     "output_type": "stream",
     "text": [
      "\r",
      "Episode 286:   3%|▎         | 287/10000 [00:15<13:57, 11.59it/s, episode_reward=77, running_reward=49.7]"
     ]
    },
    {
     "name": "stderr",
     "output_type": "stream",
     "text": [
      "\r",
      "Episode 287:   3%|▎         | 287/10000 [00:15<13:57, 11.59it/s, episode_reward=77, running_reward=49.7]"
     ]
    },
    {
     "name": "stderr",
     "output_type": "stream",
     "text": [
      "\r",
      "Episode 287:   3%|▎         | 287/10000 [00:15<13:57, 11.59it/s, episode_reward=55, running_reward=49.9]"
     ]
    },
    {
     "name": "stderr",
     "output_type": "stream",
     "text": [
      "\r",
      "Episode 288:   3%|▎         | 287/10000 [00:15<13:57, 11.59it/s, episode_reward=55, running_reward=49.9]"
     ]
    },
    {
     "name": "stderr",
     "output_type": "stream",
     "text": [
      "\r",
      "Episode 288:   3%|▎         | 287/10000 [00:15<13:57, 11.59it/s, episode_reward=79, running_reward=50.1]"
     ]
    },
    {
     "name": "stderr",
     "output_type": "stream",
     "text": [
      "\r",
      "Episode 288:   3%|▎         | 289/10000 [00:15<13:58, 11.57it/s, episode_reward=79, running_reward=50.1]"
     ]
    },
    {
     "name": "stderr",
     "output_type": "stream",
     "text": [
      "\r",
      "Episode 289:   3%|▎         | 289/10000 [00:15<13:58, 11.57it/s, episode_reward=79, running_reward=50.1]"
     ]
    },
    {
     "name": "stderr",
     "output_type": "stream",
     "text": [
      "\r",
      "Episode 289:   3%|▎         | 289/10000 [00:15<13:58, 11.57it/s, episode_reward=64, running_reward=50.1]"
     ]
    },
    {
     "name": "stderr",
     "output_type": "stream",
     "text": [
      "\r",
      "Episode 290:   3%|▎         | 289/10000 [00:15<13:58, 11.57it/s, episode_reward=64, running_reward=50.1]"
     ]
    },
    {
     "name": "stderr",
     "output_type": "stream",
     "text": [
      "\r",
      "Episode 290:   3%|▎         | 289/10000 [00:15<13:58, 11.57it/s, episode_reward=92, running_reward=50.2]"
     ]
    },
    {
     "name": "stderr",
     "output_type": "stream",
     "text": [
      "\r",
      "Episode 290:   3%|▎         | 291/10000 [00:15<14:49, 10.91it/s, episode_reward=92, running_reward=50.2]"
     ]
    },
    {
     "name": "stderr",
     "output_type": "stream",
     "text": [
      "\r",
      "Episode 291:   3%|▎         | 291/10000 [00:15<14:49, 10.91it/s, episode_reward=92, running_reward=50.2]"
     ]
    },
    {
     "name": "stderr",
     "output_type": "stream",
     "text": [
      "\r",
      "Episode 291:   3%|▎         | 291/10000 [00:15<14:49, 10.91it/s, episode_reward=98, running_reward=50.3]"
     ]
    },
    {
     "name": "stderr",
     "output_type": "stream",
     "text": [
      "\r",
      "Episode 292:   3%|▎         | 291/10000 [00:15<14:49, 10.91it/s, episode_reward=98, running_reward=50.3]"
     ]
    },
    {
     "name": "stderr",
     "output_type": "stream",
     "text": [
      "\r",
      "Episode 292:   3%|▎         | 291/10000 [00:15<14:49, 10.91it/s, episode_reward=92, running_reward=50.4]"
     ]
    },
    {
     "name": "stderr",
     "output_type": "stream",
     "text": [
      "\r",
      "Episode 292:   3%|▎         | 293/10000 [00:15<16:21,  9.89it/s, episode_reward=92, running_reward=50.4]"
     ]
    },
    {
     "name": "stderr",
     "output_type": "stream",
     "text": [
      "\r",
      "Episode 293:   3%|▎         | 293/10000 [00:16<16:21,  9.89it/s, episode_reward=92, running_reward=50.4]"
     ]
    },
    {
     "name": "stderr",
     "output_type": "stream",
     "text": [
      "\r",
      "Episode 293:   3%|▎         | 293/10000 [00:16<16:21,  9.89it/s, episode_reward=98, running_reward=50.6]"
     ]
    },
    {
     "name": "stderr",
     "output_type": "stream",
     "text": [
      "\r",
      "Episode 294:   3%|▎         | 293/10000 [00:16<16:21,  9.89it/s, episode_reward=98, running_reward=50.6]"
     ]
    },
    {
     "name": "stderr",
     "output_type": "stream",
     "text": [
      "\r",
      "Episode 294:   3%|▎         | 293/10000 [00:16<16:21,  9.89it/s, episode_reward=70, running_reward=50.6]"
     ]
    },
    {
     "name": "stderr",
     "output_type": "stream",
     "text": [
      "\r",
      "Episode 294:   3%|▎         | 295/10000 [00:16<16:56,  9.55it/s, episode_reward=70, running_reward=50.6]"
     ]
    },
    {
     "name": "stderr",
     "output_type": "stream",
     "text": [
      "\r",
      "Episode 295:   3%|▎         | 295/10000 [00:16<16:56,  9.55it/s, episode_reward=70, running_reward=50.6]"
     ]
    },
    {
     "name": "stderr",
     "output_type": "stream",
     "text": [
      "\r",
      "Episode 295:   3%|▎         | 295/10000 [00:16<16:56,  9.55it/s, episode_reward=73, running_reward=49.5]"
     ]
    },
    {
     "name": "stderr",
     "output_type": "stream",
     "text": [
      "\r",
      "Episode 295:   3%|▎         | 296/10000 [00:16<16:55,  9.56it/s, episode_reward=73, running_reward=49.5]"
     ]
    },
    {
     "name": "stderr",
     "output_type": "stream",
     "text": [
      "\r",
      "Episode 296:   3%|▎         | 296/10000 [00:16<16:55,  9.56it/s, episode_reward=73, running_reward=49.5]"
     ]
    },
    {
     "name": "stderr",
     "output_type": "stream",
     "text": [
      "\r",
      "Episode 296:   3%|▎         | 296/10000 [00:16<16:55,  9.56it/s, episode_reward=79, running_reward=49.6]"
     ]
    },
    {
     "name": "stderr",
     "output_type": "stream",
     "text": [
      "\r",
      "Episode 296:   3%|▎         | 297/10000 [00:16<17:03,  9.48it/s, episode_reward=79, running_reward=49.6]"
     ]
    },
    {
     "name": "stderr",
     "output_type": "stream",
     "text": [
      "\r",
      "Episode 297:   3%|▎         | 297/10000 [00:16<17:03,  9.48it/s, episode_reward=79, running_reward=49.6]"
     ]
    },
    {
     "name": "stderr",
     "output_type": "stream",
     "text": [
      "\r",
      "Episode 297:   3%|▎         | 297/10000 [00:16<17:03,  9.48it/s, episode_reward=110, running_reward=50] "
     ]
    },
    {
     "name": "stderr",
     "output_type": "stream",
     "text": [
      "\r",
      "Episode 297:   3%|▎         | 298/10000 [00:16<18:27,  8.76it/s, episode_reward=110, running_reward=50]"
     ]
    },
    {
     "name": "stderr",
     "output_type": "stream",
     "text": [
      "\r",
      "Episode 298:   3%|▎         | 298/10000 [00:16<18:27,  8.76it/s, episode_reward=110, running_reward=50]"
     ]
    },
    {
     "name": "stderr",
     "output_type": "stream",
     "text": [
      "\r",
      "Episode 298:   3%|▎         | 298/10000 [00:16<18:27,  8.76it/s, episode_reward=77, running_reward=50.3]"
     ]
    },
    {
     "name": "stderr",
     "output_type": "stream",
     "text": [
      "\r",
      "Episode 298:   3%|▎         | 299/10000 [00:16<18:06,  8.92it/s, episode_reward=77, running_reward=50.3]"
     ]
    },
    {
     "name": "stderr",
     "output_type": "stream",
     "text": [
      "\r",
      "Episode 299:   3%|▎         | 299/10000 [00:16<18:06,  8.92it/s, episode_reward=77, running_reward=50.3]"
     ]
    },
    {
     "name": "stderr",
     "output_type": "stream",
     "text": [
      "\r",
      "Episode 299:   3%|▎         | 299/10000 [00:16<18:06,  8.92it/s, episode_reward=79, running_reward=50.1]"
     ]
    },
    {
     "name": "stderr",
     "output_type": "stream",
     "text": [
      "\r",
      "Episode 299:   3%|▎         | 300/10000 [00:16<17:45,  9.11it/s, episode_reward=79, running_reward=50.1]"
     ]
    },
    {
     "name": "stderr",
     "output_type": "stream",
     "text": [
      "\r",
      "Episode 300:   3%|▎         | 300/10000 [00:16<17:45,  9.11it/s, episode_reward=79, running_reward=50.1]"
     ]
    },
    {
     "name": "stderr",
     "output_type": "stream",
     "text": [
      "\r",
      "Episode 300:   3%|▎         | 300/10000 [00:16<17:45,  9.11it/s, episode_reward=74, running_reward=50]  "
     ]
    },
    {
     "name": "stderr",
     "output_type": "stream",
     "text": [
      "\r",
      "Episode 301:   3%|▎         | 300/10000 [00:17<17:45,  9.11it/s, episode_reward=74, running_reward=50]"
     ]
    },
    {
     "name": "stderr",
     "output_type": "stream",
     "text": [
      "\r",
      "Episode 301:   3%|▎         | 300/10000 [00:17<17:45,  9.11it/s, episode_reward=109, running_reward=50.6]"
     ]
    },
    {
     "name": "stderr",
     "output_type": "stream",
     "text": [
      "\r",
      "Episode 301:   3%|▎         | 302/10000 [00:17<18:32,  8.72it/s, episode_reward=109, running_reward=50.6]"
     ]
    },
    {
     "name": "stderr",
     "output_type": "stream",
     "text": [
      "\r",
      "Episode 302:   3%|▎         | 302/10000 [00:17<18:32,  8.72it/s, episode_reward=109, running_reward=50.6]"
     ]
    },
    {
     "name": "stderr",
     "output_type": "stream",
     "text": [
      "\r",
      "Episode 302:   3%|▎         | 302/10000 [00:17<18:32,  8.72it/s, episode_reward=103, running_reward=51.2]"
     ]
    },
    {
     "name": "stderr",
     "output_type": "stream",
     "text": [
      "\r",
      "Episode 302:   3%|▎         | 303/10000 [00:17<19:13,  8.41it/s, episode_reward=103, running_reward=51.2]"
     ]
    },
    {
     "name": "stderr",
     "output_type": "stream",
     "text": [
      "\r",
      "Episode 303:   3%|▎         | 303/10000 [00:17<19:13,  8.41it/s, episode_reward=103, running_reward=51.2]"
     ]
    },
    {
     "name": "stderr",
     "output_type": "stream",
     "text": [
      "\r",
      "Episode 303:   3%|▎         | 303/10000 [00:17<19:13,  8.41it/s, episode_reward=87, running_reward=51.4] "
     ]
    },
    {
     "name": "stderr",
     "output_type": "stream",
     "text": [
      "\r",
      "Episode 303:   3%|▎         | 304/10000 [00:17<18:50,  8.57it/s, episode_reward=87, running_reward=51.4]"
     ]
    },
    {
     "name": "stderr",
     "output_type": "stream",
     "text": [
      "\r",
      "Episode 304:   3%|▎         | 304/10000 [00:17<18:50,  8.57it/s, episode_reward=87, running_reward=51.4]"
     ]
    },
    {
     "name": "stderr",
     "output_type": "stream",
     "text": [
      "\r",
      "Episode 304:   3%|▎         | 304/10000 [00:17<18:50,  8.57it/s, episode_reward=90, running_reward=51.2]"
     ]
    },
    {
     "name": "stderr",
     "output_type": "stream",
     "text": [
      "\r",
      "Episode 304:   3%|▎         | 305/10000 [00:17<18:31,  8.73it/s, episode_reward=90, running_reward=51.2]"
     ]
    },
    {
     "name": "stderr",
     "output_type": "stream",
     "text": [
      "\r",
      "Episode 305:   3%|▎         | 305/10000 [00:17<18:31,  8.73it/s, episode_reward=90, running_reward=51.2]"
     ]
    },
    {
     "name": "stderr",
     "output_type": "stream",
     "text": [
      "\r",
      "Episode 305:   3%|▎         | 305/10000 [00:17<18:31,  8.73it/s, episode_reward=109, running_reward=52] "
     ]
    },
    {
     "name": "stderr",
     "output_type": "stream",
     "text": [
      "\r",
      "Episode 305:   3%|▎         | 306/10000 [00:17<19:10,  8.43it/s, episode_reward=109, running_reward=52]"
     ]
    },
    {
     "name": "stderr",
     "output_type": "stream",
     "text": [
      "\r",
      "Episode 306:   3%|▎         | 306/10000 [00:17<19:10,  8.43it/s, episode_reward=109, running_reward=52]"
     ]
    },
    {
     "name": "stderr",
     "output_type": "stream",
     "text": [
      "\r",
      "Episode 306:   3%|▎         | 306/10000 [00:17<19:10,  8.43it/s, episode_reward=104, running_reward=52.5]"
     ]
    },
    {
     "name": "stderr",
     "output_type": "stream",
     "text": [
      "\r",
      "Episode 306:   3%|▎         | 307/10000 [00:17<19:23,  8.33it/s, episode_reward=104, running_reward=52.5]"
     ]
    },
    {
     "name": "stderr",
     "output_type": "stream",
     "text": [
      "\r",
      "Episode 307:   3%|▎         | 307/10000 [00:17<19:23,  8.33it/s, episode_reward=104, running_reward=52.5]"
     ]
    },
    {
     "name": "stderr",
     "output_type": "stream",
     "text": [
      "\r",
      "Episode 307:   3%|▎         | 307/10000 [00:17<19:23,  8.33it/s, episode_reward=150, running_reward=53.4]"
     ]
    },
    {
     "name": "stderr",
     "output_type": "stream",
     "text": [
      "\r",
      "Episode 307:   3%|▎         | 308/10000 [00:17<22:05,  7.31it/s, episode_reward=150, running_reward=53.4]"
     ]
    },
    {
     "name": "stderr",
     "output_type": "stream",
     "text": [
      "\r",
      "Episode 308:   3%|▎         | 308/10000 [00:17<22:05,  7.31it/s, episode_reward=150, running_reward=53.4]"
     ]
    },
    {
     "name": "stderr",
     "output_type": "stream",
     "text": [
      "\r",
      "Episode 308:   3%|▎         | 308/10000 [00:17<22:05,  7.31it/s, episode_reward=100, running_reward=54.1]"
     ]
    },
    {
     "name": "stderr",
     "output_type": "stream",
     "text": [
      "\r",
      "Episode 308:   3%|▎         | 309/10000 [00:17<21:19,  7.57it/s, episode_reward=100, running_reward=54.1]"
     ]
    },
    {
     "name": "stderr",
     "output_type": "stream",
     "text": [
      "\r",
      "Episode 309:   3%|▎         | 309/10000 [00:18<21:19,  7.57it/s, episode_reward=100, running_reward=54.1]"
     ]
    },
    {
     "name": "stderr",
     "output_type": "stream",
     "text": [
      "\r",
      "Episode 309:   3%|▎         | 309/10000 [00:18<21:19,  7.57it/s, episode_reward=200, running_reward=55.8]"
     ]
    },
    {
     "name": "stderr",
     "output_type": "stream",
     "text": [
      "\r",
      "Episode 309:   3%|▎         | 310/10000 [00:18<26:02,  6.20it/s, episode_reward=200, running_reward=55.8]"
     ]
    },
    {
     "name": "stderr",
     "output_type": "stream",
     "text": [
      "\r",
      "Episode 310:   3%|▎         | 310/10000 [00:18<26:02,  6.20it/s, episode_reward=200, running_reward=55.8]"
     ]
    },
    {
     "name": "stderr",
     "output_type": "stream",
     "text": [
      "\r",
      "Episode 310:   3%|▎         | 310/10000 [00:18<26:02,  6.20it/s, episode_reward=107, running_reward=56.5]"
     ]
    },
    {
     "name": "stderr",
     "output_type": "stream",
     "text": [
      "\r",
      "Episode 310:   3%|▎         | 311/10000 [00:18<24:30,  6.59it/s, episode_reward=107, running_reward=56.5]"
     ]
    },
    {
     "name": "stderr",
     "output_type": "stream",
     "text": [
      "\r",
      "Episode 311:   3%|▎         | 311/10000 [00:18<24:30,  6.59it/s, episode_reward=107, running_reward=56.5]"
     ]
    },
    {
     "name": "stderr",
     "output_type": "stream",
     "text": [
      "\r",
      "Episode 311:   3%|▎         | 311/10000 [00:18<24:30,  6.59it/s, episode_reward=102, running_reward=57.1]"
     ]
    },
    {
     "name": "stderr",
     "output_type": "stream",
     "text": [
      "\r",
      "Episode 311:   3%|▎         | 312/10000 [00:18<23:08,  6.98it/s, episode_reward=102, running_reward=57.1]"
     ]
    },
    {
     "name": "stderr",
     "output_type": "stream",
     "text": [
      "\r",
      "Episode 312:   3%|▎         | 312/10000 [00:18<23:08,  6.98it/s, episode_reward=102, running_reward=57.1]"
     ]
    },
    {
     "name": "stderr",
     "output_type": "stream",
     "text": [
      "\r",
      "Episode 312:   3%|▎         | 312/10000 [00:18<23:08,  6.98it/s, episode_reward=150, running_reward=58.4]"
     ]
    },
    {
     "name": "stderr",
     "output_type": "stream",
     "text": [
      "\r",
      "Episode 312:   3%|▎         | 313/10000 [00:18<24:46,  6.51it/s, episode_reward=150, running_reward=58.4]"
     ]
    },
    {
     "name": "stderr",
     "output_type": "stream",
     "text": [
      "\r",
      "Episode 313:   3%|▎         | 313/10000 [00:18<24:46,  6.51it/s, episode_reward=150, running_reward=58.4]"
     ]
    },
    {
     "name": "stderr",
     "output_type": "stream",
     "text": [
      "\r",
      "Episode 313:   3%|▎         | 313/10000 [00:18<24:46,  6.51it/s, episode_reward=177, running_reward=59.8]"
     ]
    },
    {
     "name": "stderr",
     "output_type": "stream",
     "text": [
      "\r",
      "Episode 313:   3%|▎         | 314/10000 [00:18<27:09,  5.94it/s, episode_reward=177, running_reward=59.8]"
     ]
    },
    {
     "name": "stderr",
     "output_type": "stream",
     "text": [
      "\r",
      "Episode 314:   3%|▎         | 314/10000 [00:18<27:09,  5.94it/s, episode_reward=177, running_reward=59.8]"
     ]
    },
    {
     "name": "stderr",
     "output_type": "stream",
     "text": [
      "\r",
      "Episode 314:   3%|▎         | 314/10000 [00:18<27:09,  5.94it/s, episode_reward=125, running_reward=60.6]"
     ]
    },
    {
     "name": "stderr",
     "output_type": "stream",
     "text": [
      "\r",
      "Episode 314:   3%|▎         | 315/10000 [00:18<26:11,  6.16it/s, episode_reward=125, running_reward=60.6]"
     ]
    },
    {
     "name": "stderr",
     "output_type": "stream",
     "text": [
      "\r",
      "Episode 315:   3%|▎         | 315/10000 [00:19<26:11,  6.16it/s, episode_reward=125, running_reward=60.6]"
     ]
    },
    {
     "name": "stderr",
     "output_type": "stream",
     "text": [
      "\r",
      "Episode 315:   3%|▎         | 315/10000 [00:19<26:11,  6.16it/s, episode_reward=144, running_reward=61.5]"
     ]
    },
    {
     "name": "stderr",
     "output_type": "stream",
     "text": [
      "\r",
      "Episode 315:   3%|▎         | 316/10000 [00:19<26:31,  6.08it/s, episode_reward=144, running_reward=61.5]"
     ]
    },
    {
     "name": "stderr",
     "output_type": "stream",
     "text": [
      "\r",
      "Episode 316:   3%|▎         | 316/10000 [00:19<26:31,  6.08it/s, episode_reward=144, running_reward=61.5]"
     ]
    },
    {
     "name": "stderr",
     "output_type": "stream",
     "text": [
      "\r",
      "Episode 316:   3%|▎         | 316/10000 [00:19<26:31,  6.08it/s, episode_reward=142, running_reward=62]  "
     ]
    },
    {
     "name": "stderr",
     "output_type": "stream",
     "text": [
      "\r",
      "Episode 316:   3%|▎         | 317/10000 [00:19<26:42,  6.04it/s, episode_reward=142, running_reward=62]"
     ]
    },
    {
     "name": "stderr",
     "output_type": "stream",
     "text": [
      "\r",
      "Episode 317:   3%|▎         | 317/10000 [00:19<26:42,  6.04it/s, episode_reward=142, running_reward=62]"
     ]
    },
    {
     "name": "stderr",
     "output_type": "stream",
     "text": [
      "\r",
      "Episode 317:   3%|▎         | 317/10000 [00:19<26:42,  6.04it/s, episode_reward=130, running_reward=62.7]"
     ]
    },
    {
     "name": "stderr",
     "output_type": "stream",
     "text": [
      "\r",
      "Episode 317:   3%|▎         | 318/10000 [00:19<26:15,  6.15it/s, episode_reward=130, running_reward=62.7]"
     ]
    },
    {
     "name": "stderr",
     "output_type": "stream",
     "text": [
      "\r",
      "Episode 318:   3%|▎         | 318/10000 [00:19<26:15,  6.15it/s, episode_reward=130, running_reward=62.7]"
     ]
    },
    {
     "name": "stderr",
     "output_type": "stream",
     "text": [
      "\r",
      "Episode 318:   3%|▎         | 318/10000 [00:19<26:15,  6.15it/s, episode_reward=106, running_reward=63]  "
     ]
    },
    {
     "name": "stderr",
     "output_type": "stream",
     "text": [
      "\r",
      "Episode 318:   3%|▎         | 319/10000 [00:19<24:36,  6.56it/s, episode_reward=106, running_reward=63]"
     ]
    },
    {
     "name": "stderr",
     "output_type": "stream",
     "text": [
      "\r",
      "Episode 319:   3%|▎         | 319/10000 [00:19<24:36,  6.56it/s, episode_reward=106, running_reward=63]"
     ]
    },
    {
     "name": "stderr",
     "output_type": "stream",
     "text": [
      "\r",
      "Episode 319:   3%|▎         | 319/10000 [00:19<24:36,  6.56it/s, episode_reward=162, running_reward=64.1]"
     ]
    },
    {
     "name": "stderr",
     "output_type": "stream",
     "text": [
      "\r",
      "Episode 319:   3%|▎         | 320/10000 [00:19<27:10,  5.94it/s, episode_reward=162, running_reward=64.1]"
     ]
    },
    {
     "name": "stderr",
     "output_type": "stream",
     "text": [
      "\r",
      "Episode 320:   3%|▎         | 320/10000 [00:19<27:10,  5.94it/s, episode_reward=162, running_reward=64.1]"
     ]
    },
    {
     "name": "stderr",
     "output_type": "stream",
     "text": [
      "\r",
      "Episode 320:   3%|▎         | 320/10000 [00:19<27:10,  5.94it/s, episode_reward=93, running_reward=64.2] "
     ]
    },
    {
     "name": "stderr",
     "output_type": "stream",
     "text": [
      "\r",
      "Episode 320:   3%|▎         | 321/10000 [00:19<24:47,  6.50it/s, episode_reward=93, running_reward=64.2]"
     ]
    },
    {
     "name": "stderr",
     "output_type": "stream",
     "text": [
      "\r",
      "Episode 321:   3%|▎         | 321/10000 [00:20<24:47,  6.50it/s, episode_reward=93, running_reward=64.2]"
     ]
    },
    {
     "name": "stderr",
     "output_type": "stream",
     "text": [
      "\r",
      "Episode 321:   3%|▎         | 321/10000 [00:20<24:47,  6.50it/s, episode_reward=155, running_reward=65.4]"
     ]
    },
    {
     "name": "stderr",
     "output_type": "stream",
     "text": [
      "\r",
      "Episode 321:   3%|▎         | 322/10000 [00:20<26:25,  6.10it/s, episode_reward=155, running_reward=65.4]"
     ]
    },
    {
     "name": "stderr",
     "output_type": "stream",
     "text": [
      "\r",
      "Episode 322:   3%|▎         | 322/10000 [00:20<26:25,  6.10it/s, episode_reward=155, running_reward=65.4]"
     ]
    },
    {
     "name": "stderr",
     "output_type": "stream",
     "text": [
      "\r",
      "Episode 322:   3%|▎         | 322/10000 [00:20<26:25,  6.10it/s, episode_reward=130, running_reward=66.3]"
     ]
    },
    {
     "name": "stderr",
     "output_type": "stream",
     "text": [
      "\r",
      "Episode 322:   3%|▎         | 323/10000 [00:20<26:08,  6.17it/s, episode_reward=130, running_reward=66.3]"
     ]
    },
    {
     "name": "stderr",
     "output_type": "stream",
     "text": [
      "\r",
      "Episode 323:   3%|▎         | 323/10000 [00:20<26:08,  6.17it/s, episode_reward=130, running_reward=66.3]"
     ]
    },
    {
     "name": "stderr",
     "output_type": "stream",
     "text": [
      "\r",
      "Episode 323:   3%|▎         | 323/10000 [00:20<26:08,  6.17it/s, episode_reward=110, running_reward=66.5]"
     ]
    },
    {
     "name": "stderr",
     "output_type": "stream",
     "text": [
      "\r",
      "Episode 323:   3%|▎         | 324/10000 [00:20<24:57,  6.46it/s, episode_reward=110, running_reward=66.5]"
     ]
    },
    {
     "name": "stderr",
     "output_type": "stream",
     "text": [
      "\r",
      "Episode 324:   3%|▎         | 324/10000 [00:20<24:57,  6.46it/s, episode_reward=110, running_reward=66.5]"
     ]
    },
    {
     "name": "stderr",
     "output_type": "stream",
     "text": [
      "\r",
      "Episode 324:   3%|▎         | 324/10000 [00:20<24:57,  6.46it/s, episode_reward=143, running_reward=67.5]"
     ]
    },
    {
     "name": "stderr",
     "output_type": "stream",
     "text": [
      "\r",
      "Episode 324:   3%|▎         | 325/10000 [00:20<25:37,  6.29it/s, episode_reward=143, running_reward=67.5]"
     ]
    },
    {
     "name": "stderr",
     "output_type": "stream",
     "text": [
      "\r",
      "Episode 325:   3%|▎         | 325/10000 [00:20<25:37,  6.29it/s, episode_reward=143, running_reward=67.5]"
     ]
    },
    {
     "name": "stderr",
     "output_type": "stream",
     "text": [
      "\r",
      "Episode 325:   3%|▎         | 325/10000 [00:20<25:37,  6.29it/s, episode_reward=200, running_reward=69.2]"
     ]
    },
    {
     "name": "stderr",
     "output_type": "stream",
     "text": [
      "\r",
      "Episode 325:   3%|▎         | 326/10000 [00:20<29:12,  5.52it/s, episode_reward=200, running_reward=69.2]"
     ]
    },
    {
     "name": "stderr",
     "output_type": "stream",
     "text": [
      "\r",
      "Episode 326:   3%|▎         | 326/10000 [00:20<29:12,  5.52it/s, episode_reward=200, running_reward=69.2]"
     ]
    },
    {
     "name": "stderr",
     "output_type": "stream",
     "text": [
      "\r",
      "Episode 326:   3%|▎         | 326/10000 [00:20<29:12,  5.52it/s, episode_reward=117, running_reward=69.8]"
     ]
    },
    {
     "name": "stderr",
     "output_type": "stream",
     "text": [
      "\r",
      "Episode 326:   3%|▎         | 327/10000 [00:20<27:07,  5.94it/s, episode_reward=117, running_reward=69.8]"
     ]
    },
    {
     "name": "stderr",
     "output_type": "stream",
     "text": [
      "\r",
      "Episode 327:   3%|▎         | 327/10000 [00:21<27:07,  5.94it/s, episode_reward=117, running_reward=69.8]"
     ]
    },
    {
     "name": "stderr",
     "output_type": "stream",
     "text": [
      "\r",
      "Episode 327:   3%|▎         | 327/10000 [00:21<27:07,  5.94it/s, episode_reward=129, running_reward=70.2]"
     ]
    },
    {
     "name": "stderr",
     "output_type": "stream",
     "text": [
      "\r",
      "Episode 327:   3%|▎         | 328/10000 [00:21<26:27,  6.09it/s, episode_reward=129, running_reward=70.2]"
     ]
    },
    {
     "name": "stderr",
     "output_type": "stream",
     "text": [
      "\r",
      "Episode 328:   3%|▎         | 328/10000 [00:21<26:27,  6.09it/s, episode_reward=129, running_reward=70.2]"
     ]
    },
    {
     "name": "stderr",
     "output_type": "stream",
     "text": [
      "\r",
      "Episode 328:   3%|▎         | 328/10000 [00:21<26:27,  6.09it/s, episode_reward=111, running_reward=70.8]"
     ]
    },
    {
     "name": "stderr",
     "output_type": "stream",
     "text": [
      "\r",
      "Episode 328:   3%|▎         | 329/10000 [00:21<25:07,  6.41it/s, episode_reward=111, running_reward=70.8]"
     ]
    },
    {
     "name": "stderr",
     "output_type": "stream",
     "text": [
      "\r",
      "Episode 329:   3%|▎         | 329/10000 [00:21<25:07,  6.41it/s, episode_reward=111, running_reward=70.8]"
     ]
    },
    {
     "name": "stderr",
     "output_type": "stream",
     "text": [
      "\r",
      "Episode 329:   3%|▎         | 329/10000 [00:21<25:07,  6.41it/s, episode_reward=149, running_reward=72]  "
     ]
    },
    {
     "name": "stderr",
     "output_type": "stream",
     "text": [
      "\r",
      "Episode 329:   3%|▎         | 330/10000 [00:21<26:17,  6.13it/s, episode_reward=149, running_reward=72]"
     ]
    },
    {
     "name": "stderr",
     "output_type": "stream",
     "text": [
      "\r",
      "Episode 330:   3%|▎         | 330/10000 [00:21<26:17,  6.13it/s, episode_reward=149, running_reward=72]"
     ]
    },
    {
     "name": "stderr",
     "output_type": "stream",
     "text": [
      "\r",
      "Episode 330:   3%|▎         | 330/10000 [00:21<26:17,  6.13it/s, episode_reward=112, running_reward=72.6]"
     ]
    },
    {
     "name": "stderr",
     "output_type": "stream",
     "text": [
      "\r",
      "Episode 330:   3%|▎         | 331/10000 [00:21<24:58,  6.45it/s, episode_reward=112, running_reward=72.6]"
     ]
    },
    {
     "name": "stderr",
     "output_type": "stream",
     "text": [
      "\r",
      "Episode 331:   3%|▎         | 331/10000 [00:21<24:58,  6.45it/s, episode_reward=112, running_reward=72.6]"
     ]
    },
    {
     "name": "stderr",
     "output_type": "stream",
     "text": [
      "\r",
      "Episode 331:   3%|▎         | 331/10000 [00:21<24:58,  6.45it/s, episode_reward=116, running_reward=73.4]"
     ]
    },
    {
     "name": "stderr",
     "output_type": "stream",
     "text": [
      "\r",
      "Episode 331:   3%|▎         | 332/10000 [00:21<24:28,  6.58it/s, episode_reward=116, running_reward=73.4]"
     ]
    },
    {
     "name": "stderr",
     "output_type": "stream",
     "text": [
      "\r",
      "Episode 332:   3%|▎         | 332/10000 [00:21<24:28,  6.58it/s, episode_reward=116, running_reward=73.4]"
     ]
    },
    {
     "name": "stderr",
     "output_type": "stream",
     "text": [
      "\r",
      "Episode 332:   3%|▎         | 332/10000 [00:21<24:28,  6.58it/s, episode_reward=200, running_reward=75]  "
     ]
    },
    {
     "name": "stderr",
     "output_type": "stream",
     "text": [
      "\r",
      "Episode 332:   3%|▎         | 333/10000 [00:21<28:20,  5.69it/s, episode_reward=200, running_reward=75]"
     ]
    },
    {
     "name": "stderr",
     "output_type": "stream",
     "text": [
      "\r",
      "Episode 333:   3%|▎         | 333/10000 [00:22<28:20,  5.69it/s, episode_reward=200, running_reward=75]"
     ]
    },
    {
     "name": "stderr",
     "output_type": "stream",
     "text": [
      "\r",
      "Episode 333:   3%|▎         | 333/10000 [00:22<28:20,  5.69it/s, episode_reward=182, running_reward=76.2]"
     ]
    },
    {
     "name": "stderr",
     "output_type": "stream",
     "text": [
      "\r",
      "Episode 333:   3%|▎         | 334/10000 [00:22<30:01,  5.37it/s, episode_reward=182, running_reward=76.2]"
     ]
    },
    {
     "name": "stderr",
     "output_type": "stream",
     "text": [
      "\r",
      "Episode 334:   3%|▎         | 334/10000 [00:22<30:01,  5.37it/s, episode_reward=182, running_reward=76.2]"
     ]
    },
    {
     "name": "stderr",
     "output_type": "stream",
     "text": [
      "\r",
      "Episode 334:   3%|▎         | 334/10000 [00:22<30:01,  5.37it/s, episode_reward=91, running_reward=76.6] "
     ]
    },
    {
     "name": "stderr",
     "output_type": "stream",
     "text": [
      "\r",
      "Episode 334:   3%|▎         | 335/10000 [00:22<26:20,  6.11it/s, episode_reward=91, running_reward=76.6]"
     ]
    },
    {
     "name": "stderr",
     "output_type": "stream",
     "text": [
      "\r",
      "Episode 335:   3%|▎         | 335/10000 [00:22<26:20,  6.11it/s, episode_reward=91, running_reward=76.6]"
     ]
    },
    {
     "name": "stderr",
     "output_type": "stream",
     "text": [
      "\r",
      "Episode 335:   3%|▎         | 335/10000 [00:22<26:20,  6.11it/s, episode_reward=83, running_reward=77.1]"
     ]
    },
    {
     "name": "stderr",
     "output_type": "stream",
     "text": [
      "\r",
      "Episode 335:   3%|▎         | 336/10000 [00:22<23:17,  6.92it/s, episode_reward=83, running_reward=77.1]"
     ]
    },
    {
     "name": "stderr",
     "output_type": "stream",
     "text": [
      "\r",
      "Episode 336:   3%|▎         | 336/10000 [00:22<23:17,  6.92it/s, episode_reward=83, running_reward=77.1]"
     ]
    },
    {
     "name": "stderr",
     "output_type": "stream",
     "text": [
      "\r",
      "Episode 336:   3%|▎         | 336/10000 [00:22<23:17,  6.92it/s, episode_reward=113, running_reward=77.8]"
     ]
    },
    {
     "name": "stderr",
     "output_type": "stream",
     "text": [
      "\r",
      "Episode 336:   3%|▎         | 337/10000 [00:22<22:50,  7.05it/s, episode_reward=113, running_reward=77.8]"
     ]
    },
    {
     "name": "stderr",
     "output_type": "stream",
     "text": [
      "\r",
      "Episode 337:   3%|▎         | 337/10000 [00:22<22:50,  7.05it/s, episode_reward=113, running_reward=77.8]"
     ]
    },
    {
     "name": "stderr",
     "output_type": "stream",
     "text": [
      "\r",
      "Episode 337:   3%|▎         | 337/10000 [00:22<22:50,  7.05it/s, episode_reward=104, running_reward=78.5]"
     ]
    },
    {
     "name": "stderr",
     "output_type": "stream",
     "text": [
      "\r",
      "Episode 337:   3%|▎         | 338/10000 [00:22<21:57,  7.33it/s, episode_reward=104, running_reward=78.5]"
     ]
    },
    {
     "name": "stderr",
     "output_type": "stream",
     "text": [
      "\r",
      "Episode 338:   3%|▎         | 338/10000 [00:22<21:57,  7.33it/s, episode_reward=104, running_reward=78.5]"
     ]
    },
    {
     "name": "stderr",
     "output_type": "stream",
     "text": [
      "\r",
      "Episode 338:   3%|▎         | 338/10000 [00:22<21:57,  7.33it/s, episode_reward=110, running_reward=79.3]"
     ]
    },
    {
     "name": "stderr",
     "output_type": "stream",
     "text": [
      "\r",
      "Episode 338:   3%|▎         | 339/10000 [00:22<21:47,  7.39it/s, episode_reward=110, running_reward=79.3]"
     ]
    },
    {
     "name": "stderr",
     "output_type": "stream",
     "text": [
      "\r",
      "Episode 339:   3%|▎         | 339/10000 [00:22<21:47,  7.39it/s, episode_reward=110, running_reward=79.3]"
     ]
    },
    {
     "name": "stderr",
     "output_type": "stream",
     "text": [
      "\r",
      "Episode 339:   3%|▎         | 339/10000 [00:22<21:47,  7.39it/s, episode_reward=200, running_reward=81]  "
     ]
    },
    {
     "name": "stderr",
     "output_type": "stream",
     "text": [
      "\r",
      "Episode 339:   3%|▎         | 340/10000 [00:22<26:39,  6.04it/s, episode_reward=200, running_reward=81]"
     ]
    },
    {
     "name": "stderr",
     "output_type": "stream",
     "text": [
      "\r",
      "Episode 340:   3%|▎         | 340/10000 [00:23<26:39,  6.04it/s, episode_reward=200, running_reward=81]"
     ]
    },
    {
     "name": "stderr",
     "output_type": "stream",
     "text": [
      "\r",
      "Episode 340:   3%|▎         | 340/10000 [00:23<26:39,  6.04it/s, episode_reward=200, running_reward=82.7]"
     ]
    },
    {
     "name": "stderr",
     "output_type": "stream",
     "text": [
      "\r",
      "Episode 340:   3%|▎         | 341/10000 [00:23<31:15,  5.15it/s, episode_reward=200, running_reward=82.7]"
     ]
    },
    {
     "name": "stderr",
     "output_type": "stream",
     "text": [
      "\r",
      "Episode 341:   3%|▎         | 341/10000 [00:23<31:15,  5.15it/s, episode_reward=200, running_reward=82.7]"
     ]
    },
    {
     "name": "stderr",
     "output_type": "stream",
     "text": [
      "\r",
      "Episode 341:   3%|▎         | 341/10000 [00:23<31:15,  5.15it/s, episode_reward=116, running_reward=83.5]"
     ]
    },
    {
     "name": "stderr",
     "output_type": "stream",
     "text": [
      "\r",
      "Episode 341:   3%|▎         | 342/10000 [00:23<28:58,  5.56it/s, episode_reward=116, running_reward=83.5]"
     ]
    },
    {
     "name": "stderr",
     "output_type": "stream",
     "text": [
      "\r",
      "Episode 342:   3%|▎         | 342/10000 [00:23<28:58,  5.56it/s, episode_reward=116, running_reward=83.5]"
     ]
    },
    {
     "name": "stderr",
     "output_type": "stream",
     "text": [
      "\r",
      "Episode 342:   3%|▎         | 342/10000 [00:23<28:58,  5.56it/s, episode_reward=120, running_reward=84.5]"
     ]
    },
    {
     "name": "stderr",
     "output_type": "stream",
     "text": [
      "\r",
      "Episode 342:   3%|▎         | 343/10000 [00:23<27:22,  5.88it/s, episode_reward=120, running_reward=84.5]"
     ]
    },
    {
     "name": "stderr",
     "output_type": "stream",
     "text": [
      "\r",
      "Episode 343:   3%|▎         | 343/10000 [00:23<27:22,  5.88it/s, episode_reward=120, running_reward=84.5]"
     ]
    },
    {
     "name": "stderr",
     "output_type": "stream",
     "text": [
      "\r",
      "Episode 343:   3%|▎         | 343/10000 [00:23<27:22,  5.88it/s, episode_reward=166, running_reward=86]  "
     ]
    },
    {
     "name": "stderr",
     "output_type": "stream",
     "text": [
      "\r",
      "Episode 343:   3%|▎         | 344/10000 [00:23<28:35,  5.63it/s, episode_reward=166, running_reward=86]"
     ]
    },
    {
     "name": "stderr",
     "output_type": "stream",
     "text": [
      "\r",
      "Episode 344:   3%|▎         | 344/10000 [00:23<28:35,  5.63it/s, episode_reward=166, running_reward=86]"
     ]
    },
    {
     "name": "stderr",
     "output_type": "stream",
     "text": [
      "\r",
      "Episode 344:   3%|▎         | 344/10000 [00:23<28:35,  5.63it/s, episode_reward=163, running_reward=87.4]"
     ]
    },
    {
     "name": "stderr",
     "output_type": "stream",
     "text": [
      "\r",
      "Episode 344:   3%|▎         | 345/10000 [00:23<29:04,  5.53it/s, episode_reward=163, running_reward=87.4]"
     ]
    },
    {
     "name": "stderr",
     "output_type": "stream",
     "text": [
      "\r",
      "Episode 345:   3%|▎         | 345/10000 [00:24<29:04,  5.53it/s, episode_reward=163, running_reward=87.4]"
     ]
    },
    {
     "name": "stderr",
     "output_type": "stream",
     "text": [
      "\r",
      "Episode 345:   3%|▎         | 345/10000 [00:24<29:04,  5.53it/s, episode_reward=162, running_reward=88.6]"
     ]
    },
    {
     "name": "stderr",
     "output_type": "stream",
     "text": [
      "\r",
      "Episode 345:   3%|▎         | 346/10000 [00:24<29:16,  5.50it/s, episode_reward=162, running_reward=88.6]"
     ]
    },
    {
     "name": "stderr",
     "output_type": "stream",
     "text": [
      "\r",
      "Episode 346:   3%|▎         | 346/10000 [00:24<29:16,  5.50it/s, episode_reward=162, running_reward=88.6]"
     ]
    },
    {
     "name": "stderr",
     "output_type": "stream",
     "text": [
      "\r",
      "Episode 346:   3%|▎         | 346/10000 [00:24<29:16,  5.50it/s, episode_reward=118, running_reward=89.6]"
     ]
    },
    {
     "name": "stderr",
     "output_type": "stream",
     "text": [
      "\r",
      "Episode 346:   3%|▎         | 347/10000 [00:24<27:14,  5.91it/s, episode_reward=118, running_reward=89.6]"
     ]
    },
    {
     "name": "stderr",
     "output_type": "stream",
     "text": [
      "\r",
      "Episode 347:   3%|▎         | 347/10000 [00:24<27:14,  5.91it/s, episode_reward=118, running_reward=89.6]"
     ]
    },
    {
     "name": "stderr",
     "output_type": "stream",
     "text": [
      "\r",
      "Episode 347:   3%|▎         | 347/10000 [00:24<27:14,  5.91it/s, episode_reward=142, running_reward=90.7]"
     ]
    },
    {
     "name": "stderr",
     "output_type": "stream",
     "text": [
      "\r",
      "Episode 347:   3%|▎         | 348/10000 [00:24<27:24,  5.87it/s, episode_reward=142, running_reward=90.7]"
     ]
    },
    {
     "name": "stderr",
     "output_type": "stream",
     "text": [
      "\r",
      "Episode 348:   3%|▎         | 348/10000 [00:24<27:24,  5.87it/s, episode_reward=142, running_reward=90.7]"
     ]
    },
    {
     "name": "stderr",
     "output_type": "stream",
     "text": [
      "\r",
      "Episode 348:   3%|▎         | 348/10000 [00:24<27:24,  5.87it/s, episode_reward=133, running_reward=91.8]"
     ]
    },
    {
     "name": "stderr",
     "output_type": "stream",
     "text": [
      "\r",
      "Episode 348:   3%|▎         | 349/10000 [00:24<26:45,  6.01it/s, episode_reward=133, running_reward=91.8]"
     ]
    },
    {
     "name": "stderr",
     "output_type": "stream",
     "text": [
      "\r",
      "Episode 349:   3%|▎         | 349/10000 [00:24<26:45,  6.01it/s, episode_reward=133, running_reward=91.8]"
     ]
    },
    {
     "name": "stderr",
     "output_type": "stream",
     "text": [
      "\r",
      "Episode 349:   3%|▎         | 349/10000 [00:24<26:45,  6.01it/s, episode_reward=137, running_reward=92.9]"
     ]
    },
    {
     "name": "stderr",
     "output_type": "stream",
     "text": [
      "\r",
      "Episode 349:   4%|▎         | 350/10000 [00:24<26:30,  6.07it/s, episode_reward=137, running_reward=92.9]"
     ]
    },
    {
     "name": "stderr",
     "output_type": "stream",
     "text": [
      "\r",
      "Episode 350:   4%|▎         | 350/10000 [00:24<26:30,  6.07it/s, episode_reward=137, running_reward=92.9]"
     ]
    },
    {
     "name": "stderr",
     "output_type": "stream",
     "text": [
      "\r",
      "Episode 350:   4%|▎         | 350/10000 [00:24<26:30,  6.07it/s, episode_reward=158, running_reward=94.3]"
     ]
    },
    {
     "name": "stderr",
     "output_type": "stream",
     "text": [
      "\r",
      "Episode 350:   4%|▎         | 351/10000 [00:24<27:22,  5.87it/s, episode_reward=158, running_reward=94.3]"
     ]
    },
    {
     "name": "stderr",
     "output_type": "stream",
     "text": [
      "\r",
      "Episode 351:   4%|▎         | 351/10000 [00:25<27:22,  5.87it/s, episode_reward=158, running_reward=94.3]"
     ]
    },
    {
     "name": "stderr",
     "output_type": "stream",
     "text": [
      "\r",
      "Episode 351:   4%|▎         | 351/10000 [00:25<27:22,  5.87it/s, episode_reward=157, running_reward=95.4]"
     ]
    },
    {
     "name": "stderr",
     "output_type": "stream",
     "text": [
      "\r",
      "Episode 351:   4%|▎         | 352/10000 [00:25<28:06,  5.72it/s, episode_reward=157, running_reward=95.4]"
     ]
    },
    {
     "name": "stderr",
     "output_type": "stream",
     "text": [
      "\r",
      "Episode 352:   4%|▎         | 352/10000 [00:25<28:06,  5.72it/s, episode_reward=157, running_reward=95.4]"
     ]
    },
    {
     "name": "stderr",
     "output_type": "stream",
     "text": [
      "\r",
      "Episode 352:   4%|▎         | 352/10000 [00:25<28:06,  5.72it/s, episode_reward=151, running_reward=96.7]"
     ]
    },
    {
     "name": "stderr",
     "output_type": "stream",
     "text": [
      "\r",
      "Episode 352:   4%|▎         | 353/10000 [00:25<28:23,  5.66it/s, episode_reward=151, running_reward=96.7]"
     ]
    },
    {
     "name": "stderr",
     "output_type": "stream",
     "text": [
      "\r",
      "Episode 353:   4%|▎         | 353/10000 [00:25<28:23,  5.66it/s, episode_reward=151, running_reward=96.7]"
     ]
    },
    {
     "name": "stderr",
     "output_type": "stream",
     "text": [
      "\r",
      "Episode 353:   4%|▎         | 353/10000 [00:25<28:23,  5.66it/s, episode_reward=104, running_reward=97.5]"
     ]
    },
    {
     "name": "stderr",
     "output_type": "stream",
     "text": [
      "\r",
      "Episode 353:   4%|▎         | 354/10000 [00:25<25:52,  6.21it/s, episode_reward=104, running_reward=97.5]"
     ]
    },
    {
     "name": "stderr",
     "output_type": "stream",
     "text": [
      "\r",
      "Episode 354:   4%|▎         | 354/10000 [00:25<25:52,  6.21it/s, episode_reward=104, running_reward=97.5]"
     ]
    },
    {
     "name": "stderr",
     "output_type": "stream",
     "text": [
      "\r",
      "Episode 354:   4%|▎         | 354/10000 [00:25<25:52,  6.21it/s, episode_reward=155, running_reward=98.8]"
     ]
    },
    {
     "name": "stderr",
     "output_type": "stream",
     "text": [
      "\r",
      "Episode 354:   4%|▎         | 355/10000 [00:25<26:55,  5.97it/s, episode_reward=155, running_reward=98.8]"
     ]
    },
    {
     "name": "stderr",
     "output_type": "stream",
     "text": [
      "\r",
      "Episode 355:   4%|▎         | 355/10000 [00:25<26:55,  5.97it/s, episode_reward=155, running_reward=98.8]"
     ]
    },
    {
     "name": "stderr",
     "output_type": "stream",
     "text": [
      "\r",
      "Episode 355:   4%|▎         | 355/10000 [00:25<26:55,  5.97it/s, episode_reward=161, running_reward=100] "
     ]
    },
    {
     "name": "stderr",
     "output_type": "stream",
     "text": [
      "\r",
      "Episode 355:   4%|▎         | 356/10000 [00:25<27:51,  5.77it/s, episode_reward=161, running_reward=100]"
     ]
    },
    {
     "name": "stderr",
     "output_type": "stream",
     "text": [
      "\r",
      "Episode 356:   4%|▎         | 356/10000 [00:25<27:51,  5.77it/s, episode_reward=161, running_reward=100]"
     ]
    },
    {
     "name": "stderr",
     "output_type": "stream",
     "text": [
      "\r",
      "Episode 356:   4%|▎         | 356/10000 [00:25<27:51,  5.77it/s, episode_reward=115, running_reward=101]"
     ]
    },
    {
     "name": "stderr",
     "output_type": "stream",
     "text": [
      "\r",
      "Episode 356:   4%|▎         | 357/10000 [00:25<26:12,  6.13it/s, episode_reward=115, running_reward=101]"
     ]
    },
    {
     "name": "stderr",
     "output_type": "stream",
     "text": [
      "\r",
      "Episode 357:   4%|▎         | 357/10000 [00:26<26:12,  6.13it/s, episode_reward=115, running_reward=101]"
     ]
    },
    {
     "name": "stderr",
     "output_type": "stream",
     "text": [
      "\r",
      "Episode 357:   4%|▎         | 357/10000 [00:26<26:12,  6.13it/s, episode_reward=111, running_reward=102]"
     ]
    },
    {
     "name": "stderr",
     "output_type": "stream",
     "text": [
      "\r",
      "Episode 357:   4%|▎         | 358/10000 [00:26<24:44,  6.50it/s, episode_reward=111, running_reward=102]"
     ]
    },
    {
     "name": "stderr",
     "output_type": "stream",
     "text": [
      "\r",
      "Episode 358:   4%|▎         | 358/10000 [00:26<24:44,  6.50it/s, episode_reward=111, running_reward=102]"
     ]
    },
    {
     "name": "stderr",
     "output_type": "stream",
     "text": [
      "\r",
      "Episode 358:   4%|▎         | 358/10000 [00:26<24:44,  6.50it/s, episode_reward=108, running_reward=103]"
     ]
    },
    {
     "name": "stderr",
     "output_type": "stream",
     "text": [
      "\r",
      "Episode 358:   4%|▎         | 359/10000 [00:26<23:36,  6.81it/s, episode_reward=108, running_reward=103]"
     ]
    },
    {
     "name": "stderr",
     "output_type": "stream",
     "text": [
      "\r",
      "Episode 359:   4%|▎         | 359/10000 [00:26<23:36,  6.81it/s, episode_reward=108, running_reward=103]"
     ]
    },
    {
     "name": "stderr",
     "output_type": "stream",
     "text": [
      "\r",
      "Episode 359:   4%|▎         | 359/10000 [00:26<23:36,  6.81it/s, episode_reward=176, running_reward=104]"
     ]
    },
    {
     "name": "stderr",
     "output_type": "stream",
     "text": [
      "\r",
      "Episode 359:   4%|▎         | 360/10000 [00:26<26:29,  6.07it/s, episode_reward=176, running_reward=104]"
     ]
    },
    {
     "name": "stderr",
     "output_type": "stream",
     "text": [
      "\r",
      "Episode 360:   4%|▎         | 360/10000 [00:26<26:29,  6.07it/s, episode_reward=176, running_reward=104]"
     ]
    },
    {
     "name": "stderr",
     "output_type": "stream",
     "text": [
      "\r",
      "Episode 360:   4%|▎         | 360/10000 [00:26<26:29,  6.07it/s, episode_reward=101, running_reward=105]"
     ]
    },
    {
     "name": "stderr",
     "output_type": "stream",
     "text": [
      "\r",
      "Episode 360:   4%|▎         | 361/10000 [00:26<24:41,  6.51it/s, episode_reward=101, running_reward=105]"
     ]
    },
    {
     "name": "stderr",
     "output_type": "stream",
     "text": [
      "\r",
      "Episode 361:   4%|▎         | 361/10000 [00:26<24:41,  6.51it/s, episode_reward=101, running_reward=105]"
     ]
    },
    {
     "name": "stderr",
     "output_type": "stream",
     "text": [
      "\r",
      "Episode 361:   4%|▎         | 361/10000 [00:26<24:41,  6.51it/s, episode_reward=117, running_reward=106]"
     ]
    },
    {
     "name": "stderr",
     "output_type": "stream",
     "text": [
      "\r",
      "Episode 361:   4%|▎         | 362/10000 [00:26<24:25,  6.58it/s, episode_reward=117, running_reward=106]"
     ]
    },
    {
     "name": "stderr",
     "output_type": "stream",
     "text": [
      "\r",
      "Episode 362:   4%|▎         | 362/10000 [00:26<24:25,  6.58it/s, episode_reward=117, running_reward=106]"
     ]
    },
    {
     "name": "stderr",
     "output_type": "stream",
     "text": [
      "\r",
      "Episode 362:   4%|▎         | 362/10000 [00:26<24:25,  6.58it/s, episode_reward=115, running_reward=107]"
     ]
    },
    {
     "name": "stderr",
     "output_type": "stream",
     "text": [
      "\r",
      "Episode 362:   4%|▎         | 363/10000 [00:26<24:23,  6.59it/s, episode_reward=115, running_reward=107]"
     ]
    },
    {
     "name": "stderr",
     "output_type": "stream",
     "text": [
      "\r",
      "Episode 363:   4%|▎         | 363/10000 [00:26<24:23,  6.59it/s, episode_reward=115, running_reward=107]"
     ]
    },
    {
     "name": "stderr",
     "output_type": "stream",
     "text": [
      "\r",
      "Episode 363:   4%|▎         | 363/10000 [00:26<24:23,  6.59it/s, episode_reward=97, running_reward=107] "
     ]
    },
    {
     "name": "stderr",
     "output_type": "stream",
     "text": [
      "\r",
      "Episode 363:   4%|▎         | 364/10000 [00:26<22:49,  7.04it/s, episode_reward=97, running_reward=107]"
     ]
    },
    {
     "name": "stderr",
     "output_type": "stream",
     "text": [
      "\r",
      "Episode 364:   4%|▎         | 364/10000 [00:27<22:49,  7.04it/s, episode_reward=97, running_reward=107]"
     ]
    },
    {
     "name": "stderr",
     "output_type": "stream",
     "text": [
      "\r",
      "Episode 364:   4%|▎         | 364/10000 [00:27<22:49,  7.04it/s, episode_reward=95, running_reward=108]"
     ]
    },
    {
     "name": "stderr",
     "output_type": "stream",
     "text": [
      "\r",
      "Episode 364:   4%|▎         | 365/10000 [00:27<21:48,  7.37it/s, episode_reward=95, running_reward=108]"
     ]
    },
    {
     "name": "stderr",
     "output_type": "stream",
     "text": [
      "\r",
      "Episode 365:   4%|▎         | 365/10000 [00:27<21:48,  7.37it/s, episode_reward=95, running_reward=108]"
     ]
    },
    {
     "name": "stderr",
     "output_type": "stream",
     "text": [
      "\r",
      "Episode 365:   4%|▎         | 365/10000 [00:27<21:48,  7.37it/s, episode_reward=76, running_reward=109]"
     ]
    },
    {
     "name": "stderr",
     "output_type": "stream",
     "text": [
      "\r",
      "Episode 366:   4%|▎         | 365/10000 [00:27<21:48,  7.37it/s, episode_reward=76, running_reward=109]"
     ]
    },
    {
     "name": "stderr",
     "output_type": "stream",
     "text": [
      "\r",
      "Episode 366:   4%|▎         | 365/10000 [00:27<21:48,  7.37it/s, episode_reward=85, running_reward=109]"
     ]
    },
    {
     "name": "stderr",
     "output_type": "stream",
     "text": [
      "\r",
      "Episode 366:   4%|▎         | 367/10000 [00:27<19:08,  8.39it/s, episode_reward=85, running_reward=109]"
     ]
    },
    {
     "name": "stderr",
     "output_type": "stream",
     "text": [
      "\r",
      "Episode 367:   4%|▎         | 367/10000 [00:27<19:08,  8.39it/s, episode_reward=85, running_reward=109]"
     ]
    },
    {
     "name": "stderr",
     "output_type": "stream",
     "text": [
      "\r",
      "Episode 367:   4%|▎         | 367/10000 [00:27<19:08,  8.39it/s, episode_reward=90, running_reward=110]"
     ]
    },
    {
     "name": "stderr",
     "output_type": "stream",
     "text": [
      "\r",
      "Episode 367:   4%|▎         | 368/10000 [00:27<18:43,  8.57it/s, episode_reward=90, running_reward=110]"
     ]
    },
    {
     "name": "stderr",
     "output_type": "stream",
     "text": [
      "\r",
      "Episode 368:   4%|▎         | 368/10000 [00:27<18:43,  8.57it/s, episode_reward=90, running_reward=110]"
     ]
    },
    {
     "name": "stderr",
     "output_type": "stream",
     "text": [
      "\r",
      "Episode 368:   4%|▎         | 368/10000 [00:27<18:43,  8.57it/s, episode_reward=86, running_reward=110]"
     ]
    },
    {
     "name": "stderr",
     "output_type": "stream",
     "text": [
      "\r",
      "Episode 368:   4%|▎         | 369/10000 [00:27<18:14,  8.80it/s, episode_reward=86, running_reward=110]"
     ]
    },
    {
     "name": "stderr",
     "output_type": "stream",
     "text": [
      "\r",
      "Episode 369:   4%|▎         | 369/10000 [00:27<18:14,  8.80it/s, episode_reward=86, running_reward=110]"
     ]
    },
    {
     "name": "stderr",
     "output_type": "stream",
     "text": [
      "\r",
      "Episode 369:   4%|▎         | 369/10000 [00:27<18:14,  8.80it/s, episode_reward=101, running_reward=111]"
     ]
    },
    {
     "name": "stderr",
     "output_type": "stream",
     "text": [
      "\r",
      "Episode 369:   4%|▎         | 370/10000 [00:27<18:50,  8.52it/s, episode_reward=101, running_reward=111]"
     ]
    },
    {
     "name": "stderr",
     "output_type": "stream",
     "text": [
      "\r",
      "Episode 370:   4%|▎         | 370/10000 [00:27<18:50,  8.52it/s, episode_reward=101, running_reward=111]"
     ]
    },
    {
     "name": "stderr",
     "output_type": "stream",
     "text": [
      "\r",
      "Episode 370:   4%|▎         | 370/10000 [00:27<18:50,  8.52it/s, episode_reward=90, running_reward=111] "
     ]
    },
    {
     "name": "stderr",
     "output_type": "stream",
     "text": [
      "\r",
      "Episode 370:   4%|▎         | 371/10000 [00:27<18:32,  8.66it/s, episode_reward=90, running_reward=111]"
     ]
    },
    {
     "name": "stderr",
     "output_type": "stream",
     "text": [
      "\r",
      "Episode 371:   4%|▎         | 371/10000 [00:27<18:32,  8.66it/s, episode_reward=90, running_reward=111]"
     ]
    },
    {
     "name": "stderr",
     "output_type": "stream",
     "text": [
      "\r",
      "Episode 371:   4%|▎         | 371/10000 [00:27<18:32,  8.66it/s, episode_reward=110, running_reward=111]"
     ]
    },
    {
     "name": "stderr",
     "output_type": "stream",
     "text": [
      "\r",
      "Episode 371:   4%|▎         | 372/10000 [00:27<19:39,  8.16it/s, episode_reward=110, running_reward=111]"
     ]
    },
    {
     "name": "stderr",
     "output_type": "stream",
     "text": [
      "\r",
      "Episode 372:   4%|▎         | 372/10000 [00:27<19:39,  8.16it/s, episode_reward=110, running_reward=111]"
     ]
    },
    {
     "name": "stderr",
     "output_type": "stream",
     "text": [
      "\r",
      "Episode 372:   4%|▎         | 372/10000 [00:27<19:39,  8.16it/s, episode_reward=96, running_reward=112] "
     ]
    },
    {
     "name": "stderr",
     "output_type": "stream",
     "text": [
      "\r",
      "Episode 372:   4%|▎         | 373/10000 [00:27<19:37,  8.18it/s, episode_reward=96, running_reward=112]"
     ]
    },
    {
     "name": "stderr",
     "output_type": "stream",
     "text": [
      "\r",
      "Episode 373:   4%|▎         | 373/10000 [00:28<19:37,  8.18it/s, episode_reward=96, running_reward=112]"
     ]
    },
    {
     "name": "stderr",
     "output_type": "stream",
     "text": [
      "\r",
      "Episode 373:   4%|▎         | 373/10000 [00:28<19:37,  8.18it/s, episode_reward=113, running_reward=113]"
     ]
    },
    {
     "name": "stderr",
     "output_type": "stream",
     "text": [
      "\r",
      "Episode 373:   4%|▎         | 374/10000 [00:28<20:38,  7.77it/s, episode_reward=113, running_reward=113]"
     ]
    },
    {
     "name": "stderr",
     "output_type": "stream",
     "text": [
      "\r",
      "Episode 374:   4%|▎         | 374/10000 [00:28<20:38,  7.77it/s, episode_reward=113, running_reward=113]"
     ]
    },
    {
     "name": "stderr",
     "output_type": "stream",
     "text": [
      "\r",
      "Episode 374:   4%|▎         | 374/10000 [00:28<20:38,  7.77it/s, episode_reward=111, running_reward=113]"
     ]
    },
    {
     "name": "stderr",
     "output_type": "stream",
     "text": [
      "\r",
      "Episode 374:   4%|▍         | 375/10000 [00:28<21:13,  7.56it/s, episode_reward=111, running_reward=113]"
     ]
    },
    {
     "name": "stderr",
     "output_type": "stream",
     "text": [
      "\r",
      "Episode 375:   4%|▍         | 375/10000 [00:28<21:13,  7.56it/s, episode_reward=111, running_reward=113]"
     ]
    },
    {
     "name": "stderr",
     "output_type": "stream",
     "text": [
      "\r",
      "Episode 375:   4%|▍         | 375/10000 [00:28<21:13,  7.56it/s, episode_reward=108, running_reward=114]"
     ]
    },
    {
     "name": "stderr",
     "output_type": "stream",
     "text": [
      "\r",
      "Episode 375:   4%|▍         | 376/10000 [00:28<21:27,  7.48it/s, episode_reward=108, running_reward=114]"
     ]
    },
    {
     "name": "stderr",
     "output_type": "stream",
     "text": [
      "\r",
      "Episode 376:   4%|▍         | 376/10000 [00:28<21:27,  7.48it/s, episode_reward=108, running_reward=114]"
     ]
    },
    {
     "name": "stderr",
     "output_type": "stream",
     "text": [
      "\r",
      "Episode 376:   4%|▍         | 376/10000 [00:28<21:27,  7.48it/s, episode_reward=136, running_reward=115]"
     ]
    },
    {
     "name": "stderr",
     "output_type": "stream",
     "text": [
      "\r",
      "Episode 376:   4%|▍         | 377/10000 [00:28<23:20,  6.87it/s, episode_reward=136, running_reward=115]"
     ]
    },
    {
     "name": "stderr",
     "output_type": "stream",
     "text": [
      "\r",
      "Episode 377:   4%|▍         | 377/10000 [00:28<23:20,  6.87it/s, episode_reward=136, running_reward=115]"
     ]
    },
    {
     "name": "stderr",
     "output_type": "stream",
     "text": [
      "\r",
      "Episode 377:   4%|▍         | 377/10000 [00:28<23:20,  6.87it/s, episode_reward=121, running_reward=116]"
     ]
    },
    {
     "name": "stderr",
     "output_type": "stream",
     "text": [
      "\r",
      "Episode 377:   4%|▍         | 378/10000 [00:28<23:58,  6.69it/s, episode_reward=121, running_reward=116]"
     ]
    },
    {
     "name": "stderr",
     "output_type": "stream",
     "text": [
      "\r",
      "Episode 378:   4%|▍         | 378/10000 [00:28<23:58,  6.69it/s, episode_reward=121, running_reward=116]"
     ]
    },
    {
     "name": "stderr",
     "output_type": "stream",
     "text": [
      "\r",
      "Episode 378:   4%|▍         | 378/10000 [00:28<23:58,  6.69it/s, episode_reward=134, running_reward=116]"
     ]
    },
    {
     "name": "stderr",
     "output_type": "stream",
     "text": [
      "\r",
      "Episode 378:   4%|▍         | 379/10000 [00:28<25:06,  6.39it/s, episode_reward=134, running_reward=116]"
     ]
    },
    {
     "name": "stderr",
     "output_type": "stream",
     "text": [
      "\r",
      "Episode 379:   4%|▍         | 379/10000 [00:28<25:06,  6.39it/s, episode_reward=134, running_reward=116]"
     ]
    },
    {
     "name": "stderr",
     "output_type": "stream",
     "text": [
      "\r",
      "Episode 379:   4%|▍         | 379/10000 [00:28<25:06,  6.39it/s, episode_reward=14, running_reward=116] "
     ]
    },
    {
     "name": "stderr",
     "output_type": "stream",
     "text": [
      "\r",
      "Episode 380:   4%|▍         | 379/10000 [00:28<25:06,  6.39it/s, episode_reward=14, running_reward=116]"
     ]
    },
    {
     "name": "stderr",
     "output_type": "stream",
     "text": [
      "\r",
      "Episode 380:   4%|▍         | 379/10000 [00:28<25:06,  6.39it/s, episode_reward=38, running_reward=116]"
     ]
    },
    {
     "name": "stderr",
     "output_type": "stream",
     "text": [
      "\r",
      "Episode 381:   4%|▍         | 379/10000 [00:29<25:06,  6.39it/s, episode_reward=38, running_reward=116]"
     ]
    },
    {
     "name": "stderr",
     "output_type": "stream",
     "text": [
      "\r",
      "Episode 381:   4%|▍         | 379/10000 [00:29<25:06,  6.39it/s, episode_reward=108, running_reward=116]"
     ]
    },
    {
     "name": "stderr",
     "output_type": "stream",
     "text": [
      "\r",
      "Episode 381:   4%|▍         | 382/10000 [00:29<17:51,  8.97it/s, episode_reward=108, running_reward=116]"
     ]
    },
    {
     "name": "stderr",
     "output_type": "stream",
     "text": [
      "\r",
      "Episode 382:   4%|▍         | 382/10000 [00:29<17:51,  8.97it/s, episode_reward=108, running_reward=116]"
     ]
    },
    {
     "name": "stderr",
     "output_type": "stream",
     "text": [
      "\r",
      "Episode 382:   4%|▍         | 382/10000 [00:29<17:51,  8.97it/s, episode_reward=115, running_reward=116]"
     ]
    },
    {
     "name": "stderr",
     "output_type": "stream",
     "text": [
      "\r",
      "Episode 382:   4%|▍         | 383/10000 [00:29<19:12,  8.35it/s, episode_reward=115, running_reward=116]"
     ]
    },
    {
     "name": "stderr",
     "output_type": "stream",
     "text": [
      "\r",
      "Episode 383:   4%|▍         | 383/10000 [00:29<19:12,  8.35it/s, episode_reward=115, running_reward=116]"
     ]
    },
    {
     "name": "stderr",
     "output_type": "stream",
     "text": [
      "\r",
      "Episode 383:   4%|▍         | 383/10000 [00:29<19:12,  8.35it/s, episode_reward=109, running_reward=116]"
     ]
    },
    {
     "name": "stderr",
     "output_type": "stream",
     "text": [
      "\r",
      "Episode 383:   4%|▍         | 384/10000 [00:29<19:39,  8.15it/s, episode_reward=109, running_reward=116]"
     ]
    },
    {
     "name": "stderr",
     "output_type": "stream",
     "text": [
      "\r",
      "Episode 384:   4%|▍         | 384/10000 [00:29<19:39,  8.15it/s, episode_reward=109, running_reward=116]"
     ]
    },
    {
     "name": "stderr",
     "output_type": "stream",
     "text": [
      "\r",
      "Episode 384:   4%|▍         | 384/10000 [00:29<19:39,  8.15it/s, episode_reward=133, running_reward=117]"
     ]
    },
    {
     "name": "stderr",
     "output_type": "stream",
     "text": [
      "\r",
      "Episode 384:   4%|▍         | 385/10000 [00:29<21:31,  7.45it/s, episode_reward=133, running_reward=117]"
     ]
    },
    {
     "name": "stderr",
     "output_type": "stream",
     "text": [
      "\r",
      "Episode 385:   4%|▍         | 385/10000 [00:29<21:31,  7.45it/s, episode_reward=133, running_reward=117]"
     ]
    },
    {
     "name": "stderr",
     "output_type": "stream",
     "text": [
      "\r",
      "Episode 385:   4%|▍         | 385/10000 [00:29<21:31,  7.45it/s, episode_reward=119, running_reward=117]"
     ]
    },
    {
     "name": "stderr",
     "output_type": "stream",
     "text": [
      "\r",
      "Episode 385:   4%|▍         | 386/10000 [00:29<22:37,  7.08it/s, episode_reward=119, running_reward=117]"
     ]
    },
    {
     "name": "stderr",
     "output_type": "stream",
     "text": [
      "\r",
      "Episode 386:   4%|▍         | 386/10000 [00:29<22:37,  7.08it/s, episode_reward=119, running_reward=117]"
     ]
    },
    {
     "name": "stderr",
     "output_type": "stream",
     "text": [
      "\r",
      "Episode 386:   4%|▍         | 386/10000 [00:29<22:37,  7.08it/s, episode_reward=107, running_reward=118]"
     ]
    },
    {
     "name": "stderr",
     "output_type": "stream",
     "text": [
      "\r",
      "Episode 386:   4%|▍         | 387/10000 [00:29<22:51,  7.01it/s, episode_reward=107, running_reward=118]"
     ]
    },
    {
     "name": "stderr",
     "output_type": "stream",
     "text": [
      "\r",
      "Episode 387:   4%|▍         | 387/10000 [00:30<22:51,  7.01it/s, episode_reward=107, running_reward=118]"
     ]
    },
    {
     "name": "stderr",
     "output_type": "stream",
     "text": [
      "\r",
      "Episode 387:   4%|▍         | 387/10000 [00:30<22:51,  7.01it/s, episode_reward=115, running_reward=118]"
     ]
    },
    {
     "name": "stderr",
     "output_type": "stream",
     "text": [
      "\r",
      "Episode 387:   4%|▍         | 388/10000 [00:30<23:31,  6.81it/s, episode_reward=115, running_reward=118]"
     ]
    },
    {
     "name": "stderr",
     "output_type": "stream",
     "text": [
      "\r",
      "Episode 388:   4%|▍         | 388/10000 [00:30<23:31,  6.81it/s, episode_reward=115, running_reward=118]"
     ]
    },
    {
     "name": "stderr",
     "output_type": "stream",
     "text": [
      "\r",
      "Episode 388:   4%|▍         | 388/10000 [00:30<23:31,  6.81it/s, episode_reward=110, running_reward=119]"
     ]
    },
    {
     "name": "stderr",
     "output_type": "stream",
     "text": [
      "\r",
      "Episode 388:   4%|▍         | 389/10000 [00:30<23:43,  6.75it/s, episode_reward=110, running_reward=119]"
     ]
    },
    {
     "name": "stderr",
     "output_type": "stream",
     "text": [
      "\r",
      "Episode 389:   4%|▍         | 389/10000 [00:30<23:43,  6.75it/s, episode_reward=110, running_reward=119]"
     ]
    },
    {
     "name": "stderr",
     "output_type": "stream",
     "text": [
      "\r",
      "Episode 389:   4%|▍         | 389/10000 [00:30<23:43,  6.75it/s, episode_reward=141, running_reward=119]"
     ]
    },
    {
     "name": "stderr",
     "output_type": "stream",
     "text": [
      "\r",
      "Episode 389:   4%|▍         | 390/10000 [00:30<25:27,  6.29it/s, episode_reward=141, running_reward=119]"
     ]
    },
    {
     "name": "stderr",
     "output_type": "stream",
     "text": [
      "\r",
      "Episode 390:   4%|▍         | 390/10000 [00:30<25:27,  6.29it/s, episode_reward=141, running_reward=119]"
     ]
    },
    {
     "name": "stderr",
     "output_type": "stream",
     "text": [
      "\r",
      "Episode 390:   4%|▍         | 390/10000 [00:30<25:27,  6.29it/s, episode_reward=41, running_reward=119] "
     ]
    },
    {
     "name": "stderr",
     "output_type": "stream",
     "text": [
      "\r",
      "Episode 391:   4%|▍         | 390/10000 [00:30<25:27,  6.29it/s, episode_reward=41, running_reward=119]"
     ]
    },
    {
     "name": "stderr",
     "output_type": "stream",
     "text": [
      "\r",
      "Episode 391:   4%|▍         | 390/10000 [00:30<25:27,  6.29it/s, episode_reward=123, running_reward=119]"
     ]
    },
    {
     "name": "stderr",
     "output_type": "stream",
     "text": [
      "\r",
      "Episode 391:   4%|▍         | 392/10000 [00:30<22:10,  7.22it/s, episode_reward=123, running_reward=119]"
     ]
    },
    {
     "name": "stderr",
     "output_type": "stream",
     "text": [
      "\r",
      "Episode 392:   4%|▍         | 392/10000 [00:30<22:10,  7.22it/s, episode_reward=123, running_reward=119]"
     ]
    },
    {
     "name": "stderr",
     "output_type": "stream",
     "text": [
      "\r",
      "Episode 392:   4%|▍         | 392/10000 [00:30<22:10,  7.22it/s, episode_reward=121, running_reward=119]"
     ]
    },
    {
     "name": "stderr",
     "output_type": "stream",
     "text": [
      "\r",
      "Episode 392:   4%|▍         | 393/10000 [00:30<23:02,  6.95it/s, episode_reward=121, running_reward=119]"
     ]
    },
    {
     "name": "stderr",
     "output_type": "stream",
     "text": [
      "\r",
      "Episode 393:   4%|▍         | 393/10000 [00:30<23:02,  6.95it/s, episode_reward=121, running_reward=119]"
     ]
    },
    {
     "name": "stderr",
     "output_type": "stream",
     "text": [
      "\r",
      "Episode 393:   4%|▍         | 393/10000 [00:30<23:02,  6.95it/s, episode_reward=133, running_reward=120]"
     ]
    },
    {
     "name": "stderr",
     "output_type": "stream",
     "text": [
      "\r",
      "Episode 393:   4%|▍         | 394/10000 [00:30<24:17,  6.59it/s, episode_reward=133, running_reward=120]"
     ]
    },
    {
     "name": "stderr",
     "output_type": "stream",
     "text": [
      "\r",
      "Episode 394:   4%|▍         | 394/10000 [00:31<24:17,  6.59it/s, episode_reward=133, running_reward=120]"
     ]
    },
    {
     "name": "stderr",
     "output_type": "stream",
     "text": [
      "\r",
      "Episode 394:   4%|▍         | 394/10000 [00:31<24:17,  6.59it/s, episode_reward=148, running_reward=120]"
     ]
    },
    {
     "name": "stderr",
     "output_type": "stream",
     "text": [
      "\r",
      "Episode 394:   4%|▍         | 395/10000 [00:31<25:33,  6.26it/s, episode_reward=148, running_reward=120]"
     ]
    },
    {
     "name": "stderr",
     "output_type": "stream",
     "text": [
      "\r",
      "Episode 395:   4%|▍         | 395/10000 [00:31<25:33,  6.26it/s, episode_reward=148, running_reward=120]"
     ]
    },
    {
     "name": "stderr",
     "output_type": "stream",
     "text": [
      "\r",
      "Episode 395:   4%|▍         | 395/10000 [00:31<25:33,  6.26it/s, episode_reward=147, running_reward=121]"
     ]
    },
    {
     "name": "stderr",
     "output_type": "stream",
     "text": [
      "\r",
      "Episode 395:   4%|▍         | 396/10000 [00:31<27:06,  5.90it/s, episode_reward=147, running_reward=121]"
     ]
    },
    {
     "name": "stderr",
     "output_type": "stream",
     "text": [
      "\r",
      "Episode 396:   4%|▍         | 396/10000 [00:31<27:06,  5.90it/s, episode_reward=147, running_reward=121]"
     ]
    },
    {
     "name": "stderr",
     "output_type": "stream",
     "text": [
      "\r",
      "Episode 396:   4%|▍         | 396/10000 [00:31<27:06,  5.90it/s, episode_reward=163, running_reward=122]"
     ]
    },
    {
     "name": "stderr",
     "output_type": "stream",
     "text": [
      "\r",
      "Episode 396:   4%|▍         | 397/10000 [00:31<28:30,  5.61it/s, episode_reward=163, running_reward=122]"
     ]
    },
    {
     "name": "stderr",
     "output_type": "stream",
     "text": [
      "\r",
      "Episode 397:   4%|▍         | 397/10000 [00:31<28:30,  5.61it/s, episode_reward=163, running_reward=122]"
     ]
    },
    {
     "name": "stderr",
     "output_type": "stream",
     "text": [
      "\r",
      "Episode 397:   4%|▍         | 397/10000 [00:31<28:30,  5.61it/s, episode_reward=122, running_reward=122]"
     ]
    },
    {
     "name": "stderr",
     "output_type": "stream",
     "text": [
      "\r",
      "Episode 397:   4%|▍         | 398/10000 [00:31<26:53,  5.95it/s, episode_reward=122, running_reward=122]"
     ]
    },
    {
     "name": "stderr",
     "output_type": "stream",
     "text": [
      "\r",
      "Episode 398:   4%|▍         | 398/10000 [00:31<26:53,  5.95it/s, episode_reward=122, running_reward=122]"
     ]
    },
    {
     "name": "stderr",
     "output_type": "stream",
     "text": [
      "\r",
      "Episode 398:   4%|▍         | 398/10000 [00:31<26:53,  5.95it/s, episode_reward=134, running_reward=123]"
     ]
    },
    {
     "name": "stderr",
     "output_type": "stream",
     "text": [
      "\r",
      "Episode 398:   4%|▍         | 399/10000 [00:31<26:41,  6.00it/s, episode_reward=134, running_reward=123]"
     ]
    },
    {
     "name": "stderr",
     "output_type": "stream",
     "text": [
      "\r",
      "Episode 399:   4%|▍         | 399/10000 [00:32<26:41,  6.00it/s, episode_reward=134, running_reward=123]"
     ]
    },
    {
     "name": "stderr",
     "output_type": "stream",
     "text": [
      "\r",
      "Episode 399:   4%|▍         | 399/10000 [00:32<26:41,  6.00it/s, episode_reward=172, running_reward=124]"
     ]
    },
    {
     "name": "stderr",
     "output_type": "stream",
     "text": [
      "\r",
      "Episode 399:   4%|▍         | 400/10000 [00:32<29:06,  5.50it/s, episode_reward=172, running_reward=124]"
     ]
    },
    {
     "name": "stderr",
     "output_type": "stream",
     "text": [
      "\r",
      "Episode 400:   4%|▍         | 400/10000 [00:32<29:06,  5.50it/s, episode_reward=172, running_reward=124]"
     ]
    },
    {
     "name": "stderr",
     "output_type": "stream",
     "text": [
      "\r",
      "Episode 400:   4%|▍         | 400/10000 [00:32<29:06,  5.50it/s, episode_reward=154, running_reward=124]"
     ]
    },
    {
     "name": "stderr",
     "output_type": "stream",
     "text": [
      "\r",
      "Episode 400:   4%|▍         | 401/10000 [00:32<30:19,  5.28it/s, episode_reward=154, running_reward=124]"
     ]
    },
    {
     "name": "stderr",
     "output_type": "stream",
     "text": [
      "\r",
      "Episode 401:   4%|▍         | 401/10000 [00:32<30:19,  5.28it/s, episode_reward=154, running_reward=124]"
     ]
    },
    {
     "name": "stderr",
     "output_type": "stream",
     "text": [
      "\r",
      "Episode 401:   4%|▍         | 401/10000 [00:32<30:19,  5.28it/s, episode_reward=180, running_reward=125]"
     ]
    },
    {
     "name": "stderr",
     "output_type": "stream",
     "text": [
      "\r",
      "Episode 401:   4%|▍         | 402/10000 [00:32<32:03,  4.99it/s, episode_reward=180, running_reward=125]"
     ]
    },
    {
     "name": "stderr",
     "output_type": "stream",
     "text": [
      "\r",
      "Episode 402:   4%|▍         | 402/10000 [00:32<32:03,  4.99it/s, episode_reward=180, running_reward=125]"
     ]
    },
    {
     "name": "stderr",
     "output_type": "stream",
     "text": [
      "\r",
      "Episode 402:   4%|▍         | 402/10000 [00:32<32:03,  4.99it/s, episode_reward=152, running_reward=126]"
     ]
    },
    {
     "name": "stderr",
     "output_type": "stream",
     "text": [
      "\r",
      "Episode 402:   4%|▍         | 403/10000 [00:32<31:33,  5.07it/s, episode_reward=152, running_reward=126]"
     ]
    },
    {
     "name": "stderr",
     "output_type": "stream",
     "text": [
      "\r",
      "Episode 403:   4%|▍         | 403/10000 [00:32<31:33,  5.07it/s, episode_reward=152, running_reward=126]"
     ]
    },
    {
     "name": "stderr",
     "output_type": "stream",
     "text": [
      "\r",
      "Episode 403:   4%|▍         | 403/10000 [00:32<31:33,  5.07it/s, episode_reward=191, running_reward=127]"
     ]
    },
    {
     "name": "stderr",
     "output_type": "stream",
     "text": [
      "\r",
      "Episode 403:   4%|▍         | 404/10000 [00:32<33:17,  4.81it/s, episode_reward=191, running_reward=127]"
     ]
    },
    {
     "name": "stderr",
     "output_type": "stream",
     "text": [
      "\r",
      "Episode 404:   4%|▍         | 404/10000 [00:33<33:17,  4.81it/s, episode_reward=191, running_reward=127]"
     ]
    },
    {
     "name": "stderr",
     "output_type": "stream",
     "text": [
      "\r",
      "Episode 404:   4%|▍         | 404/10000 [00:33<33:17,  4.81it/s, episode_reward=153, running_reward=127]"
     ]
    },
    {
     "name": "stderr",
     "output_type": "stream",
     "text": [
      "\r",
      "Episode 404:   4%|▍         | 405/10000 [00:33<32:36,  4.90it/s, episode_reward=153, running_reward=127]"
     ]
    },
    {
     "name": "stderr",
     "output_type": "stream",
     "text": [
      "\r",
      "Episode 405:   4%|▍         | 405/10000 [00:33<32:36,  4.90it/s, episode_reward=153, running_reward=127]"
     ]
    },
    {
     "name": "stderr",
     "output_type": "stream",
     "text": [
      "\r",
      "Episode 405:   4%|▍         | 405/10000 [00:33<32:36,  4.90it/s, episode_reward=190, running_reward=128]"
     ]
    },
    {
     "name": "stderr",
     "output_type": "stream",
     "text": [
      "\r",
      "Episode 405:   4%|▍         | 406/10000 [00:33<34:10,  4.68it/s, episode_reward=190, running_reward=128]"
     ]
    },
    {
     "name": "stderr",
     "output_type": "stream",
     "text": [
      "\r",
      "Episode 406:   4%|▍         | 406/10000 [00:33<34:10,  4.68it/s, episode_reward=190, running_reward=128]"
     ]
    },
    {
     "name": "stderr",
     "output_type": "stream",
     "text": [
      "\r",
      "Episode 406:   4%|▍         | 406/10000 [00:33<34:10,  4.68it/s, episode_reward=184, running_reward=129]"
     ]
    },
    {
     "name": "stderr",
     "output_type": "stream",
     "text": [
      "\r",
      "Episode 406:   4%|▍         | 407/10000 [00:33<35:15,  4.54it/s, episode_reward=184, running_reward=129]"
     ]
    },
    {
     "name": "stderr",
     "output_type": "stream",
     "text": [
      "\r",
      "Episode 407:   4%|▍         | 407/10000 [00:33<35:15,  4.54it/s, episode_reward=184, running_reward=129]"
     ]
    },
    {
     "name": "stderr",
     "output_type": "stream",
     "text": [
      "\r",
      "Episode 407:   4%|▍         | 407/10000 [00:33<35:15,  4.54it/s, episode_reward=152, running_reward=129]"
     ]
    },
    {
     "name": "stderr",
     "output_type": "stream",
     "text": [
      "\r",
      "Episode 407:   4%|▍         | 408/10000 [00:33<33:43,  4.74it/s, episode_reward=152, running_reward=129]"
     ]
    },
    {
     "name": "stderr",
     "output_type": "stream",
     "text": [
      "\r",
      "Episode 408:   4%|▍         | 408/10000 [00:33<33:43,  4.74it/s, episode_reward=152, running_reward=129]"
     ]
    },
    {
     "name": "stderr",
     "output_type": "stream",
     "text": [
      "\r",
      "Episode 408:   4%|▍         | 408/10000 [00:33<33:43,  4.74it/s, episode_reward=163, running_reward=130]"
     ]
    },
    {
     "name": "stderr",
     "output_type": "stream",
     "text": [
      "\r",
      "Episode 408:   4%|▍         | 409/10000 [00:33<33:14,  4.81it/s, episode_reward=163, running_reward=130]"
     ]
    },
    {
     "name": "stderr",
     "output_type": "stream",
     "text": [
      "\r",
      "Episode 409:   4%|▍         | 409/10000 [00:34<33:14,  4.81it/s, episode_reward=163, running_reward=130]"
     ]
    },
    {
     "name": "stderr",
     "output_type": "stream",
     "text": [
      "\r",
      "Episode 409:   4%|▍         | 409/10000 [00:34<33:14,  4.81it/s, episode_reward=153, running_reward=129]"
     ]
    },
    {
     "name": "stderr",
     "output_type": "stream",
     "text": [
      "\r",
      "Episode 409:   4%|▍         | 410/10000 [00:34<32:17,  4.95it/s, episode_reward=153, running_reward=129]"
     ]
    },
    {
     "name": "stderr",
     "output_type": "stream",
     "text": [
      "\r",
      "Episode 410:   4%|▍         | 410/10000 [00:34<32:17,  4.95it/s, episode_reward=153, running_reward=129]"
     ]
    },
    {
     "name": "stderr",
     "output_type": "stream",
     "text": [
      "\r",
      "Episode 410:   4%|▍         | 410/10000 [00:34<32:17,  4.95it/s, episode_reward=156, running_reward=130]"
     ]
    },
    {
     "name": "stderr",
     "output_type": "stream",
     "text": [
      "\r",
      "Episode 410:   4%|▍         | 411/10000 [00:34<31:49,  5.02it/s, episode_reward=156, running_reward=130]"
     ]
    },
    {
     "name": "stderr",
     "output_type": "stream",
     "text": [
      "\r",
      "Episode 411:   4%|▍         | 411/10000 [00:34<31:49,  5.02it/s, episode_reward=156, running_reward=130]"
     ]
    },
    {
     "name": "stderr",
     "output_type": "stream",
     "text": [
      "\r",
      "Episode 411:   4%|▍         | 411/10000 [00:34<31:49,  5.02it/s, episode_reward=155, running_reward=130]"
     ]
    },
    {
     "name": "stderr",
     "output_type": "stream",
     "text": [
      "\r",
      "Episode 411:   4%|▍         | 412/10000 [00:34<30:59,  5.16it/s, episode_reward=155, running_reward=130]"
     ]
    },
    {
     "name": "stderr",
     "output_type": "stream",
     "text": [
      "\r",
      "Episode 412:   4%|▍         | 412/10000 [00:34<30:59,  5.16it/s, episode_reward=155, running_reward=130]"
     ]
    },
    {
     "name": "stderr",
     "output_type": "stream",
     "text": [
      "\r",
      "Episode 412:   4%|▍         | 412/10000 [00:34<30:59,  5.16it/s, episode_reward=154, running_reward=130]"
     ]
    },
    {
     "name": "stderr",
     "output_type": "stream",
     "text": [
      "\r",
      "Episode 412:   4%|▍         | 413/10000 [00:34<30:13,  5.29it/s, episode_reward=154, running_reward=130]"
     ]
    },
    {
     "name": "stderr",
     "output_type": "stream",
     "text": [
      "\r",
      "Episode 413:   4%|▍         | 413/10000 [00:34<30:13,  5.29it/s, episode_reward=154, running_reward=130]"
     ]
    },
    {
     "name": "stderr",
     "output_type": "stream",
     "text": [
      "\r",
      "Episode 413:   4%|▍         | 413/10000 [00:34<30:13,  5.29it/s, episode_reward=200, running_reward=130]"
     ]
    },
    {
     "name": "stderr",
     "output_type": "stream",
     "text": [
      "\r",
      "Episode 413:   4%|▍         | 414/10000 [00:34<32:16,  4.95it/s, episode_reward=200, running_reward=130]"
     ]
    },
    {
     "name": "stderr",
     "output_type": "stream",
     "text": [
      "\r",
      "Episode 414:   4%|▍         | 414/10000 [00:35<32:16,  4.95it/s, episode_reward=200, running_reward=130]"
     ]
    },
    {
     "name": "stderr",
     "output_type": "stream",
     "text": [
      "\r",
      "Episode 414:   4%|▍         | 414/10000 [00:35<32:16,  4.95it/s, episode_reward=200, running_reward=131]"
     ]
    },
    {
     "name": "stderr",
     "output_type": "stream",
     "text": [
      "\r",
      "Episode 414:   4%|▍         | 415/10000 [00:35<34:22,  4.65it/s, episode_reward=200, running_reward=131]"
     ]
    },
    {
     "name": "stderr",
     "output_type": "stream",
     "text": [
      "\r",
      "Episode 415:   4%|▍         | 415/10000 [00:35<34:22,  4.65it/s, episode_reward=200, running_reward=131]"
     ]
    },
    {
     "name": "stderr",
     "output_type": "stream",
     "text": [
      "\r",
      "Episode 415:   4%|▍         | 415/10000 [00:35<34:22,  4.65it/s, episode_reward=183, running_reward=132]"
     ]
    },
    {
     "name": "stderr",
     "output_type": "stream",
     "text": [
      "\r",
      "Episode 415:   4%|▍         | 416/10000 [00:35<34:34,  4.62it/s, episode_reward=183, running_reward=132]"
     ]
    },
    {
     "name": "stderr",
     "output_type": "stream",
     "text": [
      "\r",
      "Episode 416:   4%|▍         | 416/10000 [00:35<34:34,  4.62it/s, episode_reward=183, running_reward=132]"
     ]
    },
    {
     "name": "stderr",
     "output_type": "stream",
     "text": [
      "\r",
      "Episode 416:   4%|▍         | 416/10000 [00:35<34:34,  4.62it/s, episode_reward=200, running_reward=132]"
     ]
    },
    {
     "name": "stderr",
     "output_type": "stream",
     "text": [
      "\r",
      "Episode 416:   4%|▍         | 417/10000 [00:35<36:03,  4.43it/s, episode_reward=200, running_reward=132]"
     ]
    },
    {
     "name": "stderr",
     "output_type": "stream",
     "text": [
      "\r",
      "Episode 417:   4%|▍         | 417/10000 [00:35<36:03,  4.43it/s, episode_reward=200, running_reward=132]"
     ]
    },
    {
     "name": "stderr",
     "output_type": "stream",
     "text": [
      "\r",
      "Episode 417:   4%|▍         | 417/10000 [00:35<36:03,  4.43it/s, episode_reward=193, running_reward=133]"
     ]
    },
    {
     "name": "stderr",
     "output_type": "stream",
     "text": [
      "\r",
      "Episode 417:   4%|▍         | 418/10000 [00:35<35:54,  4.45it/s, episode_reward=193, running_reward=133]"
     ]
    },
    {
     "name": "stderr",
     "output_type": "stream",
     "text": [
      "\r",
      "Episode 418:   4%|▍         | 418/10000 [00:36<35:54,  4.45it/s, episode_reward=193, running_reward=133]"
     ]
    },
    {
     "name": "stderr",
     "output_type": "stream",
     "text": [
      "\r",
      "Episode 418:   4%|▍         | 418/10000 [00:36<35:54,  4.45it/s, episode_reward=200, running_reward=134]"
     ]
    },
    {
     "name": "stderr",
     "output_type": "stream",
     "text": [
      "\r",
      "Episode 418:   4%|▍         | 419/10000 [00:36<36:19,  4.40it/s, episode_reward=200, running_reward=134]"
     ]
    },
    {
     "name": "stderr",
     "output_type": "stream",
     "text": [
      "\r",
      "Episode 419:   4%|▍         | 419/10000 [00:36<36:19,  4.40it/s, episode_reward=200, running_reward=134]"
     ]
    },
    {
     "name": "stderr",
     "output_type": "stream",
     "text": [
      "\r",
      "Episode 419:   4%|▍         | 419/10000 [00:36<36:19,  4.40it/s, episode_reward=200, running_reward=134]"
     ]
    },
    {
     "name": "stderr",
     "output_type": "stream",
     "text": [
      "\r",
      "Episode 419:   4%|▍         | 420/10000 [00:36<36:40,  4.35it/s, episode_reward=200, running_reward=134]"
     ]
    },
    {
     "name": "stderr",
     "output_type": "stream",
     "text": [
      "\r",
      "Episode 420:   4%|▍         | 420/10000 [00:36<36:40,  4.35it/s, episode_reward=200, running_reward=134]"
     ]
    },
    {
     "name": "stderr",
     "output_type": "stream",
     "text": [
      "\r",
      "Episode 420:   4%|▍         | 420/10000 [00:36<36:40,  4.35it/s, episode_reward=200, running_reward=135]"
     ]
    },
    {
     "name": "stderr",
     "output_type": "stream",
     "text": [
      "\r",
      "Episode 420:   4%|▍         | 421/10000 [00:36<36:45,  4.34it/s, episode_reward=200, running_reward=135]"
     ]
    },
    {
     "name": "stderr",
     "output_type": "stream",
     "text": [
      "\r",
      "Episode 421:   4%|▍         | 421/10000 [00:36<36:45,  4.34it/s, episode_reward=200, running_reward=135]"
     ]
    },
    {
     "name": "stderr",
     "output_type": "stream",
     "text": [
      "\r",
      "Episode 421:   4%|▍         | 421/10000 [00:36<36:45,  4.34it/s, episode_reward=200, running_reward=136]"
     ]
    },
    {
     "name": "stderr",
     "output_type": "stream",
     "text": [
      "\r",
      "Episode 421:   4%|▍         | 422/10000 [00:36<36:40,  4.35it/s, episode_reward=200, running_reward=136]"
     ]
    },
    {
     "name": "stderr",
     "output_type": "stream",
     "text": [
      "\r",
      "Episode 422:   4%|▍         | 422/10000 [00:37<36:40,  4.35it/s, episode_reward=200, running_reward=136]"
     ]
    },
    {
     "name": "stderr",
     "output_type": "stream",
     "text": [
      "\r",
      "Episode 422:   4%|▍         | 422/10000 [00:37<36:40,  4.35it/s, episode_reward=200, running_reward=136]"
     ]
    },
    {
     "name": "stderr",
     "output_type": "stream",
     "text": [
      "\r",
      "Episode 422:   4%|▍         | 423/10000 [00:37<37:20,  4.28it/s, episode_reward=200, running_reward=136]"
     ]
    },
    {
     "name": "stderr",
     "output_type": "stream",
     "text": [
      "\r",
      "Episode 423:   4%|▍         | 423/10000 [00:37<37:20,  4.28it/s, episode_reward=200, running_reward=136]"
     ]
    },
    {
     "name": "stderr",
     "output_type": "stream",
     "text": [
      "\r",
      "Episode 423:   4%|▍         | 423/10000 [00:37<37:20,  4.28it/s, episode_reward=200, running_reward=137]"
     ]
    },
    {
     "name": "stderr",
     "output_type": "stream",
     "text": [
      "\r",
      "Episode 423:   4%|▍         | 424/10000 [00:37<38:27,  4.15it/s, episode_reward=200, running_reward=137]"
     ]
    },
    {
     "name": "stderr",
     "output_type": "stream",
     "text": [
      "\r",
      "Episode 424:   4%|▍         | 424/10000 [00:37<38:27,  4.15it/s, episode_reward=200, running_reward=137]"
     ]
    },
    {
     "name": "stderr",
     "output_type": "stream",
     "text": [
      "\r",
      "Episode 424:   4%|▍         | 424/10000 [00:37<38:27,  4.15it/s, episode_reward=200, running_reward=138]"
     ]
    },
    {
     "name": "stderr",
     "output_type": "stream",
     "text": [
      "\r",
      "Episode 424:   4%|▍         | 425/10000 [00:37<38:15,  4.17it/s, episode_reward=200, running_reward=138]"
     ]
    },
    {
     "name": "stderr",
     "output_type": "stream",
     "text": [
      "\r",
      "Episode 425:   4%|▍         | 425/10000 [00:37<38:15,  4.17it/s, episode_reward=200, running_reward=138]"
     ]
    },
    {
     "name": "stderr",
     "output_type": "stream",
     "text": [
      "\r",
      "Episode 425:   4%|▍         | 425/10000 [00:37<38:15,  4.17it/s, episode_reward=200, running_reward=138]"
     ]
    },
    {
     "name": "stderr",
     "output_type": "stream",
     "text": [
      "\r",
      "Episode 425:   4%|▍         | 426/10000 [00:37<37:58,  4.20it/s, episode_reward=200, running_reward=138]"
     ]
    },
    {
     "name": "stderr",
     "output_type": "stream",
     "text": [
      "\r",
      "Episode 426:   4%|▍         | 426/10000 [00:37<37:58,  4.20it/s, episode_reward=200, running_reward=138]"
     ]
    },
    {
     "name": "stderr",
     "output_type": "stream",
     "text": [
      "\r",
      "Episode 426:   4%|▍         | 426/10000 [00:37<37:58,  4.20it/s, episode_reward=184, running_reward=138]"
     ]
    },
    {
     "name": "stderr",
     "output_type": "stream",
     "text": [
      "\r",
      "Episode 426:   4%|▍         | 427/10000 [00:37<36:34,  4.36it/s, episode_reward=184, running_reward=138]"
     ]
    },
    {
     "name": "stderr",
     "output_type": "stream",
     "text": [
      "\r",
      "Episode 427:   4%|▍         | 427/10000 [00:38<36:34,  4.36it/s, episode_reward=184, running_reward=138]"
     ]
    },
    {
     "name": "stderr",
     "output_type": "stream",
     "text": [
      "\r",
      "Episode 427:   4%|▍         | 427/10000 [00:38<36:34,  4.36it/s, episode_reward=200, running_reward=139]"
     ]
    },
    {
     "name": "stderr",
     "output_type": "stream",
     "text": [
      "\r",
      "Episode 427:   4%|▍         | 428/10000 [00:38<37:07,  4.30it/s, episode_reward=200, running_reward=139]"
     ]
    },
    {
     "name": "stderr",
     "output_type": "stream",
     "text": [
      "\r",
      "Episode 428:   4%|▍         | 428/10000 [00:38<37:07,  4.30it/s, episode_reward=200, running_reward=139]"
     ]
    },
    {
     "name": "stderr",
     "output_type": "stream",
     "text": [
      "\r",
      "Episode 428:   4%|▍         | 428/10000 [00:38<37:07,  4.30it/s, episode_reward=200, running_reward=140]"
     ]
    },
    {
     "name": "stderr",
     "output_type": "stream",
     "text": [
      "\r",
      "Episode 428:   4%|▍         | 429/10000 [00:38<37:24,  4.26it/s, episode_reward=200, running_reward=140]"
     ]
    },
    {
     "name": "stderr",
     "output_type": "stream",
     "text": [
      "\r",
      "Episode 429:   4%|▍         | 429/10000 [00:38<37:24,  4.26it/s, episode_reward=200, running_reward=140]"
     ]
    },
    {
     "name": "stderr",
     "output_type": "stream",
     "text": [
      "\r",
      "Episode 429:   4%|▍         | 429/10000 [00:38<37:24,  4.26it/s, episode_reward=184, running_reward=140]"
     ]
    },
    {
     "name": "stderr",
     "output_type": "stream",
     "text": [
      "\r",
      "Episode 429:   4%|▍         | 430/10000 [00:38<36:57,  4.31it/s, episode_reward=184, running_reward=140]"
     ]
    },
    {
     "name": "stderr",
     "output_type": "stream",
     "text": [
      "\r",
      "Episode 430:   4%|▍         | 430/10000 [00:38<36:57,  4.31it/s, episode_reward=184, running_reward=140]"
     ]
    },
    {
     "name": "stderr",
     "output_type": "stream",
     "text": [
      "\r",
      "Episode 430:   4%|▍         | 430/10000 [00:38<36:57,  4.31it/s, episode_reward=200, running_reward=141]"
     ]
    },
    {
     "name": "stderr",
     "output_type": "stream",
     "text": [
      "\r",
      "Episode 430:   4%|▍         | 431/10000 [00:38<37:22,  4.27it/s, episode_reward=200, running_reward=141]"
     ]
    },
    {
     "name": "stderr",
     "output_type": "stream",
     "text": [
      "\r",
      "Episode 431:   4%|▍         | 431/10000 [00:39<37:22,  4.27it/s, episode_reward=200, running_reward=141]"
     ]
    },
    {
     "name": "stderr",
     "output_type": "stream",
     "text": [
      "\r",
      "Episode 431:   4%|▍         | 431/10000 [00:39<37:22,  4.27it/s, episode_reward=190, running_reward=142]"
     ]
    },
    {
     "name": "stderr",
     "output_type": "stream",
     "text": [
      "\r",
      "Episode 431:   4%|▍         | 432/10000 [00:39<36:54,  4.32it/s, episode_reward=190, running_reward=142]"
     ]
    },
    {
     "name": "stderr",
     "output_type": "stream",
     "text": [
      "\r",
      "Episode 432:   4%|▍         | 432/10000 [00:39<36:54,  4.32it/s, episode_reward=190, running_reward=142]"
     ]
    },
    {
     "name": "stderr",
     "output_type": "stream",
     "text": [
      "\r",
      "Episode 432:   4%|▍         | 432/10000 [00:39<36:54,  4.32it/s, episode_reward=177, running_reward=142]"
     ]
    },
    {
     "name": "stderr",
     "output_type": "stream",
     "text": [
      "\r",
      "Episode 432:   4%|▍         | 433/10000 [00:39<36:41,  4.35it/s, episode_reward=177, running_reward=142]"
     ]
    },
    {
     "name": "stderr",
     "output_type": "stream",
     "text": [
      "\r",
      "Episode 433:   4%|▍         | 433/10000 [00:39<36:41,  4.35it/s, episode_reward=177, running_reward=142]"
     ]
    },
    {
     "name": "stderr",
     "output_type": "stream",
     "text": [
      "\r",
      "Episode 433:   4%|▍         | 433/10000 [00:39<36:41,  4.35it/s, episode_reward=163, running_reward=142]"
     ]
    },
    {
     "name": "stderr",
     "output_type": "stream",
     "text": [
      "\r",
      "Episode 433:   4%|▍         | 434/10000 [00:39<35:16,  4.52it/s, episode_reward=163, running_reward=142]"
     ]
    },
    {
     "name": "stderr",
     "output_type": "stream",
     "text": [
      "\r",
      "Episode 434:   4%|▍         | 434/10000 [00:39<35:16,  4.52it/s, episode_reward=163, running_reward=142]"
     ]
    },
    {
     "name": "stderr",
     "output_type": "stream",
     "text": [
      "\r",
      "Episode 434:   4%|▍         | 434/10000 [00:39<35:16,  4.52it/s, episode_reward=187, running_reward=143]"
     ]
    },
    {
     "name": "stderr",
     "output_type": "stream",
     "text": [
      "\r",
      "Episode 434:   4%|▍         | 435/10000 [00:39<35:19,  4.51it/s, episode_reward=187, running_reward=143]"
     ]
    },
    {
     "name": "stderr",
     "output_type": "stream",
     "text": [
      "\r",
      "Episode 435:   4%|▍         | 435/10000 [00:39<35:19,  4.51it/s, episode_reward=187, running_reward=143]"
     ]
    },
    {
     "name": "stderr",
     "output_type": "stream",
     "text": [
      "\r",
      "Episode 435:   4%|▍         | 435/10000 [00:39<35:19,  4.51it/s, episode_reward=158, running_reward=143]"
     ]
    },
    {
     "name": "stderr",
     "output_type": "stream",
     "text": [
      "\r",
      "Episode 435:   4%|▍         | 436/10000 [00:39<33:46,  4.72it/s, episode_reward=158, running_reward=143]"
     ]
    },
    {
     "name": "stderr",
     "output_type": "stream",
     "text": [
      "\r",
      "Episode 436:   4%|▍         | 436/10000 [00:40<33:46,  4.72it/s, episode_reward=158, running_reward=143]"
     ]
    },
    {
     "name": "stderr",
     "output_type": "stream",
     "text": [
      "\r",
      "Episode 436:   4%|▍         | 436/10000 [00:40<33:46,  4.72it/s, episode_reward=190, running_reward=144]"
     ]
    },
    {
     "name": "stderr",
     "output_type": "stream",
     "text": [
      "\r",
      "Episode 436:   4%|▍         | 437/10000 [00:40<35:08,  4.54it/s, episode_reward=190, running_reward=144]"
     ]
    },
    {
     "name": "stderr",
     "output_type": "stream",
     "text": [
      "\r",
      "Episode 437:   4%|▍         | 437/10000 [00:40<35:08,  4.54it/s, episode_reward=190, running_reward=144]"
     ]
    },
    {
     "name": "stderr",
     "output_type": "stream",
     "text": [
      "\r",
      "Episode 437:   4%|▍         | 437/10000 [00:40<35:08,  4.54it/s, episode_reward=200, running_reward=145]"
     ]
    },
    {
     "name": "stderr",
     "output_type": "stream",
     "text": [
      "\r",
      "Episode 437:   4%|▍         | 438/10000 [00:40<36:24,  4.38it/s, episode_reward=200, running_reward=145]"
     ]
    },
    {
     "name": "stderr",
     "output_type": "stream",
     "text": [
      "\r",
      "Episode 438:   4%|▍         | 438/10000 [00:40<36:24,  4.38it/s, episode_reward=200, running_reward=145]"
     ]
    },
    {
     "name": "stderr",
     "output_type": "stream",
     "text": [
      "\r",
      "Episode 438:   4%|▍         | 438/10000 [00:40<36:24,  4.38it/s, episode_reward=200, running_reward=146]"
     ]
    },
    {
     "name": "stderr",
     "output_type": "stream",
     "text": [
      "\r",
      "Episode 438:   4%|▍         | 439/10000 [00:40<37:01,  4.30it/s, episode_reward=200, running_reward=146]"
     ]
    },
    {
     "name": "stderr",
     "output_type": "stream",
     "text": [
      "\r",
      "Episode 439:   4%|▍         | 439/10000 [00:40<37:01,  4.30it/s, episode_reward=200, running_reward=146]"
     ]
    },
    {
     "name": "stderr",
     "output_type": "stream",
     "text": [
      "\r",
      "Episode 439:   4%|▍         | 439/10000 [00:40<37:01,  4.30it/s, episode_reward=144, running_reward=145]"
     ]
    },
    {
     "name": "stderr",
     "output_type": "stream",
     "text": [
      "\r",
      "Episode 439:   4%|▍         | 440/10000 [00:40<34:23,  4.63it/s, episode_reward=144, running_reward=145]"
     ]
    },
    {
     "name": "stderr",
     "output_type": "stream",
     "text": [
      "\r",
      "Episode 440:   4%|▍         | 440/10000 [00:41<34:23,  4.63it/s, episode_reward=144, running_reward=145]"
     ]
    },
    {
     "name": "stderr",
     "output_type": "stream",
     "text": [
      "\r",
      "Episode 440:   4%|▍         | 440/10000 [00:41<34:23,  4.63it/s, episode_reward=162, running_reward=145]"
     ]
    },
    {
     "name": "stderr",
     "output_type": "stream",
     "text": [
      "\r",
      "Episode 440:   4%|▍         | 441/10000 [00:41<33:12,  4.80it/s, episode_reward=162, running_reward=145]"
     ]
    },
    {
     "name": "stderr",
     "output_type": "stream",
     "text": [
      "\r",
      "Episode 441:   4%|▍         | 441/10000 [00:41<33:12,  4.80it/s, episode_reward=162, running_reward=145]"
     ]
    },
    {
     "name": "stderr",
     "output_type": "stream",
     "text": [
      "\r",
      "Episode 441:   4%|▍         | 441/10000 [00:41<33:12,  4.80it/s, episode_reward=150, running_reward=145]"
     ]
    },
    {
     "name": "stderr",
     "output_type": "stream",
     "text": [
      "\r",
      "Episode 441:   4%|▍         | 442/10000 [00:41<32:09,  4.95it/s, episode_reward=150, running_reward=145]"
     ]
    },
    {
     "name": "stderr",
     "output_type": "stream",
     "text": [
      "\r",
      "Episode 442:   4%|▍         | 442/10000 [00:41<32:09,  4.95it/s, episode_reward=150, running_reward=145]"
     ]
    },
    {
     "name": "stderr",
     "output_type": "stream",
     "text": [
      "\r",
      "Episode 442:   4%|▍         | 442/10000 [00:41<32:09,  4.95it/s, episode_reward=180, running_reward=146]"
     ]
    },
    {
     "name": "stderr",
     "output_type": "stream",
     "text": [
      "\r",
      "Episode 442:   4%|▍         | 443/10000 [00:41<33:25,  4.77it/s, episode_reward=180, running_reward=146]"
     ]
    },
    {
     "name": "stderr",
     "output_type": "stream",
     "text": [
      "\r",
      "Episode 443:   4%|▍         | 443/10000 [00:41<33:25,  4.77it/s, episode_reward=180, running_reward=146]"
     ]
    },
    {
     "name": "stderr",
     "output_type": "stream",
     "text": [
      "\r",
      "Episode 443:   4%|▍         | 443/10000 [00:41<33:25,  4.77it/s, episode_reward=161, running_reward=146]"
     ]
    },
    {
     "name": "stderr",
     "output_type": "stream",
     "text": [
      "\r",
      "Episode 443:   4%|▍         | 444/10000 [00:41<33:20,  4.78it/s, episode_reward=161, running_reward=146]"
     ]
    },
    {
     "name": "stderr",
     "output_type": "stream",
     "text": [
      "\r",
      "Episode 444:   4%|▍         | 444/10000 [00:41<33:20,  4.78it/s, episode_reward=161, running_reward=146]"
     ]
    },
    {
     "name": "stderr",
     "output_type": "stream",
     "text": [
      "\r",
      "Episode 444:   4%|▍         | 444/10000 [00:41<33:20,  4.78it/s, episode_reward=173, running_reward=146]"
     ]
    },
    {
     "name": "stderr",
     "output_type": "stream",
     "text": [
      "\r",
      "Episode 444:   4%|▍         | 445/10000 [00:41<33:36,  4.74it/s, episode_reward=173, running_reward=146]"
     ]
    },
    {
     "name": "stderr",
     "output_type": "stream",
     "text": [
      "\r",
      "Episode 445:   4%|▍         | 445/10000 [00:42<33:36,  4.74it/s, episode_reward=173, running_reward=146]"
     ]
    },
    {
     "name": "stderr",
     "output_type": "stream",
     "text": [
      "\r",
      "Episode 445:   4%|▍         | 445/10000 [00:42<33:36,  4.74it/s, episode_reward=200, running_reward=146]"
     ]
    },
    {
     "name": "stderr",
     "output_type": "stream",
     "text": [
      "\r",
      "Episode 445:   4%|▍         | 446/10000 [00:42<35:19,  4.51it/s, episode_reward=200, running_reward=146]"
     ]
    },
    {
     "name": "stderr",
     "output_type": "stream",
     "text": [
      "\r",
      "Episode 446:   4%|▍         | 446/10000 [00:42<35:19,  4.51it/s, episode_reward=200, running_reward=146]"
     ]
    },
    {
     "name": "stderr",
     "output_type": "stream",
     "text": [
      "\r",
      "Episode 446:   4%|▍         | 446/10000 [00:42<35:19,  4.51it/s, episode_reward=168, running_reward=147]"
     ]
    },
    {
     "name": "stderr",
     "output_type": "stream",
     "text": [
      "\r",
      "Episode 446:   4%|▍         | 447/10000 [00:42<35:02,  4.54it/s, episode_reward=168, running_reward=147]"
     ]
    },
    {
     "name": "stderr",
     "output_type": "stream",
     "text": [
      "\r",
      "Episode 447:   4%|▍         | 447/10000 [00:42<35:02,  4.54it/s, episode_reward=168, running_reward=147]"
     ]
    },
    {
     "name": "stderr",
     "output_type": "stream",
     "text": [
      "\r",
      "Episode 447:   4%|▍         | 447/10000 [00:42<35:02,  4.54it/s, episode_reward=170, running_reward=147]"
     ]
    },
    {
     "name": "stderr",
     "output_type": "stream",
     "text": [
      "\r",
      "Episode 447:   4%|▍         | 448/10000 [00:42<34:14,  4.65it/s, episode_reward=170, running_reward=147]"
     ]
    },
    {
     "name": "stderr",
     "output_type": "stream",
     "text": [
      "\r",
      "Episode 448:   4%|▍         | 448/10000 [00:42<34:14,  4.65it/s, episode_reward=170, running_reward=147]"
     ]
    },
    {
     "name": "stderr",
     "output_type": "stream",
     "text": [
      "\r",
      "Episode 448:   4%|▍         | 448/10000 [00:42<34:14,  4.65it/s, episode_reward=145, running_reward=147]"
     ]
    },
    {
     "name": "stderr",
     "output_type": "stream",
     "text": [
      "\r",
      "Episode 448:   4%|▍         | 449/10000 [00:42<32:32,  4.89it/s, episode_reward=145, running_reward=147]"
     ]
    },
    {
     "name": "stderr",
     "output_type": "stream",
     "text": [
      "\r",
      "Episode 449:   4%|▍         | 449/10000 [00:42<32:32,  4.89it/s, episode_reward=145, running_reward=147]"
     ]
    },
    {
     "name": "stderr",
     "output_type": "stream",
     "text": [
      "\r",
      "Episode 449:   4%|▍         | 449/10000 [00:42<32:32,  4.89it/s, episode_reward=137, running_reward=147]"
     ]
    },
    {
     "name": "stderr",
     "output_type": "stream",
     "text": [
      "\r",
      "Episode 449:   4%|▍         | 450/10000 [00:42<31:01,  5.13it/s, episode_reward=137, running_reward=147]"
     ]
    },
    {
     "name": "stderr",
     "output_type": "stream",
     "text": [
      "\r",
      "Episode 450:   4%|▍         | 450/10000 [00:43<31:01,  5.13it/s, episode_reward=137, running_reward=147]"
     ]
    },
    {
     "name": "stderr",
     "output_type": "stream",
     "text": [
      "\r",
      "Episode 450:   4%|▍         | 450/10000 [00:43<31:01,  5.13it/s, episode_reward=187, running_reward=148]"
     ]
    },
    {
     "name": "stderr",
     "output_type": "stream",
     "text": [
      "\r",
      "Episode 450:   5%|▍         | 451/10000 [00:43<32:05,  4.96it/s, episode_reward=187, running_reward=148]"
     ]
    },
    {
     "name": "stderr",
     "output_type": "stream",
     "text": [
      "\r",
      "Episode 451:   5%|▍         | 451/10000 [00:43<32:05,  4.96it/s, episode_reward=187, running_reward=148]"
     ]
    },
    {
     "name": "stderr",
     "output_type": "stream",
     "text": [
      "\r",
      "Episode 451:   5%|▍         | 451/10000 [00:43<32:05,  4.96it/s, episode_reward=200, running_reward=148]"
     ]
    },
    {
     "name": "stderr",
     "output_type": "stream",
     "text": [
      "\r",
      "Episode 451:   5%|▍         | 452/10000 [00:43<33:47,  4.71it/s, episode_reward=200, running_reward=148]"
     ]
    },
    {
     "name": "stderr",
     "output_type": "stream",
     "text": [
      "\r",
      "Episode 452:   5%|▍         | 452/10000 [00:43<33:47,  4.71it/s, episode_reward=200, running_reward=148]"
     ]
    },
    {
     "name": "stderr",
     "output_type": "stream",
     "text": [
      "\r",
      "Episode 452:   5%|▍         | 452/10000 [00:43<33:47,  4.71it/s, episode_reward=199, running_reward=148]"
     ]
    },
    {
     "name": "stderr",
     "output_type": "stream",
     "text": [
      "\r",
      "Episode 452:   5%|▍         | 453/10000 [00:43<35:38,  4.46it/s, episode_reward=199, running_reward=148]"
     ]
    },
    {
     "name": "stderr",
     "output_type": "stream",
     "text": [
      "\r",
      "Episode 453:   5%|▍         | 453/10000 [00:43<35:38,  4.46it/s, episode_reward=199, running_reward=148]"
     ]
    },
    {
     "name": "stderr",
     "output_type": "stream",
     "text": [
      "\r",
      "Episode 453:   5%|▍         | 453/10000 [00:43<35:38,  4.46it/s, episode_reward=200, running_reward=149]"
     ]
    },
    {
     "name": "stderr",
     "output_type": "stream",
     "text": [
      "\r",
      "Episode 453:   5%|▍         | 454/10000 [00:43<37:33,  4.24it/s, episode_reward=200, running_reward=149]"
     ]
    },
    {
     "name": "stderr",
     "output_type": "stream",
     "text": [
      "\r",
      "Episode 454:   5%|▍         | 454/10000 [00:44<37:33,  4.24it/s, episode_reward=200, running_reward=149]"
     ]
    },
    {
     "name": "stderr",
     "output_type": "stream",
     "text": [
      "\r",
      "Episode 454:   5%|▍         | 454/10000 [00:44<37:33,  4.24it/s, episode_reward=190, running_reward=150]"
     ]
    },
    {
     "name": "stderr",
     "output_type": "stream",
     "text": [
      "\r",
      "Episode 454:   5%|▍         | 455/10000 [00:44<38:01,  4.18it/s, episode_reward=190, running_reward=150]"
     ]
    },
    {
     "name": "stderr",
     "output_type": "stream",
     "text": [
      "\r",
      "Episode 455:   5%|▍         | 455/10000 [00:44<38:01,  4.18it/s, episode_reward=190, running_reward=150]"
     ]
    },
    {
     "name": "stderr",
     "output_type": "stream",
     "text": [
      "\r",
      "Episode 455:   5%|▍         | 455/10000 [00:44<38:01,  4.18it/s, episode_reward=200, running_reward=150]"
     ]
    },
    {
     "name": "stderr",
     "output_type": "stream",
     "text": [
      "\r",
      "Episode 455:   5%|▍         | 456/10000 [00:44<39:10,  4.06it/s, episode_reward=200, running_reward=150]"
     ]
    },
    {
     "name": "stderr",
     "output_type": "stream",
     "text": [
      "\r",
      "Episode 456:   5%|▍         | 456/10000 [00:44<39:10,  4.06it/s, episode_reward=200, running_reward=150]"
     ]
    },
    {
     "name": "stderr",
     "output_type": "stream",
     "text": [
      "\r",
      "Episode 456:   5%|▍         | 456/10000 [00:44<39:10,  4.06it/s, episode_reward=200, running_reward=151]"
     ]
    },
    {
     "name": "stderr",
     "output_type": "stream",
     "text": [
      "\r",
      "Episode 456:   5%|▍         | 457/10000 [00:44<39:41,  4.01it/s, episode_reward=200, running_reward=151]"
     ]
    },
    {
     "name": "stderr",
     "output_type": "stream",
     "text": [
      "\r",
      "Episode 457:   5%|▍         | 457/10000 [00:44<39:41,  4.01it/s, episode_reward=200, running_reward=151]"
     ]
    },
    {
     "name": "stderr",
     "output_type": "stream",
     "text": [
      "\r",
      "Episode 457:   5%|▍         | 457/10000 [00:44<39:41,  4.01it/s, episode_reward=200, running_reward=152]"
     ]
    },
    {
     "name": "stderr",
     "output_type": "stream",
     "text": [
      "\r",
      "Episode 457:   5%|▍         | 458/10000 [00:44<39:20,  4.04it/s, episode_reward=200, running_reward=152]"
     ]
    },
    {
     "name": "stderr",
     "output_type": "stream",
     "text": [
      "\r",
      "Episode 458:   5%|▍         | 458/10000 [00:45<39:20,  4.04it/s, episode_reward=200, running_reward=152]"
     ]
    },
    {
     "name": "stderr",
     "output_type": "stream",
     "text": [
      "\r",
      "Episode 458:   5%|▍         | 458/10000 [00:45<39:20,  4.04it/s, episode_reward=162, running_reward=152]"
     ]
    },
    {
     "name": "stderr",
     "output_type": "stream",
     "text": [
      "\r",
      "Episode 458:   5%|▍         | 459/10000 [00:45<36:34,  4.35it/s, episode_reward=162, running_reward=152]"
     ]
    },
    {
     "name": "stderr",
     "output_type": "stream",
     "text": [
      "\r",
      "Episode 459:   5%|▍         | 459/10000 [00:45<36:34,  4.35it/s, episode_reward=162, running_reward=152]"
     ]
    },
    {
     "name": "stderr",
     "output_type": "stream",
     "text": [
      "\r",
      "Episode 459:   5%|▍         | 459/10000 [00:45<36:34,  4.35it/s, episode_reward=200, running_reward=153]"
     ]
    },
    {
     "name": "stderr",
     "output_type": "stream",
     "text": [
      "\r",
      "Episode 459:   5%|▍         | 460/10000 [00:45<36:52,  4.31it/s, episode_reward=200, running_reward=153]"
     ]
    },
    {
     "name": "stderr",
     "output_type": "stream",
     "text": [
      "\r",
      "Episode 460:   5%|▍         | 460/10000 [00:45<36:52,  4.31it/s, episode_reward=200, running_reward=153]"
     ]
    },
    {
     "name": "stderr",
     "output_type": "stream",
     "text": [
      "\r",
      "Episode 460:   5%|▍         | 460/10000 [00:45<36:52,  4.31it/s, episode_reward=141, running_reward=153]"
     ]
    },
    {
     "name": "stderr",
     "output_type": "stream",
     "text": [
      "\r",
      "Episode 460:   5%|▍         | 461/10000 [00:45<34:26,  4.62it/s, episode_reward=141, running_reward=153]"
     ]
    },
    {
     "name": "stderr",
     "output_type": "stream",
     "text": [
      "\r",
      "Episode 461:   5%|▍         | 461/10000 [00:45<34:26,  4.62it/s, episode_reward=141, running_reward=153]"
     ]
    },
    {
     "name": "stderr",
     "output_type": "stream",
     "text": [
      "\r",
      "Episode 461:   5%|▍         | 461/10000 [00:45<34:26,  4.62it/s, episode_reward=200, running_reward=154]"
     ]
    },
    {
     "name": "stderr",
     "output_type": "stream",
     "text": [
      "\r",
      "Episode 461:   5%|▍         | 462/10000 [00:45<35:20,  4.50it/s, episode_reward=200, running_reward=154]"
     ]
    },
    {
     "name": "stderr",
     "output_type": "stream",
     "text": [
      "\r",
      "Episode 462:   5%|▍         | 462/10000 [00:45<35:20,  4.50it/s, episode_reward=200, running_reward=154]"
     ]
    },
    {
     "name": "stderr",
     "output_type": "stream",
     "text": [
      "\r",
      "Episode 462:   5%|▍         | 462/10000 [00:45<35:20,  4.50it/s, episode_reward=174, running_reward=155]"
     ]
    },
    {
     "name": "stderr",
     "output_type": "stream",
     "text": [
      "\r",
      "Episode 462:   5%|▍         | 463/10000 [00:45<35:12,  4.51it/s, episode_reward=174, running_reward=155]"
     ]
    },
    {
     "name": "stderr",
     "output_type": "stream",
     "text": [
      "\r",
      "Episode 463:   5%|▍         | 463/10000 [00:46<35:12,  4.51it/s, episode_reward=174, running_reward=155]"
     ]
    },
    {
     "name": "stderr",
     "output_type": "stream",
     "text": [
      "\r",
      "Episode 463:   5%|▍         | 463/10000 [00:46<35:12,  4.51it/s, episode_reward=200, running_reward=156]"
     ]
    },
    {
     "name": "stderr",
     "output_type": "stream",
     "text": [
      "\r",
      "Episode 463:   5%|▍         | 464/10000 [00:46<36:29,  4.36it/s, episode_reward=200, running_reward=156]"
     ]
    },
    {
     "name": "stderr",
     "output_type": "stream",
     "text": [
      "\r",
      "Episode 464:   5%|▍         | 464/10000 [00:46<36:29,  4.36it/s, episode_reward=200, running_reward=156]"
     ]
    },
    {
     "name": "stderr",
     "output_type": "stream",
     "text": [
      "\r",
      "Episode 464:   5%|▍         | 464/10000 [00:46<36:29,  4.36it/s, episode_reward=145, running_reward=156]"
     ]
    },
    {
     "name": "stderr",
     "output_type": "stream",
     "text": [
      "\r",
      "Episode 464:   5%|▍         | 465/10000 [00:46<33:53,  4.69it/s, episode_reward=145, running_reward=156]"
     ]
    },
    {
     "name": "stderr",
     "output_type": "stream",
     "text": [
      "\r",
      "Episode 465:   5%|▍         | 465/10000 [00:46<33:53,  4.69it/s, episode_reward=145, running_reward=156]"
     ]
    },
    {
     "name": "stderr",
     "output_type": "stream",
     "text": [
      "\r",
      "Episode 465:   5%|▍         | 465/10000 [00:46<33:53,  4.69it/s, episode_reward=200, running_reward=157]"
     ]
    },
    {
     "name": "stderr",
     "output_type": "stream",
     "text": [
      "\r",
      "Episode 465:   5%|▍         | 466/10000 [00:46<34:51,  4.56it/s, episode_reward=200, running_reward=157]"
     ]
    },
    {
     "name": "stderr",
     "output_type": "stream",
     "text": [
      "\r",
      "Episode 466:   5%|▍         | 466/10000 [00:46<34:51,  4.56it/s, episode_reward=200, running_reward=157]"
     ]
    },
    {
     "name": "stderr",
     "output_type": "stream",
     "text": [
      "\r",
      "Episode 466:   5%|▍         | 466/10000 [00:46<34:51,  4.56it/s, episode_reward=200, running_reward=158]"
     ]
    },
    {
     "name": "stderr",
     "output_type": "stream",
     "text": [
      "\r",
      "Episode 466:   5%|▍         | 467/10000 [00:46<36:06,  4.40it/s, episode_reward=200, running_reward=158]"
     ]
    },
    {
     "name": "stderr",
     "output_type": "stream",
     "text": [
      "\r",
      "Episode 467:   5%|▍         | 467/10000 [00:47<36:06,  4.40it/s, episode_reward=200, running_reward=158]"
     ]
    },
    {
     "name": "stderr",
     "output_type": "stream",
     "text": [
      "\r",
      "Episode 467:   5%|▍         | 467/10000 [00:47<36:06,  4.40it/s, episode_reward=200, running_reward=160]"
     ]
    },
    {
     "name": "stderr",
     "output_type": "stream",
     "text": [
      "\r",
      "Episode 467:   5%|▍         | 468/10000 [00:47<36:17,  4.38it/s, episode_reward=200, running_reward=160]"
     ]
    },
    {
     "name": "stderr",
     "output_type": "stream",
     "text": [
      "\r",
      "Episode 468:   5%|▍         | 468/10000 [00:47<36:17,  4.38it/s, episode_reward=200, running_reward=160]"
     ]
    },
    {
     "name": "stderr",
     "output_type": "stream",
     "text": [
      "\r",
      "Episode 468:   5%|▍         | 468/10000 [00:47<36:17,  4.38it/s, episode_reward=200, running_reward=161]"
     ]
    },
    {
     "name": "stderr",
     "output_type": "stream",
     "text": [
      "\r",
      "Episode 468:   5%|▍         | 469/10000 [00:47<36:56,  4.30it/s, episode_reward=200, running_reward=161]"
     ]
    },
    {
     "name": "stderr",
     "output_type": "stream",
     "text": [
      "\r",
      "Episode 469:   5%|▍         | 469/10000 [00:47<36:56,  4.30it/s, episode_reward=200, running_reward=161]"
     ]
    },
    {
     "name": "stderr",
     "output_type": "stream",
     "text": [
      "\r",
      "Episode 469:   5%|▍         | 469/10000 [00:47<36:56,  4.30it/s, episode_reward=200, running_reward=162]"
     ]
    },
    {
     "name": "stderr",
     "output_type": "stream",
     "text": [
      "\r",
      "Episode 469:   5%|▍         | 470/10000 [00:47<38:11,  4.16it/s, episode_reward=200, running_reward=162]"
     ]
    },
    {
     "name": "stderr",
     "output_type": "stream",
     "text": [
      "\r",
      "Episode 470:   5%|▍         | 470/10000 [00:47<38:11,  4.16it/s, episode_reward=200, running_reward=162]"
     ]
    },
    {
     "name": "stderr",
     "output_type": "stream",
     "text": [
      "\r",
      "Episode 470:   5%|▍         | 470/10000 [00:47<38:11,  4.16it/s, episode_reward=200, running_reward=163]"
     ]
    },
    {
     "name": "stderr",
     "output_type": "stream",
     "text": [
      "\r",
      "Episode 470:   5%|▍         | 471/10000 [00:47<38:05,  4.17it/s, episode_reward=200, running_reward=163]"
     ]
    },
    {
     "name": "stderr",
     "output_type": "stream",
     "text": [
      "\r",
      "Episode 471:   5%|▍         | 471/10000 [00:48<38:05,  4.17it/s, episode_reward=200, running_reward=163]"
     ]
    },
    {
     "name": "stderr",
     "output_type": "stream",
     "text": [
      "\r",
      "Episode 471:   5%|▍         | 471/10000 [00:48<38:05,  4.17it/s, episode_reward=200, running_reward=164]"
     ]
    },
    {
     "name": "stderr",
     "output_type": "stream",
     "text": [
      "\r",
      "Episode 471:   5%|▍         | 472/10000 [00:48<37:33,  4.23it/s, episode_reward=200, running_reward=164]"
     ]
    },
    {
     "name": "stderr",
     "output_type": "stream",
     "text": [
      "\r",
      "Episode 472:   5%|▍         | 472/10000 [00:48<37:33,  4.23it/s, episode_reward=200, running_reward=164]"
     ]
    },
    {
     "name": "stderr",
     "output_type": "stream",
     "text": [
      "\r",
      "Episode 472:   5%|▍         | 472/10000 [00:48<37:33,  4.23it/s, episode_reward=200, running_reward=165]"
     ]
    },
    {
     "name": "stderr",
     "output_type": "stream",
     "text": [
      "\r",
      "Episode 472:   5%|▍         | 473/10000 [00:48<37:29,  4.23it/s, episode_reward=200, running_reward=165]"
     ]
    },
    {
     "name": "stderr",
     "output_type": "stream",
     "text": [
      "\r",
      "Episode 473:   5%|▍         | 473/10000 [00:48<37:29,  4.23it/s, episode_reward=200, running_reward=165]"
     ]
    },
    {
     "name": "stderr",
     "output_type": "stream",
     "text": [
      "\r",
      "Episode 473:   5%|▍         | 473/10000 [00:48<37:29,  4.23it/s, episode_reward=200, running_reward=166]"
     ]
    },
    {
     "name": "stderr",
     "output_type": "stream",
     "text": [
      "\r",
      "Episode 473:   5%|▍         | 474/10000 [00:48<37:51,  4.19it/s, episode_reward=200, running_reward=166]"
     ]
    },
    {
     "name": "stderr",
     "output_type": "stream",
     "text": [
      "\r",
      "Episode 474:   5%|▍         | 474/10000 [00:48<37:51,  4.19it/s, episode_reward=200, running_reward=166]"
     ]
    },
    {
     "name": "stderr",
     "output_type": "stream",
     "text": [
      "\r",
      "Episode 474:   5%|▍         | 474/10000 [00:48<37:51,  4.19it/s, episode_reward=200, running_reward=166]"
     ]
    },
    {
     "name": "stderr",
     "output_type": "stream",
     "text": [
      "\r",
      "Episode 474:   5%|▍         | 475/10000 [00:48<37:52,  4.19it/s, episode_reward=200, running_reward=166]"
     ]
    },
    {
     "name": "stderr",
     "output_type": "stream",
     "text": [
      "\r",
      "Episode 475:   5%|▍         | 475/10000 [00:49<37:52,  4.19it/s, episode_reward=200, running_reward=166]"
     ]
    },
    {
     "name": "stderr",
     "output_type": "stream",
     "text": [
      "\r",
      "Episode 475:   5%|▍         | 475/10000 [00:49<37:52,  4.19it/s, episode_reward=200, running_reward=167]"
     ]
    },
    {
     "name": "stderr",
     "output_type": "stream",
     "text": [
      "\r",
      "Episode 475:   5%|▍         | 476/10000 [00:49<37:59,  4.18it/s, episode_reward=200, running_reward=167]"
     ]
    },
    {
     "name": "stderr",
     "output_type": "stream",
     "text": [
      "\r",
      "Episode 476:   5%|▍         | 476/10000 [00:49<37:59,  4.18it/s, episode_reward=200, running_reward=167]"
     ]
    },
    {
     "name": "stderr",
     "output_type": "stream",
     "text": [
      "\r",
      "Episode 476:   5%|▍         | 476/10000 [00:49<37:59,  4.18it/s, episode_reward=182, running_reward=168]"
     ]
    },
    {
     "name": "stderr",
     "output_type": "stream",
     "text": [
      "\r",
      "Episode 476:   5%|▍         | 477/10000 [00:49<36:55,  4.30it/s, episode_reward=182, running_reward=168]"
     ]
    },
    {
     "name": "stderr",
     "output_type": "stream",
     "text": [
      "\r",
      "Episode 477:   5%|▍         | 477/10000 [00:49<36:55,  4.30it/s, episode_reward=182, running_reward=168]"
     ]
    },
    {
     "name": "stderr",
     "output_type": "stream",
     "text": [
      "\r",
      "Episode 477:   5%|▍         | 477/10000 [00:49<36:55,  4.30it/s, episode_reward=199, running_reward=169]"
     ]
    },
    {
     "name": "stderr",
     "output_type": "stream",
     "text": [
      "\r",
      "Episode 477:   5%|▍         | 478/10000 [00:49<37:10,  4.27it/s, episode_reward=199, running_reward=169]"
     ]
    },
    {
     "name": "stderr",
     "output_type": "stream",
     "text": [
      "\r",
      "Episode 478:   5%|▍         | 478/10000 [00:49<37:10,  4.27it/s, episode_reward=199, running_reward=169]"
     ]
    },
    {
     "name": "stderr",
     "output_type": "stream",
     "text": [
      "\r",
      "Episode 478:   5%|▍         | 478/10000 [00:49<37:10,  4.27it/s, episode_reward=200, running_reward=169]"
     ]
    },
    {
     "name": "stderr",
     "output_type": "stream",
     "text": [
      "\r",
      "Episode 478:   5%|▍         | 479/10000 [00:49<38:10,  4.16it/s, episode_reward=200, running_reward=169]"
     ]
    },
    {
     "name": "stderr",
     "output_type": "stream",
     "text": [
      "\r",
      "Episode 479:   5%|▍         | 479/10000 [00:49<38:10,  4.16it/s, episode_reward=200, running_reward=169]"
     ]
    },
    {
     "name": "stderr",
     "output_type": "stream",
     "text": [
      "\r",
      "Episode 479:   5%|▍         | 479/10000 [00:49<38:10,  4.16it/s, episode_reward=153, running_reward=171]"
     ]
    },
    {
     "name": "stderr",
     "output_type": "stream",
     "text": [
      "\r",
      "Episode 479:   5%|▍         | 480/10000 [00:49<35:21,  4.49it/s, episode_reward=153, running_reward=171]"
     ]
    },
    {
     "name": "stderr",
     "output_type": "stream",
     "text": [
      "\r",
      "Episode 480:   5%|▍         | 480/10000 [00:50<35:21,  4.49it/s, episode_reward=153, running_reward=171]"
     ]
    },
    {
     "name": "stderr",
     "output_type": "stream",
     "text": [
      "\r",
      "Episode 480:   5%|▍         | 480/10000 [00:50<35:21,  4.49it/s, episode_reward=192, running_reward=172]"
     ]
    },
    {
     "name": "stderr",
     "output_type": "stream",
     "text": [
      "\r",
      "Episode 480:   5%|▍         | 481/10000 [00:50<35:28,  4.47it/s, episode_reward=192, running_reward=172]"
     ]
    },
    {
     "name": "stderr",
     "output_type": "stream",
     "text": [
      "\r",
      "Episode 481:   5%|▍         | 481/10000 [00:50<35:28,  4.47it/s, episode_reward=192, running_reward=172]"
     ]
    },
    {
     "name": "stderr",
     "output_type": "stream",
     "text": [
      "\r",
      "Episode 481:   5%|▍         | 481/10000 [00:50<35:28,  4.47it/s, episode_reward=200, running_reward=173]"
     ]
    },
    {
     "name": "stderr",
     "output_type": "stream",
     "text": [
      "\r",
      "Episode 481:   5%|▍         | 482/10000 [00:50<36:03,  4.40it/s, episode_reward=200, running_reward=173]"
     ]
    },
    {
     "name": "stderr",
     "output_type": "stream",
     "text": [
      "\r",
      "Episode 482:   5%|▍         | 482/10000 [00:50<36:03,  4.40it/s, episode_reward=200, running_reward=173]"
     ]
    },
    {
     "name": "stderr",
     "output_type": "stream",
     "text": [
      "\r",
      "Episode 482:   5%|▍         | 482/10000 [00:50<36:03,  4.40it/s, episode_reward=165, running_reward=174]"
     ]
    },
    {
     "name": "stderr",
     "output_type": "stream",
     "text": [
      "\r",
      "Episode 482:   5%|▍         | 483/10000 [00:50<34:31,  4.60it/s, episode_reward=165, running_reward=174]"
     ]
    },
    {
     "name": "stderr",
     "output_type": "stream",
     "text": [
      "\r",
      "Episode 483:   5%|▍         | 483/10000 [00:50<34:31,  4.60it/s, episode_reward=165, running_reward=174]"
     ]
    },
    {
     "name": "stderr",
     "output_type": "stream",
     "text": [
      "\r",
      "Episode 483:   5%|▍         | 483/10000 [00:50<34:31,  4.60it/s, episode_reward=135, running_reward=174]"
     ]
    },
    {
     "name": "stderr",
     "output_type": "stream",
     "text": [
      "\r",
      "Episode 483:   5%|▍         | 484/10000 [00:50<31:50,  4.98it/s, episode_reward=135, running_reward=174]"
     ]
    },
    {
     "name": "stderr",
     "output_type": "stream",
     "text": [
      "\r",
      "Episode 484:   5%|▍         | 484/10000 [00:50<31:50,  4.98it/s, episode_reward=135, running_reward=174]"
     ]
    },
    {
     "name": "stderr",
     "output_type": "stream",
     "text": [
      "\r",
      "Episode 484:   5%|▍         | 484/10000 [00:50<31:50,  4.98it/s, episode_reward=133, running_reward=174]"
     ]
    },
    {
     "name": "stderr",
     "output_type": "stream",
     "text": [
      "\r",
      "Episode 484:   5%|▍         | 485/10000 [00:50<29:55,  5.30it/s, episode_reward=133, running_reward=174]"
     ]
    },
    {
     "name": "stderr",
     "output_type": "stream",
     "text": [
      "\r",
      "Episode 485:   5%|▍         | 485/10000 [00:51<29:55,  5.30it/s, episode_reward=133, running_reward=174]"
     ]
    },
    {
     "name": "stderr",
     "output_type": "stream",
     "text": [
      "\r",
      "Episode 485:   5%|▍         | 485/10000 [00:51<29:55,  5.30it/s, episode_reward=120, running_reward=174]"
     ]
    },
    {
     "name": "stderr",
     "output_type": "stream",
     "text": [
      "\r",
      "Episode 485:   5%|▍         | 486/10000 [00:51<27:49,  5.70it/s, episode_reward=120, running_reward=174]"
     ]
    },
    {
     "name": "stderr",
     "output_type": "stream",
     "text": [
      "\r",
      "Episode 486:   5%|▍         | 486/10000 [00:51<27:49,  5.70it/s, episode_reward=120, running_reward=174]"
     ]
    },
    {
     "name": "stderr",
     "output_type": "stream",
     "text": [
      "\r",
      "Episode 486:   5%|▍         | 486/10000 [00:51<27:49,  5.70it/s, episode_reward=119, running_reward=174]"
     ]
    },
    {
     "name": "stderr",
     "output_type": "stream",
     "text": [
      "\r",
      "Episode 486:   5%|▍         | 487/10000 [00:51<26:23,  6.01it/s, episode_reward=119, running_reward=174]"
     ]
    },
    {
     "name": "stderr",
     "output_type": "stream",
     "text": [
      "\r",
      "Episode 487:   5%|▍         | 487/10000 [00:51<26:23,  6.01it/s, episode_reward=119, running_reward=174]"
     ]
    },
    {
     "name": "stderr",
     "output_type": "stream",
     "text": [
      "\r",
      "Episode 487:   5%|▍         | 487/10000 [00:51<26:23,  6.01it/s, episode_reward=113, running_reward=174]"
     ]
    },
    {
     "name": "stderr",
     "output_type": "stream",
     "text": [
      "\r",
      "Episode 487:   5%|▍         | 488/10000 [00:51<25:05,  6.32it/s, episode_reward=113, running_reward=174]"
     ]
    },
    {
     "name": "stderr",
     "output_type": "stream",
     "text": [
      "\r",
      "Episode 488:   5%|▍         | 488/10000 [00:51<25:05,  6.32it/s, episode_reward=113, running_reward=174]"
     ]
    },
    {
     "name": "stderr",
     "output_type": "stream",
     "text": [
      "\r",
      "Episode 488:   5%|▍         | 488/10000 [00:51<25:05,  6.32it/s, episode_reward=103, running_reward=174]"
     ]
    },
    {
     "name": "stderr",
     "output_type": "stream",
     "text": [
      "\r",
      "Episode 488:   5%|▍         | 489/10000 [00:51<23:22,  6.78it/s, episode_reward=103, running_reward=174]"
     ]
    },
    {
     "name": "stderr",
     "output_type": "stream",
     "text": [
      "\r",
      "Episode 489:   5%|▍         | 489/10000 [00:51<23:22,  6.78it/s, episode_reward=103, running_reward=174]"
     ]
    },
    {
     "name": "stderr",
     "output_type": "stream",
     "text": [
      "\r",
      "Episode 489:   5%|▍         | 489/10000 [00:51<23:22,  6.78it/s, episode_reward=110, running_reward=174]"
     ]
    },
    {
     "name": "stderr",
     "output_type": "stream",
     "text": [
      "\r",
      "Episode 489:   5%|▍         | 490/10000 [00:51<22:34,  7.02it/s, episode_reward=110, running_reward=174]"
     ]
    },
    {
     "name": "stderr",
     "output_type": "stream",
     "text": [
      "\r",
      "Episode 490:   5%|▍         | 490/10000 [00:51<22:34,  7.02it/s, episode_reward=110, running_reward=174]"
     ]
    },
    {
     "name": "stderr",
     "output_type": "stream",
     "text": [
      "\r",
      "Episode 490:   5%|▍         | 490/10000 [00:51<22:34,  7.02it/s, episode_reward=105, running_reward=174]"
     ]
    },
    {
     "name": "stderr",
     "output_type": "stream",
     "text": [
      "\r",
      "Episode 490:   5%|▍         | 491/10000 [00:51<21:42,  7.30it/s, episode_reward=105, running_reward=174]"
     ]
    },
    {
     "name": "stderr",
     "output_type": "stream",
     "text": [
      "\r",
      "Episode 491:   5%|▍         | 491/10000 [00:51<21:42,  7.30it/s, episode_reward=105, running_reward=174]"
     ]
    },
    {
     "name": "stderr",
     "output_type": "stream",
     "text": [
      "\r",
      "Episode 491:   5%|▍         | 491/10000 [00:51<21:42,  7.30it/s, episode_reward=123, running_reward=174]"
     ]
    },
    {
     "name": "stderr",
     "output_type": "stream",
     "text": [
      "\r",
      "Episode 491:   5%|▍         | 492/10000 [00:51<22:00,  7.20it/s, episode_reward=123, running_reward=174]"
     ]
    },
    {
     "name": "stderr",
     "output_type": "stream",
     "text": [
      "\r",
      "Episode 492:   5%|▍         | 492/10000 [00:51<22:00,  7.20it/s, episode_reward=123, running_reward=174]"
     ]
    },
    {
     "name": "stderr",
     "output_type": "stream",
     "text": [
      "\r",
      "Episode 492:   5%|▍         | 492/10000 [00:51<22:00,  7.20it/s, episode_reward=114, running_reward=174]"
     ]
    },
    {
     "name": "stderr",
     "output_type": "stream",
     "text": [
      "\r",
      "Episode 492:   5%|▍         | 493/10000 [00:51<21:52,  7.25it/s, episode_reward=114, running_reward=174]"
     ]
    },
    {
     "name": "stderr",
     "output_type": "stream",
     "text": [
      "\r",
      "Episode 493:   5%|▍         | 493/10000 [00:52<21:52,  7.25it/s, episode_reward=114, running_reward=174]"
     ]
    },
    {
     "name": "stderr",
     "output_type": "stream",
     "text": [
      "\r",
      "Episode 493:   5%|▍         | 493/10000 [00:52<21:52,  7.25it/s, episode_reward=126, running_reward=174]"
     ]
    },
    {
     "name": "stderr",
     "output_type": "stream",
     "text": [
      "\r",
      "Episode 493:   5%|▍         | 494/10000 [00:52<22:34,  7.02it/s, episode_reward=126, running_reward=174]"
     ]
    },
    {
     "name": "stderr",
     "output_type": "stream",
     "text": [
      "\r",
      "Episode 494:   5%|▍         | 494/10000 [00:52<22:34,  7.02it/s, episode_reward=126, running_reward=174]"
     ]
    },
    {
     "name": "stderr",
     "output_type": "stream",
     "text": [
      "\r",
      "Episode 494:   5%|▍         | 494/10000 [00:52<22:34,  7.02it/s, episode_reward=117, running_reward=174]"
     ]
    },
    {
     "name": "stderr",
     "output_type": "stream",
     "text": [
      "\r",
      "Episode 494:   5%|▍         | 495/10000 [00:52<22:37,  7.00it/s, episode_reward=117, running_reward=174]"
     ]
    },
    {
     "name": "stderr",
     "output_type": "stream",
     "text": [
      "\r",
      "Episode 495:   5%|▍         | 495/10000 [00:52<22:37,  7.00it/s, episode_reward=117, running_reward=174]"
     ]
    },
    {
     "name": "stderr",
     "output_type": "stream",
     "text": [
      "\r",
      "Episode 495:   5%|▍         | 495/10000 [00:52<22:37,  7.00it/s, episode_reward=119, running_reward=174]"
     ]
    },
    {
     "name": "stderr",
     "output_type": "stream",
     "text": [
      "\r",
      "Episode 495:   5%|▍         | 496/10000 [00:52<22:30,  7.04it/s, episode_reward=119, running_reward=174]"
     ]
    },
    {
     "name": "stderr",
     "output_type": "stream",
     "text": [
      "\r",
      "Episode 496:   5%|▍         | 496/10000 [00:52<22:30,  7.04it/s, episode_reward=119, running_reward=174]"
     ]
    },
    {
     "name": "stderr",
     "output_type": "stream",
     "text": [
      "\r",
      "Episode 496:   5%|▍         | 496/10000 [00:52<22:30,  7.04it/s, episode_reward=124, running_reward=173]"
     ]
    },
    {
     "name": "stderr",
     "output_type": "stream",
     "text": [
      "\r",
      "Episode 496:   5%|▍         | 497/10000 [00:52<22:44,  6.96it/s, episode_reward=124, running_reward=173]"
     ]
    },
    {
     "name": "stderr",
     "output_type": "stream",
     "text": [
      "\r",
      "Episode 497:   5%|▍         | 497/10000 [00:52<22:44,  6.96it/s, episode_reward=124, running_reward=173]"
     ]
    },
    {
     "name": "stderr",
     "output_type": "stream",
     "text": [
      "\r",
      "Episode 497:   5%|▍         | 497/10000 [00:52<22:44,  6.96it/s, episode_reward=139, running_reward=173]"
     ]
    },
    {
     "name": "stderr",
     "output_type": "stream",
     "text": [
      "\r",
      "Episode 497:   5%|▍         | 498/10000 [00:52<23:41,  6.69it/s, episode_reward=139, running_reward=173]"
     ]
    },
    {
     "name": "stderr",
     "output_type": "stream",
     "text": [
      "\r",
      "Episode 498:   5%|▍         | 498/10000 [00:52<23:41,  6.69it/s, episode_reward=139, running_reward=173]"
     ]
    },
    {
     "name": "stderr",
     "output_type": "stream",
     "text": [
      "\r",
      "Episode 498:   5%|▍         | 498/10000 [00:52<23:41,  6.69it/s, episode_reward=157, running_reward=174]"
     ]
    },
    {
     "name": "stderr",
     "output_type": "stream",
     "text": [
      "\r",
      "Episode 498:   5%|▍         | 499/10000 [00:52<26:05,  6.07it/s, episode_reward=157, running_reward=174]"
     ]
    },
    {
     "name": "stderr",
     "output_type": "stream",
     "text": [
      "\r",
      "Episode 499:   5%|▍         | 499/10000 [00:53<26:05,  6.07it/s, episode_reward=157, running_reward=174]"
     ]
    },
    {
     "name": "stderr",
     "output_type": "stream",
     "text": [
      "\r",
      "Episode 499:   5%|▍         | 499/10000 [00:53<26:05,  6.07it/s, episode_reward=143, running_reward=173]"
     ]
    },
    {
     "name": "stderr",
     "output_type": "stream",
     "text": [
      "\r",
      "Episode 499:   5%|▌         | 500/10000 [00:53<26:50,  5.90it/s, episode_reward=143, running_reward=173]"
     ]
    },
    {
     "name": "stderr",
     "output_type": "stream",
     "text": [
      "\r",
      "Episode 500:   5%|▌         | 500/10000 [00:53<26:50,  5.90it/s, episode_reward=143, running_reward=173]"
     ]
    },
    {
     "name": "stderr",
     "output_type": "stream",
     "text": [
      "\r",
      "Episode 500:   5%|▌         | 500/10000 [00:53<26:50,  5.90it/s, episode_reward=135, running_reward=173]"
     ]
    },
    {
     "name": "stderr",
     "output_type": "stream",
     "text": [
      "\r",
      "Episode 500:   5%|▌         | 501/10000 [00:53<26:40,  5.94it/s, episode_reward=135, running_reward=173]"
     ]
    },
    {
     "name": "stderr",
     "output_type": "stream",
     "text": [
      "\r",
      "Episode 501:   5%|▌         | 501/10000 [00:53<26:40,  5.94it/s, episode_reward=135, running_reward=173]"
     ]
    },
    {
     "name": "stderr",
     "output_type": "stream",
     "text": [
      "\r",
      "Episode 501:   5%|▌         | 501/10000 [00:53<26:40,  5.94it/s, episode_reward=172, running_reward=173]"
     ]
    },
    {
     "name": "stderr",
     "output_type": "stream",
     "text": [
      "\r",
      "Episode 501:   5%|▌         | 502/10000 [00:53<28:05,  5.63it/s, episode_reward=172, running_reward=173]"
     ]
    },
    {
     "name": "stderr",
     "output_type": "stream",
     "text": [
      "\r",
      "Episode 502:   5%|▌         | 502/10000 [00:53<28:05,  5.63it/s, episode_reward=172, running_reward=173]"
     ]
    },
    {
     "name": "stderr",
     "output_type": "stream",
     "text": [
      "\r",
      "Episode 502:   5%|▌         | 502/10000 [00:53<28:05,  5.63it/s, episode_reward=190, running_reward=173]"
     ]
    },
    {
     "name": "stderr",
     "output_type": "stream",
     "text": [
      "\r",
      "Episode 502:   5%|▌         | 503/10000 [00:53<31:00,  5.10it/s, episode_reward=190, running_reward=173]"
     ]
    },
    {
     "name": "stderr",
     "output_type": "stream",
     "text": [
      "\r",
      "Episode 503:   5%|▌         | 503/10000 [00:53<31:00,  5.10it/s, episode_reward=190, running_reward=173]"
     ]
    },
    {
     "name": "stderr",
     "output_type": "stream",
     "text": [
      "\r",
      "Episode 503:   5%|▌         | 503/10000 [00:53<31:00,  5.10it/s, episode_reward=182, running_reward=173]"
     ]
    },
    {
     "name": "stderr",
     "output_type": "stream",
     "text": [
      "\r",
      "Episode 503:   5%|▌         | 504/10000 [00:53<32:16,  4.90it/s, episode_reward=182, running_reward=173]"
     ]
    },
    {
     "name": "stderr",
     "output_type": "stream",
     "text": [
      "\r",
      "Episode 504:   5%|▌         | 504/10000 [00:54<32:16,  4.90it/s, episode_reward=182, running_reward=173]"
     ]
    },
    {
     "name": "stderr",
     "output_type": "stream",
     "text": [
      "\r",
      "Episode 504:   5%|▌         | 504/10000 [00:54<32:16,  4.90it/s, episode_reward=159, running_reward=173]"
     ]
    },
    {
     "name": "stderr",
     "output_type": "stream",
     "text": [
      "\r",
      "Episode 504:   5%|▌         | 505/10000 [00:54<31:30,  5.02it/s, episode_reward=159, running_reward=173]"
     ]
    },
    {
     "name": "stderr",
     "output_type": "stream",
     "text": [
      "\r",
      "Episode 505:   5%|▌         | 505/10000 [00:54<31:30,  5.02it/s, episode_reward=159, running_reward=173]"
     ]
    },
    {
     "name": "stderr",
     "output_type": "stream",
     "text": [
      "\r",
      "Episode 505:   5%|▌         | 505/10000 [00:54<31:30,  5.02it/s, episode_reward=184, running_reward=173]"
     ]
    },
    {
     "name": "stderr",
     "output_type": "stream",
     "text": [
      "\r",
      "Episode 505:   5%|▌         | 506/10000 [00:54<32:19,  4.90it/s, episode_reward=184, running_reward=173]"
     ]
    },
    {
     "name": "stderr",
     "output_type": "stream",
     "text": [
      "\r",
      "Episode 506:   5%|▌         | 506/10000 [00:54<32:19,  4.90it/s, episode_reward=184, running_reward=173]"
     ]
    },
    {
     "name": "stderr",
     "output_type": "stream",
     "text": [
      "\r",
      "Episode 506:   5%|▌         | 506/10000 [00:54<32:19,  4.90it/s, episode_reward=177, running_reward=173]"
     ]
    },
    {
     "name": "stderr",
     "output_type": "stream",
     "text": [
      "\r",
      "Episode 506:   5%|▌         | 507/10000 [00:54<32:26,  4.88it/s, episode_reward=177, running_reward=173]"
     ]
    },
    {
     "name": "stderr",
     "output_type": "stream",
     "text": [
      "\r",
      "Episode 507:   5%|▌         | 507/10000 [00:54<32:26,  4.88it/s, episode_reward=177, running_reward=173]"
     ]
    },
    {
     "name": "stderr",
     "output_type": "stream",
     "text": [
      "\r",
      "Episode 507:   5%|▌         | 507/10000 [00:54<32:26,  4.88it/s, episode_reward=200, running_reward=174]"
     ]
    },
    {
     "name": "stderr",
     "output_type": "stream",
     "text": [
      "\r",
      "Episode 507:   5%|▌         | 508/10000 [00:54<33:56,  4.66it/s, episode_reward=200, running_reward=174]"
     ]
    },
    {
     "name": "stderr",
     "output_type": "stream",
     "text": [
      "\r",
      "Episode 508:   5%|▌         | 508/10000 [00:54<33:56,  4.66it/s, episode_reward=200, running_reward=174]"
     ]
    },
    {
     "name": "stderr",
     "output_type": "stream",
     "text": [
      "\r",
      "Episode 508:   5%|▌         | 508/10000 [00:54<33:56,  4.66it/s, episode_reward=200, running_reward=174]"
     ]
    },
    {
     "name": "stderr",
     "output_type": "stream",
     "text": [
      "\r",
      "Episode 508:   5%|▌         | 509/10000 [00:54<34:53,  4.53it/s, episode_reward=200, running_reward=174]"
     ]
    },
    {
     "name": "stderr",
     "output_type": "stream",
     "text": [
      "\r",
      "Episode 509:   5%|▌         | 509/10000 [00:55<34:53,  4.53it/s, episode_reward=200, running_reward=174]"
     ]
    },
    {
     "name": "stderr",
     "output_type": "stream",
     "text": [
      "\r",
      "Episode 509:   5%|▌         | 509/10000 [00:55<34:53,  4.53it/s, episode_reward=200, running_reward=175]"
     ]
    },
    {
     "name": "stderr",
     "output_type": "stream",
     "text": [
      "\r",
      "Episode 509:   5%|▌         | 510/10000 [00:55<35:28,  4.46it/s, episode_reward=200, running_reward=175]"
     ]
    },
    {
     "name": "stderr",
     "output_type": "stream",
     "text": [
      "\r",
      "Episode 510:   5%|▌         | 510/10000 [00:55<35:28,  4.46it/s, episode_reward=200, running_reward=175]"
     ]
    },
    {
     "name": "stderr",
     "output_type": "stream",
     "text": [
      "\r",
      "Episode 510:   5%|▌         | 510/10000 [00:55<35:28,  4.46it/s, episode_reward=200, running_reward=175]"
     ]
    },
    {
     "name": "stderr",
     "output_type": "stream",
     "text": [
      "\r",
      "Episode 510:   5%|▌         | 511/10000 [00:55<35:58,  4.40it/s, episode_reward=200, running_reward=175]"
     ]
    },
    {
     "name": "stderr",
     "output_type": "stream",
     "text": [
      "\r",
      "Episode 511:   5%|▌         | 511/10000 [00:55<35:58,  4.40it/s, episode_reward=200, running_reward=175]"
     ]
    },
    {
     "name": "stderr",
     "output_type": "stream",
     "text": [
      "\r",
      "Episode 511:   5%|▌         | 511/10000 [00:55<35:58,  4.40it/s, episode_reward=200, running_reward=175]"
     ]
    },
    {
     "name": "stderr",
     "output_type": "stream",
     "text": [
      "\r",
      "Episode 511:   5%|▌         | 512/10000 [00:55<36:09,  4.37it/s, episode_reward=200, running_reward=175]"
     ]
    },
    {
     "name": "stderr",
     "output_type": "stream",
     "text": [
      "\r",
      "Episode 512:   5%|▌         | 512/10000 [00:55<36:09,  4.37it/s, episode_reward=200, running_reward=175]"
     ]
    },
    {
     "name": "stderr",
     "output_type": "stream",
     "text": [
      "\r",
      "Episode 512:   5%|▌         | 512/10000 [00:55<36:09,  4.37it/s, episode_reward=200, running_reward=176]"
     ]
    },
    {
     "name": "stderr",
     "output_type": "stream",
     "text": [
      "\r",
      "Episode 512:   5%|▌         | 513/10000 [00:55<36:21,  4.35it/s, episode_reward=200, running_reward=176]"
     ]
    },
    {
     "name": "stderr",
     "output_type": "stream",
     "text": [
      "\r",
      "Episode 513:   5%|▌         | 513/10000 [00:56<36:21,  4.35it/s, episode_reward=200, running_reward=176]"
     ]
    },
    {
     "name": "stderr",
     "output_type": "stream",
     "text": [
      "\r",
      "Episode 513:   5%|▌         | 513/10000 [00:56<36:21,  4.35it/s, episode_reward=200, running_reward=176]"
     ]
    },
    {
     "name": "stderr",
     "output_type": "stream",
     "text": [
      "\r",
      "Episode 513:   5%|▌         | 514/10000 [00:56<36:31,  4.33it/s, episode_reward=200, running_reward=176]"
     ]
    },
    {
     "name": "stderr",
     "output_type": "stream",
     "text": [
      "\r",
      "Episode 514:   5%|▌         | 514/10000 [00:56<36:31,  4.33it/s, episode_reward=200, running_reward=176]"
     ]
    },
    {
     "name": "stderr",
     "output_type": "stream",
     "text": [
      "\r",
      "Episode 514:   5%|▌         | 514/10000 [00:56<36:31,  4.33it/s, episode_reward=200, running_reward=176]"
     ]
    },
    {
     "name": "stderr",
     "output_type": "stream",
     "text": [
      "\r",
      "Episode 514:   5%|▌         | 515/10000 [00:56<36:42,  4.31it/s, episode_reward=200, running_reward=176]"
     ]
    },
    {
     "name": "stderr",
     "output_type": "stream",
     "text": [
      "\r",
      "Episode 515:   5%|▌         | 515/10000 [00:56<36:42,  4.31it/s, episode_reward=200, running_reward=176]"
     ]
    },
    {
     "name": "stderr",
     "output_type": "stream",
     "text": [
      "\r",
      "Episode 515:   5%|▌         | 515/10000 [00:56<36:42,  4.31it/s, episode_reward=200, running_reward=176]"
     ]
    },
    {
     "name": "stderr",
     "output_type": "stream",
     "text": [
      "\r",
      "Episode 515:   5%|▌         | 516/10000 [00:56<36:45,  4.30it/s, episode_reward=200, running_reward=176]"
     ]
    },
    {
     "name": "stderr",
     "output_type": "stream",
     "text": [
      "\r",
      "Episode 516:   5%|▌         | 516/10000 [00:56<36:45,  4.30it/s, episode_reward=200, running_reward=176]"
     ]
    },
    {
     "name": "stderr",
     "output_type": "stream",
     "text": [
      "\r",
      "Episode 516:   5%|▌         | 516/10000 [00:56<36:45,  4.30it/s, episode_reward=200, running_reward=176]"
     ]
    },
    {
     "name": "stderr",
     "output_type": "stream",
     "text": [
      "\r",
      "Episode 516:   5%|▌         | 517/10000 [00:56<36:46,  4.30it/s, episode_reward=200, running_reward=176]"
     ]
    },
    {
     "name": "stderr",
     "output_type": "stream",
     "text": [
      "\r",
      "Episode 517:   5%|▌         | 517/10000 [00:57<36:46,  4.30it/s, episode_reward=200, running_reward=176]"
     ]
    },
    {
     "name": "stderr",
     "output_type": "stream",
     "text": [
      "\r",
      "Episode 517:   5%|▌         | 517/10000 [00:57<36:46,  4.30it/s, episode_reward=200, running_reward=176]"
     ]
    },
    {
     "name": "stderr",
     "output_type": "stream",
     "text": [
      "\r",
      "Episode 517:   5%|▌         | 518/10000 [00:57<36:44,  4.30it/s, episode_reward=200, running_reward=176]"
     ]
    },
    {
     "name": "stderr",
     "output_type": "stream",
     "text": [
      "\r",
      "Episode 518:   5%|▌         | 518/10000 [00:57<36:44,  4.30it/s, episode_reward=200, running_reward=176]"
     ]
    },
    {
     "name": "stderr",
     "output_type": "stream",
     "text": [
      "\r",
      "Episode 518:   5%|▌         | 518/10000 [00:57<36:44,  4.30it/s, episode_reward=200, running_reward=176]"
     ]
    },
    {
     "name": "stderr",
     "output_type": "stream",
     "text": [
      "\r",
      "Episode 518:   5%|▌         | 519/10000 [00:57<36:44,  4.30it/s, episode_reward=200, running_reward=176]"
     ]
    },
    {
     "name": "stderr",
     "output_type": "stream",
     "text": [
      "\r",
      "Episode 519:   5%|▌         | 519/10000 [00:57<36:44,  4.30it/s, episode_reward=200, running_reward=176]"
     ]
    },
    {
     "name": "stderr",
     "output_type": "stream",
     "text": [
      "\r",
      "Episode 519:   5%|▌         | 519/10000 [00:57<36:44,  4.30it/s, episode_reward=200, running_reward=176]"
     ]
    },
    {
     "name": "stderr",
     "output_type": "stream",
     "text": [
      "\r",
      "Episode 519:   5%|▌         | 520/10000 [00:57<36:36,  4.32it/s, episode_reward=200, running_reward=176]"
     ]
    },
    {
     "name": "stderr",
     "output_type": "stream",
     "text": [
      "\r",
      "Episode 520:   5%|▌         | 520/10000 [00:57<36:36,  4.32it/s, episode_reward=200, running_reward=176]"
     ]
    },
    {
     "name": "stderr",
     "output_type": "stream",
     "text": [
      "\r",
      "Episode 520:   5%|▌         | 520/10000 [00:57<36:36,  4.32it/s, episode_reward=200, running_reward=176]"
     ]
    },
    {
     "name": "stderr",
     "output_type": "stream",
     "text": [
      "\r",
      "Episode 520:   5%|▌         | 521/10000 [00:57<36:29,  4.33it/s, episode_reward=200, running_reward=176]"
     ]
    },
    {
     "name": "stderr",
     "output_type": "stream",
     "text": [
      "\r",
      "Episode 521:   5%|▌         | 521/10000 [00:58<36:29,  4.33it/s, episode_reward=200, running_reward=176]"
     ]
    },
    {
     "name": "stderr",
     "output_type": "stream",
     "text": [
      "\r",
      "Episode 521:   5%|▌         | 521/10000 [00:58<36:29,  4.33it/s, episode_reward=200, running_reward=176]"
     ]
    },
    {
     "name": "stderr",
     "output_type": "stream",
     "text": [
      "\r",
      "Episode 521:   5%|▌         | 522/10000 [00:58<36:27,  4.33it/s, episode_reward=200, running_reward=176]"
     ]
    },
    {
     "name": "stderr",
     "output_type": "stream",
     "text": [
      "\r",
      "Episode 522:   5%|▌         | 522/10000 [00:58<36:27,  4.33it/s, episode_reward=200, running_reward=176]"
     ]
    },
    {
     "name": "stderr",
     "output_type": "stream",
     "text": [
      "\r",
      "Episode 522:   5%|▌         | 522/10000 [00:58<36:27,  4.33it/s, episode_reward=200, running_reward=176]"
     ]
    },
    {
     "name": "stderr",
     "output_type": "stream",
     "text": [
      "\r",
      "Episode 522:   5%|▌         | 523/10000 [00:58<36:22,  4.34it/s, episode_reward=200, running_reward=176]"
     ]
    },
    {
     "name": "stderr",
     "output_type": "stream",
     "text": [
      "\r",
      "Episode 523:   5%|▌         | 523/10000 [00:58<36:22,  4.34it/s, episode_reward=200, running_reward=176]"
     ]
    },
    {
     "name": "stderr",
     "output_type": "stream",
     "text": [
      "\r",
      "Episode 523:   5%|▌         | 523/10000 [00:58<36:22,  4.34it/s, episode_reward=200, running_reward=176]"
     ]
    },
    {
     "name": "stderr",
     "output_type": "stream",
     "text": [
      "\r",
      "Episode 523:   5%|▌         | 524/10000 [00:58<36:31,  4.32it/s, episode_reward=200, running_reward=176]"
     ]
    },
    {
     "name": "stderr",
     "output_type": "stream",
     "text": [
      "\r",
      "Episode 524:   5%|▌         | 524/10000 [00:58<36:31,  4.32it/s, episode_reward=200, running_reward=176]"
     ]
    },
    {
     "name": "stderr",
     "output_type": "stream",
     "text": [
      "\r",
      "Episode 524:   5%|▌         | 524/10000 [00:58<36:31,  4.32it/s, episode_reward=175, running_reward=176]"
     ]
    },
    {
     "name": "stderr",
     "output_type": "stream",
     "text": [
      "\r",
      "Episode 524:   5%|▌         | 525/10000 [00:58<35:08,  4.49it/s, episode_reward=175, running_reward=176]"
     ]
    },
    {
     "name": "stderr",
     "output_type": "stream",
     "text": [
      "\r",
      "Episode 525:   5%|▌         | 525/10000 [00:58<35:08,  4.49it/s, episode_reward=175, running_reward=176]"
     ]
    },
    {
     "name": "stderr",
     "output_type": "stream",
     "text": [
      "\r",
      "Episode 525:   5%|▌         | 525/10000 [00:58<35:08,  4.49it/s, episode_reward=195, running_reward=176]"
     ]
    },
    {
     "name": "stderr",
     "output_type": "stream",
     "text": [
      "\r",
      "Episode 525:   5%|▌         | 526/10000 [00:58<35:12,  4.48it/s, episode_reward=195, running_reward=176]"
     ]
    },
    {
     "name": "stderr",
     "output_type": "stream",
     "text": [
      "\r",
      "Episode 526:   5%|▌         | 526/10000 [00:59<35:12,  4.48it/s, episode_reward=195, running_reward=176]"
     ]
    },
    {
     "name": "stderr",
     "output_type": "stream",
     "text": [
      "\r",
      "Episode 526:   5%|▌         | 526/10000 [00:59<35:12,  4.48it/s, episode_reward=185, running_reward=176]"
     ]
    },
    {
     "name": "stderr",
     "output_type": "stream",
     "text": [
      "\r",
      "Episode 526:   5%|▌         | 527/10000 [00:59<34:52,  4.53it/s, episode_reward=185, running_reward=176]"
     ]
    },
    {
     "name": "stderr",
     "output_type": "stream",
     "text": [
      "\r",
      "Episode 527:   5%|▌         | 527/10000 [00:59<34:52,  4.53it/s, episode_reward=185, running_reward=176]"
     ]
    },
    {
     "name": "stderr",
     "output_type": "stream",
     "text": [
      "\r",
      "Episode 527:   5%|▌         | 527/10000 [00:59<34:52,  4.53it/s, episode_reward=136, running_reward=175]"
     ]
    },
    {
     "name": "stderr",
     "output_type": "stream",
     "text": [
      "\r",
      "Episode 527:   5%|▌         | 528/10000 [00:59<32:00,  4.93it/s, episode_reward=136, running_reward=175]"
     ]
    },
    {
     "name": "stderr",
     "output_type": "stream",
     "text": [
      "\r",
      "Episode 528:   5%|▌         | 528/10000 [00:59<32:00,  4.93it/s, episode_reward=136, running_reward=175]"
     ]
    },
    {
     "name": "stderr",
     "output_type": "stream",
     "text": [
      "\r",
      "Episode 528:   5%|▌         | 528/10000 [00:59<32:00,  4.93it/s, episode_reward=124, running_reward=174]"
     ]
    },
    {
     "name": "stderr",
     "output_type": "stream",
     "text": [
      "\r",
      "Episode 528:   5%|▌         | 529/10000 [00:59<29:23,  5.37it/s, episode_reward=124, running_reward=174]"
     ]
    },
    {
     "name": "stderr",
     "output_type": "stream",
     "text": [
      "\r",
      "Episode 529:   5%|▌         | 529/10000 [00:59<29:23,  5.37it/s, episode_reward=124, running_reward=174]"
     ]
    },
    {
     "name": "stderr",
     "output_type": "stream",
     "text": [
      "\r",
      "Episode 529:   5%|▌         | 529/10000 [00:59<29:23,  5.37it/s, episode_reward=110, running_reward=174]"
     ]
    },
    {
     "name": "stderr",
     "output_type": "stream",
     "text": [
      "\r",
      "Episode 529:   5%|▌         | 530/10000 [00:59<26:48,  5.89it/s, episode_reward=110, running_reward=174]"
     ]
    },
    {
     "name": "stderr",
     "output_type": "stream",
     "text": [
      "\r",
      "Episode 530:   5%|▌         | 530/10000 [00:59<26:48,  5.89it/s, episode_reward=110, running_reward=174]"
     ]
    },
    {
     "name": "stderr",
     "output_type": "stream",
     "text": [
      "\r",
      "Episode 530:   5%|▌         | 530/10000 [00:59<26:48,  5.89it/s, episode_reward=113, running_reward=173]"
     ]
    },
    {
     "name": "stderr",
     "output_type": "stream",
     "text": [
      "\r",
      "Episode 530:   5%|▌         | 531/10000 [00:59<25:14,  6.25it/s, episode_reward=113, running_reward=173]"
     ]
    },
    {
     "name": "stderr",
     "output_type": "stream",
     "text": [
      "\r",
      "Episode 531:   5%|▌         | 531/10000 [00:59<25:14,  6.25it/s, episode_reward=113, running_reward=173]"
     ]
    },
    {
     "name": "stderr",
     "output_type": "stream",
     "text": [
      "\r",
      "Episode 531:   5%|▌         | 531/10000 [00:59<25:14,  6.25it/s, episode_reward=100, running_reward=172]"
     ]
    },
    {
     "name": "stderr",
     "output_type": "stream",
     "text": [
      "\r",
      "Episode 531:   5%|▌         | 532/10000 [00:59<23:27,  6.73it/s, episode_reward=100, running_reward=172]"
     ]
    },
    {
     "name": "stderr",
     "output_type": "stream",
     "text": [
      "\r",
      "Episode 532:   5%|▌         | 532/10000 [00:59<23:27,  6.73it/s, episode_reward=100, running_reward=172]"
     ]
    },
    {
     "name": "stderr",
     "output_type": "stream",
     "text": [
      "\r",
      "Episode 532:   5%|▌         | 532/10000 [00:59<23:27,  6.73it/s, episode_reward=89, running_reward=171] "
     ]
    },
    {
     "name": "stderr",
     "output_type": "stream",
     "text": [
      "\r",
      "Episode 532:   5%|▌         | 533/10000 [00:59<21:32,  7.32it/s, episode_reward=89, running_reward=171]"
     ]
    },
    {
     "name": "stderr",
     "output_type": "stream",
     "text": [
      "\r",
      "Episode 533:   5%|▌         | 533/10000 [01:00<21:32,  7.32it/s, episode_reward=89, running_reward=171]"
     ]
    },
    {
     "name": "stderr",
     "output_type": "stream",
     "text": [
      "\r",
      "Episode 533:   5%|▌         | 533/10000 [01:00<21:32,  7.32it/s, episode_reward=99, running_reward=170]"
     ]
    },
    {
     "name": "stderr",
     "output_type": "stream",
     "text": [
      "\r",
      "Episode 533:   5%|▌         | 534/10000 [01:00<20:48,  7.58it/s, episode_reward=99, running_reward=170]"
     ]
    },
    {
     "name": "stderr",
     "output_type": "stream",
     "text": [
      "\r",
      "Episode 534:   5%|▌         | 534/10000 [01:00<20:48,  7.58it/s, episode_reward=99, running_reward=170]"
     ]
    },
    {
     "name": "stderr",
     "output_type": "stream",
     "text": [
      "\r",
      "Episode 534:   5%|▌         | 534/10000 [01:00<20:48,  7.58it/s, episode_reward=94, running_reward=169]"
     ]
    },
    {
     "name": "stderr",
     "output_type": "stream",
     "text": [
      "\r",
      "Episode 534:   5%|▌         | 535/10000 [01:00<19:58,  7.90it/s, episode_reward=94, running_reward=169]"
     ]
    },
    {
     "name": "stderr",
     "output_type": "stream",
     "text": [
      "\r",
      "Episode 535:   5%|▌         | 535/10000 [01:00<19:58,  7.90it/s, episode_reward=94, running_reward=169]"
     ]
    },
    {
     "name": "stderr",
     "output_type": "stream",
     "text": [
      "\r",
      "Episode 535:   5%|▌         | 535/10000 [01:00<19:58,  7.90it/s, episode_reward=81, running_reward=169]"
     ]
    },
    {
     "name": "stderr",
     "output_type": "stream",
     "text": [
      "\r",
      "Episode 536:   5%|▌         | 535/10000 [01:00<19:58,  7.90it/s, episode_reward=81, running_reward=169]"
     ]
    },
    {
     "name": "stderr",
     "output_type": "stream",
     "text": [
      "\r",
      "Episode 536:   5%|▌         | 535/10000 [01:00<19:58,  7.90it/s, episode_reward=78, running_reward=168]"
     ]
    },
    {
     "name": "stderr",
     "output_type": "stream",
     "text": [
      "\r",
      "Episode 536:   5%|▌         | 537/10000 [01:00<17:45,  8.88it/s, episode_reward=78, running_reward=168]"
     ]
    },
    {
     "name": "stderr",
     "output_type": "stream",
     "text": [
      "\r",
      "Episode 537:   5%|▌         | 537/10000 [01:00<17:45,  8.88it/s, episode_reward=78, running_reward=168]"
     ]
    },
    {
     "name": "stderr",
     "output_type": "stream",
     "text": [
      "\r",
      "Episode 537:   5%|▌         | 537/10000 [01:00<17:45,  8.88it/s, episode_reward=80, running_reward=166]"
     ]
    },
    {
     "name": "stderr",
     "output_type": "stream",
     "text": [
      "\r",
      "Episode 538:   5%|▌         | 537/10000 [01:00<17:45,  8.88it/s, episode_reward=80, running_reward=166]"
     ]
    },
    {
     "name": "stderr",
     "output_type": "stream",
     "text": [
      "\r",
      "Episode 538:   5%|▌         | 537/10000 [01:00<17:45,  8.88it/s, episode_reward=85, running_reward=165]"
     ]
    },
    {
     "name": "stderr",
     "output_type": "stream",
     "text": [
      "\r",
      "Episode 538:   5%|▌         | 539/10000 [01:00<16:54,  9.33it/s, episode_reward=85, running_reward=165]"
     ]
    },
    {
     "name": "stderr",
     "output_type": "stream",
     "text": [
      "\r",
      "Episode 539:   5%|▌         | 539/10000 [01:00<16:54,  9.33it/s, episode_reward=85, running_reward=165]"
     ]
    },
    {
     "name": "stderr",
     "output_type": "stream",
     "text": [
      "\r",
      "Episode 539:   5%|▌         | 539/10000 [01:00<16:54,  9.33it/s, episode_reward=74, running_reward=165]"
     ]
    },
    {
     "name": "stderr",
     "output_type": "stream",
     "text": [
      "\r",
      "Episode 540:   5%|▌         | 539/10000 [01:00<16:54,  9.33it/s, episode_reward=74, running_reward=165]"
     ]
    },
    {
     "name": "stderr",
     "output_type": "stream",
     "text": [
      "\r",
      "Episode 540:   5%|▌         | 539/10000 [01:00<16:54,  9.33it/s, episode_reward=71, running_reward=164]"
     ]
    },
    {
     "name": "stderr",
     "output_type": "stream",
     "text": [
      "\r",
      "Episode 540:   5%|▌         | 541/10000 [01:00<15:55,  9.90it/s, episode_reward=71, running_reward=164]"
     ]
    },
    {
     "name": "stderr",
     "output_type": "stream",
     "text": [
      "\r",
      "Episode 541:   5%|▌         | 541/10000 [01:00<15:55,  9.90it/s, episode_reward=71, running_reward=164]"
     ]
    },
    {
     "name": "stderr",
     "output_type": "stream",
     "text": [
      "\r",
      "Episode 541:   5%|▌         | 541/10000 [01:00<15:55,  9.90it/s, episode_reward=85, running_reward=163]"
     ]
    },
    {
     "name": "stderr",
     "output_type": "stream",
     "text": [
      "\r",
      "Episode 541:   5%|▌         | 542/10000 [01:00<16:00,  9.84it/s, episode_reward=85, running_reward=163]"
     ]
    },
    {
     "name": "stderr",
     "output_type": "stream",
     "text": [
      "\r",
      "Episode 542:   5%|▌         | 542/10000 [01:00<16:00,  9.84it/s, episode_reward=85, running_reward=163]"
     ]
    },
    {
     "name": "stderr",
     "output_type": "stream",
     "text": [
      "\r",
      "Episode 542:   5%|▌         | 542/10000 [01:00<16:00,  9.84it/s, episode_reward=70, running_reward=162]"
     ]
    },
    {
     "name": "stderr",
     "output_type": "stream",
     "text": [
      "\r",
      "Episode 543:   5%|▌         | 542/10000 [01:01<16:00,  9.84it/s, episode_reward=70, running_reward=162]"
     ]
    },
    {
     "name": "stderr",
     "output_type": "stream",
     "text": [
      "\r",
      "Episode 543:   5%|▌         | 542/10000 [01:01<16:00,  9.84it/s, episode_reward=77, running_reward=161]"
     ]
    },
    {
     "name": "stderr",
     "output_type": "stream",
     "text": [
      "\r",
      "Episode 543:   5%|▌         | 544/10000 [01:01<15:25, 10.22it/s, episode_reward=77, running_reward=161]"
     ]
    },
    {
     "name": "stderr",
     "output_type": "stream",
     "text": [
      "\r",
      "Episode 544:   5%|▌         | 544/10000 [01:01<15:25, 10.22it/s, episode_reward=77, running_reward=161]"
     ]
    },
    {
     "name": "stderr",
     "output_type": "stream",
     "text": [
      "\r",
      "Episode 544:   5%|▌         | 544/10000 [01:01<15:25, 10.22it/s, episode_reward=28, running_reward=160]"
     ]
    },
    {
     "name": "stderr",
     "output_type": "stream",
     "text": [
      "\r",
      "Episode 545:   5%|▌         | 544/10000 [01:01<15:25, 10.22it/s, episode_reward=28, running_reward=160]"
     ]
    },
    {
     "name": "stderr",
     "output_type": "stream",
     "text": [
      "\r",
      "Episode 545:   5%|▌         | 544/10000 [01:01<15:25, 10.22it/s, episode_reward=32, running_reward=158]"
     ]
    },
    {
     "name": "stderr",
     "output_type": "stream",
     "text": [
      "\r",
      "Episode 546:   5%|▌         | 544/10000 [01:01<15:25, 10.22it/s, episode_reward=32, running_reward=158]"
     ]
    },
    {
     "name": "stderr",
     "output_type": "stream",
     "text": [
      "\r",
      "Episode 546:   5%|▌         | 544/10000 [01:01<15:25, 10.22it/s, episode_reward=87, running_reward=157]"
     ]
    },
    {
     "name": "stderr",
     "output_type": "stream",
     "text": [
      "\r",
      "Episode 546:   5%|▌         | 547/10000 [01:01<12:54, 12.20it/s, episode_reward=87, running_reward=157]"
     ]
    },
    {
     "name": "stderr",
     "output_type": "stream",
     "text": [
      "\r",
      "Episode 547:   5%|▌         | 547/10000 [01:01<12:54, 12.20it/s, episode_reward=87, running_reward=157]"
     ]
    },
    {
     "name": "stderr",
     "output_type": "stream",
     "text": [
      "\r",
      "Episode 547:   5%|▌         | 547/10000 [01:01<12:54, 12.20it/s, episode_reward=76, running_reward=156]"
     ]
    },
    {
     "name": "stderr",
     "output_type": "stream",
     "text": [
      "\r",
      "Episode 548:   5%|▌         | 547/10000 [01:01<12:54, 12.20it/s, episode_reward=76, running_reward=156]"
     ]
    },
    {
     "name": "stderr",
     "output_type": "stream",
     "text": [
      "\r",
      "Episode 548:   5%|▌         | 547/10000 [01:01<12:54, 12.20it/s, episode_reward=84, running_reward=156]"
     ]
    },
    {
     "name": "stderr",
     "output_type": "stream",
     "text": [
      "\r",
      "Episode 548:   5%|▌         | 549/10000 [01:01<13:38, 11.55it/s, episode_reward=84, running_reward=156]"
     ]
    },
    {
     "name": "stderr",
     "output_type": "stream",
     "text": [
      "\r",
      "Episode 549:   5%|▌         | 549/10000 [01:01<13:38, 11.55it/s, episode_reward=84, running_reward=156]"
     ]
    },
    {
     "name": "stderr",
     "output_type": "stream",
     "text": [
      "\r",
      "Episode 549:   5%|▌         | 549/10000 [01:01<13:38, 11.55it/s, episode_reward=77, running_reward=155]"
     ]
    },
    {
     "name": "stderr",
     "output_type": "stream",
     "text": [
      "\r",
      "Episode 550:   5%|▌         | 549/10000 [01:01<13:38, 11.55it/s, episode_reward=77, running_reward=155]"
     ]
    },
    {
     "name": "stderr",
     "output_type": "stream",
     "text": [
      "\r",
      "Episode 550:   5%|▌         | 549/10000 [01:01<13:38, 11.55it/s, episode_reward=78, running_reward=154]"
     ]
    },
    {
     "name": "stderr",
     "output_type": "stream",
     "text": [
      "\r",
      "Episode 550:   6%|▌         | 551/10000 [01:01<14:03, 11.20it/s, episode_reward=78, running_reward=154]"
     ]
    },
    {
     "name": "stderr",
     "output_type": "stream",
     "text": [
      "\r",
      "Episode 551:   6%|▌         | 551/10000 [01:01<14:03, 11.20it/s, episode_reward=78, running_reward=154]"
     ]
    },
    {
     "name": "stderr",
     "output_type": "stream",
     "text": [
      "\r",
      "Episode 551:   6%|▌         | 551/10000 [01:01<14:03, 11.20it/s, episode_reward=78, running_reward=153]"
     ]
    },
    {
     "name": "stderr",
     "output_type": "stream",
     "text": [
      "\r",
      "Episode 552:   6%|▌         | 551/10000 [01:01<14:03, 11.20it/s, episode_reward=78, running_reward=153]"
     ]
    },
    {
     "name": "stderr",
     "output_type": "stream",
     "text": [
      "\r",
      "Episode 552:   6%|▌         | 551/10000 [01:01<14:03, 11.20it/s, episode_reward=87, running_reward=152]"
     ]
    },
    {
     "name": "stderr",
     "output_type": "stream",
     "text": [
      "\r",
      "Episode 552:   6%|▌         | 553/10000 [01:01<14:35, 10.79it/s, episode_reward=87, running_reward=152]"
     ]
    },
    {
     "name": "stderr",
     "output_type": "stream",
     "text": [
      "\r",
      "Episode 553:   6%|▌         | 553/10000 [01:01<14:35, 10.79it/s, episode_reward=87, running_reward=152]"
     ]
    },
    {
     "name": "stderr",
     "output_type": "stream",
     "text": [
      "\r",
      "Episode 553:   6%|▌         | 553/10000 [01:01<14:35, 10.79it/s, episode_reward=84, running_reward=150]"
     ]
    },
    {
     "name": "stderr",
     "output_type": "stream",
     "text": [
      "\r",
      "Episode 554:   6%|▌         | 553/10000 [01:02<14:35, 10.79it/s, episode_reward=84, running_reward=150]"
     ]
    },
    {
     "name": "stderr",
     "output_type": "stream",
     "text": [
      "\r",
      "Episode 554:   6%|▌         | 553/10000 [01:02<14:35, 10.79it/s, episode_reward=86, running_reward=149]"
     ]
    },
    {
     "name": "stderr",
     "output_type": "stream",
     "text": [
      "\r",
      "Episode 554:   6%|▌         | 555/10000 [01:02<15:04, 10.44it/s, episode_reward=86, running_reward=149]"
     ]
    },
    {
     "name": "stderr",
     "output_type": "stream",
     "text": [
      "\r",
      "Episode 555:   6%|▌         | 555/10000 [01:02<15:04, 10.44it/s, episode_reward=86, running_reward=149]"
     ]
    },
    {
     "name": "stderr",
     "output_type": "stream",
     "text": [
      "\r",
      "Episode 555:   6%|▌         | 555/10000 [01:02<15:04, 10.44it/s, episode_reward=82, running_reward=148]"
     ]
    },
    {
     "name": "stderr",
     "output_type": "stream",
     "text": [
      "\r",
      "Episode 556:   6%|▌         | 555/10000 [01:02<15:04, 10.44it/s, episode_reward=82, running_reward=148]"
     ]
    },
    {
     "name": "stderr",
     "output_type": "stream",
     "text": [
      "\r",
      "Episode 556:   6%|▌         | 555/10000 [01:02<15:04, 10.44it/s, episode_reward=87, running_reward=147]"
     ]
    },
    {
     "name": "stderr",
     "output_type": "stream",
     "text": [
      "\r",
      "Episode 556:   6%|▌         | 557/10000 [01:02<15:27, 10.18it/s, episode_reward=87, running_reward=147]"
     ]
    },
    {
     "name": "stderr",
     "output_type": "stream",
     "text": [
      "\r",
      "Episode 557:   6%|▌         | 557/10000 [01:02<15:27, 10.18it/s, episode_reward=87, running_reward=147]"
     ]
    },
    {
     "name": "stderr",
     "output_type": "stream",
     "text": [
      "\r",
      "Episode 557:   6%|▌         | 557/10000 [01:02<15:27, 10.18it/s, episode_reward=78, running_reward=146]"
     ]
    },
    {
     "name": "stderr",
     "output_type": "stream",
     "text": [
      "\r",
      "Episode 558:   6%|▌         | 557/10000 [01:02<15:27, 10.18it/s, episode_reward=78, running_reward=146]"
     ]
    },
    {
     "name": "stderr",
     "output_type": "stream",
     "text": [
      "\r",
      "Episode 558:   6%|▌         | 557/10000 [01:02<15:27, 10.18it/s, episode_reward=84, running_reward=145]"
     ]
    },
    {
     "name": "stderr",
     "output_type": "stream",
     "text": [
      "\r",
      "Episode 558:   6%|▌         | 559/10000 [01:02<15:29, 10.15it/s, episode_reward=84, running_reward=145]"
     ]
    },
    {
     "name": "stderr",
     "output_type": "stream",
     "text": [
      "\r",
      "Episode 559:   6%|▌         | 559/10000 [01:02<15:29, 10.15it/s, episode_reward=84, running_reward=145]"
     ]
    },
    {
     "name": "stderr",
     "output_type": "stream",
     "text": [
      "\r",
      "Episode 559:   6%|▌         | 559/10000 [01:02<15:29, 10.15it/s, episode_reward=73, running_reward=144]"
     ]
    },
    {
     "name": "stderr",
     "output_type": "stream",
     "text": [
      "\r",
      "Episode 560:   6%|▌         | 559/10000 [01:02<15:29, 10.15it/s, episode_reward=73, running_reward=144]"
     ]
    },
    {
     "name": "stderr",
     "output_type": "stream",
     "text": [
      "\r",
      "Episode 560:   6%|▌         | 559/10000 [01:02<15:29, 10.15it/s, episode_reward=81, running_reward=143]"
     ]
    },
    {
     "name": "stderr",
     "output_type": "stream",
     "text": [
      "\r",
      "Episode 560:   6%|▌         | 561/10000 [01:02<15:22, 10.24it/s, episode_reward=81, running_reward=143]"
     ]
    },
    {
     "name": "stderr",
     "output_type": "stream",
     "text": [
      "\r",
      "Episode 561:   6%|▌         | 561/10000 [01:02<15:22, 10.24it/s, episode_reward=81, running_reward=143]"
     ]
    },
    {
     "name": "stderr",
     "output_type": "stream",
     "text": [
      "\r",
      "Episode 561:   6%|▌         | 561/10000 [01:02<15:22, 10.24it/s, episode_reward=76, running_reward=142]"
     ]
    },
    {
     "name": "stderr",
     "output_type": "stream",
     "text": [
      "\r",
      "Episode 562:   6%|▌         | 561/10000 [01:02<15:22, 10.24it/s, episode_reward=76, running_reward=142]"
     ]
    },
    {
     "name": "stderr",
     "output_type": "stream",
     "text": [
      "\r",
      "Episode 562:   6%|▌         | 561/10000 [01:02<15:22, 10.24it/s, episode_reward=87, running_reward=141]"
     ]
    },
    {
     "name": "stderr",
     "output_type": "stream",
     "text": [
      "\r",
      "Episode 562:   6%|▌         | 563/10000 [01:02<15:28, 10.16it/s, episode_reward=87, running_reward=141]"
     ]
    },
    {
     "name": "stderr",
     "output_type": "stream",
     "text": [
      "\r",
      "Episode 563:   6%|▌         | 563/10000 [01:02<15:28, 10.16it/s, episode_reward=87, running_reward=141]"
     ]
    },
    {
     "name": "stderr",
     "output_type": "stream",
     "text": [
      "\r",
      "Episode 563:   6%|▌         | 563/10000 [01:02<15:28, 10.16it/s, episode_reward=97, running_reward=140]"
     ]
    },
    {
     "name": "stderr",
     "output_type": "stream",
     "text": [
      "\r",
      "Episode 564:   6%|▌         | 563/10000 [01:03<15:28, 10.16it/s, episode_reward=97, running_reward=140]"
     ]
    },
    {
     "name": "stderr",
     "output_type": "stream",
     "text": [
      "\r",
      "Episode 564:   6%|▌         | 563/10000 [01:03<15:28, 10.16it/s, episode_reward=74, running_reward=139]"
     ]
    },
    {
     "name": "stderr",
     "output_type": "stream",
     "text": [
      "\r",
      "Episode 564:   6%|▌         | 565/10000 [01:03<15:43, 10.00it/s, episode_reward=74, running_reward=139]"
     ]
    },
    {
     "name": "stderr",
     "output_type": "stream",
     "text": [
      "\r",
      "Episode 565:   6%|▌         | 565/10000 [01:03<15:43, 10.00it/s, episode_reward=74, running_reward=139]"
     ]
    },
    {
     "name": "stderr",
     "output_type": "stream",
     "text": [
      "\r",
      "Episode 565:   6%|▌         | 565/10000 [01:03<15:43, 10.00it/s, episode_reward=81, running_reward=138]"
     ]
    },
    {
     "name": "stderr",
     "output_type": "stream",
     "text": [
      "\r",
      "Episode 566:   6%|▌         | 565/10000 [01:03<15:43, 10.00it/s, episode_reward=81, running_reward=138]"
     ]
    },
    {
     "name": "stderr",
     "output_type": "stream",
     "text": [
      "\r",
      "Episode 566:   6%|▌         | 565/10000 [01:03<15:43, 10.00it/s, episode_reward=78, running_reward=137]"
     ]
    },
    {
     "name": "stderr",
     "output_type": "stream",
     "text": [
      "\r",
      "Episode 566:   6%|▌         | 567/10000 [01:03<15:35, 10.09it/s, episode_reward=78, running_reward=137]"
     ]
    },
    {
     "name": "stderr",
     "output_type": "stream",
     "text": [
      "\r",
      "Episode 567:   6%|▌         | 567/10000 [01:03<15:35, 10.09it/s, episode_reward=78, running_reward=137]"
     ]
    },
    {
     "name": "stderr",
     "output_type": "stream",
     "text": [
      "\r",
      "Episode 567:   6%|▌         | 567/10000 [01:03<15:35, 10.09it/s, episode_reward=89, running_reward=136]"
     ]
    },
    {
     "name": "stderr",
     "output_type": "stream",
     "text": [
      "\r",
      "Episode 568:   6%|▌         | 567/10000 [01:03<15:35, 10.09it/s, episode_reward=89, running_reward=136]"
     ]
    },
    {
     "name": "stderr",
     "output_type": "stream",
     "text": [
      "\r",
      "Episode 568:   6%|▌         | 567/10000 [01:03<15:35, 10.09it/s, episode_reward=92, running_reward=135]"
     ]
    },
    {
     "name": "stderr",
     "output_type": "stream",
     "text": [
      "\r",
      "Episode 568:   6%|▌         | 569/10000 [01:03<16:05,  9.77it/s, episode_reward=92, running_reward=135]"
     ]
    },
    {
     "name": "stderr",
     "output_type": "stream",
     "text": [
      "\r",
      "Episode 569:   6%|▌         | 569/10000 [01:03<16:05,  9.77it/s, episode_reward=92, running_reward=135]"
     ]
    },
    {
     "name": "stderr",
     "output_type": "stream",
     "text": [
      "\r",
      "Episode 569:   6%|▌         | 569/10000 [01:03<16:05,  9.77it/s, episode_reward=95, running_reward=134]"
     ]
    },
    {
     "name": "stderr",
     "output_type": "stream",
     "text": [
      "\r",
      "Episode 569:   6%|▌         | 570/10000 [01:03<16:28,  9.54it/s, episode_reward=95, running_reward=134]"
     ]
    },
    {
     "name": "stderr",
     "output_type": "stream",
     "text": [
      "\r",
      "Episode 570:   6%|▌         | 570/10000 [01:03<16:28,  9.54it/s, episode_reward=95, running_reward=134]"
     ]
    },
    {
     "name": "stderr",
     "output_type": "stream",
     "text": [
      "\r",
      "Episode 570:   6%|▌         | 570/10000 [01:03<16:28,  9.54it/s, episode_reward=83, running_reward=132]"
     ]
    },
    {
     "name": "stderr",
     "output_type": "stream",
     "text": [
      "\r",
      "Episode 570:   6%|▌         | 571/10000 [01:03<16:21,  9.61it/s, episode_reward=83, running_reward=132]"
     ]
    },
    {
     "name": "stderr",
     "output_type": "stream",
     "text": [
      "\r",
      "Episode 571:   6%|▌         | 571/10000 [01:03<16:21,  9.61it/s, episode_reward=83, running_reward=132]"
     ]
    },
    {
     "name": "stderr",
     "output_type": "stream",
     "text": [
      "\r",
      "Episode 571:   6%|▌         | 571/10000 [01:03<16:21,  9.61it/s, episode_reward=84, running_reward=131]"
     ]
    },
    {
     "name": "stderr",
     "output_type": "stream",
     "text": [
      "\r",
      "Episode 571:   6%|▌         | 572/10000 [01:03<16:17,  9.64it/s, episode_reward=84, running_reward=131]"
     ]
    },
    {
     "name": "stderr",
     "output_type": "stream",
     "text": [
      "\r",
      "Episode 572:   6%|▌         | 572/10000 [01:03<16:17,  9.64it/s, episode_reward=84, running_reward=131]"
     ]
    },
    {
     "name": "stderr",
     "output_type": "stream",
     "text": [
      "\r",
      "Episode 572:   6%|▌         | 572/10000 [01:03<16:17,  9.64it/s, episode_reward=99, running_reward=130]"
     ]
    },
    {
     "name": "stderr",
     "output_type": "stream",
     "text": [
      "\r",
      "Episode 572:   6%|▌         | 573/10000 [01:03<16:55,  9.28it/s, episode_reward=99, running_reward=130]"
     ]
    },
    {
     "name": "stderr",
     "output_type": "stream",
     "text": [
      "\r",
      "Episode 573:   6%|▌         | 573/10000 [01:03<16:55,  9.28it/s, episode_reward=99, running_reward=130]"
     ]
    },
    {
     "name": "stderr",
     "output_type": "stream",
     "text": [
      "\r",
      "Episode 573:   6%|▌         | 573/10000 [01:03<16:55,  9.28it/s, episode_reward=90, running_reward=129]"
     ]
    },
    {
     "name": "stderr",
     "output_type": "stream",
     "text": [
      "\r",
      "Episode 573:   6%|▌         | 574/10000 [01:03<17:05,  9.19it/s, episode_reward=90, running_reward=129]"
     ]
    },
    {
     "name": "stderr",
     "output_type": "stream",
     "text": [
      "\r",
      "Episode 574:   6%|▌         | 574/10000 [01:04<17:05,  9.19it/s, episode_reward=90, running_reward=129]"
     ]
    },
    {
     "name": "stderr",
     "output_type": "stream",
     "text": [
      "\r",
      "Episode 574:   6%|▌         | 574/10000 [01:04<17:05,  9.19it/s, episode_reward=83, running_reward=128]"
     ]
    },
    {
     "name": "stderr",
     "output_type": "stream",
     "text": [
      "\r",
      "Episode 574:   6%|▌         | 575/10000 [01:04<16:53,  9.30it/s, episode_reward=83, running_reward=128]"
     ]
    },
    {
     "name": "stderr",
     "output_type": "stream",
     "text": [
      "\r",
      "Episode 575:   6%|▌         | 575/10000 [01:04<16:53,  9.30it/s, episode_reward=83, running_reward=128]"
     ]
    },
    {
     "name": "stderr",
     "output_type": "stream",
     "text": [
      "\r",
      "Episode 575:   6%|▌         | 575/10000 [01:04<16:53,  9.30it/s, episode_reward=100, running_reward=127]"
     ]
    },
    {
     "name": "stderr",
     "output_type": "stream",
     "text": [
      "\r",
      "Episode 575:   6%|▌         | 576/10000 [01:04<17:26,  9.00it/s, episode_reward=100, running_reward=127]"
     ]
    },
    {
     "name": "stderr",
     "output_type": "stream",
     "text": [
      "\r",
      "Episode 576:   6%|▌         | 576/10000 [01:04<17:26,  9.00it/s, episode_reward=100, running_reward=127]"
     ]
    },
    {
     "name": "stderr",
     "output_type": "stream",
     "text": [
      "\r",
      "Episode 576:   6%|▌         | 576/10000 [01:04<17:26,  9.00it/s, episode_reward=89, running_reward=126] "
     ]
    },
    {
     "name": "stderr",
     "output_type": "stream",
     "text": [
      "\r",
      "Episode 576:   6%|▌         | 577/10000 [01:04<17:15,  9.10it/s, episode_reward=89, running_reward=126]"
     ]
    },
    {
     "name": "stderr",
     "output_type": "stream",
     "text": [
      "\r",
      "Episode 577:   6%|▌         | 577/10000 [01:04<17:15,  9.10it/s, episode_reward=89, running_reward=126]"
     ]
    },
    {
     "name": "stderr",
     "output_type": "stream",
     "text": [
      "\r",
      "Episode 577:   6%|▌         | 577/10000 [01:04<17:15,  9.10it/s, episode_reward=98, running_reward=125]"
     ]
    },
    {
     "name": "stderr",
     "output_type": "stream",
     "text": [
      "\r",
      "Episode 577:   6%|▌         | 578/10000 [01:04<17:31,  8.96it/s, episode_reward=98, running_reward=125]"
     ]
    },
    {
     "name": "stderr",
     "output_type": "stream",
     "text": [
      "\r",
      "Episode 578:   6%|▌         | 578/10000 [01:04<17:31,  8.96it/s, episode_reward=98, running_reward=125]"
     ]
    },
    {
     "name": "stderr",
     "output_type": "stream",
     "text": [
      "\r",
      "Episode 578:   6%|▌         | 578/10000 [01:04<17:31,  8.96it/s, episode_reward=92, running_reward=124]"
     ]
    },
    {
     "name": "stderr",
     "output_type": "stream",
     "text": [
      "\r",
      "Episode 578:   6%|▌         | 579/10000 [01:04<17:29,  8.98it/s, episode_reward=92, running_reward=124]"
     ]
    },
    {
     "name": "stderr",
     "output_type": "stream",
     "text": [
      "\r",
      "Episode 579:   6%|▌         | 579/10000 [01:04<17:29,  8.98it/s, episode_reward=92, running_reward=124]"
     ]
    },
    {
     "name": "stderr",
     "output_type": "stream",
     "text": [
      "\r",
      "Episode 579:   6%|▌         | 579/10000 [01:04<17:29,  8.98it/s, episode_reward=93, running_reward=123]"
     ]
    },
    {
     "name": "stderr",
     "output_type": "stream",
     "text": [
      "\r",
      "Episode 579:   6%|▌         | 580/10000 [01:04<17:27,  8.99it/s, episode_reward=93, running_reward=123]"
     ]
    },
    {
     "name": "stderr",
     "output_type": "stream",
     "text": [
      "\r",
      "Episode 580:   6%|▌         | 580/10000 [01:04<17:27,  8.99it/s, episode_reward=93, running_reward=123]"
     ]
    },
    {
     "name": "stderr",
     "output_type": "stream",
     "text": [
      "\r",
      "Episode 580:   6%|▌         | 580/10000 [01:04<17:27,  8.99it/s, episode_reward=93, running_reward=122]"
     ]
    },
    {
     "name": "stderr",
     "output_type": "stream",
     "text": [
      "\r",
      "Episode 580:   6%|▌         | 581/10000 [01:04<17:27,  8.99it/s, episode_reward=93, running_reward=122]"
     ]
    },
    {
     "name": "stderr",
     "output_type": "stream",
     "text": [
      "\r",
      "Episode 581:   6%|▌         | 581/10000 [01:04<17:27,  8.99it/s, episode_reward=93, running_reward=122]"
     ]
    },
    {
     "name": "stderr",
     "output_type": "stream",
     "text": [
      "\r",
      "Episode 581:   6%|▌         | 581/10000 [01:04<17:27,  8.99it/s, episode_reward=88, running_reward=121]"
     ]
    },
    {
     "name": "stderr",
     "output_type": "stream",
     "text": [
      "\r",
      "Episode 581:   6%|▌         | 582/10000 [01:04<17:14,  9.11it/s, episode_reward=88, running_reward=121]"
     ]
    },
    {
     "name": "stderr",
     "output_type": "stream",
     "text": [
      "\r",
      "Episode 582:   6%|▌         | 582/10000 [01:04<17:14,  9.11it/s, episode_reward=88, running_reward=121]"
     ]
    },
    {
     "name": "stderr",
     "output_type": "stream",
     "text": [
      "\r",
      "Episode 582:   6%|▌         | 582/10000 [01:04<17:14,  9.11it/s, episode_reward=90, running_reward=121]"
     ]
    },
    {
     "name": "stderr",
     "output_type": "stream",
     "text": [
      "\r",
      "Episode 582:   6%|▌         | 583/10000 [01:04<17:16,  9.09it/s, episode_reward=90, running_reward=121]"
     ]
    },
    {
     "name": "stderr",
     "output_type": "stream",
     "text": [
      "\r",
      "Episode 583:   6%|▌         | 583/10000 [01:05<17:16,  9.09it/s, episode_reward=90, running_reward=121]"
     ]
    },
    {
     "name": "stderr",
     "output_type": "stream",
     "text": [
      "\r",
      "Episode 583:   6%|▌         | 583/10000 [01:05<17:16,  9.09it/s, episode_reward=90, running_reward=120]"
     ]
    },
    {
     "name": "stderr",
     "output_type": "stream",
     "text": [
      "\r",
      "Episode 583:   6%|▌         | 584/10000 [01:05<17:16,  9.08it/s, episode_reward=90, running_reward=120]"
     ]
    },
    {
     "name": "stderr",
     "output_type": "stream",
     "text": [
      "\r",
      "Episode 584:   6%|▌         | 584/10000 [01:05<17:16,  9.08it/s, episode_reward=90, running_reward=120]"
     ]
    },
    {
     "name": "stderr",
     "output_type": "stream",
     "text": [
      "\r",
      "Episode 584:   6%|▌         | 584/10000 [01:05<17:16,  9.08it/s, episode_reward=101, running_reward=120]"
     ]
    },
    {
     "name": "stderr",
     "output_type": "stream",
     "text": [
      "\r",
      "Episode 584:   6%|▌         | 585/10000 [01:05<17:46,  8.83it/s, episode_reward=101, running_reward=120]"
     ]
    },
    {
     "name": "stderr",
     "output_type": "stream",
     "text": [
      "\r",
      "Episode 585:   6%|▌         | 585/10000 [01:05<17:46,  8.83it/s, episode_reward=101, running_reward=120]"
     ]
    },
    {
     "name": "stderr",
     "output_type": "stream",
     "text": [
      "\r",
      "Episode 585:   6%|▌         | 585/10000 [01:05<17:46,  8.83it/s, episode_reward=100, running_reward=120]"
     ]
    },
    {
     "name": "stderr",
     "output_type": "stream",
     "text": [
      "\r",
      "Episode 585:   6%|▌         | 586/10000 [01:05<18:09,  8.64it/s, episode_reward=100, running_reward=120]"
     ]
    },
    {
     "name": "stderr",
     "output_type": "stream",
     "text": [
      "\r",
      "Episode 586:   6%|▌         | 586/10000 [01:05<18:09,  8.64it/s, episode_reward=100, running_reward=120]"
     ]
    },
    {
     "name": "stderr",
     "output_type": "stream",
     "text": [
      "\r",
      "Episode 586:   6%|▌         | 586/10000 [01:05<18:09,  8.64it/s, episode_reward=135, running_reward=120]"
     ]
    },
    {
     "name": "stderr",
     "output_type": "stream",
     "text": [
      "\r",
      "Episode 586:   6%|▌         | 587/10000 [01:05<20:16,  7.74it/s, episode_reward=135, running_reward=120]"
     ]
    },
    {
     "name": "stderr",
     "output_type": "stream",
     "text": [
      "\r",
      "Episode 587:   6%|▌         | 587/10000 [01:05<20:16,  7.74it/s, episode_reward=135, running_reward=120]"
     ]
    },
    {
     "name": "stderr",
     "output_type": "stream",
     "text": [
      "\r",
      "Episode 587:   6%|▌         | 587/10000 [01:05<20:16,  7.74it/s, episode_reward=98, running_reward=120] "
     ]
    },
    {
     "name": "stderr",
     "output_type": "stream",
     "text": [
      "\r",
      "Episode 587:   6%|▌         | 588/10000 [01:05<20:02,  7.83it/s, episode_reward=98, running_reward=120]"
     ]
    },
    {
     "name": "stderr",
     "output_type": "stream",
     "text": [
      "\r",
      "Episode 588:   6%|▌         | 588/10000 [01:05<20:02,  7.83it/s, episode_reward=98, running_reward=120]"
     ]
    },
    {
     "name": "stderr",
     "output_type": "stream",
     "text": [
      "\r",
      "Episode 588:   6%|▌         | 588/10000 [01:05<20:02,  7.83it/s, episode_reward=102, running_reward=120]"
     ]
    },
    {
     "name": "stderr",
     "output_type": "stream",
     "text": [
      "\r",
      "Episode 588:   6%|▌         | 589/10000 [01:05<20:07,  7.79it/s, episode_reward=102, running_reward=120]"
     ]
    },
    {
     "name": "stderr",
     "output_type": "stream",
     "text": [
      "\r",
      "Episode 589:   6%|▌         | 589/10000 [01:05<20:07,  7.79it/s, episode_reward=102, running_reward=120]"
     ]
    },
    {
     "name": "stderr",
     "output_type": "stream",
     "text": [
      "\r",
      "Episode 589:   6%|▌         | 589/10000 [01:05<20:07,  7.79it/s, episode_reward=121, running_reward=120]"
     ]
    },
    {
     "name": "stderr",
     "output_type": "stream",
     "text": [
      "\r",
      "Episode 589:   6%|▌         | 590/10000 [01:05<21:04,  7.44it/s, episode_reward=121, running_reward=120]"
     ]
    },
    {
     "name": "stderr",
     "output_type": "stream",
     "text": [
      "\r",
      "Episode 590:   6%|▌         | 590/10000 [01:06<21:04,  7.44it/s, episode_reward=121, running_reward=120]"
     ]
    },
    {
     "name": "stderr",
     "output_type": "stream",
     "text": [
      "\r",
      "Episode 590:   6%|▌         | 590/10000 [01:06<21:04,  7.44it/s, episode_reward=106, running_reward=120]"
     ]
    },
    {
     "name": "stderr",
     "output_type": "stream",
     "text": [
      "\r",
      "Episode 590:   6%|▌         | 591/10000 [01:06<21:00,  7.47it/s, episode_reward=106, running_reward=120]"
     ]
    },
    {
     "name": "stderr",
     "output_type": "stream",
     "text": [
      "\r",
      "Episode 591:   6%|▌         | 591/10000 [01:06<21:00,  7.47it/s, episode_reward=106, running_reward=120]"
     ]
    },
    {
     "name": "stderr",
     "output_type": "stream",
     "text": [
      "\r",
      "Episode 591:   6%|▌         | 591/10000 [01:06<21:00,  7.47it/s, episode_reward=119, running_reward=120]"
     ]
    },
    {
     "name": "stderr",
     "output_type": "stream",
     "text": [
      "\r",
      "Episode 591:   6%|▌         | 592/10000 [01:06<21:57,  7.14it/s, episode_reward=119, running_reward=120]"
     ]
    },
    {
     "name": "stderr",
     "output_type": "stream",
     "text": [
      "\r",
      "Episode 592:   6%|▌         | 592/10000 [01:06<21:57,  7.14it/s, episode_reward=119, running_reward=120]"
     ]
    },
    {
     "name": "stderr",
     "output_type": "stream",
     "text": [
      "\r",
      "Episode 592:   6%|▌         | 592/10000 [01:06<21:57,  7.14it/s, episode_reward=120, running_reward=120]"
     ]
    },
    {
     "name": "stderr",
     "output_type": "stream",
     "text": [
      "\r",
      "Episode 592:   6%|▌         | 593/10000 [01:06<22:30,  6.97it/s, episode_reward=120, running_reward=120]"
     ]
    },
    {
     "name": "stderr",
     "output_type": "stream",
     "text": [
      "\r",
      "Episode 593:   6%|▌         | 593/10000 [01:06<22:30,  6.97it/s, episode_reward=120, running_reward=120]"
     ]
    },
    {
     "name": "stderr",
     "output_type": "stream",
     "text": [
      "\r",
      "Episode 593:   6%|▌         | 593/10000 [01:06<22:30,  6.97it/s, episode_reward=113, running_reward=120]"
     ]
    },
    {
     "name": "stderr",
     "output_type": "stream",
     "text": [
      "\r",
      "Episode 593:   6%|▌         | 594/10000 [01:06<22:24,  7.00it/s, episode_reward=113, running_reward=120]"
     ]
    },
    {
     "name": "stderr",
     "output_type": "stream",
     "text": [
      "\r",
      "Episode 594:   6%|▌         | 594/10000 [01:06<22:24,  7.00it/s, episode_reward=113, running_reward=120]"
     ]
    },
    {
     "name": "stderr",
     "output_type": "stream",
     "text": [
      "\r",
      "Episode 594:   6%|▌         | 594/10000 [01:06<22:24,  7.00it/s, episode_reward=123, running_reward=120]"
     ]
    },
    {
     "name": "stderr",
     "output_type": "stream",
     "text": [
      "\r",
      "Episode 594:   6%|▌         | 595/10000 [01:06<22:48,  6.87it/s, episode_reward=123, running_reward=120]"
     ]
    },
    {
     "name": "stderr",
     "output_type": "stream",
     "text": [
      "\r",
      "Episode 595:   6%|▌         | 595/10000 [01:06<22:48,  6.87it/s, episode_reward=123, running_reward=120]"
     ]
    },
    {
     "name": "stderr",
     "output_type": "stream",
     "text": [
      "\r",
      "Episode 595:   6%|▌         | 595/10000 [01:06<22:48,  6.87it/s, episode_reward=116, running_reward=120]"
     ]
    },
    {
     "name": "stderr",
     "output_type": "stream",
     "text": [
      "\r",
      "Episode 595:   6%|▌         | 596/10000 [01:06<22:38,  6.92it/s, episode_reward=116, running_reward=120]"
     ]
    },
    {
     "name": "stderr",
     "output_type": "stream",
     "text": [
      "\r",
      "Episode 596:   6%|▌         | 596/10000 [01:06<22:38,  6.92it/s, episode_reward=116, running_reward=120]"
     ]
    },
    {
     "name": "stderr",
     "output_type": "stream",
     "text": [
      "\r",
      "Episode 596:   6%|▌         | 596/10000 [01:06<22:38,  6.92it/s, episode_reward=120, running_reward=120]"
     ]
    },
    {
     "name": "stderr",
     "output_type": "stream",
     "text": [
      "\r",
      "Episode 596:   6%|▌         | 597/10000 [01:06<22:52,  6.85it/s, episode_reward=120, running_reward=120]"
     ]
    },
    {
     "name": "stderr",
     "output_type": "stream",
     "text": [
      "\r",
      "Episode 597:   6%|▌         | 597/10000 [01:07<22:52,  6.85it/s, episode_reward=120, running_reward=120]"
     ]
    },
    {
     "name": "stderr",
     "output_type": "stream",
     "text": [
      "\r",
      "Episode 597:   6%|▌         | 597/10000 [01:07<22:52,  6.85it/s, episode_reward=118, running_reward=119]"
     ]
    },
    {
     "name": "stderr",
     "output_type": "stream",
     "text": [
      "\r",
      "Episode 597:   6%|▌         | 598/10000 [01:07<23:03,  6.79it/s, episode_reward=118, running_reward=119]"
     ]
    },
    {
     "name": "stderr",
     "output_type": "stream",
     "text": [
      "\r",
      "Episode 598:   6%|▌         | 598/10000 [01:07<23:03,  6.79it/s, episode_reward=118, running_reward=119]"
     ]
    },
    {
     "name": "stderr",
     "output_type": "stream",
     "text": [
      "\r",
      "Episode 598:   6%|▌         | 598/10000 [01:07<23:03,  6.79it/s, episode_reward=122, running_reward=119]"
     ]
    },
    {
     "name": "stderr",
     "output_type": "stream",
     "text": [
      "\r",
      "Episode 598:   6%|▌         | 599/10000 [01:07<23:20,  6.71it/s, episode_reward=122, running_reward=119]"
     ]
    },
    {
     "name": "stderr",
     "output_type": "stream",
     "text": [
      "\r",
      "Episode 599:   6%|▌         | 599/10000 [01:07<23:20,  6.71it/s, episode_reward=122, running_reward=119]"
     ]
    },
    {
     "name": "stderr",
     "output_type": "stream",
     "text": [
      "\r",
      "Episode 599:   6%|▌         | 599/10000 [01:07<23:20,  6.71it/s, episode_reward=113, running_reward=119]"
     ]
    },
    {
     "name": "stderr",
     "output_type": "stream",
     "text": [
      "\r",
      "Episode 599:   6%|▌         | 600/10000 [01:07<23:14,  6.74it/s, episode_reward=113, running_reward=119]"
     ]
    },
    {
     "name": "stderr",
     "output_type": "stream",
     "text": [
      "\r",
      "Episode 600:   6%|▌         | 600/10000 [01:07<23:14,  6.74it/s, episode_reward=113, running_reward=119]"
     ]
    },
    {
     "name": "stderr",
     "output_type": "stream",
     "text": [
      "\r",
      "Episode 600:   6%|▌         | 600/10000 [01:07<23:14,  6.74it/s, episode_reward=145, running_reward=119]"
     ]
    },
    {
     "name": "stderr",
     "output_type": "stream",
     "text": [
      "\r",
      "Episode 600:   6%|▌         | 601/10000 [01:07<24:17,  6.45it/s, episode_reward=145, running_reward=119]"
     ]
    },
    {
     "name": "stderr",
     "output_type": "stream",
     "text": [
      "\r",
      "Episode 601:   6%|▌         | 601/10000 [01:07<24:17,  6.45it/s, episode_reward=145, running_reward=119]"
     ]
    },
    {
     "name": "stderr",
     "output_type": "stream",
     "text": [
      "\r",
      "Episode 601:   6%|▌         | 601/10000 [01:07<24:17,  6.45it/s, episode_reward=136, running_reward=118]"
     ]
    },
    {
     "name": "stderr",
     "output_type": "stream",
     "text": [
      "\r",
      "Episode 601:   6%|▌         | 602/10000 [01:07<24:29,  6.40it/s, episode_reward=136, running_reward=118]"
     ]
    },
    {
     "name": "stderr",
     "output_type": "stream",
     "text": [
      "\r",
      "Episode 602:   6%|▌         | 602/10000 [01:07<24:29,  6.40it/s, episode_reward=136, running_reward=118]"
     ]
    },
    {
     "name": "stderr",
     "output_type": "stream",
     "text": [
      "\r",
      "Episode 602:   6%|▌         | 602/10000 [01:07<24:29,  6.40it/s, episode_reward=148, running_reward=118]"
     ]
    },
    {
     "name": "stderr",
     "output_type": "stream",
     "text": [
      "\r",
      "Episode 602:   6%|▌         | 603/10000 [01:07<25:16,  6.20it/s, episode_reward=148, running_reward=118]"
     ]
    },
    {
     "name": "stderr",
     "output_type": "stream",
     "text": [
      "\r",
      "Episode 603:   6%|▌         | 603/10000 [01:08<25:16,  6.20it/s, episode_reward=148, running_reward=118]"
     ]
    },
    {
     "name": "stderr",
     "output_type": "stream",
     "text": [
      "\r",
      "Episode 603:   6%|▌         | 603/10000 [01:08<25:16,  6.20it/s, episode_reward=147, running_reward=118]"
     ]
    },
    {
     "name": "stderr",
     "output_type": "stream",
     "text": [
      "\r",
      "Episode 603:   6%|▌         | 604/10000 [01:08<25:53,  6.05it/s, episode_reward=147, running_reward=118]"
     ]
    },
    {
     "name": "stderr",
     "output_type": "stream",
     "text": [
      "\r",
      "Episode 604:   6%|▌         | 604/10000 [01:08<25:53,  6.05it/s, episode_reward=147, running_reward=118]"
     ]
    },
    {
     "name": "stderr",
     "output_type": "stream",
     "text": [
      "\r",
      "Episode 604:   6%|▌         | 604/10000 [01:08<25:53,  6.05it/s, episode_reward=131, running_reward=117]"
     ]
    },
    {
     "name": "stderr",
     "output_type": "stream",
     "text": [
      "\r",
      "Episode 604:   6%|▌         | 605/10000 [01:08<25:56,  6.04it/s, episode_reward=131, running_reward=117]"
     ]
    },
    {
     "name": "stderr",
     "output_type": "stream",
     "text": [
      "\r",
      "Episode 605:   6%|▌         | 605/10000 [01:08<25:56,  6.04it/s, episode_reward=131, running_reward=117]"
     ]
    },
    {
     "name": "stderr",
     "output_type": "stream",
     "text": [
      "\r",
      "Episode 605:   6%|▌         | 605/10000 [01:08<25:56,  6.04it/s, episode_reward=156, running_reward=117]"
     ]
    },
    {
     "name": "stderr",
     "output_type": "stream",
     "text": [
      "\r",
      "Episode 605:   6%|▌         | 606/10000 [01:08<27:06,  5.77it/s, episode_reward=156, running_reward=117]"
     ]
    },
    {
     "name": "stderr",
     "output_type": "stream",
     "text": [
      "\r",
      "Episode 606:   6%|▌         | 606/10000 [01:08<27:06,  5.77it/s, episode_reward=156, running_reward=117]"
     ]
    },
    {
     "name": "stderr",
     "output_type": "stream",
     "text": [
      "\r",
      "Episode 606:   6%|▌         | 606/10000 [01:08<27:06,  5.77it/s, episode_reward=142, running_reward=117]"
     ]
    },
    {
     "name": "stderr",
     "output_type": "stream",
     "text": [
      "\r",
      "Episode 606:   6%|▌         | 607/10000 [01:08<27:08,  5.77it/s, episode_reward=142, running_reward=117]"
     ]
    },
    {
     "name": "stderr",
     "output_type": "stream",
     "text": [
      "\r",
      "Episode 607:   6%|▌         | 607/10000 [01:08<27:08,  5.77it/s, episode_reward=142, running_reward=117]"
     ]
    },
    {
     "name": "stderr",
     "output_type": "stream",
     "text": [
      "\r",
      "Episode 607:   6%|▌         | 607/10000 [01:08<27:08,  5.77it/s, episode_reward=200, running_reward=117]"
     ]
    },
    {
     "name": "stderr",
     "output_type": "stream",
     "text": [
      "\r",
      "Episode 607:   6%|▌         | 608/10000 [01:08<30:24,  5.15it/s, episode_reward=200, running_reward=117]"
     ]
    },
    {
     "name": "stderr",
     "output_type": "stream",
     "text": [
      "\r",
      "Episode 608:   6%|▌         | 608/10000 [01:09<30:24,  5.15it/s, episode_reward=200, running_reward=117]"
     ]
    },
    {
     "name": "stderr",
     "output_type": "stream",
     "text": [
      "\r",
      "Episode 608:   6%|▌         | 608/10000 [01:09<30:24,  5.15it/s, episode_reward=173, running_reward=116]"
     ]
    },
    {
     "name": "stderr",
     "output_type": "stream",
     "text": [
      "\r",
      "Episode 608:   6%|▌         | 609/10000 [01:09<30:48,  5.08it/s, episode_reward=173, running_reward=116]"
     ]
    },
    {
     "name": "stderr",
     "output_type": "stream",
     "text": [
      "\r",
      "Episode 609:   6%|▌         | 609/10000 [01:09<30:48,  5.08it/s, episode_reward=173, running_reward=116]"
     ]
    },
    {
     "name": "stderr",
     "output_type": "stream",
     "text": [
      "\r",
      "Episode 609:   6%|▌         | 609/10000 [01:09<30:48,  5.08it/s, episode_reward=200, running_reward=116]"
     ]
    },
    {
     "name": "stderr",
     "output_type": "stream",
     "text": [
      "\r",
      "Episode 609:   6%|▌         | 610/10000 [01:09<32:38,  4.79it/s, episode_reward=200, running_reward=116]"
     ]
    },
    {
     "name": "stderr",
     "output_type": "stream",
     "text": [
      "\r",
      "Episode 610:   6%|▌         | 610/10000 [01:09<32:38,  4.79it/s, episode_reward=200, running_reward=116]"
     ]
    },
    {
     "name": "stderr",
     "output_type": "stream",
     "text": [
      "\r",
      "Episode 610:   6%|▌         | 610/10000 [01:09<32:38,  4.79it/s, episode_reward=175, running_reward=116]"
     ]
    },
    {
     "name": "stderr",
     "output_type": "stream",
     "text": [
      "\r",
      "Episode 610:   6%|▌         | 611/10000 [01:09<32:47,  4.77it/s, episode_reward=175, running_reward=116]"
     ]
    },
    {
     "name": "stderr",
     "output_type": "stream",
     "text": [
      "\r",
      "Episode 611:   6%|▌         | 611/10000 [01:09<32:47,  4.77it/s, episode_reward=175, running_reward=116]"
     ]
    },
    {
     "name": "stderr",
     "output_type": "stream",
     "text": [
      "\r",
      "Episode 611:   6%|▌         | 611/10000 [01:09<32:47,  4.77it/s, episode_reward=200, running_reward=116]"
     ]
    },
    {
     "name": "stderr",
     "output_type": "stream",
     "text": [
      "\r",
      "Episode 611:   6%|▌         | 612/10000 [01:09<33:57,  4.61it/s, episode_reward=200, running_reward=116]"
     ]
    },
    {
     "name": "stderr",
     "output_type": "stream",
     "text": [
      "\r",
      "Episode 612:   6%|▌         | 612/10000 [01:09<33:57,  4.61it/s, episode_reward=200, running_reward=116]"
     ]
    },
    {
     "name": "stderr",
     "output_type": "stream",
     "text": [
      "\r",
      "Episode 612:   6%|▌         | 612/10000 [01:09<33:57,  4.61it/s, episode_reward=200, running_reward=116]"
     ]
    },
    {
     "name": "stderr",
     "output_type": "stream",
     "text": [
      "\r",
      "Episode 612:   6%|▌         | 613/10000 [01:09<34:49,  4.49it/s, episode_reward=200, running_reward=116]"
     ]
    },
    {
     "name": "stderr",
     "output_type": "stream",
     "text": [
      "\r",
      "Episode 613:   6%|▌         | 613/10000 [01:10<34:49,  4.49it/s, episode_reward=200, running_reward=116]"
     ]
    },
    {
     "name": "stderr",
     "output_type": "stream",
     "text": [
      "\r",
      "Episode 613:   6%|▌         | 613/10000 [01:10<34:49,  4.49it/s, episode_reward=200, running_reward=116]"
     ]
    },
    {
     "name": "stderr",
     "output_type": "stream",
     "text": [
      "\r",
      "Episode 613:   6%|▌         | 614/10000 [01:10<36:12,  4.32it/s, episode_reward=200, running_reward=116]"
     ]
    },
    {
     "name": "stderr",
     "output_type": "stream",
     "text": [
      "\r",
      "Episode 614:   6%|▌         | 614/10000 [01:10<36:12,  4.32it/s, episode_reward=200, running_reward=116]"
     ]
    },
    {
     "name": "stderr",
     "output_type": "stream",
     "text": [
      "\r",
      "Episode 614:   6%|▌         | 614/10000 [01:10<36:12,  4.32it/s, episode_reward=200, running_reward=116]"
     ]
    },
    {
     "name": "stderr",
     "output_type": "stream",
     "text": [
      "\r",
      "Episode 614:   6%|▌         | 615/10000 [01:10<36:40,  4.26it/s, episode_reward=200, running_reward=116]"
     ]
    },
    {
     "name": "stderr",
     "output_type": "stream",
     "text": [
      "\r",
      "Episode 615:   6%|▌         | 615/10000 [01:10<36:40,  4.26it/s, episode_reward=200, running_reward=116]"
     ]
    },
    {
     "name": "stderr",
     "output_type": "stream",
     "text": [
      "\r",
      "Episode 615:   6%|▌         | 615/10000 [01:10<36:40,  4.26it/s, episode_reward=200, running_reward=116]"
     ]
    },
    {
     "name": "stderr",
     "output_type": "stream",
     "text": [
      "\r",
      "Episode 615:   6%|▌         | 616/10000 [01:10<36:30,  4.28it/s, episode_reward=200, running_reward=116]"
     ]
    },
    {
     "name": "stderr",
     "output_type": "stream",
     "text": [
      "\r",
      "Episode 616:   6%|▌         | 616/10000 [01:10<36:30,  4.28it/s, episode_reward=200, running_reward=116]"
     ]
    },
    {
     "name": "stderr",
     "output_type": "stream",
     "text": [
      "\r",
      "Episode 616:   6%|▌         | 616/10000 [01:10<36:30,  4.28it/s, episode_reward=200, running_reward=116]"
     ]
    },
    {
     "name": "stderr",
     "output_type": "stream",
     "text": [
      "\r",
      "Episode 616:   6%|▌         | 617/10000 [01:10<36:36,  4.27it/s, episode_reward=200, running_reward=116]"
     ]
    },
    {
     "name": "stderr",
     "output_type": "stream",
     "text": [
      "\r",
      "Episode 617:   6%|▌         | 617/10000 [01:11<36:36,  4.27it/s, episode_reward=200, running_reward=116]"
     ]
    },
    {
     "name": "stderr",
     "output_type": "stream",
     "text": [
      "\r",
      "Episode 617:   6%|▌         | 617/10000 [01:11<36:36,  4.27it/s, episode_reward=200, running_reward=116]"
     ]
    },
    {
     "name": "stderr",
     "output_type": "stream",
     "text": [
      "\r",
      "Episode 617:   6%|▌         | 618/10000 [01:11<36:51,  4.24it/s, episode_reward=200, running_reward=116]"
     ]
    },
    {
     "name": "stderr",
     "output_type": "stream",
     "text": [
      "\r",
      "Episode 618:   6%|▌         | 618/10000 [01:11<36:51,  4.24it/s, episode_reward=200, running_reward=116]"
     ]
    },
    {
     "name": "stderr",
     "output_type": "stream",
     "text": [
      "\r",
      "Episode 618:   6%|▌         | 618/10000 [01:11<36:51,  4.24it/s, episode_reward=200, running_reward=116]"
     ]
    },
    {
     "name": "stderr",
     "output_type": "stream",
     "text": [
      "\r",
      "Episode 618:   6%|▌         | 619/10000 [01:11<37:17,  4.19it/s, episode_reward=200, running_reward=116]"
     ]
    },
    {
     "name": "stderr",
     "output_type": "stream",
     "text": [
      "\r",
      "Episode 619:   6%|▌         | 619/10000 [01:11<37:17,  4.19it/s, episode_reward=200, running_reward=116]"
     ]
    },
    {
     "name": "stderr",
     "output_type": "stream",
     "text": [
      "\r",
      "Episode 619:   6%|▌         | 619/10000 [01:11<37:17,  4.19it/s, episode_reward=200, running_reward=116]"
     ]
    },
    {
     "name": "stderr",
     "output_type": "stream",
     "text": [
      "\r",
      "Episode 619:   6%|▌         | 620/10000 [01:11<37:24,  4.18it/s, episode_reward=200, running_reward=116]"
     ]
    },
    {
     "name": "stderr",
     "output_type": "stream",
     "text": [
      "\r",
      "Episode 620:   6%|▌         | 620/10000 [01:11<37:24,  4.18it/s, episode_reward=200, running_reward=116]"
     ]
    },
    {
     "name": "stderr",
     "output_type": "stream",
     "text": [
      "\r",
      "Episode 620:   6%|▌         | 620/10000 [01:11<37:24,  4.18it/s, episode_reward=200, running_reward=116]"
     ]
    },
    {
     "name": "stderr",
     "output_type": "stream",
     "text": [
      "\r",
      "Episode 620:   6%|▌         | 621/10000 [01:11<37:54,  4.12it/s, episode_reward=200, running_reward=116]"
     ]
    },
    {
     "name": "stderr",
     "output_type": "stream",
     "text": [
      "\r",
      "Episode 621:   6%|▌         | 621/10000 [01:12<37:54,  4.12it/s, episode_reward=200, running_reward=116]"
     ]
    },
    {
     "name": "stderr",
     "output_type": "stream",
     "text": [
      "\r",
      "Episode 621:   6%|▌         | 621/10000 [01:12<37:54,  4.12it/s, episode_reward=200, running_reward=116]"
     ]
    },
    {
     "name": "stderr",
     "output_type": "stream",
     "text": [
      "\r",
      "Episode 621:   6%|▌         | 622/10000 [01:12<38:01,  4.11it/s, episode_reward=200, running_reward=116]"
     ]
    },
    {
     "name": "stderr",
     "output_type": "stream",
     "text": [
      "\r",
      "Episode 622:   6%|▌         | 622/10000 [01:12<38:01,  4.11it/s, episode_reward=200, running_reward=116]"
     ]
    },
    {
     "name": "stderr",
     "output_type": "stream",
     "text": [
      "\r",
      "Episode 622:   6%|▌         | 622/10000 [01:12<38:01,  4.11it/s, episode_reward=200, running_reward=116]"
     ]
    },
    {
     "name": "stderr",
     "output_type": "stream",
     "text": [
      "\r",
      "Episode 622:   6%|▌         | 623/10000 [01:12<37:45,  4.14it/s, episode_reward=200, running_reward=116]"
     ]
    },
    {
     "name": "stderr",
     "output_type": "stream",
     "text": [
      "\r",
      "Episode 623:   6%|▌         | 623/10000 [01:12<37:45,  4.14it/s, episode_reward=200, running_reward=116]"
     ]
    },
    {
     "name": "stderr",
     "output_type": "stream",
     "text": [
      "\r",
      "Episode 623:   6%|▌         | 623/10000 [01:12<37:45,  4.14it/s, episode_reward=200, running_reward=116]"
     ]
    },
    {
     "name": "stderr",
     "output_type": "stream",
     "text": [
      "\r",
      "Episode 623:   6%|▌         | 624/10000 [01:12<37:26,  4.17it/s, episode_reward=200, running_reward=116]"
     ]
    },
    {
     "name": "stderr",
     "output_type": "stream",
     "text": [
      "\r",
      "Episode 624:   6%|▌         | 624/10000 [01:12<37:26,  4.17it/s, episode_reward=200, running_reward=116]"
     ]
    },
    {
     "name": "stderr",
     "output_type": "stream",
     "text": [
      "\r",
      "Episode 624:   6%|▌         | 624/10000 [01:12<37:26,  4.17it/s, episode_reward=200, running_reward=116]"
     ]
    },
    {
     "name": "stderr",
     "output_type": "stream",
     "text": [
      "\r",
      "Episode 624:   6%|▋         | 625/10000 [01:12<36:59,  4.22it/s, episode_reward=200, running_reward=116]"
     ]
    },
    {
     "name": "stderr",
     "output_type": "stream",
     "text": [
      "\r",
      "Episode 625:   6%|▋         | 625/10000 [01:13<36:59,  4.22it/s, episode_reward=200, running_reward=116]"
     ]
    },
    {
     "name": "stderr",
     "output_type": "stream",
     "text": [
      "\r",
      "Episode 625:   6%|▋         | 625/10000 [01:13<36:59,  4.22it/s, episode_reward=200, running_reward=117]"
     ]
    },
    {
     "name": "stderr",
     "output_type": "stream",
     "text": [
      "\r",
      "Episode 625:   6%|▋         | 626/10000 [01:13<37:02,  4.22it/s, episode_reward=200, running_reward=117]"
     ]
    },
    {
     "name": "stderr",
     "output_type": "stream",
     "text": [
      "\r",
      "Episode 626:   6%|▋         | 626/10000 [01:13<37:02,  4.22it/s, episode_reward=200, running_reward=117]"
     ]
    },
    {
     "name": "stderr",
     "output_type": "stream",
     "text": [
      "\r",
      "Episode 626:   6%|▋         | 626/10000 [01:13<37:02,  4.22it/s, episode_reward=200, running_reward=117]"
     ]
    },
    {
     "name": "stderr",
     "output_type": "stream",
     "text": [
      "\r",
      "Episode 626:   6%|▋         | 627/10000 [01:13<36:49,  4.24it/s, episode_reward=200, running_reward=117]"
     ]
    },
    {
     "name": "stderr",
     "output_type": "stream",
     "text": [
      "\r",
      "Episode 627:   6%|▋         | 627/10000 [01:13<36:49,  4.24it/s, episode_reward=200, running_reward=117]"
     ]
    },
    {
     "name": "stderr",
     "output_type": "stream",
     "text": [
      "\r",
      "Episode 627:   6%|▋         | 627/10000 [01:13<36:49,  4.24it/s, episode_reward=200, running_reward=117]"
     ]
    },
    {
     "name": "stderr",
     "output_type": "stream",
     "text": [
      "\r",
      "Episode 627:   6%|▋         | 628/10000 [01:13<37:10,  4.20it/s, episode_reward=200, running_reward=117]"
     ]
    },
    {
     "name": "stderr",
     "output_type": "stream",
     "text": [
      "\r",
      "Episode 628:   6%|▋         | 628/10000 [01:13<37:10,  4.20it/s, episode_reward=200, running_reward=117]"
     ]
    },
    {
     "name": "stderr",
     "output_type": "stream",
     "text": [
      "\r",
      "Episode 628:   6%|▋         | 628/10000 [01:13<37:10,  4.20it/s, episode_reward=200, running_reward=118]"
     ]
    },
    {
     "name": "stderr",
     "output_type": "stream",
     "text": [
      "\r",
      "Episode 628:   6%|▋         | 629/10000 [01:13<37:49,  4.13it/s, episode_reward=200, running_reward=118]"
     ]
    },
    {
     "name": "stderr",
     "output_type": "stream",
     "text": [
      "\r",
      "Episode 629:   6%|▋         | 629/10000 [01:14<37:49,  4.13it/s, episode_reward=200, running_reward=118]"
     ]
    },
    {
     "name": "stderr",
     "output_type": "stream",
     "text": [
      "\r",
      "Episode 629:   6%|▋         | 629/10000 [01:14<37:49,  4.13it/s, episode_reward=200, running_reward=119]"
     ]
    },
    {
     "name": "stderr",
     "output_type": "stream",
     "text": [
      "\r",
      "Episode 629:   6%|▋         | 630/10000 [01:14<37:52,  4.12it/s, episode_reward=200, running_reward=119]"
     ]
    },
    {
     "name": "stderr",
     "output_type": "stream",
     "text": [
      "\r",
      "Episode 630:   6%|▋         | 630/10000 [01:14<37:52,  4.12it/s, episode_reward=200, running_reward=119]"
     ]
    },
    {
     "name": "stderr",
     "output_type": "stream",
     "text": [
      "\r",
      "Episode 630:   6%|▋         | 630/10000 [01:14<37:52,  4.12it/s, episode_reward=200, running_reward=120]"
     ]
    },
    {
     "name": "stderr",
     "output_type": "stream",
     "text": [
      "\r",
      "Episode 630:   6%|▋         | 631/10000 [01:14<37:29,  4.17it/s, episode_reward=200, running_reward=120]"
     ]
    },
    {
     "name": "stderr",
     "output_type": "stream",
     "text": [
      "\r",
      "Episode 631:   6%|▋         | 631/10000 [01:14<37:29,  4.17it/s, episode_reward=200, running_reward=120]"
     ]
    },
    {
     "name": "stderr",
     "output_type": "stream",
     "text": [
      "\r",
      "Episode 631:   6%|▋         | 631/10000 [01:14<37:29,  4.17it/s, episode_reward=200, running_reward=121]"
     ]
    },
    {
     "name": "stderr",
     "output_type": "stream",
     "text": [
      "\r",
      "Episode 631:   6%|▋         | 632/10000 [01:14<37:10,  4.20it/s, episode_reward=200, running_reward=121]"
     ]
    },
    {
     "name": "stderr",
     "output_type": "stream",
     "text": [
      "\r",
      "Episode 632:   6%|▋         | 632/10000 [01:14<37:10,  4.20it/s, episode_reward=200, running_reward=121]"
     ]
    },
    {
     "name": "stderr",
     "output_type": "stream",
     "text": [
      "\r",
      "Episode 632:   6%|▋         | 632/10000 [01:14<37:10,  4.20it/s, episode_reward=200, running_reward=122]"
     ]
    },
    {
     "name": "stderr",
     "output_type": "stream",
     "text": [
      "\r",
      "Episode 632:   6%|▋         | 633/10000 [01:14<36:59,  4.22it/s, episode_reward=200, running_reward=122]"
     ]
    },
    {
     "name": "stderr",
     "output_type": "stream",
     "text": [
      "\r",
      "Episode 633:   6%|▋         | 633/10000 [01:14<36:59,  4.22it/s, episode_reward=200, running_reward=122]"
     ]
    },
    {
     "name": "stderr",
     "output_type": "stream",
     "text": [
      "\r",
      "Episode 633:   6%|▋         | 633/10000 [01:14<36:59,  4.22it/s, episode_reward=200, running_reward=123]"
     ]
    },
    {
     "name": "stderr",
     "output_type": "stream",
     "text": [
      "\r",
      "Episode 633:   6%|▋         | 634/10000 [01:14<36:45,  4.25it/s, episode_reward=200, running_reward=123]"
     ]
    },
    {
     "name": "stderr",
     "output_type": "stream",
     "text": [
      "\r",
      "Episode 634:   6%|▋         | 634/10000 [01:15<36:45,  4.25it/s, episode_reward=200, running_reward=123]"
     ]
    },
    {
     "name": "stderr",
     "output_type": "stream",
     "text": [
      "\r",
      "Episode 634:   6%|▋         | 634/10000 [01:15<36:45,  4.25it/s, episode_reward=178, running_reward=124]"
     ]
    },
    {
     "name": "stderr",
     "output_type": "stream",
     "text": [
      "\r",
      "Episode 634:   6%|▋         | 635/10000 [01:15<36:04,  4.33it/s, episode_reward=178, running_reward=124]"
     ]
    },
    {
     "name": "stderr",
     "output_type": "stream",
     "text": [
      "\r",
      "Episode 635:   6%|▋         | 635/10000 [01:15<36:04,  4.33it/s, episode_reward=178, running_reward=124]"
     ]
    },
    {
     "name": "stderr",
     "output_type": "stream",
     "text": [
      "\r",
      "Episode 635:   6%|▋         | 635/10000 [01:15<36:04,  4.33it/s, episode_reward=169, running_reward=125]"
     ]
    },
    {
     "name": "stderr",
     "output_type": "stream",
     "text": [
      "\r",
      "Episode 635:   6%|▋         | 636/10000 [01:15<34:51,  4.48it/s, episode_reward=169, running_reward=125]"
     ]
    },
    {
     "name": "stderr",
     "output_type": "stream",
     "text": [
      "\r",
      "Episode 636:   6%|▋         | 636/10000 [01:15<34:51,  4.48it/s, episode_reward=169, running_reward=125]"
     ]
    },
    {
     "name": "stderr",
     "output_type": "stream",
     "text": [
      "\r",
      "Episode 636:   6%|▋         | 636/10000 [01:15<34:51,  4.48it/s, episode_reward=161, running_reward=126]"
     ]
    },
    {
     "name": "stderr",
     "output_type": "stream",
     "text": [
      "\r",
      "Episode 636:   6%|▋         | 637/10000 [01:15<34:16,  4.55it/s, episode_reward=161, running_reward=126]"
     ]
    },
    {
     "name": "stderr",
     "output_type": "stream",
     "text": [
      "\r",
      "Episode 637:   6%|▋         | 637/10000 [01:15<34:16,  4.55it/s, episode_reward=161, running_reward=126]"
     ]
    },
    {
     "name": "stderr",
     "output_type": "stream",
     "text": [
      "\r",
      "Episode 637:   6%|▋         | 637/10000 [01:15<34:16,  4.55it/s, episode_reward=146, running_reward=126]"
     ]
    },
    {
     "name": "stderr",
     "output_type": "stream",
     "text": [
      "\r",
      "Episode 637:   6%|▋         | 638/10000 [01:15<33:08,  4.71it/s, episode_reward=146, running_reward=126]"
     ]
    },
    {
     "name": "stderr",
     "output_type": "stream",
     "text": [
      "\r",
      "Episode 638:   6%|▋         | 638/10000 [01:15<33:08,  4.71it/s, episode_reward=146, running_reward=126]"
     ]
    },
    {
     "name": "stderr",
     "output_type": "stream",
     "text": [
      "\r",
      "Episode 638:   6%|▋         | 638/10000 [01:15<33:08,  4.71it/s, episode_reward=135, running_reward=127]"
     ]
    },
    {
     "name": "stderr",
     "output_type": "stream",
     "text": [
      "\r",
      "Episode 638:   6%|▋         | 639/10000 [01:15<31:08,  5.01it/s, episode_reward=135, running_reward=127]"
     ]
    },
    {
     "name": "stderr",
     "output_type": "stream",
     "text": [
      "\r",
      "Episode 639:   6%|▋         | 639/10000 [01:16<31:08,  5.01it/s, episode_reward=135, running_reward=127]"
     ]
    },
    {
     "name": "stderr",
     "output_type": "stream",
     "text": [
      "\r",
      "Episode 639:   6%|▋         | 639/10000 [01:16<31:08,  5.01it/s, episode_reward=128, running_reward=127]"
     ]
    },
    {
     "name": "stderr",
     "output_type": "stream",
     "text": [
      "\r",
      "Episode 639:   6%|▋         | 640/10000 [01:16<29:46,  5.24it/s, episode_reward=128, running_reward=127]"
     ]
    },
    {
     "name": "stderr",
     "output_type": "stream",
     "text": [
      "\r",
      "Episode 640:   6%|▋         | 640/10000 [01:16<29:46,  5.24it/s, episode_reward=128, running_reward=127]"
     ]
    },
    {
     "name": "stderr",
     "output_type": "stream",
     "text": [
      "\r",
      "Episode 640:   6%|▋         | 640/10000 [01:16<29:46,  5.24it/s, episode_reward=155, running_reward=128]"
     ]
    },
    {
     "name": "stderr",
     "output_type": "stream",
     "text": [
      "\r",
      "Episode 640:   6%|▋         | 641/10000 [01:16<30:03,  5.19it/s, episode_reward=155, running_reward=128]"
     ]
    },
    {
     "name": "stderr",
     "output_type": "stream",
     "text": [
      "\r",
      "Episode 641:   6%|▋         | 641/10000 [01:16<30:03,  5.19it/s, episode_reward=155, running_reward=128]"
     ]
    },
    {
     "name": "stderr",
     "output_type": "stream",
     "text": [
      "\r",
      "Episode 641:   6%|▋         | 641/10000 [01:16<30:03,  5.19it/s, episode_reward=135, running_reward=129]"
     ]
    },
    {
     "name": "stderr",
     "output_type": "stream",
     "text": [
      "\r",
      "Episode 641:   6%|▋         | 642/10000 [01:16<29:25,  5.30it/s, episode_reward=135, running_reward=129]"
     ]
    },
    {
     "name": "stderr",
     "output_type": "stream",
     "text": [
      "\r",
      "Episode 642:   6%|▋         | 642/10000 [01:16<29:25,  5.30it/s, episode_reward=135, running_reward=129]"
     ]
    },
    {
     "name": "stderr",
     "output_type": "stream",
     "text": [
      "\r",
      "Episode 642:   6%|▋         | 642/10000 [01:16<29:25,  5.30it/s, episode_reward=136, running_reward=129]"
     ]
    },
    {
     "name": "stderr",
     "output_type": "stream",
     "text": [
      "\r",
      "Episode 642:   6%|▋         | 643/10000 [01:16<29:14,  5.33it/s, episode_reward=136, running_reward=129]"
     ]
    },
    {
     "name": "stderr",
     "output_type": "stream",
     "text": [
      "\r",
      "Episode 643:   6%|▋         | 643/10000 [01:16<29:14,  5.33it/s, episode_reward=136, running_reward=129]"
     ]
    },
    {
     "name": "stderr",
     "output_type": "stream",
     "text": [
      "\r",
      "Episode 643:   6%|▋         | 643/10000 [01:16<29:14,  5.33it/s, episode_reward=158, running_reward=130]"
     ]
    },
    {
     "name": "stderr",
     "output_type": "stream",
     "text": [
      "\r",
      "Episode 643:   6%|▋         | 644/10000 [01:16<29:46,  5.24it/s, episode_reward=158, running_reward=130]"
     ]
    },
    {
     "name": "stderr",
     "output_type": "stream",
     "text": [
      "\r",
      "Episode 644:   6%|▋         | 644/10000 [01:17<29:46,  5.24it/s, episode_reward=158, running_reward=130]"
     ]
    },
    {
     "name": "stderr",
     "output_type": "stream",
     "text": [
      "\r",
      "Episode 644:   6%|▋         | 644/10000 [01:17<29:46,  5.24it/s, episode_reward=140, running_reward=131]"
     ]
    },
    {
     "name": "stderr",
     "output_type": "stream",
     "text": [
      "\r",
      "Episode 644:   6%|▋         | 645/10000 [01:17<28:29,  5.47it/s, episode_reward=140, running_reward=131]"
     ]
    },
    {
     "name": "stderr",
     "output_type": "stream",
     "text": [
      "\r",
      "Episode 645:   6%|▋         | 645/10000 [01:17<28:29,  5.47it/s, episode_reward=140, running_reward=131]"
     ]
    },
    {
     "name": "stderr",
     "output_type": "stream",
     "text": [
      "\r",
      "Episode 645:   6%|▋         | 645/10000 [01:17<28:29,  5.47it/s, episode_reward=144, running_reward=132]"
     ]
    },
    {
     "name": "stderr",
     "output_type": "stream",
     "text": [
      "\r",
      "Episode 645:   6%|▋         | 646/10000 [01:17<28:16,  5.51it/s, episode_reward=144, running_reward=132]"
     ]
    },
    {
     "name": "stderr",
     "output_type": "stream",
     "text": [
      "\r",
      "Episode 646:   6%|▋         | 646/10000 [01:17<28:16,  5.51it/s, episode_reward=144, running_reward=132]"
     ]
    },
    {
     "name": "stderr",
     "output_type": "stream",
     "text": [
      "\r",
      "Episode 646:   6%|▋         | 646/10000 [01:17<28:16,  5.51it/s, episode_reward=146, running_reward=133]"
     ]
    },
    {
     "name": "stderr",
     "output_type": "stream",
     "text": [
      "\r",
      "Episode 646:   6%|▋         | 647/10000 [01:17<28:50,  5.41it/s, episode_reward=146, running_reward=133]"
     ]
    },
    {
     "name": "stderr",
     "output_type": "stream",
     "text": [
      "\r",
      "Episode 647:   6%|▋         | 647/10000 [01:17<28:50,  5.41it/s, episode_reward=146, running_reward=133]"
     ]
    },
    {
     "name": "stderr",
     "output_type": "stream",
     "text": [
      "\r",
      "Episode 647:   6%|▋         | 647/10000 [01:17<28:50,  5.41it/s, episode_reward=152, running_reward=134]"
     ]
    },
    {
     "name": "stderr",
     "output_type": "stream",
     "text": [
      "\r",
      "Episode 647:   6%|▋         | 648/10000 [01:17<29:21,  5.31it/s, episode_reward=152, running_reward=134]"
     ]
    },
    {
     "name": "stderr",
     "output_type": "stream",
     "text": [
      "\r",
      "Episode 648:   6%|▋         | 648/10000 [01:17<29:21,  5.31it/s, episode_reward=152, running_reward=134]"
     ]
    },
    {
     "name": "stderr",
     "output_type": "stream",
     "text": [
      "\r",
      "Episode 648:   6%|▋         | 648/10000 [01:17<29:21,  5.31it/s, episode_reward=149, running_reward=134]"
     ]
    },
    {
     "name": "stderr",
     "output_type": "stream",
     "text": [
      "\r",
      "Episode 648:   6%|▋         | 649/10000 [01:17<29:30,  5.28it/s, episode_reward=149, running_reward=134]"
     ]
    },
    {
     "name": "stderr",
     "output_type": "stream",
     "text": [
      "\r",
      "Episode 649:   6%|▋         | 649/10000 [01:18<29:30,  5.28it/s, episode_reward=149, running_reward=134]"
     ]
    },
    {
     "name": "stderr",
     "output_type": "stream",
     "text": [
      "\r",
      "Episode 649:   6%|▋         | 649/10000 [01:18<29:30,  5.28it/s, episode_reward=159, running_reward=135]"
     ]
    },
    {
     "name": "stderr",
     "output_type": "stream",
     "text": [
      "\r",
      "Episode 649:   6%|▋         | 650/10000 [01:18<30:22,  5.13it/s, episode_reward=159, running_reward=135]"
     ]
    },
    {
     "name": "stderr",
     "output_type": "stream",
     "text": [
      "\r",
      "Episode 650:   6%|▋         | 650/10000 [01:18<30:22,  5.13it/s, episode_reward=159, running_reward=135]"
     ]
    },
    {
     "name": "stderr",
     "output_type": "stream",
     "text": [
      "\r",
      "Episode 650:   6%|▋         | 650/10000 [01:18<30:22,  5.13it/s, episode_reward=161, running_reward=136]"
     ]
    },
    {
     "name": "stderr",
     "output_type": "stream",
     "text": [
      "\r",
      "Episode 650:   7%|▋         | 651/10000 [01:18<30:02,  5.19it/s, episode_reward=161, running_reward=136]"
     ]
    },
    {
     "name": "stderr",
     "output_type": "stream",
     "text": [
      "\r",
      "Episode 651:   7%|▋         | 651/10000 [01:18<30:02,  5.19it/s, episode_reward=161, running_reward=136]"
     ]
    },
    {
     "name": "stderr",
     "output_type": "stream",
     "text": [
      "\r",
      "Episode 651:   7%|▋         | 651/10000 [01:18<30:02,  5.19it/s, episode_reward=146, running_reward=137]"
     ]
    },
    {
     "name": "stderr",
     "output_type": "stream",
     "text": [
      "\r",
      "Episode 651:   7%|▋         | 652/10000 [01:18<29:09,  5.34it/s, episode_reward=146, running_reward=137]"
     ]
    },
    {
     "name": "stderr",
     "output_type": "stream",
     "text": [
      "\r",
      "Episode 652:   7%|▋         | 652/10000 [01:18<29:09,  5.34it/s, episode_reward=146, running_reward=137]"
     ]
    },
    {
     "name": "stderr",
     "output_type": "stream",
     "text": [
      "\r",
      "Episode 652:   7%|▋         | 652/10000 [01:18<29:09,  5.34it/s, episode_reward=167, running_reward=137]"
     ]
    },
    {
     "name": "stderr",
     "output_type": "stream",
     "text": [
      "\r",
      "Episode 652:   7%|▋         | 653/10000 [01:18<29:47,  5.23it/s, episode_reward=167, running_reward=137]"
     ]
    },
    {
     "name": "stderr",
     "output_type": "stream",
     "text": [
      "\r",
      "Episode 653:   7%|▋         | 653/10000 [01:18<29:47,  5.23it/s, episode_reward=167, running_reward=137]"
     ]
    },
    {
     "name": "stderr",
     "output_type": "stream",
     "text": [
      "\r",
      "Episode 653:   7%|▋         | 653/10000 [01:18<29:47,  5.23it/s, episode_reward=146, running_reward=138]"
     ]
    },
    {
     "name": "stderr",
     "output_type": "stream",
     "text": [
      "\r",
      "Episode 653:   7%|▋         | 654/10000 [01:18<29:01,  5.37it/s, episode_reward=146, running_reward=138]"
     ]
    },
    {
     "name": "stderr",
     "output_type": "stream",
     "text": [
      "\r",
      "Episode 654:   7%|▋         | 654/10000 [01:18<29:01,  5.37it/s, episode_reward=146, running_reward=138]"
     ]
    },
    {
     "name": "stderr",
     "output_type": "stream",
     "text": [
      "\r",
      "Episode 654:   7%|▋         | 654/10000 [01:18<29:01,  5.37it/s, episode_reward=158, running_reward=139]"
     ]
    },
    {
     "name": "stderr",
     "output_type": "stream",
     "text": [
      "\r",
      "Episode 654:   7%|▋         | 655/10000 [01:18<28:57,  5.38it/s, episode_reward=158, running_reward=139]"
     ]
    },
    {
     "name": "stderr",
     "output_type": "stream",
     "text": [
      "\r",
      "Episode 655:   7%|▋         | 655/10000 [01:19<28:57,  5.38it/s, episode_reward=158, running_reward=139]"
     ]
    },
    {
     "name": "stderr",
     "output_type": "stream",
     "text": [
      "\r",
      "Episode 655:   7%|▋         | 655/10000 [01:19<28:57,  5.38it/s, episode_reward=171, running_reward=140]"
     ]
    },
    {
     "name": "stderr",
     "output_type": "stream",
     "text": [
      "\r",
      "Episode 655:   7%|▋         | 656/10000 [01:19<29:42,  5.24it/s, episode_reward=171, running_reward=140]"
     ]
    },
    {
     "name": "stderr",
     "output_type": "stream",
     "text": [
      "\r",
      "Episode 656:   7%|▋         | 656/10000 [01:19<29:42,  5.24it/s, episode_reward=171, running_reward=140]"
     ]
    },
    {
     "name": "stderr",
     "output_type": "stream",
     "text": [
      "\r",
      "Episode 656:   7%|▋         | 656/10000 [01:19<29:42,  5.24it/s, episode_reward=176, running_reward=141]"
     ]
    },
    {
     "name": "stderr",
     "output_type": "stream",
     "text": [
      "\r",
      "Episode 656:   7%|▋         | 657/10000 [01:19<31:41,  4.91it/s, episode_reward=176, running_reward=141]"
     ]
    },
    {
     "name": "stderr",
     "output_type": "stream",
     "text": [
      "\r",
      "Episode 657:   7%|▋         | 657/10000 [01:19<31:41,  4.91it/s, episode_reward=176, running_reward=141]"
     ]
    },
    {
     "name": "stderr",
     "output_type": "stream",
     "text": [
      "\r",
      "Episode 657:   7%|▋         | 657/10000 [01:19<31:41,  4.91it/s, episode_reward=167, running_reward=141]"
     ]
    },
    {
     "name": "stderr",
     "output_type": "stream",
     "text": [
      "\r",
      "Episode 657:   7%|▋         | 658/10000 [01:19<31:34,  4.93it/s, episode_reward=167, running_reward=141]"
     ]
    },
    {
     "name": "stderr",
     "output_type": "stream",
     "text": [
      "\r",
      "Episode 658:   7%|▋         | 658/10000 [01:19<31:34,  4.93it/s, episode_reward=167, running_reward=141]"
     ]
    },
    {
     "name": "stderr",
     "output_type": "stream",
     "text": [
      "\r",
      "Episode 658:   7%|▋         | 658/10000 [01:19<31:34,  4.93it/s, episode_reward=180, running_reward=142]"
     ]
    },
    {
     "name": "stderr",
     "output_type": "stream",
     "text": [
      "\r",
      "Episode 658:   7%|▋         | 659/10000 [01:19<32:58,  4.72it/s, episode_reward=180, running_reward=142]"
     ]
    },
    {
     "name": "stderr",
     "output_type": "stream",
     "text": [
      "\r",
      "Episode 659:   7%|▋         | 659/10000 [01:20<32:58,  4.72it/s, episode_reward=180, running_reward=142]"
     ]
    },
    {
     "name": "stderr",
     "output_type": "stream",
     "text": [
      "\r",
      "Episode 659:   7%|▋         | 659/10000 [01:20<32:58,  4.72it/s, episode_reward=175, running_reward=143]"
     ]
    },
    {
     "name": "stderr",
     "output_type": "stream",
     "text": [
      "\r",
      "Episode 659:   7%|▋         | 660/10000 [01:20<33:18,  4.67it/s, episode_reward=175, running_reward=143]"
     ]
    },
    {
     "name": "stderr",
     "output_type": "stream",
     "text": [
      "\r",
      "Episode 660:   7%|▋         | 660/10000 [01:20<33:18,  4.67it/s, episode_reward=175, running_reward=143]"
     ]
    },
    {
     "name": "stderr",
     "output_type": "stream",
     "text": [
      "\r",
      "Episode 660:   7%|▋         | 660/10000 [01:20<33:18,  4.67it/s, episode_reward=184, running_reward=144]"
     ]
    },
    {
     "name": "stderr",
     "output_type": "stream",
     "text": [
      "\r",
      "Episode 660:   7%|▋         | 661/10000 [01:20<34:27,  4.52it/s, episode_reward=184, running_reward=144]"
     ]
    },
    {
     "name": "stderr",
     "output_type": "stream",
     "text": [
      "\r",
      "Episode 661:   7%|▋         | 661/10000 [01:20<34:27,  4.52it/s, episode_reward=184, running_reward=144]"
     ]
    },
    {
     "name": "stderr",
     "output_type": "stream",
     "text": [
      "\r",
      "Episode 661:   7%|▋         | 661/10000 [01:20<34:27,  4.52it/s, episode_reward=190, running_reward=146]"
     ]
    },
    {
     "name": "stderr",
     "output_type": "stream",
     "text": [
      "\r",
      "Episode 661:   7%|▋         | 662/10000 [01:20<35:14,  4.42it/s, episode_reward=190, running_reward=146]"
     ]
    },
    {
     "name": "stderr",
     "output_type": "stream",
     "text": [
      "\r",
      "Episode 662:   7%|▋         | 662/10000 [01:20<35:14,  4.42it/s, episode_reward=190, running_reward=146]"
     ]
    },
    {
     "name": "stderr",
     "output_type": "stream",
     "text": [
      "\r",
      "Episode 662:   7%|▋         | 662/10000 [01:20<35:14,  4.42it/s, episode_reward=181, running_reward=147]"
     ]
    },
    {
     "name": "stderr",
     "output_type": "stream",
     "text": [
      "\r",
      "Episode 662:   7%|▋         | 663/10000 [01:20<35:08,  4.43it/s, episode_reward=181, running_reward=147]"
     ]
    },
    {
     "name": "stderr",
     "output_type": "stream",
     "text": [
      "\r",
      "Episode 663:   7%|▋         | 663/10000 [01:20<35:08,  4.43it/s, episode_reward=181, running_reward=147]"
     ]
    },
    {
     "name": "stderr",
     "output_type": "stream",
     "text": [
      "\r",
      "Episode 663:   7%|▋         | 663/10000 [01:20<35:08,  4.43it/s, episode_reward=181, running_reward=147]"
     ]
    },
    {
     "name": "stderr",
     "output_type": "stream",
     "text": [
      "\r",
      "Episode 663:   7%|▋         | 664/10000 [01:20<35:47,  4.35it/s, episode_reward=181, running_reward=147]"
     ]
    },
    {
     "name": "stderr",
     "output_type": "stream",
     "text": [
      "\r",
      "Episode 664:   7%|▋         | 664/10000 [01:21<35:47,  4.35it/s, episode_reward=181, running_reward=147]"
     ]
    },
    {
     "name": "stderr",
     "output_type": "stream",
     "text": [
      "\r",
      "Episode 664:   7%|▋         | 664/10000 [01:21<35:47,  4.35it/s, episode_reward=179, running_reward=148]"
     ]
    },
    {
     "name": "stderr",
     "output_type": "stream",
     "text": [
      "\r",
      "Episode 664:   7%|▋         | 665/10000 [01:21<36:19,  4.28it/s, episode_reward=179, running_reward=148]"
     ]
    },
    {
     "name": "stderr",
     "output_type": "stream",
     "text": [
      "\r",
      "Episode 665:   7%|▋         | 665/10000 [01:21<36:19,  4.28it/s, episode_reward=179, running_reward=148]"
     ]
    },
    {
     "name": "stderr",
     "output_type": "stream",
     "text": [
      "\r",
      "Episode 665:   7%|▋         | 665/10000 [01:21<36:19,  4.28it/s, episode_reward=180, running_reward=149]"
     ]
    },
    {
     "name": "stderr",
     "output_type": "stream",
     "text": [
      "\r",
      "Episode 665:   7%|▋         | 666/10000 [01:21<36:19,  4.28it/s, episode_reward=180, running_reward=149]"
     ]
    },
    {
     "name": "stderr",
     "output_type": "stream",
     "text": [
      "\r",
      "Episode 666:   7%|▋         | 666/10000 [01:21<36:19,  4.28it/s, episode_reward=180, running_reward=149]"
     ]
    },
    {
     "name": "stderr",
     "output_type": "stream",
     "text": [
      "\r",
      "Episode 666:   7%|▋         | 666/10000 [01:21<36:19,  4.28it/s, episode_reward=200, running_reward=151]"
     ]
    },
    {
     "name": "stderr",
     "output_type": "stream",
     "text": [
      "\r",
      "Episode 666:   7%|▋         | 667/10000 [01:21<37:07,  4.19it/s, episode_reward=200, running_reward=151]"
     ]
    },
    {
     "name": "stderr",
     "output_type": "stream",
     "text": [
      "\r",
      "Episode 667:   7%|▋         | 667/10000 [01:21<37:07,  4.19it/s, episode_reward=200, running_reward=151]"
     ]
    },
    {
     "name": "stderr",
     "output_type": "stream",
     "text": [
      "\r",
      "Episode 667:   7%|▋         | 667/10000 [01:21<37:07,  4.19it/s, episode_reward=200, running_reward=152]"
     ]
    },
    {
     "name": "stderr",
     "output_type": "stream",
     "text": [
      "\r",
      "Episode 667:   7%|▋         | 668/10000 [01:21<37:49,  4.11it/s, episode_reward=200, running_reward=152]"
     ]
    },
    {
     "name": "stderr",
     "output_type": "stream",
     "text": [
      "\r",
      "Episode 668:   7%|▋         | 668/10000 [01:22<37:49,  4.11it/s, episode_reward=200, running_reward=152]"
     ]
    },
    {
     "name": "stderr",
     "output_type": "stream",
     "text": [
      "\r",
      "Episode 668:   7%|▋         | 668/10000 [01:22<37:49,  4.11it/s, episode_reward=200, running_reward=153]"
     ]
    },
    {
     "name": "stderr",
     "output_type": "stream",
     "text": [
      "\r",
      "Episode 668:   7%|▋         | 669/10000 [01:22<38:10,  4.07it/s, episode_reward=200, running_reward=153]"
     ]
    },
    {
     "name": "stderr",
     "output_type": "stream",
     "text": [
      "\r",
      "Episode 669:   7%|▋         | 669/10000 [01:22<38:10,  4.07it/s, episode_reward=200, running_reward=153]"
     ]
    },
    {
     "name": "stderr",
     "output_type": "stream",
     "text": [
      "\r",
      "Episode 669:   7%|▋         | 669/10000 [01:22<38:10,  4.07it/s, episode_reward=200, running_reward=154]"
     ]
    },
    {
     "name": "stderr",
     "output_type": "stream",
     "text": [
      "\r",
      "Episode 669:   7%|▋         | 670/10000 [01:22<37:44,  4.12it/s, episode_reward=200, running_reward=154]"
     ]
    },
    {
     "name": "stderr",
     "output_type": "stream",
     "text": [
      "\r",
      "Episode 670:   7%|▋         | 670/10000 [01:22<37:44,  4.12it/s, episode_reward=200, running_reward=154]"
     ]
    },
    {
     "name": "stderr",
     "output_type": "stream",
     "text": [
      "\r",
      "Episode 670:   7%|▋         | 670/10000 [01:22<37:44,  4.12it/s, episode_reward=200, running_reward=155]"
     ]
    },
    {
     "name": "stderr",
     "output_type": "stream",
     "text": [
      "\r",
      "Episode 670:   7%|▋         | 671/10000 [01:22<38:04,  4.08it/s, episode_reward=200, running_reward=155]"
     ]
    },
    {
     "name": "stderr",
     "output_type": "stream",
     "text": [
      "\r",
      "Episode 671:   7%|▋         | 671/10000 [01:22<38:04,  4.08it/s, episode_reward=200, running_reward=155]"
     ]
    },
    {
     "name": "stderr",
     "output_type": "stream",
     "text": [
      "\r",
      "Episode 671:   7%|▋         | 671/10000 [01:22<38:04,  4.08it/s, episode_reward=200, running_reward=156]"
     ]
    },
    {
     "name": "stderr",
     "output_type": "stream",
     "text": [
      "\r",
      "Episode 671:   7%|▋         | 672/10000 [01:22<39:00,  3.98it/s, episode_reward=200, running_reward=156]"
     ]
    },
    {
     "name": "stderr",
     "output_type": "stream",
     "text": [
      "\r",
      "Episode 672:   7%|▋         | 672/10000 [01:23<39:00,  3.98it/s, episode_reward=200, running_reward=156]"
     ]
    },
    {
     "name": "stderr",
     "output_type": "stream",
     "text": [
      "\r",
      "Episode 672:   7%|▋         | 672/10000 [01:23<39:00,  3.98it/s, episode_reward=200, running_reward=157]"
     ]
    },
    {
     "name": "stderr",
     "output_type": "stream",
     "text": [
      "\r",
      "Episode 672:   7%|▋         | 673/10000 [01:23<39:08,  3.97it/s, episode_reward=200, running_reward=157]"
     ]
    },
    {
     "name": "stderr",
     "output_type": "stream",
     "text": [
      "\r",
      "Episode 673:   7%|▋         | 673/10000 [01:23<39:08,  3.97it/s, episode_reward=200, running_reward=157]"
     ]
    },
    {
     "name": "stderr",
     "output_type": "stream",
     "text": [
      "\r",
      "Episode 673:   7%|▋         | 673/10000 [01:23<39:08,  3.97it/s, episode_reward=200, running_reward=158]"
     ]
    },
    {
     "name": "stderr",
     "output_type": "stream",
     "text": [
      "\r",
      "Episode 673:   7%|▋         | 674/10000 [01:23<40:11,  3.87it/s, episode_reward=200, running_reward=158]"
     ]
    },
    {
     "name": "stderr",
     "output_type": "stream",
     "text": [
      "\r",
      "Episode 674:   7%|▋         | 674/10000 [01:23<40:11,  3.87it/s, episode_reward=200, running_reward=158]"
     ]
    },
    {
     "name": "stderr",
     "output_type": "stream",
     "text": [
      "\r",
      "Episode 674:   7%|▋         | 674/10000 [01:23<40:11,  3.87it/s, episode_reward=200, running_reward=159]"
     ]
    },
    {
     "name": "stderr",
     "output_type": "stream",
     "text": [
      "\r",
      "Episode 674:   7%|▋         | 675/10000 [01:23<40:28,  3.84it/s, episode_reward=200, running_reward=159]"
     ]
    },
    {
     "name": "stderr",
     "output_type": "stream",
     "text": [
      "\r",
      "Episode 675:   7%|▋         | 675/10000 [01:24<40:28,  3.84it/s, episode_reward=200, running_reward=159]"
     ]
    },
    {
     "name": "stderr",
     "output_type": "stream",
     "text": [
      "\r",
      "Episode 675:   7%|▋         | 675/10000 [01:24<40:28,  3.84it/s, episode_reward=200, running_reward=160]"
     ]
    },
    {
     "name": "stderr",
     "output_type": "stream",
     "text": [
      "\r",
      "Episode 675:   7%|▋         | 676/10000 [01:24<40:15,  3.86it/s, episode_reward=200, running_reward=160]"
     ]
    },
    {
     "name": "stderr",
     "output_type": "stream",
     "text": [
      "\r",
      "Episode 676:   7%|▋         | 676/10000 [01:24<40:15,  3.86it/s, episode_reward=200, running_reward=160]"
     ]
    },
    {
     "name": "stderr",
     "output_type": "stream",
     "text": [
      "\r",
      "Episode 676:   7%|▋         | 676/10000 [01:24<40:15,  3.86it/s, episode_reward=200, running_reward=162]"
     ]
    },
    {
     "name": "stderr",
     "output_type": "stream",
     "text": [
      "\r",
      "Episode 676:   7%|▋         | 677/10000 [01:24<39:59,  3.89it/s, episode_reward=200, running_reward=162]"
     ]
    },
    {
     "name": "stderr",
     "output_type": "stream",
     "text": [
      "\r",
      "Episode 677:   7%|▋         | 677/10000 [01:24<39:59,  3.89it/s, episode_reward=200, running_reward=162]"
     ]
    },
    {
     "name": "stderr",
     "output_type": "stream",
     "text": [
      "\r",
      "Episode 677:   7%|▋         | 677/10000 [01:24<39:59,  3.89it/s, episode_reward=200, running_reward=163]"
     ]
    },
    {
     "name": "stderr",
     "output_type": "stream",
     "text": [
      "\r",
      "Episode 677:   7%|▋         | 678/10000 [01:24<40:13,  3.86it/s, episode_reward=200, running_reward=163]"
     ]
    },
    {
     "name": "stderr",
     "output_type": "stream",
     "text": [
      "\r",
      "Episode 678:   7%|▋         | 678/10000 [01:24<40:13,  3.86it/s, episode_reward=200, running_reward=163]"
     ]
    },
    {
     "name": "stderr",
     "output_type": "stream",
     "text": [
      "\r",
      "Episode 678:   7%|▋         | 678/10000 [01:24<40:13,  3.86it/s, episode_reward=200, running_reward=164]"
     ]
    },
    {
     "name": "stderr",
     "output_type": "stream",
     "text": [
      "\r",
      "Episode 678:   7%|▋         | 679/10000 [01:24<39:47,  3.90it/s, episode_reward=200, running_reward=164]"
     ]
    },
    {
     "name": "stderr",
     "output_type": "stream",
     "text": [
      "\r",
      "Episode 679:   7%|▋         | 679/10000 [01:25<39:47,  3.90it/s, episode_reward=200, running_reward=164]"
     ]
    },
    {
     "name": "stderr",
     "output_type": "stream",
     "text": [
      "\r",
      "Episode 679:   7%|▋         | 679/10000 [01:25<39:47,  3.90it/s, episode_reward=200, running_reward=165]"
     ]
    },
    {
     "name": "stderr",
     "output_type": "stream",
     "text": [
      "\r",
      "Episode 679:   7%|▋         | 680/10000 [01:25<39:23,  3.94it/s, episode_reward=200, running_reward=165]"
     ]
    },
    {
     "name": "stderr",
     "output_type": "stream",
     "text": [
      "\r",
      "Episode 680:   7%|▋         | 680/10000 [01:25<39:23,  3.94it/s, episode_reward=200, running_reward=165]"
     ]
    },
    {
     "name": "stderr",
     "output_type": "stream",
     "text": [
      "\r",
      "Episode 680:   7%|▋         | 680/10000 [01:25<39:23,  3.94it/s, episode_reward=200, running_reward=166]"
     ]
    },
    {
     "name": "stderr",
     "output_type": "stream",
     "text": [
      "\r",
      "Episode 680:   7%|▋         | 681/10000 [01:25<39:04,  3.97it/s, episode_reward=200, running_reward=166]"
     ]
    },
    {
     "name": "stderr",
     "output_type": "stream",
     "text": [
      "\r",
      "Episode 681:   7%|▋         | 681/10000 [01:25<39:04,  3.97it/s, episode_reward=200, running_reward=166]"
     ]
    },
    {
     "name": "stderr",
     "output_type": "stream",
     "text": [
      "\r",
      "Episode 681:   7%|▋         | 681/10000 [01:25<39:04,  3.97it/s, episode_reward=200, running_reward=167]"
     ]
    },
    {
     "name": "stderr",
     "output_type": "stream",
     "text": [
      "\r",
      "Episode 681:   7%|▋         | 682/10000 [01:25<38:53,  3.99it/s, episode_reward=200, running_reward=167]"
     ]
    },
    {
     "name": "stderr",
     "output_type": "stream",
     "text": [
      "\r",
      "Episode 682:   7%|▋         | 682/10000 [01:25<38:53,  3.99it/s, episode_reward=200, running_reward=167]"
     ]
    },
    {
     "name": "stderr",
     "output_type": "stream",
     "text": [
      "\r",
      "Episode 682:   7%|▋         | 682/10000 [01:25<38:53,  3.99it/s, episode_reward=200, running_reward=168]"
     ]
    },
    {
     "name": "stderr",
     "output_type": "stream",
     "text": [
      "\r",
      "Episode 682:   7%|▋         | 683/10000 [01:25<38:40,  4.01it/s, episode_reward=200, running_reward=168]"
     ]
    },
    {
     "name": "stderr",
     "output_type": "stream",
     "text": [
      "\r",
      "Episode 683:   7%|▋         | 683/10000 [01:26<38:40,  4.01it/s, episode_reward=200, running_reward=168]"
     ]
    },
    {
     "name": "stderr",
     "output_type": "stream",
     "text": [
      "\r",
      "Episode 683:   7%|▋         | 683/10000 [01:26<38:40,  4.01it/s, episode_reward=200, running_reward=169]"
     ]
    },
    {
     "name": "stderr",
     "output_type": "stream",
     "text": [
      "\r",
      "Episode 683:   7%|▋         | 684/10000 [01:26<38:51,  4.00it/s, episode_reward=200, running_reward=169]"
     ]
    },
    {
     "name": "stderr",
     "output_type": "stream",
     "text": [
      "\r",
      "Episode 684:   7%|▋         | 684/10000 [01:26<38:51,  4.00it/s, episode_reward=200, running_reward=169]"
     ]
    },
    {
     "name": "stderr",
     "output_type": "stream",
     "text": [
      "\r",
      "Episode 684:   7%|▋         | 684/10000 [01:26<38:51,  4.00it/s, episode_reward=200, running_reward=170]"
     ]
    },
    {
     "name": "stderr",
     "output_type": "stream",
     "text": [
      "\r",
      "Episode 684:   7%|▋         | 685/10000 [01:26<38:54,  3.99it/s, episode_reward=200, running_reward=170]"
     ]
    },
    {
     "name": "stderr",
     "output_type": "stream",
     "text": [
      "\r",
      "Episode 685:   7%|▋         | 685/10000 [01:26<38:54,  3.99it/s, episode_reward=200, running_reward=170]"
     ]
    },
    {
     "name": "stderr",
     "output_type": "stream",
     "text": [
      "\r",
      "Episode 685:   7%|▋         | 685/10000 [01:26<38:54,  3.99it/s, episode_reward=200, running_reward=171]"
     ]
    },
    {
     "name": "stderr",
     "output_type": "stream",
     "text": [
      "\r",
      "Episode 685:   7%|▋         | 686/10000 [01:26<38:29,  4.03it/s, episode_reward=200, running_reward=171]"
     ]
    },
    {
     "name": "stderr",
     "output_type": "stream",
     "text": [
      "\r",
      "Episode 686:   7%|▋         | 686/10000 [01:26<38:29,  4.03it/s, episode_reward=200, running_reward=171]"
     ]
    },
    {
     "name": "stderr",
     "output_type": "stream",
     "text": [
      "\r",
      "Episode 686:   7%|▋         | 686/10000 [01:26<38:29,  4.03it/s, episode_reward=200, running_reward=172]"
     ]
    },
    {
     "name": "stderr",
     "output_type": "stream",
     "text": [
      "\r",
      "Episode 686:   7%|▋         | 687/10000 [01:26<38:49,  4.00it/s, episode_reward=200, running_reward=172]"
     ]
    },
    {
     "name": "stderr",
     "output_type": "stream",
     "text": [
      "\r",
      "Episode 687:   7%|▋         | 687/10000 [01:27<38:49,  4.00it/s, episode_reward=200, running_reward=172]"
     ]
    },
    {
     "name": "stderr",
     "output_type": "stream",
     "text": [
      "\r",
      "Episode 687:   7%|▋         | 687/10000 [01:27<38:49,  4.00it/s, episode_reward=200, running_reward=173]"
     ]
    },
    {
     "name": "stderr",
     "output_type": "stream",
     "text": [
      "\r",
      "Episode 687:   7%|▋         | 688/10000 [01:27<38:39,  4.02it/s, episode_reward=200, running_reward=173]"
     ]
    },
    {
     "name": "stderr",
     "output_type": "stream",
     "text": [
      "\r",
      "Episode 688:   7%|▋         | 688/10000 [01:27<38:39,  4.02it/s, episode_reward=200, running_reward=173]"
     ]
    },
    {
     "name": "stderr",
     "output_type": "stream",
     "text": [
      "\r",
      "Episode 688:   7%|▋         | 688/10000 [01:27<38:39,  4.02it/s, episode_reward=200, running_reward=174]"
     ]
    },
    {
     "name": "stderr",
     "output_type": "stream",
     "text": [
      "\r",
      "Episode 688:   7%|▋         | 689/10000 [01:27<37:55,  4.09it/s, episode_reward=200, running_reward=174]"
     ]
    },
    {
     "name": "stderr",
     "output_type": "stream",
     "text": [
      "\r",
      "Episode 689:   7%|▋         | 689/10000 [01:27<37:55,  4.09it/s, episode_reward=200, running_reward=174]"
     ]
    },
    {
     "name": "stderr",
     "output_type": "stream",
     "text": [
      "\r",
      "Episode 689:   7%|▋         | 689/10000 [01:27<37:55,  4.09it/s, episode_reward=200, running_reward=175]"
     ]
    },
    {
     "name": "stderr",
     "output_type": "stream",
     "text": [
      "\r",
      "Episode 689:   7%|▋         | 690/10000 [01:27<37:25,  4.15it/s, episode_reward=200, running_reward=175]"
     ]
    },
    {
     "name": "stderr",
     "output_type": "stream",
     "text": [
      "\r",
      "Episode 690:   7%|▋         | 690/10000 [01:27<37:25,  4.15it/s, episode_reward=200, running_reward=175]"
     ]
    },
    {
     "name": "stderr",
     "output_type": "stream",
     "text": [
      "\r",
      "Episode 690:   7%|▋         | 690/10000 [01:27<37:25,  4.15it/s, episode_reward=200, running_reward=176]"
     ]
    },
    {
     "name": "stderr",
     "output_type": "stream",
     "text": [
      "\r",
      "Episode 690:   7%|▋         | 691/10000 [01:27<37:04,  4.19it/s, episode_reward=200, running_reward=176]"
     ]
    },
    {
     "name": "stderr",
     "output_type": "stream",
     "text": [
      "\r",
      "Episode 691:   7%|▋         | 691/10000 [01:27<37:04,  4.19it/s, episode_reward=200, running_reward=176]"
     ]
    },
    {
     "name": "stderr",
     "output_type": "stream",
     "text": [
      "\r",
      "Episode 691:   7%|▋         | 691/10000 [01:27<37:04,  4.19it/s, episode_reward=200, running_reward=176]"
     ]
    },
    {
     "name": "stderr",
     "output_type": "stream",
     "text": [
      "\r",
      "Episode 691:   7%|▋         | 692/10000 [01:27<36:56,  4.20it/s, episode_reward=200, running_reward=176]"
     ]
    },
    {
     "name": "stderr",
     "output_type": "stream",
     "text": [
      "\r",
      "Episode 692:   7%|▋         | 692/10000 [01:28<36:56,  4.20it/s, episode_reward=200, running_reward=176]"
     ]
    },
    {
     "name": "stderr",
     "output_type": "stream",
     "text": [
      "\r",
      "Episode 692:   7%|▋         | 692/10000 [01:28<36:56,  4.20it/s, episode_reward=73, running_reward=176] "
     ]
    },
    {
     "name": "stderr",
     "output_type": "stream",
     "text": [
      "\r",
      "Episode 693:   7%|▋         | 692/10000 [01:28<36:56,  4.20it/s, episode_reward=73, running_reward=176]"
     ]
    },
    {
     "name": "stderr",
     "output_type": "stream",
     "text": [
      "\r",
      "Episode 693:   7%|▋         | 692/10000 [01:28<36:56,  4.20it/s, episode_reward=200, running_reward=177]"
     ]
    },
    {
     "name": "stderr",
     "output_type": "stream",
     "text": [
      "\r",
      "Episode 693:   7%|▋         | 694/10000 [01:28<31:56,  4.86it/s, episode_reward=200, running_reward=177]"
     ]
    },
    {
     "name": "stderr",
     "output_type": "stream",
     "text": [
      "\r",
      "Episode 694:   7%|▋         | 694/10000 [01:28<31:56,  4.86it/s, episode_reward=200, running_reward=177]"
     ]
    },
    {
     "name": "stderr",
     "output_type": "stream",
     "text": [
      "\r",
      "Episode 694:   7%|▋         | 694/10000 [01:28<31:56,  4.86it/s, episode_reward=200, running_reward=177]"
     ]
    },
    {
     "name": "stderr",
     "output_type": "stream",
     "text": [
      "\r",
      "Episode 694:   7%|▋         | 695/10000 [01:28<33:56,  4.57it/s, episode_reward=200, running_reward=177]"
     ]
    },
    {
     "name": "stderr",
     "output_type": "stream",
     "text": [
      "\r",
      "Episode 695:   7%|▋         | 695/10000 [01:28<33:56,  4.57it/s, episode_reward=200, running_reward=177]"
     ]
    },
    {
     "name": "stderr",
     "output_type": "stream",
     "text": [
      "\r",
      "Episode 695:   7%|▋         | 695/10000 [01:28<33:56,  4.57it/s, episode_reward=200, running_reward=178]"
     ]
    },
    {
     "name": "stderr",
     "output_type": "stream",
     "text": [
      "\r",
      "Episode 695:   7%|▋         | 696/10000 [01:28<35:31,  4.36it/s, episode_reward=200, running_reward=178]"
     ]
    },
    {
     "name": "stderr",
     "output_type": "stream",
     "text": [
      "\r",
      "Episode 696:   7%|▋         | 696/10000 [01:29<35:31,  4.36it/s, episode_reward=200, running_reward=178]"
     ]
    },
    {
     "name": "stderr",
     "output_type": "stream",
     "text": [
      "\r",
      "Episode 696:   7%|▋         | 696/10000 [01:29<35:31,  4.36it/s, episode_reward=200, running_reward=179]"
     ]
    },
    {
     "name": "stderr",
     "output_type": "stream",
     "text": [
      "\r",
      "Episode 696:   7%|▋         | 697/10000 [01:29<36:19,  4.27it/s, episode_reward=200, running_reward=179]"
     ]
    },
    {
     "name": "stderr",
     "output_type": "stream",
     "text": [
      "\r",
      "Episode 697:   7%|▋         | 697/10000 [01:29<36:19,  4.27it/s, episode_reward=200, running_reward=179]"
     ]
    },
    {
     "name": "stderr",
     "output_type": "stream",
     "text": [
      "\r",
      "Episode 697:   7%|▋         | 697/10000 [01:29<36:19,  4.27it/s, episode_reward=200, running_reward=180]"
     ]
    },
    {
     "name": "stderr",
     "output_type": "stream",
     "text": [
      "\r",
      "Episode 697:   7%|▋         | 698/10000 [01:29<36:40,  4.23it/s, episode_reward=200, running_reward=180]"
     ]
    },
    {
     "name": "stderr",
     "output_type": "stream",
     "text": [
      "\r",
      "Episode 698:   7%|▋         | 698/10000 [01:29<36:40,  4.23it/s, episode_reward=200, running_reward=180]"
     ]
    },
    {
     "name": "stderr",
     "output_type": "stream",
     "text": [
      "\r",
      "Episode 698:   7%|▋         | 698/10000 [01:29<36:40,  4.23it/s, episode_reward=200, running_reward=181]"
     ]
    },
    {
     "name": "stderr",
     "output_type": "stream",
     "text": [
      "\r",
      "Episode 698:   7%|▋         | 699/10000 [01:29<37:26,  4.14it/s, episode_reward=200, running_reward=181]"
     ]
    },
    {
     "name": "stderr",
     "output_type": "stream",
     "text": [
      "\r",
      "Episode 699:   7%|▋         | 699/10000 [01:29<37:26,  4.14it/s, episode_reward=200, running_reward=181]"
     ]
    },
    {
     "name": "stderr",
     "output_type": "stream",
     "text": [
      "\r",
      "Episode 699:   7%|▋         | 699/10000 [01:29<37:26,  4.14it/s, episode_reward=200, running_reward=182]"
     ]
    },
    {
     "name": "stderr",
     "output_type": "stream",
     "text": [
      "\r",
      "Episode 699:   7%|▋         | 700/10000 [01:29<37:52,  4.09it/s, episode_reward=200, running_reward=182]"
     ]
    },
    {
     "name": "stderr",
     "output_type": "stream",
     "text": [
      "\r",
      "Episode 700:   7%|▋         | 700/10000 [01:30<37:52,  4.09it/s, episode_reward=200, running_reward=182]"
     ]
    },
    {
     "name": "stderr",
     "output_type": "stream",
     "text": [
      "\r",
      "Episode 700:   7%|▋         | 700/10000 [01:30<37:52,  4.09it/s, episode_reward=200, running_reward=182]"
     ]
    },
    {
     "name": "stderr",
     "output_type": "stream",
     "text": [
      "\r",
      "Episode 700:   7%|▋         | 701/10000 [01:30<37:29,  4.13it/s, episode_reward=200, running_reward=182]"
     ]
    },
    {
     "name": "stderr",
     "output_type": "stream",
     "text": [
      "\r",
      "Episode 701:   7%|▋         | 701/10000 [01:30<37:29,  4.13it/s, episode_reward=200, running_reward=182]"
     ]
    },
    {
     "name": "stderr",
     "output_type": "stream",
     "text": [
      "\r",
      "Episode 701:   7%|▋         | 701/10000 [01:30<37:29,  4.13it/s, episode_reward=200, running_reward=183]"
     ]
    },
    {
     "name": "stderr",
     "output_type": "stream",
     "text": [
      "\r",
      "Episode 701:   7%|▋         | 702/10000 [01:30<37:06,  4.18it/s, episode_reward=200, running_reward=183]"
     ]
    },
    {
     "name": "stderr",
     "output_type": "stream",
     "text": [
      "\r",
      "Episode 702:   7%|▋         | 702/10000 [01:30<37:06,  4.18it/s, episode_reward=200, running_reward=183]"
     ]
    },
    {
     "name": "stderr",
     "output_type": "stream",
     "text": [
      "\r",
      "Episode 702:   7%|▋         | 702/10000 [01:30<37:06,  4.18it/s, episode_reward=200, running_reward=183]"
     ]
    },
    {
     "name": "stderr",
     "output_type": "stream",
     "text": [
      "\r",
      "Episode 702:   7%|▋         | 703/10000 [01:30<37:56,  4.08it/s, episode_reward=200, running_reward=183]"
     ]
    },
    {
     "name": "stderr",
     "output_type": "stream",
     "text": [
      "\r",
      "Episode 703:   7%|▋         | 703/10000 [01:30<37:56,  4.08it/s, episode_reward=200, running_reward=183]"
     ]
    },
    {
     "name": "stderr",
     "output_type": "stream",
     "text": [
      "\r",
      "Episode 703:   7%|▋         | 703/10000 [01:30<37:56,  4.08it/s, episode_reward=200, running_reward=184]"
     ]
    },
    {
     "name": "stderr",
     "output_type": "stream",
     "text": [
      "\r",
      "Episode 703:   7%|▋         | 704/10000 [01:30<38:03,  4.07it/s, episode_reward=200, running_reward=184]"
     ]
    },
    {
     "name": "stderr",
     "output_type": "stream",
     "text": [
      "\r",
      "Episode 704:   7%|▋         | 704/10000 [01:31<38:03,  4.07it/s, episode_reward=200, running_reward=184]"
     ]
    },
    {
     "name": "stderr",
     "output_type": "stream",
     "text": [
      "\r",
      "Episode 704:   7%|▋         | 704/10000 [01:31<38:03,  4.07it/s, episode_reward=200, running_reward=185]"
     ]
    },
    {
     "name": "stderr",
     "output_type": "stream",
     "text": [
      "\r",
      "Episode 704:   7%|▋         | 705/10000 [01:31<37:56,  4.08it/s, episode_reward=200, running_reward=185]"
     ]
    },
    {
     "name": "stderr",
     "output_type": "stream",
     "text": [
      "\r",
      "Episode 705:   7%|▋         | 705/10000 [01:31<37:56,  4.08it/s, episode_reward=200, running_reward=185]"
     ]
    },
    {
     "name": "stderr",
     "output_type": "stream",
     "text": [
      "\r",
      "Episode 705:   7%|▋         | 705/10000 [01:31<37:56,  4.08it/s, episode_reward=200, running_reward=185]"
     ]
    },
    {
     "name": "stderr",
     "output_type": "stream",
     "text": [
      "\r",
      "Episode 705:   7%|▋         | 706/10000 [01:31<37:12,  4.16it/s, episode_reward=200, running_reward=185]"
     ]
    },
    {
     "name": "stderr",
     "output_type": "stream",
     "text": [
      "\r",
      "Episode 706:   7%|▋         | 706/10000 [01:31<37:12,  4.16it/s, episode_reward=200, running_reward=185]"
     ]
    },
    {
     "name": "stderr",
     "output_type": "stream",
     "text": [
      "\r",
      "Episode 706:   7%|▋         | 706/10000 [01:31<37:12,  4.16it/s, episode_reward=200, running_reward=186]"
     ]
    },
    {
     "name": "stderr",
     "output_type": "stream",
     "text": [
      "\r",
      "Episode 706:   7%|▋         | 707/10000 [01:31<36:52,  4.20it/s, episode_reward=200, running_reward=186]"
     ]
    },
    {
     "name": "stderr",
     "output_type": "stream",
     "text": [
      "\r",
      "Episode 707:   7%|▋         | 707/10000 [01:31<36:52,  4.20it/s, episode_reward=200, running_reward=186]"
     ]
    },
    {
     "name": "stderr",
     "output_type": "stream",
     "text": [
      "\r",
      "Episode 707:   7%|▋         | 707/10000 [01:31<36:52,  4.20it/s, episode_reward=200, running_reward=186]"
     ]
    },
    {
     "name": "stderr",
     "output_type": "stream",
     "text": [
      "\r",
      "Episode 707:   7%|▋         | 708/10000 [01:31<37:30,  4.13it/s, episode_reward=200, running_reward=186]"
     ]
    },
    {
     "name": "stderr",
     "output_type": "stream",
     "text": [
      "\r",
      "Episode 708:   7%|▋         | 708/10000 [01:31<37:30,  4.13it/s, episode_reward=200, running_reward=186]"
     ]
    },
    {
     "name": "stderr",
     "output_type": "stream",
     "text": [
      "\r",
      "Episode 708:   7%|▋         | 708/10000 [01:31<37:30,  4.13it/s, episode_reward=200, running_reward=186]"
     ]
    },
    {
     "name": "stderr",
     "output_type": "stream",
     "text": [
      "\r",
      "Episode 708:   7%|▋         | 709/10000 [01:31<37:26,  4.14it/s, episode_reward=200, running_reward=186]"
     ]
    },
    {
     "name": "stderr",
     "output_type": "stream",
     "text": [
      "\r",
      "Episode 709:   7%|▋         | 709/10000 [01:32<37:26,  4.14it/s, episode_reward=200, running_reward=186]"
     ]
    },
    {
     "name": "stderr",
     "output_type": "stream",
     "text": [
      "\r",
      "Episode 709:   7%|▋         | 709/10000 [01:32<37:26,  4.14it/s, episode_reward=200, running_reward=186]"
     ]
    },
    {
     "name": "stderr",
     "output_type": "stream",
     "text": [
      "\r",
      "Episode 709:   7%|▋         | 710/10000 [01:32<37:41,  4.11it/s, episode_reward=200, running_reward=186]"
     ]
    },
    {
     "name": "stderr",
     "output_type": "stream",
     "text": [
      "\r",
      "Episode 710:   7%|▋         | 710/10000 [01:32<37:41,  4.11it/s, episode_reward=200, running_reward=186]"
     ]
    },
    {
     "name": "stderr",
     "output_type": "stream",
     "text": [
      "\r",
      "Episode 710:   7%|▋         | 710/10000 [01:32<37:41,  4.11it/s, episode_reward=200, running_reward=186]"
     ]
    },
    {
     "name": "stderr",
     "output_type": "stream",
     "text": [
      "\r",
      "Episode 710:   7%|▋         | 711/10000 [01:32<37:33,  4.12it/s, episode_reward=200, running_reward=186]"
     ]
    },
    {
     "name": "stderr",
     "output_type": "stream",
     "text": [
      "\r",
      "Episode 711:   7%|▋         | 711/10000 [01:32<37:33,  4.12it/s, episode_reward=200, running_reward=186]"
     ]
    },
    {
     "name": "stderr",
     "output_type": "stream",
     "text": [
      "\r",
      "Episode 711:   7%|▋         | 711/10000 [01:32<37:33,  4.12it/s, episode_reward=200, running_reward=186]"
     ]
    },
    {
     "name": "stderr",
     "output_type": "stream",
     "text": [
      "\r",
      "Episode 711:   7%|▋         | 712/10000 [01:32<37:17,  4.15it/s, episode_reward=200, running_reward=186]"
     ]
    },
    {
     "name": "stderr",
     "output_type": "stream",
     "text": [
      "\r",
      "Episode 712:   7%|▋         | 712/10000 [01:32<37:17,  4.15it/s, episode_reward=200, running_reward=186]"
     ]
    },
    {
     "name": "stderr",
     "output_type": "stream",
     "text": [
      "\r",
      "Episode 712:   7%|▋         | 712/10000 [01:32<37:17,  4.15it/s, episode_reward=200, running_reward=186]"
     ]
    },
    {
     "name": "stderr",
     "output_type": "stream",
     "text": [
      "\r",
      "Episode 712:   7%|▋         | 713/10000 [01:32<37:49,  4.09it/s, episode_reward=200, running_reward=186]"
     ]
    },
    {
     "name": "stderr",
     "output_type": "stream",
     "text": [
      "\r",
      "Episode 713:   7%|▋         | 713/10000 [01:33<37:49,  4.09it/s, episode_reward=200, running_reward=186]"
     ]
    },
    {
     "name": "stderr",
     "output_type": "stream",
     "text": [
      "\r",
      "Episode 713:   7%|▋         | 713/10000 [01:33<37:49,  4.09it/s, episode_reward=200, running_reward=186]"
     ]
    },
    {
     "name": "stderr",
     "output_type": "stream",
     "text": [
      "\r",
      "Episode 713:   7%|▋         | 714/10000 [01:33<37:56,  4.08it/s, episode_reward=200, running_reward=186]"
     ]
    },
    {
     "name": "stderr",
     "output_type": "stream",
     "text": [
      "\r",
      "Episode 714:   7%|▋         | 714/10000 [01:33<37:56,  4.08it/s, episode_reward=200, running_reward=186]"
     ]
    },
    {
     "name": "stderr",
     "output_type": "stream",
     "text": [
      "\r",
      "Episode 714:   7%|▋         | 714/10000 [01:33<37:56,  4.08it/s, episode_reward=200, running_reward=186]"
     ]
    },
    {
     "name": "stderr",
     "output_type": "stream",
     "text": [
      "\r",
      "Episode 714:   7%|▋         | 715/10000 [01:33<37:57,  4.08it/s, episode_reward=200, running_reward=186]"
     ]
    },
    {
     "name": "stderr",
     "output_type": "stream",
     "text": [
      "\r",
      "Episode 715:   7%|▋         | 715/10000 [01:33<37:57,  4.08it/s, episode_reward=200, running_reward=186]"
     ]
    },
    {
     "name": "stderr",
     "output_type": "stream",
     "text": [
      "\r",
      "Episode 715:   7%|▋         | 715/10000 [01:33<37:57,  4.08it/s, episode_reward=200, running_reward=186]"
     ]
    },
    {
     "name": "stderr",
     "output_type": "stream",
     "text": [
      "\r",
      "Episode 715:   7%|▋         | 716/10000 [01:33<37:45,  4.10it/s, episode_reward=200, running_reward=186]"
     ]
    },
    {
     "name": "stderr",
     "output_type": "stream",
     "text": [
      "\r",
      "Episode 716:   7%|▋         | 716/10000 [01:33<37:45,  4.10it/s, episode_reward=200, running_reward=186]"
     ]
    },
    {
     "name": "stderr",
     "output_type": "stream",
     "text": [
      "\r",
      "Episode 716:   7%|▋         | 716/10000 [01:33<37:45,  4.10it/s, episode_reward=200, running_reward=186]"
     ]
    },
    {
     "name": "stderr",
     "output_type": "stream",
     "text": [
      "\r",
      "Episode 716:   7%|▋         | 717/10000 [01:33<37:40,  4.11it/s, episode_reward=200, running_reward=186]"
     ]
    },
    {
     "name": "stderr",
     "output_type": "stream",
     "text": [
      "\r",
      "Episode 717:   7%|▋         | 717/10000 [01:34<37:40,  4.11it/s, episode_reward=200, running_reward=186]"
     ]
    },
    {
     "name": "stderr",
     "output_type": "stream",
     "text": [
      "\r",
      "Episode 717:   7%|▋         | 717/10000 [01:34<37:40,  4.11it/s, episode_reward=200, running_reward=186]"
     ]
    },
    {
     "name": "stderr",
     "output_type": "stream",
     "text": [
      "\r",
      "Episode 717:   7%|▋         | 718/10000 [01:34<38:02,  4.07it/s, episode_reward=200, running_reward=186]"
     ]
    },
    {
     "name": "stderr",
     "output_type": "stream",
     "text": [
      "\r",
      "Episode 718:   7%|▋         | 718/10000 [01:34<38:02,  4.07it/s, episode_reward=200, running_reward=186]"
     ]
    },
    {
     "name": "stderr",
     "output_type": "stream",
     "text": [
      "\r",
      "Episode 718:   7%|▋         | 718/10000 [01:34<38:02,  4.07it/s, episode_reward=200, running_reward=186]"
     ]
    },
    {
     "name": "stderr",
     "output_type": "stream",
     "text": [
      "\r",
      "Episode 718:   7%|▋         | 719/10000 [01:34<37:48,  4.09it/s, episode_reward=200, running_reward=186]"
     ]
    },
    {
     "name": "stderr",
     "output_type": "stream",
     "text": [
      "\r",
      "Episode 719:   7%|▋         | 719/10000 [01:34<37:48,  4.09it/s, episode_reward=200, running_reward=186]"
     ]
    },
    {
     "name": "stderr",
     "output_type": "stream",
     "text": [
      "\r",
      "Episode 719:   7%|▋         | 719/10000 [01:34<37:48,  4.09it/s, episode_reward=200, running_reward=186]"
     ]
    },
    {
     "name": "stderr",
     "output_type": "stream",
     "text": [
      "\r",
      "Episode 719:   7%|▋         | 720/10000 [01:34<37:26,  4.13it/s, episode_reward=200, running_reward=186]"
     ]
    },
    {
     "name": "stderr",
     "output_type": "stream",
     "text": [
      "\r",
      "Episode 720:   7%|▋         | 720/10000 [01:34<37:26,  4.13it/s, episode_reward=200, running_reward=186]"
     ]
    },
    {
     "name": "stderr",
     "output_type": "stream",
     "text": [
      "\r",
      "Episode 720:   7%|▋         | 720/10000 [01:34<37:26,  4.13it/s, episode_reward=200, running_reward=186]"
     ]
    },
    {
     "name": "stderr",
     "output_type": "stream",
     "text": [
      "\r",
      "Episode 720:   7%|▋         | 721/10000 [01:34<37:25,  4.13it/s, episode_reward=200, running_reward=186]"
     ]
    },
    {
     "name": "stderr",
     "output_type": "stream",
     "text": [
      "\r",
      "Episode 721:   7%|▋         | 721/10000 [01:35<37:25,  4.13it/s, episode_reward=200, running_reward=186]"
     ]
    },
    {
     "name": "stderr",
     "output_type": "stream",
     "text": [
      "\r",
      "Episode 721:   7%|▋         | 721/10000 [01:35<37:25,  4.13it/s, episode_reward=200, running_reward=186]"
     ]
    },
    {
     "name": "stderr",
     "output_type": "stream",
     "text": [
      "\r",
      "Episode 721:   7%|▋         | 722/10000 [01:35<37:20,  4.14it/s, episode_reward=200, running_reward=186]"
     ]
    },
    {
     "name": "stderr",
     "output_type": "stream",
     "text": [
      "\r",
      "Episode 722:   7%|▋         | 722/10000 [01:35<37:20,  4.14it/s, episode_reward=200, running_reward=186]"
     ]
    },
    {
     "name": "stderr",
     "output_type": "stream",
     "text": [
      "\r",
      "Episode 722:   7%|▋         | 722/10000 [01:35<37:20,  4.14it/s, episode_reward=200, running_reward=186]"
     ]
    },
    {
     "name": "stderr",
     "output_type": "stream",
     "text": [
      "\r",
      "Episode 722:   7%|▋         | 723/10000 [01:35<37:00,  4.18it/s, episode_reward=200, running_reward=186]"
     ]
    },
    {
     "name": "stderr",
     "output_type": "stream",
     "text": [
      "\r",
      "Episode 723:   7%|▋         | 723/10000 [01:35<37:00,  4.18it/s, episode_reward=200, running_reward=186]"
     ]
    },
    {
     "name": "stderr",
     "output_type": "stream",
     "text": [
      "\r",
      "Episode 723:   7%|▋         | 723/10000 [01:35<37:00,  4.18it/s, episode_reward=200, running_reward=186]"
     ]
    },
    {
     "name": "stderr",
     "output_type": "stream",
     "text": [
      "\r",
      "Episode 723:   7%|▋         | 724/10000 [01:35<37:39,  4.10it/s, episode_reward=200, running_reward=186]"
     ]
    },
    {
     "name": "stderr",
     "output_type": "stream",
     "text": [
      "\r",
      "Episode 724:   7%|▋         | 724/10000 [01:35<37:39,  4.10it/s, episode_reward=200, running_reward=186]"
     ]
    },
    {
     "name": "stderr",
     "output_type": "stream",
     "text": [
      "\r",
      "Episode 724:   7%|▋         | 724/10000 [01:35<37:39,  4.10it/s, episode_reward=200, running_reward=186]"
     ]
    },
    {
     "name": "stderr",
     "output_type": "stream",
     "text": [
      "\r",
      "Episode 724:   7%|▋         | 725/10000 [01:35<37:34,  4.11it/s, episode_reward=200, running_reward=186]"
     ]
    },
    {
     "name": "stderr",
     "output_type": "stream",
     "text": [
      "\r",
      "Episode 725:   7%|▋         | 725/10000 [01:36<37:34,  4.11it/s, episode_reward=200, running_reward=186]"
     ]
    },
    {
     "name": "stderr",
     "output_type": "stream",
     "text": [
      "\r",
      "Episode 725:   7%|▋         | 725/10000 [01:36<37:34,  4.11it/s, episode_reward=200, running_reward=186]"
     ]
    },
    {
     "name": "stderr",
     "output_type": "stream",
     "text": [
      "\r",
      "Episode 725:   7%|▋         | 726/10000 [01:36<37:06,  4.16it/s, episode_reward=200, running_reward=186]"
     ]
    },
    {
     "name": "stderr",
     "output_type": "stream",
     "text": [
      "\r",
      "Episode 726:   7%|▋         | 726/10000 [01:36<37:06,  4.16it/s, episode_reward=200, running_reward=186]"
     ]
    },
    {
     "name": "stderr",
     "output_type": "stream",
     "text": [
      "\r",
      "Episode 726:   7%|▋         | 726/10000 [01:36<37:06,  4.16it/s, episode_reward=200, running_reward=186]"
     ]
    },
    {
     "name": "stderr",
     "output_type": "stream",
     "text": [
      "\r",
      "Episode 726:   7%|▋         | 727/10000 [01:36<36:58,  4.18it/s, episode_reward=200, running_reward=186]"
     ]
    },
    {
     "name": "stderr",
     "output_type": "stream",
     "text": [
      "\r",
      "Episode 727:   7%|▋         | 727/10000 [01:36<36:58,  4.18it/s, episode_reward=200, running_reward=186]"
     ]
    },
    {
     "name": "stderr",
     "output_type": "stream",
     "text": [
      "\r",
      "Episode 727:   7%|▋         | 727/10000 [01:36<36:58,  4.18it/s, episode_reward=200, running_reward=186]"
     ]
    },
    {
     "name": "stderr",
     "output_type": "stream",
     "text": [
      "\r",
      "Episode 727:   7%|▋         | 728/10000 [01:36<37:24,  4.13it/s, episode_reward=200, running_reward=186]"
     ]
    },
    {
     "name": "stderr",
     "output_type": "stream",
     "text": [
      "\r",
      "Episode 728:   7%|▋         | 728/10000 [01:36<37:24,  4.13it/s, episode_reward=200, running_reward=186]"
     ]
    },
    {
     "name": "stderr",
     "output_type": "stream",
     "text": [
      "\r",
      "Episode 728:   7%|▋         | 728/10000 [01:36<37:24,  4.13it/s, episode_reward=200, running_reward=186]"
     ]
    },
    {
     "name": "stderr",
     "output_type": "stream",
     "text": [
      "\r",
      "Episode 728:   7%|▋         | 729/10000 [01:36<37:18,  4.14it/s, episode_reward=200, running_reward=186]"
     ]
    },
    {
     "name": "stderr",
     "output_type": "stream",
     "text": [
      "\r",
      "Episode 729:   7%|▋         | 729/10000 [01:37<37:18,  4.14it/s, episode_reward=200, running_reward=186]"
     ]
    },
    {
     "name": "stderr",
     "output_type": "stream",
     "text": [
      "\r",
      "Episode 729:   7%|▋         | 729/10000 [01:37<37:18,  4.14it/s, episode_reward=200, running_reward=186]"
     ]
    },
    {
     "name": "stderr",
     "output_type": "stream",
     "text": [
      "\r",
      "Episode 729:   7%|▋         | 730/10000 [01:37<37:09,  4.16it/s, episode_reward=200, running_reward=186]"
     ]
    },
    {
     "name": "stderr",
     "output_type": "stream",
     "text": [
      "\r",
      "Episode 730:   7%|▋         | 730/10000 [01:37<37:09,  4.16it/s, episode_reward=200, running_reward=186]"
     ]
    },
    {
     "name": "stderr",
     "output_type": "stream",
     "text": [
      "\r",
      "Episode 730:   7%|▋         | 730/10000 [01:37<37:09,  4.16it/s, episode_reward=200, running_reward=186]"
     ]
    },
    {
     "name": "stderr",
     "output_type": "stream",
     "text": [
      "\r",
      "Episode 730:   7%|▋         | 731/10000 [01:37<37:14,  4.15it/s, episode_reward=200, running_reward=186]"
     ]
    },
    {
     "name": "stderr",
     "output_type": "stream",
     "text": [
      "\r",
      "Episode 731:   7%|▋         | 731/10000 [01:37<37:14,  4.15it/s, episode_reward=200, running_reward=186]"
     ]
    },
    {
     "name": "stderr",
     "output_type": "stream",
     "text": [
      "\r",
      "Episode 731:   7%|▋         | 731/10000 [01:37<37:14,  4.15it/s, episode_reward=200, running_reward=186]"
     ]
    },
    {
     "name": "stderr",
     "output_type": "stream",
     "text": [
      "\r",
      "Episode 731:   7%|▋         | 732/10000 [01:37<37:12,  4.15it/s, episode_reward=200, running_reward=186]"
     ]
    },
    {
     "name": "stderr",
     "output_type": "stream",
     "text": [
      "\r",
      "Episode 732:   7%|▋         | 732/10000 [01:37<37:12,  4.15it/s, episode_reward=200, running_reward=186]"
     ]
    },
    {
     "name": "stderr",
     "output_type": "stream",
     "text": [
      "\r",
      "Episode 732:   7%|▋         | 732/10000 [01:37<37:12,  4.15it/s, episode_reward=200, running_reward=186]"
     ]
    },
    {
     "name": "stderr",
     "output_type": "stream",
     "text": [
      "\r",
      "Episode 732:   7%|▋         | 733/10000 [01:37<37:35,  4.11it/s, episode_reward=200, running_reward=186]"
     ]
    },
    {
     "name": "stderr",
     "output_type": "stream",
     "text": [
      "\r",
      "Episode 733:   7%|▋         | 733/10000 [01:38<37:35,  4.11it/s, episode_reward=200, running_reward=186]"
     ]
    },
    {
     "name": "stderr",
     "output_type": "stream",
     "text": [
      "\r",
      "Episode 733:   7%|▋         | 733/10000 [01:38<37:35,  4.11it/s, episode_reward=200, running_reward=186]"
     ]
    },
    {
     "name": "stderr",
     "output_type": "stream",
     "text": [
      "\r",
      "Episode 733:   7%|▋         | 734/10000 [01:38<38:08,  4.05it/s, episode_reward=200, running_reward=186]"
     ]
    },
    {
     "name": "stderr",
     "output_type": "stream",
     "text": [
      "\r",
      "Episode 734:   7%|▋         | 734/10000 [01:38<38:08,  4.05it/s, episode_reward=200, running_reward=186]"
     ]
    },
    {
     "name": "stderr",
     "output_type": "stream",
     "text": [
      "\r",
      "Episode 734:   7%|▋         | 734/10000 [01:38<38:08,  4.05it/s, episode_reward=200, running_reward=186]"
     ]
    },
    {
     "name": "stderr",
     "output_type": "stream",
     "text": [
      "\r",
      "Episode 734:   7%|▋         | 735/10000 [01:38<37:36,  4.11it/s, episode_reward=200, running_reward=186]"
     ]
    },
    {
     "name": "stderr",
     "output_type": "stream",
     "text": [
      "\r",
      "Episode 735:   7%|▋         | 735/10000 [01:38<37:36,  4.11it/s, episode_reward=200, running_reward=186]"
     ]
    },
    {
     "name": "stderr",
     "output_type": "stream",
     "text": [
      "\r",
      "Episode 735:   7%|▋         | 735/10000 [01:38<37:36,  4.11it/s, episode_reward=200, running_reward=187]"
     ]
    },
    {
     "name": "stderr",
     "output_type": "stream",
     "text": [
      "\r",
      "Episode 735:   7%|▋         | 736/10000 [01:38<37:01,  4.17it/s, episode_reward=200, running_reward=187]"
     ]
    },
    {
     "name": "stderr",
     "output_type": "stream",
     "text": [
      "\r",
      "Episode 736:   7%|▋         | 736/10000 [01:38<37:01,  4.17it/s, episode_reward=200, running_reward=187]"
     ]
    },
    {
     "name": "stderr",
     "output_type": "stream",
     "text": [
      "\r",
      "Episode 736:   7%|▋         | 736/10000 [01:38<37:01,  4.17it/s, episode_reward=200, running_reward=187]"
     ]
    },
    {
     "name": "stderr",
     "output_type": "stream",
     "text": [
      "\r",
      "Episode 736:   7%|▋         | 737/10000 [01:38<36:41,  4.21it/s, episode_reward=200, running_reward=187]"
     ]
    },
    {
     "name": "stderr",
     "output_type": "stream",
     "text": [
      "\r",
      "Episode 737:   7%|▋         | 737/10000 [01:38<36:41,  4.21it/s, episode_reward=200, running_reward=187]"
     ]
    },
    {
     "name": "stderr",
     "output_type": "stream",
     "text": [
      "\r",
      "Episode 737:   7%|▋         | 737/10000 [01:38<36:41,  4.21it/s, episode_reward=200, running_reward=188]"
     ]
    },
    {
     "name": "stderr",
     "output_type": "stream",
     "text": [
      "\r",
      "Episode 737:   7%|▋         | 738/10000 [01:38<36:18,  4.25it/s, episode_reward=200, running_reward=188]"
     ]
    },
    {
     "name": "stderr",
     "output_type": "stream",
     "text": [
      "\r",
      "Episode 738:   7%|▋         | 738/10000 [01:39<36:18,  4.25it/s, episode_reward=200, running_reward=188]"
     ]
    },
    {
     "name": "stderr",
     "output_type": "stream",
     "text": [
      "\r",
      "Episode 738:   7%|▋         | 738/10000 [01:39<36:18,  4.25it/s, episode_reward=200, running_reward=188]"
     ]
    },
    {
     "name": "stderr",
     "output_type": "stream",
     "text": [
      "\r",
      "Episode 738:   7%|▋         | 739/10000 [01:39<36:18,  4.25it/s, episode_reward=200, running_reward=188]"
     ]
    },
    {
     "name": "stderr",
     "output_type": "stream",
     "text": [
      "\r",
      "Episode 739:   7%|▋         | 739/10000 [01:39<36:18,  4.25it/s, episode_reward=200, running_reward=188]"
     ]
    },
    {
     "name": "stderr",
     "output_type": "stream",
     "text": [
      "\r",
      "Episode 739:   7%|▋         | 739/10000 [01:39<36:18,  4.25it/s, episode_reward=200, running_reward=189]"
     ]
    },
    {
     "name": "stderr",
     "output_type": "stream",
     "text": [
      "\r",
      "Episode 739:   7%|▋         | 740/10000 [01:39<36:35,  4.22it/s, episode_reward=200, running_reward=189]"
     ]
    },
    {
     "name": "stderr",
     "output_type": "stream",
     "text": [
      "\r",
      "Episode 740:   7%|▋         | 740/10000 [01:39<36:35,  4.22it/s, episode_reward=200, running_reward=189]"
     ]
    },
    {
     "name": "stderr",
     "output_type": "stream",
     "text": [
      "\r",
      "Episode 740:   7%|▋         | 740/10000 [01:39<36:35,  4.22it/s, episode_reward=200, running_reward=189]"
     ]
    },
    {
     "name": "stderr",
     "output_type": "stream",
     "text": [
      "\r",
      "Episode 740:   7%|▋         | 741/10000 [01:39<36:15,  4.26it/s, episode_reward=200, running_reward=189]"
     ]
    },
    {
     "name": "stderr",
     "output_type": "stream",
     "text": [
      "\r",
      "Episode 741:   7%|▋         | 741/10000 [01:39<36:15,  4.26it/s, episode_reward=200, running_reward=189]"
     ]
    },
    {
     "name": "stderr",
     "output_type": "stream",
     "text": [
      "\r",
      "Episode 741:   7%|▋         | 741/10000 [01:39<36:15,  4.26it/s, episode_reward=200, running_reward=190]"
     ]
    },
    {
     "name": "stderr",
     "output_type": "stream",
     "text": [
      "\r",
      "Episode 741:   7%|▋         | 742/10000 [01:39<36:02,  4.28it/s, episode_reward=200, running_reward=190]"
     ]
    },
    {
     "name": "stderr",
     "output_type": "stream",
     "text": [
      "\r",
      "Episode 742:   7%|▋         | 742/10000 [01:40<36:02,  4.28it/s, episode_reward=200, running_reward=190]"
     ]
    },
    {
     "name": "stderr",
     "output_type": "stream",
     "text": [
      "\r",
      "Episode 742:   7%|▋         | 742/10000 [01:40<36:02,  4.28it/s, episode_reward=200, running_reward=191]"
     ]
    },
    {
     "name": "stderr",
     "output_type": "stream",
     "text": [
      "\r",
      "Episode 742:   7%|▋         | 743/10000 [01:40<36:29,  4.23it/s, episode_reward=200, running_reward=191]"
     ]
    },
    {
     "name": "stderr",
     "output_type": "stream",
     "text": [
      "\r",
      "Episode 743:   7%|▋         | 743/10000 [01:40<36:29,  4.23it/s, episode_reward=200, running_reward=191]"
     ]
    },
    {
     "name": "stderr",
     "output_type": "stream",
     "text": [
      "\r",
      "Episode 743:   7%|▋         | 743/10000 [01:40<36:29,  4.23it/s, episode_reward=200, running_reward=191]"
     ]
    },
    {
     "name": "stderr",
     "output_type": "stream",
     "text": [
      "\r",
      "Episode 743:   7%|▋         | 744/10000 [01:40<36:31,  4.22it/s, episode_reward=200, running_reward=191]"
     ]
    },
    {
     "name": "stderr",
     "output_type": "stream",
     "text": [
      "\r",
      "Episode 744:   7%|▋         | 744/10000 [01:40<36:31,  4.22it/s, episode_reward=200, running_reward=191]"
     ]
    },
    {
     "name": "stderr",
     "output_type": "stream",
     "text": [
      "\r",
      "Episode 744:   7%|▋         | 744/10000 [01:40<36:31,  4.22it/s, episode_reward=200, running_reward=192]"
     ]
    },
    {
     "name": "stderr",
     "output_type": "stream",
     "text": [
      "\r",
      "Episode 744:   7%|▋         | 745/10000 [01:40<36:43,  4.20it/s, episode_reward=200, running_reward=192]"
     ]
    },
    {
     "name": "stderr",
     "output_type": "stream",
     "text": [
      "\r",
      "Episode 745:   7%|▋         | 745/10000 [01:40<36:43,  4.20it/s, episode_reward=200, running_reward=192]"
     ]
    },
    {
     "name": "stderr",
     "output_type": "stream",
     "text": [
      "\r",
      "Episode 745:   7%|▋         | 745/10000 [01:40<36:43,  4.20it/s, episode_reward=200, running_reward=192]"
     ]
    },
    {
     "name": "stderr",
     "output_type": "stream",
     "text": [
      "\r",
      "Episode 745:   7%|▋         | 746/10000 [01:40<37:06,  4.16it/s, episode_reward=200, running_reward=192]"
     ]
    },
    {
     "name": "stderr",
     "output_type": "stream",
     "text": [
      "\r",
      "Episode 746:   7%|▋         | 746/10000 [01:41<37:06,  4.16it/s, episode_reward=200, running_reward=192]"
     ]
    },
    {
     "name": "stderr",
     "output_type": "stream",
     "text": [
      "\r",
      "Episode 746:   7%|▋         | 746/10000 [01:41<37:06,  4.16it/s, episode_reward=200, running_reward=193]"
     ]
    },
    {
     "name": "stderr",
     "output_type": "stream",
     "text": [
      "\r",
      "Episode 746:   7%|▋         | 747/10000 [01:41<37:11,  4.15it/s, episode_reward=200, running_reward=193]"
     ]
    },
    {
     "name": "stderr",
     "output_type": "stream",
     "text": [
      "\r",
      "Episode 747:   7%|▋         | 747/10000 [01:41<37:11,  4.15it/s, episode_reward=200, running_reward=193]"
     ]
    },
    {
     "name": "stderr",
     "output_type": "stream",
     "text": [
      "\r",
      "Episode 747:   7%|▋         | 747/10000 [01:41<37:11,  4.15it/s, episode_reward=200, running_reward=193]"
     ]
    },
    {
     "name": "stderr",
     "output_type": "stream",
     "text": [
      "\r",
      "Episode 747:   7%|▋         | 748/10000 [01:41<37:38,  4.10it/s, episode_reward=200, running_reward=193]"
     ]
    },
    {
     "name": "stderr",
     "output_type": "stream",
     "text": [
      "\r",
      "Episode 748:   7%|▋         | 748/10000 [01:41<37:38,  4.10it/s, episode_reward=200, running_reward=193]"
     ]
    },
    {
     "name": "stderr",
     "output_type": "stream",
     "text": [
      "\r",
      "Episode 748:   7%|▋         | 748/10000 [01:41<37:38,  4.10it/s, episode_reward=200, running_reward=194]"
     ]
    },
    {
     "name": "stderr",
     "output_type": "stream",
     "text": [
      "\r",
      "Episode 748:   7%|▋         | 749/10000 [01:41<37:41,  4.09it/s, episode_reward=200, running_reward=194]"
     ]
    },
    {
     "name": "stderr",
     "output_type": "stream",
     "text": [
      "\r",
      "Episode 749:   7%|▋         | 749/10000 [01:41<37:41,  4.09it/s, episode_reward=200, running_reward=194]"
     ]
    },
    {
     "name": "stderr",
     "output_type": "stream",
     "text": [
      "\r",
      "Episode 749:   7%|▋         | 749/10000 [01:41<37:41,  4.09it/s, episode_reward=173, running_reward=194]"
     ]
    },
    {
     "name": "stderr",
     "output_type": "stream",
     "text": [
      "\r",
      "Episode 749:   8%|▊         | 750/10000 [01:41<35:52,  4.30it/s, episode_reward=173, running_reward=194]"
     ]
    },
    {
     "name": "stderr",
     "output_type": "stream",
     "text": [
      "\r",
      "Episode 750:   8%|▊         | 750/10000 [01:42<35:52,  4.30it/s, episode_reward=173, running_reward=194]"
     ]
    },
    {
     "name": "stderr",
     "output_type": "stream",
     "text": [
      "\r",
      "Episode 750:   8%|▊         | 750/10000 [01:42<35:52,  4.30it/s, episode_reward=200, running_reward=194]"
     ]
    },
    {
     "name": "stderr",
     "output_type": "stream",
     "text": [
      "\r",
      "Episode 750:   8%|▊         | 751/10000 [01:42<36:25,  4.23it/s, episode_reward=200, running_reward=194]"
     ]
    },
    {
     "name": "stderr",
     "output_type": "stream",
     "text": [
      "\r",
      "Episode 751:   8%|▊         | 751/10000 [01:42<36:25,  4.23it/s, episode_reward=200, running_reward=194]"
     ]
    },
    {
     "name": "stderr",
     "output_type": "stream",
     "text": [
      "\r",
      "Episode 751:   8%|▊         | 751/10000 [01:42<36:25,  4.23it/s, episode_reward=200, running_reward=195]"
     ]
    },
    {
     "name": "stderr",
     "output_type": "stream",
     "text": [
      "\r",
      "Episode 751:   8%|▊         | 752/10000 [01:42<37:41,  4.09it/s, episode_reward=200, running_reward=195]"
     ]
    },
    {
     "name": "stderr",
     "output_type": "stream",
     "text": [
      "\r",
      "Episode 752:   8%|▊         | 752/10000 [01:42<37:41,  4.09it/s, episode_reward=200, running_reward=195]"
     ]
    },
    {
     "name": "stderr",
     "output_type": "stream",
     "text": [
      "\r",
      "Episode 752:   8%|▊         | 752/10000 [01:42<37:41,  4.09it/s, episode_reward=200, running_reward=195]"
     ]
    },
    {
     "name": "stderr",
     "output_type": "stream",
     "text": [
      "\r",
      "Episode 752:   8%|▊         | 752/10000 [01:42<21:01,  7.33it/s, episode_reward=200, running_reward=195]"
     ]
    },
    {
     "name": "stdout",
     "output_type": "stream",
     "text": [
      "\n",
      "Solved at episode 752: average reward: 195.14!\n",
      "CPU times: user 3min 47s, sys: 49.2 s, total: 4min 36s\n",
      "Wall time: 1min 42s\n"
     ]
    },
    {
     "name": "stderr",
     "output_type": "stream",
     "text": [
      "\n"
     ]
    }
   ],
   "source": [
    "%%time\n",
    "\n",
    "min_episodes_criterion = 100\n",
    "max_episodes = 10000\n",
    "max_steps_per_episode = 1000\n",
    "\n",
    "# Cartpole-v0 is considered solved if average reward is >= 195 over 100 \n",
    "# consecutive trials\n",
    "reward_threshold = 195\n",
    "running_reward = 0\n",
    "\n",
    "# Discount factor for future rewards\n",
    "gamma = 0.99\n",
    "\n",
    "# Keep last episodes reward\n",
    "episodes_reward: collections.deque = collections.deque(maxlen=min_episodes_criterion)\n",
    "\n",
    "with tqdm.trange(max_episodes) as t:\n",
    "  for i in t:\n",
    "    initial_state = tf.constant(env.reset(), dtype=tf.float32)\n",
    "    episode_reward = int(train_step(\n",
    "        initial_state, model, optimizer, gamma, max_steps_per_episode))\n",
    "    \n",
    "    episodes_reward.append(episode_reward)\n",
    "    running_reward = statistics.mean(episodes_reward)\n",
    "  \n",
    "    t.set_description(f'Episode {i}')\n",
    "    t.set_postfix(\n",
    "        episode_reward=episode_reward, running_reward=running_reward)\n",
    "  \n",
    "    # Show average episode reward every 10 episodes\n",
    "    if i % 10 == 0:\n",
    "      pass # print(f'Episode {i}: average reward: {avg_reward}')\n",
    "  \n",
    "    if running_reward > reward_threshold and i >= min_episodes_criterion:  \n",
    "        break\n",
    "\n",
    "print(f'\\nSolved at episode {i}: average reward: {running_reward:.2f}!')"
   ]
  },
  {
   "cell_type": "markdown",
   "metadata": {
    "id": "ru8BEwS1EmAv"
   },
   "source": [
    "## Visualization\n",
    "\n",
    "After training, it would be good to visualize how the model performs in the environment. You can run the cells below to generate a GIF animation of one episode run of the model. Note that additional packages need to be installed for OpenAI Gym to render the environment's images correctly in Colab."
   ]
  },
  {
   "cell_type": "code",
   "execution_count": 13,
   "metadata": {
    "execution": {
     "iopub.execute_input": "2022-06-11T01:23:20.763464Z",
     "iopub.status.busy": "2022-06-11T01:23:20.762978Z",
     "iopub.status.idle": "2022-06-11T01:23:22.199645Z",
     "shell.execute_reply": "2022-06-11T01:23:22.198678Z"
    },
    "id": "qbIMMkfmRHyC"
   },
   "outputs": [],
   "source": [
    "# Render an episode and save as a GIF file\n",
    "\n",
    "from IPython import display as ipythondisplay\n",
    "from PIL import Image\n",
    "from pyvirtualdisplay import Display\n",
    "\n",
    "\n",
    "display = Display(visible=0, size=(400, 300))\n",
    "display.start()\n",
    "\n",
    "\n",
    "def render_episode(env: gym.Env, model: tf.keras.Model, max_steps: int): \n",
    "  screen = env.render(mode='rgb_array')\n",
    "  im = Image.fromarray(screen)\n",
    "\n",
    "  images = [im]\n",
    "  \n",
    "  state = tf.constant(env.reset(), dtype=tf.float32)\n",
    "  for i in range(1, max_steps + 1):\n",
    "    state = tf.expand_dims(state, 0)\n",
    "    action_probs, _ = model(state)\n",
    "    action = np.argmax(np.squeeze(action_probs))\n",
    "\n",
    "    state, _, done, _ = env.step(action)\n",
    "    state = tf.constant(state, dtype=tf.float32)\n",
    "\n",
    "    # Render screen every 10 steps\n",
    "    if i % 10 == 0:\n",
    "      screen = env.render(mode='rgb_array')\n",
    "      images.append(Image.fromarray(screen))\n",
    "  \n",
    "    if done:\n",
    "      break\n",
    "  \n",
    "  return images\n",
    "\n",
    "\n",
    "# Save GIF image\n",
    "images = render_episode(env, model, max_steps_per_episode)\n",
    "image_file = 'cartpole-v0.gif'\n",
    "# loop=0: loop forever, duration=1: play each frame for 1ms\n",
    "images[0].save(\n",
    "    image_file, save_all=True, append_images=images[1:], loop=0, duration=1)"
   ]
  },
  {
   "cell_type": "code",
   "execution_count": 14,
   "metadata": {
    "execution": {
     "iopub.execute_input": "2022-06-11T01:23:22.203923Z",
     "iopub.status.busy": "2022-06-11T01:23:22.203334Z",
     "iopub.status.idle": "2022-06-11T01:23:22.262328Z",
     "shell.execute_reply": "2022-06-11T01:23:22.261728Z"
    },
    "id": "TLd720SejKmf"
   },
   "outputs": [
    {
     "data": {
      "text/html": [
       "<img src=\"data:image/gif;base64,R0lGODlhWAKQAYcAAP////38+vv49fr18fr18Pjy7Pjy6/bu5vXr4vTq4PPo3fHl2PHk1+/h0+/g0e7ezuzbyerXxOrWwunUv+fRuuXNteTMs9/Bo9q3k9SthM+idcqYZZ6MobSHWoiGwIGEy39/u3t8uYV5lKB4UGRghGBIME06Jj8wHzkrHDMmGSwhFicdEyUcEh8XDxkTDBIOCRINCQsIBQUEAgAAAAAAAAAAAAAAAAAAAAAAAAAAAAAAAAAAAAAAAAAAAAAAAAAAAAAAAAAAAAAAAAAAAAAAAAAAAAAAAAAAAAAAAAAAAAAAAAAAAAAAAAAAAAAAAAAAAAAAAAAAAAAAAAAAAAAAAAAAAAAAAAAAAAAAAAAAAAAAAAAAAAAAAAAAAAAAAAAAAAAAAAAAAAAAAAAAAAAAAAAAAAAAAAAAAAAAAAAAAAAAAAAAAAAAAAAAAAAAAAAAAAAAAAAAAAAAAAAAAAAAAAAAAAAAAAAAAAAAAAAAAAAAAAAAAAAAAAAAAAAAAAAAAAAAAAAAAAAAAAAAAAAAAAAAAAAAAAAAAAAAAAAAAAAAAAAAAAAAAAAAAAAAAAAAAAAAAAAAAAAAAAAAAAAAAAAAAAAAAAAAAAAAAAAAAAAAAAAAAAAAAAAAAAAAAAAAAAAAAAAAAAAAAAAAAAAAAAAAAAAAAAAAAAAAAAAAAAAAAAAAAAAAAAAAAAAAAAAAAAAAAAAAAAAAAAAAAAAAAAAAAAAAAAAAAAAAAAAAAAAAAAAAAAAAAAAAAAAAAAAAAAAAAAAAAAAAAAAAAAAAAAAAAAAAAAAAAAAAAAAAAAAAAAAAAAAAAAAAAAAAAAAAAAAAAAAAAAAAAAAAAAAAAAAAAAAAAAAAAAAAAAAAAAAAAAAAAAAAAAAAAAAAAAAAAAAAAAAAAAAAAAAAAAAAAAAAAAAAAAAAAAAAAAAAAAAAAAAAAAAAAAAAAAAAAAAAAAAAAAAAAAAAAAAAAAAAAAAAAAAAAAAAAAAAAAAAAAAAAAAAAAAAAAAAAAAAAAAAACH/C05FVFNDQVBFMi4wAwEAAAAsAAAAAFgCkAEACP8AAQgcSLCgwYMIEypcyLChw4cQI0qcSLGixYsYM2rcyLGjx48gQ4ocSbKkyZMoU6pcybKly5cwY8qcSbOmzZs4c+rcybOnz59AgwodSrSo0aNIkypdyrSp06dQo0qdSrWq1atYs2rdyrWr169gw4odS7as2bNo06pdy7at27dw48qdS7eu3bt48+rdy7ev37+AAwseTLiw4cOIEytezLix48eQI0ueTLmy5cuYM2vezLmz58+gQ4seTbq06dOoU6tezbq169ewY8ueTbu27du4c+vezbu379/AgwsfTry48ePIkytfzry58+fQo0ufTr269evYs2vfzr279+/gw4v/H0++vPnz6NOrX8++vfv38OPLn0+/vv37+PPr38+/v///AAYo4IAEFmjggQgmqOCCDDbo4IMQRijhhBRWaOGFGGao4YYcdujhhyCGKOKIJJZo4okopqjiiiy26OKLMMYo44w01mjjjTjmqOOOPPbo449ABinkkEQWaeSRSCap5JJMNunkk1BGKeWUVFZp5ZVYZqnlllx26eWXYIYp5phklmnmmWimqeaabLbp5ptwxinnnHTWaeedeOap55589unnn4AGKuighBZq6KGIJqrooow26uijkEYq6aSUVmrppZhmqummnHbq6aeghirqqKSWauqpqKaq6qqsturqq7DG/yrrrLTWauutuOaq66689urrr8AGK+ywxBZrbIcbaJABBhdYIIEDCRBwrGEDbGDttdhuMC1hCGTr7baDNeBttuAKFsG42JYbWAXoXqsuYO26+65f8W4wwbz0xvsAvn3VqwC/fNVbAMB6CVBvAATndUC9CefFAMMN3wUBxBHXRQHFFc9Vr7YZ01UvBR17HC8EIWsc7wIly1XvASnDFUC9ArT8lgEYy7yWAjXbnNYDOet81gQ9+1zWxkKvVW8FRatVbwRJp1VvA02jVS8CUZ9V7wBVl1VtvFmX1S3XXY8lLthhh3Uu2WV/xS7aaXdFdNtf1Xsv3F7Vuy/dbsf7L95cCf/M91YGx4vw31ktzDbhVT18OOJTTbw441Fd/DjkT71NOVUfX15VvSRrPlW9DHj+ebwsiw7Vy/HGbPpTNE+++lE4u/56UTzLPvtQQNt+e1CW757U0b4vtXTwSj1N/O/xUn38UVcvb9TW7Tpv1NfRS0/U2NVbL9TZ2WsP1Nrde+9T7+L3JHf5QNmN/k/+rj9+vAO7v1Pg7Q4uf06Gh3+/TYrrvz9NjvPf/2QiOQEOECbkO6BMMqfAmnCugQ6MV+ggOJOVUVAmqGuX6i74ktYZkIMoid0HQWiS2o2QhCTJ3QlRKJIEsvAkwHvhSoYnQ5UYr4YpmRoOcxgvrO3QJNBD1w//T0I9IQ6xJNgz4hFHwj0lLjEk4HPiEz/iwilu5HxWBIn6skhFvXGxi+0ywBc7Qj902W+MGcmfFNF4kf6tkY0VCeAb4TiRAs6RjhGpIh4hwsA9VuSBfpyBIAdJyEIasl4pMKQiC/nDRTqSkPVqwSMX2chJLlIG9YqBJQ1ZyU0W0gXW4oAHPuABDmDLk4zcISoLqYINfOCVsPzAtVY5yE7S8gSxzKW1aClIW64yl8DcAC9n4EtUAlOXwyymJ48ZyxIkU5XDZCYsTfBMHA5zBtJ8JQqqWcNrupKZG2ABN2XozW/qcgMwGOcLrzmDF6yABCH4AAhEMIIOCFOdLGSnPikpwJ19+vOfAA2oQAdK0IIa9KAITahCF8rQhjr0oFJ66COVKdFeQrOinLwoRglJ0Yp2VKIffWhIHTrShpaUoSddaEoVutKEthShL4WoH2dK05ra9KY4zalOd8rTnvr0p0ANqlCHStSiGvWoSE2qUpfK1KY69alQjapUp0rVqlr1qljNqla3ytWuevWrYA2rWMdK1rKa9axoTata18rWtrr1rXCNq1znSte62vWueM2rXvfK17769a+ADaxgB0vYwtImIAAh/wtORVRTQ0FQRTIuMAMBAAAALBQBrABxAI8Ah/////7+/v79/f38+/38+v37+fz6+Pz59/v49fv49Pv38/r28vr18fn07/n07vjz7fjy7Pjx6/fw6ffw6Pfv6Pbv5/bu5vbu5fXt5PXs4/Xr4vTq4PTq3/Pp3vPo3fLn3PLm2vLm2fHl2PHk1/Dj1vDi1PDi0+/h0u/g0e7f0O7ezu7eze3dze3dzO3cy+zbyuzbyezayOvZx+vYxerXxOrXw+rWwunVwenUv+jTvujTvejSvOfRu+fQuebPuObPt+XOtuXNteXMs+TMs8qYZZ6MoYiGwIGEyxMOCRINCRAMCA4LBw0KBgsIBQoHBQgGBAcFAwUEAgMCAQIBAQAAAAAAAAAAAAAAAAAAAAAAAAAAAAAAAAAAAAAAAAAAAAAAAAAAAAAAAAAAAAAAAAAAAAAAAAAAAAAAAAAAAAAAAAAAAAAAAAAAAAAAAAAAAAAAAAAAAAAAAAAAAAAAAAAAAAAAAAAAAAAAAAAAAAAAAAAAAAAAAAAAAAAAAAAAAAAAAAAAAAAAAAAAAAAAAAAAAAAAAAAAAAAAAAAAAAAAAAAAAAAAAAAAAAAAAAAAAAAAAAAAAAAAAAAAAAAAAAAAAAAAAAAAAAAAAAAAAAAAAAAAAAAAAAAAAAAAAAAAAAAAAAAAAAAAAAAAAAAAAAAAAAAAAAAAAAAAAAAAAAAAAAAAAAAAAAAAAAAAAAAAAAAAAAAAAAAAAAAAAAAAAAAAAAAAAAAAAAAAAAAAAAAAAAAAAAAAAAAAAAAAAAAAAAAAAAAAAAAAAAAAAAAAAAAAAAAAAAAAAAAAAAAAAAAAAAAAAAAAAAAAAAAAAAAAAAAAAAAAAAAAAAAAAAAAAAAAAAAAAAAAAAAAAAAAAAAAAAAAAAAAAAAAAAAAAAAAAAAAAAAAAAAAAAAAAAAAAAAAAAAAAAAAAAAAAAAAAAAAAAAAAAAAAAAAAAAAAAAAAAAAAAAAAAAAAAAAAAAAAAAAAAAAAAAAAAAAAAAAAAAAAAAAAAAAAAAAAAAAAAAAAAAAAAj/AAEIHEiwoEEiCBMqJGKwocOHECNKnEgxYoCFGCtq3Mixo0YBGBd6HEmyZMUBIRWaXMmSJYGUCVvKnLmxAEyENHPqdGjgJsOdQHce8Bm0KE0ERI0qXZkg6dKnHhU4hUq14oKpVbNCZIBVq9eCDbp+HetA7FivD8yezQpB7VqqEdy+fSpB7lylFOzeLWpB716gF/z+1YlB8GCaGQwflqlB8WKWGxw/NslB8mSSHSxf9uhB82aOHzx/1ghC9GiKIUyflihC9WqII1y/dkhC9myDJWzfJmhC926BJ3z/RiF8d4rit1Ugn81i+WsXzle/iH4aBvXRMa5/lqF984zul2mA/59cY/xjG+YX30h/GAf7wTne/9Uhf++O+nd54J/bY/9bH/6t9UOAZwFB4FhBHPjVEAp65ZMQv9HkUxARzuQTEBXK5NMPGbbkkw8dsuRTDyGu5BMPJZrk0w4pluSTDi2S5FMOMY7kEw41euTTDTl25JMNPXLkUw1BbuQTDUVq5NMMSVbkkwxNUuRTDFFO5BMMVUrk0wtZRuRTC11C5NMKYT7kkwplOuRTCmk25BMKbR500wlxFuSTCXUS5FMJeQ7kEwl9CuTTCIEC4JMIhfoUQqI3gcAoTB88mpIHkobUQaUYcYDpQhtsqpAGniaUQagIYUAqERacWsGpE5wqwakRnNkKwakPnOpAjVTkquuuvPLqExK9BtvrZsIWq6tPSRhbLLHKCuuTEs0Gy2y0viJUhBFHGFFEQktQy+u03uaK0BHklnsEQkyEqyu44RJh7rtENKFurux6++69TsxLRb3U3vvuE/ryG62/5kIR8GX6UkFwuVEcPFnCC5MrhcOPJewuwURMQfFiFl8MLxEJC9xsQtdmuy1CISOc8MrLqszyyzDHLPPM3opMM7U239xszjoby3PPwv4M9LAuD11z0UZHK3TS9CLNtM9OPx101FIT/XDVyi7NtNZJbxYQACH/C05FVFNDQVBFMi4wAwEAAAAsEgGsADUAjwCH/////v7+/v39/fz7/fz6/fv5/Pr4/Pn3+/j1+/j0+/fz+vby+vXx+fTv+fTu+PPt+PLs+PHr9/Dp9/Do9u7m9u7l9e3k9ezj9evi9Org9Orf8+ne8+jd8ufc8uba8ubZ8eXY8eTX8OPW8OLU8OLT7+HS7+DR7t/Q7t7O7t7N7d3M7dzL7NvK7NvJ7NrI69nH69jF6tfE6tfD6tbC6dXB6dS/6NO+6NO96NK859G759C55s+45s+35c625c215cyz5MyzyphlnoyhiIbAgYTLUj4pTDkmRjQjPy8fOCocMiYZLCEWJRwSHhcPGBIMEg0JCwgFBQQCAAAAAAAAAAAAAAAAAAAAAAAAAAAAAAAAAAAAAAAAAAAAAAAAAAAAAAAAAAAAAAAAAAAAAAAAAAAAAAAAAAAAAAAAAAAAAAAAAAAAAAAAAAAAAAAAAAAAAAAAAAAAAAAAAAAAAAAAAAAAAAAAAAAAAAAAAAAAAAAAAAAAAAAAAAAAAAAAAAAAAAAAAAAAAAAAAAAAAAAAAAAAAAAAAAAAAAAAAAAAAAAAAAAAAAAAAAAAAAAAAAAAAAAAAAAAAAAAAAAAAAAAAAAAAAAAAAAAAAAAAAAAAAAAAAAAAAAAAAAAAAAAAAAAAAAAAAAAAAAAAAAAAAAAAAAAAAAAAAAAAAAAAAAAAAAAAAAAAAAAAAAAAAAAAAAAAAAAAAAAAAAAAAAAAAAAAAAAAAAAAAAAAAAAAAAAAAAAAAAAAAAAAAAAAAAAAAAAAAAAAAAAAAAAAAAAAAAAAAAAAAAAAAAAAAAAAAAAAAAAAAAAAAAAAAAAAAAAAAAAAAAAAAAAAAAAAAAAAAAAAAAAAAAAAAAAAAAAAAAAAAAAAAAAAAAAAAAAAAAAAAAAAAAAAAAAAAAAAAAAAAAAAAAAAAAAAAAAAAAAAAAAAAAAAAAAAAAAAAAAAAAAAAAAAAAAAAAAAAAAAAAAAAAAAAAAAAAAAAAAAAAAAAAAAAAAAAAAAAAAAAAAAAAAAAAAAAAACP8AAQgcSLCgwYFBEipcGOSgw4cQDxJgSDGixYsFEVBkiLGjRQYbF3oc6RBCSIUkUxKkcDKhypcYWjZ8mZKDTJopQdzEOZLETp4dUfwEerHFUKIRYxxF+rDGUqYHczyFWrDHVKoIW/rAClGmDq4PZdoA61CmDLIHZbpAa1BmCrYFZZaAS1BmCLpZT3bAK1BmBr4AZFIALDMC4ZYNDp9MoDhkgcYbAQ+4yvUAZawLLlN9oBnqhM5ML4BGumE00Q+mgY5IzfMEa5wsXtOEIfsljdoqceBOyWM3SZk/IFPcIZzhjeILZyBX+GJ5QhXOg5iILiK6h+gaoluILiG6g+gKohv/iC6ArwDfIw2g96hgfUcH7jFKiH/RAn2LGu5H9KAfooj+D5kAoEMrDHjQCwYaNEOCBd3AIEE7PDgQEBL21RIP0eEQHQ3RwRAdC9GdEN0I0X0Q3QbRXRDdBNE9EN0C0R0Q3QB8BVAhAAXcmMCNDdwYwY0V3JjBjR3cGMKNJdyYwo0u3CjDjTbcqMONPtwoUw/R5fCSFFx26eWXX8pUBJhkgilQmWh2KZMRaaJ5ZptlynQEnGS+SWeYCQkxBBFDCKEQEnd+aWegXCZExKGIEpFQEoR2OSihQSQqaRBKNMrlo4FKqukSlkqB6Z2aSspEp5/SGWqiTZAKQKdSnIqoE6qyW+rqoU/E2mmkpwYBha2WGqppQlHw2qhCevLpZ0Kslsrqspeuyuyz0EbrprPSPqtstYFeiy2d2m7bZrfeThtustSOSyi45gpabrrcrsvut+6+K6687dJbr73wBgQAIf8LTkVUU0NBUEUyLjADAQAAACwRAawANACPAIf////+/f39/Pr9+/n8+vj7+PX79/P69fH69fD59O748+348uz48uv38On27ub17eT16+L06uD06t/z6N3y5trx5Nfw49Xw4tTv4dPv4NHv4NDu3s7t3Mvs28ns2sjr2cfq18Tq1sLp1cHp1L/o0rzn0bvn0brmz7jlzrblzbXkzLPfwaPat5PUrYTPonXKmGWejKGIhsCBhMtXQStHNiM3KRsnHRMfFw8WEQsOCwcIBgQHBQMAAAAAAAAAAAAAAAAAAAAAAAAAAAAAAAAAAAAAAAAAAAAAAAAAAAAAAAAAAAAAAAAAAAAAAAAAAAAAAAAAAAAAAAAAAAAAAAAAAAAAAAAAAAAAAAAAAAAAAAAAAAAAAAAAAAAAAAAAAAAAAAAAAAAAAAAAAAAAAAAAAAAAAAAAAAAAAAAAAAAAAAAAAAAAAAAAAAAAAAAAAAAAAAAAAAAAAAAAAAAAAAAAAAAAAAAAAAAAAAAAAAAAAAAAAAAAAAAAAAAAAAAAAAAAAAAAAAAAAAAAAAAAAAAAAAAAAAAAAAAAAAAAAAAAAAAAAAAAAAAAAAAAAAAAAAAAAAAAAAAAAAAAAAAAAAAAAAAAAAAAAAAAAAAAAAAAAAAAAAAAAAAAAAAAAAAAAAAAAAAAAAAAAAAAAAAAAAAAAAAAAAAAAAAAAAAAAAAAAAAAAAAAAAAAAAAAAAAAAAAAAAAAAAAAAAAAAAAAAAAAAAAAAAAAAAAAAAAAAAAAAAAAAAAAAAAAAAAAAAAAAAAAAAAAAAAAAAAAAAAAAAAAAAAAAAAAAAAAAAAAAAAAAAAAAAAAAAAAAAAAAAAAAAAAAAAAAAAAAAAAAAAAAAAAAAAAAAAAAAAAAAAAAAAAAAAAAAAAAAAAAAAAAAAAAAAAAAAAAAAAAAAAAAAAAAAAAAAAAAAAAAAAAAAAAAAAAAAAAAAAAAAAAAAAAAAAAAAAAAAAAAAAAAAAAAAAAAAAAAAAAAAAAAAAAAAAAAAAAAAAAAAAAAAAAAAAAAAAAAAAAAAI/wABCBxIsKDBgwBeuGjBYoWKEBkiIEBIsaLFgQZeaNzI8cXFjyABOOhIMqRJihRIdjzJsuAGlRxbygQQAubGmS1T2NSIk+VOnj1N/iQRVOjODkVD/rSQFORPCE0//kwQ1eKAnwKqVlzwU2vFCF29IrwQVqxBD2XNEiyRVq3Anx7dEvx5Qu7cnSDsDvypQe/bnRP8JtzZQPDPAn4z7hQ8crHflI71voxstyZluTovu/2pwvDOEZ5tcggNswJplQ9Okzzg9+rOAH65alYLdrZZsrbFos3tlUTbzb/V/jShuuOH4hwxIN8oYbnGBc5fEEgc3Gxjm4IhY/c7ebtey97tZv8OL/dniugiom+ITiG6g+gGWlcXq2C+19rk3eLOr3Y3f7O+8aYVXNER5ddPSB24E1MK2gRVgzBRBaFKWeml2H9iXQdTdvZp1d2GfoEHol7jjWgXXdHlNSFJfa3YUWAuclRYjBshppdrGHpVn4BV4WeiXPv96JZ/QqoVYI4D7tQZjRqBxuQLoz1p2pOpPcnak7BZ2GFVGqrEIY9RfehliFtGhUKZTQ0X3XFPKvdkc08yIBMPdNZp5513/qQDnnziCUCfgNK5w0+BBvpnoXziQCiifB7KqJ02bARDDDLEAMNGj/qZqZ01aCTDp6DKoNGmdjq6KQ0vhKrqC6TWaWqmM6hvKmurdL76aKqyhkorD7Yyimuun+7aK6K/AissrcXmemyrngJ7w7KkbpTrCzlAuylHk1Z6KavW7uqtpt+GK+64fQ5LLqnmnptpuuoyym67hb4LL6DyztuovbTWi2+p+6Lb76b6/htwvwPvWzC+AAQEACH/C05FVFNDQVBFMi4wAwEAAAAsEQGsADcAjwCH/////fz6+/j1+vXx+vXw+PLs+PLr9u7m9evi9Org8+jd8eXY8eTX7+HT7+DR7t7O7NvJ6tfE6tbC6dS/59G65c215Myz38Gj2reT1K2Ez6J1yphlnoyhtIdaiIbAgYTLf3+7e3y5hXmUoHhQZGCEYEgwTTomPzAfOSscMyYZLCEWJx0TJRwSHxcPGRMMEg4JEg0JCwgFBQQCAAAAAAAAAAAAAAAAAAAAAAAAAAAAAAAAAAAAAAAAAAAAAAAAAAAAAAAAAAAAAAAAAAAAAAAAAAAAAAAAAAAAAAAAAAAAAAAAAAAAAAAAAAAAAAAAAAAAAAAAAAAAAAAAAAAAAAAAAAAAAAAAAAAAAAAAAAAAAAAAAAAAAAAAAAAAAAAAAAAAAAAAAAAAAAAAAAAAAAAAAAAAAAAAAAAAAAAAAAAAAAAAAAAAAAAAAAAAAAAAAAAAAAAAAAAAAAAAAAAAAAAAAAAAAAAAAAAAAAAAAAAAAAAAAAAAAAAAAAAAAAAAAAAAAAAAAAAAAAAAAAAAAAAAAAAAAAAAAAAAAAAAAAAAAAAAAAAAAAAAAAAAAAAAAAAAAAAAAAAAAAAAAAAAAAAAAAAAAAAAAAAAAAAAAAAAAAAAAAAAAAAAAAAAAAAAAAAAAAAAAAAAAAAAAAAAAAAAAAAAAAAAAAAAAAAAAAAAAAAAAAAAAAAAAAAAAAAAAAAAAAAAAAAAAAAAAAAAAAAAAAAAAAAAAAAAAAAAAAAAAAAAAAAAAAAAAAAAAAAAAAAAAAAAAAAAAAAAAAAAAAAAAAAAAAAAAAAAAAAAAAAAAAAAAAAAAAAAAAAAAAAAAAAAAAAAAAAAAAAAAAAAAAAAAAAAAAAAAAAAAAAAAAAAAAAAAAAAAAAAAAAAAAAAAAAAAAAAAAAAAAAAAAAAAAAAAAAAAAAAAAAAAAAAAAAAAAAAAAAAAAAAAAAAAAAAAAAAAAAAAAAAAAAAAAAAAAAAAAAAAAAAAAAAAAAAAAAAAAAAAAAAAAAAAAAAAAAAAAAACP8AAQgcSLCgwYMIN2jIgOGCBQkOEhBASLGiRYMDNmjcyHHDxY8gCSLoSDKkyYsNSHY8yRJhBJUcW8okWAHmxpk4bd7EKVPnhgk8e+p8ELSlTwVFWfoskNSkAJ8BmoY84FNqSAZVrX6EkFWrRQpdvVL06VFsRZ8UzJ7VCUHtWJ0L3CbUeUCuwQA+BdgtaCDsXgAK/O59INjuhMJyyf4l6LPC4oE+IzwW6LPBZAA+EVz2OWByRp2XR4KenHL045emF9dM/VfxZJ9AXw/drBOpbJtMHz/VGfUxVdZ7sQK3y3W4XLDG3bp+jJa2zba3YTJwDrPuY7w69T7um1xt4O5mCYP/F3t4vNflixtTVyk5ukrL7klqjt+x8+PPNkMjdls6/2TU/j22WoDp7acWbOuRRBR9HNnGnE65LbabTb0t9huBfwmH4V7FbWgXch4mZqBZzTG4EXQP2jSdiRpZtxh2Nmm3GHchuvVdjWqJh6NZ5e0oFnqt6eQYixu0lyJM8B2p0nxKkmTfYvjBpJ95WvUn5X8jijXglU2WRGRsXXK0YJgbOVigTQZMNiFMFf51IZeLaQjnXx3OuReIdtoF5F4lkqkRii3NIOighBZqqE8pGKpooQQt6iihPrXw6KKNTrqoDD7FYKmhlW5aqAsaceDBBx5wwJGnjA6EaqEqbPDBq7B+lLDRqoN2SusJseaqEa2C2rpqrsBuwOsMvqIKrK7DFuvpsbGWkKyqwzILqwnPCjTsDNK+ikK1AFzrKrMbsMCtt9/qugEM4177wgokhPABCCKM0IGw6V5r77348qpsvtfuy6++0P6Lr78Co0pwwZsejPCkCi/saMMOKwpxxKlaSzGtE1/ca8AaJ8xxxwx/DPLDIo+saEAAIf8LTkVUU0NBUEUyLjADAQAAACwVAawAPwCPAIf////+/f39/Pr9+/n8+vj7+PX79/P69fH69fD59O748+348uz48uv38On27ub17eT16+L06uD06t/z6N3y5trx5Nfw49Xw4tTv4dPv4NHv4NDu3s7t3Mvs28ns2sjr2cfq18Tq1sLp1cHp1L/o0rzn0bvn0brmz7jlzrblzbXkzLPfwaPat5PUrYTPonXKmGWejKGIhsCBhMtgSDBQPChHNiM/MB83KRsvIxcnHRMfFw8WEQsOCwcIBgQHBQMAAAAAAAAAAAAAAAAAAAAAAAAAAAAAAAAAAAAAAAAAAAAAAAAAAAAAAAAAAAAAAAAAAAAAAAAAAAAAAAAAAAAAAAAAAAAAAAAAAAAAAAAAAAAAAAAAAAAAAAAAAAAAAAAAAAAAAAAAAAAAAAAAAAAAAAAAAAAAAAAAAAAAAAAAAAAAAAAAAAAAAAAAAAAAAAAAAAAAAAAAAAAAAAAAAAAAAAAAAAAAAAAAAAAAAAAAAAAAAAAAAAAAAAAAAAAAAAAAAAAAAAAAAAAAAAAAAAAAAAAAAAAAAAAAAAAAAAAAAAAAAAAAAAAAAAAAAAAAAAAAAAAAAAAAAAAAAAAAAAAAAAAAAAAAAAAAAAAAAAAAAAAAAAAAAAAAAAAAAAAAAAAAAAAAAAAAAAAAAAAAAAAAAAAAAAAAAAAAAAAAAAAAAAAAAAAAAAAAAAAAAAAAAAAAAAAAAAAAAAAAAAAAAAAAAAAAAAAAAAAAAAAAAAAAAAAAAAAAAAAAAAAAAAAAAAAAAAAAAAAAAAAAAAAAAAAAAAAAAAAAAAAAAAAAAAAAAAAAAAAAAAAAAAAAAAAAAAAAAAAAAAAAAAAAAAAAAAAAAAAAAAAAAAAAAAAAAAAAAAAAAAAAAAAAAAAAAAAAAAAAAAAAAAAAAAAAAAAAAAAAAAAAAAAAAAAAAAAAAAAAAAAAAAAAAAAAAAAAAAAAAAAAAAAAAAAAAAAAAAAAAAAAAAAAAAAAAAAAAAAAAAAAAAAAAAAAAAAAAAAAAAAAAAAAAAAI/wABCBxIsKDBgwgNvnDRgsUKFSEyRECQsKLFixUNvNjIseMLjCBDJnTgsaTIkygplPSIsiXIDSs7upxZMURMjjRzGkxxc6POnwJ7+gSqUygJokV7dkCaU6gFpjSFQoA6U2gCqi0HCBWAFeUCoV1RRgAbVuQFsmVBekCb9mIJtm0rCv0Y96LQE3Xt9gSR16JQDX3l9pwQOKHQBoURCi2Q2KDGno0NkoQcmaBKypUFwsSc2Sbnyjw/RxaqIvNAoSNMB+3JQTUAoRVcC30gu+cB1Vp7BlD9VXTjsb4Tnw1eeC3xwCTgjlbeWKiJ2jc/QI+JYfpKCdZLLsjukYDqxzddT/8Or/oyedObz3dmnji0+spCU3DvKGI+xw32N1LI/8IBfwO4sVeYAgIGBtx7kQ2HYGPGLZhYcsf1NRd/R6km1FIW9vRUhjdNxWFMV324ElemgReTeAX2Zd6JqqXHommeOViYey9mdhd/fIlYEmA6ekRYjx0hBiRHjJmWm4yBERhhXgfWWJmCTkbWYJSNQYikhD2VNuRGqW35QmtexuYlbV7e5uVuJaaY13hUJrbiSq65CKdqMbZZGApq1uUcf9J5WZ2X2HnJAFQ/FGrooYgmKlQPiTaK6EWORmqoD0JJGimkljq6Q6WZJoppp4jmsBEMMcgQAwwdgfqoRaoiesMLMsSXKqsMHLVq6Ke21jDrrhvZWiiure4q7Au+/gCsqsLuOkOxx4Ka7Kw0MMtqsc/KaoO0FRX7Q7Wx4oBtQtrC+uwLOnyLULji8voCD+YehO4LpJqKaq/tGqTtvfjmq++hze5bb0H+7ttvwK0OTDCoBh+cacIKS8pww44+DLGn005ccMUWI4xxxgtvzLHDHn8cccgiU5xtyZYGBAAh/wtORVRTQ0FQRTIuMAMBAAAALCEBrABHAI8Ah/////7+/v79/f38+/38+v37+fz6+Pz59/v49fv49Pv38/r28vr18fn07/n07vjz7fjy6/jx6/fw6ffw6Pfv6Pbu5vbu5fXt5PXs4/Xr4vTq4PTq3/Pp3vPo3fLn3PLm2vLm2fHl2PHk1/Dj1vDi1PDi0+/h0u/g0e/g0O7f0O7ezu7eze3dze3dzO3cy+zbyuzbyezayOvZx+vYxerXxOrXw+rWwunVwenUv+jTvujTvejSvOfRu+fQuebPuObPt+XOtuXNteXMs+TMs8qYZZ6MoYiGwIGEyykeFCUcEiIaER4XDxsUDRgSDBUQChINCQ4LBwsIBQgGBAUEAgIBAQAAAAAAAAAAAAAAAAAAAAAAAAAAAAAAAAAAAAAAAAAAAAAAAAAAAAAAAAAAAAAAAAAAAAAAAAAAAAAAAAAAAAAAAAAAAAAAAAAAAAAAAAAAAAAAAAAAAAAAAAAAAAAAAAAAAAAAAAAAAAAAAAAAAAAAAAAAAAAAAAAAAAAAAAAAAAAAAAAAAAAAAAAAAAAAAAAAAAAAAAAAAAAAAAAAAAAAAAAAAAAAAAAAAAAAAAAAAAAAAAAAAAAAAAAAAAAAAAAAAAAAAAAAAAAAAAAAAAAAAAAAAAAAAAAAAAAAAAAAAAAAAAAAAAAAAAAAAAAAAAAAAAAAAAAAAAAAAAAAAAAAAAAAAAAAAAAAAAAAAAAAAAAAAAAAAAAAAAAAAAAAAAAAAAAAAAAAAAAAAAAAAAAAAAAAAAAAAAAAAAAAAAAAAAAAAAAAAAAAAAAAAAAAAAAAAAAAAAAAAAAAAAAAAAAAAAAAAAAAAAAAAAAAAAAAAAAAAAAAAAAAAAAAAAAAAAAAAAAAAAAAAAAAAAAAAAAAAAAAAAAAAAAAAAAAAAAAAAAAAAAAAAAAAAAAAAAAAAAAAAAAAAAAAAAAAAAAAAAAAAAAAAAAAAAAAAAAAAAAAAAAAAAAAAAAAAAAAAAAAAAAAAAAAAAAAAAAAAAAAAAAAAAAAAAAAAAAAAAAAAAAAAj/AAEIHEiwoMGDCA0SWciwIZGEECNKnEhQgMOLFDNqpEjgosONIEMWNOCxociTIBGUZIiyJUUFKxe6nAmRQcyHNHMWdHBTp0+BEHr+1ClB6FCaFYwedXlB6VKUGZw+FblB6lSQHaxe1fhB61aKIbx+lThC7FiIJcyeRYhC7VqDKty+JehC7lyBMOzelaF3Lo2+b20AXotj8FkdhsfySPzVB+OtQR5fHSJ56s0gdzPe/JGZ4s0enSfe3BFa4s0cpSPevJEa4s0arRPenBEb4c0YtQ/edJFbYcwVvQveTBGc4E0TxQfeJJFc4E0RzQHcBBH9pofqMTlgX6lhe0kM3j1W/wh/cQJ5hxHON3ygnmGD9gsXwCeSYP6B+QXmD5gfPUDlpwP8t1QBAh51QIFDJYDgTwss6FMDDur0QIQ5RUAhTRRcOJMFGrqEQYctaQAiShyMeJIHJooEQoohicAiSCS8uJEJMmqUQo0ZsYAjRS/sOFEMPko0Q5AR1UAkRDccmVAOSiK0Q5MH9QClQT9MWVBkMc0nxHxAzOfDfDzMp8N8OMxnw3w0zCfDfDDM18J8Ksx3wnwlzDfCfCHM98F8HYxVxZ+ABiqooDchMeihg4qE6KKA3pQEo4sqCimiNykx6aGSXkroQkUYcYQRRTC0hKaCZkrqnwsdoeqqRyzExKmAmpF6KhGs1kpEE7D+KSuptfbqRK5V7Kppr7U+AaywlxLLKhTHhgRsFcquGkWzID0brapSULvRs7QqS8QU2mrEbbe2EkFFuBmNS0Snn4a60LPIPivvvPTWG2i89sKKb76k7svvpf7+C2nAAkfqbMHwHoxwrgQvXKrCDvcLccQAT0zxwBZfbHC1GlfMcccYfwzyogEBACH/C05FVFNDQVBFMi4wAwEAAAAsNQGsAEgAjwCH/////fv5+/fz+PPt9u/n9u7m9Org8uba8OLU7t7O7NrI6tbC6NK85c625c21yphlnoyhiIbAgYTLX0cvV0ErTzsnRzYjPy8fNykbLyMXJx0THhcPFhELDgsHBwUDAAAAAAAAAAAAAAAAAAAAAAAAAAAAAAAAAAAAAAAAAAAAAAAAAAAAAAAAAAAAAAAAAAAAAAAAAAAAAAAAAAAAAAAAAAAAAAAAAAAAAAAAAAAAAAAAAAAAAAAAAAAAAAAAAAAAAAAAAAAAAAAAAAAAAAAAAAAAAAAAAAAAAAAAAAAAAAAAAAAAAAAAAAAAAAAAAAAAAAAAAAAAAAAAAAAAAAAAAAAAAAAAAAAAAAAAAAAAAAAAAAAAAAAAAAAAAAAAAAAAAAAAAAAAAAAAAAAAAAAAAAAAAAAAAAAAAAAAAAAAAAAAAAAAAAAAAAAAAAAAAAAAAAAAAAAAAAAAAAAAAAAAAAAAAAAAAAAAAAAAAAAAAAAAAAAAAAAAAAAAAAAAAAAAAAAAAAAAAAAAAAAAAAAAAAAAAAAAAAAAAAAAAAAAAAAAAAAAAAAAAAAAAAAAAAAAAAAAAAAAAAAAAAAAAAAAAAAAAAAAAAAAAAAAAAAAAAAAAAAAAAAAAAAAAAAAAAAAAAAAAAAAAAAAAAAAAAAAAAAAAAAAAAAAAAAAAAAAAAAAAAAAAAAAAAAAAAAAAAAAAAAAAAAAAAAAAAAAAAAAAAAAAAAAAAAAAAAAAAAAAAAAAAAAAAAAAAAAAAAAAAAAAAAAAAAAAAAAAAAAAAAAAAAAAAAAAAAAAAAAAAAAAAAAAAAAAAAAAAAAAAAAAAAAAAAAAAAAAAAAAAAAAAAAAAAAAAAAAAAAAAAAAAAAAAAAAAAAAAAAAAAAAAAAAAAAAAAAAAAAAAAAAAAAAAAAAAAAAAAAAAAAAAAAAAAAAAAAAAAAAAAAAAAAAAAAAAAAAAAAAAAAAAAAAAAAAAAAAAAAAAAAAAAAAAAAAAAAAAAAAAAAAAAAAAAAAAAAAAAACP8AAQgcSLCgwYMIHyhcyPABwocQI0qM2LBigIkYM2oUWLGhgI0gQxrsyHCAyJMhSS4sgLJlRpUKDbicSRHmAZo4D8J8gCCnz4E7E/z8uVPBUJ87FxzNuZPBUpw7HTyl2WDn1JkMrF5tuUDr1pMKvH4NmUDs2I0IzJ7NeEDt2okG3L6NSEDu3IcD7N49KEDv3oIB/P4lKHgwR5gXDddU+VExxJ0mHT/cyVJyQpgyLeu0qXmzyp6dCwYNLRqmUdJAYSpFfVilU9YAosIGUBXm7Ky2YXfNzTosb9Rlf5NOKzx02+Kd4yLXXHe55bzOJfeN7jgwdceFDe9MzHpn4+4wI4P/V1l5PMnM5jvehL0TdPqKQtmbnp2UPszX7xs2mF1b5e3sf+3mH2y+DchacAaiRlyCpB3HYGjKPdhZcxJqBl2Flk2HoWTWbSgZgH9tZx9jI5IkHmqUldgReihyJt9nKsIXY0On5cfQajYuhF+LKu0HW38k/XedYQIGSSCIdyFoJGsLLomag06SFmGUoVFIZWcXXqmZhlpa1mGXliF5l4gvkvQdjybOyBABai7EImk7rZejQu6h2VF8cz5Qo50V4chnQztu9cGghBZqaKE7TXDooouexOijg06wE6SQOkrpohRMemmjIm16aAULQRCBBBFAsJCnh1qK6qAWKCTBq7BKlKDQqoWquuoFD8Sq6wO0EmorqhjoKmyvg/7qaQbC6krsB8ZuqkGysS7b7KUbQAurtJ32yoG1r2IbErEd5Aotr8ROS6kHrgo7a7nZ9hrqqKWeyu63y9Zr7734XmpuvrTuyy+q/v67acACU0pwwY8ejDCn9C7cq8IO19puxABPTPHAFl9scMYaJ8xxxwyDBDLGDY/8aEAAIf8LTkVUU0NBUEUyLjADAQAAACxKAawARQCPAIf////+/v7+/f3+/fz9/Pv9/Pr9+/n8+vj8+ff7+PX7+PT79/P69vL69fH69fD59O/59O748+348uz48ev38On37+j27ub27uX17eT17OP16+L06uD06t/z6d7z6N3y59zy5try5tnx5djx5Nfx5Nbw49bw4tTv4dPv4NHv4NDu38/u3s7t3c3t3Mvs28rs28ns2sjr2cfr2MXq18Tq18Pq1sLp1cHp1cDp1L/o077o073o0rzn0bvn0brn0Lnm0Lnmz7jmz7fmzrblzrblzbXlzbTkzLPfwaPat5PUrYTPonXKmGWejKGIhsCBhMtWQStUPypHNiNGNCM5Kxw3KRsqIBUpHhQcFQ4aEw0NCgYLCAUAAAAAAAAAAAAAAAAAAAAAAAAAAAAAAAAAAAAAAAAAAAAAAAAAAAAAAAAAAAAAAAAAAAAAAAAAAAAAAAAAAAAAAAAAAAAAAAAAAAAAAAAAAAAAAAAAAAAAAAAAAAAAAAAAAAAAAAAAAAAAAAAAAAAAAAAAAAAAAAAAAAAAAAAAAAAAAAAAAAAAAAAAAAAAAAAAAAAAAAAAAAAAAAAAAAAAAAAAAAAAAAAAAAAAAAAAAAAAAAAAAAAAAAAAAAAAAAAAAAAAAAAAAAAAAAAAAAAAAAAAAAAAAAAAAAAAAAAAAAAAAAAAAAAAAAAAAAAAAAAAAAAAAAAAAAAAAAAAAAAAAAAAAAAAAAAAAAAAAAAAAAAAAAAAAAAAAAAAAAAAAAAAAAAAAAAAAAAAAAAAAAAAAAAAAAAAAAAAAAAAAAAAAAAAAAAAAAAAAAAAAAAAAAAAAAAAAAAAAAAAAAAAAAAAAAAAAAAAAAAAAAAAAAAAAAAAAAAAAAAAAAAAAAAAAAAAAAAAAAAAAAAAAAAAAAAAAAAAAAAAAAAAAAAAAAAAAAAAAAAAAAAAAAAAAAAAAAAAAAAAAAAAAAAAAAAAAAAAAAAAAAAAAAAAAAAAAAAAAAAAAAAAAAAAAAAAAAAAAAAAAAAAAAAAAAAAAAAAAAAI/wABCBxIsKDBgwIdbEBRw8gRJEmULEFIsaLFiwiXaNzIcYkCjCBDhuxIkoLIkygNkuzYIaVLlCs5nnhJE2TMjTBq6qx4U6OOnUBV9pwYtCiAIkONFsWRVClQF02d6iwRVSrNDVWtupSQVStKBEMDeKU5dMHYl0MrnHU51MPalENRvIXZM8bck0N33BU5lOhejEK6/kVYQ/BggywMHyYoQvFigRkcP4YgebGBoQIe8+zJQDPFoRY8Z+z5QfTBoSlMC70pQ3XBoTxcE+wre+CPyodn4B6sYvdfEL73Xgh+twHxuQOGEqgtcGgD5gCGXoA+FAT1niqu35yhPaaP7jGh8/84/jYG+bUozp/1oH5shfZeF8D3OrQAeJIP7nfEoJ9jiP4brQCgRjQMuAQQ0Bkxn1U5LCjVCw46ZUKESnFAoVETXFhUAhoWNZQBBkJgYAYGimAgCwbWYGAQ0BHRIVA3vLhTCzLqREKNNWmAI00R7PjSAT6i1dMBBkZgoAYGjmBgCwbaYOAQ0AERZEqF9QTdClOiFEKWJ2HApUgPfBlSAWKO1BMCBkpg4AYGlmCgCwbiYCAR0PVQJkYy3HlRCnpa9EGfFVkAKEUMDIqQAFNuoeiijDbK6FBaOCqppChNaqmiQ2Fx6aWVbirpUFZ4Ommnoj66ERNNONEEExpRUaqjpL6cusVGTtRqqxNLSCEro7G+qtGtwEKx66K9lroEsMgOq2ixoj6BLLDKbsGsp1E8e2u00246hbW2YnuSslVwW6u3Iil7xbHWLkFuSMpm8SuyGq0LUrSnprrqRvJiFO2+/PbrL6ff/vtvtgLLSnDBpR6MsKcKLwxwuQ7ne1HEEltEsbINX9xoxhoTG3DHCX8MMsMij/wwuyaTDHHKlwYEACH/C05FVFNDQVBFMi4wAwEAAAAsXAGsAD8AjwCH/////v7+/v39/v38/fz7/fz6/fv5/Pr4/Pn3+/j1+/j0+/fz+vby+vXx+vXw+fTv+fTu+PPt+PLs+PHr9/Dp9/Do9u/n9u7m9u7l9e3k9ezj9evi9Org9Orf8+ne8+jd8ufc8uba8ubZ8eXY8eTX8OPW8OLU8OLT7+HT7+DR7+DQ7t/Q7t/P7t7O7t7N7d3N7dzL7NvK7NvJ7NrI69nH69jF6tfE6tfD6tbC6dXB6dXA6dS/6NO+6NO96NK859G759G659C55tC55s+45s625c625c215c205Myz38Gj2reT1K2Ez6J1yphlnoyhiIbAgYTLWEIsRjQjOisdNCcaKR4UIhoRHRYOFhELEAwICwgFBQQCAAAAAAAAAAAAAAAAAAAAAAAAAAAAAAAAAAAAAAAAAAAAAAAAAAAAAAAAAAAAAAAAAAAAAAAAAAAAAAAAAAAAAAAAAAAAAAAAAAAAAAAAAAAAAAAAAAAAAAAAAAAAAAAAAAAAAAAAAAAAAAAAAAAAAAAAAAAAAAAAAAAAAAAAAAAAAAAAAAAAAAAAAAAAAAAAAAAAAAAAAAAAAAAAAAAAAAAAAAAAAAAAAAAAAAAAAAAAAAAAAAAAAAAAAAAAAAAAAAAAAAAAAAAAAAAAAAAAAAAAAAAAAAAAAAAAAAAAAAAAAAAAAAAAAAAAAAAAAAAAAAAAAAAAAAAAAAAAAAAAAAAAAAAAAAAAAAAAAAAAAAAAAAAAAAAAAAAAAAAAAAAAAAAAAAAAAAAAAAAAAAAAAAAAAAAAAAAAAAAAAAAAAAAAAAAAAAAAAAAAAAAAAAAAAAAAAAAAAAAAAAAAAAAAAAAAAAAAAAAAAAAAAAAAAAAAAAAAAAAAAAAAAAAAAAAAAAAAAAAAAAAAAAAAAAAAAAAAAAAAAAAAAAAAAAAAAAAAAAAAAAAAAAAAAAAAAAAAAAAAAAAAAAAAAAAAAAAAAAAAAAAAAAAAAAAAAAAAAAAAAAAAAAAAAAAAAAAAAAAAAAAAAAAAAAAAAAAACP8AAQgcSLCgQQAOOKTAgSSJkiVMmhycSLGixYNNMmrc2ITBxY8gL3IcmSGkyZMDR3IkgbIlSJUbZbicWRGmRh80cxq0qVGnT4FDeEr8qbOGUKI6URxFSpPDUqYuITyFinKAUARUXQqlkLWlUBBdUQptEfak0BxlTQpFkjbkkaltK+KAG3ciC7p1DX7Am5fgBL59BR4QSiAwRaEQDE8UykExRp4nHO/kWUNyQaFDLBMUOlQzAB6AA8MI3VcE6bwXTtdVoLqu0AWeBQrFEBuA0BG1hcbIzbMHb561gbRuO2N42hLGy2pIHrYB87BCD/yGOWG6yg/WR67IzhEH941GahP/eZ7VBnmqKc5D7aCeaYT2SAsIFfBd44P6GTfgb2JiP439QdSGBHxE6UDgTy0c6BMICupEQYM5IQBhTkIpsJ8F+4mwHwz78bBfZ5r5MOFMMYzo0ggmtoRBiigtwKJYPBmwnwT7ebBfCvvdsF8RtQnxokk0/BiSCUKCtEGRHz2A5EUCCBXAfg3sp8F+Jew3w34/1GbEkhbNBVxsKnBZkQdiUiRBmRMZgOZiPCWwXwX7hbCfC/vt8GFtO6xp0At6FhRCilwEKuighAp6hVCFJqroRYo2yoUWiDrqKKOSJirUFpUualGmhW7kxBNQPOFERlhwWiilpgaqERSstgpFE1Wkkjooqqlm5OqtU8gqKK2mNnHrr7oGyiunvv7qarBcDJtpFMYeG6yylUrRbKvIQispFdOyWu2mulpRrLFNbFtRsFnY+mtG4lKErEafhjoqus9yi+y89NZrr7Dy3luvtfqmym+/nP4LcKUCDzxpvgbLWnDCiS7MMKEOP7wrwhITTHHFB4+LccAXb9xwxx5DDHLIggYEACH/C05FVFNDQVBFMi4wAwEAAAAsaAGsADkAjwCH/////v39/fz6/fv5/Pr4+/j1+/fz+vXx+vXw+fTu+PPt+PLs+PLr9/Dp9u7m9e3k9evi9Org9Orf8+jd8uba8eTX8OPV8OLU7+HT7+DR7+DQ7t7O7dzL7NvJ7NrI69nH6tfE6tbC6dXB6dS/6NK859G759G65s+45c625c215Myz38Gj2reT1K2Ez6J1yphlnoyhiIbAgYTLYEgwUDwoRzYjPzAfNykbLyMXJx0THxcPFhELDgsHCAYEBwUDAAAAAAAAAAAAAAAAAAAAAAAAAAAAAAAAAAAAAAAAAAAAAAAAAAAAAAAAAAAAAAAAAAAAAAAAAAAAAAAAAAAAAAAAAAAAAAAAAAAAAAAAAAAAAAAAAAAAAAAAAAAAAAAAAAAAAAAAAAAAAAAAAAAAAAAAAAAAAAAAAAAAAAAAAAAAAAAAAAAAAAAAAAAAAAAAAAAAAAAAAAAAAAAAAAAAAAAAAAAAAAAAAAAAAAAAAAAAAAAAAAAAAAAAAAAAAAAAAAAAAAAAAAAAAAAAAAAAAAAAAAAAAAAAAAAAAAAAAAAAAAAAAAAAAAAAAAAAAAAAAAAAAAAAAAAAAAAAAAAAAAAAAAAAAAAAAAAAAAAAAAAAAAAAAAAAAAAAAAAAAAAAAAAAAAAAAAAAAAAAAAAAAAAAAAAAAAAAAAAAAAAAAAAAAAAAAAAAAAAAAAAAAAAAAAAAAAAAAAAAAAAAAAAAAAAAAAAAAAAAAAAAAAAAAAAAAAAAAAAAAAAAAAAAAAAAAAAAAAAAAAAAAAAAAAAAAAAAAAAAAAAAAAAAAAAAAAAAAAAAAAAAAAAAAAAAAAAAAAAAAAAAAAAAAAAAAAAAAAAAAAAAAAAAAAAAAAAAAAAAAAAAAAAAAAAAAAAAAAAAAAAAAAAAAAAAAAAAAAAAAAAAAAAAAAAAAAAAAAAAAAAAAAAAAAAAAAAAAAAAAAAAAAAAAAAAAAAAAAAAAAAAAAAAAAAAAAAAAAAAAAAAAAAAAAAAAAAAAAAAAAAAAAAAAAAACP8AAQgcSLCgQAQRMoRQsYJFCxcvDEqcSLGiwRcYM2p8YcCix48UN4p0ALKkSZEbKZhc6RGlxg0sY050mTGEzJsEaWJMgbOnTow9cZL4GfRmB6JFY1pAmnQlBKZNSyaAGvWjgJ8Dqp7UuUBryZ8RvIL8eUHsx58ezLbUWUKtxZ8R3VI8QVUuQRB17QrUkFfvhL52GwCWW2Cw3J8d9V7USVJxwZ8qHefUCVPywJ82LQv8yVMzABWG1Y4IbZYDabEVTnt9oFrrgdZVA2D1DOBnV89gaZPVrTMtbp0keOukbQJ21A/Gm2JInlQC86ILngclID0oYuEuG2uGjB1l5e06M4P/p9lZc4rqOEWgv7lhvUwK7mM6iM/SAH2Ws3/TVNBdZFj9LpUFIEq+jedScAOiRNtQw3l2VIOaLQWhZU9NKNlUFjp2VYaOXZfgRtpZxt2HL/W3kXgi6lSeZXRxqBdeLtrFV4xy/UWjW4LdqFZhOqqVn4Eo8UdiRv8BKZKARm5UYIo0IagZaD2KNVqUXplGpVapXVkVa1pG9VqXTckGZlMeJqlRiJKNaGZG3zHpEopp6oQCcfeZhNyYRS2HZ1DO7dkTA/H9IOighBY6aA8/GaroogYt6qigP/nw6KONTqroTztYymhBmhqqEQwxyBADDBjl0KmhlZ4KKUYytOqqDC/cjKAqoamqyuqrr9Yw66C1nvoCrsDuKmivnc4ALK7C/kCspjQc+2qyy1pqg7OuQsvprjhQ26q1BAmrw6/OvsDtQMLycCuuGI0rULIZgSoqqekKG22y9NZrb6fz3rtrvvqqym+/+F4LcL3/DjxpwQY7inDCii7McKEOP8yrwBKfGnHFF0uc8cMbM9xxwgEBACH/C05FVFNDQVBFMi4wAwEAAAAsbgGsADUAjwCH/////v7+/v39/fz7/fz6/fv5/Pr4/Pn3+/j1+/j0+/fz+vby+vXx+vXw+fTv+fTu+PPt+PLs+PLr+PHr9/Dp9+/o9u7m9e3k9ezj9evi9Org9Orf8+ne8+jd8uba8ubZ8eXY8eTX8OPW8OLU8OLT7+HT7+DR7t/Q7t7O7d3N7dzL7NvK7NvJ69nH69jF6tfE6tfD6tbC6dXB6dS/6NO96NK859G759G659C55s+45s+35c625c215Myz38Gj2reT1K2Ez6J1yphlnoyhiIbAgYTLYUkwWUMsVD8qTTomRzYjPzAfOisdMyYZLSIWJRwSIRgQGRMMCwgFAAAAAAAAAAAAAAAAAAAAAAAAAAAAAAAAAAAAAAAAAAAAAAAAAAAAAAAAAAAAAAAAAAAAAAAAAAAAAAAAAAAAAAAAAAAAAAAAAAAAAAAAAAAAAAAAAAAAAAAAAAAAAAAAAAAAAAAAAAAAAAAAAAAAAAAAAAAAAAAAAAAAAAAAAAAAAAAAAAAAAAAAAAAAAAAAAAAAAAAAAAAAAAAAAAAAAAAAAAAAAAAAAAAAAAAAAAAAAAAAAAAAAAAAAAAAAAAAAAAAAAAAAAAAAAAAAAAAAAAAAAAAAAAAAAAAAAAAAAAAAAAAAAAAAAAAAAAAAAAAAAAAAAAAAAAAAAAAAAAAAAAAAAAAAAAAAAAAAAAAAAAAAAAAAAAAAAAAAAAAAAAAAAAAAAAAAAAAAAAAAAAAAAAAAAAAAAAAAAAAAAAAAAAAAAAAAAAAAAAAAAAAAAAAAAAAAAAAAAAAAAAAAAAAAAAAAAAAAAAAAAAAAAAAAAAAAAAAAAAAAAAAAAAAAAAAAAAAAAAAAAAAAAAAAAAAAAAAAAAAAAAAAAAAAAAAAAAAAAAAAAAAAAAAAAAAAAAAAAAAAAAAAAAAAAAAAAAAAAAAAAAAAAAAAAAAAAAAAAAAAAAAAAAAAAAAAAAAAAAAAAAAAAAAAAAAAAAAAAAAAAAAAAAAAAAAAAAAAAAAAAAAAAAAAAAACP8AAQgcSLBgAw0mYvTw8QNIECEFI0qcSFGikIsYMwpBULGjx4kaQ0b4SJJkSI0ZSqqseDIjiJUwI7bEiCKmTYEzL764aTOnEBs8Y/qEGHQlD59FV85AmrQkC6ZNP5aAGrVjB6pVKVrAmlUiA65dCxLwOSAsy5wLzFL0WUEtyJwc3FrMOUKuzJwr7Bb0KUMvQZ86/A4cKljgDbBuXyBWi2Kx2RCOw2aI3DUC5awILmf1aaAwAJ8PPPu8IDqnh9IzTaBu2WL1SRquQ/bwfDSn56W2Cz/NLXgqb79Xf+vdKtzu1+Jyx+YMEFtjguYZJ0DHqGH6xRDWhaTIDiM7juxEBR//Rp5Yc9TG5NVCTm92MvuwEsw3zfw+rE8C2Rlkt5C9Q3YS2bGQ3QzZ7UCbfEnhNpNnuy1YmG8OChZchH4RR6Fex11ol3Ia2uXTAdlBkB0G2X2Q3QnZuZBdDeB5Nl6H5dWXFXowqodgUe7VaFZ8MlZFn45m+SRAdgpkR0F2G2QnQnYqZBdDdjkc2GNUCrbE4I1BQWhlYRNuKZiFXvqVYZh6cUimXj4VkJ0DPE3h5ptwxgmnT1DIaaedAt2pp5s+ObHnnnn+aadPTAh6Z6CGzonREEQUQcQQFymRqJyITjoFRkVkqmkRQiBhKZyVTnrRpqQa8emboSZ6BKmsnupmqoYmcMEqqa5OAaugS8y6aa23/tmErpryCoCrTwCbqbCuRiEEsEIge6oUo7J6kbOnLtrooxhRW+u23HY7aa/engpuuJaOS26i5p4raLrqAjpsu9uyCy+e784rbr32lotvvujuy++6/v7rrsDfBkwwvQcbGhAAIf8LTkVUU0NBUEUyLjADAQAAACxuAawANQCPAIf////+/v7+/v3+/f3+/fz9/Pv9/Pr9+/r9+/n8+vj8+ff7+PX7+PT79/P69vL69fH59O/59O748+348uz48ev38On38Oj37+j27+f27ub27uX27eX17eT17OP16+L06uD06t/z6d7z6N3y59zy5try5tnx5djx5Nfw49bw4tTv4dPv4dLv4NHv4NDu39Du38/u3s7u3s3t3c3t3Mvs28rs28ns2sjr2cfr2cbq18Tq18Pq1sLp1cHp1L/o077o073o0rzn0bvn0Lnmz7jmz7flzbXlzbTlzLPkzLPKmGWejKGIhsCBhMtfRy9dRi5WQCtUPypMOSZKOCVCMSE4KhwvIxclHBIbFA0SDQkIBgQAAAAAAAAAAAAAAAAAAAAAAAAAAAAAAAAAAAAAAAAAAAAAAAAAAAAAAAAAAAAAAAAAAAAAAAAAAAAAAAAAAAAAAAAAAAAAAAAAAAAAAAAAAAAAAAAAAAAAAAAAAAAAAAAAAAAAAAAAAAAAAAAAAAAAAAAAAAAAAAAAAAAAAAAAAAAAAAAAAAAAAAAAAAAAAAAAAAAAAAAAAAAAAAAAAAAAAAAAAAAAAAAAAAAAAAAAAAAAAAAAAAAAAAAAAAAAAAAAAAAAAAAAAAAAAAAAAAAAAAAAAAAAAAAAAAAAAAAAAAAAAAAAAAAAAAAAAAAAAAAAAAAAAAAAAAAAAAAAAAAAAAAAAAAAAAAAAAAAAAAAAAAAAAAAAAAAAAAAAAAAAAAAAAAAAAAAAAAAAAAAAAAAAAAAAAAAAAAAAAAAAAAAAAAAAAAAAAAAAAAAAAAAAAAAAAAAAAAAAAAAAAAAAAAAAAAAAAAAAAAAAAAAAAAAAAAAAAAAAAAAAAAAAAAAAAAAAAAAAAAAAAAAAAAAAAAAAAAAAAAAAAAAAAAAAAAAAAAAAAAAAAAAAAAAAAAAAAAAAAAAAAAAAAAAAAAAAAAAAAAAAAAAAAAAAAAAAAAAAAAAAAAAAAAAAAAAAAAAAAAAAAAAAAAAAAAAAAAAAAAAAAAI/wABCBxIkGCSgwgTJinIsKHDhw0VSkwAsaJFhxIVPrjIkWPGhBU6ioT4EaGHkSgZljxIIqVLgSuTqHjpMuYMmilj5sCJMuYPniNjFgEqkkhMoh19HEV6EcdSphVjPIX6MMVUqg1HXMVasMNWrgMpfAULwMFYsAfOgo0ZgGzElQrcqlwJQW7BmBfsGlz5Qe/AmCX8wlzJQjCAmDQMx9SheCWQxiWNGB6iFmuPylRvYIYKYzNTFJ6RighNdANpoBNO82ygGmeB1jhjDoD8cQHtjBFuS8ygWyGI3glNAEfYYvjBGsaT7EgeJDkSw0Jgv+Qh3aWN6ildYEd5YvvIEN5FZv8I31ECeY4Mzl8koP5izALJGSSXkFxD8hDJTyR/kdxGch7JCWHYEe1VFESBEO2A4EM0LOgQCw42ZEKEDIFAYUEYXEhQBBoOtECHAgkA4mAlGZBcA8lNkBwHyYmQHArJwZDcDcn1kNwQhhUxIhAj6jDiDCOuMGIJI34wogUjQjCiAiMetpJhTpaEQHIOJEdBch0kN0JyKSQnA01ahCnmmGSOGZMUZaaZpkBqthlmTFC46SabcqYZkxN1qklnnmM2gZASSzCxhBII8VnmnoZq8cRBTDTqKBMHJTomooZGkcSjmCYhqZiU8jkFpqBuGmaneVIBKqaiakFqnVWc+miqq8pkaYWrjsIKgKhX0NqoraJicamrmooaq5tZMApqpMLeKuqfgQ5aaLKpRjunstJWa+21elKLrbTDbstnt97WCW6405Ib7bjmrqltuoaiy+6k674rbrzyllvvt/Teq66+ebpbr0ABAQAh/wtORVRTQ0FQRTIuMAMBAAAALGkBrAA4AI8Ah/////37+fv38/jz7fbv5/bu5vTq4PLm2vDi1O7ezuzayOrWwujSvOXOtuXNtcqYZZ6MoYiGwIGEy19HL1dBK087J0c2Iz8vHw4LBwcFAwAAAAAAAAAAAAAAAAAAAAAAAAAAAAAAAAAAAAAAAAAAAAAAAAAAAAAAAAAAAAAAAAAAAAAAAAAAAAAAAAAAAAAAAAAAAAAAAAAAAAAAAAAAAAAAAAAAAAAAAAAAAAAAAAAAAAAAAAAAAAAAAAAAAAAAAAAAAAAAAAAAAAAAAAAAAAAAAAAAAAAAAAAAAAAAAAAAAAAAAAAAAAAAAAAAAAAAAAAAAAAAAAAAAAAAAAAAAAAAAAAAAAAAAAAAAAAAAAAAAAAAAAAAAAAAAAAAAAAAAAAAAAAAAAAAAAAAAAAAAAAAAAAAAAAAAAAAAAAAAAAAAAAAAAAAAAAAAAAAAAAAAAAAAAAAAAAAAAAAAAAAAAAAAAAAAAAAAAAAAAAAAAAAAAAAAAAAAAAAAAAAAAAAAAAAAAAAAAAAAAAAAAAAAAAAAAAAAAAAAAAAAAAAAAAAAAAAAAAAAAAAAAAAAAAAAAAAAAAAAAAAAAAAAAAAAAAAAAAAAAAAAAAAAAAAAAAAAAAAAAAAAAAAAAAAAAAAAAAAAAAAAAAAAAAAAAAAAAAAAAAAAAAAAAAAAAAAAAAAAAAAAAAAAAAAAAAAAAAAAAAAAAAAAAAAAAAAAAAAAAAAAAAAAAAAAAAAAAAAAAAAAAAAAAAAAAAAAAAAAAAAAAAAAAAAAAAAAAAAAAAAAAAAAAAAAAAAAAAAAAAAAAAAAAAAAAAAAAAAAAAAAAAAAAAAAAAAAAAAAAAAAAAAAAAAAAAAAAAAAAAAAAAAAAAAAAAAAAAAAAAAAAAAAAAAAAAAAAAAAAAAAAAAAAAAAAAAAAAAAAAAAAAAAAAAAAAAAAAAAAAAAAAAAAAAAAAAAAAAAAAAAAAAAAAAAAAAAAAAAAAAAAAAAAAAAAAAAAAAAAAAAAAAAAAAAAAAAAAAAAj/AAEIHEiwIIAHCBMqfGCwocOHEAsunBggosWLDicuFICxY0eNCgd4HBkRZMICJFM2NInQgMqXA1k+OAATpkwENV/KTJBTpUwFPVPKXBCUpEwGRUfKdJDUYwOZTTsygBr14gKqVSMqwJr1YQKuXRsiABu24AGyZQcaQJsWAAG2aQfALStgbtgAdsPm7SqzYluDMjn+lchS5GCCMlEejsnS5WKBMmk+PsgS5+SdkymbBHqZJdHOJpGCBsl08lOWmaeinnx19eOtrhd/jX14LO3BZ2//Xau77dvecfdWrQu8LN7iZYVX7Zs5cPPCz00qfizTMXWWkq+btKwdJM/RGjl3/9f4efxE0eYXNsh82mRq5U1bu58Me/7j2fYX285/ODf/wbz999dvArYlF3JdEVdgWsctmBZ8TTEH3kSCpRdSdCBNt1h1GGqU3YaVdTjRdxYmJB6IJpWHIkjorajReqZBWJRqDoYlH0iZ1YfjZPjt+Nh+Pi7mX5CHBUjkYAQe+deBNSYoY1ANKvnXk0FJWCJCFbo4kWFXPkCAiAtZp+VCHx52E5gKkTimQiea6RmaCbWokgZ01mnnnXfKNAGefOJZUJ+A1jmBTIEC+mehfVJAKKJ+EsQonxUgBEEEEkQAgUKP3nlopnVa8IAEoIYqQUKc1rlpqReIqipCpdJ5Kqeqxn76QKsavJpprKvSauujuIo6a6u7MtprqL+WGiyiw4JaLKfHForBsKwC6yitGXwqa7TGTkurpJRaiqm0A9EqLqLNjmvuuejyWW66ma7LLqPuvltovPIaqm29ut6Lb7bh7ptvv/7yK1DA4A5MMLP6HjxvwgrbC3DDCz8MscMCBQQAIf8LTkVUU0NBUEUyLjADAQAAACxjAawAOQCPAIf////+/v7+/f39/Pv9/Pr9+/n8+vj8+ff7+PX7+PT79/P69vL69fH59O/59O748+348uv48ev38On38Oj37+j27ub27uX17eT17OP16+L06uD06t/z6d7z6N3y59zy5try5tnx5djx5Nfw49bw4tTw4tPv4dLv4NHv4NDu39Du3s7u3s3t3c3t3czt3Mvs28rs28ns2sjr2cfr2MXq18Tq18Pq1sLp1cHp1L/o077o073o0rzn0bvn0Lnmz7jmz7flzrblzbXlzLPkzLPKmGWejKGIhsCBhMspHhQlHBIiGhEeFw8bFA0YEgwVEAoSDQkOCwcLCAUIBgQFBAICAQEAAAAAAAAAAAAAAAAAAAAAAAAAAAAAAAAAAAAAAAAAAAAAAAAAAAAAAAAAAAAAAAAAAAAAAAAAAAAAAAAAAAAAAAAAAAAAAAAAAAAAAAAAAAAAAAAAAAAAAAAAAAAAAAAAAAAAAAAAAAAAAAAAAAAAAAAAAAAAAAAAAAAAAAAAAAAAAAAAAAAAAAAAAAAAAAAAAAAAAAAAAAAAAAAAAAAAAAAAAAAAAAAAAAAAAAAAAAAAAAAAAAAAAAAAAAAAAAAAAAAAAAAAAAAAAAAAAAAAAAAAAAAAAAAAAAAAAAAAAAAAAAAAAAAAAAAAAAAAAAAAAAAAAAAAAAAAAAAAAAAAAAAAAAAAAAAAAAAAAAAAAAAAAAAAAAAAAAAAAAAAAAAAAAAAAAAAAAAAAAAAAAAAAAAAAAAAAAAAAAAAAAAAAAAAAAAAAAAAAAAAAAAAAAAAAAAAAAAAAAAAAAAAAAAAAAAAAAAAAAAAAAAAAAAAAAAAAAAAAAAAAAAAAAAAAAAAAAAAAAAAAAAAAAAAAAAAAAAAAAAAAAAAAAAAAAAAAAAAAAAAAAAAAAAAAAAAAAAAAAAAAAAAAAAAAAAAAAAAAAAAAAAAAAAAAAAAAAAAAAAAAAAAAAAAAAAAAAAAAAAAAAAAAAAAAAAAAAAAAAAAAAAAAAAAAAAAAAAAAAAAAAAI/wABCBxIsOBAIggTKiRisKHDhxANLpwoIKLFiw8nLiSAsaNHjQoNeBxpEWRCBCRTOjSJUIHKlwRZEmEAs6ZMBzVhyoSQ86VMCT1VyqwQNKXMC0VJysyQdKTMDU0/suwQtaPMD1UxygyR9aLMEV1LsiwRNqJMFGUhylSRNiNLF21XsoQRt6FMGXUlsqSRt6BMG31jssQR+CBLHYUFyuSRGIBMH41lBonMckjjIDIb/8icuAfnwjs+B84huu+N0nlroK47Y3XcGK7buoiddgXtsiluhzWhuyuJ3llFAK8KYnhUD8abckieVAPzohieB60gveeE6jkjYK/5YDvMBt5fLv8IrzIB+ZQHzpMsoH7kgPZOWTZ2zDIAZZMD7oMsoF/jgf4TJQDgQgsMqFADBib0QIIIRcAgERQ8aMGDGDyowYMcPOjBgyA8KMKDJDxowoMpPMjCgy88GMODMzxYw4M3PJjDgzs82MODPzw4WWJCwNcRED5i5EOQF/FApEU6HBkRDkpCZEOTD9EApUMyTNkQDFYa1EKWBanAJUEnfDlQCWIKNEKZAISA5gdodkBeFXDGKeecciIhE5144mlQnnzCmcSdffK5Z6B4KgEooXQOiqicSyRUhBFHGFFEQosmWlClcjKB0BGcdnoEQpjKqSimTRDh6alEhBrnqJU6ceqrqsJ4yeqiT7x6aqxVzIooFLZ6iquuhEbRa6e/XqqqFMNyWixBsU5haq+pxgpsoFRs+iqo0hqrqqOQSkpptsziKq6g2o5r7rnoBjptupiuy+6i7r5LaLzy9klvvXnei6+l4e4bqr7+rlpuwIgCTLDBASPsr8L7MoyvQQEBACH/C05FVFNDQVBFMi4wAwEAAAAsXQGsADkAjwCH/////v7+/v39/fz7/fz6/fv5/Pr4/Pn3+/j1+/j0+/fz+vby+vXx+fTv+fTu+PPt+PLs+PHr9/Dp9/Do9+/o9u/n9u7m9u7l9e3k9ezj9evi9Org9Orf8+ne8+jd8ufc8uba8ubZ8eXY8eTX8OPW8OLU8OLT7+HS7+DR7t/Q7t7O7t7N7d3N7d3M7dzL7NvK7NvJ7NrI69nH69jF6tfE6tfD6tbC6dXB6dS/6NO+6NO96NK859G759C55s+45s+35c625c215cyz5MyzyphlnoyhiIbAgYTLEw4JEg0JEAwIDgsHDQoGCwgFCgcFCAYEBwUDBQQCAwIBAgEBAAAAAAAAAAAAAAAAAAAAAAAAAAAAAAAAAAAAAAAAAAAAAAAAAAAAAAAAAAAAAAAAAAAAAAAAAAAAAAAAAAAAAAAAAAAAAAAAAAAAAAAAAAAAAAAAAAAAAAAAAAAAAAAAAAAAAAAAAAAAAAAAAAAAAAAAAAAAAAAAAAAAAAAAAAAAAAAAAAAAAAAAAAAAAAAAAAAAAAAAAAAAAAAAAAAAAAAAAAAAAAAAAAAAAAAAAAAAAAAAAAAAAAAAAAAAAAAAAAAAAAAAAAAAAAAAAAAAAAAAAAAAAAAAAAAAAAAAAAAAAAAAAAAAAAAAAAAAAAAAAAAAAAAAAAAAAAAAAAAAAAAAAAAAAAAAAAAAAAAAAAAAAAAAAAAAAAAAAAAAAAAAAAAAAAAAAAAAAAAAAAAAAAAAAAAAAAAAAAAAAAAAAAAAAAAAAAAAAAAAAAAAAAAAAAAAAAAAAAAAAAAAAAAAAAAAAAAAAAAAAAAAAAAAAAAAAAAAAAAAAAAAAAAAAAAAAAAAAAAAAAAAAAAAAAAAAAAAAAAAAAAAAAAAAAAAAAAAAAAAAAAAAAAAAAAAAAAAAAAAAAAAAAAAAAAAAAAAAAAAAAAAAAAAAAAAAAAAAAAAAAAAAAAAAAAAAAAAAAAAAAAAAAAAAAAAAAAAAAAAAAAAAAAAAAAAAAAAAAAAAAAAAAAACP8AAQgcSLAgQSIIEyokYrChw4cQDS6cGCCixYsPJy4UgLGjR40KB3gcaRFkQgIkUzo0ibCAypcHWRqASZMlkQM0YdpEkPOlzQQ9VdpUEDSlzQVFSdpkkHSkzQZNP7J0ELWjzQdVMdqEkPWizQhdS7KUEDaiTQplIdq0kDYjywttV7LEELehzQx1JbLUkLegzQ19Y5rkEHigzQ6FBdr0kBiAzQ+NbYKIzDIEZZMiLoMcoVkjic4TS4BeaGK0whOmE6JIjTAFayIqXrN47eL1i9cwXsd4LeP1jNc0Xtd4beP1jdc4Xud4reP1jtc8Xvd47eP1j9dAXgd5PaSxEJuNg4D/TwxkfOEf5gP7SN+3B/u8PN7X3SE/ro76bXPgT4tjf9kb/oVlQ4Bd1UBgVjQcWNUMCkYlQ4NNxQBhUjBMWNQLFgbVQoY9rcBhTip8SFMKIsKEQokvnYCiSiasmFIJLpJEQowjjUCjRyLc2FEIOmIEQo8XfQCkRR4MGVEHRkLEQZIPbcCkQxo82VAGUhqEQZUFWYAlQRVsOdAEXgokQZgAREAmBGQ+QKYDK1Lh5ptwxgknEjbJaaedBt2pp5tJ1Lmnnnn+aacSfgoqZ6CGwrlEQkUYcYQRRSSU6KEFTQonEwgdoemmRyBkKZyIWtoEEZyWSsSnb4Y6qROltoqqm6omdPpEq6W+SkWshkJBK6e24ipoFLtu2mulqEoRrKbDEvTqFKTueuqrvgqaaaueQkssqow6Cqmk1ipr67eAXgvuuOSW+2e05lqKbrqJrsuuoO6+u2e88t5Jb72Ueovvp/fum6q4/hrab8AD+1vwvgfjm3C9BgUEACH/C05FVFNDQVBFMi4wAwEAAAAsVgGsADoAjwCH////yphlnoyhiIbAgYTLAAAAAAAAAAAAAAAAAAAAAAAAAAAAAAAAAAAAAAAAAAAAAAAAAAAAAAAAAAAAAAAAAAAAAAAAAAAAAAAAAAAAAAAAAAAAAAAAAAAAAAAAAAAAAAAAAAAAAAAAAAAAAAAAAAAAAAAAAAAAAAAAAAAAAAAAAAAAAAAAAAAAAAAAAAAAAAAAAAAAAAAAAAAAAAAAAAAAAAAAAAAAAAAAAAAAAAAAAAAAAAAAAAAAAAAAAAAAAAAAAAAAAAAAAAAAAAAAAAAAAAAAAAAAAAAAAAAAAAAAAAAAAAAAAAAAAAAAAAAAAAAAAAAAAAAAAAAAAAAAAAAAAAAAAAAAAAAAAAAAAAAAAAAAAAAAAAAAAAAAAAAAAAAAAAAAAAAAAAAAAAAAAAAAAAAAAAAAAAAAAAAAAAAAAAAAAAAAAAAAAAAAAAAAAAAAAAAAAAAAAAAAAAAAAAAAAAAAAAAAAAAAAAAAAAAAAAAAAAAAAAAAAAAAAAAAAAAAAAAAAAAAAAAAAAAAAAAAAAAAAAAAAAAAAAAAAAAAAAAAAAAAAAAAAAAAAAAAAAAAAAAAAAAAAAAAAAAAAAAAAAAAAAAAAAAAAAAAAAAAAAAAAAAAAAAAAAAAAAAAAAAAAAAAAAAAAAAAAAAAAAAAAAAAAAAAAAAAAAAAAAAAAAAAAAAAAAAAAAAAAAAAAAAAAAAAAAAAAAAAAAAAAAAAAAAAAAAAAAAAAAAAAAAAAAAAAAAAAAAAAAAAAAAAAAAAAAAAAAAAAAAAAAAAAAAAAAAAAAAAAAAAAAAAAAAAAAAAAAAAAAAAAAAAAAAAAAAAAAAAAAAAAAAAAAAAAAAAAAAAAAAAAAAAAAAAAAAAAAAAAAAAAAAAAAAAAAAAAAAAAAAAAAAAAAAAAAAAAAAAAAAAAAAAAAAAAAAAAAAAAAAAAAAAAAAAAAAAAAAAAAAAAAAAAAAAAAAAAAAAAAAAAAAAAAAAAAAAAAAAAAAAAAAAAAAAAAAAAAAAAAAACP8AAQgcSLBgwQAIEyoMYLChw4cQGy6cGLGixYgTF17cyFFgRoUdQ1b8mFCkSYckEZ5cSTAlQ5YsXcKMmXLmSpk2TeLMGXInT44+f14MKnRkzaIbiSJ9qHSpxKNOMUKNynQq1ackr0JsqhUAV61fr4alOjZqWadnl6ZFurZoW6Fvf8blOTdnXZt3Z+aFuZdm1q5YPwIOnHGwwb43rRpGfJKxTsWDHYuU3BMyYModMQO13FVzUs5gQYsVTZa0WdNoUatVzZa1W9dwYcuVTZe2Xdt4cevVzZe3X8GGW/pO/De4x+GNkT8ubtzzUOWToVdmHty5RetGqS+Wnpn7Zu2RvX//Bn9Z/HPync1fV58duHGv7KWiDz1/dP3S90/nT71/df/W/70WYGwDzlZgbQfelmBuC+7WYG8P/lbYe/BFSJx7MBWg4YYcdtihSx6GGGJDIpa4IYgmlkhiiiKiyKKHK774IUICDEDAAAIkJCOMBu04IwFABkkAQj5yGGORAQipZABFbnikj0pG2aSGT+4YpZJTFlCljFcKmeWWL3YZ5Jc9TikmkGQWlGWSXTI5JZgsInQlkW+W2WRCNd6YI51Nwpnln1raCeighBbKop+G7ohooi8uymiKjj6qoqCSFhlppTyqiWmflG7aaKeeQgpqqJNqSuqnpp4qaqqqlkpQq4caAhQQACH/C05FVFNDQVBFMi4wAwEAAAAsTgGsADsAjwCH/////v7+/v39/fz7/fz6/fv5/Pr4/Pn3+/j1+/j0+/fz+vby+vXx+fTv+fTu+PPt+PLr+PHr9/Dp9/Do9+/o9u7m9u7l9e3k9ezj9evi9Org9Orf8+ne8+jd8ufc8uba8ubZ8eXY8eTX8OPW8OLU8OLT7+HS7+DR7+DQ7t/Q7t7O7t7N7d3N7d3M7dzL7NvK7NvJ7NrI69nH69jF6tfE6tfD6tbC6dXB6dS/6NO+6NO96NK859G759C55s+45s+35c625c215cyz5MyzyphlnoyhiIbAgYTLKR4UJRwSIhoRHhcPGxQNGBIMFRAKEg0JDgsHCwgFCAYEBQQCAgEBAAAAAAAAAAAAAAAAAAAAAAAAAAAAAAAAAAAAAAAAAAAAAAAAAAAAAAAAAAAAAAAAAAAAAAAAAAAAAAAAAAAAAAAAAAAAAAAAAAAAAAAAAAAAAAAAAAAAAAAAAAAAAAAAAAAAAAAAAAAAAAAAAAAAAAAAAAAAAAAAAAAAAAAAAAAAAAAAAAAAAAAAAAAAAAAAAAAAAAAAAAAAAAAAAAAAAAAAAAAAAAAAAAAAAAAAAAAAAAAAAAAAAAAAAAAAAAAAAAAAAAAAAAAAAAAAAAAAAAAAAAAAAAAAAAAAAAAAAAAAAAAAAAAAAAAAAAAAAAAAAAAAAAAAAAAAAAAAAAAAAAAAAAAAAAAAAAAAAAAAAAAAAAAAAAAAAAAAAAAAAAAAAAAAAAAAAAAAAAAAAAAAAAAAAAAAAAAAAAAAAAAAAAAAAAAAAAAAAAAAAAAAAAAAAAAAAAAAAAAAAAAAAAAAAAAAAAAAAAAAAAAAAAAAAAAAAAAAAAAAAAAAAAAAAAAAAAAAAAAAAAAAAAAAAAAAAAAAAAAAAAAAAAAAAAAAAAAAAAAAAAAAAAAAAAAAAAAAAAAAAAAAAAAAAAAAAAAAAAAAAAAAAAAAAAAAAAAAAAAAAAAAAAAAAAAAAAAAAAAAAAAAAAAAAAAAAAAAAAAAAAAAAAAAAAAAAAAAAAAAAAAACP8AAQgcSLCgQQBEEipcSOSgw4cQIwoUwLCixIsYHRKoyDCjR48GOC78SFIiApEKS6p0qABlwpUwCTJw2TBmTAc0bcaEkFPnSgk9fZasEFToxwtFjWbMkFTpxQ1NnUbsEFXqww9VrR4MkVVrwRFdvQ4sEVYsABRlxapI69UFW60w3lqVIVcqjbpObeBVimOvUR1+hfII7NMHYZ1BDtscojgmzSBmI9L8ERkizR6VH9LckdkhzRydD9K8EdogzRqlC9KckZogzRitB9J0EVsgzRW1EbpMkZumid4uSQBHKWK4SBDGOXpIXpEDc4Yani/EIF1hheoJJ2AnEmH7g+0Nti//2J5g+4HtBbYP2J47QGOYA96vLCBf5YH6JRPgJ7lg/8cG/nn0QIAZRUAgRhQceJEFCkqEQYMRaQAhRBxM+JAHFjoEQoYHicChQSR8WJAJIhKUQokDsYCiQC+sCEAMLs7gYg0u3uBiDi7u4GIPLv7gYmIubSfEdkBs58N2PGynw3Y4bGfDdjRsJ8N2MGzXwnYqbHfCdiVsN8J2IWz3wXYdCFXFmWimqaaaNCGx5ptrOgTnnGjSlASdc8qJJ5w0KbHnm3r+yWZCRRhxhBFFKLSEoGoGyuiZCR0h6aRHJMTEo2g6+igRlHZKRBOYnqkpo52W6kSoVYwqaKmdPoGqqn+ydEopFK8ehGoVsk4aRa0G3ZqrpFLwWtCtnMpKxBTCEkRssZ4SQUWyAy1LRKGHJprQrbDeqq2otm7r7bfgMpptuI+OS66g5p67Z7rq0sluu3C+C2+c3c6Lqbz2Zlpvvujuy++6/v7rbsACx0twwfT2ijCeDgUEACH/C05FVFNDQVBFMi4wAwEAAAAsSAGsADkAjwCH/////v7+/v39/fz7/fz6/fv5/Pr4/Pn3+/j1+/j0+/fz+vby+vXx+fTv+fTu+PPt+PLs+PHr9/Dp9/Do9u7m9u7l9e3k9ezj9evi9Org9Orf8+ne8+jd8ufc8uba8ubZ8eXY8eTX8OPW8OLU8OLT7+HS7+DR7t/Q7t7O7t7N7d3M7dzL7NvK7NvJ7NrI69nH69jF6tfE6tfD6tbC6dXB6dS/6NO+6NO96NK859G759C55s+45s+35c625c215cyz5MyzyphlnoyhiIbAgYTLUj4pTDkmRjQjPy8fOCocMiYZLCEWJRwSHhcPGBIMEg0JCwgFBQQCAAAAAAAAAAAAAAAAAAAAAAAAAAAAAAAAAAAAAAAAAAAAAAAAAAAAAAAAAAAAAAAAAAAAAAAAAAAAAAAAAAAAAAAAAAAAAAAAAAAAAAAAAAAAAAAAAAAAAAAAAAAAAAAAAAAAAAAAAAAAAAAAAAAAAAAAAAAAAAAAAAAAAAAAAAAAAAAAAAAAAAAAAAAAAAAAAAAAAAAAAAAAAAAAAAAAAAAAAAAAAAAAAAAAAAAAAAAAAAAAAAAAAAAAAAAAAAAAAAAAAAAAAAAAAAAAAAAAAAAAAAAAAAAAAAAAAAAAAAAAAAAAAAAAAAAAAAAAAAAAAAAAAAAAAAAAAAAAAAAAAAAAAAAAAAAAAAAAAAAAAAAAAAAAAAAAAAAAAAAAAAAAAAAAAAAAAAAAAAAAAAAAAAAAAAAAAAAAAAAAAAAAAAAAAAAAAAAAAAAAAAAAAAAAAAAAAAAAAAAAAAAAAAAAAAAAAAAAAAAAAAAAAAAAAAAAAAAAAAAAAAAAAAAAAAAAAAAAAAAAAAAAAAAAAAAAAAAAAAAAAAAAAAAAAAAAAAAAAAAAAAAAAAAAAAAAAAAAAAAAAAAAAAAAAAAAAAAAAAAAAAAAAAAAAAAAAAAAAAAAAAAAAAAAAAAAAAAAAAAAAAAAAAAAAAAAAAAAAAAAAAAAAAAAAAAAAAAAAAAAAAAAAAAAAAAAAAAACP8AAQgcSLCgwYFBEipcGOSgw4cQIxJgSDGixYsPEVBkiLGjRwYbF3ocaRFCSIUkUzqkcDKhypcEMbRsCBMmh5k1YYLAmVMlCZ49SaIAGtRjC6JFMcZAmtRiDaZNIeaAGtVhD6pVDc70kfXiTB1dLc60ETbiTBllIc50kfbhzBRtHc4sEffgzBB1tbbskLfgzAx9Cc6kEBhhywiFBc5skBjAzASNZxaI3LLxAKxpD2Auu2Bz2Aeeu04InfUC6aobTkf9oLrpiNZJT8AuymJ2UBi2e9LInRMH75o8fsOc+YPyyR3GQ95IvnEGc4ovnjNUIX2hieoKRWBP6GF7EA3eLXj/l+DdgXcF3g14F5BYgPCXBt6rVCA/pYP6JCXgH2lhv0cN/nXkQYAYiUDgRSYcaNEKCkb0QoMQzQDhQzdM6NAOFh4ERIZ6ncSDdzh4R4N3MHjHgncneDeCdx94t4F3F3g3gXcPeLeAdwd4N0BiAXBYUAE+EpRAkAM1QKRAERwJQAVKZqBkB0qGoGQJSqagpAtKyqCkDUrqoKQPSs7Ug3c59CTFmWimqaaaMxWx5ptrGgTnnGjOZASdc8qJJ5wzHbHnm3r+yWZCQgxBxBBCKISEoGoGyuiZCREh6aREJJTEo2g6+mgQlHYahBKYnqkpo52WukSoUowqaKmdMoGqqn+ydEppE68WhKoUsk7qRK0E3ZqrpE/wOtCtnMoaBBTCCkRssZ4GEUWyACwbRKGHJprQrbDeqq2otm7r7bfg/pltuI+OS66g5p67Z7rq0sluu3C+C2+c3c6Lqbz2Zlpvvujuy++6/v7rbsACx0twwfT2ijCeBgUEACH/C05FVFNDQVBFMi4wAwEAAAAsQQGsADoAjwCH/////v7+/v39/v38/fz7/fz6/fv5/Pr4/Pn3+/j1+/j0+/fz+vby+vXx+vXw+fTv+fTu+PPt+PLs+PHr9/Dp9+/o9u7m9u7l9e3k9ezj9evi9Org9Orf8+ne8+jd8ufc8uba8ubZ8eXY8eTX8eTW8OPW8OLU7+HT7+DR7+DQ7t/P7t7O7d3N7dzL7NvK7NvJ7NrI69nH69jF6tfE6tfD6tbC6dXB6dXA6dS/6NO+6NO96NK859G759G659C55tC55s+45s+35s625c625c215c205Myz38Gj2reT1K2Ez6J1yphlnoyhiIbAgYTLVkErVD8qRzYjRjQjOSscNykbKiAVKR4UHBUOGhMNDQoGCwgFAAAAAAAAAAAAAAAAAAAAAAAAAAAAAAAAAAAAAAAAAAAAAAAAAAAAAAAAAAAAAAAAAAAAAAAAAAAAAAAAAAAAAAAAAAAAAAAAAAAAAAAAAAAAAAAAAAAAAAAAAAAAAAAAAAAAAAAAAAAAAAAAAAAAAAAAAAAAAAAAAAAAAAAAAAAAAAAAAAAAAAAAAAAAAAAAAAAAAAAAAAAAAAAAAAAAAAAAAAAAAAAAAAAAAAAAAAAAAAAAAAAAAAAAAAAAAAAAAAAAAAAAAAAAAAAAAAAAAAAAAAAAAAAAAAAAAAAAAAAAAAAAAAAAAAAAAAAAAAAAAAAAAAAAAAAAAAAAAAAAAAAAAAAAAAAAAAAAAAAAAAAAAAAAAAAAAAAAAAAAAAAAAAAAAAAAAAAAAAAAAAAAAAAAAAAAAAAAAAAAAAAAAAAAAAAAAAAAAAAAAAAAAAAAAAAAAAAAAAAAAAAAAAAAAAAAAAAAAAAAAAAAAAAAAAAAAAAAAAAAAAAAAAAAAAAAAAAAAAAAAAAAAAAAAAAAAAAAAAAAAAAAAAAAAAAAAAAAAAAAAAAAAAAAAAAAAAAAAAAAAAAAAAAAAAAAAAAAAAAAAAAAAAAAAAAAAAAAAAAAAAAAAAAAAAAAAAAAAAAAAAAAAAAAAAAAAAAAAAAACP8AAQgcSLCgwYMAlihJguSIkRooNjhASLGiRYoKlmjcyHHJxY8gD1LoSDKkyZAdSHY8ydLiCZUcW8o8CAPmxpk4B+qwqTFnTp49fc4EWkToUJ44jMoE6kJpS6AlnLIEukHqSaASrIYMABSBVpALgH4FWUHs2IsezJ6tiELtWoQx3L41uEPuXIJAPd49CFTIXr48a/w1CJTF4IJARRzGyzPD4oFAITwGIACogckM7P61oHnvh853U4CeK2P0Wx6m1+adnJDnD9ZAZ8DmqWK2TRC2YV7IrbLBZAJAB0xukPrsheJjQSD/qmK51hnOrfqILnX1ZKA8eJOMob0jiu4cPYD/31hhvMYFkwtQd/pgvVIM7o2GiC90BX2fNO7nBKIfJ1Aj5i2RQ4AvBGhCgBwEOEGACUxmQH8zQQChTBlM2JIIFrLEQoYn1cChSUF8GBJQRAR4Q4AtBEhCgBoEGEGAB0x2gIggRUDjRxrceNEIOlrUQo8V2QAkRUMMiRBQQAQo2HU8rRBgCAFiEOADARYwGQJGHiRBlgZtwGVBJXxJkAtiDoRDmQIRgWZrNvUQoAwBphDgBwFaECADAQog1BZ89unnn39qARSghAJ6UKGI9onFoIkWemijhVrBKKR/Pkrpn1RoxEQTTjTBBEeXVmpQqH9KsYQTqKbqxEak9mlpq1CojSqrRq3y+Sqpsua6RK1b3BpqrrI+wauvlwKrahTDjsqrsalOkWxBvG7BLKpVPEtQtKcau8QV1g6EbbazLpFFtwJ9u8SmnX5KK7kAROtuosS+K++89DqqbL3yxosvqfrue2m//kIKcMDw3ktwqwMfTGjCCosKbcP8GgyxwBJPXPDDFlOMccYXX8txowcFBAAh/wtORVRTQ0FQRTIuMAMBAAAALEABrQA0AI4Ah/////79/f38+v37+fz6+Pv49fv38/r18fr18Pn07vjz7fjy7Pjy6/fw6fbu5vXt5PXr4vTq4PTq3/Po3fLm2vHk1/Dj1fDi1O/h0+/g0e/g0O7ezu3cy+zbyezayOvZx+rXxOrWwunVwenUv+jSvOfRu+fRuubPuOXOtuXNteTMs9/Bo9q3k9SthM+idcqYZZ6MoYiGwIGEy2BIMFA8KEc2Iz8wHzcpGy8jFycdEx8XDxYRCw4LBwgGBAcFAwAAAAAAAAAAAAAAAAAAAAAAAAAAAAAAAAAAAAAAAAAAAAAAAAAAAAAAAAAAAAAAAAAAAAAAAAAAAAAAAAAAAAAAAAAAAAAAAAAAAAAAAAAAAAAAAAAAAAAAAAAAAAAAAAAAAAAAAAAAAAAAAAAAAAAAAAAAAAAAAAAAAAAAAAAAAAAAAAAAAAAAAAAAAAAAAAAAAAAAAAAAAAAAAAAAAAAAAAAAAAAAAAAAAAAAAAAAAAAAAAAAAAAAAAAAAAAAAAAAAAAAAAAAAAAAAAAAAAAAAAAAAAAAAAAAAAAAAAAAAAAAAAAAAAAAAAAAAAAAAAAAAAAAAAAAAAAAAAAAAAAAAAAAAAAAAAAAAAAAAAAAAAAAAAAAAAAAAAAAAAAAAAAAAAAAAAAAAAAAAAAAAAAAAAAAAAAAAAAAAAAAAAAAAAAAAAAAAAAAAAAAAAAAAAAAAAAAAAAAAAAAAAAAAAAAAAAAAAAAAAAAAAAAAAAAAAAAAAAAAAAAAAAAAAAAAAAAAAAAAAAAAAAAAAAAAAAAAAAAAAAAAAAAAAAAAAAAAAAAAAAAAAAAAAAAAAAAAAAAAAAAAAAAAAAAAAAAAAAAAAAAAAAAAAAAAAAAAAAAAAAAAAAAAAAAAAAAAAAAAAAAAAAAAAAAAAAAAAAAAAAAAAAAAAAAAAAAAAAAAAAAAAAAAAAAAAAAAAAAAAAAAAAAAAAAAAAAAAAAAAAAAAAAAAAAAAAAAAAAAAAAAAAAAAAAAAAAAAAAAAAAAAAAAAAAAAj/AAEIHEiwoMGDAAy8WMiw4QuEECNKFOjAocWJGDMCoGDRocaPEDd0bAiyZMEQIxmaXAkgRcqFLE2+hBkT5EwSNW2+7JDz40wLPTXOhBA048wERScOmCkgqcQFM51KjBBVKsQLVa0e9JBVa8ESXb0OnPlQbMGZJ8yefQlCLcGZGtyOfTlBrsCZDewCmFnArsKXeisCtstxsFyRht2iTKzWJWOzM1XonTli8ksOllNWyDzyAeeOB+wufRnALtTHYqmi9op1tVaurq2SCAuZttiZJj5b/KDbIYbeDSUAZ7hg+EICfm17FZxSb+HmdhFDl7t4ulvH1tXOTGH8hYjuG7pT/+juoLsB0cq1KkhvVXV2s63fi4Ut3+vs2FLJdsdpdybP/i8BBWBKRA04ElIGdtSUXH/VpxVzIznHnlTSRWhXdRbKhV2GbqHVXVsJWhRXiA7VRWJDeZ3IUF9yjeagVevh55R7HKoVX41m0YejWPe9mN9Lkqm4UGVCvoBZkZsV6VmRoRVZGoMTOgVhRxLKmFSFVF4YZVIobFkUbt3xVuRvRQpXJAMm/aDmmmy26eZMPbgpZ5sAzGnnmj7MdKedde455w56+ulmn4K2mcNCMMQgQwwwNFQonY+2ecMLMlRqqQwMRbomoZrWcOmnC2mqJqeRfmrqC6L+QOqjpn46Q6qrFmTa6qU0wJrqD7NaaoOtqeZaKQ68ikrprC/oEKymC7W6EA/HRspQoos2Gmqzt1YLqbXYZqvtnLFuK2q33kYKbriFjkuun+aee2e66nLbLrXvohuvpuzOu6m9j9aLr7728jsvAAEBADs=\"/>"
      ],
      "text/plain": [
       "<IPython.core.display.HTML object>"
      ]
     },
     "execution_count": 14,
     "metadata": {},
     "output_type": "execute_result"
    }
   ],
   "source": [
    "import tensorflow_docs.vis.embed as embed\n",
    "embed.embed_file(image_file)"
   ]
  },
  {
   "cell_type": "markdown",
   "metadata": {
    "id": "lnq9Hzo1Po6X"
   },
   "source": [
    "## Next steps\n",
    "\n",
    "This tutorial demonstrated how to implement the actor-critic method using Tensorflow.\n",
    "\n",
    "As a next step, you could try training a model on a different environment in OpenAI Gym. \n",
    "\n",
    "For additional information regarding actor-critic methods and the Cartpole-v0 problem, you may refer to the following resources:\n",
    "\n",
    "- [Actor Critic Method](https://hal.inria.fr/hal-00840470/document)\n",
    "- [Actor Critic Lecture (CAL)](https://www.youtube.com/watch?v=EKqxumCuAAY&list=PLkFD6_40KJIwhWJpGazJ9VSj9CFMkb79A&index=7&t=0s)\n",
    "- [Cartpole learning control problem \\[Barto, et al. 1983\\]](http://www.derongliu.org/adp/adp-cdrom/Barto1983.pdf) \n",
    "\n",
    "For more reinforcement learning examples in TensorFlow, you can check the following resources:\n",
    "- [Reinforcement learning code examples (keras.io)](https://keras.io/examples/rl/)\n",
    "- [TF-Agents reinforcement learning library](https://www.tensorflow.org/agents)\n"
   ]
  }
 ],
 "metadata": {
  "colab": {
   "collapsed_sections": [
    "_jQ1tEQCxwRx"
   ],
   "name": "actor_critic.ipynb",
   "toc_visible": true
  },
  "kernelspec": {
   "display_name": "Python 3",
   "name": "python3"
  },
  "language_info": {
   "codemirror_mode": {
    "name": "ipython",
    "version": 3
   },
   "file_extension": ".py",
   "mimetype": "text/x-python",
   "name": "python",
   "nbconvert_exporter": "python",
   "pygments_lexer": "ipython3",
   "version": "3.9.13"
  }
 },
 "nbformat": 4,
 "nbformat_minor": 0
}
